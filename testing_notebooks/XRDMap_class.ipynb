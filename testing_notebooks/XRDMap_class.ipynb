{
 "cells": [
  {
   "cell_type": "code",
   "execution_count": 4,
   "metadata": {},
   "outputs": [
    {
     "name": "stderr",
     "output_type": "stream",
     "text": [
      "100%|██████████| 20/20 [00:00<00:00, 414.44it/s]\n"
     ]
    }
   ],
   "source": [
    "import os\n",
    "import matplotlib.pyplot as plt\n",
    "import numpy as np\n",
    "#from tqdm.auto import tqdm\n",
    "from tqdm import tqdm\n",
    "plt.ioff();\n",
    "try:\n",
    "    maindir\n",
    "except NameError:\n",
    "    maindir = os.path.dirname(os.getcwd())\n",
    "for module in tqdm(os.listdir(maindir + '\\\\testing_modules')):\n",
    "    %run -i \"{maindir}\\\\testing_modules\\\\{module}\"\n",
    "base = os.path.dirname(os.path.dirname(maindir)) + '\\\\'\n",
    "plt.ion();\n",
    "np.set_printoptions(suppress=True)\n",
    "plt.close('All')"
   ]
  },
  {
   "cell_type": "code",
   "execution_count": 5,
   "metadata": {},
   "outputs": [],
   "source": [
    "%matplotlib qt\n",
    "import skimage.io as io\n",
    "import xarray as xr\n",
    "from collections import OrderedDict\n",
    "import dask\n",
    "from tqdm.dask import TqdmCallback"
   ]
  },
  {
   "cell_type": "code",
   "execution_count": 376,
   "metadata": {},
   "outputs": [
    {
     "name": "stdout",
     "output_type": "stream",
     "text": [
      "Loading data from h5 file...\n",
      "Loading most recent images (raw_images)..."
     ]
    },
    {
     "name": "stdout",
     "output_type": "stream",
     "text": [
      "done!\n",
      "Loading reciprocal positions...done!\n",
      "Loading saved phases...done!\n",
      "XRD Map loaded!\n"
     ]
    }
   ],
   "source": [
    "scanid = 149566\n",
    "filedir = '''D:\\\\Musterman_postdoc\\\\20231109_Musterman\\\\'''\n",
    "filedir = '''C:\\\\Users\\\\emusterma\\\\OneDrive - Brookhaven National Laboratory\\\\Documents\\\\Postdoc\\\\Data\\\\Condensed Datasets\\\\'''\n",
    "h5_filename = f'scan{scanid}_xrd.h5'\n",
    "\n",
    "test = XRDMap.from_h5(h5_filename, wd=filedir)"
   ]
  },
  {
   "cell_type": "code",
   "execution_count": 5,
   "metadata": {},
   "outputs": [
    {
     "name": "stdout",
     "output_type": "stream",
     "text": [
      "Loading data from h5 file...\n",
      "Loading most recent images (raw_images)..."
     ]
    },
    {
     "name": "stdout",
     "output_type": "stream",
     "text": [
      "done!\n",
      "Loading reciprocal positions...done!\n",
      "Loading saved phases...done!\n",
      "Loading reflection spots...done!\n",
      "XRD Map loaded!\n"
     ]
    }
   ],
   "source": [
    "scanid = 149248\n",
    "#filedir = '''D:\\\\Musterman_postdoc\\\\20231109_Musterman\\\\'''\n",
    "filedir = '''D:\\\\Musterman_postdoc\\\\20231030_Musterman\\\\'''\n",
    "filedir = '''C:\\\\Users\\\\emusterma\\\\OneDrive - Brookhaven National Laboratory\\\\Documents\\\\Postdoc\\\\Data\\\\Condensed Datasets\\\\'''\n",
    "h5_filename = f'scan{scanid}_xrd.h5'\n",
    "\n",
    "test = XRDMap.from_h5(h5_filename, wd=filedir)"
   ]
  },
  {
   "cell_type": "code",
   "execution_count": 4,
   "metadata": {},
   "outputs": [
    {
     "name": "stdout",
     "output_type": "stream",
     "text": [
      "Loading images...done!\n",
      "Writing images to h5...done!\n"
     ]
    }
   ],
   "source": [
    "scanid = 149248\n",
    "filedir = '''D:\\\\Musterman_postdoc\\\\20231030_Musterman\\\\'''\n",
    "filedir = '''C:\\\\Users\\\\emusterma\\\\OneDrive - Brookhaven National Laboratory\\\\Documents\\\\Postdoc\\\\Data\\\\Condensed Datasets\\\\'''\n",
    "map_filename = f'scan{scanid}_dexela_xrd.tif'\n",
    "h5_filename = f'scan{scanid}_xrd.h5'\n",
    "\n",
    "test = XRDMap.from_image_stack(map_filename, wd=filedir, energy=15, scanid=scanid)\n",
    "dark_field = io.imread(f'{filedir}dexela_df_avg.tif')\n",
    "test.set_calibration('scan149256_dexela_calibration.poni')"
   ]
  },
  {
   "cell_type": "code",
   "execution_count": 6,
   "metadata": {},
   "outputs": [
    {
     "name": "stdout",
     "output_type": "stream",
     "text": [
      "Loading images...done!\n",
      "Writing images to h5...done!\n"
     ]
    }
   ],
   "source": [
    "scanid = 149566\n",
    "filedir = '''D:\\\\Musterman_postdoc\\\\20231109_Musterman\\\\'''\n",
    "filedir = '''C:\\\\Users\\\\emusterma\\\\OneDrive - Brookhaven National Laboratory\\\\Documents\\\\Postdoc\\\\Data\\\\Condensed Datasets\\\\'''\n",
    "map_filename = f'scan{scanid}_dexela_xrd.tif'\n",
    "h5_filename = f'scan{scanid}_xrd.h5'\n",
    "\n",
    "test = XRDMap.from_image_stack(map_filename, wd=filedir, energy=15, scanid=scanid)\n",
    "dark_field = io.imread(f'{filedir}dexela_df_avg.tif')\n",
    "test.set_calibration('scan149562_dexela_calibration.poni')"
   ]
  },
  {
   "cell_type": "code",
   "execution_count": 8,
   "metadata": {},
   "outputs": [],
   "source": [
    "dark_field = io.imread(f'{filedir}dexela_df_avg.tif')\n",
    "scaled_df = dark_field * np.median(test.map.min_image) / np.median(dark_field)"
   ]
  },
  {
   "cell_type": "code",
   "execution_count": 9,
   "metadata": {},
   "outputs": [
    {
     "name": "stdout",
     "output_type": "stream",
     "text": [
      "Correcting dark-field...done!\n",
      "Finding and correcting image outliers..."
     ]
    },
    {
     "name": "stderr",
     "output_type": "stream",
     "text": [
      "  0%|          | 0/36 [00:00<?, ?it/s]"
     ]
    },
    {
     "name": "stderr",
     "output_type": "stream",
     "text": [
      "100%|██████████| 36/36 [00:00<00:00, 66.29it/s]"
     ]
    },
    {
     "name": "stdout",
     "output_type": "stream",
     "text": [
      "done!\n",
      "No scaler array given. Approximating with image medians...\n",
      "Normalize image scalers..."
     ]
    },
    {
     "name": "stderr",
     "output_type": "stream",
     "text": [
      "\n"
     ]
    },
    {
     "name": "stdout",
     "output_type": "stream",
     "text": [
      "done!\n"
     ]
    }
   ],
   "source": [
    "scaled_df = dark_field * np.median(test.map.min_image) / np.median(dark_field)\n",
    "test.map.correct_dark_field(dark_field=scaled_df)\n",
    "test.map.correct_outliers()\n",
    "test.map.images[test.map.images < 0] = 0\n",
    "# Much faster for smaller images. Should not matter when this is applied...\n",
    "test.map.normalize_scaler()"
   ]
  },
  {
   "cell_type": "code",
   "execution_count": 9,
   "metadata": {},
   "outputs": [
    {
     "ename": "AttributeError",
     "evalue": "'ImageMap' object has no attribute 'tth'",
     "output_type": "error",
     "traceback": [
      "\u001b[1;31m---------------------------------------------------------------------------\u001b[0m",
      "\u001b[1;31mAttributeError\u001b[0m                            Traceback (most recent call last)",
      "Cell \u001b[1;32mIn[9], line 1\u001b[0m\n\u001b[1;32m----> 1\u001b[0m \u001b[43mtest\u001b[49m\u001b[38;5;241;43m.\u001b[39;49m\u001b[43mmap\u001b[49m\u001b[38;5;241;43m.\u001b[39;49m\u001b[43minteractive_map\u001b[49m\u001b[43m(\u001b[49m\u001b[43mimg_vmin\u001b[49m\u001b[38;5;241;43m=\u001b[39;49m\u001b[38;5;241;43m0\u001b[39;49m\u001b[43m,\u001b[49m\u001b[43m \u001b[49m\u001b[43mimg_vmax\u001b[49m\u001b[38;5;241;43m=\u001b[39;49m\u001b[38;5;241;43m5\u001b[39;49m\u001b[43m)\u001b[49m\n",
      "File \u001b[1;32m~\\OneDrive - Brookhaven National Laboratory\\Documents\\Postdoc\\Repositories\\SRX_sXRD_analysis\\testing_modules\\sXRD_ImageMap.py:686\u001b[0m, in \u001b[0;36mImageMap.interactive_map\u001b[1;34m(self, **kwargs)\u001b[0m\n\u001b[0;32m    684\u001b[0m \u001b[38;5;28;01mdef\u001b[39;00m \u001b[38;5;21minteractive_map\u001b[39m(\u001b[38;5;28mself\u001b[39m, \u001b[38;5;241m*\u001b[39m\u001b[38;5;241m*\u001b[39mkwargs):\n\u001b[0;32m    685\u001b[0m     \u001b[38;5;66;03m# I should probably rebuild these to not need tth and chi\u001b[39;00m\n\u001b[1;32m--> 686\u001b[0m     interactive_dynamic_2d_plot(\u001b[38;5;28mself\u001b[39m\u001b[38;5;241m.\u001b[39mimages, tth\u001b[38;5;241m=\u001b[39m\u001b[38;5;28;43mself\u001b[39;49m\u001b[38;5;241;43m.\u001b[39;49m\u001b[43mtth\u001b[49m, chi\u001b[38;5;241m=\u001b[39m\u001b[38;5;28mself\u001b[39m\u001b[38;5;241m.\u001b[39mchi, \u001b[38;5;241m*\u001b[39m\u001b[38;5;241m*\u001b[39mkwargs)\n",
      "\u001b[1;31mAttributeError\u001b[0m: 'ImageMap' object has no attribute 'tth'"
     ]
    }
   ],
   "source": [
    "test.map.interactive_map(img_vmin=0, img_vmax=5)"
   ]
  },
  {
   "cell_type": "code",
   "execution_count": 40,
   "metadata": {},
   "outputs": [],
   "source": [
    "cif_dir = '''C:\\\\Users\\\\emusterma\\\\OneDrive - Brookhaven National Laboratory\\\\Documents\\\\Postdoc\\\\Literature\\\\CIF\\\\'''\n",
    "test.clear_phases()\n",
    "for filename, phase_name in zip(['AMCSD\\\\Hematite_0017806.cif',\n",
    "                                 'AMCSD\\\\Iron-alpha_0011214.cif',\n",
    "                                 'AMCSD\\\\Iron-beta_0011215.cif',\n",
    "                                 'AMCSD\\\\Iron-delta_0011216.cif',\n",
    "                                 'AMCSD\\\\Iron_0011146.cif',\n",
    "                                 'AMCSD\\\\Cementite_0013523.cif',\n",
    "                                 'AMCSD\\\\Zincite_0011555.cif'],\n",
    "                                ['Hematite', 'Iron-ferrite', 'Iron-beta',\n",
    "                                 'Iron-delta', 'Iron-austenite', 'Cementite',\n",
    "                                 'Zincite']):\n",
    "    \n",
    "    test.load_phase(filename, filedir=cif_dir, phase_name=phase_name)"
   ]
  },
  {
   "cell_type": "code",
   "execution_count": 10,
   "metadata": {},
   "outputs": [
    {
     "name": "stdout",
     "output_type": "stream",
     "text": [
      "XU.materials: Warning: element O used instead of O-2\n",
      "XU.materials: Warning: element Nb used instead of Nb+5\n",
      "XU.materials: Warning: element Li used instead of Li+1\n"
     ]
    }
   ],
   "source": [
    "cif_dir = '''C:\\\\Users\\\\emusterma\\\\OneDrive - Brookhaven National Laboratory\\\\Documents\\\\Postdoc\\\\Literature\\\\CIF\\\\'''\n",
    "test.clear_phases()\n",
    "test.load_phase('Barker\\\\1521772COD.cif', filedir=cif_dir, phase_name=\"LiNbO3 161\")\n",
    "test.load_phase('Barker\\\\LiNbO3.cif', filedir=cif_dir, phase_name=\"LiNbO3 148\")\n",
    "test.load_phase('AMCSD\\\\Platinum_0011157.cif', filedir=cif_dir, phase_name=\"Platinum\")\n",
    "test.load_phase('AMCSD\\\\Calcite_0000984.cif', filedir=cif_dir, phase_name=\"Calcite\")\n",
    "test.load_phase('AMCSD\\\\Aluminum_0011136.cif', filedir=cif_dir, phase_name=\"Aluminum\")\n",
    "test.load_phase('AMCSD\\\\Zincite_0011555.cif', filedir=cif_dir, phase_name=\"Zincite\")\n",
    "test.load_phase('AMCSD\\\\Gold_0011140.cif', filedir=cif_dir, phase_name=\"Gold\")\n",
    "test.load_phase('AMCSD\\\\Chromium_0011209.cif', filedir=cif_dir, phase_name=\"Chromium BCC\")\n",
    "test.load_phase('AMCSD\\\\Chromium_0011170.cif', filedir=cif_dir, phase_name=\"Chromium HCP\")\n",
    "test.load_phase('AMCSD\\\\Chromium_0011144.cif', filedir=cif_dir, phase_name=\"Chromium FCC\")"
   ]
  },
  {
   "cell_type": "code",
   "execution_count": 11,
   "metadata": {},
   "outputs": [],
   "source": [
    "test.select_phases(remove_less_than=0.1)"
   ]
  },
  {
   "cell_type": "code",
   "execution_count": 10,
   "metadata": {},
   "outputs": [
    {
     "name": "stdout",
     "output_type": "stream",
     "text": [
      "Calibrating images..."
     ]
    },
    {
     "name": "stderr",
     "output_type": "stream",
     "text": [
      "100%|██████████| 36/36 [00:08<00:00,  4.26it/s]\n"
     ]
    },
    {
     "name": "stdout",
     "output_type": "stream",
     "text": [
      "done!\n",
      "Writing reciprocal positions...\n",
      "done!\n",
      "Acquring and writing calibration mask...\n",
      "done!\n"
     ]
    }
   ],
   "source": [
    "test.calibrate_images()"
   ]
  },
  {
   "cell_type": "code",
   "execution_count": 224,
   "metadata": {},
   "outputs": [],
   "source": [
    "def masked_filter(image, mask, filter, **kwargs):\n",
    "    nan_image = np.copy(image)\n",
    "    nan_image[~mask] = np.nan\n",
    "\n",
    "    zero_image = np.copy(image)\n",
    "    zero_image[~mask] = 0 # should be redundant\n",
    "    gauss_zero = filter(zero_image, **kwargs)\n",
    "\n",
    "    div_image = 0 * np.copy(nan_image) + 1\n",
    "    div_image[~mask] = 0\n",
    "    gauss_div = filter(div_image, **kwargs)\n",
    "\n",
    "    overlap = gauss_zero / gauss_div\n",
    "    overlap[~mask] = 0\n",
    "\n",
    "    return overlap"
   ]
  },
  {
   "cell_type": "code",
   "execution_count": 141,
   "metadata": {},
   "outputs": [],
   "source": [
    "def masked_gaussian_background(image, mask, sigma, return_background=False):\n",
    "    nan_image = np.copy(image)\n",
    "    nan_image[~mask] = np.nan\n",
    "\n",
    "    zero_image = np.copy(image)\n",
    "    zero_image[~mask] = 0 # should be redundant\n",
    "    gauss_zero = gaussian_filter(zero_image, sigma=sigma)\n",
    "\n",
    "    div_image = 0 * np.copy(nan_image) + 1\n",
    "    div_image[~mask] = 0\n",
    "    gauss_div = gaussian_filter(div_image, sigma=sigma)\n",
    "\n",
    "    overlap = gauss_zero / gauss_div\n",
    "    overlap[~mask] = 0\n",
    "    \n",
    "    if return_background:\n",
    "        return overlap\n",
    "    else:\n",
    "        return image - overlap\n",
    "    "
   ]
  },
  {
   "cell_type": "code",
   "execution_count": 354,
   "metadata": {},
   "outputs": [],
   "source": [
    "def masked_gaussian_background(imagemap, sigma, return_background=False):\n",
    "    map_shape = imagemap.images.shape[:2]\n",
    "    image_shape = imagemap.images.shape[2:]\n",
    "\n",
    "    mask = np.empty_like(imagemap.images, dtype=np.bool_)\n",
    "    mask[:, :] = imagemap.calibration_mask\n",
    "\n",
    "    nan_images = np.copy(imagemap.images)\n",
    "    nan_images[~mask] = np.nan\n",
    "\n",
    "    zero_image = np.copy(imagemap.images)\n",
    "    zero_image[~mask] = 0 # should be redundant\n",
    "    gauss_zero = gaussian_filter(zero_image, sigma=(0, 0, sigma, sigma))\n",
    "\n",
    "    div_image = 0 * np.copy(nan_images) + 1\n",
    "    div_image[~mask] = 0\n",
    "    gauss_div = gaussian_filter(div_image, sigma=(0, 0, sigma, sigma))\n",
    "\n",
    "    overlap = gauss_zero / gauss_div\n",
    "    overlap[~mask] = 0\n",
    "    \n",
    "    if return_background:\n",
    "        return overlap\n",
    "    else:\n",
    "        return imagemap.images - overlap"
   ]
  },
  {
   "cell_type": "code",
   "execution_count": 358,
   "metadata": {},
   "outputs": [],
   "source": [
    "gauss_bkg = masked_gaussian_background(test.map, sigma=100, return_background=True)"
   ]
  },
  {
   "cell_type": "code",
   "execution_count": 359,
   "metadata": {},
   "outputs": [],
   "source": [
    "new_images = test.map.images - gauss_bkg"
   ]
  },
  {
   "cell_type": "code",
   "execution_count": 369,
   "metadata": {},
   "outputs": [],
   "source": [
    "test.map.images = rescale_array(test.map.images, upper=100, lower=0)"
   ]
  },
  {
   "cell_type": "code",
   "execution_count": 374,
   "metadata": {},
   "outputs": [],
   "source": [
    "map_noise = estimate_map_noise(test.map)"
   ]
  },
  {
   "cell_type": "code",
   "execution_count": 375,
   "metadata": {},
   "outputs": [
    {
     "data": {
      "text/plain": [
       "(array([], shape=(0, 2), dtype=int32),\n",
       " array([[False, False, False, ..., False, False, False],\n",
       "        [False, False, False, ..., False, False, False],\n",
       "        [False, False, False, ..., False, False, False],\n",
       "        ...,\n",
       "        [False, False, False, ..., False, False, False],\n",
       "        [False, False, False, ..., False, False, False],\n",
       "        [False, False, False, ..., False, False, False]]),\n",
       " array([[0.70871466, 0.70871466, 0.70871466, ..., 0.70871466, 0.70871466,\n",
       "         0.70871466],\n",
       "        [0.70871466, 0.70871466, 0.70871466, ..., 0.70871466, 0.70871466,\n",
       "         0.70871466],\n",
       "        [0.70871466, 0.70871466, 0.70871466, ..., 0.70871466, 0.70871466,\n",
       "         0.70871466],\n",
       "        ...,\n",
       "        [0.70871466, 0.70871466, 0.70871466, ..., 0.70871466, 0.70871466,\n",
       "         0.70871466],\n",
       "        [0.70871466, 0.70871466, 0.70871466, ..., 0.70871466, 0.70871466,\n",
       "         0.70871466],\n",
       "        [0.70871466, 0.70871466, 0.70871466, ..., 0.70871466, 0.70871466,\n",
       "         0.70871466]], dtype=float32))"
      ]
     },
     "execution_count": 375,
     "metadata": {},
     "output_type": "execute_result"
    }
   ],
   "source": [
    "spot_search(test.map.images[2, 5], multiplier=100, bkg_noise=map_noise, plotme=True)"
   ]
  },
  {
   "cell_type": "code",
   "execution_count": 280,
   "metadata": {},
   "outputs": [],
   "source": [
    "i = np.random.randint(test.map.map_shape[0])\n",
    "j = np.random.randint(test.map.map_shape[1])\n",
    "\n",
    "image = masked_gaussian_background(test.map.images[2, 5], test.map.calibration_mask, sigma=200)\n",
    "test.map.plot_image(image)"
   ]
  },
  {
   "cell_type": "code",
   "execution_count": 284,
   "metadata": {},
   "outputs": [],
   "source": [
    "i = np.random.randint(test.map.map_shape[0])\n",
    "j = np.random.randint(test.map.map_shape[1])\n",
    "\n",
    "image = masked_gaussian_background(test.map.images[i, j], test.map.calibration_mask, sigma=200, return_background=False)\n",
    "test.map.plot_image(image)"
   ]
  },
  {
   "cell_type": "code",
   "execution_count": 140,
   "metadata": {},
   "outputs": [],
   "source": [
    "test.map.plot_image(test.map.images[0, 0] - Z)"
   ]
  },
  {
   "cell_type": "code",
   "execution_count": 191,
   "metadata": {},
   "outputs": [],
   "source": [
    "import numpy as np\n",
    "import matplotlib.pyplot as plt\n",
    "from scipy.interpolate import RectBivariateSpline\n",
    "\n",
    "skip = 20\n",
    "image = test.map.images[i, j][::skip, ::skip]\n",
    "\n",
    "\n",
    "func = RectBivariateSpline(test.tth[::skip], test.chi[::skip], image.T, s=1000)\n",
    "\n",
    "znew = func(test.tth, test.chi).T\n",
    "znew[~test.map.calibration_mask] = 0\n",
    "\n",
    "test.map.plot_image(test.map.images[i, j] - znew)"
   ]
  },
  {
   "cell_type": "code",
   "execution_count": 39,
   "metadata": {},
   "outputs": [],
   "source": [
    "test.map.plot_image(test.map.images[0, 0] - znew)"
   ]
  },
  {
   "cell_type": "code",
   "execution_count": 108,
   "metadata": {},
   "outputs": [],
   "source": [
    "def poly_bkg(xy, *args):\n",
    "    order = (len(args) - 1) // 2\n",
    "\n",
    "    x = np.asarray(xy[0])\n",
    "    y = np.asarray(xy[1])\n",
    "\n",
    "    z = 0\n",
    "    for power in range(order):\n",
    "        #print(order-power)\n",
    "        z += args[2 * power] * x ** (order - power)\n",
    "        z += args[2 * power + 1] * y ** (order - power)\n",
    "    \n",
    "    z += args[-1] # offset at end\n",
    "\n",
    "    return z"
   ]
  },
  {
   "cell_type": "code",
   "execution_count": 113,
   "metadata": {},
   "outputs": [],
   "source": [
    "x_coords, y_coords = np.meshgrid(test.tth, test.chi[::-1])\n",
    "x_fit = x_coords[test.map.calibration_mask]\n",
    "y_fit = y_coords[test.map.calibration_mask]\n",
    "z_fit = test.map.med_image[test.map.calibration_mask]\n",
    "\n",
    "order = 10\n",
    "p0 = np.ones(order * 2 + 1) * 1e-5\n",
    "\n",
    "popt, pcov = curve_fit(poly_bkg, [x_fit, y_fit], z_fit, p0=p0)"
   ]
  },
  {
   "cell_type": "code",
   "execution_count": 114,
   "metadata": {},
   "outputs": [],
   "source": [
    "new_z = poly_bkg([x_coords, y_coords], *popt)\n",
    "new_z[~test.map.calibration_mask] = 0"
   ]
  },
  {
   "cell_type": "code",
   "execution_count": 115,
   "metadata": {},
   "outputs": [],
   "source": [
    "test.map.plot_image(new_z)\n",
    "test.map.plot_image(test.map.images[0, 0] - new_z)"
   ]
  },
  {
   "cell_type": "code",
   "execution_count": 221,
   "metadata": {},
   "outputs": [],
   "source": [
    "def bruckner_background(image, size, iterations, return_background=False):\n",
    "    # Cannot currently handle Nans...\n",
    "    from scipy.ndimage import uniform_filter\n",
    "\n",
    "    old_image = np.copy(image)\n",
    "\n",
    "    for i in range(iterations):\n",
    "        avg_image = uniform_filter(old_image, size=size)\n",
    "        min_image = np.min(np.array([image, avg_image]), axis=0)\n",
    "        old_image = min_image\n",
    "\n",
    "    if return_background:\n",
    "        return min_image\n",
    "    else:\n",
    "        return image - min_image"
   ]
  },
  {
   "cell_type": "code",
   "execution_count": 328,
   "metadata": {},
   "outputs": [],
   "source": [
    "def masked_bruckner_background(image, size, iterations, mask, return_background=False):\n",
    "    # Cannot currently handle Nans...\n",
    "    from scipy.ndimage import uniform_filter\n",
    "    old_image = np.copy(image)\n",
    "    init_min = np.min(old_image)\n",
    "    init_avg = np.mean(old_image)\n",
    "    init_thresh = init_avg + 2 * (init_avg - init_min)\n",
    "    init_mask = (old_image >= init_thresh)\n",
    "    old_image[init_mask] = init_thresh\n",
    "    # Initially filter to help with noise\n",
    "    old_image = masked_filter(old_image, mask, uniform_filter, size=size)\n",
    "\n",
    "    for i in range(iterations):\n",
    "        avg_image = masked_filter(old_image, mask, uniform_filter, size=size)\n",
    "        #avg_image = uniform_filter(old_image, size=size)\n",
    "        #min_image = np.min(np.array([old_image, avg_image]), axis=0)\n",
    "        min_image = np.min(np.array([old_image, avg_image]), axis=0)\n",
    "        \n",
    "        if np.max(np.abs(old_image - min_image)) > 1e-3:\n",
    "            old_image = np.copy(min_image)\n",
    "        else:\n",
    "            print(f'Background converged after {i + 1} iterations!')\n",
    "            break\n",
    "\n",
    "    if return_background:\n",
    "        return min_image\n",
    "    else:\n",
    "        return image - min_image"
   ]
  },
  {
   "cell_type": "code",
   "execution_count": 339,
   "metadata": {},
   "outputs": [
    {
     "name": "stdout",
     "output_type": "stream",
     "text": [
      "\n",
      "dt = 7.562 sec\n",
      "\n",
      "dt = 1.907 sec\n"
     ]
    }
   ],
   "source": [
    "tic()\n",
    "test.map.plot_image(masked_bruckner_background(test.map.images[2, 5], 50, 100,\n",
    "                                               test.map.calibration_mask,\n",
    "                                               return_background=False))\n",
    "toc()\n",
    "tic()\n",
    "test.map.plot_image(masked_gaussian_background(test.map.images[2, 5],\n",
    "                                               test.map.calibration_mask,\n",
    "                                               sigma=100, return_background=False))\n",
    "toc()"
   ]
  },
  {
   "cell_type": "code",
   "execution_count": 340,
   "metadata": {},
   "outputs": [],
   "source": [
    "gauss_bkg = gaussian_filter(test.map.images, sigma=(0, 0, 100, 100))"
   ]
  },
  {
   "cell_type": "code",
   "execution_count": 341,
   "metadata": {},
   "outputs": [],
   "source": [
    "test.map.plot_image(gauss_bkg[0, 0])"
   ]
  },
  {
   "cell_type": "code",
   "execution_count": 278,
   "metadata": {},
   "outputs": [],
   "source": [
    "test.map.plot_image(bruckner_background(test.map.images[2, 5], 30, 50, return_background=True))"
   ]
  },
  {
   "cell_type": "code",
   "execution_count": 223,
   "metadata": {},
   "outputs": [],
   "source": [
    "test.map.plot_image(test.map.images[2, 5])"
   ]
  },
  {
   "cell_type": "code",
   "execution_count": 210,
   "metadata": {},
   "outputs": [],
   "source": [
    "from scipy.ndimage import uniform_filter\n",
    "\n",
    "image = test.map.images[2, 5]\n",
    "results = uniform_filter(image, size=10)\n",
    "results = np.min(np.array([image, results]), axis=0)\n",
    "test.map.plot_image(results)"
   ]
  },
  {
   "cell_type": "code",
   "execution_count": 206,
   "metadata": {},
   "outputs": [],
   "source": [
    "test.map.plot_image(results)"
   ]
  },
  {
   "cell_type": "code",
   "execution_count": 201,
   "metadata": {},
   "outputs": [
    {
     "ename": "ValueError",
     "evalue": "object too deep for desired array",
     "output_type": "error",
     "traceback": [
      "\u001b[1;31m---------------------------------------------------------------------------\u001b[0m",
      "\u001b[1;31mValueError\u001b[0m                                Traceback (most recent call last)",
      "Cell \u001b[1;32mIn[201], line 2\u001b[0m\n\u001b[0;32m      1\u001b[0m bins \u001b[38;5;241m=\u001b[39m np\u001b[38;5;241m.\u001b[39mones((\u001b[38;5;241m3\u001b[39m, \u001b[38;5;241m3\u001b[39m))\n\u001b[1;32m----> 2\u001b[0m results \u001b[38;5;241m=\u001b[39m \u001b[43mnp\u001b[49m\u001b[38;5;241;43m.\u001b[39;49m\u001b[43mconvolve\u001b[49m\u001b[43m(\u001b[49m\u001b[43mtest\u001b[49m\u001b[38;5;241;43m.\u001b[39;49m\u001b[43mmap\u001b[49m\u001b[38;5;241;43m.\u001b[39;49m\u001b[43mimages\u001b[49m\u001b[43m[\u001b[49m\u001b[38;5;241;43m2\u001b[39;49m\u001b[43m,\u001b[49m\u001b[43m \u001b[49m\u001b[38;5;241;43m5\u001b[39;49m\u001b[43m]\u001b[49m\u001b[43m,\u001b[49m\u001b[43m \u001b[49m\u001b[43mbins\u001b[49m\u001b[43m,\u001b[49m\u001b[43m \u001b[49m\u001b[43mmode\u001b[49m\u001b[38;5;241;43m=\u001b[39;49m\u001b[38;5;124;43m'\u001b[39;49m\u001b[38;5;124;43msame\u001b[39;49m\u001b[38;5;124;43m'\u001b[39;49m\u001b[43m)\u001b[49m \u001b[38;5;241m/\u001b[39m \u001b[38;5;28mlen\u001b[39m(bins)\n",
      "File \u001b[1;32m<__array_function__ internals>:200\u001b[0m, in \u001b[0;36mconvolve\u001b[1;34m(*args, **kwargs)\u001b[0m\n",
      "File \u001b[1;32mc:\\Users\\emusterma\\AppData\\Local\\Programs\\Python\\Python311\\Lib\\site-packages\\numpy\\core\\numeric.py:851\u001b[0m, in \u001b[0;36mconvolve\u001b[1;34m(a, v, mode)\u001b[0m\n\u001b[0;32m    849\u001b[0m \u001b[38;5;28;01mif\u001b[39;00m \u001b[38;5;28mlen\u001b[39m(v) \u001b[38;5;241m==\u001b[39m \u001b[38;5;241m0\u001b[39m:\n\u001b[0;32m    850\u001b[0m     \u001b[38;5;28;01mraise\u001b[39;00m \u001b[38;5;167;01mValueError\u001b[39;00m(\u001b[38;5;124m'\u001b[39m\u001b[38;5;124mv cannot be empty\u001b[39m\u001b[38;5;124m'\u001b[39m)\n\u001b[1;32m--> 851\u001b[0m \u001b[38;5;28;01mreturn\u001b[39;00m \u001b[43mmultiarray\u001b[49m\u001b[38;5;241;43m.\u001b[39;49m\u001b[43mcorrelate\u001b[49m\u001b[43m(\u001b[49m\u001b[43ma\u001b[49m\u001b[43m,\u001b[49m\u001b[43m \u001b[49m\u001b[43mv\u001b[49m\u001b[43m[\u001b[49m\u001b[43m:\u001b[49m\u001b[43m:\u001b[49m\u001b[38;5;241;43m-\u001b[39;49m\u001b[38;5;241;43m1\u001b[39;49m\u001b[43m]\u001b[49m\u001b[43m,\u001b[49m\u001b[43m \u001b[49m\u001b[43mmode\u001b[49m\u001b[43m)\u001b[49m\n",
      "\u001b[1;31mValueError\u001b[0m: object too deep for desired array"
     ]
    }
   ],
   "source": [
    "bins = np.ones((1, 3))\n",
    "results = np.convolve(test.map.images[2, 5], bins, mode='same') / len(bins)"
   ]
  },
  {
   "cell_type": "code",
   "execution_count": null,
   "metadata": {},
   "outputs": [],
   "source": []
  },
  {
   "cell_type": "code",
   "execution_count": 12,
   "metadata": {},
   "outputs": [
    {
     "name": "stdout",
     "output_type": "stream",
     "text": [
      "Removing background...done!\n"
     ]
    }
   ],
   "source": [
    "test.map.remove_background(background=test.map.images[12, 10])"
   ]
  },
  {
   "cell_type": "code",
   "execution_count": 45,
   "metadata": {},
   "outputs": [],
   "source": [
    "test.map.plot_image(test.map.images[12, 10])"
   ]
  },
  {
   "cell_type": "code",
   "execution_count": 13,
   "metadata": {},
   "outputs": [],
   "source": [
    "arr_min = np.min(test.map.images)\n",
    "arr_max = np.max(test.map.images)"
   ]
  },
  {
   "cell_type": "code",
   "execution_count": 14,
   "metadata": {},
   "outputs": [],
   "source": [
    "def iter_rescale_array(arr, lower=0, upper=1, arr_min=None, arr_max=None):\n",
    "    # Works for arrays of any size including images!\n",
    "    if arr_min is None:\n",
    "        arr_min = np.min(arr)\n",
    "    if arr_max is None:\n",
    "        arr_max = np.max(arr)\n",
    "    ext = upper - lower\n",
    "\n",
    "    for index in tqdm(range(np.multiply(*arr.shape[:2])), desc='Scheduling...'):\n",
    "        indices = np.unravel_index(index, arr.shape[:2])\n",
    "        arr[indices] = lower + ext * ((arr[indices] - arr_min) / (arr_max - arr_min))"
   ]
  },
  {
   "cell_type": "code",
   "execution_count": 15,
   "metadata": {},
   "outputs": [
    {
     "name": "stderr",
     "output_type": "stream",
     "text": [
      "Scheduling...: 100%|██████████| 3721/3721 [05:23<00:00, 11.51it/s]\n"
     ]
    }
   ],
   "source": [
    "iter_rescale_array(test.map.images, lower=0, upper=100, arr_min=arr_min, arr_max=arr_max)"
   ]
  },
  {
   "cell_type": "code",
   "execution_count": 18,
   "metadata": {},
   "outputs": [],
   "source": [
    "test.map.plot_image()"
   ]
  },
  {
   "cell_type": "code",
   "execution_count": 73,
   "metadata": {},
   "outputs": [],
   "source": [
    "def iter_rescale_array(arr, lower=0, upper=1, arr_min=None, arr_max=None):\n",
    "    # Works for arrays of any size including images!\n",
    "    if arr_min is None:\n",
    "        arr_min = np.min(arr)\n",
    "    if arr_max is None:\n",
    "        arr_max = np.max(arr)\n",
    "    ext = upper - lower\n",
    "\n",
    "    @dask.delayed\n",
    "    def delayed_rescale_array(arr, lower, ext, arr_min, arr_max, indices):\n",
    "        arr[indices] = lower + ext * ((arr[indices] - arr_min) / (arr_max - arr_min))\n",
    "        return arr[indices]\n",
    "\n",
    "    delayed_list = []\n",
    "    for index in tqdm(range(np.multiply(*arr.shape[:2])), desc='Scheduling...'):\n",
    "        indices = np.unravel_index(index, arr.shape[:2])\n",
    "\n",
    "        delayed_list.append(delayed_rescale_array(arr[indices], lower, ext, arr_min, arr_max, indices))\n",
    "\n",
    "    #return delayed_list\n",
    "    with TqdmCallback(desc='Computing...', tqdm_class=tqdm):\n",
    "        dask.compute(*delayed_list)"
   ]
  },
  {
   "cell_type": "code",
   "execution_count": 75,
   "metadata": {},
   "outputs": [],
   "source": [
    "test.map.plot_image()"
   ]
  },
  {
   "cell_type": "code",
   "execution_count": null,
   "metadata": {},
   "outputs": [],
   "source": [
    "#nan_med = test.map.med_image\n",
    "nan_med = median_image\n",
    "nan_med[~test.map.calibration_mask] = np.nan\n",
    "ball_bkg = rolling_ball(gaussian_filter(nan_med, sigma=2), radius=50)\n",
    "ball_bkg[~test.map.calibration_mask] = 0\n",
    "test.map.remove_background(background=ball_bkg * test.map.calibration_mask)\n",
    "test.map.images = rescale_array(test.map.images, lower=0, upper=100)"
   ]
  },
  {
   "cell_type": "code",
   "execution_count": 107,
   "metadata": {},
   "outputs": [],
   "source": [
    "test.map.update_map_title()\n",
    "test.map.save_images(units=test.map.calib_unit, labels=['x_ind', 'y_ind', 'chi_ind', 'tth_ind'])"
   ]
  },
  {
   "cell_type": "code",
   "execution_count": 19,
   "metadata": {},
   "outputs": [],
   "source": [
    "map_noise = estimate_map_noise(test.map)"
   ]
  },
  {
   "cell_type": "code",
   "execution_count": 36,
   "metadata": {},
   "outputs": [],
   "source": [
    "i = np.random.randint(test.map.map_shape[0])\n",
    "j = np.random.randint(test.map.map_shape[1])\n",
    "\n",
    "out = spot_search(test.map.images[i, j], bkg_noise=map_noise, multiplier=3, plotme=True)"
   ]
  },
  {
   "cell_type": "code",
   "execution_count": 19,
   "metadata": {},
   "outputs": [],
   "source": [
    "test.map.plot_image(out[1] * out[2])"
   ]
  },
  {
   "cell_type": "code",
   "execution_count": 37,
   "metadata": {},
   "outputs": [
    {
     "name": "stderr",
     "output_type": "stream",
     "text": [
      "Scheduling spot search...: 100%|██████████| 3721/3721 [00:00<00:00, 8923.01it/s] \n",
      "Searching images for spots...: 100%|██████████| 3721/3721 [01:32<00:00, 40.04it/s]\n",
      "Scheduling spot characterization...: 100%|██████████| 22193/22193 [00:02<00:00, 7791.26it/s] \n",
      "Characterizing spots...: 100%|██████████| 22193/22193 [09:00<00:00, 41.08it/s]\n"
     ]
    }
   ],
   "source": [
    "test.find_spots(multiplier=3)"
   ]
  },
  {
   "cell_type": "code",
   "execution_count": null,
   "metadata": {},
   "outputs": [],
   "source": []
  },
  {
   "cell_type": "code",
   "execution_count": 38,
   "metadata": {},
   "outputs": [
    {
     "name": "stderr",
     "output_type": "stream",
     "text": [
      "Scheduling blob segmentation for spot fits...: 100%|██████████| 3721/3721 [05:43<00:00, 10.82it/s]\n",
      "Segmenting blobs for spot fits...: 100%|██████████| 3721/3721 [02:43<00:00, 22.79it/s]\n",
      "Scheduling spot fits...: 100%|██████████| 19175/19175 [00:02<00:00, 7008.92it/s]\n",
      "Fitting spots in blobs...: 100%|██████████| 19175/19175 [10:19<00:00, 30.95it/s]\n"
     ]
    },
    {
     "name": "stdout",
     "output_type": "stream",
     "text": [
      "Successfully fit 16396 / 22193 spots ( 73.9 % ).\n"
     ]
    }
   ],
   "source": [
    "test.fit_spots(GaussianFunctions, max_dist=0.75)"
   ]
  },
  {
   "cell_type": "code",
   "execution_count": 40,
   "metadata": {},
   "outputs": [],
   "source": [
    "plot_map = np.zeros(test.map.map_shape)\n",
    "plot_map[:] = np.nan\n",
    "\n",
    "for image_index in range(test.map.num_images):\n",
    "    indices = np.unravel_index(image_index, test.map.map_shape)\n",
    "    pixel_df = test.spots[(test.spots['map_x'] == indices[0])\n",
    "                          & (test.spots['map_y'] == indices[1])]\n",
    "    \n",
    "    if len(pixel_df) < 1:\n",
    "        plot_map[indices] = 0\n",
    "    else:\n",
    "        plot_map[indices] = np.sum(pixel_df['guess_int'])\n",
    "        #plot_map[indices] = np.sum(pixel_df['fit_amp'])\n",
    "        #plot_map[indices] = np.mean(pixel_df['fit_x0'])\n",
    "        #plot_map[indices] = len(pixel_df)\n",
    "\n",
    "\n",
    "fig, ax = plt.subplots(1, 1, figsize=(5, 5), dpi=200)\n",
    "\n",
    "im = ax.imshow(plot_map)\n",
    "fig.colorbar(im, ax=ax)\n",
    "ax.set_title('Spot Value')\n",
    "\n",
    "plt.show()"
   ]
  },
  {
   "cell_type": "code",
   "execution_count": 67,
   "metadata": {},
   "outputs": [],
   "source": [
    "test.map.plot_image()"
   ]
  },
  {
   "cell_type": "code",
   "execution_count": 78,
   "metadata": {},
   "outputs": [],
   "source": [
    "[test.phases[phase].get_hkl_reflections(tth_range=(np.min(test.tth), np.max(test.tth))) for phase in test.phases];\n",
    "\n",
    "pot_tth = np.concatenate([test.phases[key].reflections['tth'] for key in test.phases])\n",
    "pot_hkl = np.concatenate([test.phases[key].reflections['hkl'] for key in test.phases])\n",
    "pot_phase = np.concatenate([[key,] * len(test.phases[key].reflections['tth']) for key in test.phases])\n",
    "\n",
    "search_distance = 0.5 # in degrees\n",
    "this_phase = 'Iron-ferrite'\n",
    "\n",
    "plot_map = np.zeros(test.map.map_shape)\n",
    "plot_map[:] = 0\n",
    "\n",
    "for image_index in range(test.map.num_images):\n",
    "    indices = np.unravel_index(image_index, test.map.map_shape)\n",
    "    pixel_df = test.spots[(test.spots['map_x'] == indices[0])\n",
    "                          & (test.spots['map_y'] == indices[1])]\n",
    "    \n",
    "    if len(pixel_df) < 1:\n",
    "        plot_map[indices] = 0\n",
    "    else:\n",
    "        for spot_index in range(len(pixel_df)):\n",
    "            min_arr = np.abs(pot_tth - pixel_df.iloc[spot_index]['guess_cenx'])\n",
    "            #min_arr = np.array([np.abs(x - pot_tth) for x in pixel_df.loc[spot_index, 'fit_x0']])\n",
    "            min_arr[min_arr > search_distance] = np.nan\n",
    "            if np.all(np.isnan(min_arr)):\n",
    "                continue\n",
    "            #min_index = [np.nanargmin(x) if np.any(~np.isnan(x)) else None for x in min_arr]\n",
    "            min_index = np.nanargmin(min_arr)\n",
    "\n",
    "            if pot_phase[min_index] == this_phase:\n",
    "                plot_map[indices] += pixel_df.iloc[spot_index]['guess_int']\n",
    "\n",
    "        #plot_map[indices] = np.sum(pixel_df['guess_int'])\n",
    "        #plot_map[indices] = np.sum(pixel_df['fit_amp'])\n",
    "        #plot_map[indices] = np.mean(pixel_df['fit_x0'])\n",
    "        #plot_map[indices] = len(pixel_df)\n",
    "\n",
    "\n",
    "fig, ax = plt.subplots(1, 1, figsize=(5, 5), dpi=200)\n",
    "\n",
    "im = ax.imshow(plot_map)\n",
    "fig.colorbar(im, ax=ax)\n",
    "ax.set_title(this_phase)\n",
    "\n",
    "plt.show()"
   ]
  },
  {
   "cell_type": "code",
   "execution_count": 438,
   "metadata": {},
   "outputs": [],
   "source": [
    "fig, ax = plt.subplots(1, 1, figsize=(5, 5), dpi=200)\n",
    "\n",
    "image = test.map.composite_image\n",
    "\n",
    "tth = test.tth\n",
    "intensity = np.sum(test.map.composite_image, axis=0)\n",
    "pixels = np.sum(test.map.calibration_mask, axis=0)\n",
    "\n",
    "x, bins, _ = ax.hist(test.spots['guess_cenx'].values, bins=2000, weights=test.spots['guess_height'].values, label='spot center', density=True)\n",
    "ax.plot(tth, rescale_array(intensity / pixels, lower=np.min(x), upper=np.max(x)), label='integrated intensity')\n",
    "ax.legend()\n",
    "\n",
    "plt.show()"
   ]
  },
  {
   "cell_type": "code",
   "execution_count": null,
   "metadata": {},
   "outputs": [],
   "source": [
    "fig, ax = plt.subplots(1, 1, figsize=(5, 5), dpi=200)\n",
    "\n",
    "image = test.map.composite_image\n",
    "\n",
    "tth = test.tth\n",
    "intensity = np.sum(test.map.composite_image, axis=0)\n",
    "pixels = np.sum(test.map.calibration_mask, axis=0)\n",
    "\n",
    "x, bins, _ = ax.hist(test.spots['fit_x0'].values, bins=2500, label='spot center', density=True)\n",
    "ax.plot(tth, rescale_array(intensity / pixels, lower=np.min(x), upper=np.max(x)), label='integrated intensity')\n",
    "ax.legend()\n",
    "\n",
    "plt.show()"
   ]
  },
  {
   "cell_type": "code",
   "execution_count": 42,
   "metadata": {},
   "outputs": [],
   "source": [
    "fig, ax = plt.subplots(1, 1, figsize=(5, 5), dpi=200)\n",
    "\n",
    "image = test.map.composite_image\n",
    "\n",
    "tth = test.tth\n",
    "x, bins, _ = ax.hist(test.spots['fit_x0'].values, bins=2000, label='fit', range=test.extent[:2], alpha=0.5)\n",
    "x, bins, _ = ax.hist(test.spots['guess_cenx'].values, bins=2000, label='integrated', range=test.extent[:2], alpha=0.5)\n",
    "\n",
    "#ax.plot(tth, rescale_array(intensity / pixels, lower=np.min(x), upper=np.max(x)), label='integrated intensity')\n",
    "ax.legend()\n",
    "\n",
    "plt.show()"
   ]
  },
  {
   "cell_type": "code",
   "execution_count": 323,
   "metadata": {},
   "outputs": [],
   "source": [
    "fig, ax = plt.subplots(1, 1, figsize=(5, 5), dpi=200)\n",
    "\n",
    "image = test.map.composite_image\n",
    "bins = 2500\n",
    "\n",
    "guess_val = test.spots['guess_cenx'].values\n",
    "fit_val = test.spots['fit_x0'].values\n",
    "\n",
    "tth = test.tth\n",
    "ext = [np.nanmin([guess_val, fit_val]),\n",
    "       np.nanmax([guess_val, fit_val])]\n",
    "x, bins, _ = ax.hist(fit_val, bins=bins, label='fit', alpha=0.5, range=ext)\n",
    "x, bins, _ = ax.hist(guess_val, bins=bins, label='integrated', alpha=0.5, range=ext)\n",
    "\n",
    "#ax.plot(tth, rescale_array(intensity / pixels, lower=np.min(x), upper=np.max(x)), label='integrated intensity')\n",
    "ax.legend()\n",
    "\n",
    "plt.show()"
   ]
  },
  {
   "cell_type": "code",
   "execution_count": null,
   "metadata": {},
   "outputs": [],
   "source": []
  },
  {
   "cell_type": "code",
   "execution_count": 104,
   "metadata": {},
   "outputs": [],
   "source": [
    "thickness = 0.6\n",
    "corrected_tth = test.tth + (thickness * np.sin(np.radians(test.tth)))\n",
    "rad = np.radians(corrected_tth / 2)\n",
    "intensity = np.sum(test.map.composite_image * (np.sin(rad) * np.sin(2 * rad)), axis=0)\n",
    "intensity = np.sum(test.map.composite_image, axis=0)\n",
    "pixels = np.sum((test.map.composite_image != 0), axis=0)\n",
    "phase_vals = phase_selector(intensity / pixels, list(test.phases.values()), corrected_tth)\n",
    "test.map.images = rescale_array(test.map.images, lower=0, upper=100) # Remove negative values. They break spot stats"
   ]
  },
  {
   "cell_type": "code",
   "execution_count": 170,
   "metadata": {},
   "outputs": [],
   "source": [
    "bkg_noise = estimate_map_noise(test)"
   ]
  },
  {
   "cell_type": "code",
   "execution_count": 171,
   "metadata": {},
   "outputs": [],
   "source": [
    "i = np.random.randint(test.map.map_shape[0])\n",
    "j = np.random.randint(test.map.map_shape[1])\n",
    "\n",
    "out = spot_search(test.map.images[i, j], bkg_noise, multiplier=10, sigma=3, plotme=True)"
   ]
  },
  {
   "cell_type": "code",
   "execution_count": 288,
   "metadata": {},
   "outputs": [],
   "source": [
    "test.map.plot_image(test.map.images[i, j] * out[1])"
   ]
  },
  {
   "cell_type": "code",
   "execution_count": 175,
   "metadata": {},
   "outputs": [],
   "source": [
    "fig, ax = plt.subplots(1, 1, figsize=(5, 5), dpi=200)\n",
    "\n",
    "bins = 1000\n",
    "key = 'guess_stdy'\n",
    "#ax.hist(stat_dict[key], bins=bins, density=True)\n",
    "ax.hist(stat_dict[key], bins=bins, weights=stat_dict['guess_int'], density=True)\n",
    "\n",
    "plt.show()"
   ]
  },
  {
   "cell_type": "code",
   "execution_count": 133,
   "metadata": {},
   "outputs": [],
   "source": [
    "fig, ax = plt.subplots(1, 1, figsize=(5, 5), dpi=200)\n",
    "\n",
    "image = test.map.composite_image\n",
    "\n",
    "tth = test.tth\n",
    "intensity = np.sum(test.map.composite_image, axis=0)\n",
    "pixels = np.sum(test.map.calibration_mask, axis=0)\n",
    "\n",
    "x, bins, _ = ax.hist(stat_dict['guess_cenx'], bins=2000, weights=stat_dict['guess_height'], label='spot center', density=True)\n",
    "ax.plot(tth, rescale_array(intensity / pixels, lower=np.min(x), upper=np.max(x)), label='integrated intensity')\n",
    "ax.legend()\n",
    "\n",
    "plt.show()"
   ]
  },
  {
   "cell_type": "code",
   "execution_count": 139,
   "metadata": {},
   "outputs": [],
   "source": [
    "stat_df = pd.DataFrame.from_dict(stat_dict)"
   ]
  },
  {
   "cell_type": "code",
   "execution_count": 162,
   "metadata": {},
   "outputs": [],
   "source": [
    "plot_map = np.zeros(test.map.map_shape)\n",
    "\n",
    "for pixel_index in range(test.map.num_images):\n",
    "    indices = np.unravel_index(pixel_index, test.map.map_shape)\n",
    "    pixel_df = stat_df.loc[(stat_df['map_x'] == indices[0]) & (stat_df['map_y'] == indices[1])]\n",
    "\n",
    "    val = np.mean(pixel_df['guess_int'])\n",
    "\n",
    "    plot_map[indices] = val"
   ]
  },
  {
   "cell_type": "code",
   "execution_count": 163,
   "metadata": {},
   "outputs": [],
   "source": [
    "fig, ax = plt.subplots(1, 1, figsize=(5, 5), dpi=200)\n",
    "\n",
    "im = ax.imshow(np.array(plot_map).reshape(test.map.images.shape[:2]))\n",
    "fig.colorbar(im, ax=ax)\n",
    "ax.set_title('Total Reflection Intensity')\n",
    "\n",
    "plt.show()"
   ]
  },
  {
   "cell_type": "code",
   "execution_count": 43,
   "metadata": {},
   "outputs": [],
   "source": [
    "[test.phases[phase].get_hkl_reflections() for phase in test.phases];"
   ]
  },
  {
   "cell_type": "code",
   "execution_count": null,
   "metadata": {},
   "outputs": [],
   "source": []
  },
  {
   "cell_type": "code",
   "execution_count": 38,
   "metadata": {},
   "outputs": [],
   "source": [
    "new_out = [np.asarray(x) for x in stat_list]\n",
    "\n",
    "pot_tth = np.concatenate([test.phases[key].reflections['tth'] for key in test.phases])\n",
    "pot_hkl = np.concatenate([test.phases[key].reflections['hkl'] for key in test.phases])\n",
    "pot_phase = np.concatenate([[key,] * len(test.phases[key].reflections['tth']) for key in test.phases])\n",
    "\n",
    "plot_value = []\n",
    "search_distance = 0.5 # in degrees\n",
    "phase = 'Iron-austenite'\n",
    "\n",
    "for spots in new_out:\n",
    "    if len(spots.shape) > 1:\n",
    "        #val = np.sum(spots[:, 5])\n",
    "        min_arr = np.array([np.abs(x - pot_tth) for x in spots[:, 5]])\n",
    "        min_arr[min_arr > search_distance] = np.nan\n",
    "        min_index = [np.nanargmin(x) if np.any(~np.isnan(x)) else None for x in min_arr]\n",
    "        \n",
    "        val = 0\n",
    "        for spot_idx, index in enumerate(min_index):\n",
    "            if index is None:\n",
    "                continue\n",
    "            else:\n",
    "                #raise Exception\n",
    "                if pot_phase[index] == phase:\n",
    "                    val += spots[spot_idx, -1]\n",
    "        \n",
    "    else:\n",
    "        val = 0\n",
    "    \n",
    "    plot_value.append(val)"
   ]
  },
  {
   "cell_type": "code",
   "execution_count": 39,
   "metadata": {},
   "outputs": [],
   "source": [
    "fig, ax = plt.subplots(1, 1, figsize=(5, 5), dpi=200)\n",
    "\n",
    "im = ax.imshow(np.array(plot_value).reshape(test.map.images.shape[:2]))\n",
    "fig.colorbar(im, ax=ax)\n",
    "ax.set_title(f'{phase} Total Intensity')\n",
    "\n",
    "plt.show()"
   ]
  },
  {
   "cell_type": "code",
   "execution_count": null,
   "metadata": {},
   "outputs": [],
   "source": []
  },
  {
   "cell_type": "code",
   "execution_count": null,
   "metadata": {},
   "outputs": [],
   "source": []
  },
  {
   "cell_type": "code",
   "execution_count": null,
   "metadata": {},
   "outputs": [],
   "source": []
  },
  {
   "cell_type": "code",
   "execution_count": null,
   "metadata": {},
   "outputs": [],
   "source": []
  },
  {
   "cell_type": "code",
   "execution_count": null,
   "metadata": {},
   "outputs": [],
   "source": []
  },
  {
   "cell_type": "code",
   "execution_count": null,
   "metadata": {},
   "outputs": [],
   "source": []
  },
  {
   "cell_type": "code",
   "execution_count": 292,
   "metadata": {},
   "outputs": [],
   "source": [
    "selected_images = np.median(np.copy(test.map.images[::5, ::5]), axis=(0, 1)) # Randomize for less that certain number of images...\n",
    "bkg_noise = np.std(selected_images[selected_images != 0])\n",
    "\n",
    "i = np.random.randint(test.map.images.shape[0])\n",
    "j = np.random.randint(test.map.images.shape[1])\n",
    "#i, j = 0, 1\n",
    "image = test.map.images[i, j]\n",
    "\n",
    "spot_dict = find_spots(image, bkg_noise,\n",
    "                               multiplier=10, sigma=3,\n",
    "                               tth=test.tth, chi=test.chi, plotme=True)\n",
    "print(len(spot_dict['guess_height']))"
   ]
  },
  {
   "cell_type": "code",
   "execution_count": null,
   "metadata": {},
   "outputs": [],
   "source": [
    "def dask_find_spots(pixel):\n",
    "    spot_dict, mask = find_spots(pixel, bkg_noise,\n",
    "                               multiplier=10, sigma=3,\n",
    "                               tth=test.tth, chi=test.chi)\n",
    "    return spot_dict, mask\n",
    "\n",
    "iterable = test.map.images.reshape(test.map.num_images, len(test.chi), len(test.tth))\n",
    "spot_dict_lst = parallel_loop(dask_find_spots, iterable)"
   ]
  },
  {
   "cell_type": "code",
   "execution_count": 284,
   "metadata": {},
   "outputs": [],
   "source": [
    "iterable = test.map.images.reshape(test.map.num_images, len(test.chi), len(test.tth))\n",
    "\n",
    "spot_dict_lst = []\n",
    "mask_lst = []\n",
    "for pixel in iterable:\n",
    "    spot_dict, mask = find_spots(pixel, bkg_noise,\n",
    "                               multiplier=10, sigma=3,\n",
    "                               tth=test.tth, chi=test.chi)\n",
    "    spot_dict_lst.append(spot_dict)\n",
    "    mask_lst.append(mask)"
   ]
  },
  {
   "cell_type": "code",
   "execution_count": 22,
   "metadata": {},
   "outputs": [],
   "source": [
    "elements_folder = f'output_tiff_scan2D_{scanid}_xs_sum8ch\\\\'\n",
    "\n",
    "element_maps = {}\n",
    "for element in os.listdir(f'{filedir}{elements_folder}'):\n",
    "    el_im = io.imread(f'{filedir}{elements_folder}{element}')\n",
    "    element_maps[str(element[:-5])] = el_im"
   ]
  },
  {
   "cell_type": "code",
   "execution_count": 23,
   "metadata": {},
   "outputs": [],
   "source": [
    "key = 'detsum_Fe_K'\n",
    "#interactive_dynamic_2d_plot(proc_map, range(121), range(121), img_vmin=10, img_vmax=100, display_map=element_maps['detsum_Pt_L'], map_vmin=1e4, map_vmax=1.1e4)\n",
    "interactive_dynamic_2d_plot(test.map.images, range(test.map.images.shape[0]), range(test.map.images.shape[1]), display_map=element_maps[key], display_title=key)"
   ]
  },
  {
   "cell_type": "code",
   "execution_count": null,
   "metadata": {},
   "outputs": [],
   "source": []
  }
 ],
 "metadata": {
  "kernelspec": {
   "display_name": "Python 3",
   "language": "python",
   "name": "python3"
  },
  "language_info": {
   "codemirror_mode": {
    "name": "ipython",
    "version": 3
   },
   "file_extension": ".py",
   "mimetype": "text/x-python",
   "name": "python",
   "nbconvert_exporter": "python",
   "pygments_lexer": "ipython3",
   "version": "3.11.5"
  }
 },
 "nbformat": 4,
 "nbformat_minor": 2
}
