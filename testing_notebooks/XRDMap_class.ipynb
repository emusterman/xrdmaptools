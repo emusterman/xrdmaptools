{
 "cells": [
  {
   "cell_type": "code",
   "execution_count": 303,
   "metadata": {},
   "outputs": [
    {
     "name": "stderr",
     "output_type": "stream",
     "text": [
      "100%|██████████| 20/20 [00:00<00:00, 83.13it/s]\n"
     ]
    }
   ],
   "source": [
    "import os\n",
    "import matplotlib.pyplot as plt\n",
    "import numpy as np\n",
    "from tqdm import tqdm\n",
    "plt.ioff();\n",
    "try:\n",
    "    maindir\n",
    "except NameError:\n",
    "    maindir = os.path.dirname(os.getcwd())\n",
    "for module in tqdm(os.listdir(maindir + '\\\\testing_modules')):\n",
    "    %run -i \"{maindir}\\\\testing_modules\\\\{module}\"\n",
    "base = os.path.dirname(os.path.dirname(maindir)) + '\\\\'\n",
    "plt.ion();\n",
    "np.set_printoptions(suppress=True)\n",
    "plt.close('All')"
   ]
  },
  {
   "cell_type": "code",
   "execution_count": 2,
   "metadata": {},
   "outputs": [],
   "source": [
    "%matplotlib qt\n",
    "import skimage.io as io\n",
    "import xarray as xr\n",
    "from lmfit import Model\n",
    "from lmfit.models import ConstantModel"
   ]
  },
  {
   "cell_type": "code",
   "execution_count": 3,
   "metadata": {},
   "outputs": [
    {
     "name": "stdout",
     "output_type": "stream",
     "text": [
      "Estimating dark-field with minimum method.\n",
      "Correcting dark-field...done!\n",
      "Estimating flat-field from median values.\n",
      "Correcting flat-field...done!\n",
      "Image corrections complete!\n",
      "Compressing and writing processed images to disk...done!\n"
     ]
    }
   ],
   "source": [
    "#scanid = 149248\n",
    "scanid = 149566\n",
    "filedir = '''D:\\\\Musterman_postdoc\\\\20231109_Musterman\\\\'''\n",
    "#filedir = '''D:\\\\Musterman_postdoc\\\\20231030_Musterman\\\\'''\n",
    "filedir = '''C:\\\\Users\\\\emusterma\\\\OneDrive - Brookhaven National Laboratory\\\\Documents\\\\Postdoc\\\\Data\\\\Condensed Datasets\\\\'''\n",
    "map_filename = f'scan{scanid}_dexela_xrd.tif'\n",
    "\n",
    "test = XRDMap.from_image_stack(map_filename, wd=filedir, energy=15, scanid=scanid)\n",
    "test.map.images[test.map.images < 0] = 0\n",
    "test.map.correct_images()\n",
    "test.set_calibration('scan149562_dexela_calibration.poni')\n",
    "#test.set_calibration('scan149256_dexela_calibration.poni')"
   ]
  },
  {
   "cell_type": "code",
   "execution_count": 4,
   "metadata": {},
   "outputs": [],
   "source": [
    "test.map.plot_image()"
   ]
  },
  {
   "cell_type": "code",
   "execution_count": 491,
   "metadata": {},
   "outputs": [],
   "source": [
    "test.map.plot_image(test.map.composite_image)"
   ]
  },
  {
   "cell_type": "code",
   "execution_count": 103,
   "metadata": {},
   "outputs": [],
   "source": [
    "cif_dir = '''C:\\\\Users\\\\emusterma\\\\OneDrive - Brookhaven National Laboratory\\\\Documents\\\\Postdoc\\\\Literature\\\\CIF\\\\'''\n",
    "test.clear_phases()\n",
    "for filename, phase_name in zip(['AMCSD\\\\Hematite_0017806.cif',\n",
    "                                 'AMCSD\\\\Iron-alpha_0011214.cif',\n",
    "                                 'AMCSD\\\\Iron-beta_0011215.cif',\n",
    "                                 'AMCSD\\\\Iron-delta_0011216.cif',\n",
    "                                 'AMCSD\\\\Iron_0011146.cif',\n",
    "                                 'AMCSD\\\\Cementite_0013523.cif',\n",
    "                                 'AMCSD\\\\Zincite_0011555.cif'],\n",
    "                                ['Hematite', 'Iron-ferrite', 'Iron-beta',\n",
    "                                 'Iron-delta', 'Iron-austenite', 'Cementite',\n",
    "                                 'Zincite']):\n",
    "    \n",
    "    test.load_phase(filename, filedir=cif_dir, phase_name=phase_name)"
   ]
  },
  {
   "cell_type": "code",
   "execution_count": 5,
   "metadata": {},
   "outputs": [
    {
     "name": "stdout",
     "output_type": "stream",
     "text": [
      "XU.materials: Warning: element O used instead of O-2\n",
      "XU.materials: Warning: element Nb used instead of Nb+5\n",
      "XU.materials: Warning: element Li used instead of Li+1\n"
     ]
    }
   ],
   "source": [
    "cif_dir = '''C:\\\\Users\\\\emusterma\\\\OneDrive - Brookhaven National Laboratory\\\\Documents\\\\Postdoc\\\\Literature\\\\CIF\\\\'''\n",
    "test.clear_phases()\n",
    "test.load_phase('Barker\\\\1521772COD.cif', filedir=cif_dir, phase_name=\"LiNbO3 161\")\n",
    "test.load_phase('Barker\\\\LiNbO3.cif', filedir=cif_dir, phase_name=\"LiNbO3 148\")\n",
    "test.load_phase('AMCSD\\\\Platinum_0011157.cif', filedir=cif_dir, phase_name=\"Platinum\")\n",
    "test.load_phase('AMCSD\\\\Calcite_0000984.cif', filedir=cif_dir, phase_name=\"Calcite\")\n",
    "test.load_phase('AMCSD\\\\Aluminum_0011136.cif', filedir=cif_dir, phase_name=\"Aluminum\")\n",
    "test.load_phase('AMCSD\\\\Zincite_0011555.cif', filedir=cif_dir, phase_name=\"Zincite\")\n",
    "test.load_phase('AMCSD\\\\Gold_0011140.cif', filedir=cif_dir, phase_name=\"Gold\")\n",
    "test.load_phase('AMCSD\\\\Chromium_0011209.cif', filedir=cif_dir, phase_name=\"Chromium BCC\")\n",
    "test.load_phase('AMCSD\\\\Chromium_0011170.cif', filedir=cif_dir, phase_name=\"Chromium HCP\")\n",
    "test.load_phase('AMCSD\\\\Chromium_0011144.cif', filedir=cif_dir, phase_name=\"Chromium FCC\")"
   ]
  },
  {
   "cell_type": "code",
   "execution_count": 6,
   "metadata": {},
   "outputs": [],
   "source": [
    "test.select_phases(remove_less_than=0.1)"
   ]
  },
  {
   "cell_type": "code",
   "execution_count": 7,
   "metadata": {},
   "outputs": [
    {
     "name": "stdout",
     "output_type": "stream",
     "text": [
      "Composite of processed images not saved. Creating composite.\n",
      "Calibrating images..."
     ]
    },
    {
     "data": {
      "application/vnd.jupyter.widget-view+json": {
       "model_id": "49ec770a4fb547c2a6ffefe754500d85",
       "version_major": 2,
       "version_minor": 0
      },
      "text/plain": [
       "  0%|          | 0/36 [00:00<?, ?it/s]"
      ]
     },
     "metadata": {},
     "output_type": "display_data"
    },
    {
     "name": "stdout",
     "output_type": "stream",
     "text": [
      "done!\n",
      "Compressing and writing calibrated images to disk.\n",
      "This may take awhile...done!\n"
     ]
    }
   ],
   "source": [
    "test.calibrate_images()"
   ]
  },
  {
   "cell_type": "code",
   "execution_count": 111,
   "metadata": {},
   "outputs": [],
   "source": [
    "selected_images = np.median(test.map.images[::5, ::5], axis=(0, 1)) # Randomize for less that certain number of images...\n",
    "bkg_noise = np.std(selected_images[selected_images != 0]) \n",
    "def dask_find_blobs(pixel):\n",
    "    thresh = np.median(pixel[pixel != 0]) + 3 * bkg_noise\n",
    "    blob_df = find_blobs(pixel, thresh=thresh, sigma=3, blob_expansion=5,\n",
    "                     tth=test.tth, chi=test.chi, plotme=False, find_contours=False,\n",
    "                     min_blob_significance=10 * bkg_noise / test.tth_resolution / test.chi_resolution)\n",
    "    return blob_df"
   ]
  },
  {
   "cell_type": "code",
   "execution_count": 112,
   "metadata": {},
   "outputs": [
    {
     "data": {
      "application/vnd.jupyter.widget-view+json": {
       "model_id": "5f5183dd630240fe8883e190838a3af6",
       "version_major": 2,
       "version_minor": 0
      },
      "text/plain": [
       "  0%|          | 0/36 [00:00<?, ?it/s]"
      ]
     },
     "metadata": {},
     "output_type": "display_data"
    },
    {
     "data": {
      "application/vnd.jupyter.widget-view+json": {
       "model_id": "98d5e585e3674c8bb4708cf679f9a4d6",
       "version_major": 2,
       "version_minor": 0
      },
      "text/plain": [
       "  0%|          | 0/36 [00:00<?, ?it/s]"
      ]
     },
     "metadata": {},
     "output_type": "display_data"
    }
   ],
   "source": [
    "iterable = test.map.images.reshape(test.map.num_images, len(test.chi), len(test.tth))\n",
    "blob_df_lst = parallel_loop(dask_find_blobs, iterable)"
   ]
  },
  {
   "cell_type": "code",
   "execution_count": null,
   "metadata": {},
   "outputs": [],
   "source": []
  },
  {
   "cell_type": "code",
   "execution_count": 261,
   "metadata": {},
   "outputs": [
    {
     "name": "stdout",
     "output_type": "stream",
     "text": [
      "58\n"
     ]
    }
   ],
   "source": [
    " # Randomize for less that certain number of images...\n",
    "#i = np.random.randint(test.map.images.shape[0])\n",
    "#j = np.random.randint(test.map.images.shape[1])\n",
    "#i, j = 1, 2\n",
    "\n",
    "selected_images = np.copy(test.map.images[::5, ::5]) # Randomize for less that certain number of images...\n",
    "bkg_noise = np.std(selected_images[selected_images != 0]) \n",
    "\n",
    "#pixel = test.map.images.reshape(test.map.num_images, len(test.chi), len(test.tth))[1]\n",
    "pixel = test.map.images[i, j]\n",
    "#pixel = test.map.images[1, 0]\n",
    "thresh = np.median(pixel[pixel != 0]) + 3 * bkg_noise\n",
    "blob_df = find_blobs(pixel, thresh=thresh, sigma=3, blob_expansion=5,\n",
    "                    tth=test.tth, chi=test.chi, plotme=True, find_contours=True,\n",
    "                    min_blob_significance=10 * bkg_noise / test.tth_resolution / test.chi_resolution)\n",
    "print(len(blob_df))"
   ]
  },
  {
   "cell_type": "code",
   "execution_count": 161,
   "metadata": {},
   "outputs": [
    {
     "data": {
      "text/html": [
       "<div>\n",
       "<style scoped>\n",
       "    .dataframe tbody tr th:only-of-type {\n",
       "        vertical-align: middle;\n",
       "    }\n",
       "\n",
       "    .dataframe tbody tr th {\n",
       "        vertical-align: top;\n",
       "    }\n",
       "\n",
       "    .dataframe thead th {\n",
       "        text-align: right;\n",
       "    }\n",
       "</style>\n",
       "<table border=\"1\" class=\"dataframe\">\n",
       "  <thead>\n",
       "    <tr style=\"text-align: right;\">\n",
       "      <th></th>\n",
       "      <th>intensity</th>\n",
       "      <th>area</th>\n",
       "      <th>significance</th>\n",
       "      <th>values</th>\n",
       "      <th>mask</th>\n",
       "      <th>max_coords</th>\n",
       "      <th>center_of_mass</th>\n",
       "      <th>contour</th>\n",
       "    </tr>\n",
       "  </thead>\n",
       "  <tbody>\n",
       "    <tr>\n",
       "      <th>0</th>\n",
       "      <td>8.639657</td>\n",
       "      <td>1.130270</td>\n",
       "      <td>7.643886</td>\n",
       "      <td>[0.005503828, 0.004137438, 0.0045799427, 0.004...</td>\n",
       "      <td>[[275, 437], [275, 438], [275, 439], [275, 440...</td>\n",
       "      <td>[21.05615091209026, 21.11013842282641]</td>\n",
       "      <td>[21.05012320928043, 21.09861947633619]</td>\n",
       "      <td>[[21.076350700965037, 21.05615091209026, 21.03...</td>\n",
       "    </tr>\n",
       "    <tr>\n",
       "      <th>1</th>\n",
       "      <td>5.236819</td>\n",
       "      <td>0.842342</td>\n",
       "      <td>6.216972</td>\n",
       "      <td>[0.0030591122, 0.0043983376, 0.0048938454, 0.0...</td>\n",
       "      <td>[[796, 1301], [796, 1302], [796, 1303], [796, ...</td>\n",
       "      <td>[38.48856871102365, -5.390368278415558]</td>\n",
       "      <td>[38.477001608371566, -5.065150918472483]</td>\n",
       "      <td>[[38.50876849989844, 38.48856871102365, 38.468...</td>\n",
       "    </tr>\n",
       "    <tr>\n",
       "      <th>2</th>\n",
       "      <td>2.746269</td>\n",
       "      <td>0.486006</td>\n",
       "      <td>5.650688</td>\n",
       "      <td>[0.0045928545, 0.0047189435, 0.004675045, 0.00...</td>\n",
       "      <td>[[815, 652], [815, 653], [815, 654], [815, 655...</td>\n",
       "      <td>[25.338506153543193, -5.84466267900828]</td>\n",
       "      <td>[25.33209991248583, -5.714664025048965]</td>\n",
       "      <td>[[25.35870594241797, 25.338506153543193, 25.31...</td>\n",
       "    </tr>\n",
       "  </tbody>\n",
       "</table>\n",
       "</div>"
      ],
      "text/plain": [
       "   intensity      area  significance  \\\n",
       "0   8.639657  1.130270      7.643886   \n",
       "1   5.236819  0.842342      6.216972   \n",
       "2   2.746269  0.486006      5.650688   \n",
       "\n",
       "                                              values  \\\n",
       "0  [0.005503828, 0.004137438, 0.0045799427, 0.004...   \n",
       "1  [0.0030591122, 0.0043983376, 0.0048938454, 0.0...   \n",
       "2  [0.0045928545, 0.0047189435, 0.004675045, 0.00...   \n",
       "\n",
       "                                                mask  \\\n",
       "0  [[275, 437], [275, 438], [275, 439], [275, 440...   \n",
       "1  [[796, 1301], [796, 1302], [796, 1303], [796, ...   \n",
       "2  [[815, 652], [815, 653], [815, 654], [815, 655...   \n",
       "\n",
       "                                max_coords  \\\n",
       "0   [21.05615091209026, 21.11013842282641]   \n",
       "1  [38.48856871102365, -5.390368278415558]   \n",
       "2  [25.338506153543193, -5.84466267900828]   \n",
       "\n",
       "                             center_of_mass  \\\n",
       "0    [21.05012320928043, 21.09861947633619]   \n",
       "1  [38.477001608371566, -5.065150918472483]   \n",
       "2   [25.33209991248583, -5.714664025048965]   \n",
       "\n",
       "                                             contour  \n",
       "0  [[21.076350700965037, 21.05615091209026, 21.03...  \n",
       "1  [[38.50876849989844, 38.48856871102365, 38.468...  \n",
       "2  [[25.35870594241797, 25.338506153543193, 25.31...  "
      ]
     },
     "execution_count": 161,
     "metadata": {},
     "output_type": "execute_result"
    }
   ],
   "source": [
    "blob_df"
   ]
  },
  {
   "cell_type": "code",
   "execution_count": 8,
   "metadata": {},
   "outputs": [],
   "source": [
    "def spot_search(image, bkg_noise, multiplier=3, sigma=3, plotme=False):\n",
    "    mask_thresh = np.median(image[image != 0]) + multiplier * bkg_noise\n",
    "    thresh_img = gaussian_filter(median_filter(image, size=1), sigma=sigma)\n",
    "    mask = thresh_img > mask_thresh\n",
    "\n",
    "    #spot_img = gaussian_filter(median_filter(pixel, size=1), sigma=5)\n",
    "    spots = peak_local_max(thresh_img,\n",
    "                           threshold_rel=multiplier * bkg_noise,\n",
    "                           min_distance=2, # Just a pinch more spacing\n",
    "                           labels=mask,\n",
    "                           num_peaks_per_label=np.inf)\n",
    "    \n",
    "    if plotme:\n",
    "        fig, ax = plt.subplots(1, 1, figsize=(9, 6), dpi=200)\n",
    "\n",
    "        im = ax.imshow(image, vmin=0, vmax=10 * mask_thresh)\n",
    "        fig.colorbar(im, ax=ax)\n",
    "        ax.scatter(spots[:, 1], spots[:, 0], s=1, c='r')\n",
    "\n",
    "        plt.show()\n",
    "\n",
    "    return spots, mask"
   ]
  },
  {
   "cell_type": "code",
   "execution_count": 98,
   "metadata": {},
   "outputs": [
    {
     "name": "stdout",
     "output_type": "stream",
     "text": [
      "623\n"
     ]
    }
   ],
   "source": [
    "from skimage.measure import label\n",
    "\n",
    "i = np.random.randint(test.map.images.shape[0])\n",
    "j = np.random.randint(test.map.images.shape[1])\n",
    "i, j = 2, 3\n",
    "\n",
    "selected_images = np.median(np.copy(test.map.images), axis=(0, 1)) # Randomize for less that certain number of images...\n",
    "bkg_noise = np.std(selected_images[selected_images != 0])\n",
    "\n",
    "spots, mask = spot_search(test.map.images[i, j], bkg_noise, plotme=True, multiplier=10)\n",
    "blob_img = label(mask)\n",
    "print(len(spots))"
   ]
  },
  {
   "cell_type": "code",
   "execution_count": 99,
   "metadata": {},
   "outputs": [],
   "source": [
    "image = test.map.images[i, j]\n",
    "\n",
    "x_coords, y_coords = np.meshgrid(test.tth, test.chi[::-1])"
   ]
  },
  {
   "cell_type": "code",
   "execution_count": 100,
   "metadata": {},
   "outputs": [
    {
     "name": "stdout",
     "output_type": "stream",
     "text": [
      "623\n",
      "624\n"
     ]
    }
   ],
   "source": [
    "from skimage.segmentation import watershed\n",
    "from scipy import ndimage as ndi\n",
    "\n",
    "# Now we want to separate the two objects in image\n",
    "# Generate the markers as local maxima of the distance to the background\n",
    "distance = ndi.distance_transform_edt([blob_img != 0][0])\n",
    "coords = peak_local_max(distance, footprint=np.ones((3, 3)),\n",
    "                        labels=[blob_img != 0][0], num_peaks_per_label=np.inf,\n",
    "                        threshold_rel=0.5)\n",
    "coords = spots\n",
    "print(len(coords))\n",
    "mask = np.zeros(distance.shape, dtype=bool)\n",
    "mask[tuple(coords.T)] = True\n",
    "markers, _ = ndi.label(mask)\n",
    "labels = watershed(-distance, markers, mask=[blob_img != 0][0])\n",
    "\n",
    "fig, axes = plt.subplots(ncols=3, figsize=(9, 3), sharex=True, sharey=True)\n",
    "ax = axes.ravel()\n",
    "\n",
    "ax[0].imshow([blob_img != 0][0], cmap=plt.cm.gray)\n",
    "ax[0].set_title('Overlapping objects')\n",
    "ax[1].imshow(-distance, cmap=plt.cm.gray)\n",
    "ax[1].set_title('Distances')\n",
    "ax[2].imshow(labels, cmap=plt.cm.nipy_spectral)\n",
    "ax[2].set_title('Separated objects')\n",
    "ax[2].scatter(spots[:, 1], spots[:, 0], s=1, c='r')\n",
    "\n",
    "for a in ax:\n",
    "    a.set_axis_off()\n",
    "\n",
    "fig.tight_layout()\n",
    "plt.show()\n",
    "\n",
    "print(len(np.unique(labels)))"
   ]
  },
  {
   "cell_type": "code",
   "execution_count": 101,
   "metadata": {},
   "outputs": [],
   "source": [
    "def label_nearest_spots(spots, max_dist=25, max_neighbors=np.inf):\n",
    "    # Redo to account for different distance values. Currently using pixel differences\n",
    "    from sklearn.metrics.pairwise import euclidean_distances\n",
    "    dist = euclidean_distances(spots)\n",
    "\n",
    "    spot_indices = list(range(len(spots)))\n",
    "\n",
    "    # Ignore distances greater than bounds\n",
    "    # Ignore same pairs\n",
    "    dist[dist > max_dist] = np.nan\n",
    "    #dist[dist == 0] = np.nan\n",
    "\n",
    "    # Create dataset\n",
    "    data = np.empty((len(spots), 3))\n",
    "    data[:] = np.nan\n",
    "    data[:, :-1] = spots\n",
    "\n",
    "    labels=[0]\n",
    "    for i in spot_indices:\n",
    "        # This seems unecessary...\n",
    "        connections = dist[i] < max_dist\n",
    "\n",
    "        # Useful for connectivity. Not useful for current implementation\n",
    "        if sum(connections) > max_neighbors:\n",
    "            connections = dist[i] <= sorted(dist[i][connections])[max_neighbors - 1]\n",
    "        \n",
    "        # Find lowest label is group of connected points\n",
    "        if np.all(np.isnan(data[connections][:, -1])):\n",
    "            data[connections, -1] = labels[-1]\n",
    "            #for index, con in enumerate(connections):\n",
    "            #    if con:\n",
    "            #        data[index, -1] = labels[-1]\n",
    "            labels.append(labels[-1] + 1)\n",
    "            #print('New label added')\n",
    "        else:\n",
    "            base_label = np.nanmin(data[connections][:, -1])\n",
    "            data[connections, -1] = base_label\n",
    "            #for index, con in enumerate(connections):\n",
    "            #    if con:\n",
    "            #        data[index, -1] = base_label\n",
    "            #print('Connecting to other label')\n",
    "        \n",
    "        # Relabel previous labels if connected with others...\n",
    "        extra_labels = np.unique(data[connections][:, -1])\n",
    "        if np.any(extra_labels != labels[-1]):\n",
    "            for extra in extra_labels:\n",
    "                if extra != labels[-1]:\n",
    "                    data[data[:, -1] == extra][-1] = labels[-1]\n",
    "\n",
    "    data = data.astype(np.int32)\n",
    "    labels = np.array(labels).astype(np.int32)\n",
    "    # labels is not perfectly sequential. Why???\n",
    "    return data"
   ]
  },
  {
   "cell_type": "code",
   "execution_count": 304,
   "metadata": {},
   "outputs": [
    {
     "name": "stdout",
     "output_type": "stream",
     "text": [
      "399\n"
     ]
    }
   ],
   "source": [
    "data = label_nearest_spots(spots, max_dist=20, max_neighbors=np.inf)\n",
    "print(len(np.unique(data[:, -1])))\n",
    "\n",
    "new_spots = []\n",
    "\n",
    "for label in np.unique(data[:, -1]):\n",
    "    if label in data[:, -1]:\n",
    "        new_spot = np.mean(data[data[:, -1] == label][:, :-1], axis=0)\n",
    "        new_spot = np.round(new_spot, 0).astype(np.int32)\n",
    "        new_spots.append(new_spot)\n",
    "\n",
    "new_spots = np.asarray(new_spots)"
   ]
  },
  {
   "cell_type": "code",
   "execution_count": 305,
   "metadata": {},
   "outputs": [
    {
     "name": "stdout",
     "output_type": "stream",
     "text": [
      "399\n",
      "346\n"
     ]
    }
   ],
   "source": [
    "from skimage.segmentation import watershed\n",
    "from scipy import ndimage as ndi\n",
    "\n",
    "# Now we want to separate the two objects in image\n",
    "# Generate the markers as local maxima of the distance to the background\n",
    "distance = ndi.distance_transform_edt([blob_img != 0][0])\n",
    "coords = peak_local_max(distance, footprint=np.ones((3, 3)),\n",
    "                        labels=[blob_img != 0][0], num_peaks_per_label=np.inf,\n",
    "                        threshold_rel=0.5)\n",
    "coords = np.asarray(new_spots)\n",
    "print(len(coords))\n",
    "mask = np.zeros(distance.shape, dtype=bool)\n",
    "mask[tuple(coords.T)] = True\n",
    "markers, _ = ndi.label(mask)\n",
    "labels = watershed(-distance, markers, mask=[blob_img != 0][0])\n",
    "# I don't like this, but it fixes some labeling issues\n",
    "labels = median_filter(labels, size=3)\n",
    "\n",
    "fig, axes = plt.subplots(ncols=3, figsize=(9, 3), sharex=True, sharey=True)\n",
    "ax = axes.ravel()\n",
    "\n",
    "ax[0].imshow([blob_img != 0][0], cmap=plt.cm.gray)\n",
    "ax[0].set_title('Overlapping objects')\n",
    "ax[1].imshow(-distance, cmap=plt.cm.gray)\n",
    "ax[1].set_title('Distances')\n",
    "ax[2].imshow(labels, cmap=plt.cm.nipy_spectral)\n",
    "ax[2].set_title('Separated objects')\n",
    "ax[2].scatter(spots[:, 1], spots[:, 0], s=1, c='r')\n",
    "#ax[2].scatter(new_spots[:, 1], new_spots[:, 0], s=1, c='r')\n",
    "\n",
    "for a in ax:\n",
    "    a.set_axis_off()\n",
    "\n",
    "fig.tight_layout()\n",
    "plt.show()\n",
    "\n",
    "print(len(np.unique(labels)))"
   ]
  },
  {
   "cell_type": "code",
   "execution_count": 306,
   "metadata": {},
   "outputs": [],
   "source": [
    "for spot in spots:\n",
    "    if labels[*spot] == 0:\n",
    "        labels[blob_img == blob_img[*spot]] = (np.max(labels) + 1)\n",
    "    \n",
    "blob_img = labels"
   ]
  },
  {
   "cell_type": "code",
   "execution_count": 326,
   "metadata": {},
   "outputs": [
    {
     "name": "stdout",
     "output_type": "stream",
     "text": [
      "Fitting 1 spots within blob 1...done!\n",
      "Fitting R²: 0.8993\n",
      "No spots in blob 2. Proceeding to next blob.\n",
      "Fitting 1 spots within blob 3...done!\n",
      "Fitting R²: 0.8921\n",
      "Fitting 1 spots within blob 4...done!\n",
      "Fitting R²: 0.8454\n",
      "Fitting 3 spots within blob 5...done!\n",
      "Fitting R²: 0.9581\n",
      "Fitting 1 spots within blob 6...done!\n",
      "Fitting R²: 0.9585\n",
      "Fitting 3 spots within blob 7...done!\n",
      "Fitting R²: 0.8877\n",
      "Fitting 1 spots within blob 8...done!\n",
      "Fitting R²: 0.7921\n",
      "Fitting 1 spots within blob 9...done!\n",
      "Fitting R²: 0.9671\n",
      "Fitting 3 spots within blob 11...done!\n",
      "Fitting R²: 0.7805\n",
      "No spots in blob 12. Proceeding to next blob.\n",
      "No spots in blob 13. Proceeding to next blob.\n",
      "Fitting 1 spots within blob 14...done!\n",
      "Fitting R²: 0.9448\n",
      "No spots in blob 15. Proceeding to next blob.\n",
      "Fitting 2 spots within blob 16...done!\n",
      "Fitting R²: 0.9197\n",
      "Fitting 5 spots within blob 17...done!\n",
      "Fitting R²: 0.8028\n",
      "Fitting 2 spots within blob 19...done!\n",
      "Fitting R²: 0.8297\n",
      "Fitting 2 spots within blob 20...done!\n",
      "Fitting R²: 0.8920\n",
      "Fitting 1 spots within blob 21...done!\n",
      "Fitting R²: 0.8658\n",
      "Fitting 1 spots within blob 22...done!\n",
      "Fitting R²: 0.9279\n",
      "No spots in blob 23. Proceeding to next blob.\n",
      "Fitting 3 spots within blob 24...done!\n",
      "Fitting R²: 0.9051\n",
      "Fitting 2 spots within blob 26...done!\n",
      "Fitting R²: 0.9062\n",
      "No spots in blob 27. Proceeding to next blob.\n",
      "No spots in blob 28. Proceeding to next blob.\n",
      "Fitting 1 spots within blob 29...done!\n",
      "Fitting R²: 0.9498\n",
      "Fitting 2 spots within blob 30...done!\n",
      "Fitting R²: 0.7531\n",
      "Fitting 1 spots within blob 31...done!\n",
      "Fitting R²: 0.8764\n",
      "Fitting 6 spots within blob 32...done!\n",
      "Fitting R²: 0.8912\n",
      "Fitting 1 spots within blob 33...done!\n",
      "Fitting R²: 0.9332\n",
      "Fitting 1 spots within blob 34...done!\n",
      "Fitting R²: 0.9244\n",
      "No spots in blob 35. Proceeding to next blob.\n",
      "Fitting 1 spots within blob 36...done!\n",
      "Fitting R²: 0.8484\n",
      "Fitting 1 spots within blob 38...done!\n",
      "Fitting R²: 0.7985\n",
      "Fitting 1 spots within blob 39...done!\n",
      "Fitting R²: 0.7694\n",
      "Fitting 1 spots within blob 40...done!\n",
      "Fitting R²: 0.8864\n",
      "Fitting 3 spots within blob 41...done!\n",
      "Fitting R²: 0.9047\n",
      "Fitting 1 spots within blob 42...done!\n",
      "Fitting R²: 0.8954\n",
      "No spots in blob 43. Proceeding to next blob.\n",
      "Fitting 1 spots within blob 44...done!\n",
      "Fitting R²: 0.8029\n",
      "Fitting 3 spots within blob 45...done!\n",
      "Fitting R²: 0.8429\n",
      "Fitting 1 spots within blob 46...done!\n",
      "Fitting R²: 0.6445\n",
      "No spots in blob 47. Proceeding to next blob.\n",
      "Fitting 2 spots within blob 48...done!\n",
      "Fitting R²: 0.8761\n",
      "Fitting 1 spots within blob 49...done!\n",
      "Fitting R²: 0.8437\n",
      "No spots in blob 50. Proceeding to next blob.\n",
      "Fitting 2 spots within blob 52...done!\n",
      "Fitting R²: 0.9271\n",
      "Fitting 1 spots within blob 53...done!\n",
      "Fitting R²: 0.8908\n",
      "Fitting 1 spots within blob 54...done!\n",
      "Fitting R²: 0.7764\n",
      "No spots in blob 55. Proceeding to next blob.\n",
      "Fitting 1 spots within blob 56...done!\n",
      "Fitting R²: 0.5457\n",
      "Fitting 1 spots within blob 57...done!\n",
      "Fitting R²: 0.7546\n",
      "No spots in blob 58. Proceeding to next blob.\n",
      "Fitting 1 spots within blob 59...done!\n",
      "Fitting R²: 0.7124\n",
      "No spots in blob 60. Proceeding to next blob.\n",
      "Fitting 1 spots within blob 61...done!\n",
      "Fitting R²: 0.8035\n",
      "Fitting 1 spots within blob 62...done!\n",
      "Fitting R²: 0.8996\n",
      "No spots in blob 63. Proceeding to next blob.\n",
      "Fitting 1 spots within blob 64...done!\n",
      "Fitting R²: 0.8123\n",
      "Fitting 4 spots within blob 65...done!\n",
      "Fitting R²: 0.9433\n",
      "Fitting 3 spots within blob 66...done!\n",
      "Fitting R²: 0.9347\n",
      "Fitting 5 spots within blob 67...done!\n",
      "Fitting R²: 0.9497\n",
      "No spots in blob 68. Proceeding to next blob.\n",
      "Fitting 4 spots within blob 69...done!\n",
      "Fitting R²: 0.8597\n",
      "Fitting 1 spots within blob 71...done!\n",
      "Fitting R²: 0.9025\n",
      "Fitting 1 spots within blob 72...done!\n",
      "Fitting R²: 0.8416\n",
      "No spots in blob 73. Proceeding to next blob.\n",
      "Fitting 2 spots within blob 74...done!\n",
      "Fitting R²: 0.4517\n",
      "Fitting 1 spots within blob 75...done!\n",
      "Fitting R²: 0.9645\n",
      "Fitting 1 spots within blob 76...done!\n",
      "Fitting R²: 0.9537\n",
      "Fitting 8 spots within blob 77...done!\n",
      "Fitting R²: 0.9173\n",
      "Fitting 3 spots within blob 79...done!\n",
      "Fitting R²: 0.8642\n",
      "Fitting 7 spots within blob 80...done!\n",
      "Fitting R²: 0.9305\n",
      "Fitting 1 spots within blob 81...done!\n",
      "Fitting R²: 0.8141\n",
      "Fitting 2 spots within blob 82...done!\n",
      "Fitting R²: 0.7934\n",
      "Fitting 1 spots within blob 83...done!\n",
      "Fitting R²: 0.6375\n",
      "Fitting 7 spots within blob 84...done!\n",
      "Fitting R²: 0.7898\n",
      "Fitting 2 spots within blob 85...done!\n",
      "Fitting R²: 0.6101\n",
      "Fitting 1 spots within blob 87...done!\n",
      "Fitting R²: 0.9326\n",
      "Fitting 5 spots within blob 89...done!\n",
      "Fitting R²: 0.8659\n",
      "Fitting 1 spots within blob 90...done!\n",
      "Fitting R²: 0.9352\n",
      "No spots in blob 91. Proceeding to next blob.\n",
      "Fitting 1 spots within blob 92...done!\n",
      "Fitting R²: 0.8186\n",
      "Fitting 1 spots within blob 93...done!\n",
      "Fitting R²: 0.7719\n",
      "Fitting 3 spots within blob 94...done!\n",
      "Fitting R²: 0.6628\n",
      "Fitting 1 spots within blob 95...done!\n",
      "Fitting R²: 0.9335\n",
      "Fitting 1 spots within blob 96...done!\n",
      "Fitting R²: 0.8390\n",
      "Fitting 1 spots within blob 97...done!\n",
      "Fitting R²: 0.6936\n",
      "No spots in blob 98. Proceeding to next blob.\n",
      "Fitting 3 spots within blob 99...done!\n",
      "Fitting R²: 0.9481\n",
      "Fitting 2 spots within blob 100...done!\n",
      "Fitting R²: 0.3036\n",
      "No spots in blob 101. Proceeding to next blob.\n",
      "Fitting 4 spots within blob 102...done!\n",
      "Fitting R²: 0.9388\n",
      "Fitting 1 spots within blob 103...done!\n",
      "Fitting R²: 0.7892\n",
      "Fitting 2 spots within blob 104...done!\n",
      "Fitting R²: 0.8571\n",
      "Fitting 3 spots within blob 105...done!\n",
      "Fitting R²: 0.9465\n",
      "Fitting 1 spots within blob 106...done!\n",
      "Fitting R²: 0.9060\n",
      "Fitting 4 spots within blob 107...done!\n",
      "Fitting R²: 0.8817\n",
      "Fitting 4 spots within blob 108...done!\n",
      "Fitting R²: 0.5551\n",
      "Fitting 1 spots within blob 109...done!\n",
      "Fitting R²: 0.8277\n",
      "Fitting 1 spots within blob 110...done!\n",
      "Fitting R²: 0.8910\n",
      "Fitting 2 spots within blob 111...done!\n",
      "Fitting R²: 0.6783\n",
      "No spots in blob 112. Proceeding to next blob.\n",
      "Fitting 1 spots within blob 113...done!\n",
      "Fitting R²: 0.7429\n",
      "Fitting 4 spots within blob 114...done!\n",
      "Fitting R²: 0.9120\n",
      "Fitting 3 spots within blob 115...done!\n",
      "Fitting R²: 0.7862\n",
      "Fitting 1 spots within blob 116...done!\n",
      "Fitting R²: 0.6131\n",
      "Fitting 6 spots within blob 117...done!\n",
      "Fitting R²: 0.9187\n",
      "No spots in blob 118. Proceeding to next blob.\n",
      "Fitting 1 spots within blob 120...done!\n",
      "Fitting R²: 0.7973\n",
      "Fitting 1 spots within blob 122...done!\n",
      "Fitting R²: 0.9279\n",
      "Fitting 1 spots within blob 123...done!\n",
      "Fitting R²: 0.9132\n",
      "Fitting 2 spots within blob 124...done!\n",
      "Fitting R²: 0.7869\n",
      "Fitting 1 spots within blob 127...done!\n",
      "Fitting R²: 0.9365\n",
      "Fitting 3 spots within blob 129...done!\n",
      "Fitting R²: 0.8840\n",
      "Fitting 1 spots within blob 130...done!\n",
      "Fitting R²: 0.9327\n",
      "Fitting 1 spots within blob 131...done!\n",
      "Fitting R²: 0.6370\n",
      "Fitting 1 spots within blob 134...done!\n",
      "Fitting R²: 0.8179\n",
      "Fitting 2 spots within blob 135...done!\n",
      "Fitting R²: 0.9616\n",
      "Fitting 1 spots within blob 136...done!\n",
      "Fitting R²: 0.7366\n",
      "No spots in blob 137. Proceeding to next blob.\n",
      "Fitting 1 spots within blob 138...done!\n",
      "Fitting R²: 0.7864\n",
      "Fitting 2 spots within blob 139...done!\n",
      "Fitting R²: 0.8299\n",
      "Fitting 1 spots within blob 140...done!\n",
      "Fitting R²: 0.7955\n",
      "No spots in blob 141. Proceeding to next blob.\n",
      "No spots in blob 142. Proceeding to next blob.\n",
      "Fitting 2 spots within blob 143...done!\n",
      "Fitting R²: 0.8169\n",
      "Fitting 2 spots within blob 144...done!\n",
      "Fitting R²: 0.6197\n",
      "Fitting 1 spots within blob 145...done!\n",
      "Fitting R²: 0.9327\n",
      "No spots in blob 146. Proceeding to next blob.\n",
      "Fitting 4 spots within blob 147...done!\n",
      "Fitting R²: 0.8593\n",
      "Fitting 4 spots within blob 149...done!\n",
      "Fitting R²: 0.6196\n",
      "Fitting 1 spots within blob 150...done!\n",
      "Fitting R²: 0.7937\n",
      "Fitting 2 spots within blob 151...done!\n",
      "Fitting R²: 0.8312\n",
      "No spots in blob 152. Proceeding to next blob.\n",
      "Fitting 1 spots within blob 153...done!\n",
      "Fitting R²: 0.7947\n",
      "Fitting 1 spots within blob 154...done!\n",
      "Fitting R²: 0.9219\n",
      "Fitting 1 spots within blob 156...done!\n",
      "Fitting R²: 0.8411\n",
      "Fitting 4 spots within blob 157...done!\n",
      "Fitting R²: 0.8682\n",
      "Fitting 3 spots within blob 158...done!\n",
      "Fitting R²: 0.8641\n",
      "Fitting 3 spots within blob 160...done!\n",
      "Fitting R²: 0.9173\n",
      "Fitting 1 spots within blob 161...done!\n",
      "Fitting R²: 0.9159\n",
      "Fitting 1 spots within blob 163...done!\n",
      "Fitting R²: 0.9419\n",
      "Fitting 2 spots within blob 164...done!\n",
      "Fitting R²: 0.4987\n",
      "Fitting 5 spots within blob 165...done!\n",
      "Fitting R²: 0.9082\n",
      "Fitting 2 spots within blob 166...done!\n",
      "Fitting R²: 0.7695\n",
      "Fitting 3 spots within blob 167...done!\n",
      "Fitting R²: 0.8988\n",
      "Fitting 7 spots within blob 168...done!\n",
      "Fitting R²: 0.8742\n",
      "Fitting 1 spots within blob 169...done!\n",
      "Fitting R²: 0.8874\n",
      "Fitting 1 spots within blob 170...done!\n",
      "Fitting R²: 0.8781\n",
      "Fitting 3 spots within blob 171...done!\n",
      "Fitting R²: 0.8551\n",
      "Fitting 1 spots within blob 172...done!\n",
      "Fitting R²: 0.8482\n",
      "Fitting 1 spots within blob 173...done!\n",
      "Fitting R²: 0.8731\n",
      "Fitting 1 spots within blob 174...done!\n",
      "Fitting R²: 0.4767\n",
      "Fitting 1 spots within blob 175...done!\n",
      "Fitting R²: 0.9086\n",
      "Fitting 2 spots within blob 176...done!\n",
      "Fitting R²: 0.9255\n",
      "Fitting 1 spots within blob 178...done!\n",
      "Fitting R²: 0.6493\n",
      "Fitting 1 spots within blob 179...done!\n",
      "Fitting R²: 0.7345\n",
      "Fitting 2 spots within blob 180...done!\n",
      "Fitting R²: 0.8575\n",
      "Fitting 1 spots within blob 181...done!\n",
      "Fitting R²: 0.8903\n",
      "Fitting 1 spots within blob 182...done!\n",
      "Fitting R²: 0.8728\n",
      "Fitting 1 spots within blob 183...done!\n",
      "Fitting R²: 0.8239\n",
      "Fitting 18 spots within blob 184...done!\n",
      "Fitting R²: 0.8480\n",
      "Fitting 1 spots within blob 185...done!\n",
      "Fitting R²: 0.6921\n",
      "Fitting 2 spots within blob 187...done!\n",
      "Fitting R²: 0.9429\n",
      "Fitting 2 spots within blob 189...done!\n",
      "Fitting R²: 0.9122\n",
      "Fitting 1 spots within blob 190...done!\n",
      "Fitting R²: 0.7538\n",
      "No spots in blob 191. Proceeding to next blob.\n",
      "Fitting 1 spots within blob 192...done!\n",
      "Fitting R²: 0.8356\n",
      "Fitting 1 spots within blob 193...done!\n",
      "Fitting R²: 0.2373\n",
      "Fitting 2 spots within blob 194...done!\n",
      "Fitting R²: 0.8663\n",
      "Fitting 1 spots within blob 195...done!\n",
      "Fitting R²: 0.8170\n",
      "Fitting 2 spots within blob 196...done!\n",
      "Fitting R²: 0.9037\n",
      "Fitting 2 spots within blob 197...done!\n",
      "Fitting R²: 0.7941\n",
      "Fitting 1 spots within blob 198...done!\n",
      "Fitting R²: 0.9050\n",
      "Fitting 2 spots within blob 199...done!\n",
      "Fitting R²: 0.8658\n",
      "Fitting 1 spots within blob 201...done!\n",
      "Fitting R²: 0.9450\n",
      "Fitting 1 spots within blob 202...done!\n",
      "Fitting R²: 0.8732\n",
      "Fitting 4 spots within blob 203...done!\n",
      "Fitting R²: 0.7969\n",
      "Fitting 1 spots within blob 204...done!\n",
      "Fitting R²: 0.8099\n",
      "Fitting 1 spots within blob 205...done!\n",
      "Fitting R²: 0.8349\n",
      "No spots in blob 206. Proceeding to next blob.\n",
      "Fitting 5 spots within blob 207...done!\n",
      "Fitting R²: 0.6223\n",
      "Fitting 2 spots within blob 208...done!\n",
      "Fitting R²: 0.4080\n",
      "Fitting 1 spots within blob 210...done!\n",
      "Fitting R²: 0.8990\n",
      "No spots in blob 211. Proceeding to next blob.\n",
      "Fitting 1 spots within blob 212...done!\n",
      "Fitting R²: 0.5558\n",
      "Fitting 2 spots within blob 213...done!\n",
      "Fitting R²: 0.9505\n",
      "Fitting 1 spots within blob 215...done!\n",
      "Fitting R²: 0.7358\n",
      "Fitting 1 spots within blob 216...done!\n",
      "Fitting R²: 0.8680\n",
      "Fitting 2 spots within blob 217...done!\n",
      "Fitting R²: 0.8100\n",
      "Fitting 1 spots within blob 218...done!\n",
      "Fitting R²: 0.9030\n",
      "Fitting 3 spots within blob 219...done!\n",
      "Fitting R²: 0.8631\n",
      "Fitting 1 spots within blob 220...done!\n",
      "Fitting R²: 0.8386\n",
      "Fitting 1 spots within blob 221...done!\n",
      "Fitting R²: 0.9045\n",
      "Fitting 3 spots within blob 222...done!\n",
      "Fitting R²: 0.8901\n",
      "Fitting 3 spots within blob 223...done!\n",
      "Fitting R²: 0.8856\n",
      "No spots in blob 224. Proceeding to next blob.\n",
      "Fitting 6 spots within blob 225...done!\n",
      "Fitting R²: 0.7448\n",
      "Fitting 1 spots within blob 226...done!\n",
      "Fitting R²: 0.8626\n",
      "Fitting 1 spots within blob 228...done!\n",
      "Fitting R²: 0.9072\n",
      "Fitting 1 spots within blob 229...done!\n",
      "Fitting R²: 0.9360\n",
      "No spots in blob 230. Proceeding to next blob.\n",
      "Fitting 2 spots within blob 234...done!\n",
      "Fitting R²: 0.8911\n",
      "Fitting 1 spots within blob 235...done!\n",
      "Fitting R²: 0.8212\n",
      "Fitting 3 spots within blob 236...done!\n",
      "Fitting R²: 0.8940\n",
      "No spots in blob 237. Proceeding to next blob.\n",
      "No spots in blob 238. Proceeding to next blob.\n",
      "Fitting 5 spots within blob 239...done!\n",
      "Fitting R²: 0.8078\n",
      "Fitting 1 spots within blob 240...done!\n",
      "Fitting R²: 0.7607\n",
      "Fitting 3 spots within blob 241...done!\n",
      "Fitting R²: 0.7796\n",
      "Fitting 3 spots within blob 242...done!\n",
      "Fitting R²: 0.8495\n",
      "Fitting 5 spots within blob 243...done!\n",
      "Fitting R²: 0.5999\n",
      "Fitting 2 spots within blob 244...done!\n",
      "Fitting R²: 0.8200\n",
      "Fitting 4 spots within blob 245...done!\n",
      "Fitting R²: 0.7978\n",
      "Fitting 3 spots within blob 247...done!\n",
      "Fitting R²: 0.8435\n",
      "Fitting 3 spots within blob 248...done!\n",
      "Fitting R²: 0.8515\n",
      "No spots in blob 249. Proceeding to next blob.\n",
      "Fitting 1 spots within blob 250...done!\n",
      "Fitting R²: 0.8908\n",
      "Fitting 1 spots within blob 251...done!\n",
      "Fitting R²: 0.9419\n",
      "Fitting 5 spots within blob 253...done!\n",
      "Fitting R²: 0.8961\n",
      "Fitting 3 spots within blob 254...done!\n",
      "Fitting R²: 0.8866\n",
      "No spots in blob 255. Proceeding to next blob.\n",
      "Fitting 1 spots within blob 256...done!\n",
      "Fitting R²: 0.8807\n",
      "No spots in blob 257. Proceeding to next blob.\n",
      "Fitting 1 spots within blob 258...done!\n",
      "Fitting R²: 0.8624\n",
      "No spots in blob 259. Proceeding to next blob.\n",
      "No spots in blob 260. Proceeding to next blob.\n",
      "Fitting 1 spots within blob 261...done!\n",
      "Fitting R²: 0.7077\n",
      "Fitting 1 spots within blob 262...done!\n",
      "Fitting R²: 0.8276\n",
      "Fitting 6 spots within blob 263...done!\n",
      "Fitting R²: 0.8937\n",
      "Fitting 21 spots within blob 264...done!\n",
      "Fitting R²: 0.8609\n",
      "No spots in blob 266. Proceeding to next blob.\n",
      "Fitting 5 spots within blob 267...done!\n",
      "Fitting R²: 0.9300\n",
      "No spots in blob 268. Proceeding to next blob.\n",
      "Fitting 1 spots within blob 269...done!\n",
      "Fitting R²: 0.8822\n",
      "Fitting 1 spots within blob 270...done!\n",
      "Fitting R²: 0.8512\n",
      "Fitting 4 spots within blob 271...done!\n",
      "Fitting R²: 0.8632\n",
      "Fitting 2 spots within blob 272...done!\n",
      "Fitting R²: 0.9145\n",
      "Fitting 2 spots within blob 273...done!\n",
      "Fitting R²: 0.8532\n",
      "Fitting 1 spots within blob 274...done!\n",
      "Fitting R²: 0.8142\n",
      "Fitting 1 spots within blob 275...done!\n",
      "Fitting R²: 0.7413\n",
      "Fitting 1 spots within blob 276...done!\n",
      "Fitting R²: 0.8914\n",
      "Fitting 2 spots within blob 277...done!\n",
      "Fitting R²: 0.9197\n",
      "Fitting 1 spots within blob 278...done!\n",
      "Fitting R²: 0.9418\n",
      "Fitting 1 spots within blob 281...done!\n",
      "Fitting R²: 0.9284\n",
      "Fitting 1 spots within blob 282...done!\n",
      "Fitting R²: 0.4588\n",
      "Fitting 2 spots within blob 283...done!\n",
      "Fitting R²: 0.8652\n",
      "Fitting 3 spots within blob 285...done!\n",
      "Fitting R²: 0.6704\n",
      "Fitting 9 spots within blob 286...done!\n",
      "Fitting R²: 0.8442\n",
      "Fitting 1 spots within blob 287...done!\n",
      "Fitting R²: 0.0979\n",
      "Fitting 1 spots within blob 288...done!\n",
      "Fitting R²: 0.9544\n",
      "Fitting 1 spots within blob 289...done!\n",
      "Fitting R²: 0.9453\n",
      "Fitting 1 spots within blob 291...done!\n",
      "Fitting R²: 0.6939\n",
      "Fitting 1 spots within blob 292...done!\n",
      "Fitting R²: 0.3986\n",
      "Fitting 4 spots within blob 294...done!\n",
      "Fitting R²: 0.8677\n",
      "Fitting 5 spots within blob 295...done!\n",
      "Fitting R²: 0.9120\n",
      "Fitting 1 spots within blob 296...done!\n",
      "Fitting R²: 0.7065\n",
      "Fitting 3 spots within blob 297...done!\n",
      "Fitting R²: 0.9459\n",
      "No spots in blob 298. Proceeding to next blob.\n",
      "Fitting 11 spots within blob 299...done!\n",
      "Fitting R²: 0.7437\n",
      "Fitting 1 spots within blob 301...done!\n",
      "Fitting R²: 0.8150\n",
      "Fitting 2 spots within blob 302...done!\n",
      "Fitting R²: 0.8962\n",
      "Fitting 1 spots within blob 303...done!\n",
      "Fitting R²: 0.9134\n",
      "Fitting 4 spots within blob 305...done!\n",
      "Fitting R²: 0.3905\n",
      "Fitting 1 spots within blob 306...done!\n",
      "Fitting R²: 0.9286\n",
      "Fitting 1 spots within blob 307...done!\n",
      "Fitting R²: 0.8338\n",
      "Fitting 1 spots within blob 308...done!\n",
      "Fitting R²: 0.8499\n",
      "Fitting 3 spots within blob 309...done!\n",
      "Fitting R²: 0.5593\n",
      "Fitting 2 spots within blob 311...done!\n",
      "Fitting R²: 0.9043\n",
      "Fitting 2 spots within blob 312...done!\n",
      "Fitting R²: 0.8960\n",
      "Fitting 1 spots within blob 313...done!\n",
      "Fitting R²: 0.9181\n",
      "Fitting 1 spots within blob 314...done!\n",
      "Fitting R²: 0.3835\n",
      "Fitting 1 spots within blob 316...done!\n",
      "Fitting R²: 0.8321\n",
      "Fitting 1 spots within blob 317...done!\n",
      "Fitting R²: 0.9415\n",
      "Fitting 1 spots within blob 318...done!\n",
      "Fitting R²: 0.9218\n",
      "Fitting 1 spots within blob 320...done!\n",
      "Fitting R²: 0.9316\n",
      "Fitting 1 spots within blob 321...done!\n",
      "Fitting R²: 0.9495\n",
      "Fitting 1 spots within blob 323...done!\n",
      "Fitting R²: 0.9340\n",
      "Fitting 1 spots within blob 325...done!\n",
      "Fitting R²: 0.6670\n",
      "Fitting 1 spots within blob 326...done!\n",
      "Fitting R²: 0.7463\n",
      "Fitting 1 spots within blob 328...done!\n",
      "Fitting R²: 0.6970\n",
      "Fitting 2 spots within blob 330...done!\n",
      "Fitting R²: 0.9133\n",
      "Fitting 1 spots within blob 331...done!\n",
      "Fitting R²: 0.9227\n",
      "Fitting 1 spots within blob 332...done!\n",
      "Fitting R²: 0.5097\n",
      "Fitting 4 spots within blob 333...done!\n",
      "Fitting R²: 0.8588\n",
      "Fitting 2 spots within blob 334...done!\n",
      "Fitting R²: 0.6858\n",
      "Fitting 2 spots within blob 335...done!\n",
      "Fitting R²: 0.8310\n",
      "Fitting 1 spots within blob 336...done!\n",
      "Fitting R²: 0.8869\n",
      "Fitting 1 spots within blob 337...done!\n",
      "Fitting R²: 0.8272\n",
      "Fitting 5 spots within blob 338...done!\n",
      "Fitting R²: 0.8975\n",
      "Fitting 2 spots within blob 339...done!\n",
      "Fitting R²: 0.9004\n",
      "Fitting 1 spots within blob 340...done!\n",
      "Fitting R²: 0.8626\n",
      "Fitting 2 spots within blob 341...done!\n",
      "Fitting R²: 0.9557\n",
      "Fitting 1 spots within blob 342...done!\n",
      "Fitting R²: 0.8722\n",
      "No spots in blob 345. Proceeding to next blob.\n",
      "No spots in blob 346. Proceeding to next blob.\n",
      "Fitting 1 spots within blob 348...done!\n",
      "Fitting R²: 0.8782\n",
      "Fitting 2 spots within blob 349...done!\n",
      "Fitting R²: 0.8840\n",
      "Fitting 1 spots within blob 350...done!\n",
      "Fitting R²: 0.4074\n",
      "Fitting 1 spots within blob 351...done!\n",
      "Fitting R²: 0.8755\n",
      "Fitting 1 spots within blob 353...done!\n",
      "Fitting R²: 0.4722\n",
      "Fitting 2 spots within blob 354...done!\n",
      "Fitting R²: 0.6110\n",
      "Fitting 2 spots within blob 355...done!\n",
      "Fitting R²: 0.9082\n",
      "Fitting 1 spots within blob 356...done!\n",
      "Fitting R²: 0.9595\n",
      "Fitting 2 spots within blob 357...done!\n",
      "Fitting R²: 0.9340\n",
      "Fitting 2 spots within blob 358...done!\n",
      "Fitting R²: 0.9381\n",
      "Fitting 2 spots within blob 359...done!\n",
      "Fitting R²: 0.4248\n",
      "Fitting 1 spots within blob 360...done!\n",
      "Fitting R²: 0.9100\n",
      "Fitting 1 spots within blob 361...done!\n",
      "Fitting R²: 0.9475\n",
      "Fitting 1 spots within blob 362...done!\n",
      "Fitting R²: 0.8403\n",
      "Fitting 1 spots within blob 363...done!\n",
      "Fitting R²: 0.8868\n",
      "No spots in blob 364. Proceeding to next blob.\n",
      "Fitting 2 spots within blob 365...done!\n",
      "Fitting R²: 0.8866\n",
      "Fitting 1 spots within blob 366...done!\n",
      "Fitting R²: 0.9680\n",
      "Fitting 1 spots within blob 367...done!\n",
      "Fitting R²: 0.8632\n",
      "Fitting 3 spots within blob 368...done!\n",
      "Fitting R²: 0.9042\n",
      "Fitting 2 spots within blob 369...done!\n",
      "Fitting R²: 0.8719\n",
      "Fitting 1 spots within blob 370...done!\n",
      "Fitting R²: 0.8592\n",
      "Fitting 1 spots within blob 372...done!\n",
      "Fitting R²: 0.7593\n",
      "Fitting 2 spots within blob 373...done!\n",
      "Fitting R²: 0.8539\n",
      "Fitting 2 spots within blob 374...done!\n",
      "Fitting R²: 0.9516\n",
      "Fitting 4 spots within blob 375...done!\n",
      "Fitting R²: 0.9042\n",
      "Fitting 1 spots within blob 376...done!\n",
      "Fitting R²: 0.6416\n",
      "Fitting 1 spots within blob 377...done!\n",
      "Fitting R²: 0.8049\n",
      "Fitting 1 spots within blob 379...done!\n",
      "Fitting R²: 0.8843\n",
      "Fitting 1 spots within blob 380...done!\n",
      "Fitting R²: 0.8675\n",
      "Fitting 1 spots within blob 381...done!\n",
      "Fitting R²: 0.8376\n",
      "Fitting 1 spots within blob 382...done!\n",
      "Fitting R²: 0.7685\n",
      "Fitting 2 spots within blob 383...done!\n",
      "Fitting R²: 0.9207\n",
      "Fitting 1 spots within blob 384...done!\n",
      "Fitting R²: 0.8686\n",
      "Fitting 2 spots within blob 385...done!\n",
      "Fitting R²: 0.9374\n",
      "Fitting 1 spots within blob 386...done!\n",
      "Fitting R²: 0.7552\n",
      "No spots in blob 387. Proceeding to next blob.\n",
      "Fitting 1 spots within blob 388...done!\n",
      "Fitting R²: 0.9230\n",
      "Fitting 1 spots within blob 389...done!\n",
      "Fitting R²: 0.8018\n",
      "Fitting 1 spots within blob 390...done!\n",
      "Fitting R²: 0.9373\n",
      "Fitting 3 spots within blob 391...done!\n",
      "Fitting R²: 0.8226\n",
      "Fitting 1 spots within blob 392...done!\n",
      "Fitting R²: 0.8656\n",
      "Fitting 3 spots within blob 393...done!\n",
      "Fitting R²: 0.8601\n",
      "Fitting 1 spots within blob 394...done!\n",
      "Fitting R²: 0.5656\n",
      "Fitting 2 spots within blob 396...done!\n",
      "Fitting R²: 0.9668\n",
      "Fitting 1 spots within blob 397...done!\n",
      "Fitting R²: 0.9200\n",
      "Fitting 2 spots within blob 398...done!\n",
      "Fitting R²: 0.8709\n",
      "Fitting 2 spots within blob 399...done!\n",
      "Fitting R²: 0.9350\n",
      "Fitting 2 spots within blob 400...done!\n",
      "Fitting R²: 0.7370\n",
      "Fitting 1 spots within blob 401...done!\n",
      "Fitting R²: 0.6954\n",
      "Fitting 1 spots within blob 402...done!\n",
      "Fitting R²: 0.1470\n",
      "Fitting 1 spots within blob 403...done!\n",
      "Fitting R²: 0.7630\n",
      "Fitting 1 spots within blob 404...done!\n",
      "Fitting R²: 0.6838\n",
      "More unknowns than pixels in blob 405!\n",
      "Proceeding to next blob.\n",
      "Done!\n"
     ]
    }
   ],
   "source": [
    "PeakModel = GaussianFunctions()\n",
    "\n",
    "# Add watershed to further separate blobs...\n",
    "spot_labels = np.array([blob_img[*spot] for spot in spots])\n",
    "full_popt = []\n",
    "full_residual = 0\n",
    "\n",
    "for blob in np.unique(blob_img):\n",
    "    if blob == 0:\n",
    "        continue\n",
    "\n",
    "    num_spots = len(spots[spot_labels == blob])\n",
    "    if num_spots == 0:\n",
    "        print(f'No spots in blob {blob}. Proceeding to next blob.')\n",
    "        continue\n",
    "\n",
    "    bkg_mask = [blob_img != 0][0]\n",
    "    blob_mask = [blob_img[bkg_mask] == blob][0]\n",
    "    blob_size = np.sum(blob_mask)\n",
    "\n",
    "    if blob_size / (6 * num_spots) <= 1:\n",
    "        print(f'More unknowns than pixels in blob {blob}!')\n",
    "        print('Proceeding to next blob.')\n",
    "        continue\n",
    "\n",
    "\n",
    "    print(f'Fitting {len(spots[spot_labels == blob])} spots within blob {blob}...', end='', flush=True)\n",
    "\n",
    "    blob_int = image[bkg_mask][blob_mask]\n",
    "    blob_x = x_coords[bkg_mask][blob_mask]\n",
    "    blob_y = y_coords[bkg_mask][blob_mask]\n",
    "\n",
    "    p0 = [np.median(image)]\n",
    "    for i, spot in enumerate(spots[spot_labels == blob]):\n",
    "        p0.append(image[*spot]) # amp\n",
    "        p0.append(x_coords[*spot]) # x0\n",
    "        p0.append(y_coords[*spot]) # y0\n",
    "        p0.append(0.05) # sigma_x\n",
    "        p0.append(0.1) # sigma_y\n",
    "        p0.append(0) # theta\n",
    "\n",
    "    bounds = generate_bounds(p0[1:], PeakModel.func_2d, tth_step=None, chi_step=None)\n",
    "    bounds[0].insert(0, np.min(image))\n",
    "    bounds[1].insert(0, np.max(image))\n",
    "\n",
    "    popt, pcov = curve_fit(PeakModel.multi_2d, [blob_x, blob_y], blob_int, p0=p0, bounds=bounds)\n",
    "    r_squared = compute_r_squared(blob_int, PeakModel.multi_2d([blob_x, blob_y], *popt))\n",
    "    residual = blob_int - PeakModel.multi_2d([blob_x, blob_y], *popt)\n",
    "    print('done!')\n",
    "    print(f'Fitting R²: {r_squared:.4f}')\n",
    "\n",
    "\n",
    "    full_popt.extend(popt[1:])\n",
    "    full_residual += np.sum(residual**2)\n",
    "full_popt = np.asarray(full_popt)\n",
    "print('Done!')"
   ]
  },
  {
   "cell_type": "code",
   "execution_count": 327,
   "metadata": {},
   "outputs": [],
   "source": [
    "new_popt = full_popt.reshape(len(full_popt) // 6, 6)\n",
    "trimmed_popt = new_popt[new_popt[:, 0] > np.median(image[image != 0]) + 10 * bkg_noise].flatten()\n",
    "fit_popt = list(trimmed_popt)\n",
    "fit_popt.insert(0, np.median(image[image != 0]))"
   ]
  },
  {
   "cell_type": "code",
   "execution_count": 328,
   "metadata": {},
   "outputs": [],
   "source": [
    "fit_img = PeakModel.multi_2d([x_coords.ravel(), y_coords.ravel()], *fit_popt)"
   ]
  },
  {
   "cell_type": "code",
   "execution_count": 329,
   "metadata": {},
   "outputs": [],
   "source": [
    "test.map.plot_image(fit_img.reshape(test.calibrated_shape))\n",
    "#test.map.plot_image(image)"
   ]
  },
  {
   "cell_type": "code",
   "execution_count": 401,
   "metadata": {},
   "outputs": [
    {
     "data": {
      "text/plain": [
       "0.00612754375535511"
      ]
     },
     "execution_count": 401,
     "metadata": {},
     "output_type": "execute_result"
    }
   ],
   "source": [
    "popt[0]"
   ]
  },
  {
   "cell_type": "code",
   "execution_count": 330,
   "metadata": {},
   "outputs": [],
   "source": [
    "bkg_mask = (blob_img != 0)"
   ]
  },
  {
   "cell_type": "code",
   "execution_count": 331,
   "metadata": {},
   "outputs": [],
   "source": [
    "residual = image[bkg_mask] - fit_img.reshape(test.calibrated_shape)[bkg_mask]"
   ]
  },
  {
   "cell_type": "code",
   "execution_count": 332,
   "metadata": {},
   "outputs": [
    {
     "data": {
      "text/plain": [
       "391.09165751429344"
      ]
     },
     "execution_count": 332,
     "metadata": {},
     "output_type": "execute_result"
    }
   ],
   "source": [
    "np.sum(residual ** 2)"
   ]
  },
  {
   "cell_type": "code",
   "execution_count": 389,
   "metadata": {},
   "outputs": [
    {
     "data": {
      "text/plain": [
       "(591,)"
      ]
     },
     "execution_count": 389,
     "metadata": {},
     "output_type": "execute_result"
    }
   ],
   "source": [
    "np.ones(591).shape"
   ]
  },
  {
   "cell_type": "code",
   "execution_count": 396,
   "metadata": {},
   "outputs": [
    {
     "data": {
      "text/plain": [
       "(591, 1)"
      ]
     },
     "execution_count": 396,
     "metadata": {},
     "output_type": "execute_result"
    }
   ],
   "source": [
    "(offsets.reshape(*offsets.shape, 1)).shape"
   ]
  },
  {
   "cell_type": "code",
   "execution_count": 399,
   "metadata": {},
   "outputs": [
    {
     "data": {
      "text/plain": [
       "[1, 1, 1, 1, 1, 1, 1, 1, 1, 1]"
      ]
     },
     "execution_count": 399,
     "metadata": {},
     "output_type": "execute_result"
    }
   ],
   "source": [
    "[1,] * 10"
   ]
  },
  {
   "cell_type": "code",
   "execution_count": 380,
   "metadata": {},
   "outputs": [
    {
     "data": {
      "text/plain": [
       "(591, 6)"
      ]
     },
     "execution_count": 380,
     "metadata": {},
     "output_type": "execute_result"
    }
   ],
   "source": [
    "spot_popt.shape"
   ]
  },
  {
   "cell_type": "code",
   "execution_count": 359,
   "metadata": {},
   "outputs": [],
   "source": [
    "df_labels = ['fit_amp', 'fit_tth', 'fit_chi', 'fit_sigma_x', 'fit_sigma_y', 'fit_theta']\n",
    "spot_popt = np.array(fit_popt[1:]).reshape(len(fit_popt[1:]) // 6, 6)\n",
    "\n",
    "spot_dict = dict(zip(df_labels, spot_popt.T))\n",
    "\n",
    "spot_df = pd.DataFrame.from_dict(spot_dict)"
   ]
  },
  {
   "cell_type": "code",
   "execution_count": 360,
   "metadata": {},
   "outputs": [
    {
     "data": {
      "text/html": [
       "<div>\n",
       "<style scoped>\n",
       "    .dataframe tbody tr th:only-of-type {\n",
       "        vertical-align: middle;\n",
       "    }\n",
       "\n",
       "    .dataframe tbody tr th {\n",
       "        vertical-align: top;\n",
       "    }\n",
       "\n",
       "    .dataframe thead th {\n",
       "        text-align: right;\n",
       "    }\n",
       "</style>\n",
       "<table border=\"1\" class=\"dataframe\">\n",
       "  <thead>\n",
       "    <tr style=\"text-align: right;\">\n",
       "      <th></th>\n",
       "      <th>fit_amp</th>\n",
       "      <th>fit_tth</th>\n",
       "      <th>fit_chi</th>\n",
       "      <th>fit_sigma_x</th>\n",
       "      <th>fit_sigma_y</th>\n",
       "      <th>fit_theta</th>\n",
       "    </tr>\n",
       "  </thead>\n",
       "  <tbody>\n",
       "    <tr>\n",
       "      <th>0</th>\n",
       "      <td>0.441586</td>\n",
       "      <td>17.398186</td>\n",
       "      <td>30.757755</td>\n",
       "      <td>0.052457</td>\n",
       "      <td>0.212020</td>\n",
       "      <td>-6.300719</td>\n",
       "    </tr>\n",
       "    <tr>\n",
       "      <th>1</th>\n",
       "      <td>0.068245</td>\n",
       "      <td>18.430066</td>\n",
       "      <td>28.803934</td>\n",
       "      <td>0.040462</td>\n",
       "      <td>0.304032</td>\n",
       "      <td>-2.632409</td>\n",
       "    </tr>\n",
       "    <tr>\n",
       "      <th>2</th>\n",
       "      <td>0.044340</td>\n",
       "      <td>18.406530</td>\n",
       "      <td>27.363748</td>\n",
       "      <td>0.075470</td>\n",
       "      <td>0.530047</td>\n",
       "      <td>1.768484</td>\n",
       "    </tr>\n",
       "    <tr>\n",
       "      <th>3</th>\n",
       "      <td>0.454172</td>\n",
       "      <td>17.371811</td>\n",
       "      <td>27.360101</td>\n",
       "      <td>0.061029</td>\n",
       "      <td>0.404975</td>\n",
       "      <td>-0.756163</td>\n",
       "    </tr>\n",
       "    <tr>\n",
       "      <th>4</th>\n",
       "      <td>0.391349</td>\n",
       "      <td>17.453968</td>\n",
       "      <td>26.404019</td>\n",
       "      <td>0.044833</td>\n",
       "      <td>0.210905</td>\n",
       "      <td>-0.413316</td>\n",
       "    </tr>\n",
       "    <tr>\n",
       "      <th>...</th>\n",
       "      <td>...</td>\n",
       "      <td>...</td>\n",
       "      <td>...</td>\n",
       "      <td>...</td>\n",
       "      <td>...</td>\n",
       "      <td>...</td>\n",
       "    </tr>\n",
       "    <tr>\n",
       "      <th>586</th>\n",
       "      <td>1.036538</td>\n",
       "      <td>17.378448</td>\n",
       "      <td>-30.725098</td>\n",
       "      <td>0.057484</td>\n",
       "      <td>0.359940</td>\n",
       "      <td>0.028049</td>\n",
       "    </tr>\n",
       "    <tr>\n",
       "      <th>587</th>\n",
       "      <td>0.490712</td>\n",
       "      <td>17.385994</td>\n",
       "      <td>-29.716721</td>\n",
       "      <td>0.066582</td>\n",
       "      <td>0.203006</td>\n",
       "      <td>-3.622377</td>\n",
       "    </tr>\n",
       "    <tr>\n",
       "      <th>588</th>\n",
       "      <td>0.013473</td>\n",
       "      <td>20.706028</td>\n",
       "      <td>4.450165</td>\n",
       "      <td>0.041978</td>\n",
       "      <td>0.222307</td>\n",
       "      <td>3.928732</td>\n",
       "    </tr>\n",
       "    <tr>\n",
       "      <th>589</th>\n",
       "      <td>0.019920</td>\n",
       "      <td>20.732220</td>\n",
       "      <td>3.630352</td>\n",
       "      <td>0.034516</td>\n",
       "      <td>0.095130</td>\n",
       "      <td>-13.776512</td>\n",
       "    </tr>\n",
       "    <tr>\n",
       "      <th>590</th>\n",
       "      <td>0.007347</td>\n",
       "      <td>38.603179</td>\n",
       "      <td>14.583178</td>\n",
       "      <td>0.041989</td>\n",
       "      <td>0.048955</td>\n",
       "      <td>44.533448</td>\n",
       "    </tr>\n",
       "  </tbody>\n",
       "</table>\n",
       "<p>591 rows × 6 columns</p>\n",
       "</div>"
      ],
      "text/plain": [
       "      fit_amp    fit_tth    fit_chi  fit_sigma_x  fit_sigma_y  fit_theta\n",
       "0    0.441586  17.398186  30.757755     0.052457     0.212020  -6.300719\n",
       "1    0.068245  18.430066  28.803934     0.040462     0.304032  -2.632409\n",
       "2    0.044340  18.406530  27.363748     0.075470     0.530047   1.768484\n",
       "3    0.454172  17.371811  27.360101     0.061029     0.404975  -0.756163\n",
       "4    0.391349  17.453968  26.404019     0.044833     0.210905  -0.413316\n",
       "..        ...        ...        ...          ...          ...        ...\n",
       "586  1.036538  17.378448 -30.725098     0.057484     0.359940   0.028049\n",
       "587  0.490712  17.385994 -29.716721     0.066582     0.203006  -3.622377\n",
       "588  0.013473  20.706028   4.450165     0.041978     0.222307   3.928732\n",
       "589  0.019920  20.732220   3.630352     0.034516     0.095130 -13.776512\n",
       "590  0.007347  38.603179  14.583178     0.041989     0.048955  44.533448\n",
       "\n",
       "[591 rows x 6 columns]"
      ]
     },
     "execution_count": 360,
     "metadata": {},
     "output_type": "execute_result"
    }
   ],
   "source": [
    "spot_df"
   ]
  },
  {
   "cell_type": "code",
   "execution_count": 368,
   "metadata": {},
   "outputs": [
    {
     "name": "stdout",
     "output_type": "stream",
     "text": [
      "17.398186127287\n"
     ]
    }
   ],
   "source": [
    "for index, spot in spot_df.iterrows():\n",
    "    print(spot['fit_tth'])\n",
    "    break"
   ]
  },
  {
   "cell_type": "code",
   "execution_count": 362,
   "metadata": {},
   "outputs": [
    {
     "data": {
      "text/plain": [
       "array([12.7748426 , 17.68332873, 18.51577704, 21.17046292, 21.35159026,\n",
       "       22.55932754, 25.71200336, 28.26747365, 28.67648414, 29.34097955,\n",
       "       30.37171522, 31.87280658, 32.35925707, 35.80628774, 37.21382834,\n",
       "       37.31890625, 37.53841721, 38.99336444, 39.09762864, 39.80823438,\n",
       "       40.60312027, 41.78118066, 41.9687455 ])"
      ]
     },
     "execution_count": 362,
     "metadata": {},
     "output_type": "execute_result"
    }
   ],
   "source": [
    "test.phases['LiNbO3 161'].reflections['tth']"
   ]
  },
  {
   "cell_type": "code",
   "execution_count": 369,
   "metadata": {},
   "outputs": [
    {
     "data": {
      "text/plain": [
       "array([12.31247529, 15.65239297, 16.71419617, 19.07696091, 20.84954958,\n",
       "       22.76797891, 24.77004242, 24.96244369, 25.4671882 , 29.46215981,\n",
       "       29.86972909, 31.45205614, 31.60676905, 31.78607241, 32.59335273,\n",
       "       33.35903409, 33.79787873, 35.47694933, 35.96105953, 37.1795713 ,\n",
       "       39.09645041, 41.01858787, 41.99202911])"
      ]
     },
     "execution_count": 369,
     "metadata": {},
     "output_type": "execute_result"
    }
   ],
   "source": [
    "test.phases['Calcite'].reflections['tth']"
   ]
  },
  {
   "cell_type": "code",
   "execution_count": null,
   "metadata": {},
   "outputs": [],
   "source": []
  },
  {
   "cell_type": "code",
   "execution_count": 377,
   "metadata": {},
   "outputs": [],
   "source": [
    "def vprint(message):\n",
    "    global _verbose\n",
    "    if _verbose:\n",
    "        print(message)\n",
    "\n",
    "def some_func(verbose=False):\n",
    "    global _verbose\n",
    "    _verbose = verbose\n",
    "\n",
    "    # Do something\n",
    "\n",
    "    vprint('Did something!')\n"
   ]
  },
  {
   "cell_type": "code",
   "execution_count": 379,
   "metadata": {},
   "outputs": [],
   "source": [
    "some_func()"
   ]
  },
  {
   "cell_type": "code",
   "execution_count": null,
   "metadata": {},
   "outputs": [],
   "source": []
  },
  {
   "cell_type": "code",
   "execution_count": null,
   "metadata": {},
   "outputs": [],
   "source": []
  },
  {
   "cell_type": "code",
   "execution_count": null,
   "metadata": {},
   "outputs": [],
   "source": []
  },
  {
   "cell_type": "code",
   "execution_count": 161,
   "metadata": {},
   "outputs": [],
   "source": [
    "fig, ax = plt.subplots(1, 1, figsize=(5, 5), dpi=200)\n",
    "\n",
    "ax.plot(blob_int, '.-', label='data')\n",
    "ax.plot(PeakModel.multi_2d([blob_x, blob_y], *p0), '--', label='guess')\n",
    "#ax.plot(PeakModel.multi_2d([blob_x, blob_y], *popt), '-', label='fit')\n",
    "ax.legend()\n",
    "plt.show()"
   ]
  },
  {
   "cell_type": "code",
   "execution_count": 121,
   "metadata": {},
   "outputs": [],
   "source": [
    "fig, ax = plt.subplots(1, 1, figsize=(5, 5), dpi=200)\n",
    "\n",
    "ax.plot(blob_int, '.-', label='data')\n",
    "ax.plot(PeakModel.multi_2d([blob_x, blob_y], *p0), '--', label='guess')\n",
    "ax.plot(PeakModel.multi_2d([blob_x, blob_y], *popt), '-', label='fit')\n",
    "ax.legend()\n",
    "plt.show()"
   ]
  },
  {
   "cell_type": "code",
   "execution_count": null,
   "metadata": {},
   "outputs": [],
   "source": []
  },
  {
   "cell_type": "code",
   "execution_count": null,
   "metadata": {},
   "outputs": [],
   "source": []
  },
  {
   "cell_type": "code",
   "execution_count": 993,
   "metadata": {},
   "outputs": [
    {
     "name": "stdout",
     "output_type": "stream",
     "text": [
      "0.8956584164583816\n"
     ]
    }
   ],
   "source": [
    "'''PeakModel = GaussianFunctions()\n",
    "\n",
    "p0 = [np.median(image)]\n",
    "for i, spot in enumerate(spots):\n",
    "    p0.append(image[*spot]) # amp\n",
    "    p0.append(x_coords[*spot]) # x0\n",
    "    p0.append(y_coords[*spot]) # y0\n",
    "    p0.append(0.05) # sigma_x\n",
    "    p0.append(0.05) # sigma_y\n",
    "    p0.append(0) # theta\n",
    "\n",
    "bounds = generate_bounds(p0[1:], PeakModel.func_2d, tth_step=None, chi_step=None)\n",
    "bounds[0].insert(0, -np.min(image))\n",
    "bounds[1].insert(0, np.max(image))\n",
    "\n",
    "popt, pcov = curve_fit(PeakModel.multi_2d, [fit_x, fit_y], fit_int, p0=p0, bounds=bounds)\n",
    "r_squared = compute_r_squared(fit_int, PeakModel.multi_2d([fit_x, fit_y], *popt))\n",
    "print(r_squared)''';"
   ]
  },
  {
   "cell_type": "code",
   "execution_count": 978,
   "metadata": {},
   "outputs": [
    {
     "data": {
      "text/plain": [
       "array([0.00158355, 0.03818797, 0.00267062, 0.00816959, 0.00102969,\n",
       "       0.00037197, 0.00001403, 0.01724101, 0.00600636, 0.009431  ,\n",
       "       0.00014443, 0.0087252 , 0.01483163, 0.08065351, 0.09964789,\n",
       "       0.00597524, 0.29795512, 0.00000342, 0.0406762 , 0.00065487])"
      ]
     },
     "execution_count": 978,
     "metadata": {},
     "output_type": "execute_result"
    }
   ],
   "source": [
    "full_popt.reshape(len(full_popt) // 6, 6)[:, 0]"
   ]
  },
  {
   "cell_type": "code",
   "execution_count": 910,
   "metadata": {},
   "outputs": [],
   "source": [
    "fig, ax = plt.subplots(1, 1, figsize=(5, 5), dpi=200)\n",
    "\n",
    "ax.plot(fit_int, '.-', label='data')\n",
    "ax.plot(PeakModel.multi_2d([fit_x, fit_y], *p0), '--', label='guess')\n",
    "ax.plot(PeakModel.multi_2d([fit_x, fit_y], *popt), '-', label='fit')\n",
    "ax.legend()\n",
    "plt.show()"
   ]
  },
  {
   "cell_type": "code",
   "execution_count": 924,
   "metadata": {},
   "outputs": [],
   "source": [
    "fit_img = PeakModel.multi_2d([x_coords.ravel(), y_coords.ravel()], *popt)\n",
    "test.map.plot_image(fit_img.reshape(test.calibrated_shape[::-1]))\n",
    "test.map.plot_image(image)"
   ]
  },
  {
   "cell_type": "code",
   "execution_count": 918,
   "metadata": {},
   "outputs": [],
   "source": [
    "new_popt = popt[1:].reshape(len(popt[1:]) // 6, 6)\n",
    "trimmed_popt = new_popt[new_popt[:, 0] > np.median(image[image != 0]) + 3 * bkg_noise]"
   ]
  },
  {
   "cell_type": "code",
   "execution_count": 925,
   "metadata": {},
   "outputs": [],
   "source": [
    "fit_img = PeakModel.multi_2d([x_coords.ravel(), y_coords.ravel()], popt[0], *trimmed_popt.ravel())\n",
    "test.map.plot_image(fit_img.reshape(test.calibrated_shape[::-1]))"
   ]
  },
  {
   "cell_type": "code",
   "execution_count": 979,
   "metadata": {},
   "outputs": [
    {
     "data": {
      "text/plain": [
       "array([0.09287075, 0.09678619, 0.03696277, 0.03050774, 0.01765627,\n",
       "       0.00980462, 0.00583943, 0.00717602, 0.0091646 , 0.00820964,\n",
       "       0.00620072, 0.00364772, 0.00703682, 0.0036708 , 0.00389725,\n",
       "       0.01746228, 0.00269509, 0.00600671, 0.00694821, 0.00357511])"
      ]
     },
     "execution_count": 979,
     "metadata": {},
     "output_type": "execute_result"
    }
   ],
   "source": [
    "new_popt[:, 0]"
   ]
  },
  {
   "cell_type": "code",
   "execution_count": 931,
   "metadata": {},
   "outputs": [],
   "source": [
    "new_p0 = np.asarray(p0[1:]).reshape(len(p0[1:]) // 6, 6)\n",
    "trimmed_p0 = new_p0[new_p0[:, 0] > np.median(image[image != 0]) + 3 * bkg_noise]"
   ]
  },
  {
   "cell_type": "code",
   "execution_count": 933,
   "metadata": {},
   "outputs": [
    {
     "data": {
      "text/plain": [
       "(19, 6)"
      ]
     },
     "execution_count": 933,
     "metadata": {},
     "output_type": "execute_result"
    }
   ],
   "source": [
    "trimmed_p0.shape"
   ]
  },
  {
   "cell_type": "code",
   "execution_count": null,
   "metadata": {},
   "outputs": [],
   "source": []
  },
  {
   "cell_type": "code",
   "execution_count": 854,
   "metadata": {},
   "outputs": [],
   "source": [
    "img_model = None\n",
    "\n",
    "peak_func = GaussianFunctions().func_2d\n",
    "#peak_func = LorentzianFunctions().func_2d\n",
    "\n",
    "def const_bkg_2d(xy, c=0):\n",
    "    return c\n",
    "\n",
    "img_model = Model(const_bkg_2d, prefix='bkg_')\n",
    "img_params = {'bkg_c' : np.median(image)}\n",
    "\n",
    "for index, spot in enumerate(spots):\n",
    "    img_model += Model(peak_func, prefix=f'spot{index}_')\n",
    "\n",
    "    x0_guess = x_coords[*spot]\n",
    "    x0_min = x0_guess - 20 * test.tth_resolution\n",
    "    x0_max = x0_guess + 20 * test.tth_resolution\n",
    "    y0_guess = y_coords[*spot]\n",
    "    y0_min = y0_guess - 20 * test.chi_resolution\n",
    "    y0_max = y0_guess + 20 * test.chi_resolution\n",
    "    \n",
    "    guess_params = {f'spot{index}_amp' : dict(value=image[*spot], min=0, max=100 * np.max(image)),\n",
    "                    f'spot{index}_x0' : dict(value=x0_guess, min=x0_min, max=x0_max),\n",
    "                    f'spot{index}_y0' : dict(value=y0_guess, min=y0_min, max=y0_max),\n",
    "                    f'spot{index}_sigma_x' : dict(value=0.1, min=0, max=5),\n",
    "                    f'spot{index}_sigma_y' : dict(value=0.1, min=0, max=5),\n",
    "                    f'spot{index}_theta' : dict(value=0, min=-np.inf, max=np.inf)\n",
    "                    }\n",
    "    \n",
    "    '''guess_params = {f'spot{index}_amp' : image[*spot],\n",
    "                    f'spot{index}_x0' : x_coords[*spot],\n",
    "                    f'spot{index}_y0' : y_coords[*spot],\n",
    "                    f'spot{index}_sigma_x' : 0.1,\n",
    "                    f'spot{index}_sigma_y' : 0.1,\n",
    "                    f'spot{index}_theta' : 0,\n",
    "                    }'''\n",
    "    \n",
    "    \n",
    "    '''guess_params = {f'spot{index}_amp' : image[*spot],\n",
    "                    f'spot{index}_x0' : x_coords[*spot],\n",
    "                    f'spot{index}_y0' : y_coords[*spot],\n",
    "                    f'spot{index}_gamma_x' : 0.1,\n",
    "                    f'spot{index}_gamma_y' : 0.1,\n",
    "                    f'spot{index}_theta' : 0,\n",
    "                    }'''\n",
    "    \n",
    "    img_params.update(guess_params)\n",
    "params = img_model.make_params(**img_params)"
   ]
  },
  {
   "cell_type": "code",
   "execution_count": 855,
   "metadata": {},
   "outputs": [
    {
     "name": "stdout",
     "output_type": "stream",
     "text": [
      "0.9149137841535736\n",
      "-5.037434774868288e-08\n"
     ]
    }
   ],
   "source": [
    "guess = img_model.eval(params, xy=[fit_x, fit_y])\n",
    "result = img_model.fit(fit_int, params, xy=[fit_x, fit_y])\n",
    "print(result.rsquared)\n",
    "print(np.sum(result.residual))"
   ]
  },
  {
   "cell_type": "code",
   "execution_count": 856,
   "metadata": {},
   "outputs": [],
   "source": [
    "fig, ax = plt.subplots(1, 1, figsize=(5, 5), dpi=200)\n",
    "\n",
    "ax.plot(fit_int, '.-', label='data')\n",
    "ax.plot(guess, '--', label='guess')\n",
    "ax.plot(result.best_fit, '-', label='fit')\n",
    "ax.legend()\n",
    "plt.show()"
   ]
  },
  {
   "cell_type": "code",
   "execution_count": 857,
   "metadata": {},
   "outputs": [],
   "source": [
    "fit_img = img_model.eval(result.params, xy=[x_coords, y_coords])\n",
    "test.map.plot_image(fit_img)"
   ]
  },
  {
   "cell_type": "code",
   "execution_count": 859,
   "metadata": {},
   "outputs": [],
   "source": [
    "test.map.plot_image(image)"
   ]
  },
  {
   "cell_type": "code",
   "execution_count": null,
   "metadata": {},
   "outputs": [],
   "source": []
  },
  {
   "cell_type": "code",
   "execution_count": null,
   "metadata": {},
   "outputs": [],
   "source": []
  },
  {
   "cell_type": "code",
   "execution_count": 54,
   "metadata": {},
   "outputs": [],
   "source": [
    "plot_value = []\n",
    "\n",
    "for blob_df in blob_df_lst:\n",
    "    if False:\n",
    "        val = np.mean(blob_df['significance'])\n",
    "        if type(val) != float:\n",
    "            val = val[0]\n",
    "    if True:\n",
    "        val = np.sum(blob_df['intensity'])\n",
    "\n",
    "    if False:\n",
    "        if len(blob_df) > 0:\n",
    "            #val = np.median(blob_df['max_coords'][0][0])\n",
    "            val = np.median(blob_df['center_of_mass'][0][0])\n",
    "        else:\n",
    "            val = 0\n",
    "    plot_value.append(val)\n",
    "\n",
    "plot_value = np.asarray(plot_value).reshape(*test.map.map_shape)"
   ]
  },
  {
   "cell_type": "code",
   "execution_count": 55,
   "metadata": {},
   "outputs": [],
   "source": [
    "fig, ax = plt.subplots(1, 1, figsize=(5, 5), dpi=200)\n",
    "\n",
    "im = ax.imshow(plot_value)\n",
    "fig.colorbar(im, ax=ax)\n",
    "plt.show()"
   ]
  },
  {
   "cell_type": "code",
   "execution_count": 336,
   "metadata": {},
   "outputs": [
    {
     "data": {
      "text/html": [
       "<div>\n",
       "<style scoped>\n",
       "    .dataframe tbody tr th:only-of-type {\n",
       "        vertical-align: middle;\n",
       "    }\n",
       "\n",
       "    .dataframe tbody tr th {\n",
       "        vertical-align: top;\n",
       "    }\n",
       "\n",
       "    .dataframe thead th {\n",
       "        text-align: right;\n",
       "    }\n",
       "</style>\n",
       "<table border=\"1\" class=\"dataframe\">\n",
       "  <thead>\n",
       "    <tr style=\"text-align: right;\">\n",
       "      <th></th>\n",
       "      <th>intensity</th>\n",
       "      <th>area</th>\n",
       "      <th>significance</th>\n",
       "      <th>value</th>\n",
       "      <th>mask</th>\n",
       "      <th>max_coords</th>\n",
       "      <th>center_of_mass</th>\n",
       "    </tr>\n",
       "  </thead>\n",
       "  <tbody>\n",
       "    <tr>\n",
       "      <th>0</th>\n",
       "      <td>1.985716</td>\n",
       "      <td>[0.16541614385817305]</td>\n",
       "      <td>[12.00436703572288]</td>\n",
       "      <td>[0.009685349, 0.013553033, 0.0125740105, 0.007...</td>\n",
       "      <td>[[921, 274], [921, 275], [921, 276], [921, 277...</td>\n",
       "      <td>[17.710014004511, -10.468320132226474]</td>\n",
       "      <td>[17.659259707747665, -10.606500874298334]</td>\n",
       "    </tr>\n",
       "    <tr>\n",
       "      <th>1</th>\n",
       "      <td>3.648422</td>\n",
       "      <td>[0.30530510502218355]</td>\n",
       "      <td>[11.950085934350302]</td>\n",
       "      <td>[0.0063161175, 0.005329996, 0.011383479, 0.011...</td>\n",
       "      <td>[[896, 272], [896, 273], [896, 274], [896, 275...</td>\n",
       "      <td>[17.629212568346226, -9.458738531036722]</td>\n",
       "      <td>[17.60407915858766, -9.536232307632876]</td>\n",
       "    </tr>\n",
       "    <tr>\n",
       "      <th>2</th>\n",
       "      <td>2.500236</td>\n",
       "      <td>[0.21034398539989904]</td>\n",
       "      <td>[11.886416757096823]</td>\n",
       "      <td>[0.012599019, 0.013407176, 0.012197853, 0.0115...</td>\n",
       "      <td>[[632, 272], [632, 273], [633, 269], [633, 270...</td>\n",
       "      <td>[17.58881185026384, 3.5648641243110646]</td>\n",
       "      <td>[17.57938302585813, 3.8968737640178333]</td>\n",
       "    </tr>\n",
       "    <tr>\n",
       "      <th>3</th>\n",
       "      <td>2.595649</td>\n",
       "      <td>[0.21851268386203104]</td>\n",
       "      <td>[11.878709829049823]</td>\n",
       "      <td>[0.012455584, 0.013387301, 0.011531679, 0.0179...</td>\n",
       "      <td>[[1118, 271], [1118, 272], [1118, 273], [1119,...</td>\n",
       "      <td>[17.508010414099072, -20.26126166376705]</td>\n",
       "      <td>[17.586141508168705, -20.638710265564256]</td>\n",
       "    </tr>\n",
       "    <tr>\n",
       "      <th>4</th>\n",
       "      <td>5.208407</td>\n",
       "      <td>[0.4421308042628946]</td>\n",
       "      <td>[11.780239863369607]</td>\n",
       "      <td>[0.013050501, 0.009287628, 0.011285164, 0.0147...</td>\n",
       "      <td>[[384, 275], [385, 272], [385, 273], [385, 274...</td>\n",
       "      <td>[17.64941292738742, 15.5788851784691]</td>\n",
       "      <td>[17.61589939419721, 15.974939777517726]</td>\n",
       "    </tr>\n",
       "  </tbody>\n",
       "</table>\n",
       "</div>"
      ],
      "text/plain": [
       "   intensity                   area          significance  \\\n",
       "0   1.985716  [0.16541614385817305]   [12.00436703572288]   \n",
       "1   3.648422  [0.30530510502218355]  [11.950085934350302]   \n",
       "2   2.500236  [0.21034398539989904]  [11.886416757096823]   \n",
       "3   2.595649  [0.21851268386203104]  [11.878709829049823]   \n",
       "4   5.208407   [0.4421308042628946]  [11.780239863369607]   \n",
       "\n",
       "                                               value  \\\n",
       "0  [0.009685349, 0.013553033, 0.0125740105, 0.007...   \n",
       "1  [0.0063161175, 0.005329996, 0.011383479, 0.011...   \n",
       "2  [0.012599019, 0.013407176, 0.012197853, 0.0115...   \n",
       "3  [0.012455584, 0.013387301, 0.011531679, 0.0179...   \n",
       "4  [0.013050501, 0.009287628, 0.011285164, 0.0147...   \n",
       "\n",
       "                                                mask  \\\n",
       "0  [[921, 274], [921, 275], [921, 276], [921, 277...   \n",
       "1  [[896, 272], [896, 273], [896, 274], [896, 275...   \n",
       "2  [[632, 272], [632, 273], [633, 269], [633, 270...   \n",
       "3  [[1118, 271], [1118, 272], [1118, 273], [1119,...   \n",
       "4  [[384, 275], [385, 272], [385, 273], [385, 274...   \n",
       "\n",
       "                                 max_coords  \\\n",
       "0    [17.710014004511, -10.468320132226474]   \n",
       "1  [17.629212568346226, -9.458738531036722]   \n",
       "2   [17.58881185026384, 3.5648641243110646]   \n",
       "3  [17.508010414099072, -20.26126166376705]   \n",
       "4     [17.64941292738742, 15.5788851784691]   \n",
       "\n",
       "                              center_of_mass  \n",
       "0  [17.659259707747665, -10.606500874298334]  \n",
       "1    [17.60407915858766, -9.536232307632876]  \n",
       "2    [17.57938302585813, 3.8968737640178333]  \n",
       "3  [17.586141508168705, -20.638710265564256]  \n",
       "4    [17.61589939419721, 15.974939777517726]  "
      ]
     },
     "execution_count": 336,
     "metadata": {},
     "output_type": "execute_result"
    }
   ],
   "source": [
    "blob_df_lst[2781]"
   ]
  },
  {
   "cell_type": "code",
   "execution_count": null,
   "metadata": {},
   "outputs": [],
   "source": []
  },
  {
   "cell_type": "code",
   "execution_count": null,
   "metadata": {},
   "outputs": [],
   "source": []
  },
  {
   "cell_type": "code",
   "execution_count": 405,
   "metadata": {},
   "outputs": [],
   "source": [
    "elements_folder = f'output_tiff_scan2D_{scanid}_xs_sum8ch\\\\'\n",
    "\n",
    "element_maps = {}\n",
    "for element in os.listdir(f'{filedir}{elements_folder}'):\n",
    "    el_im = io.imread(f'{filedir}{elements_folder}{element}')\n",
    "    element_maps[str(element[:-5])] = el_im"
   ]
  },
  {
   "cell_type": "code",
   "execution_count": 406,
   "metadata": {},
   "outputs": [
    {
     "ename": "KeyError",
     "evalue": "'detsum_Au_L'",
     "output_type": "error",
     "traceback": [
      "\u001b[1;31m---------------------------------------------------------------------------\u001b[0m",
      "\u001b[1;31mKeyError\u001b[0m                                  Traceback (most recent call last)",
      "\u001b[1;32mc:\\Users\\emusterma\\OneDrive - Brookhaven National Laboratory\\Documents\\Postdoc\\Repositories\\SRX_sXRD_analysis\\testing_notebooks\\XRDMap_class.ipynb Cell 16\u001b[0m line \u001b[0;36m3\n\u001b[0;32m      <a href='vscode-notebook-cell:/c%3A/Users/emusterma/OneDrive%20-%20Brookhaven%20National%20Laboratory/Documents/Postdoc/Repositories/SRX_sXRD_analysis/testing_notebooks/XRDMap_class.ipynb#X20sZmlsZQ%3D%3D?line=0'>1</a>\u001b[0m key \u001b[39m=\u001b[39m \u001b[39m'\u001b[39m\u001b[39mdetsum_Au_L\u001b[39m\u001b[39m'\u001b[39m\n\u001b[0;32m      <a href='vscode-notebook-cell:/c%3A/Users/emusterma/OneDrive%20-%20Brookhaven%20National%20Laboratory/Documents/Postdoc/Repositories/SRX_sXRD_analysis/testing_notebooks/XRDMap_class.ipynb#X20sZmlsZQ%3D%3D?line=1'>2</a>\u001b[0m \u001b[39m#interactive_dynamic_2d_plot(proc_map, range(121), range(121), img_vmin=10, img_vmax=100, display_map=element_maps['detsum_Pt_L'], map_vmin=1e4, map_vmax=1.1e4)\u001b[39;00m\n\u001b[1;32m----> <a href='vscode-notebook-cell:/c%3A/Users/emusterma/OneDrive%20-%20Brookhaven%20National%20Laboratory/Documents/Postdoc/Repositories/SRX_sXRD_analysis/testing_notebooks/XRDMap_class.ipynb#X20sZmlsZQ%3D%3D?line=2'>3</a>\u001b[0m interactive_dynamic_2d_plot(test\u001b[39m.\u001b[39mmap\u001b[39m.\u001b[39mimages, \u001b[39mrange\u001b[39m(test\u001b[39m.\u001b[39mmap\u001b[39m.\u001b[39mimages\u001b[39m.\u001b[39mshape[\u001b[39m0\u001b[39m]), \u001b[39mrange\u001b[39m(test\u001b[39m.\u001b[39mmap\u001b[39m.\u001b[39mimages\u001b[39m.\u001b[39mshape[\u001b[39m1\u001b[39m]), display_map\u001b[39m=\u001b[39melement_maps[key], display_title\u001b[39m=\u001b[39mkey)\n",
      "\u001b[1;31mKeyError\u001b[0m: 'detsum_Au_L'"
     ]
    }
   ],
   "source": [
    "key = 'detsum_Au_L'\n",
    "#interactive_dynamic_2d_plot(proc_map, range(121), range(121), img_vmin=10, img_vmax=100, display_map=element_maps['detsum_Pt_L'], map_vmin=1e4, map_vmax=1.1e4)\n",
    "interactive_dynamic_2d_plot(test.map.images, range(test.map.images.shape[0]), range(test.map.images.shape[1]), display_map=element_maps[key], display_title=key)"
   ]
  }
 ],
 "metadata": {
  "kernelspec": {
   "display_name": "Python 3",
   "language": "python",
   "name": "python3"
  },
  "language_info": {
   "codemirror_mode": {
    "name": "ipython",
    "version": 3
   },
   "file_extension": ".py",
   "mimetype": "text/x-python",
   "name": "python",
   "nbconvert_exporter": "python",
   "pygments_lexer": "ipython3",
   "version": "3.11.5"
  }
 },
 "nbformat": 4,
 "nbformat_minor": 2
}
