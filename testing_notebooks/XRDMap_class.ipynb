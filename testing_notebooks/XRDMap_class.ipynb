{
 "cells": [
  {
   "cell_type": "code",
   "execution_count": 83,
   "metadata": {},
   "outputs": [
    {
     "name": "stderr",
     "output_type": "stream",
     "text": [
      "100%|██████████| 22/22 [00:00<00:00, 152.47it/s]\n"
     ]
    }
   ],
   "source": [
    "import os\n",
    "import matplotlib.pyplot as plt\n",
    "import numpy as np\n",
    "#from tqdm.auto import tqdm\n",
    "from tqdm import tqdm\n",
    "plt.ioff();\n",
    "try:\n",
    "    maindir\n",
    "except NameError:\n",
    "    maindir = os.path.dirname(os.getcwd())\n",
    "for module in tqdm(os.listdir(maindir + '\\\\testing_modules')):\n",
    "    %run -i \"{maindir}\\\\testing_modules\\\\{module}\"\n",
    "base = os.path.dirname(os.path.dirname(maindir)) + '\\\\'\n",
    "plt.ion();\n",
    "np.set_printoptions(suppress=True)\n",
    "plt.close('All')\n",
    "%matplotlib qt"
   ]
  },
  {
   "cell_type": "code",
   "execution_count": 2,
   "metadata": {},
   "outputs": [],
   "source": [
    "import skimage.io as io\n",
    "import xarray as xr\n",
    "from collections import OrderedDict\n",
    "import dask\n",
    "from tqdm.dask import TqdmCallback\n",
    "from sklearn.metrics.pairwise import euclidean_distances"
   ]
  },
  {
   "cell_type": "code",
   "execution_count": null,
   "metadata": {},
   "outputs": [],
   "source": [
    "scanid = 149248\n",
    "filedir = '''C:\\\\Users\\\\emusterma\\\\OneDrive - Brookhaven National Laboratory\\\\Documents\\\\Postdoc\\\\Data\\\\Condensed Datasets\\\\'''\n",
    "map_filename = f'scan{scanid}_dexela_xrd.tif'\n",
    "h5_filename = f'scan{scanid}_xrd.h5'\n",
    "\n",
    "try:\n",
    "    test = XRDMap.from_h5(h5_filename, wd=filedir)\n",
    "except:\n",
    "    test = XRDMap.from_image_stack(map_filename, wd=filedir, energy=15, scanid=scanid)\n",
    "    test.set_calibration('scan149256_dexela_calibration.poni')"
   ]
  },
  {
   "cell_type": "code",
   "execution_count": 19,
   "metadata": {},
   "outputs": [
    {
     "name": "stdout",
     "output_type": "stream",
     "text": [
      "Loading data from h5 file...\n",
      "Loading images...done!\n"
     ]
    }
   ],
   "source": [
    "scanid = 149235\n",
    "filedir = '''D:\\\\Musterman_postdoc\\\\20231030_Musterman\\\\'''\n",
    "map_filename = f'scan{scanid}_dexela_xrd.tif'\n",
    "h5_filename = f'scan{scanid}_xrd.h5'\n",
    "\n",
    "try:\n",
    "    test = XRDMap.from_h5(h5_filename, wd=filedir)\n",
    "except:\n",
    "    test = XRDMap.from_image_stack(map_filename, wd=filedir, energy=15, scanid=scanid)\n",
    "    test.set_calibration('scan149256_dexela.poni')"
   ]
  },
  {
   "cell_type": "code",
   "execution_count": 84,
   "metadata": {},
   "outputs": [
    {
     "name": "stdout",
     "output_type": "stream",
     "text": [
      "Loading data from h5 file...\n",
      "Loading most recent images (background_corrected)...done!\n",
      "Loading reciprocal positions...done!\n",
      "Loading reflection spots...done!\n",
      "XRD Map loaded!\n"
     ]
    }
   ],
   "source": [
    "scanid = 149566\n",
    "filedir = '''C:\\\\Users\\\\emusterma\\\\OneDrive - Brookhaven National Laboratory\\\\Documents\\\\Postdoc\\\\Data\\\\Condensed Datasets\\\\'''\n",
    "map_filename = f'scan{scanid}_dexela_xrd.tif'\n",
    "h5_filename = f'scan{scanid}_xrd.h5'\n",
    "\n",
    "try:\n",
    "    test = XRDMap.from_h5(h5_filename, wd=filedir)\n",
    "except:\n",
    "    test = XRDMap.from_image_stack(map_filename, wd=filedir, energy=15, scanid=scanid)\n",
    "    test.set_calibration('scan149562_dexela_calibration.poni')"
   ]
  },
  {
   "cell_type": "code",
   "execution_count": 70,
   "metadata": {},
   "outputs": [
    {
     "name": "stdout",
     "output_type": "stream",
     "text": [
      "Correcting dark-field...done!\n",
      "Finding and correcting image outliers..."
     ]
    },
    {
     "name": "stderr",
     "output_type": "stream",
     "text": [
      "  0%|          | 0/36 [00:00<?, ?it/s]"
     ]
    },
    {
     "name": "stderr",
     "output_type": "stream",
     "text": [
      "100%|██████████| 36/36 [00:00<00:00, 61.41it/s]\n"
     ]
    },
    {
     "name": "stdout",
     "output_type": "stream",
     "text": [
      "done!\n",
      "No scaler array given. Approximating with image medians...\n",
      "Normalize image scalers...done!\n"
     ]
    }
   ],
   "source": [
    "dark_dir = '''C:\\\\Users\\\\emusterma\\\\OneDrive - Brookhaven National Laboratory\\\\Documents\\\\Postdoc\\\\Data\\\\Condensed Datasets\\\\'''\n",
    "dark_field = io.imread(f'{dark_dir}dexela_df_avg.tif')\n",
    "scaled_df = dark_field * np.median(test.map.min_image) / np.median(dark_field)\n",
    "test.map.correct_dark_field(dark_field=scaled_df)\n",
    "test.map.correct_outliers()\n",
    "\n",
    "# Much faster for smaller images. Should not matter when this is applied...\n",
    "test.map.normalize_scaler()"
   ]
  },
  {
   "cell_type": "code",
   "execution_count": 17,
   "metadata": {},
   "outputs": [
    {
     "data": {
      "text/plain": [
       "(6, 6, 486, 768)"
      ]
     },
     "execution_count": 17,
     "metadata": {},
     "output_type": "execute_result"
    }
   ],
   "source": [
    "data.shape"
   ]
  },
  {
   "cell_type": "code",
   "execution_count": 22,
   "metadata": {},
   "outputs": [
    {
     "data": {
      "text/plain": [
       "4"
      ]
     },
     "execution_count": 22,
     "metadata": {},
     "output_type": "execute_result"
    }
   ],
   "source": [
    "data.compute().ndim"
   ]
  },
  {
   "cell_type": "code",
   "execution_count": 28,
   "metadata": {},
   "outputs": [],
   "source": [
    "image = data.compute()[0, 0]"
   ]
  },
  {
   "cell_type": "code",
   "execution_count": 30,
   "metadata": {},
   "outputs": [
    {
     "data": {
      "text/plain": [
       "True"
      ]
     },
     "execution_count": 30,
     "metadata": {},
     "output_type": "execute_result"
    }
   ],
   "source": [
    "np.all(image == median_filter(image, size=1))"
   ]
  },
  {
   "cell_type": "code",
   "execution_count": 40,
   "metadata": {},
   "outputs": [
    {
     "data": {
      "text/plain": [
       "[1, 1, 1, 1]"
      ]
     },
     "execution_count": 40,
     "metadata": {},
     "output_type": "execute_result"
    }
   ],
   "source": [
    "([1,]*data.ndim)"
   ]
  },
  {
   "cell_type": "code",
   "execution_count": 85,
   "metadata": {},
   "outputs": [
    {
     "name": "stderr",
     "output_type": "stream",
     "text": [
      "c:\\Users\\emusterma\\AppData\\Local\\Programs\\Python\\Python311\\Lib\\site-packages\\dask\\core.py:127: RuntimeWarning: divide by zero encountered in divide\n",
      "  return func(*(_execute_task(a, cache) for a in args))\n",
      "c:\\Users\\emusterma\\AppData\\Local\\Programs\\Python\\Python311\\Lib\\site-packages\\dask\\core.py:127: RuntimeWarning: invalid value encountered in divide\n",
      "  return func(*(_execute_task(a, cache) for a in args))\n"
     ]
    }
   ],
   "source": [
    "significance = None\n",
    "tolerance = 3\n",
    "size = 2\n",
    "\n",
    "data = test.map.images.copy()\n",
    "\n",
    "size_iter = np.ones(data.ndim, dtype=np.int8)\n",
    "size_iter[-2:] = size, size\n",
    "\n",
    "med_image = median_filter(data, size=size_iter)\n",
    "\n",
    "ratio_image = np.abs(data / med_image)\n",
    "diff_image = np.abs(data - med_image)\n",
    "\n",
    "if significance is None:\n",
    "    significance = 5 * np.std(data)\n",
    "\n",
    "replace_mask = (ratio_image > tolerance) & (diff_image > significance)\n",
    "\n",
    "for index in zip(*np.where(replace_mask.compute())):\n",
    "    data[index] = med_image[index]\n",
    "\n",
    "data_replaced = \n",
    "\n",
    "#data[replace_mask] = med_image[replace_mask]"
   ]
  },
  {
   "cell_type": "code",
   "execution_count": 90,
   "metadata": {},
   "outputs": [
    {
     "name": "stderr",
     "output_type": "stream",
     "text": [
      "c:\\Users\\emusterma\\AppData\\Local\\Programs\\Python\\Python311\\Lib\\site-packages\\dask\\core.py:127: RuntimeWarning: divide by zero encountered in divide\n",
      "  return func(*(_execute_task(a, cache) for a in args))\n",
      "c:\\Users\\emusterma\\AppData\\Local\\Programs\\Python\\Python311\\Lib\\site-packages\\dask\\core.py:127: RuntimeWarning: invalid value encountered in divide\n",
      "  return func(*(_execute_task(a, cache) for a in args))\n"
     ]
    },
    {
     "data": {
      "text/plain": [
       "34"
      ]
     },
     "execution_count": 90,
     "metadata": {},
     "output_type": "execute_result"
    }
   ],
   "source": [
    "np.sum(replace_mask).compute()"
   ]
  },
  {
   "cell_type": "code",
   "execution_count": 52,
   "metadata": {},
   "outputs": [
    {
     "data": {
      "text/plain": [
       "(6, 6, 486, 768)"
      ]
     },
     "execution_count": 52,
     "metadata": {},
     "output_type": "execute_result"
    }
   ],
   "source": [
    "replace_mask.shape"
   ]
  },
  {
   "cell_type": "code",
   "execution_count": 58,
   "metadata": {},
   "outputs": [
    {
     "name": "stdout",
     "output_type": "stream",
     "text": [
      "(nan,)\n",
      "(45,)\n"
     ]
    }
   ],
   "source": [
    "print(data[replace_mask].shape)\n",
    "print(med_image[replace_mask].shape)"
   ]
  },
  {
   "cell_type": "code",
   "execution_count": 61,
   "metadata": {},
   "outputs": [
    {
     "ename": "SyntaxError",
     "evalue": "cannot assign to function call here. Maybe you meant '==' instead of '='? (2656411176.py, line 1)",
     "output_type": "error",
     "traceback": [
      "\u001b[1;36m  Cell \u001b[1;32mIn[61], line 1\u001b[1;36m\u001b[0m\n\u001b[1;33m    data[replace_mask].compute() = med_image[replace_mask]\u001b[0m\n\u001b[1;37m    ^\u001b[0m\n\u001b[1;31mSyntaxError\u001b[0m\u001b[1;31m:\u001b[0m cannot assign to function call here. Maybe you meant '==' instead of '='?\n"
     ]
    }
   ],
   "source": [
    "data[replace_mask].compute() = med_image[replace_mask]"
   ]
  },
  {
   "cell_type": "code",
   "execution_count": 66,
   "metadata": {},
   "outputs": [],
   "source": [
    "for index in zip(*np.where(replace_mask.compute())):\n",
    "    data[index] = med_image[index]"
   ]
  },
  {
   "cell_type": "code",
   "execution_count": 63,
   "metadata": {},
   "outputs": [
    {
     "data": {
      "text/plain": [
       "(array([0, 0, 0, 0, 0, 0, 1, 1, 1, 1, 1, 1, 2, 2, 2, 2, 2, 2, 2, 2, 2, 2,\n",
       "        2, 3, 3, 3, 3, 3, 3, 3, 3, 3, 4, 4, 4, 4, 4, 4, 5, 5, 5, 5, 5, 5,\n",
       "        5], dtype=int64),\n",
       " array([0, 1, 2, 3, 4, 5, 0, 1, 2, 3, 4, 5, 0, 1, 2, 3, 4, 4, 4, 4, 5, 5,\n",
       "        5, 0, 1, 2, 3, 4, 4, 4, 5, 5, 0, 1, 2, 3, 4, 5, 0, 1, 2, 2, 3, 4,\n",
       "        5], dtype=int64),\n",
       " array([242, 242, 242, 242, 242, 242, 242, 242, 242, 242, 242, 242, 242,\n",
       "        242, 242, 242, 167, 188, 242, 364, 191, 242, 474, 242, 242, 242,\n",
       "        242, 159, 160, 242, 242, 423, 242, 242, 242, 242, 242, 242, 242,\n",
       "        242, 242, 471, 242, 242, 242], dtype=int64),\n",
       " array([605, 605, 605, 605, 605, 605, 605, 605, 605, 605, 605, 605, 605,\n",
       "        605, 605, 605, 170,  11, 605, 352, 279, 605,  92, 605, 605, 605,\n",
       "        605, 422, 420, 605, 605, 210, 605, 605, 605, 605, 605, 605, 605,\n",
       "        605, 605, 117, 605, 605, 605], dtype=int64))"
      ]
     },
     "execution_count": 63,
     "metadata": {},
     "output_type": "execute_result"
    }
   ],
   "source": [
    "np.where(replace_mask.compute())"
   ]
  },
  {
   "cell_type": "code",
   "execution_count": 71,
   "metadata": {},
   "outputs": [
    {
     "name": "stdout",
     "output_type": "stream",
     "text": [
      "Applying Lorentz correction..."
     ]
    },
    {
     "name": "stdout",
     "output_type": "stream",
     "text": [
      "done!\n",
      "Applying X-ray polarization correction...done!\n",
      "Applying solid angle correction...done!\n"
     ]
    }
   ],
   "source": [
    "test.map.apply_lorentz_correction(ai=test.ai)\n",
    "test.map.apply_polarization_correction(ai=test.ai)\n",
    "test.map.apply_solidangle_correction(ai=test.ai)"
   ]
  },
  {
   "cell_type": "code",
   "execution_count": 72,
   "metadata": {},
   "outputs": [
    {
     "name": "stdout",
     "output_type": "stream",
     "text": [
      "Estimating background with Bruckner algorithm.\n"
     ]
    },
    {
     "name": "stderr",
     "output_type": "stream",
     "text": [
      "  0%|          | 0/36 [00:00<?, ?it/s]"
     ]
    },
    {
     "name": "stderr",
     "output_type": "stream",
     "text": [
      "100%|██████████| 36/36 [00:00<00:00, 36.35it/s]"
     ]
    },
    {
     "name": "stdout",
     "output_type": "stream",
     "text": [
      "Removing background...done!\n"
     ]
    },
    {
     "name": "stderr",
     "output_type": "stream",
     "text": [
      "\n"
     ]
    }
   ],
   "source": [
    "test.map.apply_defect_mask(min_bounds=(-5, 0.5), max_bounds=(0, np.inf))\n",
    "test.map.estimate_background(method='bruckner')\n",
    "#test.map.estimate_background(method='gaussian', sigma=50)\n",
    "test.map.remove_background()\n",
    "test.map.apply_defect_mask(min_bounds=(-5, 0), max_bounds=(0, np.inf))"
   ]
  },
  {
   "cell_type": "code",
   "execution_count": 36,
   "metadata": {},
   "outputs": [],
   "source": [
    "cif_dir = '''C:\\\\Users\\\\emusterma\\\\OneDrive - Brookhaven National Laboratory\\\\Documents\\\\Postdoc\\\\Literature\\\\CIF\\\\'''\n",
    "test.clear_phases()\n",
    "for filename, phase_name in zip(['AMCSD\\\\Hematite_0017806.cif',\n",
    "                                 'AMCSD\\\\Iron-alpha_0011214.cif',\n",
    "                                 'AMCSD\\\\Iron-beta_0011215.cif',\n",
    "                                 'AMCSD\\\\Iron-delta_0011216.cif',\n",
    "                                 'AMCSD\\\\Iron_0011146.cif',\n",
    "                                 'AMCSD\\\\Cementite_0013523.cif',\n",
    "                                 'AMCSD\\\\Zincite_0011555.cif'],\n",
    "                                ['Hematite', 'Iron-ferrite', 'Iron-beta',\n",
    "                                 'Iron-delta', 'Iron-austenite', 'Cementite',\n",
    "                                 'Zincite']):\n",
    "    \n",
    "    test.load_phase(filename, filedir=cif_dir, phase_name=phase_name)"
   ]
  },
  {
   "cell_type": "code",
   "execution_count": 41,
   "metadata": {},
   "outputs": [
    {
     "name": "stdout",
     "output_type": "stream",
     "text": [
      "XU.materials: Warning: element O used instead of O-2\n",
      "XU.materials: Warning: element Nb used instead of Nb+5\n",
      "XU.materials: Warning: element Li used instead of Li+1\n"
     ]
    }
   ],
   "source": [
    "cif_dir = '''C:\\\\Users\\\\emusterma\\\\OneDrive - Brookhaven National Laboratory\\\\Documents\\\\Postdoc\\\\Literature\\\\CIF\\\\'''\n",
    "test.clear_phases()\n",
    "test.load_phase('Barker\\\\1521772COD.cif', filedir=cif_dir, phase_name=\"LiNbO3 161\")\n",
    "test.load_phase('Barker\\\\LiNbO3.cif', filedir=cif_dir, phase_name=\"LiNbO3 148\")\n",
    "test.load_phase('AMCSD\\\\Platinum_0011157.cif', filedir=cif_dir, phase_name=\"Platinum\")\n",
    "test.load_phase('AMCSD\\\\Calcite_0000984.cif', filedir=cif_dir, phase_name=\"Calcite\")\n",
    "#test.load_phase('AMCSD\\\\Aluminum_0011136.cif', filedir=cif_dir, phase_name=\"Aluminum\")\n",
    "test.load_phase('AMCSD\\\\Zincite_0011555.cif', filedir=cif_dir, phase_name=\"Zincite\")\n",
    "#test.load_phase('AMCSD\\\\Gold_0011140.cif', filedir=cif_dir, phase_name=\"Gold\")\n",
    "#test.load_phase('AMCSD\\\\Chromium_0011209.cif', filedir=cif_dir, phase_name=\"Chromium BCC\")\n",
    "#test.load_phase('AMCSD\\\\Chromium_0011170.cif', filedir=cif_dir, phase_name=\"Chromium HCP\")\n",
    "#test.load_phase('AMCSD\\\\Chromium_0011144.cif', filedir=cif_dir, phase_name=\"Chromium FCC\")"
   ]
  },
  {
   "cell_type": "code",
   "execution_count": 37,
   "metadata": {},
   "outputs": [],
   "source": [
    "test.select_phases(remove_less_than=0.1)"
   ]
  },
  {
   "cell_type": "code",
   "execution_count": 38,
   "metadata": {},
   "outputs": [],
   "source": [
    "test.map.interactive_map()"
   ]
  },
  {
   "cell_type": "code",
   "execution_count": 17,
   "metadata": {},
   "outputs": [
    {
     "name": "stdout",
     "output_type": "stream",
     "text": [
      "Composite of current images is not saved. Creating composite.\n",
      "Calibrating images..."
     ]
    },
    {
     "name": "stderr",
     "output_type": "stream",
     "text": [
      "100%|██████████| 36/36 [00:08<00:00,  4.43it/s]"
     ]
    },
    {
     "name": "stdout",
     "output_type": "stream",
     "text": [
      "done!\n",
      "Writing reciprocal positions...done!\n",
      "Acquring and writing calibration mask..."
     ]
    },
    {
     "name": "stderr",
     "output_type": "stream",
     "text": [
      "\n"
     ]
    },
    {
     "name": "stdout",
     "output_type": "stream",
     "text": [
      "done!\n"
     ]
    }
   ],
   "source": [
    "test.calibrate_images()\n",
    "test.map.apply_defect_mask(min_bounds=(-5, 0.05), max_bounds=(0, np.inf))\n",
    "test.map.rescale_images(arr_min=0)"
   ]
  },
  {
   "cell_type": "code",
   "execution_count": 73,
   "metadata": {},
   "outputs": [],
   "source": [
    "test.map.apply_defect_mask(min_bounds=(-5, 0.25), max_bounds=(-0.1, np.inf))\n",
    "test.map.rescale_images(arr_min=0)\n",
    "test.map.save_images()"
   ]
  },
  {
   "cell_type": "code",
   "execution_count": 74,
   "metadata": {},
   "outputs": [],
   "source": [
    "test.plot_interactive_map(img_vmin=0, img_vmax=1)"
   ]
  },
  {
   "cell_type": "code",
   "execution_count": 92,
   "metadata": {},
   "outputs": [],
   "source": [
    "image = np.copy(test.map.images[0, 0])\n",
    "image[~test.map.mask] = 0\n",
    "test.plot_image(image)"
   ]
  },
  {
   "cell_type": "code",
   "execution_count": 59,
   "metadata": {},
   "outputs": [],
   "source": [
    "i = np.random.randint(test.map.map_shape[0])\n",
    "j = np.random.randint(test.map.map_shape[1])\n",
    "#i, j = 2, 5\n",
    "#i, j = 1, 0\n",
    "#i, j = 3, 4\n",
    "#i, j = 5, 0\n",
    "#i, j = 3, 2\n",
    "i, j = 4, 2\n",
    "\n",
    "#out = spot_search(test.map.images[i, j], bkg_noise=map_noise, multiplier=3, plotme=True, mask=test.map.mask, expansion=0, sigma=3)\n",
    "out = spot_search(test.map.images[i, j], multiplier=15, plotme=True, mask=test.map.mask, expansion=10, size=1)"
   ]
  },
  {
   "cell_type": "code",
   "execution_count": 196,
   "metadata": {},
   "outputs": [],
   "source": [
    "fig, ax = plt.subplots(1, 1, figsize=(5, 5), dpi=200)\n",
    "\n",
    "ax.plot(np.sum(test.map.images[5, 0], axis=0))\n",
    "\n",
    "plt.show()"
   ]
  },
  {
   "cell_type": "code",
   "execution_count": 586,
   "metadata": {},
   "outputs": [],
   "source": [
    "test.plot_image([3, 4], spots=True)"
   ]
  },
  {
   "cell_type": "code",
   "execution_count": 112,
   "metadata": {},
   "outputs": [],
   "source": [
    "test.plot_image([0, 0])"
   ]
  },
  {
   "cell_type": "code",
   "execution_count": 75,
   "metadata": {},
   "outputs": [
    {
     "name": "stderr",
     "output_type": "stream",
     "text": [
      "Scheduling spot search...: 100%|██████████| 36/36 [00:00<00:00, 8020.13it/s]\n",
      "Searching images for spots...: 100%|██████████| 36/36 [00:00<00:00, 81.74it/s]\n",
      "Scheduling spot characterization...: 100%|██████████| 2888/2888 [00:00<00:00, 31967.73it/s]\n",
      "Estimating spot characteristics...: 100%|██████████| 2888/2888 [00:09<00:00, 304.08it/s]\n"
     ]
    }
   ],
   "source": [
    "#test.map.images = rescale_array(test.map.images, lower=0, upper=100)\n",
    "test.find_spots(multiplier=15, expansion=10, radius=10, size=1)"
   ]
  },
  {
   "cell_type": "code",
   "execution_count": 76,
   "metadata": {},
   "outputs": [
    {
     "name": "stderr",
     "output_type": "stream",
     "text": [
      "Scheduling blob segmentation for spot fits...:   0%|          | 0/36 [00:00<?, ?it/s]"
     ]
    },
    {
     "name": "stderr",
     "output_type": "stream",
     "text": [
      "Scheduling blob segmentation for spot fits...: 100%|██████████| 36/36 [00:00<00:00, 62.48it/s]\n",
      "Segmenting blobs for spot fits...: 100%|██████████| 36/36 [00:05<00:00,  6.86it/s]\n",
      "Scheduling spot fits...: 100%|██████████| 2505/2505 [00:00<00:00, 39082.74it/s]\n",
      "Fitting spots in blobs...: 100%|██████████| 2505/2505 [01:11<00:00, 35.10it/s]"
     ]
    },
    {
     "name": "stdout",
     "output_type": "stream",
     "text": [
      "Successfully fit 2885 / 2888 spots ( 99.9 % ).\n"
     ]
    },
    {
     "name": "stderr",
     "output_type": "stream",
     "text": [
      "\n"
     ]
    }
   ],
   "source": [
    "test.fit_spots(GaussianFunctions, max_dist=0.1, sigma=1)"
   ]
  },
  {
   "cell_type": "code",
   "execution_count": 77,
   "metadata": {},
   "outputs": [
    {
     "name": "stdout",
     "output_type": "stream",
     "text": [
      "Extracting more information from peak paramters...\n"
     ]
    },
    {
     "name": "stderr",
     "output_type": "stream",
     "text": [
      "Iterating through spots...: 100%|██████████| 2888/2888 [00:01<00:00, 2118.10it/s]"
     ]
    },
    {
     "name": "stdout",
     "output_type": "stream",
     "text": [
      "done!\n",
      "Converting peaks positions to q-space...done!\n"
     ]
    },
    {
     "name": "stderr",
     "output_type": "stream",
     "text": [
      "\n"
     ]
    }
   ],
   "source": [
    "test.initial_spot_analysis()"
   ]
  },
  {
   "cell_type": "code",
   "execution_count": 78,
   "metadata": {},
   "outputs": [
    {
     "data": {
      "text/plain": [
       "map_x               2.000000\n",
       "map_y               1.000000\n",
       "guess_height        0.586651\n",
       "guess_img_x       233.000000\n",
       "guess_img_y       764.000000\n",
       "guess_tth          41.099325\n",
       "guess_chi          -0.895150\n",
       "guess_cen_tth      41.134554\n",
       "guess_cen_chi      -0.952739\n",
       "guess_fwhm_tth      0.248874\n",
       "guess_fwhm_chi      0.643375\n",
       "guess_int          26.464703\n",
       "fit_amp             0.490008\n",
       "fit_tth0           41.158458\n",
       "fit_chi0           -0.961275\n",
       "fit_fwhm_tth        0.198646\n",
       "fit_fwhm_chi        0.757044\n",
       "fit_theta           2.916152\n",
       "fit_offset         -0.001760\n",
       "fit_r_squared       0.928892\n",
       "fit_integrated      0.083497\n",
       "fit_fwhm_a          0.236903\n",
       "fit_fwhm_b          0.745957\n",
       "qx                 -5.002239\n",
       "qy                 -0.083933\n",
       "qz                 -1.878413\n",
       "Name: 100, dtype: float64"
      ]
     },
     "execution_count": 78,
     "metadata": {},
     "output_type": "execute_result"
    }
   ],
   "source": [
    "test.spots.loc[100]"
   ]
  },
  {
   "cell_type": "code",
   "execution_count": 114,
   "metadata": {},
   "outputs": [
    {
     "data": {
      "text/plain": [
       "{'dark_field': True,\n",
       " 'flat_field': False,\n",
       " 'outliers': True,\n",
       " 'pixel_defects': True,\n",
       " 'pixel_distortions': False,\n",
       " 'polar_calibration': False,\n",
       " 'solid_angle': True,\n",
       " 'polarization': True,\n",
       " 'lorentz': True,\n",
       " 'scaler_intensity': True,\n",
       " 'background': True}"
      ]
     },
     "execution_count": 114,
     "metadata": {},
     "output_type": "execute_result"
    }
   ],
   "source": [
    "test.map.corrections"
   ]
  },
  {
   "cell_type": "code",
   "execution_count": 82,
   "metadata": {},
   "outputs": [],
   "source": [
    "test.plot_image(spots=True)"
   ]
  },
  {
   "cell_type": "code",
   "execution_count": 90,
   "metadata": {},
   "outputs": [],
   "source": [
    "plot_map = np.zeros(test.map.map_shape)\n",
    "plot_map[:] = np.nan\n",
    "\n",
    "for image_index in range(test.map.num_images):\n",
    "    indices = np.unravel_index(image_index, test.map.map_shape)\n",
    "    pixel_df = test.spots[(test.spots['map_x'] == indices[0])\n",
    "                          & (test.spots['map_y'] == indices[1])]\n",
    "    \n",
    "    if len(pixel_df) < 1:\n",
    "        plot_map[indices] = 0\n",
    "    else:\n",
    "        #plot_map[indices] = np.sum(pixel_df['guess_int'])\n",
    "        #plot_map[indices] = np.sum(pixel_df['fit_amp'])\n",
    "        #plot_map[indices] = np.sum(pixel_df['fit_integrated'])\n",
    "        #plot_map[indices] = np.mean(pixel_df['fit_tth0'])\n",
    "        #plot_map[indices] = len(pixel_df)\n",
    "        #plot_map[indices] = np.nanmedian(pixel_df['qz'])\n",
    "        #plot_map[indices] = np.nanmin(pixel_df['fit_r_squared'])\n",
    "        plot_map[indices] = pixel_df.iloc[np.argmax(pixel_df['fit_integrated'])]['fit_tth0']\n",
    "        plot_map[indices] = pixel_df.iloc[np.argmax(pixel_df['fit_integrated'])]['fit_chi0']\n",
    "\n",
    "\n",
    "fig, ax = plt.subplots(1, 1, figsize=(5, 5), dpi=200)\n",
    "\n",
    "im = ax.imshow(plot_map)\n",
    "fig.colorbar(im, ax=ax)\n",
    "ax.set_title('Spot Value')\n",
    "\n",
    "plt.show()"
   ]
  },
  {
   "cell_type": "code",
   "execution_count": 112,
   "metadata": {},
   "outputs": [],
   "source": [
    "test.plot_interactive_map(display_map=plot_map, img_vmin=0, img_vmax=1)"
   ]
  },
  {
   "cell_type": "code",
   "execution_count": 51,
   "metadata": {},
   "outputs": [],
   "source": [
    "test.plot_image([0, 2], spots=True)"
   ]
  },
  {
   "cell_type": "code",
   "execution_count": 77,
   "metadata": {},
   "outputs": [],
   "source": [
    "test.plot_reconstruction([0, 2], plot_residual=True)"
   ]
  },
  {
   "cell_type": "code",
   "execution_count": 45,
   "metadata": {},
   "outputs": [],
   "source": [
    "pixel_df = test.spots[(test.spots['map_x'] == 3)\n",
    "                        & (test.spots['map_y'] == 3)]"
   ]
  },
  {
   "cell_type": "code",
   "execution_count": 47,
   "metadata": {},
   "outputs": [
    {
     "data": {
      "text/plain": [
       "map_x               3.000000\n",
       "map_y               3.000000\n",
       "guess_height        5.275062\n",
       "guess_img_x        30.000000\n",
       "guess_img_y       678.000000\n",
       "guess_tth          38.512360\n",
       "guess_chi         -13.624387\n",
       "guess_cen_tth      38.505309\n",
       "guess_cen_chi     -13.599907\n",
       "guess_fwhm_tth      0.426384\n",
       "guess_fwhm_chi      0.687899\n",
       "guess_int         101.430588\n",
       "fit_amp             4.920459\n",
       "fit_tth0           38.504399\n",
       "fit_chi0          -13.640256\n",
       "fit_fwhm_tth        0.126779\n",
       "fit_fwhm_chi        0.169940\n",
       "fit_theta           6.327112\n",
       "fit_offset          0.138128\n",
       "fit_r_squared       0.859608\n",
       "fit_integrated      0.120120\n",
       "fit_fwhm_a          0.144735\n",
       "fit_fwhm_b          0.154934\n",
       "qx                 -4.599082\n",
       "qy                 -1.116056\n",
       "qz                 -1.652888\n",
       "Name: 51, dtype: float64"
      ]
     },
     "execution_count": 47,
     "metadata": {},
     "output_type": "execute_result"
    }
   ],
   "source": [
    "pixel_df.iloc[0]"
   ]
  },
  {
   "cell_type": "code",
   "execution_count": 40,
   "metadata": {},
   "outputs": [],
   "source": [
    "test.plot_image(test.map.spot_masks[3, 3])"
   ]
  },
  {
   "cell_type": "code",
   "execution_count": 104,
   "metadata": {},
   "outputs": [],
   "source": [
    "test.plot_image(test.map.med_image)"
   ]
  },
  {
   "cell_type": "code",
   "execution_count": 110,
   "metadata": {},
   "outputs": [
    {
     "ename": "KeyError",
     "evalue": "\"None of [Index(['qx', 'qy', 'qz'], dtype='object')] are in the [index]\"",
     "output_type": "error",
     "traceback": [
      "\u001b[1;31m---------------------------------------------------------------------------\u001b[0m",
      "\u001b[1;31mKeyError\u001b[0m                                  Traceback (most recent call last)",
      "Cell \u001b[1;32mIn[110], line 1\u001b[0m\n\u001b[1;32m----> 1\u001b[0m \u001b[43mtest\u001b[49m\u001b[38;5;241;43m.\u001b[39;49m\u001b[43mplot_q_space\u001b[49m\u001b[43m(\u001b[49m\u001b[43mpixel_indices\u001b[49m\u001b[38;5;241;43m=\u001b[39;49m\u001b[43m[\u001b[49m\u001b[38;5;241;43m1\u001b[39;49m\u001b[43m,\u001b[49m\u001b[43m \u001b[49m\u001b[38;5;241;43m3\u001b[39;49m\u001b[43m]\u001b[49m\u001b[43m)\u001b[49m\n",
      "File \u001b[1;32m~\\OneDrive - Brookhaven National Laboratory\\Documents\\Postdoc\\Repositories\\SRX_sXRD_analysis\\testing_modules\\sXRD_XRDMap.py:911\u001b[0m, in \u001b[0;36mplot_q_space\u001b[1;34m(self, pixel_indices, skip)\u001b[0m\n\u001b[0;32m    909\u001b[0m \u001b[38;5;66;03m# Sample geometry\u001b[39;00m\n\u001b[0;32m    910\u001b[0m ax\u001b[38;5;241m.\u001b[39mquiver([\u001b[38;5;241m0\u001b[39m, \u001b[38;5;241m0\u001b[39m], [\u001b[38;5;241m0\u001b[39m, \u001b[38;5;241m0\u001b[39m], [\u001b[38;5;241m-\u001b[39m\u001b[38;5;241m2\u001b[39m \u001b[38;5;241m*\u001b[39m radius, \u001b[38;5;241m-\u001b[39mradius], [\u001b[38;5;241m0\u001b[39m, \u001b[38;5;241m0\u001b[39m], [\u001b[38;5;241m0\u001b[39m, \u001b[38;5;241m0\u001b[39m], [radius, radius], colors\u001b[38;5;241m=\u001b[39m\u001b[38;5;124m'\u001b[39m\u001b[38;5;124mk\u001b[39m\u001b[38;5;124m'\u001b[39m)\n\u001b[1;32m--> 911\u001b[0m ax\u001b[38;5;241m.\u001b[39mscatter(\u001b[38;5;241m0\u001b[39m, \u001b[38;5;241m0\u001b[39m, \u001b[38;5;241m0\u001b[39m, marker\u001b[38;5;241m=\u001b[39m\u001b[38;5;124m'\u001b[39m\u001b[38;5;124mo\u001b[39m\u001b[38;5;124m'\u001b[39m, s\u001b[38;5;241m=\u001b[39m\u001b[38;5;241m10\u001b[39m, facecolors\u001b[38;5;241m=\u001b[39m\u001b[38;5;124m'\u001b[39m\u001b[38;5;124mnone\u001b[39m\u001b[38;5;124m'\u001b[39m, edgecolors\u001b[38;5;241m=\u001b[39m\u001b[38;5;124m'\u001b[39m\u001b[38;5;124mk\u001b[39m\u001b[38;5;124m'\u001b[39m, label\u001b[38;5;241m=\u001b[39m\u001b[38;5;124m'\u001b[39m\u001b[38;5;124mtransmission\u001b[39m\u001b[38;5;124m'\u001b[39m)\n\u001b[0;32m    912\u001b[0m ax\u001b[38;5;241m.\u001b[39mscatter(\u001b[38;5;241m0\u001b[39m, \u001b[38;5;241m0\u001b[39m, \u001b[38;5;241m-\u001b[39mradius, marker\u001b[38;5;241m=\u001b[39m\u001b[38;5;124m'\u001b[39m\u001b[38;5;124mh\u001b[39m\u001b[38;5;124m'\u001b[39m, s\u001b[38;5;241m=\u001b[39m\u001b[38;5;241m10\u001b[39m, c\u001b[38;5;241m=\u001b[39m\u001b[38;5;124m'\u001b[39m\u001b[38;5;124mb\u001b[39m\u001b[38;5;124m'\u001b[39m, label\u001b[38;5;241m=\u001b[39m\u001b[38;5;124m'\u001b[39m\u001b[38;5;124msample\u001b[39m\u001b[38;5;124m'\u001b[39m)\n\u001b[0;32m    914\u001b[0m ax\u001b[38;5;241m.\u001b[39mset_xlabel(\u001b[38;5;124m'\u001b[39m\u001b[38;5;124mqx [Å⁻¹]\u001b[39m\u001b[38;5;124m'\u001b[39m)\n",
      "File \u001b[1;32mc:\\Users\\emusterma\\AppData\\Local\\Programs\\Python\\Python311\\Lib\\site-packages\\pandas\\core\\indexing.py:1153\u001b[0m, in \u001b[0;36m_LocationIndexer.__getitem__\u001b[1;34m(self, key)\u001b[0m\n\u001b[0;32m   1150\u001b[0m axis \u001b[38;5;241m=\u001b[39m \u001b[38;5;28mself\u001b[39m\u001b[38;5;241m.\u001b[39maxis \u001b[38;5;129;01mor\u001b[39;00m \u001b[38;5;241m0\u001b[39m\n\u001b[0;32m   1152\u001b[0m maybe_callable \u001b[38;5;241m=\u001b[39m com\u001b[38;5;241m.\u001b[39mapply_if_callable(key, \u001b[38;5;28mself\u001b[39m\u001b[38;5;241m.\u001b[39mobj)\n\u001b[1;32m-> 1153\u001b[0m \u001b[38;5;28;01mreturn\u001b[39;00m \u001b[38;5;28;43mself\u001b[39;49m\u001b[38;5;241;43m.\u001b[39;49m\u001b[43m_getitem_axis\u001b[49m\u001b[43m(\u001b[49m\u001b[43mmaybe_callable\u001b[49m\u001b[43m,\u001b[49m\u001b[43m \u001b[49m\u001b[43maxis\u001b[49m\u001b[38;5;241;43m=\u001b[39;49m\u001b[43maxis\u001b[49m\u001b[43m)\u001b[49m\n",
      "File \u001b[1;32mc:\\Users\\emusterma\\AppData\\Local\\Programs\\Python\\Python311\\Lib\\site-packages\\pandas\\core\\indexing.py:1382\u001b[0m, in \u001b[0;36m_LocIndexer._getitem_axis\u001b[1;34m(self, key, axis)\u001b[0m\n\u001b[0;32m   1379\u001b[0m     \u001b[38;5;28;01mif\u001b[39;00m \u001b[38;5;28mhasattr\u001b[39m(key, \u001b[38;5;124m\"\u001b[39m\u001b[38;5;124mndim\u001b[39m\u001b[38;5;124m\"\u001b[39m) \u001b[38;5;129;01mand\u001b[39;00m key\u001b[38;5;241m.\u001b[39mndim \u001b[38;5;241m>\u001b[39m \u001b[38;5;241m1\u001b[39m:\n\u001b[0;32m   1380\u001b[0m         \u001b[38;5;28;01mraise\u001b[39;00m \u001b[38;5;167;01mValueError\u001b[39;00m(\u001b[38;5;124m\"\u001b[39m\u001b[38;5;124mCannot index with multidimensional key\u001b[39m\u001b[38;5;124m\"\u001b[39m)\n\u001b[1;32m-> 1382\u001b[0m     \u001b[38;5;28;01mreturn\u001b[39;00m \u001b[38;5;28;43mself\u001b[39;49m\u001b[38;5;241;43m.\u001b[39;49m\u001b[43m_getitem_iterable\u001b[49m\u001b[43m(\u001b[49m\u001b[43mkey\u001b[49m\u001b[43m,\u001b[49m\u001b[43m \u001b[49m\u001b[43maxis\u001b[49m\u001b[38;5;241;43m=\u001b[39;49m\u001b[43maxis\u001b[49m\u001b[43m)\u001b[49m\n\u001b[0;32m   1384\u001b[0m \u001b[38;5;66;03m# nested tuple slicing\u001b[39;00m\n\u001b[0;32m   1385\u001b[0m \u001b[38;5;28;01mif\u001b[39;00m is_nested_tuple(key, labels):\n",
      "File \u001b[1;32mc:\\Users\\emusterma\\AppData\\Local\\Programs\\Python\\Python311\\Lib\\site-packages\\pandas\\core\\indexing.py:1322\u001b[0m, in \u001b[0;36m_LocIndexer._getitem_iterable\u001b[1;34m(self, key, axis)\u001b[0m\n\u001b[0;32m   1319\u001b[0m \u001b[38;5;28mself\u001b[39m\u001b[38;5;241m.\u001b[39m_validate_key(key, axis)\n\u001b[0;32m   1321\u001b[0m \u001b[38;5;66;03m# A collection of keys\u001b[39;00m\n\u001b[1;32m-> 1322\u001b[0m keyarr, indexer \u001b[38;5;241m=\u001b[39m \u001b[38;5;28;43mself\u001b[39;49m\u001b[38;5;241;43m.\u001b[39;49m\u001b[43m_get_listlike_indexer\u001b[49m\u001b[43m(\u001b[49m\u001b[43mkey\u001b[49m\u001b[43m,\u001b[49m\u001b[43m \u001b[49m\u001b[43maxis\u001b[49m\u001b[43m)\u001b[49m\n\u001b[0;32m   1323\u001b[0m \u001b[38;5;28;01mreturn\u001b[39;00m \u001b[38;5;28mself\u001b[39m\u001b[38;5;241m.\u001b[39mobj\u001b[38;5;241m.\u001b[39m_reindex_with_indexers(\n\u001b[0;32m   1324\u001b[0m     {axis: [keyarr, indexer]}, copy\u001b[38;5;241m=\u001b[39m\u001b[38;5;28;01mTrue\u001b[39;00m, allow_dups\u001b[38;5;241m=\u001b[39m\u001b[38;5;28;01mTrue\u001b[39;00m\n\u001b[0;32m   1325\u001b[0m )\n",
      "File \u001b[1;32mc:\\Users\\emusterma\\AppData\\Local\\Programs\\Python\\Python311\\Lib\\site-packages\\pandas\\core\\indexing.py:1520\u001b[0m, in \u001b[0;36m_LocIndexer._get_listlike_indexer\u001b[1;34m(self, key, axis)\u001b[0m\n\u001b[0;32m   1517\u001b[0m ax \u001b[38;5;241m=\u001b[39m \u001b[38;5;28mself\u001b[39m\u001b[38;5;241m.\u001b[39mobj\u001b[38;5;241m.\u001b[39m_get_axis(axis)\n\u001b[0;32m   1518\u001b[0m axis_name \u001b[38;5;241m=\u001b[39m \u001b[38;5;28mself\u001b[39m\u001b[38;5;241m.\u001b[39mobj\u001b[38;5;241m.\u001b[39m_get_axis_name(axis)\n\u001b[1;32m-> 1520\u001b[0m keyarr, indexer \u001b[38;5;241m=\u001b[39m \u001b[43max\u001b[49m\u001b[38;5;241;43m.\u001b[39;49m\u001b[43m_get_indexer_strict\u001b[49m\u001b[43m(\u001b[49m\u001b[43mkey\u001b[49m\u001b[43m,\u001b[49m\u001b[43m \u001b[49m\u001b[43maxis_name\u001b[49m\u001b[43m)\u001b[49m\n\u001b[0;32m   1522\u001b[0m \u001b[38;5;28;01mreturn\u001b[39;00m keyarr, indexer\n",
      "File \u001b[1;32mc:\\Users\\emusterma\\AppData\\Local\\Programs\\Python\\Python311\\Lib\\site-packages\\pandas\\core\\indexes\\base.py:6114\u001b[0m, in \u001b[0;36mIndex._get_indexer_strict\u001b[1;34m(self, key, axis_name)\u001b[0m\n\u001b[0;32m   6111\u001b[0m \u001b[38;5;28;01melse\u001b[39;00m:\n\u001b[0;32m   6112\u001b[0m     keyarr, indexer, new_indexer \u001b[38;5;241m=\u001b[39m \u001b[38;5;28mself\u001b[39m\u001b[38;5;241m.\u001b[39m_reindex_non_unique(keyarr)\n\u001b[1;32m-> 6114\u001b[0m \u001b[38;5;28;43mself\u001b[39;49m\u001b[38;5;241;43m.\u001b[39;49m\u001b[43m_raise_if_missing\u001b[49m\u001b[43m(\u001b[49m\u001b[43mkeyarr\u001b[49m\u001b[43m,\u001b[49m\u001b[43m \u001b[49m\u001b[43mindexer\u001b[49m\u001b[43m,\u001b[49m\u001b[43m \u001b[49m\u001b[43maxis_name\u001b[49m\u001b[43m)\u001b[49m\n\u001b[0;32m   6116\u001b[0m keyarr \u001b[38;5;241m=\u001b[39m \u001b[38;5;28mself\u001b[39m\u001b[38;5;241m.\u001b[39mtake(indexer)\n\u001b[0;32m   6117\u001b[0m \u001b[38;5;28;01mif\u001b[39;00m \u001b[38;5;28misinstance\u001b[39m(key, Index):\n\u001b[0;32m   6118\u001b[0m     \u001b[38;5;66;03m# GH 42790 - Preserve name from an Index\u001b[39;00m\n",
      "File \u001b[1;32mc:\\Users\\emusterma\\AppData\\Local\\Programs\\Python\\Python311\\Lib\\site-packages\\pandas\\core\\indexes\\base.py:6175\u001b[0m, in \u001b[0;36mIndex._raise_if_missing\u001b[1;34m(self, key, indexer, axis_name)\u001b[0m\n\u001b[0;32m   6173\u001b[0m     \u001b[38;5;28;01mif\u001b[39;00m use_interval_msg:\n\u001b[0;32m   6174\u001b[0m         key \u001b[38;5;241m=\u001b[39m \u001b[38;5;28mlist\u001b[39m(key)\n\u001b[1;32m-> 6175\u001b[0m     \u001b[38;5;28;01mraise\u001b[39;00m \u001b[38;5;167;01mKeyError\u001b[39;00m(\u001b[38;5;124mf\u001b[39m\u001b[38;5;124m\"\u001b[39m\u001b[38;5;124mNone of [\u001b[39m\u001b[38;5;132;01m{\u001b[39;00mkey\u001b[38;5;132;01m}\u001b[39;00m\u001b[38;5;124m] are in the [\u001b[39m\u001b[38;5;132;01m{\u001b[39;00maxis_name\u001b[38;5;132;01m}\u001b[39;00m\u001b[38;5;124m]\u001b[39m\u001b[38;5;124m\"\u001b[39m)\n\u001b[0;32m   6177\u001b[0m not_found \u001b[38;5;241m=\u001b[39m \u001b[38;5;28mlist\u001b[39m(ensure_index(key)[missing_mask\u001b[38;5;241m.\u001b[39mnonzero()[\u001b[38;5;241m0\u001b[39m]]\u001b[38;5;241m.\u001b[39munique())\n\u001b[0;32m   6178\u001b[0m \u001b[38;5;28;01mraise\u001b[39;00m \u001b[38;5;167;01mKeyError\u001b[39;00m(\u001b[38;5;124mf\u001b[39m\u001b[38;5;124m\"\u001b[39m\u001b[38;5;132;01m{\u001b[39;00mnot_found\u001b[38;5;132;01m}\u001b[39;00m\u001b[38;5;124m not in index\u001b[39m\u001b[38;5;124m\"\u001b[39m)\n",
      "\u001b[1;31mKeyError\u001b[0m: \"None of [Index(['qx', 'qy', 'qz'], dtype='object')] are in the [index]\""
     ]
    }
   ],
   "source": [
    "test.plot_q_space(pixel_indices=[1, 3])"
   ]
  },
  {
   "cell_type": "code",
   "execution_count": 111,
   "metadata": {},
   "outputs": [],
   "source": [
    "pixel_indices=[1, 3]\n",
    "\n",
    "pixel_df = test.spots[(test.spots['map_x'] == pixel_indices[0])\n",
    "                        & (test.spots['map_y'] == pixel_indices[1])].copy()"
   ]
  },
  {
   "cell_type": "code",
   "execution_count": null,
   "metadata": {},
   "outputs": [],
   "source": []
  },
  {
   "cell_type": "code",
   "execution_count": null,
   "metadata": {},
   "outputs": [],
   "source": []
  },
  {
   "cell_type": "code",
   "execution_count": null,
   "metadata": {},
   "outputs": [],
   "source": []
  },
  {
   "cell_type": "code",
   "execution_count": null,
   "metadata": {},
   "outputs": [],
   "source": []
  },
  {
   "cell_type": "code",
   "execution_count": 94,
   "metadata": {},
   "outputs": [],
   "source": [
    "fig, ax = plt.subplots(1, 1, figsize=(5, 5), dpi=200)\n",
    "\n",
    "ax.scatter(test.spots['guess_cen_chi'], test.spots['fit_chi0'], s=1, c='k', alpha=0.5)\n",
    "\n",
    "plt.show()"
   ]
  },
  {
   "cell_type": "code",
   "execution_count": 98,
   "metadata": {},
   "outputs": [],
   "source": [
    "fig, ax = plt.subplots(1, 1, figsize=(5, 5), dpi=200)\n",
    "\n",
    "image = test.map.composite_image\n",
    "\n",
    "#tth = test.tth\n",
    "intensity = np.sum(test.map.composite_image, axis=0)\n",
    "#pixels = np.sum(test.map.calibration_mask, axis=0)\n",
    "\n",
    "x, bins, _ = ax.hist(test.spots['guess_cen_tth'].values, bins=2000, weights=test.spots['guess_height'].values, label='spot center', density=True)\n",
    "#ax.plot(tth, rescale_array(intensity / pixels, lower=np.min(x), upper=np.max(x)), label='integrated intensity')\n",
    "ax.legend()\n",
    "\n",
    "plt.show()"
   ]
  },
  {
   "cell_type": "code",
   "execution_count": 101,
   "metadata": {},
   "outputs": [],
   "source": [
    "fig, ax = plt.subplots(1, 1, figsize=(5, 5), dpi=200)\n",
    "\n",
    "image = test.map.composite_image\n",
    "\n",
    "#tth = test.tth\n",
    "#intensity = np.sum(test.map.composite_image, axis=0)\n",
    "#pixels = np.sum(test.map.calibration_mask, axis=0)\n",
    "\n",
    "x, bins, _ = ax.hist(test.spots['fit_tth0'].values, bins=2500, label='spot center', density=True)\n",
    "#ax.plot(tth, rescale_array(intensity / pixels, lower=np.min(x), upper=np.max(x)), label='integrated intensity')\n",
    "ax.legend()\n",
    "\n",
    "plt.show()"
   ]
  },
  {
   "cell_type": "code",
   "execution_count": 103,
   "metadata": {},
   "outputs": [],
   "source": [
    "fig, ax = plt.subplots(1, 1, figsize=(5, 5), dpi=200)\n",
    "\n",
    "x, bins, _ = ax.hist(test.spots['fit_fwhm_tth'].values, bins=50, label='spot center', density=True)\n",
    "ax.legend()\n",
    "\n",
    "plt.show()"
   ]
  },
  {
   "cell_type": "code",
   "execution_count": 104,
   "metadata": {},
   "outputs": [],
   "source": [
    "test.plot_image(test.ai.position_array()[:, :, 2])"
   ]
  },
  {
   "cell_type": "code",
   "execution_count": 85,
   "metadata": {},
   "outputs": [],
   "source": [
    "x_coords, y_coords = np.meshgrid(test.tth, test.chi[::-1])\n",
    "q = q_vect(x_coords, y_coords, wavelength=test.wavelength)\n",
    "\n",
    "pixel_df = test.spots[(test.spots['map_x'] == 1)\n",
    "                        & (test.spots['map_y'] == 0)].copy()"
   ]
  },
  {
   "cell_type": "code",
   "execution_count": 135,
   "metadata": {},
   "outputs": [],
   "source": [
    "q = q_vect(test.ai.twoThetaArray(), test.ai.chiArray(), wavelength=test.wavelength, radians=True)"
   ]
  },
  {
   "cell_type": "code",
   "execution_count": 55,
   "metadata": {},
   "outputs": [
    {
     "data": {
      "text/plain": [
       "(486, 2304)"
      ]
     },
     "execution_count": 55,
     "metadata": {},
     "output_type": "execute_result"
    }
   ],
   "source": [
    "np.tile(np.array([0, 0, 1]), tth.shape).shape"
   ]
  },
  {
   "cell_type": "code",
   "execution_count": 99,
   "metadata": {},
   "outputs": [],
   "source": [
    "a = np.array([0, 0, 1])\n",
    "b = np.full((486, 768, 3), a)"
   ]
  },
  {
   "cell_type": "code",
   "execution_count": 20,
   "metadata": {},
   "outputs": [
    {
     "data": {
      "text/plain": [
       "(3, 1483)"
      ]
     },
     "execution_count": 20,
     "metadata": {},
     "output_type": "execute_result"
    }
   ],
   "source": [
    "np.asarray([[0, 0, 1],] * len(test.tth)).T.shape"
   ]
  },
  {
   "cell_type": "code",
   "execution_count": 123,
   "metadata": {},
   "outputs": [],
   "source": [
    "# Q-space plotting\n",
    "\n",
    "skip = 500\n",
    "\n",
    "x_coords, y_coords = np.meshgrid(test.tth, test.chi[::-1])\n",
    "q = q_vect(x_coords, y_coords, wavelength=test.wavelength)\n",
    "\n",
    "pixel_df = test.spots[(test.spots['map_x'] == 1)\n",
    "                        & (test.spots['map_y'] == 0)].copy()\n",
    "\n",
    "\n",
    "fig, ax = plt.subplots(1, 1, figsize=(5, 5), dpi=200, subplot_kw={'projection':'3d'})\n",
    "\n",
    "# Plot sampled Ewald sphere\n",
    "#ax.scatter(q[0].ravel()[::skip], q[1].ravel()[::skip], q[2].ravel()[::skip], s=1, c='k', alpha=0.2)\n",
    "q_mask = q[:, test.map.mask]\n",
    "ax.plot_trisurf(q_mask[0].ravel()[::skip],\n",
    "                q_mask[1].ravel()[::skip],\n",
    "                q_mask[2].ravel()[::skip],\n",
    "                alpha=0.5, label='detector')\n",
    "\n",
    "\n",
    "# Plot full Ewald sphere\n",
    "u = np.linspace(0, 2 * np.pi, 100)\n",
    "v = np.linspace(0, np.pi, 100)\n",
    "radius = 2 * np.pi / test.wavelength\n",
    "x =  radius * np.outer(np.cos(u), np.sin(v))\n",
    "y = radius * np.outer(np.sin(u), np.sin(v))\n",
    "z = radius * np.outer(np.ones(np.size(u)), np.cos(v))\n",
    "ax.plot_surface(x, y, z - radius, alpha=0.2, color='k', label='Ewald sphere')\n",
    "\n",
    "ax.scatter(*test.spots.loc[0:1000, ['qx', 'qy', 'qz']].values.T, s=1, c='r', label='spots')\n",
    "#ax.scatter(*pixel_df[['qx', 'qy', 'qz']].values.T, s=1, c='r', label='spots')\n",
    "\n",
    "# Sample geometry\n",
    "ax.quiver([0, 0], [0, 0], [-2 * radius, -radius], [0, 0], [0, 0], [radius, radius], colors='k')\n",
    "ax.scatter(0, 0, 0, marker='o', s=10, facecolors='none', edgecolors='k', label='transmission')\n",
    "ax.scatter(0, 0, -radius, marker='h', s=10, c='b', label='sample')\n",
    "\n",
    "# Detector extent\n",
    "#corner_indices = np.array([[0, 0], [-1, 0], [0, -1], [-1, -1]]).T\n",
    "#q_corn = q[:, *corner_indices]\n",
    "#ax.quiver([0,] * 4,\n",
    "#          [0,] * 4,\n",
    "#          [-radius,] * 4,\n",
    "#          q_corn[0],\n",
    "#          q_corn[1],\n",
    "#          q_corn[2] + radius, colors='gray', lw=0.5)\n",
    "\n",
    "\n",
    "ax.set_xlabel('qx [Å⁻¹]')\n",
    "ax.set_ylabel('qy [Å⁻¹]')\n",
    "ax.set_zlabel('qz [Å⁻¹]')\n",
    "ax.set_aspect('equal')\n",
    "\n",
    "# Initial view\n",
    "ax.view_init(elev=-45, azim=90, roll=0)\n",
    "plt.show()"
   ]
  },
  {
   "cell_type": "code",
   "execution_count": 226,
   "metadata": {},
   "outputs": [],
   "source": [
    "tth_arr = test.ai.twoThetaArray()\n",
    "chi_arr = test.ai.chiArray()\n",
    "\n",
    "polar_correction = test.ai.polarization(factor=0.9)\n",
    "solidangle_correction = test.ai.solidAngleArray()\n",
    "lorentz_correction = 1 / (np.sin(tth_arr / 2) * np.sin(tth_arr))"
   ]
  },
  {
   "cell_type": "markdown",
   "metadata": {},
   "source": []
  },
  {
   "cell_type": "code",
   "execution_count": 240,
   "metadata": {},
   "outputs": [],
   "source": [
    "tth_num = 1500\n",
    "chi_num = 1500\n",
    "\n",
    "blank_image = np.ones(test.map.image_shape)\n",
    "\n",
    "pyfai_correction = test.integrate_2d(blank_image, tth_num, chi_num, polarization_factor=0.9, correctSolidAngle=True)[0]\n",
    "\n",
    "corrected_image = blank_image / solidangle_correction / polar_correction\n",
    "\n",
    "self_correction = test.integrate_2d(corrected_image, tth_num, chi_num, polarization_factor=None, correctSolidAngle=False)[0]"
   ]
  },
  {
   "cell_type": "code",
   "execution_count": 234,
   "metadata": {},
   "outputs": [],
   "source": [
    "fig, ax = plt.subplots(1, 1, figsize=(5, 5), dpi=200)\n",
    "\n",
    "im = ax.imshow(self_correction)\n",
    "fig.colorbar(im, ax=ax)\n",
    "\n",
    "plt.show()"
   ]
  },
  {
   "cell_type": "code",
   "execution_count": 239,
   "metadata": {},
   "outputs": [],
   "source": [
    "fig, ax = plt.subplots(1, 1, figsize=(5, 5), dpi=200)\n",
    "residual = pyfai_correction - self_correction\n",
    "ext = np.max(np.abs(residual))\n",
    "\n",
    "im = ax.imshow(residual, cmap='bwr', vmin=-ext, vmax=ext)\n",
    "fig.colorbar(im, ax=ax)\n",
    "\n",
    "plt.show()"
   ]
  },
  {
   "cell_type": "code",
   "execution_count": 235,
   "metadata": {},
   "outputs": [
    {
     "data": {
      "text/plain": [
       "array([[0., 0., 0., ..., 0., 0., 0.],\n",
       "       [0., 0., 0., ..., 0., 0., 0.],\n",
       "       [0., 0., 0., ..., 0., 0., 0.],\n",
       "       ...,\n",
       "       [0., 0., 0., ..., 0., 0., 0.],\n",
       "       [0., 0., 0., ..., 0., 0., 0.],\n",
       "       [0., 0., 0., ..., 0., 0., 0.]], dtype=float32)"
      ]
     },
     "execution_count": 235,
     "metadata": {},
     "output_type": "execute_result"
    }
   ],
   "source": [
    "pyfai_correction - self_correction"
   ]
  },
  {
   "cell_type": "code",
   "execution_count": null,
   "metadata": {},
   "outputs": [],
   "source": []
  },
  {
   "cell_type": "code",
   "execution_count": 111,
   "metadata": {},
   "outputs": [],
   "source": [
    "# Real-space plotting\n",
    "\n",
    "skip = 300\n",
    "\n",
    "fig, ax = plt.subplots(1, 1, figsize=(5, 5), dpi=200, subplot_kw={'projection':'3d'})\n",
    "\n",
    "# Plot detector position\n",
    "xyz = test.ai.position_array()\n",
    "\n",
    "xyz[:, :, 0] *= -1 # Transform to synchrotron standard. Not sure if correct\n",
    "\n",
    "x = xyz[:, :, 0].ravel()[::skip]\n",
    "y = xyz[:, :, 1].ravel()[::skip]\n",
    "z = xyz[:, :, 2].ravel()[::skip]\n",
    "\n",
    "\n",
    "ax.plot_trisurf(x, y, z,\n",
    "                alpha=0.5, label='detector')\n",
    "\n",
    "# X-ray beam\n",
    "radius = test.ai.dist\n",
    "ax.quiver([0], [0], [-radius], [0], [0], [radius], colors='k')\n",
    "ax.scatter(0, 0, 0, marker='h', s=10, c='b', label='sample')\n",
    "\n",
    "# Detector\n",
    "corner_indices = np.array([[0, 0], [-1, 0], [0, -1], [-1, -1]]).T\n",
    "corn = xyz[*corner_indices].T\n",
    "ax.quiver([0,] * 4,\n",
    "          [0,] * 4,\n",
    "          [0,] * 4,\n",
    "          corn[0],\n",
    "          corn[1],\n",
    "          corn[2], colors='gray', lw=0.5)\n",
    "\n",
    "ax.set_xlabel('x [m]')\n",
    "ax.set_ylabel('y [m]')\n",
    "ax.set_zlabel('z [m]')\n",
    "ax.set_aspect('equal')\n",
    "\n",
    "# Initial view\n",
    "ax.view_init(elev=-60, azim=90, roll=0)\n",
    "plt.show()"
   ]
  },
  {
   "cell_type": "code",
   "execution_count": 363,
   "metadata": {},
   "outputs": [
    {
     "data": {
      "text/plain": [
       "7.6015960742345925"
      ]
     },
     "execution_count": 363,
     "metadata": {},
     "output_type": "execute_result"
    }
   ],
   "source": [
    "radius"
   ]
  },
  {
   "cell_type": "code",
   "execution_count": 143,
   "metadata": {},
   "outputs": [
    {
     "data": {
      "text/html": [
       "<div>\n",
       "<style scoped>\n",
       "    .dataframe tbody tr th:only-of-type {\n",
       "        vertical-align: middle;\n",
       "    }\n",
       "\n",
       "    .dataframe tbody tr th {\n",
       "        vertical-align: top;\n",
       "    }\n",
       "\n",
       "    .dataframe thead th {\n",
       "        text-align: right;\n",
       "    }\n",
       "</style>\n",
       "<table border=\"1\" class=\"dataframe\">\n",
       "  <thead>\n",
       "    <tr style=\"text-align: right;\">\n",
       "      <th></th>\n",
       "      <th>qx</th>\n",
       "      <th>qy</th>\n",
       "      <th>qz</th>\n",
       "    </tr>\n",
       "  </thead>\n",
       "  <tbody>\n",
       "    <tr>\n",
       "      <th>11</th>\n",
       "      <td>-3.236871</td>\n",
       "      <td>-0.327674</td>\n",
       "      <td>-0.731403</td>\n",
       "    </tr>\n",
       "    <tr>\n",
       "      <th>10</th>\n",
       "      <td>-2.544562</td>\n",
       "      <td>0.992806</td>\n",
       "      <td>-0.507669</td>\n",
       "    </tr>\n",
       "    <tr>\n",
       "      <th>9</th>\n",
       "      <td>-4.712897</td>\n",
       "      <td>-0.427081</td>\n",
       "      <td>-1.652607</td>\n",
       "    </tr>\n",
       "  </tbody>\n",
       "</table>\n",
       "</div>"
      ],
      "text/plain": [
       "          qx        qy        qz\n",
       "11 -3.236871 -0.327674 -0.731403\n",
       "10 -2.544562  0.992806 -0.507669\n",
       "9  -4.712897 -0.427081 -1.652607"
      ]
     },
     "execution_count": 143,
     "metadata": {},
     "output_type": "execute_result"
    }
   ],
   "source": [
    "pixel_df[['qx', 'qy', 'qz']]"
   ]
  },
  {
   "cell_type": "code",
   "execution_count": 145,
   "metadata": {},
   "outputs": [
    {
     "data": {
      "text/plain": [
       "array([-3.23687107, -0.32767447, -0.73140263])"
      ]
     },
     "execution_count": 145,
     "metadata": {},
     "output_type": "execute_result"
    }
   ],
   "source": [
    "pixel_df.iloc[0][['qx', 'qy', 'qz']].values"
   ]
  },
  {
   "cell_type": "code",
   "execution_count": 188,
   "metadata": {},
   "outputs": [
    {
     "name": "stdout",
     "output_type": "stream",
     "text": [
      "[2.16833467 1.41988698 1.14493823]\n"
     ]
    }
   ],
   "source": [
    "q_diff = pixel_df.iloc[1][['qx', 'qy', 'qz']].values - pixel_df.iloc[2][['qx', 'qy', 'qz']].values\n",
    "print(q_diff)"
   ]
  },
  {
   "cell_type": "code",
   "execution_count": 207,
   "metadata": {},
   "outputs": [
    {
     "name": "stdout",
     "output_type": "stream",
     "text": [
      "[1.47602556 0.09940648 0.92120445]\n"
     ]
    }
   ],
   "source": [
    "q_diff = pixel_df.iloc[0][['qx', 'qy', 'qz']].values - pixel_df.iloc[2][['qx', 'qy', 'qz']].values\n",
    "print(q_diff)"
   ]
  },
  {
   "cell_type": "code",
   "execution_count": 214,
   "metadata": {},
   "outputs": [
    {
     "data": {
      "text/plain": [
       "1.805080408270403"
      ]
     },
     "execution_count": 214,
     "metadata": {},
     "output_type": "execute_result"
    }
   ],
   "source": [
    "q_diff[0] / test.phases['LiNbO3 161'].a * 2 * np.pi"
   ]
  },
  {
   "cell_type": "code",
   "execution_count": null,
   "metadata": {},
   "outputs": [],
   "source": []
  },
  {
   "cell_type": "code",
   "execution_count": 208,
   "metadata": {},
   "outputs": [
    {
     "name": "stdout",
     "output_type": "stream",
     "text": [
      "[1.00461135 0.0812853  1.97910167]\n"
     ]
    }
   ],
   "source": [
    "hkl_diff = test.phases['LiNbO3 161'].HKL(q_diff)\n",
    "print(hkl_diff)"
   ]
  },
  {
   "cell_type": "code",
   "execution_count": 191,
   "metadata": {},
   "outputs": [
    {
     "name": "stdout",
     "output_type": "stream",
     "text": [
      "[  1 -15  -7]\n"
     ]
    }
   ],
   "source": [
    "hkl_appr = np.round(hkl_diff / np.min(np.abs(hkl_diff))).astype(int)\n",
    "print(hkl_appr)"
   ]
  },
  {
   "cell_type": "code",
   "execution_count": 192,
   "metadata": {},
   "outputs": [
    {
     "data": {
      "text/plain": [
       "{(-15, 14, -7),\n",
       " (-14, 15, -7),\n",
       " (-1, -14, -7),\n",
       " (1, -15, -7),\n",
       " (14, 1, -7),\n",
       " (15, -1, -7)}"
      ]
     },
     "execution_count": 192,
     "metadata": {},
     "output_type": "execute_result"
    }
   ],
   "source": [
    "test.phases['LiNbO3 161'].lattice.equivalent_hkls(hkl_appr)"
   ]
  },
  {
   "cell_type": "code",
   "execution_count": 197,
   "metadata": {},
   "outputs": [
    {
     "data": {
      "text/plain": [
       "{(-1, 1, 4), (0, -1, 4), (1, 0, 4)}"
      ]
     },
     "execution_count": 197,
     "metadata": {},
     "output_type": "execute_result"
    }
   ],
   "source": [
    "test.phases['LiNbO3 161'].lattice.equivalent_hkls([1, 0, 4])"
   ]
  },
  {
   "cell_type": "code",
   "execution_count": 201,
   "metadata": {},
   "outputs": [],
   "source": [
    "def vector_angle(V1, V2, radians=False):\n",
    "\n",
    "    unit_V1 = V1 / np.linalg.norm(V1)\n",
    "    unit_V2 = V2 / np.linalg.norm(V2)\n",
    "\n",
    "    theta = np.arccos(np.dot(unit_V1, unit_V2))\n",
    "\n",
    "    return np.degrees(theta)"
   ]
  },
  {
   "cell_type": "code",
   "execution_count": 204,
   "metadata": {},
   "outputs": [
    {
     "data": {
      "text/plain": [
       "6.605844468976728"
      ]
     },
     "execution_count": 204,
     "metadata": {},
     "output_type": "execute_result"
    }
   ],
   "source": [
    "vector_angle(pixel_df.iloc[0][['qx', 'qy', 'qz']].values, pixel_df.iloc[2][['qx', 'qy', 'qz']].values)"
   ]
  },
  {
   "cell_type": "code",
   "execution_count": 262,
   "metadata": {},
   "outputs": [
    {
     "data": {
      "text/plain": [
       "1.4121214249166707"
      ]
     },
     "execution_count": 262,
     "metadata": {},
     "output_type": "execute_result"
    }
   ],
   "source": [
    "np.linalg.norm(test.phases['LiNbO3 161'].Q([0, 1, 0]))"
   ]
  },
  {
   "cell_type": "code",
   "execution_count": 254,
   "metadata": {},
   "outputs": [],
   "source": [
    "q1 = q_vect(90, 0, wavelength=2 * np.pi).T[0]\n",
    "q2 = q_vect(90, 90, wavelength=2 * np.pi).T[0]"
   ]
  },
  {
   "cell_type": "code",
   "execution_count": 255,
   "metadata": {},
   "outputs": [
    {
     "data": {
      "text/plain": [
       "120.0"
      ]
     },
     "execution_count": 255,
     "metadata": {},
     "output_type": "execute_result"
    }
   ],
   "source": [
    "np.round(vector_angle(q1, q2) * 2 , 3)"
   ]
  },
  {
   "cell_type": "code",
   "execution_count": 216,
   "metadata": {},
   "outputs": [
    {
     "data": {
      "text/plain": [
       "array([-3.23687107, -0.32767447, -0.73140263])"
      ]
     },
     "execution_count": 216,
     "metadata": {},
     "output_type": "execute_result"
    }
   ],
   "source": [
    "pixel_df.iloc[0][['qx', 'qy', 'qz']].values"
   ]
  },
  {
   "cell_type": "code",
   "execution_count": 215,
   "metadata": {},
   "outputs": [
    {
     "data": {
      "text/plain": [
       "array([-4.71289663, -0.42708095, -1.65260708])"
      ]
     },
     "execution_count": 215,
     "metadata": {},
     "output_type": "execute_result"
    }
   ],
   "source": [
    "pixel_df.iloc[2][['qx', 'qy', 'qz']].values"
   ]
  },
  {
   "cell_type": "code",
   "execution_count": 205,
   "metadata": {},
   "outputs": [],
   "source": [
    "test.map.plot_image(test.map.images[1, 0])"
   ]
  },
  {
   "cell_type": "code",
   "execution_count": 25,
   "metadata": {},
   "outputs": [
    {
     "data": {
      "text/html": [
       "<div>\n",
       "<style scoped>\n",
       "    .dataframe tbody tr th:only-of-type {\n",
       "        vertical-align: middle;\n",
       "    }\n",
       "\n",
       "    .dataframe tbody tr th {\n",
       "        vertical-align: top;\n",
       "    }\n",
       "\n",
       "    .dataframe thead th {\n",
       "        text-align: right;\n",
       "    }\n",
       "</style>\n",
       "<table border=\"1\" class=\"dataframe\">\n",
       "  <thead>\n",
       "    <tr style=\"text-align: right;\">\n",
       "      <th></th>\n",
       "      <th>fit_x0</th>\n",
       "    </tr>\n",
       "  </thead>\n",
       "  <tbody>\n",
       "    <tr>\n",
       "      <th>11</th>\n",
       "      <td>25.340128</td>\n",
       "    </tr>\n",
       "    <tr>\n",
       "      <th>10</th>\n",
       "      <td>21.058268</td>\n",
       "    </tr>\n",
       "    <tr>\n",
       "      <th>9</th>\n",
       "      <td>38.500994</td>\n",
       "    </tr>\n",
       "  </tbody>\n",
       "</table>\n",
       "</div>"
      ],
      "text/plain": [
       "       fit_x0\n",
       "11  25.340128\n",
       "10  21.058268\n",
       "9   38.500994"
      ]
     },
     "execution_count": 25,
     "metadata": {},
     "output_type": "execute_result"
    }
   ],
   "source": [
    "pixel_df[['fit_x0']]"
   ]
  },
  {
   "cell_type": "code",
   "execution_count": 198,
   "metadata": {},
   "outputs": [
    {
     "data": {
      "text/plain": [
       "array([1.69136665, 2.33679777, 2.44586605, 2.79279574, 2.81641399,\n",
       "       2.97371517, 3.3827333 , 3.71240741, 3.76500558, 3.85035617,\n",
       "       3.982491  , 4.1743437 , 4.23636427, 4.40171243, 4.67359554,\n",
       "       4.85093845, 4.8641487 , 4.89173211, 4.95730549, 5.07409995,\n",
       "       5.08713771, 5.11270853, 5.17588294, 5.27491764, 5.42122374,\n",
       "       5.44446539])"
      ]
     },
     "execution_count": 198,
     "metadata": {},
     "output_type": "execute_result"
    }
   ],
   "source": [
    "test.phases['LiNbO3 161'].reflections['q']"
   ]
  },
  {
   "cell_type": "code",
   "execution_count": 196,
   "metadata": {},
   "outputs": [
    {
     "data": {
      "text/plain": [
       "array([[ 0,  1,  2],\n",
       "       [ 1,  0,  4],\n",
       "       [ 1,  1,  0],\n",
       "       [ 0,  0,  6],\n",
       "       [ 1,  1,  3],\n",
       "       [ 2,  0,  2],\n",
       "       [ 0,  2,  4],\n",
       "       [ 1,  1,  6],\n",
       "       [ 2,  1,  1],\n",
       "       [ 1,  2,  2],\n",
       "       [ 0,  1,  8],\n",
       "       [ 2,  1,  4],\n",
       "       [ 0,  3,  0],\n",
       "       [ 1,  2,  5],\n",
       "       [ 2,  0,  8],\n",
       "       [ 1,  1,  9],\n",
       "       [ 1,  0, 10],\n",
       "       [ 2,  2,  0],\n",
       "       [ 2,  1,  7],\n",
       "       [ 0,  3,  6],\n",
       "       [ 2,  2,  3],\n",
       "       [ 1,  3,  1],\n",
       "       [ 3,  1,  2],\n",
       "       [ 1,  2,  8],\n",
       "       [ 1,  3,  4],\n",
       "       [ 0,  2, 10]])"
      ]
     },
     "execution_count": 196,
     "metadata": {},
     "output_type": "execute_result"
    }
   ],
   "source": [
    "test.phases['LiNbO3 161'].reflections['hkl']"
   ]
  },
  {
   "cell_type": "code",
   "execution_count": 66,
   "metadata": {},
   "outputs": [
    {
     "ename": "TypeError",
     "evalue": "'>' not supported between instances of 'list' and 'int'",
     "output_type": "error",
     "traceback": [
      "\u001b[1;31m---------------------------------------------------------------------------\u001b[0m",
      "\u001b[1;31mTypeError\u001b[0m                                 Traceback (most recent call last)",
      "Cell \u001b[1;32mIn[66], line 1\u001b[0m\n\u001b[1;32m----> 1\u001b[0m \u001b[43mtest\u001b[49m\u001b[38;5;241;43m.\u001b[39;49m\u001b[43mphases\u001b[49m\u001b[43m[\u001b[49m\u001b[38;5;124;43m'\u001b[39;49m\u001b[38;5;124;43mLiNbO3 161\u001b[39;49m\u001b[38;5;124;43m'\u001b[39;49m\u001b[43m]\u001b[49m\u001b[38;5;241;43m.\u001b[39;49m\u001b[43mget_hkl_reflections\u001b[49m\u001b[43m(\u001b[49m\u001b[43mtth_range\u001b[49m\u001b[38;5;241;43m=\u001b[39;49m\u001b[43m(\u001b[49m\u001b[38;5;241;43m0\u001b[39;49m\u001b[43m,\u001b[49m\u001b[43m \u001b[49m\u001b[43mnp\u001b[49m\u001b[38;5;241;43m.\u001b[39;49m\u001b[43mmax\u001b[49m\u001b[43m(\u001b[49m\u001b[43mtest\u001b[49m\u001b[38;5;241;43m.\u001b[39;49m\u001b[43mtth\u001b[49m\u001b[43m)\u001b[49m\u001b[43m)\u001b[49m\u001b[43m,\u001b[49m\u001b[43m \u001b[49m\u001b[43menergy\u001b[49m\u001b[38;5;241;43m=\u001b[39;49m\u001b[43mtest\u001b[49m\u001b[38;5;241;43m.\u001b[39;49m\u001b[43menergy\u001b[49m\u001b[38;5;241;43m*\u001b[39;49m\u001b[38;5;241;43m1e3\u001b[39;49m\u001b[43m)\u001b[49m\n",
      "File \u001b[1;32m~\\OneDrive - Brookhaven National Laboratory\\Documents\\Postdoc\\Repositories\\SRX_sXRD_analysis\\testing_modules\\sXRD_phase.py:150\u001b[0m, in \u001b[0;36mPhase.get_hkl_reflections\u001b[1;34m(self, tth_range, energy, ignore_less)\u001b[0m\n\u001b[0;32m    147\u001b[0m         \u001b[38;5;28;01mif\u001b[39;00m np\u001b[38;5;241m.\u001b[39msum(sort_refl[index]) \u001b[38;5;241m>\u001b[39m np\u001b[38;5;241m.\u001b[39msum(hkl_list[\u001b[38;5;241m-\u001b[39m\u001b[38;5;241m1\u001b[39m]):\n\u001b[0;32m    148\u001b[0m             hkl_list[\u001b[38;5;241m-\u001b[39m\u001b[38;5;241m1\u001b[39m] \u001b[38;5;241m=\u001b[39m sort_refl[index] \u001b[38;5;66;03m# bias towards positive hkl values\u001b[39;00m\n\u001b[1;32m--> 150\u001b[0m mask \u001b[38;5;241m=\u001b[39m (\u001b[43mint_list\u001b[49m\u001b[43m \u001b[49m\u001b[38;5;241;43m>\u001b[39;49m\u001b[43m \u001b[49m\u001b[43mignore_less\u001b[49m) \u001b[38;5;241m&\u001b[39m (tth_list \u001b[38;5;241m>\u001b[39m tth_range[\u001b[38;5;241m0\u001b[39m])\n\u001b[0;32m    152\u001b[0m data \u001b[38;5;241m=\u001b[39m {\n\u001b[0;32m    153\u001b[0m     \u001b[38;5;124m'\u001b[39m\u001b[38;5;124mhkl\u001b[39m\u001b[38;5;124m'\u001b[39m : np\u001b[38;5;241m.\u001b[39marray(hkl_list)[mask],\n\u001b[0;32m    154\u001b[0m     \u001b[38;5;124m'\u001b[39m\u001b[38;5;124mq\u001b[39m\u001b[38;5;124m'\u001b[39m : np\u001b[38;5;241m.\u001b[39marray(q_list)[mask],\n\u001b[1;32m   (...)\u001b[0m\n\u001b[0;32m    157\u001b[0m     \u001b[38;5;124m'\u001b[39m\u001b[38;5;124md\u001b[39m\u001b[38;5;124m'\u001b[39m : np\u001b[38;5;241m.\u001b[39marray(d_list)[mask]\n\u001b[0;32m    158\u001b[0m     }\n\u001b[0;32m    160\u001b[0m \u001b[38;5;28mself\u001b[39m\u001b[38;5;241m.\u001b[39mreflections \u001b[38;5;241m=\u001b[39m data\n",
      "\u001b[1;31mTypeError\u001b[0m: '>' not supported between instances of 'list' and 'int'"
     ]
    }
   ],
   "source": [
    "test.phases['LiNbO3 161'].get_hkl_reflections(tth_range=(0, np.max(test.tth)), energy=test.energy*1e3)"
   ]
  },
  {
   "cell_type": "code",
   "execution_count": 78,
   "metadata": {},
   "outputs": [
    {
     "data": {
      "text/plain": [
       "array([0, 3, 6])"
      ]
     },
     "execution_count": 78,
     "metadata": {},
     "output_type": "execute_result"
    }
   ],
   "source": [
    "test.phases['LiNbO3 161'].reflections['hkl'][19]"
   ]
  },
  {
   "cell_type": "code",
   "execution_count": 89,
   "metadata": {},
   "outputs": [
    {
     "ename": "NameError",
     "evalue": "name 'columns' is not defined",
     "output_type": "error",
     "traceback": [
      "\u001b[1;31m---------------------------------------------------------------------------\u001b[0m",
      "\u001b[1;31mNameError\u001b[0m                                 Traceback (most recent call last)",
      "Cell \u001b[1;32mIn[89], line 1\u001b[0m\n\u001b[1;32m----> 1\u001b[0m pixel_df\u001b[38;5;241m.\u001b[39miloc[\u001b[38;5;241m0\u001b[39m, \u001b[43mcolumns\u001b[49m\u001b[38;5;241m==\u001b[39m[\u001b[38;5;124m'\u001b[39m\u001b[38;5;124mqx\u001b[39m\u001b[38;5;124m'\u001b[39m, \u001b[38;5;124m'\u001b[39m\u001b[38;5;124mqy\u001b[39m\u001b[38;5;124m'\u001b[39m, \u001b[38;5;124m'\u001b[39m\u001b[38;5;124mqz\u001b[39m\u001b[38;5;124m'\u001b[39m]]\n",
      "\u001b[1;31mNameError\u001b[0m: name 'columns' is not defined"
     ]
    }
   ],
   "source": [
    "pixel_df.iloc[0, columns==['qx', 'qy', 'qz']]"
   ]
  },
  {
   "cell_type": "code",
   "execution_count": 80,
   "metadata": {},
   "outputs": [
    {
     "data": {
      "text/plain": [
       "{(-3, 0, 6), (0, 3, 6), (3, -3, 6)}"
      ]
     },
     "execution_count": 80,
     "metadata": {},
     "output_type": "execute_result"
    }
   ],
   "source": [
    "test.phases['LiNbO3 161'].lattice.equivalent_hkls([0, 3, 6])"
   ]
  },
  {
   "cell_type": "code",
   "execution_count": 207,
   "metadata": {},
   "outputs": [],
   "source": [
    "import xrayutilities as xu\n",
    "\n",
    "data = xu.simpack.PowderDiffraction(test.phases['LiNbO3 161'], en=test.energy*1e3, tt_cutoff=45)"
   ]
  },
  {
   "cell_type": "code",
   "execution_count": 226,
   "metadata": {},
   "outputs": [
    {
     "data": {
      "text/plain": [
       "{(-1, 0, 2), (-1, 1, -2), (0, -1, -2), (0, 1, 2), (1, -1, 2), (1, 0, -2)}"
      ]
     },
     "execution_count": 226,
     "metadata": {},
     "output_type": "execute_result"
    }
   ],
   "source": [
    "linbo.lattice.get_allowed_hkl(qmax=2)"
   ]
  },
  {
   "cell_type": "code",
   "execution_count": 271,
   "metadata": {},
   "outputs": [],
   "source": [
    "all_refl = linbo.lattice.get_allowed_hkl(qmax=tth_2_q(np.max(test.tth), wavelength=energy_2_wavelength(test.energy)))"
   ]
  },
  {
   "cell_type": "code",
   "execution_count": 278,
   "metadata": {},
   "outputs": [],
   "source": [
    "q_list = np.linalg.norm(linbo.Q(*refl_list), axis=1)\n",
    "#q_list.sort()"
   ]
  },
  {
   "cell_type": "code",
   "execution_count": 310,
   "metadata": {},
   "outputs": [],
   "source": [
    "all_refl = linbo.lattice.get_allowed_hkl(qmax=tth_2_q(np.max(test.tth), wavelength=energy_2_wavelength(test.energy)))\n",
    "all_q = np.linalg.norm(linbo.Q(*all_refl), axis=1)\n",
    "all_q = np.round(all_q, 10) # Clean up some errors\n",
    "sort_refl = [x for _, x in sorted(zip(all_q, all_refl))]\n",
    "all_q.sort()\n",
    "F_hkl = np.abs(linbo.StructureFactor(sort_refl))\n",
    "F_hkl = rescale_array(F_hkl, lower=0, upper=100)"
   ]
  },
  {
   "cell_type": "code",
   "execution_count": 316,
   "metadata": {},
   "outputs": [],
   "source": [
    "ignore_less = 1\n",
    "wavelength = energy_2_wavelength(test.energy)\n",
    "\n",
    "all_refl = linbo.lattice.get_allowed_hkl(qmax=tth_2_q(np.max(test.tth), wavelength=wavelength))\n",
    "all_q = np.linalg.norm(linbo.Q(*all_refl), axis=1)\n",
    "all_q = np.round(all_q, 10) # Clean up some errors\n",
    "sort_refl = [x for _, x in sorted(zip(all_q, all_refl))]\n",
    "all_q.sort()\n",
    "F_hkl = np.abs(linbo.StructureFactor(sort_refl))\n",
    "F_hkl = rescale_array(F_hkl, lower=0, upper=100)\n",
    "\n",
    "hkl_list = []\n",
    "q_list = []\n",
    "int_list = []\n",
    "tth_list = []\n",
    "d_list = []\n",
    "\n",
    "for index, norm_int in enumerate(F_hkl):\n",
    "    if all_q[index] not in q_list:\n",
    "        hkl_list.append(sort_refl[index]) # Only takes first hkl value\n",
    "        q_list.append(all_q[index])\n",
    "        int_list.append(norm_int)\n",
    "        tth_list.append(q_2_tth(all_q[index], wavelength=wavelength))\n",
    "        d_list.append(convert_qd(all_q[index]))\n",
    "    else:\n",
    "        int_list[-1] += norm_int # Handles multiplicity\n",
    "        if np.sum(sort_refl[index]) > np.sum(hkl_list[-1]):\n",
    "            hkl_list[-1] = sort_refl[index] # bias towards positive hkl values\n",
    "\n",
    "data = {\n",
    "    'hkl' : np.array(hkl_list)[int_list > ignore_less],\n",
    "    'q' : np.array(q_list)[int_list > ignore_less],\n",
    "    'int' : np.array(int_list)[int_list > ignore_less],\n",
    "    'tth' : np.array(tth_list)[int_list > ignore_less],\n",
    "    'd' : np.array(d_list)[int_list > ignore_less]\n",
    "    }"
   ]
  },
  {
   "cell_type": "code",
   "execution_count": 320,
   "metadata": {},
   "outputs": [
    {
     "name": "stdout",
     "output_type": "stream",
     "text": [
      "XU.materials: Warning: element O used instead of O-2\n",
      "XU.materials: Warning: element Nb used instead of Nb+5\n",
      "XU.materials: Warning: element Li used instead of Li+1\n",
      "Did not add LiNbO3 161 since it is already in possible phases.\n",
      "XU.materials: Warning: element O used instead of O-2\n",
      "XU.materials: Warning: element Nb used instead of Nb+5\n",
      "XU.materials: Warning: element Li used instead of Li+1\n"
     ]
    }
   ],
   "source": [
    "cif_dir = '''C:\\\\Users\\\\emusterma\\\\OneDrive - Brookhaven National Laboratory\\\\Documents\\\\Postdoc\\\\Literature\\\\CIF\\\\'''\n",
    "\n",
    "test.load_phase('Barker\\\\1521772COD.cif', filedir=cif_dir, phase_name=\"LiNbO3 161\")\n",
    "test.load_phase('Barker\\\\1521772COD.cif', filedir=cif_dir, phase_name=\"LiNbO3 new\")\n",
    "\n",
    "test.phases['LiNbO3 new'].reflections = data"
   ]
  },
  {
   "cell_type": "code",
   "execution_count": 321,
   "metadata": {},
   "outputs": [],
   "source": [
    "test.select_phases()"
   ]
  },
  {
   "cell_type": "code",
   "execution_count": null,
   "metadata": {},
   "outputs": [],
   "source": []
  },
  {
   "cell_type": "code",
   "execution_count": null,
   "metadata": {},
   "outputs": [],
   "source": []
  },
  {
   "cell_type": "code",
   "execution_count": null,
   "metadata": {},
   "outputs": [],
   "source": []
  },
  {
   "cell_type": "code",
   "execution_count": 18,
   "metadata": {},
   "outputs": [],
   "source": [
    "pixel_df.dropna(axis=0, inplace=True)\n",
    "pixel_df.sort_values(by=['fit_integrated'], inplace=True)"
   ]
  },
  {
   "cell_type": "code",
   "execution_count": 19,
   "metadata": {},
   "outputs": [],
   "source": [
    "q_arr = pixel_df[['qx', 'qy', 'qz']].values"
   ]
  },
  {
   "cell_type": "code",
   "execution_count": 20,
   "metadata": {},
   "outputs": [],
   "source": [
    "dist = euclidean_distances(q_arr)"
   ]
  },
  {
   "cell_type": "code",
   "execution_count": 21,
   "metadata": {},
   "outputs": [
    {
     "data": {
      "text/plain": [
       "array([[0.        , 1.50765296, 1.74274231],\n",
       "       [1.50765296, 0.        , 2.8334851 ],\n",
       "       [1.74274231, 2.8334851 , 0.        ]])"
      ]
     },
     "execution_count": 21,
     "metadata": {},
     "output_type": "execute_result"
    }
   ],
   "source": [
    "dist"
   ]
  },
  {
   "cell_type": "code",
   "execution_count": null,
   "metadata": {},
   "outputs": [],
   "source": []
  },
  {
   "cell_type": "code",
   "execution_count": null,
   "metadata": {},
   "outputs": [],
   "source": []
  },
  {
   "cell_type": "code",
   "execution_count": 239,
   "metadata": {},
   "outputs": [],
   "source": [
    "def plot_image(xrdmap, image=None, indices=None, title=None,\n",
    "               mask=None, spots=False, contours=False,\n",
    "               aspect='auto', vmin=None, \n",
    "               return_plot=False,\n",
    "               **kwargs):\n",
    "    \n",
    "    # Check image type\n",
    "    if image is not None:\n",
    "        image = np.asarray(image)\n",
    "        if len(image.shape) == 1 and len(image) == 2:\n",
    "            indices = tuple(iter(image))\n",
    "            image = xrdmap.map.images[indices]\n",
    "        elif len(image.shape) == 2:\n",
    "            if indices is not None:\n",
    "                indices = tuple(indices)\n",
    "        else:\n",
    "            raise ValueError(f\"Incorrect image shape of {image.shape}. Should be two-dimensional.\")\n",
    "    else:\n",
    "        if indices is not None:\n",
    "            indices = tuple(indices)\n",
    "            image = xrdmap.map.images[indices]\n",
    "        else:\n",
    "            i = np.random.randint(xrdmap.map.map_shape[0])\n",
    "            j = np.random.randint(xrdmap.map.map_shape[1])\n",
    "            indices = (i, j)\n",
    "            image = xrdmap.map.images[indices]\n",
    "\n",
    "    # Check for mask\n",
    "    if mask is not None:\n",
    "        if mask is True:\n",
    "            image = image * xrdmap.map.mask\n",
    "        elif np.asarray(mask).shape == image.shape:\n",
    "            image = image * mask\n",
    "        else:\n",
    "            raise RuntimeError(\"Error handling mask input.\")\n",
    "        \n",
    "    # Plot image\n",
    "    fig, ax = plt.subplots(1, 1, figsize=(5, 5), dpi=200)\n",
    "    # Allow some flexibility for kwarg inputs\n",
    "    plot_kwargs = {'c' : 'r',\n",
    "                   'lw' : 0.5,\n",
    "                   's' : 1}\n",
    "    for key in plot_kwargs.keys():\n",
    "        if key in kwargs.keys():\n",
    "            plot_kwargs[key] = kwargs[key]\n",
    "\n",
    "    if hasattr(xrdmap.map, 'extent'):\n",
    "        if vmin == None:\n",
    "            vmin = 0\n",
    "        im = ax.imshow(image, extent=xrdmap.extent, vmin=vmin, aspect=aspect, **kwargs)\n",
    "        ax.set_xlabel('Scattering Angle, 2θ [°]') # Assumes degrees. Need to change...\n",
    "        ax.set_ylabel('Azimuthal Angle, χ [°]')\n",
    "    else:\n",
    "        im = ax.imshow(image, aspect=aspect, **kwargs)\n",
    "        ax.set_xlabel('X index')\n",
    "        ax.set_ylabel('Y index')\n",
    "    fig.colorbar(im, ax=ax) \n",
    "\n",
    "    if title is not None:\n",
    "        ax.set_title(title)\n",
    "    elif indices is not None:\n",
    "        ax.set_title(f'Row = {indices[0]}, Col = {indices[1]}')\n",
    "    elif xrdmap.map.title is not None:\n",
    "        ax.set_title(xrdmap.map.title)\n",
    "    else:\n",
    "        ax.set_title('Input Image')\n",
    "\n",
    "    if indices is not None:\n",
    "        # Set some default values\n",
    "\n",
    "        \n",
    "        # Plot spots\n",
    "        if spots and hasattr(xrdmap, 'spots'):\n",
    "            pixel_df = test.spots[(test.spots['map_x'] == indices[0]) & (test.spots['map_y'] == indices[1])].copy()\n",
    "            if any([x[:3] == 'fit' for x in pixel_df.keys()]):\n",
    "                pixel_df.dropna(axis=0, inplace=True)\n",
    "                spots = pixel_df[['fit_y0', 'fit_x0']].values\n",
    "            else:\n",
    "                spots = pixel_df[['guess_ceny', 'guess_cenx']].values\n",
    "            ax.scatter(spots[:, 1], spots[:, 0], s=plot_kwargs['s'], c=plot_kwargs['c'])\n",
    "        \n",
    "        elif spots and not hasattr(xrdmap, 'spots'):\n",
    "            print('Warning: Plotting spots requested, but xrdmap does not have any spots!')\n",
    "\n",
    "        # Plot contours\n",
    "        if contours and hasattr(xrdmap.map, 'spot_masks'):\n",
    "            blob_img = label(xrdmap.map.spot_masks[indices])\n",
    "            blob_contours = find_blob_contours(blob_img)\n",
    "            for i in range(len(blob_contours)):\n",
    "                blob_contours[i] = estimate_reciprocal_coords(blob_contours[i], image.shape, tth=xrdmap.tth, chi=xrdmap.chi)\n",
    "            for contour in blob_contours:\n",
    "                ax.plot(*contour, c=plot_kwargs['c'], lw=plot_kwargs['lw'])\n",
    "            \n",
    "        elif contours and not hasattr(xrdmap, 'spot_masks'):\n",
    "            print('Warning: Plotting spots requested, but xrdmap does not have any spots!')\n",
    "    \n",
    "    elif spots or contours:\n",
    "        print('Warning: Cannot request spots or contours without providing map indices!')\n",
    "\n",
    "    if return_plot:\n",
    "        return fig, ax\n",
    "    \n",
    "    plt.show()"
   ]
  },
  {
   "cell_type": "code",
   "execution_count": 174,
   "metadata": {},
   "outputs": [],
   "source": [
    "plot_image(test, test.map.mask)"
   ]
  },
  {
   "cell_type": "code",
   "execution_count": 166,
   "metadata": {},
   "outputs": [],
   "source": [
    "indices = pixel_df.index"
   ]
  },
  {
   "cell_type": "code",
   "execution_count": 172,
   "metadata": {},
   "outputs": [
    {
     "data": {
      "text/plain": [
       "array([ 0.17024574, 12.70959352])"
      ]
     },
     "execution_count": 172,
     "metadata": {},
     "output_type": "execute_result"
    }
   ],
   "source": [
    "pixel_df.loc[indices[-1], ['guess_height', 'guess_cenx']].values"
   ]
  },
  {
   "cell_type": "code",
   "execution_count": 242,
   "metadata": {},
   "outputs": [],
   "source": [
    "def reconstruct_image(xrdmap, indices=None, plot_residual=False, **kwargs):\n",
    "    if not hasattr(xrdmap, 'spots'):\n",
    "        raise RuntimeError('xrdmap does not have any spots!')\n",
    "\n",
    "    if indices is None:\n",
    "        i = np.random.randint(xrdmap.map.map_shape[0])\n",
    "        j = np.random.randint(xrdmap.map.map_shape[1])\n",
    "        indices = (i, j)\n",
    "    else:\n",
    "        indices = tuple(indices)\n",
    "    \n",
    "    if hasattr(xrdmap, 'spot_model'):\n",
    "        spot_model = xrdmap.spot_model\n",
    "    spot_model = GaussianFunctions\n",
    "    \n",
    "    pixel_df = test.spots[(test.spots['map_x'] == indices[0]) & (test.spots['map_y'] == indices[1])].copy()\n",
    "    x_coords, y_coords = np.meshgrid(xrdmap.tth, xrdmap.chi[::-1])\n",
    "\n",
    "    if any([x[:3] == 'fit' for x in pixel_df.keys()]):\n",
    "        prefix = 'fit'\n",
    "        pixel_df.dropna(axis=0, inplace=True)\n",
    "        param_labels = [x for x in test.spots.loc[0].keys() if x[:3] == 'fit'][:6]\n",
    "    else:\n",
    "        prefix = 'guess'\n",
    "        param_labels = ['height', 'cenx', 'ceny', 'stdx', 'stdy']\n",
    "        param_labels = [f'guess_{param_label}' for param_label in param_labels]\n",
    "        spot_model = GaussianFunctions\n",
    "\n",
    "    fit_args = []\n",
    "    for index in pixel_df.index:\n",
    "        fit_args.extend(pixel_df.loc[index, param_labels].values)\n",
    "        if prefix == 'guess':\n",
    "            fit_args.append(0) # Filling in theta value\n",
    "\n",
    "    if len(fit_args) > 0:\n",
    "        #return fit_args\n",
    "        recon_image = spot_model.multi_2d([x_coords.ravel(), y_coords.ravel()], 0, *fit_args)\n",
    "        recon_image = recon_image.reshape(xrdmap.map.calibrated_shape)\n",
    "    else:\n",
    "        recon_image = np.zeros(xrdmap.map.calibrated_shape)\n",
    "\n",
    "    if not plot_residual:\n",
    "        fig, ax = plot_image(xrdmap, recon_image,\n",
    "                             return_plot=True, indices=indices,\n",
    "                             **kwargs)\n",
    "        plt.show()\n",
    "    else:\n",
    "        image = xrdmap.map.images[indices]\n",
    "        residual = recon_image - image\n",
    "        ext = np.max(np.abs(residual[xrdmap.map.mask]))\n",
    "        fig, ax = plot_image(xrdmap, residual,\n",
    "                             title=f'Residual of ({indices[0]}, {indices[1]})',\n",
    "                             return_plot=True, indices=indices,\n",
    "                             vmin=-ext, vmax=ext, cmap='bwr', # c='k',\n",
    "                             **kwargs)\n",
    "        plt.show()"
   ]
  },
  {
   "cell_type": "code",
   "execution_count": 243,
   "metadata": {},
   "outputs": [],
   "source": [
    "reconstruct_image(test, [1, 1], plot_residual=True, spots=True)"
   ]
  },
  {
   "cell_type": "code",
   "execution_count": 138,
   "metadata": {},
   "outputs": [],
   "source": [
    "fig, ax = plt.subplots(1, 1, figsize=(5, 5), dpi=200)\n",
    "\n",
    "nan_mask = ~np.isnan(test.spots['fit_integrated'].values)\n",
    "\n",
    "ax.scatter(test.spots['guess_stdy'].values[nan_mask], test.spots['fit_sigma_y'].values[nan_mask], alpha=0.5, s=1, c='k')\n",
    "\n",
    "plt.show()"
   ]
  },
  {
   "cell_type": "code",
   "execution_count": null,
   "metadata": {},
   "outputs": [],
   "source": [
    "fig, ax = plt.subplots(1, 1, figsize=(5, 5), dpi=200)\n",
    "\n",
    "nan_mask = ~np.isnan(test.spots['fit_integrated'].values)\n",
    "\n",
    "ax.scatter(np.array(range(len(test.spots)))[nan_mask], test.spots['guess_height'].values[nan_mask], alpha=0.5, s=1, c='k')\n",
    "\n",
    "plt.show()"
   ]
  },
  {
   "cell_type": "code",
   "execution_count": null,
   "metadata": {},
   "outputs": [],
   "source": [
    "def iter_rescale_array(arr, lower=0, upper=1, arr_min=None, arr_max=None):\n",
    "    # Works for arrays of any size including images!\n",
    "    if arr_min is None:\n",
    "        arr_min = np.min(arr)\n",
    "    if arr_max is None:\n",
    "        arr_max = np.max(arr)\n",
    "    ext = upper - lower\n",
    "\n",
    "    @dask.delayed\n",
    "    def delayed_rescale_array(arr, lower, ext, arr_min, arr_max, indices):\n",
    "        arr[indices] = lower + ext * ((arr[indices] - arr_min) / (arr_max - arr_min))\n",
    "        return arr[indices]\n",
    "\n",
    "    delayed_list = []\n",
    "    for index in tqdm(range(np.multiply(*arr.shape[:2])), desc='Scheduling...'):\n",
    "        indices = np.unravel_index(index, arr.shape[:2])\n",
    "\n",
    "        delayed_list.append(delayed_rescale_array(arr[indices], lower, ext, arr_min, arr_max, indices))\n",
    "\n",
    "    #return delayed_list\n",
    "    with TqdmCallback(desc='Computing...', tqdm_class=tqdm):\n",
    "        dask.compute(*delayed_list)"
   ]
  },
  {
   "cell_type": "code",
   "execution_count": null,
   "metadata": {},
   "outputs": [],
   "source": [
    "test.map.plot_image()"
   ]
  },
  {
   "cell_type": "code",
   "execution_count": null,
   "metadata": {},
   "outputs": [],
   "source": [
    "#nan_med = test.map.med_image\n",
    "nan_med = median_image\n",
    "nan_med[~test.map.calibration_mask] = np.nan\n",
    "ball_bkg = rolling_ball(gaussian_filter(nan_med, sigma=2), radius=50)\n",
    "ball_bkg[~test.map.calibration_mask] = 0\n",
    "test.map.remove_background(background=ball_bkg * test.map.calibration_mask)\n",
    "test.map.images = rescale_array(test.map.images, lower=0, upper=100)"
   ]
  },
  {
   "cell_type": "code",
   "execution_count": null,
   "metadata": {},
   "outputs": [],
   "source": [
    "test.map.update_map_title()\n",
    "test.map.save_images(units=test.map.calib_unit, labels=['x_ind', 'y_ind', 'chi_ind', 'tth_ind'])"
   ]
  },
  {
   "cell_type": "code",
   "execution_count": null,
   "metadata": {},
   "outputs": [],
   "source": [
    "map_noise = estimate_map_noise(test.map)"
   ]
  },
  {
   "cell_type": "code",
   "execution_count": null,
   "metadata": {},
   "outputs": [],
   "source": [
    "i = np.random.randint(test.map.map_shape[0])\n",
    "j = np.random.randint(test.map.map_shape[1])\n",
    "\n",
    "out = spot_search(test.map.images[i, j], bkg_noise=map_noise, multiplier=3, plotme=True)"
   ]
  },
  {
   "cell_type": "code",
   "execution_count": null,
   "metadata": {},
   "outputs": [],
   "source": [
    "test.map.plot_image(out[1] * out[2])"
   ]
  },
  {
   "cell_type": "code",
   "execution_count": null,
   "metadata": {},
   "outputs": [
    {
     "name": "stderr",
     "output_type": "stream",
     "text": [
      "Scheduling spot search...: 100%|██████████| 3721/3721 [00:00<00:00, 8923.01it/s] \n",
      "Searching images for spots...: 100%|██████████| 3721/3721 [01:32<00:00, 40.04it/s]\n",
      "Scheduling spot characterization...: 100%|██████████| 22193/22193 [00:02<00:00, 7791.26it/s] \n",
      "Characterizing spots...: 100%|██████████| 22193/22193 [09:00<00:00, 41.08it/s]\n"
     ]
    }
   ],
   "source": [
    "test.find_spots(multiplier=3)"
   ]
  },
  {
   "cell_type": "code",
   "execution_count": null,
   "metadata": {},
   "outputs": [],
   "source": []
  },
  {
   "cell_type": "code",
   "execution_count": null,
   "metadata": {},
   "outputs": [
    {
     "name": "stderr",
     "output_type": "stream",
     "text": [
      "Scheduling blob segmentation for spot fits...: 100%|██████████| 3721/3721 [05:43<00:00, 10.82it/s]\n",
      "Segmenting blobs for spot fits...: 100%|██████████| 3721/3721 [02:43<00:00, 22.79it/s]\n",
      "Scheduling spot fits...: 100%|██████████| 19175/19175 [00:02<00:00, 7008.92it/s]\n",
      "Fitting spots in blobs...: 100%|██████████| 19175/19175 [10:19<00:00, 30.95it/s]\n"
     ]
    },
    {
     "name": "stdout",
     "output_type": "stream",
     "text": [
      "Successfully fit 16396 / 22193 spots ( 73.9 % ).\n"
     ]
    }
   ],
   "source": [
    "test.fit_spots(GaussianFunctions, max_dist=0.75)"
   ]
  },
  {
   "cell_type": "code",
   "execution_count": null,
   "metadata": {},
   "outputs": [],
   "source": [
    "plot_map = np.zeros(test.map.map_shape)\n",
    "plot_map[:] = np.nan\n",
    "\n",
    "for image_index in range(test.map.num_images):\n",
    "    indices = np.unravel_index(image_index, test.map.map_shape)\n",
    "    pixel_df = test.spots[(test.spots['map_x'] == indices[0])\n",
    "                          & (test.spots['map_y'] == indices[1])]\n",
    "    \n",
    "    if len(pixel_df) < 1:\n",
    "        plot_map[indices] = 0\n",
    "    else:\n",
    "        plot_map[indices] = np.sum(pixel_df['guess_int'])\n",
    "        #plot_map[indices] = np.sum(pixel_df['fit_amp'])\n",
    "        #plot_map[indices] = np.mean(pixel_df['fit_x0'])\n",
    "        #plot_map[indices] = len(pixel_df)\n",
    "\n",
    "\n",
    "fig, ax = plt.subplots(1, 1, figsize=(5, 5), dpi=200)\n",
    "\n",
    "im = ax.imshow(plot_map)\n",
    "fig.colorbar(im, ax=ax)\n",
    "ax.set_title('Spot Value')\n",
    "\n",
    "plt.show()"
   ]
  },
  {
   "cell_type": "code",
   "execution_count": null,
   "metadata": {},
   "outputs": [],
   "source": [
    "test.map.plot_image()"
   ]
  },
  {
   "cell_type": "code",
   "execution_count": null,
   "metadata": {},
   "outputs": [],
   "source": [
    "[test.phases[phase].get_hkl_reflections(tth_range=(np.min(test.tth), np.max(test.tth))) for phase in test.phases];\n",
    "\n",
    "pot_tth = np.concatenate([test.phases[key].reflections['tth'] for key in test.phases])\n",
    "pot_hkl = np.concatenate([test.phases[key].reflections['hkl'] for key in test.phases])\n",
    "pot_phase = np.concatenate([[key,] * len(test.phases[key].reflections['tth']) for key in test.phases])\n",
    "\n",
    "search_distance = 0.5 # in degrees\n",
    "this_phase = 'Iron-ferrite'\n",
    "\n",
    "plot_map = np.zeros(test.map.map_shape)\n",
    "plot_map[:] = 0\n",
    "\n",
    "for image_index in range(test.map.num_images):\n",
    "    indices = np.unravel_index(image_index, test.map.map_shape)\n",
    "    pixel_df = test.spots[(test.spots['map_x'] == indices[0])\n",
    "                          & (test.spots['map_y'] == indices[1])]\n",
    "    \n",
    "    if len(pixel_df) < 1:\n",
    "        plot_map[indices] = 0\n",
    "    else:\n",
    "        for spot_index in range(len(pixel_df)):\n",
    "            min_arr = np.abs(pot_tth - pixel_df.iloc[spot_index]['guess_cenx'])\n",
    "            #min_arr = np.array([np.abs(x - pot_tth) for x in pixel_df.loc[spot_index, 'fit_x0']])\n",
    "            min_arr[min_arr > search_distance] = np.nan\n",
    "            if np.all(np.isnan(min_arr)):\n",
    "                continue\n",
    "            #min_index = [np.nanargmin(x) if np.any(~np.isnan(x)) else None for x in min_arr]\n",
    "            min_index = np.nanargmin(min_arr)\n",
    "\n",
    "            if pot_phase[min_index] == this_phase:\n",
    "                plot_map[indices] += pixel_df.iloc[spot_index]['guess_int']\n",
    "\n",
    "        #plot_map[indices] = np.sum(pixel_df['guess_int'])\n",
    "        #plot_map[indices] = np.sum(pixel_df['fit_amp'])\n",
    "        #plot_map[indices] = np.mean(pixel_df['fit_x0'])\n",
    "        #plot_map[indices] = len(pixel_df)\n",
    "\n",
    "\n",
    "fig, ax = plt.subplots(1, 1, figsize=(5, 5), dpi=200)\n",
    "\n",
    "im = ax.imshow(plot_map)\n",
    "fig.colorbar(im, ax=ax)\n",
    "ax.set_title(this_phase)\n",
    "\n",
    "plt.show()"
   ]
  },
  {
   "cell_type": "code",
   "execution_count": null,
   "metadata": {},
   "outputs": [],
   "source": [
    "fig, ax = plt.subplots(1, 1, figsize=(5, 5), dpi=200)\n",
    "\n",
    "image = test.map.composite_image\n",
    "\n",
    "tth = test.tth\n",
    "intensity = np.sum(test.map.composite_image, axis=0)\n",
    "pixels = np.sum(test.map.calibration_mask, axis=0)\n",
    "\n",
    "x, bins, _ = ax.hist(test.spots['guess_cenx'].values, bins=2000, weights=test.spots['guess_height'].values, label='spot center', density=True)\n",
    "ax.plot(tth, rescale_array(intensity / pixels, lower=np.min(x), upper=np.max(x)), label='integrated intensity')\n",
    "ax.legend()\n",
    "\n",
    "plt.show()"
   ]
  },
  {
   "cell_type": "code",
   "execution_count": null,
   "metadata": {},
   "outputs": [],
   "source": [
    "fig, ax = plt.subplots(1, 1, figsize=(5, 5), dpi=200)\n",
    "\n",
    "image = test.map.composite_image\n",
    "\n",
    "tth = test.tth\n",
    "intensity = np.sum(test.map.composite_image, axis=0)\n",
    "pixels = np.sum(test.map.calibration_mask, axis=0)\n",
    "\n",
    "x, bins, _ = ax.hist(test.spots['fit_x0'].values, bins=2500, label='spot center', density=True)\n",
    "ax.plot(tth, rescale_array(intensity / pixels, lower=np.min(x), upper=np.max(x)), label='integrated intensity')\n",
    "ax.legend()\n",
    "\n",
    "plt.show()"
   ]
  },
  {
   "cell_type": "code",
   "execution_count": null,
   "metadata": {},
   "outputs": [],
   "source": [
    "fig, ax = plt.subplots(1, 1, figsize=(5, 5), dpi=200)\n",
    "\n",
    "image = test.map.composite_image\n",
    "\n",
    "tth = test.tth\n",
    "x, bins, _ = ax.hist(test.spots['fit_x0'].values, bins=2000, label='fit', range=test.extent[:2], alpha=0.5)\n",
    "x, bins, _ = ax.hist(test.spots['guess_cenx'].values, bins=2000, label='integrated', range=test.extent[:2], alpha=0.5)\n",
    "\n",
    "#ax.plot(tth, rescale_array(intensity / pixels, lower=np.min(x), upper=np.max(x)), label='integrated intensity')\n",
    "ax.legend()\n",
    "\n",
    "plt.show()"
   ]
  },
  {
   "cell_type": "code",
   "execution_count": null,
   "metadata": {},
   "outputs": [],
   "source": [
    "fig, ax = plt.subplots(1, 1, figsize=(5, 5), dpi=200)\n",
    "\n",
    "image = test.map.composite_image\n",
    "bins = 2500\n",
    "\n",
    "guess_val = test.spots['guess_cenx'].values\n",
    "fit_val = test.spots['fit_x0'].values\n",
    "\n",
    "tth = test.tth\n",
    "ext = [np.nanmin([guess_val, fit_val]),\n",
    "       np.nanmax([guess_val, fit_val])]\n",
    "x, bins, _ = ax.hist(fit_val, bins=bins, label='fit', alpha=0.5, range=ext)\n",
    "x, bins, _ = ax.hist(guess_val, bins=bins, label='integrated', alpha=0.5, range=ext)\n",
    "\n",
    "#ax.plot(tth, rescale_array(intensity / pixels, lower=np.min(x), upper=np.max(x)), label='integrated intensity')\n",
    "ax.legend()\n",
    "\n",
    "plt.show()"
   ]
  },
  {
   "cell_type": "code",
   "execution_count": null,
   "metadata": {},
   "outputs": [],
   "source": []
  },
  {
   "cell_type": "code",
   "execution_count": null,
   "metadata": {},
   "outputs": [],
   "source": [
    "thickness = 0.6\n",
    "corrected_tth = test.tth + (thickness * np.sin(np.radians(test.tth)))\n",
    "rad = np.radians(corrected_tth / 2)\n",
    "intensity = np.sum(test.map.composite_image * (np.sin(rad) * np.sin(2 * rad)), axis=0)\n",
    "intensity = np.sum(test.map.composite_image, axis=0)\n",
    "pixels = np.sum((test.map.composite_image != 0), axis=0)\n",
    "phase_vals = phase_selector(intensity / pixels, list(test.phases.values()), corrected_tth)\n",
    "test.map.images = rescale_array(test.map.images, lower=0, upper=100) # Remove negative values. They break spot stats"
   ]
  },
  {
   "cell_type": "code",
   "execution_count": null,
   "metadata": {},
   "outputs": [],
   "source": [
    "bkg_noise = estimate_map_noise(test)"
   ]
  },
  {
   "cell_type": "code",
   "execution_count": null,
   "metadata": {},
   "outputs": [],
   "source": [
    "i = np.random.randint(test.map.map_shape[0])\n",
    "j = np.random.randint(test.map.map_shape[1])\n",
    "\n",
    "out = spot_search(test.map.images[i, j], bkg_noise, multiplier=10, sigma=3, plotme=True)"
   ]
  },
  {
   "cell_type": "code",
   "execution_count": null,
   "metadata": {},
   "outputs": [],
   "source": [
    "test.map.plot_image(test.map.images[i, j] * out[1])"
   ]
  },
  {
   "cell_type": "code",
   "execution_count": null,
   "metadata": {},
   "outputs": [],
   "source": [
    "fig, ax = plt.subplots(1, 1, figsize=(5, 5), dpi=200)\n",
    "\n",
    "bins = 1000\n",
    "key = 'guess_stdy'\n",
    "#ax.hist(stat_dict[key], bins=bins, density=True)\n",
    "ax.hist(stat_dict[key], bins=bins, weights=stat_dict['guess_int'], density=True)\n",
    "\n",
    "plt.show()"
   ]
  },
  {
   "cell_type": "code",
   "execution_count": null,
   "metadata": {},
   "outputs": [],
   "source": [
    "fig, ax = plt.subplots(1, 1, figsize=(5, 5), dpi=200)\n",
    "\n",
    "image = test.map.composite_image\n",
    "\n",
    "tth = test.tth\n",
    "intensity = np.sum(test.map.composite_image, axis=0)\n",
    "pixels = np.sum(test.map.calibration_mask, axis=0)\n",
    "\n",
    "x, bins, _ = ax.hist(stat_dict['guess_cenx'], bins=2000, weights=stat_dict['guess_height'], label='spot center', density=True)\n",
    "ax.plot(tth, rescale_array(intensity / pixels, lower=np.min(x), upper=np.max(x)), label='integrated intensity')\n",
    "ax.legend()\n",
    "\n",
    "plt.show()"
   ]
  },
  {
   "cell_type": "code",
   "execution_count": null,
   "metadata": {},
   "outputs": [],
   "source": [
    "stat_df = pd.DataFrame.from_dict(stat_dict)"
   ]
  },
  {
   "cell_type": "code",
   "execution_count": null,
   "metadata": {},
   "outputs": [],
   "source": [
    "plot_map = np.zeros(test.map.map_shape)\n",
    "\n",
    "for pixel_index in range(test.map.num_images):\n",
    "    indices = np.unravel_index(pixel_index, test.map.map_shape)\n",
    "    pixel_df = stat_df.loc[(stat_df['map_x'] == indices[0]) & (stat_df['map_y'] == indices[1])]\n",
    "\n",
    "    val = np.mean(pixel_df['guess_int'])\n",
    "\n",
    "    plot_map[indices] = val"
   ]
  },
  {
   "cell_type": "code",
   "execution_count": null,
   "metadata": {},
   "outputs": [],
   "source": [
    "fig, ax = plt.subplots(1, 1, figsize=(5, 5), dpi=200)\n",
    "\n",
    "im = ax.imshow(np.array(plot_map).reshape(test.map.images.shape[:2]))\n",
    "fig.colorbar(im, ax=ax)\n",
    "ax.set_title('Total Reflection Intensity')\n",
    "\n",
    "plt.show()"
   ]
  },
  {
   "cell_type": "code",
   "execution_count": null,
   "metadata": {},
   "outputs": [],
   "source": [
    "[test.phases[phase].get_hkl_reflections() for phase in test.phases];"
   ]
  },
  {
   "cell_type": "code",
   "execution_count": null,
   "metadata": {},
   "outputs": [],
   "source": []
  },
  {
   "cell_type": "code",
   "execution_count": null,
   "metadata": {},
   "outputs": [],
   "source": [
    "new_out = [np.asarray(x) for x in stat_list]\n",
    "\n",
    "pot_tth = np.concatenate([test.phases[key].reflections['tth'] for key in test.phases])\n",
    "pot_hkl = np.concatenate([test.phases[key].reflections['hkl'] for key in test.phases])\n",
    "pot_phase = np.concatenate([[key,] * len(test.phases[key].reflections['tth']) for key in test.phases])\n",
    "\n",
    "plot_value = []\n",
    "search_distance = 0.5 # in degrees\n",
    "phase = 'Iron-austenite'\n",
    "\n",
    "for spots in new_out:\n",
    "    if len(spots.shape) > 1:\n",
    "        #val = np.sum(spots[:, 5])\n",
    "        min_arr = np.array([np.abs(x - pot_tth) for x in spots[:, 5]])\n",
    "        min_arr[min_arr > search_distance] = np.nan\n",
    "        min_index = [np.nanargmin(x) if np.any(~np.isnan(x)) else None for x in min_arr]\n",
    "        \n",
    "        val = 0\n",
    "        for spot_idx, index in enumerate(min_index):\n",
    "            if index is None:\n",
    "                continue\n",
    "            else:\n",
    "                #raise Exception\n",
    "                if pot_phase[index] == phase:\n",
    "                    val += spots[spot_idx, -1]\n",
    "        \n",
    "    else:\n",
    "        val = 0\n",
    "    \n",
    "    plot_value.append(val)"
   ]
  },
  {
   "cell_type": "code",
   "execution_count": null,
   "metadata": {},
   "outputs": [],
   "source": [
    "fig, ax = plt.subplots(1, 1, figsize=(5, 5), dpi=200)\n",
    "\n",
    "im = ax.imshow(np.array(plot_value).reshape(test.map.images.shape[:2]))\n",
    "fig.colorbar(im, ax=ax)\n",
    "ax.set_title(f'{phase} Total Intensity')\n",
    "\n",
    "plt.show()"
   ]
  },
  {
   "cell_type": "code",
   "execution_count": null,
   "metadata": {},
   "outputs": [],
   "source": []
  },
  {
   "cell_type": "code",
   "execution_count": null,
   "metadata": {},
   "outputs": [],
   "source": []
  },
  {
   "cell_type": "code",
   "execution_count": null,
   "metadata": {},
   "outputs": [],
   "source": []
  },
  {
   "cell_type": "code",
   "execution_count": null,
   "metadata": {},
   "outputs": [],
   "source": []
  },
  {
   "cell_type": "code",
   "execution_count": null,
   "metadata": {},
   "outputs": [],
   "source": []
  },
  {
   "cell_type": "code",
   "execution_count": null,
   "metadata": {},
   "outputs": [],
   "source": []
  },
  {
   "cell_type": "code",
   "execution_count": null,
   "metadata": {},
   "outputs": [],
   "source": [
    "selected_images = np.median(np.copy(test.map.images[::5, ::5]), axis=(0, 1)) # Randomize for less that certain number of images...\n",
    "bkg_noise = np.std(selected_images[selected_images != 0])\n",
    "\n",
    "i = np.random.randint(test.map.images.shape[0])\n",
    "j = np.random.randint(test.map.images.shape[1])\n",
    "#i, j = 0, 1\n",
    "image = test.map.images[i, j]\n",
    "\n",
    "spot_dict = find_spots(image, bkg_noise,\n",
    "                               multiplier=10, sigma=3,\n",
    "                               tth=test.tth, chi=test.chi, plotme=True)\n",
    "print(len(spot_dict['guess_height']))"
   ]
  },
  {
   "cell_type": "code",
   "execution_count": null,
   "metadata": {},
   "outputs": [],
   "source": [
    "def dask_find_spots(pixel):\n",
    "    spot_dict, mask = find_spots(pixel, bkg_noise,\n",
    "                               multiplier=10, sigma=3,\n",
    "                               tth=test.tth, chi=test.chi)\n",
    "    return spot_dict, mask\n",
    "\n",
    "iterable = test.map.images.reshape(test.map.num_images, len(test.chi), len(test.tth))\n",
    "spot_dict_lst = parallel_loop(dask_find_spots, iterable)"
   ]
  },
  {
   "cell_type": "code",
   "execution_count": null,
   "metadata": {},
   "outputs": [],
   "source": [
    "iterable = test.map.images.reshape(test.map.num_images, len(test.chi), len(test.tth))\n",
    "\n",
    "spot_dict_lst = []\n",
    "mask_lst = []\n",
    "for pixel in iterable:\n",
    "    spot_dict, mask = find_spots(pixel, bkg_noise,\n",
    "                               multiplier=10, sigma=3,\n",
    "                               tth=test.tth, chi=test.chi)\n",
    "    spot_dict_lst.append(spot_dict)\n",
    "    mask_lst.append(mask)"
   ]
  },
  {
   "cell_type": "code",
   "execution_count": null,
   "metadata": {},
   "outputs": [],
   "source": [
    "elements_folder = f'output_tiff_scan2D_{scanid}_xs_sum8ch\\\\'\n",
    "\n",
    "element_maps = {}\n",
    "for element in os.listdir(f'{filedir}{elements_folder}'):\n",
    "    el_im = io.imread(f'{filedir}{elements_folder}{element}')\n",
    "    element_maps[str(element[:-5])] = el_im"
   ]
  },
  {
   "cell_type": "code",
   "execution_count": null,
   "metadata": {},
   "outputs": [],
   "source": [
    "key = 'detsum_Fe_K'\n",
    "#interactive_dynamic_2d_plot(proc_map, range(121), range(121), img_vmin=10, img_vmax=100, display_map=element_maps['detsum_Pt_L'], map_vmin=1e4, map_vmax=1.1e4)\n",
    "interactive_dynamic_2d_plot(test.map.images, range(test.map.images.shape[0]), range(test.map.images.shape[1]), display_map=element_maps[key], display_title=key)"
   ]
  },
  {
   "cell_type": "code",
   "execution_count": null,
   "metadata": {},
   "outputs": [],
   "source": []
  }
 ],
 "metadata": {
  "kernelspec": {
   "display_name": "Python 3",
   "language": "python",
   "name": "python3"
  },
  "language_info": {
   "codemirror_mode": {
    "name": "ipython",
    "version": 3
   },
   "file_extension": ".py",
   "mimetype": "text/x-python",
   "name": "python",
   "nbconvert_exporter": "python",
   "pygments_lexer": "ipython3",
   "version": "3.11.5"
  }
 },
 "nbformat": 4,
 "nbformat_minor": 2
}
