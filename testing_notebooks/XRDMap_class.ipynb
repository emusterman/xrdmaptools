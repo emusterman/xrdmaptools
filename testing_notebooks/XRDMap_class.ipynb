{
 "cells": [
  {
   "cell_type": "code",
   "execution_count": 1,
   "metadata": {},
   "outputs": [
    {
     "name": "stderr",
     "output_type": "stream",
     "text": [
      "100%|██████████| 23/23 [00:09<00:00,  2.43it/s]\n"
     ]
    }
   ],
   "source": [
    "import os\n",
    "import matplotlib.pyplot as plt\n",
    "import numpy as np\n",
    "#from tqdm.auto import tqdm\n",
    "from tqdm import tqdm\n",
    "plt.ioff();\n",
    "try:\n",
    "    maindir\n",
    "except NameError:\n",
    "    maindir = os.path.dirname(os.getcwd())\n",
    "for module in tqdm(os.listdir(maindir + '\\\\testing_modules')):\n",
    "    %run -i \"{maindir}\\\\testing_modules\\\\{module}\"\n",
    "base = os.path.dirname(os.path.dirname(maindir)) + '\\\\'\n",
    "plt.ion();\n",
    "np.set_printoptions(suppress=True)\n",
    "plt.close('All')\n",
    "%matplotlib qt"
   ]
  },
  {
   "cell_type": "code",
   "execution_count": 2,
   "metadata": {},
   "outputs": [],
   "source": [
    "import skimage.io as io\n",
    "import xarray as xr\n",
    "from collections import OrderedDict\n",
    "import dask\n",
    "from tqdm.dask import TqdmCallback\n",
    "from sklearn.metrics.pairwise import euclidean_distances\n",
    "from skimage.transform import resize\n",
    "from matplotlib.widgets import Slider"
   ]
  },
  {
   "cell_type": "code",
   "execution_count": 3,
   "metadata": {},
   "outputs": [
    {
     "name": "stdout",
     "output_type": "stream",
     "text": [
      "Loading data from hdf file...\n",
      "Loading most recent images (raw_images)..."
     ]
    }
   ],
   "source": [
    "scanid = 149248\n",
    "filedir = '''C:\\\\Users\\\\emusterma\\\\OneDrive - Brookhaven National Laboratory\\\\Documents\\\\Postdoc\\\\Data\\\\Condensed Datasets\\\\'''\n",
    "map_filename = f'scan{scanid}_dexela_xrd.tif'\n",
    "h5_filename = f'scan{scanid}_xrd.h5'\n",
    "\n",
    "try:\n",
    "    test = XRDMap.from_hdf(h5_filename, wd=filedir)\n",
    "except FileNotFoundError:\n",
    "    test = XRDMap.from_image_stack(map_filename, wd=filedir, energy=15, scanid=scanid)\n",
    "    test.set_calibration('scan149256_dexela_calibration.poni')"
   ]
  },
  {
   "cell_type": "code",
   "execution_count": 3,
   "metadata": {},
   "outputs": [
    {
     "name": "stdout",
     "output_type": "stream",
     "text": [
      "Loading data from hdf file...\n",
      "Loading most recent images (raw_images)...done!\n",
      "Instantiating ImageMap..."
     ]
    },
    {
     "name": "stdout",
     "output_type": "stream",
     "text": [
      "done!\n",
      "XRD Map loaded!\n"
     ]
    }
   ],
   "source": [
    "scanid = 149235\n",
    "scanid = 149257\n",
    "scanid = 149262\n",
    "scanid = 149571\n",
    "filedir = '''D:\\\\Musterman_postdoc\\\\20231030_Musterman\\\\'''\n",
    "filedir = '''D:\\\\Musterman_postdoc\\\\20231109_Musterman\\\\'''\n",
    "map_filename = f'scan{scanid}_xrd.tiff'\n",
    "map_filename = f'scan{scanid}_dexela_xrd.tif'\n",
    "h5_filename = f'scan{scanid}_xrd.h5'\n",
    "\n",
    "try:\n",
    "    test = XRDMap.from_hdf(h5_filename, wd=filedir, dask_enabled=True)\n",
    "except FileNotFoundError:\n",
    "    test = XRDMap.from_image_stack(map_filename, wd=filedir, energy=15, scanid=scanid, dask_enabled=True)\n",
    "    #test.set_calibration('scan149256_dexela2.poni', filedir=filedir)\n",
    "test.set_calibration('scan149564_dexela_calibration.poni', filedir=filedir)"
   ]
  },
  {
   "cell_type": "code",
   "execution_count": 3,
   "metadata": {},
   "outputs": [
    {
     "name": "stdout",
     "output_type": "stream",
     "text": [
      "Loading data from hdf file...\n",
      "Loading most recent images (final_images)..."
     ]
    },
    {
     "name": "stdout",
     "output_type": "stream",
     "text": [
      "done!\n",
      "Loading reciprocal positions...done!\n",
      "Loading saved phases...done!\n",
      "Loading reflection spots...done!\n",
      "Instantiating ImageMap...done!\n",
      "XRD Map loaded!\n"
     ]
    }
   ],
   "source": [
    "scanid = 149566\n",
    "filedir = '''C:\\\\Users\\\\emusterma\\\\OneDrive - Brookhaven National Laboratory\\\\Documents\\\\Postdoc\\\\Data\\\\Condensed Datasets\\\\'''\n",
    "map_filename = f'scan{scanid}_dexela_xrd.tif'\n",
    "h5_filename = f'scan{scanid}_xrd.h5'\n",
    "\n",
    "try:\n",
    "    test = XRDMap.from_hdf(h5_filename, wd=filedir, dask_enabled=False)\n",
    "except FileNotFoundError:\n",
    "    test = XRDMap.from_image_stack(map_filename, wd=filedir, energy=15, scanid=scanid, dask_enabled=False)\n",
    "    test.set_calibration('scan149562_dexela_calibration.poni', filedir=filedir)"
   ]
  },
  {
   "cell_type": "code",
   "execution_count": 10,
   "metadata": {},
   "outputs": [
    {
     "name": "stdout",
     "output_type": "stream",
     "text": [
      "Loading images...done!\n"
     ]
    }
   ],
   "source": [
    "scanid = 153076\n",
    "filedir = '''C:\\\\Users\\\\emusterma\\\\OneDrive - Brookhaven National Laboratory\\\\Documents\\\\Postdoc\\\\Data\\\\Condensed Datasets\\\\'''\n",
    "map_filename = f'scan{scanid}_dexela_xrd.tif'\n",
    "h5_filename = f'scan{scanid}_xrd.h5'\n",
    "\n",
    "try:\n",
    "    test = XRDMap.from_hdf(h5_filename, wd=filedir, dask_enabled=False)\n",
    "except FileNotFoundError:\n",
    "    test = XRDMap.from_image_stack(map_filename, wd=filedir, energy=20, scanid=scanid, dask_enabled=False, save_hdf=False)\n",
    "    test.set_calibration('scan153220_dexela_calibration_ext.poni', filedir='D:\\\\Musterman_postdoc\\\\20240223_Musterman\\\\calibrations\\\\')"
   ]
  },
  {
   "cell_type": "code",
   "execution_count": 10,
   "metadata": {},
   "outputs": [],
   "source": [
    "test.plot_interactive_map(img_vmin=200, img_vmax=1000)"
   ]
  },
  {
   "cell_type": "code",
   "execution_count": 35,
   "metadata": {},
   "outputs": [],
   "source": [
    "dark_field = test.map.images[36, 8]"
   ]
  },
  {
   "cell_type": "code",
   "execution_count": 36,
   "metadata": {},
   "outputs": [
    {
     "name": "stdout",
     "output_type": "stream",
     "text": [
      "Correcting dark-field...done!\n"
     ]
    }
   ],
   "source": [
    "test.map.correct_dark_field(dark_field=dark_field)"
   ]
  },
  {
   "cell_type": "code",
   "execution_count": 28,
   "metadata": {},
   "outputs": [],
   "source": [
    "test.plot_interactive_map(img_vmin=0, img_vmax=5000)"
   ]
  },
  {
   "cell_type": "code",
   "execution_count": 37,
   "metadata": {},
   "outputs": [],
   "source": [
    "test.set_calibration('scan149562_dexela_calibration.poni', filedir=filedir)\n",
    "test.ai.dist = 0.425797596416\n",
    "test.ai.poni1 = 0.0760869576\n",
    "test.ai.poni2 = 0.15890047\n",
    "test.ai.rot1 = 0.5203013048\n",
    "test.ai.rot2 = -0.00505270001\n",
    "test.ai.rot3 = 3.13999999"
   ]
  },
  {
   "cell_type": "code",
   "execution_count": 10,
   "metadata": {},
   "outputs": [],
   "source": [
    "available_memory = psutil.virtual_memory()[1] / (2**20) # In MB\n",
    "cpu_count = os.cpu_count()\n",
    "approx_chunk_size =  (available_memory * 0.85) / cpu_count # 15% wiggle room"
   ]
  },
  {
   "cell_type": "code",
   "execution_count": 11,
   "metadata": {},
   "outputs": [
    {
     "data": {
      "text/plain": [
       "1135.3503540039062"
      ]
     },
     "execution_count": 11,
     "metadata": {},
     "output_type": "execute_result"
    }
   ],
   "source": [
    "approx_chunk_size"
   ]
  },
  {
   "cell_type": "code",
   "execution_count": 7,
   "metadata": {},
   "outputs": [
    {
     "data": {
      "text/plain": [
       "21845.06640625"
      ]
     },
     "execution_count": 7,
     "metadata": {},
     "output_type": "execute_result"
    }
   ],
   "source": [
    "import psutil\n",
    "psutil.virtual_memory()[-1] / (2**20)"
   ]
  },
  {
   "cell_type": "code",
   "execution_count": 8,
   "metadata": {},
   "outputs": [
    {
     "data": {
      "text/plain": [
       "False"
      ]
     },
     "execution_count": 8,
     "metadata": {},
     "output_type": "execute_result"
    }
   ],
   "source": [
    "test.map.hdf['xrdmap/image_data/_temp_images'].nbytes > psutil.virtual_memory()[-1]"
   ]
  },
  {
   "cell_type": "code",
   "execution_count": 14,
   "metadata": {},
   "outputs": [
    {
     "name": "stdout",
     "output_type": "stream",
     "text": [
      "17.052 GB remaining\n"
     ]
    }
   ],
   "source": [
    "print(f'{psutil.virtual_memory()[-1] / 2**30:.3f} GB remaining.')"
   ]
  },
  {
   "cell_type": "code",
   "execution_count": 7,
   "metadata": {},
   "outputs": [],
   "source": [
    "dwell = 1.2\n",
    "det_sets = '_ln_4x4_'\n",
    "\n",
    "dark_dir = '''D:\\\\Musterman_postdoc\\\\20240125_Musterman\\\\dark_fields\\\\fit_images\\\\'''\n",
    "dark_paths = np.array(os.listdir(dark_dir))\n",
    "offset_mask = [det_sets in x and 'offset' in x for x in dark_paths]\n",
    "offset_df = io.imread(f'{dark_dir}{dark_paths[offset_mask][0]}').astype(np.float32)\n",
    "scale_mask = [det_sets in x and 'slope' in x for x in dark_paths]\n",
    "slope_df = io.imread(f'{dark_dir}{dark_paths[scale_mask][0]}').astype(np.float32)\n",
    "\n",
    "dark_field = slope_df * dwell + offset_df\n",
    "#scaled_df = dark_field * np.median(test.map.min_image) / np.median(dark_field)\n",
    "#test.map.correct_dark_field(dark_field=dark_field)"
   ]
  },
  {
   "cell_type": "code",
   "execution_count": 12,
   "metadata": {},
   "outputs": [
    {
     "name": "stdout",
     "output_type": "stream",
     "text": [
      "Correcting dark-field...done!\n"
     ]
    }
   ],
   "source": [
    "det_sets = '_ln_4x4_'\n",
    "dark_dir = '''C:\\\\Users\\\\emusterma\\\\OneDrive - Brookhaven National Laboratory\\\\Documents\\\\Postdoc\\\\Data\\\\Condensed Datasets\\\\'''\n",
    "dark_field = io.imread(f'{dark_dir}dexela_df_avg.tif')\n",
    "scaled_df = dark_field * np.median(test.map.min_image) / np.median(dark_field)\n",
    "test.map.correct_dark_field(dark_field=scaled_df)"
   ]
  },
  {
   "cell_type": "code",
   "execution_count": null,
   "metadata": {},
   "outputs": [
    {
     "data": {
      "text/html": [
       "<table>\n",
       "    <tr>\n",
       "        <td>\n",
       "            <table style=\"border-collapse: collapse;\">\n",
       "                <thead>\n",
       "                    <tr>\n",
       "                        <td> </td>\n",
       "                        <th> Array </th>\n",
       "                        <th> Chunk </th>\n",
       "                    </tr>\n",
       "                </thead>\n",
       "                <tbody>\n",
       "                    \n",
       "                    <tr>\n",
       "                        <th> Bytes </th>\n",
       "                        <td> 20.36 GiB </td>\n",
       "                        <td> 411.49 MiB </td>\n",
       "                    </tr>\n",
       "                    \n",
       "                    <tr>\n",
       "                        <th> Shape </th>\n",
       "                        <td> (121, 121, 486, 768) </td>\n",
       "                        <td> (17, 17, 486, 768) </td>\n",
       "                    </tr>\n",
       "                    <tr>\n",
       "                        <th> Dask graph </th>\n",
       "                        <td colspan=\"2\"> 64 chunks in 1 graph layer </td>\n",
       "                    </tr>\n",
       "                    <tr>\n",
       "                        <th> Data type </th>\n",
       "                        <td colspan=\"2\"> float32 numpy.ndarray </td>\n",
       "                    </tr>\n",
       "                </tbody>\n",
       "            </table>\n",
       "        </td>\n",
       "        <td>\n",
       "        <svg width=\"414\" height=\"150\" style=\"stroke:rgb(0,0,0);stroke-width:1\" >\n",
       "\n",
       "  <!-- Horizontal lines -->\n",
       "  <line x1=\"0\" y1=\"0\" x2=\"40\" y2=\"0\" style=\"stroke-width:2\" />\n",
       "  <line x1=\"0\" y1=\"25\" x2=\"40\" y2=\"25\" style=\"stroke-width:2\" />\n",
       "\n",
       "  <!-- Vertical lines -->\n",
       "  <line x1=\"0\" y1=\"0\" x2=\"0\" y2=\"25\" style=\"stroke-width:2\" />\n",
       "  <line x1=\"5\" y1=\"0\" x2=\"5\" y2=\"25\" />\n",
       "  <line x1=\"11\" y1=\"0\" x2=\"11\" y2=\"25\" />\n",
       "  <line x1=\"17\" y1=\"0\" x2=\"17\" y2=\"25\" />\n",
       "  <line x1=\"23\" y1=\"0\" x2=\"23\" y2=\"25\" />\n",
       "  <line x1=\"28\" y1=\"0\" x2=\"28\" y2=\"25\" />\n",
       "  <line x1=\"34\" y1=\"0\" x2=\"34\" y2=\"25\" />\n",
       "  <line x1=\"40\" y1=\"0\" x2=\"40\" y2=\"25\" />\n",
       "  <line x1=\"40\" y1=\"0\" x2=\"40\" y2=\"25\" style=\"stroke-width:2\" />\n",
       "\n",
       "  <!-- Colored Rectangle -->\n",
       "  <polygon points=\"0.0,0.0 40.94110680050432,0.0 40.94110680050432,25.412616514582485 0.0,25.412616514582485\" style=\"fill:#ECB172A0;stroke-width:0\"/>\n",
       "\n",
       "  <!-- Text -->\n",
       "  <text x=\"20.470553\" y=\"45.412617\" font-size=\"1.0rem\" font-weight=\"100\" text-anchor=\"middle\" >121</text>\n",
       "  <text x=\"60.941107\" y=\"12.706308\" font-size=\"1.0rem\" font-weight=\"100\" text-anchor=\"middle\" transform=\"rotate(0,60.941107,12.706308)\">1</text>\n",
       "\n",
       "\n",
       "  <!-- Horizontal lines -->\n",
       "  <line x1=\"110\" y1=\"0\" x2=\"134\" y2=\"24\" style=\"stroke-width:2\" />\n",
       "  <line x1=\"110\" y1=\"75\" x2=\"134\" y2=\"100\" style=\"stroke-width:2\" />\n",
       "\n",
       "  <!-- Vertical lines -->\n",
       "  <line x1=\"110\" y1=\"0\" x2=\"110\" y2=\"75\" style=\"stroke-width:2\" />\n",
       "  <line x1=\"113\" y1=\"3\" x2=\"113\" y2=\"79\" />\n",
       "  <line x1=\"116\" y1=\"6\" x2=\"116\" y2=\"82\" />\n",
       "  <line x1=\"120\" y1=\"10\" x2=\"120\" y2=\"86\" />\n",
       "  <line x1=\"123\" y1=\"13\" x2=\"123\" y2=\"89\" />\n",
       "  <line x1=\"126\" y1=\"16\" x2=\"126\" y2=\"92\" />\n",
       "  <line x1=\"130\" y1=\"20\" x2=\"130\" y2=\"96\" />\n",
       "  <line x1=\"133\" y1=\"23\" x2=\"133\" y2=\"99\" />\n",
       "  <line x1=\"134\" y1=\"24\" x2=\"134\" y2=\"100\" style=\"stroke-width:2\" />\n",
       "\n",
       "  <!-- Colored Rectangle -->\n",
       "  <polygon points=\"110.0,0.0 134.08300400029665,24.08300400029666 134.08300400029665,100.02050400029665 110.0,75.9375\" style=\"fill:#ECB172A0;stroke-width:0\"/>\n",
       "\n",
       "  <!-- Horizontal lines -->\n",
       "  <line x1=\"110\" y1=\"0\" x2=\"230\" y2=\"0\" style=\"stroke-width:2\" />\n",
       "  <line x1=\"113\" y1=\"3\" x2=\"233\" y2=\"3\" />\n",
       "  <line x1=\"116\" y1=\"6\" x2=\"236\" y2=\"6\" />\n",
       "  <line x1=\"120\" y1=\"10\" x2=\"240\" y2=\"10\" />\n",
       "  <line x1=\"123\" y1=\"13\" x2=\"243\" y2=\"13\" />\n",
       "  <line x1=\"126\" y1=\"16\" x2=\"246\" y2=\"16\" />\n",
       "  <line x1=\"130\" y1=\"20\" x2=\"250\" y2=\"20\" />\n",
       "  <line x1=\"133\" y1=\"23\" x2=\"253\" y2=\"23\" />\n",
       "  <line x1=\"134\" y1=\"24\" x2=\"254\" y2=\"24\" style=\"stroke-width:2\" />\n",
       "\n",
       "  <!-- Vertical lines -->\n",
       "  <line x1=\"110\" y1=\"0\" x2=\"134\" y2=\"24\" style=\"stroke-width:2\" />\n",
       "  <line x1=\"230\" y1=\"0\" x2=\"254\" y2=\"24\" style=\"stroke-width:2\" />\n",
       "\n",
       "  <!-- Colored Rectangle -->\n",
       "  <polygon points=\"110.0,0.0 230.0,0.0 254.08300400029665,24.08300400029666 134.08300400029665,24.08300400029666\" style=\"fill:#ECB172A0;stroke-width:0\"/>\n",
       "\n",
       "  <!-- Horizontal lines -->\n",
       "  <line x1=\"134\" y1=\"24\" x2=\"254\" y2=\"24\" style=\"stroke-width:2\" />\n",
       "  <line x1=\"134\" y1=\"100\" x2=\"254\" y2=\"100\" style=\"stroke-width:2\" />\n",
       "\n",
       "  <!-- Vertical lines -->\n",
       "  <line x1=\"134\" y1=\"24\" x2=\"134\" y2=\"100\" style=\"stroke-width:2\" />\n",
       "  <line x1=\"254\" y1=\"24\" x2=\"254\" y2=\"100\" style=\"stroke-width:2\" />\n",
       "\n",
       "  <!-- Colored Rectangle -->\n",
       "  <polygon points=\"134.08300400029665,24.08300400029666 254.08300400029665,24.08300400029666 254.08300400029665,100.02050400029665 134.08300400029665,100.02050400029665\" style=\"fill:#ECB172A0;stroke-width:0\"/>\n",
       "\n",
       "  <!-- Text -->\n",
       "  <text x=\"194.083004\" y=\"120.020504\" font-size=\"1.0rem\" font-weight=\"100\" text-anchor=\"middle\" >768</text>\n",
       "  <text x=\"274.083004\" y=\"62.051754\" font-size=\"1.0rem\" font-weight=\"100\" text-anchor=\"middle\" transform=\"rotate(-90,274.083004,62.051754)\">486</text>\n",
       "  <text x=\"112.041502\" y=\"107.979002\" font-size=\"1.0rem\" font-weight=\"100\" text-anchor=\"middle\" transform=\"rotate(45,112.041502,107.979002)\">121</text>\n",
       "</svg>\n",
       "        </td>\n",
       "    </tr>\n",
       "</table>"
      ],
      "text/plain": [
       "dask.array<load-store-map, shape=(121, 121, 486, 768), dtype=float32, chunksize=(17, 17, 486, 768), chunktype=numpy.ndarray>"
      ]
     },
     "execution_count": 6,
     "metadata": {},
     "output_type": "execute_result"
    }
   ],
   "source": [
    "test.map.images"
   ]
  },
  {
   "cell_type": "code",
   "execution_count": 7,
   "metadata": {},
   "outputs": [
    {
     "name": "stdout",
     "output_type": "stream",
     "text": [
      "Correcting flat-field...done!\n"
     ]
    }
   ],
   "source": [
    "flat_dir = '''D:\\\\Musterman_postdoc\\\\20240125_Musterman\\\\flat_fields\\\\'''\n",
    "flat_paths = np.array(os.listdir(flat_dir))\n",
    "flat_mask = [det_sets in x for x in flat_paths]\n",
    "flat_field = io.imread(f'{flat_dir}{flat_paths[flat_mask][0]}')\n",
    "test.map.correct_flat_field(flat_field=flat_field)"
   ]
  },
  {
   "cell_type": "code",
   "execution_count": 8,
   "metadata": {},
   "outputs": [],
   "source": [
    "test.map._dask_2_hdf()"
   ]
  },
  {
   "cell_type": "code",
   "execution_count": 29,
   "metadata": {},
   "outputs": [
    {
     "name": "stdout",
     "output_type": "stream",
     "text": [
      "Finding and correcting image outliers...done!\n",
      "No scaler array given. Approximating with image medians...\n",
      "Normalize image scalers...done!\n"
     ]
    }
   ],
   "source": [
    "test.map.correct_outliers()\n",
    "test.map.normalize_scaler()"
   ]
  },
  {
   "cell_type": "code",
   "execution_count": 33,
   "metadata": {},
   "outputs": [],
   "source": [
    "test.plot_interactive_map(img_vmin=0, img_vmax=5000)"
   ]
  },
  {
   "cell_type": "code",
   "execution_count": 10,
   "metadata": {},
   "outputs": [],
   "source": [
    "test.map._dask_2_hdf()"
   ]
  },
  {
   "cell_type": "code",
   "execution_count": 63,
   "metadata": {},
   "outputs": [],
   "source": [
    "test.plot_image()"
   ]
  },
  {
   "cell_type": "code",
   "execution_count": 13,
   "metadata": {},
   "outputs": [
    {
     "data": {
      "image/png": "[encoded data removed]",
      "text/plain": [
       "<IPython.core.display.Image object>"
      ]
     },
     "execution_count": 13,
     "metadata": {},
     "output_type": "execute_result"
    }
   ],
   "source": [
    "test.map.images.visualize(filename=None)"
   ]
  },
  {
   "cell_type": "code",
   "execution_count": 27,
   "metadata": {},
   "outputs": [],
   "source": [
    "import scipy.ndimage as ndi\n",
    "import scipy.io as io\n",
    "from dask_image import ndfilters as dask_ndi\n",
    "from dask_image import imread as dask_io"
   ]
  },
  {
   "cell_type": "code",
   "execution_count": 39,
   "metadata": {},
   "outputs": [],
   "source": [
    "test.map.dtype = np.float32"
   ]
  },
  {
   "cell_type": "code",
   "execution_count": 38,
   "metadata": {},
   "outputs": [
    {
     "ename": "UFuncTypeError",
     "evalue": "Cannot cast ufunc 'add' output from dtype('float64') to dtype('int32') with casting rule 'same_kind'",
     "output_type": "error",
     "traceback": [
      "\u001b[1;31m---------------------------------------------------------------------------\u001b[0m",
      "\u001b[1;31mUFuncTypeError\u001b[0m                            Traceback (most recent call last)",
      "Cell \u001b[1;32mIn[38], line 1\u001b[0m\n\u001b[1;32m----> 1\u001b[0m \u001b[43mtest\u001b[49m\u001b[38;5;241;43m.\u001b[39;49m\u001b[43mmap\u001b[49m\u001b[38;5;241;43m.\u001b[39;49m\u001b[43mapply_lorentz_correction\u001b[49m\u001b[43m(\u001b[49m\u001b[43m)\u001b[49m\n\u001b[0;32m      2\u001b[0m test\u001b[38;5;241m.\u001b[39mmap\u001b[38;5;241m.\u001b[39mapply_polarization_correction()\n\u001b[0;32m      3\u001b[0m test\u001b[38;5;241m.\u001b[39mmap\u001b[38;5;241m.\u001b[39mapply_solidangle_correction()\n",
      "File \u001b[1;32m~\\OneDrive - Brookhaven National Laboratory\\Documents\\Postdoc\\Repositories\\SRX_sXRD_analysis\\testing_modules\\sXRD_ImageMap.py:582\u001b[0m, in \u001b[0;36mImageMap.apply_lorentz_correction\u001b[1;34m(self, experiment, corrections, custom, apply)\u001b[0m\n\u001b[0;32m    580\u001b[0m \u001b[38;5;66;03m# Check for discontinuities\u001b[39;00m\n\u001b[0;32m    581\u001b[0m \u001b[38;5;28;01mif\u001b[39;00m np\u001b[38;5;241m.\u001b[39mmax(np\u001b[38;5;241m.\u001b[39mgradient(chi_arr)) \u001b[38;5;241m>\u001b[39m (np\u001b[38;5;241m.\u001b[39mpi \u001b[38;5;241m/\u001b[39m \u001b[38;5;241m6\u001b[39m): \u001b[38;5;66;03m# Semi-arbitrary cut off\u001b[39;00m\n\u001b[1;32m--> 582\u001b[0m     \u001b[43mchi_arr\u001b[49m\u001b[43m[\u001b[49m\u001b[43mchi_arr\u001b[49m\u001b[43m \u001b[49m\u001b[38;5;241;43m<\u001b[39;49m\u001b[43m \u001b[49m\u001b[38;5;241;43m0\u001b[39;49m\u001b[43m]\u001b[49m\u001b[43m \u001b[49m\u001b[38;5;241;43m+\u001b[39;49m\u001b[38;5;241;43m=\u001b[39;49m\u001b[43m \u001b[49m\u001b[43m(\u001b[49m\u001b[38;5;241;43m2\u001b[39;49m\u001b[43m \u001b[49m\u001b[38;5;241;43m*\u001b[39;49m\u001b[43m \u001b[49m\u001b[43mnp\u001b[49m\u001b[38;5;241;43m.\u001b[39;49m\u001b[43mpi\u001b[49m\u001b[43m)\u001b[49m\n\u001b[0;32m    584\u001b[0m delta_chi \u001b[38;5;241m=\u001b[39m delta_array(chi_arr)\n\u001b[0;32m    585\u001b[0m frac_chi \u001b[38;5;241m=\u001b[39m delta_chi \u001b[38;5;241m/\u001b[39m (\u001b[38;5;241m2\u001b[39m \u001b[38;5;241m*\u001b[39m np\u001b[38;5;241m.\u001b[39mpi) \u001b[38;5;66;03m# fraction of circle\u001b[39;00m\n",
      "\u001b[1;31mUFuncTypeError\u001b[0m: Cannot cast ufunc 'add' output from dtype('float64') to dtype('int32') with casting rule 'same_kind'"
     ]
    }
   ],
   "source": [
    "test.map.apply_lorentz_correction()\n",
    "test.map.apply_polarization_correction()\n",
    "test.map.apply_solidangle_correction()"
   ]
  },
  {
   "cell_type": "code",
   "execution_count": 12,
   "metadata": {},
   "outputs": [],
   "source": [
    "test.map.apply_defect_mask(min_bounds=(-np.inf, 800), max_bounds=(0, np.inf))\n",
    "test.plot_image(test.map.defect_mask)"
   ]
  },
  {
   "cell_type": "code",
   "execution_count": 13,
   "metadata": {},
   "outputs": [],
   "source": [
    "test.map._dask_2_hdf()"
   ]
  },
  {
   "cell_type": "code",
   "execution_count": null,
   "metadata": {},
   "outputs": [],
   "source": [
    "#test.map.estimate_background(method='bruckner', binning=2, min_prominence=1)\n",
    "test.map.estimate_background(method='bruckner', binning=2, min_prominence=0.1)"
   ]
  },
  {
   "cell_type": "code",
   "execution_count": 17,
   "metadata": {},
   "outputs": [],
   "source": [
    "test.plot_image(test.map.images[0, 0] - test.map.background[0, 0])"
   ]
  },
  {
   "cell_type": "code",
   "execution_count": null,
   "metadata": {},
   "outputs": [
    {
     "name": "stdout",
     "output_type": "stream",
     "text": [
      "Removing background...done!\n"
     ]
    }
   ],
   "source": [
    "test.map.remove_background()"
   ]
  },
  {
   "cell_type": "code",
   "execution_count": null,
   "metadata": {},
   "outputs": [],
   "source": [
    "test.map._dask_2_hdf()"
   ]
  },
  {
   "cell_type": "code",
   "execution_count": null,
   "metadata": {},
   "outputs": [],
   "source": [
    "test.map.apply_defect_mask(min_bounds=(-np.inf, 0), max_bounds=(-0, np.inf))\n",
    "#test.plot_image(test.map.defect_mask)"
   ]
  },
  {
   "cell_type": "code",
   "execution_count": null,
   "metadata": {},
   "outputs": [],
   "source": [
    "test.map._dask_2_hdf()"
   ]
  },
  {
   "cell_type": "code",
   "execution_count": 36,
   "metadata": {},
   "outputs": [],
   "source": [
    "cif_dir = '''C:\\\\Users\\\\emusterma\\\\OneDrive - Brookhaven National Laboratory\\\\Documents\\\\Postdoc\\\\Literature\\\\CIF\\\\'''\n",
    "test.clear_phases()\n",
    "for filename, phase_name in zip(['AMCSD\\\\Hematite_0017806.cif',\n",
    "                                 'AMCSD\\\\Iron-alpha_0011214.cif',\n",
    "                                 'AMCSD\\\\Iron-beta_0011215.cif',\n",
    "                                 'AMCSD\\\\Iron-delta_0011216.cif',\n",
    "                                 'AMCSD\\\\Iron_0011146.cif',\n",
    "                                 'AMCSD\\\\Cementite_0013523.cif',\n",
    "                                 'AMCSD\\\\Zincite_0011555.cif'],\n",
    "                                ['Hematite', 'Iron-ferrite', 'Iron-beta',\n",
    "                                 'Iron-delta', 'Iron-austenite', 'Cementite',\n",
    "                                 'Zincite']):\n",
    "    \n",
    "    test.load_phase(filename, filedir=cif_dir, phase_name=phase_name)"
   ]
  },
  {
   "cell_type": "code",
   "execution_count": 13,
   "metadata": {},
   "outputs": [
    {
     "name": "stdout",
     "output_type": "stream",
     "text": [
      "XU.materials: Warning: element O used instead of O-2\n",
      "XU.materials: Warning: element Nb used instead of Nb+5\n",
      "XU.materials: Warning: element Li used instead of Li+1\n"
     ]
    }
   ],
   "source": [
    "cif_dir = '''C:\\\\Users\\\\emusterma\\\\OneDrive - Brookhaven National Laboratory\\\\Documents\\\\Postdoc\\\\Literature\\\\CIF\\\\'''\n",
    "test.clear_phases()\n",
    "test.load_phase('Barker\\\\1521772COD.cif', filedir=cif_dir, phase_name=\"LiNbO3 161\")\n",
    "test.load_phase('Barker\\\\LiNbO3.cif', filedir=cif_dir, phase_name=\"LiNbO3 148\")\n",
    "test.load_phase('AMCSD\\\\Platinum_0011157.cif', filedir=cif_dir, phase_name=\"Platinum\")\n",
    "test.load_phase('AMCSD\\\\Calcite_0000984.cif', filedir=cif_dir, phase_name=\"Calcite\")\n",
    "test.load_phase('AMCSD\\\\Aluminum_0011136.cif', filedir=cif_dir, phase_name=\"Aluminum\")\n",
    "test.load_phase('AMCSD\\\\Zincite_0011555.cif', filedir=cif_dir, phase_name=\"Zincite\")\n",
    "#test.load_phase('AMCSD\\\\Gold_0011140.cif', filedir=cif_dir, phase_name=\"Gold\")\n",
    "#test.load_phase('AMCSD\\\\Chromium_0011209.cif', filedir=cif_dir, phase_name=\"Chromium BCC\")\n",
    "#test.load_phase('AMCSD\\\\Chromium_0011170.cif', filedir=cif_dir, phase_name=\"Chromium HCP\")\n",
    "#test.load_phase('AMCSD\\\\Chromium_0011144.cif', filedir=cif_dir, phase_name=\"Chromium FCC\")\n",
    "test.load_phase('AMCSD\\\\Stibnite_0008636.cif', filedir=cif_dir, phase_name=\"Stibnite\")\n",
    "test.load_phase('AMCSD\\\\Silicon_0011243.cif', filedir=cif_dir, phase_name=\"silicon\")\n",
    "test.load_phase('AMCSD\\\\Corundum_0009327.cif', filedir=cif_dir, phase_name=\"sapphire\")"
   ]
  },
  {
   "cell_type": "code",
   "execution_count": 14,
   "metadata": {},
   "outputs": [],
   "source": [
    "stibnite = test.phases['Stibnite']\n",
    "linbo3 = test.phases['LiNbO3 161']\n",
    "silicon = test.phases['silicon']\n",
    "sapphire = test.phases['sapphire']"
   ]
  },
  {
   "cell_type": "code",
   "execution_count": 637,
   "metadata": {},
   "outputs": [],
   "source": [
    "test.ai.dist = 0.390449\n",
    "test.ai.poni1 = 0.111684\n",
    "test.ai.poni2 = 0.033238\n",
    "test.ai.rot1 = -0.90864\n",
    "test.ai.rot2 = -0.00828204\n",
    "test.ai.rot3 = 3.14\n",
    "test._del_arr()"
   ]
  },
  {
   "cell_type": "code",
   "execution_count": 15,
   "metadata": {},
   "outputs": [],
   "source": [
    "stibnite.get_hkl_reflections(tth_range=(0, np.max(test.tth_arr)), energy=22000)\n",
    "linbo3.get_hkl_reflections(tth_range=(0, np.max(test.tth_arr)), energy=22000)"
   ]
  },
  {
   "cell_type": "code",
   "execution_count": 632,
   "metadata": {},
   "outputs": [],
   "source": [
    "silicon.get_hkl_reflections(tth_range=(0, 90), energy=8000)"
   ]
  },
  {
   "cell_type": "code",
   "execution_count": null,
   "metadata": {},
   "outputs": [],
   "source": []
  },
  {
   "cell_type": "code",
   "execution_count": 22,
   "metadata": {},
   "outputs": [],
   "source": [
    "test.select_phases(remove_less_than=0.1)"
   ]
  },
  {
   "cell_type": "code",
   "execution_count": 91,
   "metadata": {},
   "outputs": [
    {
     "data": {
      "text/plain": [
       "array([0.5, 0. , 0.5])"
      ]
     },
     "execution_count": 91,
     "metadata": {},
     "output_type": "execute_result"
    }
   ],
   "source": [
    "stibnite.lattice.symops[1].t"
   ]
  },
  {
   "cell_type": "code",
   "execution_count": 89,
   "metadata": {},
   "outputs": [
    {
     "data": {
      "text/plain": [
       "array([[-0.5,  0.5,  0. ],\n",
       "       [ 0. ,  0.5,  0. ],\n",
       "       [ 0. ,  0. ,  0.5]])"
      ]
     },
     "execution_count": 89,
     "metadata": {},
     "output_type": "execute_result"
    }
   ],
   "source": [
    "linbo.lattice.symops[12].D\n"
   ]
  },
  {
   "cell_type": "code",
   "execution_count": 88,
   "metadata": {},
   "outputs": [
    {
     "data": {
      "text/plain": [
       "array([0.70710678, 0.70710678, 0.        ])"
      ]
     },
     "execution_count": 88,
     "metadata": {},
     "output_type": "execute_result"
    }
   ],
   "source": [
    "v = linbo.lattice.symops[12].D @ [0, 1, 0]\n",
    "v /= np.linalg.norm(v)\n",
    "v"
   ]
  },
  {
   "cell_type": "code",
   "execution_count": 77,
   "metadata": {},
   "outputs": [
    {
     "data": {
      "text/plain": [
       "array([-2.,  0.,  0.])"
      ]
     },
     "execution_count": 77,
     "metadata": {},
     "output_type": "execute_result"
    }
   ],
   "source": [
    "linbo.lattice.symops[12].apply_rotation([2, 0, 0])"
   ]
  },
  {
   "cell_type": "code",
   "execution_count": 21,
   "metadata": {},
   "outputs": [
    {
     "name": "stdout",
     "output_type": "stream",
     "text": [
      "Reflection conditions:\n",
      " general: hkil: -h+k+l=3n, hki0: -h+k=3n, hh(-2h)l: l=3n, h-h0l: h+l=3n, l=2n, 000l: l=6n, h-h00: h=3n\n",
      "     18b: hkil: -h+k+l=3n, hki0: -h+k=3n, hh(-2h)l: l=3n, h-h0l: h+l=3n, l=2n, 000l: l=6n, h-h00: h=3n \n",
      "      6a: hkil: l=2n \n",
      "\n"
     ]
    }
   ],
   "source": [
    "print(linbo.lattice.reflection_conditions())"
   ]
  },
  {
   "cell_type": "code",
   "execution_count": 179,
   "metadata": {},
   "outputs": [
    {
     "name": "stdout",
     "output_type": "stream",
     "text": [
      "Composite of current images is not saved. Creating composite.\n",
      "Calibrating images..."
     ]
    },
    {
     "name": "stderr",
     "output_type": "stream",
     "text": [
      "100%|██████████| 36/36 [00:08<00:00,  4.25it/s]"
     ]
    },
    {
     "name": "stdout",
     "output_type": "stream",
     "text": [
      "done!\n",
      "Writing reciprocal positions...done!\n",
      "Acquring and writing calibration mask..."
     ]
    },
    {
     "name": "stderr",
     "output_type": "stream",
     "text": [
      "\n"
     ]
    },
    {
     "name": "stdout",
     "output_type": "stream",
     "text": [
      "done!\n"
     ]
    }
   ],
   "source": [
    "test.calibrate_images()\n",
    "test.map.apply_defect_mask(min_bounds=(-5, 0.05), max_bounds=(0, np.inf))\n",
    "test.map.rescale_images(arr_min=0)\n",
    "test.map.finalize_image()"
   ]
  },
  {
   "cell_type": "code",
   "execution_count": null,
   "metadata": {},
   "outputs": [],
   "source": [
    "test.map.rescale_images(arr_min=0)\n",
    "test.map.finalize_images()"
   ]
  },
  {
   "cell_type": "code",
   "execution_count": 44,
   "metadata": {},
   "outputs": [],
   "source": [
    "test.plot_interactive_map(img_vmin=0, img_vmax=0.1)"
   ]
  },
  {
   "cell_type": "code",
   "execution_count": 27,
   "metadata": {},
   "outputs": [],
   "source": [
    "test._open_hdf()"
   ]
  },
  {
   "cell_type": "code",
   "execution_count": 28,
   "metadata": {},
   "outputs": [],
   "source": [
    "test.plot_image()"
   ]
  },
  {
   "cell_type": "code",
   "execution_count": 116,
   "metadata": {},
   "outputs": [],
   "source": [
    "i = np.random.randint(test.map.map_shape[0])\n",
    "j = np.random.randint(test.map.map_shape[1])\n",
    "#i, j = 2, 5\n",
    "#i, j = 25, 32\n",
    "#i, j = 12, 3\n",
    "#i, j = 15, 44\n",
    "\n",
    "#out = spot_search(test.map.images[i, j], bkg_noise=map_noise, multiplier=3, plotme=True, mask=test.map.mask, expansion=0, sigma=3)\n",
    "out = spot_search(test.map.images[i, j], multiplier=4, plotme=True,\n",
    "                  mask=test.map.mask, expansion=10, size=3, threshold_method='minimum')"
   ]
  },
  {
   "cell_type": "code",
   "execution_count": 118,
   "metadata": {},
   "outputs": [
    {
     "name": "stdout",
     "output_type": "stream",
     "text": [
      "Scheduling spot search...\n"
     ]
    },
    {
     "name": "stderr",
     "output_type": "stream",
     "text": [
      "100%|██████████| 3321/3321 [00:00<00:00, 19556.54it/s]"
     ]
    },
    {
     "name": "stdout",
     "output_type": "stream",
     "text": [
      "Searching images for spots...\n"
     ]
    },
    {
     "name": "stderr",
     "output_type": "stream",
     "text": [
      "\n",
      "100%|██████████| 3321/3321 [00:47<00:00, 70.46it/s]\n"
     ]
    },
    {
     "name": "stdout",
     "output_type": "stream",
     "text": [
      "Scheduling spot characterization...\n"
     ]
    },
    {
     "name": "stderr",
     "output_type": "stream",
     "text": [
      "100%|██████████| 92970/92970 [00:05<00:00, 18520.03it/s]\n"
     ]
    },
    {
     "name": "stdout",
     "output_type": "stream",
     "text": [
      "Estimating spot characteristics...\n"
     ]
    },
    {
     "name": "stderr",
     "output_type": "stream",
     "text": [
      "100%|██████████| 92970/92970 [06:29<00:00, 238.62it/s]\n"
     ]
    }
   ],
   "source": [
    "#test.map.images = rescale_array(test.map.images, lower=0, upper=100)\n",
    "test.find_spots(multiplier=4, expansion=10, radius=10, size=3, threshold_method='minimum')"
   ]
  },
  {
   "cell_type": "code",
   "execution_count": 122,
   "metadata": {},
   "outputs": [],
   "source": [
    "test.plot_image(spots=True)"
   ]
  },
  {
   "cell_type": "code",
   "execution_count": 35,
   "metadata": {},
   "outputs": [
    {
     "name": "stdout",
     "output_type": "stream",
     "text": [
      "Scheduling blob segmentation for spot fits...\n"
     ]
    },
    {
     "name": "stderr",
     "output_type": "stream",
     "text": [
      "  0%|          | 0/36 [00:00<?, ?it/s]"
     ]
    },
    {
     "name": "stderr",
     "output_type": "stream",
     "text": [
      "100%|██████████| 36/36 [00:00<00:00, 61.36it/s]\n"
     ]
    },
    {
     "name": "stdout",
     "output_type": "stream",
     "text": [
      "Segmenting blobs for spot fits...\n"
     ]
    },
    {
     "name": "stderr",
     "output_type": "stream",
     "text": [
      "100%|██████████| 36/36 [00:09<00:00,  3.77it/s]\n"
     ]
    },
    {
     "name": "stdout",
     "output_type": "stream",
     "text": [
      "Scheduling spot fits...\n"
     ]
    },
    {
     "name": "stderr",
     "output_type": "stream",
     "text": [
      "100%|██████████| 4011/4011 [00:00<00:00, 41009.86it/s]\n"
     ]
    },
    {
     "name": "stdout",
     "output_type": "stream",
     "text": [
      "Fitting spots in blobs...\n"
     ]
    },
    {
     "name": "stderr",
     "output_type": "stream",
     "text": [
      "100%|██████████| 4011/4011 [03:19<00:00, 20.12it/s]"
     ]
    },
    {
     "name": "stdout",
     "output_type": "stream",
     "text": [
      "Successfully fit 5103 / 5129 spots ( 99.5 % ).\n",
      "Saving spots to hdf...done!\n"
     ]
    },
    {
     "name": "stderr",
     "output_type": "stream",
     "text": [
      "\n"
     ]
    }
   ],
   "source": [
    "test.fit_spots(GaussianFunctions, max_dist=0.2, sigma=1)"
   ]
  },
  {
   "cell_type": "code",
   "execution_count": 123,
   "metadata": {},
   "outputs": [
    {
     "name": "stdout",
     "output_type": "stream",
     "text": [
      "Extracting more information from peak parameters...\n"
     ]
    },
    {
     "name": "stderr",
     "output_type": "stream",
     "text": [
      "  0%|          | 0/92970 [00:00<?, ?it/s]"
     ]
    },
    {
     "name": "stderr",
     "output_type": "stream",
     "text": [
      "100%|██████████| 92970/92970 [00:45<00:00, 2055.43it/s]"
     ]
    },
    {
     "name": "stdout",
     "output_type": "stream",
     "text": [
      "done!\n",
      "Converting peaks positions to q-space...done!\n"
     ]
    },
    {
     "name": "stderr",
     "output_type": "stream",
     "text": [
      "\n"
     ]
    }
   ],
   "source": [
    "test.initial_spot_analysis()"
   ]
  },
  {
   "cell_type": "code",
   "execution_count": null,
   "metadata": {},
   "outputs": [],
   "source": []
  },
  {
   "cell_type": "code",
   "execution_count": null,
   "metadata": {},
   "outputs": [],
   "source": [
    "test.plot_reconstruction([3, 4], plot_residual=True)"
   ]
  },
  {
   "cell_type": "code",
   "execution_count": 38,
   "metadata": {},
   "outputs": [],
   "source": [
    "test.plot_image([3, 4], spots=True)"
   ]
  },
  {
   "cell_type": "code",
   "execution_count": 124,
   "metadata": {},
   "outputs": [],
   "source": [
    "plot_map = np.zeros(test.map.map_shape)\n",
    "plot_map[:] = np.nan\n",
    "\n",
    "for image_index in range(test.map.num_images):\n",
    "    indices = np.unravel_index(image_index, test.map.map_shape)\n",
    "    pixel_df = test.spots[(test.spots['map_x'] == indices[0])\n",
    "                          & (test.spots['map_y'] == indices[1])]\n",
    "    \n",
    "    if len(pixel_df) < 1:\n",
    "        plot_map[indices] = 0\n",
    "    else:\n",
    "        plot_map[indices] = np.sum(pixel_df['guess_int'])\n",
    "        #plot_map[indices] = np.sum(pixel_df['fit_amp'])\n",
    "        #plot_map[indices] = np.sum(pixel_df['fit_integrated'])\n",
    "        #plot_map[indices] = np.sum(pixel_df['fit_fwhm_chi'])\n",
    "        #plot_map[indices] = np.mean(pixel_df['fit_chi0'])\n",
    "        #plot_map[indices] = len(pixel_df)\n",
    "        #plot_map[indices] = np.nanmedian(pixel_df['qz'])\n",
    "        #plot_map[indices] = np.nanmin(pixel_df['fit_r_squared'])\n",
    "        #plot_map[indices] = pixel_df.iloc[np.argmax(pixel_df['fit_integrated'])]['fit_tth0']\n",
    "        #plot_map[indices] = pixel_df.iloc[np.argmax(pixel_df['fit_integrated'])]['fit_chi0']\n",
    "\n",
    "\n",
    "fig, ax = plt.subplots(1, 1, figsize=(5, 5), dpi=200)\n",
    "\n",
    "im = ax.imshow(plot_map)\n",
    "fig.colorbar(im, ax=ax)\n",
    "ax.set_title('Spot Value')\n",
    "\n",
    "plt.show()"
   ]
  },
  {
   "cell_type": "code",
   "execution_count": 1010,
   "metadata": {},
   "outputs": [],
   "source": [
    "test.plot_interactive_map(display_map=plot_map, img_vmin=0, img_vmax=0.1, map_vmin=10, map_vmax=5000)"
   ]
  },
  {
   "cell_type": "code",
   "execution_count": 179,
   "metadata": {},
   "outputs": [
    {
     "data": {
      "text/plain": [
       "3321"
      ]
     },
     "execution_count": 179,
     "metadata": {},
     "output_type": "execute_result"
    }
   ],
   "source": [
    "test.map.num_images"
   ]
  },
  {
   "cell_type": "code",
   "execution_count": 184,
   "metadata": {},
   "outputs": [
    {
     "data": {
      "text/plain": [
       "array([12. , 12.5, 13. , 13.5, 14. , 14.5, 15. , 15.5, 16. , 16.5, 17. ,\n",
       "       17.5, 18. , 18.5, 19. , 19.5, 20. , 20.5, 21. , 21.5, 22. ])"
      ]
     },
     "execution_count": 184,
     "metadata": {},
     "output_type": "execute_result"
    }
   ],
   "source": [
    "np.arange(12, 22.5, 0.5)"
   ]
  },
  {
   "cell_type": "code",
   "execution_count": 189,
   "metadata": {},
   "outputs": [],
   "source": [
    "energies = np.arange(12, 22.5, 0.5)\n",
    "\n",
    "q_list = []\n",
    "\n",
    "for en in energies:\n",
    "    wavelength = energy_2_wavelength(en)\n",
    "    q_arr = get_q_vect(test.tth_arr, test.chi_arr, wavelength=wavelength)\n",
    "    q_list.append(q_arr)\n",
    "\n",
    "q_list = np.asarray(q_list)"
   ]
  },
  {
   "cell_type": "code",
   "execution_count": 190,
   "metadata": {},
   "outputs": [
    {
     "data": {
      "text/plain": [
       "(21, 3, 486, 768)"
      ]
     },
     "execution_count": 190,
     "metadata": {},
     "output_type": "execute_result"
    }
   ],
   "source": [
    "q_list.shape"
   ]
  },
  {
   "cell_type": "code",
   "execution_count": 267,
   "metadata": {},
   "outputs": [],
   "source": [
    "skip = 500\n",
    "qx, qy, qz = [], [], []\n",
    "for i, q in enumerate(q_list):\n",
    "    if i == 0 or i == len(q_list) - 1:\n",
    "        qx.extend(q[0].ravel()[::skip])\n",
    "        qy.extend(q[1].ravel()[::skip])\n",
    "        qz.extend(q[2].ravel()[::skip])\n",
    "    qx.extend(q[0, 0][::int(np.sqrt(skip))])\n",
    "    qy.extend(q[1, 0][::int(np.sqrt(skip))])\n",
    "    qz.extend(q[2, 0][::int(np.sqrt(skip))])\n",
    "\n",
    "    qx.extend(q[0, -1][::int(np.sqrt(skip))])\n",
    "    qy.extend(q[1, -1][::int(np.sqrt(skip))])\n",
    "    qz.extend(q[2, -1][::int(np.sqrt(skip))])\n",
    "\n",
    "    qx.extend(q[0, :, 0][::int(np.sqrt(skip))])\n",
    "    qy.extend(q[1, :, 0][::int(np.sqrt(skip))])\n",
    "    qz.extend(q[2, :, 0][::int(np.sqrt(skip))])\n",
    "\n",
    "    qx.extend(q[0, :, -1][::int(np.sqrt(skip))])\n",
    "    qy.extend(q[1, :, -1][::int(np.sqrt(skip))])\n",
    "    qz.extend(q[2, :, -1][::int(np.sqrt(skip))])"
   ]
  },
  {
   "cell_type": "code",
   "execution_count": 920,
   "metadata": {},
   "outputs": [],
   "source": [
    "from scipy.ndimage import sobel, laplace, prewitt, generic_laplace, correlate1d"
   ]
  },
  {
   "cell_type": "code",
   "execution_count": 935,
   "metadata": {},
   "outputs": [],
   "source": [
    "def derivative2(input, axis, output, mode, cval):\n",
    "    #return correlate1d(input, [1, -2, 1], axis, output, mode, cval, 0)\n",
    "    return correlate1d(input, [1, 1, -8, 1, 1], axis, output, mode, cval, 0)"
   ]
  },
  {
   "cell_type": "code",
   "execution_count": 936,
   "metadata": {},
   "outputs": [],
   "source": [
    "lap_image = generic_laplace(sob_image, derivative2)"
   ]
  },
  {
   "cell_type": "code",
   "execution_count": 938,
   "metadata": {},
   "outputs": [],
   "source": [
    "test.plot_image(-lap_image)"
   ]
  },
  {
   "cell_type": "code",
   "execution_count": 948,
   "metadata": {},
   "outputs": [],
   "source": [
    "test_image = test.map.images[8, 34].copy()\n",
    "mask = test.map.spot_masks[8, 34]"
   ]
  },
  {
   "cell_type": "code",
   "execution_count": 973,
   "metadata": {},
   "outputs": [],
   "source": [
    "sob_image = test_image.copy()\n",
    "sob_image = gaussian_filter(sob_image, sigma=1)\n",
    "#sob_x = sobel(sob_image, axis=1)\n",
    "#sob_y = sobel(sob_image, axis=0)\n",
    "sob_x = prewitt(sob_image, axis=1)\n",
    "sob_y = prewitt(sob_image, axis=0)\n",
    "sob_mag = np.sqrt(sob_x**2 + sob_y**2)\n",
    "div = sobel(sob_x, axis=1) + sobel(sob_y, axis=0)\n",
    "mask = div > 2"
   ]
  },
  {
   "cell_type": "code",
   "execution_count": 997,
   "metadata": {},
   "outputs": [],
   "source": [
    "test.plot_image(gaussian_filter(test_image, sigma=0) - gaussian_filter(test_image, sigma=1))"
   ]
  },
  {
   "cell_type": "code",
   "execution_count": 974,
   "metadata": {},
   "outputs": [],
   "source": [
    "extent = 10\n",
    "max_h, max_v = np.unravel_index(np.argmax(-div), div.shape)\n",
    "h_bounds = (max_v - extent, max_v + extent)\n",
    "v_bounds = (max_h - extent, max_h + extent)\n",
    "bound_image = sob_image[v_bounds[0] : v_bounds[1], h_bounds[0] : h_bounds[1]]"
   ]
  },
  {
   "cell_type": "code",
   "execution_count": 1002,
   "metadata": {},
   "outputs": [],
   "source": [
    "test.plot_image(sob_x)"
   ]
  },
  {
   "cell_type": "code",
   "execution_count": 1006,
   "metadata": {},
   "outputs": [],
   "source": [
    "fig, ax = plt.subplots(1, 1, figsize=(5, 5), dpi=200)\n",
    "\n",
    "ax.imshow(bound_image)\n",
    "\n",
    "scale = 1\n",
    "\n",
    "sob_x = sobel(bound_image, axis=1) * scale\n",
    "sob_y = sobel(bound_image, axis=0) * scale\n",
    "\n",
    "for index in range(np.prod([*bound_image.shape])):\n",
    "    indices = np.unravel_index(index, bound_image.shape)\n",
    "\n",
    "    dx = sob_y[indices]\n",
    "    dy = sob_x[indices]\n",
    "    \n",
    "\n",
    "    #if indices[0] > bound_image.shape[0] // 2 - 1:\n",
    "    #    dx = -dx\n",
    "    #if indices[1] > bound_image.shape[1] // 2 - 1:\n",
    "    #    dy = -dy\n",
    "\n",
    "    ax.arrow(*indices, dx, dy, width=0.00001, head_width=0.1, fc='r', ec='r')\n",
    "\n",
    "\n",
    "plt.show()"
   ]
  },
  {
   "cell_type": "code",
   "execution_count": 961,
   "metadata": {},
   "outputs": [
    {
     "data": {
      "text/plain": [
       "400"
      ]
     },
     "execution_count": 961,
     "metadata": {},
     "output_type": "execute_result"
    }
   ],
   "source": [
    "def intersect(P0, P1):\n",
    "    \"\"\"P0 and P1 are NxD arrays defining N lines.\n",
    "    D is the dimension of the space. This function \n",
    "    returns the least squares intersection of the N\n",
    "    lines from the system given by eq. 13 in \n",
    "    http://cal.cs.illinois.edu/~johannes/research/LS_line_intersect.pdf.\n",
    "    \"\"\"\n",
    "    # generate all line direction vectors \n",
    "    n = (P1 - P0) / np.linalg.norm(P1 - P0, axis=1)[:, np.newaxis] # normalized\n",
    "\n",
    "    # generate the array of all projectors \n",
    "    projs = np.eye(n.shape[1]) - n[:, :, np.newaxis] * n[:, np.newaxis]  # I - n*n.T\n",
    "    # see fig. 1 \n",
    "\n",
    "    # generate R matrix and q vector\n",
    "    R = projs.sum(axis=0)\n",
    "    q = (projs @ P0[:, :, np.newaxis]).sum(axis=0)\n",
    "\n",
    "    # solve the least squares problem for the \n",
    "    # intersection point p: Rp = q\n",
    "    p = np.linalg.lstsq(R, q, rcond=None)[0]\n",
    "\n",
    "    return p"
   ]
  },
  {
   "cell_type": "code",
   "execution_count": null,
   "metadata": {},
   "outputs": [],
   "source": []
  },
  {
   "cell_type": "code",
   "execution_count": 950,
   "metadata": {},
   "outputs": [],
   "source": [
    "test.plot_image(-div)"
   ]
  },
  {
   "cell_type": "code",
   "execution_count": 939,
   "metadata": {},
   "outputs": [],
   "source": [
    "lap_image = laplace(sob_image)"
   ]
  },
  {
   "cell_type": "code",
   "execution_count": 941,
   "metadata": {},
   "outputs": [],
   "source": [
    "test.plot_image(laplace(lap_image))"
   ]
  },
  {
   "cell_type": "code",
   "execution_count": 913,
   "metadata": {},
   "outputs": [],
   "source": [
    "spots = peak_local_max(-div,\n",
    "                       min_distance=3,\n",
    "                       labels=-div > 5,\n",
    "                       num_peaks_per_label=np.inf)\n",
    "\n",
    "spots = peak_local_max(-lap_image,\n",
    "                       min_distance=3,\n",
    "                       labels=-lap_image > 0.009,\n",
    "                       num_peaks_per_label=np.inf)"
   ]
  },
  {
   "cell_type": "code",
   "execution_count": 914,
   "metadata": {},
   "outputs": [],
   "source": [
    "fig, ax = plt.subplots(1, 1, figsize=(5, 5), dpi=200)\n",
    "\n",
    "im = ax.imshow(test_image)\n",
    "fig.colorbar(im, ax=ax)\n",
    "\n",
    "ax.scatter(spots[:, 1], spots[:, 0], s=1, c='r')\n",
    "\n",
    "plt.show()"
   ]
  },
  {
   "cell_type": "code",
   "execution_count": 625,
   "metadata": {},
   "outputs": [],
   "source": [
    "true_center = (48, 0)\n",
    "\n",
    "x = np.linspace(-50, 50, 500)\n",
    "xx, yy = np.meshgrid(x, x)\n",
    "\n",
    "z = GaussianFunctions.func_2d([xx, yy], 100, *true_center, 10, 10, 0)\n",
    "noise = np.random.normal(loc=0, scale=0, size=z.shape)\n",
    "\n",
    "noisy_z = z + noise"
   ]
  },
  {
   "cell_type": "code",
   "execution_count": 626,
   "metadata": {},
   "outputs": [
    {
     "name": "stderr",
     "output_type": "stream",
     "text": [
      "c:\\Users\\emusterma\\AppData\\Local\\Programs\\Python\\Python311\\Lib\\site-packages\\scipy\\optimize\\_minpack_py.py:1010: OptimizeWarning: Covariance of the parameters could not be estimated\n",
      "  warnings.warn('Covariance of the parameters could not be estimated',\n"
     ]
    }
   ],
   "source": [
    "max_center = xx[np.unravel_index(np.argmax(noisy_z), noisy_z.shape)], yy[np.unravel_index(np.argmax(noisy_z), noisy_z.shape)]\n",
    "mass_center = arbitrary_center_or_mass(noisy_z, xx, yy)\n",
    "\n",
    "p0 = [np.max(noisy_z), *mass_center, 1, 1, 0]\n",
    "\n",
    "popt, _ = curve_fit(GaussianFunctions.func_2d, [xx.ravel(), yy.ravel()], noisy_z.ravel(), p0=p0)\n",
    "gauss_center = (popt[1], popt[2])\n",
    "\n",
    "sob_x = sobel(gaussian_filter(noisy_z, sigma=3), axis=1)\n",
    "sob_y = sobel(gaussian_filter(noisy_z, sigma=3), axis=0)\n",
    "div = sobel(sob_x, axis=1) + sobel(sob_y, axis=0)\n",
    "div_mask = -div > 10\n",
    "sob_center = arbitrary_center_or_mass(-div[div_mask], xx[div_mask], yy[div_mask])\n"
   ]
  },
  {
   "cell_type": "code",
   "execution_count": 621,
   "metadata": {},
   "outputs": [],
   "source": [
    "fig, ax = plt.subplots(1, 1, figsize=(5, 5), dpi=200)\n",
    "\n",
    "im = ax.imshow(noisy_z, extent=[np.min(xx), np.max(xx), np.min(yy), np.max(yy)])\n",
    "fig.colorbar(im, ax=ax)\n",
    "\n",
    "for center in [max_center, mass_center, gauss_center, sob_center, true_center]:\n",
    "    ax.scatter(*center, s=1, c='r')\n",
    "\n",
    "plt.show()"
   ]
  },
  {
   "cell_type": "code",
   "execution_count": 627,
   "metadata": {},
   "outputs": [
    {
     "name": "stdout",
     "output_type": "stream",
     "text": [
      "(47.99599198396794, -0.10020040080160442)\n",
      "(45.825804918734526, 1.743815701176553e-16)\n",
      "(47.999999999999915, 1.743815701176553e-16)\n",
      "(47.024604588734526, 7.110471171656023e-16)\n",
      "(48, 0)\n"
     ]
    }
   ],
   "source": [
    "print(max_center)\n",
    "print(mass_center)\n",
    "print(gauss_center)\n",
    "print(sob_center)\n",
    "print(true_center)"
   ]
  },
  {
   "cell_type": "code",
   "execution_count": null,
   "metadata": {},
   "outputs": [],
   "source": []
  },
  {
   "cell_type": "code",
   "execution_count": null,
   "metadata": {},
   "outputs": [],
   "source": []
  },
  {
   "cell_type": "code",
   "execution_count": null,
   "metadata": {},
   "outputs": [],
   "source": []
  },
  {
   "cell_type": "code",
   "execution_count": 447,
   "metadata": {},
   "outputs": [],
   "source": [
    "fig, ax = plt.subplots(1, 1, figsize=(5, 5), dpi=200)\n",
    "\n",
    "im = ax.imshow(test_image, vmin=0, vmax=100)\n",
    "fig.colorbar(im, ax=ax)\n",
    "\n",
    "ax.scatter(spots[:, 1], spots[:, 0], s=1, c='r')\n",
    "\n",
    "fig.show()"
   ]
  },
  {
   "cell_type": "code",
   "execution_count": 287,
   "metadata": {},
   "outputs": [],
   "source": [
    "mask = test.map.spot_masks[74, 32]"
   ]
  },
  {
   "cell_type": "code",
   "execution_count": 288,
   "metadata": {},
   "outputs": [],
   "source": [
    "v = np.array([sob_x.ravel()[mask.ravel()], sob_y.ravel()[mask.ravel()]])\n",
    "p = np.array([test.tth_arr.ravel()[mask.ravel()], test.chi_arr.ravel()[mask.ravel()]])"
   ]
  },
  {
   "cell_type": "code",
   "execution_count": 324,
   "metadata": {},
   "outputs": [],
   "source": [
    "blob_mask = label(mask) == 3\n",
    "masked_mask = blob_mask[mask]\n",
    "v3 = v[:, masked_mask]\n",
    "p3 = p[:, masked_mask]"
   ]
  },
  {
   "cell_type": "code",
   "execution_count": 333,
   "metadata": {},
   "outputs": [],
   "source": [
    "from itertools import combinations\n",
    "\n",
    "p_combo = list(combinations(p3.T, 2))\n",
    "v_combo = list(combinations(v3.T, 2))"
   ]
  },
  {
   "cell_type": "code",
   "execution_count": 338,
   "metadata": {},
   "outputs": [
    {
     "data": {
      "text/plain": [
       "array([-0.09966363,  0.17441136], dtype=float32)"
      ]
     },
     "execution_count": 338,
     "metadata": {},
     "output_type": "execute_result"
    }
   ],
   "source": [
    "v3[:, 0]"
   ]
  },
  {
   "cell_type": "code",
   "execution_count": 351,
   "metadata": {},
   "outputs": [
    {
     "data": {
      "text/plain": [
       "[array([-0.09966363, -0.20555624], dtype=float32),\n",
       " array([0.17441136, 0.05606079], dtype=float32)]"
      ]
     },
     "execution_count": 351,
     "metadata": {},
     "output_type": "execute_result"
    }
   ],
   "source": [
    "list(np.asarray(v_combo[0]).T)"
   ]
  },
  {
   "cell_type": "code",
   "execution_count": 343,
   "metadata": {},
   "outputs": [
    {
     "data": {
      "text/plain": [
       "array([ 12.67983769, 161.22048606])"
      ]
     },
     "execution_count": 343,
     "metadata": {},
     "output_type": "execute_result"
    }
   ],
   "source": [
    "p3[:, 0]"
   ]
  },
  {
   "cell_type": "code",
   "execution_count": 346,
   "metadata": {},
   "outputs": [
    {
     "data": {
      "text/plain": [
       "array([-0.03483012, -0.04833402])"
      ]
     },
     "execution_count": 346,
     "metadata": {},
     "output_type": "execute_result"
    }
   ],
   "source": [
    "(p_combo[0][0] - p_combo[0][1])"
   ]
  },
  {
   "cell_type": "code",
   "execution_count": 341,
   "metadata": {},
   "outputs": [
    {
     "data": {
      "text/plain": [
       "array([[ 12.67983769, 161.22048606],\n",
       "       [ 12.71466782, 161.26882008]])"
      ]
     },
     "execution_count": 341,
     "metadata": {},
     "output_type": "execute_result"
    }
   ],
   "source": [
    "np.asarray(p_combo[0])"
   ]
  },
  {
   "cell_type": "code",
   "execution_count": 357,
   "metadata": {},
   "outputs": [],
   "source": [
    "A = []\n",
    "b = []\n",
    "for pi, vi in zip(p_combo, v_combo):\n",
    "    A.extend(list(np.asarray(vi).T))\n",
    "    b.extend(list(pi[0] - pi[1]))\n",
    "\n",
    "A = np.asarray(A)\n",
    "b = np.asarray(b)"
   ]
  },
  {
   "cell_type": "code",
   "execution_count": 358,
   "metadata": {},
   "outputs": [
    {
     "data": {
      "text/plain": [
       "(315282, 2)"
      ]
     },
     "execution_count": 358,
     "metadata": {},
     "output_type": "execute_result"
    }
   ],
   "source": [
    "A.shape"
   ]
  },
  {
   "cell_type": "code",
   "execution_count": 359,
   "metadata": {},
   "outputs": [
    {
     "data": {
      "text/plain": [
       "(315282,)"
      ]
     },
     "execution_count": 359,
     "metadata": {},
     "output_type": "execute_result"
    }
   ],
   "source": [
    "b.shape"
   ]
  },
  {
   "cell_type": "code",
   "execution_count": 360,
   "metadata": {},
   "outputs": [],
   "source": [
    "out = lstsq(A, b)"
   ]
  },
  {
   "cell_type": "code",
   "execution_count": 361,
   "metadata": {},
   "outputs": [
    {
     "data": {
      "text/plain": [
       "(array([-0.03950399,  0.03491266]),\n",
       " 507805.83675365685,\n",
       " 2,\n",
       " array([667.06970721, 612.53409207]))"
      ]
     },
     "execution_count": 361,
     "metadata": {},
     "output_type": "execute_result"
    }
   ],
   "source": [
    "out"
   ]
  },
  {
   "cell_type": "code",
   "execution_count": 371,
   "metadata": {},
   "outputs": [
    {
     "name": "stdout",
     "output_type": "stream",
     "text": [
      "[-0.09966363  0.17441136]\n",
      "[-0.03950399  0.03491266]\n"
     ]
    }
   ],
   "source": [
    "print(v3[:, 0])\n",
    "print(out[0])"
   ]
  },
  {
   "cell_type": "code",
   "execution_count": 386,
   "metadata": {},
   "outputs": [],
   "source": [
    "coords = np.mean(v3.T * out[0] + p3.T, axis=0)"
   ]
  },
  {
   "cell_type": "code",
   "execution_count": 409,
   "metadata": {},
   "outputs": [],
   "source": [
    "fig, ax = plt.subplots(1, 1, figsize=(5, 5), dpi=200)\n",
    "\n",
    "ax.scatter(*p3, s=1, c='k')\n",
    "\n",
    "plt.show()"
   ]
  },
  {
   "cell_type": "code",
   "execution_count": 408,
   "metadata": {},
   "outputs": [],
   "source": [
    "fig, ax = plt.subplots(1, 1, figsize=(5, 5), dpi=200)\n",
    "ax.scatter(*p3, s=1, c='k')\n",
    "\n",
    "ax.plot(p3.T, (p3 + (v3 * 0.001)).T)\n",
    "\n",
    "plt.show()"
   ]
  },
  {
   "cell_type": "code",
   "execution_count": 397,
   "metadata": {},
   "outputs": [],
   "source": [
    "fig, ax = plt.subplots(1, 1, figsize=(5, 5), dpi=200)\n",
    "\n",
    "ax.scatter(*(v3.T * out[0] + p3.T).T, s=1, c='k')\n",
    "\n",
    "plt.show()"
   ]
  },
  {
   "cell_type": "code",
   "execution_count": 393,
   "metadata": {},
   "outputs": [],
   "source": [
    "fig, ax = plt.subplots(1, 1, figsize=(5, 5), dpi=200)\n",
    "\n",
    "im = ax.imshow(test_image, vmin=0, vmax=0.1)\n",
    "fig.colorbar(im, ax=ax)\n",
    "\n",
    "ax.contour(masked)\n",
    "\n",
    "plt.show()"
   ]
  },
  {
   "cell_type": "code",
   "execution_count": 314,
   "metadata": {},
   "outputs": [],
   "source": [
    "test.plot_image(label(mask))"
   ]
  },
  {
   "cell_type": "code",
   "execution_count": 312,
   "metadata": {},
   "outputs": [
    {
     "name": "stdout",
     "output_type": "stream",
     "text": [
      "[ 0.11835057 -0.01868693]\n",
      "[0.23047216 0.03114488]\n",
      "[ 25.59895322 158.62658482]\n",
      "[ 25.43680711 158.59622021]\n"
     ]
    }
   ],
   "source": [
    "print(v[:, 0])\n",
    "print(v[:, 1])\n",
    "print(p[:, 0])\n",
    "print(p[:, 1])"
   ]
  },
  {
   "cell_type": "code",
   "execution_count": 305,
   "metadata": {},
   "outputs": [
    {
     "ename": "ValueError",
     "evalue": "Input array a should be 2D",
     "output_type": "error",
     "traceback": [
      "\u001b[1;31m---------------------------------------------------------------------------\u001b[0m",
      "\u001b[1;31mValueError\u001b[0m                                Traceback (most recent call last)",
      "Cell \u001b[1;32mIn[305], line 3\u001b[0m\n\u001b[0;32m      1\u001b[0m \u001b[38;5;28;01mfrom\u001b[39;00m \u001b[38;5;21;01mscipy\u001b[39;00m\u001b[38;5;21;01m.\u001b[39;00m\u001b[38;5;21;01mlinalg\u001b[39;00m \u001b[38;5;28;01mimport\u001b[39;00m lstsq\n\u001b[1;32m----> 3\u001b[0m out \u001b[38;5;241m=\u001b[39m \u001b[43mlstsq\u001b[49m\u001b[43m(\u001b[49m\u001b[43m[\u001b[49m\u001b[43mv\u001b[49m\u001b[43m,\u001b[49m\u001b[43m \u001b[49m\u001b[38;5;241;43m-\u001b[39;49m\u001b[43mv\u001b[49m\u001b[43m]\u001b[49m\u001b[43m,\u001b[49m\u001b[43m \u001b[49m\u001b[43mp\u001b[49m\u001b[43m \u001b[49m\u001b[38;5;241;43m-\u001b[39;49m\u001b[43m \u001b[49m\u001b[43mp\u001b[49m\u001b[43m)\u001b[49m\n",
      "File \u001b[1;32mc:\\Users\\emusterma\\AppData\\Local\\Programs\\Python\\Python311\\Lib\\site-packages\\scipy\\linalg\\_basic.py:1227\u001b[0m, in \u001b[0;36mlstsq\u001b[1;34m(a, b, cond, overwrite_a, overwrite_b, check_finite, lapack_driver)\u001b[0m\n\u001b[0;32m   1225\u001b[0m b1 \u001b[38;5;241m=\u001b[39m _asarray_validated(b, check_finite\u001b[38;5;241m=\u001b[39mcheck_finite)\n\u001b[0;32m   1226\u001b[0m \u001b[38;5;28;01mif\u001b[39;00m \u001b[38;5;28mlen\u001b[39m(a1\u001b[38;5;241m.\u001b[39mshape) \u001b[38;5;241m!=\u001b[39m \u001b[38;5;241m2\u001b[39m:\n\u001b[1;32m-> 1227\u001b[0m     \u001b[38;5;28;01mraise\u001b[39;00m \u001b[38;5;167;01mValueError\u001b[39;00m(\u001b[38;5;124m'\u001b[39m\u001b[38;5;124mInput array a should be 2D\u001b[39m\u001b[38;5;124m'\u001b[39m)\n\u001b[0;32m   1228\u001b[0m m, n \u001b[38;5;241m=\u001b[39m a1\u001b[38;5;241m.\u001b[39mshape\n\u001b[0;32m   1229\u001b[0m \u001b[38;5;28;01mif\u001b[39;00m \u001b[38;5;28mlen\u001b[39m(b1\u001b[38;5;241m.\u001b[39mshape) \u001b[38;5;241m==\u001b[39m \u001b[38;5;241m2\u001b[39m:\n",
      "\u001b[1;31mValueError\u001b[0m: Input array a should be 2D"
     ]
    }
   ],
   "source": [
    "from scipy.linalg import lstsq\n",
    "\n",
    "out = lstsq(v, p)"
   ]
  },
  {
   "cell_type": "code",
   "execution_count": 300,
   "metadata": {},
   "outputs": [],
   "source": [
    "q = p + v @ out[0]"
   ]
  },
  {
   "cell_type": "code",
   "execution_count": 304,
   "metadata": {},
   "outputs": [
    {
     "data": {
      "text/plain": [
       "array([ 317.25316964,  317.19244043,  317.25043743, ..., -331.58475086,\n",
       "       -331.31714126, -331.34545068])"
      ]
     },
     "execution_count": 304,
     "metadata": {},
     "output_type": "execute_result"
    }
   ],
   "source": [
    "q[1]"
   ]
  },
  {
   "cell_type": "code",
   "execution_count": 280,
   "metadata": {},
   "outputs": [],
   "source": [
    "test.plot_image(sob_mag)"
   ]
  },
  {
   "cell_type": "code",
   "execution_count": 269,
   "metadata": {},
   "outputs": [],
   "source": [
    "fig, ax = plt.subplots(1, 1, figsize=(5, 5), dpi=200, subplot_kw={'projection':'3d'})\n",
    "\n",
    "ax.scatter(qx, qy, qz, c='b', s=1, alpha=0.1)\n",
    "#ax.plot(qx, qy, qz, c='k')\n",
    "#ax.plot_trisurf(qx, qy, qz, alpha=0.5, label='detector')\n",
    "#ax.voxels(np.asarray([qx, qy, qz]), alpha=0.5)\n",
    "    \n",
    "fig.show()"
   ]
  },
  {
   "cell_type": "code",
   "execution_count": null,
   "metadata": {},
   "outputs": [],
   "source": []
  },
  {
   "cell_type": "code",
   "execution_count": 45,
   "metadata": {},
   "outputs": [],
   "source": [
    "pixel_df = test.spots[(test.spots['map_x'] == 3)\n",
    "                        & (test.spots['map_y'] == 3)]"
   ]
  },
  {
   "cell_type": "code",
   "execution_count": 47,
   "metadata": {},
   "outputs": [
    {
     "data": {
      "text/plain": [
       "map_x               3.000000\n",
       "map_y               3.000000\n",
       "guess_height        5.275062\n",
       "guess_img_x        30.000000\n",
       "guess_img_y       678.000000\n",
       "guess_tth          38.512360\n",
       "guess_chi         -13.624387\n",
       "guess_cen_tth      38.505309\n",
       "guess_cen_chi     -13.599907\n",
       "guess_fwhm_tth      0.426384\n",
       "guess_fwhm_chi      0.687899\n",
       "guess_int         101.430588\n",
       "fit_amp             4.920459\n",
       "fit_tth0           38.504399\n",
       "fit_chi0          -13.640256\n",
       "fit_fwhm_tth        0.126779\n",
       "fit_fwhm_chi        0.169940\n",
       "fit_theta           6.327112\n",
       "fit_offset          0.138128\n",
       "fit_r_squared       0.859608\n",
       "fit_integrated      0.120120\n",
       "fit_fwhm_a          0.144735\n",
       "fit_fwhm_b          0.154934\n",
       "qx                 -4.599082\n",
       "qy                 -1.116056\n",
       "qz                 -1.652888\n",
       "Name: 51, dtype: float64"
      ]
     },
     "execution_count": 47,
     "metadata": {},
     "output_type": "execute_result"
    }
   ],
   "source": [
    "pixel_df.iloc[0]"
   ]
  },
  {
   "cell_type": "code",
   "execution_count": 229,
   "metadata": {},
   "outputs": [],
   "source": [
    "test.plot_image(spots=True)"
   ]
  },
  {
   "cell_type": "code",
   "execution_count": 230,
   "metadata": {},
   "outputs": [],
   "source": [
    "test.plot_reconstruction([26, 21])"
   ]
  },
  {
   "cell_type": "code",
   "execution_count": 313,
   "metadata": {},
   "outputs": [],
   "source": [
    "test.plot_q_space(pixel_indices=[26, 21])"
   ]
  },
  {
   "cell_type": "code",
   "execution_count": 297,
   "metadata": {},
   "outputs": [],
   "source": [
    "#fig = plt.figure()\n",
    "new_fig = test.phases['LiNbO3 148'].show_unitcell()\n",
    "new_fig.axes[-1].set_aspect('equal')\n",
    "plt.show()"
   ]
  },
  {
   "cell_type": "code",
   "execution_count": 660,
   "metadata": {},
   "outputs": [
    {
     "name": "stdout",
     "output_type": "stream",
     "text": [
      "13\n",
      "20\n",
      "22\n",
      "44\n",
      "46\n",
      "130\n",
      "139\n",
      "276\n",
      "281\n",
      "518\n",
      "520\n",
      "850\n",
      "852\n"
     ]
    }
   ],
   "source": [
    "for ind, hkil in enumerate(hkl_2_hkil(all_hkls)):\n",
    "    h, k, i, l = hkil\n",
    "    if h == 1 and k == 1:\n",
    "        print(ind)"
   ]
  },
  {
   "cell_type": "code",
   "execution_count": 18,
   "metadata": {},
   "outputs": [],
   "source": [
    "skip = 500\n",
    "\n",
    "all_hkls, all_qs, all_fs = generate_reciprocal_lattice(test.phases['sapphire'], tth_range=(0, 60))\n",
    "fig, ax = plt.subplots(1, 1, figsize=(5, 5), dpi=200, subplot_kw={'projection':'3d'})\n",
    "\n",
    "plot_qs = euler_rotation(all_qs, -60, 0, 0)\n",
    "\n",
    "ax.scatter(*np.asarray(plot_qs).T, c='k', s=all_fs/20)\n",
    "#ax.scatter(*np.asarray(all_qs).T, c='k', s=all_fs/20)\n",
    "ax.scatter(0, 0, 0, c='k', s=10)\n",
    "\n",
    "ax.scatter(*np.asarray(plot_qs)[13], c='r', s=10)\n",
    "\n",
    "for en in [10.125, 10.2, 14.55, 18.375, 19.225, 20.25, 20.375]:\n",
    "\n",
    "    q = get_q_vect(test.tth_arr, test.chi_arr, wavelength=energy_2_wavelength(en))\n",
    "\n",
    "    # Plot sampled Ewald sphere\n",
    "    q_mask = q[:, test.map.mask]\n",
    "    ax.plot_trisurf(q_mask[0].ravel()[::skip],\n",
    "                    q_mask[1].ravel()[::skip],\n",
    "                    q_mask[2].ravel()[::skip],\n",
    "                    alpha=0.5, label='detector')\n",
    "\n",
    "ax.set_xlabel('qx [Å⁻¹]')\n",
    "ax.set_ylabel('qy [Å⁻¹]')\n",
    "ax.set_zlabel('qz [Å⁻¹]')\n",
    "ax.set_aspect('equal')\n",
    "\n",
    "plt.show()"
   ]
  },
  {
   "cell_type": "code",
   "execution_count": 845,
   "metadata": {},
   "outputs": [
    {
     "data": {
      "text/plain": [
       "True"
      ]
     },
     "execution_count": 845,
     "metadata": {},
     "output_type": "execute_result"
    }
   ],
   "source": [
    "are_coplanar([[-2, 3, -5], [-2, 3, -2], [-3, 4, -4], [-4, 5, -6]])"
   ]
  },
  {
   "cell_type": "code",
   "execution_count": 783,
   "metadata": {},
   "outputs": [],
   "source": [
    "q1 = get_q_vect(test.tth_arr, test.chi_arr, wavelength=energy_2_wavelength(10.125))\n",
    "q2 = get_q_vect(test.tth_arr, test.chi_arr, wavelength=energy_2_wavelength(22))"
   ]
  },
  {
   "cell_type": "code",
   "execution_count": 842,
   "metadata": {},
   "outputs": [
    {
     "name": "stdout",
     "output_type": "stream",
     "text": [
      "Closest reflection is the (-2, 3, -5) at 0.3401 Å⁻¹ from the detector.\n"
     ]
    }
   ],
   "source": [
    "q1 = get_q_vect(test.tth_arr, test.chi_arr, wavelength=energy_2_wavelength(10.45))\n",
    "#plot_qs = euler_rotation(all_qs, -60, 0, 0)\n",
    "dist = euclidean_distances(plot_qs, q1.reshape(3, -1).T)\n",
    "dist[dist == 0] = np.nan\n",
    "indices = np.unravel_index(np.argmin(dist[dist > 0]), dist.shape)\n",
    "min_dist = dist[indices]\n",
    "min_hkl = all_hkls[indices[0]]\n",
    "print(f'Closest reflection is the {min_hkl} at {min_dist:.4f} Å⁻¹ from the detector.')"
   ]
  },
  {
   "cell_type": "code",
   "execution_count": 758,
   "metadata": {},
   "outputs": [
    {
     "name": "stderr",
     "output_type": "stream",
     "text": [
      "373248it [01:14, 5004.75it/s]\n"
     ]
    }
   ],
   "source": [
    "max_depth = 0\n",
    "\n",
    "for q1_i, q2_i in tqdm(zip(q1.reshape(3, -1).T, q2.reshape(3, -1).T)):\n",
    "    dist = euclidean_distances(q1_i.reshape(-1, 1).T, q2_i.reshape(-1, 1).T)[0, 0]\n",
    "    max_depth = np.max([dist, max_depth])"
   ]
  },
  {
   "cell_type": "code",
   "execution_count": 747,
   "metadata": {},
   "outputs": [],
   "source": [
    "q_range = list(q1.reshape(3, -1).T) + list(q2.reshape(3, -1).T)"
   ]
  },
  {
   "cell_type": "code",
   "execution_count": null,
   "metadata": {},
   "outputs": [],
   "source": []
  },
  {
   "cell_type": "code",
   "execution_count": 19,
   "metadata": {},
   "outputs": [],
   "source": [
    "all_hkls, all_qs, all_fs = generate_reciprocal_lattice(test.phases['sapphire'], tth_range=(0, 60))\n",
    "fig, ax = plt.subplots(1, 1, figsize=(5, 5), dpi=200, subplot_kw={'projection':'3d'})\n",
    "\n",
    "plot_qs = euler_rotation(all_qs, -60, 0, 0)\n",
    "ax.scatter(*np.asarray(plot_qs).T, c='k', s=all_fs/20)\n",
    "#ax.scatter(*np.asarray(all_qs).T, c='k', s=all_fs/20)\n",
    "ax.scatter(0, 0, 0, c='k', s=10)\n",
    "\n",
    "ax.scatter(*np.asarray(plot_qs)[13], c='r', s=10)\n",
    "\n",
    "for theta in [0, 5, 5.5, 12.25, 13.625, 14.20, 15.55]:\n",
    "    theta = np.radians(theta)\n",
    "\n",
    "    q = get_q_vect(test.tth_arr, test.chi_arr, wavelength=energy_2_wavelength(18))\n",
    "\n",
    "    Ry = np.array([[np.cos(theta), 0, -np.sin(theta)],\n",
    "                   [0, 1, 0],\n",
    "                   [np.sin(theta), 0, np.cos(theta)]])\n",
    "\n",
    "    # Plot sampled Ewald sphere\n",
    "    q_mask = q[:, test.map.mask]\n",
    "\n",
    "    q_mask = (q_mask.T @ Ry).T\n",
    "    ax.plot_trisurf(q_mask[0].ravel()[::skip],\n",
    "                    q_mask[1].ravel()[::skip],\n",
    "                    q_mask[2].ravel()[::skip],\n",
    "                    alpha=0.5, label='detector')\n",
    "\n",
    "ax.set_xlabel('qx [Å⁻¹]')\n",
    "ax.set_ylabel('qy [Å⁻¹]')\n",
    "ax.set_zlabel('qz [Å⁻¹]')\n",
    "ax.set_aspect('equal')\n",
    "\n",
    "plt.show()"
   ]
  },
  {
   "cell_type": "code",
   "execution_count": 700,
   "metadata": {},
   "outputs": [
    {
     "data": {
      "text/plain": [
       "True"
      ]
     },
     "execution_count": 700,
     "metadata": {},
     "output_type": "execute_result"
    }
   ],
   "source": [
    "are_coplanar([[1, 0, 0], [2, 0, 0], [1, 1, 0]])"
   ]
  },
  {
   "cell_type": "code",
   "execution_count": 270,
   "metadata": {},
   "outputs": [],
   "source": [
    "pixel_indices = [0, 0]\n",
    "skip = 500\n",
    "\n",
    "fig, ax = plt.subplots(1, 1, figsize=(5, 5), dpi=200, subplot_kw={'projection':'3d'})\n",
    "\n",
    "plot_qs = euler_rotation(all_qs, 10, -20, 0)\n",
    "\n",
    "ax.scatter(*np.asarray(plot_qs).T, c='k', s=all_fs / 50, alpha=0.75)\n",
    "ax.scatter(0, 0, 0, c='k', s=10)\n",
    "\n",
    "# Plot full Ewald sphere\n",
    "u = np.linspace(0, 2 * np.pi, 100)\n",
    "v = np.linspace(0, np.pi, 100)\n",
    "radius = 2 * np.pi / test.wavelength\n",
    "x =  radius * np.outer(np.cos(u), np.sin(v))\n",
    "y = radius * np.outer(np.sin(u), np.sin(v))\n",
    "z = radius * np.outer(np.ones(np.size(u)), np.cos(v))\n",
    "#ax.plot_surface(x, y, z - radius, alpha=0.2, color='k', label='Ewald sphere')\n",
    "\n",
    "q = get_q_vect(test.tth_arr, test.chi_arr, wavelength=test.wavelength)\n",
    "\n",
    "if pixel_indices is not None:\n",
    "    pixel_df = test.spots[(test.spots['map_x'] == pixel_indices[0])\n",
    "                            & (test.spots['map_y'] == pixel_indices[1])].copy()\n",
    "\n",
    "\n",
    "if pixel_indices is not None:\n",
    "    ax.scatter(*pixel_df[['qx', 'qy', 'qz']].values.T, s=1, c='r', label='spots')\n",
    "\n",
    "# Sample geometry\n",
    "ax.quiver([0, 0], [0, 0], [-2 * radius, -radius], [0, 0], [0, 0], [radius, radius], colors='k')\n",
    "ax.scatter(0, 0, 0, marker='o', s=10, facecolors='none', edgecolors='k', label='transmission')\n",
    "ax.scatter(0, 0, -radius, marker='h', s=10, c='b', label='sample')\n",
    "\n",
    "# Plot sampled Ewald sphere\n",
    "q_mask = q[:, test.map.mask]\n",
    "ax.plot_trisurf(q_mask[0].ravel()[::skip],\n",
    "                q_mask[1].ravel()[::skip],\n",
    "                q_mask[2].ravel()[::skip],\n",
    "                alpha=0.5, label='detector')\n",
    "\n",
    "ax.scatter(qx, qy, qz, c='b', s=1, alpha=0.1)\n",
    "\n",
    "ax.set_xlabel('qx [Å⁻¹]')\n",
    "ax.set_ylabel('qy [Å⁻¹]')\n",
    "ax.set_zlabel('qz [Å⁻¹]')\n",
    "ax.set_aspect('equal')\n",
    "\n",
    "plt.show()"
   ]
  },
  {
   "cell_type": "code",
   "execution_count": 23,
   "metadata": {},
   "outputs": [],
   "source": [
    "pixel_indices = [0, 0] #[26, 21]\n",
    "skip = 500\n",
    "\n",
    "#fig, ax = plt.subplots(1, 1, figsize=(5, 10), dpi=200, subplot_kw={'projection':'3d'})\n",
    "fig = plt.figure(figsize=(10, 5), dpi=200)\n",
    "ax = fig.add_axes([0, 0, 0.5, 1], projection='3d')\n",
    "#ax = fig.add_subplot(projection='3d')\n",
    "\n",
    "plot_qs = euler_rotation(all_qs, 10, -20, 0)\n",
    "recip_latt = ax.scatter(*np.asarray(plot_qs).T, c='k', s=all_fs / 50, alpha=0.75)\n",
    "ax.scatter(0, 0, 0, c='k', s=10)\n",
    "\n",
    "# Plot full Ewald sphere\n",
    "u = np.linspace(0, 2 * np.pi, 100)\n",
    "v = np.linspace(0, np.pi, 100)\n",
    "radius = 2 * np.pi / test.wavelength\n",
    "x =  radius * np.outer(np.cos(u), np.sin(v))\n",
    "y = radius * np.outer(np.sin(u), np.sin(v))\n",
    "z = radius * np.outer(np.ones(np.size(u)), np.cos(v))\n",
    "#ax.plot_surface(x, y, z - radius, alpha=0.2, color='k', label='Ewald sphere')\n",
    "\n",
    "q = get_q_vect(test.tth_arr, test.chi_arr, wavelength=test.wavelength)\n",
    "\n",
    "if pixel_indices is not None:\n",
    "    pixel_df = test.spots[(test.spots['map_x'] == pixel_indices[0])\n",
    "                            & (test.spots['map_y'] == pixel_indices[1])].copy()\n",
    "\n",
    "\n",
    "if pixel_indices is not None:\n",
    "    ax.scatter(*pixel_df[['qx', 'qy', 'qz']].values.T, s=1, c='r', label='spots')\n",
    "\n",
    "# Sample geometry\n",
    "ax.quiver([0, 0], [0, 0], [-2 * radius, -radius], [0, 0], [0, 0], [radius, radius], colors='k')\n",
    "ax.scatter(0, 0, 0, marker='o', s=10, facecolors='none', edgecolors='k', label='transmission')\n",
    "ax.scatter(0, 0, -radius, marker='h', s=10, c='b', label='sample')\n",
    "\n",
    "# Plot sampled Ewald sphere\n",
    "q_mask = q[:, test.map.mask]\n",
    "ax.plot_trisurf(q_mask[0].ravel()[::skip],\n",
    "                q_mask[1].ravel()[::skip],\n",
    "                q_mask[2].ravel()[::skip],\n",
    "                alpha=0.5, label='detector')\n",
    "\n",
    "phi1, PHI, phi2 = 10, -20, 0\n",
    "euler_angles = {'phi1' : phi1,\n",
    "                'PHI' : PHI,\n",
    "                'phi2': phi2}\n",
    "euler_bounds = [[-180, 180], [0, 180], [-180, 180]]\n",
    "slider_lst = []\n",
    "update_lst = []\n",
    "\n",
    "slider_vpos = np.linspace(0.8, 0.1, 3)\n",
    "\n",
    "for i, key in enumerate(euler_angles.keys()):\n",
    "    slider_ax = fig.add_axes\n",
    "\n",
    "    # Make a horizontal slider to control the frequency.\n",
    "    axfreq = fig.add_axes([0.7, slider_vpos[i], 0.2, 0.03])\n",
    "    euler_slider = Slider(\n",
    "        ax=axfreq,\n",
    "        label=f'{key} [deg]',\n",
    "        valmin=euler_bounds[i][0],\n",
    "        valmax=euler_bounds[i][1],\n",
    "        valinit=euler_angles[key],\n",
    "    )\n",
    "\n",
    "    slider_lst.append(euler_slider)\n",
    "\n",
    "    # The function to be called anytime a slider's value changes\n",
    "    def update_factory(key):\n",
    "        def update(val):\n",
    "            global recip_latt\n",
    "            euler_angles[key] = val\n",
    "            plot_qs = euler_rotation(all_qs, *euler_angles.values())\n",
    "            recip_latt.remove()\n",
    "            recip_latt = ax.scatter(*np.asarray(plot_qs).T, c='k', s=all_fs / 50, alpha=0.75)\n",
    "            fig.canvas.draw_idle()\n",
    "        return update\n",
    "\n",
    "    update_lst.append(update_factory(key))\n",
    "    slider_lst[i].on_changed(update_lst[i])\n",
    "\n",
    "ax.set_xlabel('qx [Å⁻¹]')\n",
    "ax.set_ylabel('qy [Å⁻¹]')\n",
    "ax.set_zlabel('qz [Å⁻¹]')\n",
    "ax.set_aspect('equal')\n",
    "\n",
    "plt.show()"
   ]
  },
  {
   "cell_type": "code",
   "execution_count": 158,
   "metadata": {},
   "outputs": [],
   "source": [
    "test.spots = pd.read_hdf(test.hdf_path, key='xrdmap/reflections/spots')"
   ]
  },
  {
   "cell_type": "code",
   "execution_count": 159,
   "metadata": {},
   "outputs": [],
   "source": [
    "dropped_indices = []\n",
    "\n",
    "for index in test.spots.index:\n",
    "    spot = test.spots.loc[index]\n",
    "    if spot['fit_amp'] - spot['fit_offset'] < 0.5:\n",
    "        dropped_indices.append(index)"
   ]
  },
  {
   "cell_type": "code",
   "execution_count": 160,
   "metadata": {},
   "outputs": [],
   "source": [
    "test.spots = test.spots.drop(index = dropped_indices)"
   ]
  },
  {
   "cell_type": "code",
   "execution_count": 181,
   "metadata": {},
   "outputs": [],
   "source": [
    "test.plot_image([15, 23], spots=True)"
   ]
  },
  {
   "cell_type": "code",
   "execution_count": 25,
   "metadata": {},
   "outputs": [
    {
     "ename": "NameError",
     "evalue": "name 'test' is not defined",
     "output_type": "error",
     "traceback": [
      "\u001b[1;31m---------------------------------------------------------------------------\u001b[0m",
      "\u001b[1;31mNameError\u001b[0m                                 Traceback (most recent call last)",
      "Cell \u001b[1;32mIn[25], line 2\u001b[0m\n\u001b[0;32m      1\u001b[0m pixel_indices \u001b[38;5;241m=\u001b[39m \u001b[38;5;241m5\u001b[39m, \u001b[38;5;241m28\u001b[39m\n\u001b[1;32m----> 2\u001b[0m pixel_df \u001b[38;5;241m=\u001b[39m \u001b[43mtest\u001b[49m\u001b[38;5;241m.\u001b[39mspots[(test\u001b[38;5;241m.\u001b[39mspots[\u001b[38;5;124m'\u001b[39m\u001b[38;5;124mmap_x\u001b[39m\u001b[38;5;124m'\u001b[39m] \u001b[38;5;241m==\u001b[39m pixel_indices[\u001b[38;5;241m0\u001b[39m])\n\u001b[0;32m      3\u001b[0m                         \u001b[38;5;241m&\u001b[39m (test\u001b[38;5;241m.\u001b[39mspots[\u001b[38;5;124m'\u001b[39m\u001b[38;5;124mmap_y\u001b[39m\u001b[38;5;124m'\u001b[39m] \u001b[38;5;241m==\u001b[39m pixel_indices[\u001b[38;5;241m1\u001b[39m])]\u001b[38;5;241m.\u001b[39mcopy()\n\u001b[0;32m      5\u001b[0m fit_ori, fit_min \u001b[38;5;241m=\u001b[39m iterative_dictionary_indexing(pixel_df, test\u001b[38;5;241m.\u001b[39mphases[\u001b[38;5;124m'\u001b[39m\u001b[38;5;124mStibnite\u001b[39m\u001b[38;5;124m'\u001b[39m], [np\u001b[38;5;241m.\u001b[39mmin(test\u001b[38;5;241m.\u001b[39mtth_arr), np\u001b[38;5;241m.\u001b[39mmax(test\u001b[38;5;241m.\u001b[39mtth_arr)],\n\u001b[0;32m      6\u001b[0m                                                  cut_off\u001b[38;5;241m=\u001b[39m\u001b[38;5;241m0.05\u001b[39m,\n\u001b[0;32m      7\u001b[0m                                                  start_angle\u001b[38;5;241m=\u001b[39m\u001b[38;5;241m20\u001b[39m,\n\u001b[0;32m      8\u001b[0m                                                  angle_resolution\u001b[38;5;241m=\u001b[39m\u001b[38;5;241m0.001\u001b[39m, \n\u001b[0;32m      9\u001b[0m                                                  euler_bounds\u001b[38;5;241m=\u001b[39m[[\u001b[38;5;241m0\u001b[39m, \u001b[38;5;241m180\u001b[39m], [\u001b[38;5;241m0\u001b[39m, \u001b[38;5;241m180\u001b[39m], [\u001b[38;5;241m0\u001b[39m, \u001b[38;5;241m-\u001b[39m\u001b[38;5;241m180\u001b[39m]])\n\u001b[0;32m     11\u001b[0m all_hkls, all_qs, all_fs \u001b[38;5;241m=\u001b[39m generate_reciprocal_lattice(test\u001b[38;5;241m.\u001b[39mphases[\u001b[38;5;124m'\u001b[39m\u001b[38;5;124mStibnite\u001b[39m\u001b[38;5;124m'\u001b[39m], tth_range\u001b[38;5;241m=\u001b[39m(np\u001b[38;5;241m.\u001b[39mmin(test\u001b[38;5;241m.\u001b[39mtth_arr), np\u001b[38;5;241m.\u001b[39mmax(test\u001b[38;5;241m.\u001b[39mtth_arr)))\n",
      "\u001b[1;31mNameError\u001b[0m: name 'test' is not defined"
     ]
    }
   ],
   "source": [
    "pixel_indices = 5, 28\n",
    "pixel_df = test.spots[(test.spots['map_x'] == pixel_indices[0])\n",
    "                        & (test.spots['map_y'] == pixel_indices[1])].copy()\n",
    "\n",
    "fit_ori, fit_min = iterative_dictionary_indexing(pixel_df, test.phases['Stibnite'], [np.min(test.tth_arr), np.max(test.tth_arr)],\n",
    "                                                 cut_off=0.05,\n",
    "                                                 start_angle=20,\n",
    "                                                 angle_resolution=0.001, \n",
    "                                                 euler_bounds=[[0, 180], [0, 90], [0, 180]])\n",
    "\n",
    "all_hkls, all_qs, all_fs = generate_reciprocal_lattice(test.phases['Stibnite'], tth_range=(np.min(test.tth_arr), np.max(test.tth_arr)))"
   ]
  },
  {
   "cell_type": "code",
   "execution_count": 165,
   "metadata": {},
   "outputs": [],
   "source": [
    "test.spots.drop(index=311, inplace=True)"
   ]
  },
  {
   "cell_type": "code",
   "execution_count": 171,
   "metadata": {},
   "outputs": [],
   "source": [
    "test.plot_image(pixel_indices, spots=True)"
   ]
  },
  {
   "cell_type": "code",
   "execution_count": 172,
   "metadata": {},
   "outputs": [],
   "source": [
    "skip = 500\n",
    "\n",
    "fig, ax = plt.subplots(1, 1, figsize=(5, 5), dpi=200, subplot_kw={'projection':'3d'})\n",
    "\n",
    "plot_qs = euler_rotation(all_qs, *fit_ori[-2])\n",
    "\n",
    "ax.scatter(*np.asarray(plot_qs).T, c='k', s=all_fs / 50, alpha=0.75)\n",
    "ax.scatter(0, 0, 0, c='k', s=10)\n",
    "\n",
    "# Plot full Ewald sphere\n",
    "u = np.linspace(0, 2 * np.pi, 100)\n",
    "v = np.linspace(0, np.pi, 100)\n",
    "radius = 2 * np.pi / test.wavelength\n",
    "x =  radius * np.outer(np.cos(u), np.sin(v))\n",
    "y = radius * np.outer(np.sin(u), np.sin(v))\n",
    "z = radius * np.outer(np.ones(np.size(u)), np.cos(v))\n",
    "#ax.plot_surface(x, y, z - radius, alpha=0.2, color='k', label='Ewald sphere')\n",
    "\n",
    "q = get_q_vect(test.tth_arr, test.chi_arr, wavelength=test.wavelength)\n",
    "\n",
    "if pixel_indices is not None:\n",
    "    pixel_df = test.spots[(test.spots['map_x'] == pixel_indices[0])\n",
    "                            & (test.spots['map_y'] == pixel_indices[1])].copy()\n",
    "\n",
    "\n",
    "if pixel_indices is not None:\n",
    "    ax.scatter(*pixel_df[['qx', 'qy', 'qz']].values.T, s=1, c='r', label='spots')\n",
    "\n",
    "# Sample geometry\n",
    "ax.quiver([0, 0], [0, 0], [-2 * radius, -radius], [0, 0], [0, 0], [radius, radius], colors='k')\n",
    "ax.scatter(0, 0, 0, marker='o', s=10, facecolors='none', edgecolors='k', label='transmission')\n",
    "ax.scatter(0, 0, -radius, marker='h', s=10, c='b', label='sample')\n",
    "\n",
    "# Plot sampled Ewald sphere\n",
    "q_mask = q[:, test.map.mask]\n",
    "ax.plot_trisurf(q_mask[0].ravel()[::skip],\n",
    "                q_mask[1].ravel()[::skip],\n",
    "                q_mask[2].ravel()[::skip],\n",
    "                alpha=0.5, label='detector')\n",
    "\n",
    "ax.set_xlabel('qx [Å⁻¹]')\n",
    "ax.set_ylabel('qy [Å⁻¹]')\n",
    "ax.set_zlabel('qz [Å⁻¹]')\n",
    "ax.set_aspect('equal')\n",
    "\n",
    "plt.show()"
   ]
  },
  {
   "cell_type": "code",
   "execution_count": 140,
   "metadata": {},
   "outputs": [
    {
     "data": {
      "text/plain": [
       "[(40, 160, 280),\n",
       " (200, 50.0, 280),\n",
       " (200.0, 50.0, 280.0),\n",
       " (350.0, 160.0, 237.5),\n",
       " (-2.5, 161.25, 243.75),\n",
       " (315.625, 51.875, 284.375),\n",
       " (315.625, 51.875, 284.375),\n",
       " (-5.78125, 160.78125, 241.09375),\n",
       " (75.9375, 51.796875, 284.0625),\n",
       " (234.6484375, 160.8203125, 241.4453125),\n",
       " (234.51171875, 160.80078125, 241.328125),\n",
       " (234.521484375, 160.80078125, 241.337890625),\n",
       " (-5.4541015625, 160.8056640625, 241.357421875),\n",
       " (-5.4541015625, 160.8056640625, 241.357421875),\n",
       " (315.95458984375, 51.805419921875, 284.072265625),\n",
       " (315.95458984375, 51.805419921875, 284.072265625)]"
      ]
     },
     "execution_count": 140,
     "metadata": {},
     "output_type": "execute_result"
    }
   ],
   "source": [
    "fit_ori"
   ]
  },
  {
   "cell_type": "code",
   "execution_count": 167,
   "metadata": {},
   "outputs": [],
   "source": [
    "spot_qs = pixel_df[['qx', 'qy', 'qz']].values\n",
    "dist = euclidean_distances(spot_qs, euler_rotation(all_qs, *fit_ori[-12]))"
   ]
  },
  {
   "cell_type": "code",
   "execution_count": 168,
   "metadata": {},
   "outputs": [],
   "source": [
    "fit_hkls = []\n",
    "\n",
    "for spot in range(len(dist)):\n",
    "    fit_hkls.append(all_hkls[np.argmin(dist[spot])])\n",
    "fit_hkls = np.asarray(fit_hkls)"
   ]
  },
  {
   "cell_type": "code",
   "execution_count": 169,
   "metadata": {},
   "outputs": [
    {
     "data": {
      "text/plain": [
       "array([[-10,   0,  -4],\n",
       "       [ -9,  -1,  -3],\n",
       "       [ -9,   0,  -3],\n",
       "       [ -9,   1,  -3],\n",
       "       [ -8,   1,  -2],\n",
       "       [ -7,  -1,  -2],\n",
       "       [ -7,   0,  -2],\n",
       "       [ -7,   1,  -2],\n",
       "       [ -6,   0,  -1],\n",
       "       [ -5,   1,  -1],\n",
       "       [ -4,  -1,  -1],\n",
       "       [ -4,   1,  -1]])"
      ]
     },
     "execution_count": 169,
     "metadata": {},
     "output_type": "execute_result"
    }
   ],
   "source": [
    "np.unique(fit_hkls, axis=0)"
   ]
  },
  {
   "cell_type": "code",
   "execution_count": 170,
   "metadata": {},
   "outputs": [
    {
     "data": {
      "text/plain": [
       "False"
      ]
     },
     "execution_count": 170,
     "metadata": {},
     "output_type": "execute_result"
    }
   ],
   "source": [
    "are_coplanar(np.unique(fit_hkls, axis=0))"
   ]
  },
  {
   "cell_type": "code",
   "execution_count": 173,
   "metadata": {},
   "outputs": [],
   "source": [
    "from scipy import linalg\n",
    "\n",
    "x, res, rnk, s = linalg.lstsq(fit_hkls, spot_qs)"
   ]
  },
  {
   "cell_type": "code",
   "execution_count": 174,
   "metadata": {},
   "outputs": [],
   "source": [
    "fig, ax = plt.subplots(1, 1, figsize=(5, 5), dpi=200, subplot_kw={'projection':'3d'})\n",
    "\n",
    "\n",
    "ax.quiver([0, 0, 0], [0, 0, 0], [0, 0, 0], *x.T)\n",
    "\n",
    "plt.show()"
   ]
  },
  {
   "cell_type": "code",
   "execution_count": 175,
   "metadata": {},
   "outputs": [],
   "source": [
    "b1, b2, b3 = x\n",
    "b1_mag = linalg.norm(b1)\n",
    "b2_mag = linalg.norm(b2)\n",
    "b3_mag = linalg.norm(b3)\n",
    "beta1 = np.arccos(np.dot(b3, b2) / (linalg.norm(b3) * linalg.norm(b2)))\n",
    "beta2 = np.arccos(np.dot(b1, b3) / (linalg.norm(b1) * linalg.norm(b3)))\n",
    "beta3 = np.arccos(np.dot(b1, b2) / (linalg.norm(b1) * linalg.norm(b2)))"
   ]
  },
  {
   "cell_type": "code",
   "execution_count": 176,
   "metadata": {},
   "outputs": [],
   "source": [
    "a1 = (2 * np.pi * np.cross(b2, b3)) / (b1 @ (np.cross(b2, b3)))\n",
    "a2 = (2 * np.pi * np.cross(b3, b1)) / (b1 @ (np.cross(b2, b3)))\n",
    "a3 = (2 * np.pi * np.cross(b1, b2)) / (b1 @ (np.cross(b2, b3)))\n",
    "a1_mag = linalg.norm(a1)\n",
    "a2_mag = linalg.norm(a2)\n",
    "a3_mag = linalg.norm(a3)\n",
    "alpha1 = np.arccos(np.dot(a3, a2) / (linalg.norm(a3) * linalg.norm(a2)))\n",
    "alpha2 = np.arccos(np.dot(a1, a3) / (linalg.norm(a1) * linalg.norm(a3)))\n",
    "alpha3 = np.arccos(np.dot(a1, a2) / (linalg.norm(a1) * linalg.norm(a2)))"
   ]
  },
  {
   "cell_type": "code",
   "execution_count": 177,
   "metadata": {},
   "outputs": [
    {
     "name": "stdout",
     "output_type": "stream",
     "text": [
      "11.682404085497277\n",
      "5.287620223096001\n",
      "15.36757242451438\n"
     ]
    }
   ],
   "source": [
    "print(linalg.norm(a1))\n",
    "print(linalg.norm(a2))\n",
    "print(linalg.norm(a3))"
   ]
  },
  {
   "cell_type": "code",
   "execution_count": 468,
   "metadata": {},
   "outputs": [],
   "source": [
    "stibnite = test.phases['Stibnite']\n",
    "I = np.asarray([[1, 0, 0], [0, 1, 0], [0, 0, 1]])\n",
    "A_meas = np.asarray([[a1_mag, a2_mag * np.cos(alpha3), a3_mag * np.cos(alpha2)],\n",
    "                     [0, a2_mag * np.sin(alpha3), -a3_mag * np.sin(alpha2) * np.cos(beta1)],\n",
    "                     [0, 0, 1 / b3_mag]])\n",
    "a1_ref = stibnite.a\n",
    "a2_ref = stibnite.b\n",
    "a3_ref = stibnite.c\n",
    "alpha1_ref = stibnite.alpha\n",
    "alpha2_ref = stibnite.beta\n",
    "alpha3_ref = stibnite.gamma\n",
    "beta1_ref = np.arccos(np.dot(stibnite.B[2], stibnite.B[1]) / (linalg.norm(stibnite.B[2]) * linalg.norm(stibnite.B[1])))\n",
    "b3_ref = linalg.norm(stibnite.B[2])\n",
    "\n",
    "\n",
    "A_ref = np.asarray([[a1_ref, a2_ref * np.cos(alpha3_ref), a3_ref * np.cos(alpha2_ref)],\n",
    "                    [0, a2_ref * np.sin(alpha3_ref), -a3_ref * np.sin(alpha2_ref) * np.cos(beta1_ref)],\n",
    "                    [0, 0, 1 / b3_ref]])"
   ]
  },
  {
   "cell_type": "code",
   "execution_count": 469,
   "metadata": {},
   "outputs": [
    {
     "data": {
      "text/plain": [
       "array([[11.0035646 ,  0.0585458 , -0.03931784],\n",
       "       [ 0.        ,  3.79980785,  0.1230244 ],\n",
       "       [ 0.        ,  0.        ,  1.79850057]])"
      ]
     },
     "execution_count": 469,
     "metadata": {},
     "output_type": "execute_result"
    }
   ],
   "source": [
    "A_meas"
   ]
  },
  {
   "cell_type": "code",
   "execution_count": 470,
   "metadata": {},
   "outputs": [
    {
     "data": {
      "text/plain": [
       "array([[11.314     , -1.71925847, -5.033659  ],\n",
       "       [ 0.        ,  3.4302652 , -0.        ],\n",
       "       [ 0.        ,  0.        ,  1.78794663]])"
      ]
     },
     "execution_count": 470,
     "metadata": {},
     "output_type": "execute_result"
    }
   ],
   "source": [
    "A_ref"
   ]
  },
  {
   "cell_type": "code",
   "execution_count": 471,
   "metadata": {},
   "outputs": [],
   "source": [
    "delta = (0) * I\n",
    "T = (A_meas + delta) @ linalg.inv(A_ref)"
   ]
  },
  {
   "cell_type": "code",
   "execution_count": 472,
   "metadata": {},
   "outputs": [
    {
     "data": {
      "text/plain": [
       "array([[0.97256183, 0.50451813, 2.71609158],\n",
       "       [0.        , 1.10773005, 0.06880765],\n",
       "       [0.        , 0.        , 1.00590283]])"
      ]
     },
     "execution_count": 472,
     "metadata": {},
     "output_type": "execute_result"
    }
   ],
   "source": [
    "T"
   ]
  },
  {
   "cell_type": "code",
   "execution_count": 473,
   "metadata": {},
   "outputs": [
    {
     "data": {
      "text/plain": [
       "array([[ 0., -0., -0.],\n",
       "       [ 0., -0.,  0.],\n",
       "       [ 0.,  0.,  0.]])"
      ]
     },
     "execution_count": 473,
     "metadata": {},
     "output_type": "execute_result"
    }
   ],
   "source": [
    "(A_meas + delta) - (T @ A_ref)"
   ]
  },
  {
   "cell_type": "code",
   "execution_count": null,
   "metadata": {},
   "outputs": [],
   "source": []
  },
  {
   "cell_type": "code",
   "execution_count": 474,
   "metadata": {},
   "outputs": [],
   "source": [
    "ep = 0.5 * (T.T + T) - I\n",
    "w = 0.5 * (T.T - T) - I"
   ]
  },
  {
   "cell_type": "code",
   "execution_count": 495,
   "metadata": {},
   "outputs": [
    {
     "name": "stdout",
     "output_type": "stream",
     "text": [
      "[[-0.02746914  0.00756478 -0.00174114]\n",
      " [ 0.00756478 -0.00961917  0.00541227]\n",
      " [-0.00174114  0.00541227  0.00595246]]\n",
      "[[-0.00528622  0.66911742  0.74313789]\n",
      " [-0.52615367 -0.63382323  0.56694835]\n",
      " [ 0.85037308 -0.38800772  0.35540912]]\n"
     ]
    }
   ],
   "source": [
    "A = np.asarray([a1 / linalg.norm(a1_ref), a2 / linalg.norm(a2_ref), a3 / linalg.norm(a3_ref)])\n",
    "#A = np.asarray([a1, a2, a3])\n",
    "p, u = linalg.polar(A, side='left')\n",
    "print(u - I)\n",
    "print(p)"
   ]
  },
  {
   "cell_type": "code",
   "execution_count": 502,
   "metadata": {},
   "outputs": [
    {
     "name": "stdout",
     "output_type": "stream",
     "text": [
      "[[-0.90911509 -1.00104312 -0.99984067]\n",
      " [-1.00104312 -0.73681626 -1.00072048]\n",
      " [-0.99984067 -1.00072048 -0.91150995]]\n",
      "[[-0.00730817  0.66669301  0.7452966 ]\n",
      " [-0.52838637 -0.63534477  0.56315617]\n",
      " [ 0.84897258 -0.38968893  0.3569147 ]]\n"
     ]
    }
   ],
   "source": [
    "A = np.asarray([a1 / linalg.norm(a1_ref), a2 / linalg.norm(a2_ref), a3 / linalg.norm(a3_ref)])\n",
    "#A = np.asarray([a1, a2, a3])\n",
    "p, u = linalg.polar(x / 2 / np.pi, side='left')\n",
    "print(u - 1)\n",
    "print(p)"
   ]
  },
  {
   "cell_type": "code",
   "execution_count": 481,
   "metadata": {},
   "outputs": [
    {
     "data": {
      "text/plain": [
       "array([[-0.00647293,  0.66357075,  0.74808553],\n",
       "       [-0.52116317, -0.64070588,  0.56381284],\n",
       "       [ 0.85343251, -0.38622511,  0.34997588]])"
      ]
     },
     "execution_count": 481,
     "metadata": {},
     "output_type": "execute_result"
    }
   ],
   "source": [
    "I = np.asarray([[1, 0, 0], [0, 1, 0], [0, 0, 1]])\n",
    "euler_rotation(I, *fit_ori[-1])"
   ]
  },
  {
   "cell_type": "code",
   "execution_count": null,
   "metadata": {},
   "outputs": [],
   "source": []
  },
  {
   "cell_type": "code",
   "execution_count": null,
   "metadata": {},
   "outputs": [],
   "source": []
  },
  {
   "cell_type": "code",
   "execution_count": 186,
   "metadata": {},
   "outputs": [
    {
     "name": "stderr",
     "output_type": "stream",
     "text": [
      "100%|██████████| 1296/1296 [10:14<00:00,  2.11it/s]\n"
     ]
    }
   ],
   "source": [
    "spot_qs = pixel_df[['qx', 'qy', 'qz']].values\n",
    "all_hkls, all_qs, all_fs = generate_reciprocal_lattice(test.phases['Stibnite'], tth_range=(np.min(test.tth_arr), np.max(test.tth_arr)))\n",
    "\n",
    "dist = euclidean_distances(all_qs)\n",
    "min_q = np.min(dist[dist > 0])\n",
    "\n",
    "euler_map = np.empty((*test.map.map_shape, 3))\n",
    "fit_map = np.empty(test.map.map_shape)\n",
    "\n",
    "for index in tqdm(range(test.map.num_images)):\n",
    "    indices = np.unravel_index(index, test.map.map_shape)\n",
    "    phi1, PHI, phi2 = np.nan, np.nan, np.nan\n",
    "\n",
    "    pixel_df = test.spots[(test.spots['map_x'] == indices[0])\n",
    "                        & (test.spots['map_y'] == indices[1])].copy()\n",
    "    pixel_df.dropna(inplace=True)\n",
    "\n",
    "    # Conditional to avoid too few spots for theoretical indexing\n",
    "    if len(pixel_df) < 3:\n",
    "        euler_map[indices] = phi1, PHI, phi2\n",
    "        continue\n",
    "    \n",
    "    # Conditional to avoid single spot from one grain\n",
    "    dist = euclidean_distances(pixel_df[['qx', 'qy', 'qz']].values)\n",
    "    if np.max(dist) < min_q:\n",
    "        euler_map[indices] = phi1, PHI, phi2\n",
    "        continue\n",
    "    \n",
    "    fit_ori, fit_min = iterative_dictionary_indexing(pixel_df, test.phases['Stibnite'], [np.min(test.tth_arr), np.max(test.tth_arr)],\n",
    "                                                 cut_off=0.05,\n",
    "                                                 start_angle=20,\n",
    "                                                 angle_resolution=0.01, \n",
    "                                                 euler_bounds=[[0, 180], [0, 90], [0, 180]])\n",
    "    \n",
    "    euler_map[indices] = fit_ori[-1]\n",
    "    fit_map[indices] = fit_min[-1]"
   ]
  },
  {
   "cell_type": "code",
   "execution_count": 187,
   "metadata": {},
   "outputs": [],
   "source": [
    "g = g_func(*euler_map.reshape(test.map.num_images, 3).T)"
   ]
  },
  {
   "cell_type": "code",
   "execution_count": 188,
   "metadata": {},
   "outputs": [],
   "source": [
    "ipole = [0, 1, 0]\n",
    "\n",
    "colors, r, theta = [], [], []\n",
    "for i in range(len(g)):\n",
    "    \n",
    "    # Take only part of the orientation matrix\n",
    "    V = np.dot(g[i], ipole) # order is g, then ipole\n",
    "\n",
    "    # Determine pixel color according to unit triangle\n",
    "    R, G, B = 0, 0, 0\n",
    "    base = 30 / 255 #all pixels are a bit brighter\n",
    "    R=np.abs(V[2]) + base # referenced to crystallographic axes, but should be able to reference any axis\n",
    "    G=np.abs(V[0]) + base\n",
    "    B=np.abs(V[1]) + base\n",
    "\n",
    "    # Normalize and brighten colors\n",
    "    max_c = np.max([R,G,B])\n",
    "    R = R / max_c\n",
    "    G = G / max_c\n",
    "    B = B / max_c\n",
    "    \n",
    "    # Setting pixel transparency if called\n",
    "    A=1\n",
    "    colors.append([R, G, B, A])\n",
    "\n",
    "colors = np.asarray(colors)\n",
    "colors = colors.reshape((*test.map.map_shape, 4))"
   ]
  },
  {
   "cell_type": "code",
   "execution_count": 189,
   "metadata": {},
   "outputs": [],
   "source": [
    "fig, ax = plt.subplots(1, 1, figsize=(3, 3), dpi=200)\n",
    "\n",
    "ax.imshow(colors)\n",
    "ax.set_title(str(ipole))\n",
    "\n",
    "plt.show()"
   ]
  },
  {
   "cell_type": "code",
   "execution_count": 193,
   "metadata": {},
   "outputs": [],
   "source": [
    "norm_fit_map = fit_map.copy()\n",
    "\n",
    "for index in range(test.map.num_images):\n",
    "    indices = np.unravel_index(index, test.map.map_shape)\n",
    "    \n",
    "    pixel_df = test.spots[(test.spots['map_x'] == indices[0])\n",
    "                        & (test.spots['map_y'] == indices[1])].copy()\n",
    "    pixel_df.dropna(inplace=True)\n",
    "\n",
    "    # Conditional to avoid too few spots for theoretical indexing\n",
    "    if len(pixel_df) < 3:\n",
    "        euler_map[indices] = phi1, PHI, phi2\n",
    "        continue\n",
    "    \n",
    "    # Conditional to avoid single spot from one grain\n",
    "    dist = euclidean_distances(pixel_df[['qx', 'qy', 'qz']].values)\n",
    "    if np.max(dist) < min_q:\n",
    "        euler_map[indices] = phi1, PHI, phi2\n",
    "        continue\n",
    "\n",
    "    norm_fit_map[indices] /= len(pixel_df)\n",
    "\n",
    "fig, ax = plt.subplots(1, 1, figsize=(3, 3), dpi=200)\n",
    "\n",
    "im = ax.imshow(norm_fit_map)\n",
    "fig.colorbar(im, ax=ax)\n",
    "\n",
    "plt.show()"
   ]
  },
  {
   "cell_type": "code",
   "execution_count": 216,
   "metadata": {},
   "outputs": [],
   "source": [
    "fig, ax = plt.subplots(1, 1, figsize=(3, 3), dpi=200)\n",
    "\n",
    "trans_colors = colors.copy()\n",
    "trans_colors[:, :, -1] = -rescale_array(norm_fit_map, lower=-1, upper=0)\n",
    "mask = trans_colors[:, :, -1] == colors[:, :, -1]\n",
    "trans_colors[mask, -1] = 0\n",
    "\n",
    "ax.imshow(trans_colors)\n",
    "ax.set_title(str(ipole))\n",
    "ax.set_facecolor('black')\n",
    "\n",
    "plt.show()"
   ]
  },
  {
   "cell_type": "code",
   "execution_count": 178,
   "metadata": {},
   "outputs": [],
   "source": [
    "test.plot_interactive_map(display_map=colors, img_vmin=0, img_vmax=1)"
   ]
  },
  {
   "cell_type": "code",
   "execution_count": 183,
   "metadata": {},
   "outputs": [],
   "source": [
    "skip = 500\n",
    "pixel_indices = [15, 21]\n",
    "\n",
    "fig, ax = plt.subplots(1, 1, figsize=(5, 5), dpi=200, subplot_kw={'projection':'3d'})\n",
    "\n",
    "plot_qs = euler_rotation(all_qs, *euler_map[*pixel_indices])\n",
    "\n",
    "ax.scatter(*np.asarray(plot_qs).T, c='k', s=all_fs / 50, alpha=0.75)\n",
    "ax.scatter(0, 0, 0, c='k', s=10)\n",
    "\n",
    "# Plot full Ewald sphere\n",
    "u = np.linspace(0, 2 * np.pi, 100)\n",
    "v = np.linspace(0, np.pi, 100)\n",
    "radius = 2 * np.pi / test.wavelength\n",
    "x =  radius * np.outer(np.cos(u), np.sin(v))\n",
    "y = radius * np.outer(np.sin(u), np.sin(v))\n",
    "z = radius * np.outer(np.ones(np.size(u)), np.cos(v))\n",
    "#ax.plot_surface(x, y, z - radius, alpha=0.2, color='k', label='Ewald sphere')\n",
    "\n",
    "q = get_q_vect(test.tth_arr, test.chi_arr, wavelength=test.wavelength)\n",
    "\n",
    "if pixel_indices is not None:\n",
    "    pixel_df = test.spots[(test.spots['map_x'] == pixel_indices[0])\n",
    "                            & (test.spots['map_y'] == pixel_indices[1])].copy()\n",
    "\n",
    "\n",
    "if pixel_indices is not None:\n",
    "    ax.scatter(*pixel_df[['qx', 'qy', 'qz']].values.T, s=1, c='r', label='spots')\n",
    "\n",
    "# Sample geometry\n",
    "ax.quiver([0, 0], [0, 0], [-2 * radius, -radius], [0, 0], [0, 0], [radius, radius], colors='k')\n",
    "ax.scatter(0, 0, 0, marker='o', s=10, facecolors='none', edgecolors='k', label='transmission')\n",
    "ax.scatter(0, 0, -radius, marker='h', s=10, c='b', label='sample')\n",
    "\n",
    "# Plot sampled Ewald sphere\n",
    "q_mask = q[:, test.map.mask]\n",
    "ax.plot_trisurf(q_mask[0].ravel()[::skip],\n",
    "                q_mask[1].ravel()[::skip],\n",
    "                q_mask[2].ravel()[::skip],\n",
    "                alpha=0.5, label='detector')\n",
    "\n",
    "ax.set_xlabel('qx [Å⁻¹]')\n",
    "ax.set_ylabel('qy [Å⁻¹]')\n",
    "ax.set_zlabel('qz [Å⁻¹]')\n",
    "ax.set_aspect('equal')\n",
    "\n",
    "plt.show()"
   ]
  },
  {
   "cell_type": "code",
   "execution_count": 165,
   "metadata": {},
   "outputs": [],
   "source": [
    "from scipy.spatial.transform import Rotation"
   ]
  },
  {
   "cell_type": "code",
   "execution_count": 206,
   "metadata": {},
   "outputs": [
    {
     "data": {
      "text/plain": [
       "array([ 0., -1.,  0.])"
      ]
     },
     "execution_count": 206,
     "metadata": {},
     "output_type": "execute_result"
    }
   ],
   "source": [
    "Rotation.from_quat([1, 0, 0, 1]).apply([0, 0, 1])"
   ]
  },
  {
   "cell_type": "code",
   "execution_count": 9,
   "metadata": {},
   "outputs": [],
   "source": [
    "pixel_indices = [26, 21]\n",
    "skip = 500\n",
    "\n",
    "#fig, ax = plt.subplots(1, 1, figsize=(5, 10), dpi=200, subplot_kw={'projection':'3d'})\n",
    "fig = plt.figure(figsize=(10, 5), dpi=200)\n",
    "ax = fig.add_axes([0, 0, 0.5, 1], projection='3d')\n",
    "#ax = fig.add_subplot(projection='3d')\n",
    "\n",
    "quat = [0, 0, 0, 1]\n",
    "\n",
    "plot_qs = Rotation.from_quat(quat).apply(all_qs)\n",
    "recip_latt = ax.scatter(*np.asarray(plot_qs).T, c='k', s=all_fs / 50, alpha=0.75)\n",
    "ax.scatter(0, 0, 0, c='k', s=10)\n",
    "\n",
    "# Plot full Ewald sphere\n",
    "u = np.linspace(0, 2 * np.pi, 100)\n",
    "v = np.linspace(0, np.pi, 100)\n",
    "radius = 2 * np.pi / test.wavelength\n",
    "x =  radius * np.outer(np.cos(u), np.sin(v))\n",
    "y = radius * np.outer(np.sin(u), np.sin(v))\n",
    "z = radius * np.outer(np.ones(np.size(u)), np.cos(v))\n",
    "#ax.plot_surface(x, y, z - radius, alpha=0.2, color='k', label='Ewald sphere')\n",
    "\n",
    "q = get_q_vect(test.tth_arr, test.chi_arr, wavelength=test.wavelength)\n",
    "\n",
    "if pixel_indices is not None:\n",
    "    pixel_df = test.spots[(test.spots['map_x'] == pixel_indices[0])\n",
    "                            & (test.spots['map_y'] == pixel_indices[1])].copy()\n",
    "\n",
    "\n",
    "if pixel_indices is not None:\n",
    "    ax.scatter(*pixel_df[['qx', 'qy', 'qz']].values.T, s=1, c='r', label='spots')\n",
    "\n",
    "# Sample geometry\n",
    "ax.quiver([0, 0], [0, 0], [-2 * radius, -radius], [0, 0], [0, 0], [radius, radius], colors='k')\n",
    "ax.scatter(0, 0, 0, marker='o', s=10, facecolors='none', edgecolors='k', label='transmission')\n",
    "ax.scatter(0, 0, -radius, marker='h', s=10, c='b', label='sample')\n",
    "\n",
    "# Plot sampled Ewald sphere\n",
    "q_mask = q[:, test.map.mask]\n",
    "ax.plot_trisurf(q_mask[0].ravel()[::skip],\n",
    "                q_mask[1].ravel()[::skip],\n",
    "                q_mask[2].ravel()[::skip],\n",
    "                alpha=0.5, label='detector')\n",
    "\n",
    "\n",
    "quats = {\n",
    "    'qx' : quat[0],\n",
    "    'qy' : quat[1], \n",
    "    'qz' : quat[2],\n",
    "    'qr' : quat[3]\n",
    "}\n",
    "\n",
    "quat_bounds = [[-1, 1], [-1, 1], [-1, 1], [-1, 1]]\n",
    "slider_lst = []\n",
    "update_lst = []\n",
    "\n",
    "slider_vpos = np.linspace(0.8, 0.1, len(quats.keys()))\n",
    "\n",
    "for i, key in enumerate(quats.keys()):\n",
    "    slider_ax = fig.add_axes\n",
    "\n",
    "    # Make a horizontal slider to control the frequency.\n",
    "    axfreq = fig.add_axes([0.7, slider_vpos[i], 0.2, 0.03])\n",
    "    quat_slider = Slider(\n",
    "        ax=axfreq,\n",
    "        label=f'{key} [deg]',\n",
    "        valmin=quat_bounds[i][0],\n",
    "        valmax=quat_bounds[i][1],\n",
    "        valinit=quats[key],\n",
    "    )\n",
    "\n",
    "    slider_lst.append(quat_slider)\n",
    "\n",
    "    # The function to be called anytime a slider's value changes\n",
    "    def update_factory(key):\n",
    "        def update(val):\n",
    "            global recip_latt\n",
    "            quats[key] = val\n",
    "            #plot_qs = euler_rotation(all_qs, *euler.values())\n",
    "            plot_qs = Rotation.from_quat(list(quats.values())).apply(all_qs)\n",
    "            recip_latt.remove()\n",
    "            recip_latt = ax.scatter(*np.asarray(plot_qs).T, c='k', s=all_fs / 50, alpha=0.75)\n",
    "            fig.canvas.draw_idle()\n",
    "        return update\n",
    "\n",
    "    update_lst.append(update_factory(key))\n",
    "    slider_lst[i].on_changed(update_lst[i])\n",
    "\n",
    "ax.set_xlabel('qx [Å⁻¹]')\n",
    "ax.set_ylabel('qy [Å⁻¹]')\n",
    "ax.set_zlabel('qz [Å⁻¹]')\n",
    "ax.set_aspect('equal')\n",
    "\n",
    "plt.show()"
   ]
  },
  {
   "cell_type": "code",
   "execution_count": 212,
   "metadata": {},
   "outputs": [
    {
     "data": {
      "text/plain": [
       "[0.1130952380952408, 0, 0, 1]"
      ]
     },
     "execution_count": 212,
     "metadata": {},
     "output_type": "execute_result"
    }
   ],
   "source": [
    "list(quats.values())"
   ]
  },
  {
   "cell_type": "code",
   "execution_count": 308,
   "metadata": {},
   "outputs": [],
   "source": [
    "fig, ax = plt.subplots(1,1, figsize=(5, 5), dpi=200, subplot_kw={'projection': '3d'})\n",
    "\n",
    "num = 10\n",
    "\n",
    "x = np.linspace(0, 1, num + 1)\n",
    "y = np.linspace(0, 1, num + 1)\n",
    "z = np.linspace(0, 1, num + 1)\n",
    "w = np.linspace(0, 1, num//2 + 1)\n",
    "xx, yy, zz, ww = np.meshgrid(x, y, z, w)\n",
    "\n",
    "quats = np.array([xx.ravel(), yy.ravel(), zz.ravel(), ww.ravel()])\n",
    "#quats /= np.linalg.norm(quats, axis=0)\n",
    "quats = quats[:, ~(np.sum(np.abs(quats), axis=0) == 0)]\n",
    "quats = quats[:, ~(np.sum(np.abs(quats), axis=0) == 0)]\n",
    "#quats = quats[quats != np.array([0, 0, 0, 0])]\n",
    "plot_qs = Rotation.from_quat(quats.T).apply([0, 0, -1])\n",
    "\n",
    "ax.scatter(*plot_qs.T, s=5, c='k')\n",
    "\n",
    "ax.set_xlabel('qx [Å⁻¹]')\n",
    "ax.set_ylabel('qy [Å⁻¹]')\n",
    "ax.set_zlabel('qz [Å⁻¹]')\n",
    "ax.set_aspect('equal')\n",
    "\n",
    "plt.show()"
   ]
  },
  {
   "cell_type": "code",
   "execution_count": 318,
   "metadata": {},
   "outputs": [],
   "source": [
    "fig, ax = plt.subplots(1,1, figsize=(5, 5), dpi=200, subplot_kw={'projection': '3d'})\n",
    "\n",
    "step = 15\n",
    "\n",
    "phi1_list = np.arange(*euler_bounds[0], step)\n",
    "PHI_list = np.arange(*euler_bounds[1], step)\n",
    "phi2_list = np.arange(*euler_bounds[2], step)\n",
    "orientations = list(product(phi1_list, PHI_list, phi2_list))\n",
    "\n",
    "plot_qs = []\n",
    "for orientation in orientations: \n",
    "    plot_qs.append(euler_rotation([0, 0, 1], *orientation))\n",
    "plot_qs = np.asarray(plot_qs)\n",
    "\n",
    "ax.scatter(*plot_qs.T, s=5, c='k')\n",
    "\n",
    "ax.set_xlabel('qx [Å⁻¹]')\n",
    "ax.set_ylabel('qy [Å⁻¹]')\n",
    "ax.set_zlabel('qz [Å⁻¹]')\n",
    "ax.set_aspect('equal')\n",
    "\n",
    "plt.show()"
   ]
  },
  {
   "cell_type": "code",
   "execution_count": 320,
   "metadata": {},
   "outputs": [],
   "source": [
    "new_orientations = []\n",
    "\n",
    "step = 5\n",
    "phi1, PHI, phi2 = 0, 0, 0\n",
    "new_phi1 = [phi1 - step, phi1, phi1 + step]\n",
    "new_PHI = [PHI - step, PHI, PHI + step]\n",
    "new_phi2 = [phi2 - step, phi2, phi2 + step]\n",
    "\n",
    "new_orientations = product(new_phi1, new_PHI, new_phi2)\n",
    "\n",
    "#for sub_orientation in sub_orientations:\n",
    "#    if sub_orientation not in new_orientations:\n",
    "#        new_orientations.append(sub_orientation)\n",
    "#\n",
    "#orientations = new_orientations"
   ]
  },
  {
   "cell_type": "code",
   "execution_count": 321,
   "metadata": {},
   "outputs": [],
   "source": [
    "fig, ax = plt.subplots(1,1, figsize=(5, 5), dpi=200, subplot_kw={'projection': '3d'})\n",
    "\n",
    "plot_qs = []\n",
    "for orientation in orientations: \n",
    "    plot_qs.append(euler_rotation([0, 0, 1], *orientation))\n",
    "plot_qs = np.asarray(plot_qs)\n",
    "\n",
    "ax.scatter(*plot_qs.T, s=5, c='k')\n",
    "\n",
    "plot_qs = []\n",
    "for orientation in new_orientations: \n",
    "    plot_qs.append(euler_rotation([0, 0, 1], *orientation))\n",
    "plot_qs = np.asarray(plot_qs)\n",
    "\n",
    "ax.scatter(*plot_qs.T, s=5, c='r')\n",
    "\n",
    "ax.set_xlabel('qx [Å⁻¹]')\n",
    "ax.set_ylabel('qy [Å⁻¹]')\n",
    "ax.set_zlabel('qz [Å⁻¹]')\n",
    "ax.set_aspect('equal')\n",
    "\n",
    "plt.show()"
   ]
  },
  {
   "cell_type": "code",
   "execution_count": null,
   "metadata": {},
   "outputs": [],
   "source": []
  },
  {
   "cell_type": "code",
   "execution_count": null,
   "metadata": {},
   "outputs": [],
   "source": []
  },
  {
   "cell_type": "code",
   "execution_count": null,
   "metadata": {},
   "outputs": [],
   "source": []
  },
  {
   "cell_type": "code",
   "execution_count": null,
   "metadata": {},
   "outputs": [],
   "source": []
  },
  {
   "cell_type": "code",
   "execution_count": null,
   "metadata": {},
   "outputs": [],
   "source": []
  },
  {
   "cell_type": "code",
   "execution_count": null,
   "metadata": {},
   "outputs": [],
   "source": []
  },
  {
   "cell_type": "code",
   "execution_count": null,
   "metadata": {},
   "outputs": [],
   "source": []
  },
  {
   "cell_type": "code",
   "execution_count": null,
   "metadata": {},
   "outputs": [],
   "source": []
  },
  {
   "cell_type": "code",
   "execution_count": null,
   "metadata": {},
   "outputs": [],
   "source": []
  },
  {
   "cell_type": "code",
   "execution_count": null,
   "metadata": {},
   "outputs": [],
   "source": []
  },
  {
   "cell_type": "code",
   "execution_count": null,
   "metadata": {},
   "outputs": [],
   "source": []
  },
  {
   "cell_type": "code",
   "execution_count": null,
   "metadata": {},
   "outputs": [],
   "source": []
  },
  {
   "cell_type": "code",
   "execution_count": 269,
   "metadata": {},
   "outputs": [
    {
     "data": {
      "text/plain": [
       "array([0., 0., 0., 0.])"
      ]
     },
     "execution_count": 269,
     "metadata": {},
     "output_type": "execute_result"
    }
   ],
   "source": [
    "quats[:, 7315]"
   ]
  },
  {
   "cell_type": "code",
   "execution_count": 103,
   "metadata": {},
   "outputs": [
    {
     "data": {
      "text/plain": [
       "44.01283779677743"
      ]
     },
     "execution_count": 103,
     "metadata": {},
     "output_type": "execute_result"
    }
   ],
   "source": [
    "d_2_tth(2.068, wavelength=(energy_2_wavelength(8)))"
   ]
  },
  {
   "cell_type": "code",
   "execution_count": 99,
   "metadata": {},
   "outputs": [],
   "source": [
    "fig, ax = plt.subplots(1, 1, figsize=(5, 5), dpi=200)\n",
    "\n",
    "ax.scatter(test.spots['fit_amp'], test.spots['fit_r_squared'], s=1, c='k', alpha=0.5)\n",
    "\n",
    "plt.show()"
   ]
  },
  {
   "cell_type": "code",
   "execution_count": 69,
   "metadata": {},
   "outputs": [],
   "source": [
    "fig, ax = plt.subplots(1, 1, figsize=(5, 5), dpi=200)\n",
    "\n",
    "ax.scatter(test.spots['guess_fwhm_chi'], test.spots['fit_fwhm_chi'], s=1, c='k', alpha=0.5)\n",
    "\n",
    "plt.show()"
   ]
  },
  {
   "cell_type": "code",
   "execution_count": 67,
   "metadata": {},
   "outputs": [
    {
     "data": {
      "text/plain": [
       "14.999999999999998"
      ]
     },
     "execution_count": 67,
     "metadata": {},
     "output_type": "execute_result"
    }
   ],
   "source": [
    "np.max(test.spots['fit_fwhm_tth'])"
   ]
  },
  {
   "cell_type": "code",
   "execution_count": 214,
   "metadata": {},
   "outputs": [],
   "source": [
    "fig, ax = plt.subplots(1, 1, figsize=(5, 5), dpi=200)\n",
    "\n",
    "image = test.map.composite_image\n",
    "\n",
    "#tth = test.tth\n",
    "intensity = np.sum(test.map.composite_image, axis=0)\n",
    "#pixels = np.sum(test.map.calibration_mask, axis=0)\n",
    "\n",
    "x, bins, _ = ax.hist(test.spots['guess_cen_tth'].values, bins=2000, weights=test.spots['guess_height'].values, label='spot center', density=True)\n",
    "#ax.plot(tth, rescale_array(intensity / pixels, lower=np.min(x), upper=np.max(x)), label='integrated intensity')\n",
    "ax.legend()\n",
    "\n",
    "plt.show()"
   ]
  },
  {
   "cell_type": "code",
   "execution_count": null,
   "metadata": {},
   "outputs": [],
   "source": [
    "fig, ax = plt.subplots(1, 1, figsize=(10, 10), dpi=200)\n",
    "\n",
    "image = test.map.composite_image\n",
    "\n",
    "#tth = test.tth\n",
    "#intensity = np.sum(test.map.composite_image, axis=0)\n",
    "#pixels = np.sum(test.map.calibration_mask, axis=0)\n",
    "\n",
    "x, bins, _ = ax.hist(test.spots['fit_tth0'].values, bins=2500, label='spot center', density=True)\n",
    "#ax.plot(tth, rescale_array(intensity / pixels, lower=np.min(x), upper=np.max(x)), label='integrated intensity')\n",
    "ax.legend()\n",
    "\n",
    "plt.show()"
   ]
  },
  {
   "cell_type": "code",
   "execution_count": 218,
   "metadata": {},
   "outputs": [],
   "source": [
    "fig, ax = plt.subplots(1, 1, figsize=(5, 5), dpi=200)\n",
    "\n",
    "x, bins, _ = ax.hist(test.spots['fit_fwhm_tth'].values, bins=500, label='spot center', density=True)\n",
    "ax.legend()\n",
    "\n",
    "plt.show()"
   ]
  },
  {
   "cell_type": "code",
   "execution_count": 104,
   "metadata": {},
   "outputs": [],
   "source": [
    "test.plot_image(test.ai.position_array()[:, :, 2])"
   ]
  },
  {
   "cell_type": "code",
   "execution_count": 85,
   "metadata": {},
   "outputs": [],
   "source": [
    "x_coords, y_coords = np.meshgrid(test.tth, test.chi[::-1])\n",
    "q = q_vect(x_coords, y_coords, wavelength=test.wavelength)\n",
    "\n",
    "pixel_df = test.spots[(test.spots['map_x'] == 1)\n",
    "                        & (test.spots['map_y'] == 0)].copy()"
   ]
  },
  {
   "cell_type": "code",
   "execution_count": 135,
   "metadata": {},
   "outputs": [],
   "source": [
    "q = q_vect(test.ai.twoThetaArray(), test.ai.chiArray(), wavelength=test.wavelength, radians=True)"
   ]
  },
  {
   "cell_type": "code",
   "execution_count": 55,
   "metadata": {},
   "outputs": [
    {
     "data": {
      "text/plain": [
       "(486, 2304)"
      ]
     },
     "execution_count": 55,
     "metadata": {},
     "output_type": "execute_result"
    }
   ],
   "source": [
    "np.tile(np.array([0, 0, 1]), tth.shape).shape"
   ]
  },
  {
   "cell_type": "code",
   "execution_count": 99,
   "metadata": {},
   "outputs": [],
   "source": [
    "a = np.array([0, 0, 1])\n",
    "b = np.full((486, 768, 3), a)"
   ]
  },
  {
   "cell_type": "code",
   "execution_count": 20,
   "metadata": {},
   "outputs": [
    {
     "data": {
      "text/plain": [
       "(3, 1483)"
      ]
     },
     "execution_count": 20,
     "metadata": {},
     "output_type": "execute_result"
    }
   ],
   "source": [
    "np.asarray([[0, 0, 1],] * len(test.tth)).T.shape"
   ]
  },
  {
   "cell_type": "code",
   "execution_count": 123,
   "metadata": {},
   "outputs": [],
   "source": [
    "# Q-space plotting\n",
    "\n",
    "skip = 500\n",
    "\n",
    "x_coords, y_coords = np.meshgrid(test.tth, test.chi[::-1])\n",
    "q = q_vect(x_coords, y_coords, wavelength=test.wavelength)\n",
    "\n",
    "pixel_df = test.spots[(test.spots['map_x'] == 1)\n",
    "                        & (test.spots['map_y'] == 0)].copy()\n",
    "\n",
    "\n",
    "fig, ax = plt.subplots(1, 1, figsize=(5, 5), dpi=200, subplot_kw={'projection':'3d'})\n",
    "\n",
    "# Plot sampled Ewald sphere\n",
    "#ax.scatter(q[0].ravel()[::skip], q[1].ravel()[::skip], q[2].ravel()[::skip], s=1, c='k', alpha=0.2)\n",
    "q_mask = q[:, test.map.mask]\n",
    "ax.plot_trisurf(q_mask[0].ravel()[::skip],\n",
    "                q_mask[1].ravel()[::skip],\n",
    "                q_mask[2].ravel()[::skip],\n",
    "                alpha=0.5, label='detector')\n",
    "\n",
    "\n",
    "# Plot full Ewald sphere\n",
    "u = np.linspace(0, 2 * np.pi, 100)\n",
    "v = np.linspace(0, np.pi, 100)\n",
    "radius = 2 * np.pi / test.wavelength\n",
    "x =  radius * np.outer(np.cos(u), np.sin(v))\n",
    "y = radius * np.outer(np.sin(u), np.sin(v))\n",
    "z = radius * np.outer(np.ones(np.size(u)), np.cos(v))\n",
    "ax.plot_surface(x, y, z - radius, alpha=0.2, color='k', label='Ewald sphere')\n",
    "\n",
    "ax.scatter(*test.spots.loc[0:1000, ['qx', 'qy', 'qz']].values.T, s=1, c='r', label='spots')\n",
    "#ax.scatter(*pixel_df[['qx', 'qy', 'qz']].values.T, s=1, c='r', label='spots')\n",
    "\n",
    "# Sample geometry\n",
    "ax.quiver([0, 0], [0, 0], [-2 * radius, -radius], [0, 0], [0, 0], [radius, radius], colors='k')\n",
    "ax.scatter(0, 0, 0, marker='o', s=10, facecolors='none', edgecolors='k', label='transmission')\n",
    "ax.scatter(0, 0, -radius, marker='h', s=10, c='b', label='sample')\n",
    "\n",
    "# Detector extent\n",
    "#corner_indices = np.array([[0, 0], [-1, 0], [0, -1], [-1, -1]]).T\n",
    "#q_corn = q[:, *corner_indices]\n",
    "#ax.quiver([0,] * 4,\n",
    "#          [0,] * 4,\n",
    "#          [-radius,] * 4,\n",
    "#          q_corn[0],\n",
    "#          q_corn[1],\n",
    "#          q_corn[2] + radius, colors='gray', lw=0.5)\n",
    "\n",
    "\n",
    "ax.set_xlabel('qx [Å⁻¹]')\n",
    "ax.set_ylabel('qy [Å⁻¹]')\n",
    "ax.set_zlabel('qz [Å⁻¹]')\n",
    "ax.set_aspect('equal')\n",
    "\n",
    "# Initial view\n",
    "ax.view_init(elev=-45, azim=90, roll=0)\n",
    "plt.show()"
   ]
  },
  {
   "cell_type": "code",
   "execution_count": 226,
   "metadata": {},
   "outputs": [],
   "source": [
    "tth_arr = test.ai.twoThetaArray()\n",
    "chi_arr = test.ai.chiArray()\n",
    "\n",
    "polar_correction = test.ai.polarization(factor=0.9)\n",
    "solidangle_correction = test.ai.solidAngleArray()\n",
    "lorentz_correction = 1 / (np.sin(tth_arr / 2) * np.sin(tth_arr))"
   ]
  },
  {
   "cell_type": "code",
   "execution_count": 240,
   "metadata": {},
   "outputs": [],
   "source": [
    "tth_num = 1500\n",
    "chi_num = 1500\n",
    "\n",
    "blank_image = np.ones(test.map.image_shape)\n",
    "\n",
    "pyfai_correction = test.integrate_2d(blank_image, tth_num, chi_num, polarization_factor=0.9, correctSolidAngle=True)[0]\n",
    "\n",
    "corrected_image = blank_image / solidangle_correction / polar_correction\n",
    "\n",
    "self_correction = test.integrate_2d(corrected_image, tth_num, chi_num, polarization_factor=None, correctSolidAngle=False)[0]"
   ]
  },
  {
   "cell_type": "code",
   "execution_count": 234,
   "metadata": {},
   "outputs": [],
   "source": [
    "fig, ax = plt.subplots(1, 1, figsize=(5, 5), dpi=200)\n",
    "\n",
    "im = ax.imshow(self_correction)\n",
    "fig.colorbar(im, ax=ax)\n",
    "\n",
    "plt.show()"
   ]
  },
  {
   "cell_type": "code",
   "execution_count": 239,
   "metadata": {},
   "outputs": [],
   "source": [
    "fig, ax = plt.subplots(1, 1, figsize=(5, 5), dpi=200)\n",
    "residual = pyfai_correction - self_correction\n",
    "ext = np.max(np.abs(residual))\n",
    "\n",
    "im = ax.imshow(residual, cmap='bwr', vmin=-ext, vmax=ext)\n",
    "fig.colorbar(im, ax=ax)\n",
    "\n",
    "plt.show()"
   ]
  },
  {
   "cell_type": "code",
   "execution_count": 235,
   "metadata": {},
   "outputs": [
    {
     "data": {
      "text/plain": [
       "array([[0., 0., 0., ..., 0., 0., 0.],\n",
       "       [0., 0., 0., ..., 0., 0., 0.],\n",
       "       [0., 0., 0., ..., 0., 0., 0.],\n",
       "       ...,\n",
       "       [0., 0., 0., ..., 0., 0., 0.],\n",
       "       [0., 0., 0., ..., 0., 0., 0.],\n",
       "       [0., 0., 0., ..., 0., 0., 0.]], dtype=float32)"
      ]
     },
     "execution_count": 235,
     "metadata": {},
     "output_type": "execute_result"
    }
   ],
   "source": [
    "pyfai_correction - self_correction"
   ]
  },
  {
   "cell_type": "code",
   "execution_count": null,
   "metadata": {},
   "outputs": [],
   "source": []
  },
  {
   "cell_type": "code",
   "execution_count": 111,
   "metadata": {},
   "outputs": [],
   "source": [
    "# Real-space plotting\n",
    "\n",
    "skip = 300\n",
    "\n",
    "fig, ax = plt.subplots(1, 1, figsize=(5, 5), dpi=200, subplot_kw={'projection':'3d'})\n",
    "\n",
    "# Plot detector position\n",
    "xyz = test.ai.position_array()\n",
    "\n",
    "xyz[:, :, 0] *= -1 # Transform to synchrotron standard. Not sure if correct\n",
    "\n",
    "x = xyz[:, :, 0].ravel()[::skip]\n",
    "y = xyz[:, :, 1].ravel()[::skip]\n",
    "z = xyz[:, :, 2].ravel()[::skip]\n",
    "\n",
    "\n",
    "ax.plot_trisurf(x, y, z,\n",
    "                alpha=0.5, label='detector')\n",
    "\n",
    "# X-ray beam\n",
    "radius = test.ai.dist\n",
    "ax.quiver([0], [0], [-radius], [0], [0], [radius], colors='k')\n",
    "ax.scatter(0, 0, 0, marker='h', s=10, c='b', label='sample')\n",
    "\n",
    "# Detector\n",
    "corner_indices = np.array([[0, 0], [-1, 0], [0, -1], [-1, -1]]).T\n",
    "corn = xyz[*corner_indices].T\n",
    "ax.quiver([0,] * 4,\n",
    "          [0,] * 4,\n",
    "          [0,] * 4,\n",
    "          corn[0],\n",
    "          corn[1],\n",
    "          corn[2], colors='gray', lw=0.5)\n",
    "\n",
    "ax.set_xlabel('x [m]')\n",
    "ax.set_ylabel('y [m]')\n",
    "ax.set_zlabel('z [m]')\n",
    "ax.set_aspect('equal')\n",
    "\n",
    "# Initial view\n",
    "ax.view_init(elev=-60, azim=90, roll=0)\n",
    "plt.show()"
   ]
  },
  {
   "cell_type": "code",
   "execution_count": 363,
   "metadata": {},
   "outputs": [
    {
     "data": {
      "text/plain": [
       "7.6015960742345925"
      ]
     },
     "execution_count": 363,
     "metadata": {},
     "output_type": "execute_result"
    }
   ],
   "source": [
    "radius"
   ]
  },
  {
   "cell_type": "code",
   "execution_count": 143,
   "metadata": {},
   "outputs": [
    {
     "data": {
      "text/html": [
       "<div>\n",
       "<style scoped>\n",
       "    .dataframe tbody tr th:only-of-type {\n",
       "        vertical-align: middle;\n",
       "    }\n",
       "\n",
       "    .dataframe tbody tr th {\n",
       "        vertical-align: top;\n",
       "    }\n",
       "\n",
       "    .dataframe thead th {\n",
       "        text-align: right;\n",
       "    }\n",
       "</style>\n",
       "<table border=\"1\" class=\"dataframe\">\n",
       "  <thead>\n",
       "    <tr style=\"text-align: right;\">\n",
       "      <th></th>\n",
       "      <th>qx</th>\n",
       "      <th>qy</th>\n",
       "      <th>qz</th>\n",
       "    </tr>\n",
       "  </thead>\n",
       "  <tbody>\n",
       "    <tr>\n",
       "      <th>11</th>\n",
       "      <td>-3.236871</td>\n",
       "      <td>-0.327674</td>\n",
       "      <td>-0.731403</td>\n",
       "    </tr>\n",
       "    <tr>\n",
       "      <th>10</th>\n",
       "      <td>-2.544562</td>\n",
       "      <td>0.992806</td>\n",
       "      <td>-0.507669</td>\n",
       "    </tr>\n",
       "    <tr>\n",
       "      <th>9</th>\n",
       "      <td>-4.712897</td>\n",
       "      <td>-0.427081</td>\n",
       "      <td>-1.652607</td>\n",
       "    </tr>\n",
       "  </tbody>\n",
       "</table>\n",
       "</div>"
      ],
      "text/plain": [
       "          qx        qy        qz\n",
       "11 -3.236871 -0.327674 -0.731403\n",
       "10 -2.544562  0.992806 -0.507669\n",
       "9  -4.712897 -0.427081 -1.652607"
      ]
     },
     "execution_count": 143,
     "metadata": {},
     "output_type": "execute_result"
    }
   ],
   "source": [
    "pixel_df[['qx', 'qy', 'qz']]"
   ]
  },
  {
   "cell_type": "code",
   "execution_count": 145,
   "metadata": {},
   "outputs": [
    {
     "data": {
      "text/plain": [
       "array([-3.23687107, -0.32767447, -0.73140263])"
      ]
     },
     "execution_count": 145,
     "metadata": {},
     "output_type": "execute_result"
    }
   ],
   "source": [
    "pixel_df.iloc[0][['qx', 'qy', 'qz']].values"
   ]
  },
  {
   "cell_type": "code",
   "execution_count": 188,
   "metadata": {},
   "outputs": [
    {
     "name": "stdout",
     "output_type": "stream",
     "text": [
      "[2.16833467 1.41988698 1.14493823]\n"
     ]
    }
   ],
   "source": [
    "q_diff = pixel_df.iloc[1][['qx', 'qy', 'qz']].values - pixel_df.iloc[2][['qx', 'qy', 'qz']].values\n",
    "print(q_diff)"
   ]
  },
  {
   "cell_type": "code",
   "execution_count": 207,
   "metadata": {},
   "outputs": [
    {
     "name": "stdout",
     "output_type": "stream",
     "text": [
      "[1.47602556 0.09940648 0.92120445]\n"
     ]
    }
   ],
   "source": [
    "q_diff = pixel_df.iloc[0][['qx', 'qy', 'qz']].values - pixel_df.iloc[2][['qx', 'qy', 'qz']].values\n",
    "print(q_diff)"
   ]
  },
  {
   "cell_type": "code",
   "execution_count": 214,
   "metadata": {},
   "outputs": [
    {
     "data": {
      "text/plain": [
       "1.805080408270403"
      ]
     },
     "execution_count": 214,
     "metadata": {},
     "output_type": "execute_result"
    }
   ],
   "source": [
    "q_diff[0] / test.phases['LiNbO3 161'].a * 2 * np.pi"
   ]
  },
  {
   "cell_type": "code",
   "execution_count": null,
   "metadata": {},
   "outputs": [],
   "source": []
  },
  {
   "cell_type": "code",
   "execution_count": 208,
   "metadata": {},
   "outputs": [
    {
     "name": "stdout",
     "output_type": "stream",
     "text": [
      "[1.00461135 0.0812853  1.97910167]\n"
     ]
    }
   ],
   "source": [
    "hkl_diff = test.phases['LiNbO3 161'].HKL(q_diff)\n",
    "print(hkl_diff)"
   ]
  },
  {
   "cell_type": "code",
   "execution_count": 191,
   "metadata": {},
   "outputs": [
    {
     "name": "stdout",
     "output_type": "stream",
     "text": [
      "[  1 -15  -7]\n"
     ]
    }
   ],
   "source": [
    "hkl_appr = np.round(hkl_diff / np.min(np.abs(hkl_diff))).astype(int)\n",
    "print(hkl_appr)"
   ]
  },
  {
   "cell_type": "code",
   "execution_count": 192,
   "metadata": {},
   "outputs": [
    {
     "data": {
      "text/plain": [
       "{(-15, 14, -7),\n",
       " (-14, 15, -7),\n",
       " (-1, -14, -7),\n",
       " (1, -15, -7),\n",
       " (14, 1, -7),\n",
       " (15, -1, -7)}"
      ]
     },
     "execution_count": 192,
     "metadata": {},
     "output_type": "execute_result"
    }
   ],
   "source": [
    "test.phases['LiNbO3 161'].lattice.equivalent_hkls(hkl_appr)"
   ]
  },
  {
   "cell_type": "code",
   "execution_count": 197,
   "metadata": {},
   "outputs": [
    {
     "data": {
      "text/plain": [
       "{(-1, 1, 4), (0, -1, 4), (1, 0, 4)}"
      ]
     },
     "execution_count": 197,
     "metadata": {},
     "output_type": "execute_result"
    }
   ],
   "source": [
    "test.phases['LiNbO3 161'].lattice.equivalent_hkls([1, 0, 4])"
   ]
  },
  {
   "cell_type": "code",
   "execution_count": 201,
   "metadata": {},
   "outputs": [],
   "source": [
    "def vector_angle(V1, V2, radians=False):\n",
    "\n",
    "    unit_V1 = V1 / np.linalg.norm(V1)\n",
    "    unit_V2 = V2 / np.linalg.norm(V2)\n",
    "\n",
    "    theta = np.arccos(np.dot(unit_V1, unit_V2))\n",
    "\n",
    "    return np.degrees(theta)"
   ]
  },
  {
   "cell_type": "code",
   "execution_count": 204,
   "metadata": {},
   "outputs": [
    {
     "data": {
      "text/plain": [
       "6.605844468976728"
      ]
     },
     "execution_count": 204,
     "metadata": {},
     "output_type": "execute_result"
    }
   ],
   "source": [
    "vector_angle(pixel_df.iloc[0][['qx', 'qy', 'qz']].values, pixel_df.iloc[2][['qx', 'qy', 'qz']].values)"
   ]
  },
  {
   "cell_type": "code",
   "execution_count": 262,
   "metadata": {},
   "outputs": [
    {
     "data": {
      "text/plain": [
       "1.4121214249166707"
      ]
     },
     "execution_count": 262,
     "metadata": {},
     "output_type": "execute_result"
    }
   ],
   "source": [
    "np.linalg.norm(test.phases['LiNbO3 161'].Q([0, 1, 0]))"
   ]
  },
  {
   "cell_type": "code",
   "execution_count": 254,
   "metadata": {},
   "outputs": [],
   "source": [
    "q1 = q_vect(90, 0, wavelength=2 * np.pi).T[0]\n",
    "q2 = q_vect(90, 90, wavelength=2 * np.pi).T[0]"
   ]
  },
  {
   "cell_type": "code",
   "execution_count": 255,
   "metadata": {},
   "outputs": [
    {
     "data": {
      "text/plain": [
       "120.0"
      ]
     },
     "execution_count": 255,
     "metadata": {},
     "output_type": "execute_result"
    }
   ],
   "source": [
    "np.round(vector_angle(q1, q2) * 2 , 3)"
   ]
  },
  {
   "cell_type": "code",
   "execution_count": 216,
   "metadata": {},
   "outputs": [
    {
     "data": {
      "text/plain": [
       "array([-3.23687107, -0.32767447, -0.73140263])"
      ]
     },
     "execution_count": 216,
     "metadata": {},
     "output_type": "execute_result"
    }
   ],
   "source": [
    "pixel_df.iloc[0][['qx', 'qy', 'qz']].values"
   ]
  },
  {
   "cell_type": "code",
   "execution_count": 215,
   "metadata": {},
   "outputs": [
    {
     "data": {
      "text/plain": [
       "array([-4.71289663, -0.42708095, -1.65260708])"
      ]
     },
     "execution_count": 215,
     "metadata": {},
     "output_type": "execute_result"
    }
   ],
   "source": [
    "pixel_df.iloc[2][['qx', 'qy', 'qz']].values"
   ]
  },
  {
   "cell_type": "code",
   "execution_count": 205,
   "metadata": {},
   "outputs": [],
   "source": [
    "test.map.plot_image(test.map.images[1, 0])"
   ]
  },
  {
   "cell_type": "code",
   "execution_count": 25,
   "metadata": {},
   "outputs": [
    {
     "data": {
      "text/html": [
       "<div>\n",
       "<style scoped>\n",
       "    .dataframe tbody tr th:only-of-type {\n",
       "        vertical-align: middle;\n",
       "    }\n",
       "\n",
       "    .dataframe tbody tr th {\n",
       "        vertical-align: top;\n",
       "    }\n",
       "\n",
       "    .dataframe thead th {\n",
       "        text-align: right;\n",
       "    }\n",
       "</style>\n",
       "<table border=\"1\" class=\"dataframe\">\n",
       "  <thead>\n",
       "    <tr style=\"text-align: right;\">\n",
       "      <th></th>\n",
       "      <th>fit_x0</th>\n",
       "    </tr>\n",
       "  </thead>\n",
       "  <tbody>\n",
       "    <tr>\n",
       "      <th>11</th>\n",
       "      <td>25.340128</td>\n",
       "    </tr>\n",
       "    <tr>\n",
       "      <th>10</th>\n",
       "      <td>21.058268</td>\n",
       "    </tr>\n",
       "    <tr>\n",
       "      <th>9</th>\n",
       "      <td>38.500994</td>\n",
       "    </tr>\n",
       "  </tbody>\n",
       "</table>\n",
       "</div>"
      ],
      "text/plain": [
       "       fit_x0\n",
       "11  25.340128\n",
       "10  21.058268\n",
       "9   38.500994"
      ]
     },
     "execution_count": 25,
     "metadata": {},
     "output_type": "execute_result"
    }
   ],
   "source": [
    "pixel_df[['fit_x0']]"
   ]
  },
  {
   "cell_type": "code",
   "execution_count": 198,
   "metadata": {},
   "outputs": [
    {
     "data": {
      "text/plain": [
       "array([1.69136665, 2.33679777, 2.44586605, 2.79279574, 2.81641399,\n",
       "       2.97371517, 3.3827333 , 3.71240741, 3.76500558, 3.85035617,\n",
       "       3.982491  , 4.1743437 , 4.23636427, 4.40171243, 4.67359554,\n",
       "       4.85093845, 4.8641487 , 4.89173211, 4.95730549, 5.07409995,\n",
       "       5.08713771, 5.11270853, 5.17588294, 5.27491764, 5.42122374,\n",
       "       5.44446539])"
      ]
     },
     "execution_count": 198,
     "metadata": {},
     "output_type": "execute_result"
    }
   ],
   "source": [
    "test.phases['LiNbO3 161'].reflections['q']"
   ]
  },
  {
   "cell_type": "code",
   "execution_count": 196,
   "metadata": {},
   "outputs": [
    {
     "data": {
      "text/plain": [
       "array([[ 0,  1,  2],\n",
       "       [ 1,  0,  4],\n",
       "       [ 1,  1,  0],\n",
       "       [ 0,  0,  6],\n",
       "       [ 1,  1,  3],\n",
       "       [ 2,  0,  2],\n",
       "       [ 0,  2,  4],\n",
       "       [ 1,  1,  6],\n",
       "       [ 2,  1,  1],\n",
       "       [ 1,  2,  2],\n",
       "       [ 0,  1,  8],\n",
       "       [ 2,  1,  4],\n",
       "       [ 0,  3,  0],\n",
       "       [ 1,  2,  5],\n",
       "       [ 2,  0,  8],\n",
       "       [ 1,  1,  9],\n",
       "       [ 1,  0, 10],\n",
       "       [ 2,  2,  0],\n",
       "       [ 2,  1,  7],\n",
       "       [ 0,  3,  6],\n",
       "       [ 2,  2,  3],\n",
       "       [ 1,  3,  1],\n",
       "       [ 3,  1,  2],\n",
       "       [ 1,  2,  8],\n",
       "       [ 1,  3,  4],\n",
       "       [ 0,  2, 10]])"
      ]
     },
     "execution_count": 196,
     "metadata": {},
     "output_type": "execute_result"
    }
   ],
   "source": [
    "test.phases['LiNbO3 161'].reflections['hkl']"
   ]
  },
  {
   "cell_type": "code",
   "execution_count": 66,
   "metadata": {},
   "outputs": [
    {
     "ename": "TypeError",
     "evalue": "'>' not supported between instances of 'list' and 'int'",
     "output_type": "error",
     "traceback": [
      "\u001b[1;31m---------------------------------------------------------------------------\u001b[0m",
      "\u001b[1;31mTypeError\u001b[0m                                 Traceback (most recent call last)",
      "Cell \u001b[1;32mIn[66], line 1\u001b[0m\n\u001b[1;32m----> 1\u001b[0m \u001b[43mtest\u001b[49m\u001b[38;5;241;43m.\u001b[39;49m\u001b[43mphases\u001b[49m\u001b[43m[\u001b[49m\u001b[38;5;124;43m'\u001b[39;49m\u001b[38;5;124;43mLiNbO3 161\u001b[39;49m\u001b[38;5;124;43m'\u001b[39;49m\u001b[43m]\u001b[49m\u001b[38;5;241;43m.\u001b[39;49m\u001b[43mget_hkl_reflections\u001b[49m\u001b[43m(\u001b[49m\u001b[43mtth_range\u001b[49m\u001b[38;5;241;43m=\u001b[39;49m\u001b[43m(\u001b[49m\u001b[38;5;241;43m0\u001b[39;49m\u001b[43m,\u001b[49m\u001b[43m \u001b[49m\u001b[43mnp\u001b[49m\u001b[38;5;241;43m.\u001b[39;49m\u001b[43mmax\u001b[49m\u001b[43m(\u001b[49m\u001b[43mtest\u001b[49m\u001b[38;5;241;43m.\u001b[39;49m\u001b[43mtth\u001b[49m\u001b[43m)\u001b[49m\u001b[43m)\u001b[49m\u001b[43m,\u001b[49m\u001b[43m \u001b[49m\u001b[43menergy\u001b[49m\u001b[38;5;241;43m=\u001b[39;49m\u001b[43mtest\u001b[49m\u001b[38;5;241;43m.\u001b[39;49m\u001b[43menergy\u001b[49m\u001b[38;5;241;43m*\u001b[39;49m\u001b[38;5;241;43m1e3\u001b[39;49m\u001b[43m)\u001b[49m\n",
      "File \u001b[1;32m~\\OneDrive - Brookhaven National Laboratory\\Documents\\Postdoc\\Repositories\\SRX_sXRD_analysis\\testing_modules\\sXRD_phase.py:150\u001b[0m, in \u001b[0;36mPhase.get_hkl_reflections\u001b[1;34m(self, tth_range, energy, ignore_less)\u001b[0m\n\u001b[0;32m    147\u001b[0m         \u001b[38;5;28;01mif\u001b[39;00m np\u001b[38;5;241m.\u001b[39msum(sort_refl[index]) \u001b[38;5;241m>\u001b[39m np\u001b[38;5;241m.\u001b[39msum(hkl_list[\u001b[38;5;241m-\u001b[39m\u001b[38;5;241m1\u001b[39m]):\n\u001b[0;32m    148\u001b[0m             hkl_list[\u001b[38;5;241m-\u001b[39m\u001b[38;5;241m1\u001b[39m] \u001b[38;5;241m=\u001b[39m sort_refl[index] \u001b[38;5;66;03m# bias towards positive hkl values\u001b[39;00m\n\u001b[1;32m--> 150\u001b[0m mask \u001b[38;5;241m=\u001b[39m (\u001b[43mint_list\u001b[49m\u001b[43m \u001b[49m\u001b[38;5;241;43m>\u001b[39;49m\u001b[43m \u001b[49m\u001b[43mignore_less\u001b[49m) \u001b[38;5;241m&\u001b[39m (tth_list \u001b[38;5;241m>\u001b[39m tth_range[\u001b[38;5;241m0\u001b[39m])\n\u001b[0;32m    152\u001b[0m data \u001b[38;5;241m=\u001b[39m {\n\u001b[0;32m    153\u001b[0m     \u001b[38;5;124m'\u001b[39m\u001b[38;5;124mhkl\u001b[39m\u001b[38;5;124m'\u001b[39m : np\u001b[38;5;241m.\u001b[39marray(hkl_list)[mask],\n\u001b[0;32m    154\u001b[0m     \u001b[38;5;124m'\u001b[39m\u001b[38;5;124mq\u001b[39m\u001b[38;5;124m'\u001b[39m : np\u001b[38;5;241m.\u001b[39marray(q_list)[mask],\n\u001b[1;32m   (...)\u001b[0m\n\u001b[0;32m    157\u001b[0m     \u001b[38;5;124m'\u001b[39m\u001b[38;5;124md\u001b[39m\u001b[38;5;124m'\u001b[39m : np\u001b[38;5;241m.\u001b[39marray(d_list)[mask]\n\u001b[0;32m    158\u001b[0m     }\n\u001b[0;32m    160\u001b[0m \u001b[38;5;28mself\u001b[39m\u001b[38;5;241m.\u001b[39mreflections \u001b[38;5;241m=\u001b[39m data\n",
      "\u001b[1;31mTypeError\u001b[0m: '>' not supported between instances of 'list' and 'int'"
     ]
    }
   ],
   "source": [
    "test.phases['LiNbO3 161'].get_hkl_reflections(tth_range=(0, np.max(test.tth)), energy=test.energy*1e3)"
   ]
  },
  {
   "cell_type": "code",
   "execution_count": 78,
   "metadata": {},
   "outputs": [
    {
     "data": {
      "text/plain": [
       "array([0, 3, 6])"
      ]
     },
     "execution_count": 78,
     "metadata": {},
     "output_type": "execute_result"
    }
   ],
   "source": [
    "test.phases['LiNbO3 161'].reflections['hkl'][19]"
   ]
  },
  {
   "cell_type": "code",
   "execution_count": 89,
   "metadata": {},
   "outputs": [
    {
     "ename": "NameError",
     "evalue": "name 'columns' is not defined",
     "output_type": "error",
     "traceback": [
      "\u001b[1;31m---------------------------------------------------------------------------\u001b[0m",
      "\u001b[1;31mNameError\u001b[0m                                 Traceback (most recent call last)",
      "Cell \u001b[1;32mIn[89], line 1\u001b[0m\n\u001b[1;32m----> 1\u001b[0m pixel_df\u001b[38;5;241m.\u001b[39miloc[\u001b[38;5;241m0\u001b[39m, \u001b[43mcolumns\u001b[49m\u001b[38;5;241m==\u001b[39m[\u001b[38;5;124m'\u001b[39m\u001b[38;5;124mqx\u001b[39m\u001b[38;5;124m'\u001b[39m, \u001b[38;5;124m'\u001b[39m\u001b[38;5;124mqy\u001b[39m\u001b[38;5;124m'\u001b[39m, \u001b[38;5;124m'\u001b[39m\u001b[38;5;124mqz\u001b[39m\u001b[38;5;124m'\u001b[39m]]\n",
      "\u001b[1;31mNameError\u001b[0m: name 'columns' is not defined"
     ]
    }
   ],
   "source": [
    "pixel_df.iloc[0, columns==['qx', 'qy', 'qz']]"
   ]
  },
  {
   "cell_type": "code",
   "execution_count": 80,
   "metadata": {},
   "outputs": [
    {
     "data": {
      "text/plain": [
       "{(-3, 0, 6), (0, 3, 6), (3, -3, 6)}"
      ]
     },
     "execution_count": 80,
     "metadata": {},
     "output_type": "execute_result"
    }
   ],
   "source": [
    "test.phases['LiNbO3 161'].lattice.equivalent_hkls([0, 3, 6])"
   ]
  },
  {
   "cell_type": "code",
   "execution_count": 207,
   "metadata": {},
   "outputs": [],
   "source": [
    "import xrayutilities as xu\n",
    "\n",
    "data = xu.simpack.PowderDiffraction(test.phases['LiNbO3 161'], en=test.energy*1e3, tt_cutoff=45)"
   ]
  },
  {
   "cell_type": "code",
   "execution_count": 226,
   "metadata": {},
   "outputs": [
    {
     "data": {
      "text/plain": [
       "{(-1, 0, 2), (-1, 1, -2), (0, -1, -2), (0, 1, 2), (1, -1, 2), (1, 0, -2)}"
      ]
     },
     "execution_count": 226,
     "metadata": {},
     "output_type": "execute_result"
    }
   ],
   "source": [
    "linbo.lattice.get_allowed_hkl(qmax=2)"
   ]
  },
  {
   "cell_type": "code",
   "execution_count": 271,
   "metadata": {},
   "outputs": [],
   "source": [
    "all_refl = linbo.lattice.get_allowed_hkl(qmax=tth_2_q(np.max(test.tth), wavelength=energy_2_wavelength(test.energy)))"
   ]
  },
  {
   "cell_type": "code",
   "execution_count": 278,
   "metadata": {},
   "outputs": [],
   "source": [
    "q_list = np.linalg.norm(linbo.Q(*refl_list), axis=1)\n",
    "#q_list.sort()"
   ]
  },
  {
   "cell_type": "code",
   "execution_count": 310,
   "metadata": {},
   "outputs": [],
   "source": [
    "all_refl = linbo.lattice.get_allowed_hkl(qmax=tth_2_q(np.max(test.tth), wavelength=energy_2_wavelength(test.energy)))\n",
    "all_q = np.linalg.norm(linbo.Q(*all_refl), axis=1)\n",
    "all_q = np.round(all_q, 10) # Clean up some errors\n",
    "sort_refl = [x for _, x in sorted(zip(all_q, all_refl))]\n",
    "all_q.sort()\n",
    "F_hkl = np.abs(linbo.StructureFactor(sort_refl))\n",
    "F_hkl = rescale_array(F_hkl, lower=0, upper=100)"
   ]
  },
  {
   "cell_type": "code",
   "execution_count": 316,
   "metadata": {},
   "outputs": [],
   "source": [
    "ignore_less = 1\n",
    "wavelength = energy_2_wavelength(test.energy)\n",
    "\n",
    "all_refl = linbo.lattice.get_allowed_hkl(qmax=tth_2_q(np.max(test.tth), wavelength=wavelength))\n",
    "all_q = np.linalg.norm(linbo.Q(*all_refl), axis=1)\n",
    "all_q = np.round(all_q, 10) # Clean up some errors\n",
    "sort_refl = [x for _, x in sorted(zip(all_q, all_refl))]\n",
    "all_q.sort()\n",
    "F_hkl = np.abs(linbo.StructureFactor(sort_refl))\n",
    "F_hkl = rescale_array(F_hkl, lower=0, upper=100)\n",
    "\n",
    "hkl_list = []\n",
    "q_list = []\n",
    "int_list = []\n",
    "tth_list = []\n",
    "d_list = []\n",
    "\n",
    "for index, norm_int in enumerate(F_hkl):\n",
    "    if all_q[index] not in q_list:\n",
    "        hkl_list.append(sort_refl[index]) # Only takes first hkl value\n",
    "        q_list.append(all_q[index])\n",
    "        int_list.append(norm_int)\n",
    "        tth_list.append(q_2_tth(all_q[index], wavelength=wavelength))\n",
    "        d_list.append(convert_qd(all_q[index]))\n",
    "    else:\n",
    "        int_list[-1] += norm_int # Handles multiplicity\n",
    "        if np.sum(sort_refl[index]) > np.sum(hkl_list[-1]):\n",
    "            hkl_list[-1] = sort_refl[index] # bias towards positive hkl values\n",
    "\n",
    "data = {\n",
    "    'hkl' : np.array(hkl_list)[int_list > ignore_less],\n",
    "    'q' : np.array(q_list)[int_list > ignore_less],\n",
    "    'int' : np.array(int_list)[int_list > ignore_less],\n",
    "    'tth' : np.array(tth_list)[int_list > ignore_less],\n",
    "    'd' : np.array(d_list)[int_list > ignore_less]\n",
    "    }"
   ]
  },
  {
   "cell_type": "code",
   "execution_count": 320,
   "metadata": {},
   "outputs": [
    {
     "name": "stdout",
     "output_type": "stream",
     "text": [
      "XU.materials: Warning: element O used instead of O-2\n",
      "XU.materials: Warning: element Nb used instead of Nb+5\n",
      "XU.materials: Warning: element Li used instead of Li+1\n",
      "Did not add LiNbO3 161 since it is already in possible phases.\n",
      "XU.materials: Warning: element O used instead of O-2\n",
      "XU.materials: Warning: element Nb used instead of Nb+5\n",
      "XU.materials: Warning: element Li used instead of Li+1\n"
     ]
    }
   ],
   "source": [
    "cif_dir = '''C:\\\\Users\\\\emusterma\\\\OneDrive - Brookhaven National Laboratory\\\\Documents\\\\Postdoc\\\\Literature\\\\CIF\\\\'''\n",
    "\n",
    "test.load_phase('Barker\\\\1521772COD.cif', filedir=cif_dir, phase_name=\"LiNbO3 161\")\n",
    "test.load_phase('Barker\\\\1521772COD.cif', filedir=cif_dir, phase_name=\"LiNbO3 new\")\n",
    "\n",
    "test.phases['LiNbO3 new'].reflections = data"
   ]
  },
  {
   "cell_type": "code",
   "execution_count": 321,
   "metadata": {},
   "outputs": [],
   "source": [
    "test.select_phases()"
   ]
  },
  {
   "cell_type": "code",
   "execution_count": null,
   "metadata": {},
   "outputs": [],
   "source": []
  },
  {
   "cell_type": "code",
   "execution_count": null,
   "metadata": {},
   "outputs": [],
   "source": []
  },
  {
   "cell_type": "code",
   "execution_count": null,
   "metadata": {},
   "outputs": [],
   "source": []
  },
  {
   "cell_type": "code",
   "execution_count": 18,
   "metadata": {},
   "outputs": [],
   "source": [
    "pixel_df.dropna(axis=0, inplace=True)\n",
    "pixel_df.sort_values(by=['fit_integrated'], inplace=True)"
   ]
  },
  {
   "cell_type": "code",
   "execution_count": 19,
   "metadata": {},
   "outputs": [],
   "source": [
    "q_arr = pixel_df[['qx', 'qy', 'qz']].values"
   ]
  },
  {
   "cell_type": "code",
   "execution_count": 20,
   "metadata": {},
   "outputs": [],
   "source": [
    "dist = euclidean_distances(q_arr)"
   ]
  },
  {
   "cell_type": "code",
   "execution_count": 21,
   "metadata": {},
   "outputs": [
    {
     "data": {
      "text/plain": [
       "array([[0.        , 1.50765296, 1.74274231],\n",
       "       [1.50765296, 0.        , 2.8334851 ],\n",
       "       [1.74274231, 2.8334851 , 0.        ]])"
      ]
     },
     "execution_count": 21,
     "metadata": {},
     "output_type": "execute_result"
    }
   ],
   "source": [
    "dist"
   ]
  },
  {
   "cell_type": "code",
   "execution_count": null,
   "metadata": {},
   "outputs": [],
   "source": []
  },
  {
   "cell_type": "code",
   "execution_count": null,
   "metadata": {},
   "outputs": [],
   "source": []
  },
  {
   "cell_type": "code",
   "execution_count": 239,
   "metadata": {},
   "outputs": [],
   "source": [
    "def plot_image(xrdmap, image=None, indices=None, title=None,\n",
    "               mask=None, spots=False, contours=False,\n",
    "               aspect='auto', vmin=None, \n",
    "               return_plot=False,\n",
    "               **kwargs):\n",
    "    \n",
    "    # Check image type\n",
    "    if image is not None:\n",
    "        image = np.asarray(image)\n",
    "        if len(image.shape) == 1 and len(image) == 2:\n",
    "            indices = tuple(iter(image))\n",
    "            image = xrdmap.map.images[indices]\n",
    "        elif len(image.shape) == 2:\n",
    "            if indices is not None:\n",
    "                indices = tuple(indices)\n",
    "        else:\n",
    "            raise ValueError(f\"Incorrect image shape of {image.shape}. Should be two-dimensional.\")\n",
    "    else:\n",
    "        if indices is not None:\n",
    "            indices = tuple(indices)\n",
    "            image = xrdmap.map.images[indices]\n",
    "        else:\n",
    "            i = np.random.randint(xrdmap.map.map_shape[0])\n",
    "            j = np.random.randint(xrdmap.map.map_shape[1])\n",
    "            indices = (i, j)\n",
    "            image = xrdmap.map.images[indices]\n",
    "\n",
    "    # Check for mask\n",
    "    if mask is not None:\n",
    "        if mask is True:\n",
    "            image = image * xrdmap.map.mask\n",
    "        elif np.asarray(mask).shape == image.shape:\n",
    "            image = image * mask\n",
    "        else:\n",
    "            raise RuntimeError(\"Error handling mask input.\")\n",
    "        \n",
    "    # Plot image\n",
    "    fig, ax = plt.subplots(1, 1, figsize=(5, 5), dpi=200)\n",
    "    # Allow some flexibility for kwarg inputs\n",
    "    plot_kwargs = {'c' : 'r',\n",
    "                   'lw' : 0.5,\n",
    "                   's' : 1}\n",
    "    for key in plot_kwargs.keys():\n",
    "        if key in kwargs.keys():\n",
    "            plot_kwargs[key] = kwargs[key]\n",
    "\n",
    "    if hasattr(xrdmap.map, 'extent'):\n",
    "        if vmin == None:\n",
    "            vmin = 0\n",
    "        im = ax.imshow(image, extent=xrdmap.extent, vmin=vmin, aspect=aspect, **kwargs)\n",
    "        ax.set_xlabel('Scattering Angle, 2θ [°]') # Assumes degrees. Need to change...\n",
    "        ax.set_ylabel('Azimuthal Angle, χ [°]')\n",
    "    else:\n",
    "        im = ax.imshow(image, aspect=aspect, **kwargs)\n",
    "        ax.set_xlabel('X index')\n",
    "        ax.set_ylabel('Y index')\n",
    "    fig.colorbar(im, ax=ax) \n",
    "\n",
    "    if title is not None:\n",
    "        ax.set_title(title)\n",
    "    elif indices is not None:\n",
    "        ax.set_title(f'Row = {indices[0]}, Col = {indices[1]}')\n",
    "    elif xrdmap.map.title is not None:\n",
    "        ax.set_title(xrdmap.map.title)\n",
    "    else:\n",
    "        ax.set_title('Input Image')\n",
    "\n",
    "    if indices is not None:\n",
    "        # Set some default values\n",
    "\n",
    "        \n",
    "        # Plot spots\n",
    "        if spots and hasattr(xrdmap, 'spots'):\n",
    "            pixel_df = test.spots[(test.spots['map_x'] == indices[0]) & (test.spots['map_y'] == indices[1])].copy()\n",
    "            if any([x[:3] == 'fit' for x in pixel_df.keys()]):\n",
    "                pixel_df.dropna(axis=0, inplace=True)\n",
    "                spots = pixel_df[['fit_y0', 'fit_x0']].values\n",
    "            else:\n",
    "                spots = pixel_df[['guess_ceny', 'guess_cenx']].values\n",
    "            ax.scatter(spots[:, 1], spots[:, 0], s=plot_kwargs['s'], c=plot_kwargs['c'])\n",
    "        \n",
    "        elif spots and not hasattr(xrdmap, 'spots'):\n",
    "            print('Warning: Plotting spots requested, but xrdmap does not have any spots!')\n",
    "\n",
    "        # Plot contours\n",
    "        if contours and hasattr(xrdmap.map, 'spot_masks'):\n",
    "            blob_img = label(xrdmap.map.spot_masks[indices])\n",
    "            blob_contours = find_blob_contours(blob_img)\n",
    "            for i in range(len(blob_contours)):\n",
    "                blob_contours[i] = estimate_reciprocal_coords(blob_contours[i], image.shape, tth=xrdmap.tth, chi=xrdmap.chi)\n",
    "            for contour in blob_contours:\n",
    "                ax.plot(*contour, c=plot_kwargs['c'], lw=plot_kwargs['lw'])\n",
    "            \n",
    "        elif contours and not hasattr(xrdmap, 'spot_masks'):\n",
    "            print('Warning: Plotting spots requested, but xrdmap does not have any spots!')\n",
    "    \n",
    "    elif spots or contours:\n",
    "        print('Warning: Cannot request spots or contours without providing map indices!')\n",
    "\n",
    "    if return_plot:\n",
    "        return fig, ax\n",
    "    \n",
    "    plt.show()"
   ]
  },
  {
   "cell_type": "code",
   "execution_count": 174,
   "metadata": {},
   "outputs": [],
   "source": [
    "plot_image(test, test.map.mask)"
   ]
  },
  {
   "cell_type": "code",
   "execution_count": 166,
   "metadata": {},
   "outputs": [],
   "source": [
    "indices = pixel_df.index"
   ]
  },
  {
   "cell_type": "code",
   "execution_count": 172,
   "metadata": {},
   "outputs": [
    {
     "data": {
      "text/plain": [
       "array([ 0.17024574, 12.70959352])"
      ]
     },
     "execution_count": 172,
     "metadata": {},
     "output_type": "execute_result"
    }
   ],
   "source": [
    "pixel_df.loc[indices[-1], ['guess_height', 'guess_cenx']].values"
   ]
  },
  {
   "cell_type": "code",
   "execution_count": 242,
   "metadata": {},
   "outputs": [],
   "source": [
    "def reconstruct_image(xrdmap, indices=None, plot_residual=False, **kwargs):\n",
    "    if not hasattr(xrdmap, 'spots'):\n",
    "        raise RuntimeError('xrdmap does not have any spots!')\n",
    "\n",
    "    if indices is None:\n",
    "        i = np.random.randint(xrdmap.map.map_shape[0])\n",
    "        j = np.random.randint(xrdmap.map.map_shape[1])\n",
    "        indices = (i, j)\n",
    "    else:\n",
    "        indices = tuple(indices)\n",
    "    \n",
    "    if hasattr(xrdmap, 'spot_model'):\n",
    "        spot_model = xrdmap.spot_model\n",
    "    spot_model = GaussianFunctions\n",
    "    \n",
    "    pixel_df = test.spots[(test.spots['map_x'] == indices[0]) & (test.spots['map_y'] == indices[1])].copy()\n",
    "    x_coords, y_coords = np.meshgrid(xrdmap.tth, xrdmap.chi[::-1])\n",
    "\n",
    "    if any([x[:3] == 'fit' for x in pixel_df.keys()]):\n",
    "        prefix = 'fit'\n",
    "        pixel_df.dropna(axis=0, inplace=True)\n",
    "        param_labels = [x for x in test.spots.loc[0].keys() if x[:3] == 'fit'][:6]\n",
    "    else:\n",
    "        prefix = 'guess'\n",
    "        param_labels = ['height', 'cenx', 'ceny', 'stdx', 'stdy']\n",
    "        param_labels = [f'guess_{param_label}' for param_label in param_labels]\n",
    "        spot_model = GaussianFunctions\n",
    "\n",
    "    fit_args = []\n",
    "    for index in pixel_df.index:\n",
    "        fit_args.extend(pixel_df.loc[index, param_labels].values)\n",
    "        if prefix == 'guess':\n",
    "            fit_args.append(0) # Filling in theta value\n",
    "\n",
    "    if len(fit_args) > 0:\n",
    "        #return fit_args\n",
    "        recon_image = spot_model.multi_2d([x_coords.ravel(), y_coords.ravel()], 0, *fit_args)\n",
    "        recon_image = recon_image.reshape(xrdmap.map.calibrated_shape)\n",
    "    else:\n",
    "        recon_image = np.zeros(xrdmap.map.calibrated_shape)\n",
    "\n",
    "    if not plot_residual:\n",
    "        fig, ax = plot_image(xrdmap, recon_image,\n",
    "                             return_plot=True, indices=indices,\n",
    "                             **kwargs)\n",
    "        plt.show()\n",
    "    else:\n",
    "        image = xrdmap.map.images[indices]\n",
    "        residual = recon_image - image\n",
    "        ext = np.max(np.abs(residual[xrdmap.map.mask]))\n",
    "        fig, ax = plot_image(xrdmap, residual,\n",
    "                             title=f'Residual of ({indices[0]}, {indices[1]})',\n",
    "                             return_plot=True, indices=indices,\n",
    "                             vmin=-ext, vmax=ext, cmap='bwr', # c='k',\n",
    "                             **kwargs)\n",
    "        plt.show()"
   ]
  },
  {
   "cell_type": "code",
   "execution_count": 243,
   "metadata": {},
   "outputs": [],
   "source": [
    "reconstruct_image(test, [1, 1], plot_residual=True, spots=True)"
   ]
  },
  {
   "cell_type": "code",
   "execution_count": 138,
   "metadata": {},
   "outputs": [],
   "source": [
    "fig, ax = plt.subplots(1, 1, figsize=(5, 5), dpi=200)\n",
    "\n",
    "nan_mask = ~np.isnan(test.spots['fit_integrated'].values)\n",
    "\n",
    "ax.scatter(test.spots['guess_stdy'].values[nan_mask], test.spots['fit_sigma_y'].values[nan_mask], alpha=0.5, s=1, c='k')\n",
    "\n",
    "plt.show()"
   ]
  },
  {
   "cell_type": "code",
   "execution_count": null,
   "metadata": {},
   "outputs": [],
   "source": [
    "fig, ax = plt.subplots(1, 1, figsize=(5, 5), dpi=200)\n",
    "\n",
    "nan_mask = ~np.isnan(test.spots['fit_integrated'].values)\n",
    "\n",
    "ax.scatter(np.array(range(len(test.spots)))[nan_mask], test.spots['guess_height'].values[nan_mask], alpha=0.5, s=1, c='k')\n",
    "\n",
    "plt.show()"
   ]
  },
  {
   "cell_type": "code",
   "execution_count": null,
   "metadata": {},
   "outputs": [],
   "source": [
    "def iter_rescale_array(arr, lower=0, upper=1, arr_min=None, arr_max=None):\n",
    "    # Works for arrays of any size including images!\n",
    "    if arr_min is None:\n",
    "        arr_min = np.min(arr)\n",
    "    if arr_max is None:\n",
    "        arr_max = np.max(arr)\n",
    "    ext = upper - lower\n",
    "\n",
    "    @dask.delayed\n",
    "    def delayed_rescale_array(arr, lower, ext, arr_min, arr_max, indices):\n",
    "        arr[indices] = lower + ext * ((arr[indices] - arr_min) / (arr_max - arr_min))\n",
    "        return arr[indices]\n",
    "\n",
    "    delayed_list = []\n",
    "    for index in tqdm(range(np.multiply(*arr.shape[:2])), desc='Scheduling...'):\n",
    "        indices = np.unravel_index(index, arr.shape[:2])\n",
    "\n",
    "        delayed_list.append(delayed_rescale_array(arr[indices], lower, ext, arr_min, arr_max, indices))\n",
    "\n",
    "    #return delayed_list\n",
    "    with TqdmCallback(desc='Computing...', tqdm_class=tqdm):\n",
    "        dask.compute(*delayed_list)"
   ]
  },
  {
   "cell_type": "code",
   "execution_count": null,
   "metadata": {},
   "outputs": [],
   "source": [
    "test.map.plot_image()"
   ]
  },
  {
   "cell_type": "code",
   "execution_count": null,
   "metadata": {},
   "outputs": [],
   "source": [
    "#nan_med = test.map.med_image\n",
    "nan_med = median_image\n",
    "nan_med[~test.map.calibration_mask] = np.nan\n",
    "ball_bkg = rolling_ball(gaussian_filter(nan_med, sigma=2), radius=50)\n",
    "ball_bkg[~test.map.calibration_mask] = 0\n",
    "test.map.remove_background(background=ball_bkg * test.map.calibration_mask)\n",
    "test.map.images = rescale_array(test.map.images, lower=0, upper=100)"
   ]
  },
  {
   "cell_type": "code",
   "execution_count": null,
   "metadata": {},
   "outputs": [],
   "source": [
    "test.map.update_map_title()\n",
    "test.map.save_images(units=test.map.calib_unit, labels=['x_ind', 'y_ind', 'chi_ind', 'tth_ind'])"
   ]
  },
  {
   "cell_type": "code",
   "execution_count": null,
   "metadata": {},
   "outputs": [],
   "source": [
    "map_noise = estimate_map_noise(test.map)"
   ]
  },
  {
   "cell_type": "code",
   "execution_count": null,
   "metadata": {},
   "outputs": [],
   "source": [
    "i = np.random.randint(test.map.map_shape[0])\n",
    "j = np.random.randint(test.map.map_shape[1])\n",
    "\n",
    "out = spot_search(test.map.images[i, j], bkg_noise=map_noise, multiplier=3, plotme=True)"
   ]
  },
  {
   "cell_type": "code",
   "execution_count": null,
   "metadata": {},
   "outputs": [],
   "source": [
    "test.map.plot_image(out[1] * out[2])"
   ]
  },
  {
   "cell_type": "code",
   "execution_count": null,
   "metadata": {},
   "outputs": [
    {
     "name": "stderr",
     "output_type": "stream",
     "text": [
      "Scheduling spot search...: 100%|██████████| 3721/3721 [00:00<00:00, 8923.01it/s] \n",
      "Searching images for spots...: 100%|██████████| 3721/3721 [01:32<00:00, 40.04it/s]\n",
      "Scheduling spot characterization...: 100%|██████████| 22193/22193 [00:02<00:00, 7791.26it/s] \n",
      "Characterizing spots...: 100%|██████████| 22193/22193 [09:00<00:00, 41.08it/s]\n"
     ]
    }
   ],
   "source": [
    "test.find_spots(multiplier=3)"
   ]
  },
  {
   "cell_type": "code",
   "execution_count": null,
   "metadata": {},
   "outputs": [],
   "source": []
  },
  {
   "cell_type": "code",
   "execution_count": null,
   "metadata": {},
   "outputs": [
    {
     "name": "stderr",
     "output_type": "stream",
     "text": [
      "Scheduling blob segmentation for spot fits...: 100%|██████████| 3721/3721 [05:43<00:00, 10.82it/s]\n",
      "Segmenting blobs for spot fits...: 100%|██████████| 3721/3721 [02:43<00:00, 22.79it/s]\n",
      "Scheduling spot fits...: 100%|██████████| 19175/19175 [00:02<00:00, 7008.92it/s]\n",
      "Fitting spots in blobs...: 100%|██████████| 19175/19175 [10:19<00:00, 30.95it/s]\n"
     ]
    },
    {
     "name": "stdout",
     "output_type": "stream",
     "text": [
      "Successfully fit 16396 / 22193 spots ( 73.9 % ).\n"
     ]
    }
   ],
   "source": [
    "test.fit_spots(GaussianFunctions, max_dist=0.75)"
   ]
  },
  {
   "cell_type": "code",
   "execution_count": null,
   "metadata": {},
   "outputs": [],
   "source": [
    "plot_map = np.zeros(test.map.map_shape)\n",
    "plot_map[:] = np.nan\n",
    "\n",
    "for image_index in range(test.map.num_images):\n",
    "    indices = np.unravel_index(image_index, test.map.map_shape)\n",
    "    pixel_df = test.spots[(test.spots['map_x'] == indices[0])\n",
    "                          & (test.spots['map_y'] == indices[1])]\n",
    "    \n",
    "    if len(pixel_df) < 1:\n",
    "        plot_map[indices] = 0\n",
    "    else:\n",
    "        plot_map[indices] = np.sum(pixel_df['guess_int'])\n",
    "        #plot_map[indices] = np.sum(pixel_df['fit_amp'])\n",
    "        #plot_map[indices] = np.mean(pixel_df['fit_x0'])\n",
    "        #plot_map[indices] = len(pixel_df)\n",
    "\n",
    "\n",
    "fig, ax = plt.subplots(1, 1, figsize=(5, 5), dpi=200)\n",
    "\n",
    "im = ax.imshow(plot_map)\n",
    "fig.colorbar(im, ax=ax)\n",
    "ax.set_title('Spot Value')\n",
    "\n",
    "plt.show()"
   ]
  },
  {
   "cell_type": "code",
   "execution_count": null,
   "metadata": {},
   "outputs": [],
   "source": [
    "test.map.plot_image()"
   ]
  },
  {
   "cell_type": "code",
   "execution_count": null,
   "metadata": {},
   "outputs": [],
   "source": [
    "[test.phases[phase].get_hkl_reflections(tth_range=(np.min(test.tth), np.max(test.tth))) for phase in test.phases];\n",
    "\n",
    "pot_tth = np.concatenate([test.phases[key].reflections['tth'] for key in test.phases])\n",
    "pot_hkl = np.concatenate([test.phases[key].reflections['hkl'] for key in test.phases])\n",
    "pot_phase = np.concatenate([[key,] * len(test.phases[key].reflections['tth']) for key in test.phases])\n",
    "\n",
    "search_distance = 0.5 # in degrees\n",
    "this_phase = 'Iron-ferrite'\n",
    "\n",
    "plot_map = np.zeros(test.map.map_shape)\n",
    "plot_map[:] = 0\n",
    "\n",
    "for image_index in range(test.map.num_images):\n",
    "    indices = np.unravel_index(image_index, test.map.map_shape)\n",
    "    pixel_df = test.spots[(test.spots['map_x'] == indices[0])\n",
    "                          & (test.spots['map_y'] == indices[1])]\n",
    "    \n",
    "    if len(pixel_df) < 1:\n",
    "        plot_map[indices] = 0\n",
    "    else:\n",
    "        for spot_index in range(len(pixel_df)):\n",
    "            min_arr = np.abs(pot_tth - pixel_df.iloc[spot_index]['guess_cenx'])\n",
    "            #min_arr = np.array([np.abs(x - pot_tth) for x in pixel_df.loc[spot_index, 'fit_x0']])\n",
    "            min_arr[min_arr > search_distance] = np.nan\n",
    "            if np.all(np.isnan(min_arr)):\n",
    "                continue\n",
    "            #min_index = [np.nanargmin(x) if np.any(~np.isnan(x)) else None for x in min_arr]\n",
    "            min_index = np.nanargmin(min_arr)\n",
    "\n",
    "            if pot_phase[min_index] == this_phase:\n",
    "                plot_map[indices] += pixel_df.iloc[spot_index]['guess_int']\n",
    "\n",
    "        #plot_map[indices] = np.sum(pixel_df['guess_int'])\n",
    "        #plot_map[indices] = np.sum(pixel_df['fit_amp'])\n",
    "        #plot_map[indices] = np.mean(pixel_df['fit_x0'])\n",
    "        #plot_map[indices] = len(pixel_df)\n",
    "\n",
    "\n",
    "fig, ax = plt.subplots(1, 1, figsize=(5, 5), dpi=200)\n",
    "\n",
    "im = ax.imshow(plot_map)\n",
    "fig.colorbar(im, ax=ax)\n",
    "ax.set_title(this_phase)\n",
    "\n",
    "plt.show()"
   ]
  },
  {
   "cell_type": "code",
   "execution_count": null,
   "metadata": {},
   "outputs": [],
   "source": [
    "fig, ax = plt.subplots(1, 1, figsize=(5, 5), dpi=200)\n",
    "\n",
    "image = test.map.composite_image\n",
    "\n",
    "tth = test.tth\n",
    "intensity = np.sum(test.map.composite_image, axis=0)\n",
    "pixels = np.sum(test.map.calibration_mask, axis=0)\n",
    "\n",
    "x, bins, _ = ax.hist(test.spots['guess_cenx'].values, bins=2000, weights=test.spots['guess_height'].values, label='spot center', density=True)\n",
    "ax.plot(tth, rescale_array(intensity / pixels, lower=np.min(x), upper=np.max(x)), label='integrated intensity')\n",
    "ax.legend()\n",
    "\n",
    "plt.show()"
   ]
  },
  {
   "cell_type": "code",
   "execution_count": null,
   "metadata": {},
   "outputs": [],
   "source": [
    "fig, ax = plt.subplots(1, 1, figsize=(5, 5), dpi=200)\n",
    "\n",
    "image = test.map.composite_image\n",
    "\n",
    "tth = test.tth\n",
    "intensity = np.sum(test.map.composite_image, axis=0)\n",
    "pixels = np.sum(test.map.calibration_mask, axis=0)\n",
    "\n",
    "x, bins, _ = ax.hist(test.spots['fit_x0'].values, bins=2500, label='spot center', density=True)\n",
    "ax.plot(tth, rescale_array(intensity / pixels, lower=np.min(x), upper=np.max(x)), label='integrated intensity')\n",
    "ax.legend()\n",
    "\n",
    "plt.show()"
   ]
  },
  {
   "cell_type": "code",
   "execution_count": null,
   "metadata": {},
   "outputs": [],
   "source": [
    "fig, ax = plt.subplots(1, 1, figsize=(5, 5), dpi=200)\n",
    "\n",
    "image = test.map.composite_image\n",
    "\n",
    "tth = test.tth\n",
    "x, bins, _ = ax.hist(test.spots['fit_x0'].values, bins=2000, label='fit', range=test.extent[:2], alpha=0.5)\n",
    "x, bins, _ = ax.hist(test.spots['guess_cenx'].values, bins=2000, label='integrated', range=test.extent[:2], alpha=0.5)\n",
    "\n",
    "#ax.plot(tth, rescale_array(intensity / pixels, lower=np.min(x), upper=np.max(x)), label='integrated intensity')\n",
    "ax.legend()\n",
    "\n",
    "plt.show()"
   ]
  },
  {
   "cell_type": "code",
   "execution_count": null,
   "metadata": {},
   "outputs": [],
   "source": [
    "fig, ax = plt.subplots(1, 1, figsize=(5, 5), dpi=200)\n",
    "\n",
    "image = test.map.composite_image\n",
    "bins = 2500\n",
    "\n",
    "guess_val = test.spots['guess_cenx'].values\n",
    "fit_val = test.spots['fit_x0'].values\n",
    "\n",
    "tth = test.tth\n",
    "ext = [np.nanmin([guess_val, fit_val]),\n",
    "       np.nanmax([guess_val, fit_val])]\n",
    "x, bins, _ = ax.hist(fit_val, bins=bins, label='fit', alpha=0.5, range=ext)\n",
    "x, bins, _ = ax.hist(guess_val, bins=bins, label='integrated', alpha=0.5, range=ext)\n",
    "\n",
    "#ax.plot(tth, rescale_array(intensity / pixels, lower=np.min(x), upper=np.max(x)), label='integrated intensity')\n",
    "ax.legend()\n",
    "\n",
    "plt.show()"
   ]
  },
  {
   "cell_type": "code",
   "execution_count": null,
   "metadata": {},
   "outputs": [],
   "source": []
  },
  {
   "cell_type": "code",
   "execution_count": null,
   "metadata": {},
   "outputs": [],
   "source": [
    "thickness = 0.6\n",
    "corrected_tth = test.tth + (thickness * np.sin(np.radians(test.tth)))\n",
    "rad = np.radians(corrected_tth / 2)\n",
    "intensity = np.sum(test.map.composite_image * (np.sin(rad) * np.sin(2 * rad)), axis=0)\n",
    "intensity = np.sum(test.map.composite_image, axis=0)\n",
    "pixels = np.sum((test.map.composite_image != 0), axis=0)\n",
    "phase_vals = phase_selector(intensity / pixels, list(test.phases.values()), corrected_tth)\n",
    "test.map.images = rescale_array(test.map.images, lower=0, upper=100) # Remove negative values. They break spot stats"
   ]
  },
  {
   "cell_type": "code",
   "execution_count": null,
   "metadata": {},
   "outputs": [],
   "source": [
    "bkg_noise = estimate_map_noise(test)"
   ]
  },
  {
   "cell_type": "code",
   "execution_count": null,
   "metadata": {},
   "outputs": [],
   "source": [
    "i = np.random.randint(test.map.map_shape[0])\n",
    "j = np.random.randint(test.map.map_shape[1])\n",
    "\n",
    "out = spot_search(test.map.images[i, j], bkg_noise, multiplier=10, sigma=3, plotme=True)"
   ]
  },
  {
   "cell_type": "code",
   "execution_count": null,
   "metadata": {},
   "outputs": [],
   "source": [
    "test.map.plot_image(test.map.images[i, j] * out[1])"
   ]
  },
  {
   "cell_type": "code",
   "execution_count": null,
   "metadata": {},
   "outputs": [],
   "source": [
    "fig, ax = plt.subplots(1, 1, figsize=(5, 5), dpi=200)\n",
    "\n",
    "bins = 1000\n",
    "key = 'guess_stdy'\n",
    "#ax.hist(stat_dict[key], bins=bins, density=True)\n",
    "ax.hist(stat_dict[key], bins=bins, weights=stat_dict['guess_int'], density=True)\n",
    "\n",
    "plt.show()"
   ]
  },
  {
   "cell_type": "code",
   "execution_count": null,
   "metadata": {},
   "outputs": [],
   "source": [
    "fig, ax = plt.subplots(1, 1, figsize=(5, 5), dpi=200)\n",
    "\n",
    "image = test.map.composite_image\n",
    "\n",
    "tth = test.tth\n",
    "intensity = np.sum(test.map.composite_image, axis=0)\n",
    "pixels = np.sum(test.map.calibration_mask, axis=0)\n",
    "\n",
    "x, bins, _ = ax.hist(stat_dict['guess_cenx'], bins=2000, weights=stat_dict['guess_height'], label='spot center', density=True)\n",
    "ax.plot(tth, rescale_array(intensity / pixels, lower=np.min(x), upper=np.max(x)), label='integrated intensity')\n",
    "ax.legend()\n",
    "\n",
    "plt.show()"
   ]
  },
  {
   "cell_type": "code",
   "execution_count": null,
   "metadata": {},
   "outputs": [],
   "source": [
    "stat_df = pd.DataFrame.from_dict(stat_dict)"
   ]
  },
  {
   "cell_type": "code",
   "execution_count": null,
   "metadata": {},
   "outputs": [],
   "source": [
    "plot_map = np.zeros(test.map.map_shape)\n",
    "\n",
    "for pixel_index in range(test.map.num_images):\n",
    "    indices = np.unravel_index(pixel_index, test.map.map_shape)\n",
    "    pixel_df = stat_df.loc[(stat_df['map_x'] == indices[0]) & (stat_df['map_y'] == indices[1])]\n",
    "\n",
    "    val = np.mean(pixel_df['guess_int'])\n",
    "\n",
    "    plot_map[indices] = val"
   ]
  },
  {
   "cell_type": "code",
   "execution_count": null,
   "metadata": {},
   "outputs": [],
   "source": [
    "fig, ax = plt.subplots(1, 1, figsize=(5, 5), dpi=200)\n",
    "\n",
    "im = ax.imshow(np.array(plot_map).reshape(test.map.images.shape[:2]))\n",
    "fig.colorbar(im, ax=ax)\n",
    "ax.set_title('Total Reflection Intensity')\n",
    "\n",
    "plt.show()"
   ]
  },
  {
   "cell_type": "code",
   "execution_count": null,
   "metadata": {},
   "outputs": [],
   "source": [
    "[test.phases[phase].get_hkl_reflections() for phase in test.phases];"
   ]
  },
  {
   "cell_type": "code",
   "execution_count": null,
   "metadata": {},
   "outputs": [],
   "source": []
  },
  {
   "cell_type": "code",
   "execution_count": null,
   "metadata": {},
   "outputs": [],
   "source": [
    "new_out = [np.asarray(x) for x in stat_list]\n",
    "\n",
    "pot_tth = np.concatenate([test.phases[key].reflections['tth'] for key in test.phases])\n",
    "pot_hkl = np.concatenate([test.phases[key].reflections['hkl'] for key in test.phases])\n",
    "pot_phase = np.concatenate([[key,] * len(test.phases[key].reflections['tth']) for key in test.phases])\n",
    "\n",
    "plot_value = []\n",
    "search_distance = 0.5 # in degrees\n",
    "phase = 'Iron-austenite'\n",
    "\n",
    "for spots in new_out:\n",
    "    if len(spots.shape) > 1:\n",
    "        #val = np.sum(spots[:, 5])\n",
    "        min_arr = np.array([np.abs(x - pot_tth) for x in spots[:, 5]])\n",
    "        min_arr[min_arr > search_distance] = np.nan\n",
    "        min_index = [np.nanargmin(x) if np.any(~np.isnan(x)) else None for x in min_arr]\n",
    "        \n",
    "        val = 0\n",
    "        for spot_idx, index in enumerate(min_index):\n",
    "            if index is None:\n",
    "                continue\n",
    "            else:\n",
    "                #raise Exception\n",
    "                if pot_phase[index] == phase:\n",
    "                    val += spots[spot_idx, -1]\n",
    "        \n",
    "    else:\n",
    "        val = 0\n",
    "    \n",
    "    plot_value.append(val)"
   ]
  },
  {
   "cell_type": "code",
   "execution_count": null,
   "metadata": {},
   "outputs": [],
   "source": [
    "fig, ax = plt.subplots(1, 1, figsize=(5, 5), dpi=200)\n",
    "\n",
    "im = ax.imshow(np.array(plot_value).reshape(test.map.images.shape[:2]))\n",
    "fig.colorbar(im, ax=ax)\n",
    "ax.set_title(f'{phase} Total Intensity')\n",
    "\n",
    "plt.show()"
   ]
  },
  {
   "cell_type": "code",
   "execution_count": null,
   "metadata": {},
   "outputs": [],
   "source": []
  },
  {
   "cell_type": "code",
   "execution_count": null,
   "metadata": {},
   "outputs": [],
   "source": []
  },
  {
   "cell_type": "code",
   "execution_count": null,
   "metadata": {},
   "outputs": [],
   "source": []
  },
  {
   "cell_type": "code",
   "execution_count": null,
   "metadata": {},
   "outputs": [],
   "source": []
  },
  {
   "cell_type": "code",
   "execution_count": null,
   "metadata": {},
   "outputs": [],
   "source": []
  },
  {
   "cell_type": "code",
   "execution_count": null,
   "metadata": {},
   "outputs": [],
   "source": []
  },
  {
   "cell_type": "code",
   "execution_count": null,
   "metadata": {},
   "outputs": [],
   "source": [
    "selected_images = np.median(np.copy(test.map.images[::5, ::5]), axis=(0, 1)) # Randomize for less that certain number of images...\n",
    "bkg_noise = np.std(selected_images[selected_images != 0])\n",
    "\n",
    "i = np.random.randint(test.map.images.shape[0])\n",
    "j = np.random.randint(test.map.images.shape[1])\n",
    "#i, j = 0, 1\n",
    "image = test.map.images[i, j]\n",
    "\n",
    "spot_dict = find_spots(image, bkg_noise,\n",
    "                               multiplier=10, sigma=3,\n",
    "                               tth=test.tth, chi=test.chi, plotme=True)\n",
    "print(len(spot_dict['guess_height']))"
   ]
  },
  {
   "cell_type": "code",
   "execution_count": null,
   "metadata": {},
   "outputs": [],
   "source": [
    "def dask_find_spots(pixel):\n",
    "    spot_dict, mask = find_spots(pixel, bkg_noise,\n",
    "                               multiplier=10, sigma=3,\n",
    "                               tth=test.tth, chi=test.chi)\n",
    "    return spot_dict, mask\n",
    "\n",
    "iterable = test.map.images.reshape(test.map.num_images, len(test.chi), len(test.tth))\n",
    "spot_dict_lst = parallel_loop(dask_find_spots, iterable)"
   ]
  },
  {
   "cell_type": "code",
   "execution_count": null,
   "metadata": {},
   "outputs": [],
   "source": [
    "iterable = test.map.images.reshape(test.map.num_images, len(test.chi), len(test.tth))\n",
    "\n",
    "spot_dict_lst = []\n",
    "mask_lst = []\n",
    "for pixel in iterable:\n",
    "    spot_dict, mask = find_spots(pixel, bkg_noise,\n",
    "                               multiplier=10, sigma=3,\n",
    "                               tth=test.tth, chi=test.chi)\n",
    "    spot_dict_lst.append(spot_dict)\n",
    "    mask_lst.append(mask)"
   ]
  },
  {
   "cell_type": "code",
   "execution_count": null,
   "metadata": {},
   "outputs": [],
   "source": [
    "elements_folder = f'output_tiff_scan2D_{scanid}_xs_sum8ch\\\\'\n",
    "\n",
    "element_maps = {}\n",
    "for element in os.listdir(f'{filedir}{elements_folder}'):\n",
    "    el_im = io.imread(f'{filedir}{elements_folder}{element}')\n",
    "    element_maps[str(element[:-5])] = el_im"
   ]
  },
  {
   "cell_type": "code",
   "execution_count": null,
   "metadata": {},
   "outputs": [],
   "source": [
    "key = 'detsum_Fe_K'\n",
    "#interactive_dynamic_2d_plot(proc_map, range(121), range(121), img_vmin=10, img_vmax=100, display_map=element_maps['detsum_Pt_L'], map_vmin=1e4, map_vmax=1.1e4)\n",
    "interactive_dynamic_2d_plot(test.map.images, range(test.map.images.shape[0]), range(test.map.images.shape[1]), display_map=element_maps[key], display_title=key)"
   ]
  },
  {
   "cell_type": "code",
   "execution_count": null,
   "metadata": {},
   "outputs": [],
   "source": []
  }
 ],
 "metadata": {
  "kernelspec": {
   "display_name": "Python 3",
   "language": "python",
   "name": "python3"
  },
  "language_info": {
   "codemirror_mode": {
    "name": "ipython",
    "version": 3
   },
   "file_extension": ".py",
   "mimetype": "text/x-python",
   "name": "python",
   "nbconvert_exporter": "python",
   "pygments_lexer": "ipython3",
   "version": "3.11.5"
  }
 },
 "nbformat": 4,
 "nbformat_minor": 2
}
