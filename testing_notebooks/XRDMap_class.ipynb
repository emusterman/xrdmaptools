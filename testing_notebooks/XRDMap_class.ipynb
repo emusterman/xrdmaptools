{
 "cells": [
  {
   "cell_type": "code",
   "execution_count": 1,
   "metadata": {},
   "outputs": [],
   "source": [
    "import os\n",
    "import h5py\n",
    "import numpy as np\n",
    "from IPython.lib.deepreload import reload\n",
    "import matplotlib.pyplot as plt\n",
    "from collections import OrderedDict\n",
    "import skimage.io as io\n",
    "from tqdm import tqdm\n",
    "import time as ttime\n",
    "\n",
    "%matplotlib qt"
   ]
  },
  {
   "cell_type": "code",
   "execution_count": 2,
   "metadata": {},
   "outputs": [
    {
     "name": "stderr",
     "output_type": "stream",
     "text": [
      "c:\\Users\\emusterma\\AppData\\Local\\anaconda3\\envs\\sXRDMap-py311-1.0\\Lib\\site-packages\\pyopencl\\cache.py:495: CompilerWarning: Non-empty compiler output encountered. Set the environment variable PYOPENCL_COMPILER_OUTPUT=1 to see more.\n",
      "  _create_built_program_from_source_cached(\n"
     ]
    },
    {
     "name": "stdout",
     "output_type": "stream",
     "text": [
      "Connecting to databrokers...failed.\n"
     ]
    }
   ],
   "source": [
    "import xrdmaptools\n",
    "from xrdmaptools.XRDMap import XRDMap\n",
    "from xrdmaptools.reflections.SpotModels import GaussianFunctions\n",
    "reload(xrdmaptools);"
   ]
  },
  {
   "cell_type": "code",
   "execution_count": 11,
   "metadata": {},
   "outputs": [
    {
     "name": "stderr",
     "output_type": "stream",
     "text": [
      "  0%|          | 41/19656 [00:00<00:36, 539.31it/s]\n"
     ]
    },
    {
     "ename": "IndexError",
     "evalue": "index 41 is out of bounds for axis 1 with size 41",
     "output_type": "error",
     "traceback": [
      "\u001b[1;31m---------------------------------------------------------------------------\u001b[0m",
      "\u001b[1;31mIndexError\u001b[0m                                Traceback (most recent call last)",
      "Cell \u001b[1;32mIn[11], line 22\u001b[0m\n\u001b[0;32m     19\u001b[0m \u001b[38;5;28;01mfor\u001b[39;00m index \u001b[38;5;129;01min\u001b[39;00m tqdm(\u001b[38;5;28mrange\u001b[39m(num_images)):\n\u001b[0;32m     20\u001b[0m     indices \u001b[38;5;241m=\u001b[39m np\u001b[38;5;241m.\u001b[39munravel_index(index, pseudo_map\u001b[38;5;241m.\u001b[39mshape)\n\u001b[1;32m---> 22\u001b[0m     test_image \u001b[38;5;241m=\u001b[39m \u001b[43mtest\u001b[49m\u001b[38;5;241;43m.\u001b[39;49m\u001b[43mmap\u001b[49m\u001b[38;5;241;43m.\u001b[39;49m\u001b[43mimages\u001b[49m\u001b[43m[\u001b[49m\u001b[43mindices\u001b[49m\u001b[43m]\u001b[49m\u001b[38;5;241m.\u001b[39mcopy()\n\u001b[0;32m     23\u001b[0m     test_image \u001b[38;5;241m*\u001b[39m\u001b[38;5;241m=\u001b[39m test\u001b[38;5;241m.\u001b[39mmap\u001b[38;5;241m.\u001b[39mspot_masks[indices]\n\u001b[0;32m     24\u001b[0m     test_image \u001b[38;5;241m*\u001b[39m\u001b[38;5;241m=\u001b[39m tth_mask\n",
      "\u001b[1;31mIndexError\u001b[0m: index 41 is out of bounds for axis 1 with size 41"
     ]
    }
   ],
   "source": [
    "# Does not work as well\n",
    "from skimage.measure import label\n",
    "from xrdmaptools.utilities.utilities import arbitrary_center_of_mass\n",
    "from xrdmaptools.utilities.image_corrections import rescale_array\n",
    "\n",
    "# Based on full blobs\n",
    "pseudo_map = np.empty((91, 216))\n",
    "pseudo_map[:] = np.nan\n",
    "num_images = np.prod(pseudo_map.shape)\n",
    "\n",
    "tth_cen_map = pseudo_map.copy()\n",
    "tth_fwhm_map = pseudo_map.copy()\n",
    "chi_cen_map = pseudo_map.copy()\n",
    "chi_fwhm_map = pseudo_map.copy()\n",
    "\n",
    "tth_range = (34, 35.5)\n",
    "tth_mask = np.all([test.tth_arr > tth_range[0], test.tth_arr < tth_range[-1]], axis=0)\n",
    "\n",
    "for index in tqdm(range(num_images)):\n",
    "    indices = np.unravel_index(index, pseudo_map.shape)\n",
    "\n",
    "    test_image = test.map.images[indices].copy()\n",
    "    test_image *= test.map.spot_masks[indices]\n",
    "    test_image *= tth_mask\n",
    "\n",
    "    if np.sum(test_image) == 0:\n",
    "        tth_cen_map[indices] = 0\n",
    "        tth_fwhm_map[indices] = 0\n",
    "        chi_cen_map[indices] = 0\n",
    "        chi_fwhm_map[indices] = 0\n",
    "        continue\n",
    "\n",
    "    else:\n",
    "        #cen = arbitrary_center_of_mass(test_image.flatten(), test.tth_arr.flatten(), test.chi_arr.flatten())\n",
    "\n",
    "        center = arbitrary_center_of_mass(test_image, test.tth_arr, test.chi_arr)\n",
    "\n",
    "        aweights = rescale_array(test_image, lower=0, upper=1).flatten()\n",
    "        std_tth = np.sqrt(np.cov(test.tth_arr.flatten(),\n",
    "                                    aweights=aweights))\n",
    "        fwhm_tth = std_tth * 2 * np.sqrt(2 * np.log(2))\n",
    "        \n",
    "        std_chi = np.sqrt(np.cov(test.chi_arr.flatten(),\n",
    "                                    aweights=aweights))\n",
    "        fwhm_chi = std_chi * 2 * np.sqrt(2 * np.log(2))\n",
    "\n",
    "        tth_cen_map[indices] = center[0]\n",
    "        tth_fwhm_map[indices] = fwhm_tth\n",
    "        chi_cen_map[indices] = center[1]\n",
    "        chi_fwhm_map[indices] = fwhm_chi\n",
    "\n",
    "    pseudo_map[indices] = val"
   ]
  },
  {
   "cell_type": "code",
   "execution_count": null,
   "metadata": {},
   "outputs": [],
   "source": [
    "test.plot_map(tth_fwhm_map)"
   ]
  },
  {
   "cell_type": "code",
   "execution_count": null,
   "metadata": {},
   "outputs": [],
   "source": [
    "test.plot_image(test_image)"
   ]
  },
  {
   "cell_type": "code",
   "execution_count": null,
   "metadata": {},
   "outputs": [],
   "source": [
    "tth_range = (34, 35.5)\n",
    "tth_mask = np.all([test.tth_arr > tth_range[0], test.tth_arr < tth_range[-1]], axis=0)"
   ]
  },
  {
   "cell_type": "code",
   "execution_count": null,
   "metadata": {},
   "outputs": [],
   "source": [
    "test.plot_image(test.map.images[21, 172] * (tth_mask * test.map.spot_masks[21, 172]))"
   ]
  },
  {
   "cell_type": "code",
   "execution_count": null,
   "metadata": {},
   "outputs": [],
   "source": [
    "test.plot_map(test.map.sum_map)"
   ]
  },
  {
   "cell_type": "code",
   "execution_count": null,
   "metadata": {},
   "outputs": [
    {
     "name": "stderr",
     "output_type": "stream",
     "text": [
      "100%|██████████| 19656/19656 [01:11<00:00, 275.04it/s]\n"
     ]
    }
   ],
   "source": [
    "# Based on spots\n",
    "pseudo_map = np.empty((91, 216))\n",
    "pseudo_map[:] = np.nan\n",
    "num_images = np.prod(pseudo_map.shape)\n",
    "\n",
    "tth_range = (34.5, 35)\n",
    "\n",
    "for index in tqdm(range(num_images)):\n",
    "    indices = np.unravel_index(index, pseudo_map.shape)\n",
    "\n",
    "    pixel_spots = test.spots[(test.spots['map_x'] == indices[0])\n",
    "                        & (test.spots['map_y'] == indices[1])]\n",
    "    \n",
    "    if len(pixel_spots['guess_int']) > 1:\n",
    "        tth_mask = np.all([pixel_spots['guess_cen_tth'] > tth_range[0], pixel_spots['guess_cen_tth'] < tth_range[1]], axis=0)\n",
    "        if np.sum(tth_mask) < 1:\n",
    "            continue\n",
    "\n",
    "        index = np.argmax(pixel_spots['guess_int'][tth_mask])\n",
    "        \n",
    "        val = pixel_spots[tth_mask].iloc[index]['guess_cen_tth']\n",
    "    else:\n",
    "        continue\n",
    "\n",
    "    pseudo_map[indices] = val"
   ]
  },
  {
   "cell_type": "code",
   "execution_count": null,
   "metadata": {},
   "outputs": [],
   "source": [
    "fig, ax = plt.subplots(1, 1, figsize=(5, 5), dpi=200)\n",
    "\n",
    "im = ax.imshow(pseudo_map)\n",
    "fig.colorbar(im, ax=ax)\n",
    "\n",
    "fig.show()"
   ]
  },
  {
   "cell_type": "code",
   "execution_count": null,
   "metadata": {},
   "outputs": [],
   "source": [
    "test.plot_interactive_map(display_map=pseudo_map, img_vmin=0, img_vmax=1, map_vmin=34.575, map_vmax=34.86)"
   ]
  },
  {
   "cell_type": "code",
   "execution_count": null,
   "metadata": {},
   "outputs": [],
   "source": []
  },
  {
   "cell_type": "code",
   "execution_count": null,
   "metadata": {},
   "outputs": [],
   "source": [
    "from xrdmaptools.utilities.utilities import delta_array\n",
    "\n",
    "chi_step = 0.1\n",
    "tth_range = (27, 31)\n",
    "\n",
    "tth_mask = np.all([test.tth_arr > tth_range[0], test.tth_arr < tth_range[1]], axis=0)\n",
    "test_image = test.map.images[21, 172].copy()\n",
    "test_image *= tth_mask\n",
    "\n",
    "\n",
    "chi_arr = test.chi_arr.copy()\n",
    "\n",
    "max_chi = np.max(np.abs(chi_arr))\n",
    "delta_chi = delta_array(chi_arr)\n",
    "\n",
    "# Modular shift values if there is a discontinuity\n",
    "if np.max(delta_chi) > max_chi:\n",
    "    if max_chi > np.pi:\n",
    "        shift_value = 2 * 180\n",
    "    else:\n",
    "        shift_value = 2 * np.pi\n",
    "\n",
    "    chi_arr[chi_arr < 0] += shift_value\n",
    "\n",
    "chi = np.arange(np.min(chi_arr), np.max(chi_arr), chi_step)\n",
    "\n",
    "\n",
    "xrd_sum_list = []\n",
    "xrd_num_list = []\n",
    "xrd_max_list = []\n",
    "xrd_mean_list = []\n",
    "\n",
    "for chi_i in chi:    \n",
    "    chi_mask = np.all([chi_arr > chi_i - chi_step / 2,\n",
    "                       chi_arr < chi_i + chi_step / 2], axis=0)\n",
    "    \n",
    "    xrd_num = np.sum(chi_mask)\n",
    "    if xrd_num > 0:\n",
    "        xrd_max = np.max(test_image[chi_mask])\n",
    "        xrd_sum = np.sum(test_image[chi_mask])\n",
    "    else:\n",
    "        xrd_max = 0\n",
    "        xrd_sum = 0\n",
    "    \n",
    "\n",
    "    xrd_sum_list.append(xrd_sum)\n",
    "    xrd_num_list.append(xrd_num)\n",
    "    xrd_max_list.append(xrd_max)\n",
    "    xrd_mean_list.append(xrd_sum / xrd_num)"
   ]
  },
  {
   "cell_type": "code",
   "execution_count": null,
   "metadata": {},
   "outputs": [],
   "source": [
    "fig, ax = plt.subplots(1, 1, figsize=(5, 5), dpi=200)\n",
    "\n",
    "ax.plot(chi, xrd_max_list)\n",
    "\n",
    "fig.show()"
   ]
  },
  {
   "cell_type": "code",
   "execution_count": null,
   "metadata": {},
   "outputs": [
    {
     "name": "stdout",
     "output_type": "stream",
     "text": [
      "XU.materials: Warning: element O used instead of O-2\n",
      "XU.materials: Warning: element Nb used instead of Nb+5\n",
      "XU.materials: Warning: element Li used instead of Li+1\n"
     ]
    }
   ],
   "source": [
    "cif_dir = 'C:\\\\Users\\\\emusterma\\\\OneDrive - Brookhaven National Laboratory\\\\Documents\\\\Postdoc\\\\Literature\\\\CIF\\\\'\n",
    "test.load_phase('Unknown\\\\LiNbO3.cif', filedir=cif_dir, phase_name=\"LiNbO3 new\")\n",
    "test.load_phase('Barker\\\\1521772COD.cif', filedir=cif_dir, phase_name=\"LiNbO3 161\")\n",
    "test.load_phase('Barker\\\\LiNbO3.cif', filedir=cif_dir, phase_name=\"LiNbO3 148\")"
   ]
  },
  {
   "cell_type": "code",
   "execution_count": null,
   "metadata": {},
   "outputs": [],
   "source": []
  },
  {
   "cell_type": "code",
   "execution_count": 3,
   "metadata": {},
   "outputs": [
    {
     "name": "stdout",
     "output_type": "stream",
     "text": [
      "Loading data from hdf file...\n",
      "Loading most recent images (final_images)...done!\n",
      "Loading most recent integrations (final_images_integrations)...done!\n",
      "Loading reciprocal positions...done!\n",
      "Loading scalers...done!\n",
      "Loading positions...done!\n",
      "Loading reflection spots...done!\n",
      "Instantiating ImageMap...done!\n",
      "Setting detector calibration...\n",
      "XRD Map loaded!\n"
     ]
    }
   ],
   "source": [
    "scanid = 153126\n",
    "scanid = 153076\n",
    "scanid = 153076\n",
    "#scanid = 153248\n",
    "\n",
    "filedir = 'D:\\\\Musterman_postdoc\\\\20240223_Musterman\\\\testing_maps\\\\'\n",
    "#filedir = 'C:\\\\Users\\\\emusterma\\OneDrive - Brookhaven National Laboratory\\\\Documents\\\\Postdoc\\\\Data\\\\Condensed datasets\\\\'\n",
    "map_filename = f'scan{scanid}_dexela_xrd.tif'\n",
    "h5_filename = f'scan{scanid}_xrd.h5'\n",
    "\n",
    "try:\n",
    "    test = XRDMap.from_hdf(h5_filename, wd=filedir, save_hdf=True)\n",
    "except FileNotFoundError:\n",
    "    test = XRDMap.from_image_stack(map_filename, wd=filedir, energy=15, scanid=scanid, save_hdf=True)"
   ]
  },
  {
   "cell_type": "code",
   "execution_count": 10,
   "metadata": {},
   "outputs": [],
   "source": [
    "base = 'D:\\\\Musterman_postdoc\\\\20240223_Musterman\\\\'\n",
    "xrf_dir = f'{base}xrf_maps\\\\'\n",
    "\n",
    "test.load_xrfmap(xrf_dir=xrf_dir)"
   ]
  },
  {
   "cell_type": "code",
   "execution_count": 21,
   "metadata": {},
   "outputs": [],
   "source": [
    "test.plot_image([79, 33], spots=True)"
   ]
  },
  {
   "cell_type": "code",
   "execution_count": 12,
   "metadata": {},
   "outputs": [],
   "source": [
    "plot_xrf = test.xrf['data'][:, :, :2048].copy()\n",
    "plot_xrf[plot_xrf < 1e-3] = 1e-3\n",
    "plot_xrf = np.log(plot_xrf)\n",
    "\n",
    "test.plot_interactive_integration_map(plot_xrf, plot_min=0)"
   ]
  },
  {
   "cell_type": "code",
   "execution_count": 54,
   "metadata": {},
   "outputs": [],
   "source": [
    "plot_xrf = test.map.integrations.copy()\n",
    "plot_xrf[plot_xrf < 1e-3] = 1e-3\n",
    "plot_xrf = np.log(plot_xrf)\n",
    "\n",
    "test.plot_interactive_integration_map(plot_xrf, display_map=test.map.max_map, map_vmin=0, map_vmax=1)"
   ]
  },
  {
   "cell_type": "code",
   "execution_count": 40,
   "metadata": {},
   "outputs": [],
   "source": [
    "glass = np.mean(test.map.images[22:70, 5:25], axis=(0, 1)) - np.mean(test.map.images[1:70, 2:13], axis=(0, 1))"
   ]
  },
  {
   "cell_type": "code",
   "execution_count": 41,
   "metadata": {},
   "outputs": [],
   "source": [
    "test.plot_image(glass)"
   ]
  },
  {
   "cell_type": "code",
   "execution_count": 49,
   "metadata": {},
   "outputs": [],
   "source": [
    "tth, integration = test.integrate1d_image(np.max(test.map.images[22:70, 5:25], axis=(0, 1)))"
   ]
  },
  {
   "cell_type": "code",
   "execution_count": 50,
   "metadata": {},
   "outputs": [],
   "source": [
    "test.plot_integration(integration, tth=tth)"
   ]
  },
  {
   "cell_type": "code",
   "execution_count": null,
   "metadata": {},
   "outputs": [],
   "source": [
    "test.plot_interactive_integration_map(test.xrf['data'][:, :, 2048])"
   ]
  },
  {
   "cell_type": "code",
   "execution_count": 79,
   "metadata": {},
   "outputs": [
    {
     "data": {
      "text/plain": [
       "'D:\\\\Musterman_postdoc\\\\20240223_Musterman\\\\testing_maps\\\\scan153076_h5'"
      ]
     },
     "execution_count": 79,
     "metadata": {},
     "output_type": "execute_result"
    }
   ],
   "source": [
    "os.path.join(os.path.normpath('D:/Musterman_postdoc/20240223_Musterman\\\\testing_maps'), 'scan153076_h5')"
   ]
  },
  {
   "cell_type": "code",
   "execution_count": 80,
   "metadata": {},
   "outputs": [
    {
     "data": {
      "text/plain": [
       "('D:\\\\Musterman_postdoc\\\\20240223_Musterman\\\\testing_maps\\\\scan153076_xrd',\n",
       " '.h5')"
      ]
     },
     "execution_count": 80,
     "metadata": {},
     "output_type": "execute_result"
    }
   ],
   "source": [
    "os.path.splitext('D:\\\\Musterman_postdoc\\\\20240223_Musterman\\\\testing_maps\\\\scan153076_xrd.h5')"
   ]
  },
  {
   "cell_type": "code",
   "execution_count": 55,
   "metadata": {},
   "outputs": [
    {
     "data": {
      "text/plain": [
       "'D:\\\\Musterman_postdoc\\\\20240223_Musterman\\\\testing_maps\\\\scan153076_xrd.h5'"
      ]
     },
     "execution_count": 55,
     "metadata": {},
     "output_type": "execute_result"
    }
   ],
   "source": [
    "test.hdf_path"
   ]
  },
  {
   "cell_type": "code",
   "execution_count": 122,
   "metadata": {},
   "outputs": [
    {
     "data": {
      "text/plain": [
       "(81, 41, 4096)"
      ]
     },
     "execution_count": 122,
     "metadata": {},
     "output_type": "execute_result"
    }
   ],
   "source": [
    "test.xrf['data'].shape"
   ]
  },
  {
   "cell_type": "code",
   "execution_count": 121,
   "metadata": {},
   "outputs": [
    {
     "data": {
      "text/plain": [
       "(81, 41, 3086)"
      ]
     },
     "execution_count": 121,
     "metadata": {},
     "output_type": "execute_result"
    }
   ],
   "source": [
    "test.map.integrations.shape"
   ]
  },
  {
   "cell_type": "code",
   "execution_count": 15,
   "metadata": {},
   "outputs": [],
   "source": [
    "#from xrdmaptools.plot.general import _parse_xrdmap\n",
    "\n",
    "\n",
    "out = _parse_xrdmap(test, [10, 32])"
   ]
  },
  {
   "cell_type": "code",
   "execution_count": null,
   "metadata": {},
   "outputs": [],
   "source": []
  },
  {
   "cell_type": "code",
   "execution_count": null,
   "metadata": {},
   "outputs": [],
   "source": []
  },
  {
   "cell_type": "code",
   "execution_count": null,
   "metadata": {},
   "outputs": [
    {
     "name": "stdout",
     "output_type": "stream",
     "text": [
      "Loading data from hdf file...\n",
      "Loading most recent images (raw_images)...done!\n",
      "Loading scalers...done!\n",
      "Loading positions...done!\n",
      "Instantiating ImageMap...done!\n",
      "XRD Map loaded!\n"
     ]
    }
   ],
   "source": [
    "scanid = 153126\n",
    "\n",
    "filedir = '''D:\\\\Musterman_postdoc\\\\20240223_Musterman\\\\xrd_maps\\\\'''\n",
    "map_filename = f'scan{scanid}_dexela_xrd.tif'\n",
    "h5_filename = f'scan{scanid}_xrd.h5'\n",
    "\n",
    "try:\n",
    "    test = XRDMap.from_hdf(h5_filename, wd=filedir, save_hdf=False)\n",
    "except FileNotFoundError:\n",
    "    test = XRDMap.from_image_stack(map_filename, wd=filedir, energy=15, scanid=scanid, save_hdf=False)"
   ]
  },
  {
   "cell_type": "code",
   "execution_count": null,
   "metadata": {},
   "outputs": [],
   "source": [
    "test.plot_interactive_map(display_map=test.map.max_map, img_vmin=0, img_vmax=1e3)"
   ]
  },
  {
   "cell_type": "code",
   "execution_count": null,
   "metadata": {},
   "outputs": [],
   "source": []
  },
  {
   "cell_type": "code",
   "execution_count": null,
   "metadata": {},
   "outputs": [],
   "source": []
  },
  {
   "cell_type": "code",
   "execution_count": null,
   "metadata": {},
   "outputs": [
    {
     "name": "stdout",
     "output_type": "stream",
     "text": [
      "Setting detector calibration...\n"
     ]
    }
   ],
   "source": [
    "filedir = 'D:\\\\Musterman_postdoc\\\\20240223_Musterman\\\\calibrations\\\\new\\\\'\n",
    "\n",
    "test.set_calibration('scan153043_dexela_calibration.poni', filedir=filedir)\n",
    "#test.set_calibration('scan153220_dexela_calibration_ext.poni', filedir=filedir)"
   ]
  },
  {
   "cell_type": "code",
   "execution_count": null,
   "metadata": {},
   "outputs": [],
   "source": [
    "test.plot_image(test.tth_arr)"
   ]
  },
  {
   "cell_type": "code",
   "execution_count": null,
   "metadata": {},
   "outputs": [],
   "source": []
  },
  {
   "cell_type": "code",
   "execution_count": null,
   "metadata": {},
   "outputs": [
    {
     "name": "stdout",
     "output_type": "stream",
     "text": [
      "Correcting dark-field...done!\n"
     ]
    }
   ],
   "source": [
    "dark_field = io.imread(f'{filedir}dexela_df_avg.tif')\n",
    "scaled_df = np.median(test.map.images) * dark_field / np.median(dark_field)\n",
    "test.map.correct_dark_field(dark_field=scaled_df)"
   ]
  },
  {
   "cell_type": "code",
   "execution_count": null,
   "metadata": {},
   "outputs": [
    {
     "name": "stdout",
     "output_type": "stream",
     "text": [
      "Correcting dark-field...done!\n"
     ]
    }
   ],
   "source": [
    "dark_id = 153074\n",
    "#dark_id = 153086\n",
    "\n",
    "dark_dir = 'D:\\\\Musterman_postdoc\\\\20240223_Musterman\\\\dark_fields\\\\'\n",
    "dir_mask = [str(dark_id) in d for d in os.listdir(dark_dir)]\n",
    "\n",
    "dark_field = io.imread(f'{dark_dir}{np.array(os.listdir(dark_dir))[dir_mask][0]}').astype(np.float32)\n",
    "test.map.correct_dark_field(dark_field=dark_field)"
   ]
  },
  {
   "cell_type": "code",
   "execution_count": null,
   "metadata": {},
   "outputs": [
    {
     "name": "stdout",
     "output_type": "stream",
     "text": [
      "Normalize image by input scaler...done!\n"
     ]
    }
   ],
   "source": [
    "sclr_arr = test.map.med_map\n",
    "sclr_arr -= np.min(sclr_arr)\n",
    "sclr_arr += np.mean(sclr_arr)\n",
    "test.map.normalize_scaler(scaler_arr = sclr_arr)"
   ]
  },
  {
   "cell_type": "code",
   "execution_count": null,
   "metadata": {},
   "outputs": [],
   "source": []
  },
  {
   "cell_type": "code",
   "execution_count": null,
   "metadata": {},
   "outputs": [
    {
     "name": "stdout",
     "output_type": "stream",
     "text": [
      "Normalize image by i0 scaler...done!\n"
     ]
    }
   ],
   "source": [
    "#test.map.correct_outliers()\n",
    "test.map.normalize_scaler()"
   ]
  },
  {
   "cell_type": "code",
   "execution_count": null,
   "metadata": {},
   "outputs": [
    {
     "name": "stdout",
     "output_type": "stream",
     "text": [
      "Applying X-ray polarization correction...done!\n",
      "Applying solid angle correction...done!\n"
     ]
    }
   ],
   "source": [
    "test.map.apply_polarization_correction()\n",
    "test.map.apply_solidangle_correction()"
   ]
  },
  {
   "cell_type": "code",
   "execution_count": null,
   "metadata": {},
   "outputs": [],
   "source": [
    "from xrdmaptools.utilities.utilities import delta_array\n",
    "omega = 4 * np.arcsin(np.sin(np.radians(test.delta_tth / 2)) * np.sin(np.radians(test.delta_chi / 2)))\n",
    "\n",
    "#test.map.images /= (omega * np.sin(np.radians(test.tth_arr)))\n",
    "test.map.images /= (omega)\n",
    "test.map.corrections['lorentz'] = True"
   ]
  },
  {
   "cell_type": "code",
   "execution_count": null,
   "metadata": {},
   "outputs": [
    {
     "data": {
      "text/plain": [
       "{'absorption': False,\n",
       " 'background': False,\n",
       " 'dark_field': True,\n",
       " 'flat_field': False,\n",
       " 'lorentz': True,\n",
       " 'outliers': False,\n",
       " 'pixel_defects': False,\n",
       " 'pixel_distortions': False,\n",
       " 'polar_calibration': False,\n",
       " 'polarization': True,\n",
       " 'scaler_intensity': True,\n",
       " 'solid_angle': True}"
      ]
     },
     "execution_count": 9,
     "metadata": {},
     "output_type": "execute_result"
    }
   ],
   "source": [
    "test.map.corrections"
   ]
  },
  {
   "cell_type": "code",
   "execution_count": null,
   "metadata": {},
   "outputs": [],
   "source": [
    "test.map.rescale_images(arr_min=0, upper=100, lower=0)"
   ]
  },
  {
   "cell_type": "code",
   "execution_count": null,
   "metadata": {},
   "outputs": [],
   "source": [
    "test.plot_interactive_map(display_map=test.map.sum_map, map_vmin=6e3, img_vmin=0, img_vmax=0.1)"
   ]
  },
  {
   "cell_type": "code",
   "execution_count": 25,
   "metadata": {},
   "outputs": [],
   "source": [
    "base = 'D:\\\\Musterman_postdoc\\\\20240223_Musterman\\\\'\n",
    "xrf_dir = f'{base}xrf_maps\\\\'\n",
    "\n",
    "with h5py.File(f'{xrf_dir}scan2D_{test.scanid}_xs_sum8ch.h5', 'r') as f:\n",
    "\n",
    "    xrf_fit_names = [d.decode('utf-8') for d in f['xrfmap/detsum/xrf_fit_name'][:]]\n",
    "    xrf_fit = f['xrfmap/detsum/xrf_fit'][:]\n",
    "\n",
    "    i0 = f['xrfmap/scalers/val'][..., 0]\n",
    "    xrf_fit = np.concatenate((xrf_fit, np.expand_dims(i0, axis=0)), axis=0)\n",
    "    xrf_fit = np.transpose(xrf_fit, axes=(0, 2, 1))\n",
    "    xrf_fit_names.append('i0')\n",
    "\n",
    "    xrf_dict = dict(zip(xrf_fit_names, xrf_fit))\n",
    "\n",
    "    \n",
    "    xrfmap = f['xrfmap/detsum/counts'][:]\n",
    "    xrf_energy = f['xrfmap/scan_metadata'].attrs['instrument_mono_incident_energy']\n",
    "    \n",
    "#xrf_energy = np.arange(xrfmap.shape[-1]) / 100"
   ]
  },
  {
   "cell_type": "code",
   "execution_count": 26,
   "metadata": {},
   "outputs": [
    {
     "data": {
      "text/plain": [
       "20.0"
      ]
     },
     "execution_count": 26,
     "metadata": {},
     "output_type": "execute_result"
    }
   ],
   "source": [
    "xrf_energy"
   ]
  },
  {
   "cell_type": "code",
   "execution_count": null,
   "metadata": {},
   "outputs": [],
   "source": [
    "fig, ax = plt.subplots(1, 1, figsize=(5, 5), dpi=200)\n",
    "\n",
    "ax.plot(xrf_energy, np.mean(xrfmap[10:21, 28:29], axis=(0, 1)))\n",
    "ax.set_yscale('log')\n",
    "\n",
    "ax.set_xlim(0, 20.5)\n",
    "ax.set_ylim(1e-0)\n",
    "\n",
    "ax.set_xlabel('Energy [keV]')\n",
    "ax.set_ylabel('Intensity [a.u.]')\n",
    "\n",
    "fig.show()"
   ]
  },
  {
   "cell_type": "code",
   "execution_count": null,
   "metadata": {},
   "outputs": [
    {
     "name": "stdout",
     "output_type": "stream",
     "text": [
      "Caution: Images not corrected for:\n",
      "\tabsorption\n",
      "\tbackground\n",
      "\tflat_field\n",
      "\toutliers\n",
      "\tpixel_defects\n",
      "\tpixel_distortions\n",
      "\tpolar_calibration\n",
      "Cleaning and updating image information...\n",
      "Diffraction map size is 4.618 GB.\n",
      "Compressing and writing images to disk.\n",
      "This may take awhile...\n",
      "done!\n"
     ]
    }
   ],
   "source": [
    "test.map.finalize_images()"
   ]
  },
  {
   "cell_type": "code",
   "execution_count": null,
   "metadata": {},
   "outputs": [
    {
     "name": "stdout",
     "output_type": "stream",
     "text": [
      "Integrated images to 1D..."
     ]
    },
    {
     "name": "stderr",
     "output_type": "stream",
     "text": [
      "100%|██████████| 3321/3321 [01:15<00:00, 44.12it/s]\n"
     ]
    }
   ],
   "source": [
    "test.integrate1d_map()"
   ]
  },
  {
   "cell_type": "code",
   "execution_count": null,
   "metadata": {},
   "outputs": [],
   "source": [
    "from xrdmaptools.utilities.math import tth_2_d, d_2_tth, energy_2_wavelength, tth_2_q, q_2_tth\n",
    "from xrdmaptools.reflections.SpotModels import GaussianFunctions, LorentzianFunctions\n",
    "from itertools import permutations\n",
    "from itertools import product\n",
    "\n",
    "\n",
    "\n",
    "# Re-write for the crystal class...\n",
    "def metric_tensor(a, b, c, alpha, beta, gamma):\n",
    "    A = a**2\n",
    "    B = b**2\n",
    "    C = c**2\n",
    "    D = 2 * b * c * np.cos(alpha)\n",
    "    E = 2 * a * c * np.cos(beta)\n",
    "    F = 2 * a * b * np.cos(gamma)\n",
    "    return (A, B, C, D, E, F)\n",
    "\n",
    "def S_tensor(a, b, c, alpha, beta, gamma):\n",
    "    V = a * b * c * np.sqrt(1\n",
    "                            - np.cos(alpha)**2\n",
    "                            - np.cos(beta)**2\n",
    "                            - np.cos(gamma)**2\n",
    "                            - 2 * np.cos(alpha) * np.cos(beta) * np.cos(gamma))\n",
    "    S11 = b**2 * c**2 * np.sin(alpha)**2\n",
    "    S22 = a**2 * c**2 * np.sin(beta)**2\n",
    "    S33 = a**2 * b**2 * np.sin(gamma)**2\n",
    "    S12 = a * b * c**2 * (np.cos(alpha) * np.cos(beta) - np.cos(gamma))\n",
    "    S23 = a**2 * b * c * (np.cos(beta) * np.cos(gamma) - np.cos(alpha))\n",
    "    S13 = a * b**2 * c * (np.cos(gamma) * np.cos(alpha) - np.cos(beta))\n",
    "\n",
    "    return (V, S11, S22, S33, S12, S23, S13)\n",
    "\n",
    "\n",
    "def hkl_2_d(hkls, a, b, c, alpha, beta, gamma):\n",
    "    VS = np.round(S_tensor(a, b, c, alpha, beta, gamma), 8)\n",
    "\n",
    "    d_list = []\n",
    "    for hkl in hkls:\n",
    "        h, k, l = hkl\n",
    "        d = VS[0] * (VS[1] * (h**2)\n",
    "                     + VS[2] * (k**2)\n",
    "                     + VS[3] * (l**2)\n",
    "                     + VS[4] * (h * k) * 2\n",
    "                     + VS[5] * (k * l) * 2\n",
    "                     + VS[6] * (h * l * 2)\n",
    "                     )**(-0.5)\n",
    "        \n",
    "        d_list.append(d)\n",
    "    \n",
    "    return np.array(d_list)\n",
    "\n",
    "\n",
    "def d_spacings(q_range, a, b, c, alpha, beta, gamma):\n",
    "    q_min, q_max = q_range\n",
    "    \n",
    "    possible_hkls = list(product(range(10), repeat=3))[1:]\n",
    "\n",
    "    VS = np.round(S_tensor(a, b, c, alpha, beta, gamma), 8)\n",
    "\n",
    "    d_list = []\n",
    "    for hkl in possible_hkls:\n",
    "        h, k, l = hkl\n",
    "        d = VS[0] * (VS[1] * (h**2)\n",
    "                     + VS[2] * (k**2)\n",
    "                     + VS[3] * (l**2)\n",
    "                     + VS[4] * (h * k) * 2\n",
    "                     + VS[5] * (k * l) * 2\n",
    "                     + VS[6] * (h * l * 2)\n",
    "                     )**(-0.5)\n",
    "        \n",
    "        if 2 * np.pi / d < q_min:\n",
    "            continue\n",
    "        elif 2 * np.pi / d > q_max:\n",
    "            continue\n",
    "        else:\n",
    "            d_list.append(d)\n",
    "    \n",
    "    d_list = np.unique(np.round(d_list, 8))\n",
    "        \n",
    "    return sorted(d_list, reverse=True)\n",
    "\n",
    "\n",
    "def pattern_estimate_guess(tth, intensity, a, b, c, alpha, beta, gamma, wavelength=test.wavelength, window=20):\n",
    "    q = tth_2_q(tth, wavelength=wavelength)\n",
    "    q[np.isnan(q)] = 0\n",
    "    q_range = [np.min(q), np.max(q)]\n",
    "\n",
    "    d = d_spacings(q_range, a, b, c, alpha, beta, gamma)\n",
    "    q_cen = 2 * np.pi / np.array(d)\n",
    "\n",
    "    args = []\n",
    "    for i in range(len(q_cen)):\n",
    "        cen_idx = np.argmin(np.abs(q - q_cen[i]))\n",
    "        amp = intensity[cen_idx]\n",
    "        q_vals = q[cen_idx - window : cen_idx + window]\n",
    "        int_vals = intensity[cen_idx - window : cen_idx + window]\n",
    "        std_tth = np.sqrt(np.cov(q_vals, aweights=int_vals))\n",
    "        fwhm = std_tth * 2 * np.sqrt(2 * np.log(2))\n",
    "\n",
    "        args.extend([\n",
    "            amp,\n",
    "            fwhm\n",
    "        ]) \n",
    "    \n",
    "    return args\n",
    "\n",
    "\n",
    "def pattern_estimate(tth, *args, wavelength=test.wavelength):\n",
    "    a, b, c, alpha, beta, gamma = args[:6]\n",
    "    int_fwhm = args[6:]\n",
    "    \n",
    "    q = tth_2_q(tth, wavelength=wavelength)\n",
    "    q[np.isnan(q)] = 0\n",
    "    q_range = [np.min(q), np.max(q)]\n",
    "\n",
    "    d = d_spacings(q_range, a, b, c, alpha, beta, gamma)\n",
    "    q_cen = 2 * np.pi / np.array(d)\n",
    "\n",
    "    args = [0]\n",
    "    for i in range(len(q_cen)):\n",
    "        args.extend([\n",
    "            int_fwhm[::2][i],\n",
    "            q_cen[i],\n",
    "            int_fwhm[1::2][i]\n",
    "        ])\n",
    "\n",
    "    intensity = LorentzianFunctions.multi_1d(q, *args)\n",
    "\n",
    "    return intensity\n",
    "\n",
    "\n",
    "def pattern_estimate_from_phase_guess(tth, intensity, window=20):\n",
    "    phases = [test.phases['304SS-austenite'],\n",
    "              test.phases['platinum'],\n",
    "              test.phases['tungsten_2']]\n",
    "\n",
    "    q = tth_2_q(tth, wavelength=test.wavelength)\n",
    "    q[np.isnan(q)] = 0\n",
    "\n",
    "    d = []\n",
    "    for phase in phases:\n",
    "        lattice_params = list(phase.lattice._parameters.values())\n",
    "        lattice_params[3:] = np.radians(lattice_params[3:])\n",
    "\n",
    "        d.extend(hkl_2_d(phase.reflections['hkl'],\n",
    "                         *lattice_params))\n",
    "\n",
    "    q_cen = 2 * np.pi / np.array(d)\n",
    "\n",
    "    args = [np.min(intensity[20:-20])]\n",
    "    for i in range(len(q_cen)):\n",
    "        cen_idx = np.argmin(np.abs(q - q_cen[i]))\n",
    "        amp = intensity[cen_idx] - np.min(intensity)\n",
    "        \n",
    "        q_vals = q[cen_idx - window : cen_idx + window]\n",
    "        int_vals = intensity[cen_idx - window : cen_idx + window]\n",
    "        int_vals[int_vals < 0] = 0\n",
    "        \n",
    "        std_tth = np.sqrt(np.cov(q_vals, aweights=int_vals))\n",
    "        fwhm = std_tth * 2 * np.sqrt(2 * np.log(2))\n",
    "\n",
    "        args.extend([\n",
    "            amp,\n",
    "            fwhm\n",
    "        ])\n",
    "\n",
    "    return args\n",
    "\n",
    "\n",
    "def pattern_estimate_from_phase(tth, *args):\n",
    "    phases = [test.phases['304SS-austenite'],\n",
    "              test.phases['platinum'],\n",
    "              test.phases['tungsten_2']]\n",
    "    lattice_params = np.array(args[:6 * len(phases)]).reshape(-1, 6)\n",
    "    offset = args[6 * len(phases)]\n",
    "    int_fwhm = args[6 * len(phases) + 1:]\n",
    "\n",
    "    q = tth_2_q(tth, wavelength=test.wavelength)\n",
    "    q[np.isnan(q)] = 0\n",
    "\n",
    "    d = []\n",
    "    for i, phase in enumerate(phases):\n",
    "        d.extend(hkl_2_d(phase.reflections['hkl'],\n",
    "                         *lattice_params[i]))\n",
    "    \n",
    "    q_cen = 2 * np.pi / np.array(d)\n",
    "\n",
    "    args = [offset]\n",
    "    for i in range(len(q_cen)):\n",
    "        args.extend([\n",
    "            int_fwhm[::2][i],\n",
    "            q_cen[i],\n",
    "            int_fwhm[1::2][i]\n",
    "        ])\n",
    "\n",
    "    intensity = LorentzianFunctions.multi_1d(q, *args)\n",
    "\n",
    "    return intensity\n",
    "\n",
    "def generate_bounds(phases, args):\n",
    "\n",
    "    lattice_params = np.array(args[:6 * len(phases)]).reshape(-1, 6)\n",
    "    offset = args[6 * len(phases)]\n",
    "    int_fwhm = args[6 * len(phases) + 1:]\n",
    "\n",
    "    low_bounds, upr_bounds = [], []\n",
    "\n",
    "    for lattice_params_i in lattice_params:\n",
    "        a, b, c, alpha, beta, gamma = lattice_params_i\n",
    "\n",
    "        for const in [a, b, c]:\n",
    "            # Ridiculous bounds of 5% strain\n",
    "            low_bounds.append(0.95 * const)\n",
    "            upr_bounds.append(1.05 * const)\n",
    "        \n",
    "        for angle in [alpha, beta, gamma]:\n",
    "            low_bounds.append(angle - np.radians(5))\n",
    "            upr_bounds.append(angle + np.radians(5))\n",
    "\n",
    "    # offset bound\n",
    "    low_bounds.append(0)\n",
    "    upr_bounds.append(5 * offset)\n",
    "\n",
    "    # amp and fwhm\n",
    "    for i, val in enumerate(int_fwhm):\n",
    "        if i % 2 == 0: # even, amp\n",
    "            low_bounds.append(0)\n",
    "            upr_bounds.append(3 * val)\n",
    "        else: # odd, fwhm\n",
    "            low_bounds.append(0.001)\n",
    "            upr_bounds.append(3 * val)\n",
    "\n",
    "    return [low_bounds, upr_bounds]\n"
   ]
  },
  {
   "cell_type": "code",
   "execution_count": null,
   "metadata": {},
   "outputs": [],
   "source": [
    "map_indices = (8, 31)\n",
    "\n",
    "lattice_params = [3.53, 3.52, 3.529, np.radians(90), np.radians(90), np.radians(90)]\n",
    "\n",
    "lattice_params = []\n",
    "for phase in [test.phases['304SS-austenite'],\n",
    "              test.phases['platinum'],\n",
    "              test.phases['tungsten_2']]:\n",
    "    lattice_params_i = list(phase.lattice._parameters.values())\n",
    "    lattice_params_i[3:] = np.radians(lattice_params_i[3:])\n",
    "    lattice_params.extend(lattice_params_i)\n",
    "#p0 = pattern_estimate_guess(test.tth, test.map.integrations[map_indices], *lattice_params, wavelength=test.wavelength)\n",
    "#p_guess = lattice_params + p0\n",
    "\n",
    "p0 = pattern_estimate_from_phase_guess(test.tth, test.map.integrations[map_indices])\n",
    "p_guess = lattice_params + p0\n",
    "\n",
    "intensity = pattern_estimate_from_phase(test.tth, *p_guess)\n",
    "\n",
    "bounds = generate_bounds([test.phases['304SS-austenite'],\n",
    "              test.phases['platinum'],\n",
    "              test.phases['tungsten_2']], p_guess)"
   ]
  },
  {
   "cell_type": "code",
   "execution_count": null,
   "metadata": {},
   "outputs": [
    {
     "name": "stdout",
     "output_type": "stream",
     "text": [
      "0.7831190731325022\n"
     ]
    }
   ],
   "source": [
    "from scipy.optimize import curve_fit\n",
    "from xrdmaptools.utilities.math import compute_r_squared\n",
    "\n",
    "#popt, pcov = curve_fit(pattern_estimate, test.tth, test.map.integrations[map_indices], p0=p_guess)\n",
    "popt, pcov = curve_fit(pattern_estimate_from_phase, test.tth, test.map.integrations[map_indices], p0=p_guess, maxfev=1000, bounds=bounds)\n",
    "r_squared = compute_r_squared(test.map.integrations[map_indices], pattern_estimate_from_phase(test.tth, *popt))\n",
    "print(r_squared)\n",
    "fit_int = pattern_estimate_from_phase(test.tth, *popt)"
   ]
  },
  {
   "cell_type": "code",
   "execution_count": null,
   "metadata": {},
   "outputs": [],
   "source": [
    "fig, ax = plt.subplots(1, 1, figsize=(5, 5), dpi=200)\n",
    "\n",
    "ax.plot(test.tth, test.map.integrations[map_indices], c='k', label='data')\n",
    "ax.plot(test.tth, intensity, '--', c='k', alpha=0.5, label='guess', lw=1)\n",
    "ax.plot(test.tth, fit_int, '--', c='r', label='fit')\n",
    "ax.plot(test.tth, test.map.integrations[map_indices] - fit_int - 0.1, c='gray', label='residual')\n",
    "\n",
    "ax.legend()\n",
    "\n",
    "fig.show()"
   ]
  },
  {
   "cell_type": "code",
   "execution_count": null,
   "metadata": {},
   "outputs": [],
   "source": []
  },
  {
   "cell_type": "code",
   "execution_count": null,
   "metadata": {},
   "outputs": [],
   "source": [
    "test.plot_interactive_integration_map()"
   ]
  },
  {
   "cell_type": "code",
   "execution_count": null,
   "metadata": {},
   "outputs": [],
   "source": []
  },
  {
   "cell_type": "code",
   "execution_count": null,
   "metadata": {},
   "outputs": [],
   "source": []
  },
  {
   "cell_type": "code",
   "execution_count": null,
   "metadata": {},
   "outputs": [],
   "source": []
  },
  {
   "cell_type": "code",
   "execution_count": null,
   "metadata": {},
   "outputs": [
    {
     "name": "stdout",
     "output_type": "stream",
     "text": [
      "Extracting the top 12 eigenpatterns from 3086 patterns\n",
      "done in 0.359s\n"
     ]
    }
   ],
   "source": [
    "from sklearn.decomposition import PCA\n",
    "\n",
    "n_components = 12\n",
    "\n",
    "#X = xrfmap.copy().T\n",
    "X = rescale_array(xrfmap.copy().T, arr_min=0, upper=100)\n",
    "X = test.map.integrations.copy().T\n",
    "#X = np.vstack([rescale_array(xrfmap.copy().T, arr_min=0, upper=100), test.map.integrations.copy().T])\n",
    "\n",
    "h, w = X.shape[1], X.shape[2]\n",
    "\n",
    "print(\"Extracting the top %d eigenpatterns from %d patterns\"\n",
    "      % (n_components, X.shape[0]))\n",
    "t0 = ttime.time()\n",
    "pca = PCA(n_components=n_components, svd_solver='randomized',\n",
    "          whiten=True).fit(X.reshape(len(X), h * w))\n",
    "\n",
    "x_pca = PCA(n_components=n_components, svd_solver='randomized',\n",
    "          whiten=True).fit_transform(X.reshape(len(X), h * w))\n",
    "\n",
    "eigen = pca.components_.reshape((n_components, h, w))\n",
    "\n",
    "print(\"done in %0.3fs\" % (ttime.time() - t0))"
   ]
  },
  {
   "cell_type": "code",
   "execution_count": null,
   "metadata": {},
   "outputs": [
    {
     "name": "stdout",
     "output_type": "stream",
     "text": [
      "Extracting the top 6 eigenpatterns from 4096 patterns\n"
     ]
    },
    {
     "name": "stderr",
     "output_type": "stream",
     "text": [
      "c:\\Users\\emusterma\\AppData\\Local\\anaconda3\\envs\\sXRDMap-py311-1.0\\Lib\\site-packages\\sklearn\\decomposition\\_nmf.py:1770: ConvergenceWarning: Maximum number of iterations 200 reached. Increase it to improve convergence.\n",
      "  warnings.warn(\n"
     ]
    },
    {
     "name": "stdout",
     "output_type": "stream",
     "text": [
      "done in 3.131s\n"
     ]
    },
    {
     "name": "stderr",
     "output_type": "stream",
     "text": [
      "c:\\Users\\emusterma\\AppData\\Local\\anaconda3\\envs\\sXRDMap-py311-1.0\\Lib\\site-packages\\sklearn\\decomposition\\_nmf.py:1770: ConvergenceWarning: Maximum number of iterations 200 reached. Increase it to improve convergence.\n",
      "  warnings.warn(\n"
     ]
    }
   ],
   "source": [
    "from sklearn.decomposition import NMF\n",
    "\n",
    "n_components = 6\n",
    "\n",
    "#X = xrfmap.copy().T\n",
    "X = rescale_array(xrfmap.copy().T, arr_min=0, upper=100)\n",
    "#X = test.map.integrations.copy().T\n",
    "#X = np.vstack([rescale_array(xrfmap.copy().T, arr_min=0, upper=100), test.map.integrations.copy().T])\n",
    "X[X < 0] = 0\n",
    "\n",
    "h, w = X.shape[1], X.shape[2]\n",
    "\n",
    "print(\"Extracting the top %d eigenpatterns from %d patterns\"\n",
    "      % (n_components, X.shape[0]))\n",
    "t0 = ttime.time()\n",
    "pca = NMF(n_components=n_components).fit(X.reshape(len(X), h * w))\n",
    "\n",
    "x_pca = NMF(n_components=n_components).fit_transform(X.reshape(len(X), h * w))\n",
    "\n",
    "eigen = pca.components_.reshape((n_components, h, w))\n",
    "\n",
    "print(\"done in %0.3fs\" % (ttime.time() - t0))"
   ]
  },
  {
   "cell_type": "code",
   "execution_count": null,
   "metadata": {},
   "outputs": [],
   "source": [
    "fig, axes = plt.subplots(6, 2, figsize=(5, 5), dpi=200)\n",
    "\n",
    "\n",
    "for i, axi in enumerate(axes):\n",
    "\n",
    "    axi[0].imshow(eigen[i])\n",
    "    axi[0].set_xticks([])\n",
    "    axi[0].set_yticks([])\n",
    "\n",
    "    #axi[1].plot(xrf_energy, x_pca[:, i])\n",
    "    #axi[1].plot(test.tth, x_pca[:, i])\n",
    "    plot_plot = x_pca[:, i]\n",
    "    axi[1].plot(xrf_energy, plot_plot)\n",
    "    #axi[1].plot(test.tth, plot_plot)\n",
    "    axi[1].set_ylim(np.min(plot_plot), np.max(plot_plot))\n",
    "    axi[1].set_yticks([])\n",
    "\n",
    "fig.show()"
   ]
  },
  {
   "cell_type": "code",
   "execution_count": null,
   "metadata": {},
   "outputs": [
    {
     "data": {
      "text/plain": [
       "3086"
      ]
     },
     "execution_count": 104,
     "metadata": {},
     "output_type": "execute_result"
    }
   ],
   "source": [
    "len(test.tth)"
   ]
  },
  {
   "cell_type": "code",
   "execution_count": null,
   "metadata": {},
   "outputs": [],
   "source": [
    "fig, axes = plt.subplots(6, 3, figsize=(5, 5), dpi=200)\n",
    "\n",
    "\n",
    "for i, axi in enumerate(axes):\n",
    "\n",
    "    axi[0].imshow(eigen[i])\n",
    "    axi[0].set_xticks([])\n",
    "    axi[0].set_yticks([])\n",
    "\n",
    "    #axi[1].plot(xrf_energy, x_pca[:, i])\n",
    "    #axi[1].plot(test.tth, x_pca[:, i])\n",
    "    plot_plot = x_pca[:len(xrf_energy), i]\n",
    "    axi[1].plot(xrf_energy, plot_plot)\n",
    "    axi[1].set_ylim(np.min(plot_plot), np.max(plot_plot))\n",
    "    axi[1].set_yticks([])\n",
    "\n",
    "    #axi[2].plot(xrf_energy, x_pca[:, i])\n",
    "    #axi[2].plot(test.tth, x_pca[:, i])\n",
    "    plot_plot = x_pca[len(xrf_energy):, i]\n",
    "    axi[2].plot(test.tth, plot_plot)\n",
    "    axi[2].set_ylim(np.min(plot_plot), np.max(plot_plot))\n",
    "    axi[2].set_yticks([])\n",
    "\n",
    "fig.show()"
   ]
  },
  {
   "cell_type": "code",
   "execution_count": null,
   "metadata": {},
   "outputs": [
    {
     "data": {
      "text/plain": [
       "[-10.203479, 9.687759, -20.038216, 20.00252]"
      ]
     },
     "execution_count": 62,
     "metadata": {},
     "output_type": "execute_result"
    }
   ],
   "source": [
    "test.map_extent"
   ]
  },
  {
   "cell_type": "code",
   "execution_count": null,
   "metadata": {},
   "outputs": [],
   "source": [
    "fig, ax = plt.subplots(1, 1, figsize=(5, 5), dpi=200)\n",
    "\n",
    "xrf_cen = 2700\n",
    "x_signal = rescale_array(np.sum(xrfmap[:, :, xrf_cen - 15:xrf_cen + 15], axis=(-1)))\n",
    "x_energy = np.mean(xrf_energy[xrf_cen - 15:xrf_cen + 15])\n",
    "\n",
    "tth_cen = 830\n",
    "y_signal = rescale_array(np.sum(test.map.integrations[:, :, tth_cen - 30:tth_cen + 30], axis=(-1)))\n",
    "y_tth = np.mean(test.tth[tth_cen - 30:tth_cen + 30])\n",
    "\n",
    "ax.scatter(x_signal, y_signal, s=1, alpha=0.5, c='k')\n",
    "ax.set_xlabel(f'XRF Energy around {x_energy:.2f} keV')\n",
    "ax.set_ylabel(f'XRD 2θ around {y_tth:.2f}°')\n",
    "\n",
    "corr_signal = x_signal * y_signal\n",
    "\n",
    "fig.show()\n",
    "\n",
    "test.plot_map(corr_signal)"
   ]
  },
  {
   "cell_type": "code",
   "execution_count": null,
   "metadata": {},
   "outputs": [
    {
     "data": {
      "text/plain": [
       "dict_keys(['S_K', 'Ga_K', 'Si_K', 'Sb_L', 'Ni_K', 'Fe_K', 'Ar_K', 'W_L', 'Pt_L', 'compton', 'elastic', 'snip_bkg', 'r_factor', 'sel_cnt', 'total_cnt', 'i0'])"
      ]
     },
     "execution_count": 57,
     "metadata": {},
     "output_type": "execute_result"
    }
   ],
   "source": [
    "xrf_dict.keys()"
   ]
  },
  {
   "cell_type": "code",
   "execution_count": null,
   "metadata": {},
   "outputs": [],
   "source": [
    "from xrdmaptools.utilities.image_corrections import rescale_array\n",
    "\n",
    "xrf_stack = []\n",
    "\n",
    "for key in xrf_dict.keys():\n",
    "    if key in ['snip_bkg', 'r_factor', 'sel_cnt', 'total_cnt', 'i0']:\n",
    "        continue\n",
    "\n",
    "    xrf_stack.append(rescale_array(xrf_dict[key].copy()))\n",
    "\n",
    "xrf_stack = np.stack(xrf_stack)"
   ]
  },
  {
   "cell_type": "code",
   "execution_count": null,
   "metadata": {},
   "outputs": [],
   "source": [
    "fig, ax = plt.subplots(1, 1, figsize=(5, 5), dpi=200)\n",
    "\n",
    "ax.plot(test.tth, np.max(test.map.integrations, axis=(0, 1)))\n",
    "\n",
    "fig.show()"
   ]
  },
  {
   "cell_type": "code",
   "execution_count": null,
   "metadata": {},
   "outputs": [],
   "source": [
    "fig, ax = plt.subplots(1, 1, figsize=(5, 5), dpi=200)\n",
    "\n",
    "#x, bins, _ = ax.hist(test.spots['guess_cen_tth'].values, bins=2000, weights=test.spots['guess_height'].values, label='spot center', density=True)\n",
    "x, bins, _ = ax.hist(test.spots['guess_cen_tth'].values, bins=2000, label='spot center', density=True)\n",
    "ax.plot(test.tth, rescale_array(np.max(test.map.integrations, axis=(0, 1)), lower=np.min(x), upper=np.max(x)), label='max intensity')\n",
    "\n",
    "ax.legend()\n",
    "\n",
    "plt.show()"
   ]
  },
  {
   "cell_type": "code",
   "execution_count": null,
   "metadata": {},
   "outputs": [
    {
     "name": "stdout",
     "output_type": "stream",
     "text": [
      "Integrated images to 1D..."
     ]
    },
    {
     "name": "stderr",
     "output_type": "stream",
     "text": [
      "100%|██████████| 3321/3321 [01:18<00:00, 42.25it/s]\n"
     ]
    }
   ],
   "source": [
    "test.integrate1d_map()"
   ]
  },
  {
   "cell_type": "code",
   "execution_count": null,
   "metadata": {},
   "outputs": [],
   "source": [
    "from skimage.feature import peak_local_max\n",
    "from scipy.signal import find_peaks\n",
    "\n",
    "fig, ax = plt.subplots(1, 1, figsize=(5, 5), dpi=200)\n",
    "\n",
    "plot_int = rescale_array(np.max(test.map.integrations, axis=(0, 1)))\n",
    "#peaks = peak_local_max(plot_int,\n",
    "#                       threshold_rel=0.05)\n",
    "\n",
    "peaks, _ = find_peaks(plot_int, prominence=0.01, distance=4)\n",
    "\n",
    "ax.scatter(test.tth[peaks], plot_int[peaks], s=2, c='r')\n",
    "ax.plot(test.tth, plot_int)\n",
    "\n",
    "\n",
    "fig.show()"
   ]
  },
  {
   "cell_type": "code",
   "execution_count": null,
   "metadata": {},
   "outputs": [],
   "source": [
    "def generate_bounds(p0, peak_function, tth_step=None, chi_step=None):\n",
    "    \n",
    "    # Get function input variable names, excluding 'self', 'x' or '(xy)' and any default arguments\n",
    "    inputs = list(peak_function.__code__.co_varnames[:peak_function.__code__.co_argcount])\n",
    "    if 'self' in inputs: inputs.remove('self')\n",
    "    inputs = inputs[1:] # remove the x, or xy inputs\n",
    "    if peak_function.__defaults__ is not None:\n",
    "        inputs = inputs[:-len(peak_function.__defaults__)] # remove defualts\n",
    "\n",
    "    if tth_step is None: tth_step = 0.02\n",
    "    if chi_step is None: chi_step = 0.05\n",
    "\n",
    "    tth_resolution, chi_resolution = 0.01, 0.01 # In degrees...\n",
    "    tth_range = np.max([tth_resolution, tth_step]) * 3 # just a bit more wiggle room\n",
    "    chi_range = np.max([chi_resolution, chi_step]) * 3 # just a bit more wiggle room\n",
    "\n",
    "    low_bounds, upr_bounds = [], []\n",
    "    for i in range(0, len(p0), len(inputs)):\n",
    "        for j, arg in enumerate(inputs):\n",
    "            if arg == 'amp':\n",
    "                low_bounds.append(0)\n",
    "                upr_bounds.append(p0[i + j] * 10) # guess intensity is probably not off by more than this\n",
    "            elif arg == 'x0':\n",
    "                low_bounds.append(p0[i + j] - tth_range) # Restricting peak shift based on guess position uncertainty\n",
    "                upr_bounds.append(p0[i + j] + tth_range)\n",
    "            elif arg == 'y0':\n",
    "                low_bounds.append(p0[i + j] - chi_range) # Restricting peak shift based on guess position uncertainty\n",
    "                upr_bounds.append(p0[i + j] + chi_range)\n",
    "            elif 'fwhm' in arg:\n",
    "                low_bounds.append(0.001)\n",
    "                upr_bounds.append(p0[i + j] * 2) # should be based off of intrument resolution\n",
    "            elif 'fwhm_y' in arg:\n",
    "                low_bounds.append(0.001)\n",
    "                upr_bounds.append(p0[i + j] * 3) # should be based off of intrument resolution\n",
    "            elif arg == 'theta':\n",
    "                low_bounds.append(-45) # Prevents spinning\n",
    "                upr_bounds.append(45) # Only works for degrees...\n",
    "            else:\n",
    "                raise ValueError(f\"{peak_function} inputs {arg} not defined by the generate_bounds function!\")\n",
    "            \n",
    "    return [low_bounds, upr_bounds]"
   ]
  },
  {
   "cell_type": "code",
   "execution_count": null,
   "metadata": {},
   "outputs": [],
   "source": [
    "from xrdmaptools.reflections.SpotModels import GaussianFunctions, LorentzianFunctions #, generate_bounds\n",
    "SpotModel = GaussianFunctions\n",
    "#SpotModel = LorentzianFunctions\n",
    "\n",
    "guess_range = 10\n",
    "\n",
    "p0 = []\n",
    "p0.append(np.min(plot_int)) # offset\n",
    "for peak in peaks:\n",
    "    val_ints = plot_int[peak - guess_range:peak + guess_range]\n",
    "    val_tths = test.tth[peak - guess_range:peak + guess_range]\n",
    "\n",
    "    std_tth = np.sqrt(np.cov(val_tths, aweights=val_ints))\n",
    "    fwhm_tth = std_tth * 2 * np.sqrt(2 * np.log(2))\n",
    "\n",
    "    p0.append(plot_int[peak]) # amp\n",
    "    p0.append(test.tth[peak]) # x0\n",
    "    p0.append(fwhm_tth) # fwhm\n",
    "\n",
    "bounds = generate_bounds(p0[1:], SpotModel.func_1d, tth_step=None, chi_step=None)\n",
    "bounds[0].insert(0, 0) # offset lower bound\n",
    "bounds[1].insert(0, 1e-3) # offset upper bound\n"
   ]
  },
  {
   "cell_type": "code",
   "execution_count": null,
   "metadata": {},
   "outputs": [
    {
     "name": "stdout",
     "output_type": "stream",
     "text": [
      "0.9548325546635049\n"
     ]
    }
   ],
   "source": [
    "from scipy.optimize import curve_fit\n",
    "from xrdmaptools.utilities.math import compute_r_squared\n",
    "\n",
    "popt, _ = curve_fit(SpotModel.multi_1d, test.tth, plot_int, p0=p0, bounds=bounds)\n",
    "r_squared = compute_r_squared(plot_int, SpotModel.multi_1d(test.tth, *popt))\n",
    "print(r_squared)"
   ]
  },
  {
   "cell_type": "code",
   "execution_count": null,
   "metadata": {},
   "outputs": [],
   "source": [
    "fig, ax = plt.subplots(1, 1, figsize=(5, 5), dpi=200)\n",
    "\n",
    "ax.plot(test.tth, plot_int, label='exp.')\n",
    "ax.plot(test.tth, SpotModel.multi_1d(test.tth, *p0), label='guess')\n",
    "ax.plot(test.tth, plot_int - SpotModel.multi_1d(test.tth, *p0) - 0.2, label='residual')\n",
    "\n",
    "ax.legend()\n",
    "\n",
    "fig.show()"
   ]
  },
  {
   "cell_type": "code",
   "execution_count": null,
   "metadata": {},
   "outputs": [],
   "source": [
    "fig, ax = plt.subplots(1, 1, figsize=(5, 5), dpi=200)\n",
    "\n",
    "ax.plot(test.tth, plot_int, label='exp.')\n",
    "ax.plot(test.tth, SpotModel.multi_1d(test.tth, *popt), label='fit')\n",
    "ax.plot(test.tth, plot_int - SpotModel.multi_1d(test.tth, *popt) - 0.2, label='residual')\n",
    "\n",
    "ax.legend()\n",
    "\n",
    "fig.show()"
   ]
  },
  {
   "cell_type": "code",
   "execution_count": null,
   "metadata": {},
   "outputs": [
    {
     "data": {
      "text/plain": [
       "(16, 41, 81)"
      ]
     },
     "execution_count": 14,
     "metadata": {},
     "output_type": "execute_result"
    }
   ],
   "source": [
    "xrf_stack.shape"
   ]
  },
  {
   "cell_type": "code",
   "execution_count": null,
   "metadata": {},
   "outputs": [],
   "source": [
    "peak_maps = np.empty((*test.map.map_shape, len(peaks)))\n",
    "\n",
    "params = list(popt.copy())\n",
    "params.pop(0)\n",
    "for i in range(len(peaks)):\n",
    "    peak_map = np.sum(test.map.integrations * SpotModel.func_1d(test.tth, *params[:3]), axis=(-1))\n",
    "    peak_maps[:, :, i] = rescale_array(peak_map)\n",
    "    del params[:3]\n",
    "\n",
    "peak_maps = peak_maps.T"
   ]
  },
  {
   "cell_type": "code",
   "execution_count": null,
   "metadata": {},
   "outputs": [],
   "source": [
    "features = np.vstack([xrf_stack, peak_maps])\n",
    "features = features.reshape(features.shape[0], -1)"
   ]
  },
  {
   "cell_type": "code",
   "execution_count": null,
   "metadata": {},
   "outputs": [
    {
     "data": {
      "text/plain": [
       "(56, 3321)"
      ]
     },
     "execution_count": 269,
     "metadata": {},
     "output_type": "execute_result"
    }
   ],
   "source": [
    "features.shape"
   ]
  },
  {
   "cell_type": "code",
   "execution_count": null,
   "metadata": {},
   "outputs": [],
   "source": [
    "fig, ax = plt.subplots(1, 1, figsize=(5, 5), dpi=200)\n",
    "\n",
    "x_signal = features[0]\n",
    "y_signal = features[3]\n",
    "\n",
    "ax.scatter(x_signal, y_signal, s=5, alpha=0.5, c='k')\n",
    "\n",
    "fig.show()"
   ]
  },
  {
   "cell_type": "code",
   "execution_count": null,
   "metadata": {},
   "outputs": [],
   "source": [
    "projections = features[:, np.newaxis] * features[np.newaxis, :]"
   ]
  },
  {
   "cell_type": "code",
   "execution_count": null,
   "metadata": {},
   "outputs": [],
   "source": [
    "correlations = np.empty((features.shape[0], features.shape[0]))\n",
    "\n",
    "for index in range(np.prod(correlations.shape)):\n",
    "    indices = np.unravel_index(index, correlations.shape)\n",
    "\n",
    "    correlation = np.dot(features[indices[0]], features[indices[1]]) / (np.linalg.norm(features[indices[0]]) * np.linalg.norm(features[indices[1]]))\n",
    "    correlations[indices] = correlation"
   ]
  },
  {
   "cell_type": "code",
   "execution_count": null,
   "metadata": {},
   "outputs": [
    {
     "data": {
      "text/plain": [
       "(56, 56, 3321)"
      ]
     },
     "execution_count": 35,
     "metadata": {},
     "output_type": "execute_result"
    }
   ],
   "source": [
    "projections.shape"
   ]
  },
  {
   "cell_type": "code",
   "execution_count": null,
   "metadata": {},
   "outputs": [
    {
     "data": {
      "text/plain": [
       "(56, 56)"
      ]
     },
     "execution_count": 36,
     "metadata": {},
     "output_type": "execute_result"
    }
   ],
   "source": [
    "correlations.shape"
   ]
  },
  {
   "cell_type": "code",
   "execution_count": null,
   "metadata": {},
   "outputs": [],
   "source": [
    "pairs = []\n",
    "\n",
    "for index in range(np.prod(correlations.shape)):\n",
    "    indices = np.unravel_index(index, correlations.shape)\n",
    "\n",
    "    if (correlations[indices] > 0.95\n",
    "        and indices[0] != indices[1]\n",
    "        and indices[::-1] not in pairs):\n",
    "        pairs.append(indices)"
   ]
  },
  {
   "cell_type": "code",
   "execution_count": null,
   "metadata": {},
   "outputs": [],
   "source": [
    "pseudo_phases = []\n",
    "assigned_features = []\n",
    "\n",
    "for i, pair in enumerate(pairs):\n",
    "\n",
    "    NEW_pseudo_PHASE = True\n",
    "    for pseudo_phase in pseudo_phases:\n",
    "        if (pair[0] in pseudo_phase\n",
    "            or pair[1] in pseudo_phase):\n",
    "            pseudo_phase.extend(list(pair))\n",
    "            NEW_pseudo_PHASE = False\n",
    "            continue\n",
    "\n",
    "    for pseudo_phase in pseudo_phases:\n",
    "        if (pair[0] in pseudo_phase\n",
    "            and pair[1] in pseudo_phase):\n",
    "            pseudo_phase.extend(list(pair))\n",
    "            NEW_pseudo_PHASE = False\n",
    "            continue\n",
    "    \n",
    "    if NEW_pseudo_PHASE:\n",
    "        pseudo_phases.append(list(pair))\n",
    "\n",
    "    #if i == 55:\n",
    "    #    break\n",
    "\n",
    "# Reduce to unique features\n",
    "#for i, pseudo_phase in enumerate(pseudo_phases):\n",
    "#    pseudo_phases[i] = list(np.unique(np.array(pseudo_phase)))\n",
    "\n",
    "# Combined spearated correlated psued0_phases\n",
    "for i, pseudo_phase in enumerate(pseudo_phases):\n",
    "    for feature_i in pseudo_phase:\n",
    "        matches = [feature_i in x for x in pseudo_phases]\n",
    "        if np.sum(matches) > 1:\n",
    "            combined_phase_index = list(np.where(matches)[0])[1] # zero index is the same, others will be combined in next pass\n",
    "            pseudo_phases[i].extend(pseudo_phases[combined_phase_index])\n",
    "            pseudo_phases.pop(combined_phase_index)\n",
    "\n",
    "# Reduce to unique features\n",
    "for i, pseudo_phase in enumerate(pseudo_phases):\n",
    "    pseudo_phases[i] = list(np.unique(np.array(pseudo_phase)))\n"
   ]
  },
  {
   "cell_type": "code",
   "execution_count": null,
   "metadata": {},
   "outputs": [],
   "source": [
    "\n",
    "pseudo_phases = []\n",
    "for pair in pairs:\n",
    "\n",
    "    f0 = pair[0]\n",
    "    f1 = pair[1]\n",
    "\n",
    "    f0_matches = [np.array(pair_i)[pair_i != f0][0] for pair_i in pairs if f0 in pair_i]\n",
    "    f1_matches = [np.array(pair_i)[pair_i != f1][0] for pair_i in pairs if f1 in pair_i]\n",
    "\n",
    "    f3_matches = [f3 for f3 in f0_matches if f3 in f1_matches]\n",
    "\n",
    "    if len(f3_matches) > 0:\n",
    "        pseudo_phase = [*pair, *f3_matches]\n",
    "        pseudo_phases.append(pseudo_phase)\n",
    "\n"
   ]
  },
  {
   "cell_type": "code",
   "execution_count": null,
   "metadata": {},
   "outputs": [],
   "source": [
    "# Reduce to unique features\n",
    "for i, pseudo_phase in enumerate(pseudo_phases):\n",
    "    pseudo_phases[i] = list(np.unique(np.array(pseudo_phase)))"
   ]
  },
  {
   "cell_type": "code",
   "execution_count": null,
   "metadata": {},
   "outputs": [],
   "source": [
    "plot_map = np.zeros_like(features[0])\n",
    "\n",
    "for i in pseudo_phases[-1]:\n",
    "    plot_map += features[i]\n",
    "\n",
    "test.plot_map(plot_map.reshape(test.map.map_shape[::-1]).T)"
   ]
  },
  {
   "cell_type": "code",
   "execution_count": null,
   "metadata": {},
   "outputs": [],
   "source": []
  },
  {
   "cell_type": "code",
   "execution_count": null,
   "metadata": {},
   "outputs": [],
   "source": []
  },
  {
   "cell_type": "code",
   "execution_count": null,
   "metadata": {},
   "outputs": [],
   "source": []
  },
  {
   "cell_type": "code",
   "execution_count": null,
   "metadata": {},
   "outputs": [],
   "source": [
    "ext = np.max(np.abs([np.min(correlations), np.max(correlations)]))\n",
    "\n",
    "fig, ax = plt.subplots(1, 1, figsize=(5, 5), dpi=200)\n",
    "\n",
    "im = ax.imshow(correlations, vmin=-ext, vmax=ext, cmap='bwr')\n",
    "fig.colorbar(im, ax=ax)\n",
    "\n",
    "fig.show()"
   ]
  },
  {
   "cell_type": "code",
   "execution_count": null,
   "metadata": {},
   "outputs": [],
   "source": [
    "ext = np.max(np.abs([np.min(correlations), np.max(correlations)]))\n",
    "\n",
    "fig, ax = plt.subplots(1, 1, figsize=(5, 5), dpi=200)\n",
    "\n",
    "im = ax.imshow(np.max(projections, axis=-1))\n",
    "fig.colorbar(im, ax=ax)\n",
    "\n",
    "fig.show()"
   ]
  },
  {
   "cell_type": "code",
   "execution_count": null,
   "metadata": {},
   "outputs": [
    {
     "data": {
      "text/plain": [
       "dict_keys(['S_K', 'Ga_K', 'Si_K', 'Sb_L', 'Ni_K', 'Fe_K', 'Ar_K', 'W_L', 'Pt_L', 'compton', 'elastic', 'snip_bkg', 'r_factor', 'sel_cnt', 'total_cnt', 'i0'])"
      ]
     },
     "execution_count": 424,
     "metadata": {},
     "output_type": "execute_result"
    }
   ],
   "source": [
    "xrf_dict.keys()"
   ]
  },
  {
   "cell_type": "code",
   "execution_count": null,
   "metadata": {},
   "outputs": [],
   "source": [
    "from xrdmaptools.plot.interactive_plotting import interactive_dynamic_2d_plot\n",
    "\n",
    "interactive_dynamic_2d_plot(np.transpose(projections.reshape(61, 61, *test.map.map_shape[::-1]), (0, 1, 3, 2)),\n",
    "                                display_map=np.max(projections, axis=-1), display_title=None,\n",
    "                                map_vmin=None, map_vmax=None,\n",
    "                                cmap='viridis', marker_color='red')"
   ]
  },
  {
   "cell_type": "code",
   "execution_count": null,
   "metadata": {},
   "outputs": [
    {
     "data": {
      "text/plain": [
       "(81, 41, 3086)"
      ]
     },
     "execution_count": 452,
     "metadata": {},
     "output_type": "execute_result"
    }
   ],
   "source": []
  },
  {
   "cell_type": "code",
   "execution_count": null,
   "metadata": {},
   "outputs": [],
   "source": [
    "from skimage.transform import resize\n",
    "\n",
    "X = np.vstack([rescale_array(resize(xrfmap.copy().T[:2048], (1024, 41, 81))), rescale_array(resize(test.map.integrations.copy().T, (1000, 41, 81)))])\n",
    "X = X.astype(np.float16)"
   ]
  },
  {
   "cell_type": "code",
   "execution_count": null,
   "metadata": {},
   "outputs": [],
   "source": []
  },
  {
   "cell_type": "code",
   "execution_count": null,
   "metadata": {},
   "outputs": [],
   "source": [
    "raw_projections = X[:, np.newaxis] * X[np.newaxis, :]"
   ]
  },
  {
   "cell_type": "code",
   "execution_count": null,
   "metadata": {},
   "outputs": [
    {
     "data": {
      "text/plain": [
       "(2024, 2024, 41, 81)"
      ]
     },
     "execution_count": 28,
     "metadata": {},
     "output_type": "execute_result"
    }
   ],
   "source": [
    "raw_projections"
   ]
  },
  {
   "cell_type": "code",
   "execution_count": null,
   "metadata": {},
   "outputs": [],
   "source": [
    "max_projections = np.max(raw_projections, axis=(2, 3))"
   ]
  },
  {
   "cell_type": "code",
   "execution_count": null,
   "metadata": {},
   "outputs": [],
   "source": [
    "fig, ax = plt.subplots(1, 1, figsize=(5, 5), dpi=200)\n",
    "\n",
    "im = ax.imshow(np.max(raw_projections, axis=(2, 3)))\n",
    "fig.colorbar(im, ax=ax)\n",
    "\n",
    "fig.show()"
   ]
  },
  {
   "cell_type": "code",
   "execution_count": null,
   "metadata": {},
   "outputs": [],
   "source": [
    "from scipy.ndimage import gaussian_filter\n",
    "\n",
    "out = peak_local_max(gaussian_filter(max_projections.astype(np.float32), sigma=1), threshold_rel=0.1)"
   ]
  },
  {
   "cell_type": "code",
   "execution_count": null,
   "metadata": {},
   "outputs": [],
   "source": [
    "fig, ax = plt.subplots(1, 1, figsize=(5, 5), dpi=200)\n",
    "\n",
    "im = ax.imshow(np.log(max_projections))\n",
    "fig.colorbar(im, ax=ax)\n",
    "\n",
    "#ax.scatter(out[:, 0], out[:, 1], s=1, c='r')\n",
    "\n",
    "fig.show()"
   ]
  },
  {
   "cell_type": "code",
   "execution_count": null,
   "metadata": {},
   "outputs": [],
   "source": [
    "valid_proj = []\n",
    "\n",
    "for spot in out:\n",
    "    spot = list(spot)\n",
    "    if (spot not in valid_proj\n",
    "        and spot[::-1] not in valid_proj\n",
    "        and spot[0] != spot[1]):\n",
    "        valid_proj.append(spot)"
   ]
  },
  {
   "cell_type": "code",
   "execution_count": null,
   "metadata": {},
   "outputs": [],
   "source": [
    "fig, ax = plt.subplots(1, 1, figsize=(5, 5), dpi=200)\n",
    "\n",
    "im = ax.imshow(max_projections)\n",
    "fig.colorbar(im, ax=ax)\n",
    "\n",
    "ax.scatter(np.array(valid_proj)[:, 0], np.array(valid_proj)[:, 1], s=1, c='r')\n",
    "\n",
    "fig.show()"
   ]
  },
  {
   "cell_type": "code",
   "execution_count": null,
   "metadata": {},
   "outputs": [],
   "source": [
    "fig, ax = plt.subplots(1, 1, figsize=(5, 5), dpi=200)\n",
    "\n",
    "ax.plot(np.sum(max_projections[176:185], axis=0))\n",
    "\n",
    "fig.show()"
   ]
  },
  {
   "cell_type": "code",
   "execution_count": null,
   "metadata": {},
   "outputs": [],
   "source": []
  },
  {
   "cell_type": "code",
   "execution_count": null,
   "metadata": {},
   "outputs": [],
   "source": []
  },
  {
   "cell_type": "code",
   "execution_count": null,
   "metadata": {},
   "outputs": [],
   "source": [
    "from xrdmaptools.utilities.utilities import label_nearest_spots\n",
    "\n",
    "out = label_nearest_spots(features.T, max_dist=1)"
   ]
  },
  {
   "cell_type": "code",
   "execution_count": null,
   "metadata": {},
   "outputs": [
    {
     "data": {
      "text/plain": [
       "array([1., 2.])"
      ]
     },
     "execution_count": 287,
     "metadata": {},
     "output_type": "execute_result"
    }
   ],
   "source": [
    "np.unique(out[:, -1])"
   ]
  },
  {
   "cell_type": "code",
   "execution_count": null,
   "metadata": {},
   "outputs": [
    {
     "data": {
      "text/plain": [
       "(3321, 57)"
      ]
     },
     "execution_count": 275,
     "metadata": {},
     "output_type": "execute_result"
    }
   ],
   "source": [
    "out.shape"
   ]
  },
  {
   "cell_type": "code",
   "execution_count": null,
   "metadata": {},
   "outputs": [],
   "source": [
    "test.plot_map(out[:, -1].reshape(test.map.map_shape[::-1]).T, cmap='tab20')"
   ]
  },
  {
   "cell_type": "code",
   "execution_count": null,
   "metadata": {},
   "outputs": [],
   "source": [
    "from sklearn.manifold import TSNE, Isomap\n",
    "\n",
    "tsne = TSNE(n_components=3)\n",
    "out = tsne.fit_transform(features.T)"
   ]
  },
  {
   "cell_type": "code",
   "execution_count": null,
   "metadata": {},
   "outputs": [],
   "source": [
    "fig, ax = plt.subplots(1, 1, figsize=(5, 5), dpi=200)\n",
    "\n",
    "ax.scatter(out[:, 0], out[:, 1], s=1, c='k')\n",
    "\n",
    "fig.show()"
   ]
  },
  {
   "cell_type": "code",
   "execution_count": null,
   "metadata": {},
   "outputs": [],
   "source": [
    "fig, ax = plt.subplots(1, 1, figsize=(5, 5), dpi=200, subplot_kw={'projection':'3d'})\n",
    "\n",
    "ax.scatter(out[:, 0], out[:, 1], out[:, 2], s=1, c='k')\n",
    "\n",
    "fig.show()"
   ]
  },
  {
   "cell_type": "code",
   "execution_count": null,
   "metadata": {},
   "outputs": [
    {
     "data": {
      "text/plain": [
       "dict_keys(['S_K', 'Ga_K', 'Si_K', 'Sb_L', 'Ni_K', 'Fe_K', 'Ar_K', 'W_L', 'Pt_L', 'compton', 'elastic', 'snip_bkg', 'r_factor', 'sel_cnt', 'total_cnt', 'i0'])"
      ]
     },
     "execution_count": 308,
     "metadata": {},
     "output_type": "execute_result"
    }
   ],
   "source": [
    "xrf_dict.keys()"
   ]
  },
  {
   "cell_type": "code",
   "execution_count": null,
   "metadata": {},
   "outputs": [],
   "source": [
    "fig, ax = plt.subplots(1, 1, figsize=(5, 5), dpi=200)\n",
    "\n",
    "ax.scatter(out[:, 0], out[:, 1], s=1, c=features[7])\n",
    "\n",
    "fig.show()"
   ]
  },
  {
   "cell_type": "code",
   "execution_count": null,
   "metadata": {},
   "outputs": [],
   "source": [
    "X = np.vstack([rescale_array(xrfmap.copy().T, arr_min=0, upper=100), test.map.integrations.copy().T])\n",
    "X = X.reshape(-1, test.map.num_pixels)"
   ]
  },
  {
   "cell_type": "code",
   "execution_count": null,
   "metadata": {},
   "outputs": [],
   "source": [
    "from sklearn.cluster import KMeans\n",
    "\n",
    "\n",
    "kmeans = KMeans(n_clusters=15).fit(features.T)\n",
    "#kmeans = KMeans(n_clusters=4).fit(out)\n",
    "#kmeans = KMeans(n_clusters=6).fit(X.T)"
   ]
  },
  {
   "cell_type": "code",
   "execution_count": null,
   "metadata": {},
   "outputs": [],
   "source": [
    "from sklearn.cluster import SpectralClustering\n",
    "\n",
    "kmeans = SpectralClustering(n_clusters=6).fit(features.T)"
   ]
  },
  {
   "cell_type": "code",
   "execution_count": null,
   "metadata": {},
   "outputs": [],
   "source": [
    "test.plot_map(kmeans.labels_.reshape(test.map.map_shape[::-1]).T, cmap='tab20')"
   ]
  },
  {
   "cell_type": "code",
   "execution_count": null,
   "metadata": {},
   "outputs": [
    {
     "data": {
      "text/plain": [
       "(56, 3321)"
      ]
     },
     "execution_count": 346,
     "metadata": {},
     "output_type": "execute_result"
    }
   ],
   "source": [
    "features"
   ]
  },
  {
   "cell_type": "code",
   "execution_count": null,
   "metadata": {},
   "outputs": [
    {
     "name": "stdout",
     "output_type": "stream",
     "text": [
      "Extracting the top 24 eigenpatterns from 56 patterns\n",
      "done in 0.040s\n"
     ]
    }
   ],
   "source": [
    "from sklearn.decomposition import PCA\n",
    "\n",
    "n_components = 24\n",
    "\n",
    "X = features.reshape(-1, *test.map.map_shape[::-1])\n",
    "\n",
    "h, w = X.shape[1], X.shape[2]\n",
    "\n",
    "print(\"Extracting the top %d eigenpatterns from %d patterns\"\n",
    "      % (n_components, X.shape[0]))\n",
    "t0 = ttime.time()\n",
    "pca = PCA(n_components=n_components, svd_solver='randomized',\n",
    "          whiten=True).fit(X.reshape(len(X), h * w))\n",
    "\n",
    "x_pca = PCA(n_components=n_components, svd_solver='randomized',\n",
    "          whiten=True).fit_transform(X.reshape(len(X), h * w))\n",
    "\n",
    "eigen = pca.components_.reshape((n_components, h, w))\n",
    "\n",
    "print(\"done in %0.3fs\" % (ttime.time() - t0))"
   ]
  },
  {
   "cell_type": "code",
   "execution_count": null,
   "metadata": {},
   "outputs": [
    {
     "name": "stdout",
     "output_type": "stream",
     "text": [
      "Extracting the top 6 eigenpatterns from 56 patterns\n",
      "done in 0.233s\n"
     ]
    },
    {
     "name": "stderr",
     "output_type": "stream",
     "text": [
      "c:\\Users\\emusterma\\AppData\\Local\\anaconda3\\envs\\sXRDMap-py311-1.0\\Lib\\site-packages\\sklearn\\decomposition\\_nmf.py:1770: ConvergenceWarning: Maximum number of iterations 200 reached. Increase it to improve convergence.\n",
      "  warnings.warn(\n",
      "c:\\Users\\emusterma\\AppData\\Local\\anaconda3\\envs\\sXRDMap-py311-1.0\\Lib\\site-packages\\sklearn\\decomposition\\_nmf.py:1770: ConvergenceWarning: Maximum number of iterations 200 reached. Increase it to improve convergence.\n",
      "  warnings.warn(\n"
     ]
    }
   ],
   "source": [
    "from sklearn.decomposition import NMF\n",
    "\n",
    "n_components = 6\n",
    "\n",
    "h, w = X.shape[1], X.shape[2]\n",
    "\n",
    "print(\"Extracting the top %d eigenpatterns from %d patterns\"\n",
    "      % (n_components, X.shape[0]))\n",
    "t0 = ttime.time()\n",
    "pca = NMF(n_components=n_components).fit(X.reshape(len(X), h * w))\n",
    "\n",
    "x_pca = NMF(n_components=n_components).fit_transform(X.reshape(len(X), h * w))\n",
    "\n",
    "eigen = pca.components_.reshape((n_components, h, w))\n",
    "\n",
    "print(\"done in %0.3fs\" % (ttime.time() - t0))"
   ]
  },
  {
   "cell_type": "code",
   "execution_count": null,
   "metadata": {},
   "outputs": [
    {
     "data": {
      "text/plain": [
       "(12, 41, 81)"
      ]
     },
     "execution_count": 354,
     "metadata": {},
     "output_type": "execute_result"
    }
   ],
   "source": [
    "eigen.shape"
   ]
  },
  {
   "cell_type": "code",
   "execution_count": null,
   "metadata": {},
   "outputs": [],
   "source": [
    "fig, ax = plt.subplots(6, 1, figsize=(5, 5), dpi=200)\n",
    "\n",
    "for i, axi in enumerate(ax):\n",
    "    axi.imshow(eigen[i])\n",
    "    axi.set_xticks([])\n",
    "    axi.set_yticks([])\n",
    "\n",
    "fig.show()"
   ]
  },
  {
   "cell_type": "code",
   "execution_count": null,
   "metadata": {},
   "outputs": [],
   "source": []
  },
  {
   "cell_type": "code",
   "execution_count": null,
   "metadata": {},
   "outputs": [],
   "source": []
  },
  {
   "cell_type": "code",
   "execution_count": null,
   "metadata": {},
   "outputs": [],
   "source": []
  },
  {
   "cell_type": "code",
   "execution_count": null,
   "metadata": {},
   "outputs": [],
   "source": []
  },
  {
   "cell_type": "code",
   "execution_count": null,
   "metadata": {},
   "outputs": [],
   "source": []
  },
  {
   "cell_type": "code",
   "execution_count": null,
   "metadata": {},
   "outputs": [],
   "source": []
  },
  {
   "cell_type": "code",
   "execution_count": null,
   "metadata": {},
   "outputs": [],
   "source": []
  },
  {
   "cell_type": "code",
   "execution_count": null,
   "metadata": {},
   "outputs": [],
   "source": []
  },
  {
   "cell_type": "code",
   "execution_count": null,
   "metadata": {},
   "outputs": [],
   "source": []
  },
  {
   "cell_type": "code",
   "execution_count": null,
   "metadata": {},
   "outputs": [
    {
     "name": "stdout",
     "output_type": "stream",
     "text": [
      "Estimating background with Bruckner algorithm.\n",
      "Warning: No mask could be constructed.\n"
     ]
    },
    {
     "name": "stderr",
     "output_type": "stream",
     "text": [
      "100%|██████████| 3321/3321 [00:47<00:00, 70.11it/s]\n"
     ]
    }
   ],
   "source": [
    "test.map.estimate_background(method='Bruckner', binning=4, min_prominence=0.05)"
   ]
  },
  {
   "cell_type": "code",
   "execution_count": null,
   "metadata": {},
   "outputs": [
    {
     "name": "stdout",
     "output_type": "stream",
     "text": [
      "Removing background...done!\n"
     ]
    }
   ],
   "source": [
    "test.map.remove_background()"
   ]
  },
  {
   "cell_type": "code",
   "execution_count": null,
   "metadata": {},
   "outputs": [],
   "source": [
    "test.map.rescale_images(arr_min=0)"
   ]
  },
  {
   "cell_type": "code",
   "execution_count": null,
   "metadata": {},
   "outputs": [
    {
     "name": "stdout",
     "output_type": "stream",
     "text": [
      "Integrated images to 1D..."
     ]
    },
    {
     "name": "stderr",
     "output_type": "stream",
     "text": [
      "100%|██████████| 3321/3321 [01:15<00:00, 44.04it/s]\n"
     ]
    }
   ],
   "source": [
    "test.integrate1d_map()"
   ]
  },
  {
   "cell_type": "code",
   "execution_count": null,
   "metadata": {},
   "outputs": [],
   "source": [
    "test.map.integrations = test.map.integrations.reshape((*test.map.map_shape, -1))\n",
    "test.map.integrations = rescale_array(plot_integrations, arr_min=0, upper=100)"
   ]
  },
  {
   "cell_type": "code",
   "execution_count": null,
   "metadata": {},
   "outputs": [],
   "source": [
    "from xrdmaptools.plot.interactive_plotting import interactive_dynamic_1d_plot\n",
    "from xrdmaptools.utilities.image_corrections import rescale_array\n",
    "\n",
    "plot_integrations = test.map.integrations.copy()\n",
    "plot_integrations[plot_integrations <= 1e-3] = 1e-3\n",
    "#plot_integrations = np.log(plot_integrations)\n",
    "#plot_integrations -= med_int\n",
    "#plot_integrations -= integration_bkg\n",
    "\n",
    "#plot_inegrations = integration_map\n",
    "\n",
    "interactive_dynamic_1d_plot(plot_integrations, tth=test.tth, \n",
    "                                bkg_removal=None, ball_size=None, normalize=None,\n",
    "                                display_map=None, display_title=None,\n",
    "                                map_vmin=None, map_vmax=None,\n",
    "                                cmap='viridis', marker_color='red')"
   ]
  },
  {
   "cell_type": "code",
   "execution_count": null,
   "metadata": {},
   "outputs": [],
   "source": []
  },
  {
   "cell_type": "code",
   "execution_count": null,
   "metadata": {},
   "outputs": [],
   "source": [
    "test.plot_image([21, 172], spots=True, contours=True)"
   ]
  },
  {
   "cell_type": "code",
   "execution_count": null,
   "metadata": {},
   "outputs": [],
   "source": []
  },
  {
   "cell_type": "code",
   "execution_count": null,
   "metadata": {},
   "outputs": [],
   "source": [
    "i = np.random.randint(test.map.map_shape[0])\n",
    "j = np.random.randint(test.map.map_shape[1])\n",
    "#i, j = 77, 33\n",
    "\n",
    "test_image = test.map.images[i, j].copy()\n",
    "#test_image /= omega\n",
    "#test_image /= np.sin(np.radians(test.tth_arr))"
   ]
  },
  {
   "cell_type": "code",
   "execution_count": null,
   "metadata": {},
   "outputs": [],
   "source": [
    "from skimage.restoration import rolling_ball\n",
    "\n",
    "bkg = rolling_ball(test.map.integrations)"
   ]
  },
  {
   "cell_type": "code",
   "execution_count": null,
   "metadata": {},
   "outputs": [],
   "source": []
  },
  {
   "cell_type": "code",
   "execution_count": null,
   "metadata": {},
   "outputs": [],
   "source": []
  },
  {
   "cell_type": "code",
   "execution_count": null,
   "metadata": {},
   "outputs": [],
   "source": [
    "from xrdmaptools.reflections.spot_blob_search import spot_search\n",
    "\n",
    "i = np.random.randint(test.map.map_shape[0])\n",
    "j = np.random.randint(test.map.map_shape[1])\n",
    "\n",
    "out = spot_search(test.map.images[i, j], multiplier=5, plotme=True,\n",
    "                  mask=test.map.mask, expansion=5, size=3, threshold_method='minimum')"
   ]
  },
  {
   "cell_type": "code",
   "execution_count": null,
   "metadata": {},
   "outputs": [
    {
     "name": "stdout",
     "output_type": "stream",
     "text": [
      "Searching images for spots...\n"
     ]
    },
    {
     "name": "stderr",
     "output_type": "stream",
     "text": [
      "100%|██████████| 19656/19656 [06:58<00:00, 47.01it/s]\n"
     ]
    },
    {
     "name": "stdout",
     "output_type": "stream",
     "text": [
      "Estimating spot characteristics...\n"
     ]
    },
    {
     "name": "stderr",
     "output_type": "stream",
     "text": [
      "100%|██████████| 457904/457904 [38:29<00:00, 198.24it/s] \n"
     ]
    },
    {
     "name": "stdout",
     "output_type": "stream",
     "text": [
      "Saving spots to hdf...done!\n"
     ]
    }
   ],
   "source": [
    "test.find_spots(threshold_method='minimum', multiplier=5, size=3, expansion=5, radius=5)"
   ]
  },
  {
   "cell_type": "code",
   "execution_count": null,
   "metadata": {},
   "outputs": [
    {
     "name": "stdout",
     "output_type": "stream",
     "text": [
      "Extracting more information from peak parameters...\n"
     ]
    },
    {
     "name": "stderr",
     "output_type": "stream",
     "text": [
      "100%|██████████| 457904/457904 [05:57<00:00, 1279.96it/s]"
     ]
    },
    {
     "name": "stdout",
     "output_type": "stream",
     "text": [
      "Converting peaks positions to q-space...done!\n",
      "Saving spots to hdf..."
     ]
    },
    {
     "name": "stderr",
     "output_type": "stream",
     "text": [
      "\n"
     ]
    },
    {
     "name": "stdout",
     "output_type": "stream",
     "text": [
      "done!\n"
     ]
    }
   ],
   "source": [
    "test.initial_spot_analysis()"
   ]
  },
  {
   "cell_type": "code",
   "execution_count": null,
   "metadata": {},
   "outputs": [
    {
     "name": "stdout",
     "output_type": "stream",
     "text": [
      "Extracting more information from peak parameters...\n"
     ]
    },
    {
     "name": "stderr",
     "output_type": "stream",
     "text": [
      "100%|██████████| 61352/61352 [00:48<00:00, 1277.35it/s]"
     ]
    },
    {
     "name": "stdout",
     "output_type": "stream",
     "text": [
      "Converting peaks positions to q-space...done!\n"
     ]
    },
    {
     "name": "stderr",
     "output_type": "stream",
     "text": [
      "\n"
     ]
    }
   ],
   "source": [
    "from xrdmaptools.geometry.geometry import get_q_vect\n",
    "\n",
    "def _initial_spot_analysis(xrdmap, SpotModel=None):\n",
    "    # TODO: rewrite with spots dataframe and wavelength as inputs...\n",
    "\n",
    "    # Extract fit stats\n",
    "    print('Extracting more information from peak parameters...')\n",
    "    if SpotModel is not None and any([x[:3] == 'fit' for x in xrdmap.spots.loc[0].keys()]):\n",
    "        interested_params = [x for x in xrdmap.spots.iloc[0].keys()\n",
    "                             if x[:3] == 'fit'][:6]\n",
    "        prefix='fit'\n",
    "    elif SpotModel is None or SpotModel == 'guess':\n",
    "        interested_params = [x for x in xrdmap.spots.iloc[0].keys()\n",
    "                             if x[:5] == 'guess']\n",
    "        prefix='guess'\n",
    "\n",
    "    for i in tqdm(xrdmap.spots.index):\n",
    "        spot = xrdmap.spots.loc[i]\n",
    "\n",
    "        if prefix == 'fit':\n",
    "            fit_params = spot[interested_params]\n",
    "\n",
    "            fwhm = SpotModel.get_2d_fwhm(*fit_params)\n",
    "            volume = SpotModel.get_volume(*fit_params)\n",
    "\n",
    "        elif prefix == 'guess':\n",
    "            guess_params = spot[['guess_height',\n",
    "                                 'guess_cen_tth',\n",
    "                                 'guess_cen_chi',\n",
    "                                 'guess_fwhm_tth',\n",
    "                                 'guess_fwhm_chi']].values\n",
    "            fwhm = GaussianFunctions.get_2d_fwhm(*guess_params, 0) # zero for theta\n",
    "            volume = spot['guess_int']\n",
    "\n",
    "        more_params = [volume, *fwhm]\n",
    "\n",
    "        labels = ['integrated',\n",
    "                  'fwhm_a',\n",
    "                  'fwhm_b',\n",
    "                  'rot_fwhm_tth',\n",
    "                  'rot_fwhm_chi']\n",
    "        labels = [f'{prefix}_{label}' for label in labels]\n",
    "        for ind, label in enumerate(labels):\n",
    "            xrdmap.spots.loc[i, label] = more_params[ind]\n",
    "    \n",
    "    \n",
    "    # Find q-space coordinates\n",
    "    print('Converting peaks positions to q-space...', end='', flush=True)\n",
    "    if prefix == 'fit':\n",
    "        spot_tth = xrdmap.spots['fit_tth0'].values\n",
    "        spot_chi = xrdmap.spots['fit_chi0'].values\n",
    "\n",
    "    elif prefix == 'guess':\n",
    "        spot_tth = xrdmap.spots['guess_cen_tth'].values\n",
    "        spot_chi = xrdmap.spots['guess_cen_chi'].values\n",
    "    \n",
    "    q_values = get_q_vect(spot_tth, spot_chi, xrdmap.wavelength, degrees=True)\n",
    "\n",
    "    for key, value in zip(['qx', 'qy', 'qz'], q_values):\n",
    "        xrdmap.spots[key] = value\n",
    "    print('done!')\n",
    "\n",
    "_initial_spot_analysis(test)"
   ]
  },
  {
   "cell_type": "code",
   "execution_count": null,
   "metadata": {},
   "outputs": [],
   "source": [
    "from scipy.spatial.transform import Rotation\n",
    "from itertools import product\n",
    "\n",
    "def explicit_indexing(spot_qs, # Must already be sorted...\n",
    "                      phase,\n",
    "                      near_thresh=0.05,\n",
    "                      required_spots=2,\n",
    "                      check_equivalent=True):\n",
    "\n",
    "    # Sort spots from largest to smallest intensity\n",
    "    #zipped = list(zip(spot_ints, spot_qs))\n",
    "    #zipped.sort(reverse=True)\n",
    "    #spot_ints, spot_qs = zip(*zipped)\n",
    "\n",
    "    # find potential matces within a threshold\n",
    "    phase_q_vals = phase.reflections['q']\n",
    "    spot_q_vals = np.linalg.norm(spot_qs, axis=1)\n",
    "    diff_arr = np.abs(spot_q_vals[:, np.newaxis] - phase_q_vals[np.newaxis, :])\n",
    "    pot_match = diff_arr < near_thresh\n",
    "\n",
    "    # Distinguish by phase kind of\n",
    "    phase_mask = np.any(pot_match, axis=1)\n",
    "    pot_match = pot_match[phase_mask]\n",
    "    spot_qs = np.array(spot_qs)[phase_mask]\n",
    "    #spot_int = spot_ints[phase_mask]\n",
    "\n",
    "    fit_q_meas = spot_qs[:required_spots]\n",
    "    fit_q_calc = []\n",
    "    for i, pot_match_i in enumerate(pot_match[:required_spots]):\n",
    "        match_ind = np.where(pot_match_i)[0]\n",
    "        hkls = [phase.reflections['hkl'][ind] for ind in match_ind]\n",
    "\n",
    "        # Add equivalent potential indices. Only first index restricted\n",
    "        # Not sure how much this actually helps...\n",
    "        if check_equivalent and i > 0:\n",
    "            ext_hkls = []\n",
    "            [ext_hkls.extend(list(phase.lattice.equivalent_hkls(hkl))) for hkl in hkls];\n",
    "            hkls = ext_hkls\n",
    "\n",
    "        q_calc = phase.Q(hkls)\n",
    "        fit_q_calc.append(q_calc)\n",
    "\n",
    "    if len(fit_q_calc) > 0:\n",
    "        combos = list(product(*fit_q_calc))\n",
    "\n",
    "        rot_list, rssd_list = [], []\n",
    "        for q_calc in combos:\n",
    "            rot, rssd = Rotation.align_vectors(q_calc, fit_q_meas)\n",
    "            rot_list.append(rot.as_matrix())\n",
    "            rssd_list.append(rssd)\n",
    "\n",
    "        min_ind = np.argmin(rssd_list)\n",
    "        min_rssd = rssd_list[min_ind]\n",
    "        best_orientation = rot_list[min_ind]\n",
    "\n",
    "    else:\n",
    "        min_rssd = np.nan\n",
    "        best_orientation = np.nan\n",
    "    #print(f'Best orientation found at {min_ind} with rssd of {rssd_list[min_ind]:.3f}')\n",
    "\n",
    "    # This was worth it!\n",
    "    #for combo in combos[min_ind][1:]:\n",
    "    #    if phase.HKL(combo) not in phase.reflections['hkl']:\n",
    "    #        print('Equivalent hkl used successfully. The extra computation was worth it!')\n",
    "    #        break\n",
    "\n",
    "    return best_orientation, min_rssd"
   ]
  },
  {
   "cell_type": "code",
   "execution_count": null,
   "metadata": {},
   "outputs": [
    {
     "name": "stderr",
     "output_type": "stream",
     "text": [
      "  7%|▋         | 233/3321 [00:04<01:12, 42.40it/s] C:\\Users\\emusterma\\AppData\\Local\\Temp\\ipykernel_21536\\2468468959.py:48: UserWarning: Optimal rotation is not uniquely or poorly defined for the given sets of vectors.\n",
      "  rot, rssd = Rotation.align_vectors(q_calc, fit_q_meas)\n",
      "  8%|▊         | 274/3321 [00:05<01:05, 46.50it/s]C:\\Users\\emusterma\\AppData\\Local\\Temp\\ipykernel_21536\\2468468959.py:48: UserWarning: Optimal rotation is not uniquely or poorly defined for the given sets of vectors.\n",
      "  rot, rssd = Rotation.align_vectors(q_calc, fit_q_meas)\n",
      "  9%|▉         | 315/3321 [00:07<01:32, 32.50it/s]C:\\Users\\emusterma\\AppData\\Local\\Temp\\ipykernel_21536\\2468468959.py:48: UserWarning: Optimal rotation is not uniquely or poorly defined for the given sets of vectors.\n",
      "  rot, rssd = Rotation.align_vectors(q_calc, fit_q_meas)\n",
      " 11%|█         | 358/3321 [00:14<08:11,  6.03it/s]C:\\Users\\emusterma\\AppData\\Local\\Temp\\ipykernel_21536\\2468468959.py:48: UserWarning: Optimal rotation is not uniquely or poorly defined for the given sets of vectors.\n",
      "  rot, rssd = Rotation.align_vectors(q_calc, fit_q_meas)\n",
      " 12%|█▏        | 397/3321 [00:17<02:44, 17.81it/s]C:\\Users\\emusterma\\AppData\\Local\\Temp\\ipykernel_21536\\2468468959.py:48: UserWarning: Optimal rotation is not uniquely or poorly defined for the given sets of vectors.\n",
      "  rot, rssd = Rotation.align_vectors(q_calc, fit_q_meas)\n",
      " 16%|█▌        | 522/3321 [00:31<03:15, 14.32it/s]C:\\Users\\emusterma\\AppData\\Local\\Temp\\ipykernel_21536\\2468468959.py:48: UserWarning: Optimal rotation is not uniquely or poorly defined for the given sets of vectors.\n",
      "  rot, rssd = Rotation.align_vectors(q_calc, fit_q_meas)\n",
      " 28%|██▊       | 931/3321 [00:52<01:11, 33.56it/s]C:\\Users\\emusterma\\AppData\\Local\\Temp\\ipykernel_21536\\2468468959.py:48: UserWarning: Optimal rotation is not uniquely or poorly defined for the given sets of vectors.\n",
      "  rot, rssd = Rotation.align_vectors(q_calc, fit_q_meas)\n",
      " 48%|████▊     | 1586/3321 [01:13<01:20, 21.59it/s]C:\\Users\\emusterma\\AppData\\Local\\Temp\\ipykernel_21536\\2468468959.py:48: UserWarning: Optimal rotation is not uniquely or poorly defined for the given sets of vectors.\n",
      "  rot, rssd = Rotation.align_vectors(q_calc, fit_q_meas)\n",
      " 49%|████▉     | 1627/3321 [01:15<01:05, 25.96it/s]C:\\Users\\emusterma\\AppData\\Local\\Temp\\ipykernel_21536\\2468468959.py:48: UserWarning: Optimal rotation is not uniquely or poorly defined for the given sets of vectors.\n",
      "  rot, rssd = Rotation.align_vectors(q_calc, fit_q_meas)\n",
      " 91%|█████████ | 3025/3321 [01:43<00:08, 36.54it/s] C:\\Users\\emusterma\\AppData\\Local\\Temp\\ipykernel_21536\\2468468959.py:48: UserWarning: Optimal rotation is not uniquely or poorly defined for the given sets of vectors.\n",
      "  rot, rssd = Rotation.align_vectors(q_calc, fit_q_meas)\n",
      " 92%|█████████▏| 3066/3321 [01:44<00:07, 32.67it/s]C:\\Users\\emusterma\\AppData\\Local\\Temp\\ipykernel_21536\\2468468959.py:48: UserWarning: Optimal rotation is not uniquely or poorly defined for the given sets of vectors.\n",
      "  rot, rssd = Rotation.align_vectors(q_calc, fit_q_meas)\n",
      " 94%|█████████▎| 3108/3321 [01:46<00:05, 39.24it/s]C:\\Users\\emusterma\\AppData\\Local\\Temp\\ipykernel_21536\\2468468959.py:48: UserWarning: Optimal rotation is not uniquely or poorly defined for the given sets of vectors.\n",
      "  rot, rssd = Rotation.align_vectors(q_calc, fit_q_meas)\n",
      "C:\\Users\\emusterma\\AppData\\Local\\Temp\\ipykernel_21536\\2468468959.py:48: UserWarning: Optimal rotation is not uniquely or poorly defined for the given sets of vectors.\n",
      "  rot, rssd = Rotation.align_vectors(q_calc, fit_q_meas)\n",
      "C:\\Users\\emusterma\\AppData\\Local\\Temp\\ipykernel_21536\\2468468959.py:48: UserWarning: Optimal rotation is not uniquely or poorly defined for the given sets of vectors.\n",
      "  rot, rssd = Rotation.align_vectors(q_calc, fit_q_meas)\n",
      " 95%|█████████▍| 3150/3321 [01:55<00:47,  3.58it/s]C:\\Users\\emusterma\\AppData\\Local\\Temp\\ipykernel_21536\\2468468959.py:48: UserWarning: Optimal rotation is not uniquely or poorly defined for the given sets of vectors.\n",
      "  rot, rssd = Rotation.align_vectors(q_calc, fit_q_meas)\n",
      "C:\\Users\\emusterma\\AppData\\Local\\Temp\\ipykernel_21536\\2468468959.py:48: UserWarning: Optimal rotation is not uniquely or poorly defined for the given sets of vectors.\n",
      "  rot, rssd = Rotation.align_vectors(q_calc, fit_q_meas)\n",
      " 95%|█████████▍| 3152/3321 [01:55<00:37,  4.48it/s]C:\\Users\\emusterma\\AppData\\Local\\Temp\\ipykernel_21536\\2468468959.py:48: UserWarning: Optimal rotation is not uniquely or poorly defined for the given sets of vectors.\n",
      "  rot, rssd = Rotation.align_vectors(q_calc, fit_q_meas)\n",
      "C:\\Users\\emusterma\\AppData\\Local\\Temp\\ipykernel_21536\\2468468959.py:48: UserWarning: Optimal rotation is not uniquely or poorly defined for the given sets of vectors.\n",
      "  rot, rssd = Rotation.align_vectors(q_calc, fit_q_meas)\n",
      " 96%|█████████▋| 3198/3321 [02:11<00:51,  2.40it/s]C:\\Users\\emusterma\\AppData\\Local\\Temp\\ipykernel_21536\\2468468959.py:48: UserWarning: Optimal rotation is not uniquely or poorly defined for the given sets of vectors.\n",
      "  rot, rssd = Rotation.align_vectors(q_calc, fit_q_meas)\n",
      " 98%|█████████▊| 3259/3321 [02:37<00:16,  3.84it/s]C:\\Users\\emusterma\\AppData\\Local\\Temp\\ipykernel_21536\\2468468959.py:48: UserWarning: Optimal rotation is not uniquely or poorly defined for the given sets of vectors.\n",
      "  rot, rssd = Rotation.align_vectors(q_calc, fit_q_meas)\n",
      " 99%|█████████▉| 3281/3321 [02:44<00:12,  3.18it/s]C:\\Users\\emusterma\\AppData\\Local\\Temp\\ipykernel_21536\\2468468959.py:48: UserWarning: Optimal rotation is not uniquely or poorly defined for the given sets of vectors.\n",
      "  rot, rssd = Rotation.align_vectors(q_calc, fit_q_meas)\n",
      "100%|█████████▉| 3312/3321 [02:53<00:02,  3.02it/s]C:\\Users\\emusterma\\AppData\\Local\\Temp\\ipykernel_21536\\2468468959.py:48: UserWarning: Optimal rotation is not uniquely or poorly defined for the given sets of vectors.\n",
      "  rot, rssd = Rotation.align_vectors(q_calc, fit_q_meas)\n",
      "100%|██████████| 3321/3321 [02:58<00:00, 18.63it/s]\n"
     ]
    }
   ],
   "source": [
    "# Explicit indexing across full map\n",
    "\n",
    "from sklearn.metrics.pairwise import euclidean_distances\n",
    "from tqdm import tqdm\n",
    "from xrdmaptools.utilities.utilities import combine_nearby_spots\n",
    "#from xrdmaptools.crystal.Phase import generate_reciprocal_lattice\n",
    "from itertools import product\n",
    "from scipy.spatial.transform import Rotation\n",
    "\n",
    "required_spots = 3\n",
    "phase = test.phases['stibnite']\n",
    "\n",
    "if phase.reflections is None:\n",
    "    phase.get_hkl_reflections(tth_range=(np.min(test.tth_arr), np.max(test.tth_arr)))\n",
    "\n",
    "all_hkls, all_qs, all_fs = generate_reciprocal_lattice(phase, qmax=tth_2_q(np.max(test.tth_arr), wavelength=test.wavelength))\n",
    "\n",
    "dist = euclidean_distances(all_qs)\n",
    "min_q = np.min(dist[dist > 0])\n",
    "\n",
    "euler_map = np.empty((*test.map.map_shape, 3))\n",
    "orientation_map = np.empty((*test.map.map_shape, 3, 3))\n",
    "fit_map = np.empty(test.map.map_shape)\n",
    "\n",
    "for index in tqdm(range(test.map.num_pixels)):\n",
    "    indices = np.unravel_index(index, test.map.map_shape)\n",
    "    phi1, PHI, phi2 = np.nan, np.nan, np.nan\n",
    "\n",
    "    pixel_df = test.spots[(test.spots['map_x'] == indices[0])\n",
    "                        & (test.spots['map_y'] == indices[1])].copy()\n",
    "    pixel_df.dropna(inplace=True)\n",
    "    \n",
    "    # Conditional to avoid too few spots for theoretical indexing\n",
    "    if len(pixel_df) < required_spots:\n",
    "        euler_map[indices] = phi1, PHI, phi2\n",
    "        continue\n",
    "    \n",
    "    spot_qs = pixel_df[['qx', 'qy', 'qz']].values\n",
    "    spot_ints = pixel_df[['guess_int']].values\n",
    "    #spot_chis = pixel_df[['fit_chi0']].values\n",
    "\n",
    "    spot_qs, spot_ints = combine_nearby_spots(spot_qs, spot_ints, max_dist=0.1, max_neighbors=np.inf)\n",
    "\n",
    "    # Sort spots from largest to smallest intensity\n",
    "    zipped = list(zip(spot_ints, spot_qs))\n",
    "    zipped.sort(reverse=True)\n",
    "    spot_ints, spot_qs = zip(*zipped)\n",
    "    spot_ints = list(spot_ints)\n",
    "    spot_qs = list(spot_qs)\n",
    "\n",
    "    dist_too_small = True\n",
    "    while dist_too_small:\n",
    "        if len(spot_qs) < required_spots:\n",
    "            euler_map[indices] = phi1, PHI, phi2\n",
    "            dist_too_small = False\n",
    "            break\n",
    "        # Conditional to avoid single spot from one blob\n",
    "        dist = euclidean_distances(spot_qs)\n",
    "        \n",
    "        if dist[0, 1] < min_q:\n",
    "            del spot_qs[1], spot_ints[1]\n",
    "        else:\n",
    "            dist_too_small = False\n",
    "\n",
    "    if len(spot_qs) < required_spots:\n",
    "        euler_map[indices] = phi1, PHI, phi2\n",
    "        continue\n",
    "    \n",
    "    best_orientation, min_rssd = explicit_indexing(spot_qs,\n",
    "                                                   phase,\n",
    "                                                   near_thresh=0.05,\n",
    "                                                   required_spots=required_spots,\n",
    "                                                   check_equivalent=True)\n",
    "    \n",
    "    if not np.any(np.isnan(best_orientation)):\n",
    "        best_euler = Rotation.from_matrix(best_orientation).as_euler('zxz', degrees=True)\n",
    "        \n",
    "        orientation_map[indices] = best_orientation\n",
    "        euler_map[indices] = best_euler\n",
    "        fit_map[indices] = min_rssd\n",
    "    else:\n",
    "        euler_map[indices] = np.nan, np.nan, np.nan"
   ]
  },
  {
   "cell_type": "code",
   "execution_count": null,
   "metadata": {},
   "outputs": [],
   "source": []
  },
  {
   "cell_type": "code",
   "execution_count": null,
   "metadata": {},
   "outputs": [],
   "source": []
  },
  {
   "cell_type": "code",
   "execution_count": null,
   "metadata": {},
   "outputs": [],
   "source": [
    "blob_image = test_image * out[1]\n",
    "tth, xrd_blob = test.integrate1d_image(blob_image)"
   ]
  },
  {
   "cell_type": "code",
   "execution_count": null,
   "metadata": {},
   "outputs": [],
   "source": [
    "# bad azimuthal integration for testing...\n",
    "\n",
    "tth_step = np.mean(np.diff(test.tth))\n",
    "\n",
    "tth_arr = test.tth_arr\n",
    "\n",
    "xrd_int = []\n",
    "xrd_count = []\n",
    "xrd_mean = []\n",
    "\n",
    "for tth_i in test.tth:    \n",
    "    tth_mask = np.all([tth_arr > tth_i - tth_step / 2,\n",
    "                       tth_arr < tth_i + tth_step / 2], axis=0)\n",
    "    \n",
    "    xrd_num = np.sum(tth_mask)\n",
    "    if xrd_num > 0:\n",
    "        xrd_sum = np.max(test_image[tth_mask])\n",
    "    else:\n",
    "        xrd_sum = 0\n",
    "    \n",
    "\n",
    "    xrd_int.append(xrd_sum)\n",
    "    xrd_count.append(xrd_num)\n",
    "    xrd_mean.append(xrd_sum / xrd_num)"
   ]
  },
  {
   "cell_type": "code",
   "execution_count": null,
   "metadata": {},
   "outputs": [],
   "source": [
    "fig, ax = plt.subplots(1, 1, figsize=(5, 5), dpi=200)\n",
    "\n",
    "ax.plot(tth, xrd, label='pyFAI')\n",
    "ax.plot(tth, xrd_int, label='manual max')\n",
    "ax.plot(tth, xrd_blob, label='blob integration')\n",
    "\n",
    "ax.legend()\n",
    "\n",
    "fig.show()"
   ]
  },
  {
   "cell_type": "code",
   "execution_count": null,
   "metadata": {},
   "outputs": [],
   "source": [
    "from xrdmaptools.utilities.image_corrections import rescale_array\n",
    "\n",
    "fig, ax = plt.subplots(1, 1, figsize=(5, 5), dpi=200)\n",
    "\n",
    "\n",
    "ax.plot(tth, rescale_array(np.array(xrd_int), arr_min=0, upper=100), label='manual max', c='tab:orange')\n",
    "ax.plot(tth, rescale_array(np.array(xrd_blob), arr_min=0, upper=100), label='blob integration', c='tab:green')\n",
    "ax.plot(tth, rescale_array(np.array(xrd), arr_min=0, upper=100), label='pyFAI', c='tab:blue')\n",
    "\n",
    "ax.legend()\n",
    "\n",
    "fig.show()"
   ]
  },
  {
   "cell_type": "code",
   "execution_count": null,
   "metadata": {},
   "outputs": [],
   "source": []
  },
  {
   "cell_type": "code",
   "execution_count": null,
   "metadata": {},
   "outputs": [
    {
     "name": "stdout",
     "output_type": "stream",
     "text": [
      "Integrated images to 1D..."
     ]
    },
    {
     "name": "stderr",
     "output_type": "stream",
     "text": [
      "100%|██████████| 3381/3381 [05:34<00:00, 10.10it/s]\n"
     ]
    }
   ],
   "source": [
    "test.integrate1d_map()"
   ]
  },
  {
   "cell_type": "code",
   "execution_count": null,
   "metadata": {},
   "outputs": [
    {
     "name": "stderr",
     "output_type": "stream",
     "text": [
      "100%|██████████| 3721/3721 [02:09<00:00, 28.70it/s]\n"
     ]
    }
   ],
   "source": [
    "integration_map = np.empty((*test.map.map_shape, len(test.tth)))\n",
    "\n",
    "for index in tqdm(range(test.map.num_pixels)):\n",
    "    indices = np.unravel_index(index, test.map.map_shape)\n",
    "\n",
    "    image = test.map.images[indices].copy() - test.map.background[indices]\n",
    "\n",
    "    #image *= mask_list[index]\n",
    "    #image *= test.map.spot_masks[indices]\n",
    "\n",
    "    tth, xrd_int = test.integrate1d_image(image)\n",
    "\n",
    "    integration_map[indices] = xrd_int\n"
   ]
  },
  {
   "cell_type": "code",
   "execution_count": null,
   "metadata": {},
   "outputs": [],
   "source": [
    "from skimage.restoration import rolling_ball\n",
    "\n",
    "radius=500\n",
    "\n",
    "test_int = test.map.integrations[22, 25] - med_int\n",
    "#test_int = integration_map[22, 25]\n",
    "\n",
    "fig, ax = plt.subplots(1, 1, figsize=(5, 5), dpi=200)\n",
    "\n",
    "ax.plot(test.tth, test_int, label='raw')\n",
    "\n",
    "bkg = rolling_ball(test_int, radius=radius)\n",
    "\n",
    "ax.plot(test.tth, bkg, label='bkg')\n",
    "\n",
    "ax.plot(test.tth, test_int - bkg, label='corr')\n",
    "\n",
    "ax.legend()\n",
    "\n",
    "fig.show()"
   ]
  },
  {
   "cell_type": "code",
   "execution_count": null,
   "metadata": {},
   "outputs": [
    {
     "name": "stderr",
     "output_type": "stream",
     "text": [
      "100%|██████████| 3721/3721 [00:12<00:00, 290.43it/s]\n"
     ]
    }
   ],
   "source": [
    "from skimage.restoration import rolling_ball\n",
    "\n",
    "radius=500\n",
    "\n",
    "integration_bkg = np.empty((*test.map.map_shape, len(test.tth)))\n",
    "\n",
    "for index in tqdm(range(test.map.num_pixels)):\n",
    "    indices = np.unravel_index(index, test.map.map_shape)\n",
    "\n",
    "    bkg = rolling_ball(test.map.integrations[indices] - med_int, radius=radius)\n",
    "\n",
    "    integration_map[indices] = xrd_int"
   ]
  },
  {
   "cell_type": "code",
   "execution_count": null,
   "metadata": {},
   "outputs": [],
   "source": [
    "cif_dir = '''C:\\\\Users\\\\emusterma\\\\OneDrive - Brookhaven National Laboratory\\\\Documents\\\\Postdoc\\\\Literature\\\\CIF\\\\'''\n",
    "test.clear_phases()\n",
    "#test.load_phase('AMCSD\\\\Hematite_0017806.cif', filedir=cif_dir, phase_name=\"hematite\")\n",
    "#test.load_phase('AMCSD\\\\Iron-alpha_0011214.cif', filedir=cif_dir, phase_name=\"iron-ferrite\")\n",
    "#test.load_phase('AMCSD\\\\Iron_0011146.cif', filedir=cif_dir, phase_name=\"iron-austenite\")\\\n",
    "\n",
    "test.load_phase('Unknown\\\\LiNbO3.cif', filedir=cif_dir, phase_name=\"LiNbO3 new\")\n",
    "\n",
    "test.load_phase('AMCSD\\\\Platinum_0011157.cif', filedir=cif_dir, phase_name=\"platinum\")\n",
    "test.load_phase('AMCSD\\\\Stibnite_0008636.cif', filedir=cif_dir, phase_name=\"stibnite\")\n",
    "test.load_phase('AMCSD\\\\Tungsten_0011236.cif', filedir=cif_dir, phase_name=\"tungsten_2\")\n",
    "test.load_phase('AMCSD\\\\Iron_0011146.cif', filedir=cif_dir, phase_name=\"304SS-austenite\")\n",
    "test.phases['304SS-austenite'].a = 3.529"
   ]
  },
  {
   "cell_type": "code",
   "execution_count": null,
   "metadata": {},
   "outputs": [],
   "source": [
    "[phase.get_hkl_reflections(tth_range=(np.min(test.tth_arr), np.max(test.tth_arr)),\n",
    "                            ignore_less=0)\n",
    "    for phase in test.phases.values()];"
   ]
  },
  {
   "cell_type": "code",
   "execution_count": null,
   "metadata": {},
   "outputs": [],
   "source": [
    "from xrdmaptools.utilities.image_corrections import rescale_array\n",
    "\n",
    "\n",
    "def generate_reciprocal_lattice(phase, qmax):\n",
    "    # Example\n",
    "    # all_hkls, all_qs, all_fs = generate_reciprocal_lattice(test.phases['Stibnite'],\n",
    "                                #tth_range=(np.min(test.tth_arr), np.max(test.tth_arr)))\n",
    "\n",
    "    # qmax=tth_2_q(tth_range[1], wavelength=test.wavelength)\n",
    "\n",
    "    all_hkls = list(phase.lattice.get_allowed_hkl(qmax=qmax))\n",
    "    all_qs = phase.Q(all_hkls)\n",
    "    all_fs = np.abs(phase.StructureFactor(all_qs))**2\n",
    "    rescale_array(all_fs, arr_min = 0, upper=100)\n",
    "\n",
    "    return all_hkls, all_qs, all_fs"
   ]
  },
  {
   "cell_type": "code",
   "execution_count": null,
   "metadata": {},
   "outputs": [],
   "source": [
    "from xrdmaptools.utilities.math import tth_2_q\n",
    "\n",
    "phase = test.phases['stibnite']\n",
    "\n",
    "all_hkls, all_qs, all_fs = generate_reciprocal_lattice(phase, qmax=tth_2_q(np.max(test.tth_arr), wavelength=test.wavelength))"
   ]
  },
  {
   "cell_type": "code",
   "execution_count": null,
   "metadata": {},
   "outputs": [],
   "source": [
    "from xrdmaptools.geometry.geometry import nearest_q_on_ewald\n",
    "\n",
    "q_near, q_dist = nearest_q_on_ewald(all_qs, test.wavelength, near_thresh=None)"
   ]
  },
  {
   "cell_type": "code",
   "execution_count": null,
   "metadata": {},
   "outputs": [],
   "source": [
    "from xrdmaptools.geometry.geometry import nearest_polar_on_ewald\n",
    "\n",
    "tth, chi = nearest_polar_on_ewald(all_qs, test.wavelength,\n",
    "                            near_thresh=0.1, degrees=True)"
   ]
  },
  {
   "cell_type": "code",
   "execution_count": null,
   "metadata": {},
   "outputs": [],
   "source": [
    "from xrdmaptools.geometry.geometry import nearest_pixels_on_ewald\n",
    "\n",
    "img_coords = nearest_pixels_on_ewald(all_qs, test.wavelength, test.tth_arr, test.chi_arr,\n",
    "                            near_thresh=0.05, degrees=True)"
   ]
  },
  {
   "cell_type": "code",
   "execution_count": null,
   "metadata": {},
   "outputs": [],
   "source": [
    "test.plot_interactive_map(img_vmin=0, img_vmax=1)"
   ]
  },
  {
   "cell_type": "code",
   "execution_count": null,
   "metadata": {},
   "outputs": [
    {
     "data": {
      "text/plain": [
       "(81, 41, 3)"
      ]
     },
     "execution_count": 91,
     "metadata": {},
     "output_type": "execute_result"
    }
   ],
   "source": [
    "euler_map.shape"
   ]
  },
  {
   "cell_type": "code",
   "execution_count": null,
   "metadata": {},
   "outputs": [
    {
     "data": {
      "text/plain": [
       "array([nan, nan, nan])"
      ]
     },
     "execution_count": 106,
     "metadata": {},
     "output_type": "execute_result"
    }
   ],
   "source": [
    "euler_map[30, 26]"
   ]
  },
  {
   "cell_type": "code",
   "execution_count": null,
   "metadata": {},
   "outputs": [
    {
     "data": {
      "text/plain": [
       "array([ 54.9976981 , 167.9613743 ,  79.41442079])"
      ]
     },
     "execution_count": 95,
     "metadata": {},
     "output_type": "execute_result"
    }
   ],
   "source": [
    "euler_map[20, 29]"
   ]
  },
  {
   "cell_type": "code",
   "execution_count": null,
   "metadata": {},
   "outputs": [],
   "source": [
    "from xrdmaptools.crystal.orientation import g_func\n",
    "\n",
    "pixel_indices = 14, 29\n",
    "\n",
    "plot_qs = all_qs @ orientation_map[pixel_indices].T\n",
    "plot_qs = all_qs @ g_func(*euler_map[pixel_indices])\n",
    "\n",
    "img_coords = nearest_pixels_on_ewald(plot_qs, test.wavelength, test.tth_arr, test.chi_arr,\n",
    "                                near_thresh=0.2, degrees=True)\n",
    "\n",
    "fig, ax = test.plot_image(test.map.images[pixel_indices], return_plot=True)\n",
    "\n",
    "ax.scatter(*img_coords.T, s=5, c='r')\n",
    "\n",
    "fig.show()"
   ]
  },
  {
   "cell_type": "code",
   "execution_count": null,
   "metadata": {},
   "outputs": [],
   "source": [
    "test.plot_image(test.chi_arr)"
   ]
  },
  {
   "cell_type": "code",
   "execution_count": null,
   "metadata": {},
   "outputs": [
    {
     "ename": "ValueError",
     "evalue": "cannot reshape array of size 119556 into shape (81,41,4)",
     "output_type": "error",
     "traceback": [
      "\u001b[1;31m---------------------------------------------------------------------------\u001b[0m",
      "\u001b[1;31mValueError\u001b[0m                                Traceback (most recent call last)",
      "Cell \u001b[1;32mIn[136], line 33\u001b[0m\n\u001b[0;32m     30\u001b[0m     colors\u001b[38;5;241m.\u001b[39mappend([R, G, B, A])\n\u001b[0;32m     32\u001b[0m colors \u001b[38;5;241m=\u001b[39m np\u001b[38;5;241m.\u001b[39masarray(colors)\n\u001b[1;32m---> 33\u001b[0m colors \u001b[38;5;241m=\u001b[39m \u001b[43mcolors\u001b[49m\u001b[38;5;241;43m.\u001b[39;49m\u001b[43mreshape\u001b[49m\u001b[43m(\u001b[49m\u001b[43m(\u001b[49m\u001b[38;5;241;43m*\u001b[39;49m\u001b[43mtest\u001b[49m\u001b[38;5;241;43m.\u001b[39;49m\u001b[43mmap\u001b[49m\u001b[38;5;241;43m.\u001b[39;49m\u001b[43mmap_shape\u001b[49m\u001b[43m,\u001b[49m\u001b[43m \u001b[49m\u001b[38;5;241;43m4\u001b[39;49m\u001b[43m)\u001b[49m\u001b[43m)\u001b[49m\n\u001b[0;32m     35\u001b[0m fig, ax \u001b[38;5;241m=\u001b[39m plt\u001b[38;5;241m.\u001b[39msubplots(\u001b[38;5;241m1\u001b[39m, \u001b[38;5;241m1\u001b[39m, figsize\u001b[38;5;241m=\u001b[39m(\u001b[38;5;241m3\u001b[39m, \u001b[38;5;241m3\u001b[39m), dpi\u001b[38;5;241m=\u001b[39m\u001b[38;5;241m200\u001b[39m)\n\u001b[0;32m     37\u001b[0m ax\u001b[38;5;241m.\u001b[39mimshow(colors)\n",
      "\u001b[1;31mValueError\u001b[0m: cannot reshape array of size 119556 into shape (81,41,4)"
     ]
    }
   ],
   "source": [
    "from xrdmaptools.crystal.orientation import g_func\n",
    "g = g_func(*euler_map.reshape(test.map.num_pixels, 3).T)\n",
    "\n",
    "ipole = [0, 1, 0]\n",
    "\n",
    "colors, r, theta = [], [], []\n",
    "for i in range(len(g)):\n",
    "    \n",
    "    # Take only part of the orientation matrix\n",
    "    V = np.dot(g[i], ipole) # order is g, then ipole\n",
    "\n",
    "    # Determine pixel color according to unit triangle\n",
    "    R, G, B = 0, 0, 0\n",
    "    base = 30 / 255 #all pixels are a bit brighter\n",
    "    R=np.abs(V[2]) + base # referenced to crystallographic axes, but should be able to reference any axis\n",
    "    G=np.abs(V[0]) + base\n",
    "    B=np.abs(V[1]) + base\n",
    "\n",
    "    # Normalize and brighten colors\n",
    "    max_c = np.max([R,G,B])\n",
    "    R = R / max_c\n",
    "    G = G / max_c\n",
    "    B = B / max_c\n",
    "    \n",
    "    # Setting pixel transparency if called\n",
    "    A=1\n",
    "    colors.append([R, G, B, A])\n",
    "\n",
    "colors = np.asarray(colors)\n",
    "colors = colors.reshape((*test.map.map_shape, 4))\n",
    "\n",
    "fig, ax = plt.subplots(1, 1, figsize=(3, 3), dpi=200)\n",
    "\n",
    "ax.imshow(colors)\n",
    "ax.set_title(str(ipole))\n",
    "\n",
    "plt.show()"
   ]
  },
  {
   "cell_type": "code",
   "execution_count": null,
   "metadata": {},
   "outputs": [],
   "source": [
    "test.plot_interactive_map(display_map=colors, img_vmin=0, img_vmax=0.5)"
   ]
  },
  {
   "cell_type": "code",
   "execution_count": null,
   "metadata": {},
   "outputs": [],
   "source": []
  },
  {
   "cell_type": "code",
   "execution_count": null,
   "metadata": {},
   "outputs": [],
   "source": []
  },
  {
   "cell_type": "code",
   "execution_count": null,
   "metadata": {},
   "outputs": [
    {
     "name": "stdout",
     "output_type": "stream",
     "text": [
      "[0, 9.229291336271558, 9.79391082638766, 0.1, 36.35607901077193, 9.947146203273547, 0.1, 4.538280049707817, 10.003918314667498, 0.1, 100.0, 10.287225195166958, 0.1, 52.062489968299765, 11.203251751192864, 0.1, 1.658225681571489, 11.362641176238784, 0.1, 48.06295385493908, 11.393796968970216, 0.1, 9.900411012398704, 11.643708106935721, 0.1, 5.248101535050058, 11.661966917135357, 0.1, 1.1602521706592916, 12.582758827750855, 0.1, 2.2555150424646198, 12.672729437925394, 0.1, 25.048460183122817, 12.876186484052784, 0.1, 4.234661867419972, 12.977123761304796, 0.1, 52.24625259837442, 13.05898401587513, 0.1, 33.33036447295974, 13.28339128375106, 0.1, 1.5935045076294014, 13.397236314228078, 0.1, 41.25420645687469, 13.610946139998532, 0.1, 14.705669354514475, 13.652674016230323, 0.1, 23.458776258920437, 14.095268845670564, 0.1, 0.6725457075094272, 14.155715299043614, 0.1, 17.725053635792502, 14.681782907483074, 0.1, 35.33326441299243, 14.706014883021318, 0.1, 1.7257650652317706, 15.649282671353227, 0.1, 2.306852921500831, 15.787086132645534, 0.1, 5.7719032854791426, 15.818684655193904, 0.1, 17.931715424711676, 15.969488755404214, 0.1, 61.23857935071234, 16.036375161538707, 0.1, 4.251991386193318, 16.064688742631795, 0.1, 0.5241798304445701, 16.170964146582044, 0.1, 2.414579572329845, 16.314221884824995, 0.1, 15.93357330009175, 16.894661000175056, 0.1, 17.120838195521763, 16.945347970694453, 0.1, 26.27433699778584, 16.984815613821585, 0.1, 15.502922148645673, 17.07296727401247, 0.1, 2.757901162282604, 17.894960865017655, 0.1, 23.011302971339724, 18.336022697512714, 0.1, 18.530199155955085, 18.363356734390372, 0.1, 20.838793571700013, 18.398442879440058, 0.1, 0.024508615274610082, 18.4193391652406, 0.1, 5.756968566746384, 18.481487665482618, 0.1, 17.967840019423974, 18.576631650315665, 0.1, 16.902923609462476, 18.59537377982919, 0.1, 0.8541372970246943, 18.669021522781808, 0.1, 0.020868790995499542, 18.92210652036114, 0.1, 0.0008386209498547027, 19.05810707475534, 0.1, 92.47442011563821, 19.131215359034158, 0.1, 7.232517789130119, 19.189302939858628, 0.1, 0.7892747253994127, 19.319777285780464, 0.1, 19.448760933130686, 19.38134681764289, 0.1, 10.465153972073258, 19.458989192072377, 0.1, 55.01237193848755, 19.645672922772178, 0.1, 0.7316677337611687, 19.660293554230627, 0.1, 6.182418181975613, 19.903523561626805, 0.1, 1.8717343244511477, 19.914353670670945, 0.1, 2.6428467238546154, 19.970250724967194, 0.1, 4.644009455542672, 20.0851148577987, 0.1, 2.7479479786824066, 20.187227809358344, 0.1, 0.17669695315342177, 20.263210192176537, 0.1, 0.660610159442177, 20.29513165486378, 0.1, 17.939747315335346, 20.65555302434335, 0.1, 27.72850376225603, 20.658547548068302, 0.1, 4.238189451224543, 20.711240411018682, 0.1, 0.053930224137059224, 21.107110572628006, 0.1, 27.949365236581812, 21.13051381528568, 0.1, 14.296636668125856, 21.157777672302583, 0.1, 1.5724166128108914, 21.210535747721224, 0.1, 1.5396774455516538, 21.302088030169926, 0.1, 11.638133093478285, 21.34804581111013, 0.1, 4.0009837530922185, 21.465928198089397, 0.1, 19.49695041481491, 21.844978860571395, 0.1, 15.18239165952536, 21.861491646744536, 0.1, 10.92792672841607, 22.055795270275606, 0.1, 6.401436122691476, 22.160319027342073, 0.1, 1.7301692822933357, 22.32258825419624, 0.1, 1.1279934152473206, 22.343189689483204, 0.1, 15.200231822226918, 22.351699260314568, 0.1, 0.14028230271481548, 22.420671664124885, 0.1, 3.463251513239122, 22.497900511483454, 0.1, 1.3709792273758095, 22.515417994244384, 0.1, 1.7230266996807049, 22.566726768659574, 0.1, 18.476169565582985, 22.74214743693541, 0.1, 43.064903622234, 22.78979912840052, 0.1, 1.460741432965287, 22.838967824022443, 0.1, 8.551684340659339, 22.902228258734453, 0.1, 1.9311871846538886, 22.988799802385284, 0.1, 0.31071806797126317, 23.02185481946473, 0.1, 2.204094034277867, 23.162897606505904, 0.1, 2.814139315684381, 23.18974570207165, 0.1, 8.250015475439097, 23.2738913160954, 0.1, 5.900675658120509, 23.409856863470623, 0.1, 19.625510072827034, 23.446958570242987, 0.1, 3.21792418122424, 24.11279664556147, 0.1, 5.95104647955456, 24.168800609568272, 0.1, 6.610612940199781, 24.2328787542489, 0.1, 0.9032831983234404, 24.234661859334242, 0.1, 10.829593143049687, 24.306438503882593, 0.1, 9.160928680390043, 24.37801661325413, 0.1, 25.850480558274914, 24.484489509577, 0.1, 18.65689574481153, 24.505244312867976, 0.1, 18.940212824389434, 24.667639794185778, 0.1, 2.5517831103485356, 24.694549786778495, 0.1, 0.7224256660479238, 24.73823689149411, 0.1, 8.094194186704543, 24.753333859391752, 0.1, 1.8410091911478341, 24.783756149746615, 0.1, 4.933880341359806, 24.815994627295062, 0.1, 13.96385928175589, 24.864557752315203, 0.1, 1.6590378062333186, 24.995796863296935, 0.1, 8.566981984776973, 25.287419062088873, 0.1, 0.13007139819505076, 25.32051940581832, 0.1, 3.829902338001116, 25.347787175029715, 0.1, 5.183699675255536, 25.503858956385166, 0.1, 2.2160081722744405, 25.523732676434005, 0.1, 0.3214208147448362, 25.566494170345095, 0.1, 0.2791896540415638, 25.660335473841577, 0.1, 1.4815314294523116, 25.70288499896164, 0.1, 2.441269183974476, 25.882454571573636, 0.1, 1.7503521679258376, 25.91864449123619, 0.1, 7.715104237418386, 25.99487229297778, 0.1, 2.62444836394556, 26.124521308671167, 0.1, 21.332535120551803, 26.290022088028497, 0.1, 0.654255507992614, 26.291535523576282, 0.1, 1.8491229307017725, 26.334395358560442, 0.1, 1.1986034366484912, 26.511485294901785, 0.1, 4.301777304455613, 26.54176299478873, 0.1, 0.054049058137393136, 26.651108938682054, 0.1, 0.8233917819496333, 26.74960175654002, 0.1, 9.837245880002095, 26.844938006176054, 0.1, 4.359072976254684, 26.94006119642953, 0.1, 3.5698782028336664, 26.982111558630976, 0.1, 0.5354763876317499, 27.016218180593544, 0.1, 3.0249399016911966, 27.09828757070505, 0.1, 2.8576820349549283, 27.207638856626104, 0.1, 1.1347482123106365, 27.246342975466018, 0.1, 0.8726196125097625, 27.247941593180713, 0.1, 5.8978654093692535, 27.32936782006079, 0.1, 2.381860993830338, 27.336414449075676, 0.1, 1.0676461687329568, 27.3765421254, 0.1, 0.1665703034940204, 27.393561307586925, 0.1, 11.592974378814613, 27.418811990874698, 0.1, 5.059692204054819, 27.50411574497438, 0.1, 1.971824201697106, 27.636819737105952, 0.1, 17.913825335901578, 27.66066159643645, 0.1, 3.168953473125406, 27.774586999989044, 0.1, 6.614845951215363, 27.932456723410684, 0.1, 0.560675311372858, 28.23503869811421, 0.1, 2.488382587907783, 28.351429662890922, 0.1, 1.0336863864905927, 28.409642839705185, 0.1, 31.527153127716122, 28.416303222594003, 0.1, 9.008793998340172, 28.421245438830468, 0.1, 0.814021169071055, 28.533419351892938, 0.1, 6.347588929314112, 28.586377607626297, 0.1, 3.134761193191711, 28.69656417004542, 0.1, 0.28942445538661443, 28.730769721978497, 0.1, 6.527152680189275, 28.773137174746587, 0.1, 3.0357894229037665, 28.837058185211387, 0.1, 3.9787702757470194, 28.915877553937143, 0.1, 0.44692508690023036, 28.934697464855763, 0.1, 9.792309498931166, 28.953853471879185, 0.1, 8.771924333133198, 28.96147060653754, 0.1, 4.079214625625991, 28.97683637110505, 0.1, 0.4513888887118782, 29.224007664139435, 0.1, 0.6112179530424595, 29.270577212035313, 0.1, 12.981518941153158, 29.284380878693426, 0.1, 9.109226549154915, 29.344640871582985, 0.1, 0.7584446946440448, 29.350933252631673, 0.1, 0.4353642593900137, 29.383520698057918, 0.1, 0.6009277968417446, 29.463596085725587, 0.1, 2.6619300560581265, 29.48993103720245, 0.1, 2.2604534095962334, 29.61175839474806, 0.1, 4.943405724823472, 29.661478047185767, 0.1, 2.495212470739928, 29.676594407589327, 0.1, 16.682657123819407, 29.755646612528743, 0.1, 45.29701499777147, 29.830085060310434, 0.1, 6.359798648906921, 29.849849747925, 0.1, 0.7469694242674508, 29.866920123511584, 0.1, 3.3914027483875944, 29.94361304464572, 0.1, 0.16929116098919736, 30.018319581938677, 0.1, 1.7308554120071054, 30.061617695087207, 0.1, 0.06268308405358537, 30.114014586867093, 0.1, 0.13612669417094145, 30.150657439402526, 0.1, 3.553276915333519, 30.24986621253456, 0.1, 0.04552713648373924, 30.274348741386564, 0.1, 0.9754219772725942, 30.326412619868876, 0.1, 3.206971289102985, 30.35206728405494, 0.1, 60.4497212428292, 30.364228970892473, 0.1, 2.8284089324465698, 30.444516851352294, 0.1, 1.1265421551277144, 30.62305604687572, 0.1, 5.578779718565893, 30.719451625551642, 0.1, 0.701675974491378, 30.765394094152935, 0.1, 1.0720151835458354, 30.84221112048223, 0.1, 1.5712271497306036, 30.849274459414605, 0.1, 1.6626281468613384, 30.873368807406607, 0.1, 1.1624056859820975, 30.949944199583836, 0.1, 6.7473038295659205, 31.018977409773267, 0.1, 69.3930261808842, 31.05474168517783, 0.1, 0.4054124610253053, 31.16389551861008, 0.1, 2.428326045497667, 31.190016589192886, 0.1, 2.2917708325827153, 31.204461839360395, 0.1, 1.4673237786796163, 31.345084391671172, 0.1, 0.962524451521872, 31.480929057455715, 0.1, 1.1955757304997963, 31.49835549450325, 0.1, 30.760658297595644, 31.52314922153188, 0.1, 2.126976056268668, 31.551352387781755, 0.1, 0.7543410199439468, 31.572616679885442, 0.1, 2.0242797782105586, 31.587564994265172, 0.1, 0.5825723634661971, 31.600364345689947, 0.1, 1.015099462816922, 31.60773175064079, 0.1, 1.0923177700473425, 31.750193558503803, 0.1, 2.218360628104392, 31.76645722226591, 0.1, 2.497654471170148, 31.776210086872762, 0.1, 1.0091082204262878, 31.800319733568234, 0.1, 0.8760474978521423, 31.801465871893473, 0.1, 2.720349512323684, 31.87836374992258, 0.1, 0.33043445377703484, 31.884202796236547, 0.1, 0.4514139439505691, 31.913262517299177, 0.1, 0.6139702334143309, 31.949308930607256, 0.1, 0.23798399118932692, 31.96548191636346, 0.1, 0.036137670970488346, 32.032842924959766, 0.1, 1.3151810796072372, 32.194631103218384, 0.1, 2.355006326149878, 32.26014013803239, 0.1, 4.577028737197798, 32.347751478319324, 0.1, 9.08101438884555, 32.363830671143376, 0.1, 1.5803764159053435, 32.38449346294649, 0.1, 7.662928218279533, 32.398063248024954, 0.1, 0.1045609648989984, 32.45645837125942, 0.1, 7.225936314765315, 32.489836594669626, 0.1, 0.724621044878154, 32.54472130336295, 0.1, 0.0417140231044872, 32.67570447498249, 0.1, 1.5835377656632905, 32.754310556821345, 0.1, 0.08919516271883743, 32.82324641936671, 0.1, 1.81263686329371, 32.901704950676844, 0.1, 0.7798981990518504, 32.95003131530501, 0.1, 5.686398796641564, 32.971394212056126, 0.1, 35.763225439718205, 32.9738487879031, 0.1, 1.3896994512537273, 32.98752041142457, 0.1, 20.978538850280216, 33.021251292480684, 0.1, 2.078170612258761, 33.068315747855976, 0.1, 3.061204914182325, 33.192024545551284, 0.1, 0.6754782539285695, 33.192258201321174, 0.1, 0.13748743367056052, 33.2603883901768, 0.1, 1.466547994208881, 33.26148963314097, 0.1, 2.9654769569131787, 33.27301008057782, 0.1, 4.864112003786075, 33.31524443608096, 0.1, 1.5635865989195246, 33.335697381486554, 0.1, 1.4564107004905602, 33.35127105031861, 0.1, 0.1814384806597602, 33.4638102588156, 0.1, 3.838108239248573, 33.471704591739055, 0.1, 1.2130123102565658, 33.57199416410074, 0.1, 1.4401654325135178, 33.7668409910844, 0.1, 8.037365751212052, 33.8022123505836, 0.1, 0.26775551541257014, 33.8243412551225, 0.1, 0.020882365056330742, 33.97063093936453, 0.1, 0.2048664980927139, 34.00361745860564, 0.1, 2.15642886143295, 34.03576756707767, 0.1, 0.03734211485421092, 34.055330670111324, 0.1, 3.5440962074399693, 34.17123365600541, 0.1, 2.014945075214682, 34.17810696600885, 0.1, 10.501556778091524, 34.21079951388086, 0.1, 1.6485915438075538, 34.27614889691079, 0.1, 1.4007010102923354, 34.28725051666466, 0.1, 0.6947700359443665, 34.30045914218393, 0.1, 1.4625267083428726, 34.35785735609191, 0.1, 4.173229527554981, 34.44370516751297, 0.1, 0.720730039783636, 34.540404544511, 0.1, 0.3224467957385847, 34.55333192936002, 0.1, 1.7392866298530147, 34.60011081056973, 0.1, 3.1877436546284548, 34.61720082326793, 0.1, 1.237852053949824, 34.65074639698112, 0.1, 4.356554146695733, 34.67353139908069, 0.1, 6.87270607324849, 34.74261869703855, 0.1, 1.7695891816352949, 34.79662596730946, 0.1, 0.3755574102895552, 34.85024905416702, 0.1, 2.114372518074344, 34.86960585671463, 0.1, 0.5044162838050616, 34.9037299086618, 0.1, 0.8749568450018859, 34.97241966449365, 0.1, 1.7726223508351715, 35.00029126768868, 0.1, 1.07892934166692, 35.06881595147138, 0.1, 0.44058886039871176, 35.229893203278245, 0.1, 0.4432181925213519, 35.286607441033176, 0.1, 0.9289591379871679, 35.31851584940306, 0.1, 2.327303654939692, 35.43298701100968, 0.1, 0.7470805294585715, 35.484816511906025, 0.1, 2.7804686911615075, 35.490198113996634, 0.1, 1.072767741701706, 35.544953942668734, 0.1, 0.8863053344525567, 35.62734095489733, 0.1, 1.1711423533928478, 35.65890706845911, 0.1, 1.3273152109686954, 35.66131237567955, 0.1, 0.052836020310432996, 35.681061253957246, 0.1, 0.08787368960925464, 35.72529730862823, 0.1, 2.50705995977516, 35.8104576563825, 0.1, 0.8220973818300195, 35.83805709756328, 0.1, 0.7480212079139509, 35.850575973041764, 0.1, 2.375817442935066, 35.88289724827376, 0.1, 0.6417129905980264, 35.92691791112547, 0.1, 1.8132463171873319, 35.94492225580661, 0.1, 0.517735451512002, 36.10567531227709, 0.1, 1.6165037290742483, 36.15146889042476, 0.1, 1.0556013465497591, 36.20145158770134, 0.1, 0.2067035228054898, 36.24601504568828, 0.1, 5.5098541575109445, 36.2513747830902, 0.1, 0.5813140738474282, 36.422222277996404, 0.1, 2.2264251558054724, 36.473080110877106, 0.1, 0.3175467185380755, 36.504960804372054, 0.1, 0.4143052276392137, 36.50619108374798, 0.1, 12.409032369000585, 36.51441993127204, 0.1, 0.19567567640778674, 36.57103556337907, 0.1, 1.5750282329840926, 36.592779316335886, 0.1, 0.3274367361771372, 36.6094602794855, 0.1, 0.18445167483815542, 36.65348486510677, 0.1, 3.2323459020625944, 36.68547628915158, 0.1, 1.1034495191756053, 36.6934526163426, 0.1, 1.2055666460320886, 36.75343721952278, 0.1, 1.536381392271175, 36.826969170295364, 0.1, 0.5342603034298993, 36.90475789590584, 0.1, 0.1535605178549955, 36.943849827306984, 0.1, 0.4731371521839164, 36.986780484346525, 0.1, 0.24517648174377724, 37.09050195740521, 0.1, 1.544061447238572, 37.13975702518604, 0.1, 3.443430050836136, 37.163822470722984, 0.1, 2.0048917344791786, 37.18249386709656, 0.1, 1.5660264422488475, 37.22076407042076, 0.1, 1.645528078045317, 37.23491344684548, 0.1, 0.022557557716136618, 37.29386542334838, 0.1, 4.667062315914297, 37.31830686962557, 0.1, 0.14888773144402684, 37.33740821323795, 0.1, 9.829032818824409, 37.39934197166316, 0.1, 0.7286780859928867, 37.43558358765493, 0.1, 0.14650951648997793, 37.43856050194552, 0.1, 0.008909574286937701, 37.466936066431096, 0.1, 0.22573663051572404, 37.4923825006014, 0.1, 0.25215838997344386, 37.65037985152891, 0.1, 0.5808701516254807, 37.663577307273506, 0.1, 0.26740587922666387, 37.6653061559552, 0.1, 41.94095413656848, 37.704393105316754, 0.1, 1.225218066336777, 37.743979788941594, 0.1, 2.7335825817551025, 37.77398482392355, 0.1, 7.237783169639606, 37.79605504242006, 0.1, 0.629946085219513, 37.80819697852752, 0.1, 2.625479254249965, 37.85802041399594, 0.1, 0.3270682182199227, 37.88833826258866, 0.1, 33.70302150192794, 37.98676174801469, 0.1, 2.4211546213624247, 37.987885563225895, 0.1, 0.4014865676427322, 38.09959355530022, 0.1, 0.21499150635654968, 38.143502552554644, 0.1, 15.621679145493639, 38.263389539328266, 0.1, 0.7989317272855426, 38.271329141347664, 0.1, 3.315955869478461, 38.28452435711017, 0.1, 0.5404974214390146, 38.31427677650937, 0.1, 2.0637641491884002, 38.373478882368005, 0.1, 0.5819483026694473, 38.37966338409588, 0.1, 0.0503777109426455, 38.386365903568425, 0.1, 5.6426692452285785, 38.40403843594191, 0.1, 2.196608145048912, 38.40935343834747, 0.1, 4.191141590169138, 38.4099748126801, 0.1, 0.2536985396071202, 38.52663495608057, 0.1, 2.0752064059424153, 38.55332585321088, 0.1, 0.20784379368771352, 38.55353109281505, 0.1, 1.11746610564524, 38.65080279933229, 0.1, 0.9644213708241898, 38.65197461748758, 0.1, 0.18113824617701876, 38.67055306910761, 0.1, 0.15864171658603626, 38.67959309893681, 0.1, 0.4140313665975647, 38.6842507793093, 0.1, 3.9794772962490947, 38.70497901025433, 0.1, 0.07442168796772088, 38.71170590618228, 0.1, 0.13277871432898383, 38.80799307574712, 0.1, 1.4891852002456736, 38.822783317376334, 0.1, 8.021507183122532, 38.823399103927414, 0.1, 1.1286850148331777, 38.8581717087245, 0.1, 0.16744359553196783, 38.900021060915876, 0.1, 0.08773068852992262, 38.94488115687332, 0.1, 0.5376613161622702, 39.00252206043083, 0.1, 1.0281257796736814, 39.03181216813584, 0.1, 26.871448693315287, 39.09111828910695, 0.1, 6.4032409209037775, 39.10671223707938, 0.1, 0.267814222289212, 39.16917477241443, 0.1, 0.05865114701189175, 39.217878331304384, 0.1, 0.061078486547509206, 39.268331214892385, 0.1, 5.605842647000664, 39.314030660683585, 0.1, 0.7910685687466529, 39.346764990866816, 0.1, 4.595392643429274, 39.39731832336207, 0.1, 1.8393458724857008, 39.50372520919378, 0.1, 6.319310770951107, 39.504332075912565, 0.1, 0.5886436594231075, 39.509354828738076, 0.1, 30.708253411131565, 39.51399341644104, 0.1, 0.7347627030037854, 39.52087623965504, 0.1, 8.733155498856252, 39.56352382173466, 0.1, 0.567061617557615, 39.57513621131784, 0.1, 1.5165193676224744, 39.607726993970296, 0.1, 0.5596639275856032, 39.60982234424592, 0.1, 0.3362086864259299, 39.63369738135332, 0.1, 0.26048750919329966, 39.711868128006294, 0.1, 0.7586638376263238, 39.832927831988535, 0.1, 0.6788907350811468, 39.865542212732315, 0.1, 0.44812061411375553, 39.892314252338245, 0.1, 0.46691395259472934, 39.893160006634005, 0.1, 1.067856257903627, 39.90054925051599, 0.1, 1.8557372884778587, 39.93120244138073, 0.1, 0.6056477055393629, 39.98621399531498, 0.1, 7.911871114436102, 40.036353773658234, 0.1, 42.61605437079172, 40.065010626706275, 0.1, 0.3720932118516962, 40.075972041124615, 0.1, 0.4377853086307658, 40.119729814848846, 0.1, 0.256516004186492, 40.12518432310718, 0.1, 1.5918921079030806, 40.18511410407035, 0.1, 0.08331646759374016, 40.22143415974192, 0.1]\n",
      "[0, 1, 9.79391082638766, 0.1, 1, 9.947146203273547, 0.1, 1, 10.003918314667498, 0.1, 1, 10.287225195166958, 0.1, 1, 11.203251751192864, 0.1, 1, 11.362641176238784, 0.1, 1, 11.393796968970216, 0.1, 1, 11.643708106935721, 0.1, 1, 11.661966917135357, 0.1, 1, 12.582758827750855, 0.1, 1, 12.672729437925394, 0.1, 1, 12.876186484052784, 0.1, 1, 12.977123761304796, 0.1, 1, 13.05898401587513, 0.1, 1, 13.28339128375106, 0.1, 1, 13.397236314228078, 0.1, 1, 13.610946139998532, 0.1, 1, 13.652674016230323, 0.1, 1, 14.095268845670564, 0.1, 1, 14.155715299043614, 0.1, 1, 14.681782907483074, 0.1, 1, 14.706014883021318, 0.1, 1, 15.649282671353227, 0.1, 1, 15.787086132645534, 0.1, 1, 15.818684655193904, 0.1, 1, 15.969488755404214, 0.1, 1, 16.036375161538707, 0.1, 1, 16.064688742631795, 0.1, 1, 16.170964146582044, 0.1, 1, 16.314221884824995, 0.1, 1, 16.894661000175056, 0.1, 1, 16.945347970694453, 0.1, 1, 16.984815613821585, 0.1, 1, 17.07296727401247, 0.1, 1, 17.894960865017655, 0.1, 1, 18.336022697512714, 0.1, 1, 18.363356734390372, 0.1, 1, 18.398442879440058, 0.1, 1, 18.4193391652406, 0.1, 1, 18.481487665482618, 0.1, 1, 18.576631650315665, 0.1, 1, 18.59537377982919, 0.1, 1, 18.669021522781808, 0.1, 1, 18.92210652036114, 0.1, 1, 19.05810707475534, 0.1, 1, 19.131215359034158, 0.1, 1, 19.189302939858628, 0.1, 1, 19.319777285780464, 0.1, 1, 19.38134681764289, 0.1, 1, 19.458989192072377, 0.1, 1, 19.645672922772178, 0.1, 1, 19.660293554230627, 0.1, 1, 19.903523561626805, 0.1, 1, 19.914353670670945, 0.1, 1, 19.970250724967194, 0.1, 1, 20.0851148577987, 0.1, 1, 20.187227809358344, 0.1, 1, 20.263210192176537, 0.1, 1, 20.29513165486378, 0.1, 1, 20.65555302434335, 0.1, 1, 20.658547548068302, 0.1, 1, 20.711240411018682, 0.1, 1, 21.107110572628006, 0.1, 1, 21.13051381528568, 0.1, 1, 21.157777672302583, 0.1, 1, 21.210535747721224, 0.1, 1, 21.302088030169926, 0.1, 1, 21.34804581111013, 0.1, 1, 21.465928198089397, 0.1, 1, 21.844978860571395, 0.1, 1, 21.861491646744536, 0.1, 1, 22.055795270275606, 0.1, 1, 22.160319027342073, 0.1, 1, 22.32258825419624, 0.1, 1, 22.343189689483204, 0.1, 1, 22.351699260314568, 0.1, 1, 22.420671664124885, 0.1, 1, 22.497900511483454, 0.1, 1, 22.515417994244384, 0.1, 1, 22.566726768659574, 0.1, 1, 22.74214743693541, 0.1, 1, 22.78979912840052, 0.1, 1, 22.838967824022443, 0.1, 1, 22.902228258734453, 0.1, 1, 22.988799802385284, 0.1, 1, 23.02185481946473, 0.1, 1, 23.162897606505904, 0.1, 1, 23.18974570207165, 0.1, 1, 23.2738913160954, 0.1, 1, 23.409856863470623, 0.1, 1, 23.446958570242987, 0.1, 1, 24.11279664556147, 0.1, 1, 24.168800609568272, 0.1, 1, 24.2328787542489, 0.1, 1, 24.234661859334242, 0.1, 1, 24.306438503882593, 0.1, 1, 24.37801661325413, 0.1, 1, 24.484489509577, 0.1, 1, 24.505244312867976, 0.1, 1, 24.667639794185778, 0.1, 1, 24.694549786778495, 0.1, 1, 24.73823689149411, 0.1, 1, 24.753333859391752, 0.1, 1, 24.783756149746615, 0.1, 1, 24.815994627295062, 0.1, 1, 24.864557752315203, 0.1, 1, 24.995796863296935, 0.1, 1, 25.287419062088873, 0.1, 1, 25.32051940581832, 0.1, 1, 25.347787175029715, 0.1, 1, 25.503858956385166, 0.1, 1, 25.523732676434005, 0.1, 1, 25.566494170345095, 0.1, 1, 25.660335473841577, 0.1, 1, 25.70288499896164, 0.1, 1, 25.882454571573636, 0.1, 1, 25.91864449123619, 0.1, 1, 25.99487229297778, 0.1, 1, 26.124521308671167, 0.1, 1, 26.290022088028497, 0.1, 1, 26.291535523576282, 0.1, 1, 26.334395358560442, 0.1, 1, 26.511485294901785, 0.1, 1, 26.54176299478873, 0.1, 1, 26.651108938682054, 0.1, 1, 26.74960175654002, 0.1, 1, 26.844938006176054, 0.1, 1, 26.94006119642953, 0.1, 1, 26.982111558630976, 0.1, 1, 27.016218180593544, 0.1, 1, 27.09828757070505, 0.1, 1, 27.207638856626104, 0.1, 1, 27.246342975466018, 0.1, 1, 27.247941593180713, 0.1, 1, 27.32936782006079, 0.1, 1, 27.336414449075676, 0.1, 1, 27.3765421254, 0.1, 1, 27.393561307586925, 0.1, 1, 27.418811990874698, 0.1, 1, 27.50411574497438, 0.1, 1, 27.636819737105952, 0.1, 1, 27.66066159643645, 0.1, 1, 27.774586999989044, 0.1, 1, 27.932456723410684, 0.1, 1, 28.23503869811421, 0.1, 1, 28.351429662890922, 0.1, 1, 28.409642839705185, 0.1, 1, 28.416303222594003, 0.1, 1, 28.421245438830468, 0.1, 1, 28.533419351892938, 0.1, 1, 28.586377607626297, 0.1, 1, 28.69656417004542, 0.1, 1, 28.730769721978497, 0.1, 1, 28.773137174746587, 0.1, 1, 28.837058185211387, 0.1, 1, 28.915877553937143, 0.1, 1, 28.934697464855763, 0.1, 1, 28.953853471879185, 0.1, 1, 28.96147060653754, 0.1, 1, 28.97683637110505, 0.1, 1, 29.224007664139435, 0.1, 1, 29.270577212035313, 0.1, 1, 29.284380878693426, 0.1, 1, 29.344640871582985, 0.1, 1, 29.350933252631673, 0.1, 1, 29.383520698057918, 0.1, 1, 29.463596085725587, 0.1, 1, 29.48993103720245, 0.1, 1, 29.61175839474806, 0.1, 1, 29.661478047185767, 0.1, 1, 29.676594407589327, 0.1, 1, 29.755646612528743, 0.1, 1, 29.830085060310434, 0.1, 1, 29.849849747925, 0.1, 1, 29.866920123511584, 0.1, 1, 29.94361304464572, 0.1, 1, 30.018319581938677, 0.1, 1, 30.061617695087207, 0.1, 1, 30.114014586867093, 0.1, 1, 30.150657439402526, 0.1, 1, 30.24986621253456, 0.1, 1, 30.274348741386564, 0.1, 1, 30.326412619868876, 0.1, 1, 30.35206728405494, 0.1, 1, 30.364228970892473, 0.1, 1, 30.444516851352294, 0.1, 1, 30.62305604687572, 0.1, 1, 30.719451625551642, 0.1, 1, 30.765394094152935, 0.1, 1, 30.84221112048223, 0.1, 1, 30.849274459414605, 0.1, 1, 30.873368807406607, 0.1, 1, 30.949944199583836, 0.1, 1, 31.018977409773267, 0.1, 1, 31.05474168517783, 0.1, 1, 31.16389551861008, 0.1, 1, 31.190016589192886, 0.1, 1, 31.204461839360395, 0.1, 1, 31.345084391671172, 0.1, 1, 31.480929057455715, 0.1, 1, 31.49835549450325, 0.1, 1, 31.52314922153188, 0.1, 1, 31.551352387781755, 0.1, 1, 31.572616679885442, 0.1, 1, 31.587564994265172, 0.1, 1, 31.600364345689947, 0.1, 1, 31.60773175064079, 0.1, 1, 31.750193558503803, 0.1, 1, 31.76645722226591, 0.1, 1, 31.776210086872762, 0.1, 1, 31.800319733568234, 0.1, 1, 31.801465871893473, 0.1, 1, 31.87836374992258, 0.1, 1, 31.884202796236547, 0.1, 1, 31.913262517299177, 0.1, 1, 31.949308930607256, 0.1, 1, 31.96548191636346, 0.1, 1, 32.032842924959766, 0.1, 1, 32.194631103218384, 0.1, 1, 32.26014013803239, 0.1, 1, 32.347751478319324, 0.1, 1, 32.363830671143376, 0.1, 1, 32.38449346294649, 0.1, 1, 32.398063248024954, 0.1, 1, 32.45645837125942, 0.1, 1, 32.489836594669626, 0.1, 1, 32.54472130336295, 0.1, 1, 32.67570447498249, 0.1, 1, 32.754310556821345, 0.1, 1, 32.82324641936671, 0.1, 1, 32.901704950676844, 0.1, 1, 32.95003131530501, 0.1, 1, 32.971394212056126, 0.1, 1, 32.9738487879031, 0.1, 1, 32.98752041142457, 0.1, 1, 33.021251292480684, 0.1, 1, 33.068315747855976, 0.1, 1, 33.192024545551284, 0.1, 1, 33.192258201321174, 0.1, 1, 33.2603883901768, 0.1, 1, 33.26148963314097, 0.1, 1, 33.27301008057782, 0.1, 1, 33.31524443608096, 0.1, 1, 33.335697381486554, 0.1, 1, 33.35127105031861, 0.1, 1, 33.4638102588156, 0.1, 1, 33.471704591739055, 0.1, 1, 33.57199416410074, 0.1, 1, 33.7668409910844, 0.1, 1, 33.8022123505836, 0.1, 1, 33.8243412551225, 0.1, 1, 33.97063093936453, 0.1, 1, 34.00361745860564, 0.1, 1, 34.03576756707767, 0.1, 1, 34.055330670111324, 0.1, 1, 34.17123365600541, 0.1, 1, 34.17810696600885, 0.1, 1, 34.21079951388086, 0.1, 1, 34.27614889691079, 0.1, 1, 34.28725051666466, 0.1, 1, 34.30045914218393, 0.1, 1, 34.35785735609191, 0.1, 1, 34.44370516751297, 0.1, 1, 34.540404544511, 0.1, 1, 34.55333192936002, 0.1, 1, 34.60011081056973, 0.1, 1, 34.61720082326793, 0.1, 1, 34.65074639698112, 0.1, 1, 34.67353139908069, 0.1, 1, 34.74261869703855, 0.1, 1, 34.79662596730946, 0.1, 1, 34.85024905416702, 0.1, 1, 34.86960585671463, 0.1, 1, 34.9037299086618, 0.1, 1, 34.97241966449365, 0.1, 1, 35.00029126768868, 0.1, 1, 35.06881595147138, 0.1, 1, 35.229893203278245, 0.1, 1, 35.286607441033176, 0.1, 1, 35.31851584940306, 0.1, 1, 35.43298701100968, 0.1, 1, 35.484816511906025, 0.1, 1, 35.490198113996634, 0.1, 1, 35.544953942668734, 0.1, 1, 35.62734095489733, 0.1, 1, 35.65890706845911, 0.1, 1, 35.66131237567955, 0.1, 1, 35.681061253957246, 0.1, 1, 35.72529730862823, 0.1, 1, 35.8104576563825, 0.1, 1, 35.83805709756328, 0.1, 1, 35.850575973041764, 0.1, 1, 35.88289724827376, 0.1, 1, 35.92691791112547, 0.1, 1, 35.94492225580661, 0.1, 1, 36.10567531227709, 0.1, 1, 36.15146889042476, 0.1, 1, 36.20145158770134, 0.1, 1, 36.24601504568828, 0.1, 1, 36.2513747830902, 0.1, 1, 36.422222277996404, 0.1, 1, 36.473080110877106, 0.1, 1, 36.504960804372054, 0.1, 1, 36.50619108374798, 0.1, 1, 36.51441993127204, 0.1, 1, 36.57103556337907, 0.1, 1, 36.592779316335886, 0.1, 1, 36.6094602794855, 0.1, 1, 36.65348486510677, 0.1, 1, 36.68547628915158, 0.1, 1, 36.6934526163426, 0.1, 1, 36.75343721952278, 0.1, 1, 36.826969170295364, 0.1, 1, 36.90475789590584, 0.1, 1, 36.943849827306984, 0.1, 1, 36.986780484346525, 0.1, 1, 37.09050195740521, 0.1, 1, 37.13975702518604, 0.1, 1, 37.163822470722984, 0.1, 1, 37.18249386709656, 0.1, 1, 37.22076407042076, 0.1, 1, 37.23491344684548, 0.1, 1, 37.29386542334838, 0.1, 1, 37.31830686962557, 0.1, 1, 37.33740821323795, 0.1, 1, 37.39934197166316, 0.1, 1, 37.43558358765493, 0.1, 1, 37.43856050194552, 0.1, 1, 37.466936066431096, 0.1, 1, 37.4923825006014, 0.1, 1, 37.65037985152891, 0.1, 1, 37.663577307273506, 0.1, 1, 37.6653061559552, 0.1, 1, 37.704393105316754, 0.1, 1, 37.743979788941594, 0.1, 1, 37.77398482392355, 0.1, 1, 37.79605504242006, 0.1, 1, 37.80819697852752, 0.1, 1, 37.85802041399594, 0.1, 1, 37.88833826258866, 0.1, 1, 37.98676174801469, 0.1, 1, 37.987885563225895, 0.1, 1, 38.09959355530022, 0.1, 1, 38.143502552554644, 0.1, 1, 38.263389539328266, 0.1, 1, 38.271329141347664, 0.1, 1, 38.28452435711017, 0.1, 1, 38.31427677650937, 0.1, 1, 38.373478882368005, 0.1, 1, 38.37966338409588, 0.1, 1, 38.386365903568425, 0.1, 1, 38.40403843594191, 0.1, 1, 38.40935343834747, 0.1, 1, 38.4099748126801, 0.1, 1, 38.52663495608057, 0.1, 1, 38.55332585321088, 0.1, 1, 38.55353109281505, 0.1, 1, 38.65080279933229, 0.1, 1, 38.65197461748758, 0.1, 1, 38.67055306910761, 0.1, 1, 38.67959309893681, 0.1, 1, 38.6842507793093, 0.1, 1, 38.70497901025433, 0.1, 1, 38.71170590618228, 0.1, 1, 38.80799307574712, 0.1, 1, 38.822783317376334, 0.1, 1, 38.823399103927414, 0.1, 1, 38.8581717087245, 0.1, 1, 38.900021060915876, 0.1, 1, 38.94488115687332, 0.1, 1, 39.00252206043083, 0.1, 1, 39.03181216813584, 0.1, 1, 39.09111828910695, 0.1, 1, 39.10671223707938, 0.1, 1, 39.16917477241443, 0.1, 1, 39.217878331304384, 0.1, 1, 39.268331214892385, 0.1, 1, 39.314030660683585, 0.1, 1, 39.346764990866816, 0.1, 1, 39.39731832336207, 0.1, 1, 39.50372520919378, 0.1, 1, 39.504332075912565, 0.1, 1, 39.509354828738076, 0.1, 1, 39.51399341644104, 0.1, 1, 39.52087623965504, 0.1, 1, 39.56352382173466, 0.1, 1, 39.57513621131784, 0.1, 1, 39.607726993970296, 0.1, 1, 39.60982234424592, 0.1, 1, 39.63369738135332, 0.1, 1, 39.711868128006294, 0.1, 1, 39.832927831988535, 0.1, 1, 39.865542212732315, 0.1, 1, 39.892314252338245, 0.1, 1, 39.893160006634005, 0.1, 1, 39.90054925051599, 0.1, 1, 39.93120244138073, 0.1, 1, 39.98621399531498, 0.1, 1, 40.036353773658234, 0.1, 1, 40.065010626706275, 0.1, 1, 40.075972041124615, 0.1, 1, 40.119729814848846, 0.1, 1, 40.12518432310718, 0.1, 1, 40.18511410407035, 0.1, 1, 40.22143415974192, 0.1]\n"
     ]
    }
   ],
   "source": [
    "from xrdmaptools.utilities.image_corrections import rescale_array\n",
    "\n",
    "phase = test.phases['stibnite']\n",
    "\n",
    "#amp, x0, fwhm\n",
    "p0 = [0]\n",
    "fwhm = 0.1\n",
    "\n",
    "for i in range(len(phase.reflections['hkl'])):\n",
    "    p0.append(phase.reflections['int'][i]) # amp\n",
    "    #p0.append(1) # amp\n",
    "    p0.append(phase.reflections['tth'][i]) # x0\n",
    "    p0.append(fwhm) #fwhm\n",
    "\n",
    "print(p0)\n",
    "calc_xrd = GaussianFunctions.multi_1d(test.tth, *p0)\n",
    "calc_xrd = rescale_array(calc_xrd, 0, 1)\n",
    "\n",
    "p0 = [0]\n",
    "\n",
    "for i in range(len(phase.reflections['hkl'])):\n",
    "    #p0.append(phase.reflections['int'][i]) # amp\n",
    "    p0.append(1) # amp\n",
    "    p0.append(phase.reflections['tth'][i]) # x0\n",
    "    p0.append(fwhm) #fwhm\n",
    "\n",
    "print(p0)\n",
    "xrd_mask = GaussianFunctions.multi_1d(test.tth, *p0)\n",
    "xrd_mask = rescale_array(xrd_mask, 0, 1)"
   ]
  },
  {
   "cell_type": "code",
   "execution_count": null,
   "metadata": {},
   "outputs": [],
   "source": [
    "integrations = plot_integrations.copy()\n",
    "integrations = test.map.integrations.copy()\n",
    "#integrations = integration_map.copy()\n",
    "\n",
    "#rescale_array(integrations, arr_min = 0, upper=1)\n",
    "\n",
    "proj_map = np.dot(integrations, calc_xrd)\n",
    "proj_mask = np.dot(integrations, xrd_mask)\n",
    "\n",
    "norms = np.linalg.norm(integrations, axis=-1)\n",
    "norm_integrations = (integrations.T / norms.T).T\n",
    "\n",
    "norm_calc_xrd = calc_xrd / np.linalg.norm(calc_xrd)\n",
    "norm_xrd_mask = xrd_mask / np.linalg.norm(xrd_mask)\n",
    "\n",
    "corr_map = np.dot(norm_integrations, norm_calc_xrd)\n",
    "corr_mask = np.dot(norm_integrations, norm_xrd_mask)\n",
    "\n",
    "window_int = integrations * xrd_mask\n",
    "window_int /= np.linalg.norm(window_int)\n",
    "\n",
    "double_map = np.dot(window_int, norm_calc_xrd)\n",
    "double_mask = np.dot(window_int, norm_xrd_mask)"
   ]
  },
  {
   "cell_type": "code",
   "execution_count": null,
   "metadata": {},
   "outputs": [],
   "source": [
    "fig, ax = plt.subplots(3, 1, figsize=(7, 5), dpi=200)\n",
    "axes = ax.ravel()\n",
    "\n",
    "maps = [\n",
    "        proj_map, corr_map, double_map,\n",
    "        #proj_mask, corr_mask, double_mask\n",
    "        ]\n",
    "titles = [\n",
    "          'Powder Projection',\n",
    "          'Powder Correlation',\n",
    "          'Powder Window Correlation',\n",
    "         # 'Planes Projection',\n",
    "         # 'Planes Correlation',\n",
    "         # 'Planes Window Correlation'\n",
    "          ]\n",
    "\n",
    "fig.suptitle(f'{phase.name} mapping')\n",
    "\n",
    "\n",
    "for axi, mapi, title in zip(axes, maps, titles):\n",
    "    im = axi.imshow(mapi)\n",
    "    fig.colorbar(im, ax=axi, shrink=0.7)\n",
    "    axi.set_title(title)\n",
    "\n",
    "fig.show()"
   ]
  },
  {
   "cell_type": "code",
   "execution_count": null,
   "metadata": {},
   "outputs": [],
   "source": [
    "plt.close('all')"
   ]
  },
  {
   "cell_type": "code",
   "execution_count": null,
   "metadata": {},
   "outputs": [],
   "source": []
  },
  {
   "cell_type": "code",
   "execution_count": null,
   "metadata": {},
   "outputs": [],
   "source": []
  },
  {
   "cell_type": "code",
   "execution_count": null,
   "metadata": {},
   "outputs": [],
   "source": []
  },
  {
   "cell_type": "code",
   "execution_count": null,
   "metadata": {},
   "outputs": [],
   "source": []
  },
  {
   "cell_type": "code",
   "execution_count": null,
   "metadata": {},
   "outputs": [
    {
     "name": "stdout",
     "output_type": "stream",
     "text": [
      "Estimating background with Bruckner algorithm.\n",
      "Warning: No mask could be constructed.\n"
     ]
    },
    {
     "name": "stderr",
     "output_type": "stream",
     "text": [
      "  0%|          | 0/100 [00:00<?, ?it/s]"
     ]
    },
    {
     "name": "stderr",
     "output_type": "stream",
     "text": [
      "100%|██████████| 100/100 [00:02<00:00, 42.73it/s]\n"
     ]
    }
   ],
   "source": [
    "#test.map.estimate_background(method='bruckner', binning=2, min_prominence=1)\n",
    "test.map.estimate_background(method='bruckner', binning=2, min_prominence=0.05)"
   ]
  },
  {
   "cell_type": "code",
   "execution_count": null,
   "metadata": {},
   "outputs": [
    {
     "name": "stdout",
     "output_type": "stream",
     "text": [
      "Removing background...done!\n"
     ]
    }
   ],
   "source": [
    "test.map.remove_background()"
   ]
  },
  {
   "cell_type": "code",
   "execution_count": null,
   "metadata": {},
   "outputs": [],
   "source": [
    "test.map.integrations = test.map.integrations.reshape(*test.map.map_shape, -1)"
   ]
  },
  {
   "cell_type": "code",
   "execution_count": null,
   "metadata": {},
   "outputs": [],
   "source": [
    "test.plot_image()"
   ]
  },
  {
   "cell_type": "code",
   "execution_count": null,
   "metadata": {},
   "outputs": [],
   "source": [
    "from xrdmaptools.plot.interactive_plotting import interactive_dynamic_1d_plot\n",
    "\n",
    "interactive_dynamic_1d_plot(rescale_array(integration_map, arr_min=0, upper=100), tth=test.tth, \n",
    "                                bkg_removal=None, ball_size=None, normalize=None,\n",
    "                                display_map=None, display_title=None,\n",
    "                                map_vmin=None, map_vmax=None,\n",
    "                                cmap='viridis', marker_color='red')"
   ]
  },
  {
   "cell_type": "code",
   "execution_count": null,
   "metadata": {},
   "outputs": [],
   "source": [
    "cif_dir = '''C:\\\\Users\\\\emusterma\\\\OneDrive - Brookhaven National Laboratory\\\\Documents\\\\Postdoc\\\\Literature\\\\CIF\\\\'''\n",
    "test.clear_phases()\n",
    "#test.load_phase('Barker\\\\1521772COD.cif', filedir=cif_dir, phase_name=\"liNbO3 old\")\n",
    "#test.load_phase('Barker\\\\LiNbO3.cif', filedir=cif_dir, phase_name=\"LiNbO3 148\")\n",
    "#test.load_phase('Unknown\\\\LiNbO3.cif', filedir=cif_dir, phase_name=\"LiNbO3 new\")\n",
    "test.load_phase('AMCSD\\\\Platinum_0011157.cif', filedir=cif_dir, phase_name=\"platinum\")\n",
    "#test.load_phase('AMCSD\\\\Calcite_0000984.cif', filedir=cif_dir, phase_name=\"calcite\")\n",
    "test.load_phase('AMCSD\\\\Stibnite_0008636.cif', filedir=cif_dir, phase_name=\"stibnite\")\n",
    "#test.load_phase('AMCSD\\\\Silicon_0011243.cif', filedir=cif_dir, phase_name=\"silicon\")\n",
    "#test.load_phase('AMCSD\\\\Corundum_0009327.cif', filedir=cif_dir, phase_name=\"sapphire\")\n",
    "#test.load_phase('AMCSD\\\\Hematite_0017806.cif', filedir=cif_dir, phase_name=\"hematite\")\n",
    "#test.load_phase('AMCSD\\\\Iron-alpha_0011214.cif', filedir=cif_dir, phase_name=\"iron-ferrite\")\n",
    "#test.load_phase('AMCSD\\\\Iron-beta_0011215.cif', filedir=cif_dir, phase_name=\"iron-beta\")\n",
    "#test.load_phase('AMCSD\\\\Iron-delta_0011216.cif', filedir=cif_dir, phase_name=\"iron-delta\")\n",
    "#test.load_phase('AMCSD\\\\Iron_0011146.cif', filedir=cif_dir, phase_name=\"iron-austenite\")\n",
    "#test.load_phase('AMCSD\\\\Cementite_0013523.cif', filedir=cif_dir, phase_name=\"cementite\")\n",
    "#test.load_phase('AMCSD\\\\Graphite_0011247.cif', filedir=cif_dir, phase_name=\"graphite\")\n",
    "#test.load_phase('AMCSD\\\\Tungsten_0011261.cif', filedir=cif_dir, phase_name=\"tungsten_1\")\n",
    "test.load_phase('AMCSD\\\\Tungsten_0011236.cif', filedir=cif_dir, phase_name=\"tungsten_2\")\n",
    "test.load_phase('AMCSD\\\\Iron_0011146.cif', filedir=cif_dir, phase_name=\"austenite\")\n",
    "test.phases['austenite'].a = 3.529"
   ]
  },
  {
   "cell_type": "code",
   "execution_count": null,
   "metadata": {},
   "outputs": [],
   "source": [
    "[phase.get_hkl_reflections(tth_range=(np.min(test.tth), np.max(test.tth)),\n",
    "                            ignore_less=0)\n",
    "    for phase in test.phases.values()];"
   ]
  },
  {
   "cell_type": "code",
   "execution_count": null,
   "metadata": {},
   "outputs": [],
   "source": [
    "from xrdmaptools.utilities.image_corrections import rescale_array\n",
    "\n",
    "phase = test.phases['stibnite']\n",
    "\n",
    "#amp, x0, fwhm\n",
    "p0 = [0]\n",
    "\n",
    "for i in range(len(phase.reflections['hkl'])):\n",
    "    p0.append(phase.reflections['int'][i]) # amp\n",
    "    #p0.append(1) # amp\n",
    "    p0.append(phase.reflections['tth'][i]) # x0\n",
    "    p0.append(0.1) #fwhm\n",
    "\n",
    "calc_xrd = GaussianFunctions.multi_1d(test.tth, *p0)\n",
    "calc_xrd = rescale_array(calc_xrd, 0, 1)\n",
    "\n",
    "p0 = [0]\n",
    "\n",
    "for i in range(len(phase.reflections['hkl'])):\n",
    "    #p0.append(phase.reflections['int'][i]) # amp\n",
    "    p0.append(1) # amp\n",
    "    p0.append(phase.reflections['tth'][i]) # x0\n",
    "    p0.append(0.1) #fwhm\n",
    "\n",
    "xrd_mask = GaussianFunctions.multi_1d(test.tth, *p0)\n",
    "xrd_mask = rescale_array(calc_xrd, 0, 1)"
   ]
  },
  {
   "cell_type": "code",
   "execution_count": null,
   "metadata": {},
   "outputs": [],
   "source": [
    "integrations = integration_map\n",
    "#integrations = test.map.integrations\n",
    "\n",
    "proj_map = np.dot(integrations, calc_xrd)\n",
    "\n",
    "norms = np.linalg.norm(integrations, axis=-1)\n",
    "norm_integrations = (integrations.T / norms.T).T\n",
    "\n",
    "norm_calc_xrd = calc_xrd / np.linalg.norm(calc_xrd)\n",
    "\n",
    "corr_map = np.dot(norm_integrations, norm_calc_xrd)\n",
    "\n",
    "window_int = integrations * xrd_mask\n",
    "window_int /= np.linalg.norm(window_int)\n",
    "\n",
    "double_map = np.dot(window_int, norm_calc_xrd)"
   ]
  },
  {
   "cell_type": "code",
   "execution_count": null,
   "metadata": {},
   "outputs": [],
   "source": [
    "test.plot_map(proj_map)"
   ]
  },
  {
   "cell_type": "code",
   "execution_count": null,
   "metadata": {},
   "outputs": [],
   "source": [
    "test.plot_map(corr_map)"
   ]
  },
  {
   "cell_type": "code",
   "execution_count": null,
   "metadata": {},
   "outputs": [],
   "source": [
    "test.plot_map(double_map)"
   ]
  },
  {
   "cell_type": "code",
   "execution_count": null,
   "metadata": {},
   "outputs": [],
   "source": [
    "fig, ax = plt.subplots(1, 1, figsize=(5, 5), dpi=200)\n",
    "\n",
    "ax.plot(test.tth, rescale_array(calc_xrd, arr_min=0, upper=1))\n",
    "ax.plot(test.tth, test.map.integrations[8, 160])\n",
    "ax.plot(test.tth, rescale_array(calc_xrd, arr_min=0, upper=1) * rescale_array(test.map.integrations[8, 160], arr_min=0, upper=1))\n",
    "\n",
    "plt.show()"
   ]
  },
  {
   "cell_type": "code",
   "execution_count": null,
   "metadata": {},
   "outputs": [],
   "source": [
    "fig, ax = plt.subplots(1, 1, figsize=(5, 5), dpi=200)\n",
    "\n",
    "ax.plot(tth, calc_xrd)\n",
    "\n",
    "fig.show()"
   ]
  },
  {
   "cell_type": "code",
   "execution_count": null,
   "metadata": {},
   "outputs": [
    {
     "name": "stdout",
     "output_type": "stream",
     "text": [
      "Extracting more information from peak parameters...\n"
     ]
    },
    {
     "name": "stderr",
     "output_type": "stream",
     "text": [
      "100%|██████████| 61352/61352 [00:45<00:00, 1354.13it/s]"
     ]
    },
    {
     "name": "stdout",
     "output_type": "stream",
     "text": [
      "Converting peaks positions to q-space...done!\n"
     ]
    },
    {
     "name": "stderr",
     "output_type": "stream",
     "text": [
      "\n"
     ]
    }
   ],
   "source": [
    "test.initial_spot_analysis()"
   ]
  },
  {
   "cell_type": "code",
   "execution_count": null,
   "metadata": {},
   "outputs": [],
   "source": [
    "test.plot_image([6, 31], spots=True)"
   ]
  },
  {
   "cell_type": "code",
   "execution_count": null,
   "metadata": {},
   "outputs": [],
   "source": [
    "new_phase_list = [phase_list[1], phase_list[0], phase_list[2], phase_list[3]]"
   ]
  },
  {
   "cell_type": "code",
   "execution_count": null,
   "metadata": {},
   "outputs": [],
   "source": [
    "indices = [6, 31]\n",
    "pixel_df = test.pixel_spots(indices)\n",
    "\n",
    "spot_q_vals = np.linalg.norm(pixel_df[['qx', 'qy', 'qz']].values, axis=1)\n",
    "\n"
   ]
  },
  {
   "cell_type": "code",
   "execution_count": null,
   "metadata": {},
   "outputs": [
    {
     "data": {
      "text/html": [
       "<div>\n",
       "<style scoped>\n",
       "    .dataframe tbody tr th:only-of-type {\n",
       "        vertical-align: middle;\n",
       "    }\n",
       "\n",
       "    .dataframe tbody tr th {\n",
       "        vertical-align: top;\n",
       "    }\n",
       "\n",
       "    .dataframe thead th {\n",
       "        text-align: right;\n",
       "    }\n",
       "</style>\n",
       "<table border=\"1\" class=\"dataframe\">\n",
       "  <thead>\n",
       "    <tr style=\"text-align: right;\">\n",
       "      <th></th>\n",
       "      <th>map_x</th>\n",
       "      <th>map_y</th>\n",
       "      <th>guess_height</th>\n",
       "      <th>guess_img_x</th>\n",
       "      <th>guess_img_y</th>\n",
       "      <th>guess_tth</th>\n",
       "      <th>guess_chi</th>\n",
       "      <th>guess_cen_tth</th>\n",
       "      <th>guess_cen_chi</th>\n",
       "      <th>guess_fwhm_tth</th>\n",
       "      <th>guess_fwhm_chi</th>\n",
       "      <th>guess_int</th>\n",
       "      <th>guess_integrated</th>\n",
       "      <th>guess_fwhm_a</th>\n",
       "      <th>guess_fwhm_b</th>\n",
       "      <th>guess_rot_fwhm_tth</th>\n",
       "      <th>guess_rot_fwhm_chi</th>\n",
       "      <th>qx</th>\n",
       "      <th>qy</th>\n",
       "      <th>qz</th>\n",
       "    </tr>\n",
       "  </thead>\n",
       "  <tbody>\n",
       "    <tr>\n",
       "      <th>19900</th>\n",
       "      <td>6</td>\n",
       "      <td>31</td>\n",
       "      <td>22.055635</td>\n",
       "      <td>173</td>\n",
       "      <td>1106</td>\n",
       "      <td>31.295430</td>\n",
       "      <td>12.541561</td>\n",
       "      <td>31.291277</td>\n",
       "      <td>12.545436</td>\n",
       "      <td>0.082449</td>\n",
       "      <td>0.229291</td>\n",
       "      <td>877.689575</td>\n",
       "      <td>877.689575</td>\n",
       "      <td>0.082449</td>\n",
       "      <td>0.229291</td>\n",
       "      <td>0.082449</td>\n",
       "      <td>0.229291</td>\n",
       "      <td>-1.259837</td>\n",
       "      <td>0.026379</td>\n",
       "      <td>-0.078638</td>\n",
       "    </tr>\n",
       "    <tr>\n",
       "      <th>19901</th>\n",
       "      <td>6</td>\n",
       "      <td>31</td>\n",
       "      <td>19.890331</td>\n",
       "      <td>188</td>\n",
       "      <td>1110</td>\n",
       "      <td>31.320581</td>\n",
       "      <td>11.948736</td>\n",
       "      <td>31.317982</td>\n",
       "      <td>11.950029</td>\n",
       "      <td>0.081982</td>\n",
       "      <td>0.200145</td>\n",
       "      <td>494.598877</td>\n",
       "      <td>494.598877</td>\n",
       "      <td>0.081982</td>\n",
       "      <td>0.200145</td>\n",
       "      <td>0.081982</td>\n",
       "      <td>0.200145</td>\n",
       "      <td>-0.808756</td>\n",
       "      <td>0.572924</td>\n",
       "      <td>-0.048576</td>\n",
       "    </tr>\n",
       "    <tr>\n",
       "      <th>19902</th>\n",
       "      <td>6</td>\n",
       "      <td>31</td>\n",
       "      <td>17.665329</td>\n",
       "      <td>164</td>\n",
       "      <td>1104</td>\n",
       "      <td>31.289520</td>\n",
       "      <td>12.894376</td>\n",
       "      <td>31.284570</td>\n",
       "      <td>12.874092</td>\n",
       "      <td>0.083074</td>\n",
       "      <td>0.219613</td>\n",
       "      <td>555.382080</td>\n",
       "      <td>555.382080</td>\n",
       "      <td>0.083074</td>\n",
       "      <td>0.219613</td>\n",
       "      <td>0.083074</td>\n",
       "      <td>0.219613</td>\n",
       "      <td>-1.265171</td>\n",
       "      <td>-0.402092</td>\n",
       "      <td>-0.087315</td>\n",
       "    </tr>\n",
       "    <tr>\n",
       "      <th>19903</th>\n",
       "      <td>6</td>\n",
       "      <td>31</td>\n",
       "      <td>10.836966</td>\n",
       "      <td>149</td>\n",
       "      <td>1101</td>\n",
       "      <td>31.288353</td>\n",
       "      <td>13.479495</td>\n",
       "      <td>31.286928</td>\n",
       "      <td>13.477103</td>\n",
       "      <td>0.079875</td>\n",
       "      <td>0.227869</td>\n",
       "      <td>311.315277</td>\n",
       "      <td>311.315277</td>\n",
       "      <td>0.079875</td>\n",
       "      <td>0.227869</td>\n",
       "      <td>0.079875</td>\n",
       "      <td>0.227869</td>\n",
       "      <td>-0.799469</td>\n",
       "      <td>-1.029969</td>\n",
       "      <td>-0.084213</td>\n",
       "    </tr>\n",
       "    <tr>\n",
       "      <th>19904</th>\n",
       "      <td>6</td>\n",
       "      <td>31</td>\n",
       "      <td>11.885958</td>\n",
       "      <td>844</td>\n",
       "      <td>283</td>\n",
       "      <td>15.995026</td>\n",
       "      <td>-25.331395</td>\n",
       "      <td>16.003747</td>\n",
       "      <td>-25.324092</td>\n",
       "      <td>0.080220</td>\n",
       "      <td>0.385215</td>\n",
       "      <td>340.319122</td>\n",
       "      <td>340.319122</td>\n",
       "      <td>0.080220</td>\n",
       "      <td>0.385215</td>\n",
       "      <td>0.080220</td>\n",
       "      <td>0.385215</td>\n",
       "      <td>-2.900456</td>\n",
       "      <td>0.561880</td>\n",
       "      <td>-19.830781</td>\n",
       "    </tr>\n",
       "    <tr>\n",
       "      <th>19905</th>\n",
       "      <td>6</td>\n",
       "      <td>31</td>\n",
       "      <td>7.239217</td>\n",
       "      <td>143</td>\n",
       "      <td>1099</td>\n",
       "      <td>31.272962</td>\n",
       "      <td>13.719568</td>\n",
       "      <td>31.273598</td>\n",
       "      <td>13.701554</td>\n",
       "      <td>0.082580</td>\n",
       "      <td>0.212817</td>\n",
       "      <td>256.482544</td>\n",
       "      <td>256.482544</td>\n",
       "      <td>0.082580</td>\n",
       "      <td>0.212817</td>\n",
       "      <td>0.082580</td>\n",
       "      <td>0.212817</td>\n",
       "      <td>-0.606662</td>\n",
       "      <td>-1.303437</td>\n",
       "      <td>-0.102486</td>\n",
       "    </tr>\n",
       "    <tr>\n",
       "      <th>19906</th>\n",
       "      <td>6</td>\n",
       "      <td>31</td>\n",
       "      <td>3.965852</td>\n",
       "      <td>202</td>\n",
       "      <td>1110</td>\n",
       "      <td>31.272779</td>\n",
       "      <td>11.419869</td>\n",
       "      <td>31.271974</td>\n",
       "      <td>11.430003</td>\n",
       "      <td>0.084827</td>\n",
       "      <td>0.240880</td>\n",
       "      <td>166.790741</td>\n",
       "      <td>166.790741</td>\n",
       "      <td>0.084827</td>\n",
       "      <td>0.240880</td>\n",
       "      <td>0.084827</td>\n",
       "      <td>0.240880</td>\n",
       "      <td>-0.611975</td>\n",
       "      <td>1.318935</td>\n",
       "      <td>-0.104835</td>\n",
       "    </tr>\n",
       "    <tr>\n",
       "      <th>19907</th>\n",
       "      <td>6</td>\n",
       "      <td>31</td>\n",
       "      <td>3.442822</td>\n",
       "      <td>279</td>\n",
       "      <td>545</td>\n",
       "      <td>19.952324</td>\n",
       "      <td>12.561981</td>\n",
       "      <td>19.951483</td>\n",
       "      <td>12.546825</td>\n",
       "      <td>0.075307</td>\n",
       "      <td>0.355158</td>\n",
       "      <td>123.857353</td>\n",
       "      <td>123.857353</td>\n",
       "      <td>0.075307</td>\n",
       "      <td>0.355158</td>\n",
       "      <td>0.075307</td>\n",
       "      <td>0.355158</td>\n",
       "      <td>9.039915</td>\n",
       "      <td>-0.176715</td>\n",
       "      <td>-5.555474</td>\n",
       "    </tr>\n",
       "    <tr>\n",
       "      <th>19908</th>\n",
       "      <td>6</td>\n",
       "      <td>31</td>\n",
       "      <td>3.839542</td>\n",
       "      <td>266</td>\n",
       "      <td>542</td>\n",
       "      <td>19.948836</td>\n",
       "      <td>13.328160</td>\n",
       "      <td>19.942979</td>\n",
       "      <td>13.317172</td>\n",
       "      <td>0.075162</td>\n",
       "      <td>0.329447</td>\n",
       "      <td>100.860748</td>\n",
       "      <td>100.860748</td>\n",
       "      <td>0.075162</td>\n",
       "      <td>0.329447</td>\n",
       "      <td>0.075162</td>\n",
       "      <td>0.329447</td>\n",
       "      <td>6.582010</td>\n",
       "      <td>6.141639</td>\n",
       "      <td>-5.478746</td>\n",
       "    </tr>\n",
       "    <tr>\n",
       "      <th>19909</th>\n",
       "      <td>6</td>\n",
       "      <td>31</td>\n",
       "      <td>2.936779</td>\n",
       "      <td>573</td>\n",
       "      <td>1413</td>\n",
       "      <td>36.893603</td>\n",
       "      <td>-2.549382</td>\n",
       "      <td>36.892723</td>\n",
       "      <td>-2.549681</td>\n",
       "      <td>0.083057</td>\n",
       "      <td>0.180251</td>\n",
       "      <td>77.162994</td>\n",
       "      <td>77.162994</td>\n",
       "      <td>0.083057</td>\n",
       "      <td>0.180251</td>\n",
       "      <td>0.083057</td>\n",
       "      <td>0.180251</td>\n",
       "      <td>6.071120</td>\n",
       "      <td>4.081783</td>\n",
       "      <td>-3.120611</td>\n",
       "    </tr>\n",
       "    <tr>\n",
       "      <th>19910</th>\n",
       "      <td>6</td>\n",
       "      <td>31</td>\n",
       "      <td>1.972482</td>\n",
       "      <td>584</td>\n",
       "      <td>1412</td>\n",
       "      <td>36.882810</td>\n",
       "      <td>-2.917326</td>\n",
       "      <td>36.881879</td>\n",
       "      <td>-2.915262</td>\n",
       "      <td>0.088158</td>\n",
       "      <td>0.190665</td>\n",
       "      <td>80.368774</td>\n",
       "      <td>80.368774</td>\n",
       "      <td>0.088158</td>\n",
       "      <td>0.190665</td>\n",
       "      <td>0.088158</td>\n",
       "      <td>0.190665</td>\n",
       "      <td>7.202833</td>\n",
       "      <td>1.658639</td>\n",
       "      <td>-3.200355</td>\n",
       "    </tr>\n",
       "    <tr>\n",
       "      <th>19911</th>\n",
       "      <td>6</td>\n",
       "      <td>31</td>\n",
       "      <td>2.003496</td>\n",
       "      <td>859</td>\n",
       "      <td>275</td>\n",
       "      <td>15.980475</td>\n",
       "      <td>-26.487887</td>\n",
       "      <td>15.981222</td>\n",
       "      <td>-26.474618</td>\n",
       "      <td>0.085212</td>\n",
       "      <td>0.420331</td>\n",
       "      <td>77.328918</td>\n",
       "      <td>77.328918</td>\n",
       "      <td>0.085212</td>\n",
       "      <td>0.420331</td>\n",
       "      <td>0.085212</td>\n",
       "      <td>0.420331</td>\n",
       "      <td>-0.620701</td>\n",
       "      <td>2.663911</td>\n",
       "      <td>-19.894861</td>\n",
       "    </tr>\n",
       "    <tr>\n",
       "      <th>19912</th>\n",
       "      <td>6</td>\n",
       "      <td>31</td>\n",
       "      <td>1.414793</td>\n",
       "      <td>556</td>\n",
       "      <td>1412</td>\n",
       "      <td>36.861910</td>\n",
       "      <td>-1.983824</td>\n",
       "      <td>36.867251</td>\n",
       "      <td>-1.987237</td>\n",
       "      <td>0.087589</td>\n",
       "      <td>0.193761</td>\n",
       "      <td>47.380711</td>\n",
       "      <td>47.380711</td>\n",
       "      <td>0.087589</td>\n",
       "      <td>0.193761</td>\n",
       "      <td>0.087589</td>\n",
       "      <td>0.193761</td>\n",
       "      <td>3.030568</td>\n",
       "      <td>6.851688</td>\n",
       "      <td>-3.309217</td>\n",
       "    </tr>\n",
       "    <tr>\n",
       "      <th>19913</th>\n",
       "      <td>6</td>\n",
       "      <td>31</td>\n",
       "      <td>1.080311</td>\n",
       "      <td>546</td>\n",
       "      <td>1413</td>\n",
       "      <td>36.876101</td>\n",
       "      <td>-1.649235</td>\n",
       "      <td>36.873866</td>\n",
       "      <td>-1.666176</td>\n",
       "      <td>0.091638</td>\n",
       "      <td>0.183184</td>\n",
       "      <td>37.544304</td>\n",
       "      <td>37.544304</td>\n",
       "      <td>0.091638</td>\n",
       "      <td>0.183184</td>\n",
       "      <td>0.091638</td>\n",
       "      <td>0.183184</td>\n",
       "      <td>0.709187</td>\n",
       "      <td>7.412827</td>\n",
       "      <td>-3.259807</td>\n",
       "    </tr>\n",
       "    <tr>\n",
       "      <th>19914</th>\n",
       "      <td>6</td>\n",
       "      <td>31</td>\n",
       "      <td>0.883553</td>\n",
       "      <td>251</td>\n",
       "      <td>1117</td>\n",
       "      <td>31.261468</td>\n",
       "      <td>9.515638</td>\n",
       "      <td>31.259865</td>\n",
       "      <td>9.527770</td>\n",
       "      <td>0.099822</td>\n",
       "      <td>0.196232</td>\n",
       "      <td>36.665581</td>\n",
       "      <td>36.665581</td>\n",
       "      <td>0.099822</td>\n",
       "      <td>0.196232</td>\n",
       "      <td>0.099822</td>\n",
       "      <td>0.196232</td>\n",
       "      <td>1.566998</td>\n",
       "      <td>0.161962</td>\n",
       "      <td>-0.123176</td>\n",
       "    </tr>\n",
       "    <tr>\n",
       "      <th>19915</th>\n",
       "      <td>6</td>\n",
       "      <td>31</td>\n",
       "      <td>0.758139</td>\n",
       "      <td>601</td>\n",
       "      <td>1415</td>\n",
       "      <td>36.958609</td>\n",
       "      <td>-3.477870</td>\n",
       "      <td>36.955965</td>\n",
       "      <td>-3.470879</td>\n",
       "      <td>0.099134</td>\n",
       "      <td>0.189569</td>\n",
       "      <td>33.066895</td>\n",
       "      <td>33.066895</td>\n",
       "      <td>0.099134</td>\n",
       "      <td>0.189569</td>\n",
       "      <td>0.099134</td>\n",
       "      <td>0.189569</td>\n",
       "      <td>6.489292</td>\n",
       "      <td>-2.217574</td>\n",
       "      <td>-2.672283</td>\n",
       "    </tr>\n",
       "    <tr>\n",
       "      <th>19916</th>\n",
       "      <td>6</td>\n",
       "      <td>31</td>\n",
       "      <td>0.982186</td>\n",
       "      <td>150</td>\n",
       "      <td>1327</td>\n",
       "      <td>35.713918</td>\n",
       "      <td>11.911636</td>\n",
       "      <td>35.707923</td>\n",
       "      <td>11.920005</td>\n",
       "      <td>0.091402</td>\n",
       "      <td>0.183311</td>\n",
       "      <td>22.868269</td>\n",
       "      <td>22.868269</td>\n",
       "      <td>0.091402</td>\n",
       "      <td>0.183311</td>\n",
       "      <td>0.091402</td>\n",
       "      <td>0.183311</td>\n",
       "      <td>-7.386430</td>\n",
       "      <td>5.572956</td>\n",
       "      <td>-14.271932</td>\n",
       "    </tr>\n",
       "    <tr>\n",
       "      <th>19917</th>\n",
       "      <td>6</td>\n",
       "      <td>31</td>\n",
       "      <td>0.755550</td>\n",
       "      <td>928</td>\n",
       "      <td>241</td>\n",
       "      <td>16.037943</td>\n",
       "      <td>-31.686131</td>\n",
       "      <td>16.034316</td>\n",
       "      <td>-31.663897</td>\n",
       "      <td>0.080105</td>\n",
       "      <td>0.405229</td>\n",
       "      <td>27.134773</td>\n",
       "      <td>27.134773</td>\n",
       "      <td>0.080105</td>\n",
       "      <td>0.405229</td>\n",
       "      <td>0.080105</td>\n",
       "      <td>0.405229</td>\n",
       "      <td>-3.149942</td>\n",
       "      <td>0.797507</td>\n",
       "      <td>-19.735952</td>\n",
       "    </tr>\n",
       "  </tbody>\n",
       "</table>\n",
       "</div>"
      ],
      "text/plain": [
       "       map_x  map_y  guess_height  guess_img_x  guess_img_y  guess_tth  \\\n",
       "19900      6     31     22.055635          173         1106  31.295430   \n",
       "19901      6     31     19.890331          188         1110  31.320581   \n",
       "19902      6     31     17.665329          164         1104  31.289520   \n",
       "19903      6     31     10.836966          149         1101  31.288353   \n",
       "19904      6     31     11.885958          844          283  15.995026   \n",
       "19905      6     31      7.239217          143         1099  31.272962   \n",
       "19906      6     31      3.965852          202         1110  31.272779   \n",
       "19907      6     31      3.442822          279          545  19.952324   \n",
       "19908      6     31      3.839542          266          542  19.948836   \n",
       "19909      6     31      2.936779          573         1413  36.893603   \n",
       "19910      6     31      1.972482          584         1412  36.882810   \n",
       "19911      6     31      2.003496          859          275  15.980475   \n",
       "19912      6     31      1.414793          556         1412  36.861910   \n",
       "19913      6     31      1.080311          546         1413  36.876101   \n",
       "19914      6     31      0.883553          251         1117  31.261468   \n",
       "19915      6     31      0.758139          601         1415  36.958609   \n",
       "19916      6     31      0.982186          150         1327  35.713918   \n",
       "19917      6     31      0.755550          928          241  16.037943   \n",
       "\n",
       "       guess_chi  guess_cen_tth  guess_cen_chi  guess_fwhm_tth  \\\n",
       "19900  12.541561      31.291277      12.545436        0.082449   \n",
       "19901  11.948736      31.317982      11.950029        0.081982   \n",
       "19902  12.894376      31.284570      12.874092        0.083074   \n",
       "19903  13.479495      31.286928      13.477103        0.079875   \n",
       "19904 -25.331395      16.003747     -25.324092        0.080220   \n",
       "19905  13.719568      31.273598      13.701554        0.082580   \n",
       "19906  11.419869      31.271974      11.430003        0.084827   \n",
       "19907  12.561981      19.951483      12.546825        0.075307   \n",
       "19908  13.328160      19.942979      13.317172        0.075162   \n",
       "19909  -2.549382      36.892723      -2.549681        0.083057   \n",
       "19910  -2.917326      36.881879      -2.915262        0.088158   \n",
       "19911 -26.487887      15.981222     -26.474618        0.085212   \n",
       "19912  -1.983824      36.867251      -1.987237        0.087589   \n",
       "19913  -1.649235      36.873866      -1.666176        0.091638   \n",
       "19914   9.515638      31.259865       9.527770        0.099822   \n",
       "19915  -3.477870      36.955965      -3.470879        0.099134   \n",
       "19916  11.911636      35.707923      11.920005        0.091402   \n",
       "19917 -31.686131      16.034316     -31.663897        0.080105   \n",
       "\n",
       "       guess_fwhm_chi   guess_int  guess_integrated  guess_fwhm_a  \\\n",
       "19900        0.229291  877.689575        877.689575      0.082449   \n",
       "19901        0.200145  494.598877        494.598877      0.081982   \n",
       "19902        0.219613  555.382080        555.382080      0.083074   \n",
       "19903        0.227869  311.315277        311.315277      0.079875   \n",
       "19904        0.385215  340.319122        340.319122      0.080220   \n",
       "19905        0.212817  256.482544        256.482544      0.082580   \n",
       "19906        0.240880  166.790741        166.790741      0.084827   \n",
       "19907        0.355158  123.857353        123.857353      0.075307   \n",
       "19908        0.329447  100.860748        100.860748      0.075162   \n",
       "19909        0.180251   77.162994         77.162994      0.083057   \n",
       "19910        0.190665   80.368774         80.368774      0.088158   \n",
       "19911        0.420331   77.328918         77.328918      0.085212   \n",
       "19912        0.193761   47.380711         47.380711      0.087589   \n",
       "19913        0.183184   37.544304         37.544304      0.091638   \n",
       "19914        0.196232   36.665581         36.665581      0.099822   \n",
       "19915        0.189569   33.066895         33.066895      0.099134   \n",
       "19916        0.183311   22.868269         22.868269      0.091402   \n",
       "19917        0.405229   27.134773         27.134773      0.080105   \n",
       "\n",
       "       guess_fwhm_b  guess_rot_fwhm_tth  guess_rot_fwhm_chi        qx  \\\n",
       "19900      0.229291            0.082449            0.229291 -1.259837   \n",
       "19901      0.200145            0.081982            0.200145 -0.808756   \n",
       "19902      0.219613            0.083074            0.219613 -1.265171   \n",
       "19903      0.227869            0.079875            0.227869 -0.799469   \n",
       "19904      0.385215            0.080220            0.385215 -2.900456   \n",
       "19905      0.212817            0.082580            0.212817 -0.606662   \n",
       "19906      0.240880            0.084827            0.240880 -0.611975   \n",
       "19907      0.355158            0.075307            0.355158  9.039915   \n",
       "19908      0.329447            0.075162            0.329447  6.582010   \n",
       "19909      0.180251            0.083057            0.180251  6.071120   \n",
       "19910      0.190665            0.088158            0.190665  7.202833   \n",
       "19911      0.420331            0.085212            0.420331 -0.620701   \n",
       "19912      0.193761            0.087589            0.193761  3.030568   \n",
       "19913      0.183184            0.091638            0.183184  0.709187   \n",
       "19914      0.196232            0.099822            0.196232  1.566998   \n",
       "19915      0.189569            0.099134            0.189569  6.489292   \n",
       "19916      0.183311            0.091402            0.183311 -7.386430   \n",
       "19917      0.405229            0.080105            0.405229 -3.149942   \n",
       "\n",
       "             qy         qz  \n",
       "19900  0.026379  -0.078638  \n",
       "19901  0.572924  -0.048576  \n",
       "19902 -0.402092  -0.087315  \n",
       "19903 -1.029969  -0.084213  \n",
       "19904  0.561880 -19.830781  \n",
       "19905 -1.303437  -0.102486  \n",
       "19906  1.318935  -0.104835  \n",
       "19907 -0.176715  -5.555474  \n",
       "19908  6.141639  -5.478746  \n",
       "19909  4.081783  -3.120611  \n",
       "19910  1.658639  -3.200355  \n",
       "19911  2.663911 -19.894861  \n",
       "19912  6.851688  -3.309217  \n",
       "19913  7.412827  -3.259807  \n",
       "19914  0.161962  -0.123176  \n",
       "19915 -2.217574  -2.672283  \n",
       "19916  5.572956 -14.271932  \n",
       "19917  0.797507 -19.735952  "
      ]
     },
     "execution_count": 343,
     "metadata": {},
     "output_type": "execute_result"
    }
   ],
   "source": [
    "pixel_df"
   ]
  },
  {
   "cell_type": "code",
   "execution_count": null,
   "metadata": {},
   "outputs": [
    {
     "data": {
      "text/plain": [
       "array([[ 2.39467839],\n",
       "       [-1.43886794],\n",
       "       [-0.39263059]])"
      ]
     },
     "execution_count": 352,
     "metadata": {},
     "output_type": "execute_result"
    }
   ],
   "source": [
    "from xrdmaptools.geometry.geometry import get_q_vect\n",
    "\n",
    "get_q_vect(16, -31, test.wavelength, degrees=True)"
   ]
  },
  {
   "cell_type": "code",
   "execution_count": null,
   "metadata": {},
   "outputs": [],
   "source": [
    "test.plot_image(test.q_arr[2])"
   ]
  },
  {
   "cell_type": "code",
   "execution_count": null,
   "metadata": {},
   "outputs": [
    {
     "data": {
      "text/plain": [
       "array([ 1.26256417,  0.99231431,  1.33039876,  1.30655192, 20.04964433,\n",
       "        1.44135023,  1.45777025, 10.61200194, 10.53846494,  7.95346865,\n",
       "        8.05444957, 20.08201186,  8.19029211,  8.12891677,  1.58015398,\n",
       "        7.36000348, 17.00897523, 20.00164912])"
      ]
     },
     "execution_count": 342,
     "metadata": {},
     "output_type": "execute_result"
    }
   ],
   "source": [
    "spot_q_vals"
   ]
  },
  {
   "cell_type": "code",
   "execution_count": null,
   "metadata": {},
   "outputs": [
    {
     "name": "stderr",
     "output_type": "stream",
     "text": [
      "100%|██████████| 3381/3381 [00:01<00:00, 2290.71it/s]\n"
     ]
    }
   ],
   "source": [
    "# Phase matching/mapping\n",
    "\n",
    "#from sklearn.metrics.pairwise import euclidean_distances\n",
    "from tqdm import tqdm\n",
    "\n",
    "near_thresh = 0.05\n",
    "sum_key = 'guess_int'\n",
    "method = 'maximize_phase'\n",
    "#method = 'maximize_spots'\n",
    "\n",
    "phase_keys = list(test.phases.keys())\n",
    "phase_list = list(test.phases.values())\n",
    "#phase_list = new_phase_list\n",
    "\n",
    "[phase.get_hkl_reflections(tth_range=(np.min(test.tth_arr), np.max(test.tth_arr)),\n",
    "                               ignore_less=1)\n",
    "        for phase in phase_list];\n",
    "\n",
    "plot_map = np.zeros(test.map.map_shape)\n",
    "plot_map[:] = 0\n",
    "\n",
    "plot_dict = {}\n",
    "for phase in phase_list:\n",
    "    plot_dict[phase.name] = plot_map.copy()\n",
    "plot_dict['unmatched'] = plot_map.copy()\n",
    "\n",
    "for index in tqdm(range(test.map.num_pixels)):\n",
    "    indices = np.unravel_index(index, test.map.map_shape)\n",
    "\n",
    "    image = test.map.images[indices]\n",
    "    pixel_df = test.pixel_spots(indices)\n",
    "    #pixel_df = pixel_df.copy().dropna()\n",
    "    num_spots = len(pixel_df)\n",
    "    \n",
    "    if num_spots > 1:\n",
    "        spot_q_vals = np.linalg.norm(pixel_df[['qx', 'qy', 'qz']].values, axis=1)\n",
    "\n",
    "        phase_diffs = []\n",
    "        pot_matches = []\n",
    "        phase_matches = []\n",
    "        spot_matches = []\n",
    "        for phase in phase_list:\n",
    "            phase_q_vals = phase.reflections['q']\n",
    "            #dist_arr = euclidean_distances(phase_q_vals.reshape(-1, 1), spot_q_vals.reshape(-1, 1))\n",
    "            diff_arr = np.abs(phase_q_vals[:, np.newaxis] - spot_q_vals[np.newaxis, :])\n",
    "            phase_diffs.append(diff_arr)\n",
    "            pot_match = diff_arr < near_thresh\n",
    "            pot_matches.append(pot_match)\n",
    "\n",
    "            # Fraction of phase reflections explained by found spots\n",
    "            #phase_matches.append(np.sum(pot_match / len(test.phases)))\n",
    "            phase_matches.append(np.sum(np.any(pot_matches[-1], axis=1)) / len(phase_q_vals))\n",
    "\n",
    "            # Number of spots explained by a given phase\n",
    "            spot_matches.append(np.sum(np.any(pot_matches[-1], axis=0)))\n",
    "            #raise\n",
    "\n",
    "        # Track which spots have been matched\n",
    "        rem_spot_mask = [True,] * num_spots\n",
    "\n",
    "        if method in ['maximize_phase']:\n",
    "            # Maximize phase matches\n",
    "            # Should work better for polycrystalline patterns\n",
    "            while (np.any(rem_spot_mask)) and (np.sum(phase_matches) > 0):\n",
    "                # Check for more than 1 fully represented array\n",
    "                if np.sum(np.array(phase_matches) == 1) > 1:\n",
    "                    stacked_diffs = np.stack([np.min(diffs, axis=0) for diffs in phase_diffs])\n",
    "                    spot_mask = np.min(stacked_diffs, axis=0) < near_thresh\n",
    "                    phase_ind = np.argmin(stacked_diffs, axis=0)\n",
    "                    phase_ind[~spot_mask] = -1\n",
    "                    phase_mask = (np.array(phase_matches) == 1)\n",
    "                    phase_count = [0,] * len(phase_list)\n",
    "                    for ind in phase_ind:\n",
    "                        if phase_mask[ind]:\n",
    "                            phase_count[ind] += 1\n",
    "                    max_ind = np.argmax(phase_count)\n",
    "                else:\n",
    "                    max_ind = np.argmax(phase_matches)\n",
    "\n",
    "                # Index matching spots\n",
    "                spot_mask = np.any(pot_matches[max_ind], axis=0)\n",
    "                # Remove indexed spots from future use\n",
    "                spot_mask *= rem_spot_mask\n",
    "                rem_spot_mask *= ~spot_mask\n",
    "\n",
    "                # Finally, find the value and remove reflections\n",
    "                val = np.nansum(pixel_df[sum_key].values[spot_mask])\n",
    "                phase_matches[max_ind] = 0\n",
    "\n",
    "                # Fill value\n",
    "                plot_dict[phase_list[max_ind].name][indices] = val\n",
    "\n",
    "        elif method in ['maximize_spots']:\n",
    "            # Maxmize spot_matches\n",
    "            # Not sure when this one should work better\n",
    "            while (np.any(rem_spot_mask)) and (np.sum(spot_matches) > 0):\n",
    "                max_ind = np.argmax(spot_matches)\n",
    "                # Index matching spots\n",
    "                spot_mask = np.any(pot_matches[max_ind], axis=0)\n",
    "                # Remove indexed spots from future use\n",
    "                spot_mask *= rem_spot_mask\n",
    "                rem_spot_mask *= ~spot_mask\n",
    "\n",
    "                # Finally, find the value\n",
    "                val = np.nansum(pixel_df[sum_key].values[spot_mask])\n",
    "                spot_matches[max_ind] = 0\n",
    "\n",
    "                # Fill value\n",
    "                plot_dict[phase_list[max_ind].name][indices] = val\n",
    "\n",
    "        elif method in ['minimize_q_error']:\n",
    "        # Minimize Q difference\n",
    "        # Should work better for perfect crystals and detector calibration...\n",
    "            stacked_diffs = np.stack([np.min(diffs, axis=0) for diffs in phase_diffs])\n",
    "            spot_mask = np.min(stacked_diffs, axis=0) < near_thresh\n",
    "            phase_ind = np.argmin(stacked_diffs, axis=0)\n",
    "            phase_ind[~spot_mask] = -1\n",
    "            for i in range(len(phase_list)):\n",
    "                val = np.nansum(pixel_df[sum_key].values[phase_ind == i])\n",
    "                plot_dict[phase_list[i].name][indices] = val\n",
    "            rem_spot_mask = ~spot_mask\n",
    "\n",
    "        # Collect unmatched spots\n",
    "        if np.any(rem_spot_mask):\n",
    "            val = np.nansum(pixel_df[sum_key].values[rem_spot_mask])\n",
    "            plot_dict['unmatched'][indices] = val\n"
   ]
  },
  {
   "cell_type": "code",
   "execution_count": null,
   "metadata": {},
   "outputs": [],
   "source": [
    "fig, axes = plt.subplots(2, 2, figsize=(5, 5), dpi=200)\n",
    "ax = axes.ravel()\n",
    "\n",
    "for i, key in enumerate(plot_dict.keys()):\n",
    "    if key == 'unmatched':\n",
    "        pass\n",
    "        continue\n",
    "\n",
    "    im = ax[i].imshow(plot_dict[key], extent=test.map_extent)\n",
    "    fig.colorbar(im, ax=ax[i], shrink=0.4)\n",
    "\n",
    "    ax[i].set_title(key)\n",
    "\n",
    "plt.tight_layout()"
   ]
  },
  {
   "cell_type": "code",
   "execution_count": null,
   "metadata": {},
   "outputs": [],
   "source": []
  },
  {
   "cell_type": "code",
   "execution_count": null,
   "metadata": {},
   "outputs": [],
   "source": []
  },
  {
   "cell_type": "code",
   "execution_count": null,
   "metadata": {},
   "outputs": [],
   "source": []
  },
  {
   "cell_type": "code",
   "execution_count": null,
   "metadata": {},
   "outputs": [],
   "source": []
  },
  {
   "cell_type": "code",
   "execution_count": null,
   "metadata": {},
   "outputs": [],
   "source": []
  },
  {
   "cell_type": "code",
   "execution_count": null,
   "metadata": {},
   "outputs": [],
   "source": []
  },
  {
   "cell_type": "code",
   "execution_count": null,
   "metadata": {},
   "outputs": [],
   "source": []
  },
  {
   "cell_type": "code",
   "execution_count": null,
   "metadata": {},
   "outputs": [],
   "source": []
  },
  {
   "cell_type": "code",
   "execution_count": null,
   "metadata": {},
   "outputs": [],
   "source": [
    "test.plot_image(test.map.max_image)"
   ]
  },
  {
   "cell_type": "code",
   "execution_count": null,
   "metadata": {},
   "outputs": [],
   "source": [
    "from skimage.restoration import rolling_ball\n",
    "\n",
    "tth_num = 2048\n",
    "radius = 25\n",
    "\n",
    "tth, xrd = test.integrate_1d(image=test.map.max_image, tth_num=tth_num, unit='2th_deg')\n",
    "\n",
    "#xrd[-1] = xrd[-2]\n",
    "\n",
    "bkg = rolling_ball(xrd, radius=radius)\n",
    "\n",
    "fig, ax = plt.subplots(1, 1, figsize=(5, 5), dpi=200)\n",
    "\n",
    "ax.plot(tth, xrd, label='raw')\n",
    "ax.plot(tth, xrd - bkg, label='corr')\n",
    "ax.plot(tth, bkg, label='bkg')\n",
    "\n",
    "ax.legend()\n",
    "\n",
    "fig.show()"
   ]
  },
  {
   "cell_type": "code",
   "execution_count": null,
   "metadata": {},
   "outputs": [],
   "source": [
    "from xrdmaptools.utilities.math import tth_2_q\n",
    "from xrdmaptools.utilities.image_corrections import rescale_array\n",
    "\n",
    "q = tth_2_q(tth, test.wavelength)"
   ]
  },
  {
   "cell_type": "code",
   "execution_count": null,
   "metadata": {},
   "outputs": [],
   "source": [
    "arr = np.array([tth, q, rescale_array(xrd - bkg, arr_min=0, upper=100)])\n",
    "arr = np.round(arr, 10)\n",
    "np.savetxt(f'{test.wd}scan{test.scanid}_integrated_{len(tth)}.csv', arr, delimiter=',', fmt='%1.10f')"
   ]
  },
  {
   "cell_type": "code",
   "execution_count": null,
   "metadata": {},
   "outputs": [],
   "source": [
    "fig, ax = plt.subplots(1, 1, figsize=(5, 5), dpi=200)\n",
    "\n",
    "ax.plot(arr[0], arr[-1], '.-')\n",
    "ax.set_ylim(0)\n",
    "\n",
    "fig.show()"
   ]
  },
  {
   "cell_type": "code",
   "execution_count": null,
   "metadata": {},
   "outputs": [
    {
     "data": {
      "text/plain": [
       "0.7749012402075017"
      ]
     },
     "execution_count": 426,
     "metadata": {},
     "output_type": "execute_result"
    }
   ],
   "source": [
    "from xrdmaptools.utilities.math import energy_2_wavelength\n",
    "\n",
    "energy_2_wavelength(16)"
   ]
  },
  {
   "cell_type": "code",
   "execution_count": null,
   "metadata": {},
   "outputs": [],
   "source": []
  },
  {
   "cell_type": "code",
   "execution_count": null,
   "metadata": {},
   "outputs": [],
   "source": [
    "dwell = 1.2\n",
    "det_sets = '_ln_4x4_'\n",
    "\n",
    "dark_dir = '''D:\\\\Musterman_postdoc\\\\20240125_Musterman\\\\dark_fields\\\\fit_images\\\\'''\n",
    "dark_paths = np.array(os.listdir(dark_dir))\n",
    "offset_mask = [det_sets in x and 'offset' in x for x in dark_paths]\n",
    "offset_df = io.imread(f'{dark_dir}{dark_paths[offset_mask][0]}').astype(np.float32)\n",
    "scale_mask = [det_sets in x and 'slope' in x for x in dark_paths]\n",
    "slope_df = io.imread(f'{dark_dir}{dark_paths[scale_mask][0]}').astype(np.float32)\n",
    "\n",
    "dark_field = slope_df * dwell + offset_df\n",
    "#scaled_df = dark_field * np.median(test.map.min_image) / np.median(dark_field)\n",
    "#test.map.correct_dark_field(dark_field=dark_field)"
   ]
  },
  {
   "cell_type": "code",
   "execution_count": null,
   "metadata": {},
   "outputs": [
    {
     "name": "stdout",
     "output_type": "stream",
     "text": [
      "Correcting dark-field...done!\n"
     ]
    }
   ],
   "source": [
    "det_sets = '_ln_4x4_'\n",
    "dark_dir = '''C:\\\\Users\\\\emusterma\\\\OneDrive - Brookhaven National Laboratory\\\\Documents\\\\Postdoc\\\\Data\\\\Condensed Datasets\\\\'''\n",
    "dark_field = io.imread(f'{dark_dir}dexela_df_avg.tif')\n",
    "scaled_df = dark_field * np.median(test.map.min_image) / np.median(dark_field)\n",
    "test.map.correct_dark_field(dark_field=scaled_df)"
   ]
  },
  {
   "cell_type": "code",
   "execution_count": null,
   "metadata": {},
   "outputs": [
    {
     "data": {
      "text/html": [
       "<table>\n",
       "    <tr>\n",
       "        <td>\n",
       "            <table style=\"border-collapse: collapse;\">\n",
       "                <thead>\n",
       "                    <tr>\n",
       "                        <td> </td>\n",
       "                        <th> Array </th>\n",
       "                        <th> Chunk </th>\n",
       "                    </tr>\n",
       "                </thead>\n",
       "                <tbody>\n",
       "                    \n",
       "                    <tr>\n",
       "                        <th> Bytes </th>\n",
       "                        <td> 20.36 GiB </td>\n",
       "                        <td> 411.49 MiB </td>\n",
       "                    </tr>\n",
       "                    \n",
       "                    <tr>\n",
       "                        <th> Shape </th>\n",
       "                        <td> (121, 121, 486, 768) </td>\n",
       "                        <td> (17, 17, 486, 768) </td>\n",
       "                    </tr>\n",
       "                    <tr>\n",
       "                        <th> Dask graph </th>\n",
       "                        <td colspan=\"2\"> 64 chunks in 1 graph layer </td>\n",
       "                    </tr>\n",
       "                    <tr>\n",
       "                        <th> Data type </th>\n",
       "                        <td colspan=\"2\"> float32 numpy.ndarray </td>\n",
       "                    </tr>\n",
       "                </tbody>\n",
       "            </table>\n",
       "        </td>\n",
       "        <td>\n",
       "        <svg width=\"414\" height=\"150\" style=\"stroke:rgb(0,0,0);stroke-width:1\" >\n",
       "\n",
       "  <!-- Horizontal lines -->\n",
       "  <line x1=\"0\" y1=\"0\" x2=\"40\" y2=\"0\" style=\"stroke-width:2\" />\n",
       "  <line x1=\"0\" y1=\"25\" x2=\"40\" y2=\"25\" style=\"stroke-width:2\" />\n",
       "\n",
       "  <!-- Vertical lines -->\n",
       "  <line x1=\"0\" y1=\"0\" x2=\"0\" y2=\"25\" style=\"stroke-width:2\" />\n",
       "  <line x1=\"5\" y1=\"0\" x2=\"5\" y2=\"25\" />\n",
       "  <line x1=\"11\" y1=\"0\" x2=\"11\" y2=\"25\" />\n",
       "  <line x1=\"17\" y1=\"0\" x2=\"17\" y2=\"25\" />\n",
       "  <line x1=\"23\" y1=\"0\" x2=\"23\" y2=\"25\" />\n",
       "  <line x1=\"28\" y1=\"0\" x2=\"28\" y2=\"25\" />\n",
       "  <line x1=\"34\" y1=\"0\" x2=\"34\" y2=\"25\" />\n",
       "  <line x1=\"40\" y1=\"0\" x2=\"40\" y2=\"25\" />\n",
       "  <line x1=\"40\" y1=\"0\" x2=\"40\" y2=\"25\" style=\"stroke-width:2\" />\n",
       "\n",
       "  <!-- Colored Rectangle -->\n",
       "  <polygon points=\"0.0,0.0 40.94110680050432,0.0 40.94110680050432,25.412616514582485 0.0,25.412616514582485\" style=\"fill:#ECB172A0;stroke-width:0\"/>\n",
       "\n",
       "  <!-- Text -->\n",
       "  <text x=\"20.470553\" y=\"45.412617\" font-size=\"1.0rem\" font-weight=\"100\" text-anchor=\"middle\" >121</text>\n",
       "  <text x=\"60.941107\" y=\"12.706308\" font-size=\"1.0rem\" font-weight=\"100\" text-anchor=\"middle\" transform=\"rotate(0,60.941107,12.706308)\">1</text>\n",
       "\n",
       "\n",
       "  <!-- Horizontal lines -->\n",
       "  <line x1=\"110\" y1=\"0\" x2=\"134\" y2=\"24\" style=\"stroke-width:2\" />\n",
       "  <line x1=\"110\" y1=\"75\" x2=\"134\" y2=\"100\" style=\"stroke-width:2\" />\n",
       "\n",
       "  <!-- Vertical lines -->\n",
       "  <line x1=\"110\" y1=\"0\" x2=\"110\" y2=\"75\" style=\"stroke-width:2\" />\n",
       "  <line x1=\"113\" y1=\"3\" x2=\"113\" y2=\"79\" />\n",
       "  <line x1=\"116\" y1=\"6\" x2=\"116\" y2=\"82\" />\n",
       "  <line x1=\"120\" y1=\"10\" x2=\"120\" y2=\"86\" />\n",
       "  <line x1=\"123\" y1=\"13\" x2=\"123\" y2=\"89\" />\n",
       "  <line x1=\"126\" y1=\"16\" x2=\"126\" y2=\"92\" />\n",
       "  <line x1=\"130\" y1=\"20\" x2=\"130\" y2=\"96\" />\n",
       "  <line x1=\"133\" y1=\"23\" x2=\"133\" y2=\"99\" />\n",
       "  <line x1=\"134\" y1=\"24\" x2=\"134\" y2=\"100\" style=\"stroke-width:2\" />\n",
       "\n",
       "  <!-- Colored Rectangle -->\n",
       "  <polygon points=\"110.0,0.0 134.08300400029665,24.08300400029666 134.08300400029665,100.02050400029665 110.0,75.9375\" style=\"fill:#ECB172A0;stroke-width:0\"/>\n",
       "\n",
       "  <!-- Horizontal lines -->\n",
       "  <line x1=\"110\" y1=\"0\" x2=\"230\" y2=\"0\" style=\"stroke-width:2\" />\n",
       "  <line x1=\"113\" y1=\"3\" x2=\"233\" y2=\"3\" />\n",
       "  <line x1=\"116\" y1=\"6\" x2=\"236\" y2=\"6\" />\n",
       "  <line x1=\"120\" y1=\"10\" x2=\"240\" y2=\"10\" />\n",
       "  <line x1=\"123\" y1=\"13\" x2=\"243\" y2=\"13\" />\n",
       "  <line x1=\"126\" y1=\"16\" x2=\"246\" y2=\"16\" />\n",
       "  <line x1=\"130\" y1=\"20\" x2=\"250\" y2=\"20\" />\n",
       "  <line x1=\"133\" y1=\"23\" x2=\"253\" y2=\"23\" />\n",
       "  <line x1=\"134\" y1=\"24\" x2=\"254\" y2=\"24\" style=\"stroke-width:2\" />\n",
       "\n",
       "  <!-- Vertical lines -->\n",
       "  <line x1=\"110\" y1=\"0\" x2=\"134\" y2=\"24\" style=\"stroke-width:2\" />\n",
       "  <line x1=\"230\" y1=\"0\" x2=\"254\" y2=\"24\" style=\"stroke-width:2\" />\n",
       "\n",
       "  <!-- Colored Rectangle -->\n",
       "  <polygon points=\"110.0,0.0 230.0,0.0 254.08300400029665,24.08300400029666 134.08300400029665,24.08300400029666\" style=\"fill:#ECB172A0;stroke-width:0\"/>\n",
       "\n",
       "  <!-- Horizontal lines -->\n",
       "  <line x1=\"134\" y1=\"24\" x2=\"254\" y2=\"24\" style=\"stroke-width:2\" />\n",
       "  <line x1=\"134\" y1=\"100\" x2=\"254\" y2=\"100\" style=\"stroke-width:2\" />\n",
       "\n",
       "  <!-- Vertical lines -->\n",
       "  <line x1=\"134\" y1=\"24\" x2=\"134\" y2=\"100\" style=\"stroke-width:2\" />\n",
       "  <line x1=\"254\" y1=\"24\" x2=\"254\" y2=\"100\" style=\"stroke-width:2\" />\n",
       "\n",
       "  <!-- Colored Rectangle -->\n",
       "  <polygon points=\"134.08300400029665,24.08300400029666 254.08300400029665,24.08300400029666 254.08300400029665,100.02050400029665 134.08300400029665,100.02050400029665\" style=\"fill:#ECB172A0;stroke-width:0\"/>\n",
       "\n",
       "  <!-- Text -->\n",
       "  <text x=\"194.083004\" y=\"120.020504\" font-size=\"1.0rem\" font-weight=\"100\" text-anchor=\"middle\" >768</text>\n",
       "  <text x=\"274.083004\" y=\"62.051754\" font-size=\"1.0rem\" font-weight=\"100\" text-anchor=\"middle\" transform=\"rotate(-90,274.083004,62.051754)\">486</text>\n",
       "  <text x=\"112.041502\" y=\"107.979002\" font-size=\"1.0rem\" font-weight=\"100\" text-anchor=\"middle\" transform=\"rotate(45,112.041502,107.979002)\">121</text>\n",
       "</svg>\n",
       "        </td>\n",
       "    </tr>\n",
       "</table>"
      ],
      "text/plain": [
       "dask.array<load-store-map, shape=(121, 121, 486, 768), dtype=float32, chunksize=(17, 17, 486, 768), chunktype=numpy.ndarray>"
      ]
     },
     "execution_count": 6,
     "metadata": {},
     "output_type": "execute_result"
    }
   ],
   "source": [
    "test.map.images"
   ]
  },
  {
   "cell_type": "code",
   "execution_count": null,
   "metadata": {},
   "outputs": [
    {
     "name": "stdout",
     "output_type": "stream",
     "text": [
      "Correcting flat-field...done!\n"
     ]
    }
   ],
   "source": [
    "flat_dir = '''D:\\\\Musterman_postdoc\\\\20240125_Musterman\\\\flat_fields\\\\'''\n",
    "flat_paths = np.array(os.listdir(flat_dir))\n",
    "flat_mask = [det_sets in x for x in flat_paths]\n",
    "flat_field = io.imread(f'{flat_dir}{flat_paths[flat_mask][0]}')\n",
    "test.map.correct_flat_field(flat_field=flat_field)"
   ]
  },
  {
   "cell_type": "code",
   "execution_count": null,
   "metadata": {},
   "outputs": [],
   "source": [
    "test.map._dask_2_hdf()"
   ]
  },
  {
   "cell_type": "code",
   "execution_count": null,
   "metadata": {},
   "outputs": [
    {
     "name": "stdout",
     "output_type": "stream",
     "text": [
      "Finding and correcting image outliers...done!\n",
      "No scaler array given. Approximating with image medians...\n",
      "Normalize image scalers...done!\n"
     ]
    }
   ],
   "source": [
    "test.map.correct_outliers()\n",
    "test.map.normalize_scaler()"
   ]
  },
  {
   "cell_type": "code",
   "execution_count": null,
   "metadata": {},
   "outputs": [],
   "source": [
    "test.plot_interactive_map(img_vmin=0, img_vmax=5000)"
   ]
  },
  {
   "cell_type": "code",
   "execution_count": null,
   "metadata": {},
   "outputs": [],
   "source": [
    "test.map._dask_2_hdf()"
   ]
  },
  {
   "cell_type": "code",
   "execution_count": null,
   "metadata": {},
   "outputs": [],
   "source": [
    "test.plot_image()"
   ]
  },
  {
   "cell_type": "code",
   "execution_count": null,
   "metadata": {},
   "outputs": [
    {
     "data": {
      "image/png": "[encoded data removed]",
      "text/plain": [
       "<IPython.core.display.Image object>"
      ]
     },
     "execution_count": 13,
     "metadata": {},
     "output_type": "execute_result"
    }
   ],
   "source": [
    "test.map.images.visualize(filename=None)"
   ]
  },
  {
   "cell_type": "code",
   "execution_count": null,
   "metadata": {},
   "outputs": [],
   "source": [
    "import scipy.ndimage as ndi\n",
    "import scipy.io as io\n",
    "from dask_image import ndfilters as dask_ndi\n",
    "from dask_image import imread as dask_io"
   ]
  },
  {
   "cell_type": "code",
   "execution_count": null,
   "metadata": {},
   "outputs": [],
   "source": [
    "test.map.dtype = np.float32"
   ]
  },
  {
   "cell_type": "code",
   "execution_count": null,
   "metadata": {},
   "outputs": [
    {
     "ename": "UFuncTypeError",
     "evalue": "Cannot cast ufunc 'add' output from dtype('float64') to dtype('int32') with casting rule 'same_kind'",
     "output_type": "error",
     "traceback": [
      "\u001b[1;31m---------------------------------------------------------------------------\u001b[0m",
      "\u001b[1;31mUFuncTypeError\u001b[0m                            Traceback (most recent call last)",
      "Cell \u001b[1;32mIn[38], line 1\u001b[0m\n\u001b[1;32m----> 1\u001b[0m \u001b[43mtest\u001b[49m\u001b[38;5;241;43m.\u001b[39;49m\u001b[43mmap\u001b[49m\u001b[38;5;241;43m.\u001b[39;49m\u001b[43mapply_lorentz_correction\u001b[49m\u001b[43m(\u001b[49m\u001b[43m)\u001b[49m\n\u001b[0;32m      2\u001b[0m test\u001b[38;5;241m.\u001b[39mmap\u001b[38;5;241m.\u001b[39mapply_polarization_correction()\n\u001b[0;32m      3\u001b[0m test\u001b[38;5;241m.\u001b[39mmap\u001b[38;5;241m.\u001b[39mapply_solidangle_correction()\n",
      "File \u001b[1;32m~\\OneDrive - Brookhaven National Laboratory\\Documents\\Postdoc\\Repositories\\SRX_sXRD_analysis\\testing_modules\\sXRD_ImageMap.py:582\u001b[0m, in \u001b[0;36mImageMap.apply_lorentz_correction\u001b[1;34m(self, experiment, corrections, custom, apply)\u001b[0m\n\u001b[0;32m    580\u001b[0m \u001b[38;5;66;03m# Check for discontinuities\u001b[39;00m\n\u001b[0;32m    581\u001b[0m \u001b[38;5;28;01mif\u001b[39;00m np\u001b[38;5;241m.\u001b[39mmax(np\u001b[38;5;241m.\u001b[39mgradient(chi_arr)) \u001b[38;5;241m>\u001b[39m (np\u001b[38;5;241m.\u001b[39mpi \u001b[38;5;241m/\u001b[39m \u001b[38;5;241m6\u001b[39m): \u001b[38;5;66;03m# Semi-arbitrary cut off\u001b[39;00m\n\u001b[1;32m--> 582\u001b[0m     \u001b[43mchi_arr\u001b[49m\u001b[43m[\u001b[49m\u001b[43mchi_arr\u001b[49m\u001b[43m \u001b[49m\u001b[38;5;241;43m<\u001b[39;49m\u001b[43m \u001b[49m\u001b[38;5;241;43m0\u001b[39;49m\u001b[43m]\u001b[49m\u001b[43m \u001b[49m\u001b[38;5;241;43m+\u001b[39;49m\u001b[38;5;241;43m=\u001b[39;49m\u001b[43m \u001b[49m\u001b[43m(\u001b[49m\u001b[38;5;241;43m2\u001b[39;49m\u001b[43m \u001b[49m\u001b[38;5;241;43m*\u001b[39;49m\u001b[43m \u001b[49m\u001b[43mnp\u001b[49m\u001b[38;5;241;43m.\u001b[39;49m\u001b[43mpi\u001b[49m\u001b[43m)\u001b[49m\n\u001b[0;32m    584\u001b[0m delta_chi \u001b[38;5;241m=\u001b[39m delta_array(chi_arr)\n\u001b[0;32m    585\u001b[0m frac_chi \u001b[38;5;241m=\u001b[39m delta_chi \u001b[38;5;241m/\u001b[39m (\u001b[38;5;241m2\u001b[39m \u001b[38;5;241m*\u001b[39m np\u001b[38;5;241m.\u001b[39mpi) \u001b[38;5;66;03m# fraction of circle\u001b[39;00m\n",
      "\u001b[1;31mUFuncTypeError\u001b[0m: Cannot cast ufunc 'add' output from dtype('float64') to dtype('int32') with casting rule 'same_kind'"
     ]
    }
   ],
   "source": [
    "test.map.apply_lorentz_correction()\n",
    "test.map.apply_polarization_correction()\n",
    "test.map.apply_solidangle_correction()"
   ]
  },
  {
   "cell_type": "code",
   "execution_count": null,
   "metadata": {},
   "outputs": [],
   "source": [
    "test.map.apply_defect_mask(min_bounds=(-np.inf, 800), max_bounds=(0, np.inf))\n",
    "test.plot_image(test.map.defect_mask)"
   ]
  },
  {
   "cell_type": "code",
   "execution_count": null,
   "metadata": {},
   "outputs": [],
   "source": [
    "test.map._dask_2_hdf()"
   ]
  },
  {
   "cell_type": "code",
   "execution_count": null,
   "metadata": {},
   "outputs": [],
   "source": [
    "#test.map.estimate_background(method='bruckner', binning=2, min_prominence=1)\n",
    "test.map.estimate_background(method='bruckner', binning=2, min_prominence=0.1)"
   ]
  },
  {
   "cell_type": "code",
   "execution_count": null,
   "metadata": {},
   "outputs": [],
   "source": [
    "test.plot_image(test.map.images[0, 0] - test.map.background[0, 0])"
   ]
  },
  {
   "cell_type": "code",
   "execution_count": null,
   "metadata": {},
   "outputs": [
    {
     "name": "stdout",
     "output_type": "stream",
     "text": [
      "Removing background...done!\n"
     ]
    }
   ],
   "source": [
    "test.map.remove_background()"
   ]
  },
  {
   "cell_type": "code",
   "execution_count": null,
   "metadata": {},
   "outputs": [],
   "source": [
    "test.map._dask_2_hdf()"
   ]
  },
  {
   "cell_type": "code",
   "execution_count": null,
   "metadata": {},
   "outputs": [],
   "source": [
    "test.map.apply_defect_mask(min_bounds=(-np.inf, 0), max_bounds=(-0, np.inf))\n",
    "#test.plot_image(test.map.defect_mask)"
   ]
  },
  {
   "cell_type": "code",
   "execution_count": null,
   "metadata": {},
   "outputs": [],
   "source": [
    "test.map._dask_2_hdf()"
   ]
  },
  {
   "cell_type": "code",
   "execution_count": null,
   "metadata": {},
   "outputs": [],
   "source": [
    "cif_dir = '''C:\\\\Users\\\\emusterma\\\\OneDrive - Brookhaven National Laboratory\\\\Documents\\\\Postdoc\\\\Literature\\\\CIF\\\\'''\n",
    "test.clear_phases()\n",
    "for filename, phase_name in zip(['AMCSD\\\\Hematite_0017806.cif',\n",
    "                                 'AMCSD\\\\Iron-alpha_0011214.cif',\n",
    "                                 'AMCSD\\\\Iron-beta_0011215.cif',\n",
    "                                 'AMCSD\\\\Iron-delta_0011216.cif',\n",
    "                                 'AMCSD\\\\Iron_0011146.cif',\n",
    "                                 'AMCSD\\\\Cementite_0013523.cif',\n",
    "                                 'AMCSD\\\\Zincite_0011555.cif'],\n",
    "                                ['Hematite', 'Iron-ferrite', 'Iron-beta',\n",
    "                                 'Iron-delta', 'Iron-austenite', 'Cementite',\n",
    "                                 'Zincite']):\n",
    "    \n",
    "    test.load_phase(filename, filedir=cif_dir, phase_name=phase_name)"
   ]
  },
  {
   "cell_type": "code",
   "execution_count": null,
   "metadata": {},
   "outputs": [],
   "source": [
    "test.load_phase('AMCSD\\\\Zincite_0011555.cif', filedir=cif_dir, phase_name=\"Zincite\")"
   ]
  },
  {
   "cell_type": "code",
   "execution_count": null,
   "metadata": {},
   "outputs": [
    {
     "name": "stdout",
     "output_type": "stream",
     "text": [
      "XU.materials: Warning: element O used instead of O-2\n",
      "XU.materials: Warning: element Nb used instead of Nb+5\n",
      "XU.materials: Warning: element Li used instead of Li+1\n"
     ]
    }
   ],
   "source": [
    "cif_dir = '''C:\\\\Users\\\\emusterma\\\\OneDrive - Brookhaven National Laboratory\\\\Documents\\\\Postdoc\\\\Literature\\\\CIF\\\\'''\n",
    "test.clear_phases()\n",
    "test.load_phase('Barker\\\\1521772COD.cif', filedir=cif_dir, phase_name=\"LiNbO3 161\")\n",
    "test.load_phase('Barker\\\\LiNbO3.cif', filedir=cif_dir, phase_name=\"LiNbO3 148\")\n",
    "test.load_phase('AMCSD\\\\Platinum_0011157.cif', filedir=cif_dir, phase_name=\"Platinum\")\n",
    "test.load_phase('AMCSD\\\\Calcite_0000984.cif', filedir=cif_dir, phase_name=\"Calcite\")\n",
    "test.load_phase('AMCSD\\\\Aluminum_0011136.cif', filedir=cif_dir, phase_name=\"Aluminum\")\n",
    "test.load_phase('AMCSD\\\\Zincite_0011555.cif', filedir=cif_dir, phase_name=\"Zincite\")\n",
    "#test.load_phase('AMCSD\\\\Gold_0011140.cif', filedir=cif_dir, phase_name=\"Gold\")\n",
    "#test.load_phase('AMCSD\\\\Chromium_0011209.cif', filedir=cif_dir, phase_name=\"Chromium BCC\")\n",
    "#test.load_phase('AMCSD\\\\Chromium_0011170.cif', filedir=cif_dir, phase_name=\"Chromium HCP\")\n",
    "#test.load_phase('AMCSD\\\\Chromium_0011144.cif', filedir=cif_dir, phase_name=\"Chromium FCC\")\n",
    "test.load_phase('AMCSD\\\\Stibnite_0008636.cif', filedir=cif_dir, phase_name=\"Stibnite\")\n",
    "test.load_phase('AMCSD\\\\Silicon_0011243.cif', filedir=cif_dir, phase_name=\"silicon\")\n",
    "test.load_phase('AMCSD\\\\Corundum_0009327.cif', filedir=cif_dir, phase_name=\"sapphire\")"
   ]
  },
  {
   "cell_type": "code",
   "execution_count": null,
   "metadata": {},
   "outputs": [],
   "source": [
    "stibnite = test.phases['Stibnite']\n",
    "linbo3 = test.phases['LiNbO3 161']\n",
    "silicon = test.phases['silicon']\n",
    "sapphire = test.phases['sapphire']"
   ]
  },
  {
   "cell_type": "code",
   "execution_count": null,
   "metadata": {},
   "outputs": [],
   "source": [
    "test.ai.dist = 0.390449\n",
    "test.ai.poni1 = 0.111684\n",
    "test.ai.poni2 = 0.033238\n",
    "test.ai.rot1 = -0.90864\n",
    "test.ai.rot2 = -0.00828204\n",
    "test.ai.rot3 = 3.14\n",
    "test._del_arr()"
   ]
  },
  {
   "cell_type": "code",
   "execution_count": null,
   "metadata": {},
   "outputs": [],
   "source": [
    "stibnite.get_hkl_reflections(tth_range=(0, np.max(test.tth_arr)), energy=22000)\n",
    "linbo3.get_hkl_reflections(tth_range=(0, np.max(test.tth_arr)), energy=22000)"
   ]
  },
  {
   "cell_type": "code",
   "execution_count": null,
   "metadata": {},
   "outputs": [],
   "source": [
    "silicon.get_hkl_reflections(tth_range=(0, 90), energy=8000)"
   ]
  },
  {
   "cell_type": "code",
   "execution_count": null,
   "metadata": {},
   "outputs": [],
   "source": []
  },
  {
   "cell_type": "code",
   "execution_count": null,
   "metadata": {},
   "outputs": [],
   "source": [
    "test.select_phases(remove_less_than=0.1)"
   ]
  },
  {
   "cell_type": "code",
   "execution_count": null,
   "metadata": {},
   "outputs": [
    {
     "data": {
      "text/plain": [
       "array([0.5, 0. , 0.5])"
      ]
     },
     "execution_count": 91,
     "metadata": {},
     "output_type": "execute_result"
    }
   ],
   "source": [
    "stibnite.lattice.symops[1].t"
   ]
  },
  {
   "cell_type": "code",
   "execution_count": null,
   "metadata": {},
   "outputs": [
    {
     "data": {
      "text/plain": [
       "array([[-0.5,  0.5,  0. ],\n",
       "       [ 0. ,  0.5,  0. ],\n",
       "       [ 0. ,  0. ,  0.5]])"
      ]
     },
     "execution_count": 89,
     "metadata": {},
     "output_type": "execute_result"
    }
   ],
   "source": [
    "linbo.lattice.symops[12].D\n"
   ]
  },
  {
   "cell_type": "code",
   "execution_count": null,
   "metadata": {},
   "outputs": [
    {
     "data": {
      "text/plain": [
       "array([0.70710678, 0.70710678, 0.        ])"
      ]
     },
     "execution_count": 88,
     "metadata": {},
     "output_type": "execute_result"
    }
   ],
   "source": [
    "v = linbo.lattice.symops[12].D @ [0, 1, 0]\n",
    "v /= np.linalg.norm(v)\n",
    "v"
   ]
  },
  {
   "cell_type": "code",
   "execution_count": null,
   "metadata": {},
   "outputs": [
    {
     "data": {
      "text/plain": [
       "array([-2.,  0.,  0.])"
      ]
     },
     "execution_count": 77,
     "metadata": {},
     "output_type": "execute_result"
    }
   ],
   "source": [
    "linbo.lattice.symops[12].apply_rotation([2, 0, 0])"
   ]
  },
  {
   "cell_type": "code",
   "execution_count": null,
   "metadata": {},
   "outputs": [
    {
     "name": "stdout",
     "output_type": "stream",
     "text": [
      "Reflection conditions:\n",
      " general: hkil: -h+k+l=3n, hki0: -h+k=3n, hh(-2h)l: l=3n, h-h0l: h+l=3n, l=2n, 000l: l=6n, h-h00: h=3n\n",
      "     18b: hkil: -h+k+l=3n, hki0: -h+k=3n, hh(-2h)l: l=3n, h-h0l: h+l=3n, l=2n, 000l: l=6n, h-h00: h=3n \n",
      "      6a: hkil: l=2n \n",
      "\n"
     ]
    }
   ],
   "source": [
    "print(linbo.lattice.reflection_conditions())"
   ]
  },
  {
   "cell_type": "code",
   "execution_count": null,
   "metadata": {},
   "outputs": [
    {
     "name": "stdout",
     "output_type": "stream",
     "text": [
      "Composite of current images is not saved. Creating composite.\n",
      "Calibrating images..."
     ]
    },
    {
     "name": "stderr",
     "output_type": "stream",
     "text": [
      "100%|██████████| 36/36 [00:08<00:00,  4.25it/s]"
     ]
    },
    {
     "name": "stdout",
     "output_type": "stream",
     "text": [
      "done!\n",
      "Writing reciprocal positions...done!\n",
      "Acquring and writing calibration mask..."
     ]
    },
    {
     "name": "stderr",
     "output_type": "stream",
     "text": [
      "\n"
     ]
    },
    {
     "name": "stdout",
     "output_type": "stream",
     "text": [
      "done!\n"
     ]
    }
   ],
   "source": [
    "test.calibrate_images()\n",
    "test.map.apply_defect_mask(min_bounds=(-5, 0.05), max_bounds=(0, np.inf))\n",
    "test.map.rescale_images(arr_min=0)\n",
    "test.map.finalize_image()"
   ]
  },
  {
   "cell_type": "code",
   "execution_count": null,
   "metadata": {},
   "outputs": [],
   "source": [
    "test.map.rescale_images(arr_min=0)\n",
    "test.map.finalize_images()"
   ]
  },
  {
   "cell_type": "code",
   "execution_count": null,
   "metadata": {},
   "outputs": [],
   "source": [
    "test.plot_interactive_map(img_vmin=0, img_vmax=0.1)"
   ]
  },
  {
   "cell_type": "code",
   "execution_count": null,
   "metadata": {},
   "outputs": [],
   "source": [
    "i = np.random.randint(test.map.map_shape[0])\n",
    "j = np.random.randint(test.map.map_shape[1])\n",
    "#i, j = 2, 5\n",
    "#i, j = 25, 32\n",
    "#i, j = 12, 3\n",
    "#i, j = 15, 44\n",
    "\n",
    "#out = spot_search(test.map.images[i, j], bkg_noise=map_noise, multiplier=3, plotme=True, mask=test.map.mask, expansion=0, sigma=3)\n",
    "out = spot_search(test.map.images[i, j], multiplier=4, plotme=True,\n",
    "                  mask=test.map.mask, expansion=10, size=3, threshold_method='minimum')"
   ]
  },
  {
   "cell_type": "code",
   "execution_count": null,
   "metadata": {},
   "outputs": [
    {
     "name": "stdout",
     "output_type": "stream",
     "text": [
      "Searching images for spots...\n"
     ]
    },
    {
     "name": "stderr",
     "output_type": "stream",
     "text": [
      "100%|██████████| 19656/19656 [10:48<00:00, 30.29it/s]\n"
     ]
    },
    {
     "name": "stdout",
     "output_type": "stream",
     "text": [
      "Estimating spot characteristics...\n"
     ]
    },
    {
     "name": "stderr",
     "output_type": "stream",
     "text": [
      "100%|██████████| 525974/525974 [1:12:22<00:00, 121.12it/s]\n"
     ]
    },
    {
     "name": "stdout",
     "output_type": "stream",
     "text": [
      "Saving spots to hdf...done!\n"
     ]
    }
   ],
   "source": [
    "#test.map.images = rescale_array(test.map.images, lower=0, upper=100)\n",
    "test.find_spots(multiplier=4, expansion=10, radius=10, size=3, threshold_method='minimum')"
   ]
  },
  {
   "cell_type": "code",
   "execution_count": null,
   "metadata": {},
   "outputs": [],
   "source": [
    "test.plot_image(spots=True)"
   ]
  },
  {
   "cell_type": "code",
   "execution_count": null,
   "metadata": {},
   "outputs": [
    {
     "name": "stdout",
     "output_type": "stream",
     "text": [
      "Scheduling blob segmentation for spot fits...\n"
     ]
    },
    {
     "name": "stderr",
     "output_type": "stream",
     "text": [
      "  0%|          | 0/36 [00:00<?, ?it/s]"
     ]
    },
    {
     "name": "stderr",
     "output_type": "stream",
     "text": [
      "100%|██████████| 36/36 [00:00<00:00, 61.36it/s]\n"
     ]
    },
    {
     "name": "stdout",
     "output_type": "stream",
     "text": [
      "Segmenting blobs for spot fits...\n"
     ]
    },
    {
     "name": "stderr",
     "output_type": "stream",
     "text": [
      "100%|██████████| 36/36 [00:09<00:00,  3.77it/s]\n"
     ]
    },
    {
     "name": "stdout",
     "output_type": "stream",
     "text": [
      "Scheduling spot fits...\n"
     ]
    },
    {
     "name": "stderr",
     "output_type": "stream",
     "text": [
      "100%|██████████| 4011/4011 [00:00<00:00, 41009.86it/s]\n"
     ]
    },
    {
     "name": "stdout",
     "output_type": "stream",
     "text": [
      "Fitting spots in blobs...\n"
     ]
    },
    {
     "name": "stderr",
     "output_type": "stream",
     "text": [
      "100%|██████████| 4011/4011 [03:19<00:00, 20.12it/s]"
     ]
    },
    {
     "name": "stdout",
     "output_type": "stream",
     "text": [
      "Successfully fit 5103 / 5129 spots ( 99.5 % ).\n",
      "Saving spots to hdf...done!\n"
     ]
    },
    {
     "name": "stderr",
     "output_type": "stream",
     "text": [
      "\n"
     ]
    }
   ],
   "source": [
    "test.fit_spots(GaussianFunctions, max_dist=0.2, sigma=1)"
   ]
  },
  {
   "cell_type": "code",
   "execution_count": null,
   "metadata": {},
   "outputs": [
    {
     "name": "stdout",
     "output_type": "stream",
     "text": [
      "Extracting more information from peak parameters...\n"
     ]
    },
    {
     "name": "stderr",
     "output_type": "stream",
     "text": [
      "  0%|          | 0/92970 [00:00<?, ?it/s]"
     ]
    },
    {
     "name": "stderr",
     "output_type": "stream",
     "text": [
      "100%|██████████| 92970/92970 [00:45<00:00, 2055.43it/s]"
     ]
    },
    {
     "name": "stdout",
     "output_type": "stream",
     "text": [
      "done!\n",
      "Converting peaks positions to q-space...done!\n"
     ]
    },
    {
     "name": "stderr",
     "output_type": "stream",
     "text": [
      "\n"
     ]
    }
   ],
   "source": [
    "test.initial_spot_analysis()"
   ]
  },
  {
   "cell_type": "code",
   "execution_count": null,
   "metadata": {},
   "outputs": [],
   "source": []
  },
  {
   "cell_type": "code",
   "execution_count": null,
   "metadata": {},
   "outputs": [],
   "source": [
    "test.plot_reconstruction([3, 4], plot_residual=True)"
   ]
  },
  {
   "cell_type": "code",
   "execution_count": null,
   "metadata": {},
   "outputs": [],
   "source": [
    "test.plot_image([3, 4], spots=True)"
   ]
  },
  {
   "cell_type": "code",
   "execution_count": null,
   "metadata": {},
   "outputs": [
    {
     "data": {
      "text/html": [
       "<div>\n",
       "<style scoped>\n",
       "    .dataframe tbody tr th:only-of-type {\n",
       "        vertical-align: middle;\n",
       "    }\n",
       "\n",
       "    .dataframe tbody tr th {\n",
       "        vertical-align: top;\n",
       "    }\n",
       "\n",
       "    .dataframe thead th {\n",
       "        text-align: right;\n",
       "    }\n",
       "</style>\n",
       "<table border=\"1\" class=\"dataframe\">\n",
       "  <thead>\n",
       "    <tr style=\"text-align: right;\">\n",
       "      <th></th>\n",
       "      <th>map_x</th>\n",
       "      <th>map_y</th>\n",
       "      <th>guess_height</th>\n",
       "      <th>guess_img_x</th>\n",
       "      <th>guess_img_y</th>\n",
       "      <th>guess_tth</th>\n",
       "      <th>guess_chi</th>\n",
       "      <th>guess_cen_tth</th>\n",
       "      <th>guess_cen_chi</th>\n",
       "      <th>guess_fwhm_tth</th>\n",
       "      <th>guess_fwhm_chi</th>\n",
       "      <th>guess_int</th>\n",
       "      <th>guess_integrated</th>\n",
       "      <th>guess_fwhm_a</th>\n",
       "      <th>guess_fwhm_b</th>\n",
       "      <th>guess_rot_fwhm_tth</th>\n",
       "      <th>guess_rot_fwhm_chi</th>\n",
       "      <th>qx</th>\n",
       "      <th>qy</th>\n",
       "      <th>qz</th>\n",
       "    </tr>\n",
       "  </thead>\n",
       "  <tbody>\n",
       "    <tr>\n",
       "      <th>0</th>\n",
       "      <td>0</td>\n",
       "      <td>152</td>\n",
       "      <td>0.236513</td>\n",
       "      <td>274</td>\n",
       "      <td>520</td>\n",
       "      <td>28.845786</td>\n",
       "      <td>172.735301</td>\n",
       "      <td>28.854018</td>\n",
       "      <td>172.759844</td>\n",
       "      <td>0.164422</td>\n",
       "      <td>0.431549</td>\n",
       "      <td>7.311077</td>\n",
       "      <td>7.311077</td>\n",
       "      <td>0.164422</td>\n",
       "      <td>0.431549</td>\n",
       "      <td>0.164422</td>\n",
       "      <td>0.431549</td>\n",
       "      <td>-4.124343</td>\n",
       "      <td>0.523963</td>\n",
       "      <td>-1.069552</td>\n",
       "    </tr>\n",
       "    <tr>\n",
       "      <th>1</th>\n",
       "      <td>0</td>\n",
       "      <td>153</td>\n",
       "      <td>0.280468</td>\n",
       "      <td>274</td>\n",
       "      <td>520</td>\n",
       "      <td>28.845786</td>\n",
       "      <td>172.735301</td>\n",
       "      <td>28.856457</td>\n",
       "      <td>172.738581</td>\n",
       "      <td>0.150984</td>\n",
       "      <td>0.428625</td>\n",
       "      <td>7.506928</td>\n",
       "      <td>7.506928</td>\n",
       "      <td>0.150984</td>\n",
       "      <td>0.428625</td>\n",
       "      <td>0.150984</td>\n",
       "      <td>0.428625</td>\n",
       "      <td>-4.124467</td>\n",
       "      <td>0.525534</td>\n",
       "      <td>-1.069729</td>\n",
       "    </tr>\n",
       "    <tr>\n",
       "      <th>2</th>\n",
       "      <td>0</td>\n",
       "      <td>154</td>\n",
       "      <td>0.261716</td>\n",
       "      <td>273</td>\n",
       "      <td>520</td>\n",
       "      <td>28.848849</td>\n",
       "      <td>172.665470</td>\n",
       "      <td>28.852487</td>\n",
       "      <td>172.678957</td>\n",
       "      <td>0.150759</td>\n",
       "      <td>0.429776</td>\n",
       "      <td>8.707414</td>\n",
       "      <td>8.707414</td>\n",
       "      <td>0.150759</td>\n",
       "      <td>0.429776</td>\n",
       "      <td>0.150759</td>\n",
       "      <td>0.429776</td>\n",
       "      <td>-4.123399</td>\n",
       "      <td>0.529759</td>\n",
       "      <td>-1.069441</td>\n",
       "    </tr>\n",
       "    <tr>\n",
       "      <th>3</th>\n",
       "      <td>0</td>\n",
       "      <td>155</td>\n",
       "      <td>0.291227</td>\n",
       "      <td>273</td>\n",
       "      <td>520</td>\n",
       "      <td>28.848849</td>\n",
       "      <td>172.665470</td>\n",
       "      <td>28.854971</td>\n",
       "      <td>172.661808</td>\n",
       "      <td>0.137648</td>\n",
       "      <td>0.424905</td>\n",
       "      <td>8.875942</td>\n",
       "      <td>8.875942</td>\n",
       "      <td>0.137648</td>\n",
       "      <td>0.424905</td>\n",
       "      <td>0.137648</td>\n",
       "      <td>0.424905</td>\n",
       "      <td>-4.123565</td>\n",
       "      <td>0.531035</td>\n",
       "      <td>-1.069621</td>\n",
       "    </tr>\n",
       "    <tr>\n",
       "      <th>4</th>\n",
       "      <td>0</td>\n",
       "      <td>156</td>\n",
       "      <td>0.284986</td>\n",
       "      <td>272</td>\n",
       "      <td>520</td>\n",
       "      <td>28.851948</td>\n",
       "      <td>172.595662</td>\n",
       "      <td>28.855439</td>\n",
       "      <td>172.601351</td>\n",
       "      <td>0.148072</td>\n",
       "      <td>0.433446</td>\n",
       "      <td>8.191417</td>\n",
       "      <td>8.191417</td>\n",
       "      <td>0.148072</td>\n",
       "      <td>0.433446</td>\n",
       "      <td>0.148072</td>\n",
       "      <td>0.433446</td>\n",
       "      <td>-4.123063</td>\n",
       "      <td>0.535394</td>\n",
       "      <td>-1.069655</td>\n",
       "    </tr>\n",
       "    <tr>\n",
       "      <th>...</th>\n",
       "      <td>...</td>\n",
       "      <td>...</td>\n",
       "      <td>...</td>\n",
       "      <td>...</td>\n",
       "      <td>...</td>\n",
       "      <td>...</td>\n",
       "      <td>...</td>\n",
       "      <td>...</td>\n",
       "      <td>...</td>\n",
       "      <td>...</td>\n",
       "      <td>...</td>\n",
       "      <td>...</td>\n",
       "      <td>...</td>\n",
       "      <td>...</td>\n",
       "      <td>...</td>\n",
       "      <td>...</td>\n",
       "      <td>...</td>\n",
       "      <td>...</td>\n",
       "      <td>...</td>\n",
       "      <td>...</td>\n",
       "    </tr>\n",
       "    <tr>\n",
       "      <th>457899</th>\n",
       "      <td>88</td>\n",
       "      <td>133</td>\n",
       "      <td>0.236878</td>\n",
       "      <td>405</td>\n",
       "      <td>685</td>\n",
       "      <td>23.483205</td>\n",
       "      <td>-177.246203</td>\n",
       "      <td>23.483059</td>\n",
       "      <td>-177.251085</td>\n",
       "      <td>0.132923</td>\n",
       "      <td>0.505489</td>\n",
       "      <td>6.785777</td>\n",
       "      <td>6.785777</td>\n",
       "      <td>0.132923</td>\n",
       "      <td>0.505489</td>\n",
       "      <td>0.132923</td>\n",
       "      <td>0.505489</td>\n",
       "      <td>-3.428994</td>\n",
       "      <td>-0.164641</td>\n",
       "      <td>-0.713524</td>\n",
       "    </tr>\n",
       "    <tr>\n",
       "      <th>457900</th>\n",
       "      <td>88</td>\n",
       "      <td>141</td>\n",
       "      <td>0.225328</td>\n",
       "      <td>312</td>\n",
       "      <td>517</td>\n",
       "      <td>28.854640</td>\n",
       "      <td>175.408901</td>\n",
       "      <td>28.853605</td>\n",
       "      <td>175.418362</td>\n",
       "      <td>0.154675</td>\n",
       "      <td>0.427690</td>\n",
       "      <td>6.701927</td>\n",
       "      <td>6.701927</td>\n",
       "      <td>0.154675</td>\n",
       "      <td>0.427690</td>\n",
       "      <td>0.154675</td>\n",
       "      <td>0.427690</td>\n",
       "      <td>-4.144153</td>\n",
       "      <td>0.332094</td>\n",
       "      <td>-1.069522</td>\n",
       "    </tr>\n",
       "    <tr>\n",
       "      <th>457901</th>\n",
       "      <td>88</td>\n",
       "      <td>142</td>\n",
       "      <td>0.222816</td>\n",
       "      <td>312</td>\n",
       "      <td>517</td>\n",
       "      <td>28.854640</td>\n",
       "      <td>175.408901</td>\n",
       "      <td>28.854172</td>\n",
       "      <td>175.409041</td>\n",
       "      <td>0.145540</td>\n",
       "      <td>0.436269</td>\n",
       "      <td>6.719757</td>\n",
       "      <td>6.719757</td>\n",
       "      <td>0.145540</td>\n",
       "      <td>0.436269</td>\n",
       "      <td>0.145540</td>\n",
       "      <td>0.436269</td>\n",
       "      <td>-4.144173</td>\n",
       "      <td>0.332774</td>\n",
       "      <td>-1.069563</td>\n",
       "    </tr>\n",
       "    <tr>\n",
       "      <th>457902</th>\n",
       "      <td>88</td>\n",
       "      <td>143</td>\n",
       "      <td>0.307005</td>\n",
       "      <td>310</td>\n",
       "      <td>517</td>\n",
       "      <td>28.858049</td>\n",
       "      <td>175.268262</td>\n",
       "      <td>28.852243</td>\n",
       "      <td>175.283614</td>\n",
       "      <td>0.144938</td>\n",
       "      <td>0.426297</td>\n",
       "      <td>6.603902</td>\n",
       "      <td>6.603902</td>\n",
       "      <td>0.144938</td>\n",
       "      <td>0.426297</td>\n",
       "      <td>0.144938</td>\n",
       "      <td>0.426297</td>\n",
       "      <td>-4.143182</td>\n",
       "      <td>0.341824</td>\n",
       "      <td>-1.069423</td>\n",
       "    </tr>\n",
       "    <tr>\n",
       "      <th>457903</th>\n",
       "      <td>89</td>\n",
       "      <td>215</td>\n",
       "      <td>14.662901</td>\n",
       "      <td>108</td>\n",
       "      <td>323</td>\n",
       "      <td>36.244595</td>\n",
       "      <td>163.847934</td>\n",
       "      <td>36.246764</td>\n",
       "      <td>163.834066</td>\n",
       "      <td>0.137461</td>\n",
       "      <td>0.228764</td>\n",
       "      <td>19.340586</td>\n",
       "      <td>19.340586</td>\n",
       "      <td>0.137461</td>\n",
       "      <td>0.228764</td>\n",
       "      <td>0.137461</td>\n",
       "      <td>0.228764</td>\n",
       "      <td>-4.892411</td>\n",
       "      <td>1.418223</td>\n",
       "      <td>-1.667220</td>\n",
       "    </tr>\n",
       "  </tbody>\n",
       "</table>\n",
       "<p>457904 rows × 20 columns</p>\n",
       "</div>"
      ],
      "text/plain": [
       "        map_x  map_y  guess_height  guess_img_x  guess_img_y  guess_tth  \\\n",
       "0           0    152      0.236513          274          520  28.845786   \n",
       "1           0    153      0.280468          274          520  28.845786   \n",
       "2           0    154      0.261716          273          520  28.848849   \n",
       "3           0    155      0.291227          273          520  28.848849   \n",
       "4           0    156      0.284986          272          520  28.851948   \n",
       "...       ...    ...           ...          ...          ...        ...   \n",
       "457899     88    133      0.236878          405          685  23.483205   \n",
       "457900     88    141      0.225328          312          517  28.854640   \n",
       "457901     88    142      0.222816          312          517  28.854640   \n",
       "457902     88    143      0.307005          310          517  28.858049   \n",
       "457903     89    215     14.662901          108          323  36.244595   \n",
       "\n",
       "         guess_chi  guess_cen_tth  guess_cen_chi  guess_fwhm_tth  \\\n",
       "0       172.735301      28.854018     172.759844        0.164422   \n",
       "1       172.735301      28.856457     172.738581        0.150984   \n",
       "2       172.665470      28.852487     172.678957        0.150759   \n",
       "3       172.665470      28.854971     172.661808        0.137648   \n",
       "4       172.595662      28.855439     172.601351        0.148072   \n",
       "...            ...            ...            ...             ...   \n",
       "457899 -177.246203      23.483059    -177.251085        0.132923   \n",
       "457900  175.408901      28.853605     175.418362        0.154675   \n",
       "457901  175.408901      28.854172     175.409041        0.145540   \n",
       "457902  175.268262      28.852243     175.283614        0.144938   \n",
       "457903  163.847934      36.246764     163.834066        0.137461   \n",
       "\n",
       "        guess_fwhm_chi  guess_int  guess_integrated  guess_fwhm_a  \\\n",
       "0             0.431549   7.311077          7.311077      0.164422   \n",
       "1             0.428625   7.506928          7.506928      0.150984   \n",
       "2             0.429776   8.707414          8.707414      0.150759   \n",
       "3             0.424905   8.875942          8.875942      0.137648   \n",
       "4             0.433446   8.191417          8.191417      0.148072   \n",
       "...                ...        ...               ...           ...   \n",
       "457899        0.505489   6.785777          6.785777      0.132923   \n",
       "457900        0.427690   6.701927          6.701927      0.154675   \n",
       "457901        0.436269   6.719757          6.719757      0.145540   \n",
       "457902        0.426297   6.603902          6.603902      0.144938   \n",
       "457903        0.228764  19.340586         19.340586      0.137461   \n",
       "\n",
       "        guess_fwhm_b  guess_rot_fwhm_tth  guess_rot_fwhm_chi        qx  \\\n",
       "0           0.431549            0.164422            0.431549 -4.124343   \n",
       "1           0.428625            0.150984            0.428625 -4.124467   \n",
       "2           0.429776            0.150759            0.429776 -4.123399   \n",
       "3           0.424905            0.137648            0.424905 -4.123565   \n",
       "4           0.433446            0.148072            0.433446 -4.123063   \n",
       "...              ...                 ...                 ...       ...   \n",
       "457899      0.505489            0.132923            0.505489 -3.428994   \n",
       "457900      0.427690            0.154675            0.427690 -4.144153   \n",
       "457901      0.436269            0.145540            0.436269 -4.144173   \n",
       "457902      0.426297            0.144938            0.426297 -4.143182   \n",
       "457903      0.228764            0.137461            0.228764 -4.892411   \n",
       "\n",
       "              qy        qz  \n",
       "0       0.523963 -1.069552  \n",
       "1       0.525534 -1.069729  \n",
       "2       0.529759 -1.069441  \n",
       "3       0.531035 -1.069621  \n",
       "4       0.535394 -1.069655  \n",
       "...          ...       ...  \n",
       "457899 -0.164641 -0.713524  \n",
       "457900  0.332094 -1.069522  \n",
       "457901  0.332774 -1.069563  \n",
       "457902  0.341824 -1.069423  \n",
       "457903  1.418223 -1.667220  \n",
       "\n",
       "[457904 rows x 20 columns]"
      ]
     },
     "execution_count": 38,
     "metadata": {},
     "output_type": "execute_result"
    }
   ],
   "source": [
    "test.spots"
   ]
  },
  {
   "cell_type": "code",
   "execution_count": null,
   "metadata": {},
   "outputs": [
    {
     "name": "stderr",
     "output_type": "stream",
     "text": [
      "100%|██████████| 19656/19656 [00:29<00:00, 664.19it/s]\n"
     ]
    }
   ],
   "source": [
    "plot_map = np.zeros(test.map.map_shape)\n",
    "plot_map[:] = np.nan\n",
    "\n",
    "for image_index in tqdm(range(test.map.num_pixels)):\n",
    "    indices = np.unravel_index(image_index, test.map.map_shape)\n",
    "    pixel_df = test.spots[(test.spots['map_x'] == indices[0])\n",
    "                          & (test.spots['map_y'] == indices[1])]\n",
    "    \n",
    "    if len(pixel_df) < 1:\n",
    "        plot_map[indices] = 0\n",
    "    else:\n",
    "        #plot_map[indices] = np.sum(pixel_df['guess_int'])\n",
    "        #plot_map[indices] = np.sum(pixel_df['fit_amp'])\n",
    "        #plot_map[indices] = np.sum(pixel_df['fit_integrated'])\n",
    "        #plot_map[indices] = np.sum(pixel_df['fit_fwhm_chi'])\n",
    "        #plot_map[indices] = np.mean(pixel_df['fit_chi0'])\n",
    "        #plot_map[indices] = len(pixel_df)\n",
    "        #plot_map[indices] = np.nanmedian(pixel_df['qz'])\n",
    "        #plot_map[indices] = np.nanmin(pixel_df['fit_r_squared'])\n",
    "        plot_map[indices] = pixel_df.iloc[np.argmax(pixel_df['guess_int'])]['guess_fwhm_chi']\n",
    "        #plot_map[indices] = pixel_df.iloc[np.argmax(pixel_df['fit_integrated'])]['fit_chi0']\n",
    "\n",
    "\n",
    "fig, ax = plt.subplots(1, 1, figsize=(5, 5), dpi=200)\n",
    "\n",
    "im = ax.imshow(plot_map)\n",
    "fig.colorbar(im, ax=ax)\n",
    "ax.set_title('Spot Value')\n",
    "\n",
    "plt.show()"
   ]
  },
  {
   "cell_type": "code",
   "execution_count": null,
   "metadata": {},
   "outputs": [],
   "source": [
    "test.plot_interactive_map(display_map=plot_map, img_vmin=0, img_vmax=0.1, map_vmin=10, map_vmax=5000)"
   ]
  },
  {
   "cell_type": "code",
   "execution_count": null,
   "metadata": {},
   "outputs": [],
   "source": [
    "out = test.integrate1d_image(test.map.images[21, 172])"
   ]
  },
  {
   "cell_type": "code",
   "execution_count": null,
   "metadata": {},
   "outputs": [],
   "source": [
    "fig, ax = plt.subplots(1, 1, figsize=(5, 5), dpi=200)\n",
    "\n",
    "ax.plot(out[0], out[1])\n",
    "ax.set_xlabel('Scattering Angle, 2θ [°]')\n",
    "ax.set_ylabel('Intensity [a.u.]')\n",
    "\n",
    "fig.show()"
   ]
  },
  {
   "cell_type": "code",
   "execution_count": null,
   "metadata": {},
   "outputs": [
    {
     "data": {
      "text/plain": [
       "26.91036393650046"
      ]
     },
     "execution_count": 50,
     "metadata": {},
     "output_type": "execute_result"
    }
   ],
   "source": [
    "out[0][-1] - out[0][0]"
   ]
  },
  {
   "cell_type": "code",
   "execution_count": null,
   "metadata": {},
   "outputs": [],
   "source": [
    "test.plot_image([21, 172], spots=True)"
   ]
  },
  {
   "cell_type": "code",
   "execution_count": null,
   "metadata": {},
   "outputs": [
    {
     "data": {
      "text/plain": [
       "array([12. , 12.5, 13. , 13.5, 14. , 14.5, 15. , 15.5, 16. , 16.5, 17. ,\n",
       "       17.5, 18. , 18.5, 19. , 19.5, 20. , 20.5, 21. , 21.5, 22. ])"
      ]
     },
     "execution_count": 184,
     "metadata": {},
     "output_type": "execute_result"
    }
   ],
   "source": [
    "np.arange(12, 22.5, 0.5)"
   ]
  },
  {
   "cell_type": "code",
   "execution_count": null,
   "metadata": {},
   "outputs": [],
   "source": [
    "energies = np.arange(12, 22.5, 0.5)\n",
    "\n",
    "q_list = []\n",
    "\n",
    "for en in energies:\n",
    "    wavelength = energy_2_wavelength(en)\n",
    "    q_arr = get_q_vect(test.tth_arr, test.chi_arr, wavelength=wavelength)\n",
    "    q_list.append(q_arr)\n",
    "\n",
    "q_list = np.asarray(q_list)"
   ]
  },
  {
   "cell_type": "code",
   "execution_count": null,
   "metadata": {},
   "outputs": [
    {
     "data": {
      "text/plain": [
       "(21, 3, 486, 768)"
      ]
     },
     "execution_count": 190,
     "metadata": {},
     "output_type": "execute_result"
    }
   ],
   "source": [
    "q_list.shape"
   ]
  },
  {
   "cell_type": "code",
   "execution_count": null,
   "metadata": {},
   "outputs": [],
   "source": [
    "skip = 500\n",
    "qx, qy, qz = [], [], []\n",
    "for i, q in enumerate(q_list):\n",
    "    if i == 0 or i == len(q_list) - 1:\n",
    "        qx.extend(q[0].ravel()[::skip])\n",
    "        qy.extend(q[1].ravel()[::skip])\n",
    "        qz.extend(q[2].ravel()[::skip])\n",
    "    qx.extend(q[0, 0][::int(np.sqrt(skip))])\n",
    "    qy.extend(q[1, 0][::int(np.sqrt(skip))])\n",
    "    qz.extend(q[2, 0][::int(np.sqrt(skip))])\n",
    "\n",
    "    qx.extend(q[0, -1][::int(np.sqrt(skip))])\n",
    "    qy.extend(q[1, -1][::int(np.sqrt(skip))])\n",
    "    qz.extend(q[2, -1][::int(np.sqrt(skip))])\n",
    "\n",
    "    qx.extend(q[0, :, 0][::int(np.sqrt(skip))])\n",
    "    qy.extend(q[1, :, 0][::int(np.sqrt(skip))])\n",
    "    qz.extend(q[2, :, 0][::int(np.sqrt(skip))])\n",
    "\n",
    "    qx.extend(q[0, :, -1][::int(np.sqrt(skip))])\n",
    "    qy.extend(q[1, :, -1][::int(np.sqrt(skip))])\n",
    "    qz.extend(q[2, :, -1][::int(np.sqrt(skip))])"
   ]
  },
  {
   "cell_type": "code",
   "execution_count": null,
   "metadata": {},
   "outputs": [],
   "source": [
    "from scipy.ndimage import sobel, laplace, prewitt, generic_laplace, correlate1d"
   ]
  },
  {
   "cell_type": "code",
   "execution_count": null,
   "metadata": {},
   "outputs": [],
   "source": [
    "def derivative2(input, axis, output, mode, cval):\n",
    "    #return correlate1d(input, [1, -2, 1], axis, output, mode, cval, 0)\n",
    "    return correlate1d(input, [1, 1, -8, 1, 1], axis, output, mode, cval, 0)"
   ]
  },
  {
   "cell_type": "code",
   "execution_count": null,
   "metadata": {},
   "outputs": [],
   "source": [
    "lap_image = generic_laplace(sob_image, derivative2)"
   ]
  },
  {
   "cell_type": "code",
   "execution_count": null,
   "metadata": {},
   "outputs": [],
   "source": [
    "test.plot_image(-lap_image)"
   ]
  },
  {
   "cell_type": "code",
   "execution_count": null,
   "metadata": {},
   "outputs": [],
   "source": [
    "test_image = test.map.images[8, 34].copy()\n",
    "mask = test.map.spot_masks[8, 34]"
   ]
  },
  {
   "cell_type": "code",
   "execution_count": null,
   "metadata": {},
   "outputs": [],
   "source": [
    "sob_image = test_image.copy()\n",
    "sob_image = gaussian_filter(sob_image, sigma=1)\n",
    "#sob_x = sobel(sob_image, axis=1)\n",
    "#sob_y = sobel(sob_image, axis=0)\n",
    "sob_x = prewitt(sob_image, axis=1)\n",
    "sob_y = prewitt(sob_image, axis=0)\n",
    "sob_mag = np.sqrt(sob_x**2 + sob_y**2)\n",
    "div = sobel(sob_x, axis=1) + sobel(sob_y, axis=0)\n",
    "mask = div > 2"
   ]
  },
  {
   "cell_type": "code",
   "execution_count": null,
   "metadata": {},
   "outputs": [],
   "source": [
    "test.plot_image(gaussian_filter(test_image, sigma=0) - gaussian_filter(test_image, sigma=1))"
   ]
  },
  {
   "cell_type": "code",
   "execution_count": null,
   "metadata": {},
   "outputs": [],
   "source": [
    "extent = 10\n",
    "max_h, max_v = np.unravel_index(np.argmax(-div), div.shape)\n",
    "h_bounds = (max_v - extent, max_v + extent)\n",
    "v_bounds = (max_h - extent, max_h + extent)\n",
    "bound_image = sob_image[v_bounds[0] : v_bounds[1], h_bounds[0] : h_bounds[1]]"
   ]
  },
  {
   "cell_type": "code",
   "execution_count": null,
   "metadata": {},
   "outputs": [],
   "source": [
    "test.plot_image(sob_x)"
   ]
  },
  {
   "cell_type": "code",
   "execution_count": null,
   "metadata": {},
   "outputs": [],
   "source": [
    "fig, ax = plt.subplots(1, 1, figsize=(5, 5), dpi=200)\n",
    "\n",
    "ax.imshow(bound_image)\n",
    "\n",
    "scale = 1\n",
    "\n",
    "sob_x = sobel(bound_image, axis=1) * scale\n",
    "sob_y = sobel(bound_image, axis=0) * scale\n",
    "\n",
    "for index in range(np.prod([*bound_image.shape])):\n",
    "    indices = np.unravel_index(index, bound_image.shape)\n",
    "\n",
    "    dx = sob_y[indices]\n",
    "    dy = sob_x[indices]\n",
    "    \n",
    "\n",
    "    #if indices[0] > bound_image.shape[0] // 2 - 1:\n",
    "    #    dx = -dx\n",
    "    #if indices[1] > bound_image.shape[1] // 2 - 1:\n",
    "    #    dy = -dy\n",
    "\n",
    "    ax.arrow(*indices, dx, dy, width=0.00001, head_width=0.1, fc='r', ec='r')\n",
    "\n",
    "\n",
    "plt.show()"
   ]
  },
  {
   "cell_type": "code",
   "execution_count": null,
   "metadata": {},
   "outputs": [
    {
     "data": {
      "text/plain": [
       "400"
      ]
     },
     "execution_count": 961,
     "metadata": {},
     "output_type": "execute_result"
    }
   ],
   "source": [
    "def intersect(P0, P1):\n",
    "    \"\"\"P0 and P1 are NxD arrays defining N lines.\n",
    "    D is the dimension of the space. This function \n",
    "    returns the least squares intersection of the N\n",
    "    lines from the system given by eq. 13 in \n",
    "    http://cal.cs.illinois.edu/~johannes/research/LS_line_intersect.pdf.\n",
    "    \"\"\"\n",
    "    # generate all line direction vectors \n",
    "    n = (P1 - P0) / np.linalg.norm(P1 - P0, axis=1)[:, np.newaxis] # normalized\n",
    "\n",
    "    # generate the array of all projectors \n",
    "    projs = np.eye(n.shape[1]) - n[:, :, np.newaxis] * n[:, np.newaxis]  # I - n*n.T\n",
    "    # see fig. 1 \n",
    "\n",
    "    # generate R matrix and q vector\n",
    "    R = projs.sum(axis=0)\n",
    "    q = (projs @ P0[:, :, np.newaxis]).sum(axis=0)\n",
    "\n",
    "    # solve the least squares problem for the \n",
    "    # intersection point p: Rp = q\n",
    "    p = np.linalg.lstsq(R, q, rcond=None)[0]\n",
    "\n",
    "    return p"
   ]
  },
  {
   "cell_type": "code",
   "execution_count": null,
   "metadata": {},
   "outputs": [],
   "source": []
  },
  {
   "cell_type": "code",
   "execution_count": null,
   "metadata": {},
   "outputs": [],
   "source": [
    "test.plot_image(-div)"
   ]
  },
  {
   "cell_type": "code",
   "execution_count": null,
   "metadata": {},
   "outputs": [],
   "source": [
    "lap_image = laplace(sob_image)"
   ]
  },
  {
   "cell_type": "code",
   "execution_count": null,
   "metadata": {},
   "outputs": [],
   "source": [
    "test.plot_image(laplace(lap_image))"
   ]
  },
  {
   "cell_type": "code",
   "execution_count": null,
   "metadata": {},
   "outputs": [],
   "source": [
    "spots = peak_local_max(-div,\n",
    "                       min_distance=3,\n",
    "                       labels=-div > 5,\n",
    "                       num_peaks_per_label=np.inf)\n",
    "\n",
    "spots = peak_local_max(-lap_image,\n",
    "                       min_distance=3,\n",
    "                       labels=-lap_image > 0.009,\n",
    "                       num_peaks_per_label=np.inf)"
   ]
  },
  {
   "cell_type": "code",
   "execution_count": null,
   "metadata": {},
   "outputs": [],
   "source": [
    "fig, ax = plt.subplots(1, 1, figsize=(5, 5), dpi=200)\n",
    "\n",
    "im = ax.imshow(test_image)\n",
    "fig.colorbar(im, ax=ax)\n",
    "\n",
    "ax.scatter(spots[:, 1], spots[:, 0], s=1, c='r')\n",
    "\n",
    "plt.show()"
   ]
  },
  {
   "cell_type": "code",
   "execution_count": null,
   "metadata": {},
   "outputs": [],
   "source": [
    "true_center = (48, 0)\n",
    "\n",
    "x = np.linspace(-50, 50, 500)\n",
    "xx, yy = np.meshgrid(x, x)\n",
    "\n",
    "z = GaussianFunctions.func_2d([xx, yy], 100, *true_center, 10, 10, 0)\n",
    "noise = np.random.normal(loc=0, scale=0, size=z.shape)\n",
    "\n",
    "noisy_z = z + noise"
   ]
  },
  {
   "cell_type": "code",
   "execution_count": null,
   "metadata": {},
   "outputs": [
    {
     "name": "stderr",
     "output_type": "stream",
     "text": [
      "c:\\Users\\emusterma\\AppData\\Local\\Programs\\Python\\Python311\\Lib\\site-packages\\scipy\\optimize\\_minpack_py.py:1010: OptimizeWarning: Covariance of the parameters could not be estimated\n",
      "  warnings.warn('Covariance of the parameters could not be estimated',\n"
     ]
    }
   ],
   "source": [
    "max_center = xx[np.unravel_index(np.argmax(noisy_z), noisy_z.shape)], yy[np.unravel_index(np.argmax(noisy_z), noisy_z.shape)]\n",
    "mass_center = arbitrary_center_or_mass(noisy_z, xx, yy)\n",
    "\n",
    "p0 = [np.max(noisy_z), *mass_center, 1, 1, 0]\n",
    "\n",
    "popt, _ = curve_fit(GaussianFunctions.func_2d, [xx.ravel(), yy.ravel()], noisy_z.ravel(), p0=p0)\n",
    "gauss_center = (popt[1], popt[2])\n",
    "\n",
    "sob_x = sobel(gaussian_filter(noisy_z, sigma=3), axis=1)\n",
    "sob_y = sobel(gaussian_filter(noisy_z, sigma=3), axis=0)\n",
    "div = sobel(sob_x, axis=1) + sobel(sob_y, axis=0)\n",
    "div_mask = -div > 10\n",
    "sob_center = arbitrary_center_or_mass(-div[div_mask], xx[div_mask], yy[div_mask])\n"
   ]
  },
  {
   "cell_type": "code",
   "execution_count": null,
   "metadata": {},
   "outputs": [],
   "source": [
    "fig, ax = plt.subplots(1, 1, figsize=(5, 5), dpi=200)\n",
    "\n",
    "im = ax.imshow(noisy_z, extent=[np.min(xx), np.max(xx), np.min(yy), np.max(yy)])\n",
    "fig.colorbar(im, ax=ax)\n",
    "\n",
    "for center in [max_center, mass_center, gauss_center, sob_center, true_center]:\n",
    "    ax.scatter(*center, s=1, c='r')\n",
    "\n",
    "plt.show()"
   ]
  },
  {
   "cell_type": "code",
   "execution_count": null,
   "metadata": {},
   "outputs": [
    {
     "name": "stdout",
     "output_type": "stream",
     "text": [
      "(47.99599198396794, -0.10020040080160442)\n",
      "(45.825804918734526, 1.743815701176553e-16)\n",
      "(47.999999999999915, 1.743815701176553e-16)\n",
      "(47.024604588734526, 7.110471171656023e-16)\n",
      "(48, 0)\n"
     ]
    }
   ],
   "source": [
    "print(max_center)\n",
    "print(mass_center)\n",
    "print(gauss_center)\n",
    "print(sob_center)\n",
    "print(true_center)"
   ]
  },
  {
   "cell_type": "code",
   "execution_count": null,
   "metadata": {},
   "outputs": [],
   "source": []
  },
  {
   "cell_type": "code",
   "execution_count": null,
   "metadata": {},
   "outputs": [],
   "source": []
  },
  {
   "cell_type": "code",
   "execution_count": null,
   "metadata": {},
   "outputs": [],
   "source": []
  },
  {
   "cell_type": "code",
   "execution_count": null,
   "metadata": {},
   "outputs": [],
   "source": [
    "fig, ax = plt.subplots(1, 1, figsize=(5, 5), dpi=200)\n",
    "\n",
    "im = ax.imshow(test_image, vmin=0, vmax=100)\n",
    "fig.colorbar(im, ax=ax)\n",
    "\n",
    "ax.scatter(spots[:, 1], spots[:, 0], s=1, c='r')\n",
    "\n",
    "fig.show()"
   ]
  },
  {
   "cell_type": "code",
   "execution_count": null,
   "metadata": {},
   "outputs": [],
   "source": [
    "mask = test.map.spot_masks[74, 32]"
   ]
  },
  {
   "cell_type": "code",
   "execution_count": null,
   "metadata": {},
   "outputs": [],
   "source": [
    "v = np.array([sob_x.ravel()[mask.ravel()], sob_y.ravel()[mask.ravel()]])\n",
    "p = np.array([test.tth_arr.ravel()[mask.ravel()], test.chi_arr.ravel()[mask.ravel()]])"
   ]
  },
  {
   "cell_type": "code",
   "execution_count": null,
   "metadata": {},
   "outputs": [],
   "source": [
    "blob_mask = label(mask) == 3\n",
    "masked_mask = blob_mask[mask]\n",
    "v3 = v[:, masked_mask]\n",
    "p3 = p[:, masked_mask]"
   ]
  },
  {
   "cell_type": "code",
   "execution_count": null,
   "metadata": {},
   "outputs": [],
   "source": [
    "from itertools import combinations\n",
    "\n",
    "p_combo = list(combinations(p3.T, 2))\n",
    "v_combo = list(combinations(v3.T, 2))"
   ]
  },
  {
   "cell_type": "code",
   "execution_count": null,
   "metadata": {},
   "outputs": [
    {
     "data": {
      "text/plain": [
       "array([-0.09966363,  0.17441136], dtype=float32)"
      ]
     },
     "execution_count": 338,
     "metadata": {},
     "output_type": "execute_result"
    }
   ],
   "source": [
    "v3[:, 0]"
   ]
  },
  {
   "cell_type": "code",
   "execution_count": null,
   "metadata": {},
   "outputs": [
    {
     "data": {
      "text/plain": [
       "[array([-0.09966363, -0.20555624], dtype=float32),\n",
       " array([0.17441136, 0.05606079], dtype=float32)]"
      ]
     },
     "execution_count": 351,
     "metadata": {},
     "output_type": "execute_result"
    }
   ],
   "source": [
    "list(np.asarray(v_combo[0]).T)"
   ]
  },
  {
   "cell_type": "code",
   "execution_count": null,
   "metadata": {},
   "outputs": [
    {
     "data": {
      "text/plain": [
       "array([ 12.67983769, 161.22048606])"
      ]
     },
     "execution_count": 343,
     "metadata": {},
     "output_type": "execute_result"
    }
   ],
   "source": [
    "p3[:, 0]"
   ]
  },
  {
   "cell_type": "code",
   "execution_count": null,
   "metadata": {},
   "outputs": [
    {
     "data": {
      "text/plain": [
       "array([-0.03483012, -0.04833402])"
      ]
     },
     "execution_count": 346,
     "metadata": {},
     "output_type": "execute_result"
    }
   ],
   "source": [
    "(p_combo[0][0] - p_combo[0][1])"
   ]
  },
  {
   "cell_type": "code",
   "execution_count": null,
   "metadata": {},
   "outputs": [
    {
     "data": {
      "text/plain": [
       "array([[ 12.67983769, 161.22048606],\n",
       "       [ 12.71466782, 161.26882008]])"
      ]
     },
     "execution_count": 341,
     "metadata": {},
     "output_type": "execute_result"
    }
   ],
   "source": [
    "np.asarray(p_combo[0])"
   ]
  },
  {
   "cell_type": "code",
   "execution_count": null,
   "metadata": {},
   "outputs": [],
   "source": [
    "A = []\n",
    "b = []\n",
    "for pi, vi in zip(p_combo, v_combo):\n",
    "    A.extend(list(np.asarray(vi).T))\n",
    "    b.extend(list(pi[0] - pi[1]))\n",
    "\n",
    "A = np.asarray(A)\n",
    "b = np.asarray(b)"
   ]
  },
  {
   "cell_type": "code",
   "execution_count": null,
   "metadata": {},
   "outputs": [
    {
     "data": {
      "text/plain": [
       "(315282, 2)"
      ]
     },
     "execution_count": 358,
     "metadata": {},
     "output_type": "execute_result"
    }
   ],
   "source": [
    "A.shape"
   ]
  },
  {
   "cell_type": "code",
   "execution_count": null,
   "metadata": {},
   "outputs": [
    {
     "data": {
      "text/plain": [
       "(315282,)"
      ]
     },
     "execution_count": 359,
     "metadata": {},
     "output_type": "execute_result"
    }
   ],
   "source": [
    "b.shape"
   ]
  },
  {
   "cell_type": "code",
   "execution_count": null,
   "metadata": {},
   "outputs": [],
   "source": [
    "out = lstsq(A, b)"
   ]
  },
  {
   "cell_type": "code",
   "execution_count": null,
   "metadata": {},
   "outputs": [
    {
     "data": {
      "text/plain": [
       "(array([-0.03950399,  0.03491266]),\n",
       " 507805.83675365685,\n",
       " 2,\n",
       " array([667.06970721, 612.53409207]))"
      ]
     },
     "execution_count": 361,
     "metadata": {},
     "output_type": "execute_result"
    }
   ],
   "source": [
    "out"
   ]
  },
  {
   "cell_type": "code",
   "execution_count": null,
   "metadata": {},
   "outputs": [
    {
     "name": "stdout",
     "output_type": "stream",
     "text": [
      "[-0.09966363  0.17441136]\n",
      "[-0.03950399  0.03491266]\n"
     ]
    }
   ],
   "source": [
    "print(v3[:, 0])\n",
    "print(out[0])"
   ]
  },
  {
   "cell_type": "code",
   "execution_count": null,
   "metadata": {},
   "outputs": [],
   "source": [
    "coords = np.mean(v3.T * out[0] + p3.T, axis=0)"
   ]
  },
  {
   "cell_type": "code",
   "execution_count": null,
   "metadata": {},
   "outputs": [],
   "source": [
    "fig, ax = plt.subplots(1, 1, figsize=(5, 5), dpi=200)\n",
    "\n",
    "ax.scatter(*p3, s=1, c='k')\n",
    "\n",
    "plt.show()"
   ]
  },
  {
   "cell_type": "code",
   "execution_count": null,
   "metadata": {},
   "outputs": [],
   "source": [
    "fig, ax = plt.subplots(1, 1, figsize=(5, 5), dpi=200)\n",
    "ax.scatter(*p3, s=1, c='k')\n",
    "\n",
    "ax.plot(p3.T, (p3 + (v3 * 0.001)).T)\n",
    "\n",
    "plt.show()"
   ]
  },
  {
   "cell_type": "code",
   "execution_count": null,
   "metadata": {},
   "outputs": [],
   "source": [
    "fig, ax = plt.subplots(1, 1, figsize=(5, 5), dpi=200)\n",
    "\n",
    "ax.scatter(*(v3.T * out[0] + p3.T).T, s=1, c='k')\n",
    "\n",
    "plt.show()"
   ]
  },
  {
   "cell_type": "code",
   "execution_count": null,
   "metadata": {},
   "outputs": [],
   "source": [
    "fig, ax = plt.subplots(1, 1, figsize=(5, 5), dpi=200)\n",
    "\n",
    "im = ax.imshow(test_image, vmin=0, vmax=0.1)\n",
    "fig.colorbar(im, ax=ax)\n",
    "\n",
    "ax.contour(masked)\n",
    "\n",
    "plt.show()"
   ]
  },
  {
   "cell_type": "code",
   "execution_count": null,
   "metadata": {},
   "outputs": [],
   "source": [
    "test.plot_image(label(mask))"
   ]
  },
  {
   "cell_type": "code",
   "execution_count": null,
   "metadata": {},
   "outputs": [
    {
     "name": "stdout",
     "output_type": "stream",
     "text": [
      "[ 0.11835057 -0.01868693]\n",
      "[0.23047216 0.03114488]\n",
      "[ 25.59895322 158.62658482]\n",
      "[ 25.43680711 158.59622021]\n"
     ]
    }
   ],
   "source": [
    "print(v[:, 0])\n",
    "print(v[:, 1])\n",
    "print(p[:, 0])\n",
    "print(p[:, 1])"
   ]
  },
  {
   "cell_type": "code",
   "execution_count": null,
   "metadata": {},
   "outputs": [
    {
     "ename": "ValueError",
     "evalue": "Input array a should be 2D",
     "output_type": "error",
     "traceback": [
      "\u001b[1;31m---------------------------------------------------------------------------\u001b[0m",
      "\u001b[1;31mValueError\u001b[0m                                Traceback (most recent call last)",
      "Cell \u001b[1;32mIn[305], line 3\u001b[0m\n\u001b[0;32m      1\u001b[0m \u001b[38;5;28;01mfrom\u001b[39;00m \u001b[38;5;21;01mscipy\u001b[39;00m\u001b[38;5;21;01m.\u001b[39;00m\u001b[38;5;21;01mlinalg\u001b[39;00m \u001b[38;5;28;01mimport\u001b[39;00m lstsq\n\u001b[1;32m----> 3\u001b[0m out \u001b[38;5;241m=\u001b[39m \u001b[43mlstsq\u001b[49m\u001b[43m(\u001b[49m\u001b[43m[\u001b[49m\u001b[43mv\u001b[49m\u001b[43m,\u001b[49m\u001b[43m \u001b[49m\u001b[38;5;241;43m-\u001b[39;49m\u001b[43mv\u001b[49m\u001b[43m]\u001b[49m\u001b[43m,\u001b[49m\u001b[43m \u001b[49m\u001b[43mp\u001b[49m\u001b[43m \u001b[49m\u001b[38;5;241;43m-\u001b[39;49m\u001b[43m \u001b[49m\u001b[43mp\u001b[49m\u001b[43m)\u001b[49m\n",
      "File \u001b[1;32mc:\\Users\\emusterma\\AppData\\Local\\Programs\\Python\\Python311\\Lib\\site-packages\\scipy\\linalg\\_basic.py:1227\u001b[0m, in \u001b[0;36mlstsq\u001b[1;34m(a, b, cond, overwrite_a, overwrite_b, check_finite, lapack_driver)\u001b[0m\n\u001b[0;32m   1225\u001b[0m b1 \u001b[38;5;241m=\u001b[39m _asarray_validated(b, check_finite\u001b[38;5;241m=\u001b[39mcheck_finite)\n\u001b[0;32m   1226\u001b[0m \u001b[38;5;28;01mif\u001b[39;00m \u001b[38;5;28mlen\u001b[39m(a1\u001b[38;5;241m.\u001b[39mshape) \u001b[38;5;241m!=\u001b[39m \u001b[38;5;241m2\u001b[39m:\n\u001b[1;32m-> 1227\u001b[0m     \u001b[38;5;28;01mraise\u001b[39;00m \u001b[38;5;167;01mValueError\u001b[39;00m(\u001b[38;5;124m'\u001b[39m\u001b[38;5;124mInput array a should be 2D\u001b[39m\u001b[38;5;124m'\u001b[39m)\n\u001b[0;32m   1228\u001b[0m m, n \u001b[38;5;241m=\u001b[39m a1\u001b[38;5;241m.\u001b[39mshape\n\u001b[0;32m   1229\u001b[0m \u001b[38;5;28;01mif\u001b[39;00m \u001b[38;5;28mlen\u001b[39m(b1\u001b[38;5;241m.\u001b[39mshape) \u001b[38;5;241m==\u001b[39m \u001b[38;5;241m2\u001b[39m:\n",
      "\u001b[1;31mValueError\u001b[0m: Input array a should be 2D"
     ]
    }
   ],
   "source": [
    "from scipy.linalg import lstsq\n",
    "\n",
    "out = lstsq(v, p)"
   ]
  },
  {
   "cell_type": "code",
   "execution_count": null,
   "metadata": {},
   "outputs": [],
   "source": [
    "q = p + v @ out[0]"
   ]
  },
  {
   "cell_type": "code",
   "execution_count": null,
   "metadata": {},
   "outputs": [
    {
     "data": {
      "text/plain": [
       "array([ 317.25316964,  317.19244043,  317.25043743, ..., -331.58475086,\n",
       "       -331.31714126, -331.34545068])"
      ]
     },
     "execution_count": 304,
     "metadata": {},
     "output_type": "execute_result"
    }
   ],
   "source": [
    "q[1]"
   ]
  },
  {
   "cell_type": "code",
   "execution_count": null,
   "metadata": {},
   "outputs": [],
   "source": [
    "test.plot_image(sob_mag)"
   ]
  },
  {
   "cell_type": "code",
   "execution_count": null,
   "metadata": {},
   "outputs": [],
   "source": [
    "fig, ax = plt.subplots(1, 1, figsize=(5, 5), dpi=200, subplot_kw={'projection':'3d'})\n",
    "\n",
    "ax.scatter(qx, qy, qz, c='b', s=1, alpha=0.1)\n",
    "#ax.plot(qx, qy, qz, c='k')\n",
    "#ax.plot_trisurf(qx, qy, qz, alpha=0.5, label='detector')\n",
    "#ax.voxels(np.asarray([qx, qy, qz]), alpha=0.5)\n",
    "    \n",
    "fig.show()"
   ]
  },
  {
   "cell_type": "code",
   "execution_count": null,
   "metadata": {},
   "outputs": [],
   "source": []
  },
  {
   "cell_type": "code",
   "execution_count": null,
   "metadata": {},
   "outputs": [],
   "source": [
    "pixel_df = test.spots[(test.spots['map_x'] == 3)\n",
    "                        & (test.spots['map_y'] == 3)]"
   ]
  },
  {
   "cell_type": "code",
   "execution_count": null,
   "metadata": {},
   "outputs": [
    {
     "data": {
      "text/plain": [
       "map_x               3.000000\n",
       "map_y               3.000000\n",
       "guess_height        5.275062\n",
       "guess_img_x        30.000000\n",
       "guess_img_y       678.000000\n",
       "guess_tth          38.512360\n",
       "guess_chi         -13.624387\n",
       "guess_cen_tth      38.505309\n",
       "guess_cen_chi     -13.599907\n",
       "guess_fwhm_tth      0.426384\n",
       "guess_fwhm_chi      0.687899\n",
       "guess_int         101.430588\n",
       "fit_amp             4.920459\n",
       "fit_tth0           38.504399\n",
       "fit_chi0          -13.640256\n",
       "fit_fwhm_tth        0.126779\n",
       "fit_fwhm_chi        0.169940\n",
       "fit_theta           6.327112\n",
       "fit_offset          0.138128\n",
       "fit_r_squared       0.859608\n",
       "fit_integrated      0.120120\n",
       "fit_fwhm_a          0.144735\n",
       "fit_fwhm_b          0.154934\n",
       "qx                 -4.599082\n",
       "qy                 -1.116056\n",
       "qz                 -1.652888\n",
       "Name: 51, dtype: float64"
      ]
     },
     "execution_count": 47,
     "metadata": {},
     "output_type": "execute_result"
    }
   ],
   "source": [
    "pixel_df.iloc[0]"
   ]
  },
  {
   "cell_type": "code",
   "execution_count": null,
   "metadata": {},
   "outputs": [],
   "source": [
    "test.plot_image(spots=True)"
   ]
  },
  {
   "cell_type": "code",
   "execution_count": null,
   "metadata": {},
   "outputs": [],
   "source": [
    "test.plot_reconstruction([26, 21])"
   ]
  },
  {
   "cell_type": "code",
   "execution_count": null,
   "metadata": {},
   "outputs": [],
   "source": [
    "test.plot_q_space(pixel_indices=[26, 21])"
   ]
  },
  {
   "cell_type": "code",
   "execution_count": null,
   "metadata": {},
   "outputs": [],
   "source": [
    "#fig = plt.figure()\n",
    "new_fig = test.phases['LiNbO3 148'].show_unitcell()\n",
    "new_fig.axes[-1].set_aspect('equal')\n",
    "plt.show()"
   ]
  },
  {
   "cell_type": "code",
   "execution_count": null,
   "metadata": {},
   "outputs": [
    {
     "name": "stdout",
     "output_type": "stream",
     "text": [
      "13\n",
      "20\n",
      "22\n",
      "44\n",
      "46\n",
      "130\n",
      "139\n",
      "276\n",
      "281\n",
      "518\n",
      "520\n",
      "850\n",
      "852\n"
     ]
    }
   ],
   "source": [
    "for ind, hkil in enumerate(hkl_2_hkil(all_hkls)):\n",
    "    h, k, i, l = hkil\n",
    "    if h == 1 and k == 1:\n",
    "        print(ind)"
   ]
  },
  {
   "cell_type": "code",
   "execution_count": null,
   "metadata": {},
   "outputs": [],
   "source": [
    "skip = 500\n",
    "\n",
    "all_hkls, all_qs, all_fs = generate_reciprocal_lattice(test.phases['sapphire'], tth_range=(0, 60))\n",
    "fig, ax = plt.subplots(1, 1, figsize=(5, 5), dpi=200, subplot_kw={'projection':'3d'})\n",
    "\n",
    "plot_qs = euler_rotation(all_qs, -60, 0, 0)\n",
    "\n",
    "ax.scatter(*np.asarray(plot_qs).T, c='k', s=all_fs/20)\n",
    "#ax.scatter(*np.asarray(all_qs).T, c='k', s=all_fs/20)\n",
    "ax.scatter(0, 0, 0, c='k', s=10)\n",
    "\n",
    "ax.scatter(*np.asarray(plot_qs)[13], c='r', s=10)\n",
    "\n",
    "for en in [10.125, 10.2, 14.55, 18.375, 19.225, 20.25, 20.375]:\n",
    "\n",
    "    q = get_q_vect(test.tth_arr, test.chi_arr, wavelength=energy_2_wavelength(en))\n",
    "\n",
    "    # Plot sampled Ewald sphere\n",
    "    q_mask = q[:, test.map.mask]\n",
    "    ax.plot_trisurf(q_mask[0].ravel()[::skip],\n",
    "                    q_mask[1].ravel()[::skip],\n",
    "                    q_mask[2].ravel()[::skip],\n",
    "                    alpha=0.5, label='detector')\n",
    "\n",
    "ax.set_xlabel('qx [Å⁻¹]')\n",
    "ax.set_ylabel('qy [Å⁻¹]')\n",
    "ax.set_zlabel('qz [Å⁻¹]')\n",
    "ax.set_aspect('equal')\n",
    "\n",
    "plt.show()"
   ]
  },
  {
   "cell_type": "code",
   "execution_count": null,
   "metadata": {},
   "outputs": [
    {
     "data": {
      "text/plain": [
       "True"
      ]
     },
     "execution_count": 845,
     "metadata": {},
     "output_type": "execute_result"
    }
   ],
   "source": [
    "are_coplanar([[-2, 3, -5], [-2, 3, -2], [-3, 4, -4], [-4, 5, -6]])"
   ]
  },
  {
   "cell_type": "code",
   "execution_count": null,
   "metadata": {},
   "outputs": [],
   "source": [
    "q1 = get_q_vect(test.tth_arr, test.chi_arr, wavelength=energy_2_wavelength(10.125))\n",
    "q2 = get_q_vect(test.tth_arr, test.chi_arr, wavelength=energy_2_wavelength(22))"
   ]
  },
  {
   "cell_type": "code",
   "execution_count": null,
   "metadata": {},
   "outputs": [
    {
     "name": "stdout",
     "output_type": "stream",
     "text": [
      "Closest reflection is the (-2, 3, -5) at 0.3401 Å⁻¹ from the detector.\n"
     ]
    }
   ],
   "source": [
    "q1 = get_q_vect(test.tth_arr, test.chi_arr, wavelength=energy_2_wavelength(10.45))\n",
    "#plot_qs = euler_rotation(all_qs, -60, 0, 0)\n",
    "dist = euclidean_distances(plot_qs, q1.reshape(3, -1).T)\n",
    "dist[dist == 0] = np.nan\n",
    "indices = np.unravel_index(np.argmin(dist[dist > 0]), dist.shape)\n",
    "min_dist = dist[indices]\n",
    "min_hkl = all_hkls[indices[0]]\n",
    "print(f'Closest reflection is the {min_hkl} at {min_dist:.4f} Å⁻¹ from the detector.')"
   ]
  },
  {
   "cell_type": "code",
   "execution_count": null,
   "metadata": {},
   "outputs": [
    {
     "name": "stderr",
     "output_type": "stream",
     "text": [
      "373248it [01:14, 5004.75it/s]\n"
     ]
    }
   ],
   "source": [
    "max_depth = 0\n",
    "\n",
    "for q1_i, q2_i in tqdm(zip(q1.reshape(3, -1).T, q2.reshape(3, -1).T)):\n",
    "    dist = euclidean_distances(q1_i.reshape(-1, 1).T, q2_i.reshape(-1, 1).T)[0, 0]\n",
    "    max_depth = np.max([dist, max_depth])"
   ]
  },
  {
   "cell_type": "code",
   "execution_count": null,
   "metadata": {},
   "outputs": [],
   "source": [
    "q_range = list(q1.reshape(3, -1).T) + list(q2.reshape(3, -1).T)"
   ]
  },
  {
   "cell_type": "code",
   "execution_count": null,
   "metadata": {},
   "outputs": [],
   "source": []
  },
  {
   "cell_type": "code",
   "execution_count": null,
   "metadata": {},
   "outputs": [],
   "source": [
    "all_hkls, all_qs, all_fs = generate_reciprocal_lattice(test.phases['sapphire'], tth_range=(0, 60))\n",
    "fig, ax = plt.subplots(1, 1, figsize=(5, 5), dpi=200, subplot_kw={'projection':'3d'})\n",
    "\n",
    "plot_qs = euler_rotation(all_qs, -60, 0, 0)\n",
    "ax.scatter(*np.asarray(plot_qs).T, c='k', s=all_fs/20)\n",
    "#ax.scatter(*np.asarray(all_qs).T, c='k', s=all_fs/20)\n",
    "ax.scatter(0, 0, 0, c='k', s=10)\n",
    "\n",
    "ax.scatter(*np.asarray(plot_qs)[13], c='r', s=10)\n",
    "\n",
    "for theta in [0, 5, 5.5, 12.25, 13.625, 14.20, 15.55]:\n",
    "    theta = np.radians(theta)\n",
    "\n",
    "    q = get_q_vect(test.tth_arr, test.chi_arr, wavelength=energy_2_wavelength(18))\n",
    "\n",
    "    Ry = np.array([[np.cos(theta), 0, -np.sin(theta)],\n",
    "                   [0, 1, 0],\n",
    "                   [np.sin(theta), 0, np.cos(theta)]])\n",
    "\n",
    "    # Plot sampled Ewald sphere\n",
    "    q_mask = q[:, test.map.mask]\n",
    "\n",
    "    q_mask = (q_mask.T @ Ry).T\n",
    "    ax.plot_trisurf(q_mask[0].ravel()[::skip],\n",
    "                    q_mask[1].ravel()[::skip],\n",
    "                    q_mask[2].ravel()[::skip],\n",
    "                    alpha=0.5, label='detector')\n",
    "\n",
    "ax.set_xlabel('qx [Å⁻¹]')\n",
    "ax.set_ylabel('qy [Å⁻¹]')\n",
    "ax.set_zlabel('qz [Å⁻¹]')\n",
    "ax.set_aspect('equal')\n",
    "\n",
    "plt.show()"
   ]
  },
  {
   "cell_type": "code",
   "execution_count": null,
   "metadata": {},
   "outputs": [
    {
     "data": {
      "text/plain": [
       "True"
      ]
     },
     "execution_count": 700,
     "metadata": {},
     "output_type": "execute_result"
    }
   ],
   "source": [
    "are_coplanar([[1, 0, 0], [2, 0, 0], [1, 1, 0]])"
   ]
  },
  {
   "cell_type": "code",
   "execution_count": null,
   "metadata": {},
   "outputs": [],
   "source": [
    "pixel_indices = [0, 0]\n",
    "skip = 500\n",
    "\n",
    "fig, ax = plt.subplots(1, 1, figsize=(5, 5), dpi=200, subplot_kw={'projection':'3d'})\n",
    "\n",
    "plot_qs = euler_rotation(all_qs, 10, -20, 0)\n",
    "\n",
    "ax.scatter(*np.asarray(plot_qs).T, c='k', s=all_fs / 50, alpha=0.75)\n",
    "ax.scatter(0, 0, 0, c='k', s=10)\n",
    "\n",
    "# Plot full Ewald sphere\n",
    "u = np.linspace(0, 2 * np.pi, 100)\n",
    "v = np.linspace(0, np.pi, 100)\n",
    "radius = 2 * np.pi / test.wavelength\n",
    "x =  radius * np.outer(np.cos(u), np.sin(v))\n",
    "y = radius * np.outer(np.sin(u), np.sin(v))\n",
    "z = radius * np.outer(np.ones(np.size(u)), np.cos(v))\n",
    "#ax.plot_surface(x, y, z - radius, alpha=0.2, color='k', label='Ewald sphere')\n",
    "\n",
    "q = get_q_vect(test.tth_arr, test.chi_arr, wavelength=test.wavelength)\n",
    "\n",
    "if pixel_indices is not None:\n",
    "    pixel_df = test.spots[(test.spots['map_x'] == pixel_indices[0])\n",
    "                            & (test.spots['map_y'] == pixel_indices[1])].copy()\n",
    "\n",
    "\n",
    "if pixel_indices is not None:\n",
    "    ax.scatter(*pixel_df[['qx', 'qy', 'qz']].values.T, s=1, c='r', label='spots')\n",
    "\n",
    "# Sample geometry\n",
    "ax.quiver([0, 0], [0, 0], [-2 * radius, -radius], [0, 0], [0, 0], [radius, radius], colors='k')\n",
    "ax.scatter(0, 0, 0, marker='o', s=10, facecolors='none', edgecolors='k', label='transmission')\n",
    "ax.scatter(0, 0, -radius, marker='h', s=10, c='b', label='sample')\n",
    "\n",
    "# Plot sampled Ewald sphere\n",
    "q_mask = q[:, test.map.mask]\n",
    "ax.plot_trisurf(q_mask[0].ravel()[::skip],\n",
    "                q_mask[1].ravel()[::skip],\n",
    "                q_mask[2].ravel()[::skip],\n",
    "                alpha=0.5, label='detector')\n",
    "\n",
    "ax.scatter(qx, qy, qz, c='b', s=1, alpha=0.1)\n",
    "\n",
    "ax.set_xlabel('qx [Å⁻¹]')\n",
    "ax.set_ylabel('qy [Å⁻¹]')\n",
    "ax.set_zlabel('qz [Å⁻¹]')\n",
    "ax.set_aspect('equal')\n",
    "\n",
    "plt.show()"
   ]
  },
  {
   "cell_type": "code",
   "execution_count": null,
   "metadata": {},
   "outputs": [],
   "source": [
    "pixel_indices = [0, 0] #[26, 21]\n",
    "skip = 500\n",
    "\n",
    "#fig, ax = plt.subplots(1, 1, figsize=(5, 10), dpi=200, subplot_kw={'projection':'3d'})\n",
    "fig = plt.figure(figsize=(10, 5), dpi=200)\n",
    "ax = fig.add_axes([0, 0, 0.5, 1], projection='3d')\n",
    "#ax = fig.add_subplot(projection='3d')\n",
    "\n",
    "plot_qs = euler_rotation(all_qs, 10, -20, 0)\n",
    "recip_latt = ax.scatter(*np.asarray(plot_qs).T, c='k', s=all_fs / 50, alpha=0.75)\n",
    "ax.scatter(0, 0, 0, c='k', s=10)\n",
    "\n",
    "# Plot full Ewald sphere\n",
    "u = np.linspace(0, 2 * np.pi, 100)\n",
    "v = np.linspace(0, np.pi, 100)\n",
    "radius = 2 * np.pi / test.wavelength\n",
    "x =  radius * np.outer(np.cos(u), np.sin(v))\n",
    "y = radius * np.outer(np.sin(u), np.sin(v))\n",
    "z = radius * np.outer(np.ones(np.size(u)), np.cos(v))\n",
    "#ax.plot_surface(x, y, z - radius, alpha=0.2, color='k', label='Ewald sphere')\n",
    "\n",
    "q = get_q_vect(test.tth_arr, test.chi_arr, wavelength=test.wavelength)\n",
    "\n",
    "if pixel_indices is not None:\n",
    "    pixel_df = test.spots[(test.spots['map_x'] == pixel_indices[0])\n",
    "                            & (test.spots['map_y'] == pixel_indices[1])].copy()\n",
    "\n",
    "\n",
    "if pixel_indices is not None:\n",
    "    ax.scatter(*pixel_df[['qx', 'qy', 'qz']].values.T, s=1, c='r', label='spots')\n",
    "\n",
    "# Sample geometry\n",
    "ax.quiver([0, 0], [0, 0], [-2 * radius, -radius], [0, 0], [0, 0], [radius, radius], colors='k')\n",
    "ax.scatter(0, 0, 0, marker='o', s=10, facecolors='none', edgecolors='k', label='transmission')\n",
    "ax.scatter(0, 0, -radius, marker='h', s=10, c='b', label='sample')\n",
    "\n",
    "# Plot sampled Ewald sphere\n",
    "q_mask = q[:, test.map.mask]\n",
    "ax.plot_trisurf(q_mask[0].ravel()[::skip],\n",
    "                q_mask[1].ravel()[::skip],\n",
    "                q_mask[2].ravel()[::skip],\n",
    "                alpha=0.5, label='detector')\n",
    "\n",
    "phi1, PHI, phi2 = 10, -20, 0\n",
    "euler_angles = {'phi1' : phi1,\n",
    "                'PHI' : PHI,\n",
    "                'phi2': phi2}\n",
    "euler_bounds = [[-180, 180], [0, 180], [-180, 180]]\n",
    "slider_lst = []\n",
    "update_lst = []\n",
    "\n",
    "slider_vpos = np.linspace(0.8, 0.1, 3)\n",
    "\n",
    "for i, key in enumerate(euler_angles.keys()):\n",
    "    slider_ax = fig.add_axes\n",
    "\n",
    "    # Make a horizontal slider to control the frequency.\n",
    "    axfreq = fig.add_axes([0.7, slider_vpos[i], 0.2, 0.03])\n",
    "    euler_slider = Slider(\n",
    "        ax=axfreq,\n",
    "        label=f'{key} [deg]',\n",
    "        valmin=euler_bounds[i][0],\n",
    "        valmax=euler_bounds[i][1],\n",
    "        valinit=euler_angles[key],\n",
    "    )\n",
    "\n",
    "    slider_lst.append(euler_slider)\n",
    "\n",
    "    # The function to be called anytime a slider's value changes\n",
    "    def update_factory(key):\n",
    "        def update(val):\n",
    "            global recip_latt\n",
    "            euler_angles[key] = val\n",
    "            plot_qs = euler_rotation(all_qs, *euler_angles.values())\n",
    "            recip_latt.remove()\n",
    "            recip_latt = ax.scatter(*np.asarray(plot_qs).T, c='k', s=all_fs / 50, alpha=0.75)\n",
    "            fig.canvas.draw_idle()\n",
    "        return update\n",
    "\n",
    "    update_lst.append(update_factory(key))\n",
    "    slider_lst[i].on_changed(update_lst[i])\n",
    "\n",
    "ax.set_xlabel('qx [Å⁻¹]')\n",
    "ax.set_ylabel('qy [Å⁻¹]')\n",
    "ax.set_zlabel('qz [Å⁻¹]')\n",
    "ax.set_aspect('equal')\n",
    "\n",
    "plt.show()"
   ]
  },
  {
   "cell_type": "code",
   "execution_count": null,
   "metadata": {},
   "outputs": [],
   "source": [
    "test.spots = pd.read_hdf(test.hdf_path, key='xrdmap/reflections/spots')"
   ]
  },
  {
   "cell_type": "code",
   "execution_count": null,
   "metadata": {},
   "outputs": [],
   "source": [
    "dropped_indices = []\n",
    "\n",
    "for index in test.spots.index:\n",
    "    spot = test.spots.loc[index]\n",
    "    if spot['fit_amp'] - spot['fit_offset'] < 0.5:\n",
    "        dropped_indices.append(index)"
   ]
  },
  {
   "cell_type": "code",
   "execution_count": null,
   "metadata": {},
   "outputs": [],
   "source": [
    "test.spots = test.spots.drop(index = dropped_indices)"
   ]
  },
  {
   "cell_type": "code",
   "execution_count": null,
   "metadata": {},
   "outputs": [],
   "source": [
    "test.plot_image([15, 23], spots=True)"
   ]
  },
  {
   "cell_type": "code",
   "execution_count": null,
   "metadata": {},
   "outputs": [
    {
     "ename": "NameError",
     "evalue": "name 'test' is not defined",
     "output_type": "error",
     "traceback": [
      "\u001b[1;31m---------------------------------------------------------------------------\u001b[0m",
      "\u001b[1;31mNameError\u001b[0m                                 Traceback (most recent call last)",
      "Cell \u001b[1;32mIn[25], line 2\u001b[0m\n\u001b[0;32m      1\u001b[0m pixel_indices \u001b[38;5;241m=\u001b[39m \u001b[38;5;241m5\u001b[39m, \u001b[38;5;241m28\u001b[39m\n\u001b[1;32m----> 2\u001b[0m pixel_df \u001b[38;5;241m=\u001b[39m \u001b[43mtest\u001b[49m\u001b[38;5;241m.\u001b[39mspots[(test\u001b[38;5;241m.\u001b[39mspots[\u001b[38;5;124m'\u001b[39m\u001b[38;5;124mmap_x\u001b[39m\u001b[38;5;124m'\u001b[39m] \u001b[38;5;241m==\u001b[39m pixel_indices[\u001b[38;5;241m0\u001b[39m])\n\u001b[0;32m      3\u001b[0m                         \u001b[38;5;241m&\u001b[39m (test\u001b[38;5;241m.\u001b[39mspots[\u001b[38;5;124m'\u001b[39m\u001b[38;5;124mmap_y\u001b[39m\u001b[38;5;124m'\u001b[39m] \u001b[38;5;241m==\u001b[39m pixel_indices[\u001b[38;5;241m1\u001b[39m])]\u001b[38;5;241m.\u001b[39mcopy()\n\u001b[0;32m      5\u001b[0m fit_ori, fit_min \u001b[38;5;241m=\u001b[39m iterative_dictionary_indexing(pixel_df, test\u001b[38;5;241m.\u001b[39mphases[\u001b[38;5;124m'\u001b[39m\u001b[38;5;124mStibnite\u001b[39m\u001b[38;5;124m'\u001b[39m], [np\u001b[38;5;241m.\u001b[39mmin(test\u001b[38;5;241m.\u001b[39mtth_arr), np\u001b[38;5;241m.\u001b[39mmax(test\u001b[38;5;241m.\u001b[39mtth_arr)],\n\u001b[0;32m      6\u001b[0m                                                  cut_off\u001b[38;5;241m=\u001b[39m\u001b[38;5;241m0.05\u001b[39m,\n\u001b[0;32m      7\u001b[0m                                                  start_angle\u001b[38;5;241m=\u001b[39m\u001b[38;5;241m20\u001b[39m,\n\u001b[0;32m      8\u001b[0m                                                  angle_resolution\u001b[38;5;241m=\u001b[39m\u001b[38;5;241m0.001\u001b[39m, \n\u001b[0;32m      9\u001b[0m                                                  euler_bounds\u001b[38;5;241m=\u001b[39m[[\u001b[38;5;241m0\u001b[39m, \u001b[38;5;241m180\u001b[39m], [\u001b[38;5;241m0\u001b[39m, \u001b[38;5;241m180\u001b[39m], [\u001b[38;5;241m0\u001b[39m, \u001b[38;5;241m-\u001b[39m\u001b[38;5;241m180\u001b[39m]])\n\u001b[0;32m     11\u001b[0m all_hkls, all_qs, all_fs \u001b[38;5;241m=\u001b[39m generate_reciprocal_lattice(test\u001b[38;5;241m.\u001b[39mphases[\u001b[38;5;124m'\u001b[39m\u001b[38;5;124mStibnite\u001b[39m\u001b[38;5;124m'\u001b[39m], tth_range\u001b[38;5;241m=\u001b[39m(np\u001b[38;5;241m.\u001b[39mmin(test\u001b[38;5;241m.\u001b[39mtth_arr), np\u001b[38;5;241m.\u001b[39mmax(test\u001b[38;5;241m.\u001b[39mtth_arr)))\n",
      "\u001b[1;31mNameError\u001b[0m: name 'test' is not defined"
     ]
    }
   ],
   "source": [
    "pixel_indices = 5, 28\n",
    "pixel_df = test.spots[(test.spots['map_x'] == pixel_indices[0])\n",
    "                        & (test.spots['map_y'] == pixel_indices[1])].copy()\n",
    "\n",
    "fit_ori, fit_min = iterative_dictionary_indexing(pixel_df, test.phases['Stibnite'], [np.min(test.tth_arr), np.max(test.tth_arr)],\n",
    "                                                 cut_off=0.05,\n",
    "                                                 start_angle=20,\n",
    "                                                 angle_resolution=0.001, \n",
    "                                                 euler_bounds=[[0, 180], [0, 90], [0, 180]])\n",
    "\n",
    "all_hkls, all_qs, all_fs = generate_reciprocal_lattice(test.phases['Stibnite'], tth_range=(np.min(test.tth_arr), np.max(test.tth_arr)))"
   ]
  },
  {
   "cell_type": "code",
   "execution_count": null,
   "metadata": {},
   "outputs": [],
   "source": [
    "test.spots.drop(index=311, inplace=True)"
   ]
  },
  {
   "cell_type": "code",
   "execution_count": null,
   "metadata": {},
   "outputs": [],
   "source": [
    "test.plot_image(pixel_indices, spots=True)"
   ]
  },
  {
   "cell_type": "code",
   "execution_count": null,
   "metadata": {},
   "outputs": [],
   "source": [
    "skip = 500\n",
    "\n",
    "fig, ax = plt.subplots(1, 1, figsize=(5, 5), dpi=200, subplot_kw={'projection':'3d'})\n",
    "\n",
    "plot_qs = euler_rotation(all_qs, *fit_ori[-2])\n",
    "\n",
    "ax.scatter(*np.asarray(plot_qs).T, c='k', s=all_fs / 50, alpha=0.75)\n",
    "ax.scatter(0, 0, 0, c='k', s=10)\n",
    "\n",
    "# Plot full Ewald sphere\n",
    "u = np.linspace(0, 2 * np.pi, 100)\n",
    "v = np.linspace(0, np.pi, 100)\n",
    "radius = 2 * np.pi / test.wavelength\n",
    "x =  radius * np.outer(np.cos(u), np.sin(v))\n",
    "y = radius * np.outer(np.sin(u), np.sin(v))\n",
    "z = radius * np.outer(np.ones(np.size(u)), np.cos(v))\n",
    "#ax.plot_surface(x, y, z - radius, alpha=0.2, color='k', label='Ewald sphere')\n",
    "\n",
    "q = get_q_vect(test.tth_arr, test.chi_arr, wavelength=test.wavelength)\n",
    "\n",
    "if pixel_indices is not None:\n",
    "    pixel_df = test.spots[(test.spots['map_x'] == pixel_indices[0])\n",
    "                            & (test.spots['map_y'] == pixel_indices[1])].copy()\n",
    "\n",
    "\n",
    "if pixel_indices is not None:\n",
    "    ax.scatter(*pixel_df[['qx', 'qy', 'qz']].values.T, s=1, c='r', label='spots')\n",
    "\n",
    "# Sample geometry\n",
    "ax.quiver([0, 0], [0, 0], [-2 * radius, -radius], [0, 0], [0, 0], [radius, radius], colors='k')\n",
    "ax.scatter(0, 0, 0, marker='o', s=10, facecolors='none', edgecolors='k', label='transmission')\n",
    "ax.scatter(0, 0, -radius, marker='h', s=10, c='b', label='sample')\n",
    "\n",
    "# Plot sampled Ewald sphere\n",
    "q_mask = q[:, test.map.mask]\n",
    "ax.plot_trisurf(q_mask[0].ravel()[::skip],\n",
    "                q_mask[1].ravel()[::skip],\n",
    "                q_mask[2].ravel()[::skip],\n",
    "                alpha=0.5, label='detector')\n",
    "\n",
    "ax.set_xlabel('qx [Å⁻¹]')\n",
    "ax.set_ylabel('qy [Å⁻¹]')\n",
    "ax.set_zlabel('qz [Å⁻¹]')\n",
    "ax.set_aspect('equal')\n",
    "\n",
    "plt.show()"
   ]
  },
  {
   "cell_type": "code",
   "execution_count": null,
   "metadata": {},
   "outputs": [
    {
     "data": {
      "text/plain": [
       "[(40, 160, 280),\n",
       " (200, 50.0, 280),\n",
       " (200.0, 50.0, 280.0),\n",
       " (350.0, 160.0, 237.5),\n",
       " (-2.5, 161.25, 243.75),\n",
       " (315.625, 51.875, 284.375),\n",
       " (315.625, 51.875, 284.375),\n",
       " (-5.78125, 160.78125, 241.09375),\n",
       " (75.9375, 51.796875, 284.0625),\n",
       " (234.6484375, 160.8203125, 241.4453125),\n",
       " (234.51171875, 160.80078125, 241.328125),\n",
       " (234.521484375, 160.80078125, 241.337890625),\n",
       " (-5.4541015625, 160.8056640625, 241.357421875),\n",
       " (-5.4541015625, 160.8056640625, 241.357421875),\n",
       " (315.95458984375, 51.805419921875, 284.072265625),\n",
       " (315.95458984375, 51.805419921875, 284.072265625)]"
      ]
     },
     "execution_count": 140,
     "metadata": {},
     "output_type": "execute_result"
    }
   ],
   "source": [
    "fit_ori"
   ]
  },
  {
   "cell_type": "code",
   "execution_count": null,
   "metadata": {},
   "outputs": [],
   "source": [
    "spot_qs = pixel_df[['qx', 'qy', 'qz']].values\n",
    "dist = euclidean_distances(spot_qs, euler_rotation(all_qs, *fit_ori[-12]))"
   ]
  },
  {
   "cell_type": "code",
   "execution_count": null,
   "metadata": {},
   "outputs": [],
   "source": [
    "fit_hkls = []\n",
    "\n",
    "for spot in range(len(dist)):\n",
    "    fit_hkls.append(all_hkls[np.argmin(dist[spot])])\n",
    "fit_hkls = np.asarray(fit_hkls)"
   ]
  },
  {
   "cell_type": "code",
   "execution_count": null,
   "metadata": {},
   "outputs": [
    {
     "data": {
      "text/plain": [
       "array([[-10,   0,  -4],\n",
       "       [ -9,  -1,  -3],\n",
       "       [ -9,   0,  -3],\n",
       "       [ -9,   1,  -3],\n",
       "       [ -8,   1,  -2],\n",
       "       [ -7,  -1,  -2],\n",
       "       [ -7,   0,  -2],\n",
       "       [ -7,   1,  -2],\n",
       "       [ -6,   0,  -1],\n",
       "       [ -5,   1,  -1],\n",
       "       [ -4,  -1,  -1],\n",
       "       [ -4,   1,  -1]])"
      ]
     },
     "execution_count": 169,
     "metadata": {},
     "output_type": "execute_result"
    }
   ],
   "source": [
    "np.unique(fit_hkls, axis=0)"
   ]
  },
  {
   "cell_type": "code",
   "execution_count": null,
   "metadata": {},
   "outputs": [
    {
     "data": {
      "text/plain": [
       "False"
      ]
     },
     "execution_count": 170,
     "metadata": {},
     "output_type": "execute_result"
    }
   ],
   "source": [
    "are_coplanar(np.unique(fit_hkls, axis=0))"
   ]
  },
  {
   "cell_type": "code",
   "execution_count": null,
   "metadata": {},
   "outputs": [],
   "source": [
    "from scipy import linalg\n",
    "\n",
    "x, res, rnk, s = linalg.lstsq(fit_hkls, spot_qs)"
   ]
  },
  {
   "cell_type": "code",
   "execution_count": null,
   "metadata": {},
   "outputs": [],
   "source": [
    "fig, ax = plt.subplots(1, 1, figsize=(5, 5), dpi=200, subplot_kw={'projection':'3d'})\n",
    "\n",
    "\n",
    "ax.quiver([0, 0, 0], [0, 0, 0], [0, 0, 0], *x.T)\n",
    "\n",
    "plt.show()"
   ]
  },
  {
   "cell_type": "code",
   "execution_count": null,
   "metadata": {},
   "outputs": [],
   "source": [
    "b1, b2, b3 = x\n",
    "b1_mag = linalg.norm(b1)\n",
    "b2_mag = linalg.norm(b2)\n",
    "b3_mag = linalg.norm(b3)\n",
    "beta1 = np.arccos(np.dot(b3, b2) / (linalg.norm(b3) * linalg.norm(b2)))\n",
    "beta2 = np.arccos(np.dot(b1, b3) / (linalg.norm(b1) * linalg.norm(b3)))\n",
    "beta3 = np.arccos(np.dot(b1, b2) / (linalg.norm(b1) * linalg.norm(b2)))"
   ]
  },
  {
   "cell_type": "code",
   "execution_count": null,
   "metadata": {},
   "outputs": [],
   "source": [
    "a1 = (2 * np.pi * np.cross(b2, b3)) / (b1 @ (np.cross(b2, b3)))\n",
    "a2 = (2 * np.pi * np.cross(b3, b1)) / (b1 @ (np.cross(b2, b3)))\n",
    "a3 = (2 * np.pi * np.cross(b1, b2)) / (b1 @ (np.cross(b2, b3)))\n",
    "a1_mag = linalg.norm(a1)\n",
    "a2_mag = linalg.norm(a2)\n",
    "a3_mag = linalg.norm(a3)\n",
    "alpha1 = np.arccos(np.dot(a3, a2) / (linalg.norm(a3) * linalg.norm(a2)))\n",
    "alpha2 = np.arccos(np.dot(a1, a3) / (linalg.norm(a1) * linalg.norm(a3)))\n",
    "alpha3 = np.arccos(np.dot(a1, a2) / (linalg.norm(a1) * linalg.norm(a2)))"
   ]
  },
  {
   "cell_type": "code",
   "execution_count": null,
   "metadata": {},
   "outputs": [
    {
     "name": "stdout",
     "output_type": "stream",
     "text": [
      "11.682404085497277\n",
      "5.287620223096001\n",
      "15.36757242451438\n"
     ]
    }
   ],
   "source": [
    "print(linalg.norm(a1))\n",
    "print(linalg.norm(a2))\n",
    "print(linalg.norm(a3))"
   ]
  },
  {
   "cell_type": "code",
   "execution_count": null,
   "metadata": {},
   "outputs": [],
   "source": [
    "stibnite = test.phases['Stibnite']\n",
    "I = np.asarray([[1, 0, 0], [0, 1, 0], [0, 0, 1]])\n",
    "A_meas = np.asarray([[a1_mag, a2_mag * np.cos(alpha3), a3_mag * np.cos(alpha2)],\n",
    "                     [0, a2_mag * np.sin(alpha3), -a3_mag * np.sin(alpha2) * np.cos(beta1)],\n",
    "                     [0, 0, 1 / b3_mag]])\n",
    "a1_ref = stibnite.a\n",
    "a2_ref = stibnite.b\n",
    "a3_ref = stibnite.c\n",
    "alpha1_ref = stibnite.alpha\n",
    "alpha2_ref = stibnite.beta\n",
    "alpha3_ref = stibnite.gamma\n",
    "beta1_ref = np.arccos(np.dot(stibnite.B[2], stibnite.B[1]) / (linalg.norm(stibnite.B[2]) * linalg.norm(stibnite.B[1])))\n",
    "b3_ref = linalg.norm(stibnite.B[2])\n",
    "\n",
    "\n",
    "A_ref = np.asarray([[a1_ref, a2_ref * np.cos(alpha3_ref), a3_ref * np.cos(alpha2_ref)],\n",
    "                    [0, a2_ref * np.sin(alpha3_ref), -a3_ref * np.sin(alpha2_ref) * np.cos(beta1_ref)],\n",
    "                    [0, 0, 1 / b3_ref]])"
   ]
  },
  {
   "cell_type": "code",
   "execution_count": null,
   "metadata": {},
   "outputs": [
    {
     "data": {
      "text/plain": [
       "array([[11.0035646 ,  0.0585458 , -0.03931784],\n",
       "       [ 0.        ,  3.79980785,  0.1230244 ],\n",
       "       [ 0.        ,  0.        ,  1.79850057]])"
      ]
     },
     "execution_count": 469,
     "metadata": {},
     "output_type": "execute_result"
    }
   ],
   "source": [
    "A_meas"
   ]
  },
  {
   "cell_type": "code",
   "execution_count": null,
   "metadata": {},
   "outputs": [
    {
     "data": {
      "text/plain": [
       "array([[11.314     , -1.71925847, -5.033659  ],\n",
       "       [ 0.        ,  3.4302652 , -0.        ],\n",
       "       [ 0.        ,  0.        ,  1.78794663]])"
      ]
     },
     "execution_count": 470,
     "metadata": {},
     "output_type": "execute_result"
    }
   ],
   "source": [
    "A_ref"
   ]
  },
  {
   "cell_type": "code",
   "execution_count": null,
   "metadata": {},
   "outputs": [],
   "source": [
    "delta = (0) * I\n",
    "T = (A_meas + delta) @ linalg.inv(A_ref)"
   ]
  },
  {
   "cell_type": "code",
   "execution_count": null,
   "metadata": {},
   "outputs": [
    {
     "data": {
      "text/plain": [
       "array([[0.97256183, 0.50451813, 2.71609158],\n",
       "       [0.        , 1.10773005, 0.06880765],\n",
       "       [0.        , 0.        , 1.00590283]])"
      ]
     },
     "execution_count": 472,
     "metadata": {},
     "output_type": "execute_result"
    }
   ],
   "source": [
    "T"
   ]
  },
  {
   "cell_type": "code",
   "execution_count": null,
   "metadata": {},
   "outputs": [
    {
     "data": {
      "text/plain": [
       "array([[ 0., -0., -0.],\n",
       "       [ 0., -0.,  0.],\n",
       "       [ 0.,  0.,  0.]])"
      ]
     },
     "execution_count": 473,
     "metadata": {},
     "output_type": "execute_result"
    }
   ],
   "source": [
    "(A_meas + delta) - (T @ A_ref)"
   ]
  },
  {
   "cell_type": "code",
   "execution_count": null,
   "metadata": {},
   "outputs": [],
   "source": []
  },
  {
   "cell_type": "code",
   "execution_count": null,
   "metadata": {},
   "outputs": [],
   "source": [
    "ep = 0.5 * (T.T + T) - I\n",
    "w = 0.5 * (T.T - T) - I"
   ]
  },
  {
   "cell_type": "code",
   "execution_count": null,
   "metadata": {},
   "outputs": [
    {
     "name": "stdout",
     "output_type": "stream",
     "text": [
      "[[-0.02746914  0.00756478 -0.00174114]\n",
      " [ 0.00756478 -0.00961917  0.00541227]\n",
      " [-0.00174114  0.00541227  0.00595246]]\n",
      "[[-0.00528622  0.66911742  0.74313789]\n",
      " [-0.52615367 -0.63382323  0.56694835]\n",
      " [ 0.85037308 -0.38800772  0.35540912]]\n"
     ]
    }
   ],
   "source": [
    "A = np.asarray([a1 / linalg.norm(a1_ref), a2 / linalg.norm(a2_ref), a3 / linalg.norm(a3_ref)])\n",
    "#A = np.asarray([a1, a2, a3])\n",
    "p, u = linalg.polar(A, side='left')\n",
    "print(u - I)\n",
    "print(p)"
   ]
  },
  {
   "cell_type": "code",
   "execution_count": null,
   "metadata": {},
   "outputs": [
    {
     "name": "stdout",
     "output_type": "stream",
     "text": [
      "[[-0.90911509 -1.00104312 -0.99984067]\n",
      " [-1.00104312 -0.73681626 -1.00072048]\n",
      " [-0.99984067 -1.00072048 -0.91150995]]\n",
      "[[-0.00730817  0.66669301  0.7452966 ]\n",
      " [-0.52838637 -0.63534477  0.56315617]\n",
      " [ 0.84897258 -0.38968893  0.3569147 ]]\n"
     ]
    }
   ],
   "source": [
    "A = np.asarray([a1 / linalg.norm(a1_ref), a2 / linalg.norm(a2_ref), a3 / linalg.norm(a3_ref)])\n",
    "#A = np.asarray([a1, a2, a3])\n",
    "p, u = linalg.polar(x / 2 / np.pi, side='left')\n",
    "print(u - 1)\n",
    "print(p)"
   ]
  },
  {
   "cell_type": "code",
   "execution_count": null,
   "metadata": {},
   "outputs": [
    {
     "data": {
      "text/plain": [
       "array([[-0.00647293,  0.66357075,  0.74808553],\n",
       "       [-0.52116317, -0.64070588,  0.56381284],\n",
       "       [ 0.85343251, -0.38622511,  0.34997588]])"
      ]
     },
     "execution_count": 481,
     "metadata": {},
     "output_type": "execute_result"
    }
   ],
   "source": [
    "I = np.asarray([[1, 0, 0], [0, 1, 0], [0, 0, 1]])\n",
    "euler_rotation(I, *fit_ori[-1])"
   ]
  },
  {
   "cell_type": "code",
   "execution_count": null,
   "metadata": {},
   "outputs": [],
   "source": []
  },
  {
   "cell_type": "code",
   "execution_count": null,
   "metadata": {},
   "outputs": [],
   "source": []
  },
  {
   "cell_type": "code",
   "execution_count": null,
   "metadata": {},
   "outputs": [
    {
     "name": "stderr",
     "output_type": "stream",
     "text": [
      "100%|██████████| 1296/1296 [10:14<00:00,  2.11it/s]\n"
     ]
    }
   ],
   "source": [
    "spot_qs = pixel_df[['qx', 'qy', 'qz']].values\n",
    "all_hkls, all_qs, all_fs = generate_reciprocal_lattice(test.phases['Stibnite'], tth_range=(np.min(test.tth_arr), np.max(test.tth_arr)))\n",
    "\n",
    "dist = euclidean_distances(all_qs)\n",
    "min_q = np.min(dist[dist > 0])\n",
    "\n",
    "euler_map = np.empty((*test.map.map_shape, 3))\n",
    "fit_map = np.empty(test.map.map_shape)\n",
    "\n",
    "for index in tqdm(range(test.map.num_pixels)):\n",
    "    indices = np.unravel_index(index, test.map.map_shape)\n",
    "    phi1, PHI, phi2 = np.nan, np.nan, np.nan\n",
    "\n",
    "    pixel_df = test.spots[(test.spots['map_x'] == indices[0])\n",
    "                        & (test.spots['map_y'] == indices[1])].copy()\n",
    "    pixel_df.dropna(inplace=True)\n",
    "\n",
    "    # Conditional to avoid too few spots for theoretical indexing\n",
    "    if len(pixel_df) < 3:\n",
    "        euler_map[indices] = phi1, PHI, phi2\n",
    "        continue\n",
    "    \n",
    "    # Conditional to avoid single spot from one grain\n",
    "    dist = euclidean_distances(pixel_df[['qx', 'qy', 'qz']].values)\n",
    "    if np.max(dist) < min_q:\n",
    "        euler_map[indices] = phi1, PHI, phi2\n",
    "        continue\n",
    "    \n",
    "    fit_ori, fit_min = iterative_dictionary_indexing(pixel_df, test.phases['Stibnite'], [np.min(test.tth_arr), np.max(test.tth_arr)],\n",
    "                                                 cut_off=0.05,\n",
    "                                                 start_angle=20,\n",
    "                                                 angle_resolution=0.01, \n",
    "                                                 euler_bounds=[[0, 180], [0, 90], [0, 180]])\n",
    "    \n",
    "    euler_map[indices] = fit_ori[-1]\n",
    "    fit_map[indices] = fit_min[-1]"
   ]
  },
  {
   "cell_type": "code",
   "execution_count": null,
   "metadata": {},
   "outputs": [],
   "source": [
    "g = g_func(*euler_map.reshape(test.map.num_pixels, 3).T)"
   ]
  },
  {
   "cell_type": "code",
   "execution_count": null,
   "metadata": {},
   "outputs": [],
   "source": [
    "ipole = [0, 1, 0]\n",
    "\n",
    "colors, r, theta = [], [], []\n",
    "for i in range(len(g)):\n",
    "    \n",
    "    # Take only part of the orientation matrix\n",
    "    V = np.dot(g[i], ipole) # order is g, then ipole\n",
    "\n",
    "    # Determine pixel color according to unit triangle\n",
    "    R, G, B = 0, 0, 0\n",
    "    base = 30 / 255 #all pixels are a bit brighter\n",
    "    R=np.abs(V[2]) + base # referenced to crystallographic axes, but should be able to reference any axis\n",
    "    G=np.abs(V[0]) + base\n",
    "    B=np.abs(V[1]) + base\n",
    "\n",
    "    # Normalize and brighten colors\n",
    "    max_c = np.max([R,G,B])\n",
    "    R = R / max_c\n",
    "    G = G / max_c\n",
    "    B = B / max_c\n",
    "    \n",
    "    # Setting pixel transparency if called\n",
    "    A=1\n",
    "    colors.append([R, G, B, A])\n",
    "\n",
    "colors = np.asarray(colors)\n",
    "colors = colors.reshape((*test.map.map_shape, 4))"
   ]
  },
  {
   "cell_type": "code",
   "execution_count": null,
   "metadata": {},
   "outputs": [],
   "source": [
    "fig, ax = plt.subplots(1, 1, figsize=(3, 3), dpi=200)\n",
    "\n",
    "ax.imshow(colors)\n",
    "ax.set_title(str(ipole))\n",
    "\n",
    "plt.show()"
   ]
  },
  {
   "cell_type": "code",
   "execution_count": null,
   "metadata": {},
   "outputs": [],
   "source": [
    "norm_fit_map = fit_map.copy()\n",
    "\n",
    "for index in range(test.map.num_pixels):\n",
    "    indices = np.unravel_index(index, test.map.map_shape)\n",
    "    \n",
    "    pixel_df = test.spots[(test.spots['map_x'] == indices[0])\n",
    "                        & (test.spots['map_y'] == indices[1])].copy()\n",
    "    pixel_df.dropna(inplace=True)\n",
    "\n",
    "    # Conditional to avoid too few spots for theoretical indexing\n",
    "    if len(pixel_df) < 3:\n",
    "        euler_map[indices] = phi1, PHI, phi2\n",
    "        continue\n",
    "    \n",
    "    # Conditional to avoid single spot from one grain\n",
    "    dist = euclidean_distances(pixel_df[['qx', 'qy', 'qz']].values)\n",
    "    if np.max(dist) < min_q:\n",
    "        euler_map[indices] = phi1, PHI, phi2\n",
    "        continue\n",
    "\n",
    "    norm_fit_map[indices] /= len(pixel_df)\n",
    "\n",
    "fig, ax = plt.subplots(1, 1, figsize=(3, 3), dpi=200)\n",
    "\n",
    "im = ax.imshow(norm_fit_map)\n",
    "fig.colorbar(im, ax=ax)\n",
    "\n",
    "plt.show()"
   ]
  },
  {
   "cell_type": "code",
   "execution_count": null,
   "metadata": {},
   "outputs": [],
   "source": [
    "fig, ax = plt.subplots(1, 1, figsize=(3, 3), dpi=200)\n",
    "\n",
    "trans_colors = colors.copy()\n",
    "trans_colors[:, :, -1] = -rescale_array(norm_fit_map, lower=-1, upper=0)\n",
    "mask = trans_colors[:, :, -1] == colors[:, :, -1]\n",
    "trans_colors[mask, -1] = 0\n",
    "\n",
    "ax.imshow(trans_colors)\n",
    "ax.set_title(str(ipole))\n",
    "ax.set_facecolor('black')\n",
    "\n",
    "plt.show()"
   ]
  },
  {
   "cell_type": "code",
   "execution_count": null,
   "metadata": {},
   "outputs": [],
   "source": [
    "test.plot_interactive_map(display_map=colors, img_vmin=0, img_vmax=1)"
   ]
  },
  {
   "cell_type": "code",
   "execution_count": null,
   "metadata": {},
   "outputs": [],
   "source": [
    "skip = 500\n",
    "pixel_indices = [15, 21]\n",
    "\n",
    "fig, ax = plt.subplots(1, 1, figsize=(5, 5), dpi=200, subplot_kw={'projection':'3d'})\n",
    "\n",
    "plot_qs = euler_rotation(all_qs, *euler_map[*pixel_indices])\n",
    "\n",
    "ax.scatter(*np.asarray(plot_qs).T, c='k', s=all_fs / 50, alpha=0.75)\n",
    "ax.scatter(0, 0, 0, c='k', s=10)\n",
    "\n",
    "# Plot full Ewald sphere\n",
    "u = np.linspace(0, 2 * np.pi, 100)\n",
    "v = np.linspace(0, np.pi, 100)\n",
    "radius = 2 * np.pi / test.wavelength\n",
    "x =  radius * np.outer(np.cos(u), np.sin(v))\n",
    "y = radius * np.outer(np.sin(u), np.sin(v))\n",
    "z = radius * np.outer(np.ones(np.size(u)), np.cos(v))\n",
    "#ax.plot_surface(x, y, z - radius, alpha=0.2, color='k', label='Ewald sphere')\n",
    "\n",
    "q = get_q_vect(test.tth_arr, test.chi_arr, wavelength=test.wavelength)\n",
    "\n",
    "if pixel_indices is not None:\n",
    "    pixel_df = test.spots[(test.spots['map_x'] == pixel_indices[0])\n",
    "                            & (test.spots['map_y'] == pixel_indices[1])].copy()\n",
    "\n",
    "\n",
    "if pixel_indices is not None:\n",
    "    ax.scatter(*pixel_df[['qx', 'qy', 'qz']].values.T, s=1, c='r', label='spots')\n",
    "\n",
    "# Sample geometry\n",
    "ax.quiver([0, 0], [0, 0], [-2 * radius, -radius], [0, 0], [0, 0], [radius, radius], colors='k')\n",
    "ax.scatter(0, 0, 0, marker='o', s=10, facecolors='none', edgecolors='k', label='transmission')\n",
    "ax.scatter(0, 0, -radius, marker='h', s=10, c='b', label='sample')\n",
    "\n",
    "# Plot sampled Ewald sphere\n",
    "q_mask = q[:, test.map.mask]\n",
    "ax.plot_trisurf(q_mask[0].ravel()[::skip],\n",
    "                q_mask[1].ravel()[::skip],\n",
    "                q_mask[2].ravel()[::skip],\n",
    "                alpha=0.5, label='detector')\n",
    "\n",
    "ax.set_xlabel('qx [Å⁻¹]')\n",
    "ax.set_ylabel('qy [Å⁻¹]')\n",
    "ax.set_zlabel('qz [Å⁻¹]')\n",
    "ax.set_aspect('equal')\n",
    "\n",
    "plt.show()"
   ]
  },
  {
   "cell_type": "code",
   "execution_count": null,
   "metadata": {},
   "outputs": [],
   "source": [
    "from scipy.spatial.transform import Rotation"
   ]
  },
  {
   "cell_type": "code",
   "execution_count": null,
   "metadata": {},
   "outputs": [
    {
     "data": {
      "text/plain": [
       "array([ 0., -1.,  0.])"
      ]
     },
     "execution_count": 206,
     "metadata": {},
     "output_type": "execute_result"
    }
   ],
   "source": [
    "Rotation.from_quat([1, 0, 0, 1]).apply([0, 0, 1])"
   ]
  },
  {
   "cell_type": "code",
   "execution_count": null,
   "metadata": {},
   "outputs": [],
   "source": [
    "pixel_indices = [26, 21]\n",
    "skip = 500\n",
    "\n",
    "#fig, ax = plt.subplots(1, 1, figsize=(5, 10), dpi=200, subplot_kw={'projection':'3d'})\n",
    "fig = plt.figure(figsize=(10, 5), dpi=200)\n",
    "ax = fig.add_axes([0, 0, 0.5, 1], projection='3d')\n",
    "#ax = fig.add_subplot(projection='3d')\n",
    "\n",
    "quat = [0, 0, 0, 1]\n",
    "\n",
    "plot_qs = Rotation.from_quat(quat).apply(all_qs)\n",
    "recip_latt = ax.scatter(*np.asarray(plot_qs).T, c='k', s=all_fs / 50, alpha=0.75)\n",
    "ax.scatter(0, 0, 0, c='k', s=10)\n",
    "\n",
    "# Plot full Ewald sphere\n",
    "u = np.linspace(0, 2 * np.pi, 100)\n",
    "v = np.linspace(0, np.pi, 100)\n",
    "radius = 2 * np.pi / test.wavelength\n",
    "x =  radius * np.outer(np.cos(u), np.sin(v))\n",
    "y = radius * np.outer(np.sin(u), np.sin(v))\n",
    "z = radius * np.outer(np.ones(np.size(u)), np.cos(v))\n",
    "#ax.plot_surface(x, y, z - radius, alpha=0.2, color='k', label='Ewald sphere')\n",
    "\n",
    "q = get_q_vect(test.tth_arr, test.chi_arr, wavelength=test.wavelength)\n",
    "\n",
    "if pixel_indices is not None:\n",
    "    pixel_df = test.spots[(test.spots['map_x'] == pixel_indices[0])\n",
    "                            & (test.spots['map_y'] == pixel_indices[1])].copy()\n",
    "\n",
    "\n",
    "if pixel_indices is not None:\n",
    "    ax.scatter(*pixel_df[['qx', 'qy', 'qz']].values.T, s=1, c='r', label='spots')\n",
    "\n",
    "# Sample geometry\n",
    "ax.quiver([0, 0], [0, 0], [-2 * radius, -radius], [0, 0], [0, 0], [radius, radius], colors='k')\n",
    "ax.scatter(0, 0, 0, marker='o', s=10, facecolors='none', edgecolors='k', label='transmission')\n",
    "ax.scatter(0, 0, -radius, marker='h', s=10, c='b', label='sample')\n",
    "\n",
    "# Plot sampled Ewald sphere\n",
    "q_mask = q[:, test.map.mask]\n",
    "ax.plot_trisurf(q_mask[0].ravel()[::skip],\n",
    "                q_mask[1].ravel()[::skip],\n",
    "                q_mask[2].ravel()[::skip],\n",
    "                alpha=0.5, label='detector')\n",
    "\n",
    "\n",
    "quats = {\n",
    "    'qx' : quat[0],\n",
    "    'qy' : quat[1], \n",
    "    'qz' : quat[2],\n",
    "    'qr' : quat[3]\n",
    "}\n",
    "\n",
    "quat_bounds = [[-1, 1], [-1, 1], [-1, 1], [-1, 1]]\n",
    "slider_lst = []\n",
    "update_lst = []\n",
    "\n",
    "slider_vpos = np.linspace(0.8, 0.1, len(quats.keys()))\n",
    "\n",
    "for i, key in enumerate(quats.keys()):\n",
    "    slider_ax = fig.add_axes\n",
    "\n",
    "    # Make a horizontal slider to control the frequency.\n",
    "    axfreq = fig.add_axes([0.7, slider_vpos[i], 0.2, 0.03])\n",
    "    quat_slider = Slider(\n",
    "        ax=axfreq,\n",
    "        label=f'{key} [deg]',\n",
    "        valmin=quat_bounds[i][0],\n",
    "        valmax=quat_bounds[i][1],\n",
    "        valinit=quats[key],\n",
    "    )\n",
    "\n",
    "    slider_lst.append(quat_slider)\n",
    "\n",
    "    # The function to be called anytime a slider's value changes\n",
    "    def update_factory(key):\n",
    "        def update(val):\n",
    "            global recip_latt\n",
    "            quats[key] = val\n",
    "            #plot_qs = euler_rotation(all_qs, *euler.values())\n",
    "            plot_qs = Rotation.from_quat(list(quats.values())).apply(all_qs)\n",
    "            recip_latt.remove()\n",
    "            recip_latt = ax.scatter(*np.asarray(plot_qs).T, c='k', s=all_fs / 50, alpha=0.75)\n",
    "            fig.canvas.draw_idle()\n",
    "        return update\n",
    "\n",
    "    update_lst.append(update_factory(key))\n",
    "    slider_lst[i].on_changed(update_lst[i])\n",
    "\n",
    "ax.set_xlabel('qx [Å⁻¹]')\n",
    "ax.set_ylabel('qy [Å⁻¹]')\n",
    "ax.set_zlabel('qz [Å⁻¹]')\n",
    "ax.set_aspect('equal')\n",
    "\n",
    "plt.show()"
   ]
  },
  {
   "cell_type": "code",
   "execution_count": null,
   "metadata": {},
   "outputs": [
    {
     "data": {
      "text/plain": [
       "[0.1130952380952408, 0, 0, 1]"
      ]
     },
     "execution_count": 212,
     "metadata": {},
     "output_type": "execute_result"
    }
   ],
   "source": [
    "list(quats.values())"
   ]
  },
  {
   "cell_type": "code",
   "execution_count": null,
   "metadata": {},
   "outputs": [],
   "source": [
    "fig, ax = plt.subplots(1,1, figsize=(5, 5), dpi=200, subplot_kw={'projection': '3d'})\n",
    "\n",
    "num = 10\n",
    "\n",
    "x = np.linspace(0, 1, num + 1)\n",
    "y = np.linspace(0, 1, num + 1)\n",
    "z = np.linspace(0, 1, num + 1)\n",
    "w = np.linspace(0, 1, num//2 + 1)\n",
    "xx, yy, zz, ww = np.meshgrid(x, y, z, w)\n",
    "\n",
    "quats = np.array([xx.ravel(), yy.ravel(), zz.ravel(), ww.ravel()])\n",
    "#quats /= np.linalg.norm(quats, axis=0)\n",
    "quats = quats[:, ~(np.sum(np.abs(quats), axis=0) == 0)]\n",
    "quats = quats[:, ~(np.sum(np.abs(quats), axis=0) == 0)]\n",
    "#quats = quats[quats != np.array([0, 0, 0, 0])]\n",
    "plot_qs = Rotation.from_quat(quats.T).apply([0, 0, -1])\n",
    "\n",
    "ax.scatter(*plot_qs.T, s=5, c='k')\n",
    "\n",
    "ax.set_xlabel('qx [Å⁻¹]')\n",
    "ax.set_ylabel('qy [Å⁻¹]')\n",
    "ax.set_zlabel('qz [Å⁻¹]')\n",
    "ax.set_aspect('equal')\n",
    "\n",
    "plt.show()"
   ]
  },
  {
   "cell_type": "code",
   "execution_count": null,
   "metadata": {},
   "outputs": [],
   "source": [
    "fig, ax = plt.subplots(1,1, figsize=(5, 5), dpi=200, subplot_kw={'projection': '3d'})\n",
    "\n",
    "step = 15\n",
    "\n",
    "phi1_list = np.arange(*euler_bounds[0], step)\n",
    "PHI_list = np.arange(*euler_bounds[1], step)\n",
    "phi2_list = np.arange(*euler_bounds[2], step)\n",
    "orientations = list(product(phi1_list, PHI_list, phi2_list))\n",
    "\n",
    "plot_qs = []\n",
    "for orientation in orientations: \n",
    "    plot_qs.append(euler_rotation([0, 0, 1], *orientation))\n",
    "plot_qs = np.asarray(plot_qs)\n",
    "\n",
    "ax.scatter(*plot_qs.T, s=5, c='k')\n",
    "\n",
    "ax.set_xlabel('qx [Å⁻¹]')\n",
    "ax.set_ylabel('qy [Å⁻¹]')\n",
    "ax.set_zlabel('qz [Å⁻¹]')\n",
    "ax.set_aspect('equal')\n",
    "\n",
    "plt.show()"
   ]
  },
  {
   "cell_type": "code",
   "execution_count": null,
   "metadata": {},
   "outputs": [],
   "source": [
    "new_orientations = []\n",
    "\n",
    "step = 5\n",
    "phi1, PHI, phi2 = 0, 0, 0\n",
    "new_phi1 = [phi1 - step, phi1, phi1 + step]\n",
    "new_PHI = [PHI - step, PHI, PHI + step]\n",
    "new_phi2 = [phi2 - step, phi2, phi2 + step]\n",
    "\n",
    "new_orientations = product(new_phi1, new_PHI, new_phi2)\n",
    "\n",
    "#for sub_orientation in sub_orientations:\n",
    "#    if sub_orientation not in new_orientations:\n",
    "#        new_orientations.append(sub_orientation)\n",
    "#\n",
    "#orientations = new_orientations"
   ]
  },
  {
   "cell_type": "code",
   "execution_count": null,
   "metadata": {},
   "outputs": [],
   "source": [
    "fig, ax = plt.subplots(1,1, figsize=(5, 5), dpi=200, subplot_kw={'projection': '3d'})\n",
    "\n",
    "plot_qs = []\n",
    "for orientation in orientations: \n",
    "    plot_qs.append(euler_rotation([0, 0, 1], *orientation))\n",
    "plot_qs = np.asarray(plot_qs)\n",
    "\n",
    "ax.scatter(*plot_qs.T, s=5, c='k')\n",
    "\n",
    "plot_qs = []\n",
    "for orientation in new_orientations: \n",
    "    plot_qs.append(euler_rotation([0, 0, 1], *orientation))\n",
    "plot_qs = np.asarray(plot_qs)\n",
    "\n",
    "ax.scatter(*plot_qs.T, s=5, c='r')\n",
    "\n",
    "ax.set_xlabel('qx [Å⁻¹]')\n",
    "ax.set_ylabel('qy [Å⁻¹]')\n",
    "ax.set_zlabel('qz [Å⁻¹]')\n",
    "ax.set_aspect('equal')\n",
    "\n",
    "plt.show()"
   ]
  },
  {
   "cell_type": "code",
   "execution_count": null,
   "metadata": {},
   "outputs": [],
   "source": []
  },
  {
   "cell_type": "code",
   "execution_count": null,
   "metadata": {},
   "outputs": [],
   "source": []
  },
  {
   "cell_type": "code",
   "execution_count": null,
   "metadata": {},
   "outputs": [],
   "source": []
  },
  {
   "cell_type": "code",
   "execution_count": null,
   "metadata": {},
   "outputs": [],
   "source": []
  },
  {
   "cell_type": "code",
   "execution_count": null,
   "metadata": {},
   "outputs": [],
   "source": []
  },
  {
   "cell_type": "code",
   "execution_count": null,
   "metadata": {},
   "outputs": [],
   "source": []
  },
  {
   "cell_type": "code",
   "execution_count": null,
   "metadata": {},
   "outputs": [],
   "source": []
  },
  {
   "cell_type": "code",
   "execution_count": null,
   "metadata": {},
   "outputs": [],
   "source": []
  },
  {
   "cell_type": "code",
   "execution_count": null,
   "metadata": {},
   "outputs": [],
   "source": []
  },
  {
   "cell_type": "code",
   "execution_count": null,
   "metadata": {},
   "outputs": [],
   "source": []
  },
  {
   "cell_type": "code",
   "execution_count": null,
   "metadata": {},
   "outputs": [],
   "source": []
  },
  {
   "cell_type": "code",
   "execution_count": null,
   "metadata": {},
   "outputs": [],
   "source": []
  },
  {
   "cell_type": "code",
   "execution_count": null,
   "metadata": {},
   "outputs": [
    {
     "data": {
      "text/plain": [
       "array([0., 0., 0., 0.])"
      ]
     },
     "execution_count": 269,
     "metadata": {},
     "output_type": "execute_result"
    }
   ],
   "source": [
    "quats[:, 7315]"
   ]
  },
  {
   "cell_type": "code",
   "execution_count": null,
   "metadata": {},
   "outputs": [
    {
     "data": {
      "text/plain": [
       "44.01283779677743"
      ]
     },
     "execution_count": 103,
     "metadata": {},
     "output_type": "execute_result"
    }
   ],
   "source": [
    "d_2_tth(2.068, wavelength=(energy_2_wavelength(8)))"
   ]
  },
  {
   "cell_type": "code",
   "execution_count": null,
   "metadata": {},
   "outputs": [],
   "source": [
    "fig, ax = plt.subplots(1, 1, figsize=(5, 5), dpi=200)\n",
    "\n",
    "ax.scatter(test.spots['fit_amp'], test.spots['fit_r_squared'], s=1, c='k', alpha=0.5)\n",
    "\n",
    "plt.show()"
   ]
  },
  {
   "cell_type": "code",
   "execution_count": null,
   "metadata": {},
   "outputs": [],
   "source": [
    "fig, ax = plt.subplots(1, 1, figsize=(5, 5), dpi=200)\n",
    "\n",
    "ax.scatter(test.spots['guess_fwhm_chi'], test.spots['fit_fwhm_chi'], s=1, c='k', alpha=0.5)\n",
    "\n",
    "plt.show()"
   ]
  },
  {
   "cell_type": "code",
   "execution_count": null,
   "metadata": {},
   "outputs": [
    {
     "data": {
      "text/plain": [
       "14.999999999999998"
      ]
     },
     "execution_count": 67,
     "metadata": {},
     "output_type": "execute_result"
    }
   ],
   "source": [
    "np.max(test.spots['fit_fwhm_tth'])"
   ]
  },
  {
   "cell_type": "code",
   "execution_count": null,
   "metadata": {},
   "outputs": [],
   "source": [
    "fig, ax = plt.subplots(1, 1, figsize=(5, 5), dpi=200)\n",
    "\n",
    "image = test.map.composite_image\n",
    "\n",
    "#tth = test.tth\n",
    "intensity = np.sum(test.map.composite_image, axis=0)\n",
    "#pixels = np.sum(test.map.calibration_mask, axis=0)\n",
    "\n",
    "x, bins, _ = ax.hist(test.spots['guess_cen_tth'].values, bins=2000, weights=test.spots['guess_height'].values, label='spot center', density=True)\n",
    "#ax.plot(tth, rescale_array(intensity / pixels, lower=np.min(x), upper=np.max(x)), label='integrated intensity')\n",
    "ax.legend()\n",
    "\n",
    "plt.show()"
   ]
  },
  {
   "cell_type": "code",
   "execution_count": null,
   "metadata": {},
   "outputs": [],
   "source": [
    "fig, ax = plt.subplots(1, 1, figsize=(10, 10), dpi=200)\n",
    "\n",
    "image = test.map.composite_image\n",
    "\n",
    "#tth = test.tth\n",
    "#intensity = np.sum(test.map.composite_image, axis=0)\n",
    "#pixels = np.sum(test.map.calibration_mask, axis=0)\n",
    "\n",
    "x, bins, _ = ax.hist(test.spots['fit_tth0'].values, bins=2500, label='spot center', density=True)\n",
    "#ax.plot(tth, rescale_array(intensity / pixels, lower=np.min(x), upper=np.max(x)), label='integrated intensity')\n",
    "ax.legend()\n",
    "\n",
    "plt.show()"
   ]
  },
  {
   "cell_type": "code",
   "execution_count": null,
   "metadata": {},
   "outputs": [],
   "source": [
    "fig, ax = plt.subplots(1, 1, figsize=(5, 5), dpi=200)\n",
    "\n",
    "x, bins, _ = ax.hist(test.spots['fit_fwhm_tth'].values, bins=500, label='spot center', density=True)\n",
    "ax.legend()\n",
    "\n",
    "plt.show()"
   ]
  },
  {
   "cell_type": "code",
   "execution_count": null,
   "metadata": {},
   "outputs": [],
   "source": [
    "test.plot_image(test.ai.position_array()[:, :, 2])"
   ]
  },
  {
   "cell_type": "code",
   "execution_count": null,
   "metadata": {},
   "outputs": [],
   "source": [
    "x_coords, y_coords = np.meshgrid(test.tth, test.chi[::-1])\n",
    "q = q_vect(x_coords, y_coords, wavelength=test.wavelength)\n",
    "\n",
    "pixel_df = test.spots[(test.spots['map_x'] == 1)\n",
    "                        & (test.spots['map_y'] == 0)].copy()"
   ]
  },
  {
   "cell_type": "code",
   "execution_count": null,
   "metadata": {},
   "outputs": [],
   "source": [
    "q = q_vect(test.ai.twoThetaArray(), test.ai.chiArray(), wavelength=test.wavelength, radians=True)"
   ]
  },
  {
   "cell_type": "code",
   "execution_count": null,
   "metadata": {},
   "outputs": [
    {
     "data": {
      "text/plain": [
       "(486, 2304)"
      ]
     },
     "execution_count": 55,
     "metadata": {},
     "output_type": "execute_result"
    }
   ],
   "source": [
    "np.tile(np.array([0, 0, 1]), tth.shape).shape"
   ]
  },
  {
   "cell_type": "code",
   "execution_count": null,
   "metadata": {},
   "outputs": [],
   "source": [
    "a = np.array([0, 0, 1])\n",
    "b = np.full((486, 768, 3), a)"
   ]
  },
  {
   "cell_type": "code",
   "execution_count": null,
   "metadata": {},
   "outputs": [
    {
     "data": {
      "text/plain": [
       "(3, 1483)"
      ]
     },
     "execution_count": 20,
     "metadata": {},
     "output_type": "execute_result"
    }
   ],
   "source": [
    "np.asarray([[0, 0, 1],] * len(test.tth)).T.shape"
   ]
  },
  {
   "cell_type": "code",
   "execution_count": null,
   "metadata": {},
   "outputs": [],
   "source": [
    "# Q-space plotting\n",
    "\n",
    "skip = 500\n",
    "\n",
    "x_coords, y_coords = np.meshgrid(test.tth, test.chi[::-1])\n",
    "q = q_vect(x_coords, y_coords, wavelength=test.wavelength)\n",
    "\n",
    "pixel_df = test.spots[(test.spots['map_x'] == 1)\n",
    "                        & (test.spots['map_y'] == 0)].copy()\n",
    "\n",
    "\n",
    "fig, ax = plt.subplots(1, 1, figsize=(5, 5), dpi=200, subplot_kw={'projection':'3d'})\n",
    "\n",
    "# Plot sampled Ewald sphere\n",
    "#ax.scatter(q[0].ravel()[::skip], q[1].ravel()[::skip], q[2].ravel()[::skip], s=1, c='k', alpha=0.2)\n",
    "q_mask = q[:, test.map.mask]\n",
    "ax.plot_trisurf(q_mask[0].ravel()[::skip],\n",
    "                q_mask[1].ravel()[::skip],\n",
    "                q_mask[2].ravel()[::skip],\n",
    "                alpha=0.5, label='detector')\n",
    "\n",
    "\n",
    "# Plot full Ewald sphere\n",
    "u = np.linspace(0, 2 * np.pi, 100)\n",
    "v = np.linspace(0, np.pi, 100)\n",
    "radius = 2 * np.pi / test.wavelength\n",
    "x =  radius * np.outer(np.cos(u), np.sin(v))\n",
    "y = radius * np.outer(np.sin(u), np.sin(v))\n",
    "z = radius * np.outer(np.ones(np.size(u)), np.cos(v))\n",
    "ax.plot_surface(x, y, z - radius, alpha=0.2, color='k', label='Ewald sphere')\n",
    "\n",
    "ax.scatter(*test.spots.loc[0:1000, ['qx', 'qy', 'qz']].values.T, s=1, c='r', label='spots')\n",
    "#ax.scatter(*pixel_df[['qx', 'qy', 'qz']].values.T, s=1, c='r', label='spots')\n",
    "\n",
    "# Sample geometry\n",
    "ax.quiver([0, 0], [0, 0], [-2 * radius, -radius], [0, 0], [0, 0], [radius, radius], colors='k')\n",
    "ax.scatter(0, 0, 0, marker='o', s=10, facecolors='none', edgecolors='k', label='transmission')\n",
    "ax.scatter(0, 0, -radius, marker='h', s=10, c='b', label='sample')\n",
    "\n",
    "# Detector extent\n",
    "#corner_indices = np.array([[0, 0], [-1, 0], [0, -1], [-1, -1]]).T\n",
    "#q_corn = q[:, *corner_indices]\n",
    "#ax.quiver([0,] * 4,\n",
    "#          [0,] * 4,\n",
    "#          [-radius,] * 4,\n",
    "#          q_corn[0],\n",
    "#          q_corn[1],\n",
    "#          q_corn[2] + radius, colors='gray', lw=0.5)\n",
    "\n",
    "\n",
    "ax.set_xlabel('qx [Å⁻¹]')\n",
    "ax.set_ylabel('qy [Å⁻¹]')\n",
    "ax.set_zlabel('qz [Å⁻¹]')\n",
    "ax.set_aspect('equal')\n",
    "\n",
    "# Initial view\n",
    "ax.view_init(elev=-45, azim=90, roll=0)\n",
    "plt.show()"
   ]
  },
  {
   "cell_type": "code",
   "execution_count": null,
   "metadata": {},
   "outputs": [],
   "source": [
    "tth_arr = test.ai.twoThetaArray()\n",
    "chi_arr = test.ai.chiArray()\n",
    "\n",
    "polar_correction = test.ai.polarization(factor=0.9)\n",
    "solidangle_correction = test.ai.solidAngleArray()\n",
    "lorentz_correction = 1 / (np.sin(tth_arr / 2) * np.sin(tth_arr))"
   ]
  },
  {
   "cell_type": "code",
   "execution_count": null,
   "metadata": {},
   "outputs": [],
   "source": [
    "tth_num = 1500\n",
    "chi_num = 1500\n",
    "\n",
    "blank_image = np.ones(test.map.image_shape)\n",
    "\n",
    "pyfai_correction = test.integrate_2d(blank_image, tth_num, chi_num, polarization_factor=0.9, correctSolidAngle=True)[0]\n",
    "\n",
    "corrected_image = blank_image / solidangle_correction / polar_correction\n",
    "\n",
    "self_correction = test.integrate_2d(corrected_image, tth_num, chi_num, polarization_factor=None, correctSolidAngle=False)[0]"
   ]
  },
  {
   "cell_type": "code",
   "execution_count": null,
   "metadata": {},
   "outputs": [],
   "source": [
    "fig, ax = plt.subplots(1, 1, figsize=(5, 5), dpi=200)\n",
    "\n",
    "im = ax.imshow(self_correction)\n",
    "fig.colorbar(im, ax=ax)\n",
    "\n",
    "plt.show()"
   ]
  },
  {
   "cell_type": "code",
   "execution_count": null,
   "metadata": {},
   "outputs": [],
   "source": [
    "fig, ax = plt.subplots(1, 1, figsize=(5, 5), dpi=200)\n",
    "residual = pyfai_correction - self_correction\n",
    "ext = np.max(np.abs(residual))\n",
    "\n",
    "im = ax.imshow(residual, cmap='bwr', vmin=-ext, vmax=ext)\n",
    "fig.colorbar(im, ax=ax)\n",
    "\n",
    "plt.show()"
   ]
  },
  {
   "cell_type": "code",
   "execution_count": null,
   "metadata": {},
   "outputs": [
    {
     "data": {
      "text/plain": [
       "array([[0., 0., 0., ..., 0., 0., 0.],\n",
       "       [0., 0., 0., ..., 0., 0., 0.],\n",
       "       [0., 0., 0., ..., 0., 0., 0.],\n",
       "       ...,\n",
       "       [0., 0., 0., ..., 0., 0., 0.],\n",
       "       [0., 0., 0., ..., 0., 0., 0.],\n",
       "       [0., 0., 0., ..., 0., 0., 0.]], dtype=float32)"
      ]
     },
     "execution_count": 235,
     "metadata": {},
     "output_type": "execute_result"
    }
   ],
   "source": [
    "pyfai_correction - self_correction"
   ]
  },
  {
   "cell_type": "code",
   "execution_count": null,
   "metadata": {},
   "outputs": [],
   "source": []
  },
  {
   "cell_type": "code",
   "execution_count": null,
   "metadata": {},
   "outputs": [],
   "source": [
    "# Real-space plotting\n",
    "\n",
    "skip = 300\n",
    "\n",
    "fig, ax = plt.subplots(1, 1, figsize=(5, 5), dpi=200, subplot_kw={'projection':'3d'})\n",
    "\n",
    "# Plot detector position\n",
    "xyz = test.ai.position_array()\n",
    "\n",
    "xyz[:, :, 0] *= -1 # Transform to synchrotron standard. Not sure if correct\n",
    "\n",
    "x = xyz[:, :, 0].ravel()[::skip]\n",
    "y = xyz[:, :, 1].ravel()[::skip]\n",
    "z = xyz[:, :, 2].ravel()[::skip]\n",
    "\n",
    "\n",
    "ax.plot_trisurf(x, y, z,\n",
    "                alpha=0.5, label='detector')\n",
    "\n",
    "# X-ray beam\n",
    "radius = test.ai.dist\n",
    "ax.quiver([0], [0], [-radius], [0], [0], [radius], colors='k')\n",
    "ax.scatter(0, 0, 0, marker='h', s=10, c='b', label='sample')\n",
    "\n",
    "# Detector\n",
    "corner_indices = np.array([[0, 0], [-1, 0], [0, -1], [-1, -1]]).T\n",
    "corn = xyz[*corner_indices].T\n",
    "ax.quiver([0,] * 4,\n",
    "          [0,] * 4,\n",
    "          [0,] * 4,\n",
    "          corn[0],\n",
    "          corn[1],\n",
    "          corn[2], colors='gray', lw=0.5)\n",
    "\n",
    "ax.set_xlabel('x [m]')\n",
    "ax.set_ylabel('y [m]')\n",
    "ax.set_zlabel('z [m]')\n",
    "ax.set_aspect('equal')\n",
    "\n",
    "# Initial view\n",
    "ax.view_init(elev=-60, azim=90, roll=0)\n",
    "plt.show()"
   ]
  },
  {
   "cell_type": "code",
   "execution_count": null,
   "metadata": {},
   "outputs": [
    {
     "data": {
      "text/plain": [
       "7.6015960742345925"
      ]
     },
     "execution_count": 363,
     "metadata": {},
     "output_type": "execute_result"
    }
   ],
   "source": [
    "radius"
   ]
  },
  {
   "cell_type": "code",
   "execution_count": null,
   "metadata": {},
   "outputs": [
    {
     "data": {
      "text/html": [
       "<div>\n",
       "<style scoped>\n",
       "    .dataframe tbody tr th:only-of-type {\n",
       "        vertical-align: middle;\n",
       "    }\n",
       "\n",
       "    .dataframe tbody tr th {\n",
       "        vertical-align: top;\n",
       "    }\n",
       "\n",
       "    .dataframe thead th {\n",
       "        text-align: right;\n",
       "    }\n",
       "</style>\n",
       "<table border=\"1\" class=\"dataframe\">\n",
       "  <thead>\n",
       "    <tr style=\"text-align: right;\">\n",
       "      <th></th>\n",
       "      <th>qx</th>\n",
       "      <th>qy</th>\n",
       "      <th>qz</th>\n",
       "    </tr>\n",
       "  </thead>\n",
       "  <tbody>\n",
       "    <tr>\n",
       "      <th>11</th>\n",
       "      <td>-3.236871</td>\n",
       "      <td>-0.327674</td>\n",
       "      <td>-0.731403</td>\n",
       "    </tr>\n",
       "    <tr>\n",
       "      <th>10</th>\n",
       "      <td>-2.544562</td>\n",
       "      <td>0.992806</td>\n",
       "      <td>-0.507669</td>\n",
       "    </tr>\n",
       "    <tr>\n",
       "      <th>9</th>\n",
       "      <td>-4.712897</td>\n",
       "      <td>-0.427081</td>\n",
       "      <td>-1.652607</td>\n",
       "    </tr>\n",
       "  </tbody>\n",
       "</table>\n",
       "</div>"
      ],
      "text/plain": [
       "          qx        qy        qz\n",
       "11 -3.236871 -0.327674 -0.731403\n",
       "10 -2.544562  0.992806 -0.507669\n",
       "9  -4.712897 -0.427081 -1.652607"
      ]
     },
     "execution_count": 143,
     "metadata": {},
     "output_type": "execute_result"
    }
   ],
   "source": [
    "pixel_df[['qx', 'qy', 'qz']]"
   ]
  },
  {
   "cell_type": "code",
   "execution_count": null,
   "metadata": {},
   "outputs": [
    {
     "data": {
      "text/plain": [
       "array([-3.23687107, -0.32767447, -0.73140263])"
      ]
     },
     "execution_count": 145,
     "metadata": {},
     "output_type": "execute_result"
    }
   ],
   "source": [
    "pixel_df.iloc[0][['qx', 'qy', 'qz']].values"
   ]
  },
  {
   "cell_type": "code",
   "execution_count": null,
   "metadata": {},
   "outputs": [
    {
     "name": "stdout",
     "output_type": "stream",
     "text": [
      "[2.16833467 1.41988698 1.14493823]\n"
     ]
    }
   ],
   "source": [
    "q_diff = pixel_df.iloc[1][['qx', 'qy', 'qz']].values - pixel_df.iloc[2][['qx', 'qy', 'qz']].values\n",
    "print(q_diff)"
   ]
  },
  {
   "cell_type": "code",
   "execution_count": null,
   "metadata": {},
   "outputs": [
    {
     "name": "stdout",
     "output_type": "stream",
     "text": [
      "[1.47602556 0.09940648 0.92120445]\n"
     ]
    }
   ],
   "source": [
    "q_diff = pixel_df.iloc[0][['qx', 'qy', 'qz']].values - pixel_df.iloc[2][['qx', 'qy', 'qz']].values\n",
    "print(q_diff)"
   ]
  },
  {
   "cell_type": "code",
   "execution_count": null,
   "metadata": {},
   "outputs": [
    {
     "data": {
      "text/plain": [
       "1.805080408270403"
      ]
     },
     "execution_count": 214,
     "metadata": {},
     "output_type": "execute_result"
    }
   ],
   "source": [
    "q_diff[0] / test.phases['LiNbO3 161'].a * 2 * np.pi"
   ]
  },
  {
   "cell_type": "code",
   "execution_count": null,
   "metadata": {},
   "outputs": [],
   "source": []
  },
  {
   "cell_type": "code",
   "execution_count": null,
   "metadata": {},
   "outputs": [
    {
     "name": "stdout",
     "output_type": "stream",
     "text": [
      "[1.00461135 0.0812853  1.97910167]\n"
     ]
    }
   ],
   "source": [
    "hkl_diff = test.phases['LiNbO3 161'].HKL(q_diff)\n",
    "print(hkl_diff)"
   ]
  },
  {
   "cell_type": "code",
   "execution_count": null,
   "metadata": {},
   "outputs": [
    {
     "name": "stdout",
     "output_type": "stream",
     "text": [
      "[  1 -15  -7]\n"
     ]
    }
   ],
   "source": [
    "hkl_appr = np.round(hkl_diff / np.min(np.abs(hkl_diff))).astype(int)\n",
    "print(hkl_appr)"
   ]
  },
  {
   "cell_type": "code",
   "execution_count": null,
   "metadata": {},
   "outputs": [
    {
     "data": {
      "text/plain": [
       "{(-15, 14, -7),\n",
       " (-14, 15, -7),\n",
       " (-1, -14, -7),\n",
       " (1, -15, -7),\n",
       " (14, 1, -7),\n",
       " (15, -1, -7)}"
      ]
     },
     "execution_count": 192,
     "metadata": {},
     "output_type": "execute_result"
    }
   ],
   "source": [
    "test.phases['LiNbO3 161'].lattice.equivalent_hkls(hkl_appr)"
   ]
  },
  {
   "cell_type": "code",
   "execution_count": null,
   "metadata": {},
   "outputs": [
    {
     "data": {
      "text/plain": [
       "{(-1, 1, 4), (0, -1, 4), (1, 0, 4)}"
      ]
     },
     "execution_count": 197,
     "metadata": {},
     "output_type": "execute_result"
    }
   ],
   "source": [
    "test.phases['LiNbO3 161'].lattice.equivalent_hkls([1, 0, 4])"
   ]
  },
  {
   "cell_type": "code",
   "execution_count": null,
   "metadata": {},
   "outputs": [],
   "source": [
    "def vector_angle(V1, V2, radians=False):\n",
    "\n",
    "    unit_V1 = V1 / np.linalg.norm(V1)\n",
    "    unit_V2 = V2 / np.linalg.norm(V2)\n",
    "\n",
    "    theta = np.arccos(np.dot(unit_V1, unit_V2))\n",
    "\n",
    "    return np.degrees(theta)"
   ]
  },
  {
   "cell_type": "code",
   "execution_count": null,
   "metadata": {},
   "outputs": [
    {
     "data": {
      "text/plain": [
       "6.605844468976728"
      ]
     },
     "execution_count": 204,
     "metadata": {},
     "output_type": "execute_result"
    }
   ],
   "source": [
    "vector_angle(pixel_df.iloc[0][['qx', 'qy', 'qz']].values, pixel_df.iloc[2][['qx', 'qy', 'qz']].values)"
   ]
  },
  {
   "cell_type": "code",
   "execution_count": null,
   "metadata": {},
   "outputs": [
    {
     "data": {
      "text/plain": [
       "1.4121214249166707"
      ]
     },
     "execution_count": 262,
     "metadata": {},
     "output_type": "execute_result"
    }
   ],
   "source": [
    "np.linalg.norm(test.phases['LiNbO3 161'].Q([0, 1, 0]))"
   ]
  },
  {
   "cell_type": "code",
   "execution_count": null,
   "metadata": {},
   "outputs": [],
   "source": [
    "q1 = q_vect(90, 0, wavelength=2 * np.pi).T[0]\n",
    "q2 = q_vect(90, 90, wavelength=2 * np.pi).T[0]"
   ]
  },
  {
   "cell_type": "code",
   "execution_count": null,
   "metadata": {},
   "outputs": [
    {
     "data": {
      "text/plain": [
       "120.0"
      ]
     },
     "execution_count": 255,
     "metadata": {},
     "output_type": "execute_result"
    }
   ],
   "source": [
    "np.round(vector_angle(q1, q2) * 2 , 3)"
   ]
  },
  {
   "cell_type": "code",
   "execution_count": null,
   "metadata": {},
   "outputs": [
    {
     "data": {
      "text/plain": [
       "array([-3.23687107, -0.32767447, -0.73140263])"
      ]
     },
     "execution_count": 216,
     "metadata": {},
     "output_type": "execute_result"
    }
   ],
   "source": [
    "pixel_df.iloc[0][['qx', 'qy', 'qz']].values"
   ]
  },
  {
   "cell_type": "code",
   "execution_count": null,
   "metadata": {},
   "outputs": [
    {
     "data": {
      "text/plain": [
       "array([-4.71289663, -0.42708095, -1.65260708])"
      ]
     },
     "execution_count": 215,
     "metadata": {},
     "output_type": "execute_result"
    }
   ],
   "source": [
    "pixel_df.iloc[2][['qx', 'qy', 'qz']].values"
   ]
  },
  {
   "cell_type": "code",
   "execution_count": null,
   "metadata": {},
   "outputs": [],
   "source": [
    "test.map.plot_image(test.map.images[1, 0])"
   ]
  },
  {
   "cell_type": "code",
   "execution_count": null,
   "metadata": {},
   "outputs": [
    {
     "data": {
      "text/html": [
       "<div>\n",
       "<style scoped>\n",
       "    .dataframe tbody tr th:only-of-type {\n",
       "        vertical-align: middle;\n",
       "    }\n",
       "\n",
       "    .dataframe tbody tr th {\n",
       "        vertical-align: top;\n",
       "    }\n",
       "\n",
       "    .dataframe thead th {\n",
       "        text-align: right;\n",
       "    }\n",
       "</style>\n",
       "<table border=\"1\" class=\"dataframe\">\n",
       "  <thead>\n",
       "    <tr style=\"text-align: right;\">\n",
       "      <th></th>\n",
       "      <th>fit_x0</th>\n",
       "    </tr>\n",
       "  </thead>\n",
       "  <tbody>\n",
       "    <tr>\n",
       "      <th>11</th>\n",
       "      <td>25.340128</td>\n",
       "    </tr>\n",
       "    <tr>\n",
       "      <th>10</th>\n",
       "      <td>21.058268</td>\n",
       "    </tr>\n",
       "    <tr>\n",
       "      <th>9</th>\n",
       "      <td>38.500994</td>\n",
       "    </tr>\n",
       "  </tbody>\n",
       "</table>\n",
       "</div>"
      ],
      "text/plain": [
       "       fit_x0\n",
       "11  25.340128\n",
       "10  21.058268\n",
       "9   38.500994"
      ]
     },
     "execution_count": 25,
     "metadata": {},
     "output_type": "execute_result"
    }
   ],
   "source": [
    "pixel_df[['fit_x0']]"
   ]
  },
  {
   "cell_type": "code",
   "execution_count": null,
   "metadata": {},
   "outputs": [
    {
     "data": {
      "text/plain": [
       "array([1.69136665, 2.33679777, 2.44586605, 2.79279574, 2.81641399,\n",
       "       2.97371517, 3.3827333 , 3.71240741, 3.76500558, 3.85035617,\n",
       "       3.982491  , 4.1743437 , 4.23636427, 4.40171243, 4.67359554,\n",
       "       4.85093845, 4.8641487 , 4.89173211, 4.95730549, 5.07409995,\n",
       "       5.08713771, 5.11270853, 5.17588294, 5.27491764, 5.42122374,\n",
       "       5.44446539])"
      ]
     },
     "execution_count": 198,
     "metadata": {},
     "output_type": "execute_result"
    }
   ],
   "source": [
    "test.phases['LiNbO3 161'].reflections['q']"
   ]
  },
  {
   "cell_type": "code",
   "execution_count": null,
   "metadata": {},
   "outputs": [
    {
     "data": {
      "text/plain": [
       "array([[ 0,  1,  2],\n",
       "       [ 1,  0,  4],\n",
       "       [ 1,  1,  0],\n",
       "       [ 0,  0,  6],\n",
       "       [ 1,  1,  3],\n",
       "       [ 2,  0,  2],\n",
       "       [ 0,  2,  4],\n",
       "       [ 1,  1,  6],\n",
       "       [ 2,  1,  1],\n",
       "       [ 1,  2,  2],\n",
       "       [ 0,  1,  8],\n",
       "       [ 2,  1,  4],\n",
       "       [ 0,  3,  0],\n",
       "       [ 1,  2,  5],\n",
       "       [ 2,  0,  8],\n",
       "       [ 1,  1,  9],\n",
       "       [ 1,  0, 10],\n",
       "       [ 2,  2,  0],\n",
       "       [ 2,  1,  7],\n",
       "       [ 0,  3,  6],\n",
       "       [ 2,  2,  3],\n",
       "       [ 1,  3,  1],\n",
       "       [ 3,  1,  2],\n",
       "       [ 1,  2,  8],\n",
       "       [ 1,  3,  4],\n",
       "       [ 0,  2, 10]])"
      ]
     },
     "execution_count": 196,
     "metadata": {},
     "output_type": "execute_result"
    }
   ],
   "source": [
    "test.phases['LiNbO3 161'].reflections['hkl']"
   ]
  },
  {
   "cell_type": "code",
   "execution_count": null,
   "metadata": {},
   "outputs": [
    {
     "ename": "TypeError",
     "evalue": "'>' not supported between instances of 'list' and 'int'",
     "output_type": "error",
     "traceback": [
      "\u001b[1;31m---------------------------------------------------------------------------\u001b[0m",
      "\u001b[1;31mTypeError\u001b[0m                                 Traceback (most recent call last)",
      "Cell \u001b[1;32mIn[66], line 1\u001b[0m\n\u001b[1;32m----> 1\u001b[0m \u001b[43mtest\u001b[49m\u001b[38;5;241;43m.\u001b[39;49m\u001b[43mphases\u001b[49m\u001b[43m[\u001b[49m\u001b[38;5;124;43m'\u001b[39;49m\u001b[38;5;124;43mLiNbO3 161\u001b[39;49m\u001b[38;5;124;43m'\u001b[39;49m\u001b[43m]\u001b[49m\u001b[38;5;241;43m.\u001b[39;49m\u001b[43mget_hkl_reflections\u001b[49m\u001b[43m(\u001b[49m\u001b[43mtth_range\u001b[49m\u001b[38;5;241;43m=\u001b[39;49m\u001b[43m(\u001b[49m\u001b[38;5;241;43m0\u001b[39;49m\u001b[43m,\u001b[49m\u001b[43m \u001b[49m\u001b[43mnp\u001b[49m\u001b[38;5;241;43m.\u001b[39;49m\u001b[43mmax\u001b[49m\u001b[43m(\u001b[49m\u001b[43mtest\u001b[49m\u001b[38;5;241;43m.\u001b[39;49m\u001b[43mtth\u001b[49m\u001b[43m)\u001b[49m\u001b[43m)\u001b[49m\u001b[43m,\u001b[49m\u001b[43m \u001b[49m\u001b[43menergy\u001b[49m\u001b[38;5;241;43m=\u001b[39;49m\u001b[43mtest\u001b[49m\u001b[38;5;241;43m.\u001b[39;49m\u001b[43menergy\u001b[49m\u001b[38;5;241;43m*\u001b[39;49m\u001b[38;5;241;43m1e3\u001b[39;49m\u001b[43m)\u001b[49m\n",
      "File \u001b[1;32m~\\OneDrive - Brookhaven National Laboratory\\Documents\\Postdoc\\Repositories\\SRX_sXRD_analysis\\testing_modules\\sXRD_phase.py:150\u001b[0m, in \u001b[0;36mPhase.get_hkl_reflections\u001b[1;34m(self, tth_range, energy, ignore_less)\u001b[0m\n\u001b[0;32m    147\u001b[0m         \u001b[38;5;28;01mif\u001b[39;00m np\u001b[38;5;241m.\u001b[39msum(sort_refl[index]) \u001b[38;5;241m>\u001b[39m np\u001b[38;5;241m.\u001b[39msum(hkl_list[\u001b[38;5;241m-\u001b[39m\u001b[38;5;241m1\u001b[39m]):\n\u001b[0;32m    148\u001b[0m             hkl_list[\u001b[38;5;241m-\u001b[39m\u001b[38;5;241m1\u001b[39m] \u001b[38;5;241m=\u001b[39m sort_refl[index] \u001b[38;5;66;03m# bias towards positive hkl values\u001b[39;00m\n\u001b[1;32m--> 150\u001b[0m mask \u001b[38;5;241m=\u001b[39m (\u001b[43mint_list\u001b[49m\u001b[43m \u001b[49m\u001b[38;5;241;43m>\u001b[39;49m\u001b[43m \u001b[49m\u001b[43mignore_less\u001b[49m) \u001b[38;5;241m&\u001b[39m (tth_list \u001b[38;5;241m>\u001b[39m tth_range[\u001b[38;5;241m0\u001b[39m])\n\u001b[0;32m    152\u001b[0m data \u001b[38;5;241m=\u001b[39m {\n\u001b[0;32m    153\u001b[0m     \u001b[38;5;124m'\u001b[39m\u001b[38;5;124mhkl\u001b[39m\u001b[38;5;124m'\u001b[39m : np\u001b[38;5;241m.\u001b[39marray(hkl_list)[mask],\n\u001b[0;32m    154\u001b[0m     \u001b[38;5;124m'\u001b[39m\u001b[38;5;124mq\u001b[39m\u001b[38;5;124m'\u001b[39m : np\u001b[38;5;241m.\u001b[39marray(q_list)[mask],\n\u001b[1;32m   (...)\u001b[0m\n\u001b[0;32m    157\u001b[0m     \u001b[38;5;124m'\u001b[39m\u001b[38;5;124md\u001b[39m\u001b[38;5;124m'\u001b[39m : np\u001b[38;5;241m.\u001b[39marray(d_list)[mask]\n\u001b[0;32m    158\u001b[0m     }\n\u001b[0;32m    160\u001b[0m \u001b[38;5;28mself\u001b[39m\u001b[38;5;241m.\u001b[39mreflections \u001b[38;5;241m=\u001b[39m data\n",
      "\u001b[1;31mTypeError\u001b[0m: '>' not supported between instances of 'list' and 'int'"
     ]
    }
   ],
   "source": [
    "test.phases['LiNbO3 161'].get_hkl_reflections(tth_range=(0, np.max(test.tth)), energy=test.energy*1e3)"
   ]
  },
  {
   "cell_type": "code",
   "execution_count": null,
   "metadata": {},
   "outputs": [
    {
     "data": {
      "text/plain": [
       "array([0, 3, 6])"
      ]
     },
     "execution_count": 78,
     "metadata": {},
     "output_type": "execute_result"
    }
   ],
   "source": [
    "test.phases['LiNbO3 161'].reflections['hkl'][19]"
   ]
  },
  {
   "cell_type": "code",
   "execution_count": null,
   "metadata": {},
   "outputs": [
    {
     "ename": "NameError",
     "evalue": "name 'columns' is not defined",
     "output_type": "error",
     "traceback": [
      "\u001b[1;31m---------------------------------------------------------------------------\u001b[0m",
      "\u001b[1;31mNameError\u001b[0m                                 Traceback (most recent call last)",
      "Cell \u001b[1;32mIn[89], line 1\u001b[0m\n\u001b[1;32m----> 1\u001b[0m pixel_df\u001b[38;5;241m.\u001b[39miloc[\u001b[38;5;241m0\u001b[39m, \u001b[43mcolumns\u001b[49m\u001b[38;5;241m==\u001b[39m[\u001b[38;5;124m'\u001b[39m\u001b[38;5;124mqx\u001b[39m\u001b[38;5;124m'\u001b[39m, \u001b[38;5;124m'\u001b[39m\u001b[38;5;124mqy\u001b[39m\u001b[38;5;124m'\u001b[39m, \u001b[38;5;124m'\u001b[39m\u001b[38;5;124mqz\u001b[39m\u001b[38;5;124m'\u001b[39m]]\n",
      "\u001b[1;31mNameError\u001b[0m: name 'columns' is not defined"
     ]
    }
   ],
   "source": [
    "pixel_df.iloc[0, columns==['qx', 'qy', 'qz']]"
   ]
  },
  {
   "cell_type": "code",
   "execution_count": null,
   "metadata": {},
   "outputs": [
    {
     "data": {
      "text/plain": [
       "{(-3, 0, 6), (0, 3, 6), (3, -3, 6)}"
      ]
     },
     "execution_count": 80,
     "metadata": {},
     "output_type": "execute_result"
    }
   ],
   "source": [
    "test.phases['LiNbO3 161'].lattice.equivalent_hkls([0, 3, 6])"
   ]
  },
  {
   "cell_type": "code",
   "execution_count": null,
   "metadata": {},
   "outputs": [],
   "source": [
    "import xrayutilities as xu\n",
    "\n",
    "data = xu.simpack.PowderDiffraction(test.phases['LiNbO3 161'], en=test.energy*1e3, tt_cutoff=45)"
   ]
  },
  {
   "cell_type": "code",
   "execution_count": null,
   "metadata": {},
   "outputs": [
    {
     "data": {
      "text/plain": [
       "{(-1, 0, 2), (-1, 1, -2), (0, -1, -2), (0, 1, 2), (1, -1, 2), (1, 0, -2)}"
      ]
     },
     "execution_count": 226,
     "metadata": {},
     "output_type": "execute_result"
    }
   ],
   "source": [
    "linbo.lattice.get_allowed_hkl(qmax=2)"
   ]
  },
  {
   "cell_type": "code",
   "execution_count": null,
   "metadata": {},
   "outputs": [],
   "source": [
    "all_refl = linbo.lattice.get_allowed_hkl(qmax=tth_2_q(np.max(test.tth), wavelength=energy_2_wavelength(test.energy)))"
   ]
  },
  {
   "cell_type": "code",
   "execution_count": null,
   "metadata": {},
   "outputs": [],
   "source": [
    "q_list = np.linalg.norm(linbo.Q(*refl_list), axis=1)\n",
    "#q_list.sort()"
   ]
  },
  {
   "cell_type": "code",
   "execution_count": null,
   "metadata": {},
   "outputs": [],
   "source": [
    "all_refl = linbo.lattice.get_allowed_hkl(qmax=tth_2_q(np.max(test.tth), wavelength=energy_2_wavelength(test.energy)))\n",
    "all_q = np.linalg.norm(linbo.Q(*all_refl), axis=1)\n",
    "all_q = np.round(all_q, 10) # Clean up some errors\n",
    "sort_refl = [x for _, x in sorted(zip(all_q, all_refl))]\n",
    "all_q.sort()\n",
    "F_hkl = np.abs(linbo.StructureFactor(sort_refl))\n",
    "F_hkl = rescale_array(F_hkl, lower=0, upper=100)"
   ]
  },
  {
   "cell_type": "code",
   "execution_count": null,
   "metadata": {},
   "outputs": [],
   "source": [
    "ignore_less = 1\n",
    "wavelength = energy_2_wavelength(test.energy)\n",
    "\n",
    "all_refl = linbo.lattice.get_allowed_hkl(qmax=tth_2_q(np.max(test.tth), wavelength=wavelength))\n",
    "all_q = np.linalg.norm(linbo.Q(*all_refl), axis=1)\n",
    "all_q = np.round(all_q, 10) # Clean up some errors\n",
    "sort_refl = [x for _, x in sorted(zip(all_q, all_refl))]\n",
    "all_q.sort()\n",
    "F_hkl = np.abs(linbo.StructureFactor(sort_refl))\n",
    "F_hkl = rescale_array(F_hkl, lower=0, upper=100)\n",
    "\n",
    "hkl_list = []\n",
    "q_list = []\n",
    "int_list = []\n",
    "tth_list = []\n",
    "d_list = []\n",
    "\n",
    "for index, norm_int in enumerate(F_hkl):\n",
    "    if all_q[index] not in q_list:\n",
    "        hkl_list.append(sort_refl[index]) # Only takes first hkl value\n",
    "        q_list.append(all_q[index])\n",
    "        int_list.append(norm_int)\n",
    "        tth_list.append(q_2_tth(all_q[index], wavelength=wavelength))\n",
    "        d_list.append(convert_qd(all_q[index]))\n",
    "    else:\n",
    "        int_list[-1] += norm_int # Handles multiplicity\n",
    "        if np.sum(sort_refl[index]) > np.sum(hkl_list[-1]):\n",
    "            hkl_list[-1] = sort_refl[index] # bias towards positive hkl values\n",
    "\n",
    "data = {\n",
    "    'hkl' : np.array(hkl_list)[int_list > ignore_less],\n",
    "    'q' : np.array(q_list)[int_list > ignore_less],\n",
    "    'int' : np.array(int_list)[int_list > ignore_less],\n",
    "    'tth' : np.array(tth_list)[int_list > ignore_less],\n",
    "    'd' : np.array(d_list)[int_list > ignore_less]\n",
    "    }"
   ]
  },
  {
   "cell_type": "code",
   "execution_count": null,
   "metadata": {},
   "outputs": [
    {
     "name": "stdout",
     "output_type": "stream",
     "text": [
      "XU.materials: Warning: element O used instead of O-2\n",
      "XU.materials: Warning: element Nb used instead of Nb+5\n",
      "XU.materials: Warning: element Li used instead of Li+1\n",
      "Did not add LiNbO3 161 since it is already in possible phases.\n",
      "XU.materials: Warning: element O used instead of O-2\n",
      "XU.materials: Warning: element Nb used instead of Nb+5\n",
      "XU.materials: Warning: element Li used instead of Li+1\n"
     ]
    }
   ],
   "source": [
    "cif_dir = '''C:\\\\Users\\\\emusterma\\\\OneDrive - Brookhaven National Laboratory\\\\Documents\\\\Postdoc\\\\Literature\\\\CIF\\\\'''\n",
    "\n",
    "test.load_phase('Barker\\\\1521772COD.cif', filedir=cif_dir, phase_name=\"LiNbO3 161\")\n",
    "test.load_phase('Barker\\\\1521772COD.cif', filedir=cif_dir, phase_name=\"LiNbO3 new\")\n",
    "\n",
    "test.phases['LiNbO3 new'].reflections = data"
   ]
  },
  {
   "cell_type": "code",
   "execution_count": null,
   "metadata": {},
   "outputs": [],
   "source": [
    "test.select_phases()"
   ]
  },
  {
   "cell_type": "code",
   "execution_count": null,
   "metadata": {},
   "outputs": [],
   "source": []
  },
  {
   "cell_type": "code",
   "execution_count": null,
   "metadata": {},
   "outputs": [],
   "source": []
  },
  {
   "cell_type": "code",
   "execution_count": null,
   "metadata": {},
   "outputs": [],
   "source": []
  },
  {
   "cell_type": "code",
   "execution_count": null,
   "metadata": {},
   "outputs": [],
   "source": [
    "pixel_df.dropna(axis=0, inplace=True)\n",
    "pixel_df.sort_values(by=['fit_integrated'], inplace=True)"
   ]
  },
  {
   "cell_type": "code",
   "execution_count": null,
   "metadata": {},
   "outputs": [],
   "source": [
    "q_arr = pixel_df[['qx', 'qy', 'qz']].values"
   ]
  },
  {
   "cell_type": "code",
   "execution_count": null,
   "metadata": {},
   "outputs": [],
   "source": [
    "dist = euclidean_distances(q_arr)"
   ]
  },
  {
   "cell_type": "code",
   "execution_count": null,
   "metadata": {},
   "outputs": [
    {
     "data": {
      "text/plain": [
       "array([[0.        , 1.50765296, 1.74274231],\n",
       "       [1.50765296, 0.        , 2.8334851 ],\n",
       "       [1.74274231, 2.8334851 , 0.        ]])"
      ]
     },
     "execution_count": 21,
     "metadata": {},
     "output_type": "execute_result"
    }
   ],
   "source": [
    "dist"
   ]
  },
  {
   "cell_type": "code",
   "execution_count": null,
   "metadata": {},
   "outputs": [],
   "source": []
  },
  {
   "cell_type": "code",
   "execution_count": null,
   "metadata": {},
   "outputs": [],
   "source": []
  },
  {
   "cell_type": "code",
   "execution_count": null,
   "metadata": {},
   "outputs": [],
   "source": [
    "def plot_image(xrdmap, image=None, indices=None, title=None,\n",
    "               mask=None, spots=False, contours=False,\n",
    "               aspect='auto', vmin=None, \n",
    "               return_plot=False,\n",
    "               **kwargs):\n",
    "    \n",
    "    # Check image type\n",
    "    if image is not None:\n",
    "        image = np.asarray(image)\n",
    "        if len(image.shape) == 1 and len(image) == 2:\n",
    "            indices = tuple(iter(image))\n",
    "            image = xrdmap.map.images[indices]\n",
    "        elif len(image.shape) == 2:\n",
    "            if indices is not None:\n",
    "                indices = tuple(indices)\n",
    "        else:\n",
    "            raise ValueError(f\"Incorrect image shape of {image.shape}. Should be two-dimensional.\")\n",
    "    else:\n",
    "        if indices is not None:\n",
    "            indices = tuple(indices)\n",
    "            image = xrdmap.map.images[indices]\n",
    "        else:\n",
    "            i = np.random.randint(xrdmap.map.map_shape[0])\n",
    "            j = np.random.randint(xrdmap.map.map_shape[1])\n",
    "            indices = (i, j)\n",
    "            image = xrdmap.map.images[indices]\n",
    "\n",
    "    # Check for mask\n",
    "    if mask is not None:\n",
    "        if mask is True:\n",
    "            image = image * xrdmap.map.mask\n",
    "        elif np.asarray(mask).shape == image.shape:\n",
    "            image = image * mask\n",
    "        else:\n",
    "            raise RuntimeError(\"Error handling mask input.\")\n",
    "        \n",
    "    # Plot image\n",
    "    fig, ax = plt.subplots(1, 1, figsize=(5, 5), dpi=200)\n",
    "    # Allow some flexibility for kwarg inputs\n",
    "    plot_kwargs = {'c' : 'r',\n",
    "                   'lw' : 0.5,\n",
    "                   's' : 1}\n",
    "    for key in plot_kwargs.keys():\n",
    "        if key in kwargs.keys():\n",
    "            plot_kwargs[key] = kwargs[key]\n",
    "\n",
    "    if hasattr(xrdmap.map, 'extent'):\n",
    "        if vmin == None:\n",
    "            vmin = 0\n",
    "        im = ax.imshow(image, extent=xrdmap.extent, vmin=vmin, aspect=aspect, **kwargs)\n",
    "        ax.set_xlabel('Scattering Angle, 2θ [°]') # Assumes degrees. Need to change...\n",
    "        ax.set_ylabel('Azimuthal Angle, χ [°]')\n",
    "    else:\n",
    "        im = ax.imshow(image, aspect=aspect, **kwargs)\n",
    "        ax.set_xlabel('X index')\n",
    "        ax.set_ylabel('Y index')\n",
    "    fig.colorbar(im, ax=ax) \n",
    "\n",
    "    if title is not None:\n",
    "        ax.set_title(title)\n",
    "    elif indices is not None:\n",
    "        ax.set_title(f'Row = {indices[0]}, Col = {indices[1]}')\n",
    "    elif xrdmap.map.title is not None:\n",
    "        ax.set_title(xrdmap.map.title)\n",
    "    else:\n",
    "        ax.set_title('Input Image')\n",
    "\n",
    "    if indices is not None:\n",
    "        # Set some default values\n",
    "\n",
    "        \n",
    "        # Plot spots\n",
    "        if spots and hasattr(xrdmap, 'spots'):\n",
    "            pixel_df = test.spots[(test.spots['map_x'] == indices[0]) & (test.spots['map_y'] == indices[1])].copy()\n",
    "            if any([x[:3] == 'fit' for x in pixel_df.keys()]):\n",
    "                pixel_df.dropna(axis=0, inplace=True)\n",
    "                spots = pixel_df[['fit_y0', 'fit_x0']].values\n",
    "            else:\n",
    "                spots = pixel_df[['guess_ceny', 'guess_cenx']].values\n",
    "            ax.scatter(spots[:, 1], spots[:, 0], s=plot_kwargs['s'], c=plot_kwargs['c'])\n",
    "        \n",
    "        elif spots and not hasattr(xrdmap, 'spots'):\n",
    "            print('Warning: Plotting spots requested, but xrdmap does not have any spots!')\n",
    "\n",
    "        # Plot contours\n",
    "        if contours and hasattr(xrdmap.map, 'spot_masks'):\n",
    "            blob_img = label(xrdmap.map.spot_masks[indices])\n",
    "            blob_contours = find_blob_contours(blob_img)\n",
    "            for i in range(len(blob_contours)):\n",
    "                blob_contours[i] = estimate_reciprocal_coords(blob_contours[i], image.shape, tth=xrdmap.tth, chi=xrdmap.chi)\n",
    "            for contour in blob_contours:\n",
    "                ax.plot(*contour, c=plot_kwargs['c'], lw=plot_kwargs['lw'])\n",
    "            \n",
    "        elif contours and not hasattr(xrdmap, 'spot_masks'):\n",
    "            print('Warning: Plotting spots requested, but xrdmap does not have any spots!')\n",
    "    \n",
    "    elif spots or contours:\n",
    "        print('Warning: Cannot request spots or contours without providing map indices!')\n",
    "\n",
    "    if return_plot:\n",
    "        return fig, ax\n",
    "    \n",
    "    plt.show()"
   ]
  },
  {
   "cell_type": "code",
   "execution_count": null,
   "metadata": {},
   "outputs": [],
   "source": [
    "plot_image(test, test.map.mask)"
   ]
  },
  {
   "cell_type": "code",
   "execution_count": null,
   "metadata": {},
   "outputs": [],
   "source": [
    "indices = pixel_df.index"
   ]
  },
  {
   "cell_type": "code",
   "execution_count": null,
   "metadata": {},
   "outputs": [
    {
     "data": {
      "text/plain": [
       "array([ 0.17024574, 12.70959352])"
      ]
     },
     "execution_count": 172,
     "metadata": {},
     "output_type": "execute_result"
    }
   ],
   "source": [
    "pixel_df.loc[indices[-1], ['guess_height', 'guess_cenx']].values"
   ]
  },
  {
   "cell_type": "code",
   "execution_count": null,
   "metadata": {},
   "outputs": [],
   "source": [
    "def reconstruct_image(xrdmap, indices=None, plot_residual=False, **kwargs):\n",
    "    if not hasattr(xrdmap, 'spots'):\n",
    "        raise RuntimeError('xrdmap does not have any spots!')\n",
    "\n",
    "    if indices is None:\n",
    "        i = np.random.randint(xrdmap.map.map_shape[0])\n",
    "        j = np.random.randint(xrdmap.map.map_shape[1])\n",
    "        indices = (i, j)\n",
    "    else:\n",
    "        indices = tuple(indices)\n",
    "    \n",
    "    if hasattr(xrdmap, 'spot_model'):\n",
    "        spot_model = xrdmap.spot_model\n",
    "    spot_model = GaussianFunctions\n",
    "    \n",
    "    pixel_df = test.spots[(test.spots['map_x'] == indices[0]) & (test.spots['map_y'] == indices[1])].copy()\n",
    "    x_coords, y_coords = np.meshgrid(xrdmap.tth, xrdmap.chi[::-1])\n",
    "\n",
    "    if any([x[:3] == 'fit' for x in pixel_df.keys()]):\n",
    "        prefix = 'fit'\n",
    "        pixel_df.dropna(axis=0, inplace=True)\n",
    "        param_labels = [x for x in test.spots.loc[0].keys() if x[:3] == 'fit'][:6]\n",
    "    else:\n",
    "        prefix = 'guess'\n",
    "        param_labels = ['height', 'cenx', 'ceny', 'stdx', 'stdy']\n",
    "        param_labels = [f'guess_{param_label}' for param_label in param_labels]\n",
    "        spot_model = GaussianFunctions\n",
    "\n",
    "    fit_args = []\n",
    "    for index in pixel_df.index:\n",
    "        fit_args.extend(pixel_df.loc[index, param_labels].values)\n",
    "        if prefix == 'guess':\n",
    "            fit_args.append(0) # Filling in theta value\n",
    "\n",
    "    if len(fit_args) > 0:\n",
    "        #return fit_args\n",
    "        recon_image = spot_model.multi_2d([x_coords.ravel(), y_coords.ravel()], 0, *fit_args)\n",
    "        recon_image = recon_image.reshape(xrdmap.map.calibrated_shape)\n",
    "    else:\n",
    "        recon_image = np.zeros(xrdmap.map.calibrated_shape)\n",
    "\n",
    "    if not plot_residual:\n",
    "        fig, ax = plot_image(xrdmap, recon_image,\n",
    "                             return_plot=True, indices=indices,\n",
    "                             **kwargs)\n",
    "        plt.show()\n",
    "    else:\n",
    "        image = xrdmap.map.images[indices]\n",
    "        residual = recon_image - image\n",
    "        ext = np.max(np.abs(residual[xrdmap.map.mask]))\n",
    "        fig, ax = plot_image(xrdmap, residual,\n",
    "                             title=f'Residual of ({indices[0]}, {indices[1]})',\n",
    "                             return_plot=True, indices=indices,\n",
    "                             vmin=-ext, vmax=ext, cmap='bwr', # c='k',\n",
    "                             **kwargs)\n",
    "        plt.show()"
   ]
  },
  {
   "cell_type": "code",
   "execution_count": null,
   "metadata": {},
   "outputs": [],
   "source": [
    "reconstruct_image(test, [1, 1], plot_residual=True, spots=True)"
   ]
  },
  {
   "cell_type": "code",
   "execution_count": null,
   "metadata": {},
   "outputs": [],
   "source": [
    "fig, ax = plt.subplots(1, 1, figsize=(5, 5), dpi=200)\n",
    "\n",
    "nan_mask = ~np.isnan(test.spots['fit_integrated'].values)\n",
    "\n",
    "ax.scatter(test.spots['guess_stdy'].values[nan_mask], test.spots['fit_sigma_y'].values[nan_mask], alpha=0.5, s=1, c='k')\n",
    "\n",
    "plt.show()"
   ]
  },
  {
   "cell_type": "code",
   "execution_count": null,
   "metadata": {},
   "outputs": [],
   "source": [
    "fig, ax = plt.subplots(1, 1, figsize=(5, 5), dpi=200)\n",
    "\n",
    "nan_mask = ~np.isnan(test.spots['fit_integrated'].values)\n",
    "\n",
    "ax.scatter(np.array(range(len(test.spots)))[nan_mask], test.spots['guess_height'].values[nan_mask], alpha=0.5, s=1, c='k')\n",
    "\n",
    "plt.show()"
   ]
  },
  {
   "cell_type": "code",
   "execution_count": null,
   "metadata": {},
   "outputs": [],
   "source": [
    "def iter_rescale_array(arr, lower=0, upper=1, arr_min=None, arr_max=None):\n",
    "    # Works for arrays of any size including images!\n",
    "    if arr_min is None:\n",
    "        arr_min = np.min(arr)\n",
    "    if arr_max is None:\n",
    "        arr_max = np.max(arr)\n",
    "    ext = upper - lower\n",
    "\n",
    "    @dask.delayed\n",
    "    def delayed_rescale_array(arr, lower, ext, arr_min, arr_max, indices):\n",
    "        arr[indices] = lower + ext * ((arr[indices] - arr_min) / (arr_max - arr_min))\n",
    "        return arr[indices]\n",
    "\n",
    "    delayed_list = []\n",
    "    for index in tqdm(range(np.multiply(*arr.shape[:2])), desc='Scheduling...'):\n",
    "        indices = np.unravel_index(index, arr.shape[:2])\n",
    "\n",
    "        delayed_list.append(delayed_rescale_array(arr[indices], lower, ext, arr_min, arr_max, indices))\n",
    "\n",
    "    #return delayed_list\n",
    "    with TqdmCallback(desc='Computing...', tqdm_class=tqdm):\n",
    "        dask.compute(*delayed_list)"
   ]
  },
  {
   "cell_type": "code",
   "execution_count": null,
   "metadata": {},
   "outputs": [],
   "source": [
    "test.map.plot_image()"
   ]
  },
  {
   "cell_type": "code",
   "execution_count": null,
   "metadata": {},
   "outputs": [],
   "source": [
    "#nan_med = test.map.med_image\n",
    "nan_med = median_image\n",
    "nan_med[~test.map.calibration_mask] = np.nan\n",
    "ball_bkg = rolling_ball(gaussian_filter(nan_med, sigma=2), radius=50)\n",
    "ball_bkg[~test.map.calibration_mask] = 0\n",
    "test.map.remove_background(background=ball_bkg * test.map.calibration_mask)\n",
    "test.map.images = rescale_array(test.map.images, lower=0, upper=100)"
   ]
  },
  {
   "cell_type": "code",
   "execution_count": null,
   "metadata": {},
   "outputs": [],
   "source": [
    "test.map.update_map_title()\n",
    "test.map.save_images(units=test.map.calib_unit, labels=['x_ind', 'y_ind', 'chi_ind', 'tth_ind'])"
   ]
  },
  {
   "cell_type": "code",
   "execution_count": null,
   "metadata": {},
   "outputs": [],
   "source": [
    "map_noise = estimate_map_noise(test.map)"
   ]
  },
  {
   "cell_type": "code",
   "execution_count": null,
   "metadata": {},
   "outputs": [],
   "source": [
    "i = np.random.randint(test.map.map_shape[0])\n",
    "j = np.random.randint(test.map.map_shape[1])\n",
    "\n",
    "out = spot_search(test.map.images[i, j], bkg_noise=map_noise, multiplier=3, plotme=True)"
   ]
  },
  {
   "cell_type": "code",
   "execution_count": null,
   "metadata": {},
   "outputs": [],
   "source": [
    "test.map.plot_image(out[1] * out[2])"
   ]
  },
  {
   "cell_type": "code",
   "execution_count": null,
   "metadata": {},
   "outputs": [
    {
     "name": "stderr",
     "output_type": "stream",
     "text": [
      "Scheduling spot search...: 100%|██████████| 3721/3721 [00:00<00:00, 8923.01it/s] \n",
      "Searching images for spots...: 100%|██████████| 3721/3721 [01:32<00:00, 40.04it/s]\n",
      "Scheduling spot characterization...: 100%|██████████| 22193/22193 [00:02<00:00, 7791.26it/s] \n",
      "Characterizing spots...: 100%|██████████| 22193/22193 [09:00<00:00, 41.08it/s]\n"
     ]
    }
   ],
   "source": [
    "test.find_spots(multiplier=3)"
   ]
  },
  {
   "cell_type": "code",
   "execution_count": null,
   "metadata": {},
   "outputs": [],
   "source": []
  },
  {
   "cell_type": "code",
   "execution_count": null,
   "metadata": {},
   "outputs": [
    {
     "name": "stderr",
     "output_type": "stream",
     "text": [
      "Scheduling blob segmentation for spot fits...: 100%|██████████| 3721/3721 [05:43<00:00, 10.82it/s]\n",
      "Segmenting blobs for spot fits...: 100%|██████████| 3721/3721 [02:43<00:00, 22.79it/s]\n",
      "Scheduling spot fits...: 100%|██████████| 19175/19175 [00:02<00:00, 7008.92it/s]\n",
      "Fitting spots in blobs...: 100%|██████████| 19175/19175 [10:19<00:00, 30.95it/s]\n"
     ]
    },
    {
     "name": "stdout",
     "output_type": "stream",
     "text": [
      "Successfully fit 16396 / 22193 spots ( 73.9 % ).\n"
     ]
    }
   ],
   "source": [
    "test.fit_spots(GaussianFunctions, max_dist=0.75)"
   ]
  },
  {
   "cell_type": "code",
   "execution_count": null,
   "metadata": {},
   "outputs": [],
   "source": [
    "plot_map = np.zeros(test.map.map_shape)\n",
    "plot_map[:] = np.nan\n",
    "\n",
    "for image_index in range(test.map.num_pixels):\n",
    "    indices = np.unravel_index(image_index, test.map.map_shape)\n",
    "    pixel_df = test.spots[(test.spots['map_x'] == indices[0])\n",
    "                          & (test.spots['map_y'] == indices[1])]\n",
    "    \n",
    "    if len(pixel_df) < 1:\n",
    "        plot_map[indices] = 0\n",
    "    else:\n",
    "        plot_map[indices] = np.sum(pixel_df['guess_int'])\n",
    "        #plot_map[indices] = np.sum(pixel_df['fit_amp'])\n",
    "        #plot_map[indices] = np.mean(pixel_df['fit_x0'])\n",
    "        #plot_map[indices] = len(pixel_df)\n",
    "\n",
    "\n",
    "fig, ax = plt.subplots(1, 1, figsize=(5, 5), dpi=200)\n",
    "\n",
    "im = ax.imshow(plot_map)\n",
    "fig.colorbar(im, ax=ax)\n",
    "ax.set_title('Spot Value')\n",
    "\n",
    "plt.show()"
   ]
  },
  {
   "cell_type": "code",
   "execution_count": null,
   "metadata": {},
   "outputs": [],
   "source": [
    "test.map.plot_image()"
   ]
  },
  {
   "cell_type": "code",
   "execution_count": null,
   "metadata": {},
   "outputs": [],
   "source": [
    "[test.phases[phase].get_hkl_reflections(tth_range=(np.min(test.tth), np.max(test.tth))) for phase in test.phases];\n",
    "\n",
    "pot_tth = np.concatenate([test.phases[key].reflections['tth'] for key in test.phases])\n",
    "pot_hkl = np.concatenate([test.phases[key].reflections['hkl'] for key in test.phases])\n",
    "pot_phase = np.concatenate([[key,] * len(test.phases[key].reflections['tth']) for key in test.phases])\n",
    "\n",
    "search_distance = 0.5 # in degrees\n",
    "this_phase = 'Iron-ferrite'\n",
    "\n",
    "plot_map = np.zeros(test.map.map_shape)\n",
    "plot_map[:] = 0\n",
    "\n",
    "for image_index in range(test.map.num_pixels):\n",
    "    indices = np.unravel_index(image_index, test.map.map_shape)\n",
    "    pixel_df = test.spots[(test.spots['map_x'] == indices[0])\n",
    "                          & (test.spots['map_y'] == indices[1])]\n",
    "    \n",
    "    if len(pixel_df) < 1:\n",
    "        plot_map[indices] = 0\n",
    "    else:\n",
    "        for spot_index in range(len(pixel_df)):\n",
    "            min_arr = np.abs(pot_tth - pixel_df.iloc[spot_index]['guess_cenx'])\n",
    "            #min_arr = np.array([np.abs(x - pot_tth) for x in pixel_df.loc[spot_index, 'fit_x0']])\n",
    "            min_arr[min_arr > search_distance] = np.nan\n",
    "            if np.all(np.isnan(min_arr)):\n",
    "                continue\n",
    "            #min_index = [np.nanargmin(x) if np.any(~np.isnan(x)) else None for x in min_arr]\n",
    "            min_index = np.nanargmin(min_arr)\n",
    "\n",
    "            if pot_phase[min_index] == this_phase:\n",
    "                plot_map[indices] += pixel_df.iloc[spot_index]['guess_int']\n",
    "\n",
    "        #plot_map[indices] = np.sum(pixel_df['guess_int'])\n",
    "        #plot_map[indices] = np.sum(pixel_df['fit_amp'])\n",
    "        #plot_map[indices] = np.mean(pixel_df['fit_x0'])\n",
    "        #plot_map[indices] = len(pixel_df)\n",
    "\n",
    "\n",
    "fig, ax = plt.subplots(1, 1, figsize=(5, 5), dpi=200)\n",
    "\n",
    "im = ax.imshow(plot_map)\n",
    "fig.colorbar(im, ax=ax)\n",
    "ax.set_title(this_phase)\n",
    "\n",
    "plt.show()"
   ]
  },
  {
   "cell_type": "code",
   "execution_count": null,
   "metadata": {},
   "outputs": [],
   "source": [
    "fig, ax = plt.subplots(1, 1, figsize=(5, 5), dpi=200)\n",
    "\n",
    "image = test.map.composite_image\n",
    "\n",
    "tth = test.tth\n",
    "intensity = np.sum(test.map.composite_image, axis=0)\n",
    "pixels = np.sum(test.map.calibration_mask, axis=0)\n",
    "\n",
    "x, bins, _ = ax.hist(test.spots['guess_cenx'].values, bins=2000, weights=test.spots['guess_height'].values, label='spot center', density=True)\n",
    "ax.plot(tth, rescale_array(intensity / pixels, lower=np.min(x), upper=np.max(x)), label='integrated intensity')\n",
    "ax.legend()\n",
    "\n",
    "plt.show()"
   ]
  },
  {
   "cell_type": "code",
   "execution_count": null,
   "metadata": {},
   "outputs": [],
   "source": [
    "fig, ax = plt.subplots(1, 1, figsize=(5, 5), dpi=200)\n",
    "\n",
    "image = test.map.composite_image\n",
    "\n",
    "tth = test.tth\n",
    "intensity = np.sum(test.map.composite_image, axis=0)\n",
    "pixels = np.sum(test.map.calibration_mask, axis=0)\n",
    "\n",
    "x, bins, _ = ax.hist(test.spots['fit_x0'].values, bins=2500, label='spot center', density=True)\n",
    "ax.plot(tth, rescale_array(intensity / pixels, lower=np.min(x), upper=np.max(x)), label='integrated intensity')\n",
    "ax.legend()\n",
    "\n",
    "plt.show()"
   ]
  },
  {
   "cell_type": "code",
   "execution_count": null,
   "metadata": {},
   "outputs": [],
   "source": [
    "fig, ax = plt.subplots(1, 1, figsize=(5, 5), dpi=200)\n",
    "\n",
    "image = test.map.composite_image\n",
    "\n",
    "tth = test.tth\n",
    "x, bins, _ = ax.hist(test.spots['fit_x0'].values, bins=2000, label='fit', range=test.extent[:2], alpha=0.5)\n",
    "x, bins, _ = ax.hist(test.spots['guess_cenx'].values, bins=2000, label='integrated', range=test.extent[:2], alpha=0.5)\n",
    "\n",
    "#ax.plot(tth, rescale_array(intensity / pixels, lower=np.min(x), upper=np.max(x)), label='integrated intensity')\n",
    "ax.legend()\n",
    "\n",
    "plt.show()"
   ]
  },
  {
   "cell_type": "code",
   "execution_count": null,
   "metadata": {},
   "outputs": [],
   "source": [
    "fig, ax = plt.subplots(1, 1, figsize=(5, 5), dpi=200)\n",
    "\n",
    "image = test.map.composite_image\n",
    "bins = 2500\n",
    "\n",
    "guess_val = test.spots['guess_cenx'].values\n",
    "fit_val = test.spots['fit_x0'].values\n",
    "\n",
    "tth = test.tth\n",
    "ext = [np.nanmin([guess_val, fit_val]),\n",
    "       np.nanmax([guess_val, fit_val])]\n",
    "x, bins, _ = ax.hist(fit_val, bins=bins, label='fit', alpha=0.5, range=ext)\n",
    "x, bins, _ = ax.hist(guess_val, bins=bins, label='integrated', alpha=0.5, range=ext)\n",
    "\n",
    "#ax.plot(tth, rescale_array(intensity / pixels, lower=np.min(x), upper=np.max(x)), label='integrated intensity')\n",
    "ax.legend()\n",
    "\n",
    "plt.show()"
   ]
  },
  {
   "cell_type": "code",
   "execution_count": null,
   "metadata": {},
   "outputs": [],
   "source": []
  },
  {
   "cell_type": "code",
   "execution_count": null,
   "metadata": {},
   "outputs": [],
   "source": [
    "thickness = 0.6\n",
    "corrected_tth = test.tth + (thickness * np.sin(np.radians(test.tth)))\n",
    "rad = np.radians(corrected_tth / 2)\n",
    "intensity = np.sum(test.map.composite_image * (np.sin(rad) * np.sin(2 * rad)), axis=0)\n",
    "intensity = np.sum(test.map.composite_image, axis=0)\n",
    "pixels = np.sum((test.map.composite_image != 0), axis=0)\n",
    "phase_vals = phase_selector(intensity / pixels, list(test.phases.values()), corrected_tth)\n",
    "test.map.images = rescale_array(test.map.images, lower=0, upper=100) # Remove negative values. They break spot stats"
   ]
  },
  {
   "cell_type": "code",
   "execution_count": null,
   "metadata": {},
   "outputs": [],
   "source": [
    "bkg_noise = estimate_map_noise(test)"
   ]
  },
  {
   "cell_type": "code",
   "execution_count": null,
   "metadata": {},
   "outputs": [],
   "source": [
    "i = np.random.randint(test.map.map_shape[0])\n",
    "j = np.random.randint(test.map.map_shape[1])\n",
    "\n",
    "out = spot_search(test.map.images[i, j], bkg_noise, multiplier=10, sigma=3, plotme=True)"
   ]
  },
  {
   "cell_type": "code",
   "execution_count": null,
   "metadata": {},
   "outputs": [],
   "source": [
    "test.map.plot_image(test.map.images[i, j] * out[1])"
   ]
  },
  {
   "cell_type": "code",
   "execution_count": null,
   "metadata": {},
   "outputs": [],
   "source": [
    "fig, ax = plt.subplots(1, 1, figsize=(5, 5), dpi=200)\n",
    "\n",
    "bins = 1000\n",
    "key = 'guess_stdy'\n",
    "#ax.hist(stat_dict[key], bins=bins, density=True)\n",
    "ax.hist(stat_dict[key], bins=bins, weights=stat_dict['guess_int'], density=True)\n",
    "\n",
    "plt.show()"
   ]
  },
  {
   "cell_type": "code",
   "execution_count": null,
   "metadata": {},
   "outputs": [],
   "source": [
    "fig, ax = plt.subplots(1, 1, figsize=(5, 5), dpi=200)\n",
    "\n",
    "image = test.map.composite_image\n",
    "\n",
    "tth = test.tth\n",
    "intensity = np.sum(test.map.composite_image, axis=0)\n",
    "pixels = np.sum(test.map.calibration_mask, axis=0)\n",
    "\n",
    "x, bins, _ = ax.hist(stat_dict['guess_cenx'], bins=2000, weights=stat_dict['guess_height'], label='spot center', density=True)\n",
    "ax.plot(tth, rescale_array(intensity / pixels, lower=np.min(x), upper=np.max(x)), label='integrated intensity')\n",
    "ax.legend()\n",
    "\n",
    "plt.show()"
   ]
  },
  {
   "cell_type": "code",
   "execution_count": null,
   "metadata": {},
   "outputs": [],
   "source": [
    "stat_df = pd.DataFrame.from_dict(stat_dict)"
   ]
  },
  {
   "cell_type": "code",
   "execution_count": null,
   "metadata": {},
   "outputs": [],
   "source": [
    "plot_map = np.zeros(test.map.map_shape)\n",
    "\n",
    "for pixel_index in range(test.map.num_pixels):\n",
    "    indices = np.unravel_index(pixel_index, test.map.map_shape)\n",
    "    pixel_df = stat_df.loc[(stat_df['map_x'] == indices[0]) & (stat_df['map_y'] == indices[1])]\n",
    "\n",
    "    val = np.mean(pixel_df['guess_int'])\n",
    "\n",
    "    plot_map[indices] = val"
   ]
  },
  {
   "cell_type": "code",
   "execution_count": null,
   "metadata": {},
   "outputs": [],
   "source": [
    "fig, ax = plt.subplots(1, 1, figsize=(5, 5), dpi=200)\n",
    "\n",
    "im = ax.imshow(np.array(plot_map).reshape(test.map.images.shape[:2]))\n",
    "fig.colorbar(im, ax=ax)\n",
    "ax.set_title('Total Reflection Intensity')\n",
    "\n",
    "plt.show()"
   ]
  },
  {
   "cell_type": "code",
   "execution_count": null,
   "metadata": {},
   "outputs": [],
   "source": [
    "[test.phases[phase].get_hkl_reflections() for phase in test.phases];"
   ]
  },
  {
   "cell_type": "code",
   "execution_count": null,
   "metadata": {},
   "outputs": [],
   "source": []
  },
  {
   "cell_type": "code",
   "execution_count": null,
   "metadata": {},
   "outputs": [],
   "source": [
    "new_out = [np.asarray(x) for x in stat_list]\n",
    "\n",
    "pot_tth = np.concatenate([test.phases[key].reflections['tth'] for key in test.phases])\n",
    "pot_hkl = np.concatenate([test.phases[key].reflections['hkl'] for key in test.phases])\n",
    "pot_phase = np.concatenate([[key,] * len(test.phases[key].reflections['tth']) for key in test.phases])\n",
    "\n",
    "plot_value = []\n",
    "search_distance = 0.5 # in degrees\n",
    "phase = 'Iron-austenite'\n",
    "\n",
    "for spots in new_out:\n",
    "    if len(spots.shape) > 1:\n",
    "        #val = np.sum(spots[:, 5])\n",
    "        min_arr = np.array([np.abs(x - pot_tth) for x in spots[:, 5]])\n",
    "        min_arr[min_arr > search_distance] = np.nan\n",
    "        min_index = [np.nanargmin(x) if np.any(~np.isnan(x)) else None for x in min_arr]\n",
    "        \n",
    "        val = 0\n",
    "        for spot_idx, index in enumerate(min_index):\n",
    "            if index is None:\n",
    "                continue\n",
    "            else:\n",
    "                #raise Exception\n",
    "                if pot_phase[index] == phase:\n",
    "                    val += spots[spot_idx, -1]\n",
    "        \n",
    "    else:\n",
    "        val = 0\n",
    "    \n",
    "    plot_value.append(val)"
   ]
  },
  {
   "cell_type": "code",
   "execution_count": null,
   "metadata": {},
   "outputs": [],
   "source": [
    "fig, ax = plt.subplots(1, 1, figsize=(5, 5), dpi=200)\n",
    "\n",
    "im = ax.imshow(np.array(plot_value).reshape(test.map.images.shape[:2]))\n",
    "fig.colorbar(im, ax=ax)\n",
    "ax.set_title(f'{phase} Total Intensity')\n",
    "\n",
    "plt.show()"
   ]
  },
  {
   "cell_type": "code",
   "execution_count": null,
   "metadata": {},
   "outputs": [],
   "source": []
  },
  {
   "cell_type": "code",
   "execution_count": null,
   "metadata": {},
   "outputs": [],
   "source": []
  },
  {
   "cell_type": "code",
   "execution_count": null,
   "metadata": {},
   "outputs": [],
   "source": []
  },
  {
   "cell_type": "code",
   "execution_count": null,
   "metadata": {},
   "outputs": [],
   "source": []
  },
  {
   "cell_type": "code",
   "execution_count": null,
   "metadata": {},
   "outputs": [],
   "source": []
  },
  {
   "cell_type": "code",
   "execution_count": null,
   "metadata": {},
   "outputs": [],
   "source": []
  },
  {
   "cell_type": "code",
   "execution_count": null,
   "metadata": {},
   "outputs": [],
   "source": [
    "selected_images = np.median(np.copy(test.map.images[::5, ::5]), axis=(0, 1)) # Randomize for less that certain number of images...\n",
    "bkg_noise = np.std(selected_images[selected_images != 0])\n",
    "\n",
    "i = np.random.randint(test.map.images.shape[0])\n",
    "j = np.random.randint(test.map.images.shape[1])\n",
    "#i, j = 0, 1\n",
    "image = test.map.images[i, j]\n",
    "\n",
    "spot_dict = find_spots(image, bkg_noise,\n",
    "                               multiplier=10, sigma=3,\n",
    "                               tth=test.tth, chi=test.chi, plotme=True)\n",
    "print(len(spot_dict['guess_height']))"
   ]
  },
  {
   "cell_type": "code",
   "execution_count": null,
   "metadata": {},
   "outputs": [],
   "source": [
    "def dask_find_spots(pixel):\n",
    "    spot_dict, mask = find_spots(pixel, bkg_noise,\n",
    "                               multiplier=10, sigma=3,\n",
    "                               tth=test.tth, chi=test.chi)\n",
    "    return spot_dict, mask\n",
    "\n",
    "iterable = test.map.images.reshape(test.map.num_pixels, len(test.chi), len(test.tth))\n",
    "spot_dict_lst = parallel_loop(dask_find_spots, iterable)"
   ]
  },
  {
   "cell_type": "code",
   "execution_count": null,
   "metadata": {},
   "outputs": [],
   "source": [
    "iterable = test.map.images.reshape(test.map.num_pixels, len(test.chi), len(test.tth))\n",
    "\n",
    "spot_dict_lst = []\n",
    "mask_lst = []\n",
    "for pixel in iterable:\n",
    "    spot_dict, mask = find_spots(pixel, bkg_noise,\n",
    "                               multiplier=10, sigma=3,\n",
    "                               tth=test.tth, chi=test.chi)\n",
    "    spot_dict_lst.append(spot_dict)\n",
    "    mask_lst.append(mask)"
   ]
  },
  {
   "cell_type": "code",
   "execution_count": null,
   "metadata": {},
   "outputs": [],
   "source": [
    "elements_folder = f'output_tiff_scan2D_{scanid}_xs_sum8ch\\\\'\n",
    "\n",
    "element_maps = {}\n",
    "for element in os.listdir(f'{filedir}{elements_folder}'):\n",
    "    el_im = io.imread(f'{filedir}{elements_folder}{element}')\n",
    "    element_maps[str(element[:-5])] = el_im"
   ]
  },
  {
   "cell_type": "code",
   "execution_count": null,
   "metadata": {},
   "outputs": [],
   "source": [
    "key = 'detsum_Fe_K'\n",
    "#interactive_dynamic_2d_plot(proc_map, range(121), range(121), img_vmin=10, img_vmax=100, display_map=element_maps['detsum_Pt_L'], map_vmin=1e4, map_vmax=1.1e4)\n",
    "interactive_dynamic_2d_plot(test.map.images, range(test.map.images.shape[0]), range(test.map.images.shape[1]), display_map=element_maps[key], display_title=key)"
   ]
  },
  {
   "cell_type": "code",
   "execution_count": null,
   "metadata": {},
   "outputs": [],
   "source": []
  }
 ],
 "metadata": {
  "kernelspec": {
   "display_name": "Python 3",
   "language": "python",
   "name": "python3"
  },
  "language_info": {
   "codemirror_mode": {
    "name": "ipython",
    "version": 3
   },
   "file_extension": ".py",
   "mimetype": "text/x-python",
   "name": "python",
   "nbconvert_exporter": "python",
   "pygments_lexer": "ipython3",
   "version": "3.11.8"
  }
 },
 "nbformat": 4,
 "nbformat_minor": 2
}
