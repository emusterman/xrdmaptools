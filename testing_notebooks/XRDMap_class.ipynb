{
 "cells": [
  {
   "cell_type": "code",
   "execution_count": 1,
   "metadata": {},
   "outputs": [
    {
     "name": "stderr",
     "output_type": "stream",
     "text": [
      "100%|██████████| 19/19 [00:03<00:00,  5.05it/s]\n"
     ]
    }
   ],
   "source": [
    "import os\n",
    "import matplotlib.pyplot as plt\n",
    "import numpy as np\n",
    "from tqdm import tqdm\n",
    "plt.ioff();\n",
    "try:\n",
    "    maindir\n",
    "except NameError:\n",
    "    maindir = os.path.dirname(os.getcwd())\n",
    "for module in tqdm(os.listdir(maindir + '\\\\testing_modules')):\n",
    "    %run -i \"{maindir}\\\\testing_modules\\\\{module}\"\n",
    "base = os.path.dirname(os.path.dirname(maindir)) + '\\\\'\n",
    "plt.ion();\n",
    "np.set_printoptions(suppress=True)\n",
    "plt.close('All')"
   ]
  },
  {
   "cell_type": "code",
   "execution_count": 2,
   "metadata": {},
   "outputs": [],
   "source": [
    "%matplotlib qt\n",
    "import skimage.io as io\n",
    "import pyFAI\n",
    "from skimage.restoration import rolling_ball\n",
    "import dask"
   ]
  },
  {
   "cell_type": "code",
   "execution_count": 3,
   "metadata": {},
   "outputs": [],
   "source": [
    "scanid = 149248\n",
    "scanid = 149566\n",
    "filedir = '''D:\\\\Musterman_postdoc\\\\20231109_Musterman\\\\'''\n",
    "#filedir = '''D:\\\\Musterman_postdoc\\\\20231030_Musterman\\\\'''\n",
    "filedir = '''C:\\\\Users\\\\emusterma\\\\OneDrive - Brookhaven National Laboratory\\\\Documents\\\\Postdoc\\\\Data\\\\Condensed Datasets\\\\'''\n",
    "map_filename = f'scan{scanid}_dexela_xrd.tif'\n",
    "dtype = np.int32\n",
    "\n",
    "test = XRDMap.from_image_stack(map_filename, wd=filedir, energy=15)\n",
    "#test.map.estimate_background(method='rolling_ball', radius=10)\n",
    "# Bad approximation\n",
    "dark_field = XRDMap.from_image_stack(f'scan149567_dexela_xrd.tif', wd=filedir).map.max_image\n",
    "test.map.subtract_background(background = dark_field)\n",
    "flat_field = rolling_ball(median_filter(test.map.med_image, size=20), radius=10)\n",
    "\n",
    "new_image_lst = []\n",
    "for image in test.map.images.reshape(test.map.num_images, *test.map.image_shape):\n",
    "    new_image = image / flat_field / np.median(image)\n",
    "    new_image_lst.append(new_image)\n",
    "\n",
    "test.map.images = np.asarray(new_image_lst).reshape(*test.map.shape)\n",
    "test.map.dtype = np.float32\n",
    "\n",
    "#test.map.subtract_background(background = background)\n",
    "test.set_calibration('scan149562_dexela_calibration.poni')\n",
    "#test.set_calibration('scan149256_dexela.poni')"
   ]
  },
  {
   "cell_type": "code",
   "execution_count": 4,
   "metadata": {},
   "outputs": [],
   "source": [
    "fig, ax = plt.subplots(1, 1, figsize=(5, 5), dpi=200)\n",
    "\n",
    "im = ax.imshow(test.map.images[1, 0])\n",
    "fig.colorbar(im, ax=ax)\n",
    "plt.show()"
   ]
  },
  {
   "cell_type": "code",
   "execution_count": 5,
   "metadata": {},
   "outputs": [],
   "source": [
    "fig, ax = plt.subplots(1, 1, figsize=(5, 5), dpi=200)\n",
    "\n",
    "im = ax.imshow(test.integrate_2d(test.map.images[1, 1], tth_num=1024, chi_num=1024)[0])\n",
    "fig.colorbar(im, ax=ax)\n",
    "plt.show()"
   ]
  },
  {
   "cell_type": "code",
   "execution_count": 223,
   "metadata": {},
   "outputs": [],
   "source": [
    "fig, ax = plt.subplots(1, 1, figsize=(5, 5), dpi=200)\n",
    "\n",
    "im = ax.imshow(test.map.images[0, 0])\n",
    "fig.colorbar(im, ax=ax)\n",
    "plt.show()"
   ]
  },
  {
   "cell_type": "code",
   "execution_count": 6,
   "metadata": {},
   "outputs": [],
   "source": [
    "cif_dir = '''C:\\\\Users\\\\emusterma\\\\OneDrive - Brookhaven National Laboratory\\\\Documents\\\\Postdoc\\\\Literature\\\\CIF\\\\'''\n",
    "test.clear_phases()\n",
    "for filename, phase_name in zip(['AMCSD\\\\Hematite_0017806.cif',\n",
    "                                 'AMCSD\\\\Iron-alpha_0011214.cif',\n",
    "                                 'AMCSD\\\\Iron-beta_0011215.cif',\n",
    "                                 'AMCSD\\\\Iron-delta_0011216.cif',\n",
    "                                 'AMCSD\\\\Iron_0011146.cif',\n",
    "                                 'AMCSD\\\\Cementite_0013523.cif',\n",
    "                                 'AMCSD\\\\Zincite_0011555.cif'],\n",
    "                                ['Hematite', 'Iron-ferrite', 'Iron-beta',\n",
    "                                 'Iron-delta', 'Iron-austenite', 'Cementite',\n",
    "                                 'Zincite']):\n",
    "    \n",
    "    test.load_phase(filename, filedir=cif_dir, phase_name=phase_name)"
   ]
  },
  {
   "cell_type": "code",
   "execution_count": 4,
   "metadata": {},
   "outputs": [
    {
     "name": "stdout",
     "output_type": "stream",
     "text": [
      "XU.materials: Warning: element O used instead of O-2\n",
      "XU.materials: Warning: element Nb used instead of Nb+5\n",
      "XU.materials: Warning: element Li used instead of Li+1\n"
     ]
    }
   ],
   "source": [
    "cif_dir = '''C:\\\\Users\\\\emusterma\\\\OneDrive - Brookhaven National Laboratory\\\\Documents\\\\Postdoc\\\\Literature\\\\CIF\\\\'''\n",
    "test.clear_phases()\n",
    "test.load_phase('Barker\\\\1521772COD.cif', filedir=cif_dir, phase_name=\"LiNbO3 161\")\n",
    "test.load_phase('Barker\\\\LiNbO3.cif', filedir=cif_dir, phase_name=\"LiNbO3 148\")\n",
    "test.load_phase('AMCSD\\\\Platinum_0011157.cif', filedir=cif_dir, phase_name=\"Platinum\")\n",
    "test.load_phase('AMCSD\\\\Calcite_0000984.cif', filedir=cif_dir, phase_name=\"Calcite\")\n",
    "test.load_phase('AMCSD\\\\Aluminum_0011136.cif', filedir=cif_dir, phase_name=\"Aluminum\")\n",
    "test.load_phase('AMCSD\\\\Zincite_0011555.cif', filedir=cif_dir, phase_name=\"Zincite\")\n",
    "test.load_phase('AMCSD\\\\Gold_0011140.cif', filedir=cif_dir, phase_name=\"Gold\")\n",
    "test.load_phase('AMCSD\\\\Chromium_0011209.cif', filedir=cif_dir, phase_name=\"Chromium BCC\")\n",
    "test.load_phase('AMCSD\\\\Chromium_0011170.cif', filedir=cif_dir, phase_name=\"Chromium HCP\")\n",
    "test.load_phase('AMCSD\\\\Chromium_0011144.cif', filedir=cif_dir, phase_name=\"Chromium FCC\")"
   ]
  },
  {
   "cell_type": "code",
   "execution_count": 355,
   "metadata": {},
   "outputs": [
    {
     "name": "stdout",
     "output_type": "stream",
     "text": [
      "XU.materials: Warning: element O used instead of O-2\n",
      "XU.materials: Warning: element Nb used instead of Nb+5\n",
      "XU.materials: Warning: element Li used instead of Li+1\n",
      "XU.materials: Warning: element O used instead of O-2\n",
      "XU.materials: Warning: element Nb used instead of Nb+5\n",
      "XU.materials: Warning: element Li used instead of Li+1\n",
      "13.4987\n",
      "13.512212185208055\n"
     ]
    }
   ],
   "source": [
    "'''test.phases = {}\n",
    "test.load_phase('Barker\\\\1521772COD.cif', filedir=cif_dir, phase_name=\"LiNbO3 161\")\n",
    "test.load_phase('Barker\\\\1521772COD.cif', filedir=cif_dir, phase_name=\"Strained LiNbO3 161\")\n",
    "print(test.phases['Strained LiNbO3 161'].c)\n",
    "test.phases['Strained LiNbO3 161'].ApplyStrain(np.zeros((3, 3)) + 0.001)\n",
    "print(test.phases['Strained LiNbO3 161'].c)''';"
   ]
  },
  {
   "cell_type": "code",
   "execution_count": 5,
   "metadata": {},
   "outputs": [],
   "source": [
    "test.select_phases(remove_less_than=0.1)"
   ]
  },
  {
   "cell_type": "code",
   "execution_count": 6,
   "metadata": {},
   "outputs": [
    {
     "data": {
      "application/vnd.jupyter.widget-view+json": {
       "model_id": "ab54d3d899144935800d813e9c681d79",
       "version_major": 2,
       "version_minor": 0
      },
      "text/plain": [
       "  0%|          | 0/36 [00:00<?, ?it/s]"
      ]
     },
     "metadata": {},
     "output_type": "display_data"
    }
   ],
   "source": [
    "test.calibrate_images()\n",
    "background = rolling_ball(median_filter(test.map.med_image, size=20), radius=10)"
   ]
  },
  {
   "cell_type": "code",
   "execution_count": 11,
   "metadata": {},
   "outputs": [],
   "source": [
    "fig, ax = plt.subplots(1, 1, figsize=(5, 5), dpi=200)\n",
    "\n",
    "im = ax.imshow(test.map.images[0, 0])\n",
    "fig.colorbar(im, ax=ax)\n",
    "plt.show()"
   ]
  },
  {
   "cell_type": "code",
   "execution_count": 19,
   "metadata": {},
   "outputs": [
    {
     "name": "stdout",
     "output_type": "stream",
     "text": [
      "78\n"
     ]
    }
   ],
   "source": [
    "#find_blobs(img, thresh, method='gaussian_threshold',\n",
    "#               sigma=3,\n",
    "#               tth=None, chi=None,\n",
    "#               blob_expansion=5, min_blob_significance=500,\n",
    "#               listme=False, plotme=False)\n",
    "\n",
    "i = np.random.randint(test.map.images.shape[0])\n",
    "j = np.random.randint(test.map.images.shape[1])\n",
    "#i, j = 1, 2\n",
    "\n",
    "#pixel = test.map.images.reshape(test.map.num_images, len(test.chi), len(test.tth))[1]\n",
    "pixel = test.map.images[i, j]\n",
    "\n",
    "#thresh = 0.25 * np.std(background) # This should be taken from background, not the image\n",
    "#thresh = np.median(test.map.images[i, j][test.map.images[i, j] != 0]) + 0.5 * np.std(background)\n",
    "thresh = np.median(pixel[pixel != 0]) + 0.75 * np.std(background)\n",
    "\n",
    "#blob_img, blob_mask = find_blobs(test.map.images[i, j], thresh = 3 * np.std(test.map.images[i, j]), sigma=1,\n",
    "#                     tth=test.tth, chi=test.chi, plotme=True, min_blob_significance=100000)\n",
    "\n",
    "#blob_df = find_blobs(test.map.images[i, j], thresh=thresh, sigma=3, blob_expansion=5,\n",
    "#                     tth=test.tth, chi=test.chi, plotme=True, min_blob_significance=1000)\n",
    "blob_df = find_blobs(pixel, thresh=thresh, sigma=3, blob_expansion=5, find_contours=True,\n",
    "                     tth=test.tth, chi=test.chi, plotme=True,\n",
    "                     min_blob_significance=1 * np.std(background) / test.tth_resolution / test.chi_resolution)\n",
    "print(len(blob_df))"
   ]
  },
  {
   "cell_type": "code",
   "execution_count": 309,
   "metadata": {},
   "outputs": [
    {
     "data": {
      "text/plain": [
       "0       [4.265503665291821]\n",
       "1        [4.09792043735085]\n",
       "2       [3.936619661145643]\n",
       "3      [3.8320622008795038]\n",
       "4      [3.7199030792141925]\n",
       "               ...         \n",
       "278     [3.100607068499699]\n",
       "279    [3.0830899447476217]\n",
       "280    [3.0404724004298185]\n",
       "281    [3.0078206082405083]\n",
       "282    [3.0035483336984776]\n",
       "Name: significance, Length: 283, dtype: object"
      ]
     },
     "execution_count": 309,
     "metadata": {},
     "output_type": "execute_result"
    }
   ],
   "source": [
    "blob_df['significance']"
   ]
  },
  {
   "cell_type": "code",
   "execution_count": 41,
   "metadata": {},
   "outputs": [
    {
     "data": {
      "application/vnd.jupyter.widget-view+json": {
       "model_id": "7cefc71c33a54849a2db8fc7ad34e851",
       "version_major": 2,
       "version_minor": 0
      },
      "text/plain": [
       "  0%|          | 0/36 [00:00<?, ?it/s]"
      ]
     },
     "metadata": {},
     "output_type": "display_data"
    },
    {
     "name": "stdout",
     "output_type": "stream",
     "text": [
      "Found 1 blobs!\n",
      "Found 1 blobs!\n",
      "Found 1 blobs!\n",
      "Found 1 blobs!\n",
      "Found 2 blobs!\n",
      "Found 4 blobs!\n",
      "Found 4 blobs!\n",
      "Found 4 blobs!\n",
      "Found 5 blobs!\n",
      "Found 9 blobs!\n",
      "Found 19 blobs!\n",
      "Found 57 blobs!\n",
      "Found 100 blobs!\n",
      "Found 119 blobs!\n",
      "Found 77 blobs!\n",
      "Found 32 blobs!\n",
      "Found 45 blobs!\n",
      "Found 53 blobs!\n",
      "Found 6 blobs!\n",
      "Found 53 blobs!\n",
      "Found 149 blobs!\n",
      "Found 95 blobs!\n",
      "Found 106 blobs!\n",
      "Found 118 blobs!\n",
      "Found 3 blobs!\n",
      "Found 3 blobs!\n",
      "Found 3 blobs!\n",
      "Found 3 blobs!\n",
      "Found 3 blobs!\n",
      "Found 7 blobs!\n",
      "Found 2 blobs!\n",
      "Found 1 blobs!\n",
      "Found 2 blobs!\n",
      "Found 1 blobs!\n",
      "Found 1 blobs!\n",
      "Found 2 blobs!\n",
      "dt = 47.235 sec\n"
     ]
    }
   ],
   "source": [
    "blob_df_lst = []\n",
    "background = rolling_ball(median_filter(test.map.med_image, size=20), radius=10)\n",
    "\n",
    "tic()\n",
    "for pixel in tqdm(test.map.images.reshape(test.map.num_images, len(test.chi), len(test.tth))):\n",
    "    thresh = np.median(pixel[pixel != 0]) + 1 * np.std(background)\n",
    "    blob_df = find_blobs(pixel, thresh=thresh, sigma=3, blob_expansion=5,\n",
    "                     tth=test.tth, chi=test.chi, plotme=False, find_contours=False,\n",
    "                     min_blob_significance=1 * np.std(background) / test.tth_resolution / test.chi_resolution)\n",
    "    print(f'Found {len(blob_df)} blobs!')\n",
    "    blob_df_lst.append(blob_df)\n",
    "toc()"
   ]
  },
  {
   "cell_type": "code",
   "execution_count": 59,
   "metadata": {},
   "outputs": [],
   "source": [
    "plot_value = []\n",
    "\n",
    "for blob_df in blob_df_lst:\n",
    "    #val = np.mean(blob_df['significance'])\n",
    "    val = np.sum(blob_df['intensity'])\n",
    "    #val = np.sum(np.hstack([*blob_df['value']]))\n",
    "    plot_value.append(val)\n",
    "\n",
    "plot_value = np.asarray(plot_value).reshape(*test.map.map_shape)"
   ]
  },
  {
   "cell_type": "code",
   "execution_count": 60,
   "metadata": {},
   "outputs": [],
   "source": [
    "fig, ax = plt.subplots(1, 1, figsize=(5, 5), dpi=200)\n",
    "\n",
    "im = ax.imshow(plot_value, aspect='auto')\n",
    "fig.colorbar(im, ax=ax)\n",
    "plt.show()"
   ]
  },
  {
   "cell_type": "code",
   "execution_count": 27,
   "metadata": {},
   "outputs": [],
   "source": [
    "from dask.diagnostics import ProgressBar\n",
    "from tqdm.dask import TqdmCallback"
   ]
  },
  {
   "cell_type": "code",
   "execution_count": 32,
   "metadata": {},
   "outputs": [],
   "source": [
    "def parallel_loop(function, iterable, *args, **kwargs):\n",
    "    import dask\n",
    "\n",
    "    # This may break with enumerate functions...\n",
    "    \n",
    "    @dask.delayed\n",
    "    def sub_function(index):\n",
    "        return function(index, *args, **kwargs)\n",
    "\n",
    "    results = []\n",
    "    for index in tqdm(iterable):\n",
    "        results.append(sub_function(index, *args, **kwargs))\n",
    "\n",
    "    #with ProgressBar():\n",
    "    #    output = dask.compute(results)\n",
    "\n",
    "    with TqdmCallback():\n",
    "        output = dask.compute(results)\n",
    "\n",
    "    return output[0]"
   ]
  },
  {
   "cell_type": "code",
   "execution_count": 33,
   "metadata": {},
   "outputs": [],
   "source": [
    "def dask_find_blobs(pixel):\n",
    "    thresh = np.median(pixel[pixel != 0]) + 1 * np.std(background)\n",
    "    blob_df = find_blobs(pixel, thresh=thresh, sigma=3, blob_expansion=5,\n",
    "                     tth=test.tth, chi=test.chi, plotme=False, find_contours=False,\n",
    "                     min_blob_significance=1 * np.std(background) / test.tth_resolution / test.chi_resolution)\n",
    "    return blob_df"
   ]
  },
  {
   "cell_type": "code",
   "execution_count": 34,
   "metadata": {},
   "outputs": [
    {
     "data": {
      "application/vnd.jupyter.widget-view+json": {
       "model_id": "745ec8946266450c8f5902252f72dc6a",
       "version_major": 2,
       "version_minor": 0
      },
      "text/plain": [
       "  0%|          | 0/36 [00:00<?, ?it/s]"
      ]
     },
     "metadata": {},
     "output_type": "display_data"
    },
    {
     "data": {
      "application/vnd.jupyter.widget-view+json": {
       "model_id": "59a975159be44795b471d44dc90f4b4e",
       "version_major": 2,
       "version_minor": 0
      },
      "text/plain": [
       "  0%|          | 0/36 [00:00<?, ?it/s]"
      ]
     },
     "metadata": {},
     "output_type": "display_data"
    },
    {
     "name": "stderr",
     "output_type": "stream",
     "text": [
      "C:\\Users\\emusterma\\OneDrive - Brookhaven National Laboratory\\Documents\\Postdoc\\Repositories\\SRX_sXRD_analysis\\testing_modules\\sXRD_spot_blob_search.py:72: RuntimeWarning: invalid value encountered in divide\n",
      "  blob_significance = blob_intensity / blob_area\n",
      "c:\\Users\\emusterma\\AppData\\Local\\Programs\\Python\\Python311\\Lib\\site-packages\\scipy\\ndimage\\_measurements.py:1535: RuntimeWarning: invalid value encountered in scalar divide\n",
      "  results = [sum(input * grids[dir].astype(float), labels, index) / normalizer\n"
     ]
    }
   ],
   "source": [
    "iterable = test.map.images.reshape(test.map.num_images, len(test.chi), len(test.tth))\n",
    "blob_df_lst = parallel_loop(dask_find_blobs, iterable)"
   ]
  },
  {
   "cell_type": "code",
   "execution_count": 35,
   "metadata": {},
   "outputs": [],
   "source": [
    "plot_value = []\n",
    "\n",
    "for blob_df in blob_df_lst:\n",
    "    #val = np.mean(blob_df['significance'])\n",
    "    val = np.sum(blob_df['intensity'])\n",
    "    #val = np.sum(np.hstack([*blob_df['value']]))\n",
    "    plot_value.append(val)\n",
    "\n",
    "plot_value = np.asarray(plot_value).reshape(*test.map.map_shape)"
   ]
  },
  {
   "cell_type": "code",
   "execution_count": 36,
   "metadata": {},
   "outputs": [],
   "source": [
    "fig, ax = plt.subplots(1, 1, figsize=(5, 5), dpi=200)\n",
    "\n",
    "im = ax.imshow(plot_value, aspect='auto')\n",
    "fig.colorbar(im, ax=ax)\n",
    "plt.show()"
   ]
  },
  {
   "cell_type": "code",
   "execution_count": null,
   "metadata": {},
   "outputs": [],
   "source": []
  },
  {
   "cell_type": "code",
   "execution_count": null,
   "metadata": {},
   "outputs": [],
   "source": [
    "blob_df_lst = []\n",
    "background = rolling_ball(median_filter(test.map.med_image, size=20), radius=10)\n",
    "\n",
    "tic()\n",
    "for pixel in tqdm(test.map.images.reshape(test.map.num_images, len(test.chi), len(test.tth))):\n",
    "    thresh = np.median(pixel[pixel != 0]) + 1 * np.std(background)\n",
    "    blob_df = find_blobs(pixel, thresh=thresh, sigma=3, blob_expansion=5,\n",
    "                     tth=test.tth, chi=test.chi, plotme=False, find_contours=False,\n",
    "                     min_blob_significance=1 * np.std(background) / test.tth_resolution / test.chi_resolution)\n",
    "    print(f'Found {len(blob_df)} blobs!')\n",
    "    blob_df_lst.append(blob_df)\n",
    "toc()"
   ]
  },
  {
   "cell_type": "code",
   "execution_count": 31,
   "metadata": {},
   "outputs": [
    {
     "data": {
      "text/html": [
       "<div>\n",
       "<style scoped>\n",
       "    .dataframe tbody tr th:only-of-type {\n",
       "        vertical-align: middle;\n",
       "    }\n",
       "\n",
       "    .dataframe tbody tr th {\n",
       "        vertical-align: top;\n",
       "    }\n",
       "\n",
       "    .dataframe thead th {\n",
       "        text-align: right;\n",
       "    }\n",
       "</style>\n",
       "<table border=\"1\" class=\"dataframe\">\n",
       "  <thead>\n",
       "    <tr style=\"text-align: right;\">\n",
       "      <th></th>\n",
       "      <th>intensity</th>\n",
       "      <th>area</th>\n",
       "      <th>significance</th>\n",
       "      <th>value</th>\n",
       "      <th>mask</th>\n",
       "      <th>max_coords</th>\n",
       "      <th>center_of_mass</th>\n",
       "    </tr>\n",
       "  </thead>\n",
       "  <tbody>\n",
       "    <tr>\n",
       "      <th>0</th>\n",
       "      <td>16.355833</td>\n",
       "      <td>[2.4402402368104283]</td>\n",
       "      <td>[6.702550350111074]</td>\n",
       "      <td>[0.0036793833, 0.0031905272, 0.00320566, 0.003...</td>\n",
       "      <td>[[515, 656], [515, 657], [515, 658], [516, 653...</td>\n",
       "      <td>[25.439505097917078, 6.6736719151022115]</td>\n",
       "      <td>[25.444963294350952, 7.037203841848104]</td>\n",
       "    </tr>\n",
       "    <tr>\n",
       "      <th>1</th>\n",
       "      <td>6.932606</td>\n",
       "      <td>[1.2640240222474104]</td>\n",
       "      <td>[5.484552586207437]</td>\n",
       "      <td>[0.0026892584, 0.0029819047, 0.0031091243, 0.0...</td>\n",
       "      <td>[[1008, 443], [1008, 444], [1008, 445], [1008,...</td>\n",
       "      <td>[21.11675027871459, -15.990570958912343]</td>\n",
       "      <td>[21.115452979594316, -16.04766149709156]</td>\n",
       "    </tr>\n",
       "    <tr>\n",
       "      <th>2</th>\n",
       "      <td>6.506614</td>\n",
       "      <td>[1.2354354336990037]</td>\n",
       "      <td>[5.266656236257444]</td>\n",
       "      <td>[0.0036586255, 0.0033833215, 0.0032227158, 0.0...</td>\n",
       "      <td>[[326, 256], [326, 257], [326, 258], [327, 253...</td>\n",
       "      <td>[17.359589548005886, 18.283417708027258]</td>\n",
       "      <td>[17.339720517761506, 18.366781395399364]</td>\n",
       "    </tr>\n",
       "    <tr>\n",
       "      <th>3</th>\n",
       "      <td>7.624613</td>\n",
       "      <td>[1.4825225204388044]</td>\n",
       "      <td>[5.14299997467015]</td>\n",
       "      <td>[0.003209139, 0.0032824308, 0.0029235694, 0.00...</td>\n",
       "      <td>[[964, 24], [964, 25], [965, 21], [965, 22], [...</td>\n",
       "      <td>[12.592439373558284, -13.820053267191572]</td>\n",
       "      <td>[12.626638365180268, -14.086659589773927]</td>\n",
       "    </tr>\n",
       "    <tr>\n",
       "      <th>4</th>\n",
       "      <td>3.846122</td>\n",
       "      <td>[0.8464264252367555]</td>\n",
       "      <td>[4.543953437874125]</td>\n",
       "      <td>[0.0030859467, 0.0027998094, 0.0027127457, 0.0...</td>\n",
       "      <td>[[665, 442], [665, 443], [665, 444], [665, 445...</td>\n",
       "      <td>[21.11675027871459, 1.6764335085822992]</td>\n",
       "      <td>[21.1125841711614, 1.6467081249563051]</td>\n",
       "    </tr>\n",
       "    <tr>\n",
       "      <th>5</th>\n",
       "      <td>4.723780</td>\n",
       "      <td>[1.1108708693095173]</td>\n",
       "      <td>[4.2523215665183836]</td>\n",
       "      <td>[0.003023412, 0.0032367911, 0.0033327884, 0.00...</td>\n",
       "      <td>[[267, 443], [268, 440], [268, 441], [268, 442...</td>\n",
       "      <td>[21.076350700965037, 21.261569889690648]</td>\n",
       "      <td>[21.087393973517955, 21.309097147077907]</td>\n",
       "    </tr>\n",
       "    <tr>\n",
       "      <th>6</th>\n",
       "      <td>4.162029</td>\n",
       "      <td>[1.0261261246838833]</td>\n",
       "      <td>[4.056059668885686]</td>\n",
       "      <td>[0.0033229731, 0.0033094967, 0.003380662, 0.00...</td>\n",
       "      <td>[[845, 772], [845, 773], [845, 774], [845, 775...</td>\n",
       "      <td>[27.762480818516547, -8.469474771321767]</td>\n",
       "      <td>[27.778652001824522, -7.824441134576443]</td>\n",
       "    </tr>\n",
       "    <tr>\n",
       "      <th>7</th>\n",
       "      <td>3.710619</td>\n",
       "      <td>[0.9321921908819756]</td>\n",
       "      <td>[3.9805302463284624]</td>\n",
       "      <td>[0.003698356, 0.0035185765, 0.0034055123, 0.00...</td>\n",
       "      <td>[[795, 1306], [795, 1307], [795, 1308], [796, ...</td>\n",
       "      <td>[38.48856871102365, -5.390368278415558]</td>\n",
       "      <td>[38.529727238576, -5.14440172243329]</td>\n",
       "    </tr>\n",
       "    <tr>\n",
       "      <th>8</th>\n",
       "      <td>2.410112</td>\n",
       "      <td>[0.6616216206916978]</td>\n",
       "      <td>[3.6427352214726194]</td>\n",
       "      <td>[0.0032112433, 0.0029517028, 0.0034054932, 0.0...</td>\n",
       "      <td>[[421, 259], [422, 256], [422, 257], [422, 258...</td>\n",
       "      <td>[17.359589548005886, 13.790950857721484]</td>\n",
       "      <td>[17.35525241040647, 13.904013488424894]</td>\n",
       "    </tr>\n",
       "    <tr>\n",
       "      <th>9</th>\n",
       "      <td>3.507345</td>\n",
       "      <td>[0.9771171157437575]</td>\n",
       "      <td>[3.5894831658268878]</td>\n",
       "      <td>[0.0028345522, 0.0032207354, 0.0032644093, 0.0...</td>\n",
       "      <td>[[914, 1307], [914, 1308], [915, 1304], [915, ...</td>\n",
       "      <td>[38.50876849989844, -12.356215754170591]</td>\n",
       "      <td>[38.519040882691044, -11.5524310272306]</td>\n",
       "    </tr>\n",
       "    <tr>\n",
       "      <th>10</th>\n",
       "      <td>0.668392</td>\n",
       "      <td>[0.18684684658422948]</td>\n",
       "      <td>[3.577217576788531]</td>\n",
       "      <td>[0.0040949197, 0.0034430122, 0.0040717823, 0.0...</td>\n",
       "      <td>[[522, 26], [523, 23], [523, 24], [523, 25], [...</td>\n",
       "      <td>[12.63283895130784, 9.55086978552277]</td>\n",
       "      <td>[12.655496454328329, 9.34934140241321]</td>\n",
       "    </tr>\n",
       "    <tr>\n",
       "      <th>11</th>\n",
       "      <td>1.605680</td>\n",
       "      <td>[0.45537537473533524]</td>\n",
       "      <td>[3.526057750894013]</td>\n",
       "      <td>[0.003138471, 0.0035357936, 0.0038193641, 0.00...</td>\n",
       "      <td>[[821, 447], [821, 448], [821, 449], [822, 444...</td>\n",
       "      <td>[21.157149856464148, -6.198002768358169]</td>\n",
       "      <td>[21.162439396739124, -6.038266441571167]</td>\n",
       "    </tr>\n",
       "    <tr>\n",
       "      <th>12</th>\n",
       "      <td>1.443972</td>\n",
       "      <td>[0.4104504498735533]</td>\n",
       "      <td>[3.518018968723269]</td>\n",
       "      <td>[0.003775889, 0.0039762487, 0.004086661, 0.003...</td>\n",
       "      <td>[[489, 24], [489, 25], [489, 26], [490, 21], [...</td>\n",
       "      <td>[12.61263916243306, 10.762321520436686]</td>\n",
       "      <td>[12.619502074756374, 10.811668818565607]</td>\n",
       "    </tr>\n",
       "    <tr>\n",
       "      <th>13</th>\n",
       "      <td>0.699210</td>\n",
       "      <td>[0.20012011983884687]</td>\n",
       "      <td>[3.4939496890787907]</td>\n",
       "      <td>[0.0037390406, 0.0037333989, 0.0030862654, 0.0...</td>\n",
       "      <td>[[821, 654], [821, 655], [822, 651], [822, 652...</td>\n",
       "      <td>[25.338506153543193, -5.74370836776545]</td>\n",
       "      <td>[25.354106816198478, -5.7264495939309015]</td>\n",
       "    </tr>\n",
       "    <tr>\n",
       "      <th>14</th>\n",
       "      <td>1.543489</td>\n",
       "      <td>[0.4431231225003038]</td>\n",
       "      <td>[3.4832059537760434]</td>\n",
       "      <td>[0.003092613, 0.0030483992, 0.003199553, 0.003...</td>\n",
       "      <td>[[558, 25], [559, 22], [559, 23], [559, 24], [...</td>\n",
       "      <td>[12.63283895130784, 7.178443471316342]</td>\n",
       "      <td>[12.636104781724843, 7.266747066758221]</td>\n",
       "    </tr>\n",
       "    <tr>\n",
       "      <th>15</th>\n",
       "      <td>1.688475</td>\n",
       "      <td>[0.4890690683816717]</td>\n",
       "      <td>[3.452426014075712]</td>\n",
       "      <td>[0.003303487, 0.0032998475, 0.0032386463, 0.00...</td>\n",
       "      <td>[[910, 658], [910, 659], [910, 660], [911, 655...</td>\n",
       "      <td>[25.439505097917078, -10.639992463042539]</td>\n",
       "      <td>[25.443710279969245, -10.58159299926161]</td>\n",
       "    </tr>\n",
       "    <tr>\n",
       "      <th>16</th>\n",
       "      <td>1.659648</td>\n",
       "      <td>[0.48498498430332787]</td>\n",
       "      <td>[3.422059974815159]</td>\n",
       "      <td>[0.0027681217, 0.0028904735, 0.0028070784, 0.0...</td>\n",
       "      <td>[[446, 843], [446, 844], [446, 845], [447, 840...</td>\n",
       "      <td>[29.196665828625783, 13.084270679021692]</td>\n",
       "      <td>[29.163779963804323, 12.82701475212663]</td>\n",
       "    </tr>\n",
       "    <tr>\n",
       "      <th>17</th>\n",
       "      <td>1.038914</td>\n",
       "      <td>[0.3052852848562001]</td>\n",
       "      <td>[3.403093350347538]</td>\n",
       "      <td>[0.0034973095, 0.003236026, 0.0029642496, 0.00...</td>\n",
       "      <td>[[951, 657], [951, 658], [951, 659], [951, 660...</td>\n",
       "      <td>[25.4193053090423, -12.558124376656242]</td>\n",
       "      <td>[25.41638935497161, -12.3780370130908]</td>\n",
       "    </tr>\n",
       "    <tr>\n",
       "      <th>18</th>\n",
       "      <td>0.879806</td>\n",
       "      <td>[0.2777177173273793]</td>\n",
       "      <td>[3.1679865101143374]</td>\n",
       "      <td>[0.0030857825, 0.0030492975, 0.003138165, 0.00...</td>\n",
       "      <td>[[1055, 28], [1055, 29], [1055, 30], [1056, 25...</td>\n",
       "      <td>[12.653038740182618, -17.858225716904634]</td>\n",
       "      <td>[12.726087321969027, -17.61914207648491]</td>\n",
       "    </tr>\n",
       "  </tbody>\n",
       "</table>\n",
       "</div>"
      ],
      "text/plain": [
       "    intensity                   area          significance  \\\n",
       "0   16.355833   [2.4402402368104283]   [6.702550350111074]   \n",
       "1    6.932606   [1.2640240222474104]   [5.484552586207437]   \n",
       "2    6.506614   [1.2354354336990037]   [5.266656236257444]   \n",
       "3    7.624613   [1.4825225204388044]    [5.14299997467015]   \n",
       "4    3.846122   [0.8464264252367555]   [4.543953437874125]   \n",
       "5    4.723780   [1.1108708693095173]  [4.2523215665183836]   \n",
       "6    4.162029   [1.0261261246838833]   [4.056059668885686]   \n",
       "7    3.710619   [0.9321921908819756]  [3.9805302463284624]   \n",
       "8    2.410112   [0.6616216206916978]  [3.6427352214726194]   \n",
       "9    3.507345   [0.9771171157437575]  [3.5894831658268878]   \n",
       "10   0.668392  [0.18684684658422948]   [3.577217576788531]   \n",
       "11   1.605680  [0.45537537473533524]   [3.526057750894013]   \n",
       "12   1.443972   [0.4104504498735533]   [3.518018968723269]   \n",
       "13   0.699210  [0.20012011983884687]  [3.4939496890787907]   \n",
       "14   1.543489   [0.4431231225003038]  [3.4832059537760434]   \n",
       "15   1.688475   [0.4890690683816717]   [3.452426014075712]   \n",
       "16   1.659648  [0.48498498430332787]   [3.422059974815159]   \n",
       "17   1.038914   [0.3052852848562001]   [3.403093350347538]   \n",
       "18   0.879806   [0.2777177173273793]  [3.1679865101143374]   \n",
       "\n",
       "                                                value  \\\n",
       "0   [0.0036793833, 0.0031905272, 0.00320566, 0.003...   \n",
       "1   [0.0026892584, 0.0029819047, 0.0031091243, 0.0...   \n",
       "2   [0.0036586255, 0.0033833215, 0.0032227158, 0.0...   \n",
       "3   [0.003209139, 0.0032824308, 0.0029235694, 0.00...   \n",
       "4   [0.0030859467, 0.0027998094, 0.0027127457, 0.0...   \n",
       "5   [0.003023412, 0.0032367911, 0.0033327884, 0.00...   \n",
       "6   [0.0033229731, 0.0033094967, 0.003380662, 0.00...   \n",
       "7   [0.003698356, 0.0035185765, 0.0034055123, 0.00...   \n",
       "8   [0.0032112433, 0.0029517028, 0.0034054932, 0.0...   \n",
       "9   [0.0028345522, 0.0032207354, 0.0032644093, 0.0...   \n",
       "10  [0.0040949197, 0.0034430122, 0.0040717823, 0.0...   \n",
       "11  [0.003138471, 0.0035357936, 0.0038193641, 0.00...   \n",
       "12  [0.003775889, 0.0039762487, 0.004086661, 0.003...   \n",
       "13  [0.0037390406, 0.0037333989, 0.0030862654, 0.0...   \n",
       "14  [0.003092613, 0.0030483992, 0.003199553, 0.003...   \n",
       "15  [0.003303487, 0.0032998475, 0.0032386463, 0.00...   \n",
       "16  [0.0027681217, 0.0028904735, 0.0028070784, 0.0...   \n",
       "17  [0.0034973095, 0.003236026, 0.0029642496, 0.00...   \n",
       "18  [0.0030857825, 0.0030492975, 0.003138165, 0.00...   \n",
       "\n",
       "                                                 mask  \\\n",
       "0   [[515, 656], [515, 657], [515, 658], [516, 653...   \n",
       "1   [[1008, 443], [1008, 444], [1008, 445], [1008,...   \n",
       "2   [[326, 256], [326, 257], [326, 258], [327, 253...   \n",
       "3   [[964, 24], [964, 25], [965, 21], [965, 22], [...   \n",
       "4   [[665, 442], [665, 443], [665, 444], [665, 445...   \n",
       "5   [[267, 443], [268, 440], [268, 441], [268, 442...   \n",
       "6   [[845, 772], [845, 773], [845, 774], [845, 775...   \n",
       "7   [[795, 1306], [795, 1307], [795, 1308], [796, ...   \n",
       "8   [[421, 259], [422, 256], [422, 257], [422, 258...   \n",
       "9   [[914, 1307], [914, 1308], [915, 1304], [915, ...   \n",
       "10  [[522, 26], [523, 23], [523, 24], [523, 25], [...   \n",
       "11  [[821, 447], [821, 448], [821, 449], [822, 444...   \n",
       "12  [[489, 24], [489, 25], [489, 26], [490, 21], [...   \n",
       "13  [[821, 654], [821, 655], [822, 651], [822, 652...   \n",
       "14  [[558, 25], [559, 22], [559, 23], [559, 24], [...   \n",
       "15  [[910, 658], [910, 659], [910, 660], [911, 655...   \n",
       "16  [[446, 843], [446, 844], [446, 845], [447, 840...   \n",
       "17  [[951, 657], [951, 658], [951, 659], [951, 660...   \n",
       "18  [[1055, 28], [1055, 29], [1055, 30], [1056, 25...   \n",
       "\n",
       "                                   max_coords  \\\n",
       "0    [25.439505097917078, 6.6736719151022115]   \n",
       "1    [21.11675027871459, -15.990570958912343]   \n",
       "2    [17.359589548005886, 18.283417708027258]   \n",
       "3   [12.592439373558284, -13.820053267191572]   \n",
       "4     [21.11675027871459, 1.6764335085822992]   \n",
       "5    [21.076350700965037, 21.261569889690648]   \n",
       "6    [27.762480818516547, -8.469474771321767]   \n",
       "7     [38.48856871102365, -5.390368278415558]   \n",
       "8    [17.359589548005886, 13.790950857721484]   \n",
       "9    [38.50876849989844, -12.356215754170591]   \n",
       "10      [12.63283895130784, 9.55086978552277]   \n",
       "11   [21.157149856464148, -6.198002768358169]   \n",
       "12    [12.61263916243306, 10.762321520436686]   \n",
       "13    [25.338506153543193, -5.74370836776545]   \n",
       "14     [12.63283895130784, 7.178443471316342]   \n",
       "15  [25.439505097917078, -10.639992463042539]   \n",
       "16   [29.196665828625783, 13.084270679021692]   \n",
       "17    [25.4193053090423, -12.558124376656242]   \n",
       "18  [12.653038740182618, -17.858225716904634]   \n",
       "\n",
       "                               center_of_mass  \n",
       "0     [25.444963294350952, 7.037203841848104]  \n",
       "1    [21.115452979594316, -16.04766149709156]  \n",
       "2    [17.339720517761506, 18.366781395399364]  \n",
       "3   [12.626638365180268, -14.086659589773927]  \n",
       "4      [21.1125841711614, 1.6467081249563051]  \n",
       "5    [21.087393973517955, 21.309097147077907]  \n",
       "6    [27.778652001824522, -7.824441134576443]  \n",
       "7        [38.529727238576, -5.14440172243329]  \n",
       "8     [17.35525241040647, 13.904013488424894]  \n",
       "9     [38.519040882691044, -11.5524310272306]  \n",
       "10     [12.655496454328329, 9.34934140241321]  \n",
       "11   [21.162439396739124, -6.038266441571167]  \n",
       "12   [12.619502074756374, 10.811668818565607]  \n",
       "13  [25.354106816198478, -5.7264495939309015]  \n",
       "14    [12.636104781724843, 7.266747066758221]  \n",
       "15   [25.443710279969245, -10.58159299926161]  \n",
       "16    [29.163779963804323, 12.82701475212663]  \n",
       "17     [25.41638935497161, -12.3780370130908]  \n",
       "18   [12.726087321969027, -17.61914207648491]  "
      ]
     },
     "execution_count": 31,
     "metadata": {},
     "output_type": "execute_result"
    }
   ],
   "source": [
    "blob_df_lst[0][10]"
   ]
  },
  {
   "cell_type": "code",
   "execution_count": null,
   "metadata": {},
   "outputs": [],
   "source": []
  },
  {
   "cell_type": "code",
   "execution_count": null,
   "metadata": {},
   "outputs": [],
   "source": []
  },
  {
   "cell_type": "code",
   "execution_count": null,
   "metadata": {},
   "outputs": [],
   "source": []
  },
  {
   "cell_type": "code",
   "execution_count": 405,
   "metadata": {},
   "outputs": [],
   "source": [
    "elements_folder = f'output_tiff_scan2D_{scanid}_xs_sum8ch\\\\'\n",
    "\n",
    "element_maps = {}\n",
    "for element in os.listdir(f'{filedir}{elements_folder}'):\n",
    "    el_im = io.imread(f'{filedir}{elements_folder}{element}')\n",
    "    element_maps[str(element[:-5])] = el_im"
   ]
  },
  {
   "cell_type": "code",
   "execution_count": 406,
   "metadata": {},
   "outputs": [
    {
     "ename": "KeyError",
     "evalue": "'detsum_Au_L'",
     "output_type": "error",
     "traceback": [
      "\u001b[1;31m---------------------------------------------------------------------------\u001b[0m",
      "\u001b[1;31mKeyError\u001b[0m                                  Traceback (most recent call last)",
      "\u001b[1;32mc:\\Users\\emusterma\\OneDrive - Brookhaven National Laboratory\\Documents\\Postdoc\\Repositories\\SRX_sXRD_analysis\\testing_notebooks\\XRDMap_class.ipynb Cell 16\u001b[0m line \u001b[0;36m3\n\u001b[0;32m      <a href='vscode-notebook-cell:/c%3A/Users/emusterma/OneDrive%20-%20Brookhaven%20National%20Laboratory/Documents/Postdoc/Repositories/SRX_sXRD_analysis/testing_notebooks/XRDMap_class.ipynb#X20sZmlsZQ%3D%3D?line=0'>1</a>\u001b[0m key \u001b[39m=\u001b[39m \u001b[39m'\u001b[39m\u001b[39mdetsum_Au_L\u001b[39m\u001b[39m'\u001b[39m\n\u001b[0;32m      <a href='vscode-notebook-cell:/c%3A/Users/emusterma/OneDrive%20-%20Brookhaven%20National%20Laboratory/Documents/Postdoc/Repositories/SRX_sXRD_analysis/testing_notebooks/XRDMap_class.ipynb#X20sZmlsZQ%3D%3D?line=1'>2</a>\u001b[0m \u001b[39m#interactive_dynamic_2d_plot(proc_map, range(121), range(121), img_vmin=10, img_vmax=100, display_map=element_maps['detsum_Pt_L'], map_vmin=1e4, map_vmax=1.1e4)\u001b[39;00m\n\u001b[1;32m----> <a href='vscode-notebook-cell:/c%3A/Users/emusterma/OneDrive%20-%20Brookhaven%20National%20Laboratory/Documents/Postdoc/Repositories/SRX_sXRD_analysis/testing_notebooks/XRDMap_class.ipynb#X20sZmlsZQ%3D%3D?line=2'>3</a>\u001b[0m interactive_dynamic_2d_plot(test\u001b[39m.\u001b[39mmap\u001b[39m.\u001b[39mimages, \u001b[39mrange\u001b[39m(test\u001b[39m.\u001b[39mmap\u001b[39m.\u001b[39mimages\u001b[39m.\u001b[39mshape[\u001b[39m0\u001b[39m]), \u001b[39mrange\u001b[39m(test\u001b[39m.\u001b[39mmap\u001b[39m.\u001b[39mimages\u001b[39m.\u001b[39mshape[\u001b[39m1\u001b[39m]), display_map\u001b[39m=\u001b[39melement_maps[key], display_title\u001b[39m=\u001b[39mkey)\n",
      "\u001b[1;31mKeyError\u001b[0m: 'detsum_Au_L'"
     ]
    }
   ],
   "source": [
    "key = 'detsum_Au_L'\n",
    "#interactive_dynamic_2d_plot(proc_map, range(121), range(121), img_vmin=10, img_vmax=100, display_map=element_maps['detsum_Pt_L'], map_vmin=1e4, map_vmax=1.1e4)\n",
    "interactive_dynamic_2d_plot(test.map.images, range(test.map.images.shape[0]), range(test.map.images.shape[1]), display_map=element_maps[key], display_title=key)"
   ]
  },
  {
   "cell_type": "code",
   "execution_count": null,
   "metadata": {},
   "outputs": [],
   "source": [
    "fig, ax = plt.subplots(1, 1, figsize=(8, 5), dpi=200)\n",
    "\n",
    "im = ax.imshow(med_img)\n",
    "fig.colorbar(im, ax=ax)\n",
    "\n",
    "plt.show()"
   ]
  },
  {
   "cell_type": "code",
   "execution_count": null,
   "metadata": {},
   "outputs": [],
   "source": [
    "ai = pyFAI.load(f'{filedir}scan149256_dexela.poni')\n",
    "ai.energy = 15\n",
    "tth_resolution = 0.02 # Degrees\n",
    "chi_resolution = 0.05 # Degrees\n",
    "\n",
    "res = ai.integrate2d_ng(proc_map.reshape(proc_map.shape[0] * proc_map.shape[1], proc_map.shape[2], proc_map.shape[3])[0], 100, 100, unit='2th_deg')\n",
    "tth, chi = res[1], res[2]\n",
    "tth_num = int(np.abs(np.max(tth) - np.min(tth)) // tth_resolution)\n",
    "chi_num = int(np.abs(np.max(chi) - np.min(chi)) // chi_resolution)\n",
    "# The bounds of interpolation should be limited by the intrument resolution AND the original image size. Should not make up too much data\n",
    "\n",
    "# Is there a better way I could do this?\n",
    "res = ai.integrate2d_ng(proc_map.reshape(proc_map.shape[0] * proc_map.shape[1], proc_map.shape[2], proc_map.shape[3])[0], tth_num, chi_num, unit='2th_deg')\n",
    "tth, chi = res[1], res[2]\n",
    "extent = [tth[0], tth[-1], chi[0], chi[-1]]\n",
    "\n",
    "# Calibrate the full map. Can I parallelize this??\n",
    "calibrated_map = np.zeros((proc_map.shape[0] * proc_map.shape[1], chi_num, tth_num), dtype=(dtype))\n",
    "for i, pixel in enumerate(proc_map.reshape(proc_map.shape[0] * proc_map.shape[1], proc_map.shape[2], proc_map.shape[3])):\n",
    "    res, _, _ = ai.integrate2d_ng(pixel, tth_num, chi_num, unit='2th_deg')\n",
    "    calibrated_map[i] = res\n",
    "calibrated_map = calibrated_map.reshape(proc_map.shape[0], proc_map.shape[1], chi_num, tth_num)"
   ]
  },
  {
   "cell_type": "code",
   "execution_count": null,
   "metadata": {},
   "outputs": [],
   "source": [
    "key = 'detsum_Ni_K'\n",
    "#interactive_dynamic_2d_plot(proc_map, range(121), range(121), img_vmin=10, img_vmax=100, display_map=element_maps['detsum_Pt_L'], map_vmin=1e4, map_vmax=1.1e4)\n",
    "interactive_dynamic_2d_plot(calibrated_map, tth, chi, display_map=element_maps[key], display_title=key)"
   ]
  }
 ],
 "metadata": {
  "kernelspec": {
   "display_name": "Python 3",
   "language": "python",
   "name": "python3"
  },
  "language_info": {
   "codemirror_mode": {
    "name": "ipython",
    "version": 3
   },
   "file_extension": ".py",
   "mimetype": "text/x-python",
   "name": "python",
   "nbconvert_exporter": "python",
   "pygments_lexer": "ipython3",
   "version": "3.11.5"
  }
 },
 "nbformat": 4,
 "nbformat_minor": 2
}
