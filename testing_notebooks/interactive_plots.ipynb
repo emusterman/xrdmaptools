{
 "cells": [
  {
   "cell_type": "code",
   "execution_count": 1,
   "metadata": {},
   "outputs": [],
   "source": [
    "import os\n",
    "import matplotlib.pyplot as plt\n",
    "import numpy as np\n",
    "plt.ioff();\n",
    "try:\n",
    "    maindir\n",
    "except NameError:\n",
    "    maindir = os.path.dirname(os.getcwd())\n",
    "for module in os.listdir(maindir + '\\\\testing_modules'):\n",
    "    %run -i \"{maindir}\\\\testing_modules\\\\{module}\"\n",
    "base = os.path.dirname(os.path.dirname(maindir)) + '\\\\'\n",
    "plt.ion();\n",
    "np.set_printoptions(suppress=True)"
   ]
  },
  {
   "cell_type": "code",
   "execution_count": 2,
   "metadata": {},
   "outputs": [],
   "source": [
    "%matplotlib qt\n",
    "import skimage.io as io\n",
    "from matplotlib.colors import Normalize, LogNorm"
   ]
  },
  {
   "cell_type": "code",
   "execution_count": 6,
   "metadata": {},
   "outputs": [
    {
     "ename": "NameError",
     "evalue": "name 'proc_map' is not defined",
     "output_type": "error",
     "traceback": [
      "\u001b[1;31m---------------------------------------------------------------------------\u001b[0m",
      "\u001b[1;31mNameError\u001b[0m                                 Traceback (most recent call last)",
      "\u001b[1;32mc:\\Users\\emusterma\\OneDrive - Brookhaven National Laboratory\\Documents\\Postdoc\\Repositories\\SRX_sXRD_analysis\\testing_notebooks\\interactive_plots.ipynb Cell 3\u001b[0m line \u001b[0;36m3\n\u001b[0;32m     <a href='vscode-notebook-cell:/c%3A/Users/emusterma/OneDrive%20-%20Brookhaven%20National%20Laboratory/Documents/Postdoc/Repositories/SRX_sXRD_analysis/testing_notebooks/interactive_plots.ipynb#W2sZmlsZQ%3D%3D?line=17'>18</a>\u001b[0m img_map \u001b[39m=\u001b[39m io\u001b[39m.\u001b[39mimread(\u001b[39mf\u001b[39m\u001b[39m'\u001b[39m\u001b[39m{\u001b[39;00mbase\u001b[39m}\u001b[39;00m\u001b[39m{\u001b[39;00mfiledir\u001b[39m}\u001b[39;00m\u001b[39m{\u001b[39;00mmap_filename\u001b[39m}\u001b[39;00m\u001b[39m'\u001b[39m)\u001b[39m#.astype(np.float32, copy=False)\u001b[39;00m\n\u001b[0;32m     <a href='vscode-notebook-cell:/c%3A/Users/emusterma/OneDrive%20-%20Brookhaven%20National%20Laboratory/Documents/Postdoc/Repositories/SRX_sXRD_analysis/testing_notebooks/interactive_plots.ipynb#W2sZmlsZQ%3D%3D?line=18'>19</a>\u001b[0m \u001b[39m#med_img = io.imread(f'D:\\\\Musterman_postdoc\\\\20231109_Musterman\\\\scan{scanid}_dexela_medianNone_composite.tif').astype(dtype)\u001b[39;00m\n\u001b[0;32m     <a href='vscode-notebook-cell:/c%3A/Users/emusterma/OneDrive%20-%20Brookhaven%20National%20Laboratory/Documents/Postdoc/Repositories/SRX_sXRD_analysis/testing_notebooks/interactive_plots.ipynb#W2sZmlsZQ%3D%3D?line=19'>20</a>\u001b[0m \u001b[39m#med_img = np.median(img_map, axis=(0, 1)).astype(dtype)\u001b[39;00m\n\u001b[0;32m     <a href='vscode-notebook-cell:/c%3A/Users/emusterma/OneDrive%20-%20Brookhaven%20National%20Laboratory/Documents/Postdoc/Repositories/SRX_sXRD_analysis/testing_notebooks/interactive_plots.ipynb#W2sZmlsZQ%3D%3D?line=20'>21</a>\u001b[0m \u001b[39m#max_map = np.max(img_map, axis=(2, 3)).astype(dtype)\u001b[39;00m\n\u001b[1;32m   (...)\u001b[0m\n\u001b[0;32m     <a href='vscode-notebook-cell:/c%3A/Users/emusterma/OneDrive%20-%20Brookhaven%20National%20Laboratory/Documents/Postdoc/Repositories/SRX_sXRD_analysis/testing_notebooks/interactive_plots.ipynb#W2sZmlsZQ%3D%3D?line=27'>28</a>\u001b[0m \u001b[39m#min_img = np.min(proc_map, axis=(0, 1)).astype(dtype)\u001b[39;00m\n\u001b[0;32m     <a href='vscode-notebook-cell:/c%3A/Users/emusterma/OneDrive%20-%20Brookhaven%20National%20Laboratory/Documents/Postdoc/Repositories/SRX_sXRD_analysis/testing_notebooks/interactive_plots.ipynb#W2sZmlsZQ%3D%3D?line=28'>29</a>\u001b[0m \u001b[39m#ref_img = max_img - min_img\u001b[39;00m\n\u001b[1;32m---> <a href='vscode-notebook-cell:/c%3A/Users/emusterma/OneDrive%20-%20Brookhaven%20National%20Laboratory/Documents/Postdoc/Repositories/SRX_sXRD_analysis/testing_notebooks/interactive_plots.ipynb#W2sZmlsZQ%3D%3D?line=30'>31</a>\u001b[0m \u001b[39mprint\u001b[39m(proc_map\u001b[39m.\u001b[39mshape)\n\u001b[0;32m     <a href='vscode-notebook-cell:/c%3A/Users/emusterma/OneDrive%20-%20Brookhaven%20National%20Laboratory/Documents/Postdoc/Repositories/SRX_sXRD_analysis/testing_notebooks/interactive_plots.ipynb#W2sZmlsZQ%3D%3D?line=31'>32</a>\u001b[0m \u001b[39mprint\u001b[39m(proc_map\u001b[39m.\u001b[39mdtype)\n",
      "\u001b[1;31mNameError\u001b[0m: name 'proc_map' is not defined"
     ]
    }
   ],
   "source": [
    "scanid = 149572\n",
    "filedir = '''D:\\\\Musterman_postdoc\\\\20231109_Musterman\\\\'''\n",
    "map_filename = f'scan{scanid}_dexela_xrd.tif'\n",
    "\n",
    "scanid = 107282\n",
    "filedir = '''D:\\\\Musterman_postdoc\\\\Varun_data\\\\'''\n",
    "map_filename = f'scan{scanid}_xrd.tiff'\n",
    "\n",
    "#map_img = io.imread(f'{base}{filedir}{map_filename}').astype(np.float32)\n",
    "#flat_field_est = io.imread(f'{base}{filedir}scan{scanid}_dexela_medianNone_composite.tif').astype(np.float32)\n",
    "#offset = np.max(flat_field_est)\n",
    "#flat_field_est = np.median(map_img, axis=(0, 1))\n",
    "#tot_img = np.max(map_img, axis=(2, 3))\n",
    "#print(map_img.shape)\n",
    "\n",
    "dtype = np.int16\n",
    "\n",
    "img_map = io.imread(f'{base}{filedir}{map_filename}')#.astype(np.float32, copy=False)\n",
    "#med_img = io.imread(f'D:\\\\Musterman_postdoc\\\\20231109_Musterman\\\\scan{scanid}_dexela_medianNone_composite.tif').astype(dtype)\n",
    "#med_img = np.median(img_map, axis=(0, 1)).astype(dtype)\n",
    "#max_map = np.max(img_map, axis=(2, 3)).astype(dtype)\n",
    "#min_map = np.min(img_map, axis=(2, 3)).astype(dtype)\n",
    "#sum_map = np.sum(img_map, axis=(2, 3)).astype(dtype)\n",
    "\n",
    "#proc_map = img_map - med_img\n",
    "#del(img_map)\n",
    "#max_img = np.max(proc_map, axis=(0, 1)).astype(dtype)\n",
    "#min_img = np.min(proc_map, axis=(0, 1)).astype(dtype)\n",
    "#ref_img = max_img - min_img\n",
    "\n",
    "print(proc_map.shape)\n",
    "print(proc_map.dtype)"
   ]
  },
  {
   "cell_type": "code",
   "execution_count": 11,
   "metadata": {},
   "outputs": [],
   "source": [
    "mean_map = np.mean(img_map.reshape(41, 41, 972, 1536), axis=(2, 3))"
   ]
  },
  {
   "cell_type": "code",
   "execution_count": 12,
   "metadata": {},
   "outputs": [
    {
     "data": {
      "text/plain": [
       "(41, 41)"
      ]
     },
     "execution_count": 12,
     "metadata": {},
     "output_type": "execute_result"
    }
   ],
   "source": [
    "mean_map.shape"
   ]
  },
  {
   "cell_type": "code",
   "execution_count": 7,
   "metadata": {},
   "outputs": [
    {
     "name": "stdout",
     "output_type": "stream",
     "text": [
      "(1681, 972, 1536)\n"
     ]
    }
   ],
   "source": [
    "print(img_map.shape)"
   ]
  },
  {
   "cell_type": "code",
   "execution_count": 17,
   "metadata": {},
   "outputs": [],
   "source": [
    "interactive_dynamic_2d_plot(img_map.reshape(41, 41, 972, 1536), range(41), range(41), display_map=mean_map, img_vmin=1500, img_vmax=2000)"
   ]
  },
  {
   "cell_type": "code",
   "execution_count": 4,
   "metadata": {},
   "outputs": [],
   "source": [
    "filedir = '''D:\\\\Musterman_postdoc\\\\20231109_Musterman\\\\'''\n",
    "elements_folder = f'output_tiff_scan2D_{scanid}_xs_sum8ch\\\\'\n",
    "\n",
    "element_maps = {}\n",
    "for element in os.listdir(f'{filedir}{elements_folder}'):\n",
    "    el_im = io.imread(f'{filedir}{elements_folder}{element}')\n",
    "    element_maps[str(element[:-5])] = el_im"
   ]
  },
  {
   "cell_type": "code",
   "execution_count": 14,
   "metadata": {},
   "outputs": [
    {
     "ename": "NameError",
     "evalue": "name 'proc_map' is not defined",
     "output_type": "error",
     "traceback": [
      "\u001b[1;31m---------------------------------------------------------------------------\u001b[0m",
      "\u001b[1;31mNameError\u001b[0m                                 Traceback (most recent call last)",
      "\u001b[1;32mc:\\Users\\emusterma\\OneDrive - Brookhaven National Laboratory\\Documents\\Postdoc\\Repositories\\SRX_sXRD_analysis\\testing_notebooks\\interactive_plots.ipynb Cell 9\u001b[0m line \u001b[0;36m3\n\u001b[0;32m      <a href='vscode-notebook-cell:/c%3A/Users/emusterma/OneDrive%20-%20Brookhaven%20National%20Laboratory/Documents/Postdoc/Repositories/SRX_sXRD_analysis/testing_notebooks/interactive_plots.ipynb#W4sZmlsZQ%3D%3D?line=0'>1</a>\u001b[0m key \u001b[39m=\u001b[39m \u001b[39m'\u001b[39m\u001b[39mdetsum_Er_L\u001b[39m\u001b[39m'\u001b[39m\n\u001b[0;32m      <a href='vscode-notebook-cell:/c%3A/Users/emusterma/OneDrive%20-%20Brookhaven%20National%20Laboratory/Documents/Postdoc/Repositories/SRX_sXRD_analysis/testing_notebooks/interactive_plots.ipynb#W4sZmlsZQ%3D%3D?line=1'>2</a>\u001b[0m \u001b[39m#interactive_dynamic_2d_plot(proc_map, range(121), range(121), img_vmin=10, img_vmax=100, display_map=element_maps['detsum_Pt_L'], map_vmin=1e4, map_vmax=1.1e4)\u001b[39;00m\n\u001b[1;32m----> <a href='vscode-notebook-cell:/c%3A/Users/emusterma/OneDrive%20-%20Brookhaven%20National%20Laboratory/Documents/Postdoc/Repositories/SRX_sXRD_analysis/testing_notebooks/interactive_plots.ipynb#W4sZmlsZQ%3D%3D?line=2'>3</a>\u001b[0m interactive_dynamic_2d_plot(proc_map, \u001b[39mrange\u001b[39m(\u001b[39m121\u001b[39m), \u001b[39mrange\u001b[39m(\u001b[39m121\u001b[39m), display_map\u001b[39m=\u001b[39melement_maps[key], display_title\u001b[39m=\u001b[39mkey, img_vmin\u001b[39m=\u001b[39m\u001b[39m1500\u001b[39m)\n",
      "\u001b[1;31mNameError\u001b[0m: name 'proc_map' is not defined"
     ]
    }
   ],
   "source": [
    "key = 'detsum_Er_L'\n",
    "#interactive_dynamic_2d_plot(proc_map, range(121), range(121), img_vmin=10, img_vmax=100, display_map=element_maps['detsum_Pt_L'], map_vmin=1e4, map_vmax=1.1e4)\n",
    "interactive_dynamic_2d_plot(proc_map, range(121), range(121), display_map=element_maps[key], display_title=key, img_vmin=1500)"
   ]
  },
  {
   "cell_type": "code",
   "execution_count": 43,
   "metadata": {},
   "outputs": [],
   "source": [
    "fig, ax = plt.subplots(1, 1)\n",
    "\n",
    "im = ax.imshow(tot_img)\n",
    "fig.colorbar(im, ax=ax)\n",
    "\n",
    "fig.show()"
   ]
  },
  {
   "cell_type": "code",
   "execution_count": null,
   "metadata": {},
   "outputs": [],
   "source": []
  }
 ],
 "metadata": {
  "kernelspec": {
   "display_name": "Python 3",
   "language": "python",
   "name": "python3"
  },
  "language_info": {
   "codemirror_mode": {
    "name": "ipython",
    "version": 3
   },
   "file_extension": ".py",
   "mimetype": "text/x-python",
   "name": "python",
   "nbconvert_exporter": "python",
   "pygments_lexer": "ipython3",
   "version": "3.11.5"
  }
 },
 "nbformat": 4,
 "nbformat_minor": 2
}
