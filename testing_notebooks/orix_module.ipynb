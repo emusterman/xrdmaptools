{
 "cells": [
  {
   "cell_type": "code",
   "execution_count": 1,
   "metadata": {},
   "outputs": [],
   "source": [
    "import os\n",
    "import h5py\n",
    "import numpy as np\n",
    "from IPython.lib.deepreload import reload\n",
    "import matplotlib.pyplot as plt\n",
    "from collections import OrderedDict\n",
    "import skimage.io as io\n",
    "%matplotlib qt"
   ]
  },
  {
   "cell_type": "code",
   "execution_count": 2,
   "metadata": {},
   "outputs": [
    {
     "name": "stderr",
     "output_type": "stream",
     "text": [
      "c:\\Users\\emusterma\\AppData\\Local\\anaconda3\\envs\\sXRDMap-py311-1.0\\Lib\\site-packages\\pyopencl\\cache.py:495: CompilerWarning: Non-empty compiler output encountered. Set the environment variable PYOPENCL_COMPILER_OUTPUT=1 to see more.\n",
      "  _create_built_program_from_source_cached(\n"
     ]
    },
    {
     "name": "stdout",
     "output_type": "stream",
     "text": [
      "Connecting to databrokers...failed.\n"
     ]
    }
   ],
   "source": [
    "import xrdmaptools\n",
    "from xrdmaptools.XRDMap import XRDMap\n",
    "from xrdmaptools.reflections.SpotModels import GaussianFunctions\n",
    "reload(xrdmaptools);"
   ]
  },
  {
   "cell_type": "code",
   "execution_count": 16,
   "metadata": {},
   "outputs": [],
   "source": [
    "from orix.crystal_map import CrystalMap\n",
    "from orix.quaternion import Rotation as orix_Rotation\n",
    "from orix.quaternion import Orientation as orix_Orientation\n",
    "from orix.crystal_map.phase_list import Phase as orix_Phase\n",
    "from orix.crystal_map.phase_list import PhaseList"
   ]
  },
  {
   "cell_type": "code",
   "execution_count": 401,
   "metadata": {},
   "outputs": [],
   "source": [
    "orientation_map = np.empty((*test.map.map_shape, 3, 3))\n",
    "\n",
    "for index in range(test.map.num_images):\n",
    "    indices = np.unravel_index(index, test.map.map_shape)\n",
    "    \n",
    "    if np.any(np.isnan(euler_map[indices])):\n",
    "        orientation_map[indices] = np.nan\n",
    "    else:\n",
    "        orientation_map[indices] = Rotation.from_euler('zxz', euler_map[indices], degrees=True).as_matrix()"
   ]
  },
  {
   "cell_type": "code",
   "execution_count": 35,
   "metadata": {},
   "outputs": [],
   "source": [
    "o_r = orix_Rotation.from_matrix(orientation_map.reshape(-1, 3, 3))"
   ]
  },
  {
   "cell_type": "code",
   "execution_count": 36,
   "metadata": {},
   "outputs": [],
   "source": [
    "phase_id = []\n",
    "x_list = []\n",
    "y_list = []\n",
    "\n",
    "for index in range(test.map.num_images):\n",
    "    indices = np.unravel_index(index, test.map.map_shape)\n",
    "\n",
    "    if np.any(np.isnan(orientation_map[indices])):\n",
    "        phase_id.append(-1)\n",
    "    else:\n",
    "        phase_id.append(0)\n",
    "\n",
    "    x_list.append(test.pos_dict['map_x'][indices])\n",
    "    y_list.append(test.pos_dict['map_y'][indices])"
   ]
  },
  {
   "cell_type": "code",
   "execution_count": null,
   "metadata": {},
   "outputs": [],
   "source": [
    "cif_dir = '''C:\\\\Users\\\\emusterma\\\\OneDrive - Brookhaven National Laboratory\\\\Documents\\\\Postdoc\\\\Literature\\\\CIF\\\\'''\n",
    "#test.clear_phases()\n",
    "#test.load_phase('AMCSD\\\\Stibnite_0008636.cif', wd=cif_dir, phase_name=\"stibnite\")\n",
    "##test.load_phase('Unknown\\\\LiNbO3.cif', wd=cif_dir, phase_name=\"LiNbO3 new\")\n",
    "#test.load_phase('Barker\\\\1521772COD.cif', wd=cif_dir, phase_name=\"liNbO3 old\")\n",
    "#test.load_phase('Barker\\\\LiNbO3.cif', wd=cif_dir, phase_name=\"LiNbO3 148\")\n",
    "\n",
    "orix_phase = orix_Phase.from_cif(f'{cif_dir}AMCSD\\\\Stibnite_0008636.cif')\n",
    "orix_phase.name = 'stibnite'\n",
    "orix_phase = orix_Phase.from_cif(f'{cif_dir}Unknown\\\\LiNbO3.cif')\n",
    "#orix_phase = orix_Phase.from_cif(f'{cif_dir}Barker\\\\1521772COD.cif')\n",
    "#orix_phase = orix_Phase.from_cif(f'{cif_dir}Barker\\\\LiNbO3.cif')\n",
    "orix_phase.name = 'linbo3'"
   ]
  },
  {
   "cell_type": "markdown",
   "metadata": {},
   "source": []
  },
  {
   "cell_type": "code",
   "execution_count": 63,
   "metadata": {},
   "outputs": [],
   "source": [
    "x = np.linspace(*test.map_extent()[:2], test.map.map_shape[1])\n",
    "y = np.linspace(*test.map_extent()[2:], test.map.map_shape[0])\n",
    "\n",
    "#x = range(test.map.map_shape[1])\n",
    "#y = range(test.map.map_shape[0])\n",
    "\n",
    "xx, yy = np.meshgrid(x, y)\n",
    "xx -= np.min(xx)\n",
    "yy -= np.min(yy)\n",
    "\n",
    "crystalmap = CrystalMap(rotations=o_r, phase_id=np.array(phase_id), x=xx.ravel(), y=yy.ravel(), phase_list=PhaseList(orix_phase))"
   ]
  },
  {
   "cell_type": "code",
   "execution_count": 64,
   "metadata": {},
   "outputs": [],
   "source": [
    "from orix import plot\n",
    "from orix.vector import Vector3d\n",
    "\n",
    "pg_laue = crystalmap.phases[0].point_group.laue\n",
    "o_sb = crystalmap['linbo3'].orientations\n",
    "\n",
    "ipf_key = plot.IPFColorKeyTSL(pg_laue, direction=Vector3d([0, 0, 1]))\n",
    "rgb_au = ipf_key.orientation2color(o_sb)"
   ]
  },
  {
   "cell_type": "code",
   "execution_count": 65,
   "metadata": {},
   "outputs": [
    {
     "data": {
      "text/plain": [
       "Symmetry (12,) -3m\n",
       "[[ 1.     0.     0.     0.   ]\n",
       " [ 0.5    0.     0.     0.866]\n",
       " [-0.5    0.     0.     0.866]\n",
       " [ 0.     1.     0.     0.   ]\n",
       " [ 0.     0.5    0.866  0.   ]\n",
       " [ 0.    -0.5    0.866  0.   ]\n",
       " [ 1.     0.     0.     0.   ]\n",
       " [ 0.5    0.     0.     0.866]\n",
       " [-0.5    0.     0.     0.866]\n",
       " [ 0.     1.     0.     0.   ]\n",
       " [ 0.     0.5    0.866  0.   ]\n",
       " [ 0.    -0.5    0.866  0.   ]]"
      ]
     },
     "execution_count": 65,
     "metadata": {},
     "output_type": "execute_result"
    }
   ],
   "source": [
    "pg_laue"
   ]
  },
  {
   "cell_type": "code",
   "execution_count": 52,
   "metadata": {},
   "outputs": [],
   "source": [
    "crystalmap['linbo3'].plot(rgb_au)"
   ]
  },
  {
   "cell_type": "code",
   "execution_count": 201,
   "metadata": {},
   "outputs": [],
   "source": [
    "I = np.eye(3)\n",
    "\n",
    "ref_ori = orix_Orientation.from_matrix(I)\n",
    "x_ori = crystalmap[40, 30].orientations"
   ]
  },
  {
   "cell_type": "code",
   "execution_count": 215,
   "metadata": {},
   "outputs": [
    {
     "data": {
      "text/plain": [
       "array([[79.56828524]])"
      ]
     },
     "execution_count": 215,
     "metadata": {},
     "output_type": "execute_result"
    }
   ],
   "source": [
    "ref_ori.angle_with_outer(x_ori, degrees=True)"
   ]
  },
  {
   "cell_type": "code",
   "execution_count": 240,
   "metadata": {},
   "outputs": [
    {
     "data": {
      "text/plain": [
       "Orientation (1,) mmm\n",
       "[[0.103  0.7685 0.6087 0.1686]]"
      ]
     },
     "execution_count": 240,
     "metadata": {},
     "output_type": "execute_result"
    }
   ],
   "source": [
    "x_ori"
   ]
  },
  {
   "cell_type": "code",
   "execution_count": 241,
   "metadata": {},
   "outputs": [
    {
     "name": "stderr",
     "output_type": "stream",
     "text": [
      " 25%|██▌       | 2/8 [00:00<00:00, 76.01it/s]\n"
     ]
    },
    {
     "data": {
      "text/plain": [
       "Orientation (1,) mmm\n",
       "[[-0.7685  0.103   0.1686 -0.6087]]"
      ]
     },
     "execution_count": 241,
     "metadata": {},
     "output_type": "execute_result"
    }
   ],
   "source": [
    "x_ori.map_into_symmetry_reduced_zone(verbose=True)"
   ]
  },
  {
   "cell_type": "code",
   "execution_count": 299,
   "metadata": {},
   "outputs": [],
   "source": [
    "from orix.quaternion import OrientationRegion\n",
    "\n",
    "Gl, Gr = x_ori._symmetry\n",
    "symmetry_pairs = list(product(Gl, Gr))\n",
    "\n",
    "all_ori = []\n",
    "orientation_region = OrientationRegion.from_symmetry(Gl, Gr)\n",
    "o_inside = x_ori.__class__.identity(x_ori.shape)\n",
    "outside = np.ones(x_ori.shape, dtype=bool)\n",
    "for gl, gr in symmetry_pairs:\n",
    "    o_transformed = gl * x_ori[outside] * gr\n",
    "    all_ori.append(gl * x_ori * gr)\n",
    "    o_inside[outside] = o_transformed\n",
    "    outside = ~(o_inside < orientation_region)\n",
    "    #if not np.any(outside):\n",
    "    #    break'''\n",
    "o_inside._symmetry = (Gl, Gr)"
   ]
  },
  {
   "cell_type": "code",
   "execution_count": 304,
   "metadata": {},
   "outputs": [
    {
     "data": {
      "text/plain": [
       "Orientation (1,) 1\n",
       "[[1. 0. 0. 0.]]"
      ]
     },
     "execution_count": 304,
     "metadata": {},
     "output_type": "execute_result"
    }
   ],
   "source": [
    "x_ori.__class__.identity(x_ori.shape)"
   ]
  },
  {
   "cell_type": "code",
   "execution_count": 298,
   "metadata": {},
   "outputs": [
    {
     "data": {
      "text/plain": [
       "Symmetry (1,) \n",
       "[[0.103  0.7685 0.6087 0.1686]]"
      ]
     },
     "execution_count": 298,
     "metadata": {},
     "output_type": "execute_result"
    }
   ],
   "source": [
    "all_ori[0]"
   ]
  },
  {
   "cell_type": "code",
   "execution_count": 301,
   "metadata": {},
   "outputs": [
    {
     "ename": "AttributeError",
     "evalue": "'Symmetry' object has no attribute '_symmetry'",
     "output_type": "error",
     "traceback": [
      "\u001b[1;31m---------------------------------------------------------------------------\u001b[0m",
      "\u001b[1;31mAttributeError\u001b[0m                            Traceback (most recent call last)",
      "Cell \u001b[1;32mIn[301], line 1\u001b[0m\n\u001b[1;32m----> 1\u001b[0m \u001b[43m[\u001b[49m\u001b[43mori\u001b[49m\u001b[38;5;241;43m.\u001b[39;49m\u001b[43m_symmetry\u001b[49m\u001b[38;5;241;43m.\u001b[39;49m\u001b[43mas_matrix\u001b[49m\u001b[43m \u001b[49m\u001b[38;5;28;43;01mfor\u001b[39;49;00m\u001b[43m \u001b[49m\u001b[43mori\u001b[49m\u001b[43m \u001b[49m\u001b[38;5;129;43;01min\u001b[39;49;00m\u001b[43m \u001b[49m\u001b[43mall_ori\u001b[49m\u001b[43m]\u001b[49m\n",
      "Cell \u001b[1;32mIn[301], line 1\u001b[0m, in \u001b[0;36m<listcomp>\u001b[1;34m(.0)\u001b[0m\n\u001b[1;32m----> 1\u001b[0m [\u001b[43mori\u001b[49m\u001b[38;5;241;43m.\u001b[39;49m\u001b[43m_symmetry\u001b[49m\u001b[38;5;241m.\u001b[39mas_matrix \u001b[38;5;28;01mfor\u001b[39;00m ori \u001b[38;5;129;01min\u001b[39;00m all_ori]\n",
      "\u001b[1;31mAttributeError\u001b[0m: 'Symmetry' object has no attribute '_symmetry'"
     ]
    }
   ],
   "source": [
    "[ori._symmetry.as_matrix for ori in all_ori]"
   ]
  },
  {
   "cell_type": "code",
   "execution_count": 273,
   "metadata": {},
   "outputs": [
    {
     "data": {
      "text/plain": [
       "array([ True])"
      ]
     },
     "execution_count": 273,
     "metadata": {},
     "output_type": "execute_result"
    }
   ],
   "source": [
    "outside"
   ]
  },
  {
   "cell_type": "code",
   "execution_count": 254,
   "metadata": {},
   "outputs": [
    {
     "data": {
      "text/plain": [
       "Symmetry (8,) mmm\n",
       "[[ 1.  0.  0.  0.]\n",
       " [ 0.  0.  0.  1.]\n",
       " [ 0.  1.  0.  0.]\n",
       " [ 0.  0.  1.  0.]\n",
       " [ 0.  0.  1.  0.]\n",
       " [ 0. -1.  0.  0.]\n",
       " [ 0.  0.  0.  1.]\n",
       " [-1.  0.  0.  0.]]"
      ]
     },
     "execution_count": 254,
     "metadata": {},
     "output_type": "execute_result"
    }
   ],
   "source": [
    "Gr"
   ]
  },
  {
   "cell_type": "code",
   "execution_count": 252,
   "metadata": {},
   "outputs": [
    {
     "data": {
      "text/plain": [
       "8"
      ]
     },
     "execution_count": 252,
     "metadata": {},
     "output_type": "execute_result"
    }
   ],
   "source": [
    "len(symmetry_pairs)"
   ]
  },
  {
   "cell_type": "code",
   "execution_count": null,
   "metadata": {},
   "outputs": [],
   "source": []
  },
  {
   "cell_type": "code",
   "execution_count": 228,
   "metadata": {},
   "outputs": [
    {
     "ename": "ValueError",
     "evalue": "setting an array element with a sequence.",
     "output_type": "error",
     "traceback": [
      "\u001b[1;31m---------------------------------------------------------------------------\u001b[0m",
      "\u001b[1;31mTypeError\u001b[0m                                 Traceback (most recent call last)",
      "\u001b[1;31mTypeError\u001b[0m: float() argument must be a string or a real number, not 'Orientation'",
      "\nThe above exception was the direct cause of the following exception:\n",
      "\u001b[1;31mValueError\u001b[0m                                Traceback (most recent call last)",
      "Cell \u001b[1;32mIn[228], line 5\u001b[0m\n\u001b[0;32m      3\u001b[0m symmetry \u001b[38;5;241m=\u001b[39m _get_unique_symmetry_elements(x_ori\u001b[38;5;241m.\u001b[39msymmetry, ref_ori\u001b[38;5;241m.\u001b[39msymmetry)\n\u001b[0;32m      4\u001b[0m misorientation \u001b[38;5;241m=\u001b[39m ref_ori \u001b[38;5;241m*\u001b[39m \u001b[38;5;241m~\u001b[39mx_ori\n\u001b[1;32m----> 5\u001b[0m all_dot_products \u001b[38;5;241m=\u001b[39m \u001b[43mRotation\u001b[49m\u001b[43m(\u001b[49m\u001b[43mmisorientation\u001b[49m\u001b[43m)\u001b[49m\u001b[38;5;241m.\u001b[39mdot_outer(symmetry)\n",
      "File \u001b[1;32m_rotation.pyx:832\u001b[0m, in \u001b[0;36mscipy.spatial.transform._rotation.Rotation.__init__\u001b[1;34m()\u001b[0m\n",
      "\u001b[1;31mValueError\u001b[0m: setting an array element with a sequence."
     ]
    }
   ],
   "source": [
    "from orix.quaternion.orientation import _get_unique_symmetry_elements\n",
    "\n",
    "symmetry = _get_unique_symmetry_elements(x_ori.symmetry, ref_ori.symmetry)\n",
    "misorientation = ref_ori * ~x_ori\n",
    "all_dot_products = Rotation(misorientation).dot_outer(symmetry)"
   ]
  },
  {
   "cell_type": "code",
   "execution_count": 206,
   "metadata": {},
   "outputs": [
    {
     "data": {
      "text/plain": [
       "array([0.76846065])"
      ]
     },
     "execution_count": 206,
     "metadata": {},
     "output_type": "execute_result"
    }
   ],
   "source": [
    "ref_ori.unit.dot(crystalmap[40, 30].orientations.unit)"
   ]
  },
  {
   "cell_type": "code",
   "execution_count": 205,
   "metadata": {},
   "outputs": [
    {
     "data": {
      "text/plain": [
       "array([[79.56828524]])"
      ]
     },
     "execution_count": 205,
     "metadata": {},
     "output_type": "execute_result"
    }
   ],
   "source": [
    "ref_ori.angle_with_outer(crystalmap[40, 30].orientations, degrees=True)"
   ]
  },
  {
   "cell_type": "code",
   "execution_count": 197,
   "metadata": {},
   "outputs": [
    {
     "data": {
      "text/plain": [
       "Orientation (1,) mmm\n",
       "[[0.103  0.7685 0.6087 0.1686]]"
      ]
     },
     "execution_count": 197,
     "metadata": {},
     "output_type": "execute_result"
    }
   ],
   "source": [
    "crystalmap[40, 30].orientations"
   ]
  },
  {
   "cell_type": "code",
   "execution_count": 103,
   "metadata": {},
   "outputs": [
    {
     "ename": "ValueError",
     "evalue": "cannot reshape array of size 1572 into shape (81,41)",
     "output_type": "error",
     "traceback": [
      "\u001b[1;31m---------------------------------------------------------------------------\u001b[0m",
      "\u001b[1;31mValueError\u001b[0m                                Traceback (most recent call last)",
      "Cell \u001b[1;32mIn[103], line 3\u001b[0m\n\u001b[0;32m      1\u001b[0m fig, ax \u001b[38;5;241m=\u001b[39m plt\u001b[38;5;241m.\u001b[39msubplots(\u001b[38;5;241m1\u001b[39m, \u001b[38;5;241m1\u001b[39m, figsize\u001b[38;5;241m=\u001b[39m(\u001b[38;5;241m5\u001b[39m, \u001b[38;5;241m5\u001b[39m), dpi\u001b[38;5;241m=\u001b[39m\u001b[38;5;241m200\u001b[39m)\n\u001b[1;32m----> 3\u001b[0m ax\u001b[38;5;241m.\u001b[39mimshow(\u001b[43mrgb_au\u001b[49m\u001b[38;5;241;43m.\u001b[39;49m\u001b[43mreshape\u001b[49m\u001b[43m(\u001b[49m\u001b[43mtest\u001b[49m\u001b[38;5;241;43m.\u001b[39;49m\u001b[43mmap\u001b[49m\u001b[38;5;241;43m.\u001b[39;49m\u001b[43mmap_shape\u001b[49m\u001b[43m)\u001b[49m)\n\u001b[0;32m      5\u001b[0m plt\u001b[38;5;241m.\u001b[39mshow()\n",
      "\u001b[1;31mValueError\u001b[0m: cannot reshape array of size 1572 into shape (81,41)"
     ]
    }
   ],
   "source": [
    "fig, ax = plt.subplots(1, 1, figsize=(5, 5), dpi=200)\n",
    "\n",
    "ax.imshow(rgb_au.reshape(test.map.map_shape))\n",
    "\n",
    "fig.show()"
   ]
  },
  {
   "cell_type": "code",
   "execution_count": 86,
   "metadata": {},
   "outputs": [
    {
     "data": {
      "text/plain": [
       "3321"
      ]
     },
     "execution_count": 86,
     "metadata": {},
     "output_type": "execute_result"
    }
   ],
   "source": [
    "len(phase_id)"
   ]
  },
  {
   "cell_type": "code",
   "execution_count": 88,
   "metadata": {},
   "outputs": [
    {
     "ename": "AttributeError",
     "evalue": "'CrystalMap' object has no attribute 'dp'",
     "output_type": "error",
     "traceback": [
      "\u001b[1;31m---------------------------------------------------------------------------\u001b[0m",
      "\u001b[1;31mAttributeError\u001b[0m                            Traceback (most recent call last)",
      "Cell \u001b[1;32mIn[88], line 1\u001b[0m\n\u001b[1;32m----> 1\u001b[0m \u001b[43mcrystalmap\u001b[49m\u001b[38;5;241;43m.\u001b[39;49m\u001b[43mplot\u001b[49m\u001b[43m(\u001b[49m\u001b[38;5;124;43m'\u001b[39;49m\u001b[38;5;124;43mdp\u001b[39;49m\u001b[38;5;124;43m'\u001b[39;49m\u001b[43m)\u001b[49m\n",
      "File \u001b[1;32mc:\\Users\\emusterma\\AppData\\Local\\anaconda3\\envs\\sXRDMap-py311-1.0\\Lib\\site-packages\\orix\\crystal_map\\crystal_map.py:1033\u001b[0m, in \u001b[0;36mCrystalMap.plot\u001b[1;34m(self, value, overlay, scalebar, scalebar_properties, legend, legend_properties, colorbar, colorbar_label, colorbar_properties, remove_padding, return_figure, figure_kwargs, **kwargs)\u001b[0m\n\u001b[0;32m   1030\u001b[0m     figure_kwargs \u001b[38;5;241m=\u001b[39m \u001b[38;5;28mdict\u001b[39m()\n\u001b[0;32m   1032\u001b[0m fig, ax \u001b[38;5;241m=\u001b[39m plt\u001b[38;5;241m.\u001b[39msubplots(subplot_kw\u001b[38;5;241m=\u001b[39m\u001b[38;5;28mdict\u001b[39m(projection\u001b[38;5;241m=\u001b[39m\u001b[38;5;124m\"\u001b[39m\u001b[38;5;124mplot_map\u001b[39m\u001b[38;5;124m\"\u001b[39m), \u001b[38;5;241m*\u001b[39m\u001b[38;5;241m*\u001b[39mfigure_kwargs)\n\u001b[1;32m-> 1033\u001b[0m \u001b[43max\u001b[49m\u001b[38;5;241;43m.\u001b[39;49m\u001b[43mplot_map\u001b[49m\u001b[43m(\u001b[49m\n\u001b[0;32m   1034\u001b[0m \u001b[43m    \u001b[49m\u001b[38;5;28;43mself\u001b[39;49m\u001b[43m,\u001b[49m\n\u001b[0;32m   1035\u001b[0m \u001b[43m    \u001b[49m\u001b[43mvalue\u001b[49m\u001b[38;5;241;43m=\u001b[39;49m\u001b[43mvalue\u001b[49m\u001b[43m,\u001b[49m\n\u001b[0;32m   1036\u001b[0m \u001b[43m    \u001b[49m\u001b[43mscalebar\u001b[49m\u001b[38;5;241;43m=\u001b[39;49m\u001b[43mscalebar\u001b[49m\u001b[43m,\u001b[49m\n\u001b[0;32m   1037\u001b[0m \u001b[43m    \u001b[49m\u001b[43mscalebar_properties\u001b[49m\u001b[38;5;241;43m=\u001b[39;49m\u001b[43mscalebar_properties\u001b[49m\u001b[43m,\u001b[49m\n\u001b[0;32m   1038\u001b[0m \u001b[43m    \u001b[49m\u001b[43mlegend\u001b[49m\u001b[38;5;241;43m=\u001b[39;49m\u001b[43mlegend\u001b[49m\u001b[43m,\u001b[49m\n\u001b[0;32m   1039\u001b[0m \u001b[43m    \u001b[49m\u001b[43mlegend_properties\u001b[49m\u001b[38;5;241;43m=\u001b[39;49m\u001b[43mlegend_properties\u001b[49m\u001b[43m,\u001b[49m\n\u001b[0;32m   1040\u001b[0m \u001b[43m    \u001b[49m\u001b[38;5;241;43m*\u001b[39;49m\u001b[38;5;241;43m*\u001b[39;49m\u001b[43mkwargs\u001b[49m\u001b[43m,\u001b[49m\n\u001b[0;32m   1041\u001b[0m \u001b[43m\u001b[49m\u001b[43m)\u001b[49m\n\u001b[0;32m   1042\u001b[0m \u001b[38;5;28;01mif\u001b[39;00m overlay \u001b[38;5;129;01mis\u001b[39;00m \u001b[38;5;129;01mnot\u001b[39;00m \u001b[38;5;28;01mNone\u001b[39;00m:\n\u001b[0;32m   1043\u001b[0m     ax\u001b[38;5;241m.\u001b[39madd_overlay(\u001b[38;5;28mself\u001b[39m, overlay)\n",
      "File \u001b[1;32mc:\\Users\\emusterma\\AppData\\Local\\anaconda3\\envs\\sXRDMap-py311-1.0\\Lib\\site-packages\\orix\\plot\\crystal_map_plot.py:166\u001b[0m, in \u001b[0;36mCrystalMapPlot.plot_map\u001b[1;34m(self, crystal_map, value, scalebar, scalebar_properties, legend, legend_properties, override_status_bar, **kwargs)\u001b[0m\n\u001b[0;32m    164\u001b[0m         patches\u001b[38;5;241m.\u001b[39mappend(mpatches\u001b[38;5;241m.\u001b[39mPatch(color\u001b[38;5;241m=\u001b[39mp\u001b[38;5;241m.\u001b[39mcolor_rgb, label\u001b[38;5;241m=\u001b[39mp\u001b[38;5;241m.\u001b[39mname))\n\u001b[0;32m    165\u001b[0m \u001b[38;5;28;01melse\u001b[39;00m:  \u001b[38;5;66;03m# Create masked array of correct shape\u001b[39;00m\n\u001b[1;32m--> 166\u001b[0m     data \u001b[38;5;241m=\u001b[39m \u001b[43mcrystal_map\u001b[49m\u001b[38;5;241;43m.\u001b[39;49m\u001b[43mget_map_data\u001b[49m\u001b[43m(\u001b[49m\u001b[43mvalue\u001b[49m\u001b[43m)\u001b[49m\n\u001b[0;32m    168\u001b[0m \u001b[38;5;66;03m# Remove 1-dimensions\u001b[39;00m\n\u001b[0;32m    169\u001b[0m data \u001b[38;5;241m=\u001b[39m np\u001b[38;5;241m.\u001b[39msqueeze(data)\n",
      "File \u001b[1;32mc:\\Users\\emusterma\\AppData\\Local\\anaconda3\\envs\\sXRDMap-py311-1.0\\Lib\\site-packages\\orix\\crystal_map\\crystal_map.py:892\u001b[0m, in \u001b[0;36mCrystalMap.get_map_data\u001b[1;34m(self, item, decimals, fill_value)\u001b[0m\n\u001b[0;32m    890\u001b[0m             array[phase_mask] \u001b[38;5;241m=\u001b[39m \u001b[38;5;28mself\u001b[39m[phase_mask_in_data]\u001b[38;5;241m.\u001b[39morientations\u001b[38;5;241m.\u001b[39mto_euler()\n\u001b[0;32m    891\u001b[0m \u001b[38;5;28;01melse\u001b[39;00m:  \u001b[38;5;66;03m# String\u001b[39;00m\n\u001b[1;32m--> 892\u001b[0m     data \u001b[38;5;241m=\u001b[39m \u001b[38;5;28;43mself\u001b[39;49m\u001b[38;5;241;43m.\u001b[39;49m\u001b[38;5;21;43m__getattr__\u001b[39;49m\u001b[43m(\u001b[49m\u001b[43mitem\u001b[49m\u001b[43m)\u001b[49m\n\u001b[0;32m    893\u001b[0m     \u001b[38;5;28;01mif\u001b[39;00m data \u001b[38;5;129;01mis\u001b[39;00m \u001b[38;5;28;01mNone\u001b[39;00m:\n\u001b[0;32m    894\u001b[0m         \u001b[38;5;28;01mraise\u001b[39;00m \u001b[38;5;167;01mValueError\u001b[39;00m(\u001b[38;5;124mf\u001b[39m\u001b[38;5;124m\"\u001b[39m\u001b[38;5;132;01m{\u001b[39;00mitem\u001b[38;5;132;01m}\u001b[39;00m\u001b[38;5;124m is \u001b[39m\u001b[38;5;132;01m{\u001b[39;00mdata\u001b[38;5;132;01m}\u001b[39;00m\u001b[38;5;124m.\u001b[39m\u001b[38;5;124m\"\u001b[39m)\n",
      "File \u001b[1;32mc:\\Users\\emusterma\\AppData\\Local\\anaconda3\\envs\\sXRDMap-py311-1.0\\Lib\\site-packages\\orix\\crystal_map\\crystal_map.py:600\u001b[0m, in \u001b[0;36mCrystalMap.__getattr__\u001b[1;34m(self, item)\u001b[0m\n\u001b[0;32m    598\u001b[0m     \u001b[38;5;28;01mreturn\u001b[39;00m \u001b[38;5;28mself\u001b[39m\u001b[38;5;241m.\u001b[39mprop[item]\n\u001b[0;32m    599\u001b[0m \u001b[38;5;28;01melse\u001b[39;00m:\n\u001b[1;32m--> 600\u001b[0m     \u001b[38;5;28;01mreturn\u001b[39;00m \u001b[38;5;28;43mobject\u001b[39;49m\u001b[38;5;241;43m.\u001b[39;49m\u001b[38;5;21;43m__getattribute__\u001b[39;49m\u001b[43m(\u001b[49m\u001b[38;5;28;43mself\u001b[39;49m\u001b[43m,\u001b[49m\u001b[43m \u001b[49m\u001b[43mitem\u001b[49m\u001b[43m)\u001b[49m\n",
      "\u001b[1;31mAttributeError\u001b[0m: 'CrystalMap' object has no attribute 'dp'"
     ]
    }
   ],
   "source": [
    "crystalmap.plot('dp')"
   ]
  }
 ],
 "metadata": {
  "kernelspec": {
   "display_name": "Python 3",
   "language": "python",
   "name": "python3"
  },
  "language_info": {
   "codemirror_mode": {
    "name": "ipython",
    "version": 3
   },
   "file_extension": ".py",
   "mimetype": "text/x-python",
   "name": "python",
   "nbconvert_exporter": "python",
   "pygments_lexer": "ipython3",
   "version": "3.11.8"
  }
 },
 "nbformat": 4,
 "nbformat_minor": 2
}
