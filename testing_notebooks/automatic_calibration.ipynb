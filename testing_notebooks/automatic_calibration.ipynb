{
 "cells": [
  {
   "cell_type": "code",
   "execution_count": 1,
   "metadata": {},
   "outputs": [],
   "source": [
    "import os\n",
    "import matplotlib.pyplot as plt\n",
    "import numpy as np\n",
    "import skimage.io as io\n",
    "from tqdm import tqdm\n",
    "%matplotlib qt"
   ]
  },
  {
   "cell_type": "code",
   "execution_count": 116,
   "metadata": {},
   "outputs": [],
   "source": [
    "from xrdmaptools.utilities.utilities import arbitrary_center_of_mass\n",
    "\n",
    "fit_centers = np.asarray([[x0, y0] for x0, y0, _, _ in fit_params])\n",
    "fit_radii = [R0 for _, _, R0, _ in fit_params]\n",
    "fit_weights = [np.sum(np.array(blob_sizes)[blob_nums]) for _, _, _, blob_nums in fit_params]\n",
    "mean_arc_center = arbitrary_center_of_mass(fit_weights, *fit_centers.T)\n",
    "mean_arc_radius = arbitrary_center_of_mass(fit_weights, fit_radii)"
   ]
  },
  {
   "cell_type": "code",
   "execution_count": 117,
   "metadata": {},
   "outputs": [],
   "source": [
    "import matplotlib\n",
    "from matplotlib import cm\n",
    "\n",
    "fig, ax = plt.subplots(1, 1, figsize=(5, 5), dpi=200)\n",
    "\n",
    "im = ax.imshow(calib_img)\n",
    "fig.colorbar(im, ax=ax)\n",
    "\n",
    "norm = matplotlib.colors.Normalize(vmin=0, vmax=(len(fit_params)))\n",
    "mapper = cm.scalerMappable(norm=norm, cmap='tab20')\n",
    "circle_colors = [(r, g, b) for r, g, b, a in mapper.to_rgba(range(len(fit_params)))]\n",
    "\n",
    "for i, param in enumerate(fit_params):\n",
    "\n",
    "    if fit_weights[i] < np.max(fit_weights) * 0.25:\n",
    "        continue\n",
    "\n",
    "    x0, y0, R0, _ = param\n",
    "\n",
    "    #circles.append(plt.Circle((x0, y0), R0, color='b', fill=True))\n",
    "    ax.add_patch(plt.Circle((x0, y0), R0, color=circle_colors[i], fill=False))\n",
    "    #ax.scatter(x0, y0, color=circle_colors[i], s=10)\n",
    "\n",
    "fig.show()"
   ]
  },
  {
   "cell_type": "code",
   "execution_count": null,
   "metadata": {},
   "outputs": [],
   "source": [
    "# Attempt to connect smaller isolated blobs\n",
    "xc, yc = mean_arc_center\n",
    "\n",
    "minor_blobs = []\n",
    "dropped_fits = []\n",
    "for i, weight in enumerate(fit_weights):\n",
    "    \n",
    "    if weight < np.max(fit_weights) * 0.25:\n",
    "        _, _, _, blob_nums = fit_params[i]\n",
    "        minor_blobs.extend(blob_nums)\n",
    "        dropped_fits.append(i)\n",
    "\n",
    "# Drop insignificant fits\n",
    "for index in sorted(dropped_fits, reverse=True):\n",
    "    del fit_params[index]\n",
    "    del fit_radii[index]\n",
    "    del fit_weights[index]\n",
    "fit_centers = np.delete(fit_centers, dropped_fits, axis=0)"
   ]
  },
  {
   "cell_type": "code",
   "execution_count": 121,
   "metadata": {},
   "outputs": [
    {
     "name": "stdout",
     "output_type": "stream",
     "text": [
      "insignificant\n",
      "673\n",
      "insignificant\n",
      "466\n",
      "insignificant\n",
      "318\n"
     ]
    }
   ],
   "source": [
    "candidate_blobs = []\n",
    "candidate_radii = []\n",
    "for i, minor_blob in enumerate(minor_blobs):\n",
    "    \n",
    "    # Find approximate radius\n",
    "    y, x = np.array(np.where(blob_image == minor_blob))\n",
    "    Ri = np.sqrt((x - xc)**2 + (y - yc)**2)\n",
    "    minor_radius = np.mean(Ri)\n",
    "\n",
    "    # Check for first pass\n",
    "    if len(candidate_radii) < 1:\n",
    "        candidate_radii.append(minor_radius)\n",
    "        candidate_blobs.append([minor_blob])\n",
    "        continue\n",
    "    \n",
    "    FITS_OTHER_ARC = False\n",
    "    for ii, R0 in enumerate(candidate_radii):\n",
    "        if np.abs(minor_radius - R0) < 0.05 * R0:\n",
    "            candidate_blobs[ii].append(minor_blobs[i])\n",
    "            FITS_OTHER_ARC = True\n",
    "            break\n",
    "    \n",
    "    if FITS_OTHER_ARC:\n",
    "        continue\n",
    "    else:\n",
    "        candidate_radii.append(minor_radius)\n",
    "        candidate_blobs.append([minor_blob])\n",
    "\n",
    "candidate_weights = [np.sum(np.array(blob_sizes)[blob_nums]) for blob_nums in candidate_blobs]\n",
    "\n",
    "\n",
    "candidate_fits = []\n",
    "for i in range(len(candidate_radii)):\n",
    "    # Add a cut-off to ignore arcs that are too insignificant\n",
    "    # Blobs that are not well-aligned along an arc should not contribute significantly\n",
    "    if candidate_weights[i] < np.mean(fit_weights) * 0.25:\n",
    "        print('insignificant')\n",
    "        print(candidate_weights[i])\n",
    "        #continue\n",
    "\n",
    "\n",
    "    # Combine minor blobs and fit arc\n",
    "    combined_blobs = np.sum([blob_image == num for num in candidate_blobs[i]], axis=0)\n",
    "    y, x = np.array(np.where(combined_blobs))\n",
    "    x0, y0, R0 = leastsq_arc(x, y)\n",
    "\n",
    "    # Check for reasonable center\n",
    "    dist = np.sqrt((x0 - xc)**2 + (y0 - yc)**2)\n",
    "    if dist > 0.85 * mean_arc_radius[0]:\n",
    "        print('bad center')\n",
    "        continue\n",
    "\n",
    "    candidate_fits.append([x0, y0, R0, candidate_blobs[i]])"
   ]
  },
  {
   "cell_type": "code",
   "execution_count": 122,
   "metadata": {},
   "outputs": [],
   "source": [
    "fig, ax = plt.subplots(1, 1, figsize=(5, 5), dpi=200)\n",
    "\n",
    "im = ax.imshow(calib_img)\n",
    "fig.colorbar(im, ax=ax)\n",
    "\n",
    "for param in fit_params:\n",
    "    x0, y0, R0, _ = param\n",
    "\n",
    "    #circles.append(plt.Circle((x0, y0), R0, color='b', fill=True))\n",
    "    ax.add_patch(plt.Circle((x0, y0), R0, color='r', fill=False))\n",
    "    #ax.scatter(x0, y0, c='r', s=10)\n",
    "\n",
    "for param in candidate_fits:\n",
    "    x0, y0, R0, _ = param\n",
    "\n",
    "    #circles.append(plt.Circle((x0, y0), R0, color='b', fill=True))\n",
    "    ax.add_patch(plt.Circle((x0, y0), R0, color='g', fill=False))\n",
    "    #ax.scatter(x0, y0, c='g', s=10)\n",
    "\n",
    "fig.show()"
   ]
  },
  {
   "cell_type": "code",
   "execution_count": 126,
   "metadata": {},
   "outputs": [],
   "source": [
    "arc_image = np.zeros_like(blob_image)\n",
    "\n",
    "final_fits = fit_params + candidate_fits\n",
    "\n",
    "arc_centers = np.asarray([[x0, y0] for x0, y0, _, _ in final_fits])\n",
    "arc_radii = [R0 for _, _, R0, _ in final_fits]\n",
    "arc_sizes = [np.sum(np.array(blob_sizes)[blob_nums]) for _, _, _, blob_nums in final_fits]\n",
    "mean_arc_center = arbitrary_center_of_mass(arc_sizes, *arc_centers.T)\n",
    "\n",
    "for i, (radius, fit) in enumerate(sorted(zip(arc_radii, final_fits))):\n",
    "    x0, y0, R0, blob_nums = fit\n",
    "    for num in blob_nums:\n",
    "        arc_image[blob_image == num] = i + 1"
   ]
  },
  {
   "cell_type": "code",
   "execution_count": 128,
   "metadata": {},
   "outputs": [],
   "source": [
    "plot_image(arc_image)"
   ]
  },
  {
   "cell_type": "code",
   "execution_count": 76,
   "metadata": {},
   "outputs": [],
   "source": [
    "from xrdmaptools.reflections.spot_blob_search import spot_search\n",
    "from xrdmaptools.utilities.image_corrections import rescale_array\n",
    "\n",
    "spots = spot_search(rescale_array(calib_img.astype(np.float32), arr_min=0, upper=1),\n",
    "                    expansion=0,\n",
    "                    threshold_method='minimum',\n",
    "                    size=0,\n",
    "                    multiplier=2,\n",
    "                    plotme=True)"
   ]
  },
  {
   "cell_type": "code",
   "execution_count": 77,
   "metadata": {},
   "outputs": [],
   "source": [
    "x_lst, y_lst, ring_lst = [], [], []\n",
    "for spot in spots[0]:\n",
    "    if int(arc_image[*spot]) != 0:\n",
    "        x_lst.append(spot[0])\n",
    "        y_lst.append(spot[1])\n",
    "        ring_lst.append(int(arc_image[*spot]))\n",
    "\n",
    "data = np.array([x_lst, y_lst, ring_lst]).T"
   ]
  },
  {
   "cell_type": "code",
   "execution_count": 94,
   "metadata": {},
   "outputs": [],
   "source": [
    "data[:, -1] += 1"
   ]
  },
  {
   "cell_type": "code",
   "execution_count": 95,
   "metadata": {},
   "outputs": [],
   "source": [
    "from pyFAI.azimuthalIntegrator import AzimuthalIntegrator\n",
    "from pyFAI.calibrant import Calibrant\n",
    "from pyFAI.geometryRefinement import GeometryRefinement\n",
    "\n",
    "from xrdmaptools.geometry.area_detectors import Dexela2315\n",
    "from xrdmaptools.utilities.math import energy_2_wavelength\n",
    "\n",
    "wavelength = energy_2_wavelength(15) * 1e-10\n",
    "\n",
    "reference_file = 'D:\\\\Musterman_postdoc\\\\zincite_extended.txt'\n",
    "calibrant = Calibrant(filename=reference_file, wavelength=wavelength)\n",
    "dexela2315 = Dexela2315()\n",
    "dexela2315.set_binning(bin_size=(4, 4))\n",
    "\n",
    "#tr = GeometryRefinement(data=data, detector=dexela2315, calibrant=calibrant, wavelength=energy_2_wavelength(18)*1e-10,\n",
    "#                                                dist=0.425, poni1=0.07, poni2=0.16, rot1=0.54, rot2=0, rot3=0)\n",
    "tr = GeometryRefinement(data=data, detector=dexela2315, calibrant=calibrant, wavelength=wavelength)"
   ]
  },
  {
   "cell_type": "code",
   "execution_count": 96,
   "metadata": {},
   "outputs": [
    {
     "data": {
      "text/plain": [
       "0.00014448402210346905"
      ]
     },
     "execution_count": 96,
     "metadata": {},
     "output_type": "execute_result"
    }
   ],
   "source": [
    "tr.refine3(fix='wavelength') # ALWAYS fix wavelength. Refinement yields distances and energy otherwise"
   ]
  },
  {
   "cell_type": "code",
   "execution_count": 97,
   "metadata": {},
   "outputs": [],
   "source": [
    "fig, ax = plt.subplots(2, 1, figsize=(10, 5), dpi=200, sharex=True)\n",
    "\n",
    "res = tr.integrate2D_ng(calib_img, 4096, 360, unit='2th_deg')\n",
    "tth, chi = res[1], res[2]\n",
    "\n",
    "im = ax[0].imshow(res[0], extent=[tth[0], tth[-1], chi[0], chi[-1]], vmin=0, aspect='auto')\n",
    "fig.colorbar(im, ax=ax)\n",
    "ax[0].set_xlabel('Scattering Angle, 2θ [°]')\n",
    "ax[0].set_ylabel('Azimuthal Angle, χ [°]')\n",
    "\n",
    "ax[1].plot(*tr.integrate1D_ng(calib_img, 4096, unit='2th_deg'))\n",
    "\n",
    "\n",
    "fig.show()"
   ]
  },
  {
   "cell_type": "code",
   "execution_count": 98,
   "metadata": {},
   "outputs": [],
   "source": [
    "plt.close('all')"
   ]
  },
  {
   "cell_type": "code",
   "execution_count": null,
   "metadata": {},
   "outputs": [],
   "source": []
  },
  {
   "cell_type": "code",
   "execution_count": null,
   "metadata": {},
   "outputs": [],
   "source": []
  },
  {
   "cell_type": "code",
   "execution_count": null,
   "metadata": {},
   "outputs": [],
   "source": []
  },
  {
   "cell_type": "code",
   "execution_count": 850,
   "metadata": {},
   "outputs": [],
   "source": [
    "arc_radii += np.sqrt(np.subtract(*((arc_centers - mean_arc_center)**2).T))"
   ]
  },
  {
   "cell_type": "code",
   "execution_count": 851,
   "metadata": {},
   "outputs": [
    {
     "data": {
      "text/plain": [
       "array([1013.86849607, 1322.83408748, 1157.60615967, 1250.47249592,\n",
       "       1338.70456918, 1300.73879965, 2365.45003633, 1643.45497526,\n",
       "       1433.27730033, 1809.60298106])"
      ]
     },
     "execution_count": 851,
     "metadata": {},
     "output_type": "execute_result"
    }
   ],
   "source": [
    "arc_radii"
   ]
  },
  {
   "cell_type": "code",
   "execution_count": 852,
   "metadata": {},
   "outputs": [],
   "source": [
    "d_spacings = np.genfromtxt('D:\\\\Musterman_postdoc\\\\zincite_extended.txt')"
   ]
  },
  {
   "cell_type": "code",
   "execution_count": 853,
   "metadata": {},
   "outputs": [],
   "source": [
    "from xrdmaptools.utilities.math import d_2_tth, energy_2_wavelength\n",
    "\n",
    "arc_guess = np.tan(np.radians(d_2_tth(d_spacings, wavelength=energy_2_wavelength(12))))"
   ]
  },
  {
   "cell_type": "code",
   "execution_count": 869,
   "metadata": {},
   "outputs": [
    {
     "data": {
      "text/plain": [
       "array([21.15698695, 22.89426123, 24.08571677, 31.36782168, 37.07293765,\n",
       "       40.94571218, 43.08173403, 44.03524455, 44.71853186, 46.75342327,\n",
       "       49.32679631, 51.87960735, 56.41223446, 58.09402374, 59.44215036,\n",
       "       61.12332697, 63.26485142, 63.84374127, 65.41867221, 66.8365714 ,\n",
       "       69.4406206 , 71.61331304, 73.04839778, 76.2246717 , 77.09473659,\n",
       "       77.6498454 , 79.01926186])"
      ]
     },
     "execution_count": 869,
     "metadata": {},
     "output_type": "execute_result"
    }
   ],
   "source": [
    "d_2_tth(d_spacings, wavelength=energy_2_wavelength(12))"
   ]
  },
  {
   "cell_type": "code",
   "execution_count": 862,
   "metadata": {},
   "outputs": [],
   "source": [
    "from scipy.optimize import curve_fit\n",
    "\n",
    "def vector_transform(vector, scale, shift):\n",
    "    vector = np.asarray(vector)\n",
    "    return vector * scale + shift\n",
    "\n",
    "def vector_transform(vector, a, b, c):\n",
    "    vector = np.asarray(vector)\n",
    "    return a * vector * vector + b * vector + c\n",
    "\n",
    "shift_list = []\n",
    "mse_list = []\n",
    "fit_list = []\n",
    "for ring_shift in range(9):\n",
    "    selected_rings = arc_guess[ring_shift:len(arc_radii) + ring_shift]\n",
    "\n",
    "    popt, pcov = curve_fit(vector_transform, sorted(arc_radii), selected_rings)\n",
    "    mse = np.mean((selected_rings - vector_transform(sorted(arc_radii), *popt))**2)\n",
    "    mse_list.append(mse)\n",
    "    shift_list.append(ring_shift)\n",
    "    fit_list.append(popt)"
   ]
  },
  {
   "cell_type": "code",
   "execution_count": 863,
   "metadata": {},
   "outputs": [
    {
     "data": {
      "text/plain": [
       "[0.009338979622339032,\n",
       " 0.007068774121120808,\n",
       " 0.0028056216530133226,\n",
       " 0.0005341724063492039,\n",
       " 0.0018578795615089283,\n",
       " 0.005151222489066958,\n",
       " 0.009313712804782201,\n",
       " 0.011483903794765507,\n",
       " 0.009964646363425542]"
      ]
     },
     "execution_count": 863,
     "metadata": {},
     "output_type": "execute_result"
    }
   ],
   "source": [
    "mse_list"
   ]
  },
  {
   "cell_type": "code",
   "execution_count": 864,
   "metadata": {},
   "outputs": [],
   "source": [
    "fig, ax = plt.subplots(1,1, figsize=(5, 5), dpi=200)\n",
    "\n",
    "ax.vlines(arc_guess, 0, 1, label='calc', color='k')\n",
    "ax.vlines(vector_transform(sorted(arc_radii), *fit_list[np.argmin(mse_list)]), 0, 1, label='fit', color='r')\n",
    "\n",
    "ax.legend()\n",
    "\n",
    "fig.show()"
   ]
  },
  {
   "cell_type": "code",
   "execution_count": null,
   "metadata": {},
   "outputs": [],
   "source": []
  },
  {
   "cell_type": "code",
   "execution_count": 858,
   "metadata": {},
   "outputs": [
    {
     "data": {
      "text/plain": [
       " message: Optimization terminated successfully.\n",
       " success: True\n",
       "  status: 0\n",
       "     fun: 0.02663957773175754\n",
       "       x: [ 1.448e-03 -1.730e-01]\n",
       "     nit: 3\n",
       "   direc: [[ 1.000e+00  0.000e+00]\n",
       "           [ 7.992e-05 -1.170e-01]]\n",
       "    nfev: 110"
      ]
     },
     "execution_count": 858,
     "metadata": {},
     "output_type": "execute_result"
    }
   ],
   "source": [
    "from scipy.optimize import minimize\n",
    "\n",
    "\n",
    "def vector_transform(vector, scale, shift):\n",
    "    vector = np.asarray(vector)\n",
    "    return vector * scale + shift\n",
    "\n",
    "def fit_vector_error(args):\n",
    "    scale, shift = args\n",
    "    fit_diff = (vector_transform(sorted(arc_radii), scale, shift)[np.newaxis, :]\n",
    "                - arc_guess[:, np.newaxis])\n",
    "    return np.min(fit_diff**2, axis=0).sum()\n",
    "\n",
    "scale_guess = np.mean(arc_guess[:len(arc_radii)] / sorted(arc_radii))\n",
    "scale_guess = 0\n",
    "shift_guess = 0.31\n",
    "shift_guess = 0\n",
    "\n",
    "res = minimize(fit_vector_error, (scale_guess, shift_guess), bounds=((0, None), (None, None)), method='Powell')\n",
    "res"
   ]
  },
  {
   "cell_type": "code",
   "execution_count": 865,
   "metadata": {},
   "outputs": [
    {
     "data": {
      "text/plain": [
       " message: Optimization terminated successfully.\n",
       " success: True\n",
       "  status: 0\n",
       "     fun: 0.020309311791531965\n",
       "       x: [ 5.937e-07  1.202e-03 -9.076e-01]\n",
       "     nit: 2\n",
       "   direc: [[ 1.000e+00  0.000e+00  0.000e+00]\n",
       "           [ 0.000e+00  1.000e+00  0.000e+00]\n",
       "           [ 0.000e+00  0.000e+00  1.000e+00]]\n",
       "    nfev: 90"
      ]
     },
     "execution_count": 865,
     "metadata": {},
     "output_type": "execute_result"
    }
   ],
   "source": [
    "def quadratic_vector_transform(vector, a, b, c):\n",
    "    vector = np.asarray(vector)\n",
    "    return a * vector * vector + b * vector + c\n",
    "\n",
    "def fit_vector_error(args):\n",
    "    a, b, c = args\n",
    "    fit_diff = (quadratic_vector_transform(sorted(arc_radii), a, b, c)[np.newaxis, :]\n",
    "                - arc_guess[:, np.newaxis])\n",
    "    return np.min(fit_diff**2, axis=0).sum()\n",
    "\n",
    "res = minimize(fit_vector_error, (0, 0, 0), bounds=((None, None), (0, None), (None, None)), method='Powell')\n",
    "res"
   ]
  },
  {
   "cell_type": "code",
   "execution_count": 866,
   "metadata": {},
   "outputs": [],
   "source": [
    "fig, ax = plt.subplots(1,1, figsize=(5, 5), dpi=200)\n",
    "\n",
    "ax.vlines(arc_guess, 0, 1, label='calc', color='k')\n",
    "ax.vlines(quadratic_vector_transform(sorted(arc_radii), *res['x']), 0, 1, label='fit', color='r')\n",
    "\n",
    "ax.legend()\n",
    "\n",
    "fig.show()"
   ]
  },
  {
   "cell_type": "code",
   "execution_count": 860,
   "metadata": {},
   "outputs": [],
   "source": [
    "fig, ax = plt.subplots(1,1, figsize=(5, 5), dpi=200)\n",
    "\n",
    "ax.vlines(arc_guess, 0, 1, label='calc', color='k')\n",
    "ax.vlines(vector_transform(sorted(arc_radii), *res['x']), 0, 1, label='fit', color='r')\n",
    "\n",
    "ax.legend()\n",
    "\n",
    "fig.show()"
   ]
  },
  {
   "cell_type": "code",
   "execution_count": 861,
   "metadata": {},
   "outputs": [],
   "source": [
    "from matplotlib.widgets import Slider\n",
    "\n",
    "fig, ax = plt.subplots(1,1, figsize=(5, 5), dpi=200)\n",
    "\n",
    "ax.vlines(tth_guess, 0, 1, label='calc', color='k')\n",
    "lines = ax.vlines(vector_transform(sorted(arc_radii), *res['x']), 0, 1, label='fit', color='r')\n",
    "\n",
    "ax.legend()\n",
    "\n",
    "# Make a vertically oriented slider to control the amplitude\n",
    "axscale = fig.add_axes([0.25, 0.05, 0.65, 0.03])\n",
    "scale_slider = Slider(\n",
    "    ax=axscale,\n",
    "    label=\"Scale\",\n",
    "    valmin=0,\n",
    "    valmax=1e-1,\n",
    "    valinit=1e-2,\n",
    ")\n",
    "\n",
    "# Make a vertically oriented slider to control the amplitude\n",
    "axshift = fig.add_axes([0.25, 0, 0.65, 0.03])\n",
    "shift_slider = Slider(\n",
    "    ax=axshift,\n",
    "    label=\"Shift\",\n",
    "    valmin=-1e2,\n",
    "    valmax=1e2,\n",
    "    valinit=0\n",
    ")\n",
    "\n",
    "def update_segments(LineCollection):\n",
    "    seg = np.asarray(LineCollection.get_segments())\n",
    "    scale = scale_slider.val\n",
    "    shift = shift_slider.val\n",
    "    pos = vector_transform(sorted(arc_radii), scale, shift)\n",
    "    seg[:, 0, 0] = pos\n",
    "    seg[:, 1, 0] = pos\n",
    "    return seg\n",
    "\n",
    "def update(val):\n",
    "    lines.set_segments(update_segments(lines))            \n",
    "    fig.canvas.draw_idle()\n",
    "\n",
    "# register the update function with each slider\n",
    "scale_slider.on_changed(update)\n",
    "shift_slider.on_changed(update)\n",
    "\n",
    "fig.show()"
   ]
  },
  {
   "cell_type": "code",
   "execution_count": 640,
   "metadata": {},
   "outputs": [],
   "source": [
    "plot_image(calc_ratios)"
   ]
  },
  {
   "cell_type": "code",
   "execution_count": null,
   "metadata": {},
   "outputs": [],
   "source": []
  },
  {
   "cell_type": "code",
   "execution_count": 703,
   "metadata": {},
   "outputs": [],
   "source": [
    "measrued_ratios = np.array(sorted(arc_radii))[:, np.newaxis] / np.array(sorted(arc_radii))[np.newaxis, :]\n",
    "q_guess = np.array(sorted(arc_radii))[:, np.newaxis] / np.array(sorted(arc_radii))[np.newaxis, :]"
   ]
  },
  {
   "cell_type": "code",
   "execution_count": 653,
   "metadata": {},
   "outputs": [],
   "source": [
    "from scipy.ndimage import correlate\n",
    "\n",
    "corr = correlate(calc_ratios, measured_ratios, mode='constant', cval=-100)\n",
    "plot_image(corr)"
   ]
  },
  {
   "cell_type": "code",
   "execution_count": 652,
   "metadata": {},
   "outputs": [],
   "source": [
    "from scipy.ndimage import convolve\n",
    "\n",
    "conv = convolve(calc_ratios, measured_ratios, mode='constant', cval=-100)\n",
    "plot_image(conv)"
   ]
  },
  {
   "cell_type": "code",
   "execution_count": 633,
   "metadata": {},
   "outputs": [
    {
     "data": {
      "text/plain": [
       "array([0.44017572, 0.49372161, 0.51908545, 0.53673662, 0.54685997,\n",
       "       0.57916596, 0.62032753, 0.66464039, 0.74430497, 0.77949846,\n",
       "       0.80383704, 0.83820329, 0.89976101, 0.90727005, 0.96593787,\n",
       "       0.98646775, 1.05089315, 1.11289052, 1.21192884])"
      ]
     },
     "execution_count": 633,
     "metadata": {},
     "output_type": "execute_result"
    }
   ],
   "source": [
    "vector_transform(sorted(arc_radii), *res['x'])"
   ]
  },
  {
   "cell_type": "code",
   "execution_count": 617,
   "metadata": {},
   "outputs": [],
   "source": [
    "plot_image(calib_img)"
   ]
  },
  {
   "cell_type": "code",
   "execution_count": null,
   "metadata": {},
   "outputs": [],
   "source": []
  },
  {
   "cell_type": "code",
   "execution_count": null,
   "metadata": {},
   "outputs": [],
   "source": []
  },
  {
   "cell_type": "code",
   "execution_count": 526,
   "metadata": {},
   "outputs": [
    {
     "name": "stdout",
     "output_type": "stream",
     "text": [
      "Center is found at (1402.76, 354.95) with radius 831.0.\n"
     ]
    }
   ],
   "source": [
    "x0, y0, R0 = algebraic_arc(pixels[1], pixels[0])\n",
    "#x0, y0, R0 = leastsq_arc(pixels[1], pixels[0])\n",
    "print(f'Center is found at ({x0:.2f}, {y0:.2f}) with radius {np.round(R0, 0)}.')"
   ]
  },
  {
   "cell_type": "code",
   "execution_count": 525,
   "metadata": {},
   "outputs": [
    {
     "name": "stdout",
     "output_type": "stream",
     "text": [
      "Center is found at (1445.19, 360.94) with radius 873.0.\n"
     ]
    }
   ],
   "source": [
    "#x0, y0, R0 = algebraic_arc(pixels[1], pixels[0])\n",
    "x0, y0, R0 = leastsq_arc(pixels[1], pixels[0])\n",
    "print(f'Center is found at ({x0:.2f}, {y0:.2f}) with radius {np.round(R0, 0)}.')"
   ]
  },
  {
   "cell_type": "code",
   "execution_count": 8,
   "metadata": {},
   "outputs": [],
   "source": [
    "def algebraic_arc(x, y):\n",
    "    # coordinates of the barycenter\n",
    "    x_m = np.mean(x)\n",
    "    y_m = np.mean(y)\n",
    "\n",
    "    # calculation of the reduced coordinates\n",
    "    u = x - x_m\n",
    "    v = y - y_m\n",
    "\n",
    "    # linear system defining the center (uc, vc) in reduced coordinates:\n",
    "    #    Suu * uc +  Suv * vc = (Suuu + Suvv)/2\n",
    "    #    Suv * uc +  Svv * vc = (Suuv + Svvv)/2\n",
    "    Suv  = np.sum(u*v)\n",
    "    Suu  = np.sum(u**2)\n",
    "    Svv  = np.sum(v**2)\n",
    "    Suuv = np.sum(u**2 * v)\n",
    "    Suvv = np.sum(u * v**2)\n",
    "    Suuu = np.sum(u**3)\n",
    "    Svvv = np.sum(v**3)\n",
    "\n",
    "    # Solving the linear system\n",
    "    A = np.array([ [ Suu, Suv ], [Suv, Svv]])\n",
    "    B = np.array([ Suuu + Suvv, Svvv + Suuv ]) / 2.0\n",
    "    uc, vc = np.linalg.solve(A, B)\n",
    "\n",
    "    xc_1 = x_m + uc\n",
    "    yc_1 = y_m + vc\n",
    "\n",
    "    # Calcul des distances au centre (xc_1, yc_1)\n",
    "    Ri_1     = np.sqrt((x - xc_1)**2 + (y - yc_1)**2)\n",
    "    R_1      = np.mean(Ri_1)\n",
    "    residu_1 = np.sum((Ri_1 - R_1)**2)\n",
    "\n",
    "    return xc_1, yc_1, R_1"
   ]
  },
  {
   "cell_type": "code",
   "execution_count": 9,
   "metadata": {},
   "outputs": [],
   "source": [
    "def leastsq_arc(x, y):\n",
    "    from scipy import optimize\n",
    "\n",
    "    def calc_R(xc, yc):\n",
    "        \"\"\" calculate the distance of each 2D points from the center (xc, yc) \"\"\"\n",
    "        return np.sqrt((x - xc)**2 + (y - yc)**2)\n",
    "\n",
    "    def f_2(c):\n",
    "        \"\"\" calculate the algebraic distance between the data points and the mean circle centered at c=(xc, yc) \"\"\"\n",
    "        Ri = calc_R(*c)\n",
    "        return Ri - np.mean(Ri)\n",
    "\n",
    "    center_estimate = np.mean(x), np.mean(y)\n",
    "    center_2, ier = optimize.leastsq(f_2, center_estimate)\n",
    "\n",
    "    xc_2, yc_2 = center_2\n",
    "    Ri_2 = calc_R(*center_2)\n",
    "    R_2 = np.mean(Ri_2)\n",
    "    residu_2 = sum((Ri_2 - R_2)**2)\n",
    "    return xc_2, yc_2, R_2"
   ]
  },
  {
   "cell_type": "code",
   "execution_count": 523,
   "metadata": {},
   "outputs": [
    {
     "data": {
      "text/plain": [
       "1445.1912784768522"
      ]
     },
     "execution_count": 523,
     "metadata": {},
     "output_type": "execute_result"
    }
   ],
   "source": [
    "xc_2"
   ]
  },
  {
   "cell_type": "code",
   "execution_count": null,
   "metadata": {},
   "outputs": [],
   "source": []
  },
  {
   "cell_type": "code",
   "execution_count": null,
   "metadata": {},
   "outputs": [],
   "source": []
  },
  {
   "cell_type": "code",
   "execution_count": 326,
   "metadata": {},
   "outputs": [],
   "source": [
    "pixels = np.array(np.where(minimum_filter(proc_img > 0.5, size=3)))\n",
    "#pixels = peak_local_max(proc_img, threshold_abs=0.5).T"
   ]
  },
  {
   "cell_type": "code",
   "execution_count": 327,
   "metadata": {},
   "outputs": [
    {
     "data": {
      "text/plain": [
       "(2, 10744)"
      ]
     },
     "execution_count": 327,
     "metadata": {},
     "output_type": "execute_result"
    }
   ],
   "source": [
    "pixels.shape"
   ]
  },
  {
   "cell_type": "code",
   "execution_count": 328,
   "metadata": {},
   "outputs": [
    {
     "name": "stdout",
     "output_type": "stream",
     "text": [
      "282\n"
     ]
    }
   ],
   "source": [
    "from xrdmaptools.utilities.utilities import label_nearest_spots\n",
    "\n",
    "out = label_nearest_spots(pixels.T, max_dist=5)\n",
    "print(len(np.unique(out.T[2])))"
   ]
  },
  {
   "cell_type": "code",
   "execution_count": 329,
   "metadata": {},
   "outputs": [],
   "source": [
    "fig, ax = plot_image(calib_img, vmin=0, vmax=50, return_plot=True)\n",
    "\n",
    "ax.scatter(out.T[1], out.T[0], c=out.T[2], s=1, cmap='tab20')\n",
    "\n",
    "fig.show()"
   ]
  },
  {
   "cell_type": "code",
   "execution_count": 547,
   "metadata": {},
   "outputs": [],
   "source": [
    "fig, ax = plot_image(calib_img, vmin=0, vmax=50, return_plot=True)\n",
    "\n",
    "ring_mask = out.T[2] == 25\n",
    "ax.scatter(out.T[1][ring_mask], out.T[0][ring_mask], c=out.T[2][ring_mask], s=1, cmap='jet_r')\n",
    "\n",
    "fig.show()"
   ]
  },
  {
   "cell_type": "code",
   "execution_count": null,
   "metadata": {},
   "outputs": [],
   "source": []
  },
  {
   "cell_type": "code",
   "execution_count": 260,
   "metadata": {},
   "outputs": [],
   "source": [
    "from xrdmaptools.reflections.spot_blob_search import spot_search\n",
    "from xrdmaptools.utilities.image_corrections import rescale_array\n",
    "\n",
    "spots = spot_search(rescale_array(calib_img.astype(np.float32), arr_min=0, upper=1), expansion=0, threshold_method='minimum', size=0, multiplier=2, plotme=True)"
   ]
  },
  {
   "cell_type": "code",
   "execution_count": 261,
   "metadata": {},
   "outputs": [
    {
     "name": "stdout",
     "output_type": "stream",
     "text": [
      "351\n"
     ]
    }
   ],
   "source": [
    "out = label_nearest_spots(spots[0], max_dist=10)\n",
    "print(len(np.unique(out.T[2])))"
   ]
  },
  {
   "cell_type": "code",
   "execution_count": 259,
   "metadata": {},
   "outputs": [],
   "source": [
    "fig, ax = plot_image(calib_img, vmin=0, vmax=50, return_plot=True)\n",
    "\n",
    "ax.scatter(out.T[1], out.T[0], c=out.T[2], s=5, cmap='tab20')\n",
    "\n",
    "fig.show()"
   ]
  },
  {
   "cell_type": "code",
   "execution_count": null,
   "metadata": {},
   "outputs": [],
   "source": []
  },
  {
   "cell_type": "code",
   "execution_count": 189,
   "metadata": {},
   "outputs": [
    {
     "name": "stdout",
     "output_type": "stream",
     "text": [
      "307\n"
     ]
    }
   ],
   "source": [
    "out = label_nearest_spots(spots[0], max_dist=5)\n",
    "print(len(np.unique(out.T[2])))"
   ]
  },
  {
   "cell_type": "code",
   "execution_count": 190,
   "metadata": {},
   "outputs": [],
   "source": [
    "fig, ax = plot_image(calib_img, vmin=0, vmax=50, return_plot=True)\n",
    "\n",
    "ax.scatter(out.T[1], out.T[0], c=out.T[2], s=5, cmap='tab20')\n",
    "\n",
    "fig.show()"
   ]
  },
  {
   "cell_type": "code",
   "execution_count": null,
   "metadata": {},
   "outputs": [],
   "source": []
  },
  {
   "cell_type": "code",
   "execution_count": null,
   "metadata": {},
   "outputs": [],
   "source": []
  },
  {
   "cell_type": "code",
   "execution_count": null,
   "metadata": {},
   "outputs": [],
   "source": []
  },
  {
   "cell_type": "code",
   "execution_count": null,
   "metadata": {},
   "outputs": [],
   "source": []
  },
  {
   "cell_type": "code",
   "execution_count": null,
   "metadata": {},
   "outputs": [],
   "source": []
  },
  {
   "cell_type": "code",
   "execution_count": null,
   "metadata": {},
   "outputs": [],
   "source": []
  },
  {
   "cell_type": "code",
   "execution_count": 44,
   "metadata": {},
   "outputs": [
    {
     "data": {
      "text/plain": [
       "array([[  0.,  89.,   1.],\n",
       "       [  0.,  90.,   1.],\n",
       "       [  0.,  91.,   1.],\n",
       "       ...,\n",
       "       [485., 663.,  17.],\n",
       "       [485., 664.,  17.],\n",
       "       [485., 665.,  17.]])"
      ]
     },
     "execution_count": 44,
     "metadata": {},
     "output_type": "execute_result"
    }
   ],
   "source": [
    "out"
   ]
  },
  {
   "cell_type": "code",
   "execution_count": null,
   "metadata": {},
   "outputs": [],
   "source": []
  },
  {
   "cell_type": "code",
   "execution_count": 33,
   "metadata": {},
   "outputs": [],
   "source": [
    "reference_file = '''C:\\\\Users\\\\emusterma\\\\OneDrive - Brookhaven National Laboratory\\\\Documents\\\\Postdoc\\\\DOE_SCGSR\\\\Data\\\\221128 Beamtime\\\\maps\\\\zincite_extended.txt'''\n",
    "calibrant = Calibrant(filename=reference_file, wavelength=wavelength)\n",
    "dexela2315 = Dexela2315()\n",
    "dexela2315.set_binning(bin_size=(4, 4))\n",
    "\n",
    "#tr = GeometryRefinement(data=data, detector=dexela2315, calibrant=calibrant, wavelength=energy_2_wavelength(18)*1e-10,\n",
    "#                                                dist=0.425, poni1=0.07, poni2=0.16, rot1=0.54, rot2=0, rot3=0)\n",
    "tr = GeometryRefinement(data=data, detector=dexela2315, calibrant=calibrant, wavelength=wavelength)"
   ]
  },
  {
   "cell_type": "code",
   "execution_count": 34,
   "metadata": {},
   "outputs": [
    {
     "name": "stdout",
     "output_type": "stream",
     "text": [
      "[0.21713423606178558, 0.06912313131536871, 0.1719973269265199, 0.6891260297723616, 0.010974966747997314, 0.0] 14.999999999999998\n"
     ]
    }
   ],
   "source": [
    "print(tr.param, tr.energy)"
   ]
  },
  {
   "cell_type": "code",
   "execution_count": 35,
   "metadata": {},
   "outputs": [
    {
     "data": {
      "text/plain": [
       "0.00044931509613461046"
      ]
     },
     "execution_count": 35,
     "metadata": {},
     "output_type": "execute_result"
    }
   ],
   "source": [
    "tr.refine3(fix='wavelength') # ALWAYS fix wavelength. Refinement yields distances and energy otherwise"
   ]
  },
  {
   "cell_type": "code",
   "execution_count": 36,
   "metadata": {},
   "outputs": [
    {
     "name": "stdout",
     "output_type": "stream",
     "text": [
      "[0.36015035216298746, 0.07750011184365128, -0.0005245886019737451, 0.1799899634142498, -0.009077382334506362, -1.8221972238451893e-06] 14.999999999999998\n"
     ]
    }
   ],
   "source": [
    "print(tr.param, tr.energy)"
   ]
  },
  {
   "cell_type": "code",
   "execution_count": 37,
   "metadata": {},
   "outputs": [],
   "source": [
    "res = tr.integrate2D_ng(fixed_img, 1024, 360, unit='2th_deg')\n",
    "tth, chi = res[1], res[2]"
   ]
  },
  {
   "cell_type": "code",
   "execution_count": 38,
   "metadata": {},
   "outputs": [],
   "source": [
    "fig, ax = plt.subplots(2, 1, figsize=(10, 5), dpi=200, sharex=True)\n",
    "\n",
    "res = tr.integrate2D_ng(fixed_img, 4096, 360, unit='2th_deg')\n",
    "tth, chi = res[1], res[2]\n",
    "\n",
    "im = ax[0].imshow(res[0], extent=[tth[0], tth[-1], chi[0], chi[-1]], vmin=0, aspect='auto')\n",
    "fig.colorbar(im, ax=ax)\n",
    "ax[0].set_xlabel('Scattering Angle, 2θ [°]')\n",
    "ax[0].set_ylabel('Azimuthal Angle, χ [°]')\n",
    "\n",
    "ax[1].plot(*tr.integrate1D_ng(fixed_img, 4096, unit='2th_deg'))\n",
    "\n",
    "\n",
    "fig.show()"
   ]
  },
  {
   "cell_type": "code",
   "execution_count": null,
   "metadata": {},
   "outputs": [],
   "source": []
  },
  {
   "cell_type": "code",
   "execution_count": 54,
   "metadata": {},
   "outputs": [
    {
     "name": "stdout",
     "output_type": "stream",
     "text": [
      "Exact parameters:\n",
      "x0, y0, ap, bp, phi = 4 -3.5 7 3 0.7853981633974483\n",
      "Fitted parameters:\n",
      "a, b, c, d, e, f = [ -0.51733144   0.69491003  -0.49946794   6.48425125  -6.25240455\n",
      " -16.0905626 ]\n",
      "x0, y0, ap, bp, e, phi =  3.872598607926932 -3.565090583511025 6.8787781952515274 2.9817110201407613 0.9011703022103111 0.7982484342121114\n"
     ]
    }
   ],
   "source": [
    "import numpy as np\n",
    "import matplotlib.pyplot as plt\n",
    "\n",
    "def cartesian_ellipse(xy, a, b, c, d, e, f):\n",
    "    x = xy[0]\n",
    "    y = xy[1]\n",
    "\n",
    "    return \n",
    "\n",
    "\n",
    "def fit_ellipse(x, y):\n",
    "    \"\"\"\n",
    "\n",
    "    Fit the coefficients a,b,c,d,e,f, representing an ellipse described by\n",
    "    the formula F(x,y) = ax^2 + bxy + cy^2 + dx + ey + f = 0 to the provided\n",
    "    arrays of data points x=[x1, x2, ..., xn] and y=[y1, y2, ..., yn].\n",
    "\n",
    "    Based on the algorithm of Halir and Flusser, \"Numerically stable direct\n",
    "    least squares fitting of ellipses'.\n",
    "\n",
    "\n",
    "    \"\"\"\n",
    "\n",
    "    D1 = np.vstack([x**2, x * y, y**2]).T\n",
    "    D2 = np.vstack([x, y, np.ones(len(x))]).T\n",
    "    S1 = D1.T @ D1\n",
    "    S2 = D1.T @ D2\n",
    "    S3 = D2.T @ D2\n",
    "    T = -np.linalg.inv(S3) @ S2.T\n",
    "    M = S1 + S2 @ T\n",
    "    C = np.array(((0, 0, 2), (0, -1, 0), (2, 0, 0)), dtype=float)\n",
    "    M = np.linalg.inv(C) @ M\n",
    "    eigval, eigvec = np.linalg.eig(M)\n",
    "    con = 4 * eigvec[0]* eigvec[2] - eigvec[1]**2\n",
    "    ak = eigvec[:, np.nonzero(con > 0)[0]]\n",
    "    return np.concatenate((ak, T @ ak)).ravel()\n",
    "\n",
    "\n",
    "def cart_to_pol(coeffs):\n",
    "    \"\"\"\n",
    "\n",
    "    Convert the cartesian conic coefficients, (a, b, c, d, e, f), to the\n",
    "    ellipse parameters, where F(x, y) = ax^2 + bxy + cy^2 + dx + ey + f = 0.\n",
    "    The returned parameters are x0, y0, ap, bp, e, phi, where (x0, y0) is the\n",
    "    ellipse centre; (ap, bp) are the semi-major and semi-minor axes,\n",
    "    respectively; e is the eccentricity; and phi is the rotation of the semi-\n",
    "    major axis from the x-axis.\n",
    "\n",
    "    \"\"\"\n",
    "\n",
    "    # We use the formulas from https://mathworld.wolfram.com/Ellipse.html\n",
    "    # which assumes a cartesian form ax^2 + 2bxy + cy^2 + 2dx + 2fy + g = 0.\n",
    "    # Therefore, rename and scale b, d and f appropriately.\n",
    "    a = coeffs[0]\n",
    "    b = coeffs[1] / 2\n",
    "    c = coeffs[2]\n",
    "    d = coeffs[3] / 2\n",
    "    f = coeffs[4] / 2\n",
    "    g = coeffs[5]\n",
    "\n",
    "    den = b**2 - a*c\n",
    "    if den > 0:\n",
    "        raise ValueError('coeffs do not represent an ellipse: b^2 - 4ac must'\n",
    "                         ' be negative!')\n",
    "\n",
    "    # The location of the ellipse centre.\n",
    "    x0, y0 = (c*d - b*f) / den, (a*f - b*d) / den\n",
    "\n",
    "    num = 2 * (a*f**2 + c*d**2 + g*b**2 - 2*b*d*f - a*c*g)\n",
    "    fac = np.sqrt((a - c)**2 + 4*b**2)\n",
    "    # The semi-major and semi-minor axis lengths (these are not sorted).\n",
    "    ap = np.sqrt(num / den / (fac - a - c))\n",
    "    bp = np.sqrt(num / den / (-fac - a - c))\n",
    "\n",
    "    # Sort the semi-major and semi-minor axis lengths but keep track of\n",
    "    # the original relative magnitudes of width and height.\n",
    "    width_gt_height = True\n",
    "    if ap < bp:\n",
    "        width_gt_height = False\n",
    "        ap, bp = bp, ap\n",
    "\n",
    "    # The eccentricity.\n",
    "    r = (bp/ap)**2\n",
    "    if r > 1:\n",
    "        r = 1/r\n",
    "    e = np.sqrt(1 - r)\n",
    "\n",
    "    # The angle of anticlockwise rotation of the major-axis from x-axis.\n",
    "    if b == 0:\n",
    "        phi = 0 if a < c else np.pi/2\n",
    "    else:\n",
    "        phi = np.arctan((2.*b) / (a - c)) / 2\n",
    "        if a > c:\n",
    "            phi += np.pi/2\n",
    "    if not width_gt_height:\n",
    "        # Ensure that phi is the angle to rotate to the semi-major axis.\n",
    "        phi += np.pi/2\n",
    "    phi = phi % np.pi\n",
    "\n",
    "    return x0, y0, ap, bp, e, phi\n",
    "\n",
    "\n",
    "def get_ellipse_pts(params, npts=100, tmin=0, tmax=2*np.pi):\n",
    "    \"\"\"\n",
    "    Return npts points on the ellipse described by the params = x0, y0, ap,\n",
    "    bp, e, phi for values of the parametric variable t between tmin and tmax.\n",
    "\n",
    "    \"\"\"\n",
    "\n",
    "    x0, y0, ap, bp, e, phi = params\n",
    "    # A grid of the parametric variable, t.\n",
    "    t = np.linspace(tmin, tmax, npts)\n",
    "    x = x0 + ap * np.cos(t) * np.cos(phi) - bp * np.sin(t) * np.sin(phi)\n",
    "    y = y0 + ap * np.cos(t) * np.sin(phi) + bp * np.sin(t) * np.cos(phi)\n",
    "    return x, y\n",
    "\n",
    "\n",
    "if __name__ == '__main__':\n",
    "    # Test the algorithm with an example elliptical arc.\n",
    "    npts = 250\n",
    "    tmin, tmax = np.pi/6, 4 * np.pi/3\n",
    "    x0, y0 = 4, -3.5\n",
    "    ap, bp = 7, 3\n",
    "    phi = np.pi / 4\n",
    "    # Get some points on the ellipse (no need to specify the eccentricity).\n",
    "    x, y = get_ellipse_pts((x0, y0, ap, bp, None, phi), npts, tmin, tmax)\n",
    "    noise = 0.1\n",
    "    x += noise * np.random.normal(size=npts) \n",
    "    y += noise * np.random.normal(size=npts)\n",
    "\n",
    "    coeffs = fit_ellipse(x, y)\n",
    "    print('Exact parameters:')\n",
    "    print('x0, y0, ap, bp, phi =', x0, y0, ap, bp, phi)\n",
    "    print('Fitted parameters:')\n",
    "    print('a, b, c, d, e, f =', coeffs)\n",
    "    x0, y0, ap, bp, e, phi = cart_to_pol(coeffs)\n",
    "    print('x0, y0, ap, bp, e, phi = ', x0, y0, ap, bp, e, phi)\n",
    "\n",
    "    plt.plot(x, y, 'x')     # given points\n",
    "    x, y = get_ellipse_pts((x0, y0, ap, bp, e, phi))\n",
    "    plt.plot(x, y)\n",
    "    fig.show()\n"
   ]
  },
  {
   "cell_type": "code",
   "execution_count": 78,
   "metadata": {},
   "outputs": [],
   "source": [
    "fig, ax = plt.subplots(1, 1, figsize=(10, 5), dpi=200)\n",
    "\n",
    "mask = data[:, 2] == 13\n",
    "x0, y0, ap, bp, e, phi = cart_to_pol(fit_ellipse(data[:, 1][mask], data[:, 0][mask]))\n",
    "x, y = get_ellipse_pts((x0, y0, ap, bp, e, phi))\n",
    "\n",
    "im = ax.imshow(fixed_img)\n",
    "fig.colorbar(im, ax=ax)\n",
    "ax.scatter(data[:, 1][mask], data[:, 0][mask], c='r', s=1)\n",
    "\n",
    "ax.plot(x, y)\n",
    "\n",
    "fig.show()"
   ]
  },
  {
   "cell_type": "code",
   "execution_count": null,
   "metadata": {},
   "outputs": [],
   "source": [
    "def fit_concentric_rings():\n",
    "\n",
    "    \n",
    "\n",
    "    def polar_ellispe_1d(chi, a, e, phi):\n",
    "    # chi is the azimuthal angle\n",
    "    # a is the major axis length\n",
    "    # e is the eccentricity\n",
    "    # phi is the rotation angle...I think...\n",
    "    return a * (1 - (e ** 2)) / (1 - e * np.cos(chi - phi))"
   ]
  },
  {
   "cell_type": "code",
   "execution_count": 136,
   "metadata": {},
   "outputs": [
    {
     "data": {
      "text/plain": [
       "[0, 1, 2, 3, 4]"
      ]
     },
     "execution_count": 136,
     "metadata": {},
     "output_type": "execute_result"
    }
   ],
   "source": [
    "list(range(5))"
   ]
  },
  {
   "cell_type": "code",
   "execution_count": 249,
   "metadata": {},
   "outputs": [],
   "source": [
    "from sklearn.metrics.pairwise import euclidean_distances\n",
    "spots = peak_local_max(fixed_img, threshold_rel=0.001)\n",
    "dist = euclidean_distances(spots)\n",
    "\n",
    "spot_indices = list(range(len(spots)))\n",
    "max_dist = 50\n",
    "max_neighbors = 3\n",
    "\n",
    "dist[dist > max_dist] = np.nan\n",
    "dist[dist == 0] = np.nan\n",
    "\n",
    "data = np.empty((len(spots), 3))\n",
    "data[:] = np.nan\n",
    "data[:, :-1] = spots\n",
    "\n",
    "labels=[0]\n",
    "for i in spot_indices:\n",
    "    connections = dist[i] < max_dist\n",
    "    if sum(connections) > max_neighbors:\n",
    "        connections = dist[i] <= sorted(dist[i][connections])[max_neighbors - 1]\n",
    "    if np.all(np.isnan(data[connections][:, -1])):\n",
    "        for index, con in enumerate(connections):\n",
    "            if con:\n",
    "                data[index, -1] = labels[-1]\n",
    "        labels.append(labels[-1] + 1)\n",
    "    else:\n",
    "        base_label = np.nanmin(data[connections][:, -1])\n",
    "        for index, con in enumerate(connections):\n",
    "            if con:\n",
    "                data[index, -1] = base_label"
   ]
  },
  {
   "cell_type": "code",
   "execution_count": 396,
   "metadata": {},
   "outputs": [],
   "source": [
    "def label_nearest_spots(spots, max_dist=25, max_neighbors=np.inf):\n",
    "    from sklearn.metrics.pairwise import euclidean_distances\n",
    "    dist = euclidean_distances(spots)\n",
    "\n",
    "    spot_indices = list(range(len(spots)))\n",
    "\n",
    "    # Ignore distances greater than bounds\n",
    "    # Ignore same pairs\n",
    "    dist[dist > max_dist] = np.nan\n",
    "    #dist[dist == 0] = np.nan\n",
    "    # Create dataset\n",
    "    data = np.empty((len(spots), 3))\n",
    "    data[:] = np.nan\n",
    "    data[:, :-1] = spots\n",
    "\n",
    "    labels=[0]\n",
    "    for i in spot_indices:\n",
    "        # This seems unecessary...\n",
    "        connections = dist[i] < max_dist\n",
    "\n",
    "        # Useful for connectivity\n",
    "        if sum(connections) > max_neighbors:\n",
    "            connections = dist[i] <= sorted(dist[i][connections])[max_neighbors - 1]\n",
    "            #break\n",
    "            \n",
    "        extra_labels = np.unique(data[connections][:, -1])\n",
    "        extra_labels = extra_labels[~np.isnan(extra_labels)]\n",
    "\n",
    "        # Find new label if all points are unlabeled\n",
    "        if np.all(np.isnan(data[connections][:, -1])):\n",
    "            current_label = labels[-1] + 1\n",
    "            data[connections, -1] = current_label\n",
    "            labels.append(current_label)\n",
    "            #print('New label added')\n",
    "\n",
    "        # Otherwise relabel all to lowest label value\n",
    "        else:\n",
    "            base_label = np.nanmin(data[connections][:, -1])\n",
    "            data[connections, -1] = base_label\n",
    "            current_label = base_label\n",
    "\n",
    "        \n",
    "        # Relabel previous labels if connected with others...\n",
    "        if np.any(extra_labels != current_label):\n",
    "            for extra in extra_labels:\n",
    "                if np.all([extra != current_label, \n",
    "                        not np.isnan(extra), \n",
    "                        extra in labels]):\n",
    "                    #print('I should be here...')\n",
    "                    \n",
    "                    data[[data[:, -1] == extra][0], -1] = current_label\n",
    "                    labels.remove(extra)\n",
    "\n",
    "    data = data.astype(np.int32)\n",
    "    labels = np.array(labels).astype(np.int32)\n",
    "    # labels is not perfectly sequential. Why???\n",
    "    return data"
   ]
  },
  {
   "cell_type": "code",
   "execution_count": 371,
   "metadata": {},
   "outputs": [
    {
     "name": "stdout",
     "output_type": "stream",
     "text": [
      "369\n"
     ]
    }
   ],
   "source": [
    "# Redo to account for different distance values. Currently using pixel differences\n",
    "from sklearn.metrics.pairwise import euclidean_distances\n",
    "dist = euclidean_distances(new_spots)\n",
    "\n",
    "spot_indices = list(range(len(new_spots)))\n",
    "\n",
    "# Ignore distances greater than bounds\n",
    "# Ignore same pairs\n",
    "max_dist = 10\n",
    "max_neighbors = 3\n",
    "dist[dist > max_dist] = np.nan\n",
    "#dist[dist == 0] = np.nan\n",
    "# Create dataset\n",
    "data = np.empty((len(new_spots), 3))\n",
    "data[:] = np.nan\n",
    "data[:, :-1] = new_spots\n",
    "\n",
    "labels=[0]\n",
    "for i in spot_indices:\n",
    "    i = np.random.randint(0, np.max(spot_indices))\n",
    "    # This seems unecessary...\n",
    "    connections = dist[i] < max_dist\n",
    "\n",
    "    # Useful for connectivity\n",
    "    if sum(connections) > max_neighbors:\n",
    "        connections = dist[i] <= sorted(dist[i][connections])[max_neighbors - 1]\n",
    "        #break\n",
    "        \n",
    "    extra_labels = np.unique(data[connections][:, -1])\n",
    "    extra_labels = extra_labels[~np.isnan(extra_labels)]\n",
    "    if len(extra_labels) > 1:\n",
    "       #break\n",
    "       pass\n",
    "\n",
    "    # Find new label if all points are unlabeled\n",
    "    if np.all(np.isnan(data[connections][:, -1])):\n",
    "        current_label = labels[-1] + 1\n",
    "        data[connections, -1] = current_label\n",
    "        labels.append(current_label)\n",
    "        #print('New label added')\n",
    "\n",
    "    # Otherwise relabel all to lowest label value\n",
    "    else:\n",
    "        base_label = np.nanmin(data[connections][:, -1])\n",
    "        data[connections, -1] = base_label\n",
    "        current_label = base_label\n",
    "\n",
    "    \n",
    "    # Relabel previous labels if connected with others...\n",
    "    if np.any(extra_labels != current_label):\n",
    "        for extra in extra_labels:\n",
    "            if np.all([extra != current_label, \n",
    "                       not np.isnan(extra), \n",
    "                       extra in labels]):\n",
    "                #print('I should be here...')\n",
    "                \n",
    "                data[[data[:, -1] == extra][0], -1] = current_label\n",
    "                labels.remove(extra)\n",
    "                #print(f'Relabelled and removed label {extra}.')\n",
    "\n",
    "    #break\n",
    "\n",
    "fig, ax = plt.subplots(1, 1, figsize=(10, 5), dpi=200)\n",
    "\n",
    "im = ax.imshow(fixed_img)\n",
    "fig.colorbar(im, ax=ax)\n",
    "ax.scatter(data[:, 1], data[:, 0], c='k', s=1)\n",
    "ax.scatter(data[:, 1][connections], data[:, 0][connections], c='r', s=1)\n",
    "ax.scatter(data[i, 1], data[i, 0], marker='*', c='w', s=5)\n",
    "\n",
    "fig.show()\n",
    "#data = data.astype(np.int32)\n",
    "#labels = np.array(labels).astype(np.int32)\n",
    "# labels is not perfectly sequential. Why???\n",
    "print(len(np.unique(data[:, -1])))"
   ]
  },
  {
   "cell_type": "code",
   "execution_count": null,
   "metadata": {},
   "outputs": [],
   "source": []
  }
 ],
 "metadata": {
  "kernelspec": {
   "display_name": "Python 3",
   "language": "python",
   "name": "python3"
  },
  "language_info": {
   "codemirror_mode": {
    "name": "ipython",
    "version": 3
   },
   "file_extension": ".py",
   "mimetype": "text/x-python",
   "name": "python",
   "nbconvert_exporter": "python",
   "pygments_lexer": "ipython3",
   "version": "3.11.8"
  }
 },
 "nbformat": 4,
 "nbformat_minor": 2
}
