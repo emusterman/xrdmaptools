{
 "cells": [
  {
   "cell_type": "code",
   "execution_count": 1,
   "metadata": {},
   "outputs": [],
   "source": [
    "import os\n",
    "import h5py\n",
    "import numpy as np\n",
    "from IPython.lib.deepreload import reload\n",
    "import matplotlib.pyplot as plt\n",
    "from collections import OrderedDict\n",
    "import skimage.io as io\n",
    "from tqdm import tqdm\n",
    "from sklearn.metrics.pairwise import euclidean_distances\n",
    "from matplotlib import cm\n",
    "%matplotlib qt"
   ]
  },
  {
   "cell_type": "code",
   "execution_count": 2,
   "metadata": {},
   "outputs": [
    {
     "name": "stderr",
     "output_type": "stream",
     "text": [
      "c:\\Users\\emusterma\\AppData\\Local\\anaconda3\\envs\\sXRDMap-py311-1.0\\Lib\\site-packages\\pyopencl\\cache.py:495: CompilerWarning: Non-empty compiler output encountered. Set the environment variable PYOPENCL_COMPILER_OUTPUT=1 to see more.\n",
      "  _create_built_program_from_source_cached(\n"
     ]
    },
    {
     "name": "stdout",
     "output_type": "stream",
     "text": [
      "Connecting to databrokers...failed.\n"
     ]
    }
   ],
   "source": [
    "import xrdmaptools\n",
    "from xrdmaptools.XRDMap import XRDMap\n",
    "from xrdmaptools.reflections.SpotModels import GaussianFunctions\n",
    "reload(xrdmaptools);"
   ]
  },
  {
   "cell_type": "code",
   "execution_count": null,
   "metadata": {},
   "outputs": [],
   "source": []
  },
  {
   "cell_type": "code",
   "execution_count": 1306,
   "metadata": {},
   "outputs": [
    {
     "data": {
      "text/plain": [
       "array([0.2159456 , 0.10880118, 0.32953855])"
      ]
     },
     "execution_count": 1306,
     "metadata": {},
     "output_type": "execute_result"
    }
   ],
   "source": [
    "rot1, rot2, rot3 = -test.ai.rot1, -test.ai.rot2, test.ai.rot3\n",
    "\n",
    "Rx = np.asarray([[1, 0, 0],\n",
    "                 [0, np.cos(rot1), -np.sin(rot1)],\n",
    "                 [0, np.sin(rot1), np.cos(rot1)]])\n",
    "\n",
    "Ry = np.asarray([[np.cos(rot2), 0, np.sin(rot2)],\n",
    "                 [0, 1, 0],\n",
    "                 [-np.sin(rot2), 0, np.cos(rot2)]])\n",
    "\n",
    "Rz = np.asarray([[np.cos(rot3), -np.sin(rot3), 0],\n",
    "                 [np.sin(rot3), np.cos(rot3), 0],\n",
    "                 [0, 0, 1]])\n",
    "\n",
    "p1 = 0 * test.ai.pixel1 - test.ai.poni1 + (test.ai.pixel1 / 2) # half pixel offset\n",
    "p2 = 0 * test.ai.pixel2 - test.ai.poni2 + (test.ai.pixel2 / 2) # half pixel offset\n",
    "p3 = test.ai.dist\n",
    "pixel = np.array([p1, p2, p3])\n",
    "R = Rz @ Ry @ Rx\n",
    "t1, t2, t3 = R @ pixel\n",
    "xyz = np.array([t3, t1, t2])\n",
    "xyz"
   ]
  },
  {
   "cell_type": "code",
   "execution_count": 1223,
   "metadata": {},
   "outputs": [],
   "source": [
    "t = 500e-6\n",
    "t = 0\n",
    "Rt = np.array([[*R[0], 0],\n",
    "               [*R[1], 0],\n",
    "               [*R[2], t],\n",
    "               [0, 0, 0, 1]])"
   ]
  },
  {
   "cell_type": "code",
   "execution_count": 1224,
   "metadata": {},
   "outputs": [
    {
     "data": {
      "text/plain": [
       "array([-0.1094807,  0.2883125,  0.264839 ,  1.       ])"
      ]
     },
     "execution_count": 1224,
     "metadata": {},
     "output_type": "execute_result"
    }
   ],
   "source": [
    "Rt @ [test.ai.poni1, test.ai.poni2, test.ai.dist, 1]"
   ]
  }
 ],
 "metadata": {
  "kernelspec": {
   "display_name": "Python 3",
   "language": "python",
   "name": "python3"
  },
  "language_info": {
   "codemirror_mode": {
    "name": "ipython",
    "version": 3
   },
   "file_extension": ".py",
   "mimetype": "text/x-python",
   "name": "python",
   "nbconvert_exporter": "python",
   "pygments_lexer": "ipython3",
   "version": "3.11.8"
  }
 },
 "nbformat": 4,
 "nbformat_minor": 2
}
