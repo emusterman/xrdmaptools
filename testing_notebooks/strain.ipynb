{
 "cells": [
  {
   "cell_type": "code",
   "execution_count": 3,
   "metadata": {},
   "outputs": [
    {
     "name": "stderr",
     "output_type": "stream",
     "text": [
      "100%|██████████| 22/22 [00:10<00:00,  2.00it/s]\n"
     ]
    }
   ],
   "source": [
    "import os\n",
    "import matplotlib.pyplot as plt\n",
    "import numpy as np\n",
    "#from tqdm.auto import tqdm\n",
    "from tqdm import tqdm\n",
    "plt.ioff();\n",
    "try:\n",
    "    maindir\n",
    "except NameError:\n",
    "    maindir = os.path.dirname(os.getcwd())\n",
    "for module in tqdm(os.listdir(maindir + '\\\\testing_modules')):\n",
    "    %run -i \"{maindir}\\\\testing_modules\\\\{module}\"\n",
    "base = os.path.dirname(os.path.dirname(maindir)) + '\\\\'\n",
    "plt.ion();\n",
    "np.set_printoptions(suppress=True)\n",
    "plt.close('All')"
   ]
  },
  {
   "cell_type": "code",
   "execution_count": 4,
   "metadata": {},
   "outputs": [],
   "source": [
    "%matplotlib qt\n",
    "import skimage.io as io\n",
    "import xarray as xr\n",
    "from collections import OrderedDict\n",
    "import dask\n",
    "from tqdm.dask import TqdmCallback\n",
    "from sklearn.metrics.pairwise import euclidean_distances\n",
    "from matplotlib import cm"
   ]
  },
  {
   "cell_type": "code",
   "execution_count": 5,
   "metadata": {},
   "outputs": [
    {
     "name": "stdout",
     "output_type": "stream",
     "text": [
      "Loading data from hdf file...\n",
      "Loading most recent images (raw_images)...done!\n",
      "Loading reciprocal positions...done!\n",
      "Instantiating ImageMap...done!\n",
      "XRD Map loaded!\n"
     ]
    }
   ],
   "source": [
    "scanid = 149566\n",
    "filedir = '''D:\\\\Musterman_postdoc\\\\20231109_Musterman\\\\'''\n",
    "filedir = '''C:\\\\Users\\\\emusterma\\\\OneDrive - Brookhaven National Laboratory\\\\Documents\\\\Postdoc\\\\Data\\\\Condensed Datasets\\\\'''\n",
    "h5_filename = f'scan{scanid}_xrd.h5'\n",
    "\n",
    "test = XRDMap.from_hdf(h5_filename, wd=filedir)"
   ]
  },
  {
   "cell_type": "code",
   "execution_count": 10,
   "metadata": {},
   "outputs": [],
   "source": [
    "cif_dir = '''C:\\\\Users\\\\emusterma\\\\OneDrive - Brookhaven National Laboratory\\\\Documents\\\\Postdoc\\\\Literature\\\\CIF\\\\'''\n",
    "test.clear_phases()\n",
    "test.load_phase('AMCSD\\\\Silicon_0011243.cif', filedir=cif_dir, phase_name=\"silicon\")\n",
    "silicon = test.phases['silicon']\n",
    "test.load_phase('AMCSD\\\\Corundum_0009327.cif', filedir=cif_dir, phase_name=\"corundum\")\n",
    "corundum = test.phases['corundum']\n",
    "test.load_phase('AMCSD\\\\Zincite_0011555.cif', filedir=cif_dir, phase_name=\"zincite\")\n",
    "zincite = test.phases['zincite']\n"
   ]
  },
  {
   "cell_type": "code",
   "execution_count": 11,
   "metadata": {},
   "outputs": [],
   "source": [
    "all_hkls, all_qs, all_fs = generate_reciprocal_lattice(test.phases['zincite'], tth_range=(np.min(test.tth_arr), np.max(test.tth_arr)))\n",
    "\n",
    "fig, ax = plt.subplots(1, 1, figsize=(5, 5), dpi=200, subplot_kw={'projection':'3d'})\n",
    "\n",
    "ax.scatter(*np.asarray(all_qs).T, c='k', s=all_fs/20)\n",
    "ax.scatter(0, 0, 0, c='k', s=10)\n",
    "\n",
    "'''# Plot full Ewald sphere\n",
    "u = np.linspace(0, 2 * np.pi, 100)\n",
    "v = np.linspace(0, np.pi, 100)\n",
    "radius = 2 * np.pi / test.wavelength\n",
    "x =  radius * np.outer(np.cos(u), np.sin(v))\n",
    "y = radius * np.outer(np.sin(u), np.sin(v))\n",
    "z = radius * np.outer(np.ones(np.size(u)), np.cos(v))\n",
    "ax.plot_surface(x, y, z - radius, alpha=0.2, color='k', label='Ewald sphere')'''\n",
    "\n",
    "ax.set_xlabel('qx [Å⁻¹]')\n",
    "ax.set_ylabel('qy [Å⁻¹]')\n",
    "ax.set_zlabel('qz [Å⁻¹]')\n",
    "ax.set_aspect('equal')\n",
    "\n",
    "plt.show()"
   ]
  },
  {
   "cell_type": "code",
   "execution_count": 18,
   "metadata": {},
   "outputs": [
    {
     "data": {
      "text/plain": [
       "array([1.15697522, 1.15697522, 1.15697522])"
      ]
     },
     "execution_count": 18,
     "metadata": {},
     "output_type": "execute_result"
    }
   ],
   "source": [
    "silicon.Q(1, 1, 1)"
   ]
  },
  {
   "cell_type": "code",
   "execution_count": 76,
   "metadata": {},
   "outputs": [],
   "source": [
    "e11, e12, e13, e22, e23, e33 = 1e-6, 2e-6, -3e-6, 1e-6, -3e-6, 2e-6\n",
    "w1, w2, w3 = 3e-5, 5e-5, 1e-4\n",
    "\n",
    "eij = np.asarray([[e11, e12, e13], [e12, e22, e23], [e13, e23, e33]])\n",
    "wij = np.asarray([[0, -w3, w2], [w3, 0, -w1], [-w2, w1, 0]])\n",
    "I = np.asarray([[1, 0, 0], [0, 1, 0], [0, 0, 1]])\n",
    "\n",
    "duij = eij + I"
   ]
  },
  {
   "cell_type": "code",
   "execution_count": 77,
   "metadata": {},
   "outputs": [],
   "source": [
    "phi_x, phi_y, phi_z = 30, 40, 60\n",
    "\n",
    "phi_x, phi_y, phi_z = np.radians([phi_x, phi_y, phi_z])\n",
    "\n",
    "Rx = np.asarray([[1, 0, 0],\n",
    "                 [0, np.cos(phi_x), -np.sin(phi_x)],\n",
    "                 [0, np.sin(phi_x), np.cos(phi_x)]])\n",
    "\n",
    "Ry = np.asarray([[np.cos(phi_y), 0, np.sin(phi_y)],\n",
    "                 [0, 1, 0],\n",
    "                 [-np.sin(phi_y), 0, np.cos(phi_y)]])\n",
    "\n",
    "Rz = np.asarray([[np.cos(phi_z), -np.sin(phi_z), 0],\n",
    "                 [np.sin(phi_z), np.cos(phi_z), 0],\n",
    "                 [0, 0, 1]])\n",
    "\n",
    "rot = Rx @ Ry @ Rz\n",
    "\n",
    "Fij =  duij @ rot"
   ]
  },
  {
   "cell_type": "code",
   "execution_count": 94,
   "metadata": {},
   "outputs": [
    {
     "data": {
      "text/plain": [
       "array([[ 0.38302396, -0.6634165 ,  0.6427855 ],\n",
       "       [ 0.91069812,  0.15467413, -0.38302331],\n",
       "       [ 0.15467393,  0.7320937 ,  0.6634145 ]])"
      ]
     },
     "execution_count": 94,
     "metadata": {},
     "output_type": "execute_result"
    }
   ],
   "source": [
    "Fij"
   ]
  },
  {
   "cell_type": "code",
   "execution_count": 79,
   "metadata": {},
   "outputs": [
    {
     "data": {
      "text/plain": [
       "array([[ 0.38302222, -0.66341395,  0.64278761],\n",
       "       [ 0.9106969 ,  0.1546775 , -0.38302222],\n",
       "       [ 0.1546775 ,  0.73209071,  0.66341395]])"
      ]
     },
     "execution_count": 79,
     "metadata": {},
     "output_type": "execute_result"
    }
   ],
   "source": [
    "rot"
   ]
  },
  {
   "cell_type": "code",
   "execution_count": 80,
   "metadata": {},
   "outputs": [],
   "source": [
    "from scipy.linalg import polar"
   ]
  },
  {
   "cell_type": "code",
   "execution_count": 107,
   "metadata": {},
   "outputs": [
    {
     "name": "stdout",
     "output_type": "stream",
     "text": [
      "[[ 1.000001  0.000002 -0.000003]\n",
      " [ 0.000002  1.000001 -0.000003]\n",
      " [-0.000003 -0.000003  1.000002]]\n",
      "[[ 0.38302222 -0.66341395  0.64278761]\n",
      " [ 0.9106969   0.1546775  -0.38302222]\n",
      " [ 0.1546775   0.73209071  0.66341395]]\n"
     ]
    }
   ],
   "source": [
    "p, u = linalg.polar(Fij, side='left')\n",
    "print(u)\n",
    "print(p)"
   ]
  },
  {
   "cell_type": "code",
   "execution_count": 110,
   "metadata": {},
   "outputs": [
    {
     "name": "stdout",
     "output_type": "stream",
     "text": [
      "[[ 0.  0.  0.]\n",
      " [ 0.  0. -0.]\n",
      " [ 0.  0.  0.]]\n"
     ]
    }
   ],
   "source": [
    "print(u - duij)"
   ]
  },
  {
   "cell_type": "code",
   "execution_count": 111,
   "metadata": {},
   "outputs": [
    {
     "data": {
      "text/plain": [
       "array([[ 1.000001,  0.000002, -0.000003],\n",
       "       [ 0.000002,  1.000001, -0.000003],\n",
       "       [-0.000003, -0.000003,  1.000002]])"
      ]
     },
     "execution_count": 111,
     "metadata": {},
     "output_type": "execute_result"
    }
   ],
   "source": [
    "u"
   ]
  },
  {
   "cell_type": "code",
   "execution_count": 123,
   "metadata": {},
   "outputs": [],
   "source": [
    "rec_duij = u - I\n",
    "rec_eij = np.round(0.5 * (rec_duij.T + rec_duij), 10)\n",
    "rec_wij = np.round(0.5 * (rec_duij - rec_duij.T), 10)"
   ]
  },
  {
   "cell_type": "code",
   "execution_count": 124,
   "metadata": {},
   "outputs": [],
   "source": [
    "rec_e11 = rec_eij[0, 0]\n",
    "rec_e12 = rec_eij[0, 1]\n",
    "rec_e13 = rec_eij[0, 2]\n",
    "rec_e22 = rec_eij[1, 1]\n",
    "rec_e23 = rec_eij[1, 2]\n",
    "rec_e33 = rec_eij[2, 2]"
   ]
  },
  {
   "cell_type": "code",
   "execution_count": 128,
   "metadata": {},
   "outputs": [
    {
     "name": "stdout",
     "output_type": "stream",
     "text": [
      "ε₁₁ is 1.0 µε.\n",
      "ε₂₂ is 1.0 µε.\n",
      "ε₃₃ is 2.0 µε.\n",
      "ε₁₂ is 2.0 µε.\n",
      "ε₁₃ is -3.0 µε.\n",
      "ε₂₃ is -3.0 µε.\n"
     ]
    }
   ],
   "source": [
    "print(f'ε₁₁ is {rec_e11 * 1e6} µε.')\n",
    "print(f'ε₂₂ is {rec_e22 * 1e6} µε.')\n",
    "print(f'ε₃₃ is {rec_e33 * 1e6} µε.')\n",
    "print(f'ε₁₂ is {rec_e12 * 1e6} µε.')\n",
    "print(f'ε₁₃ is {rec_e13 * 1e6} µε.')\n",
    "print(f'ε₂₃ is {rec_e23 * 1e6} µε.')"
   ]
  },
  {
   "cell_type": "code",
   "execution_count": null,
   "metadata": {},
   "outputs": [],
   "source": []
  }
 ],
 "metadata": {
  "kernelspec": {
   "display_name": "Python 3",
   "language": "python",
   "name": "python3"
  },
  "language_info": {
   "codemirror_mode": {
    "name": "ipython",
    "version": 3
   },
   "file_extension": ".py",
   "mimetype": "text/x-python",
   "name": "python",
   "nbconvert_exporter": "python",
   "pygments_lexer": "ipython3",
   "version": "3.11.5"
  }
 },
 "nbformat": 4,
 "nbformat_minor": 2
}
