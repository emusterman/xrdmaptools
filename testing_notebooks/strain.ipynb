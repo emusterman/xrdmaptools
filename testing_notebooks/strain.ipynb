{
 "cells": [
  {
   "cell_type": "code",
   "execution_count": 1,
   "metadata": {},
   "outputs": [
    {
     "name": "stderr",
     "output_type": "stream",
     "text": [
      "100%|██████████| 23/23 [00:06<00:00,  3.37it/s]\n"
     ]
    }
   ],
   "source": [
    "import os\n",
    "import matplotlib.pyplot as plt\n",
    "import numpy as np\n",
    "#from tqdm.auto import tqdm\n",
    "from tqdm import tqdm\n",
    "plt.ioff();\n",
    "try:\n",
    "    maindir\n",
    "except NameError:\n",
    "    maindir = os.path.dirname(os.getcwd())\n",
    "for module in tqdm(os.listdir(maindir + '\\\\testing_modules')):\n",
    "    %run -i \"{maindir}\\\\testing_modules\\\\{module}\"\n",
    "base = os.path.dirname(os.path.dirname(maindir)) + '\\\\'\n",
    "plt.ion();\n",
    "np.set_printoptions(suppress=True)\n",
    "plt.close('All')"
   ]
  },
  {
   "cell_type": "code",
   "execution_count": 2,
   "metadata": {},
   "outputs": [],
   "source": [
    "%matplotlib qt\n",
    "import skimage.io as io\n",
    "import xarray as xr\n",
    "from collections import OrderedDict\n",
    "import dask\n",
    "from tqdm.dask import TqdmCallback\n",
    "from sklearn.metrics.pairwise import euclidean_distances\n",
    "from matplotlib import cm"
   ]
  },
  {
   "cell_type": "code",
   "execution_count": 3,
   "metadata": {},
   "outputs": [],
   "source": [
    "def load_map_parameters(filename, filedir):\n",
    "    arr = np.genfromtxt(f'{filedir}{filename}')\n",
    "    return arr"
   ]
  },
  {
   "cell_type": "code",
   "execution_count": 4,
   "metadata": {},
   "outputs": [
    {
     "name": "stdout",
     "output_type": "stream",
     "text": [
      "Loading images..."
     ]
    },
    {
     "name": "stdout",
     "output_type": "stream",
     "text": [
      "done!\n",
      "Calibration performed under different settings. Adjusting calibration.\n"
     ]
    }
   ],
   "source": [
    "scanid = 153432\n",
    "base = '''D:\\\\Musterman_postdoc\\\\20240223_Musterman\\\\'''\n",
    "map_filename = f'scan{scanid}_dexela_angle_rc.tif'\n",
    "h5_filename = f'scan{scanid}_xrd.h5'\n",
    "\n",
    "try:\n",
    "    test = XRDMap.from_hdf(h5_filename, wd=f'{base}legacy\\\\')\n",
    "except FileNotFoundError:\n",
    "    test = XRDMap.from_image_stack(map_filename, wd=f'{base}legacy\\\\', energy=15, scanid=scanid, save_hdf=False)\n",
    "\n",
    "test.set_calibration('scan153220_dexela_calibration.poni', filedir=f'{base}calibrations\\\\')\n",
    "theta, i0, im, it = load_map_parameters(f'scan{test.scanid}_angle_rc_parameters.txt', filedir=test.wd)\n",
    "theta /= 1000\n",
    "energy = [10.2,] * len(theta)\n",
    "test.map.dtype = np.float32"
   ]
  },
  {
   "cell_type": "code",
   "execution_count": 5,
   "metadata": {},
   "outputs": [
    {
     "data": {
      "text/plain": [
       "Detector Detector\t Spline= None\t PixelSize= 7.480e-05, 7.480e-05 m\n",
       "Wavelength= 8.265613e-11 m\n",
       "SampleDetDist= 3.903584e-01 m\tPONI= 1.087204e-01, 3.240324e-02 m\trot1=-0.910039  rot2=-0.002869  rot3=3.141593 rad\n",
       "DirectBeamDist= 636.061 mm\tCenter: x=7146.912, y=1429.086 pix\tTilt= 52.142° tiltPlanRotation= -0.208° 𝛌= 0.827Å"
      ]
     },
     "execution_count": 5,
     "metadata": {},
     "output_type": "execute_result"
    }
   ],
   "source": [
    "test.ai"
   ]
  },
  {
   "cell_type": "code",
   "execution_count": 17,
   "metadata": {},
   "outputs": [
    {
     "name": "stdout",
     "output_type": "stream",
     "text": [
      "-67.14140673862357\n"
     ]
    }
   ],
   "source": [
    "orig_rot1 = test.ai.rot1\n",
    "test.ai.rot1 = orig_rot1 + np.radians(-15)\n",
    "print(np.degrees(test.ai.rot1))\n",
    "test._del_arr()"
   ]
  },
  {
   "cell_type": "code",
   "execution_count": null,
   "metadata": {},
   "outputs": [],
   "source": []
  },
  {
   "cell_type": "code",
   "execution_count": 18,
   "metadata": {},
   "outputs": [],
   "source": [
    "test.plot_image(test.tth_arr)"
   ]
  },
  {
   "cell_type": "code",
   "execution_count": 94,
   "metadata": {},
   "outputs": [
    {
     "name": "stdout",
     "output_type": "stream",
     "text": [
      "Loading images...done!\n",
      "Calibration performed under different settings. Adjusting calibration.\n"
     ]
    }
   ],
   "source": [
    "scanid = 153430\n",
    "base = '''D:\\\\Musterman_postdoc\\\\20240223_Musterman\\\\'''\n",
    "map_filename = f'scan{scanid}_dexela_energy_rc.tif'\n",
    "h5_filename = f'scan{scanid}_xrd.h5'\n",
    "\n",
    "try:\n",
    "    test = XRDMap.from_hdf(h5_filename, wd=f'{base}proposals\\\\')\n",
    "except FileNotFoundError:\n",
    "    test = XRDMap.from_image_stack(map_filename, wd=f'{base}proposals\\\\', energy=15, scanid=scanid, save_hdf=False)\n",
    "\n",
    "test.set_calibration('scan153220_dexela_calibration.poni', filedir=f'{base}calibrations\\\\')\n",
    "energy, i0, im, it = load_map_parameters(f'scan{test.scanid}_energy_rc_parameters.txt', filedir=test.wd)\n",
    "theta = [0,] * len(energy)\n",
    "test.map.dtype = np.float32"
   ]
  },
  {
   "cell_type": "code",
   "execution_count": 208,
   "metadata": {},
   "outputs": [
    {
     "name": "stdout",
     "output_type": "stream",
     "text": [
      "Loading images...done!\n",
      "Calibration performed under different settings. Adjusting calibration.\n"
     ]
    }
   ],
   "source": [
    "scanid = 153431\n",
    "en = 10.2\n",
    "th = np.linspace(-0.15, 0.15, 76)\n",
    "\n",
    "map_filename = f'scan{scanid}_dexela_xrd.tif'\n",
    "test = XRDMap.from_image_stack(map_filename, wd=f'{base}proposals\\\\', energy=en, scanid=scanid, save_hdf=False)\n",
    "_, _, i0, i0_time, im, it  = load_map_parameters(f'scan{test.scanid}_map_parameters.txt', filedir=test.wd)\n",
    "theta = th.copy()\n",
    "energy = [en,] * len(theta)\n",
    "scantype = 'fly'\n",
    "test.map.dtype = np.float32\n",
    "test.set_calibration('scan153220_dexela_calibration.poni', filedir=f'{base}calibrations\\\\')"
   ]
  },
  {
   "cell_type": "code",
   "execution_count": 209,
   "metadata": {},
   "outputs": [
    {
     "name": "stdout",
     "output_type": "stream",
     "text": [
      "76 saturated pixels found.\n"
     ]
    }
   ],
   "source": [
    "sat_mask = test.map.images == 16383\n",
    "print(f'{np.sum(sat_mask)} saturated pixels found.')"
   ]
  },
  {
   "cell_type": "code",
   "execution_count": 210,
   "metadata": {},
   "outputs": [
    {
     "name": "stdout",
     "output_type": "stream",
     "text": [
      "Correcting dark-field...done!\n"
     ]
    }
   ],
   "source": [
    "dark_dir = f'{base}dark_fields\\\\'\n",
    "dark_field = io.imread(f'{dark_dir}scan153332_dexela_1x1_hr_0.1sec.tif')\n",
    "#dark_field = io.imread(f'{dark_dir}scan153476_dexela_1x1_ln_0.1sec.tif')\n",
    "#scaled_df = dark_field * np.median(test.map.min_image) / np.median(dark_field)\n",
    "test.map.correct_dark_field(dark_field=dark_field)"
   ]
  },
  {
   "cell_type": "code",
   "execution_count": 211,
   "metadata": {},
   "outputs": [],
   "source": [
    "#det_sets = '_hr_1x1_'\n",
    "#flat_dir = '''D:\\\\Musterman_postdoc\\\\20240125_Musterman\\\\flat_fields\\\\'''\n",
    "#flat_paths = np.array(os.listdir(flat_dir))\n",
    "#flat_mask = [det_sets in x for x in flat_paths]\n",
    "#flat_field = io.imread(f'{flat_dir}{flat_paths[flat_mask][0]}')\n",
    "#test.map.correct_flat_field(flat_field=flat_field)"
   ]
  },
  {
   "cell_type": "code",
   "execution_count": 212,
   "metadata": {},
   "outputs": [
    {
     "name": "stdout",
     "output_type": "stream",
     "text": [
      "Finding and correcting image outliers...done!\n",
      "Normalize image scalers...done!\n"
     ]
    }
   ],
   "source": [
    "test.map.correct_outliers()\n",
    "test.map.normalize_scaler(scaler_arr=i0.reshape(1, -1))"
   ]
  },
  {
   "cell_type": "code",
   "execution_count": 213,
   "metadata": {},
   "outputs": [
    {
     "name": "stdout",
     "output_type": "stream",
     "text": [
      "Applying Lorentz correction...done!\n",
      "Applying X-ray polarization correction...done!\n",
      "Applying solid angle correction...done!\n"
     ]
    }
   ],
   "source": [
    "test.map.apply_lorentz_correction()\n",
    "test.map.apply_polarization_correction()\n",
    "test.map.apply_solidangle_correction()"
   ]
  },
  {
   "cell_type": "code",
   "execution_count": 214,
   "metadata": {},
   "outputs": [],
   "source": [
    "cif_dir = '''C:\\\\Users\\\\emusterma\\\\OneDrive - Brookhaven National Laboratory\\\\Documents\\\\Postdoc\\\\Literature\\\\CIF\\\\'''\n",
    "test.load_phase('AMCSD\\\\Corundum_0009327.cif', filedir=cif_dir, phase_name=\"corundum\")\n",
    "test.load_phase('AMCSD\\\\Silicon_0011244.cif', filedir=cif_dir, phase_name=\"silicon\")\n",
    "\n",
    "absorptions = []\n",
    "\n",
    "exp_dict = {\n",
    "    'attenuation_length' : 0,\n",
    "    'mode' : 'transmission',\n",
    "    'thickness' : 200, # microns\n",
    "    'theta' : 0\n",
    "}\n",
    "\n",
    "for i, (en, th) in enumerate(zip(energy, theta)):\n",
    "    test.energy = en\n",
    "\n",
    "    exp_dict['attenuation_length'] = test.phases['corundum'].absorption_length(en=en * 1e3)\n",
    "    #|exp_dict['attenuation_length'] = test.phases['silicon'].absorption_length(en=en * 1e3)\n",
    "    exp_dict['theta'] = th\n",
    "    test.map.apply_absorption_correction(exp_dict=exp_dict, apply=False)\n",
    "    absorptions.append(test.map.absorption_correction)\n",
    "\n",
    "for i, absorb in enumerate(absorptions):\n",
    "    test.map.images[0, i] /= absorb\n",
    "\n",
    "test.map.corrections['absorption'] = True"
   ]
  },
  {
   "cell_type": "code",
   "execution_count": null,
   "metadata": {},
   "outputs": [],
   "source": [
    "'''t = 200\n",
    "tth, chi = 20, 90\n",
    "theta = 20\n",
    "\n",
    "tth = np.radians(tth)\n",
    "chi = np.radians(chi)\n",
    "theta = np.radians(theta)\n",
    "\n",
    "x = t * ((np.cos(theta) / np.cos(tth)) * (1 + np.cos(chi)) - np.cos(chi) / (np.sin(tth) * np.tan(theta)))\n",
    "x = t * ((np.cos(theta) / np.cos(tth)) + np.cos(chi) * (np.cos(theta) / np.cos(tth) - 1 / (np.sin(tth) * np.tan(theta))))\n",
    "x = t * (1 / (np.cos(theta) * np.cos(tth)))\n",
    "x = (t / np.cos(tth)) * ((1 / np.cos(theta)) + np.cos(chi) * ((np.tan(tth) * np.sin(theta)) / (1 - np.tan(tth))))\n",
    "x = t * ((np.cos(theta) * (1 - np.tan(tth))) / (np.tan(tth) - np.tan(theta)))\n",
    "x = t * (1 / (np.sin(tth) * np.cos(tth) * ((1 / np.tan(tth) - np.tan(theta)))))\n",
    "x = t * (np.sqrt(1 + (np.cos(chi) / np.tan(tth))**2) / (np.cos(theta) * ((np.cos(chi) / np.tan(tth)) - np.tan(theta))))\n",
    "x = t * ((1 / (np.cos(tth) * np.cos(theta))) + ((np.cos(chi) * np.tan(theta)) / ((1 / np.tan(tth)) - np.tan(theta))))\n",
    "x = t * ((1 / (np.cos(tth) * np.cos(theta))) + (np.cos(chi) * np.tan(theta)) / (np.cos(tth) * np.cos(theta) * ((1 / np.tan(tth)) - np.tan(theta))))\n",
    "x = t * (1 / ((1 / (np.cos(theta) * np.cos(tth) * np.tan(tth))) * ((1 / np.tan(tth)) - np.cos(chi) * np.tan(theta))))\n",
    "x = t / (np.cos(tth) * np.cos(theta))\n",
    "print(x)\n",
    "\n",
    "x = (t / (np.cos(theta))) / ((1 / np.tan(tth)) - (np.cos(chi) * np.tan(theta)))\n",
    "y = x / (np.tan(tth))\n",
    "d = np.sqrt(x**2 + y**2)\n",
    "print(x, y, d)''';"
   ]
  },
  {
   "cell_type": "code",
   "execution_count": null,
   "metadata": {},
   "outputs": [],
   "source": [
    "#test.map.estimate_background(method='bruckner', binning=8, min_prominence=0.1)"
   ]
  },
  {
   "cell_type": "code",
   "execution_count": null,
   "metadata": {},
   "outputs": [],
   "source": [
    "#test.map.remove_background()"
   ]
  },
  {
   "cell_type": "code",
   "execution_count": 215,
   "metadata": {},
   "outputs": [
    {
     "name": "stdout",
     "output_type": "stream",
     "text": [
      "Caution: Images not corrected for:\n",
      "\tflat_field\n",
      "\tpixel_defects\n",
      "\tpixel_distortions\n",
      "\tpolar_calibration\n",
      "\tbackground\n",
      "Cleaning and updating image information...\n",
      "Diffraction map size is 1.691 GB.\n",
      "No hdf file specified. Images will not be saved.\n"
     ]
    }
   ],
   "source": [
    "test.map.rescale_images(arr_min=0)\n",
    "test.map.finalize_images()"
   ]
  },
  {
   "cell_type": "code",
   "execution_count": 221,
   "metadata": {},
   "outputs": [
    {
     "data": {
      "text/plain": [
       "153431"
      ]
     },
     "execution_count": 221,
     "metadata": {},
     "output_type": "execute_result"
    }
   ],
   "source": [
    "test.scanid"
   ]
  },
  {
   "cell_type": "code",
   "execution_count": 217,
   "metadata": {},
   "outputs": [],
   "source": [
    "fig, ax = plt.subplots(1, 1, figsize=(5, 5), dpi=200)\n",
    "\n",
    "rc = np.max(test.map.images, axis=(0, 2, 3))\n",
    "max_rc = np.argmax(rc)\n",
    "max_rc = int(np.round(arbitrary_center_of_mass(rc, range(test.map.num_images))[0], 0))\n",
    "test.energy = energy[max_rc]\n",
    "max_indices = np.unravel_index(np.argmax(test.map.images[0, max_rc]), test.map.image_shape)\n",
    "q1 = test.q_arr[:, *max_indices]\n",
    "\n",
    "th = np.radians(theta[max_rc])\n",
    "Ry = np.array([[np.cos(th), 0, -np.sin(th)],\n",
    "               [0, 1, 0],\n",
    "               [np.sin(th), 0, np.cos(th)]])\n",
    "q1 = Ry @ q1\n",
    "\n",
    "if theta[0] - theta[1] != 0:\n",
    "    ax.plot(theta, rc)\n",
    "    ax.scatter(theta[max_rc], rc[max_rc], s=10, c='r')\n",
    "else:\n",
    "    ax.plot(energy, rc)\n",
    "    ax.scatter(energy[max_rc], rc[max_rc], s=10, c='r')\n",
    "\n",
    "plt.show()"
   ]
  },
  {
   "cell_type": "code",
   "execution_count": 222,
   "metadata": {},
   "outputs": [
    {
     "data": {
      "text/plain": [
       "array([-3.03970749,  0.00702176, -0.9915089 ])"
      ]
     },
     "execution_count": 222,
     "metadata": {},
     "output_type": "execute_result"
    }
   ],
   "source": [
    "q1"
   ]
  },
  {
   "cell_type": "code",
   "execution_count": 223,
   "metadata": {},
   "outputs": [
    {
     "data": {
      "text/plain": [
       "array([-1.99569668,  0.00531618, -2.04950508])"
      ]
     },
     "execution_count": 223,
     "metadata": {},
     "output_type": "execute_result"
    }
   ],
   "source": [
    "test.phases['corundum'].HKL(q1)"
   ]
  },
  {
   "cell_type": "code",
   "execution_count": 224,
   "metadata": {},
   "outputs": [
    {
     "data": {
      "text/plain": [
       "(1433, 1940)"
      ]
     },
     "execution_count": 224,
     "metadata": {},
     "output_type": "execute_result"
    }
   ],
   "source": [
    "max_indices"
   ]
  },
  {
   "cell_type": "code",
   "execution_count": 226,
   "metadata": {},
   "outputs": [],
   "source": [
    "q_image_list = []\n",
    "qx_min, qx_max = np.nan, np.nan\n",
    "qy_min, qy_max = np.nan, np.nan\n",
    "qz_min, qz_max = np.nan, np.nan\n",
    "\n",
    "\n",
    "for i, (en, th) in enumerate(zip(energy, theta)):\n",
    "    test.energy = en\n",
    "    th = np.radians(th)\n",
    "\n",
    "    image = test.map.images[0, i]\n",
    "\n",
    "    q_mask = np.ones_like(test.map.mask, dtype=np.bool_)\n",
    "    scale = 0.05\n",
    "\n",
    "    Ry = np.array([[np.cos(th), 0, -np.sin(th)],\n",
    "                   [0, 1, 0],\n",
    "                   [np.sin(th), 0, np.cos(th)]])\n",
    "\n",
    "    q = test.q_arr.copy()\n",
    "    q = (q.T @ Ry.T).T # I don't like this\n",
    "\n",
    "    for i in range(len(q1)):\n",
    "        mask = (((q1[i] - scale < q[i]))\n",
    "                & (q[i] < (q1[i] + scale)))\n",
    "        q_mask *= mask\n",
    "\n",
    "    q_reduced = q[:, q_mask]\n",
    "    int_reduced = image[q_mask]\n",
    "    q_image = np.vstack([q_reduced, int_reduced])\n",
    "    \n",
    "    qx_min = np.nanmin([*q_reduced[0], qx_min])\n",
    "    qx_max = np.nanmax([*q_reduced[0], qx_max])\n",
    "    qy_min = np.nanmin([*q_reduced[1], qy_min])\n",
    "    qy_max = np.nanmax([*q_reduced[1], qy_max])\n",
    "    qz_min = np.nanmin([*q_reduced[2], qz_min])\n",
    "    qz_max = np.nanmax([*q_reduced[2], qz_max])\n",
    "\n",
    "    q_image_list.append(q_image)"
   ]
  },
  {
   "cell_type": "code",
   "execution_count": 231,
   "metadata": {},
   "outputs": [],
   "source": [
    "qx, qy, qz, q_int = [], [], [], []\n",
    "for q_image in q_image_list:\n",
    "    int_mask = q_image[-1] > -100\n",
    "    qx.extend(q_image[0][int_mask])\n",
    "    qy.extend(q_image[1][int_mask])\n",
    "    qz.extend(q_image[2][int_mask])\n",
    "    q_int.extend(q_image[-1][int_mask])\n",
    "\n",
    "q_spot = np.asarray([qx, qy, qz, q_int])"
   ]
  },
  {
   "cell_type": "code",
   "execution_count": 232,
   "metadata": {},
   "outputs": [
    {
     "name": "stdout",
     "output_type": "stream",
     "text": [
      "Found existing dataset. Deleting and rewriting...\n",
      "<KeysViewHDF5 ['scan153365', 'scan153366', 'scan153371', 'scan153374', 'scan153377', 'scan153383', 'scan153387', 'scan153393', 'scan153397', 'scan153402', 'scan153408', 'scan153411', 'scan153428', 'scan153431']>\n"
     ]
    }
   ],
   "source": [
    "hdf_file = 'D:\\\\Musterman_postdoc\\\\20240223_Musterman\\\\20240223_sapphire_all.h5'\n",
    "\n",
    "with h5py.File(hdf_file, 'a') as f:\n",
    "    base_grp = f.require_group('sapphire')\n",
    "    angle_rc = base_grp.require_group('angle_rc')\n",
    "    energy_rc = base_grp.require_group('energy_rc')\n",
    "    fly_angle_rc = base_grp.require_group('fly_angle_rc')\n",
    "\n",
    "    group = fly_angle_rc\n",
    "\n",
    "    # Check for and delete dataset if it exists\n",
    "    if f'scan{test.scanid}' in group.keys():\n",
    "        print('Found existing dataset. Deleting and rewriting...')\n",
    "        del group[f'scan{test.scanid}']\n",
    "\n",
    "    # Make new dataset\n",
    "    new_data = group.require_dataset(f'scan{test.scanid}',\n",
    "                                     data=q_spot,\n",
    "                                     shape=q_spot.shape,\n",
    "                                     dtype=q_spot.dtype)\n",
    "    new_data.attrs['labels'] = ['qx', 'qy', 'qz', 'q_int']\n",
    "    new_data.attrs['theta'] = theta\n",
    "    new_data.attrs['energy'] = energy\n",
    "    q_cen = arbitrary_center_of_mass(q_spot[-1], *q_spot[:3])\n",
    "    new_data.attrs['center_of_mass'] = q_cen\n",
    "\n",
    "    print(np.array(group.keys()))\n"
   ]
  },
  {
   "cell_type": "code",
   "execution_count": null,
   "metadata": {},
   "outputs": [],
   "source": []
  },
  {
   "cell_type": "code",
   "execution_count": null,
   "metadata": {},
   "outputs": [
    {
     "name": "stdout",
     "output_type": "stream",
     "text": [
      "Loading images...Loading images...Loading images...done!\n",
      "Calibration performed under different settings. Adjusting calibration.\n",
      "168 saturated pixels found.\n",
      "Correcting dark-field...done!\n",
      "Finding and correcting image outliers...done!\n",
      "Normalize image scalers...done!\n",
      "Applying Lorentz correction...done!\n",
      "Applying X-ray polarization correction...done!\n",
      "Applying solid angle correction...done!\n",
      "Caution: Images not corrected for:\n",
      "\tflat_field\n",
      "\tpixel_defects\n",
      "\tpixel_distortions\n",
      "\tpolar_calibration\n",
      "\tbackground\n",
      "Cleaning and updating image information...\n",
      "Diffraction map size is 1.135 GB.\n",
      "No hdf file specified. Images will not be saved.\n",
      "['scan153365']\n",
      "['scan153365']\n",
      "['scan153365']\n",
      "Scan 153365 took 00:01:56.\n",
      "13 scans remaining. Estimated 00:25:14 time remaining completing at 10:22:38\n",
      "########################################################################\n",
      "Loading images...Loading images...Loading images...done!\n",
      "Calibration performed under different settings. Adjusting calibration.\n",
      "51 saturated pixels found.\n",
      "Correcting dark-field...done!\n",
      "Finding and correcting image outliers...done!\n",
      "Normalize image scalers...done!\n",
      "Applying Lorentz correction...done!\n",
      "Applying X-ray polarization correction...done!\n",
      "Applying solid angle correction...done!\n",
      "Caution: Images not corrected for:\n",
      "\tflat_field\n",
      "\tpixel_defects\n",
      "\tpixel_distortions\n",
      "\tpolar_calibration\n",
      "\tbackground\n",
      "Cleaning and updating image information...\n",
      "Diffraction map size is 1.135 GB.\n",
      "No hdf file specified. Images will not be saved.\n",
      "['scan153365', 'scan153366']\n",
      "['scan153365', 'scan153366']\n",
      "['scan153365', 'scan153366']\n",
      "Scan 153366 took 00:01:59.\n",
      "12 scans remaining. Estimated 00:23:35 time remaining completing at 10:22:59\n",
      "########################################################################\n",
      "Loading images...Loading images...Loading images...done!\n",
      "Calibration performed under different settings. Adjusting calibration.\n",
      "51 saturated pixels found.\n",
      "Correcting dark-field...done!\n",
      "Finding and correcting image outliers...done!\n",
      "Normalize image scalers...done!\n",
      "Applying Lorentz correction...done!\n",
      "Applying X-ray polarization correction...done!\n",
      "Applying solid angle correction...done!\n",
      "Caution: Images not corrected for:\n",
      "\tflat_field\n",
      "\tpixel_defects\n",
      "\tpixel_distortions\n",
      "\tpolar_calibration\n",
      "\tbackground\n",
      "Cleaning and updating image information...\n",
      "Diffraction map size is 1.135 GB.\n",
      "No hdf file specified. Images will not be saved.\n",
      "['scan153365', 'scan153366', 'scan153371']\n",
      "['scan153365', 'scan153366', 'scan153371']\n",
      "['scan153365', 'scan153366', 'scan153371']\n",
      "Scan 153371 took 00:01:55.\n",
      "11 scans remaining. Estimated 00:21:30 time remaining completing at 10:22:50\n",
      "########################################################################\n",
      "Loading images...Loading images...Loading images...done!\n",
      "Calibration performed under different settings. Adjusting calibration.\n",
      "51 saturated pixels found.\n",
      "Correcting dark-field...done!\n",
      "Finding and correcting image outliers...done!\n",
      "Normalize image scalers...done!\n",
      "Applying Lorentz correction...done!\n",
      "Applying X-ray polarization correction...done!\n",
      "Applying solid angle correction...done!\n",
      "Caution: Images not corrected for:\n",
      "\tflat_field\n",
      "\tpixel_defects\n",
      "\tpixel_distortions\n",
      "\tpolar_calibration\n",
      "\tbackground\n",
      "Cleaning and updating image information...\n",
      "Diffraction map size is 1.135 GB.\n",
      "No hdf file specified. Images will not be saved.\n",
      "['scan153365', 'scan153366', 'scan153371', 'scan153374']\n",
      "['scan153365', 'scan153366', 'scan153371', 'scan153374']\n",
      "['scan153365', 'scan153366', 'scan153371', 'scan153374']\n",
      "Scan 153374 took 00:02:05.\n",
      "10 scans remaining. Estimated 00:19:53 time remaining completing at 10:23:18\n",
      "########################################################################\n",
      "Loading images...Loading images...Loading images...done!\n",
      "Calibration performed under different settings. Adjusting calibration.\n",
      "51 saturated pixels found.\n",
      "Correcting dark-field...done!\n",
      "Finding and correcting image outliers...done!\n",
      "Normalize image scalers...done!\n",
      "Applying Lorentz correction...done!\n",
      "Applying X-ray polarization correction...done!\n",
      "Applying solid angle correction...done!\n",
      "Caution: Images not corrected for:\n",
      "\tflat_field\n",
      "\tpixel_defects\n",
      "\tpixel_distortions\n",
      "\tpolar_calibration\n",
      "\tbackground\n",
      "Cleaning and updating image information...\n",
      "Diffraction map size is 1.135 GB.\n",
      "No hdf file specified. Images will not be saved.\n",
      "['scan153365', 'scan153366', 'scan153371', 'scan153374', 'scan153377']\n",
      "['scan153365', 'scan153366', 'scan153371', 'scan153374', 'scan153377']\n",
      "['scan153365', 'scan153366', 'scan153371', 'scan153374', 'scan153377']\n",
      "Scan 153377 took 00:02:01.\n",
      "9 scans remaining. Estimated 00:17:57 time remaining completing at 10:23:23\n",
      "########################################################################\n",
      "Loading images...Loading images...Loading images...done!\n",
      "Calibration performed under different settings. Adjusting calibration.\n",
      "51 saturated pixels found.\n",
      "Correcting dark-field...done!\n",
      "Finding and correcting image outliers...done!\n",
      "Normalize image scalers...done!\n",
      "Applying Lorentz correction...done!\n",
      "Applying X-ray polarization correction...done!\n",
      "Applying solid angle correction...done!\n",
      "Caution: Images not corrected for:\n",
      "\tflat_field\n",
      "\tpixel_defects\n",
      "\tpixel_distortions\n",
      "\tpolar_calibration\n",
      "\tbackground\n",
      "Cleaning and updating image information...\n",
      "Diffraction map size is 1.135 GB.\n",
      "No hdf file specified. Images will not be saved.\n",
      "['scan153365', 'scan153366', 'scan153371', 'scan153374', 'scan153377', 'scan153383']\n",
      "['scan153365', 'scan153366', 'scan153371', 'scan153374', 'scan153377', 'scan153383']\n",
      "['scan153365', 'scan153366', 'scan153371', 'scan153374', 'scan153377', 'scan153383']\n",
      "Scan 153383 took 00:02:08.\n",
      "8 scans remaining. Estimated 00:16:08 time remaining completing at 10:23:43\n",
      "########################################################################\n",
      "Loading images...Loading images...Loading images...done!\n",
      "Calibration performed under different settings. Adjusting calibration.\n",
      "51 saturated pixels found.\n",
      "Correcting dark-field...done!\n",
      "Finding and correcting image outliers...done!\n",
      "Normalize image scalers...done!\n",
      "Applying Lorentz correction...done!\n",
      "Applying X-ray polarization correction...done!\n",
      "Applying solid angle correction...done!\n",
      "Caution: Images not corrected for:\n",
      "\tflat_field\n",
      "\tpixel_defects\n",
      "\tpixel_distortions\n",
      "\tpolar_calibration\n",
      "\tbackground\n",
      "Cleaning and updating image information...\n",
      "Diffraction map size is 1.135 GB.\n",
      "No hdf file specified. Images will not be saved.\n",
      "['scan153365', 'scan153366', 'scan153371', 'scan153374', 'scan153377', 'scan153383', 'scan153387']\n",
      "['scan153365', 'scan153366', 'scan153371', 'scan153374', 'scan153377', 'scan153383', 'scan153387']\n",
      "['scan153365', 'scan153366', 'scan153371', 'scan153374', 'scan153377', 'scan153383', 'scan153387']\n",
      "Scan 153387 took 00:02:14.\n",
      "7 scans remaining. Estimated 00:14:21 time remaining completing at 10:24:10\n",
      "########################################################################\n",
      "Loading images...Loading images...Loading images...done!\n",
      "Calibration performed under different settings. Adjusting calibration.\n",
      "76 saturated pixels found.\n",
      "Correcting dark-field...done!\n",
      "Finding and correcting image outliers...done!\n",
      "Normalize image scalers...done!\n",
      "Applying Lorentz correction...done!\n",
      "Applying X-ray polarization correction...done!\n",
      "Applying solid angle correction...done!\n",
      "Caution: Images not corrected for:\n",
      "\tflat_field\n",
      "\tpixel_defects\n",
      "\tpixel_distortions\n",
      "\tpolar_calibration\n",
      "\tbackground\n",
      "Cleaning and updating image information...\n",
      "Diffraction map size is 1.691 GB.\n",
      "No hdf file specified. Images will not be saved.\n",
      "['scan153365', 'scan153366', 'scan153371', 'scan153374', 'scan153377', 'scan153383', 'scan153387', 'scan153393']\n",
      "['scan153365', 'scan153366', 'scan153371', 'scan153374', 'scan153377', 'scan153383', 'scan153387', 'scan153393']\n",
      "['scan153365', 'scan153366', 'scan153371', 'scan153374', 'scan153377', 'scan153383', 'scan153387', 'scan153393']\n",
      "Scan 153393 took 00:03:09.\n",
      "6 scans remaining. Estimated 00:13:08 time remaining completing at 10:26:07\n",
      "########################################################################\n",
      "Loading images...Loading images...Loading images...done!\n",
      "Calibration performed under different settings. Adjusting calibration.\n",
      "51 saturated pixels found.\n",
      "Correcting dark-field...done!\n",
      "Finding and correcting image outliers...done!\n",
      "Normalize image scalers...done!\n",
      "Applying Lorentz correction...done!\n",
      "Applying X-ray polarization correction...done!\n",
      "Applying solid angle correction...done!\n",
      "Caution: Images not corrected for:\n",
      "\tflat_field\n",
      "\tpixel_defects\n",
      "\tpixel_distortions\n",
      "\tpolar_calibration\n",
      "\tbackground\n",
      "Cleaning and updating image information...\n",
      "Diffraction map size is 1.135 GB.\n",
      "No hdf file specified. Images will not be saved.\n",
      "['scan153365', 'scan153366', 'scan153371', 'scan153374', 'scan153377', 'scan153383', 'scan153387', 'scan153393', 'scan153397']\n",
      "['scan153365', 'scan153366', 'scan153371', 'scan153374', 'scan153377', 'scan153383', 'scan153387', 'scan153393', 'scan153397']\n",
      "['scan153365', 'scan153366', 'scan153371', 'scan153374', 'scan153377', 'scan153383', 'scan153387', 'scan153393', 'scan153397']\n",
      "Scan 153397 took 00:02:09.\n",
      "5 scans remaining. Estimated 00:10:55 time remaining completing at 10:26:03\n",
      "########################################################################\n",
      "Loading images...Loading images...Loading images...done!\n",
      "Calibration performed under different settings. Adjusting calibration.\n",
      "76 saturated pixels found.\n",
      "Correcting dark-field...done!\n",
      "Finding and correcting image outliers...done!\n",
      "Normalize image scalers...done!\n",
      "Applying Lorentz correction...done!\n",
      "Applying X-ray polarization correction...done!\n",
      "Applying solid angle correction...done!\n",
      "Caution: Images not corrected for:\n",
      "\tflat_field\n",
      "\tpixel_defects\n",
      "\tpixel_distortions\n",
      "\tpolar_calibration\n",
      "\tbackground\n",
      "Cleaning and updating image information...\n",
      "Diffraction map size is 1.691 GB.\n",
      "No hdf file specified. Images will not be saved.\n",
      "['scan153365', 'scan153366', 'scan153371', 'scan153374', 'scan153377', 'scan153383', 'scan153387', 'scan153393', 'scan153397', 'scan153402']\n",
      "['scan153365', 'scan153366', 'scan153371', 'scan153374', 'scan153377', 'scan153383', 'scan153387', 'scan153393', 'scan153397', 'scan153402']\n",
      "['scan153365', 'scan153366', 'scan153371', 'scan153374', 'scan153377', 'scan153383', 'scan153387', 'scan153393', 'scan153397', 'scan153402']\n",
      "Scan 153402 took 00:03:04.\n",
      "4 scans remaining. Estimated 00:09:06 time remaining completing at 10:27:19\n",
      "########################################################################\n",
      "Loading images...Loading images...Loading images...done!\n",
      "Calibration performed under different settings. Adjusting calibration.\n",
      "76 saturated pixels found.\n",
      "Correcting dark-field...done!\n",
      "Finding and correcting image outliers...done!\n",
      "Normalize image scalers...done!\n",
      "Applying Lorentz correction...done!\n",
      "Applying X-ray polarization correction...done!\n",
      "Applying solid angle correction...done!\n",
      "Caution: Images not corrected for:\n",
      "\tflat_field\n",
      "\tpixel_defects\n",
      "\tpixel_distortions\n",
      "\tpolar_calibration\n",
      "\tbackground\n",
      "Cleaning and updating image information...\n",
      "Diffraction map size is 1.691 GB.\n",
      "No hdf file specified. Images will not be saved.\n",
      "['scan153365', 'scan153366', 'scan153371', 'scan153374', 'scan153377', 'scan153383', 'scan153387', 'scan153393', 'scan153397', 'scan153402', 'scan153408']\n",
      "['scan153365', 'scan153366', 'scan153371', 'scan153374', 'scan153377', 'scan153383', 'scan153387', 'scan153393', 'scan153397', 'scan153402', 'scan153408']\n",
      "['scan153365', 'scan153366', 'scan153371', 'scan153374', 'scan153377', 'scan153383', 'scan153387', 'scan153393', 'scan153397', 'scan153402', 'scan153408']\n",
      "Scan 153408 took 00:03:12.\n",
      "3 scans remaining. Estimated 00:07:04 time remaining completing at 10:28:30\n",
      "########################################################################\n",
      "Loading images...Loading images...Loading images...done!\n",
      "Calibration performed under different settings. Adjusting calibration.\n",
      "76 saturated pixels found.\n",
      "Correcting dark-field...done!\n",
      "Finding and correcting image outliers...done!\n",
      "Normalize image scalers...done!\n",
      "Applying Lorentz correction...done!\n",
      "Applying X-ray polarization correction...done!\n",
      "Applying solid angle correction...done!\n",
      "Caution: Images not corrected for:\n",
      "\tflat_field\n",
      "\tpixel_defects\n",
      "\tpixel_distortions\n",
      "\tpolar_calibration\n",
      "\tbackground\n",
      "Cleaning and updating image information...\n",
      "Diffraction map size is 1.691 GB.\n",
      "No hdf file specified. Images will not be saved.\n",
      "['scan153365', 'scan153366', 'scan153371', 'scan153374', 'scan153377', 'scan153383', 'scan153387', 'scan153393', 'scan153397', 'scan153402', 'scan153408', 'scan153411']\n",
      "['scan153365', 'scan153366', 'scan153371', 'scan153374', 'scan153377', 'scan153383', 'scan153387', 'scan153393', 'scan153397', 'scan153402', 'scan153408', 'scan153411']\n",
      "['scan153365', 'scan153366', 'scan153371', 'scan153374', 'scan153377', 'scan153383', 'scan153387', 'scan153393', 'scan153397', 'scan153402', 'scan153408', 'scan153411']\n",
      "Scan 153411 took 00:03:02.\n",
      "2 scans remaining. Estimated 00:04:50 time remaining completing at 10:29:18\n",
      "########################################################################\n",
      "Loading images...Loading images...Loading images...done!\n",
      "Calibration performed under different settings. Adjusting calibration.\n",
      "51 saturated pixels found.\n",
      "Correcting dark-field...done!\n",
      "Finding and correcting image outliers...done!\n",
      "Normalize image scalers...done!\n",
      "Applying Lorentz correction...done!\n",
      "Applying X-ray polarization correction...done!\n",
      "Applying solid angle correction...done!\n",
      "Caution: Images not corrected for:\n",
      "\tflat_field\n",
      "\tpixel_defects\n",
      "\tpixel_distortions\n",
      "\tpolar_calibration\n",
      "\tbackground\n",
      "Cleaning and updating image information...\n",
      "Diffraction map size is 1.135 GB.\n",
      "No hdf file specified. Images will not be saved.\n",
      "['scan153365', 'scan153366', 'scan153371', 'scan153374', 'scan153377', 'scan153383', 'scan153387', 'scan153393', 'scan153397', 'scan153402', 'scan153408', 'scan153411', 'scan153428']\n",
      "['scan153365', 'scan153366', 'scan153371', 'scan153374', 'scan153377', 'scan153383', 'scan153387', 'scan153393', 'scan153397', 'scan153402', 'scan153408', 'scan153411', 'scan153428']\n",
      "['scan153365', 'scan153366', 'scan153371', 'scan153374', 'scan153377', 'scan153383', 'scan153387', 'scan153393', 'scan153397', 'scan153402', 'scan153408', 'scan153411', 'scan153428']\n",
      "Scan 153428 took 00:02:14.\n",
      "1 scans remaining. Estimated 00:02:24 time remaining completing at 10:29:06\n",
      "########################################################################\n",
      "Loading images...Loading images...Loading images...done!\n",
      "Calibration performed under different settings. Adjusting calibration.\n",
      "76 saturated pixels found.\n",
      "Correcting dark-field...done!\n",
      "Finding and correcting image outliers...done!\n",
      "Normalize image scalers...done!\n",
      "Applying Lorentz correction...done!\n",
      "Applying X-ray polarization correction...done!\n",
      "Applying solid angle correction...done!\n",
      "Caution: Images not corrected for:\n",
      "\tflat_field\n",
      "\tpixel_defects\n",
      "\tpixel_distortions\n",
      "\tpolar_calibration\n",
      "\tbackground\n",
      "Cleaning and updating image information...\n",
      "Diffraction map size is 1.691 GB.\n",
      "No hdf file specified. Images will not be saved.\n",
      "['scan153365', 'scan153366', 'scan153371', 'scan153374', 'scan153377', 'scan153383', 'scan153387', 'scan153393', 'scan153397', 'scan153402', 'scan153408', 'scan153411', 'scan153428', 'scan153431']\n",
      "['scan153365', 'scan153366', 'scan153371', 'scan153374', 'scan153377', 'scan153383', 'scan153387', 'scan153393', 'scan153397', 'scan153402', 'scan153408', 'scan153411', 'scan153428', 'scan153431']\n",
      "['scan153365', 'scan153366', 'scan153371', 'scan153374', 'scan153377', 'scan153383', 'scan153387', 'scan153393', 'scan153397', 'scan153402', 'scan153408', 'scan153411', 'scan153428', 'scan153431']\n",
      "Scan 153431 took 00:03:15.\n",
      "0 scans remaining. Estimated 00:00:00 time remaining completing at 10:29:58\n",
      "########################################################################\n"
     ]
    }
   ],
   "source": [
    "energy_scanids =  [153334, 153344, 153350, 153359, 153381, 153386, 153391, 153396, 153400, 153405, 153410, 153415, 153426, 153430]\n",
    "angle_scanids = [153362, 153367, 153372, 153375, 153378, 153384, 153388, 153394, 153398, 153403, 153409, 153413, 153416, 153429, 153432]\n",
    "#angle_scanids = [153384, 153398, 153403, 153409, 153413, 153416, 153429, 153432]\n",
    "energies = [20.25, 20.375, 19.225, 18.375, 14.55, 18, 18, 18, 18, 18, 18, 18, 18, 10.125, 10.20]\n",
    "#energies = [18, 18, 18, 18, 18, 18, 10.125, 10.20]\n",
    "thetas = [0, 0, 0, 0, 5, 5.5, 12.25, 13.625, 14.2, 15.55, 12.35, 12.35, 0, 0, 0]\n",
    "fly_scanids = [153365, 153366, 153371, 153374, 153377, 153383, 153387, 153393, 153397, 153402, 153408, 153411, 153428, 153431]\n",
    "fly_energies = [20.25, 20.375, 19.225, 18.3275, 14.550, 18, 18, 18, 18, 18, 18, 18, 10.125, 10.2]\n",
    "fly_thetas = [np.linspace(-0.1, 0.1, 51),\n",
    "              np.linspace(-0.1, 0.1, 51),\n",
    "              np.linspace(-0.1, 0.1, 51),\n",
    "              np.linspace(-0.1, 0.1, 51),\n",
    "              np.linspace(-0.1, 0.1, 51),\n",
    "              np.linspace(4.9, 5.1, 51),\n",
    "              np.linspace(5.4, 5.6, 51),\n",
    "              np.linspace(12.15, 12.45, 76),\n",
    "              np.linspace(13.525, 13.725, 51),\n",
    "              np.linspace(14.1, 14.4, 76),\n",
    "              np.linspace(15.450, 15.75, 76),\n",
    "              np.linspace(12.25, 12.55, 76),\n",
    "              np.linspace(-0.1, 0.1, 51),\n",
    "              np.linspace(-0.15, 0.15, 76)]\n",
    "\n",
    "\n",
    "base = 'D:\\\\Musterman_postdoc\\\\20240223_Musterman\\\\'\n",
    "dark_dir = f'{base}dark_fields\\\\'\n",
    "cif_dir = 'C:\\\\Users\\\\emusterma\\\\OneDrive - Brookhaven National Laboratory\\\\Documents\\\\Postdoc\\\\Literature\\\\CIF\\\\'\n",
    "hdf_file = 'D:\\\\Musterman_postdoc\\\\20240223_Musterman\\\\20240223_sapphire_0.1.h5'\n",
    "\n",
    "t_start = ttime.monotonic()\n",
    "#for scanid, en, th in zip(angle_scanids, energies, energies):\n",
    "#for scanid, en, th in zip(energy_scanids, thetas, thetas):\n",
    "for scanid, en, th in zip(fly_scanids, fly_energies, fly_thetas):\n",
    "    t0 = ttime.monotonic()\n",
    "    # Load images\n",
    "    try: # angle rc\n",
    "        map_filename = f'scan{scanid}_dexela_angle_rc.tif'\n",
    "        test = XRDMap.from_image_stack(map_filename, wd=f'{base}legacy\\\\', energy=15, scanid=scanid, save_hdf=False)\n",
    "        theta, i0, im, it = load_map_parameters(f'scan{test.scanid}_angle_rc_parameters.txt', filedir=test.wd)\n",
    "        theta /= 1000\n",
    "        energy = [en,] * len(theta)\n",
    "        scantype = 'angle'\n",
    "    except FileNotFoundError:\n",
    "        try: # energy rc\n",
    "            map_filename = f'scan{scanid}_dexela_energy_rc.tif'\n",
    "            test = XRDMap.from_image_stack(map_filename, wd=f'{base}proposals\\\\', energy=15, scanid=scanid, save_hdf=False)\n",
    "            energy, i0, im, it = load_map_parameters(f'scan{test.scanid}_energy_rc_parameters.txt', filedir=test.wd)\n",
    "            theta = [th,] * len(energy)\n",
    "            scantype = 'energy'\n",
    "        except FileNotFoundError: # fly angle rc\n",
    "            map_filename = f'scan{scanid}_dexela_xrd.tif'\n",
    "            test = XRDMap.from_image_stack(map_filename, wd=f'{base}proposals\\\\', energy=en, scanid=scanid, save_hdf=False)\n",
    "            _, _, i0, i0_time, im, it  = load_map_parameters(f'scan{test.scanid}_map_parameters.txt', filedir=test.wd)\n",
    "            theta = th.copy()\n",
    "            energy = [en,] * len(theta)\n",
    "            scantype = 'fly'\n",
    "\n",
    "    test.set_calibration('scan153220_dexela_calibration.poni', filedir=f'{base}calibrations\\\\')\n",
    "    test.map.dtype = np.float32\n",
    "\n",
    "    sat_mask = test.map.images == 16383\n",
    "    print(f'{np.sum(sat_mask)} saturated pixels found.')\n",
    "\n",
    "    # Image corrections\n",
    "    dark_field = io.imread(f'{dark_dir}scan153332_dexela_1x1_hr_0.1sec.tif')\n",
    "    test.map.correct_dark_field(dark_field=dark_field)\n",
    "    test.map.correct_outliers()\n",
    "    test.map.normalize_scaler(scaler_arr=i0.reshape(1, -1))\n",
    "    test.map.apply_lorentz_correction()\n",
    "    test.map.apply_polarization_correction()\n",
    "    test.map.apply_solidangle_correction()\n",
    "\n",
    "    # Figure out absorption corrections\n",
    "    test.load_phase('AMCSD\\\\Corundum_0009327.cif', filedir=cif_dir, phase_name=\"corundum\")\n",
    "    corundum = test.phases['corundum']\n",
    "\n",
    "    absorptions = []\n",
    "    exp_dict = {\n",
    "        'attenuation_length' : 0,\n",
    "        'mode' : 'transmission',\n",
    "        'thickness' : 200, # microns\n",
    "        'theta' : 0\n",
    "    }\n",
    "\n",
    "    for i, (en, th) in enumerate(zip(energy, theta)):\n",
    "        test.energy = en\n",
    "\n",
    "        exp_dict['attenuation_length'] = test.phases['corundum'].absorption_length(en=en * 1e3)\n",
    "        exp_dict['theta'] = th\n",
    "        test.map.apply_absorption_correction(exp_dict=exp_dict, apply=False)\n",
    "        absorptions.append(test.map.absorption_correction)\n",
    "\n",
    "    for i, absorb in enumerate(absorptions):\n",
    "        test.map.images[0, i] /= absorb\n",
    "    test.map.corrections['absorption'] = True\n",
    "\n",
    "    test.map.rescale_images(arr_min=0)\n",
    "    test.map.finalize_images()\n",
    "\n",
    "    # Find where to cut out q-space\n",
    "    rc = np.max(test.map.images, axis=(0, 2, 3))\n",
    "    test.energy = energy[np.argmax(rc)]\n",
    "    max_indices = np.unravel_index(np.argmax(test.map.images[0, np.argmax(rc)]), test.map.image_shape)\n",
    "    q1 = test.q_arr[:, *max_indices]\n",
    "\n",
    "    th = np.radians(theta[np.argmax(rc)])\n",
    "    Ry = np.array([[np.cos(th), 0, -np.sin(th)],\n",
    "                [0, 1, 0],\n",
    "                [np.sin(th), 0, np.cos(th)]])\n",
    "    q1 = Ry @ q1\n",
    "\n",
    "    # Cut out the correct q-space\n",
    "    q_image_list = []\n",
    "    qx_min, qx_max = np.nan, np.nan\n",
    "    qy_min, qy_max = np.nan, np.nan\n",
    "    qz_min, qz_max = np.nan, np.nan\n",
    "\n",
    "    for i, (en, th) in enumerate(zip(energy, theta)):\n",
    "        test.energy = en\n",
    "        th = np.radians(th)\n",
    "\n",
    "        image = test.map.images[0, i]\n",
    "\n",
    "        q_mask = np.ones_like(test.map.mask, dtype=np.bool_)\n",
    "        scale = 0.05\n",
    "\n",
    "        Ry = np.array([[np.cos(th), 0, -np.sin(th)],\n",
    "                    [0, 1, 0],\n",
    "                    [np.sin(th), 0, np.cos(th)]])\n",
    "\n",
    "        q = test.q_arr.copy()\n",
    "        q = (q.T @ Ry.T).T # I don't like this\n",
    "\n",
    "        for i in range(len(q1)):\n",
    "            mask = (((q1[i] - scale < q[i]))\n",
    "                    & (q[i] < (q1[i] + scale)))\n",
    "            q_mask *= mask\n",
    "\n",
    "        q_reduced = q[:, q_mask]\n",
    "        int_reduced = image[q_mask]\n",
    "        q_image = np.vstack([q_reduced, int_reduced])\n",
    "        \n",
    "        qx_min = np.nanmin([*q_reduced[0], qx_min])\n",
    "        qx_max = np.nanmax([*q_reduced[0], qx_max])\n",
    "        qy_min = np.nanmin([*q_reduced[1], qy_min])\n",
    "        qy_max = np.nanmax([*q_reduced[1], qy_max])\n",
    "        qz_min = np.nanmin([*q_reduced[2], qz_min])\n",
    "        qz_max = np.nanmax([*q_reduced[2], qz_max])\n",
    "\n",
    "        q_image_list.append(q_image)\n",
    "\n",
    "    for cut_off in [-100, 0.1, 1]:\n",
    "        if cut_off == -100:\n",
    "            hdf_ext = 'all'\n",
    "        else:\n",
    "            hdf_ext = str(cut_off)\n",
    "        hdf_file = f'D:\\\\Musterman_postdoc\\\\20240223_Musterman\\\\20240223_sapphire_{hdf_ext}.h5'\n",
    "\n",
    "        # Consolidate and trim data\n",
    "        qx, qy, qz, q_int = [], [], [], []\n",
    "        for q_image in q_image_list:\n",
    "            int_mask = q_image[-1] > cut_off\n",
    "            qx.extend(q_image[0][int_mask])\n",
    "            qy.extend(q_image[1][int_mask])\n",
    "            qz.extend(q_image[2][int_mask])\n",
    "            q_int.extend(q_image[-1][int_mask])\n",
    "\n",
    "        q_spot = np.asarray([qx, qy, qz, q_int])\n",
    "\n",
    "        # Save data\n",
    "        with h5py.File(hdf_file, 'a') as f:\n",
    "            base_grp = f.require_group('sapphire')\n",
    "            angle_rc = base_grp.require_group('angle_rc')\n",
    "            energy_rc = base_grp.require_group('energy_rc')\n",
    "            fly_angle_rc = base_grp.require_group('fly_angle_rc')\n",
    "\n",
    "            if scantype == 'angle':\n",
    "                group = angle_rc\n",
    "            elif scantype == 'energy':\n",
    "                group = energy_rc\n",
    "            elif scantype == 'fly':\n",
    "                group = fly_angle_rc\n",
    "\n",
    "            new_data = group.require_dataset(f'scan{test.scanid}',\n",
    "                                            data=q_spot,\n",
    "                                            shape=q_spot.shape,\n",
    "                                            dtype=q_spot.dtype)\n",
    "            new_data.attrs['labels'] = ['qx', 'qy', 'qz', 'q_int']\n",
    "            new_data.attrs['theta'] = theta\n",
    "            new_data.attrs['energy'] = energy\n",
    "\n",
    "            print(list(group.keys()))\n",
    "\n",
    "    # Time estimates\n",
    "    if scantype == 'angle':\n",
    "        scanlist = angle_scanids\n",
    "    elif scantype == 'energy':\n",
    "        scanlist = energy_scanids\n",
    "    elif scantype == 'fly':\n",
    "        scanlist = fly_scanids\n",
    "\n",
    "    tf = ttime.monotonic()\n",
    "    dt = tf - t0\n",
    "    total_dt = tf - t_start\n",
    "    print_time = ttime.strftime('%H:%M:%S', ttime.gmtime(tf-t0))\n",
    "    print(f'Scan {test.scanid} took {print_time}.')\n",
    "    num_scans_finished = np.where(np.array(scanlist) == test.scanid)[0][0] + 1\n",
    "    num_scans_remaining = len(scanlist) - num_scans_finished\n",
    "    avg_scan_time = total_dt / num_scans_finished\n",
    "    est_time_remaining = avg_scan_time * num_scans_remaining\n",
    "    print_time_remain = ttime.strftime('%H:%M:%S', ttime.gmtime(est_time_remaining))\n",
    "    print_time_fin = ttime.strftime('%H:%M:%S', ttime.localtime(ttime.mktime(ttime.localtime()) + est_time_remaining))\n",
    "    print(f'{num_scans_remaining} scans remaining. Estimated {print_time_remain} time remaining completing at {print_time_fin}')\n",
    "\n",
    "    print('#' * 72)"
   ]
  },
  {
   "cell_type": "code",
   "execution_count": null,
   "metadata": {},
   "outputs": [],
   "source": [
    "with h5py.File(f'{base}20240223_sapphire_1.h5', 'a') as f:\n",
    "    base_grp = f['sapphire']\n",
    "    scan_grp_keys = base_grp.keys()\n",
    "\n",
    "    for scan_key in scan_grp_keys:\n",
    "        for scanid in base_grp[scan_key].keys():\n",
    "            q_spot = base_grp[scan_key][scanid][:]\n",
    "            q_cen = arbitrary_center_of_mass(q_spot[-1], *q_spot[:3])\n",
    "            base_grp[scan_key][scanid].attrs['center_of_mass'] = q_cen"
   ]
  },
  {
   "cell_type": "code",
   "execution_count": 8,
   "metadata": {},
   "outputs": [],
   "source": [
    "cif_dir = '''C:\\\\Users\\\\emusterma\\\\OneDrive - Brookhaven National Laboratory\\\\Documents\\\\Postdoc\\\\Literature\\\\CIF\\\\'''\n",
    "test.load_phase('AMCSD\\\\Corundum_0009327.cif', filedir=cif_dir, phase_name=\"corundum\")\n",
    "test.load_phase('AMCSD\\\\Silicon_0011244.cif', filedir=cif_dir, phase_name=\"silicon\")"
   ]
  },
  {
   "cell_type": "code",
   "execution_count": 45,
   "metadata": {},
   "outputs": [],
   "source": [
    "base = 'D:\\\\Musterman_postdoc\\\\20240223_Musterman\\\\'\n",
    "\n",
    "refls = {'scanid' : [],\n",
    "         'q_cen' : [],\n",
    "         'guess_hkl' : [],\n",
    "         'q_val' : []}\n",
    "\n",
    "with h5py.File(f'{base}20240223_sapphire_1.h5', 'r') as f:\n",
    "    base_grp = f['sapphire']\n",
    "    scan_grp_keys = base_grp.keys()\n",
    "\n",
    "    for scan_key in scan_grp_keys:\n",
    "        for scanid in base_grp[scan_key].keys():\n",
    "            q_cen = base_grp[scan_key][scanid].attrs['center_of_mass']\n",
    "            guess_hkl = np.round(test.phases['corundum'].HKL(q_cen)).astype(np.int32)\n",
    "\n",
    "            refls['scanid'].append(int(scanid[-6:]))\n",
    "            refls['q_cen'].append(q_cen)\n",
    "            refls['guess_hkl'].append(guess_hkl)\n",
    "            refls['q_val'].append(base_grp[scan_key][scanid][:])"
   ]
  },
  {
   "cell_type": "code",
   "execution_count": 305,
   "metadata": {},
   "outputs": [],
   "source": [
    "ind = np.where(np.array(refls['scanid']) == 153393)[0][0]"
   ]
  },
  {
   "cell_type": "code",
   "execution_count": 306,
   "metadata": {},
   "outputs": [],
   "source": [
    "fig, ax = plt.subplots(1, 1, figsize=(5, 5), dpi=200, subplot_kw={'projection':'3d'})\n",
    "\n",
    "q_plot = refls['q_val'][ind]\n",
    "\n",
    "qx_min, qx_max = np.min(q_plot[0]), np.max(q_plot[0])\n",
    "qy_min, qy_max = np.min(q_plot[1]), np.max(q_plot[1])\n",
    "qz_min, qz_max = np.min(q_plot[2]), np.max(q_plot[2])\n",
    "\n",
    "int_mask = q_plot[-1] > 0.5\n",
    "\n",
    "#ax.scatter(*q_plot[:3][int_mask], c=q_plot[-1][int_mask], s=1, alpha=0.5)\n",
    "ax.scatter(q_plot[0][int_mask],\n",
    "           q_plot[1][int_mask],\n",
    "           q_plot[2][int_mask],\n",
    "           c=q_plot[-1][int_mask], s=1, alpha=0.1)\n",
    "\n",
    "ax.set_xlim(qx_min, qx_max)\n",
    "ax.set_ylim(qy_min, qy_max)\n",
    "ax.set_zlim(qz_min, qz_max)\n",
    "\n",
    "ax.set_xlabel('qx [Å⁻¹]')\n",
    "ax.set_ylabel('qy [Å⁻¹]')\n",
    "ax.set_zlabel('qz [Å⁻¹]')\n",
    "ax.set_aspect('equal')\n",
    "plt.show()"
   ]
  },
  {
   "cell_type": "code",
   "execution_count": 307,
   "metadata": {},
   "outputs": [],
   "source": [
    "from scipy.interpolate import griddata\n",
    "\n",
    "q_spot = refls['q_val'][ind]\n",
    "\n",
    "all_qx = q_spot[0]\n",
    "all_qy = q_spot[1]\n",
    "all_qz = q_spot[2]\n",
    "all_int = q_spot[3]\n",
    "\n",
    "# Find bounds\n",
    "x_min = np.min(all_qx)\n",
    "x_max = np.max(all_qx)\n",
    "y_min = np.min(all_qy)\n",
    "y_max = np.max(all_qy)\n",
    "z_min = np.min(all_qz)\n",
    "z_max = np.max(all_qz)\n",
    "\n",
    "# Generate q-space grid\n",
    "gridstep = 0.001\n",
    "xx = np.linspace(x_min, x_max, int((x_max - x_min) / gridstep))\n",
    "yy = np.linspace(y_min, y_max, int((y_max - y_min) / gridstep))\n",
    "zz = np.linspace(z_min, z_max, int((z_max - z_min) / gridstep))\n",
    "\n",
    "grid = np.array(np.meshgrid(xx, yy, zz))\n",
    "grid = grid.reshape(3, grid.size // 3).T\n",
    "\n",
    "points = np.array([all_qx, all_qy, all_qz]).T\n",
    "\n",
    "int_grid = griddata(points, all_int, grid, method='nearest')\n",
    "int_grid = int_grid.reshape(yy.shape[0], xx.shape[0], zz.shape[0]).T"
   ]
  },
  {
   "cell_type": "code",
   "execution_count": 308,
   "metadata": {},
   "outputs": [],
   "source": [
    "from skimage import measure\n",
    "from matplotlib.ticker import FormatStrFormatter\n",
    "fig, ax = plt.subplots(1, 1, figsize=(5, 5), dpi=200, subplot_kw={'projection':'3d'})\n",
    "\n",
    "spacing = 0.005\n",
    "\n",
    "vol = int_grid\n",
    "#vol = GaussianFunctions.func_3d(grid, *popt).reshape(*int_grid.shape)\n",
    "#vol = GaussianFunctions.func_3d(np.array(np.meshgrid(xx, yy, zz)), *popt).T.reshape(*int_grid.shape)\n",
    "\n",
    "iso_vals = np.linspace(np.min(int_grid), np.max(int_grid), 7)[1:-1]\n",
    "iso_vals = [2.5, 5, 10, 20, 40, 80]\n",
    "\n",
    "for i, iso_val in enumerate(iso_vals):\n",
    "\n",
    "    #vol = int_grid\n",
    "    #iso_val = 10000\n",
    "    #spacing = 0.001\n",
    "    color = cm.viridis(i / len(iso_vals))\n",
    "    verts, faces, _, _ = measure.marching_cubes(vol, iso_val)\n",
    "\n",
    "    # I have no idea how the axes got so mixed up...\n",
    "    plot_x = np.interp(verts[:, 1], range(len(xx)), xx)\n",
    "    plot_y = np.interp(verts[:, 2], range(len(yy)), yy)\n",
    "    plot_z = np.interp(verts[:, 0], range(len(zz)), zz)\n",
    "\n",
    "    ax.plot_trisurf(plot_x, plot_y, plot_z, triangles=faces, alpha=0.1, color=color)\n",
    "\n",
    "ax.set_xlim(np.min(all_qx), np.max(all_qx))\n",
    "ax.set_ylim(np.min(all_qy), np.max(all_qy))\n",
    "ax.set_zlim(np.min(all_qz), np.max(all_qz))\n",
    "\n",
    "ax.xaxis.set_major_formatter(FormatStrFormatter('%.2f'))\n",
    "ax.yaxis.set_major_formatter(FormatStrFormatter('%.2f'))\n",
    "ax.zaxis.set_major_formatter(FormatStrFormatter('%.2f'))\n",
    "\n",
    "ax.set_xlabel('qx [Å⁻¹]')\n",
    "ax.set_ylabel('qy [Å⁻¹]')\n",
    "ax.set_zlabel('qz [Å⁻¹]')\n",
    "ax.set_aspect('equal')\n",
    "plt.show()"
   ]
  },
  {
   "cell_type": "code",
   "execution_count": null,
   "metadata": {},
   "outputs": [],
   "source": []
  },
  {
   "cell_type": "code",
   "execution_count": null,
   "metadata": {},
   "outputs": [],
   "source": []
  },
  {
   "cell_type": "code",
   "execution_count": 31,
   "metadata": {},
   "outputs": [],
   "source": [
    "fig, ax = plt.subplots(1, 1, figsize=(5, 5), dpi=200, subplot_kw={'projection':'3d'})\n",
    "\n",
    "for q_cen in refls['q_cen']:\n",
    "    ax.scatter(*q_cen, s=1, c='k')\n",
    "ax.scatter(0, 0, 0, s=10, c='r')\n",
    "\n",
    "\n",
    "ax.set_xlabel('qx [Å⁻¹]')\n",
    "ax.set_ylabel('qy [Å⁻¹]')\n",
    "ax.set_zlabel('qz [Å⁻¹]')\n",
    "ax.set_aspect('equal')\n",
    "\n",
    "plt.show()"
   ]
  },
  {
   "cell_type": "code",
   "execution_count": 724,
   "metadata": {},
   "outputs": [],
   "source": [
    "q_uniq = []\n",
    "q_arr = np.asarray(list(q_centers.values()))\n",
    "\n",
    "for q_i in q_arr:\n",
    "    if len(q_uniq) == 0:\n",
    "        q_uniq.append(q_i)\n",
    "    else:\n",
    "        q_diff = np.array(q_uniq) - q_i\n",
    "        if np.all(np.any(np.abs(q_diff) > 0.05, axis=1)):\n",
    "            q_uniq.append(q_i)"
   ]
  },
  {
   "cell_type": "code",
   "execution_count": null,
   "metadata": {},
   "outputs": [],
   "source": []
  },
  {
   "cell_type": "code",
   "execution_count": 64,
   "metadata": {},
   "outputs": [],
   "source": [
    "fit_ori, fit_min = iterative_dictionary_indexing(q_uniq,\n",
    "                                                 test.phases['corundum'],\n",
    "                                                 [np.min(test.tth_arr), np.max(test.tth_arr)],\n",
    "                                                 cut_off=0.05,\n",
    "                                                 start_angle=10,\n",
    "                                                 angle_resolution=0.01, \n",
    "                                                 euler_bounds=[[-180, 180], [0, 180], [-180, 180]])"
   ]
  },
  {
   "cell_type": "code",
   "execution_count": 65,
   "metadata": {},
   "outputs": [
    {
     "data": {
      "text/plain": [
       "[(-150, 120, 150),\n",
       " (-150, 120, 150),\n",
       " (-95.0, 67.5, -22.5),\n",
       " (-95.0, 67.5, -22.5),\n",
       " (-24.375, 111.875, 158.125),\n",
       " (-144.6875, 112.1875, 157.8125),\n",
       " (-95.3125, 67.65625, -22.1875),\n",
       " (-95.3125, 67.65625, -22.1875),\n",
       " (-95.3125, 67.65625, -22.1875),\n",
       " (-95.3125, 67.65625, -22.20703125),\n",
       " (-95.3125, 67.65625, -22.20703125)]"
      ]
     },
     "execution_count": 65,
     "metadata": {},
     "output_type": "execute_result"
    }
   ],
   "source": [
    "fit_ori"
   ]
  },
  {
   "cell_type": "code",
   "execution_count": null,
   "metadata": {},
   "outputs": [],
   "source": []
  },
  {
   "cell_type": "code",
   "execution_count": 223,
   "metadata": {},
   "outputs": [],
   "source": [
    "all_hkls, all_qs, all_fs = generate_reciprocal_lattice(test.phases['corundum'], tth_range=(np.min(test.tth_arr), np.max(test.tth_arr)))\n",
    "#plot_qs = euler_rotation(all_qs, *-np.array(fit_ori[-1]))\n",
    "plot_qs = euler_rotation(all_qs, 0, 0, 0)\n",
    "\n",
    "fig, ax = plt.subplots(1, 1, figsize=(5, 5), dpi=200, subplot_kw={'projection':'3d'})\n",
    "\n",
    "ax.scatter(*np.asarray(plot_qs).T, c='k', s=all_fs/20)\n",
    "ax.scatter(0, 0, 0, c='k', s=10)\n",
    "\n",
    "for q_cen in q_centers.values():\n",
    "    ax.scatter(*q_cen, s=1, c='r')\n",
    "\n",
    "lat_const = -test.phases['corundum'].Q([[1, 0, 0], [0, 1, 0], [0, 0, 1]])\n",
    "ax.quiver([0, 0, 0], [0 ,0, 0], [0, 0, 0], *lat_const.T, color=[[1, 0, 0], [0, 1, 0], [0, 0, 1]])\n",
    "\n",
    "ax.set_xlabel('qx [Å⁻¹]')\n",
    "ax.set_ylabel('qy [Å⁻¹]')\n",
    "ax.set_zlabel('qz [Å⁻¹]')\n",
    "ax.set_aspect('equal')\n",
    "\n",
    "plt.show()"
   ]
  },
  {
   "cell_type": "code",
   "execution_count": null,
   "metadata": {},
   "outputs": [],
   "source": []
  },
  {
   "cell_type": "code",
   "execution_count": 12,
   "metadata": {},
   "outputs": [],
   "source": [
    "def iterative_dictionary_indexing(spot_qs, Phase, tth_range, cut_off=0.1, start_angle=10, angle_resolution=0.001,\n",
    "                                  euler_bounds=[[-180, 180], [0, 180], [-180, 180]]):\n",
    "    from itertools import product\n",
    "\n",
    "    all_hkls, all_qs, all_fs = generate_reciprocal_lattice(Phase, tth_range=tth_range)\n",
    "\n",
    "    dist = euclidean_distances(all_qs)\n",
    "    min_q = np.min(dist[dist > 0])\n",
    "\n",
    "    step = start_angle\n",
    "    #print(f'Finding orientations with {step} deg resolution...')\n",
    "    phi1_list = np.arange(*euler_bounds[0], step)\n",
    "    PHI_list = np.arange(*euler_bounds[1], step)\n",
    "    phi2_list = np.arange(*euler_bounds[2], step)\n",
    "    orientations = list(product(phi1_list, PHI_list, phi2_list))\n",
    "\n",
    "    fit_ori = []\n",
    "    fit_min = []\n",
    "    ITERATE = True\n",
    "    while ITERATE:\n",
    "        step /= 2 # half the resolution each time\n",
    "        if step <= angle_resolution:\n",
    "            ITERATE = False\n",
    "\n",
    "        #print(f'Evaluating the current Euler space...')\n",
    "        min_list = []\n",
    "        for orientation in orientations:\n",
    "            dist = euclidean_distances(spot_qs, euler_rotation(all_qs, *orientation))\n",
    "            min_list.append(np.sum(np.min(dist, axis=1)**2))\n",
    "        \n",
    "        fit_min.append(np.min(min_list))\n",
    "        fit_ori.append(orientations[np.argmin(min_list)])\n",
    "        \n",
    "        min_mask = min_list < cut_off * (np.max(min_list) - np.min(min_list)) + np.min(min_list)\n",
    "        best_orientations = np.asarray(orientations)[min_mask]\n",
    "\n",
    "        #print(f'Finding new orientations with {step:.4f} deg resolution...')\n",
    "        new_orientations = []\n",
    "        for orientation in best_orientations:\n",
    "            phi1, PHI, phi2 = orientation\n",
    "            new_phi1 = [phi1 - step, phi1, phi1 + step]\n",
    "            new_PHI = [PHI - step, PHI, PHI + step]\n",
    "            new_phi2 = [phi2 - step, phi2, phi2 + step]\n",
    "\n",
    "            sub_orientations = product(new_phi1, new_PHI, new_phi2)\n",
    "\n",
    "            for sub_orientation in sub_orientations:\n",
    "                if sub_orientation not in new_orientations:\n",
    "                    new_orientations.append(sub_orientation)\n",
    "            \n",
    "            orientations = new_orientations\n",
    "\n",
    "    #print(f'Evaluating the last Euler space...')\n",
    "    min_list = []\n",
    "    for orientation in orientations:\n",
    "        dist = euclidean_distances(spot_qs, euler_rotation(all_qs, *orientation))\n",
    "        min_list.append(np.sum(np.min(dist, axis=1)**2))\n",
    "    \n",
    "    fit_min.append(np.min(min_list))\n",
    "    fit_ori.append(orientations[np.argmin(min_list)])\n",
    "\n",
    "    return fit_ori, fit_min"
   ]
  },
  {
   "cell_type": "code",
   "execution_count": 1306,
   "metadata": {},
   "outputs": [
    {
     "data": {
      "text/plain": [
       "array([0.2159456 , 0.10880118, 0.32953855])"
      ]
     },
     "execution_count": 1306,
     "metadata": {},
     "output_type": "execute_result"
    }
   ],
   "source": [
    "rot1, rot2, rot3 = -test.ai.rot1, -test.ai.rot2, test.ai.rot3\n",
    "\n",
    "Rx = np.asarray([[1, 0, 0],\n",
    "                 [0, np.cos(rot1), -np.sin(rot1)],\n",
    "                 [0, np.sin(rot1), np.cos(rot1)]])\n",
    "\n",
    "Ry = np.asarray([[np.cos(rot2), 0, np.sin(rot2)],\n",
    "                 [0, 1, 0],\n",
    "                 [-np.sin(rot2), 0, np.cos(rot2)]])\n",
    "\n",
    "Rz = np.asarray([[np.cos(rot3), -np.sin(rot3), 0],\n",
    "                 [np.sin(rot3), np.cos(rot3), 0],\n",
    "                 [0, 0, 1]])\n",
    "\n",
    "p1 = 0 * test.ai.pixel1 - test.ai.poni1 + (test.ai.pixel1 / 2) # half pixel offset\n",
    "p2 = 0 * test.ai.pixel2 - test.ai.poni2 + (test.ai.pixel2 / 2) # half pixel offset\n",
    "p3 = test.ai.dist\n",
    "pixel = np.array([p1, p2, p3])\n",
    "R = Rz @ Ry @ Rx\n",
    "t1, t2, t3 = R @ pixel\n",
    "xyz = np.array([t3, t1, t2])\n",
    "xyz"
   ]
  },
  {
   "cell_type": "code",
   "execution_count": 1223,
   "metadata": {},
   "outputs": [],
   "source": [
    "t = 500e-6\n",
    "t = 0\n",
    "Rt = np.array([[*R[0], 0],\n",
    "               [*R[1], 0],\n",
    "               [*R[2], t],\n",
    "               [0, 0, 0, 1]])"
   ]
  },
  {
   "cell_type": "code",
   "execution_count": 1224,
   "metadata": {},
   "outputs": [
    {
     "data": {
      "text/plain": [
       "array([-0.1094807,  0.2883125,  0.264839 ,  1.       ])"
      ]
     },
     "execution_count": 1224,
     "metadata": {},
     "output_type": "execute_result"
    }
   ],
   "source": [
    "Rt @ [test.ai.poni1, test.ai.poni2, test.ai.dist, 1]"
   ]
  },
  {
   "cell_type": "code",
   "execution_count": null,
   "metadata": {},
   "outputs": [],
   "source": []
  },
  {
   "cell_type": "code",
   "execution_count": null,
   "metadata": {},
   "outputs": [],
   "source": []
  },
  {
   "cell_type": "code",
   "execution_count": 10,
   "metadata": {},
   "outputs": [],
   "source": [
    "unstrained = LatticeParameters.from_Phase(test.phases['corundum'])"
   ]
  },
  {
   "cell_type": "code",
   "execution_count": 238,
   "metadata": {},
   "outputs": [
    {
     "data": {
      "text/plain": [
       "array([[ 4.757     , -2.3785    ,  0.        ],\n",
       "       [ 0.        ,  4.11968285,  0.        ],\n",
       "       [ 0.        ,  0.        , 12.9877    ]])"
      ]
     },
     "execution_count": 238,
     "metadata": {},
     "output_type": "execute_result"
    }
   ],
   "source": [
    "unstrained.Amat"
   ]
  },
  {
   "cell_type": "code",
   "execution_count": 14,
   "metadata": {},
   "outputs": [
    {
     "data": {
      "text/plain": [
       "array([[ 0.24273713,  0.12136857, -0.        ],\n",
       "       [ 0.        ,  0.21021652, -0.        ],\n",
       "       [ 0.        ,  0.        ,  0.07699593]])"
      ]
     },
     "execution_count": 14,
     "metadata": {},
     "output_type": "execute_result"
    }
   ],
   "source": [
    "unstrained.Bmat"
   ]
  },
  {
   "cell_type": "code",
   "execution_count": 16,
   "metadata": {},
   "outputs": [
    {
     "data": {
      "text/plain": [
       "array([0.24273713, 0.        , 0.        ])"
      ]
     },
     "execution_count": 16,
     "metadata": {},
     "output_type": "execute_result"
    }
   ],
   "source": [
    "unstrained.b1"
   ]
  },
  {
   "cell_type": "code",
   "execution_count": 19,
   "metadata": {},
   "outputs": [],
   "source": [
    "lp = [unstrained.a,\n",
    "      unstrained.b,\n",
    "      unstrained.c,\n",
    "      unstrained.alpha,\n",
    "      unstrained.beta,\n",
    "      unstrained.gamma]\n",
    "\n",
    "rp = [unstrained.a_star,\n",
    "      unstrained.b_star,\n",
    "      unstrained.c_star,\n",
    "      unstrained.alpha_star,\n",
    "      unstrained.beta_star,\n",
    "      unstrained.gamma_star]"
   ]
  },
  {
   "cell_type": "code",
   "execution_count": 30,
   "metadata": {},
   "outputs": [
    {
     "data": {
      "text/plain": [
       "119.99999999999999"
      ]
     },
     "execution_count": 30,
     "metadata": {},
     "output_type": "execute_result"
    }
   ],
   "source": [
    "np.degrees(unstrained.gamma)"
   ]
  },
  {
   "cell_type": "code",
   "execution_count": 28,
   "metadata": {},
   "outputs": [
    {
     "data": {
      "text/plain": [
       "0.9999909821469473"
      ]
     },
     "execution_count": 28,
     "metadata": {},
     "output_type": "execute_result"
    }
   ],
   "source": [
    "strained.a3 @ strained.b3"
   ]
  },
  {
   "cell_type": "code",
   "execution_count": 20,
   "metadata": {},
   "outputs": [
    {
     "data": {
      "text/plain": [
       "[0.2427371323059179,\n",
       " 0.2427371323059179,\n",
       " 0.07699592691546615,\n",
       " 1.5707963267948968,\n",
       " 1.5707963267948968,\n",
       " 1.0471975511965979]"
      ]
     },
     "execution_count": 20,
     "metadata": {},
     "output_type": "execute_result"
    }
   ],
   "source": [
    "rp"
   ]
  },
  {
   "cell_type": "code",
   "execution_count": 22,
   "metadata": {},
   "outputs": [
    {
     "data": {
      "text/plain": [
       "[4.757,\n",
       " 4.757,\n",
       " 12.9877,\n",
       " 1.5707963267948966,\n",
       " 1.5707963267948966,\n",
       " 2.0943951023931953]"
      ]
     },
     "execution_count": 22,
     "metadata": {},
     "output_type": "execute_result"
    }
   ],
   "source": [
    "lp"
   ]
  },
  {
   "cell_type": "code",
   "execution_count": 23,
   "metadata": {},
   "outputs": [
    {
     "data": {
      "text/plain": [
       "(4.757,\n",
       " 4.757,\n",
       " 12.987700000000002,\n",
       " 1.5707963267948966,\n",
       " 1.5707963267948966,\n",
       " 2.0943951023931953)"
      ]
     },
     "execution_count": 23,
     "metadata": {},
     "output_type": "execute_result"
    }
   ],
   "source": [
    "LatticeParameters.convert_lat_const(*rp)"
   ]
  },
  {
   "cell_type": "code",
   "execution_count": null,
   "metadata": {},
   "outputs": [],
   "source": []
  },
  {
   "cell_type": "code",
   "execution_count": 56,
   "metadata": {},
   "outputs": [],
   "source": [
    "scanlist = [153334, 153344, 153350, 153354, 153359, 153426, 153430]\n",
    "#scanlist = [153362, 153367, 153372, 153375, 153378, 153429, 153432]\n",
    "#scanlist = [153365, 153366, 153371, 153374, 153377, 153428, 153431]\n",
    "#scanlist = [153381, 153386, 153391, 153396, 153400, 153405]\n",
    "#scanlist = [153384, 153388, 153394, 153398, 153403, 153409]\n",
    "#scanlist = [153383, 153387, 153393, 153397, 153402, 153408]\n",
    "exp_mask = np.array([d in scanlist for d in refls['scanid']])"
   ]
  },
  {
   "cell_type": "code",
   "execution_count": 57,
   "metadata": {},
   "outputs": [
    {
     "name": "stdout",
     "output_type": "stream",
     "text": [
      "[[-5.81592641  1.1637518   1.35684899]\n",
      " [ 1.1637518  -0.57583109 -0.34950231]\n",
      " [ 1.35684899 -0.34950231 -1.18956106]]\n",
      "3.7906592821976837\n",
      "[[ 0.99997592 -0.00155771 -0.00676245]\n",
      " [ 0.00147959  0.9999323  -0.01154107]\n",
      " [ 0.00677997  0.01153079  0.99991053]]\n",
      "[-1.34439841  0.0069396   1.35593474]\n"
     ]
    }
   ],
   "source": [
    "# Fitting reflections\n",
    "from scipy import linalg\n",
    "from scipy.spatial.transform import Rotation\n",
    "I = np.asarray([[1, 0, 0], [0, 1, 0], [0, 0, 1]])\n",
    "\n",
    "x, res, rnk, s = linalg.lstsq(np.array(refls['guess_hkl'])[exp_mask], np.array(refls['q_cen'])[exp_mask])\n",
    "UBmat = x.T / (2 * np.pi) # why transpose???\n",
    "strained = LatticeParameters.from_UBmat(UBmat)\n",
    "old_strained = LatticeParameters.from_Bmat(UBmat) \n",
    "Tij = np.dot(strained.Bmat, np.linalg.inv(unstrained.Bmat))\n",
    "eij = 0.5 * (Tij + Tij.T) - I\n",
    "U = UBmat @ linalg.inv(strained.Bmat)\n",
    "print((eij - np.trace(eij) * I) * 1e3)\n",
    "print(np.trace(eij) * 1e3)\n",
    "print(U)\n",
    "print(Rotation.from_matrix(U).as_euler('xzx'))"
   ]
  },
  {
   "cell_type": "code",
   "execution_count": null,
   "metadata": {},
   "outputs": [],
   "source": []
  },
  {
   "cell_type": "code",
   "execution_count": 337,
   "metadata": {},
   "outputs": [
    {
     "name": "stdout",
     "output_type": "stream",
     "text": [
      "[[-3.96386753 -1.19938008  0.3512535 ]\n",
      " [-1.19938008  0.2711375   2.45731339]\n",
      " [ 0.3512535   2.45731339 -1.44222133]]\n",
      "2.5674756801311593\n"
     ]
    }
   ],
   "source": [
    "# Fitting reflections\n",
    "from scipy import linalg\n",
    "I = np.asarray([[1, 0, 0], [0, 1, 0], [0, 0, 1]])\n",
    "\n",
    "x, res, rnk, s = linalg.lstsq(refls['guess_hkl'], refls['q_cen'])\n",
    "UBmat = x.T / (2 * np.pi) # why transpose???\n",
    "strained = LatticeParameters.from_UBmat(UBmat)\n",
    "old_strained = LatticeParameters.from_Bmat(UBmat) \n",
    "Tij = np.dot(strained.Bmat, np.linalg.inv(unstrained.Bmat))\n",
    "eij = 0.5 * (Tij + Tij.T) - I\n",
    "new_eij = U @ eij @ U.T\n",
    "print((eij - np.trace(eij) * I) * 1e3)\n",
    "print(np.trace(eij) * 1e3)"
   ]
  },
  {
   "cell_type": "code",
   "execution_count": 335,
   "metadata": {},
   "outputs": [
    {
     "name": "stdout",
     "output_type": "stream",
     "text": [
      "[[-3.95586312 -1.18309112  0.37828077]\n",
      " [-1.18309112  0.31803431  2.44840238]\n",
      " [ 0.37828077  2.44840238 -1.49712255]]\n",
      "2.5674756801311576\n"
     ]
    }
   ],
   "source": [
    "new_eij = U.T @ eij @ U\n",
    "(new_eij - np.trace(new_eij) * I)\n",
    "print((new_eij - np.trace(new_eij) * I) * 1e3)\n",
    "print(np.trace(new_eij) * 1e3)"
   ]
  },
  {
   "cell_type": "code",
   "execution_count": 334,
   "metadata": {},
   "outputs": [
    {
     "name": "stdout",
     "output_type": "stream",
     "text": [
      "[[-3.96386753 -1.19938008  0.3512535 ]\n",
      " [-1.19938008  0.2711375   2.45731339]\n",
      " [ 0.3512535   2.45731339 -1.44222133]]\n",
      "2.5674756801311593\n"
     ]
    }
   ],
   "source": [
    "print((eij - np.trace(eij) * I) * 1e3)\n",
    "print(np.trace(eij) * 1e3)"
   ]
  },
  {
   "cell_type": "code",
   "execution_count": 249,
   "metadata": {},
   "outputs": [],
   "source": [
    "r, v = linalg.polar(UBmat, side='left')"
   ]
  },
  {
   "cell_type": "code",
   "execution_count": 250,
   "metadata": {},
   "outputs": [
    {
     "data": {
      "text/plain": [
       "array([[0.26540713, 0.05416259, 0.00189336],\n",
       "       [0.05416259, 0.20356794, 0.00177317],\n",
       "       [0.00189336, 0.00177317, 0.07711504]])"
      ]
     },
     "execution_count": 250,
     "metadata": {},
     "output_type": "execute_result"
    }
   ],
   "source": [
    "v"
   ]
  },
  {
   "cell_type": "code",
   "execution_count": 251,
   "metadata": {},
   "outputs": [
    {
     "data": {
      "text/plain": [
       "array([[ 0.96600124,  0.25843659, -0.00722052],\n",
       "       [-0.25849452,  0.96597298, -0.00876298],\n",
       "       [ 0.00471015,  0.01033151,  0.99993554]])"
      ]
     },
     "execution_count": 251,
     "metadata": {},
     "output_type": "execute_result"
    }
   ],
   "source": [
    "r"
   ]
  },
  {
   "cell_type": "code",
   "execution_count": 252,
   "metadata": {},
   "outputs": [
    {
     "data": {
      "text/plain": [
       "array([[ 0.99997369,  0.00113096, -0.00716476],\n",
       "       [-0.00120345,  0.99994805, -0.01012168],\n",
       "       [ 0.00715294,  0.01013003,  0.99992311]])"
      ]
     },
     "execution_count": 252,
     "metadata": {},
     "output_type": "execute_result"
    }
   ],
   "source": [
    "U = UBmat @ linalg.inv(strained.Bmat)\n",
    "U @ U.T # This should not have worked\n",
    "U"
   ]
  },
  {
   "cell_type": "code",
   "execution_count": 240,
   "metadata": {},
   "outputs": [
    {
     "data": {
      "text/plain": [
       "array([[-1.39639185, -1.19938008,  0.3512535 ],\n",
       "       [-1.19938008,  2.83861318,  2.45731339],\n",
       "       [ 0.3512535 ,  2.45731339,  1.12525435]])"
      ]
     },
     "execution_count": 240,
     "metadata": {},
     "output_type": "execute_result"
    }
   ],
   "source": [
    "eij *1e3"
   ]
  },
  {
   "cell_type": "code",
   "execution_count": 243,
   "metadata": {},
   "outputs": [
    {
     "data": {
      "text/plain": [
       "2.5674756801311593"
      ]
     },
     "execution_count": 243,
     "metadata": {},
     "output_type": "execute_result"
    }
   ],
   "source": [
    "np.trace(eij) * 1e3"
   ]
  },
  {
   "cell_type": "code",
   "execution_count": 244,
   "metadata": {},
   "outputs": [
    {
     "data": {
      "text/plain": [
       "array([[-3963.86753285, -1199.38007712,   351.253497  ],\n",
       "       [-1199.38007712,   271.13750213,  2457.31338969],\n",
       "       [  351.253497  ,  2457.31338969, -1442.22132954]])"
      ]
     },
     "execution_count": 244,
     "metadata": {},
     "output_type": "execute_result"
    }
   ],
   "source": [
    "(eij - np.trace(eij) * I) * 1e6"
   ]
  },
  {
   "cell_type": "code",
   "execution_count": 247,
   "metadata": {},
   "outputs": [
    {
     "data": {
      "text/plain": [
       "array([[-0.00140404, -0.0012155 ,  0.00032362],\n",
       "       [-0.0012155 ,  0.00279159,  0.00246511],\n",
       "       [ 0.00032362,  0.00246511,  0.00117993]])"
      ]
     },
     "execution_count": 247,
     "metadata": {},
     "output_type": "execute_result"
    }
   ],
   "source": [
    "new_eij = U @ eij @ U.T\n",
    "new_eij"
   ]
  },
  {
   "cell_type": "code",
   "execution_count": 248,
   "metadata": {},
   "outputs": [
    {
     "data": {
      "text/plain": [
       "array([[-3971.51847768, -1215.4977806 ,   323.62357906],\n",
       "       [-1215.4977806 ,   224.10934522,  2465.10988514],\n",
       "       [  323.62357906,  2465.10988514, -1387.5422278 ]])"
      ]
     },
     "execution_count": 248,
     "metadata": {},
     "output_type": "execute_result"
    }
   ],
   "source": [
    "(new_eij - np.trace(new_eij) * I) * 1e6"
   ]
  },
  {
   "cell_type": "code",
   "execution_count": null,
   "metadata": {},
   "outputs": [],
   "source": []
  },
  {
   "cell_type": "code",
   "execution_count": null,
   "metadata": {},
   "outputs": [],
   "source": []
  },
  {
   "cell_type": "code",
   "execution_count": 947,
   "metadata": {},
   "outputs": [],
   "source": [
    "b1, b2, b3 = x\n",
    "b1_mag = linalg.norm(b1)\n",
    "b2_mag = linalg.norm(b2)\n",
    "b3_mag = linalg.norm(b3)\n",
    "beta1 = np.arccos(np.dot(b3, b2) / (linalg.norm(b3) * linalg.norm(b2)))\n",
    "beta2 = np.arccos(np.dot(b1, b3) / (linalg.norm(b1) * linalg.norm(b3)))\n",
    "beta3 = np.arccos(np.dot(b1, b2) / (linalg.norm(b1) * linalg.norm(b2)))"
   ]
  },
  {
   "cell_type": "code",
   "execution_count": 948,
   "metadata": {},
   "outputs": [
    {
     "data": {
      "text/plain": [
       "60.254735809135845"
      ]
     },
     "execution_count": 948,
     "metadata": {},
     "output_type": "execute_result"
    }
   ],
   "source": [
    "np.degrees(beta3)"
   ]
  },
  {
   "cell_type": "code",
   "execution_count": 949,
   "metadata": {},
   "outputs": [],
   "source": [
    "a1 = (2 * np.pi * np.cross(b2, b3)) / (b1 @ (np.cross(b2, b3)))\n",
    "a2 = (2 * np.pi * np.cross(b3, b1)) / (b1 @ (np.cross(b2, b3)))\n",
    "a3 = (2 * np.pi * np.cross(b1, b2)) / (b1 @ (np.cross(b2, b3)))\n",
    "V = a1 @ (np.cross(a2, a3))\n",
    "a1_mag = linalg.norm(a1)\n",
    "a2_mag = linalg.norm(a2)\n",
    "a3_mag = linalg.norm(a3)\n",
    "alpha1 = np.arccos(np.dot(a3, a2) / (linalg.norm(a3) * linalg.norm(a2)))\n",
    "alpha2 = np.arccos(np.dot(a1, a3) / (linalg.norm(a1) * linalg.norm(a3)))\n",
    "alpha3 = np.arccos(np.dot(a1, a2) / (linalg.norm(a1) * linalg.norm(a2)))"
   ]
  },
  {
   "cell_type": "code",
   "execution_count": 950,
   "metadata": {},
   "outputs": [
    {
     "name": "stdout",
     "output_type": "stream",
     "text": [
      "4.752193877661791\n",
      "4.745106056485653\n",
      "12.97143911150735\n",
      "90.31147516710972\n",
      "89.88224041347546\n",
      "119.74544856208159\n"
     ]
    }
   ],
   "source": [
    "print(linalg.norm(a1))\n",
    "print(linalg.norm(a2))\n",
    "print(linalg.norm(a3))\n",
    "print(np.degrees(alpha1))\n",
    "print(np.degrees(alpha2))\n",
    "print(np.degrees(alpha3))"
   ]
  },
  {
   "cell_type": "code",
   "execution_count": 951,
   "metadata": {},
   "outputs": [],
   "source": [
    "a1_ref = test.phases['corundum'].a\n",
    "a2_ref = test.phases['corundum'].b\n",
    "a3_ref = test.phases['corundum'].c\n",
    "V_ref = test.phases['corundum'].lattice.UnitCellVolume()\n",
    "alpha1_ref = np.radians(test.phases['corundum'].alpha)\n",
    "alpha2_ref = np.radians(test.phases['corundum'].beta)\n",
    "alpha3_ref = np.radians(test.phases['corundum'].gamma)\n",
    "b1_ref, b2_ref, b3_ref = test.phases['corundum'].B.T # The transpose bothers me\n",
    "beta1_ref = np.radians(vector_angle(b2_ref, b3_ref))\n",
    "b3_ref = linalg.norm(b3_ref)\n",
    "rec_scale = 2 * np.pi\n",
    "#rec_scale = 1\n",
    "\n",
    "I = np.asarray([[1, 0, 0], [0, 1, 0], [0, 0, 1]])\n",
    "\n",
    "A_ref = np.array([[a1_ref, a2_ref * np.cos(alpha3_ref), a3_ref * np.cos(alpha2_ref)],\n",
    "                  [0, a2_ref * np.sin(alpha3_ref), -a3_ref * np.sin(alpha2_ref) * np.cos(beta1_ref)],\n",
    "                  [0, 0, rec_scale / b3_ref]])\n",
    "\n",
    "delta = (-V - V_ref) / V_ref # negative because I messed up the coordinate system somehow...\n",
    "\n",
    "A_meas = np.array([[a1_mag, a2_mag * np.cos(alpha3), a3_mag * np.cos(alpha2)],\n",
    "                   [0, a2_mag * np.sin(alpha3), -a3_mag * np.sin(alpha2) * np.cos(beta1)],\n",
    "                   [0, 0, rec_scale / b3_mag]])\n",
    "#A_meas -= I * delta\n",
    "\n",
    "#Tij = A_meas @ linalg.inv(A_ref)\n",
    "Tij = linalg.inv(A_ref) @ A_meas\n",
    "eij = 0.5 * (Tij + Tij.T) - I"
   ]
  },
  {
   "cell_type": "code",
   "execution_count": 775,
   "metadata": {},
   "outputs": [
    {
     "data": {
      "text/plain": [
       "array([[-1.01032633,  2.55860732, -1.20190563],\n",
       "       [ 2.55860732,  0.0484595 , -8.00820118],\n",
       "       [-1.20190563, -8.00820118, -1.26705309]])"
      ]
     },
     "execution_count": 775,
     "metadata": {},
     "output_type": "execute_result"
    }
   ],
   "source": [
    "eij * 1e3"
   ]
  },
  {
   "cell_type": "code",
   "execution_count": 846,
   "metadata": {},
   "outputs": [
    {
     "data": {
      "text/plain": [
       "array([4.757, 0.   , 0.   ])"
      ]
     },
     "execution_count": 846,
     "metadata": {},
     "output_type": "execute_result"
    }
   ],
   "source": [
    "A_ref[:, 0]"
   ]
  },
  {
   "cell_type": "code",
   "execution_count": 848,
   "metadata": {},
   "outputs": [
    {
     "data": {
      "text/plain": [
       "array([4.757, 0.   , 0.   ])"
      ]
     },
     "execution_count": 848,
     "metadata": {},
     "output_type": "execute_result"
    }
   ],
   "source": [
    "a1, a2, a3 = A_ref.T\n",
    "a1"
   ]
  },
  {
   "cell_type": "code",
   "execution_count": null,
   "metadata": {},
   "outputs": [],
   "source": []
  },
  {
   "cell_type": "code",
   "execution_count": 777,
   "metadata": {},
   "outputs": [],
   "source": [
    "a0 = test.phases['corundum'].a\n",
    "b0 = test.phases['corundum'].b\n",
    "c0 = test.phases['corundum'].c\n",
    "alpha0 = np.radians(test.phases['corundum'].alpha)\n",
    "beta0 = np.radians(test.phases['corundum'].beta)\n",
    "gamma0 = np.radians(test.phases['corundum'].gamma)\n",
    "gamma0_rec = np.radians(vector_angle(*test.phases['corundum'].B[:, :2].T))\n",
    "\n",
    "a1 = a1_mag\n",
    "b1 = a2_mag\n",
    "c1 = a3_mag\n",
    "alpha1 = alpha1\n",
    "beta1 = alpha2\n",
    "gamma1 = alpha3\n",
    "gamma1_rec = beta3\n",
    "\n",
    "l11 = ((a1 * np.sin(beta1) * np.sin(gamma1_rec)) / (a0 * np.sin(beta0) * np.sin(gamma0_rec))) - 1\n",
    "l22 = ((b1 * np.sin(alpha1)) / (b0 * np.sin(alpha0))) - 1\n",
    "l33 = (c1 / c0) - 1\n",
    "\n",
    "l12 = 0.5 * ((b1 * np.sin(alpha1) * np.cos(gamma0_rec)) / (b0 * np.sin(alpha0) * np.sin(gamma0_rec))\n",
    "             - (a1 * np.sin(beta1) * np.cos(gamma1_rec)) / (a0 * np.sin(beta0) * np.sin(gamma0_rec)))\n",
    "\n",
    "l13 = 0.5 * ((a1 * np.cos(beta1)) / (a0 * np.sin(beta0) * np.sin(gamma0_rec))\n",
    "             + ((np.cos(gamma0_rec)) / (np.sin(gamma0_rec))) * ((b1 * np.cos(alpha1)) / (b0 * np.sin(alpha0))\n",
    "                                                                - (c1 * np.cos(alpha0)) / (c0 * np.sin(alpha0)))\n",
    "             - (c1 * np.cos(beta0)) / (c0 * np.sin(beta0) * np.sin(gamma0_rec)))\n",
    "\n",
    "l23 = 0.5 * ((b1 * np.cos(alpha1)) / (b0 * np.sin(alpha0)) - (c1 * np.cos(alpha0)) / (c0 * np.sin(alpha0)))\n",
    "\n",
    "strain = np.array([[l11, l12, l13],\n",
    "                   [l12, l22, l23],\n",
    "                   [l13, l23, l33]])\n",
    "I = np.asarray([[1, 0, 0], [0, 1, 0], [0, 0, 1]])"
   ]
  },
  {
   "cell_type": "code",
   "execution_count": 778,
   "metadata": {},
   "outputs": [
    {
     "data": {
      "text/plain": [
       "array([[ 1.54197003,  1.78981635, -0.37995972],\n",
       "       [ 1.78981635, -2.51504297, -2.71132409],\n",
       "       [-0.37995972, -2.71132409, -1.25202218]])"
      ]
     },
     "execution_count": 778,
     "metadata": {},
     "output_type": "execute_result"
    }
   ],
   "source": [
    "strain * 1e3"
   ]
  },
  {
   "cell_type": "code",
   "execution_count": null,
   "metadata": {},
   "outputs": [],
   "source": []
  },
  {
   "cell_type": "code",
   "execution_count": 829,
   "metadata": {},
   "outputs": [],
   "source": [
    "test_hkls = [[3, 1, 1], [2, 1, 0], [3, 2, 0]]\n",
    "test_q = []\n",
    "\n",
    "test_q.append(test.phases['corundum'].Q(test_hkls[0]) * 0.999)\n",
    "test_q.append(test.phases['corundum'].Q(test_hkls[1]) * 1.001)\n",
    "test_q.append(test.phases['corundum'].Q(test_hkls[2]) * 0.999)"
   ]
  },
  {
   "cell_type": "code",
   "execution_count": 830,
   "metadata": {},
   "outputs": [
    {
     "data": {
      "text/plain": [
       "array([[ 1.53888884,  0.00528332,  0.        ],\n",
       "       [ 0.73894117,  1.31158356, -0.        ],\n",
       "       [-0.02287744, -0.00792498,  0.4832959 ]])"
      ]
     },
     "execution_count": 830,
     "metadata": {},
     "output_type": "execute_result"
    }
   ],
   "source": [
    "x, res, rnk, s = linalg.lstsq(test_hkls, test_q)\n",
    "x"
   ]
  },
  {
   "cell_type": "code",
   "execution_count": 831,
   "metadata": {},
   "outputs": [],
   "source": [
    "b1, b2, b3 = x\n",
    "b1_mag = linalg.norm(b1)\n",
    "b2_mag = linalg.norm(b2)\n",
    "b3_mag = linalg.norm(b3)\n",
    "beta1 = np.arccos(np.dot(b3, b2) / (linalg.norm(b3) * linalg.norm(b2)))\n",
    "beta2 = np.arccos(np.dot(b1, b3) / (linalg.norm(b1) * linalg.norm(b3)))\n",
    "beta3 = np.arccos(np.dot(b1, b2) / (linalg.norm(b1) * linalg.norm(b2)))\n",
    "\n",
    "a1 = (2 * np.pi * np.cross(b2, b3)) / (b1 @ (np.cross(b2, b3)))\n",
    "a2 = (2 * np.pi * np.cross(b3, b1)) / (b1 @ (np.cross(b2, b3)))\n",
    "a3 = (2 * np.pi * np.cross(b1, b2)) / (b1 @ (np.cross(b2, b3)))\n",
    "V = a1 @ (np.cross(a2, a3))\n",
    "a1_mag = linalg.norm(a1)\n",
    "a2_mag = linalg.norm(a2)\n",
    "a3_mag = linalg.norm(a3)\n",
    "alpha1 = np.arccos(np.dot(a3, a2) / (linalg.norm(a3) * linalg.norm(a2)))\n",
    "alpha2 = np.arccos(np.dot(a1, a3) / (linalg.norm(a1) * linalg.norm(a3)))\n",
    "alpha3 = np.arccos(np.dot(a1, a2) / (linalg.norm(a1) * linalg.norm(a2)))"
   ]
  },
  {
   "cell_type": "code",
   "execution_count": 832,
   "metadata": {},
   "outputs": [],
   "source": [
    "a1_ref = test.phases['corundum'].a\n",
    "a2_ref = test.phases['corundum'].b\n",
    "a3_ref = test.phases['corundum'].c\n",
    "V_ref = test.phases['corundum'].lattice.UnitCellVolume()\n",
    "alpha1_ref = np.radians(test.phases['corundum'].alpha)\n",
    "alpha2_ref = np.radians(test.phases['corundum'].beta)\n",
    "alpha3_ref = np.radians(test.phases['corundum'].gamma)\n",
    "b1_ref, b2_ref, b3_ref = test.phases['corundum'].B.T # The transpose bothers me\n",
    "beta1_ref = np.radians(vector_angle(b2_ref, b3_ref))\n",
    "b3_ref = linalg.norm(b3_ref)\n",
    "rec_scale = 2 * np.pi\n",
    "#rec_scale = 1\n",
    "\n",
    "I = np.asarray([[1, 0, 0], [0, 1, 0], [0, 0, 1]])\n",
    "\n",
    "A_ref = np.array([[a1_ref, a2_ref * np.cos(alpha3_ref), a3_ref * np.cos(alpha2_ref)],\n",
    "                  [0, a2_ref * np.sin(alpha3_ref), -a3_ref * np.sin(alpha2_ref) * np.cos(beta1_ref)],\n",
    "                  [0, 0, rec_scale / b3_ref]])\n",
    "\n",
    "delta = (-V - V_ref) / V_ref # negative because I messed up the coordinate system somehow...\n",
    "\n",
    "A_meas = np.array([[a1_mag, a2_mag * np.cos(alpha3), a3_mag * np.cos(alpha2)],\n",
    "                   [0, a2_mag * np.sin(alpha3), -a3_mag * np.sin(alpha2) * np.cos(beta1)],\n",
    "                   [0, 0, rec_scale / b3_mag]])\n",
    "#A_meas -= I * delta\n",
    "\n",
    "#Tij = A_meas @ linalg.inv(A_ref)\n",
    "Tij = linalg.inv(A_ref) @ A_meas\n",
    "eij = 0.5 * (Tij + Tij.T) - I"
   ]
  },
  {
   "cell_type": "code",
   "execution_count": 833,
   "metadata": {},
   "outputs": [],
   "source": [
    "a0 = test.phases['corundum'].a\n",
    "b0 = test.phases['corundum'].b\n",
    "c0 = test.phases['corundum'].c\n",
    "alpha0 = np.radians(test.phases['corundum'].alpha)\n",
    "beta0 = np.radians(test.phases['corundum'].beta)\n",
    "gamma0 = np.radians(test.phases['corundum'].gamma)\n",
    "gamma0_rec = np.radians(vector_angle(*test.phases['corundum'].B[:, :2].T))\n",
    "\n",
    "a1 = a1_mag\n",
    "b1 = a2_mag\n",
    "c1 = a3_mag\n",
    "alpha1 = alpha1\n",
    "beta1 = alpha2\n",
    "gamma1 = alpha3\n",
    "gamma1_rec = beta3\n",
    "\n",
    "l11 = ((a1 * np.sin(beta1) * np.sin(gamma1_rec)) / (a0 * np.sin(beta0) * np.sin(gamma0_rec))) - 1\n",
    "l22 = ((b1 * np.sin(alpha1)) / (b0 * np.sin(alpha0))) - 1\n",
    "l33 = (c1 / c0) - 1\n",
    "\n",
    "l12 = 0.5 * ((b1 * np.sin(alpha1) * np.cos(gamma0_rec)) / (b0 * np.sin(alpha0) * np.sin(gamma0_rec))\n",
    "             - (a1 * np.sin(beta1) * np.cos(gamma1_rec)) / (a0 * np.sin(beta0) * np.sin(gamma0_rec)))\n",
    "\n",
    "l13 = 0.5 * ((a1 * np.cos(beta1)) / (a0 * np.sin(beta0) * np.sin(gamma0_rec))\n",
    "             + ((np.cos(gamma0_rec)) / (np.sin(gamma0_rec))) * ((b1 * np.cos(alpha1)) / (b0 * np.sin(alpha0))\n",
    "                                                                - (c1 * np.cos(alpha0)) / (c0 * np.sin(alpha0)))\n",
    "             - (c1 * np.cos(beta0)) / (c0 * np.sin(beta0) * np.sin(gamma0_rec)))\n",
    "\n",
    "l23 = 0.5 * ((b1 * np.cos(alpha1)) / (b0 * np.sin(alpha0)) - (c1 * np.cos(alpha0)) / (c0 * np.sin(alpha0)))\n",
    "\n",
    "strain = np.array([[l11, l12, l13],\n",
    "                   [l12, l22, l23],\n",
    "                   [l13, l23, l33]])\n",
    "I = np.asarray([[1, 0, 0], [0, 1, 0], [0, 0, 1]])"
   ]
  },
  {
   "cell_type": "code",
   "execution_count": null,
   "metadata": {},
   "outputs": [],
   "source": []
  },
  {
   "cell_type": "code",
   "execution_count": 1283,
   "metadata": {},
   "outputs": [],
   "source": [
    "fig, ax = plt.subplots(1, 1, figsize=(5, 5), dpi=200, subplot_kw={'projection':'3d'})\n",
    "\n",
    "for i in range(len(q_image_list)):\n",
    "    int_mask = q_image_list[i][-1] > 1\n",
    "    ax.scatter(*q_image_list[i][:3, int_mask],\n",
    "               c=q_image_list[i][-1, int_mask], s=1, alpha=0.5)\n",
    "    \n",
    "    #ax.scatter(*q_image_list[i][:3],\n",
    "    #           c=q_image_list[i][-1], s=1, alpha=0.5)\n",
    "\n",
    "q_image_list[i][:3, int_mask]\n",
    "\n",
    "ax.set_xlim(qx_min, qx_max)\n",
    "ax.set_ylim(qy_min, qy_max)\n",
    "ax.set_zlim(qz_min, qz_max)\n",
    "\n",
    "ax.set_xlabel('qx [Å⁻¹]')\n",
    "ax.set_ylabel('qy [Å⁻¹]')\n",
    "ax.set_zlabel('qz [Å⁻¹]')\n",
    "ax.set_aspect('equal')\n",
    "plt.show()"
   ]
  },
  {
   "cell_type": "code",
   "execution_count": null,
   "metadata": {},
   "outputs": [],
   "source": [
    "from scipy.interpolate import griddata\n",
    "\n",
    "all_qx = []\n",
    "all_qy = []\n",
    "all_qz = []\n",
    "all_int = []\n",
    "\n",
    "for q_image in q_image_list:\n",
    "    all_qx.extend(q_image[0])\n",
    "    all_qy.extend(q_image[1])\n",
    "    all_qz.extend(q_image[2])\n",
    "    all_int.extend(q_image[3])\n",
    "\n",
    "# Find bounds\n",
    "x_min = np.min(all_qx)\n",
    "x_max = np.max(all_qx)\n",
    "y_min = np.min(all_qy)\n",
    "y_max = np.max(all_qy)\n",
    "z_min = np.min(all_qz)\n",
    "z_max = np.max(all_qz)\n",
    "\n",
    "# Generate q-space grid\n",
    "gridstep = 0.001\n",
    "xx = np.linspace(x_min, x_max, int((x_max - x_min) / gridstep))\n",
    "yy = np.linspace(y_min, y_max, int((y_max - y_min) / gridstep))\n",
    "zz = np.linspace(z_min, z_max, int((z_max - z_min) / gridstep))\n",
    "\n",
    "grid = np.array(np.meshgrid(xx, yy, zz))\n",
    "grid = grid.reshape(3, grid.size // 3).T\n",
    "\n",
    "points = np.array([all_qx, all_qy, all_qz]).T\n",
    "\n",
    "int_grid = griddata(points, all_int, grid, method='nearest')\n",
    "int_grid = int_grid.reshape(yy.shape[0], xx.shape[0], zz.shape[0]).T"
   ]
  },
  {
   "cell_type": "code",
   "execution_count": null,
   "metadata": {},
   "outputs": [],
   "source": [
    "from scipy.interpolate import griddata\n",
    "\n",
    "all_qx = q_spot[0]\n",
    "all_qy = q_spot[1]\n",
    "all_qz = q_spot[2]\n",
    "all_int = q_spot[3]\n",
    "\n",
    "# Find bounds\n",
    "x_min = np.min(all_qx)\n",
    "x_max = np.max(all_qx)\n",
    "y_min = np.min(all_qy)\n",
    "y_max = np.max(all_qy)\n",
    "z_min = np.min(all_qz)\n",
    "z_max = np.max(all_qz)\n",
    "\n",
    "# Generate q-space grid\n",
    "gridstep = 0.001\n",
    "xx = np.linspace(x_min, x_max, int((x_max - x_min) / gridstep))\n",
    "yy = np.linspace(y_min, y_max, int((y_max - y_min) / gridstep))\n",
    "zz = np.linspace(z_min, z_max, int((z_max - z_min) / gridstep))\n",
    "\n",
    "grid = np.array(np.meshgrid(xx, yy, zz))\n",
    "grid = grid.reshape(3, grid.size // 3).T\n",
    "\n",
    "points = np.array([all_qx, all_qy, all_qz]).T\n",
    "\n",
    "int_grid = griddata(points, all_int, grid, method='nearest')\n",
    "int_grid = int_grid.reshape(yy.shape[0], xx.shape[0], zz.shape[0]).T"
   ]
  },
  {
   "cell_type": "code",
   "execution_count": null,
   "metadata": {},
   "outputs": [],
   "source": []
  },
  {
   "cell_type": "code",
   "execution_count": null,
   "metadata": {},
   "outputs": [],
   "source": []
  },
  {
   "cell_type": "code",
   "execution_count": null,
   "metadata": {},
   "outputs": [],
   "source": [
    "from skimage import measure\n",
    "fig, ax = plt.subplots(1, 1, figsize=(5, 5), dpi=200, subplot_kw={'projection':'3d'})\n",
    "\n",
    "spacing = 0.005\n",
    "\n",
    "vol = int_grid\n",
    "#vol = GaussianFunctions.func_3d(grid, *popt).reshape(*int_grid.shape)\n",
    "#vol = GaussianFunctions.func_3d(np.array(np.meshgrid(xx, yy, zz)), *popt).T.reshape(*int_grid.shape)\n",
    "\n",
    "iso_vals = np.linspace(np.min(int_grid), np.max(int_grid), 7)[1:-1]\n",
    "iso_vals = [1, 5, 10, 20, 40, 80]\n",
    "\n",
    "for i, iso_val in enumerate(iso_vals):\n",
    "\n",
    "    #vol = int_grid\n",
    "    #iso_val = 10000\n",
    "    #spacing = 0.001\n",
    "    color = cm.viridis(i / len(iso_vals))\n",
    "    verts, faces, _, _ = measure.marching_cubes(vol, iso_val)\n",
    "\n",
    "    # I have no idea how the axes got so mixed up...\n",
    "    plot_x = np.interp(verts[:, 1], range(len(xx)), xx)\n",
    "    plot_y = np.interp(verts[:, 2], range(len(yy)), yy)\n",
    "    plot_z = np.interp(verts[:, 0], range(len(zz)), zz)\n",
    "\n",
    "    ax.plot_trisurf(plot_x, plot_y, plot_z, triangles=faces, alpha=0.1, color=color)\n",
    "\n",
    "ax.set_xlim(np.min(all_qx), np.max(all_qx))\n",
    "ax.set_ylim(np.min(all_qy), np.max(all_qy))\n",
    "ax.set_zlim(np.min(all_qz), np.max(all_qz))\n",
    "\n",
    "ax.set_xlabel('qx [Å⁻¹]')\n",
    "ax.set_ylabel('qy [Å⁻¹]')\n",
    "ax.set_zlabel('qz [Å⁻¹]')\n",
    "ax.set_aspect('equal')\n",
    "plt.show()"
   ]
  },
  {
   "cell_type": "code",
   "execution_count": null,
   "metadata": {},
   "outputs": [
    {
     "data": {
      "text/plain": [
       "(99, 99, 96)"
      ]
     },
     "execution_count": 510,
     "metadata": {},
     "output_type": "execute_result"
    }
   ],
   "source": [
    "np.fft.fftn(int_grid).shape"
   ]
  },
  {
   "cell_type": "code",
   "execution_count": null,
   "metadata": {},
   "outputs": [],
   "source": [
    "fig, ax = plt.subplots(1, 1, figsize=(5, 5), dpi=200, subplot_kw={'projection':'3d'})\n",
    "\n",
    "plot_grid = np.log(np.abs(np.fft.fftshift(np.fft.fftn(int_grid)))**2)\n",
    "\n",
    "ax.scatter(plot_grid[0].ravel(),\n",
    "           plot_grid[1].ravel(),\n",
    "           plot_grid[2].ravel(),\n",
    "           s=1, alpha=0.1)\n",
    "\n",
    "plt.show()"
   ]
  },
  {
   "cell_type": "code",
   "execution_count": null,
   "metadata": {},
   "outputs": [],
   "source": []
  },
  {
   "cell_type": "code",
   "execution_count": null,
   "metadata": {},
   "outputs": [],
   "source": [
    "fig, ax = plt.subplots(1, 1, figsize=(5, 5), dpi=200)\n",
    "\n",
    "plot_grid = np.log(np.abs(np.fft.fftshift(np.fft.fftn(int_grid[65])))**2)\n",
    "\n",
    "im = ax.imshow(plot_grid)\n",
    "fig.colorbar(im, ax=ax)\n",
    "\n",
    "plt.show()"
   ]
  },
  {
   "cell_type": "code",
   "execution_count": null,
   "metadata": {},
   "outputs": [],
   "source": [
    "plt.close('all')"
   ]
  },
  {
   "cell_type": "code",
   "execution_count": null,
   "metadata": {},
   "outputs": [],
   "source": []
  },
  {
   "cell_type": "code",
   "execution_count": null,
   "metadata": {},
   "outputs": [],
   "source": []
  },
  {
   "cell_type": "code",
   "execution_count": null,
   "metadata": {},
   "outputs": [],
   "source": [
    "all_hkls, all_qs, all_fs = generate_reciprocal_lattice(test.phases['zincite'], tth_range=(np.min(test.tth_arr), np.max(test.tth_arr)))\n",
    "\n",
    "fig, ax = plt.subplots(1, 1, figsize=(5, 5), dpi=200, subplot_kw={'projection':'3d'})\n",
    "\n",
    "ax.scatter(*np.asarray(all_qs).T, c='k', s=all_fs/20)\n",
    "ax.scatter(0, 0, 0, c='k', s=10)\n",
    "\n",
    "'''# Plot full Ewald sphere\n",
    "u = np.linspace(0, 2 * np.pi, 100)\n",
    "v = np.linspace(0, np.pi, 100)\n",
    "radius = 2 * np.pi / test.wavelength\n",
    "x =  radius * np.outer(np.cos(u), np.sin(v))\n",
    "y = radius * np.outer(np.sin(u), np.sin(v))\n",
    "z = radius * np.outer(np.ones(np.size(u)), np.cos(v))\n",
    "ax.plot_surface(x, y, z - radius, alpha=0.2, color='k', label='Ewald sphere')'''\n",
    "\n",
    "ax.set_xlabel('qx [Å⁻¹]')\n",
    "ax.set_ylabel('qy [Å⁻¹]')\n",
    "ax.set_zlabel('qz [Å⁻¹]')\n",
    "ax.set_aspect('equal')\n",
    "\n",
    "plt.show()"
   ]
  },
  {
   "cell_type": "code",
   "execution_count": null,
   "metadata": {},
   "outputs": [
    {
     "data": {
      "text/plain": [
       "array([1.15697522, 1.15697522, 1.15697522])"
      ]
     },
     "execution_count": 18,
     "metadata": {},
     "output_type": "execute_result"
    }
   ],
   "source": [
    "silicon.Q(1, 1, 1)"
   ]
  },
  {
   "cell_type": "code",
   "execution_count": null,
   "metadata": {},
   "outputs": [],
   "source": [
    "e11, e12, e13, e22, e23, e33 = 1e-6, 2e-6, -3e-6, 1e-6, -3e-6, 2e-6\n",
    "w1, w2, w3 = 3e-5, 5e-5, 1e-4\n",
    "\n",
    "eij = np.asarray([[e11, e12, e13], [e12, e22, e23], [e13, e23, e33]])\n",
    "wij = np.asarray([[0, -w3, w2], [w3, 0, -w1], [-w2, w1, 0]])\n",
    "I = np.asarray([[1, 0, 0], [0, 1, 0], [0, 0, 1]])\n",
    "\n",
    "duij = eij + I"
   ]
  },
  {
   "cell_type": "code",
   "execution_count": null,
   "metadata": {},
   "outputs": [],
   "source": [
    "phi_x, phi_y, phi_z = 30, 40, 60\n",
    "\n",
    "phi_x, phi_y, phi_z = np.radians([phi_x, phi_y, phi_z])\n",
    "\n",
    "Rx = np.asarray([[1, 0, 0],\n",
    "                 [0, np.cos(phi_x), -np.sin(phi_x)],\n",
    "                 [0, np.sin(phi_x), np.cos(phi_x)]])\n",
    "\n",
    "Ry = np.asarray([[np.cos(phi_y), 0, np.sin(phi_y)],\n",
    "                 [0, 1, 0],\n",
    "                 [-np.sin(phi_y), 0, np.cos(phi_y)]])\n",
    "\n",
    "Rz = np.asarray([[np.cos(phi_z), -np.sin(phi_z), 0],\n",
    "                 [np.sin(phi_z), np.cos(phi_z), 0],\n",
    "                 [0, 0, 1]])\n",
    "\n",
    "rot = Rx @ Ry @ Rz\n",
    "\n",
    "Fij =  duij @ rot"
   ]
  },
  {
   "cell_type": "code",
   "execution_count": null,
   "metadata": {},
   "outputs": [
    {
     "data": {
      "text/plain": [
       "array([[ 0.38302396, -0.6634165 ,  0.6427855 ],\n",
       "       [ 0.91069812,  0.15467413, -0.38302331],\n",
       "       [ 0.15467393,  0.7320937 ,  0.6634145 ]])"
      ]
     },
     "execution_count": 94,
     "metadata": {},
     "output_type": "execute_result"
    }
   ],
   "source": [
    "Fij"
   ]
  },
  {
   "cell_type": "code",
   "execution_count": null,
   "metadata": {},
   "outputs": [
    {
     "data": {
      "text/plain": [
       "array([[ 0.38302222, -0.66341395,  0.64278761],\n",
       "       [ 0.9106969 ,  0.1546775 , -0.38302222],\n",
       "       [ 0.1546775 ,  0.73209071,  0.66341395]])"
      ]
     },
     "execution_count": 79,
     "metadata": {},
     "output_type": "execute_result"
    }
   ],
   "source": [
    "rot"
   ]
  },
  {
   "cell_type": "code",
   "execution_count": null,
   "metadata": {},
   "outputs": [],
   "source": [
    "from scipy.linalg import polar"
   ]
  },
  {
   "cell_type": "code",
   "execution_count": null,
   "metadata": {},
   "outputs": [
    {
     "name": "stdout",
     "output_type": "stream",
     "text": [
      "[[ 1.000001  0.000002 -0.000003]\n",
      " [ 0.000002  1.000001 -0.000003]\n",
      " [-0.000003 -0.000003  1.000002]]\n",
      "[[ 0.38302222 -0.66341395  0.64278761]\n",
      " [ 0.9106969   0.1546775  -0.38302222]\n",
      " [ 0.1546775   0.73209071  0.66341395]]\n"
     ]
    }
   ],
   "source": [
    "p, u = linalg.polar(Fij, side='left')\n",
    "print(u)\n",
    "print(p)"
   ]
  },
  {
   "cell_type": "code",
   "execution_count": null,
   "metadata": {},
   "outputs": [
    {
     "name": "stdout",
     "output_type": "stream",
     "text": [
      "[[ 0.  0.  0.]\n",
      " [ 0.  0. -0.]\n",
      " [ 0.  0.  0.]]\n"
     ]
    }
   ],
   "source": [
    "print(u - duij)"
   ]
  },
  {
   "cell_type": "code",
   "execution_count": null,
   "metadata": {},
   "outputs": [
    {
     "data": {
      "text/plain": [
       "array([[ 1.000001,  0.000002, -0.000003],\n",
       "       [ 0.000002,  1.000001, -0.000003],\n",
       "       [-0.000003, -0.000003,  1.000002]])"
      ]
     },
     "execution_count": 111,
     "metadata": {},
     "output_type": "execute_result"
    }
   ],
   "source": [
    "u"
   ]
  },
  {
   "cell_type": "code",
   "execution_count": null,
   "metadata": {},
   "outputs": [],
   "source": [
    "rec_duij = u - I\n",
    "rec_eij = np.round(0.5 * (rec_duij.T + rec_duij), 10)\n",
    "rec_wij = np.round(0.5 * (rec_duij - rec_duij.T), 10)"
   ]
  },
  {
   "cell_type": "code",
   "execution_count": null,
   "metadata": {},
   "outputs": [],
   "source": [
    "rec_e11 = rec_eij[0, 0]\n",
    "rec_e12 = rec_eij[0, 1]\n",
    "rec_e13 = rec_eij[0, 2]\n",
    "rec_e22 = rec_eij[1, 1]\n",
    "rec_e23 = rec_eij[1, 2]\n",
    "rec_e33 = rec_eij[2, 2]"
   ]
  },
  {
   "cell_type": "code",
   "execution_count": null,
   "metadata": {},
   "outputs": [
    {
     "name": "stdout",
     "output_type": "stream",
     "text": [
      "ε₁₁ is 1.0 µε.\n",
      "ε₂₂ is 1.0 µε.\n",
      "ε₃₃ is 2.0 µε.\n",
      "ε₁₂ is 2.0 µε.\n",
      "ε₁₃ is -3.0 µε.\n",
      "ε₂₃ is -3.0 µε.\n"
     ]
    }
   ],
   "source": [
    "print(f'ε₁₁ is {rec_e11 * 1e6} µε.')\n",
    "print(f'ε₂₂ is {rec_e22 * 1e6} µε.')\n",
    "print(f'ε₃₃ is {rec_e33 * 1e6} µε.')\n",
    "print(f'ε₁₂ is {rec_e12 * 1e6} µε.')\n",
    "print(f'ε₁₃ is {rec_e13 * 1e6} µε.')\n",
    "print(f'ε₂₃ is {rec_e23 * 1e6} µε.')"
   ]
  },
  {
   "cell_type": "code",
   "execution_count": null,
   "metadata": {},
   "outputs": [],
   "source": []
  }
 ],
 "metadata": {
  "kernelspec": {
   "display_name": "Python 3",
   "language": "python",
   "name": "python3"
  },
  "language_info": {
   "codemirror_mode": {
    "name": "ipython",
    "version": 3
   },
   "file_extension": ".py",
   "mimetype": "text/x-python",
   "name": "python",
   "nbconvert_exporter": "python",
   "pygments_lexer": "ipython3",
   "version": "3.11.5"
  }
 },
 "nbformat": 4,
 "nbformat_minor": 2
}
