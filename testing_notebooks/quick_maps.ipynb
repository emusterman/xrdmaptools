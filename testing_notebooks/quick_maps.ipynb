{
 "cells": [
  {
   "cell_type": "code",
   "execution_count": 1,
   "metadata": {},
   "outputs": [],
   "source": [
    "import os\n",
    "import h5py\n",
    "import numpy as np\n",
    "from IPython.lib.deepreload import reload\n",
    "import matplotlib.pyplot as plt\n",
    "from collections import OrderedDict\n",
    "import skimage.io as io\n",
    "from tqdm import tqdm\n",
    "%matplotlib qt"
   ]
  },
  {
   "cell_type": "code",
   "execution_count": 2,
   "metadata": {},
   "outputs": [
    {
     "name": "stderr",
     "output_type": "stream",
     "text": [
      "c:\\Users\\emusterma\\AppData\\Local\\anaconda3\\envs\\sXRDMap-py311-1.0\\Lib\\site-packages\\pyopencl\\cache.py:495: CompilerWarning: Non-empty compiler output encountered. Set the environment variable PYOPENCL_COMPILER_OUTPUT=1 to see more.\n",
      "  _create_built_program_from_source_cached(\n"
     ]
    },
    {
     "name": "stdout",
     "output_type": "stream",
     "text": [
      "Connecting to databrokers...failed.\n"
     ]
    }
   ],
   "source": [
    "import xrdmaptools\n",
    "from xrdmaptools.XRDMap import XRDMap\n",
    "from xrdmaptools.reflections.SpotModels import GaussianFunctions\n",
    "reload(xrdmaptools);"
   ]
  },
  {
   "cell_type": "code",
   "execution_count": 3,
   "metadata": {},
   "outputs": [
    {
     "name": "stdout",
     "output_type": "stream",
     "text": [
      "Loading data from hdf file...\n",
      "Loading most recent images (raw_images)...done!\n",
      "Loading reciprocal positions...done!\n",
      "Loading scalers...done!\n",
      "Loading positions...done!\n",
      "Loading reflection spots...done!\n",
      "Instantiating ImageMap...done!\n",
      "Setting detector calibration...\n",
      "XRD Map loaded!\n"
     ]
    }
   ],
   "source": [
    "scanid = 153157\n",
    "scanid = 153126\n",
    "#scanid = 153273\n",
    "#scanid = 153248\n",
    "#scanid = 153485\n",
    "#filedir = 'D:\\\\Musterman_postdoc\\\\20240223_Musterman\\\\testing_maps\\\\'\n",
    "filedir = 'D:\\\\Musterman_postdoc\\\\20240223_Musterman\\\\xrd_maps\\\\'\n",
    "h5_filename = f'scan{scanid}_xrd.h5'\n",
    "test = XRDMap.from_hdf(h5_filename, wd=filedir, save_hdf=False, dask_enabled=False)"
   ]
  },
  {
   "cell_type": "code",
   "execution_count": 4,
   "metadata": {},
   "outputs": [
    {
     "name": "stdout",
     "output_type": "stream",
     "text": [
      "Setting detector calibration...\n",
      "Calibration performed under different settings. Adjusting calibration.\n"
     ]
    }
   ],
   "source": [
    "filedir = 'D:\\\\Musterman_postdoc\\\\20240223_Musterman\\\\calibrations\\\\new\\\\'\n",
    "\n",
    "test.set_calibration('scan153043_dexela_calibration.poni', filedir=filedir)\n",
    "#test.set_calibration('scan153220_dexela_calibration_ext.poni', filedir=filedir)"
   ]
  },
  {
   "cell_type": "code",
   "execution_count": 5,
   "metadata": {},
   "outputs": [
    {
     "name": "stdout",
     "output_type": "stream",
     "text": [
      "Correcting dark-field...done!\n"
     ]
    }
   ],
   "source": [
    "#dark_id = 153074\n",
    "dark_id = 153086\n",
    "#dark_id = 153155\n",
    "#dark_id = 153247\n",
    "#dark_id = 153247\n",
    "#dark_id = 153481\n",
    "dark_dir = 'D:\\\\Musterman_postdoc\\\\20240223_Musterman\\\\dark_fields\\\\'\n",
    "dir_mask = [str(dark_id) in d for d in os.listdir(dark_dir)]\n",
    "\n",
    "dark_field = io.imread(f'{dark_dir}{np.array(os.listdir(dark_dir))[dir_mask][0]}').astype(np.float32)\n",
    "test.map.correct_dark_field(dark_field=dark_field)"
   ]
  },
  {
   "cell_type": "code",
   "execution_count": 6,
   "metadata": {},
   "outputs": [],
   "source": [
    "test.plot_interactive_map(img_vmin=0, img_vmax=10)"
   ]
  },
  {
   "cell_type": "code",
   "execution_count": 7,
   "metadata": {},
   "outputs": [],
   "source": [
    "file_path = 'D:\\\\Musterman_postdoc\\\\20240223_Musterman\\\\xrd_maps\\\\'\n",
    "scanlist = [153102, 153104, 153108, 153110, 153112, 153114, 153116,\n",
    "            153118, 153120, 153122, 153124, 153126, 153128, 153130,\n",
    "            153132, 153134, 153136, 153138, 153140, 153143, 153145]\n",
    "\n",
    "scanlist1 = [153157, 153159, 153161, 153161, 153165, 153167, 153169,\n",
    "            153171, 153173, 153175, 153177, 153179, 153181, 153183,\n",
    "            153185, 153187, 153189, 153191, 153193, 153195, 153197]\n",
    "\n",
    "scanlist2 = [153199, 153201, 153203, 153205, 153207, 153209, 153211,\n",
    "             153213, 153215]\n",
    "\n",
    "pixel_indices = (9, 23)\n",
    "pixel_indices = (8, 45)\n",
    "\n",
    "img_stack = []\n",
    "en_stack = []\n",
    "\n",
    "#for scanid in scanlist1 + scanlist2:\n",
    "for scanid in scanlist:\n",
    "    with h5py.File(f'{file_path}scan{scanid}_xrd.h5', 'r') as f:\n",
    "        base_grp = f['xrdmap/image_data']\n",
    "        img = base_grp['raw_images'][pixel_indices]\n",
    "\n",
    "        img_stack.append(img.astype(np.float32))\n",
    "        en_stack.append(f['xrdmap'].attrs['energy'])\n",
    "        \n",
    "    #break"
   ]
  },
  {
   "cell_type": "code",
   "execution_count": 8,
   "metadata": {},
   "outputs": [],
   "source": [
    "for i in range(len(img_stack)):\n",
    "    img_stack[i] -= dark_field"
   ]
  },
  {
   "cell_type": "code",
   "execution_count": 21,
   "metadata": {},
   "outputs": [],
   "source": [
    "test.map.apply_polarization_correction(apply=False)\n",
    "test.map.apply_solidangle_correction(apply=False)\n",
    "\n",
    "for i in range(len(img_stack)):\n",
    "    img_stack[i] /= test.map.polarization_correction\n",
    "    img_stack[i] /= test.map.solidangle_correction\n",
    "    img_stack[i] /= 1 / np.sin(np.radians(test.tth_arr / 2))"
   ]
  },
  {
   "cell_type": "code",
   "execution_count": 22,
   "metadata": {},
   "outputs": [],
   "source": [
    "# Trim edges\n",
    "for i in range(len(img_stack)):\n",
    "    img_stack[i][0] = 0\n",
    "    img_stack[i][-1] = 0\n",
    "    img_stack[i][:, 0] = 0\n",
    "    img_stack[i][:, -1] = 0"
   ]
  },
  {
   "cell_type": "code",
   "execution_count": 10,
   "metadata": {},
   "outputs": [],
   "source": [
    "from xrdmaptools.geometry.geometry import get_q_vect\n",
    "\n",
    "def q_arr(xrdmap):\n",
    "    if hasattr(xrdmap, '_q_arr'):\n",
    "        return xrdmap._q_arr\n",
    "    elif xrdmap.tth_arr is None or xrdmap.chi_arr is None:\n",
    "        raise RuntimeError('Cannot calculate q-space with NoneType tth_arr or chi_arr.')\n",
    "    else:\n",
    "        q_arr = get_q_vect(xrdmap.tth_arr,\n",
    "                            xrdmap.chi_arr,\n",
    "                            wavelength=xrdmap.wavelength,\n",
    "                            degrees=True)\n",
    "        xrdmap._q_arr = q_arr\n",
    "        return xrdmap._q_arr"
   ]
  },
  {
   "cell_type": "code",
   "execution_count": 53,
   "metadata": {},
   "outputs": [],
   "source": [
    "# This will keep adding values to img_stack. Maybe fix that...\n",
    "\n",
    "q_coord_list = []\n",
    "\n",
    "start_en = test.energy\n",
    "\n",
    "# Add blank images at extrema\n",
    "en_step = np.median(np.abs(np.diff(sorted(en_stack))))\n",
    "en_min = np.min(en_stack) - en_step\n",
    "en_max = np.max(en_stack) + en_step\n",
    "\n",
    "en_stack.append(en_min)\n",
    "en_stack.append(en_max)\n",
    "img_stack.append(np.zeros_like(img_stack[0]))\n",
    "img_stack.append(np.zeros_like(img_stack[0]))\n",
    "\n",
    "for i in range(len(img_stack)):\n",
    "    test._del_arr()\n",
    "    test.energy = en_stack[i]\n",
    "    #q_coord_list.append(test.q_arr)\n",
    "    q_coord_list.append(q_arr(test))\n",
    "\n",
    "test._del_arr()\n",
    "test.energy = start_en"
   ]
  },
  {
   "cell_type": "code",
   "execution_count": null,
   "metadata": {},
   "outputs": [],
   "source": []
  },
  {
   "cell_type": "code",
   "execution_count": 63,
   "metadata": {},
   "outputs": [],
   "source": [
    "all_qx = []\n",
    "all_qy = []\n",
    "all_qz = []\n",
    "all_int = []\n",
    "\n",
    "for i in range(len(img_stack)):\n",
    "    all_qx.extend(q_coord_list[i][0].flatten())\n",
    "    all_qy.extend(q_coord_list[i][1].flatten())\n",
    "    all_qz.extend(q_coord_list[i][2].flatten())\n",
    "    all_int.extend(img_stack[i].flatten())\n"
   ]
  },
  {
   "cell_type": "code",
   "execution_count": 64,
   "metadata": {},
   "outputs": [],
   "source": [
    "edges = []\n",
    "\n",
    "q_coord_arr = np.asarray(q_coord_list)\n",
    "\n",
    "# Low energy image edges\n",
    "edges.append(q_coord_arr[np.argmin(en_stack), :, 0])\n",
    "edges.append(q_coord_arr[np.argmin(en_stack), :, -1])\n",
    "edges.append(q_coord_arr[np.argmin(en_stack), :, :, 0])\n",
    "edges.append(q_coord_arr[np.argmin(en_stack), :, :, -1])\n",
    "\n",
    "# High energy image edges\n",
    "edges.append(q_coord_arr[np.argmax(en_stack), :, 0])\n",
    "edges.append(q_coord_arr[np.argmax(en_stack), :, -1])\n",
    "edges.append(q_coord_arr[np.argmax(en_stack), :, :, 0])\n",
    "edges.append(q_coord_arr[np.argmax(en_stack), :, :, -1])\n",
    "\n",
    "# Corners\n",
    "edges.append(q_coord_arr[:, :, 0, 0].T)\n",
    "edges.append(q_coord_arr[:, :, -1, 0].T)\n",
    "edges.append(q_coord_arr[:, :, 0, -1].T)\n",
    "edges.append(q_coord_arr[:, :, -1, -1].T)"
   ]
  },
  {
   "cell_type": "code",
   "execution_count": 65,
   "metadata": {},
   "outputs": [],
   "source": [
    "fig, ax = plt.subplots(1, 1, figsize=(5, 5), dpi=200, subplot_kw={'projection':'3d'})\n",
    "\n",
    "#q_plot = dset\n",
    "#q_plot = np.array([i.flatten() for i in out])\n",
    "q_plot = np.asarray([all_qx, all_qy, all_qz, all_int])\n",
    "q_plot = q_plot[:, ::100]\n",
    "\n",
    "qx_min, qx_max = np.min(q_plot[0]), np.max(q_plot[0])\n",
    "qy_min, qy_max = np.min(q_plot[1]), np.max(q_plot[1])\n",
    "qz_min, qz_max = np.min(q_plot[2]), np.max(q_plot[2])\n",
    "\n",
    "int_mask = q_plot[-1] > 25\n",
    "\n",
    "ax.scatter(q_plot[0][int_mask],\n",
    "           q_plot[1][int_mask],\n",
    "           q_plot[2][int_mask],\n",
    "           c=q_plot[3][int_mask], s=1, alpha=0.1)\n",
    "\n",
    "for edge in edges:\n",
    "    ax.plot(*edge, c='k', alpha=0.5)\n",
    "\n",
    "ax.set_xlim(qx_min, qx_max)\n",
    "ax.set_ylim(qy_min, qy_max)\n",
    "ax.set_zlim(qz_min, qz_max)\n",
    "\n",
    "ax.set_xlabel('qx [Å⁻¹]')\n",
    "ax.set_ylabel('qy [Å⁻¹]')\n",
    "ax.set_zlabel('qz [Å⁻¹]')\n",
    "ax.set_aspect('equal')\n",
    "plt.show()"
   ]
  },
  {
   "cell_type": "code",
   "execution_count": 66,
   "metadata": {},
   "outputs": [],
   "source": [
    "from xrdmaptools.utilities.utilities import label_nearest_spots\n",
    "\n",
    "q_plot = np.asarray([all_qx, all_qy, all_qz, all_int])\n",
    "q_plot = q_plot[:, ::50]\n",
    "\n",
    "int_mask = q_plot[-1] > 25\n",
    "\n",
    "out = label_nearest_spots(q_plot[:-1][:, int_mask].T, max_dist=0.1).T"
   ]
  },
  {
   "cell_type": "code",
   "execution_count": 67,
   "metadata": {},
   "outputs": [],
   "source": [
    "fig, ax = plt.subplots(1, 1, figsize=(5, 5), dpi=200, subplot_kw={'projection':'3d'})\n",
    "\n",
    "ax.scatter(out[0],\n",
    "           out[1],\n",
    "           out[2],\n",
    "           c=out[3], s=10, alpha=1, cmap='tab20')\n",
    "\n",
    "for edge in edges:\n",
    "    ax.plot(*edge, c='k', alpha=0.5)\n",
    "\n",
    "ax.set_xlim(qx_min, qx_max)\n",
    "ax.set_ylim(qy_min, qy_max)\n",
    "ax.set_zlim(qz_min, qz_max)\n",
    "\n",
    "ax.set_xlabel('qx [Å⁻¹]')\n",
    "ax.set_ylabel('qy [Å⁻¹]')\n",
    "ax.set_zlabel('qz [Å⁻¹]')\n",
    "ax.set_aspect('equal')\n",
    "plt.show()"
   ]
  },
  {
   "cell_type": "code",
   "execution_count": 68,
   "metadata": {},
   "outputs": [
    {
     "name": "stderr",
     "output_type": "stream",
     "text": [
      "100%|██████████| 43/43 [05:41<00:00,  7.94s/it]\n"
     ]
    }
   ],
   "source": [
    "import plotly.graph_objects as go\n",
    "\n",
    "data = []\n",
    "\n",
    "expansion = 0.1\n",
    "\n",
    "# TODO: trim data prior to for loop for more accurate time estimate\n",
    "for label in tqdm(np.unique(out[-1])):\n",
    "\n",
    "    label_mask = out[-1] == label\n",
    "\n",
    "    # Ignore clusters of less than 5 pixels\n",
    "    if np.sum(label_mask) < 5:\n",
    "        continue\n",
    "    \n",
    "    # Create mask of bounding box\n",
    "    qx_min_i = np.min(out[0][label_mask]) - expansion\n",
    "    qx_max_i = np.max(out[0][label_mask]) + expansion\n",
    "    qx_mask = np.all([all_qx > qx_min_i,\n",
    "                      all_qx < qx_max_i], axis=0)\n",
    "\n",
    "    qy_min_i = np.min(out[1][label_mask]) - expansion\n",
    "    qy_max_i = np.max(out[1][label_mask]) + expansion\n",
    "    qy_mask = np.all([all_qy > qy_min_i,\n",
    "                      all_qy < qy_max_i], axis=0)\n",
    "\n",
    "    qz_min_i = np.min(out[2][label_mask]) - expansion\n",
    "    qz_max_i = np.max(out[2][label_mask]) + expansion\n",
    "    qz_mask = np.all([all_qy > qy_min_i,\n",
    "                      all_qy < qy_max_i], axis=0)\n",
    "\n",
    "    # Combined mask without already plotted values\n",
    "    full_mask = np.all([qx_mask, qy_mask, qz_mask], axis=0)\n",
    "\n",
    "    # Interpolate data to regular grid within bounding box\n",
    "    grid_data = map_2_grid(np.asarray([np.array(all_qx)[full_mask],\n",
    "                                       np.array(all_qy)[full_mask],\n",
    "                                       np.array(all_qz)[full_mask],\n",
    "                                       np.array(all_int)[full_mask]]),\n",
    "                                       gridstep=0.01)\n",
    "    grid_data = np.stack([x.flatten() for x in grid_data])\n",
    "\n",
    "    # Generate graph trace\n",
    "    data.append(go.Volume(\n",
    "            x=grid_data[0],\n",
    "            y=grid_data[1],\n",
    "            z=grid_data[2],\n",
    "            value=grid_data[3],\n",
    "            isomin=25,\n",
    "            isomax=100,\n",
    "            opacity=0.1, # needs to be small to see through all surfaces\n",
    "            surface_count=5, # needs to be a large number for good volume rendering\n",
    "            ))\n"
   ]
  },
  {
   "cell_type": "code",
   "execution_count": 69,
   "metadata": {},
   "outputs": [],
   "source": [
    "for edge in edges:\n",
    "\n",
    "    data.append(go.Scatter3d(\n",
    "        x = edge[0],\n",
    "        y = edge[1],\n",
    "        z = edge[2],\n",
    "        mode='lines',\n",
    "        opacity=0.5,\n",
    "        line=dict(\n",
    "            color='black',\n",
    "            width=5\n",
    "        )\n",
    "    ))"
   ]
  },
  {
   "cell_type": "code",
   "execution_count": 70,
   "metadata": {},
   "outputs": [],
   "source": [
    "fig = go.Figure(data=data)\n",
    "fig.show(renderer='browser')"
   ]
  },
  {
   "cell_type": "code",
   "execution_count": 75,
   "metadata": {},
   "outputs": [],
   "source": [
    "test.plot_image(img_stack[-10])"
   ]
  },
  {
   "cell_type": "code",
   "execution_count": 79,
   "metadata": {},
   "outputs": [
    {
     "data": {
      "text/plain": [
       "False"
      ]
     },
     "execution_count": 79,
     "metadata": {},
     "output_type": "execute_result"
    }
   ],
   "source": [
    "en_stack == 15"
   ]
  },
  {
   "cell_type": "code",
   "execution_count": 84,
   "metadata": {},
   "outputs": [
    {
     "data": {
      "text/plain": [
       "array([[ 0.       ,  0.       ,  0.       , ...,  0.       ,  0.       ,\n",
       "         0.       ],\n",
       "       [ 0.       ,  5.0847635,  5.0886316, ...,  1.1858594,  1.7807502,\n",
       "         0.       ],\n",
       "       [ 0.       ,  6.871624 ,  4.9334016, ...,  2.9640267,  0.5934589,\n",
       "         0.       ],\n",
       "       ...,\n",
       "       [ 0.       ,  4.6867404,  6.4493155, ...,  1.1790855, -1.1803932,\n",
       "         0.       ],\n",
       "       [ 0.       ,  5.42511  ,  5.1358705, ...,  6.4862623,  5.3128257,\n",
       "         0.       ],\n",
       "       [ 0.       ,  0.       ,  0.       , ...,  0.       ,  0.       ,\n",
       "         0.       ]], dtype=float32)"
      ]
     },
     "execution_count": 84,
     "metadata": {},
     "output_type": "execute_result"
    }
   ],
   "source": [
    "img_stack[np.where(np.array(en_stack) == 15)[0][0]]"
   ]
  },
  {
   "cell_type": "code",
   "execution_count": 90,
   "metadata": {},
   "outputs": [],
   "source": [
    "import matplotlib.pyplot as plt\n",
    "import numpy as np\n",
    "\n",
    "import matplotlib.animation as animation\n",
    "\n",
    "fig, ax = plt.subplots()\n",
    "\n",
    "\n",
    "# ims is a list of lists, each row is a list of artists to draw in the\n",
    "# current frame; here we are just animating one artist, the image, in\n",
    "# each frame\n",
    "ims = []\n",
    "for i in sorted(en_stack):\n",
    "    im_i = img_stack[np.where(np.array(en_stack) == i)[0][0]]\n",
    "\n",
    "    im = ax.imshow(im_i, animated=True)\n",
    "    if i == 0:\n",
    "        ax.imshow(im_i)  # show an initial one first\n",
    "\n",
    "    ims.append([im])\n",
    "\n",
    "ani = animation.ArtistAnimation(fig, ims, interval=50, blit=True,\n",
    "                                repeat_delay=1000)\n",
    "\n",
    "plt.show()"
   ]
  },
  {
   "cell_type": "code",
   "execution_count": 95,
   "metadata": {},
   "outputs": [
    {
     "data": {
      "text/plain": [
       "array([[0., 0., 0., ..., 0., 0., 0.],\n",
       "       [0., 0., 0., ..., 0., 0., 0.],\n",
       "       [0., 0., 0., ..., 0., 0., 0.],\n",
       "       ...,\n",
       "       [0., 0., 0., ..., 0., 0., 0.],\n",
       "       [0., 0., 0., ..., 0., 0., 0.],\n",
       "       [0., 0., 0., ..., 0., 0., 0.]], dtype=float32)"
      ]
     },
     "execution_count": 95,
     "metadata": {},
     "output_type": "execute_result"
    }
   ],
   "source": [
    "A[-1]"
   ]
  },
  {
   "cell_type": "code",
   "execution_count": 105,
   "metadata": {},
   "outputs": [],
   "source": [
    "from matplotlib.widgets import Slider\n",
    "\n",
    "A = []\n",
    "for i in sorted(en_stack):\n",
    "    im_i = img_stack[np.where(np.array(en_stack) == i)[0][0]]\n",
    "    A.append(im_i)\n",
    "\n",
    "#A = [x for _, x in sorted(zip(img_stack, en_stack))]\n",
    "\n",
    "l = plt.imshow(A[0], vmin=0, vmax=10)\n",
    "\n",
    "axidx = plt.axes([0.25, 0.15, 0.65, 0.03])\n",
    "slidx = Slider(axidx, 'index', 0, len(A) - 1, valinit = 0, valfmt='%d')\n",
    "\n",
    "def update(val):\n",
    "    idx = slidx.val\n",
    "    l.set_data(A[int(idx)])\n",
    "    fig.canvas.draw_idle()\n",
    "slidx.on_changed(update)\n",
    "\n",
    "plt.show()"
   ]
  },
  {
   "cell_type": "code",
   "execution_count": 115,
   "metadata": {},
   "outputs": [],
   "source": [
    "from matplotlib.widgets import Slider\n",
    "\n",
    "A = []\n",
    "for i in sorted(en_stack):\n",
    "    im_i = img_stack[np.where(np.array(en_stack) == i)[0][0]]\n",
    "    A.append(im_i)\n",
    "\n",
    "fig, ax = plt.subplots(1, 1, figsize=(5, 5), dpi=200)\n",
    "\n",
    "#A = [x for _, x in sorted(zip(img_stack, en_stack))]\n",
    "\n",
    "im = ax.imshow(A[0], vmin=0, vmax=10)\n",
    "\n",
    "axidx = plt.axes([0.9, 0.2, 0.03, 0.6])\n",
    "#slidx = Slider(axidx, 'Index', 0, len(A) - 1, valinit = 0, valfmt='%d', orientation='vertical')\n",
    "slidx = Slider(axidx, 'Energy', np.min(en_stack), np.max(en_stack), valinit=0, valfmt='%d', orientation='vertical')\n",
    "\n",
    "def update(val):\n",
    "    energy = slidx.val\n",
    "    idx = np.argmin(np.abs(sorted(en_stack) - energy))\n",
    "    im.set_data(A[idx])\n",
    "    fig.canvas.draw_idle()\n",
    "slidx.on_changed(update)\n",
    "\n",
    "plt.show()"
   ]
  },
  {
   "cell_type": "code",
   "execution_count": null,
   "metadata": {},
   "outputs": [],
   "source": []
  },
  {
   "cell_type": "code",
   "execution_count": 31,
   "metadata": {},
   "outputs": [],
   "source": [
    "from scipy.interpolate import griddata\n",
    "\n",
    "def map_2_grid(q_dset, gridstep=0.005):\n",
    "    all_qx = q_dset[0]\n",
    "    all_qy = q_dset[1]\n",
    "    all_qz = q_dset[2]\n",
    "    all_int = q_dset[3]\n",
    "\n",
    "    # Find bounds\n",
    "    x_min = np.min(all_qx)\n",
    "    x_max = np.max(all_qx)\n",
    "    y_min = np.min(all_qy)\n",
    "    y_max = np.max(all_qy)\n",
    "    z_min = np.min(all_qz)\n",
    "    z_max = np.max(all_qz)\n",
    "\n",
    "    # Generate q-space grid\n",
    "    xx = np.linspace(x_min, x_max, int((x_max - x_min) / gridstep))\n",
    "    yy = np.linspace(y_min, y_max, int((y_max - y_min) / gridstep))\n",
    "    zz = np.linspace(z_min, z_max, int((z_max - z_min) / gridstep))\n",
    "\n",
    "    grid = np.array(np.meshgrid(xx, yy, zz, indexing='ij'))\n",
    "    grid = grid.reshape(3, -1).T\n",
    "\n",
    "    points = np.array([all_qx, all_qy, all_qz]).T\n",
    "\n",
    "    int_grid = griddata(points, all_int, grid, method='nearest')\n",
    "    #int_grid = int_grid.reshape(yy.shape[0], xx.shape[0], zz.shape[0]).T\n",
    "    int_grid = int_grid.reshape(xx.shape[0], yy.shape[0], zz.shape[0])\n",
    "\n",
    "    return np.array([*np.meshgrid(xx, yy, zz, indexing='ij'), int_grid])"
   ]
  },
  {
   "cell_type": "code",
   "execution_count": 87,
   "metadata": {},
   "outputs": [],
   "source": [
    "grid_data = map_2_grid(np.asarray([all_qx, all_qy, all_qz, all_int]), gridstep=0.01)"
   ]
  },
  {
   "cell_type": "code",
   "execution_count": null,
   "metadata": {},
   "outputs": [],
   "source": []
  },
  {
   "cell_type": "code",
   "execution_count": null,
   "metadata": {},
   "outputs": [],
   "source": [
    "test.plot_interactive_map(img_vmin=0, img_vmax=50)"
   ]
  },
  {
   "cell_type": "code",
   "execution_count": null,
   "metadata": {},
   "outputs": [
    {
     "name": "stdout",
     "output_type": "stream",
     "text": [
      "Normalize image by i0 scaler...done!\n"
     ]
    }
   ],
   "source": [
    "#test.map.correct_outliers()\n",
    "test.map.normalize_scaler()"
   ]
  },
  {
   "cell_type": "code",
   "execution_count": null,
   "metadata": {},
   "outputs": [
    {
     "name": "stdout",
     "output_type": "stream",
     "text": [
      "Applying X-ray polarization correction...done!\n",
      "Applying solid angle correction...done!\n"
     ]
    }
   ],
   "source": [
    "test.map.apply_lorentz_correction(apply=False)\n",
    "test.map.apply_polarization_correction()\n",
    "test.map.apply_solidangle_correction()"
   ]
  },
  {
   "cell_type": "code",
   "execution_count": null,
   "metadata": {},
   "outputs": [],
   "source": [
    "from xrdmaptools.utilities.utilities import delta_array\n",
    "omega = 4 * np.arcsin(np.sin(np.radians(test.delta_tth / 2)) * np.sin(np.radians(test.delta_chi / 2)))\n",
    "\n",
    "test.map.images /= (omega * np.sin(np.radians(test.tth_arr)))\n",
    "test.map.corrections['lorentz'] = True"
   ]
  },
  {
   "cell_type": "code",
   "execution_count": null,
   "metadata": {},
   "outputs": [],
   "source": [
    "test.plot_image()"
   ]
  },
  {
   "cell_type": "code",
   "execution_count": null,
   "metadata": {},
   "outputs": [],
   "source": [
    "test.plot_interactive_map(img_vmin=0, img_vmax=100)"
   ]
  },
  {
   "cell_type": "code",
   "execution_count": null,
   "metadata": {},
   "outputs": [
    {
     "name": "stdout",
     "output_type": "stream",
     "text": [
      "Estimating background with Bruckner algorithm.\n",
      "Warning: No mask could be constructed.\n"
     ]
    },
    {
     "name": "stderr",
     "output_type": "stream",
     "text": [
      "100%|██████████| 16016/16016 [18:31<00:00, 14.41it/s]\n"
     ]
    }
   ],
   "source": [
    "#test.map.estimate_background(method='bruckner', binning=2, min_prominence=1)\n",
    "test.map.estimate_background(method='bruckner', binning=2, min_prominence=0.1)"
   ]
  },
  {
   "cell_type": "code",
   "execution_count": null,
   "metadata": {},
   "outputs": [],
   "source": [
    "test.plot_image(test.map.images[0, 1] - test.map.background[0, 1])"
   ]
  },
  {
   "cell_type": "code",
   "execution_count": null,
   "metadata": {},
   "outputs": [
    {
     "name": "stdout",
     "output_type": "stream",
     "text": [
      "Removing background...done!\n"
     ]
    }
   ],
   "source": [
    "test.map.remove_background()"
   ]
  },
  {
   "cell_type": "code",
   "execution_count": null,
   "metadata": {},
   "outputs": [],
   "source": [
    "test.plot_image()"
   ]
  },
  {
   "cell_type": "code",
   "execution_count": null,
   "metadata": {},
   "outputs": [
    {
     "name": "stdout",
     "output_type": "stream",
     "text": [
      "Caution: Images not corrected for:\n",
      "\tabsorption\n",
      "\tflat_field\n",
      "\toutliers\n",
      "\tpixel_defects\n",
      "\tpixel_distortions\n",
      "\tpolar_calibration\n",
      "Cleaning and updating image information...\n",
      "Diffraction map size is 22.270 GB.\n",
      "Compressing and writing images to disk.\n",
      "This may take awhile...\n",
      "done!\n"
     ]
    }
   ],
   "source": [
    "test.map.rescale_images(arr_min=0)\n",
    "test.map.finalize_images()"
   ]
  },
  {
   "cell_type": "code",
   "execution_count": null,
   "metadata": {},
   "outputs": [
    {
     "data": {
      "text/plain": [
       "(11, 81, 972, 1536)"
      ]
     },
     "execution_count": 13,
     "metadata": {},
     "output_type": "execute_result"
    }
   ],
   "source": [
    "test.map.images[::2, ::2].shape"
   ]
  },
  {
   "cell_type": "code",
   "execution_count": null,
   "metadata": {},
   "outputs": [],
   "source": [
    "cols = np.arange(7, 150 + 1, 1)\n",
    "rows = np.round(np.linspace(3, 16, len(cols)), 0).astype(np.int8)"
   ]
  },
  {
   "cell_type": "code",
   "execution_count": null,
   "metadata": {},
   "outputs": [],
   "source": [
    "image_vector = []\n",
    "\n",
    "for col, row in zip(cols, rows):\n",
    "    image_vector.append(test.map.images[row, col])"
   ]
  },
  {
   "cell_type": "code",
   "execution_count": null,
   "metadata": {},
   "outputs": [],
   "source": [
    "from xrdmaptools.utilities.image_corrections import rescale_array\n",
    "\n",
    "save_dir = 'D:\\\\Musterman_postdoc\\\\20240223_Musterman\\\\plots\\\\xrd_maps\\\\'\n",
    "\n",
    "for index, image in enumerate(image_vector):\n",
    "\n",
    "    io.imsave(f'{save_dir}scan{test.scanid}_rotation_{index}.tiff',\n",
    "              image,\n",
    "              check_contrast=False,\n",
    "              #plugin='pil'\n",
    "              )"
   ]
  },
  {
   "cell_type": "code",
   "execution_count": null,
   "metadata": {},
   "outputs": [],
   "source": [
    "test.plot_image(image_vector[-1])"
   ]
  },
  {
   "cell_type": "code",
   "execution_count": null,
   "metadata": {},
   "outputs": [],
   "source": [
    "test.plot_image()"
   ]
  },
  {
   "cell_type": "code",
   "execution_count": null,
   "metadata": {},
   "outputs": [],
   "source": [
    "test.plot_interactive_map(img_vmin=0, img_vmax=1)"
   ]
  },
  {
   "cell_type": "code",
   "execution_count": null,
   "metadata": {},
   "outputs": [],
   "source": [
    "cif_dir = '''C:\\\\Users\\\\emusterma\\\\OneDrive - Brookhaven National Laboratory\\\\Documents\\\\Postdoc\\\\Literature\\\\CIF\\\\'''\n",
    "test.clear_phases()\n",
    "#test.load_phase('Barker\\\\1521772COD.cif', filedir=cif_dir, phase_name=\"liNbO3 old\")\n",
    "#test.load_phase('Barker\\\\LiNbO3.cif', filedir=cif_dir, phase_name=\"LiNbO3 148\")\n",
    "#test.load_phase('Unknown\\\\LiNbO3.cif', filedir=cif_dir, phase_name=\"LiNbO3 new\")\n",
    "test.load_phase('AMCSD\\\\Platinum_0011157.cif', filedir=cif_dir, phase_name=\"platinum\")\n",
    "#test.load_phase('AMCSD\\\\Calcite_0000984.cif', filedir=cif_dir, phase_name=\"calcite\")\n",
    "test.load_phase('AMCSD\\\\Stibnite_0008636.cif', filedir=cif_dir, phase_name=\"stibnite\")\n",
    "#test.load_phase('AMCSD\\\\Silicon_0011243.cif', filedir=cif_dir, phase_name=\"silicon\")\n",
    "#test.load_phase('AMCSD\\\\Corundum_0009327.cif', filedir=cif_dir, phase_name=\"sapphire\")\n",
    "#test.load_phase('AMCSD\\\\Hematite_0017806.cif', filedir=cif_dir, phase_name=\"hematite\")\n",
    "#test.load_phase('AMCSD\\\\Iron-alpha_0011214.cif', filedir=cif_dir, phase_name=\"iron-ferrite\")\n",
    "#test.load_phase('AMCSD\\\\Iron-beta_0011215.cif', filedir=cif_dir, phase_name=\"iron-beta\")\n",
    "#test.load_phase('AMCSD\\\\Iron-delta_0011216.cif', filedir=cif_dir, phase_name=\"iron-delta\")\n",
    "#test.load_phase('AMCSD\\\\Iron_0011146.cif', filedir=cif_dir, phase_name=\"iron-austenite\")\n",
    "#test.load_phase('AMCSD\\\\Cementite_0013523.cif', filedir=cif_dir, phase_name=\"cementite\")\n",
    "#test.load_phase('AMCSD\\\\Graphite_0011247.cif', filedir=cif_dir, phase_name=\"graphite\")\n",
    "#test.load_phase('AMCSD\\\\Tungsten_0011261.cif', filedir=cif_dir, phase_name=\"tungsten_1\")\n",
    "test.load_phase('AMCSD\\\\Tungsten_0011236.cif', filedir=cif_dir, phase_name=\"tungsten_2\")\n",
    "test.load_phase('AMCSD\\\\Iron_0011146.cif', filedir=cif_dir, phase_name=\"304SS-austenite\")\n",
    "test.phases['304SS-austenite'].a = 3.529"
   ]
  },
  {
   "cell_type": "code",
   "execution_count": null,
   "metadata": {},
   "outputs": [
    {
     "name": "stdout",
     "output_type": "stream",
     "text": [
      "Updated phases saved in hdf.\n"
     ]
    }
   ],
   "source": [
    "test.select_phases(remove_less_than=-1)"
   ]
  },
  {
   "cell_type": "code",
   "execution_count": null,
   "metadata": {},
   "outputs": [
    {
     "data": {
      "text/plain": [
       "3.529157094128613"
      ]
     },
     "execution_count": 11,
     "metadata": {},
     "output_type": "execute_result"
    }
   ],
   "source": [
    "from xrdmaptools.utilities.math import tth_2_d\n",
    "\n",
    "tth_2_d(17.5, wavelength=test.wavelength) * np.sqrt(3)"
   ]
  },
  {
   "cell_type": "code",
   "execution_count": null,
   "metadata": {},
   "outputs": [
    {
     "name": "stdout",
     "output_type": "stream",
     "text": [
      "17.181828968954655\n",
      "19.8750430893204\n",
      "28.259792849412545\n",
      "33.26815679469825\n"
     ]
    }
   ],
   "source": [
    "from xrdmaptools.utilities.math import d_2_tth\n",
    "\n",
    "for d, hkl in zip([2.075, 1.7961, 1.2697, 1.0828],\n",
    "                  [[1, 1, 1], [2, 0, 0], [2, 2, 0], [3, 1, 1]]):\n",
    "    print(d_2_tth(d, test.wavelength))\n",
    "    h, k, l = hkl\n",
    "    a = d * np.sqrt(h**2 + k**2 + l**2)\n",
    "    #print(a)"
   ]
  },
  {
   "cell_type": "code",
   "execution_count": null,
   "metadata": {},
   "outputs": [],
   "source": [
    "test.plot_interactive_map(img_vmin=0, img_vmax=0.1, map_vmax=1e4, map_vmin=1e3)"
   ]
  },
  {
   "cell_type": "code",
   "execution_count": null,
   "metadata": {},
   "outputs": [
    {
     "data": {
      "text/plain": [
       "{'liNbO3 old': 37.5, 'LiNbO3 new': 29.16666666666663}"
      ]
     },
     "execution_count": 14,
     "metadata": {},
     "output_type": "execute_result"
    }
   ],
   "source": [
    "from xrdmaptools.crystal.Phase import phase_selector\n",
    "\n",
    "tth, xrd = test.integrate_1d(image=test.map.images[19, 91], tth_num=4096, unit='2th_deg')\n",
    "phase_selector(xrd, list(test.phases.values()), tth, ignore_less=1)"
   ]
  },
  {
   "cell_type": "code",
   "execution_count": null,
   "metadata": {},
   "outputs": [],
   "source": [
    "from xrdmaptools.utilities.image_corrections import rescale_array\n",
    "\n",
    "fig, axes = plt.subplots(2, 2, figsize=(10, 5), dpi=200)\n",
    "ax = axes.ravel()\n",
    "\n",
    "div = [1, omega, np.sin(np.radians(test.tth_arr)), omega * np.sin(np.radians(test.tth_arr))]\n",
    "\n",
    "for i in range(len(ax)):\n",
    "    tth, xrd = test.integrate_1d(image=np.max(test.map.images, axis=(0, 1)) / div[i], tth_num=8192, unit='2th_deg')\n",
    "    xrd = rescale_array(xrd, arr_min=0, upper=100)\n",
    "    ax[i].plot(tth, xrd)\n",
    "\n",
    "plt.show()"
   ]
  },
  {
   "cell_type": "code",
   "execution_count": null,
   "metadata": {},
   "outputs": [],
   "source": [
    "fig, axes = plt.subplots(2, 2, figsize=(10, 5), dpi=200)\n",
    "ax = axes.ravel()\n",
    "\n",
    "div = [1, omega, np.sin(np.radians(test.tth_arr)), omega * np.sin(np.radians(test.tth_arr))]\n",
    "\n",
    "for i in range(len(ax)):\n",
    "    tth, xrd = test.integrate_1d(image=test.map.images[0, 1] / div[i], tth_num=8192, unit='2th_deg')\n",
    "    xrd = rescale_array(xrd, arr_min=0, upper=100)\n",
    "    ax[i].plot(tth, xrd)\n",
    "\n",
    "plt.show()"
   ]
  },
  {
   "cell_type": "code",
   "execution_count": null,
   "metadata": {},
   "outputs": [],
   "source": [
    "indices = np.unravel_index(np.argmax(test.map.images[i, j]), test.map.image_shape)"
   ]
  },
  {
   "cell_type": "code",
   "execution_count": null,
   "metadata": {},
   "outputs": [],
   "source": [
    "from xrdmaptools.reflections.spot_blob_search import spot_search\n",
    "\n",
    "i = np.random.randint(test.map.map_shape[0])\n",
    "j = np.random.randint(test.map.map_shape[1])\n",
    "\n",
    "#out = spot_search(test.map.images[i, j], bkg_noise=map_noise, multiplier=3, plotme=True, mask=test.map.mask, expansion=0, sigma=3)\n",
    "out = spot_search(test.map.images[i, j], multiplier=3, plotme=True,\n",
    "                  mask=test.map.mask, expansion=10, size=3, threshold_method='minimum')"
   ]
  },
  {
   "cell_type": "code",
   "execution_count": null,
   "metadata": {},
   "outputs": [],
   "source": [
    "test.plot_image(test.chi_arr)"
   ]
  },
  {
   "cell_type": "code",
   "execution_count": null,
   "metadata": {},
   "outputs": [
    {
     "name": "stdout",
     "output_type": "stream",
     "text": [
      "Searching images for spots...\n"
     ]
    },
    {
     "name": "stderr",
     "output_type": "stream",
     "text": [
      "100%|██████████| 3381/3381 [03:22<00:00, 16.72it/s]\n"
     ]
    },
    {
     "name": "stdout",
     "output_type": "stream",
     "text": [
      "Estimating spot characteristics...\n"
     ]
    },
    {
     "name": "stderr",
     "output_type": "stream",
     "text": [
      "100%|██████████| 159274/159274 [34:11<00:00, 77.63it/s] \n"
     ]
    },
    {
     "name": "stdout",
     "output_type": "stream",
     "text": [
      "Saving spots to hdf...done!\n",
      "Scheduling blob segmentation for spot fits...\n"
     ]
    },
    {
     "name": "stderr",
     "output_type": "stream",
     "text": [
      "100%|██████████| 3381/3381 [06:38<00:00,  8.47it/s]\n"
     ]
    },
    {
     "name": "stdout",
     "output_type": "stream",
     "text": [
      "Segmenting blobs for spot fits...\n"
     ]
    },
    {
     "name": "stderr",
     "output_type": "stream",
     "text": [
      "100%|██████████| 3381/3381 [14:32<00:00,  3.87it/s]\n"
     ]
    },
    {
     "name": "stdout",
     "output_type": "stream",
     "text": [
      "Fitting spots in blobs...\n"
     ]
    },
    {
     "name": "stderr",
     "output_type": "stream",
     "text": [
      "100%|██████████| 115813/115813 [2:48:48<00:00, 11.43it/s]  \n"
     ]
    },
    {
     "name": "stdout",
     "output_type": "stream",
     "text": [
      "Successfully fit 157872 / 159274 spots ( 99.1 % ).\n",
      "Saving spots to hdf...done!\n",
      "Extracting more information from peak parameters...\n"
     ]
    },
    {
     "name": "stderr",
     "output_type": "stream",
     "text": [
      "100%|██████████| 159274/159274 [02:10<00:00, 1217.00it/s]"
     ]
    },
    {
     "name": "stdout",
     "output_type": "stream",
     "text": [
      "Converting peaks positions to q-space...done!\n",
      "Saving spots to hdf..."
     ]
    },
    {
     "name": "stderr",
     "output_type": "stream",
     "text": [
      "\n"
     ]
    },
    {
     "name": "stdout",
     "output_type": "stream",
     "text": [
      "done!\n"
     ]
    }
   ],
   "source": [
    "test.find_spots(multiplier=3, expansion=10, radius=10, size=3, threshold_method='minimum')\n",
    "test.fit_spots(GaussianFunctions, max_dist=0.2, sigma=1)\n",
    "test.initial_spot_analysis()"
   ]
  },
  {
   "cell_type": "code",
   "execution_count": null,
   "metadata": {},
   "outputs": [
    {
     "name": "stdout",
     "output_type": "stream",
     "text": [
      "Searching images for spots...\n"
     ]
    },
    {
     "name": "stderr",
     "output_type": "stream",
     "text": [
      "100%|██████████| 3381/3381 [03:20<00:00, 16.90it/s]\n"
     ]
    },
    {
     "name": "stdout",
     "output_type": "stream",
     "text": [
      "Estimating spot characteristics...\n"
     ]
    },
    {
     "name": "stderr",
     "output_type": "stream",
     "text": [
      "100%|██████████| 159274/159274 [32:08<00:00, 82.58it/s] \n"
     ]
    },
    {
     "name": "stdout",
     "output_type": "stream",
     "text": [
      "Saving spots to hdf...done!\n"
     ]
    }
   ],
   "source": [
    "#test.map.images = rescale_array(test.map.images, lower=0, upper=100)\n",
    "test.find_spots(multiplier=3, expansion=10, radius=10, size=3, threshold_method='minimum')"
   ]
  },
  {
   "cell_type": "code",
   "execution_count": null,
   "metadata": {},
   "outputs": [],
   "source": [
    "test.plot_image(spots=True, contours=True)"
   ]
  },
  {
   "cell_type": "code",
   "execution_count": null,
   "metadata": {},
   "outputs": [
    {
     "name": "stdout",
     "output_type": "stream",
     "text": [
      "Scheduling blob segmentation for spot fits...\n"
     ]
    },
    {
     "name": "stderr",
     "output_type": "stream",
     "text": [
      "100%|██████████| 3381/3381 [06:33<00:00,  8.59it/s]\n"
     ]
    },
    {
     "name": "stdout",
     "output_type": "stream",
     "text": [
      "Segmenting blobs for spot fits...\n"
     ]
    },
    {
     "name": "stderr",
     "output_type": "stream",
     "text": [
      "100%|██████████| 3381/3381 [12:06<00:00,  4.65it/s]\n"
     ]
    },
    {
     "name": "stdout",
     "output_type": "stream",
     "text": [
      "Fitting spots in blobs...\n"
     ]
    },
    {
     "name": "stderr",
     "output_type": "stream",
     "text": [
      "100%|██████████| 113863/113863 [2:03:28<00:00, 15.37it/s] \n"
     ]
    },
    {
     "name": "stdout",
     "output_type": "stream",
     "text": [
      "Successfully fit 155298 / 159274 spots ( 97.5 % ).\n",
      "Saving spots to hdf...done!\n"
     ]
    }
   ],
   "source": [
    "test.fit_spots(GaussianFunctions, max_dist=0.2, sigma=1)"
   ]
  },
  {
   "cell_type": "code",
   "execution_count": null,
   "metadata": {},
   "outputs": [
    {
     "name": "stdout",
     "output_type": "stream",
     "text": [
      "Extracting more information from peak parameters...\n"
     ]
    },
    {
     "name": "stderr",
     "output_type": "stream",
     "text": [
      "100%|██████████| 654838/654838 [08:23<00:00, 1300.76it/s]"
     ]
    },
    {
     "name": "stdout",
     "output_type": "stream",
     "text": [
      "Converting peaks positions to q-space..."
     ]
    },
    {
     "name": "stderr",
     "output_type": "stream",
     "text": [
      "\n"
     ]
    },
    {
     "name": "stdout",
     "output_type": "stream",
     "text": [
      "done!\n",
      "Saving spots to hdf...done!\n"
     ]
    }
   ],
   "source": [
    "test.initial_spot_analysis()"
   ]
  },
  {
   "cell_type": "code",
   "execution_count": null,
   "metadata": {},
   "outputs": [],
   "source": [
    "del test"
   ]
  },
  {
   "cell_type": "code",
   "execution_count": null,
   "metadata": {},
   "outputs": [
    {
     "name": "stdout",
     "output_type": "stream",
     "text": [
      "Trimmed 0 spots less than 0.01 significance.\n"
     ]
    }
   ],
   "source": [
    "test.trim_spots(remove_less=0.01)"
   ]
  },
  {
   "cell_type": "code",
   "execution_count": null,
   "metadata": {},
   "outputs": [],
   "source": [
    "test.plot_image(spots=True, contours=True)"
   ]
  },
  {
   "cell_type": "code",
   "execution_count": null,
   "metadata": {},
   "outputs": [
    {
     "data": {
      "text/plain": [
       "(83, 166)"
      ]
     },
     "execution_count": 11,
     "metadata": {},
     "output_type": "execute_result"
    }
   ],
   "source": [
    "indices"
   ]
  },
  {
   "cell_type": "code",
   "execution_count": null,
   "metadata": {},
   "outputs": [],
   "source": [
    "pixel_df = test.spots[(test.spots['map_x'] == indices[0])\n",
    "                          & (test.spots['map_y'] == indices[1])]"
   ]
  },
  {
   "cell_type": "code",
   "execution_count": null,
   "metadata": {},
   "outputs": [
    {
     "data": {
      "text/html": [
       "<div>\n",
       "<style scoped>\n",
       "    .dataframe tbody tr th:only-of-type {\n",
       "        vertical-align: middle;\n",
       "    }\n",
       "\n",
       "    .dataframe tbody tr th {\n",
       "        vertical-align: top;\n",
       "    }\n",
       "\n",
       "    .dataframe thead th {\n",
       "        text-align: right;\n",
       "    }\n",
       "</style>\n",
       "<table border=\"1\" class=\"dataframe\">\n",
       "  <thead>\n",
       "    <tr style=\"text-align: right;\">\n",
       "      <th></th>\n",
       "      <th>map_x</th>\n",
       "      <th>map_y</th>\n",
       "      <th>guess_height</th>\n",
       "      <th>guess_img_x</th>\n",
       "      <th>guess_img_y</th>\n",
       "      <th>guess_tth</th>\n",
       "      <th>guess_chi</th>\n",
       "      <th>guess_cen_tth</th>\n",
       "      <th>guess_cen_chi</th>\n",
       "      <th>guess_fwhm_tth</th>\n",
       "      <th>guess_fwhm_chi</th>\n",
       "      <th>guess_int</th>\n",
       "      <th>guess_integrated</th>\n",
       "      <th>guess_fwhm_a</th>\n",
       "      <th>guess_fwhm_b</th>\n",
       "      <th>guess_rot_fwhm_tth</th>\n",
       "      <th>guess_rot_fwhm_chi</th>\n",
       "      <th>qx</th>\n",
       "      <th>qy</th>\n",
       "      <th>qz</th>\n",
       "    </tr>\n",
       "  </thead>\n",
       "  <tbody>\n",
       "    <tr>\n",
       "      <th>0</th>\n",
       "      <td>0</td>\n",
       "      <td>29</td>\n",
       "      <td>0.151127</td>\n",
       "      <td>223</td>\n",
       "      <td>697</td>\n",
       "      <td>28.314023</td>\n",
       "      <td>11.627194</td>\n",
       "      <td>28.319032</td>\n",
       "      <td>11.630588</td>\n",
       "      <td>0.403142</td>\n",
       "      <td>0.978846</td>\n",
       "      <td>3.895133</td>\n",
       "      <td>3.895133</td>\n",
       "      <td>0.403142</td>\n",
       "      <td>0.978846</td>\n",
       "      <td>0.403142</td>\n",
       "      <td>0.978846</td>\n",
       "      <td>-4.002945</td>\n",
       "      <td>-0.823914</td>\n",
       "      <td>-1.031062</td>\n",
       "    </tr>\n",
       "    <tr>\n",
       "      <th>1</th>\n",
       "      <td>0</td>\n",
       "      <td>33</td>\n",
       "      <td>0.182827</td>\n",
       "      <td>224</td>\n",
       "      <td>696</td>\n",
       "      <td>28.343196</td>\n",
       "      <td>11.534918</td>\n",
       "      <td>28.332871</td>\n",
       "      <td>11.523430</td>\n",
       "      <td>0.410301</td>\n",
       "      <td>0.983484</td>\n",
       "      <td>3.193838</td>\n",
       "      <td>3.193838</td>\n",
       "      <td>0.410301</td>\n",
       "      <td>0.983484</td>\n",
       "      <td>0.410301</td>\n",
       "      <td>0.983484</td>\n",
       "      <td>-4.006273</td>\n",
       "      <td>-0.816792</td>\n",
       "      <td>-1.032049</td>\n",
       "    </tr>\n",
       "    <tr>\n",
       "      <th>2</th>\n",
       "      <td>0</td>\n",
       "      <td>34</td>\n",
       "      <td>0.159810</td>\n",
       "      <td>222</td>\n",
       "      <td>697</td>\n",
       "      <td>28.321017</td>\n",
       "      <td>11.709328</td>\n",
       "      <td>28.368816</td>\n",
       "      <td>11.764061</td>\n",
       "      <td>0.404847</td>\n",
       "      <td>0.975404</td>\n",
       "      <td>3.518708</td>\n",
       "      <td>3.518708</td>\n",
       "      <td>0.404847</td>\n",
       "      <td>0.975404</td>\n",
       "      <td>0.404847</td>\n",
       "      <td>0.975404</td>\n",
       "      <td>-4.007464</td>\n",
       "      <td>-0.834580</td>\n",
       "      <td>-1.034616</td>\n",
       "    </tr>\n",
       "    <tr>\n",
       "      <th>3</th>\n",
       "      <td>0</td>\n",
       "      <td>35</td>\n",
       "      <td>0.185701</td>\n",
       "      <td>223</td>\n",
       "      <td>697</td>\n",
       "      <td>28.314023</td>\n",
       "      <td>11.627194</td>\n",
       "      <td>28.342741</td>\n",
       "      <td>11.773423</td>\n",
       "      <td>0.400588</td>\n",
       "      <td>0.978272</td>\n",
       "      <td>3.796308</td>\n",
       "      <td>3.796308</td>\n",
       "      <td>0.400588</td>\n",
       "      <td>0.978272</td>\n",
       "      <td>0.400588</td>\n",
       "      <td>0.978272</td>\n",
       "      <td>-4.003950</td>\n",
       "      <td>-0.834531</td>\n",
       "      <td>-1.032753</td>\n",
       "    </tr>\n",
       "    <tr>\n",
       "      <th>4</th>\n",
       "      <td>0</td>\n",
       "      <td>36</td>\n",
       "      <td>0.174188</td>\n",
       "      <td>222</td>\n",
       "      <td>697</td>\n",
       "      <td>28.321017</td>\n",
       "      <td>11.709328</td>\n",
       "      <td>28.306088</td>\n",
       "      <td>11.829770</td>\n",
       "      <td>0.405758</td>\n",
       "      <td>0.984588</td>\n",
       "      <td>3.054300</td>\n",
       "      <td>3.054300</td>\n",
       "      <td>0.405758</td>\n",
       "      <td>0.984588</td>\n",
       "      <td>0.405758</td>\n",
       "      <td>0.984588</td>\n",
       "      <td>-3.998379</td>\n",
       "      <td>-0.837473</td>\n",
       "      <td>-1.030139</td>\n",
       "    </tr>\n",
       "    <tr>\n",
       "      <th>...</th>\n",
       "      <td>...</td>\n",
       "      <td>...</td>\n",
       "      <td>...</td>\n",
       "      <td>...</td>\n",
       "      <td>...</td>\n",
       "      <td>...</td>\n",
       "      <td>...</td>\n",
       "      <td>...</td>\n",
       "      <td>...</td>\n",
       "      <td>...</td>\n",
       "      <td>...</td>\n",
       "      <td>...</td>\n",
       "      <td>...</td>\n",
       "      <td>...</td>\n",
       "      <td>...</td>\n",
       "      <td>...</td>\n",
       "      <td>...</td>\n",
       "      <td>...</td>\n",
       "      <td>...</td>\n",
       "      <td>...</td>\n",
       "    </tr>\n",
       "    <tr>\n",
       "      <th>654833</th>\n",
       "      <td>90</td>\n",
       "      <td>124</td>\n",
       "      <td>0.181661</td>\n",
       "      <td>275</td>\n",
       "      <td>520</td>\n",
       "      <td>34.768068</td>\n",
       "      <td>6.325422</td>\n",
       "      <td>34.757096</td>\n",
       "      <td>6.403281</td>\n",
       "      <td>0.436289</td>\n",
       "      <td>0.876522</td>\n",
       "      <td>5.151267</td>\n",
       "      <td>5.151267</td>\n",
       "      <td>0.436289</td>\n",
       "      <td>0.876522</td>\n",
       "      <td>0.436289</td>\n",
       "      <td>0.876522</td>\n",
       "      <td>-4.880840</td>\n",
       "      <td>-0.547757</td>\n",
       "      <td>-1.537145</td>\n",
       "    </tr>\n",
       "    <tr>\n",
       "      <th>654834</th>\n",
       "      <td>90</td>\n",
       "      <td>125</td>\n",
       "      <td>0.201891</td>\n",
       "      <td>270</td>\n",
       "      <td>520</td>\n",
       "      <td>34.786908</td>\n",
       "      <td>6.688545</td>\n",
       "      <td>34.818473</td>\n",
       "      <td>6.682404</td>\n",
       "      <td>0.438215</td>\n",
       "      <td>0.854422</td>\n",
       "      <td>3.652411</td>\n",
       "      <td>3.652411</td>\n",
       "      <td>0.438215</td>\n",
       "      <td>0.854422</td>\n",
       "      <td>0.438215</td>\n",
       "      <td>0.854422</td>\n",
       "      <td>-4.885641</td>\n",
       "      <td>-0.572410</td>\n",
       "      <td>-1.542411</td>\n",
       "    </tr>\n",
       "    <tr>\n",
       "      <th>654835</th>\n",
       "      <td>90</td>\n",
       "      <td>127</td>\n",
       "      <td>0.171910</td>\n",
       "      <td>269</td>\n",
       "      <td>520</td>\n",
       "      <td>34.790804</td>\n",
       "      <td>6.761105</td>\n",
       "      <td>34.773174</td>\n",
       "      <td>6.684233</td>\n",
       "      <td>0.429707</td>\n",
       "      <td>0.875132</td>\n",
       "      <td>4.295020</td>\n",
       "      <td>4.295020</td>\n",
       "      <td>0.429707</td>\n",
       "      <td>0.875132</td>\n",
       "      <td>0.429707</td>\n",
       "      <td>0.875132</td>\n",
       "      <td>-4.880068</td>\n",
       "      <td>-0.571915</td>\n",
       "      <td>-1.538524</td>\n",
       "    </tr>\n",
       "    <tr>\n",
       "      <th>654836</th>\n",
       "      <td>90</td>\n",
       "      <td>128</td>\n",
       "      <td>0.208740</td>\n",
       "      <td>269</td>\n",
       "      <td>520</td>\n",
       "      <td>34.790804</td>\n",
       "      <td>6.761105</td>\n",
       "      <td>34.770098</td>\n",
       "      <td>6.782913</td>\n",
       "      <td>0.440397</td>\n",
       "      <td>0.858455</td>\n",
       "      <td>3.848803</td>\n",
       "      <td>3.848803</td>\n",
       "      <td>0.440397</td>\n",
       "      <td>0.858455</td>\n",
       "      <td>0.440397</td>\n",
       "      <td>0.858455</td>\n",
       "      <td>-4.878698</td>\n",
       "      <td>-0.580274</td>\n",
       "      <td>-1.538260</td>\n",
       "    </tr>\n",
       "    <tr>\n",
       "      <th>654837</th>\n",
       "      <td>90</td>\n",
       "      <td>131</td>\n",
       "      <td>0.166871</td>\n",
       "      <td>269</td>\n",
       "      <td>520</td>\n",
       "      <td>34.790804</td>\n",
       "      <td>6.761105</td>\n",
       "      <td>34.823913</td>\n",
       "      <td>6.790495</td>\n",
       "      <td>0.432958</td>\n",
       "      <td>0.853358</td>\n",
       "      <td>3.397297</td>\n",
       "      <td>3.397297</td>\n",
       "      <td>0.432958</td>\n",
       "      <td>0.853358</td>\n",
       "      <td>0.432958</td>\n",
       "      <td>0.853358</td>\n",
       "      <td>-4.885219</td>\n",
       "      <td>-0.581705</td>\n",
       "      <td>-1.542878</td>\n",
       "    </tr>\n",
       "  </tbody>\n",
       "</table>\n",
       "<p>654838 rows × 20 columns</p>\n",
       "</div>"
      ],
      "text/plain": [
       "        map_x  map_y  guess_height  guess_img_x  guess_img_y  guess_tth  \\\n",
       "0           0     29      0.151127          223          697  28.314023   \n",
       "1           0     33      0.182827          224          696  28.343196   \n",
       "2           0     34      0.159810          222          697  28.321017   \n",
       "3           0     35      0.185701          223          697  28.314023   \n",
       "4           0     36      0.174188          222          697  28.321017   \n",
       "...       ...    ...           ...          ...          ...        ...   \n",
       "654833     90    124      0.181661          275          520  34.768068   \n",
       "654834     90    125      0.201891          270          520  34.786908   \n",
       "654835     90    127      0.171910          269          520  34.790804   \n",
       "654836     90    128      0.208740          269          520  34.790804   \n",
       "654837     90    131      0.166871          269          520  34.790804   \n",
       "\n",
       "        guess_chi  guess_cen_tth  guess_cen_chi  guess_fwhm_tth  \\\n",
       "0       11.627194      28.319032      11.630588        0.403142   \n",
       "1       11.534918      28.332871      11.523430        0.410301   \n",
       "2       11.709328      28.368816      11.764061        0.404847   \n",
       "3       11.627194      28.342741      11.773423        0.400588   \n",
       "4       11.709328      28.306088      11.829770        0.405758   \n",
       "...           ...            ...            ...             ...   \n",
       "654833   6.325422      34.757096       6.403281        0.436289   \n",
       "654834   6.688545      34.818473       6.682404        0.438215   \n",
       "654835   6.761105      34.773174       6.684233        0.429707   \n",
       "654836   6.761105      34.770098       6.782913        0.440397   \n",
       "654837   6.761105      34.823913       6.790495        0.432958   \n",
       "\n",
       "        guess_fwhm_chi  guess_int  guess_integrated  guess_fwhm_a  \\\n",
       "0             0.978846   3.895133          3.895133      0.403142   \n",
       "1             0.983484   3.193838          3.193838      0.410301   \n",
       "2             0.975404   3.518708          3.518708      0.404847   \n",
       "3             0.978272   3.796308          3.796308      0.400588   \n",
       "4             0.984588   3.054300          3.054300      0.405758   \n",
       "...                ...        ...               ...           ...   \n",
       "654833        0.876522   5.151267          5.151267      0.436289   \n",
       "654834        0.854422   3.652411          3.652411      0.438215   \n",
       "654835        0.875132   4.295020          4.295020      0.429707   \n",
       "654836        0.858455   3.848803          3.848803      0.440397   \n",
       "654837        0.853358   3.397297          3.397297      0.432958   \n",
       "\n",
       "        guess_fwhm_b  guess_rot_fwhm_tth  guess_rot_fwhm_chi        qx  \\\n",
       "0           0.978846            0.403142            0.978846 -4.002945   \n",
       "1           0.983484            0.410301            0.983484 -4.006273   \n",
       "2           0.975404            0.404847            0.975404 -4.007464   \n",
       "3           0.978272            0.400588            0.978272 -4.003950   \n",
       "4           0.984588            0.405758            0.984588 -3.998379   \n",
       "...              ...                 ...                 ...       ...   \n",
       "654833      0.876522            0.436289            0.876522 -4.880840   \n",
       "654834      0.854422            0.438215            0.854422 -4.885641   \n",
       "654835      0.875132            0.429707            0.875132 -4.880068   \n",
       "654836      0.858455            0.440397            0.858455 -4.878698   \n",
       "654837      0.853358            0.432958            0.853358 -4.885219   \n",
       "\n",
       "              qy        qz  \n",
       "0      -0.823914 -1.031062  \n",
       "1      -0.816792 -1.032049  \n",
       "2      -0.834580 -1.034616  \n",
       "3      -0.834531 -1.032753  \n",
       "4      -0.837473 -1.030139  \n",
       "...          ...       ...  \n",
       "654833 -0.547757 -1.537145  \n",
       "654834 -0.572410 -1.542411  \n",
       "654835 -0.571915 -1.538524  \n",
       "654836 -0.580274 -1.538260  \n",
       "654837 -0.581705 -1.542878  \n",
       "\n",
       "[654838 rows x 20 columns]"
      ]
     },
     "execution_count": 149,
     "metadata": {},
     "output_type": "execute_result"
    }
   ],
   "source": [
    "test.spots"
   ]
  },
  {
   "cell_type": "code",
   "execution_count": null,
   "metadata": {},
   "outputs": [
    {
     "name": "stderr",
     "output_type": "stream",
     "text": [
      "100%|██████████| 3381/3381 [00:02<00:00, 1357.99it/s]\n"
     ]
    }
   ],
   "source": [
    "plot_map = np.zeros(test.map.map_shape)\n",
    "plot_map[:] = np.nan\n",
    "\n",
    "for image_index in tqdm(range(test.map.num_images)):\n",
    "    indices = np.unravel_index(image_index, test.map.map_shape)\n",
    "    pixel_df = test.spots[(test.spots['map_x'] == indices[0])\n",
    "                          & (test.spots['map_y'] == indices[1])]\n",
    "    \n",
    "    if len(pixel_df) < 1:\n",
    "        #plot_map[indices] = np.nan\n",
    "        plot_map[indices] = 0\n",
    "    else:\n",
    "        #plot_map[indices] = np.sum(pixel_df['guess_int'])\n",
    "        #plot_map[indices] = np.sum(pixel_df['fit_amp'])\n",
    "        plot_map[indices] = np.sum(pixel_df['fit_integrated'])\n",
    "        #plot_map[indices] = np.mean(pixel_df['fit_fwhm_tth'])\n",
    "        #plot_map[indices] = np.sum(pixel_df['fit_fwhm_chi'])\n",
    "        #plot_map[indices] = np.mean(pixel_df['fit_chi0'])\n",
    "        #plot_map[indices] = len(pixel_df)\n",
    "        #plot_map[indices] = np.nanmedian(pixel_df['qy'])\n",
    "        #plot_map[indices] = np.mean(pixel_df['fit_r_squared'])\n",
    "        #plot_map[indices] = pixel_df.iloc[np.argmax(pixel_df['fit_integrated'])]['fit_tth0']\n",
    "        #plot_map[indices] = pixel_df.iloc[np.argmax(pixel_df['guess_int'])]['guess_fwhm_tth']\n",
    "        #plot_map[indices] = np.sum(pixel_df['guess_int']) / len(pixel_df)\n",
    "        pass\n",
    "\n",
    "\n",
    "fig, ax = plt.subplots(1, 1, figsize=(5, 5), dpi=200)\n",
    "\n",
    "im = ax.imshow(plot_map)\n",
    "fig.colorbar(im, ax=ax)\n",
    "ax.set_title('Spot Value')\n",
    "\n",
    "plt.show()"
   ]
  },
  {
   "cell_type": "code",
   "execution_count": null,
   "metadata": {},
   "outputs": [],
   "source": [
    "test.plot_interactive_map(img_vmin=0, img_vmax=0.1)"
   ]
  },
  {
   "cell_type": "code",
   "execution_count": null,
   "metadata": {},
   "outputs": [],
   "source": [
    "test.plot_image(test.map.sum_map, aspect='equal')"
   ]
  },
  {
   "cell_type": "code",
   "execution_count": null,
   "metadata": {},
   "outputs": [],
   "source": [
    "from xrdmaptools.utilities.image_corrections import rescale_array\n",
    "\n",
    "save_dir = 'D:\\\\Musterman_postdoc\\\\20240223_Musterman\\\\plots\\\\xrd_maps\\\\'\n",
    "\n",
    "io.imsave(f'{save_dir}scan{test.scanid}_num_spots.tif', rescale_array(plot_map, upper=1, lower=0), check_contrast=False, plugin='pil')"
   ]
  },
  {
   "cell_type": "code",
   "execution_count": null,
   "metadata": {},
   "outputs": [],
   "source": [
    "from xrdmaptools.utilities.utilities import delta_array\n",
    "from xrdmaptools.reflections.spot_blob_indexing import get_q_vect\n",
    "from xrdmaptools.utilities.math import energy_2_wavelength\n",
    "\n",
    "q_arr_naught = get_q_vect(test.tth_arr, test.chi_arr, wavelength=test.wavelength)\n",
    "\n",
    "qx_min = q_arr_naught[0]\n",
    "qx_max = q_arr_naught[0]\n",
    "qy_min = q_arr_naught[1]\n",
    "qy_max = q_arr_naught[1]\n",
    "qz_min = q_arr_naught[2]\n",
    "qz_max = q_arr_naught[2]\n",
    "\n",
    "qx_delta = delta_array(q_arr_naught[0])\n",
    "qy_delta = delta_array(q_arr_naught[1])\n",
    "qz_delta = delta_array(q_arr_naught[2])"
   ]
  },
  {
   "cell_type": "code",
   "execution_count": null,
   "metadata": {},
   "outputs": [],
   "source": [
    "from xrdmaptools.utilities.utilities import delta_array\n",
    "from xrdmaptools.reflections.spot_blob_indexing import get_q_vect\n",
    "from xrdmaptools.utilities.math import energy_2_wavelength\n",
    "from itertools import product\n",
    "\n",
    "combos = list(product([0.002, 0, -0.002], [0.0016, 0, -0.0016], [0.0005, 0, -0.0005]))\n",
    "\n",
    "for phi_x, phi_y, delta_E in combos:\n",
    "    phi_z = 0\n",
    "\n",
    "    lam = energy_2_wavelength(test.energy + delta_E)\n",
    "\n",
    "    Rx = np.array([[1, 0, 0],\n",
    "                   [0, np.cos(phi_x), -np.sin(phi_x)],\n",
    "                   [0, np.sin(phi_x), np.cos(phi_x)]])\n",
    "\n",
    "    Ry = np.array([[np.cos(phi_y), 0, np.sin(phi_y)],\n",
    "                   [0, 1, 0],\n",
    "                   [-np.sin(phi_y), 0, np.cos(phi_y)]])\n",
    "\n",
    "    Rz = np.array([[np.cos(phi_z), -np.sin(phi_z), 0],\n",
    "                   [np.sin(phi_z), np.cos(phi_z), 0],\n",
    "                   [0, 0, 1]])\n",
    "\n",
    "    R = Rz @ Ry @ Rz\n",
    "\n",
    "    q_arr = get_q_vect(test.tth_arr, test.chi_arr, wavelength=lam)\n",
    "    q_arr = (q_arr.T @ R).T\n",
    "\n",
    "\n",
    "    qx_min = np.min([qx_min, q_arr[0]], axis=0)\n",
    "    qx_max = np.max([qx_max, q_arr[0]], axis=0)\n",
    "    qy_min = np.min([qy_min, q_arr[1]], axis=0)\n",
    "    qy_max = np.max([qy_max, q_arr[1]], axis=0)\n",
    "    qz_min = np.min([qz_min, q_arr[2]], axis=0)\n",
    "    qz_max = np.max([qz_max, q_arr[2]], axis=0)"
   ]
  },
  {
   "cell_type": "code",
   "execution_count": null,
   "metadata": {},
   "outputs": [],
   "source": [
    "qx_min_ext = q_arr_naught[0] - qx_min\n",
    "qx_max_ext = qx_max - q_arr_naught[0]\n",
    "qy_min_ext = q_arr_naught[1] - qy_min\n",
    "qy_max_ext = qy_max - q_arr_naught[1]\n",
    "qz_min_ext = q_arr_naught[2] - qz_min\n",
    "qz_max_ext = qz_max - q_arr_naught[2]\n",
    "\n",
    "new_qx_delta = qx_delta + qx_min_ext + qx_max_ext\n",
    "new_qy_delta = qy_delta + qy_min_ext + qy_max_ext\n",
    "new_qz_delta = qz_delta + qz_min_ext + qz_max_ext"
   ]
  },
  {
   "cell_type": "code",
   "execution_count": null,
   "metadata": {},
   "outputs": [],
   "source": [
    "q_vol = new_qx_delta * new_qy_delta * new_qz_delta\n",
    "q_vol_old = qx_delta * qy_delta * qz_delta\n",
    "q_area = test.delta_tth * test.delta_chi"
   ]
  },
  {
   "cell_type": "code",
   "execution_count": null,
   "metadata": {},
   "outputs": [],
   "source": []
  },
  {
   "cell_type": "code",
   "execution_count": null,
   "metadata": {},
   "outputs": [
    {
     "name": "stderr",
     "output_type": "stream",
     "text": [
      "  0%|          | 0/19656 [00:00<?, ?it/s]"
     ]
    },
    {
     "name": "stderr",
     "output_type": "stream",
     "text": [
      "100%|██████████| 19656/19656 [00:32<00:00, 608.69it/s]\n"
     ]
    }
   ],
   "source": [
    "# Phase matching/mapping\n",
    "\n",
    "#from sklearn.metrics.pairwise import euclidean_distances\n",
    "from tqdm import tqdm\n",
    "\n",
    "near_thresh = 0.075\n",
    "sum_key = 'guess_int'\n",
    "method = 'minimize_q_error'\n",
    "method = 'maximize_spots'\n",
    "\n",
    "phase_keys = list(test.phases.keys())\n",
    "phase_list = list(test.phases.values())\n",
    "\n",
    "[phase.get_hkl_reflections(tth_range=(np.min(test.tth_arr), np.max(test.tth_arr)),\n",
    "                               ignore_less=1)\n",
    "        for phase in phase_list];\n",
    "\n",
    "plot_map = np.zeros(test.map.map_shape)\n",
    "plot_map[:] = 0\n",
    "\n",
    "plot_dict = {}\n",
    "for phase in phase_list:\n",
    "    plot_dict[phase.name] = plot_map.copy()\n",
    "plot_dict['unmatched'] = plot_map.copy()\n",
    "\n",
    "for index in tqdm(range(test.map.num_images)):\n",
    "    indices = np.unravel_index(index, test.map.map_shape)\n",
    "\n",
    "    image = test.map.images[indices]\n",
    "    pixel_df = test.pixel_spots(indices)\n",
    "    #pixel_df = pixel_df.copy().dropna()\n",
    "    num_spots = len(pixel_df)\n",
    "    \n",
    "    if num_spots > 1:\n",
    "        spot_q_vals = np.linalg.norm(pixel_df[['qx', 'qy', 'qz']].values, axis=1)\n",
    "\n",
    "        phase_diffs = []\n",
    "        pot_matches = []\n",
    "        phase_matches = []\n",
    "        spot_matches = []\n",
    "        for phase in phase_list:\n",
    "            phase_q_vals = phase.reflections['q']\n",
    "            #dist_arr = euclidean_distances(phase_q_vals.reshape(-1, 1), spot_q_vals.reshape(-1, 1))\n",
    "            diff_arr = np.abs(phase_q_vals[:, np.newaxis] - spot_q_vals[np.newaxis, :])\n",
    "            phase_diffs.append(diff_arr)\n",
    "            pot_match = diff_arr < near_thresh\n",
    "            pot_matches.append(pot_match)\n",
    "\n",
    "            # Fraction of phase reflections explained by found spots\n",
    "            #phase_matches.append(np.sum(pot_match / len(test.phases)))\n",
    "            phase_matches.append(np.sum(np.any(pot_matches[-1], axis=1)) / len(phase_q_vals))\n",
    "\n",
    "            # Number of spots explained by a given phase\n",
    "            spot_matches.append(np.sum(np.any(pot_matches[-1], axis=0)))\n",
    "            #raise\n",
    "\n",
    "        # Track which spots have been matched\n",
    "        rem_spot_mask = [True,] * num_spots\n",
    "\n",
    "        if method in ['maximize_phase']:\n",
    "            # Maximize phase matches\n",
    "            # Should work better for polycrystalline patterns\n",
    "            while (np.any(rem_spot_mask)) and (np.sum(phase_matches) > 0):\n",
    "                # Check for more than 1 fully represented array\n",
    "                if np.sum(np.array(phase_matches) == 1) > 1:\n",
    "                    stacked_diffs = np.stack([np.min(diffs, axis=0) for diffs in phase_diffs])\n",
    "                    spot_mask = np.min(stacked_diffs, axis=0) < near_thresh\n",
    "                    phase_ind = np.argmin(stacked_diffs, axis=0)\n",
    "                    phase_ind[~spot_mask] = -1\n",
    "                    phase_mask = (np.array(phase_matches) == 1)\n",
    "                    phase_count = [0,] * len(phase_list)\n",
    "                    for ind in phase_ind:\n",
    "                        if phase_mask[ind]:\n",
    "                            phase_count[ind] += 1\n",
    "                    max_ind = np.argmax(phase_count)\n",
    "                else:\n",
    "                    max_ind = np.argmax(phase_matches)\n",
    "\n",
    "                # Index matching spots\n",
    "                spot_mask = np.any(pot_matches[max_ind], axis=0)\n",
    "                # Remove indexed spots from future use\n",
    "                spot_mask *= rem_spot_mask\n",
    "                rem_spot_mask *= ~spot_mask\n",
    "\n",
    "                # Finally, find the value and remove reflections\n",
    "                val = np.nansum(pixel_df[sum_key].values[spot_mask])\n",
    "                phase_matches[max_ind] = 0\n",
    "\n",
    "                # Fill value\n",
    "                plot_dict[phase_list[max_ind].name][indices] = val\n",
    "\n",
    "        elif method in ['maximize_spots']:\n",
    "            # Maxmize spot_matches\n",
    "            # Not sure when this one should work better\n",
    "            while (np.any(rem_spot_mask)) and (np.sum(spot_matches) > 0):\n",
    "                max_ind = np.argmax(spot_matches)\n",
    "                # Index matching spots\n",
    "                spot_mask = np.any(pot_matches[max_ind], axis=0)\n",
    "                # Remove indexed spots from future use\n",
    "                spot_mask *= rem_spot_mask\n",
    "                rem_spot_mask *= ~spot_mask\n",
    "\n",
    "                # Finally, find the value\n",
    "                val = np.nansum(pixel_df[sum_key].values[spot_mask])\n",
    "                spot_matches[max_ind] = 0\n",
    "\n",
    "                # Fill value\n",
    "                plot_dict[phase_list[max_ind].name][indices] = val\n",
    "\n",
    "        elif method in ['minimize_q_error']:\n",
    "        # Minimize Q difference\n",
    "        # Should work better for perfect crystals and detector calibration...\n",
    "            stacked_diffs = np.stack([np.min(diffs, axis=0) for diffs in phase_diffs])\n",
    "            spot_mask = np.min(stacked_diffs, axis=0) < near_thresh\n",
    "            phase_ind = np.argmin(stacked_diffs, axis=0)\n",
    "            phase_ind[~spot_mask] = -1\n",
    "            for i in range(len(phase_list)):\n",
    "                val = np.nansum(pixel_df[sum_key].values[phase_ind == i])\n",
    "                plot_dict[phase_list[i].name][indices] = val\n",
    "            rem_spot_mask = ~spot_mask\n",
    "\n",
    "        # Collect unmatched spots\n",
    "        if np.any(rem_spot_mask):\n",
    "            val = np.nansum(pixel_df[sum_key].values[rem_spot_mask])\n",
    "            plot_dict['unmatched'][indices] = val\n"
   ]
  },
  {
   "cell_type": "code",
   "execution_count": null,
   "metadata": {},
   "outputs": [],
   "source": [
    "fig, axes = plt.subplots(2, 2, figsize=(10, 5), dpi=200)\n",
    "ax = axes.ravel()\n",
    "\n",
    "for i, key in enumerate(plot_dict.keys()):\n",
    "    if key == 'unmatched':\n",
    "        pass\n",
    "        #continue\n",
    "\n",
    "    im = ax[i].imshow(plot_dict[key], extent=extent)\n",
    "    fig.colorbar(im, ax=ax[i], shrink=0.4)\n",
    "\n",
    "    ax[i].set_title(key)\n",
    "\n",
    "plt.tight_layout()"
   ]
  },
  {
   "cell_type": "code",
   "execution_count": null,
   "metadata": {},
   "outputs": [],
   "source": [
    "min_x = np.mean(test.pos_dict['map_x'][0])\n",
    "max_x = np.mean(test.pos_dict['map_x'][-1])\n",
    "min_y = np.mean(test.pos_dict['map_y'][:, 0])\n",
    "max_y = np.mean(test.pos_dict['map_y'][:, -1])\n",
    "\n",
    "min_x = np.mean(test.pos_dict['map_x'][:, 0])\n",
    "max_x = np.mean(test.pos_dict['map_x'][:, -1])\n",
    "min_y = np.mean(test.pos_dict['map_y'][0])\n",
    "max_y = np.mean(test.pos_dict['map_y'][-1])\n",
    "\n",
    "extent = [min_x, max_x, min_y, max_y]\n",
    "#extent = [min_y, max_y, min_x, max_x]"
   ]
  },
  {
   "cell_type": "code",
   "execution_count": null,
   "metadata": {},
   "outputs": [],
   "source": [
    "from xrdmaptools.utilities.image_corrections import rescale_array\n",
    "\n",
    "save_dir = 'D:\\\\Musterman_postdoc\\\\20240223_Musterman\\\\plots\\\\xrd_maps\\\\'\n",
    "\n",
    "io.imsave(f'{save_dir}scan{test.scanid}_calcite_max_spots.tif', rescale_array(plot_dict['calcite'], upper=1, lower=0), check_contrast=False, plugin='pil')"
   ]
  },
  {
   "cell_type": "code",
   "execution_count": null,
   "metadata": {},
   "outputs": [],
   "source": []
  },
  {
   "cell_type": "code",
   "execution_count": null,
   "metadata": {},
   "outputs": [],
   "source": []
  },
  {
   "cell_type": "code",
   "execution_count": null,
   "metadata": {},
   "outputs": [],
   "source": [
    "from xrdmaptools.crystal.orientation import euler_rotation\n",
    "from xrdmaptools.crystal.Phase import generate_reciprocal_lattice\n",
    "from xrdmaptools.reflections.spot_blob_indexing import get_q_vect\n",
    "\n",
    "skip = 500\n",
    "\n",
    "all_hkls, all_qs, all_fs = generate_reciprocal_lattice(test.phases['stibnite'], tth_range=(np.min(test.tth_arr), np.max(test.tth_arr)))\n",
    "fig, ax = plt.subplots(1, 1, figsize=(5, 5), dpi=200, subplot_kw={'projection':'3d'})\n",
    "\n",
    "plot_qs = euler_rotation(all_qs, -60, 0, 0)\n",
    "\n",
    "ax.scatter(*np.asarray(plot_qs).T, c='k', s=all_fs/20)\n",
    "#ax.scatter(*np.asarray(all_qs).T, c='k', s=all_fs/20)\n",
    "ax.scatter(0, 0, 0, c='k', s=10)\n",
    "\n",
    "q = get_q_vect(test.tth_arr, test.chi_arr, wavelength=test.wavelength)\n",
    "\n",
    "# Plot sampled Ewald sphere\n",
    "q_mask = q[:, test.map.mask]\n",
    "ax.plot_trisurf(q_mask[0].ravel()[::skip],\n",
    "                q_mask[1].ravel()[::skip],\n",
    "                q_mask[2].ravel()[::skip],\n",
    "                alpha=0.5, label='detector')\n",
    "\n",
    "ax.set_xlabel('qx [Å⁻¹]')\n",
    "ax.set_ylabel('qy [Å⁻¹]')\n",
    "ax.set_zlabel('qz [Å⁻¹]')\n",
    "ax.set_aspect('equal')\n",
    "\n",
    "plt.show()"
   ]
  },
  {
   "cell_type": "code",
   "execution_count": null,
   "metadata": {},
   "outputs": [
    {
     "data": {
      "text/plain": [
       "True"
      ]
     },
     "execution_count": 845,
     "metadata": {},
     "output_type": "execute_result"
    }
   ],
   "source": [
    "are_coplanar([[-2, 3, -5], [-2, 3, -2], [-3, 4, -4], [-4, 5, -6]])"
   ]
  },
  {
   "cell_type": "code",
   "execution_count": null,
   "metadata": {},
   "outputs": [],
   "source": [
    "q1 = get_q_vect(test.tth_arr, test.chi_arr, wavelength=energy_2_wavelength(10.125))\n",
    "q2 = get_q_vect(test.tth_arr, test.chi_arr, wavelength=energy_2_wavelength(22))"
   ]
  },
  {
   "cell_type": "code",
   "execution_count": null,
   "metadata": {},
   "outputs": [
    {
     "name": "stdout",
     "output_type": "stream",
     "text": [
      "Closest reflection is the (-2, 3, -5) at 0.3401 Å⁻¹ from the detector.\n"
     ]
    }
   ],
   "source": [
    "q1 = get_q_vect(test.tth_arr, test.chi_arr, wavelength=energy_2_wavelength(10.45))\n",
    "#plot_qs = euler_rotation(all_qs, -60, 0, 0)\n",
    "dist = euclidean_distances(plot_qs, q1.reshape(3, -1).T)\n",
    "dist[dist == 0] = np.nan\n",
    "indices = np.unravel_index(np.argmin(dist[dist > 0]), dist.shape)\n",
    "min_dist = dist[indices]\n",
    "min_hkl = all_hkls[indices[0]]\n",
    "print(f'Closest reflection is the {min_hkl} at {min_dist:.4f} Å⁻¹ from the detector.')"
   ]
  },
  {
   "cell_type": "code",
   "execution_count": null,
   "metadata": {},
   "outputs": [
    {
     "name": "stderr",
     "output_type": "stream",
     "text": [
      "373248it [01:14, 5004.75it/s]\n"
     ]
    }
   ],
   "source": [
    "max_depth = 0\n",
    "\n",
    "for q1_i, q2_i in tqdm(zip(q1.reshape(3, -1).T, q2.reshape(3, -1).T)):\n",
    "    dist = euclidean_distances(q1_i.reshape(-1, 1).T, q2_i.reshape(-1, 1).T)[0, 0]\n",
    "    max_depth = np.max([dist, max_depth])"
   ]
  },
  {
   "cell_type": "code",
   "execution_count": null,
   "metadata": {},
   "outputs": [],
   "source": [
    "q_range = list(q1.reshape(3, -1).T) + list(q2.reshape(3, -1).T)"
   ]
  },
  {
   "cell_type": "code",
   "execution_count": null,
   "metadata": {},
   "outputs": [],
   "source": []
  },
  {
   "cell_type": "code",
   "execution_count": null,
   "metadata": {},
   "outputs": [],
   "source": [
    "all_hkls, all_qs, all_fs = generate_reciprocal_lattice(test.phases['sapphire'], tth_range=(0, 60))\n",
    "fig, ax = plt.subplots(1, 1, figsize=(5, 5), dpi=200, subplot_kw={'projection':'3d'})\n",
    "\n",
    "plot_qs = euler_rotation(all_qs, -60, 0, 0)\n",
    "ax.scatter(*np.asarray(plot_qs).T, c='k', s=all_fs/20)\n",
    "#ax.scatter(*np.asarray(all_qs).T, c='k', s=all_fs/20)\n",
    "ax.scatter(0, 0, 0, c='k', s=10)\n",
    "\n",
    "ax.scatter(*np.asarray(plot_qs)[13], c='r', s=10)\n",
    "\n",
    "for theta in [0, 5, 5.5, 12.25, 13.625, 14.20, 15.55]:\n",
    "    theta = np.radians(theta)\n",
    "\n",
    "    q = get_q_vect(test.tth_arr, test.chi_arr, wavelength=energy_2_wavelength(18))\n",
    "\n",
    "    Ry = np.array([[np.cos(theta), 0, -np.sin(theta)],\n",
    "                   [0, 1, 0],\n",
    "                   [np.sin(theta), 0, np.cos(theta)]])\n",
    "\n",
    "    # Plot sampled Ewald sphere\n",
    "    q_mask = q[:, test.map.mask]\n",
    "\n",
    "    q_mask = (q_mask.T @ Ry).T\n",
    "    ax.plot_trisurf(q_mask[0].ravel()[::skip],\n",
    "                    q_mask[1].ravel()[::skip],\n",
    "                    q_mask[2].ravel()[::skip],\n",
    "                    alpha=0.5, label='detector')\n",
    "\n",
    "ax.set_xlabel('qx [Å⁻¹]')\n",
    "ax.set_ylabel('qy [Å⁻¹]')\n",
    "ax.set_zlabel('qz [Å⁻¹]')\n",
    "ax.set_aspect('equal')\n",
    "\n",
    "plt.show()"
   ]
  },
  {
   "cell_type": "code",
   "execution_count": null,
   "metadata": {},
   "outputs": [
    {
     "data": {
      "text/plain": [
       "True"
      ]
     },
     "execution_count": 700,
     "metadata": {},
     "output_type": "execute_result"
    }
   ],
   "source": [
    "are_coplanar([[1, 0, 0], [2, 0, 0], [1, 1, 0]])"
   ]
  },
  {
   "cell_type": "code",
   "execution_count": null,
   "metadata": {},
   "outputs": [],
   "source": [
    "pixel_indices = [0, 0]\n",
    "skip = 500\n",
    "\n",
    "fig, ax = plt.subplots(1, 1, figsize=(5, 5), dpi=200, subplot_kw={'projection':'3d'})\n",
    "\n",
    "plot_qs = euler_rotation(all_qs, 10, -20, 0)\n",
    "\n",
    "ax.scatter(*np.asarray(plot_qs).T, c='k', s=all_fs / 50, alpha=0.75)\n",
    "ax.scatter(0, 0, 0, c='k', s=10)\n",
    "\n",
    "# Plot full Ewald sphere\n",
    "u = np.linspace(0, 2 * np.pi, 100)\n",
    "v = np.linspace(0, np.pi, 100)\n",
    "radius = 2 * np.pi / test.wavelength\n",
    "x =  radius * np.outer(np.cos(u), np.sin(v))\n",
    "y = radius * np.outer(np.sin(u), np.sin(v))\n",
    "z = radius * np.outer(np.ones(np.size(u)), np.cos(v))\n",
    "#ax.plot_surface(x, y, z - radius, alpha=0.2, color='k', label='Ewald sphere')\n",
    "\n",
    "q = get_q_vect(test.tth_arr, test.chi_arr, wavelength=test.wavelength)\n",
    "\n",
    "if pixel_indices is not None:\n",
    "    pixel_df = test.spots[(test.spots['map_x'] == pixel_indices[0])\n",
    "                            & (test.spots['map_y'] == pixel_indices[1])].copy()\n",
    "\n",
    "\n",
    "if pixel_indices is not None:\n",
    "    ax.scatter(*pixel_df[['qx', 'qy', 'qz']].values.T, s=1, c='r', label='spots')\n",
    "\n",
    "# Sample geometry\n",
    "ax.quiver([0, 0], [0, 0], [-2 * radius, -radius], [0, 0], [0, 0], [radius, radius], colors='k')\n",
    "ax.scatter(0, 0, 0, marker='o', s=10, facecolors='none', edgecolors='k', label='transmission')\n",
    "ax.scatter(0, 0, -radius, marker='h', s=10, c='b', label='sample')\n",
    "\n",
    "# Plot sampled Ewald sphere\n",
    "q_mask = q[:, test.map.mask]\n",
    "ax.plot_trisurf(q_mask[0].ravel()[::skip],\n",
    "                q_mask[1].ravel()[::skip],\n",
    "                q_mask[2].ravel()[::skip],\n",
    "                alpha=0.5, label='detector')\n",
    "\n",
    "ax.scatter(qx, qy, qz, c='b', s=1, alpha=0.1)\n",
    "\n",
    "ax.set_xlabel('qx [Å⁻¹]')\n",
    "ax.set_ylabel('qy [Å⁻¹]')\n",
    "ax.set_zlabel('qz [Å⁻¹]')\n",
    "ax.set_aspect('equal')\n",
    "\n",
    "plt.show()"
   ]
  },
  {
   "cell_type": "code",
   "execution_count": null,
   "metadata": {},
   "outputs": [],
   "source": [
    "pixel_indices = [0, 0] #[26, 21]\n",
    "skip = 500\n",
    "\n",
    "#fig, ax = plt.subplots(1, 1, figsize=(5, 10), dpi=200, subplot_kw={'projection':'3d'})\n",
    "fig = plt.figure(figsize=(10, 5), dpi=200)\n",
    "ax = fig.add_axes([0, 0, 0.5, 1], projection='3d')\n",
    "#ax = fig.add_subplot(projection='3d')\n",
    "\n",
    "plot_qs = euler_rotation(all_qs, 10, -20, 0)\n",
    "recip_latt = ax.scatter(*np.asarray(plot_qs).T, c='k', s=all_fs / 50, alpha=0.75)\n",
    "ax.scatter(0, 0, 0, c='k', s=10)\n",
    "\n",
    "# Plot full Ewald sphere\n",
    "u = np.linspace(0, 2 * np.pi, 100)\n",
    "v = np.linspace(0, np.pi, 100)\n",
    "radius = 2 * np.pi / test.wavelength\n",
    "x =  radius * np.outer(np.cos(u), np.sin(v))\n",
    "y = radius * np.outer(np.sin(u), np.sin(v))\n",
    "z = radius * np.outer(np.ones(np.size(u)), np.cos(v))\n",
    "#ax.plot_surface(x, y, z - radius, alpha=0.2, color='k', label='Ewald sphere')\n",
    "\n",
    "q = get_q_vect(test.tth_arr, test.chi_arr, wavelength=test.wavelength)\n",
    "\n",
    "if pixel_indices is not None:\n",
    "    pixel_df = test.spots[(test.spots['map_x'] == pixel_indices[0])\n",
    "                            & (test.spots['map_y'] == pixel_indices[1])].copy()\n",
    "\n",
    "\n",
    "if pixel_indices is not None:\n",
    "    ax.scatter(*pixel_df[['qx', 'qy', 'qz']].values.T, s=1, c='r', label='spots')\n",
    "\n",
    "# Sample geometry\n",
    "ax.quiver([0, 0], [0, 0], [-2 * radius, -radius], [0, 0], [0, 0], [radius, radius], colors='k')\n",
    "ax.scatter(0, 0, 0, marker='o', s=10, facecolors='none', edgecolors='k', label='transmission')\n",
    "ax.scatter(0, 0, -radius, marker='h', s=10, c='b', label='sample')\n",
    "\n",
    "# Plot sampled Ewald sphere\n",
    "q_mask = q[:, test.map.mask]\n",
    "ax.plot_trisurf(q_mask[0].ravel()[::skip],\n",
    "                q_mask[1].ravel()[::skip],\n",
    "                q_mask[2].ravel()[::skip],\n",
    "                alpha=0.5, label='detector')\n",
    "\n",
    "phi1, PHI, phi2 = 10, -20, 0\n",
    "euler_angles = {'phi1' : phi1,\n",
    "                'PHI' : PHI,\n",
    "                'phi2': phi2}\n",
    "euler_bounds = [[-180, 180], [0, 180], [-180, 180]]\n",
    "slider_lst = []\n",
    "update_lst = []\n",
    "\n",
    "slider_vpos = np.linspace(0.8, 0.1, 3)\n",
    "\n",
    "for i, key in enumerate(euler_angles.keys()):\n",
    "    slider_ax = fig.add_axes\n",
    "\n",
    "    # Make a horizontal slider to control the frequency.\n",
    "    axfreq = fig.add_axes([0.7, slider_vpos[i], 0.2, 0.03])\n",
    "    euler_slider = Slider(\n",
    "        ax=axfreq,\n",
    "        label=f'{key} [deg]',\n",
    "        valmin=euler_bounds[i][0],\n",
    "        valmax=euler_bounds[i][1],\n",
    "        valinit=euler_angles[key],\n",
    "    )\n",
    "\n",
    "    slider_lst.append(euler_slider)\n",
    "\n",
    "    # The function to be called anytime a slider's value changes\n",
    "    def update_factory(key):\n",
    "        def update(val):\n",
    "            global recip_latt\n",
    "            euler_angles[key] = val\n",
    "            plot_qs = euler_rotation(all_qs, *euler_angles.values())\n",
    "            recip_latt.remove()\n",
    "            recip_latt = ax.scatter(*np.asarray(plot_qs).T, c='k', s=all_fs / 50, alpha=0.75)\n",
    "            fig.canvas.draw_idle()\n",
    "        return update\n",
    "\n",
    "    update_lst.append(update_factory(key))\n",
    "    slider_lst[i].on_changed(update_lst[i])\n",
    "\n",
    "ax.set_xlabel('qx [Å⁻¹]')\n",
    "ax.set_ylabel('qy [Å⁻¹]')\n",
    "ax.set_zlabel('qz [Å⁻¹]')\n",
    "ax.set_aspect('equal')\n",
    "\n",
    "plt.show()"
   ]
  },
  {
   "cell_type": "code",
   "execution_count": null,
   "metadata": {},
   "outputs": [],
   "source": [
    "test.spots = pd.read_hdf(test.hdf_path, key='xrdmap/reflections/spots')"
   ]
  },
  {
   "cell_type": "code",
   "execution_count": null,
   "metadata": {},
   "outputs": [],
   "source": [
    "dropped_indices = []\n",
    "\n",
    "for index in test.spots.index:\n",
    "    spot = test.spots.loc[index]\n",
    "    if spot['fit_amp'] - spot['fit_offset'] < 0.5:\n",
    "        dropped_indices.append(index)"
   ]
  },
  {
   "cell_type": "code",
   "execution_count": null,
   "metadata": {},
   "outputs": [],
   "source": [
    "test.spots = test.spots.drop(index = dropped_indices)"
   ]
  },
  {
   "cell_type": "code",
   "execution_count": null,
   "metadata": {},
   "outputs": [],
   "source": [
    "from xrdmaptools.crystal.orientation import iterative_dictionary_indexing\n",
    "\n",
    "pixel_indices = 2, 29\n",
    "pixel_df = test.spots[(test.spots['map_x'] == pixel_indices[0])\n",
    "                        & (test.spots['map_y'] == pixel_indices[1])].copy()\n",
    "spot_qs = pixel_df[['qx', 'qy', 'qz']].values\n",
    "\n",
    "fit_ori, fit_min = iterative_dictionary_indexing(spot_qs, test.phases['stibnite'], [np.min(test.tth_arr), np.max(test.tth_arr)],\n",
    "                                                 cut_off=0.05,\n",
    "                                                 start_angle=20,\n",
    "                                                 angle_resolution=0.1, \n",
    "                                                 euler_bounds=[[0, 180], [0, 90], [0, 180]])\n",
    "\n",
    "all_hkls, all_qs, all_fs = generate_reciprocal_lattice(test.phases['stibnite'], tth_range=(np.min(test.tth_arr), np.max(test.tth_arr)))"
   ]
  },
  {
   "cell_type": "code",
   "execution_count": null,
   "metadata": {},
   "outputs": [],
   "source": [
    "skip = 500\n",
    "\n",
    "fig, ax = plt.subplots(1, 1, figsize=(5, 5), dpi=200, subplot_kw={'projection':'3d'})\n",
    "\n",
    "plot_qs = euler_rotation(all_qs, *fit_ori[-2])\n",
    "\n",
    "ax.scatter(*np.asarray(plot_qs).T, c='k', s=all_fs / 50, alpha=0.75)\n",
    "ax.scatter(0, 0, 0, c='k', s=10)\n",
    "\n",
    "# Plot full Ewald sphere\n",
    "u = np.linspace(0, 2 * np.pi, 100)\n",
    "v = np.linspace(0, np.pi, 100)\n",
    "radius = 2 * np.pi / test.wavelength\n",
    "x =  radius * np.outer(np.cos(u), np.sin(v))\n",
    "y = radius * np.outer(np.sin(u), np.sin(v))\n",
    "z = radius * np.outer(np.ones(np.size(u)), np.cos(v))\n",
    "#ax.plot_surface(x, y, z - radius, alpha=0.2, color='k', label='Ewald sphere')\n",
    "\n",
    "q = get_q_vect(test.tth_arr, test.chi_arr, wavelength=test.wavelength)\n",
    "\n",
    "if pixel_indices is not None:\n",
    "    pixel_df = test.spots[(test.spots['map_x'] == pixel_indices[0])\n",
    "                            & (test.spots['map_y'] == pixel_indices[1])].copy()\n",
    "\n",
    "\n",
    "if pixel_indices is not None:\n",
    "    ax.scatter(*pixel_df[['qx', 'qy', 'qz']].values.T, s=1, c='r', label='spots')\n",
    "\n",
    "# Sample geometry\n",
    "ax.quiver([0, 0], [0, 0], [-2 * radius, -radius], [0, 0], [0, 0], [radius, radius], colors='k')\n",
    "ax.scatter(0, 0, 0, marker='o', s=10, facecolors='none', edgecolors='k', label='transmission')\n",
    "ax.scatter(0, 0, -radius, marker='h', s=10, c='b', label='sample')\n",
    "\n",
    "# Plot sampled Ewald sphere\n",
    "q_mask = q[:, test.map.mask]\n",
    "ax.plot_trisurf(q_mask[0].ravel()[::skip],\n",
    "                q_mask[1].ravel()[::skip],\n",
    "                q_mask[2].ravel()[::skip],\n",
    "                alpha=0.5, label='detector')\n",
    "\n",
    "ax.set_xlabel('qx [Å⁻¹]')\n",
    "ax.set_ylabel('qy [Å⁻¹]')\n",
    "ax.set_zlabel('qz [Å⁻¹]')\n",
    "ax.set_aspect('equal')\n",
    "\n",
    "plt.show()"
   ]
  },
  {
   "cell_type": "code",
   "execution_count": null,
   "metadata": {},
   "outputs": [],
   "source": [
    "test.plot_image([2, 28], spots=True)"
   ]
  },
  {
   "cell_type": "code",
   "execution_count": null,
   "metadata": {},
   "outputs": [
    {
     "name": "stdout",
     "output_type": "stream",
     "text": [
      "Explicit solution...\n",
      "Explicit fitting exceeded error threshold (1.580). Downgrading method...\n",
      "Dictionary indexing around a reflection...\n",
      "Rotation center at 427, 644\n",
      "Axial rotation fitting exceeded error threshold (0.996). Downgrading method...\n",
      "Full iterative dictionary indexing...\n",
      "Completed with (0.152).\n"
     ]
    }
   ],
   "source": [
    "# Informed dictionary indexing\n",
    "\n",
    "from scipy.spatial.transform import Rotation\n",
    "from sklearn.metrics.pairwise import euclidean_distances\n",
    "from xrdmaptools.crystal.orientation import iterative_dictionary_indexing, euler_rotation\n",
    "\n",
    "indices = 11, 17\n",
    "\n",
    "phase = test.phases['stibnite']\n",
    "near_thresh = 0.01\n",
    "tth_range = [np.min(test.tth_arr), np.max(test.tth_arr)]\n",
    "cut_off = 0.05\n",
    "start_angle = 20\n",
    "angle_resolution = 0.1 \n",
    "euler_bounds = [[0, 180], [0, 90], [0, 180]]\n",
    "\n",
    "# Get useful information out of pixel_df\n",
    "# Does not condense spots...\n",
    "pixel_df = test.spots[(test.spots['map_x'] == indices[0])\n",
    "                        & (test.spots['map_y'] == indices[1])].copy()\n",
    "pixel_df.dropna(inplace=True)\n",
    "\n",
    "all_hkls, all_qs, all_fs = generate_reciprocal_lattice(test.phases['stibnite'], tth_range=(np.min(test.tth_arr), np.max(test.tth_arr)))\n",
    "all_qs = np.asarray(all_qs)\n",
    "\n",
    "dist = euclidean_distances(all_qs)\n",
    "min_q = np.min(dist[dist > 0])\n",
    "\n",
    "# Conditionals to avoid single spot from one grain\n",
    "if len(pixel_df) < 2:\n",
    "    raise ValueError()\n",
    "\n",
    "dist = euclidean_distances(pixel_df[['qx', 'qy', 'qz']].values)\n",
    "if np.max(dist) < min_q:\n",
    "    raise ValueError()\n",
    "\n",
    "\n",
    "spot_qs = pixel_df[['qx', 'qy', 'qz']].values\n",
    "spot_ints = pixel_df[['guess_int']].values\n",
    "\n",
    "# find potential matces within a threshold\n",
    "phase_q_vals = phase.reflections['q']\n",
    "spot_q_vals = np.linalg.norm(spot_qs, axis=1)\n",
    "diff_arr = np.abs(spot_q_vals[:, np.newaxis] - phase_q_vals[np.newaxis, :])\n",
    "pot_match = diff_arr < near_thresh\n",
    "iso_spots = np.sum(pot_match, axis=1) == 1\n",
    "\n",
    "#iso_spots = -1\n",
    "\n",
    "# Find rotation matrix just good enough for indexing\n",
    "# Explicit solution\n",
    "if np.sum(iso_spots) > 1:\n",
    "    print('Explicit solution...')\n",
    "    #max_iso = np.max(spot_ints[iso_spots])\n",
    "    #spot_ind = np.squeeze(spot_ints == max_iso)\n",
    "    q_meas = spot_qs[iso_spots]\n",
    "    #q_calc = phase.Q(phase.reflections['hkl'][pot_match[iso_spots][0]])\n",
    "    q_calc = phase.Q([phase.reflections['hkl'][ind][0] for ind in pot_match[iso_spots]])\n",
    "    # Fit in q-space\n",
    "    rot, rssd = Rotation.align_vectors(q_meas, q_calc)\n",
    "\n",
    "    if rssd > 1:\n",
    "        print(f'Explicit fitting exceeded error threshold ({rssd:.3f}). Downgrading method...')\n",
    "        max_iso = np.max(spot_ints[iso_spots])\n",
    "        iso_spots = np.squeeze(spot_ints == max_iso)\n",
    "    else:\n",
    "        best_orientation = rot.as_matrix()\n",
    "\n",
    "# Iterate around a single axis of rotation\n",
    "if np.sum(iso_spots) == 1:\n",
    "    print('Dictionary indexing around a reflection...')\n",
    "    q_meas = spot_qs[iso_spots]\n",
    "    print(f\"Rotation center at {pixel_df['guess_img_x'][iso_spots].values[0]}, {pixel_df['guess_img_y'][iso_spots].values[0]}\")\n",
    "    #q_calc = phase.Q(phase.reflections['hkl'][pot_match[iso_spots][0]])\n",
    "    q_calc = phase.Q([phase.reflections['hkl'][ind][0] for ind in pot_match[iso_spots]])\n",
    "    # Fit in q-space\n",
    "    rot_init, rssd = Rotation.align_vectors(q_calc, q_meas)\n",
    "    norm_q = np.squeeze(q_meas / np.linalg.norm(q_meas))\n",
    "\n",
    "    ITERATE = True\n",
    "    # The upper angle may be set by the large symmetric rotation of the point group\n",
    "    # The step is reduced since there are few iterations for the linear problem \n",
    "    angles = np.arange(0, 180, start_angle / 4)\n",
    "    step = start_angle\n",
    "    while ITERATE:\n",
    "        step /= 2 # half the resolution each time\n",
    "        if step <= angle_resolution:\n",
    "            ITERATE = False\n",
    "\n",
    "        # extra rotation about initial rotation\n",
    "        ext_rot = Rotation.from_rotvec(norm_q[np.newaxis, :]* angles[:, np.newaxis],\n",
    "                               degrees=True).as_matrix()\n",
    "        #tot_rot = rot_init.as_matrix() @ ext_rot\n",
    "        tot_rot = ext_rot @ rot_init.as_matrix()\n",
    "\n",
    "        min_list = []\n",
    "        for R_mat in tot_rot:\n",
    "            dist = euclidean_distances(spot_qs, all_qs @ R_mat)\n",
    "            min_list.append(np.sum(np.min(dist, axis=1)**2))\n",
    "        \n",
    "        min_mask = min_list < cut_off * (np.max(min_list) - np.min(min_list)) + np.min(min_list)\n",
    "        best_angles = np.asarray(angles)[min_mask]\n",
    "        best_orientation = tot_rot[np.argmin(min_list)] # this is the output!\n",
    "\n",
    "        new_angles = []\n",
    "        for angle in best_angles:\n",
    "            new_angles.append(angle - step)\n",
    "            new_angles.append(angle)\n",
    "            new_angles.append(angle + step)\n",
    "\n",
    "        angles = np.unique(new_angles)\n",
    "    \n",
    "    if np.min(min_list) > 0.5:\n",
    "        print(f'Axial rotation fitting exceeded error threshold ({np.min(min_list):.3f}). Downgrading method...')\n",
    "        iso_spots = -1\n",
    "\n",
    "# No clue. Iterate around mesh of orientations\n",
    "if np.sum(iso_spots) < 1:\n",
    "    print('Full iterative dictionary indexing...')\n",
    "    fit_ori, fit_min = iterative_dictionary_indexing(spot_qs,\n",
    "                                                     phase,\n",
    "                                                     tth_range,\n",
    "                                                     cut_off=cut_off,\n",
    "                                                     start_angle=start_angle,\n",
    "                                                     angle_resolution=angle_resolution, \n",
    "                                                     euler_bounds=euler_bounds)\n",
    "    \n",
    "    I = np.array([[1, 0, 0], [0, 1, 0], [0, 0, 1]])\n",
    "    best_orientation = euler_rotation(I, *fit_ori[-1])\n",
    "    print(f'Completed with ({fit_min[-1]:.3f}).')\n",
    "\n",
    "\n",
    "# find next largest iso_spot and try fit explicit rotation matrix...\n",
    "\n",
    "# generate rotations about meas_hkl vector...\n",
    "\n",
    "\n",
    "# refine rotation matrix based on indexing values..."
   ]
  },
  {
   "cell_type": "code",
   "execution_count": null,
   "metadata": {},
   "outputs": [],
   "source": [
    "skip = 500\n",
    "pixel_indices = indices\n",
    "\n",
    "fig, ax = plt.subplots(1, 1, figsize=(5, 5), dpi=200, subplot_kw={'projection':'3d'})\n",
    "\n",
    "plot_qs = all_qs @ best_orientation\n",
    "\n",
    "ax.scatter(*np.asarray(plot_qs).T, c='k', s=all_fs / 50, alpha=0.75)\n",
    "ax.scatter(0, 0, 0, c='k', s=10)\n",
    "\n",
    "# Plot full Ewald sphere\n",
    "u = np.linspace(0, 2 * np.pi, 100)\n",
    "v = np.linspace(0, np.pi, 100)\n",
    "radius = 2 * np.pi / test.wavelength\n",
    "x =  radius * np.outer(np.cos(u), np.sin(v))\n",
    "y = radius * np.outer(np.sin(u), np.sin(v))\n",
    "z = radius * np.outer(np.ones(np.size(u)), np.cos(v))\n",
    "#ax.plot_surface(x, y, z - radius, alpha=0.2, color='k', label='Ewald sphere')\n",
    "\n",
    "q = get_q_vect(test.tth_arr, test.chi_arr, wavelength=test.wavelength)\n",
    "\n",
    "if pixel_indices is not None:\n",
    "    pixel_df = test.spots[(test.spots['map_x'] == pixel_indices[0])\n",
    "                            & (test.spots['map_y'] == pixel_indices[1])].copy()\n",
    "\n",
    "if pixel_indices is not None:\n",
    "    ax.scatter(*pixel_df[['qx', 'qy', 'qz']].values.T, s=1, c='r', label='spots')\n",
    "\n",
    "# Sample geometry\n",
    "ax.quiver([0, 0], [0, 0], [-2 * radius, -radius], [0, 0], [0, 0], [radius, radius], colors='k')\n",
    "ax.scatter(0, 0, 0, marker='o', s=10, facecolors='none', edgecolors='k', label='transmission')\n",
    "ax.scatter(0, 0, -radius, marker='h', s=10, c='b', label='sample')\n",
    "\n",
    "# Plot sampled Ewald sphere\n",
    "q_mask = q[:, test.map.mask]\n",
    "ax.plot_trisurf(q_mask[0].ravel()[::skip],\n",
    "                q_mask[1].ravel()[::skip],\n",
    "                q_mask[2].ravel()[::skip],\n",
    "                alpha=0.5, label='detector')\n",
    "\n",
    "ax.set_xlabel('qx [Å⁻¹]')\n",
    "ax.set_ylabel('qy [Å⁻¹]')\n",
    "ax.set_zlabel('qz [Å⁻¹]')\n",
    "ax.set_aspect('equal')\n",
    "\n",
    "plt.show()"
   ]
  },
  {
   "cell_type": "code",
   "execution_count": null,
   "metadata": {},
   "outputs": [],
   "source": [
    "test.phases['stibnite'].get_hkl_reflections(tth_range=(np.min(test.tth_arr), np.max(test.tth_arr)))"
   ]
  },
  {
   "cell_type": "code",
   "execution_count": null,
   "metadata": {},
   "outputs": [
    {
     "name": "stdout",
     "output_type": "stream",
     "text": [
      "first\n",
      "Best orientation found at 12 with rssd of 0.285\n"
     ]
    }
   ],
   "source": [
    "# Explicit indexing\n",
    "\n",
    "from scipy.spatial.transform import Rotation\n",
    "from sklearn.metrics.pairwise import euclidean_distances\n",
    "from xrdmaptools.crystal.orientation import euler_rotation\n",
    "from xrdmaptools.crystal.Phase import generate_reciprocal_lattice\n",
    "from xrdmaptools.reflections.spot_blob_indexing import get_q_vect\n",
    "from itertools import product\n",
    "from tqdm import tqdm\n",
    "\n",
    "indices = (81, 167)\n",
    "\n",
    "phase = test.phases['LiNbO3']\n",
    "near_thresh = 0.1\n",
    "required_spots = 2\n",
    "\n",
    "# Get useful information out of pixel_df\n",
    "# Does not condense spots...\n",
    "pixel_df = test.spots[(test.spots['map_x'] == indices[0])\n",
    "                        & (test.spots['map_y'] == indices[1])].copy()\n",
    "pixel_df.dropna(inplace=True)\n",
    "\n",
    "all_hkls, all_qs, all_fs = generate_reciprocal_lattice(phase, tth_range=(np.min(test.tth_arr), np.max(test.tth_arr)))\n",
    "all_qs = np.asarray(all_qs)\n",
    "\n",
    "dist = euclidean_distances(all_qs)\n",
    "min_q = np.min(dist[dist > 0])\n",
    "\n",
    "# Conditionals to avoid single spot from one grain\n",
    "if len(pixel_df) < 2:\n",
    "    raise ValueError()\n",
    "\n",
    "dist = euclidean_distances(pixel_df[['qx', 'qy', 'qz']].values[:required_spots])\n",
    "if np.max(dist) < min_q:\n",
    "    raise ValueError()\n",
    "\n",
    "\n",
    "spot_qs = pixel_df[['qx', 'qy', 'qz']].values\n",
    "spot_ints = pixel_df[['guess_int']].values\n",
    "\n",
    "# Sort spots from largest to smallest intensity\n",
    "zipped = list(zip(spot_ints, spot_qs))\n",
    "zipped.sort(reverse=True)\n",
    "spot_ints, spot_qs = zip(*zipped)\n",
    "\n",
    "\n",
    "# find potential matces within a threshold\n",
    "phase_q_vals = phase.reflections['q']\n",
    "spot_q_vals = np.linalg.norm(spot_qs, axis=1)\n",
    "diff_arr = np.abs(spot_q_vals[:, np.newaxis] - phase_q_vals[np.newaxis, :])\n",
    "pot_match = diff_arr < near_thresh\n",
    "\n",
    "phase_mask = np.any(pot_match, axis=1)\n",
    "pot_match = pot_match[phase_mask]\n",
    "spot_qs = np.array(spot_qs)[phase_mask]\n",
    "#spot_int = spot_ints[phase_mask]\n",
    "\n",
    "fit_q_meas = spot_qs[:required_spots]\n",
    "fit_q_calc = []\n",
    "for i, pot_match_i in enumerate(pot_match[:required_spots]):\n",
    "    match_ind = np.where(pot_match_i)[0]\n",
    "    hkls = [phase.reflections['hkl'][ind] for ind in match_ind]\n",
    "\n",
    "    # Add equivalent potential indices. Only first index restricted\n",
    "    # Not sure how much this actually helps...\n",
    "    if i > 0:\n",
    "        ext_hkls = []\n",
    "        [ext_hkls.extend(list(phase.lattice.equivalent_hkls(hkl))) for hkl in hkls];\n",
    "        hkls = ext_hkls\n",
    "\n",
    "    q_calc = phase.Q(hkls)\n",
    "    fit_q_calc.append(q_calc)\n",
    "\n",
    "\n",
    "if len(fit_q_calc) > 0:\n",
    "    print('first')\n",
    "    combos = list(product(*fit_q_calc))\n",
    "\n",
    "    rot_list, rssd_list = [], []\n",
    "    for q_calc in combos:\n",
    "        rot, rssd = Rotation.align_vectors(q_calc, fit_q_meas)\n",
    "        rot_list.append(rot.as_matrix())\n",
    "        rssd_list.append(rssd)\n",
    "\n",
    "    min_ind = np.argmin(rssd_list)\n",
    "    best_orientation = rot_list[min_ind]\n",
    "\n",
    "else:\n",
    "    min_ind = np.nan\n",
    "    best_orientation = np.nan\n",
    "        \n",
    "print(f'Best orientation found at {min_ind} with rssd of {rssd_list[min_ind]:.3f}')\n",
    "\n",
    "for combo in combos[min_ind][1:]:\n",
    "    if phase.HKL(combo) not in phase.reflections['hkl']:\n",
    "        print('Equivalent hkl used successfully. The extra computation was worth it!')\n",
    "        break"
   ]
  },
  {
   "cell_type": "code",
   "execution_count": null,
   "metadata": {},
   "outputs": [],
   "source": [
    "from scipy.spatial.transform import Rotation\n",
    "from itertools import product\n",
    "\n",
    "def explicit_indexing(spot_qs, # Must already be sorted...\n",
    "                      phase,\n",
    "                      near_thresh=0.05,\n",
    "                      required_spots=2,\n",
    "                      check_equivalent=True):\n",
    "\n",
    "    # Sort spots from largest to smallest intensity\n",
    "    #zipped = list(zip(spot_ints, spot_qs))\n",
    "    #zipped.sort(reverse=True)\n",
    "    #spot_ints, spot_qs = zip(*zipped)\n",
    "\n",
    "    # find potential matces within a threshold\n",
    "    phase_q_vals = phase.reflections['q']\n",
    "    spot_q_vals = np.linalg.norm(spot_qs, axis=1)\n",
    "    diff_arr = np.abs(spot_q_vals[:, np.newaxis] - phase_q_vals[np.newaxis, :])\n",
    "    pot_match = diff_arr < near_thresh\n",
    "\n",
    "    # Distinguish by phase kind of\n",
    "    phase_mask = np.any(pot_match, axis=1)\n",
    "    pot_match = pot_match[phase_mask]\n",
    "    spot_qs = np.array(spot_qs)[phase_mask]\n",
    "    #spot_int = spot_ints[phase_mask]\n",
    "\n",
    "    fit_q_meas = spot_qs[:required_spots]\n",
    "    fit_q_calc = []\n",
    "    for i, pot_match_i in enumerate(pot_match[:required_spots]):\n",
    "        match_ind = np.where(pot_match_i)[0]\n",
    "        hkls = [phase.reflections['hkl'][ind] for ind in match_ind]\n",
    "\n",
    "        # Add equivalent potential indices. Only first index restricted\n",
    "        # Not sure how much this actually helps...\n",
    "        if check_equivalent and i > 0:\n",
    "            ext_hkls = []\n",
    "            [ext_hkls.extend(list(phase.lattice.equivalent_hkls(hkl))) for hkl in hkls];\n",
    "            hkls = ext_hkls\n",
    "\n",
    "        q_calc = phase.Q(hkls)\n",
    "        fit_q_calc.append(q_calc)\n",
    "\n",
    "    if len(fit_q_calc) > 0:\n",
    "        combos = list(product(*fit_q_calc))\n",
    "\n",
    "        rot_list, rssd_list = [], []\n",
    "        for q_calc in combos:\n",
    "            rot, rssd = Rotation.align_vectors(q_calc, fit_q_meas)\n",
    "            rot_list.append(rot.as_matrix())\n",
    "            rssd_list.append(rssd)\n",
    "\n",
    "        min_ind = np.argmin(rssd_list)\n",
    "        min_rssd = rssd_list[min_ind]\n",
    "        best_orientation = rot_list[min_ind]\n",
    "\n",
    "    else:\n",
    "        min_rssd = np.nan\n",
    "        best_orientation = np.nan\n",
    "    #print(f'Best orientation found at {min_ind} with rssd of {rssd_list[min_ind]:.3f}')\n",
    "\n",
    "    # This was worth it!\n",
    "    #for combo in combos[min_ind][1:]:\n",
    "    #    if phase.HKL(combo) not in phase.reflections['hkl']:\n",
    "    #        print('Equivalent hkl used successfully. The extra computation was worth it!')\n",
    "    #        break\n",
    "\n",
    "    return best_orientation, min_rssd"
   ]
  },
  {
   "cell_type": "code",
   "execution_count": null,
   "metadata": {},
   "outputs": [],
   "source": [
    "skip = 500\n",
    "pixel_indices = indices\n",
    "\n",
    "fig, ax = plt.subplots(1, 1, figsize=(5, 5), dpi=200, subplot_kw={'projection':'3d'})\n",
    "\n",
    "#plot_qs = all_qs @ rot_list[np.argmin(rssd_list)]\n",
    "plot_qs = all_qs @ best_orientation\n",
    "\n",
    "ax.scatter(*np.asarray(plot_qs).T, c='k', s=all_fs / 50, alpha=0.75)\n",
    "ax.scatter(0, 0, 0, c='k', s=10)\n",
    "\n",
    "# Plot full Ewald sphere\n",
    "u = np.linspace(0, 2 * np.pi, 100)\n",
    "v = np.linspace(0, np.pi, 100)\n",
    "radius = 2 * np.pi / test.wavelength\n",
    "x =  radius * np.outer(np.cos(u), np.sin(v))\n",
    "y = radius * np.outer(np.sin(u), np.sin(v))\n",
    "z = radius * np.outer(np.ones(np.size(u)), np.cos(v))\n",
    "#ax.plot_surface(x, y, z - radius, alpha=0.2, color='k', label='Ewald sphere')\n",
    "\n",
    "q = get_q_vect(test.tth_arr, test.chi_arr, wavelength=test.wavelength)\n",
    "\n",
    "if pixel_indices is not None:\n",
    "    pixel_df = test.spots[(test.spots['map_x'] == pixel_indices[0])\n",
    "                            & (test.spots['map_y'] == pixel_indices[1])].copy()\n",
    "\n",
    "if pixel_indices is not None:\n",
    "    ax.scatter(*pixel_df[['qx', 'qy', 'qz']].values.T, s=1, c='r', label='spots')\n",
    "\n",
    "# Sample geometry\n",
    "ax.quiver([0, 0], [0, 0], [-2 * radius, -radius], [0, 0], [0, 0], [radius, radius], colors='k')\n",
    "ax.scatter(0, 0, 0, marker='o', s=10, facecolors='none', edgecolors='k', label='transmission')\n",
    "ax.scatter(0, 0, -radius, marker='h', s=10, c='b', label='sample')\n",
    "\n",
    "# Plot sampled Ewald sphere\n",
    "q_mask = q[:, test.map.mask]\n",
    "ax.plot_trisurf(q_mask[0].ravel()[::skip],\n",
    "                q_mask[1].ravel()[::skip],\n",
    "                q_mask[2].ravel()[::skip],\n",
    "                alpha=0.5, label='detector')\n",
    "\n",
    "ax.set_xlabel('qx [Å⁻¹]')\n",
    "ax.set_ylabel('qy [Å⁻¹]')\n",
    "ax.set_zlabel('qz [Å⁻¹]')\n",
    "ax.set_aspect('equal')\n",
    "\n",
    "plt.show()"
   ]
  },
  {
   "cell_type": "code",
   "execution_count": null,
   "metadata": {},
   "outputs": [
    {
     "data": {
      "text/plain": [
       "array([10., 10., 10.])"
      ]
     },
     "execution_count": 152,
     "metadata": {},
     "output_type": "execute_result"
    }
   ],
   "source": [
    "I = np.array([[1, 0, 0], [0, 1, 0], [0, 0, 1]])\n",
    "\n",
    "euler_mat = euler_rotation(I, 10, 10, 10)\n",
    "Rotation.from_matrix(euler_mat).as_euler('zxz', degrees=True)"
   ]
  },
  {
   "cell_type": "code",
   "execution_count": null,
   "metadata": {},
   "outputs": [
    {
     "name": "stderr",
     "output_type": "stream",
     "text": [
      " 16%|█▌        | 525/3381 [00:10<01:18, 36.17it/s] C:\\Users\\emusterma\\AppData\\Local\\Temp\\ipykernel_5492\\2468468959.py:48: UserWarning: Optimal rotation is not uniquely or poorly defined for the given sets of vectors.\n",
      "  rot, rssd = Rotation.align_vectors(q_calc, fit_q_meas)\n",
      " 33%|███▎      | 1131/3381 [00:36<00:48, 46.38it/s]C:\\Users\\emusterma\\AppData\\Local\\Temp\\ipykernel_5492\\2468468959.py:48: UserWarning: Optimal rotation is not uniquely or poorly defined for the given sets of vectors.\n",
      "  rot, rssd = Rotation.align_vectors(q_calc, fit_q_meas)\n",
      " 44%|████▎     | 1472/3381 [00:59<01:23, 22.75it/s] C:\\Users\\emusterma\\AppData\\Local\\Temp\\ipykernel_5492\\2468468959.py:48: UserWarning: Optimal rotation is not uniquely or poorly defined for the given sets of vectors.\n",
      "  rot, rssd = Rotation.align_vectors(q_calc, fit_q_meas)\n",
      "C:\\Users\\emusterma\\AppData\\Local\\Temp\\ipykernel_5492\\2468468959.py:48: UserWarning: Optimal rotation is not uniquely or poorly defined for the given sets of vectors.\n",
      "  rot, rssd = Rotation.align_vectors(q_calc, fit_q_meas)\n",
      "C:\\Users\\emusterma\\AppData\\Local\\Temp\\ipykernel_5492\\2468468959.py:48: UserWarning: Optimal rotation is not uniquely or poorly defined for the given sets of vectors.\n",
      "  rot, rssd = Rotation.align_vectors(q_calc, fit_q_meas)\n",
      "C:\\Users\\emusterma\\AppData\\Local\\Temp\\ipykernel_5492\\2468468959.py:48: UserWarning: Optimal rotation is not uniquely or poorly defined for the given sets of vectors.\n",
      "  rot, rssd = Rotation.align_vectors(q_calc, fit_q_meas)\n",
      " 48%|████▊     | 1632/3381 [01:13<03:19,  8.78it/s] C:\\Users\\emusterma\\AppData\\Local\\Temp\\ipykernel_5492\\2468468959.py:48: UserWarning: Optimal rotation is not uniquely or poorly defined for the given sets of vectors.\n",
      "  rot, rssd = Rotation.align_vectors(q_calc, fit_q_meas)\n",
      "C:\\Users\\emusterma\\AppData\\Local\\Temp\\ipykernel_5492\\2468468959.py:48: UserWarning: Optimal rotation is not uniquely or poorly defined for the given sets of vectors.\n",
      "  rot, rssd = Rotation.align_vectors(q_calc, fit_q_meas)\n",
      " 48%|████▊     | 1637/3381 [01:14<03:49,  7.60it/s]C:\\Users\\emusterma\\AppData\\Local\\Temp\\ipykernel_5492\\2468468959.py:48: UserWarning: Optimal rotation is not uniquely or poorly defined for the given sets of vectors.\n",
      "  rot, rssd = Rotation.align_vectors(q_calc, fit_q_meas)\n",
      " 54%|█████▍    | 1832/3381 [01:24<01:17, 19.97it/s]C:\\Users\\emusterma\\AppData\\Local\\Temp\\ipykernel_5492\\2468468959.py:48: UserWarning: Optimal rotation is not uniquely or poorly defined for the given sets of vectors.\n",
      "  rot, rssd = Rotation.align_vectors(q_calc, fit_q_meas)\n",
      " 59%|█████▉    | 1995/3381 [01:30<00:41, 33.46it/s]C:\\Users\\emusterma\\AppData\\Local\\Temp\\ipykernel_5492\\2468468959.py:48: UserWarning: Optimal rotation is not uniquely or poorly defined for the given sets of vectors.\n",
      "  rot, rssd = Rotation.align_vectors(q_calc, fit_q_meas)\n",
      "C:\\Users\\emusterma\\AppData\\Local\\Temp\\ipykernel_5492\\2468468959.py:48: UserWarning: Optimal rotation is not uniquely or poorly defined for the given sets of vectors.\n",
      "  rot, rssd = Rotation.align_vectors(q_calc, fit_q_meas)\n",
      " 92%|█████████▏| 3103/3381 [02:04<00:04, 65.17it/s]C:\\Users\\emusterma\\AppData\\Local\\Temp\\ipykernel_5492\\2468468959.py:48: UserWarning: Optimal rotation is not uniquely or poorly defined for the given sets of vectors.\n",
      "  rot, rssd = Rotation.align_vectors(q_calc, fit_q_meas)\n",
      " 95%|█████████▌| 3212/3381 [02:05<00:01, 110.41it/s]C:\\Users\\emusterma\\AppData\\Local\\Temp\\ipykernel_5492\\2468468959.py:48: UserWarning: Optimal rotation is not uniquely or poorly defined for the given sets of vectors.\n",
      "  rot, rssd = Rotation.align_vectors(q_calc, fit_q_meas)\n",
      "C:\\Users\\emusterma\\AppData\\Local\\Temp\\ipykernel_5492\\2468468959.py:48: UserWarning: Optimal rotation is not uniquely or poorly defined for the given sets of vectors.\n",
      "  rot, rssd = Rotation.align_vectors(q_calc, fit_q_meas)\n",
      "100%|██████████| 3381/3381 [02:06<00:00, 26.68it/s] \n"
     ]
    }
   ],
   "source": [
    "# Explicit indexing across full map\n",
    "\n",
    "from sklearn.metrics.pairwise import euclidean_distances\n",
    "from tqdm import tqdm\n",
    "from xrdmaptools.utilities.utilities import combine_nearby_spots\n",
    "from xrdmaptools.crystal.Phase import generate_reciprocal_lattice\n",
    "from itertools import product\n",
    "from scipy.spatial.transform import Rotation\n",
    "\n",
    "required_spots = 4\n",
    "phase = test.phases['stibnite']\n",
    "\n",
    "if phase.reflections is None:\n",
    "    phase.get_hkl_reflections(tth_range=(np.min(test.tth_arr), np.max(test.tth_arr)))\n",
    "\n",
    "all_hkls, all_qs, all_fs = generate_reciprocal_lattice(phase, tth_range=(np.min(test.tth_arr), np.max(test.tth_arr)))\n",
    "\n",
    "dist = euclidean_distances(all_qs)\n",
    "min_q = np.min(dist[dist > 0])\n",
    "\n",
    "euler_map = np.empty((*test.map.map_shape, 3))\n",
    "fit_map = np.empty(test.map.map_shape)\n",
    "\n",
    "for index in tqdm(range(test.map.num_images)):\n",
    "    indices = np.unravel_index(index, test.map.map_shape)\n",
    "    phi1, PHI, phi2 = np.nan, np.nan, np.nan\n",
    "\n",
    "    pixel_df = test.spots[(test.spots['map_x'] == indices[0])\n",
    "                        & (test.spots['map_y'] == indices[1])].copy()\n",
    "    pixel_df.dropna(inplace=True)\n",
    "    \n",
    "    # Conditional to avoid too few spots for theoretical indexing\n",
    "    if len(pixel_df) < required_spots:\n",
    "        euler_map[indices] = phi1, PHI, phi2\n",
    "        continue\n",
    "    \n",
    "    spot_qs = pixel_df[['qx', 'qy', 'qz']].values\n",
    "    spot_ints = pixel_df[['fit_integrated']].values\n",
    "    #spot_chis = pixel_df[['fit_chi0']].values\n",
    "\n",
    "    spot_qs, spot_ints = combine_nearby_spots(spot_qs, spot_ints, max_dist=0.1, max_neighbors=np.inf)\n",
    "\n",
    "    # Sort spots from largest to smallest intensity\n",
    "    zipped = list(zip(spot_ints, spot_qs))\n",
    "    zipped.sort(reverse=True)\n",
    "    spot_ints, spot_qs = zip(*zipped)\n",
    "    spot_ints = list(spot_ints)\n",
    "    spot_qs = list(spot_qs)\n",
    "\n",
    "    dist_too_small = True\n",
    "    while dist_too_small:\n",
    "        if len(spot_qs) < required_spots:\n",
    "            euler_map[indices] = phi1, PHI, phi2\n",
    "            dist_too_small = False\n",
    "            break\n",
    "        # Conditional to avoid single spot from one blob\n",
    "        dist = euclidean_distances(spot_qs)\n",
    "        \n",
    "        if dist[0, 1] < min_q:\n",
    "            del spot_qs[1], spot_ints[1]\n",
    "        else:\n",
    "            dist_too_small = False\n",
    "\n",
    "    if len(spot_qs) < required_spots:\n",
    "        euler_map[indices] = phi1, PHI, phi2\n",
    "        continue\n",
    "    \n",
    "    best_orientation, min_rssd = explicit_indexing(spot_qs,\n",
    "                                                   phase,\n",
    "                                                   near_thresh=0.05,\n",
    "                                                   required_spots=required_spots,\n",
    "                                                   check_equivalent=False)\n",
    "    \n",
    "    if not np.any(np.isnan(best_orientation)):\n",
    "        best_euler = Rotation.from_matrix(best_orientation).as_euler('zxz', degrees=True)\n",
    "        \n",
    "        euler_map[indices] = best_euler\n",
    "        fit_map[indices] = min_rssd\n",
    "    else:\n",
    "        euler_map[indices] = np.nan, np.nan, np.nan"
   ]
  },
  {
   "cell_type": "code",
   "execution_count": null,
   "metadata": {},
   "outputs": [],
   "source": [
    "orientation_map = np.empty((*test.map.map_shape, 3, 3))\n",
    "\n",
    "for index in range(test.map.num_images):\n",
    "    indices = np.unravel_index(index, test.map.map_shape)\n",
    "    \n",
    "    if np.any(np.isnan(euler_map[indices])):\n",
    "        orientation_map[indices] = np.nan\n",
    "    else:\n",
    "        orientation_map[indices] = Rotation.from_euler('zxz', euler_map[indices], degrees=True).as_matrix()"
   ]
  },
  {
   "cell_type": "code",
   "execution_count": null,
   "metadata": {},
   "outputs": [],
   "source": [
    "test.plot_map(np.abs(orientation_map[:, :, 2, 2]))"
   ]
  },
  {
   "cell_type": "code",
   "execution_count": null,
   "metadata": {},
   "outputs": [],
   "source": []
  },
  {
   "cell_type": "code",
   "execution_count": null,
   "metadata": {},
   "outputs": [
    {
     "name": "stderr",
     "output_type": "stream",
     "text": [
      "100%|██████████| 3381/3381 [2:06:57<00:00,  2.25s/it]  \n"
     ]
    }
   ],
   "source": [
    "# Iterative dictionary indexing across full map\n",
    "\n",
    "from sklearn.metrics.pairwise import euclidean_distances\n",
    "from tqdm import tqdm\n",
    "from xrdmaptools.reflections.spot_blob_indexing import iterative_dictionary_indexing\n",
    "from xrdmaptools.crystal.Phase import generate_reciprocal_lattice\n",
    "\n",
    "all_hkls, all_qs, all_fs = generate_reciprocal_lattice(test.phases['stibnite'], tth_range=(np.min(test.tth_arr), np.max(test.tth_arr)))\n",
    "\n",
    "dist = euclidean_distances(all_qs)\n",
    "min_q = np.min(dist[dist > 0])\n",
    "\n",
    "euler_map = np.empty((*test.map.map_shape, 3))\n",
    "fit_map = np.empty(test.map.map_shape)\n",
    "\n",
    "for index in tqdm(range(test.map.num_images)):\n",
    "    indices = np.unravel_index(index, test.map.map_shape)\n",
    "    phi1, PHI, phi2 = np.nan, np.nan, np.nan\n",
    "\n",
    "    pixel_df = test.spots[(test.spots['map_x'] == indices[0])\n",
    "                        & (test.spots['map_y'] == indices[1])].copy()\n",
    "    pixel_df.dropna(inplace=True)\n",
    "    spot_qs = pixel_df[['qx', 'qy', 'qz']].values\n",
    "\n",
    "    # Conditional to avoid too few spots for theoretical indexing\n",
    "    if len(pixel_df) < 3:\n",
    "        euler_map[indices] = phi1, PHI, phi2\n",
    "        continue\n",
    "    \n",
    "    # Conditional to avoid single spot from one grain\n",
    "    dist = euclidean_distances(pixel_df[['qx', 'qy', 'qz']].values)\n",
    "    if np.max(dist) < min_q:\n",
    "        euler_map[indices] = phi1, PHI, phi2\n",
    "        continue\n",
    "    \n",
    "    fit_ori, fit_min = iterative_dictionary_indexing(spot_qs, test.phases['stibnite'], [np.min(test.tth_arr), np.max(test.tth_arr)],\n",
    "                                                 cut_off=0.05,\n",
    "                                                 start_angle=20,\n",
    "                                                 angle_resolution=1, \n",
    "                                                 euler_bounds=[[0, 180], [0, 90], [0, 180]])\n",
    "    \n",
    "    euler_map[indices] = fit_ori[-1]\n",
    "    fit_map[indices] = fit_min[-1]"
   ]
  },
  {
   "cell_type": "code",
   "execution_count": null,
   "metadata": {},
   "outputs": [],
   "source": [
    "from xrdmaptools.crystal.orientation import g_func\n",
    "g = g_func(*euler_map.reshape(test.map.num_images, 3).T)"
   ]
  },
  {
   "cell_type": "code",
   "execution_count": null,
   "metadata": {},
   "outputs": [],
   "source": [
    "ipole = [0, 1, 0]\n",
    "\n",
    "colors, r, theta = [], [], []\n",
    "for i in range(len(g)):\n",
    "    \n",
    "    # Take only part of the orientation matrix\n",
    "    V = np.dot(g[i], ipole) # order is g, then ipole\n",
    "\n",
    "    # Determine pixel color according to unit triangle\n",
    "    R, G, B = 0, 0, 0\n",
    "    base = 30 / 255 #all pixels are a bit brighter\n",
    "    R=np.abs(V[2]) + base # referenced to crystallographic axes, but should be able to reference any axis\n",
    "    G=np.abs(V[0]) + base\n",
    "    B=np.abs(V[1]) + base\n",
    "\n",
    "    # Normalize and brighten colors\n",
    "    max_c = np.max([R,G,B])\n",
    "    R = R / max_c\n",
    "    G = G / max_c\n",
    "    B = B / max_c\n",
    "    \n",
    "    # Setting pixel transparency if called\n",
    "    A=1\n",
    "    colors.append([R, G, B, A])\n",
    "\n",
    "colors = np.asarray(colors)\n",
    "colors = colors.reshape((*test.map.map_shape, 4))"
   ]
  },
  {
   "cell_type": "code",
   "execution_count": null,
   "metadata": {},
   "outputs": [],
   "source": [
    "fig, ax = plt.subplots(1, 1, figsize=(3, 3), dpi=200)\n",
    "\n",
    "ax.imshow(colors)\n",
    "ax.set_title(str(ipole))\n",
    "\n",
    "plt.show()"
   ]
  },
  {
   "cell_type": "code",
   "execution_count": null,
   "metadata": {},
   "outputs": [],
   "source": [
    "test.plot_interactive_map(display_map=colors, img_vmin=0, img_vmax=0.1)"
   ]
  },
  {
   "cell_type": "code",
   "execution_count": null,
   "metadata": {},
   "outputs": [],
   "source": [
    "test.plot_image([7, 46])"
   ]
  },
  {
   "cell_type": "code",
   "execution_count": null,
   "metadata": {},
   "outputs": [],
   "source": [
    "fig, ax = plt.subplots(1, 1, figsize=(3, 3), dpi=200)\n",
    "\n",
    "fit_map[fit_map < 0.0001] = np.nan\n",
    "\n",
    "ax.imshow(fit_map)\n",
    "ax.set_title('Fit')\n",
    "\n",
    "plt.show()"
   ]
  },
  {
   "cell_type": "code",
   "execution_count": null,
   "metadata": {},
   "outputs": [],
   "source": [
    "norm_fit_map = fit_map.copy()\n",
    "\n",
    "for index in range(test.map.num_images):\n",
    "    indices = np.unravel_index(index, test.map.map_shape)\n",
    "    \n",
    "    pixel_df = test.spots[(test.spots['map_x'] == indices[0])\n",
    "                        & (test.spots['map_y'] == indices[1])].copy()\n",
    "    pixel_df.dropna(inplace=True)\n",
    "\n",
    "    # Conditional to avoid too few spots for theoretical indexing\n",
    "    if len(pixel_df) < 3:\n",
    "        euler_map[indices] = phi1, PHI, phi2\n",
    "        continue\n",
    "    \n",
    "    # Conditional to avoid single spot from one grain\n",
    "    dist = euclidean_distances(pixel_df[['qx', 'qy', 'qz']].values)\n",
    "    if np.max(dist) < min_q:\n",
    "        euler_map[indices] = phi1, PHI, phi2\n",
    "        continue\n",
    "\n",
    "    norm_fit_map[indices] /= len(pixel_df)\n",
    "\n",
    "fig, ax = plt.subplots(1, 1, figsize=(3, 3), dpi=200)\n",
    "\n",
    "im = ax.imshow(norm_fit_map)\n",
    "fig.colorbar(im, ax=ax)\n",
    "\n",
    "plt.show()"
   ]
  },
  {
   "cell_type": "code",
   "execution_count": null,
   "metadata": {},
   "outputs": [],
   "source": [
    "from xrdmaptools.utilities.image_corrections import rescale_array"
   ]
  },
  {
   "cell_type": "code",
   "execution_count": null,
   "metadata": {},
   "outputs": [],
   "source": [
    "fig, ax = plt.subplots(1, 1, figsize=(3, 3), dpi=200)\n",
    "\n",
    "trans_colors = colors.copy()\n",
    "trans_colors[:, :, -1] = -rescale_array(norm_fit_map, lower=-1, upper=0)\n",
    "mask = trans_colors[:, :, -1] == colors[:, :, -1]\n",
    "trans_colors[mask, -1] = 0\n",
    "\n",
    "ax.imshow(trans_colors)\n",
    "ax.set_title(str(ipole))\n",
    "ax.set_facecolor('black')\n",
    "\n",
    "plt.show()"
   ]
  },
  {
   "cell_type": "code",
   "execution_count": null,
   "metadata": {},
   "outputs": [],
   "source": [
    "test.plot_interactive_map(display_map=colors, img_vmin=0, img_vmax=0.1)"
   ]
  },
  {
   "cell_type": "code",
   "execution_count": null,
   "metadata": {},
   "outputs": [],
   "source": [
    "#from xrdmaptools.utilities.utilities import label_nearest_spots\n",
    "from xrdmaptools.geometry.geometry import *\n",
    "\n",
    "indices = 9, 75\n",
    "\n",
    "pixel_df = test.pixel_spots(indices).copy()\n",
    "pixel_df.dropna(inplace=True)\n",
    "q_spots = pixel_df[['qx', 'qy', 'qz']].values\n",
    "polar_spots = pixel_df[['fit_tth0', 'fit_chi0']].values\n",
    "spot_ints = pixel_df[['guess_int']].values\n",
    "\n",
    "\n",
    "out = label_nearest_spots(q_spots, max_dist=0.1, max_neighbors=np.inf)\n",
    "new_out = np.empty((len(out), 3))\n",
    "new_out[:, -1] = out[:, -1]\n",
    "new_out[:, :2] = q_2_polar(out, wavelength=test.wavelength)\n",
    "out = new_out"
   ]
  },
  {
   "cell_type": "code",
   "execution_count": null,
   "metadata": {},
   "outputs": [],
   "source": [
    "from xrdmaptools.utilities.utilities import arbitrary_center_of_mass\n",
    "\n",
    "def combine_nearby_spots(spots, *weights, max_dist, max_neighbors=np.inf):\n",
    "    # Spots are weighted by the first eight!\n",
    "    \n",
    "    labeled_spots = label_nearest_spots(spots, max_dist=max_dist, max_neighbors=max_neighbors)\n",
    "\n",
    "    combined_spots = []\n",
    "    combined_weights = []\n",
    "    for label in np.unique(labeled_spots[:, -1]):\n",
    "        label_mask = labeled_spots[:, -1] == label\n",
    "        #combined_spot = np.mean(labeled_spots[label_mask][:, :-1], axis=0)\n",
    "        combined_spot = arbitrary_center_of_mass(np.squeeze(np.asarray(weights)[0])[label_mask],\n",
    "                                                  *labeled_spots[label_mask][:, :-1].T)\n",
    "        combined_spots.append(combined_spot)\n",
    "        for weight in weights:\n",
    "            combined_weight = np.sum(weight[label_mask])\n",
    "            combined_weights.append(combined_weight)\n",
    "\n",
    "    return combined_spots, combined_weights"
   ]
  },
  {
   "cell_type": "code",
   "execution_count": null,
   "metadata": {},
   "outputs": [],
   "source": [
    "out, weights = combine_nearby_spots(q_spots, spot_ints, max_dist=0.1, max_neighbors=np.inf)\n",
    "new_out = np.empty((len(out), 3))\n",
    "new_out[:, :2] = q_2_polar(out, wavelength=test.wavelength)\n",
    "out = new_out"
   ]
  },
  {
   "cell_type": "code",
   "execution_count": null,
   "metadata": {},
   "outputs": [],
   "source": [
    "fig, ax = plt.subplots(1, 1, figsize=(5, 5), dpi=200)\n",
    "\n",
    "im = ax.imshow(test.map.images[indices], vmin=0, vmax=0.1)\n",
    "fig.colorbar(im, ax=ax)\n",
    "\n",
    "ax.scatter(*estimate_image_coords(out[:, :-1], test.tth_arr, test.chi_arr).T,\n",
    "           #c=out[:, -1],\n",
    "           c=weights,\n",
    "           s=1,\n",
    "           cmap='jet')\n",
    "\n",
    "plt.show()"
   ]
  },
  {
   "cell_type": "code",
   "execution_count": null,
   "metadata": {},
   "outputs": [],
   "source": []
  },
  {
   "cell_type": "code",
   "execution_count": null,
   "metadata": {},
   "outputs": [],
   "source": []
  },
  {
   "cell_type": "code",
   "execution_count": null,
   "metadata": {},
   "outputs": [],
   "source": [
    "elements_folder = f'output_tiff_scan2D_{scanid}_xs_sum8ch\\\\'\n",
    "\n",
    "element_maps = {}\n",
    "for element in os.listdir(f'{filedir}{elements_folder}'):\n",
    "    el_im = io.imread(f'{filedir}{elements_folder}{element}')\n",
    "    element_maps[str(element[:-5])] = el_im"
   ]
  },
  {
   "cell_type": "code",
   "execution_count": null,
   "metadata": {},
   "outputs": [],
   "source": [
    "key = 'detsum_Fe_K'\n",
    "#interactive_dynamic_2d_plot(proc_map, range(121), range(121), img_vmin=10, img_vmax=100, display_map=element_maps['detsum_Pt_L'], map_vmin=1e4, map_vmax=1.1e4)\n",
    "interactive_dynamic_2d_plot(test.map.images, range(test.map.images.shape[0]), range(test.map.images.shape[1]), display_map=element_maps[key], display_title=key)"
   ]
  },
  {
   "cell_type": "code",
   "execution_count": null,
   "metadata": {},
   "outputs": [],
   "source": []
  }
 ],
 "metadata": {
  "kernelspec": {
   "display_name": "Python 3",
   "language": "python",
   "name": "python3"
  },
  "language_info": {
   "codemirror_mode": {
    "name": "ipython",
    "version": 3
   },
   "file_extension": ".py",
   "mimetype": "text/x-python",
   "name": "python",
   "nbconvert_exporter": "python",
   "pygments_lexer": "ipython3",
   "version": "3.11.8"
  }
 },
 "nbformat": 4,
 "nbformat_minor": 2
}
