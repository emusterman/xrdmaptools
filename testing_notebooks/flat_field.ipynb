{
 "cells": [
  {
   "cell_type": "code",
   "execution_count": 1,
   "metadata": {},
   "outputs": [],
   "source": [
    "import os\n",
    "import h5py\n",
    "import numpy as np\n",
    "from IPython.lib.deepreload import reload\n",
    "import matplotlib.pyplot as plt\n",
    "from collections import OrderedDict\n",
    "import skimage.io as io\n",
    "from tqdm import tqdm\n",
    "from sklearn.metrics.pairwise import euclidean_distances\n",
    "from matplotlib import cm\n",
    "%matplotlib qt"
   ]
  },
  {
   "cell_type": "code",
   "execution_count": 2,
   "metadata": {},
   "outputs": [
    {
     "name": "stderr",
     "output_type": "stream",
     "text": [
      "c:\\Users\\emusterma\\AppData\\Local\\anaconda3\\envs\\sXRDMap-py311-1.0\\Lib\\site-packages\\pyopencl\\cache.py:495: CompilerWarning: Non-empty compiler output encountered. Set the environment variable PYOPENCL_COMPILER_OUTPUT=1 to see more.\n",
      "  _create_built_program_from_source_cached(\n"
     ]
    },
    {
     "name": "stdout",
     "output_type": "stream",
     "text": [
      "Connecting to databrokers...failed.\n"
     ]
    }
   ],
   "source": [
    "import xrdmaptools\n",
    "from xrdmaptools.XRDMap import XRDMap\n",
    "from xrdmaptools.reflections.SpotModels import GaussianFunctions\n",
    "reload(xrdmaptools);"
   ]
  },
  {
   "cell_type": "code",
   "execution_count": 26,
   "metadata": {},
   "outputs": [
    {
     "name": "stdout",
     "output_type": "stream",
     "text": [
      "Loading images...done!\n",
      "Setting detector calibration...\n"
     ]
    }
   ],
   "source": [
    "scanid = '156117'\n",
    "scantype = 'xrd'\n",
    "base = 'D:\\\\Musterman_postdoc\\\\20240610_Musterman\\\\flat_fields\\\\'\n",
    "map_filename = f'scan{scanid}_dexela_{scantype}.tif'\n",
    "\n",
    "test = XRDMap.from_image_stack(map_filename, wd=f'{base}', energy=10, scanid=scanid, save_hdf=False)\n",
    "\n",
    "test.set_calibration('scan156112_dexela_calibration.poni', filedir='D:\\\\Musterman_postdoc\\\\20240610_Musterman\\\\calibrations\\\\')\n",
    "test.map.dtype = np.float32"
   ]
  },
  {
   "cell_type": "code",
   "execution_count": 27,
   "metadata": {},
   "outputs": [
    {
     "name": "stdout",
     "output_type": "stream",
     "text": [
      "Correcting dark-field...done!\n"
     ]
    }
   ],
   "source": [
    "dark_dir = 'D:\\\\Musterman_postdoc\\\\20240610_Musterman\\\\dark_fields\\\\'\n",
    "dark_id = 156115\n",
    "dir_mask = [str(dark_id) in d for d in os.listdir(dark_dir)]\n",
    "\n",
    "dark_field = io.imread(f'{dark_dir}{np.array(os.listdir(dark_dir))[dir_mask][0]}').astype(np.float32)\n",
    "test.map.correct_dark_field(dark_field=dark_field)"
   ]
  },
  {
   "cell_type": "code",
   "execution_count": 21,
   "metadata": {},
   "outputs": [],
   "source": [
    "test.map.apply_solidangle_correction(apply=False)\n",
    "test.map.apply_polarization_correction(apply=False)"
   ]
  },
  {
   "cell_type": "code",
   "execution_count": 22,
   "metadata": {},
   "outputs": [],
   "source": [
    "test.plot_image(test.map.polarization_correction)"
   ]
  },
  {
   "cell_type": "code",
   "execution_count": 23,
   "metadata": {},
   "outputs": [],
   "source": [
    "test.plot_image(test.map.med_image / test.map.solidangle_correction / test.map.polarization_correction)"
   ]
  },
  {
   "cell_type": "code",
   "execution_count": 28,
   "metadata": {},
   "outputs": [],
   "source": [
    "test.plot_image(test.map.med_image)"
   ]
  },
  {
   "cell_type": "code",
   "execution_count": 11,
   "metadata": {},
   "outputs": [],
   "source": [
    "test.map.rescale_images(upper=100, lower=0, arr_min=0)"
   ]
  },
  {
   "cell_type": "code",
   "execution_count": 61,
   "metadata": {},
   "outputs": [
    {
     "name": "stdout",
     "output_type": "stream",
     "text": [
      "Loading images...done!\n",
      "Setting detector calibration...\n",
      "Calibration performed under different settings. Adjusting calibration.\n",
      "Correcting dark-field...done!\n",
      "Loading images...done!\n",
      "Setting detector calibration...\n",
      "Calibration performed under different settings. Adjusting calibration.\n",
      "Correcting dark-field...done!\n",
      "Loading images...done!\n",
      "Setting detector calibration...\n",
      "Calibration performed under different settings. Adjusting calibration.\n",
      "Correcting dark-field...done!\n",
      "Loading images...done!\n",
      "Setting detector calibration...\n",
      "Calibration performed under different settings. Adjusting calibration.\n",
      "Correcting dark-field...done!\n",
      "Loading images...done!\n",
      "Setting detector calibration...\n",
      "Calibration performed under different settings. Adjusting calibration.\n",
      "Correcting dark-field...done!\n"
     ]
    }
   ],
   "source": [
    "\n",
    "scanlist = [156116, 156117, 156118, 156125, 156126]\n",
    "scanlist = [156120, 156121, 156122, 156123, 156124]\n",
    "scanlist = [156128, 156129, 156130, 156131, 156132]\n",
    "scanlist = [156134, 156135, 156136, 156137, 156138]\n",
    "scanlist = [156140, 156141, 156142, 156143, 156144]\n",
    "scanlist = [156146, 156147, 156148, 156149, 156150]\n",
    "xrdmaps = []\n",
    "\n",
    "dark_dir = 'D:\\\\Musterman_postdoc\\\\20240610_Musterman\\\\dark_fields\\\\'\n",
    "dark_id = 156145\n",
    "dir_mask = [str(dark_id) in d for d in os.listdir(dark_dir)]\n",
    "\n",
    "dark_field = io.imread(f'{dark_dir}{np.array(os.listdir(dark_dir))[dir_mask][0]}').astype(np.float32)\n",
    "\n",
    "\n",
    "for scanid in scanlist:\n",
    "    scantype = 'xrd'\n",
    "    base = 'D:\\\\Musterman_postdoc\\\\20240610_Musterman\\\\flat_fields\\\\'\n",
    "    map_filename = f'scan{scanid}_dexela_{scantype}.tif'\n",
    "\n",
    "    test = XRDMap.from_image_stack(map_filename, wd=f'{base}', energy=10, scanid=scanid, save_hdf=False)\n",
    "\n",
    "    test.set_calibration('scan156112_dexela_calibration.poni', filedir='D:\\\\Musterman_postdoc\\\\20240610_Musterman\\\\calibrations\\\\')\n",
    "    test.map.dtype = np.float32\n",
    "\n",
    "    test.map.correct_dark_field(dark_field=dark_field)\n",
    "\n",
    "    xrdmaps.append(test)"
   ]
  },
  {
   "cell_type": "code",
   "execution_count": 62,
   "metadata": {},
   "outputs": [],
   "source": [
    "all_images = np.vstack([xrdmap.map.images for xrdmap in xrdmaps])"
   ]
  },
  {
   "cell_type": "code",
   "execution_count": 63,
   "metadata": {},
   "outputs": [],
   "source": [
    "test.plot_image(np.median(all_images, axis=(0, 1)))"
   ]
  },
  {
   "cell_type": "code",
   "execution_count": 60,
   "metadata": {},
   "outputs": [],
   "source": [
    "io.imsave(base + 'flat_field_1x1_hr_med.tif', np.median(all_images, axis=(0, 1)))\n",
    "io.imsave(base + 'flat_field_1x1_hr_min.tif', np.min(all_images, axis=(0, 1)))"
   ]
  },
  {
   "cell_type": "code",
   "execution_count": 129,
   "metadata": {},
   "outputs": [
    {
     "name": "stdout",
     "output_type": "stream",
     "text": [
      "Loading data from hdf file...\n",
      "Loading most recent images (raw_images)...done!\n",
      "Loading scalers...done!\n",
      "Loading positions...done!\n",
      "Instantiating ImageMap...done!\n",
      "XRD Map loaded!\n",
      "Correcting dark-field...done!\n"
     ]
    }
   ],
   "source": [
    "test = XRDMap.from_hdf('scan156853_xrd.h5', wd='D:\\\\Musterman_postdoc\\\\20240610_Musterman\\\\xrdmaps\\\\', save_hdf=False)\n",
    "dark_field = io.imread(f'{dark_dir}/scan156858_dexela_median_composite.tif')\n",
    "flat_field = io.imread(f'{base}/flat_field_4x4_hr_med.tif')\n",
    "test.map.correct_dark_field(dark_field=dark_field)"
   ]
  },
  {
   "cell_type": "code",
   "execution_count": 130,
   "metadata": {},
   "outputs": [
    {
     "name": "stdout",
     "output_type": "stream",
     "text": [
      "Setting detector calibration...\n"
     ]
    }
   ],
   "source": [
    "test.set_calibration('scan156160_dexela_calibration.poni', filedir='D:\\\\Musterman_postdoc\\\\20240610_Musterman\\\\calibrations\\\\')"
   ]
  },
  {
   "cell_type": "code",
   "execution_count": 81,
   "metadata": {},
   "outputs": [],
   "source": [
    "test.plot_image(test.map.med_image / flat_field )"
   ]
  },
  {
   "cell_type": "code",
   "execution_count": 82,
   "metadata": {},
   "outputs": [],
   "source": [
    "test.plot_image(test.map.med_image / flat_field - jelly)"
   ]
  },
  {
   "cell_type": "code",
   "execution_count": null,
   "metadata": {},
   "outputs": [],
   "source": []
  },
  {
   "cell_type": "code",
   "execution_count": 78,
   "metadata": {},
   "outputs": [],
   "source": [
    "jelly = test.map.med_image / flat_field"
   ]
  },
  {
   "cell_type": "code",
   "execution_count": 75,
   "metadata": {},
   "outputs": [],
   "source": [
    "air_scatter = test.map.med_image / flat_field"
   ]
  },
  {
   "cell_type": "code",
   "execution_count": 85,
   "metadata": {},
   "outputs": [],
   "source": [
    "test.tth_resolution = 0.01"
   ]
  },
  {
   "cell_type": "code",
   "execution_count": 86,
   "metadata": {},
   "outputs": [],
   "source": [
    "tth, intensity = test.integrate1d_image(test.map.med_image / flat_field - jelly)"
   ]
  },
  {
   "cell_type": "code",
   "execution_count": 90,
   "metadata": {},
   "outputs": [],
   "source": [
    "test.plot_integration(test.integrate1d_image(test.map.med_image / flat_field - air_scatter)[1], tth=test.tth)"
   ]
  },
  {
   "cell_type": "code",
   "execution_count": 111,
   "metadata": {},
   "outputs": [],
   "source": [
    "tth, intensity = test.integrate1d_image((test.map.med_image / flat_field - jelly) * np.sin(np.radians(test.tth_arr)), tth_num=5000)\n",
    "test.plot_integration(intensity, tth=tth)"
   ]
  },
  {
   "cell_type": "code",
   "execution_count": 167,
   "metadata": {},
   "outputs": [],
   "source": [
    "tth, intensity = test.integrate1d_image((test.map.med_image / flat_field - jelly), tth_num=10000)\n",
    "\n",
    "fig, ax = plt.subplots(1,1, figsize=(5, 5), dpi=200)\n",
    "\n",
    "ax.plot(tth_2_q(tth, wavelength=test.wavelength), intensity)\n",
    "\n",
    "ax.set_xlabel('scattering vector (A-1)')\n",
    "\n",
    "fig.show()"
   ]
  },
  {
   "cell_type": "code",
   "execution_count": 189,
   "metadata": {},
   "outputs": [],
   "source": [
    "from scipy.ndimage import gaussian_filter\n",
    "from scipy.fft import fft, fftfreq\n",
    "from xrdmaptools.utilities.math import tth_2_q, convert_qd\n",
    "\n",
    "fig, ax = plt.subplots(1, 1, figsize=(5, 5), dpi=200)\n",
    "\n",
    "N = int(1e7)\n",
    "yf = fft(intensity, n=N)\n",
    "xf = fftfreq(N, np.mean(np.diff(tth_2_q(tth, wavelength=test.wavelength))))[:N//2]\n",
    "\n",
    "ax.plot(xf, 2.0 / N * np.abs(yf[0 : N//2]))\n",
    "\n",
    "fig.show()"
   ]
  },
  {
   "cell_type": "code",
   "execution_count": null,
   "metadata": {},
   "outputs": [],
   "source": []
  }
 ],
 "metadata": {
  "kernelspec": {
   "display_name": "Python 3",
   "language": "python",
   "name": "python3"
  },
  "language_info": {
   "codemirror_mode": {
    "name": "ipython",
    "version": 3
   },
   "file_extension": ".py",
   "mimetype": "text/x-python",
   "name": "python",
   "nbconvert_exporter": "python",
   "pygments_lexer": "ipython3",
   "version": "3.11.8"
  }
 },
 "nbformat": 4,
 "nbformat_minor": 2
}
