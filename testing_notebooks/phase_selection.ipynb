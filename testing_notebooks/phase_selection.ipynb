{
 "cells": [
  {
   "cell_type": "code",
   "execution_count": 1,
   "metadata": {},
   "outputs": [],
   "source": [
    "import os\n",
    "import matplotlib.pyplot as plt\n",
    "import numpy as np\n",
    "plt.ioff();\n",
    "try:\n",
    "    maindir\n",
    "except NameError:\n",
    "    maindir = os.path.dirname(os.getcwd())\n",
    "for module in os.listdir(maindir + '\\\\testing_modules'):\n",
    "    %run -i \"{maindir}\\\\testing_modules\\\\{module}\"\n",
    "base = os.path.dirname(os.path.dirname(maindir)) + '\\\\'\n",
    "plt.ion();\n",
    "np.set_printoptions(suppress=True)"
   ]
  },
  {
   "cell_type": "code",
   "execution_count": 19,
   "metadata": {},
   "outputs": [],
   "source": [
    "%matplotlib qt\n",
    "import skimage.io as io\n",
    "import pyFAI\n",
    "from skimage.restoration import rolling_ball\n",
    "from lmfit.models import PolynomialModel, ExponentialModel, SplineModel\n",
    "import matplotlib\n",
    "from matplotlib.widgets import Button, Slider\n",
    "from collections import OrderedDict\n",
    "import xrayutilities as xu\n",
    "from xrayutilities.materials import elements"
   ]
  },
  {
   "cell_type": "code",
   "execution_count": 2,
   "metadata": {},
   "outputs": [],
   "source": [
    "scanid = 149566\n",
    "filedir = '''D:\\\\Musterman_postdoc\\\\20231109_Musterman\\\\'''\n",
    "#filedir = '''D:\\\\Musterman_postdoc\\\\20231030_Musterman\\\\'''\n",
    "filedir = '''C:\\\\Users\\\\emusterma\\\\OneDrive - Brookhaven National Laboratory\\\\Documents\\\\Postdoc\\\\Data\\\\Condensed Datasets\\\\'''\n",
    "map_filename = f'scan{scanid}_dexela_xrd.tif'\n",
    "h5_filename = f'scan{scanid}_xrd.h5'\n",
    "\n",
    "test = XRDMap.from_h5(h5_filename, wd=filedir)\n"
   ]
  },
  {
   "cell_type": "code",
   "execution_count": 14,
   "metadata": {},
   "outputs": [
    {
     "name": "stdout",
     "output_type": "stream",
     "text": [
      "XU.materials: Warning: element O used instead of O-2\n",
      "XU.materials: Warning: element Nb used instead of Nb+5\n",
      "XU.materials: Warning: element Li used instead of Li+1\n"
     ]
    }
   ],
   "source": [
    "cif_dir = '''C:\\\\Users\\\\emusterma\\\\OneDrive - Brookhaven National Laboratory\\\\Documents\\\\Postdoc\\\\Literature\\\\CIF\\\\'''\n",
    "test.clear_phases()\n",
    "test.load_phase('Barker\\\\1521772COD.cif', filedir=cif_dir, phase_name=\"LiNbO3 161\")\n",
    "test.load_phase('Barker\\\\LiNbO3.cif', filedir=cif_dir, phase_name=\"LiNbO3 148\")\n",
    "test.load_phase('AMCSD\\\\Platinum_0011157.cif', filedir=cif_dir, phase_name=\"Platinum\")\n",
    "test.load_phase('AMCSD\\\\Calcite_0000984.cif', filedir=cif_dir, phase_name=\"Calcite\")\n",
    "test.load_phase('AMCSD\\\\Aluminum_0011136.cif', filedir=cif_dir, phase_name=\"Aluminum\")\n",
    "test.load_phase('AMCSD\\\\Zincite_0011555.cif', filedir=cif_dir, phase_name=\"Zincite\")\n",
    "test.load_phase('AMCSD\\\\Gold_0011140.cif', filedir=cif_dir, phase_name=\"Gold\")\n",
    "test.load_phase('AMCSD\\\\Chromium_0011209.cif', filedir=cif_dir, phase_name=\"Chromium BCC\")\n",
    "test.load_phase('AMCSD\\\\Chromium_0011170.cif', filedir=cif_dir, phase_name=\"Chromium HCP\")\n",
    "test.load_phase('AMCSD\\\\Chromium_0011144.cif', filedir=cif_dir, phase_name=\"Chromium FCC\")"
   ]
  },
  {
   "cell_type": "code",
   "execution_count": 6,
   "metadata": {},
   "outputs": [],
   "source": [
    "test.select_phases(remove_less_than=0.1)"
   ]
  },
  {
   "cell_type": "code",
   "execution_count": 3,
   "metadata": {},
   "outputs": [],
   "source": [
    "f = h5py.File(test.h5, 'r')"
   ]
  },
  {
   "cell_type": "code",
   "execution_count": 4,
   "metadata": {},
   "outputs": [
    {
     "data": {
      "text/plain": [
       "<KeysViewHDF5 ['number', 'position']>"
      ]
     },
     "execution_count": 4,
     "metadata": {},
     "output_type": "execute_result"
    }
   ],
   "source": [
    "f['xrdmap']['phase_list']['Calcite']['WyckoffBase']['O'].attrs.keys()"
   ]
  },
  {
   "cell_type": "code",
   "execution_count": 17,
   "metadata": {},
   "outputs": [
    {
     "data": {
      "text/plain": [
       "'167:H'"
      ]
     },
     "execution_count": 17,
     "metadata": {},
     "output_type": "execute_result"
    }
   ],
   "source": [
    "f['xrdmap']['phase_list']['Calcite'].attrs['space_group']"
   ]
  },
  {
   "cell_type": "code",
   "execution_count": 60,
   "metadata": {},
   "outputs": [
    {
     "data": {
      "text/plain": [
       "numpy.float64"
      ]
     },
     "execution_count": 60,
     "metadata": {},
     "output_type": "execute_result"
    }
   ],
   "source": [
    "type(calcite.lattice._wbase[2][1][1][0])"
   ]
  },
  {
   "cell_type": "code",
   "execution_count": null,
   "metadata": {},
   "outputs": [],
   "source": [
    "np.array([None, None, ])"
   ]
  },
  {
   "cell_type": "code",
   "execution_count": 40,
   "metadata": {},
   "outputs": [
    {
     "data": {
      "text/plain": [
       "nan"
      ]
     },
     "execution_count": 40,
     "metadata": {},
     "output_type": "execute_result"
    }
   ],
   "source": [
    "wbase[atom_key][0]"
   ]
  },
  {
   "cell_type": "code",
   "execution_count": null,
   "metadata": {},
   "outputs": [],
   "source": [
    "wbase = f['/xrdmap/phase_list/Calcite']['WyckoffBase']\n",
    "atom_lst = []\n",
    "for atom_key in wbase.keys():\n",
    "    atom = Atom(atom_key, wbase[atom_key].attrs['number'])\n",
    "    #atom = Atom(atom_key, atom_dict[atom_key])\n",
    "    pos = wbase[atom_key].attrs['position']\n",
    "    #positions = wbase[atom_key][:]\n",
    "    if np.isnan(wbase[atom_key][0]):\n",
    "        positions = None\n",
    "    else:\n",
    "        positions = wbase[atom_key][:]\n",
    "    atom_lst.append((atom, (pos, *positions)))"
   ]
  },
  {
   "cell_type": "code",
   "execution_count": 78,
   "metadata": {},
   "outputs": [
    {
     "data": {
      "text/plain": [
       "<KeysViewHDF5 ['Calcite', 'LiNbO3 161']>"
      ]
     },
     "execution_count": 78,
     "metadata": {},
     "output_type": "execute_result"
    }
   ],
   "source": [
    "f['/xrdmap/phase_list'].keys()"
   ]
  },
  {
   "cell_type": "code",
   "execution_count": 80,
   "metadata": {},
   "outputs": [],
   "source": [
    "new_lattice = load_from_h5(f['/xrdmap/phase_list/LiNbO3 161'])\n",
    "\n",
    "#new_lattice = xu.materials.spacegrouplattice.SGLattice('167:H', 4.988, 17.061, atoms=[elements.Ca, elements.C, elements.O],\n",
    "#                                                                                pos=[('6b', (None,)), ('6a', (None,)), ('18e', (0.2567,))])"
   ]
  },
  {
   "cell_type": "code",
   "execution_count": 81,
   "metadata": {},
   "outputs": [],
   "source": [
    "new_phase = Phase('Calcite', lat = new_lattice)"
   ]
  },
  {
   "cell_type": "code",
   "execution_count": 82,
   "metadata": {},
   "outputs": [
    {
     "data": {
      "text/plain": [
       "[(Li ( 3), ('6a', (0.25,)), 1.0, 0.0),\n",
       " (Nb (41), ('6a', (0.0,)), 1.0, 0.0),\n",
       " (O ( 8), ('18b', (0.041, 0.3333, 0.0833)), 1.0, 0.0)]"
      ]
     },
     "execution_count": 82,
     "metadata": {},
     "output_type": "execute_result"
    }
   ],
   "source": [
    "new_phase.lattice._wbase"
   ]
  },
  {
   "cell_type": "code",
   "execution_count": 83,
   "metadata": {},
   "outputs": [],
   "source": [
    "new_phase.get_hkl_reflections(energy=15000)"
   ]
  },
  {
   "cell_type": "code",
   "execution_count": 45,
   "metadata": {},
   "outputs": [
    {
     "data": {
      "text/plain": [
       "OrderedDict([('a', 4.988),\n",
       "             ('b', 4.988),\n",
       "             ('c', 17.061),\n",
       "             ('alpha', 90),\n",
       "             ('beta', 90),\n",
       "             ('gamma', 120)])"
      ]
     },
     "execution_count": 45,
     "metadata": {},
     "output_type": "execute_result"
    }
   ],
   "source": [
    "new_lattice._parameters"
   ]
  },
  {
   "cell_type": "code",
   "execution_count": 34,
   "metadata": {},
   "outputs": [],
   "source": [
    "atom_dict = {'Ca' : 20, \n",
    "             'C' : 6,\n",
    "             'O' : 8}"
   ]
  },
  {
   "cell_type": "code",
   "execution_count": 5,
   "metadata": {},
   "outputs": [],
   "source": [
    "from xrayutilities.materials.atom import Atom\n",
    "from xrayutilities.materials.spacegrouplattice import sgrp_sym, SGLattice"
   ]
  },
  {
   "cell_type": "code",
   "execution_count": 79,
   "metadata": {},
   "outputs": [],
   "source": [
    "def load_from_h5(group):\n",
    "    name = group.name.split('/')[-1]\n",
    "    \n",
    "    params = OrderedDict()\n",
    "    key_lst = ['a', 'b', 'c', 'alpha', 'beta', 'gamma']\n",
    "    for key in key_lst:\n",
    "        params[key] = group.attrs[key]\n",
    "    \n",
    "    space_group = group.attrs['space_group']\n",
    "    space_group_number = group.attrs['space_group_number']\n",
    "\n",
    "    wbase = group['WyckoffBase']\n",
    "    atom_lst = []\n",
    "    for atom_key in wbase.keys():\n",
    "        atom = Atom(atom_key, wbase[atom_key].attrs['number'])\n",
    "        #atom = Atom(atom_key, atom_dict[atom_key])\n",
    "        pos = wbase[atom_key].attrs['position']\n",
    "        if np.any(np.isnan(wbase[atom_key][0])):\n",
    "            positions = None\n",
    "        else:\n",
    "            positions = (*wbase[atom_key][:][0],)\n",
    "        atom_lst.append((atom, (pos, positions)))\n",
    "\n",
    "    args = get_sym_args(space_group, params)\n",
    "    lattice = SGLattice(space_group, *args, atoms=[atom[0] for atom in atom_lst],\n",
    "                                                pos=[atom[1] for atom in atom_lst])\n",
    "    \n",
    "    return lattice\n",
    "    "
   ]
  },
  {
   "cell_type": "code",
   "execution_count": null,
   "metadata": {},
   "outputs": [],
   "source": []
  },
  {
   "cell_type": "code",
   "execution_count": 15,
   "metadata": {},
   "outputs": [],
   "source": [
    "calcite = test.phases['Calcite']"
   ]
  },
  {
   "cell_type": "code",
   "execution_count": 108,
   "metadata": {},
   "outputs": [],
   "source": [
    "phase_grp = f['xrdmap/phase_list']\n",
    "iphase = phase_grp.require_group('calcite')"
   ]
  },
  {
   "cell_type": "code",
   "execution_count": 109,
   "metadata": {},
   "outputs": [
    {
     "data": {
      "text/plain": [
       "OrderedDict([('a', 4.988),\n",
       "             ('b', 4.988),\n",
       "             ('c', 17.061),\n",
       "             ('alpha', 90),\n",
       "             ('beta', 90),\n",
       "             ('gamma', 120)])"
      ]
     },
     "execution_count": 109,
     "metadata": {},
     "output_type": "execute_result"
    }
   ],
   "source": [
    "calcite.lattice._parameters"
   ]
  },
  {
   "cell_type": "code",
   "execution_count": 142,
   "metadata": {},
   "outputs": [],
   "source": [
    "for key, value in calcite.lattice._parameters.items():\n",
    "    iphase.attrs[key] = value\n",
    "\n",
    "iphase.attrs['space_group'] = calcite.lattice.space_group\n",
    "iphase.attrs['space_group_number'] = sgrp_sym[int(calcite.lattice.space_group.split(':')[0])][0]\n",
    "\n",
    "wbase = iphase.require_group('WyckoffBase')\n",
    "for atom in calcite.lattice._wbase:\n",
    "    data = np.array(atom[1][1:])\n",
    "    data = np.array([np.nan for pos in data if pos is None])\n",
    "    dset = wbase.require_dataset(atom[0].name, data=data, shape=data.shape, dtype=data.dtype)\n",
    "    wbase.attrs['position'] = atom[1][0]"
   ]
  },
  {
   "cell_type": "code",
   "execution_count": 141,
   "metadata": {},
   "outputs": [
    {
     "data": {
      "text/plain": [
       "dtype('float64')"
      ]
     },
     "execution_count": 141,
     "metadata": {},
     "output_type": "execute_result"
    }
   ],
   "source": [
    "data.dtype"
   ]
  },
  {
   "cell_type": "code",
   "execution_count": 130,
   "metadata": {},
   "outputs": [
    {
     "data": {
      "text/plain": [
       "(None,)"
      ]
     },
     "execution_count": 130,
     "metadata": {},
     "output_type": "execute_result"
    }
   ],
   "source": [
    "atom[1][1:]"
   ]
  },
  {
   "cell_type": "code",
   "execution_count": 110,
   "metadata": {},
   "outputs": [],
   "source": [
    "iphase.attrs['a'] = 4.988\n",
    "iphase.attrs['b'] = 4.988\n",
    "iphase.attrs['c'] = 17.061\n",
    "iphase.attrs['alpha'] = 90\n",
    "iphase.attrs['beta'] = 90\n",
    "iphase.attrs['gamma'] = 120\n",
    "iphase.attrs['space_group'] = "
   ]
  },
  {
   "cell_type": "code",
   "execution_count": 15,
   "metadata": {},
   "outputs": [],
   "source": [
    "calcite = test.phases['Calcite']\n",
    "linbo = test.phases['LiNbO3 161']"
   ]
  },
  {
   "cell_type": "code",
   "execution_count": 146,
   "metadata": {},
   "outputs": [
    {
     "data": {
      "text/plain": [
       "{'LiNbO3 161': LiNbO3 161 crystal phase class,\n",
       " 'Calcite': Calcite crystal phase class}"
      ]
     },
     "execution_count": 146,
     "metadata": {},
     "output_type": "execute_result"
    }
   ],
   "source": [
    "test.phases"
   ]
  },
  {
   "cell_type": "code",
   "execution_count": 97,
   "metadata": {},
   "outputs": [
    {
     "data": {
      "text/plain": [
       "'O'"
      ]
     },
     "execution_count": 97,
     "metadata": {},
     "output_type": "execute_result"
    }
   ],
   "source": [
    "linbo.lattice._wbase[0][0].name"
   ]
  },
  {
   "cell_type": "code",
   "execution_count": 112,
   "metadata": {},
   "outputs": [
    {
     "data": {
      "text/plain": [
       "'167:H'"
      ]
     },
     "execution_count": 112,
     "metadata": {},
     "output_type": "execute_result"
    }
   ],
   "source": [
    "calcite.lattice.space_group"
   ]
  },
  {
   "cell_type": "code",
   "execution_count": 81,
   "metadata": {},
   "outputs": [],
   "source": [
    "params = calcite.lattice._parameters"
   ]
  },
  {
   "cell_type": "code",
   "execution_count": 33,
   "metadata": {},
   "outputs": [
    {
     "data": {
      "text/plain": [
       "[(Ca (20), ('6b', None), 1, 0.0),\n",
       " (C ( 6), ('6a', None), 1, 0.0),\n",
       " (O ( 8), ('18e', (0.2567,)), 1, 0.0)]"
      ]
     },
     "execution_count": 33,
     "metadata": {},
     "output_type": "execute_result"
    }
   ],
   "source": [
    "calcite.lattice._wbase"
   ]
  },
  {
   "cell_type": "code",
   "execution_count": 125,
   "metadata": {},
   "outputs": [
    {
     "data": {
      "text/plain": [
       "('6b', None)"
      ]
     },
     "execution_count": 125,
     "metadata": {},
     "output_type": "execute_result"
    }
   ],
   "source": [
    "calcite.lattice._wbase[0][1]"
   ]
  },
  {
   "cell_type": "code",
   "execution_count": 90,
   "metadata": {},
   "outputs": [],
   "source": [
    "from xrayutilities.materials import elements\n",
    "\n",
    "new_lattice = xu.materials.spacegrouplattice.SGLattice('167:H', 4.988, 17.061, atoms=[elements.Ca, elements.C, elements.O],\n",
    "                                                                                pos=[('6b', None), ('6a', None), ('18e', (0.2567,))])"
   ]
  },
  {
   "cell_type": "code",
   "execution_count": 63,
   "metadata": {},
   "outputs": [],
   "source": [
    "from xrayutilities.materials.wyckpos import RangeDict\n",
    "\n",
    "sgrp_sym = RangeDict({range(1, 3): ('triclinic', 6),\n",
    "                      range(3, 16): ('monoclinic', 4),\n",
    "                      range(16, 75): ('orthorhombic', 3),\n",
    "                      range(75, 143): ('tetragonal', 2),\n",
    "                      range(143, 168): ('trigonal', 2),\n",
    "                      range(168, 195): ('hexagonal', 2),\n",
    "                      range(195, 231): ('cubic', 1)})"
   ]
  },
  {
   "cell_type": "code",
   "execution_count": 143,
   "metadata": {},
   "outputs": [],
   "source": [
    "from xrayutilities.materials.spacegrouplattice import sgrp_sym"
   ]
  },
  {
   "cell_type": "code",
   "execution_count": 83,
   "metadata": {},
   "outputs": [
    {
     "ename": "KeyError",
     "evalue": "('a', 'b')",
     "output_type": "error",
     "traceback": [
      "\u001b[1;31m---------------------------------------------------------------------------\u001b[0m",
      "\u001b[1;31mKeyError\u001b[0m                                  Traceback (most recent call last)",
      "\u001b[1;32mc:\\Users\\emusterma\\OneDrive - Brookhaven National Laboratory\\Documents\\Postdoc\\Repositories\\SRX_sXRD_analysis\\testing_notebooks\\phase_selection.ipynb Cell 16\u001b[0m line \u001b[0;36m1\n\u001b[1;32m----> <a href='vscode-notebook-cell:/c%3A/Users/emusterma/OneDrive%20-%20Brookhaven%20National%20Laboratory/Documents/Postdoc/Repositories/SRX_sXRD_analysis/testing_notebooks/phase_selection.ipynb#X52sZmlsZQ%3D%3D?line=0'>1</a>\u001b[0m params[\u001b[39m'\u001b[39;49m\u001b[39ma\u001b[39;49m\u001b[39m'\u001b[39;49m, \u001b[39m'\u001b[39;49m\u001b[39mb\u001b[39;49m\u001b[39m'\u001b[39;49m]\n",
      "\u001b[1;31mKeyError\u001b[0m: ('a', 'b')"
     ]
    }
   ],
   "source": [
    "param[key] for key in []"
   ]
  },
  {
   "cell_type": "code",
   "execution_count": 7,
   "metadata": {},
   "outputs": [],
   "source": [
    "# I dislike that I need this, but the SGLattice class can only handle the specified number of inputs\n",
    "def get_sym_args(sgrp, params):\n",
    "\n",
    "    sgrp = str(sgrp).lower()\n",
    "    sgrp = sgrp.split(':')[0]\n",
    "\n",
    "    if sgrp in ['triclinic', *[str(num) for num in range(1, 3)]]:\n",
    "        args = [params[key] for key in ['a', 'b', 'c', 'alpha', 'beta', 'gamma']]\n",
    "\n",
    "    elif sgrp in ['monoclinic', *[str(num) for num in range(3, 16)]]:\n",
    "        args = [params[key] for key in ['a', 'b', 'c', 'beta']]\n",
    "\n",
    "    elif sgrp in ['orthorhombic', *[str(num) for num in range(16, 75)]]:\n",
    "        args = [params[key] for key in ['a', 'b', 'c']]\n",
    "\n",
    "    elif sgrp in ['tetragonal', *[str(num) for num in range(75, 143)]]:\n",
    "        args = [params[key] for key in ['a', 'c']]\n",
    "\n",
    "    elif sgrp in ['trigonal', *[str(num) for num in range(143, 168)]]:\n",
    "        args = [params[key] for key in ['a', 'c']]\n",
    "\n",
    "    elif sgrp in ['hexagonal', *[str(num) for num in range(168, 195)]]:\n",
    "        args = [params[key] for key in ['a', 'c']]\n",
    "\n",
    "    elif sgrp in ['cubic', *[str(num) for num in range(195, 231)]]:\n",
    "        args = [params[key] for key in ['a']]\n",
    "\n",
    "    return args"
   ]
  },
  {
   "cell_type": "code",
   "execution_count": 92,
   "metadata": {},
   "outputs": [
    {
     "data": {
      "text/plain": [
       "[4.988, 17.061]"
      ]
     },
     "execution_count": 92,
     "metadata": {},
     "output_type": "execute_result"
    }
   ],
   "source": [
    "get_sym_args(calcite.lattice.space_group, calcite.lattice._parameters)"
   ]
  },
  {
   "cell_type": "code",
   "execution_count": null,
   "metadata": {},
   "outputs": [],
   "source": []
  },
  {
   "cell_type": "code",
   "execution_count": null,
   "metadata": {},
   "outputs": [],
   "source": []
  },
  {
   "cell_type": "code",
   "execution_count": null,
   "metadata": {},
   "outputs": [],
   "source": []
  },
  {
   "cell_type": "code",
   "execution_count": 4,
   "metadata": {},
   "outputs": [],
   "source": [
    "elements_folder = f'output_tiff_scan2D_{scanid}_xs_sum8ch\\\\'\n",
    "\n",
    "element_maps = {}\n",
    "for element in os.listdir(f'{filedir}{elements_folder}'):\n",
    "    el_im = io.imread(f'{filedir}{elements_folder}{element}')\n",
    "    element_maps[str(element[:-5])] = el_im"
   ]
  },
  {
   "cell_type": "code",
   "execution_count": 23,
   "metadata": {},
   "outputs": [],
   "source": [
    "key = 'detsum_Ni_K'\n",
    "#interactive_dynamic_2d_plot(proc_map, range(121), range(121), img_vmin=10, img_vmax=100, display_map=element_maps['detsum_Pt_L'], map_vmin=1e4, map_vmax=1.1e4)\n",
    "interactive_dynamic_2d_plot(proc_map, range(proc_map.shape[0]), range(proc_map.shape[1]), display_map=element_maps[key], display_title=key)"
   ]
  },
  {
   "cell_type": "code",
   "execution_count": 14,
   "metadata": {},
   "outputs": [],
   "source": [
    "fig, ax = plt.subplots(1, 1, figsize=(8, 5), dpi=200)\n",
    "\n",
    "im = ax.imshow(med_img)\n",
    "fig.colorbar(im, ax=ax)\n",
    "\n",
    "fig.show()"
   ]
  },
  {
   "cell_type": "code",
   "execution_count": 5,
   "metadata": {},
   "outputs": [],
   "source": [
    "ai = pyFAI.load(f'{filedir}scan149256_dexela.poni')\n",
    "ai.energy = 15\n",
    "tth_resolution = 0.02 # Degrees\n",
    "chi_resolution = 0.05 # Degrees\n",
    "\n",
    "res = ai.integrate2d_ng(proc_map.reshape(proc_map.shape[0] * proc_map.shape[1], proc_map.shape[2], proc_map.shape[3])[0], 100, 100, unit='2th_deg')\n",
    "tth, chi = res[1], res[2]\n",
    "tth_num = int(np.abs(np.max(tth) - np.min(tth)) // tth_resolution)\n",
    "chi_num = int(np.abs(np.max(chi) - np.min(chi)) // chi_resolution)\n",
    "# The bounds of interpolation should be limited by the intrument resolution AND the original image size. Should not make up too much data\n",
    "\n",
    "# Is there a better way I could do this?\n",
    "res = ai.integrate2d_ng(proc_map.reshape(proc_map.shape[0] * proc_map.shape[1], proc_map.shape[2], proc_map.shape[3])[0], tth_num, chi_num, unit='2th_deg')\n",
    "tth, chi = res[1], res[2]\n",
    "extent = [tth[0], tth[-1], chi[0], chi[-1]]\n",
    "\n",
    "# Calibrate the full map. Can I parallelize this??\n",
    "calibrated_map = np.zeros((proc_map.shape[0] * proc_map.shape[1], chi_num, tth_num), dtype=(dtype))\n",
    "for i, pixel in enumerate(proc_map.reshape(proc_map.shape[0] * proc_map.shape[1], proc_map.shape[2], proc_map.shape[3])):\n",
    "    res, _, _ = ai.integrate2d_ng(pixel, tth_num, chi_num, unit='2th_deg')\n",
    "    calibrated_map[i] = res\n",
    "calibrated_map = calibrated_map.reshape(proc_map.shape[0], proc_map.shape[1], chi_num, tth_num)"
   ]
  },
  {
   "cell_type": "code",
   "execution_count": 11,
   "metadata": {},
   "outputs": [],
   "source": [
    "key = 'detsum_Ni_K'\n",
    "#interactive_dynamic_2d_plot(proc_map, range(121), range(121), img_vmin=10, img_vmax=100, display_map=element_maps['detsum_Pt_L'], map_vmin=1e4, map_vmax=1.1e4)\n",
    "interactive_dynamic_2d_plot(calibrated_map, tth, chi, display_map=element_maps[key], display_title=key)"
   ]
  },
  {
   "cell_type": "code",
   "execution_count": 8,
   "metadata": {},
   "outputs": [],
   "source": [
    "fig, ax = plt.subplots(2, 1, figsize=(10, 5), dpi=200, sharex=True)\n",
    "\n",
    "max_img = np.max(proc_map, axis=(0, 1)).astype(dtype)\n",
    "min_img = np.min(proc_map, axis=(0, 1)).astype(dtype)\n",
    "ref_img = max_img - min_img\n",
    "\n",
    "ref_img.astype(np.float16)[ref_img < 0] = 0\n",
    "\n",
    "res = ai.integrate2d_ng(ref_img, 4096, 360, unit='2th_deg')\n",
    "tth, chi = res[1], res[2]\n",
    "xrd_int = res[0]\n",
    "\n",
    "im = ax[0].imshow(res[0], extent=[tth[0], tth[-1], chi[0], chi[-1]], aspect='auto', norm=LogNorm(vmin=100))\n",
    "fig.colorbar(im, ax=ax)\n",
    "ax[0].set_ylabel('Azimuthal Angle, χ [°]')\n",
    "ax[1].set_xlabel('Scattering Angle, 2θ [°]')\n",
    "_, res = ai.integrate1d_ng(ref_img, 4096, unit='2th_deg') # I really do not like that the 1D and 2D outputs are flipped\n",
    "xrd_int = res\n",
    "ax[1].plot(tth, res)\n",
    "\n",
    "fig.show()"
   ]
  },
  {
   "cell_type": "code",
   "execution_count": 9,
   "metadata": {},
   "outputs": [],
   "source": [
    "cif_dir = '''C:\\\\Users\\\\emusterma\\\\OneDrive - Brookhaven National Laboratory\\\\Documents\\\\Postdoc\\\\Literature\\\\CIF\\\\'''\n",
    "hematite = Phase.fromCIF(f'{cif_dir}AMCSD\\\\Hematite_0017806.cif')\n",
    "hematite.name = 'Hematite'\n",
    "\n",
    "iron_alpha = Phase.fromCIF(f'{cif_dir}AMCSD\\\\Iron-alpha_0011214.cif')\n",
    "iron_alpha.name = 'Iron-ferrite'\n",
    "\n",
    "iron_beta = Phase.fromCIF(f'{cif_dir}AMCSD\\\\Iron-beta_0011215.cif')\n",
    "iron_beta.name = 'Iron-beta'\n",
    "\n",
    "iron_delta = Phase.fromCIF(f'{cif_dir}AMCSD\\\\Iron-delta_0011216.cif')\n",
    "iron_delta.name = 'Iron-delta'\n",
    "\n",
    "iron = Phase.fromCIF(f'{cif_dir}AMCSD\\\\Iron_0011146.cif')\n",
    "iron.name = 'Iron-austenite'\n",
    "\n",
    "cementite = Phase.fromCIF(f'{cif_dir}AMCSD\\\\Cementite_0013523.cif')\n",
    "cementite.name = 'Cementite'\n",
    "\n",
    "zincite = Phase.fromCIF(f'{cif_dir}AMCSD\\\\Zincite_0011555.cif')\n",
    "zincite.name = 'Zincite'"
   ]
  },
  {
   "cell_type": "code",
   "execution_count": 10,
   "metadata": {},
   "outputs": [],
   "source": [
    "size=200\n",
    "bkg_spline = SplineModel(xknots=np.linspace(tth[0], tth[-1], 20))\n",
    "params = bkg_spline.guess(median_filter(xrd_int, size=(size)), tth)\n",
    "bkg_fit = bkg_spline.fit(median_filter(xrd_int, size=(size)), params, x=tth)\n",
    "bkg = bkg_fit.best_fit"
   ]
  },
  {
   "cell_type": "code",
   "execution_count": 24,
   "metadata": {},
   "outputs": [],
   "source": [
    "fig, ax = plt.subplots(1, 1, figsize=(5, 5), dpi=200)\n",
    "\n",
    "#bkg = rolling_ball(xrd_int, radius=50)\n",
    "#bkg_spline = UnivariateSpline(tth, xrd_int)\n",
    "#bkg_spline.set_smoothing_factor(6e7)\n",
    "#bkg = bkg_spline(tth)\n",
    "\n",
    "ax.plot(tth, xrd_int, label='exp')\n",
    "ax.plot(tth, median_filter(xrd_int, size=(size)), label='median')\n",
    "ax.plot(tth, bkg, label='bkg')\n",
    "ax.legend()\n",
    "\n",
    "fig.show()"
   ]
  },
  {
   "cell_type": "code",
   "execution_count": 11,
   "metadata": {},
   "outputs": [],
   "source": [
    "fig, ax = plt.subplots(1, 1, figsize=(8, 5), dpi=200)\n",
    "colors = matplotlib.color_sequences['tab10']\n",
    "\n",
    "norm_xrd_int = rescale_array(xrd_int - bkg, upper=100, arr_min=0)\n",
    "\n",
    "phases = [hematite, iron, iron_alpha, iron_beta, iron_delta, cementite, zincite]\n",
    "[phase.get_hkl_reflections(tth_range=(tth[0], tth[-1]), en=ai.energy*1e3) for phase in phases if phase.reflections is None];\n",
    "\n",
    "xrd_plot = ax.plot(tth, norm_xrd_int, label='Composite XRD', c='k', zorder=(len(phases) + 1))\n",
    "fig.subplots_adjust(right=0.75)\n",
    "\n",
    "def update_max(LineCollection, phase, slider):\n",
    "    seg = np.asarray(LineCollection.get_segments())\n",
    "    seg[:, 1, 1] = slider.val * phase.reflections['int'] / np.min(phase.reflections['int'])\n",
    "    return seg\n",
    "\n",
    "lines = [xrd_plot]\n",
    "slider_lst = []\n",
    "update_lst = []\n",
    "\n",
    "def update_factory(index):\n",
    "    def update(val):\n",
    "        lines[index + 1].set_segments(update_max(lines[index + 1], phases[index], slider_lst[index]))\n",
    "        fig.canvas.draw_idle()\n",
    "    return update\n",
    "\n",
    "slider_vpos = np.linspace(0.8, 0.1, len(phases))\n",
    "for i, phase in enumerate(phases):\n",
    "    phase_intensities = phase.reflections['int']\n",
    "    phase_scale = np.max(norm_xrd_int) / np.max(phase_intensities)\n",
    "    phase_plot = ax.vlines(phase.reflections['tth'], ymin=0, ymax=0, color=colors[i], lw=2)\n",
    "    lines.append(phase_plot)\n",
    "\n",
    "    axphase = fig.add_axes([0.8, slider_vpos[i], 0.1, 0.03])\n",
    "    axphase.set_title(phase.name, fontsize=10)\n",
    "    phase_amp = Slider(\n",
    "            ax=axphase,\n",
    "            label='',\n",
    "            valmin=0,\n",
    "            valmax=100,\n",
    "            valinit=0,\n",
    "            initcolor='none',\n",
    "            color = colors[i],\n",
    "            handle_style={'edgecolor' : colors[i], 'size' : 8}\n",
    "            )\n",
    "    \n",
    "    slider_lst.append(phase_amp)\n",
    "    update_lst.append(update_factory(i))\n",
    "    slider_lst[i].on_changed(update_lst[i])\n",
    "\n",
    "ax.set_ylim(0)\n",
    "ax.set_xlabel('Scattering Angle, 2θ [°]')\n",
    "ax.set_title('Phase Selector')\n",
    "ax.legend(fontsize=10)\n",
    "fig.show()"
   ]
  },
  {
   "cell_type": "code",
   "execution_count": null,
   "metadata": {},
   "outputs": [],
   "source": []
  },
  {
   "cell_type": "code",
   "execution_count": 12,
   "metadata": {},
   "outputs": [
    {
     "ename": "ValueError",
     "evalue": "maximum supported dimension for an ndarray is 32, found 61",
     "output_type": "error",
     "traceback": [
      "\u001b[1;31m---------------------------------------------------------------------------\u001b[0m",
      "\u001b[1;31mValueError\u001b[0m                                Traceback (most recent call last)",
      "\u001b[1;32mc:\\Users\\emusterma\\OneDrive - Brookhaven National Laboratory\\Documents\\Postdoc\\Repositories\\SRX_sXRD_analysis\\testing_notebooks\\phase_selection.ipynb Cell 15\u001b[0m line \u001b[0;36m1\n\u001b[1;32m----> <a href='vscode-notebook-cell:/c%3A/Users/emusterma/OneDrive%20-%20Brookhaven%20National%20Laboratory/Documents/Postdoc/Repositories/SRX_sXRD_analysis/testing_notebooks/phase_selection.ipynb#X41sZmlsZQ%3D%3D?line=0'>1</a>\u001b[0m test_map \u001b[39m=\u001b[39m ImageMap(proc_map)\n",
      "\u001b[1;31mValueError\u001b[0m: maximum supported dimension for an ndarray is 32, found 61"
     ]
    }
   ],
   "source": [
    "test_map = ImageMap."
   ]
  },
  {
   "cell_type": "code",
   "execution_count": null,
   "metadata": {},
   "outputs": [],
   "source": []
  }
 ],
 "metadata": {
  "kernelspec": {
   "display_name": "Python 3",
   "language": "python",
   "name": "python3"
  },
  "language_info": {
   "codemirror_mode": {
    "name": "ipython",
    "version": 3
   },
   "file_extension": ".py",
   "mimetype": "text/x-python",
   "name": "python",
   "nbconvert_exporter": "python",
   "pygments_lexer": "ipython3",
   "version": "3.11.5"
  }
 },
 "nbformat": 4,
 "nbformat_minor": 2
}
