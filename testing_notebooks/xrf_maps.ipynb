{
 "cells": [
  {
   "cell_type": "code",
   "execution_count": 1,
   "metadata": {},
   "outputs": [
    {
     "name": "stderr",
     "output_type": "stream",
     "text": [
      "100%|██████████| 23/23 [00:12<00:00,  1.80it/s]\n"
     ]
    }
   ],
   "source": [
    "import os\n",
    "import matplotlib.pyplot as plt\n",
    "import numpy as np\n",
    "#from tqdm.auto import tqdm\n",
    "from tqdm import tqdm\n",
    "plt.ioff();\n",
    "try:\n",
    "    maindir\n",
    "except NameError:\n",
    "    maindir = os.path.dirname(os.getcwd())\n",
    "for module in tqdm(os.listdir(maindir + '\\\\testing_modules')):\n",
    "    %run -i \"{maindir}\\\\testing_modules\\\\{module}\"\n",
    "base = os.path.dirname(os.path.dirname(maindir)) + '\\\\'\n",
    "plt.ion();\n",
    "np.set_printoptions(suppress=True)\n",
    "plt.close('All')"
   ]
  },
  {
   "cell_type": "code",
   "execution_count": 2,
   "metadata": {},
   "outputs": [],
   "source": [
    "%matplotlib qt\n",
    "from matplotlib.widgets import Slider"
   ]
  },
  {
   "cell_type": "code",
   "execution_count": 3,
   "metadata": {},
   "outputs": [],
   "source": [
    "base = 'D:\\\\Musterman_postdoc\\\\20240223_Musterman\\\\'\n",
    "xrf_dir = f'{base}xrf_maps\\\\'"
   ]
  },
  {
   "cell_type": "code",
   "execution_count": 4,
   "metadata": {},
   "outputs": [],
   "source": [
    "base_scan = 153000\n",
    "FXI_first = [102, 104, 108, 110, 112, 114, 116, 118, 120, 122, 124, 126, 128, 130, 132, 134, 136, 138, 140, 143, 145]\n",
    "FXI_second = [157, 159, 161, 163, 165, 167, 169, 171, 173, 175, 177, 179, 181, 183, 185, 187, 189, 191, 193, 195, 197, 199, 201, 203, 205, 207, 209, 211, 213, 215]\n",
    "LiNbO = [253, 255, 257, 259, 261, 263, 265, 267, 269, 271, 273, 275, 277, 279, 281, 283, 285, 287, 289, 291, 293, 295, 297]\n",
    "BNL_inner = [485, 487, 489, 491, 493, 495, 502, 504, 506, 508, 510]"
   ]
  },
  {
   "cell_type": "code",
   "execution_count": 184,
   "metadata": {},
   "outputs": [],
   "source": [
    "energy_list = []\n",
    "data_list = []\n",
    "\n",
    "for scan in base_scan + np.array(LiNbO):\n",
    "    with h5py.File(f'{xrf_dir}scan2D_{scan}_xs_sum8ch.h5', 'r') as f:\n",
    "\n",
    "        xrf_fit_names = [d.decode('utf-8') for d in f['xrfmap/detsum/xrf_fit_name'][:]]\n",
    "        xrf_fit = f['xrfmap/detsum/xrf_fit'][:]\n",
    "\n",
    "        i0 = f['xrfmap/scalers/val'][..., 0]\n",
    "        xrf_fit = np.concatenate((xrf_fit, np.expand_dims(i0, axis=0)), axis=0)\n",
    "        xrf_fit_names.append('i0')\n",
    "\n",
    "        xrf_dict = dict(zip(xrf_fit_names, xrf_fit))\n",
    "        energy = f['xrfmap/scan_metadata'].attrs['instrument_mono_incident_energy']\n",
    "\n",
    "    energy_list.append(energy)\n",
    "    data_list.append(xrf_dict)\n",
    "\n",
    "#sort_data = sorted(zip(energy_list, data_list), key=lambda pair: pair[0])\n",
    "#energy_list = [y for (y, x) in sort_data]\n",
    "#data_list = [x for (y, x) in sort_data]"
   ]
  },
  {
   "cell_type": "code",
   "execution_count": 47,
   "metadata": {},
   "outputs": [],
   "source": [
    "element_key = 'Sb_L'\n",
    "fig = plt.figure(figsize=(5, 5), dpi=200)\n",
    "ax = fig.add_axes([0.1, 0.1, 0.5, 0.8])\n",
    "\n",
    "element_img = ax.imshow(data_list[0][element_key] / data_list[0]['i0'])\n",
    "\n",
    "slider_ax = fig.add_axes([0.7, 0.1, 0.03, 0.8])\n",
    "energy_slider = Slider(\n",
    "    ax=slider_ax,\n",
    "    label='Index',\n",
    "    valmin=0,\n",
    "    valmax=len(energy_list) - 1,\n",
    "    valinit=0,\n",
    "    orientation='vertical'\n",
    ")\n",
    "\n",
    "# The function to be called anytime a slider's value changes\n",
    "def update(val):\n",
    "    global element_img\n",
    "    val_ind = int(np.round(val, 0))\n",
    "    element_img.remove()\n",
    "    element_img = ax.imshow(data_list[val_ind][element_key] / data_list[val_ind]['i0'])\n",
    "    fig.canvas.draw_idle()\n",
    "    \n",
    "energy_slider.on_changed(update)\n",
    "\n",
    "plt.show()"
   ]
  },
  {
   "cell_type": "code",
   "execution_count": 186,
   "metadata": {},
   "outputs": [],
   "source": [
    "save_dir = f'{base}plots//'\n",
    "\n",
    "element_key = 'Er_L'\n",
    "for ind in range(len(data_list)):\n",
    "    fig, ax = plt.subplots(1, 1, figsize=(5, 5), dpi=200)\n",
    "\n",
    "    scaler = data_list[ind]['i0'].copy()\n",
    "    scaler[scaler < 1000] = np.mean(scaler)\n",
    "    scaler[scaler > 1e6] = np.median(scaler)\n",
    "\n",
    "    ax.imshow(data_list[ind][element_key] / scaler, vmin=0.2, vmax=0.35)\n",
    "\n",
    "    plt.savefig(f'{save_dir}LiNbO_{ind}.png', transparent=True)\n",
    "    plt.close()"
   ]
  },
  {
   "cell_type": "code",
   "execution_count": null,
   "metadata": {},
   "outputs": [],
   "source": []
  },
  {
   "cell_type": "code",
   "execution_count": 9,
   "metadata": {},
   "outputs": [],
   "source": [
    "element_key = 'Pt_L'\n",
    "fig = plt.figure(figsize=(5, 5), dpi=200)\n",
    "ax = fig.add_axes([0.1, 0.1, 0.5, 0.8])\n",
    "\n",
    "element_img = ax.imshow(data_list[0][element_key] / data_list[0]['i0'])\n",
    "\n",
    "slider_ax = fig.add_axes([0.7, 0.1, 0.03, 0.8])\n",
    "energy_slider = Slider(\n",
    "    ax=slider_ax,\n",
    "    label='Energy [keV]',\n",
    "    valmin=energy_list[0],\n",
    "    valmax=energy_list[-1],\n",
    "    valinit=energy_list[0],\n",
    "    orientation='vertical'\n",
    ")\n",
    "\n",
    "# The function to be called anytime a slider's value changes\n",
    "def update(val):\n",
    "    global element_img\n",
    "    diff_arr = np.array(energy_list) - val\n",
    "    val_ind = np.argmin(np.abs(diff_arr))\n",
    "    element_img.remove()\n",
    "    element_img = ax.imshow(data_list[val_ind][element_key] / data_list[val_ind]['i0'])\n",
    "    fig.canvas.draw_idle()\n",
    "    \n",
    "energy_slider.on_changed(update)\n",
    "\n",
    "plt.show()"
   ]
  },
  {
   "cell_type": "code",
   "execution_count": null,
   "metadata": {},
   "outputs": [],
   "source": []
  },
  {
   "cell_type": "code",
   "execution_count": null,
   "metadata": {},
   "outputs": [],
   "source": []
  },
  {
   "cell_type": "code",
   "execution_count": 187,
   "metadata": {},
   "outputs": [],
   "source": [
    "ind = 13\n",
    "element = 'Sb_L'\n",
    "ref_image = data_list[0][element] / data_list[0]['i0']\n",
    "moving_image = data_list[ind][element] / data_list[ind]['i0']"
   ]
  },
  {
   "cell_type": "code",
   "execution_count": 188,
   "metadata": {},
   "outputs": [
    {
     "name": "stdout",
     "output_type": "stream",
     "text": [
      "[-6.618 -0.104]\n"
     ]
    }
   ],
   "source": [
    "from skimage.registration import phase_cross_correlation\n",
    "\n",
    "shift, error, phasediff = phase_cross_correlation(ref_image, moving_image, upsample_factor=1000, normalization=None)\n",
    "print(shift)"
   ]
  },
  {
   "cell_type": "code",
   "execution_count": null,
   "metadata": {},
   "outputs": [],
   "source": []
  },
  {
   "cell_type": "code",
   "execution_count": 189,
   "metadata": {},
   "outputs": [],
   "source": [
    "fig, ax = plt.subplots(1, 1, figsize=(5, 5), dpi=200)\n",
    "\n",
    "ax.imshow(ref_image, extent=[0, ref_image.shape[1], 0, ref_image.shape[0]])\n",
    "\n",
    "ax.set_xlim(0, ref_image.shape[1])\n",
    "ax.set_ylim(0, ref_image.shape[0])\n",
    "\n",
    "plt.show()"
   ]
  },
  {
   "cell_type": "code",
   "execution_count": 190,
   "metadata": {},
   "outputs": [],
   "source": [
    "fig, ax = plt.subplots(1, 1, figsize=(5, 5), dpi=200)\n",
    "\n",
    "ax.imshow(moving_image, extent=[0 + shift[1],\n",
    "                                ref_image.shape[1] + shift[1],\n",
    "                                0 - shift[0],\n",
    "                                ref_image.shape[0] - shift[0]])\n",
    "\n",
    "ax.set_xlim(0, ref_image.shape[1])\n",
    "ax.set_ylim(0, ref_image.shape[0])\n",
    "\n",
    "plt.show()"
   ]
  },
  {
   "cell_type": "code",
   "execution_count": null,
   "metadata": {},
   "outputs": [],
   "source": []
  },
  {
   "cell_type": "code",
   "execution_count": 50,
   "metadata": {},
   "outputs": [],
   "source": [
    "from skimage.transform import warp_polar, rotate"
   ]
  },
  {
   "cell_type": "code",
   "execution_count": 163,
   "metadata": {},
   "outputs": [],
   "source": [
    "def rotation_scale_translation(reference_image, moving_image, rotation_upsample=1000, shift_upsample=1000, bandpass=(0, 1), fix_rotation=False):\n",
    "    from skimage.filters import window, difference_of_gaussians\n",
    "    from scipy.fft import fft2, fftshift\n",
    "    from skimage.transform import warp_polar, rotate\n",
    "    from skimage.registration import phase_cross_correlation\n",
    "    \n",
    "    if not fix_rotation:\n",
    "        # Image bandpass\n",
    "        reference_image = difference_of_gaussians(reference_image, *bandpass)\n",
    "        moving_image = difference_of_gaussians(moving_image, *bandpass)\n",
    "\n",
    "        # Window images\n",
    "        ref_wimage = reference_image * window('hann', reference_image.shape)\n",
    "        mov_wimage = moving_image * window('hann', reference_image.shape)\n",
    "\n",
    "        # work with shifted FFT magnitudes\n",
    "        ref_fs = np.abs(fftshift(fft2(ref_wimage)))\n",
    "        mov_fs = np.abs(fftshift(fft2(mov_wimage)))\n",
    "\n",
    "        # Create log-polar transform\n",
    "        shape = ref_fs.shape\n",
    "        radius = shape[0] // 8  # only take lower frequencies\n",
    "        warped_ref_fs = warp_polar(ref_fs, radius=radius, output_shape=shape,\n",
    "                                scaling='log', order=0)\n",
    "        warped_mov_fs = warp_polar(mov_fs, radius=radius, output_shape=shape,\n",
    "                                scaling='log', order=0)\n",
    "        \n",
    "        # Register shift in polar space with half of FFT\n",
    "        warped_ref_fs = warped_ref_fs[:shape[0] // 2, :]  # only use half of FFT\n",
    "        warped_mov_fs = warped_mov_fs[:shape[0] // 2, :]\n",
    "        polar_shift, polar_error, polar_phasediff = phase_cross_correlation(warped_ref_fs,\n",
    "                                                                            warped_mov_fs,\n",
    "                                                                            upsample_factor=rotation_upsample,\n",
    "                                                                            normalization=None)\n",
    "        \n",
    "        # Convert to useful parameters\n",
    "        shiftr, shiftc = polar_shift[:2]\n",
    "        angle = (360 / shape[0]) * shiftr\n",
    "        klog = shape[1] / np.log(radius)\n",
    "        scale = np.exp(shiftc / klog)\n",
    "\n",
    "        # Correct image and register translation\n",
    "        # adj_image = rescale(moving_image, 2 - scale) # this seem wrong\n",
    "        adj_image = rotate(moving_image, -angle)\n",
    "        # adj_image = rescale\n",
    "    else:\n",
    "        angle = 0\n",
    "        scale = 0\n",
    "        adj_image = moving_image\n",
    "\n",
    "    trans_shift, trans_error, trans_phasediff = phase_cross_correlation(ref_image,\n",
    "                                                                        adj_image,\n",
    "                                                                        upsample_factor=shift_upsample,\n",
    "                                                                        normalization=None)\n",
    "    \n",
    "    return angle, scale, trans_shift"
   ]
  },
  {
   "cell_type": "code",
   "execution_count": null,
   "metadata": {},
   "outputs": [],
   "source": []
  },
  {
   "cell_type": "code",
   "execution_count": 108,
   "metadata": {},
   "outputs": [],
   "source": [
    "fig, ax = plt.subplots(1, 1, figsize=(5, 5), dpi=200)\n",
    "\n",
    "index = 3\n",
    "\n",
    "scaler = data_list[index]['i0'].copy()\n",
    "scaler[scaler < 1000] = np.mean(scaler)\n",
    "\n",
    "moving_image = data_list[index][element] / scaler\n",
    "\n",
    "ax.imshow(moving_image)\n",
    "\n",
    "plt.show()"
   ]
  },
  {
   "cell_type": "code",
   "execution_count": 178,
   "metadata": {},
   "outputs": [
    {
     "name": "stdout",
     "output_type": "stream",
     "text": [
      "0.000 0.00 [34.907 73.139]\n",
      "0.000 0.00 [-43.144 -80.854]\n",
      "0.000 0.00 [ 13.999 -44.922]\n",
      "0.000 0.00 [0.005 0.004]\n",
      "0.000 0.00 [-0.102  0.694]\n",
      "0.000 0.00 [0.145 0.336]\n",
      "0.000 0.00 [-0.026  0.567]\n",
      "0.000 0.00 [0.651 0.16 ]\n",
      "0.000 0.00 [ 0.827 -0.038]\n",
      "0.000 0.00 [ 1.204 -0.505]\n",
      "0.000 0.00 [1.162 0.012]\n",
      "0.000 0.00 [1.663 0.518]\n",
      "0.000 0.00 [ 1.693 -0.283]\n",
      "0.000 0.00 [ 1.905 -0.842]\n",
      "0.000 0.00 [ 2.339 -0.242]\n",
      "0.000 0.00 [ 2.389 -0.261]\n",
      "0.000 0.00 [3.12 0.02]\n",
      "0.000 0.00 [3.235 0.06 ]\n",
      "0.000 0.00 [3.207 0.448]\n",
      "0.000 0.00 [ 3.242 -0.377]\n",
      "0.000 0.00 [3.526 0.325]\n",
      "0.000 0.00 [4.016 0.053]\n",
      "0.000 0.00 [ 4.353 -0.165]\n"
     ]
    }
   ],
   "source": [
    "element = 'Er_L'\n",
    "ref_image = data_list[3][element] / data_list[3]['i0']\n",
    "ref_image[ref_image < 0.88*np.max(ref_image)] = 0\n",
    "\n",
    "angle_list, scale_list, shift_list = [], [], []\n",
    "\n",
    "for index in range(len(data_list)):\n",
    "\n",
    "    scaler = data_list[index]['i0'].copy()\n",
    "    scaler[scaler < 1000] = np.mean(scaler)\n",
    "    scaler[scaler > 1e6] = np.median(scaler)\n",
    "\n",
    "    moving_image = data_list[index][element] / scaler\n",
    "\n",
    "    moving_image[moving_image < 0.89*np.max(moving_image)] = 0\n",
    "\n",
    "    if index == 15:\n",
    "        #break\n",
    "        pass\n",
    "\n",
    "    angle, scale, trans_shift = rotation_scale_translation(ref_image, moving_image, bandpass=(0, 1), fix_rotation=True)\n",
    "    print(f'{angle:.3f}', f'{scale:.2f}', trans_shift)\n",
    "    angle_list.append(angle)\n",
    "    scale_list.append(scale_list)\n",
    "    shift_list.append(trans_shift)"
   ]
  },
  {
   "cell_type": "code",
   "execution_count": 183,
   "metadata": {},
   "outputs": [],
   "source": [
    "fig, ax = plt.subplots(1, 1, figsize=(5, 5), dpi=200)\n",
    "\n",
    "ax.plot(range(len(angle_list[3:])), [x[0] for x in shift_list[3:]])\n",
    "ax.plot(range(len(angle_list[3:])), [x[1] for x in shift_list[3:]])\n",
    "\n",
    "plt.show()"
   ]
  },
  {
   "cell_type": "code",
   "execution_count": 155,
   "metadata": {},
   "outputs": [],
   "source": [
    "fig, ax = plt.subplots(1, 1, figsize=(5, 5), dpi=200)\n",
    "\n",
    "\n",
    "im = ax.imshow(moving_image)\n",
    "fig.colorbar(im, ax=ax)\n",
    "\n",
    "plt.show()"
   ]
  },
  {
   "cell_type": "code",
   "execution_count": 161,
   "metadata": {},
   "outputs": [],
   "source": [
    "fig, ax = plt.subplots(1, 1, figsize=(5, 5), dpi=200)\n",
    "\n",
    "index=20\n",
    "\n",
    "scaler = data_list[index]['i0'].copy()\n",
    "scaler[scaler < 1000] = np.mean(scaler)\n",
    "scaler[scaler > 1e6] = np.median(scaler)\n",
    "\n",
    "moving_image = data_list[index][element] / scaler\n",
    "\n",
    "im = ax.imshow(moving_image, vmin=0.88*np.max(moving_image), vmax=0.35)\n",
    "fig.colorbar(im, ax=ax)\n",
    "\n",
    "plt.show()"
   ]
  },
  {
   "cell_type": "code",
   "execution_count": null,
   "metadata": {},
   "outputs": [],
   "source": []
  },
  {
   "cell_type": "code",
   "execution_count": 175,
   "metadata": {},
   "outputs": [],
   "source": [
    "save_dir = f'{base}plots//'\n",
    "\n",
    "element_key = 'Sb_L'\n",
    "\n",
    "def _plot_image(index):\n",
    "    scaler = data_list[index]['i0'].copy()\n",
    "    scaler[scaler < 1000] = np.mean(scaler)\n",
    "    scaler[scaler > 1e6] = np.median(scaler)\n",
    "\n",
    "    plot_img = data_list[index][element_key] / scaler\n",
    "    plot_img = rotate(plot_img, -angle_list[index])\n",
    "    shift = shift_list[index]\n",
    "    #print(shift)\n",
    "\n",
    "    element_img = ax.imshow(plot_img, extent=[0 + shift[1],\n",
    "                                              ref_image.shape[1] + shift[1],\n",
    "                                              0 - shift[0],\n",
    "                                              ref_image.shape[0] - shift[0]])\n",
    "    \n",
    "    return element_img\n",
    "\n",
    "for ind in range(len(data_list)):\n",
    "    fig, ax = plt.subplots(1, 1, figsize=(5, 5), dpi=200)\n",
    "\n",
    "    ax.set_xlim(0, ref_image.shape[1])\n",
    "    ax.set_ylim(0, ref_image.shape[0])\n",
    "\n",
    "    _plot_image(ind)\n",
    "\n",
    "    plt.savefig(f'{save_dir}BNL_inner_aligned_{ind}.png', transparent=True)\n",
    "    plt.close()"
   ]
  },
  {
   "cell_type": "code",
   "execution_count": 174,
   "metadata": {},
   "outputs": [],
   "source": [
    "element_key = 'Sb_L'\n",
    "ref_image = data_list[0][element] / data_list[0]['i0']\n",
    "\n",
    "\n",
    "fig = plt.figure(figsize=(5, 5), dpi=200)\n",
    "ax = fig.add_axes([0.1, 0.1, 0.5, 0.8])\n",
    "\n",
    "def _plot_image(index):\n",
    "    scaler = data_list[index]['i0'].copy()\n",
    "    scaler[scaler < 1000] = np.mean(scaler)\n",
    "    scaler[scaler > 1e6] = np.median(scaler)\n",
    "\n",
    "    plot_img = data_list[index][element_key] / scaler\n",
    "    plot_img = rotate(plot_img, -angle_list[index])\n",
    "    shift = shift_list[index]\n",
    "    #print(shift)\n",
    "\n",
    "    element_img = ax.imshow(plot_img, extent=[0 + shift[1],\n",
    "                                              ref_image.shape[1] + shift[1],\n",
    "                                              0 - shift[0],\n",
    "                                              ref_image.shape[0] - shift[0]],\n",
    "                                              vmin=0.2, vmax=0.35)\n",
    "    \n",
    "    return element_img\n",
    "\n",
    "element_img = _plot_image(0)\n",
    "#element_img = ax.imshow(data_list[0][element_key] / data_list[0]['i0'])\n",
    "\n",
    "ax.set_xlim(0, ref_image.shape[1])\n",
    "ax.set_ylim(0, ref_image.shape[0])\n",
    "\n",
    "slider_ax = fig.add_axes([0.7, 0.1, 0.03, 0.8])\n",
    "energy_slider = Slider(\n",
    "    ax=slider_ax,\n",
    "    label='Index',\n",
    "    valmin=0,\n",
    "    valmax=len(energy_list) - 1,\n",
    "    valinit=0,\n",
    "    orientation='vertical'\n",
    ")\n",
    "\n",
    "# The function to be called anytime a slider's value changes\n",
    "def update(val):\n",
    "    global element_img\n",
    "    val_ind = int(np.round(val, 0))\n",
    "    element_img.remove()\n",
    "    element_img = _plot_image(val_ind)\n",
    "    #element_img = ax.imshow(data_list[val_ind][element_key] / data_list[val_ind]['i0'])\n",
    "    fig.canvas.draw_idle()\n",
    "    \n",
    "energy_slider.on_changed(update)\n",
    "\n",
    "plt.show()"
   ]
  },
  {
   "cell_type": "code",
   "execution_count": 246,
   "metadata": {},
   "outputs": [],
   "source": [
    "fig, ax = plt.subplots(1, 1, figsize=(5, 5), dpi=200)\n",
    "\n",
    "ax.imshow(ref_image, extent=[0, ref_image.shape[1], 0, ref_image.shape[0]])\n",
    "\n",
    "ax.set_xlim(0, ref_image.shape[1])\n",
    "ax.set_ylim(0, ref_image.shape[0])\n",
    "\n",
    "plt.show()"
   ]
  },
  {
   "cell_type": "code",
   "execution_count": 247,
   "metadata": {},
   "outputs": [],
   "source": [
    "fig, ax = plt.subplots(1, 1, figsize=(5, 5), dpi=200)\n",
    "\n",
    "ax.imshow(rotate(moving_image, -recovered_angle), extent=[0 + shift[1],\n",
    "                                ref_image.shape[1] + shift[1],\n",
    "                                0 - shift[0],\n",
    "                                ref_image.shape[0] - shift[0]])\n",
    "\n",
    "ax.set_xlim(0, ref_image.shape[1])\n",
    "ax.set_ylim(0, ref_image.shape[0])\n",
    "\n",
    "plt.show()"
   ]
  },
  {
   "cell_type": "code",
   "execution_count": null,
   "metadata": {},
   "outputs": [],
   "source": []
  }
 ],
 "metadata": {
  "kernelspec": {
   "display_name": "Python 3",
   "language": "python",
   "name": "python3"
  },
  "language_info": {
   "codemirror_mode": {
    "name": "ipython",
    "version": 3
   },
   "file_extension": ".py",
   "mimetype": "text/x-python",
   "name": "python",
   "nbconvert_exporter": "python",
   "pygments_lexer": "ipython3",
   "version": "3.11.5"
  }
 },
 "nbformat": 4,
 "nbformat_minor": 2
}
