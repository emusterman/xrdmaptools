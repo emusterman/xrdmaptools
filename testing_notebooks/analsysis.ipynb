{
 "cells": [
  {
   "cell_type": "code",
   "execution_count": 1,
   "metadata": {},
   "outputs": [
    {
     "name": "stderr",
     "output_type": "stream",
     "text": [
      "100%|██████████| 22/22 [02:31<00:00,  6.89s/it]\n"
     ]
    }
   ],
   "source": [
    "import os\n",
    "import matplotlib.pyplot as plt\n",
    "import numpy as np\n",
    "#from tqdm.auto import tqdm\n",
    "from tqdm import tqdm\n",
    "plt.ioff();\n",
    "try:\n",
    "    maindir\n",
    "except NameError:\n",
    "    maindir = os.path.dirname(os.getcwd())\n",
    "for module in tqdm(os.listdir(maindir + '\\\\testing_modules')):\n",
    "    %run -i \"{maindir}\\\\testing_modules\\\\{module}\"\n",
    "base = os.path.dirname(os.path.dirname(maindir)) + '\\\\'\n",
    "plt.ion();\n",
    "np.set_printoptions(suppress=True)\n",
    "plt.close('All')"
   ]
  },
  {
   "cell_type": "code",
   "execution_count": 2,
   "metadata": {},
   "outputs": [],
   "source": [
    "%matplotlib qt\n",
    "import skimage.io as io\n",
    "import xarray as xr\n",
    "from collections import OrderedDict\n",
    "import dask\n",
    "from tqdm.dask import TqdmCallback\n",
    "from sklearn.metrics.pairwise import euclidean_distances\n",
    "from matplotlib import cm"
   ]
  },
  {
   "cell_type": "code",
   "execution_count": 4,
   "metadata": {},
   "outputs": [
    {
     "name": "stdout",
     "output_type": "stream",
     "text": [
      "Loading data from h5 file...\n",
      "Loading most recent images (raw_images)...done!\n",
      "Loading reciprocal positions...done!\n",
      "Loading saved phases...done!\n",
      "Loading reflection spots...done!\n",
      "XRD Map loaded!\n"
     ]
    }
   ],
   "source": [
    "scanid = 149566\n",
    "filedir = '''D:\\\\Musterman_postdoc\\\\20231109_Musterman\\\\'''\n",
    "filedir = '''C:\\\\Users\\\\emusterma\\\\OneDrive - Brookhaven National Laboratory\\\\Documents\\\\Postdoc\\\\Data\\\\Condensed Datasets\\\\'''\n",
    "h5_filename = f'scan{scanid}_xrd.h5'\n",
    "\n",
    "test = XRDMap.from_h5(h5_filename, wd=filedir)"
   ]
  },
  {
   "cell_type": "code",
   "execution_count": 106,
   "metadata": {},
   "outputs": [
    {
     "name": "stdout",
     "output_type": "stream",
     "text": [
      "Loading data from h5 file...\n",
      "Loading most recent images (raw_images)..."
     ]
    }
   ],
   "source": [
    "scanid = 149248\n",
    "#filedir = '''D:\\\\Musterman_postdoc\\\\20231109_Musterman\\\\'''\n",
    "filedir = '''D:\\\\Musterman_postdoc\\\\20231030_Musterman\\\\'''\n",
    "filedir = '''C:\\\\Users\\\\emusterma\\\\OneDrive - Brookhaven National Laboratory\\\\Documents\\\\Postdoc\\\\Data\\\\Condensed Datasets\\\\'''\n",
    "h5_filename = f'scan{scanid}_xrd.h5'\n",
    "\n",
    "test = XRDMap.from_h5(h5_filename, wd=filedir)"
   ]
  },
  {
   "cell_type": "code",
   "execution_count": null,
   "metadata": {},
   "outputs": [],
   "source": [
    "scanid = 149248\n",
    "filedir = '''D:\\\\Musterman_postdoc\\\\20231030_Musterman\\\\'''\n",
    "filedir = '''C:\\\\Users\\\\emusterma\\\\OneDrive - Brookhaven National Laboratory\\\\Documents\\\\Postdoc\\\\Data\\\\Condensed Datasets\\\\'''\n",
    "map_filename = f'scan{scanid}_dexela_xrd.tif'\n",
    "h5_filename = f'scan{scanid}_xrd.h5'\n",
    "\n",
    "test = XRDMap.from_image_stack(map_filename, wd=filedir, energy=15, scanid=scanid)\n",
    "dark_field = io.imread(f'{filedir}dexela_df_avg.tif')\n",
    "test.set_calibration('scan149256_dexela_calibration.poni')"
   ]
  },
  {
   "cell_type": "code",
   "execution_count": 3,
   "metadata": {},
   "outputs": [
    {
     "name": "stdout",
     "output_type": "stream",
     "text": [
      "Loading images...done!\n",
      "Writing images to h5...done!\n"
     ]
    }
   ],
   "source": [
    "scanid = 149566\n",
    "filedir = '''D:\\\\Musterman_postdoc\\\\20231109_Musterman\\\\'''\n",
    "filedir = '''C:\\\\Users\\\\emusterma\\\\OneDrive - Brookhaven National Laboratory\\\\Documents\\\\Postdoc\\\\Data\\\\Condensed Datasets\\\\'''\n",
    "map_filename = f'scan{scanid}_dexela_xrd.tif'\n",
    "h5_filename = f'scan{scanid}_xrd.h5'\n",
    "\n",
    "test = XRDMap.from_image_stack(map_filename, wd=filedir, energy=15, scanid=scanid)\n",
    "test.set_calibration('scan149562_dexela_calibration.poni')"
   ]
  },
  {
   "cell_type": "code",
   "execution_count": 319,
   "metadata": {},
   "outputs": [
    {
     "name": "stdout",
     "output_type": "stream",
     "text": [
      "Loading images...done!\n",
      "Calibration performed under different settings. Adjusting calibration.\n"
     ]
    }
   ],
   "source": [
    "filedir = '''D:\\\\Musterman_postdoc\\\\20240125_Musterman\\\\'''\n",
    "scanid = 152636\n",
    "\n",
    "test = XRDMap.from_image_stack('scan152636_dexela_energy_rc.tif', wd=filedir + 'amended\\\\', energy=12, scanid=scanid, save_hdf=False)\n",
    "test.set_calibration('scan152648_calibration.poni', filedir=filedir)"
   ]
  },
  {
   "cell_type": "code",
   "execution_count": null,
   "metadata": {},
   "outputs": [],
   "source": []
  },
  {
   "cell_type": "code",
   "execution_count": 689,
   "metadata": {},
   "outputs": [],
   "source": [
    "def estimate_depth_error(xrdmap, thickness):\n",
    "\n",
    "    # Check input type \n",
    "    try:\n",
    "        bounds = list(iter(thickness))\n",
    "    except TypeError:\n",
    "        bounds = [thickness, -thickness]\n",
    " \n",
    "    # Retrieve pixel coordinates\n",
    "    zyx = xrdmap.ai.position_array()\n",
    "    # The beamline coordinates flip the x direction\n",
    "    xyz = np.asarray([zyx[:, :, 2], zyx[:, :, 1], zyx[:, :, 0]])\n",
    "\n",
    "    # Fit detector to a plane equation. Cannot handle non planar detectors...\n",
    "    popt, _ = curve_fit(plane_eq, [xyz[0].ravel(), xyz[1].ravel()], xyz[2].ravel())\n",
    "\n",
    "    tth_err = []\n",
    "    chi_err = []\n",
    "    for bound in bounds:\n",
    "        if bound == 0:\n",
    "            tth_err.append(xrdmap.tth_arr)\n",
    "            chi_err.append(xrdmap.chi_arr)\n",
    "            continue\n",
    "\n",
    "        # Intersect offset vector with detector plane\n",
    "        x, y, z = _find_intersection(0, 0, bound, xyz, popt)\n",
    "\n",
    "        # Determine the new polar coordinates from this intersection\n",
    "        # Must be arctan2 functions\n",
    "        #chi_err.append(np.degrees(np.arctan2(y, x)))\n",
    "        #tth_err.append(np.degrees(np.arctan2(np.sqrt(x**2 + y**2), z)))\n",
    "\n",
    "        chi_err.append(np.degrees(np.arccos(x / np.sqrt(x**2 + y**2))))\n",
    "        tth_err.append(np.degrees(np.arccos(z / np.sqrt(x**2 + y**2 + z**2))))\n",
    "\n",
    "\n",
    "    return np.asarray(tth_err), np.asarray(chi_err)"
   ]
  },
  {
   "cell_type": "code",
   "execution_count": 690,
   "metadata": {},
   "outputs": [],
   "source": [
    "tth_err, chi_err = estimate_depth_error(test, [0, 500e-6])"
   ]
  },
  {
   "cell_type": "code",
   "execution_count": 691,
   "metadata": {},
   "outputs": [],
   "source": [
    "d = tth_2_d(tth_err, wavelength=test.wavelength)"
   ]
  },
  {
   "cell_type": "code",
   "execution_count": 692,
   "metadata": {},
   "outputs": [],
   "source": [
    "dd = np.abs(d[0] - d[1])"
   ]
  },
  {
   "cell_type": "code",
   "execution_count": 694,
   "metadata": {},
   "outputs": [],
   "source": [
    "chi1, chi2 = chi_err.copy()\n",
    "chi1[chi1 < 0] += 360\n",
    "chi2[chi2 < 0] += 360\n",
    "\n",
    "dd = np.abs(chi1 - chi2)"
   ]
  },
  {
   "cell_type": "code",
   "execution_count": 696,
   "metadata": {},
   "outputs": [],
   "source": [
    "dd = np.abs(tth_err[0] - tth_err[1])"
   ]
  },
  {
   "cell_type": "code",
   "execution_count": 699,
   "metadata": {},
   "outputs": [],
   "source": [
    "test.plot_image(chi_err[1])"
   ]
  },
  {
   "cell_type": "code",
   "execution_count": 675,
   "metadata": {},
   "outputs": [],
   "source": [
    "# Plot detector position\n",
    "zyx = test.ai.position_array()\n",
    "\n",
    "xyz = np.asarray([zyx[:, :, 2], zyx[:, :, 1], zyx[:, :, 0]])"
   ]
  },
  {
   "cell_type": "code",
   "execution_count": 676,
   "metadata": {},
   "outputs": [
    {
     "name": "stdout",
     "output_type": "stream",
     "text": [
      "1.0\n"
     ]
    }
   ],
   "source": [
    "popt, pcov = curve_fit(plane_eq, [xyz[0].ravel(), xyz[1].ravel()], xyz[2].ravel())\n",
    "print(compute_r_squared(xyz[-1].ravel(), plane_eq([xyz[0].ravel(), xyz[1].ravel()], *popt)))"
   ]
  },
  {
   "cell_type": "code",
   "execution_count": 677,
   "metadata": {},
   "outputs": [
    {
     "data": {
      "text/plain": [
       "array([ 0.00182323, -0.00273922,  0.46392538])"
      ]
     },
     "execution_count": 677,
     "metadata": {},
     "output_type": "execute_result"
    }
   ],
   "source": [
    "popt"
   ]
  },
  {
   "cell_type": "code",
   "execution_count": 678,
   "metadata": {},
   "outputs": [],
   "source": [
    "z0 = 500e-6 #* np.sin(np.radians(test.tth_arr))"
   ]
  },
  {
   "cell_type": "code",
   "execution_count": 665,
   "metadata": {},
   "outputs": [],
   "source": [
    "def _find_intersection(x0, y0, z0, xyz, popt):\n",
    "    A, B, C = popt\n",
    "    a, b, c = xyz\n",
    "\n",
    "    t = (z0 - C - A * x0 - B * y0) / (A * a + B * b - c)\n",
    "\n",
    "    xf = x0 + t * a\n",
    "    yf = y0 + t * b\n",
    "    zf = z0 + t * c\n",
    "\n",
    "    return np.asarray([xf, yf, zf])"
   ]
  },
  {
   "cell_type": "code",
   "execution_count": 679,
   "metadata": {},
   "outputs": [],
   "source": [
    "out = _find_intersection(0, 0, z0, xyz, popt)"
   ]
  },
  {
   "cell_type": "code",
   "execution_count": 681,
   "metadata": {},
   "outputs": [
    {
     "data": {
      "text/plain": [
       "(3, 1944, 3072)"
      ]
     },
     "execution_count": 681,
     "metadata": {},
     "output_type": "execute_result"
    }
   ],
   "source": [
    "(xyz - out)**2"
   ]
  },
  {
   "cell_type": "code",
   "execution_count": 685,
   "metadata": {},
   "outputs": [],
   "source": [
    "dist = np.sqrt((xyz[0] - out[0])**2 + (xyz[0] - out[0])**2 + (xyz[0] - out[0])**2)"
   ]
  },
  {
   "cell_type": "code",
   "execution_count": 688,
   "metadata": {},
   "outputs": [],
   "source": [
    "test.plot_image(dist * 1e6)"
   ]
  },
  {
   "cell_type": "code",
   "execution_count": 565,
   "metadata": {},
   "outputs": [],
   "source": [
    "x, y, z = out\n",
    "\n",
    "# Must be arctan2 functions\n",
    "chi = np.degrees(np.arctan2(y, x))\n",
    "tth = np.degrees(np.arctan2(np.sqrt(x**2 + y**2), z))\n",
    "\n",
    "# Convert original chi to new units???\n",
    "base_chi = test.chi_arr.copy()\n",
    "\n",
    "\n",
    "#chi_err = "
   ]
  },
  {
   "cell_type": "code",
   "execution_count": 569,
   "metadata": {},
   "outputs": [
    {
     "data": {
      "text/plain": [
       "4305.315943905888"
      ]
     },
     "execution_count": 569,
     "metadata": {},
     "output_type": "execute_result"
    }
   ],
   "source": [
    "tth_2_d(0.011, wavelength=energy_2_wavelength(15e3))"
   ]
  },
  {
   "cell_type": "code",
   "execution_count": 566,
   "metadata": {},
   "outputs": [],
   "source": [
    "test.plot_image(test.tth_arr - tth)"
   ]
  },
  {
   "cell_type": "code",
   "execution_count": 489,
   "metadata": {},
   "outputs": [],
   "source": [
    "test.plot_image(test.chi_arr - chi)"
   ]
  },
  {
   "cell_type": "code",
   "execution_count": 551,
   "metadata": {},
   "outputs": [],
   "source": [
    "test.plot_image(test.chi_arr)"
   ]
  },
  {
   "cell_type": "code",
   "execution_count": 550,
   "metadata": {},
   "outputs": [],
   "source": [
    "test.plot_image(chi)"
   ]
  },
  {
   "cell_type": "code",
   "execution_count": 529,
   "metadata": {},
   "outputs": [],
   "source": [
    "# No idea why this works or when it will fail\n",
    "chi_img = 180 - chi.copy()\n",
    "chi_img[chi_img > 180] -= 360\n",
    "test.plot_image(chi_img)"
   ]
  },
  {
   "cell_type": "code",
   "execution_count": 512,
   "metadata": {},
   "outputs": [],
   "source": [
    "#chi_img = test.chi_arr.copy()\n",
    "#chi_img[chi_img < 0] += 360\n",
    "#chi_img -= 180\n",
    "#test.plot_image(chi_img)"
   ]
  },
  {
   "cell_type": "code",
   "execution_count": null,
   "metadata": {},
   "outputs": [],
   "source": []
  },
  {
   "cell_type": "code",
   "execution_count": 494,
   "metadata": {},
   "outputs": [
    {
     "data": {
      "text/plain": [
       "array([[0.25172495, 0.25165045, 0.25157595, ..., 0.02259074, 0.02251591,\n",
       "        0.02244109],\n",
       "       [0.25172474, 0.25165024, 0.25157574, ..., 0.02259072, 0.0225159 ,\n",
       "        0.02244107],\n",
       "       [0.25172452, 0.25165002, 0.25157552, ..., 0.0225907 , 0.02251588,\n",
       "        0.02244106],\n",
       "       ...,\n",
       "       [0.25129372, 0.25121935, 0.25114498, ..., 0.02255213, 0.02247743,\n",
       "        0.02240273],\n",
       "       [0.25129349, 0.25121912, 0.25114475, ..., 0.0225521 , 0.02247741,\n",
       "        0.02240271],\n",
       "       [0.25129326, 0.25121889, 0.25114452, ..., 0.02255208, 0.02247738,\n",
       "        0.02240269]])"
      ]
     },
     "execution_count": 494,
     "metadata": {},
     "output_type": "execute_result"
    }
   ],
   "source": [
    "x"
   ]
  },
  {
   "cell_type": "code",
   "execution_count": null,
   "metadata": {},
   "outputs": [],
   "source": []
  },
  {
   "cell_type": "code",
   "execution_count": 320,
   "metadata": {},
   "outputs": [
    {
     "name": "stdout",
     "output_type": "stream",
     "text": [
      "Correcting dark-field...done!\n"
     ]
    }
   ],
   "source": [
    "dwell = 1\n",
    "det_sets = '_ln_1x1_'\n",
    "\n",
    "dark_dir = '''D:\\\\Musterman_postdoc\\\\20240125_Musterman\\\\dark_fields\\\\fit_images\\\\'''\n",
    "dark_paths = np.array(os.listdir(dark_dir))\n",
    "offset_mask = [det_sets in x and 'offset' in x for x in dark_paths]\n",
    "offset_df = io.imread(f'{dark_dir}{dark_paths[offset_mask][0]}').astype(np.float32)\n",
    "scale_mask = [det_sets in x and 'slope' in x for x in dark_paths]\n",
    "slope_df = io.imread(f'{dark_dir}{dark_paths[scale_mask][0]}').astype(np.float32)\n",
    "\n",
    "dark_field = slope_df * dwell + offset_df\n",
    "scaled_df = dark_field * np.median(test.map.min_image) / np.median(dark_field)\n",
    "test.map.correct_dark_field(dark_field=dark_field)\n",
    "#test.map.correct_dark_field(dark_field=scaled_df)"
   ]
  },
  {
   "cell_type": "code",
   "execution_count": 321,
   "metadata": {},
   "outputs": [],
   "source": [
    "param = np.genfromtxt('''D:\\\\Musterman_postdoc\\\\20240125_Musterman\\\\amended\\\\scan152636_energy_rc_parameters.txt''')\n",
    "energies, i0, im, it = param.reshape(param.shape[0], 1, param.shape[-1])"
   ]
  },
  {
   "cell_type": "code",
   "execution_count": 322,
   "metadata": {},
   "outputs": [
    {
     "name": "stdout",
     "output_type": "stream",
     "text": [
      "Correcting flat-field...done!\n"
     ]
    }
   ],
   "source": [
    "flat_dir = '''D:\\\\Musterman_postdoc\\\\20240125_Musterman\\\\flat_fields\\\\'''\n",
    "flat_paths = np.array(os.listdir(flat_dir))\n",
    "flat_mask = [det_sets in x for x in flat_paths]\n",
    "flat_field = io.imread(f'{flat_dir}{flat_paths[flat_mask][0]}')\n",
    "test.map.correct_flat_field(flat_field=flat_field)"
   ]
  },
  {
   "cell_type": "code",
   "execution_count": 323,
   "metadata": {},
   "outputs": [
    {
     "name": "stdout",
     "output_type": "stream",
     "text": [
      "Normalize image scalers...done!\n"
     ]
    }
   ],
   "source": [
    "test.map.normalize_scaler(scaler_arr=i0)"
   ]
  },
  {
   "cell_type": "code",
   "execution_count": 324,
   "metadata": {},
   "outputs": [
    {
     "name": "stdout",
     "output_type": "stream",
     "text": [
      "Finding and correcting image outliers...done!\n"
     ]
    }
   ],
   "source": [
    "test.map.correct_outliers()"
   ]
  },
  {
   "cell_type": "code",
   "execution_count": 349,
   "metadata": {},
   "outputs": [],
   "source": [
    "cif_dir = '''C:\\\\Users\\\\emusterma\\\\OneDrive - Brookhaven National Laboratory\\\\Documents\\\\Postdoc\\\\Literature\\\\CIF\\\\'''\n",
    "test.clear_phases()\n",
    "test.load_phase('AMCSD\\\\Silicon_0011243.cif', filedir=cif_dir, phase_name=\"silicon1\")\n",
    "\n",
    "q_arrays = []\n",
    "polarizations = []\n",
    "lorentzs = []\n",
    "solid_angles = []\n",
    "absorptions = []\n",
    "\n",
    "exp_dict = {\n",
    "    'attenuation_length' : 0,\n",
    "    'mode' : 'transmission',\n",
    "    'thickness' : 500 # microns\n",
    "}\n",
    "\n",
    "for energy in energies.squeeze():\n",
    "    test.energy = energy\n",
    "    test._del_arr()\n",
    "    exp_dict['attenuation_length'] = test.phases['silicon1'].absorption_length(en=energy * 1e3)\n",
    "\n",
    "    test.map.apply_lorentz_correction(ai=test.ai, apply=False)\n",
    "    test.map.apply_polarization_correction(ai=test.ai, apply=False)\n",
    "    test.map.apply_solidangle_correction(ai=test.ai, apply=False)\n",
    "    test.map.apply_absorption_correction(exp_dict=exp_dict, ai=test.ai, apply=False)\n",
    "\n",
    "    q_arrays.append(test.q_arr)\n",
    "    polarizations.append(test.map.polarization_correction)\n",
    "    lorentzs.append(test.map.lorentz_correction)\n",
    "    solid_angles.append(test.map.solidangle_correction)\n",
    "    absorptions.append(test.map.absorption_correction)"
   ]
  },
  {
   "cell_type": "code",
   "execution_count": 350,
   "metadata": {},
   "outputs": [],
   "source": [
    "for i, energy in enumerate(energies.squeeze()):\n",
    "    test.map.images[0, i] /= polarizations[i]\n",
    "    test.map.images[0, i] /= lorentzs[i]\n",
    "    test.map.images[0, i] /= solid_angles[i]\n",
    "    #test.map.images[0, i] /= absorptions[i]"
   ]
  },
  {
   "cell_type": "code",
   "execution_count": 262,
   "metadata": {},
   "outputs": [
    {
     "name": "stdout",
     "output_type": "stream",
     "text": [
      "Estimating background with Bruckner algorithm.\n",
      "Warning: No mask could be constructed.\n"
     ]
    },
    {
     "name": "stderr",
     "output_type": "stream",
     "text": [
      "100%|██████████| 31/31 [00:09<00:00,  3.21it/s]\n"
     ]
    }
   ],
   "source": [
    "test.map.estimate_background(method='bruckner', binning=8, min_prominence=0.01)\n",
    "#test.map.remove_background()\n",
    "#test.map.apply_defect_mask()"
   ]
  },
  {
   "cell_type": "code",
   "execution_count": 240,
   "metadata": {},
   "outputs": [],
   "source": [
    "test.plot_image([0, 0])"
   ]
  },
  {
   "cell_type": "code",
   "execution_count": 239,
   "metadata": {},
   "outputs": [],
   "source": [
    "test.plot_image(test.map.background[0, 0])"
   ]
  },
  {
   "cell_type": "code",
   "execution_count": 263,
   "metadata": {},
   "outputs": [
    {
     "name": "stdout",
     "output_type": "stream",
     "text": [
      "Removing background...done!\n"
     ]
    }
   ],
   "source": [
    "test.map.remove_background()"
   ]
  },
  {
   "cell_type": "code",
   "execution_count": 309,
   "metadata": {},
   "outputs": [],
   "source": [
    "#test.map.apply_defect_mask(min_bounds=(-5, 1e-4), max_bounds=(-1e-4, np.inf))\n",
    "test.map.apply_defect_mask(min_bounds=(-5, 0.1), max_bounds=(-0.1, np.inf))\n",
    "test.plot_image(test.map.defect_mask)"
   ]
  },
  {
   "cell_type": "code",
   "execution_count": 310,
   "metadata": {},
   "outputs": [
    {
     "name": "stdout",
     "output_type": "stream",
     "text": [
      "Caution: Images not corrected for:\n",
      "\tpixel_distortions\n",
      "\tpolar_calibration\n",
      "\tlorentz\n",
      "\tpolarization\n",
      "\tsolid_angle\n",
      "\tabsorption\n",
      "\tbackground\n",
      "Cleaning and updating image information...\n",
      "Diffraction map size is 706.219 MB.\n",
      "Compressing and writing images to disk.\n",
      "This may take awhile...\n",
      "done!\n"
     ]
    }
   ],
   "source": [
    "test.map.rescale_images(arr_min=0)\n",
    "test.map.finalize_images()"
   ]
  },
  {
   "cell_type": "code",
   "execution_count": 201,
   "metadata": {},
   "outputs": [],
   "source": [
    "test.plot_interactive_map(img_vmin=0, img_vmax=0.01)"
   ]
  },
  {
   "cell_type": "code",
   "execution_count": null,
   "metadata": {},
   "outputs": [],
   "source": []
  },
  {
   "cell_type": "code",
   "execution_count": 725,
   "metadata": {},
   "outputs": [
    {
     "data": {
      "text/plain": [
       "3.2941490739381143"
      ]
     },
     "execution_count": 725,
     "metadata": {},
     "output_type": "execute_result"
    }
   ],
   "source": [
    "tth_2_d(test.tth_arr[371, 1916], wavelength=test.wavelength)"
   ]
  },
  {
   "cell_type": "code",
   "execution_count": 524,
   "metadata": {},
   "outputs": [],
   "source": [
    "fig, ax = plt.subplots(1, 1, figsize=(5, 5), dpi=200)\n",
    "\n",
    "im = ax.imshow(test.map.images[0, 13, 371 - 50:371 + 50, 1916-50:1916+50])\n",
    "fig.colorbar(im, ax=ax)\n",
    "\n",
    "plt.show()"
   ]
  },
  {
   "cell_type": "code",
   "execution_count": 311,
   "metadata": {},
   "outputs": [],
   "source": [
    "q1 = q_arrays[13][:, 371, 1916]\n",
    "\n",
    "q_image_list = []\n",
    "for i in range(test.map.num_pixels):\n",
    "\n",
    "    image = test.map.images[0, i]\n",
    "\n",
    "    q_mask = np.ones_like(test.map.mask, dtype=np.bool_)\n",
    "    scale = 0.025\n",
    "\n",
    "    q = q_arrays[i]\n",
    "\n",
    "    for i in range(len(q1)):\n",
    "        mask = (((q1[i] - scale < q[i]))\n",
    "                & (q[i] < (q1[i] + scale)))\n",
    "        q_mask *= mask\n",
    "\n",
    "    q_reduced = q[:, q_mask]\n",
    "    int_reduced = image[q_mask]\n",
    "    q_image = np.vstack([q_reduced, int_reduced])\n",
    "\n",
    "    q_image_list.append(q_image)"
   ]
  },
  {
   "cell_type": "code",
   "execution_count": 217,
   "metadata": {},
   "outputs": [],
   "source": [
    "fig, ax = plt.subplots(1, 1, figsize=(5, 5), dpi=200, subplot_kw={'projection':'3d'})\n",
    "\n",
    "for i in range(len(q_image_list)):\n",
    "    int_mask = q_image_list[i][-1] > 0.1\n",
    "    ax.scatter(*q_image_list[i][:3, int_mask],\n",
    "               c=q_image_list[i][-1, int_mask], s=1, alpha=0.5)\n",
    "    \n",
    "    #ax.scatter(*q_image_list[i][:3],\n",
    "    #           c=q_image_list[i][-1], s=1, alpha=0.5)\n",
    "\n",
    "ax.set_xlabel('qx [Å⁻¹]')\n",
    "ax.set_ylabel('qy [Å⁻¹]')\n",
    "ax.set_zlabel('qz [Å⁻¹]')\n",
    "ax.set_aspect('equal')\n",
    "plt.show()"
   ]
  },
  {
   "cell_type": "code",
   "execution_count": 312,
   "metadata": {},
   "outputs": [],
   "source": [
    "from scipy.interpolate import griddata\n",
    "\n",
    "all_qx = []\n",
    "all_qy = []\n",
    "all_qz = []\n",
    "all_int = []\n",
    "\n",
    "for q_image in q_image_list:\n",
    "    all_qx.extend(q_image[0])\n",
    "    all_qy.extend(q_image[1])\n",
    "    all_qz.extend(q_image[2])\n",
    "    all_int.extend(q_image[3])\n",
    "\n",
    "# Find bounds\n",
    "x_min = np.min(all_qx)\n",
    "x_max = np.max(all_qx)\n",
    "y_min = np.min(all_qy)\n",
    "y_max = np.max(all_qy)\n",
    "z_min = np.min(all_qz)\n",
    "z_max = np.max(all_qz)\n",
    "\n",
    "# Generate q-space grid\n",
    "gridstep = 0.001\n",
    "xx = np.linspace(x_min, x_max, int((x_max - x_min) / gridstep))\n",
    "yy = np.linspace(y_min, y_max, int((y_max - y_min) / gridstep))\n",
    "zz = np.linspace(z_min, z_max, int((z_max - z_min) / gridstep))\n",
    "\n",
    "grid = np.array(np.meshgrid(xx, yy, zz))\n",
    "grid = grid.reshape(3, grid.size // 3).T\n",
    "\n",
    "points = np.array([all_qx, all_qy, all_qz]).T\n",
    "\n",
    "int_grid = griddata(points, all_int, grid, method='nearest')\n",
    "int_grid = int_grid.reshape(yy.shape[0], xx.shape[0], zz.shape[0]).T"
   ]
  },
  {
   "cell_type": "code",
   "execution_count": 588,
   "metadata": {},
   "outputs": [],
   "source": [
    "fig, ax = plt.subplots(1, 1, figsize=(5, 5), dpi=200)\n",
    "\n",
    "ax.hist(int_grid.ravel(), bins=1000)\n",
    "\n",
    "plt.show()"
   ]
  },
  {
   "cell_type": "code",
   "execution_count": 222,
   "metadata": {},
   "outputs": [],
   "source": [
    "from skimage import measure\n",
    "fig, ax = plt.subplots(1, 1, figsize=(5, 5), dpi=200, subplot_kw={'projection':'3d'})\n",
    "\n",
    "spacing = 0.005\n",
    "\n",
    "vol = int_grid\n",
    "#vol = GaussianFunctions.func_3d(grid, *popt).reshape(*int_grid.shape)\n",
    "#vol = GaussianFunctions.func_3d(np.array(np.meshgrid(xx, yy, zz)), *popt).T.reshape(*int_grid.shape)\n",
    "\n",
    "iso_vals = np.linspace(np.min(int_grid), np.max(int_grid), 7)[1:-1]\n",
    "iso_vals = [0.2, 0.4, 0.8, 1.6, 3.2, 6.4]\n",
    "\n",
    "for i, iso_val in enumerate(iso_vals):\n",
    "\n",
    "    #vol = int_grid\n",
    "    #iso_val = 10000\n",
    "    #spacing = 0.001\n",
    "    color = cm.viridis(i / len(iso_vals))\n",
    "    verts, faces, _, _ = measure.marching_cubes(vol, iso_val)\n",
    "\n",
    "    # I have no idea how the axes got so mixed up...\n",
    "    plot_x = np.interp(verts[:, 1], range(len(xx)), xx)\n",
    "    plot_y = np.interp(verts[:, 2], range(len(yy)), yy)\n",
    "    plot_z = np.interp(verts[:, 0], range(len(zz)), zz)\n",
    "\n",
    "    ax.plot_trisurf(plot_x, plot_y, plot_z, triangles=faces, alpha=0.1, color=color)\n",
    "\n",
    "ax.set_xlim(np.min(all_qx), np.max(all_qx))\n",
    "ax.set_ylim(np.min(all_qy), np.max(all_qy))\n",
    "ax.set_zlim(np.min(all_qz), np.max(all_qz))\n",
    "\n",
    "ax.set_xlabel('qx [Å⁻¹]')\n",
    "ax.set_ylabel('qy [Å⁻¹]')\n",
    "ax.set_zlabel('qz [Å⁻¹]')\n",
    "ax.set_aspect('equal')\n",
    "plt.show()"
   ]
  },
  {
   "cell_type": "code",
   "execution_count": 223,
   "metadata": {},
   "outputs": [],
   "source": [
    "fig, ax = plt.subplots(1, 1, figsize=(5, 5), dpi=200, subplot_kw={'projection':'3d'})\n",
    "\n",
    "for i in range(len(q_image_list)):\n",
    "    int_mask = q_image_list[i][-1] > 0.25\n",
    "    ax.scatter(*q_image_list[i][:3, int_mask],\n",
    "               c=q_image_list[i][-1, int_mask], s=1, alpha=0.5)\n",
    "    \n",
    "spacing = 0.0001\n",
    "iso_val = 0.25\n",
    "vol = int_grid\n",
    "\n",
    "color = cm.viridis(i / len(iso_vals))\n",
    "verts, faces, norms, vals = measure.marching_cubes(vol, iso_val, gradient_direction='ascent')\n",
    "\n",
    "# I have no idea how the axes got so mixed up...\n",
    "plot_x = np.interp(verts[:, 1], range(len(xx)), xx)\n",
    "plot_y = np.interp(verts[:, 2], range(len(yy)), yy)\n",
    "plot_z = np.interp(verts[:, 0], range(len(zz)), zz)\n",
    "\n",
    "ax.plot_trisurf(plot_x, plot_y, plot_z, triangles=faces, alpha=0.1, color=color)\n",
    "\n",
    "ax.set_xlim(np.min(all_qx), np.max(all_qx))\n",
    "ax.set_ylim(np.min(all_qy), np.max(all_qy))\n",
    "ax.set_zlim(np.min(all_qz), np.max(all_qz))\n",
    "\n",
    "ax.set_xlabel('qx [Å⁻¹]')\n",
    "ax.set_ylabel('qy [Å⁻¹]')\n",
    "ax.set_zlabel('qz [Å⁻¹]')\n",
    "ax.set_aspect('equal')\n",
    "plt.show()"
   ]
  },
  {
   "cell_type": "code",
   "execution_count": 313,
   "metadata": {},
   "outputs": [],
   "source": [
    "p0 = [\n",
    "    np.max(all_int), # amp\n",
    "    all_qx[np.argmax(all_int)], # x0\n",
    "    all_qy[np.argmax(all_int)], # y0\n",
    "    all_qz[np.argmax(all_int)], # z0\n",
    "    0.01, # sigma_x\n",
    "    0.01, # sigma_y\n",
    "    0.01, # sigma_z\n",
    "    0, # theta\n",
    "    0 # phi\n",
    "]\n",
    "\n",
    "\n",
    "bounds = np.asarray([\n",
    "    [0, np.inf],\n",
    "    [np.min(all_qx), np.max(all_qx)],\n",
    "    [np.min(all_qy), np.max(all_qy)],\n",
    "    [np.min(all_qz), np.max(all_qz)],\n",
    "    [0.00001, 0.1],\n",
    "    [0.00001, 0.1],\n",
    "    [0.00001, 0.1],\n",
    "    [-180, 180],\n",
    "    [-180, 180]\n",
    "]).T\n",
    "\n",
    "\n",
    "popt, pcov = curve_fit(GaussianFunctions.func_3d, [all_qx, all_qy, all_qz], all_int - np.median(all_int), p0=p0, bounds=bounds)\n",
    "\n",
    "residual = GaussianFunctions.func_3d([all_qx, all_qy, all_qz], *p0) - all_int + np.median(all_int)"
   ]
  },
  {
   "cell_type": "code",
   "execution_count": 314,
   "metadata": {},
   "outputs": [
    {
     "name": "stdout",
     "output_type": "stream",
     "text": [
      "(1.7437570749982063, -0.7320869098330195, -0.23682225021300435)\n"
     ]
    }
   ],
   "source": [
    "guess_cen = arbitrary_center_or_mass(all_int, all_qx, all_qy, all_qz)\n",
    "print(guess_cen)"
   ]
  },
  {
   "cell_type": "code",
   "execution_count": 315,
   "metadata": {},
   "outputs": [
    {
     "data": {
      "text/plain": [
       "array([  6.62331212,   1.7411221 ,  -0.73458852,  -0.23912069,\n",
       "         0.01420482,   0.00443726,   0.00267783,  -5.38102234,\n",
       "       177.42206685])"
      ]
     },
     "execution_count": 315,
     "metadata": {},
     "output_type": "execute_result"
    }
   ],
   "source": [
    "popt"
   ]
  },
  {
   "cell_type": "code",
   "execution_count": 316,
   "metadata": {},
   "outputs": [
    {
     "data": {
      "text/plain": [
       "array([-0.15133793,  0.34054637,  0.96120534])"
      ]
     },
     "execution_count": 316,
     "metadata": {},
     "output_type": "execute_result"
    }
   ],
   "source": [
    "(popt[1:4] - guess_cen) / popt[1:4] * 100"
   ]
  },
  {
   "cell_type": "code",
   "execution_count": 317,
   "metadata": {},
   "outputs": [
    {
     "data": {
      "text/plain": [
       "3.2985871672300617"
      ]
     },
     "execution_count": 317,
     "metadata": {},
     "output_type": "execute_result"
    }
   ],
   "source": [
    "convert_qd(np.linalg.norm(popt[1:4]))"
   ]
  },
  {
   "cell_type": "code",
   "execution_count": 318,
   "metadata": {},
   "outputs": [
    {
     "data": {
      "text/plain": [
       "3.2965800150037756"
      ]
     },
     "execution_count": 318,
     "metadata": {},
     "output_type": "execute_result"
    }
   ],
   "source": [
    "convert_qd(np.linalg.norm(guess_cen))"
   ]
  },
  {
   "cell_type": "code",
   "execution_count": 152,
   "metadata": {},
   "outputs": [],
   "source": [
    "cif_dir = '''C:\\\\Users\\\\emusterma\\\\OneDrive - Brookhaven National Laboratory\\\\Documents\\\\Postdoc\\\\Literature\\\\CIF\\\\'''\n",
    "test.clear_phases()\n",
    "test.load_phase('AMCSD\\\\Silicon_0011243.cif', filedir=cif_dir, phase_name=\"silicon1\")\n",
    "test.load_phase('AMCSD\\\\Silicon_0011244.cif', filedir=cif_dir, phase_name=\"silicon2\")"
   ]
  },
  {
   "cell_type": "code",
   "execution_count": 158,
   "metadata": {},
   "outputs": [
    {
     "data": {
      "text/plain": [
       "array([395.53718877, 399.60809804, 403.73322778, 407.91694584,\n",
       "       412.1577696 , 416.46031201, 420.82052704, 425.09356809,\n",
       "       429.42225435, 433.80995727, 438.25892226, 442.68836784,\n",
       "       447.17825307, 451.72672102, 456.24974968, 460.83012228,\n",
       "       465.47297755, 470.0851427 , 474.75859384, 479.49424678,\n",
       "       484.20412378, 488.96893891, 493.7971105 , 498.59655687,\n",
       "       503.45982554, 508.38465562, 513.2798462 , 518.23864753,\n",
       "       523.25689288, 528.24757263, 533.3015334 ])"
      ]
     },
     "execution_count": 158,
     "metadata": {},
     "output_type": "execute_result"
    }
   ],
   "source": [
    "test.phases['silicon1'].absorption_length(en=energies[0] * 1e3)"
   ]
  },
  {
   "cell_type": "code",
   "execution_count": 183,
   "metadata": {},
   "outputs": [
    {
     "data": {
      "text/plain": [
       "0.16400000000000015"
      ]
     },
     "execution_count": 183,
     "metadata": {},
     "output_type": "execute_result"
    }
   ],
   "source": [
    "3.299 - 3.135"
   ]
  },
  {
   "cell_type": "code",
   "execution_count": 184,
   "metadata": {},
   "outputs": [
    {
     "data": {
      "text/plain": [
       "0.05231259968102074"
      ]
     },
     "execution_count": 184,
     "metadata": {},
     "output_type": "execute_result"
    }
   ],
   "source": [
    "0.164 / 3.135"
   ]
  },
  {
   "cell_type": "code",
   "execution_count": 275,
   "metadata": {},
   "outputs": [],
   "source": [
    "from skimage import measure\n",
    "fig, ax = plt.subplots(1, 1, figsize=(5, 5), dpi=200, subplot_kw={'projection':'3d'})\n",
    "\n",
    "spacing = 0.005\n",
    "\n",
    "vol = int_grid\n",
    "#vol = GaussianFunctions.func_3d(grid, *popt).reshape(*int_grid.shape)\n",
    "#vol = GaussianFunctions.func_3d(np.array(np.meshgrid(xx, yy, zz)), *popt).T.reshape(*int_grid.shape)\n",
    "\n",
    "iso_vals = np.linspace(np.min(int_grid), np.max(int_grid), 7)[1:-1]\n",
    "iso_vals = [0.2, 0.4, 0.8, 1.6, 3.2, 6.4]\n",
    "\n",
    "for i, iso_val in enumerate(iso_vals):\n",
    "\n",
    "    #vol = int_grid\n",
    "    #iso_val = 10000\n",
    "    #spacing = 0.001\n",
    "    color = cm.viridis(i / len(iso_vals))\n",
    "    verts, faces, _, _ = measure.marching_cubes(vol, iso_val)\n",
    "\n",
    "    # I have no idea how the axes got so mixed up...\n",
    "    plot_x = np.interp(verts[:, 1], range(len(xx)), xx)\n",
    "    plot_y = np.interp(verts[:, 2], range(len(yy)), yy)\n",
    "    plot_z = np.interp(verts[:, 0], range(len(zz)), zz)\n",
    "\n",
    "    ax.plot_trisurf(plot_x, plot_y, plot_z, triangles=faces, alpha=0.1, color=color)\n",
    "\n",
    "u = np.linspace(0, 2 * np.pi, 5000)\n",
    "v = np.linspace(0, np.pi, 5000)\n",
    "\n",
    "for energy in energies[0, ::6]:\n",
    "    radius = 2 * np.pi / energy_2_wavelength(energy)\n",
    "\n",
    "    x =  radius * np.outer(np.cos(u), np.sin(v))\n",
    "    y = radius * np.outer(np.sin(u), np.sin(v))\n",
    "    z = radius * np.outer(np.ones(np.size(u)), np.cos(v)) - radius\n",
    "\n",
    "    mask = np.all([x > x_min, x < x_max, y > y_min, y < y_max, z > z_min, z < z_max], axis=0)\n",
    "    x = x[mask]\n",
    "    y = y[mask]\n",
    "    z = z[mask]\n",
    "\n",
    "    ax.plot_trisurf(x, y, z, alpha=0.25, color='k', label='Ewald sphere')\n",
    "\n",
    "\n",
    "ax.set_xlim(np.min(all_qx), np.max(all_qx))\n",
    "ax.set_ylim(np.min(all_qy), np.max(all_qy))\n",
    "ax.set_zlim(np.min(all_qz), np.max(all_qz))\n",
    "\n",
    "ax.set_xlabel('qx [Å⁻¹]')\n",
    "ax.set_ylabel('qy [Å⁻¹]')\n",
    "ax.set_zlabel('qz [Å⁻¹]')\n",
    "ax.set_aspect('equal')\n",
    "plt.show()"
   ]
  },
  {
   "cell_type": "code",
   "execution_count": 278,
   "metadata": {},
   "outputs": [],
   "source": [
    "from skimage import measure\n",
    "fig, ax = plt.subplots(1, 1, figsize=(5, 5), dpi=200, subplot_kw={'projection':'3d'})\n",
    "\n",
    "spacing = 0.005\n",
    "\n",
    "vol = int_grid\n",
    "#vol = GaussianFunctions.func_3d(grid, *popt).reshape(*int_grid.shape)\n",
    "vol = GaussianFunctions.func_3d(np.array(np.meshgrid(xx, yy, zz)), *popt).T.reshape(*int_grid.shape)\n",
    "\n",
    "iso_vals = np.linspace(np.min(int_grid), np.max(int_grid), 7)[1:-1]\n",
    "iso_vals = [0.2, 0.4, 0.8, 1.6, 3.2]\n",
    "\n",
    "for i, iso_val in enumerate(iso_vals):\n",
    "\n",
    "    color = cm.viridis(i / len(iso_vals))\n",
    "    verts, faces, _, _ = measure.marching_cubes(vol, iso_val)\n",
    "\n",
    "    # I have no idea how the axes got so mixed up...\n",
    "    plot_x = np.interp(verts[:, 1], range(len(xx)), xx)\n",
    "    plot_y = np.interp(verts[:, 2], range(len(yy)), yy)\n",
    "    plot_z = np.interp(verts[:, 0], range(len(zz)), zz)\n",
    "\n",
    "    ax.plot_trisurf(plot_x, plot_y, plot_z, triangles=faces, alpha=0.1, color=color)\n",
    "\n",
    "vol = int_grid\n",
    "for i, iso_val in enumerate(iso_vals):\n",
    "\n",
    "    color = cm.viridis(i / len(iso_vals))\n",
    "    verts, faces, _, _ = measure.marching_cubes(vol, iso_val)\n",
    "\n",
    "    # I have no idea how the axes got so mixed up...\n",
    "    plot_x = np.interp(verts[:, 1], range(len(xx)), xx)\n",
    "    plot_y = np.interp(verts[:, 2], range(len(yy)), yy)\n",
    "    plot_z = np.interp(verts[:, 0], range(len(zz)), zz)\n",
    "\n",
    "    ax.plot_trisurf(plot_x, plot_y, plot_z, triangles=faces, alpha=0.1, color=color)\n",
    "\n",
    "ax.set_xlim(np.min(all_qx), np.max(all_qx))\n",
    "ax.set_ylim(np.min(all_qy), np.max(all_qy))\n",
    "ax.set_zlim(np.min(all_qz), np.max(all_qz))\n",
    "\n",
    "ax.set_xlabel('qx [Å⁻¹]')\n",
    "ax.set_ylabel('qy [Å⁻¹]')\n",
    "ax.set_zlabel('qz [Å⁻¹]')\n",
    "ax.set_aspect('equal')\n",
    "plt.show()"
   ]
  },
  {
   "cell_type": "code",
   "execution_count": 277,
   "metadata": {},
   "outputs": [
    {
     "data": {
      "text/plain": [
       "[0.2, 0.4, 0.8, 1.6, 3.2, 6.4]"
      ]
     },
     "execution_count": 277,
     "metadata": {},
     "output_type": "execute_result"
    }
   ],
   "source": [
    "iso_vals"
   ]
  },
  {
   "cell_type": "code",
   "execution_count": 185,
   "metadata": {},
   "outputs": [],
   "source": [
    "thickness = 500\n",
    "test.plot_image(thickness * np.sin(np.radians(test.tth_arr)))"
   ]
  },
  {
   "cell_type": "code",
   "execution_count": 200,
   "metadata": {},
   "outputs": [],
   "source": [
    "test.plot_image(test.tth_arr)"
   ]
  },
  {
   "cell_type": "code",
   "execution_count": null,
   "metadata": {},
   "outputs": [],
   "source": []
  },
  {
   "cell_type": "code",
   "execution_count": null,
   "metadata": {},
   "outputs": [],
   "source": []
  },
  {
   "cell_type": "code",
   "execution_count": null,
   "metadata": {},
   "outputs": [],
   "source": []
  },
  {
   "cell_type": "code",
   "execution_count": null,
   "metadata": {},
   "outputs": [],
   "source": []
  },
  {
   "cell_type": "code",
   "execution_count": null,
   "metadata": {},
   "outputs": [],
   "source": [
    "XRDmap_list = []\n",
    "\n",
    "filedir = '''D:\\\\Musterman_postdoc\\\\20231030_Musterman\\\\'''\n",
    "otherdir = '''C:\\\\Users\\\\emusterma\\\\OneDrive - Brookhaven National Laboratory\\\\Documents\\\\Postdoc\\\\Data\\\\Condensed Datasets\\\\'''\n",
    "energies = [15, 14.95, 14.9, 14.85, 14.8, 15.05, 15.10, 15.15, 15.2]\n",
    "\n",
    "for index, scanid in enumerate(range(149235, 149243 + 1)):\n",
    "    map_filename = f'scan{scanid}_xrd.tiff'\n",
    "\n",
    "    test = XRDMap.from_image_stack(map_filename,\n",
    "                                   wd=filedir,\n",
    "                                   energy=energies[index],\n",
    "                                   scanid=scanid)\n",
    "    test.set_calibration('scan149256_dexela.poni')\n",
    "\n",
    "    dark_field = io.imread(f'{otherdir}dexela_df_avg.tif')\n",
    "    scaled_df = dark_field * np.median(test.map.min_image) / np.median(dark_field)\n",
    "    test.map.correct_dark_field(dark_field=scaled_df)\n",
    "    test.map.correct_outliers()\n",
    "    test.map.normalize_scaler()\n",
    "\n",
    "    test.map.apply_lorentz_correction(ai=test.ai)\n",
    "    test.map.apply_polarization_correction(ai=test.ai)\n",
    "    test.map.apply_solidangle_correction(ai=test.ai)\n",
    "\n",
    "    #test.map.estimate_background(method='bruckner', iterations=100)\n",
    "    test.map.estimate_background(method='gaussian', sigma=50)\n",
    "    test.map.remove_background()\n",
    "\n",
    "    test.calibrate_images()\n",
    "    test.map.apply_defect_mask(lower=0.1, upper=-0.1)\n",
    "\n",
    "    XRDmap_list.append(test)"
   ]
  },
  {
   "cell_type": "code",
   "execution_count": 315,
   "metadata": {},
   "outputs": [],
   "source": [
    "for test in XRDmap_list:\n",
    "    test.plot_image([6, 6])"
   ]
  },
  {
   "cell_type": "code",
   "execution_count": 7,
   "metadata": {},
   "outputs": [],
   "source": [
    "test = XRDmap_list[0]\n",
    "test.interactive_map()"
   ]
  },
  {
   "cell_type": "code",
   "execution_count": 330,
   "metadata": {},
   "outputs": [],
   "source": [
    "index = (6, 6)\n",
    "\n",
    "q_image_list = []\n",
    "test = XRDmap_list[-1]\n",
    "image = test.map.images[index]\n",
    "indices = np.unravel_index(np.argmax(image), image.shape)\n",
    "tth = test.tth[indices[1]]\n",
    "chi = test.chi[len(test.chi) - indices[0]]\n",
    "q1 = q_vect(tth, chi, wavelength=test.wavelength)"
   ]
  },
  {
   "cell_type": "code",
   "execution_count": 21,
   "metadata": {},
   "outputs": [
    {
     "data": {
      "text/plain": [
       "(4, 458)"
      ]
     },
     "execution_count": 21,
     "metadata": {},
     "output_type": "execute_result"
    }
   ],
   "source": [
    "q_image_list[-1].shape"
   ]
  },
  {
   "cell_type": "code",
   "execution_count": 23,
   "metadata": {},
   "outputs": [],
   "source": [
    "fig, ax = plt.subplots(1, 1, figsize=(5, 5), dpi=200)\n",
    "\n",
    "#ax.plot(test.map.images[6, 6][q_mask])\n",
    "ax.plot(q_image_list[1][-1])\n",
    "\n",
    "plt.show()"
   ]
  },
  {
   "cell_type": "code",
   "execution_count": 24,
   "metadata": {},
   "outputs": [
    {
     "data": {
      "text/plain": [
       "-0.00033950523"
      ]
     },
     "execution_count": 24,
     "metadata": {},
     "output_type": "execute_result"
    }
   ],
   "source": [
    "image = np.copy(test.map.images[index])\n",
    "np.median(image[test.map.mask])"
   ]
  },
  {
   "cell_type": "code",
   "execution_count": 25,
   "metadata": {},
   "outputs": [],
   "source": [
    "index = (6, 6)\n",
    "\n",
    "q_image_list = []\n",
    "test = XRDmap_list[-1]\n",
    "image = test.map.images[index]\n",
    "indices = np.unravel_index(np.argmax(image), image.shape)\n",
    "tth = test.tth[indices[1]]\n",
    "chi = test.chi[len(test.chi) - indices[0]]\n",
    "q1 = q_vect(tth, chi, wavelength=test.wavelength)\n",
    "\n",
    "for test in XRDmap_list:\n",
    "    image = np.copy(test.map.images[index])\n",
    "    image /= np.abs(np.median(image[test.map.mask]))\n",
    "\n",
    "    #tth = test.tth[indices[1]]\n",
    "    #chi = test.chi[len(test.chi) - indices[0]]\n",
    "\n",
    "    q_mask = np.ones_like(test.map.mask, dtype=np.bool_)\n",
    "    scale = 0.025\n",
    "\n",
    "    x_coords, y_coords = np.meshgrid(test.tth, test.chi[::-1])\n",
    "    q = q_vect(x_coords, y_coords, wavelength=test.wavelength)\n",
    "\n",
    "\n",
    "    for i in range(len(q1)):\n",
    "        mask = (((q1[i] - scale < q[i]))\n",
    "                & (q[i] < (q1[i] + scale)))\n",
    "        q_mask *= mask\n",
    "\n",
    "    q_reduced = q[:, q_mask]\n",
    "    int_reduced = image[q_mask]\n",
    "    q_image = np.vstack([q_reduced, int_reduced])\n",
    "\n",
    "    q_image_list.append(q_image)"
   ]
  },
  {
   "cell_type": "code",
   "execution_count": 29,
   "metadata": {},
   "outputs": [],
   "source": [
    "fig, ax = plt.subplots(1, 1, figsize=(5, 5), dpi=200, subplot_kw={'projection':'3d'})\n",
    "\n",
    "for i in range(len(q_image_list)):\n",
    "    int_mask = q_image_list[i][-1] > -1000\n",
    "    ax.scatter(*q_image_list[i][:3, int_mask],\n",
    "               c=q_image_list[i][-1, int_mask], s=10, alpha=0.5)\n",
    "    \n",
    "    #ax.scatter(*q_image_list[i][:3],\n",
    "    #           c=q_image_list[i][-1], s=1, alpha=0.5)\n",
    "\n",
    "\n",
    "ax.set_xlabel('qx [Å⁻¹]')\n",
    "ax.set_ylabel('qy [Å⁻¹]')\n",
    "ax.set_zlabel('qz [Å⁻¹]')\n",
    "ax.set_aspect('equal')\n",
    "plt.show()"
   ]
  },
  {
   "cell_type": "code",
   "execution_count": null,
   "metadata": {},
   "outputs": [],
   "source": []
  },
  {
   "cell_type": "code",
   "execution_count": 34,
   "metadata": {},
   "outputs": [],
   "source": [
    "p0 = [\n",
    "    np.max(all_int), # amp\n",
    "    all_qx[np.argmax(all_int)], # x0\n",
    "    all_qy[np.argmax(all_int)], # y0\n",
    "    all_qz[np.argmax(all_int)], # z0\n",
    "    0.01, # sigma_x\n",
    "    0.01, # sigma_y\n",
    "    0.01, # sigma_z\n",
    "    0, # theta\n",
    "    0 # phi\n",
    "]\n",
    "\n",
    "\n",
    "bounds = np.asarray([\n",
    "    [0, np.inf],\n",
    "    [np.min(all_qx), np.max(all_qx)],\n",
    "    [np.min(all_qy), np.max(all_qy)],\n",
    "    [np.min(all_qz), np.max(all_qz)],\n",
    "    [0.00001, 0.1],\n",
    "    [0.00001, 0.1],\n",
    "    [0.00001, 0.1],\n",
    "    [-180, 180],\n",
    "    [-180, 180]\n",
    "]).T\n",
    "\n",
    "\n",
    "popt, pcov = curve_fit(GaussianFunctions.func_3d, [all_qx, all_qy, all_qz], all_int - np.median(all_int), p0=p0, bounds=bounds)\n",
    "\n",
    "residual = GaussianFunctions.func_3d([all_qx, all_qy, all_qz], *p0) - all_int + np.median(all_int)"
   ]
  },
  {
   "cell_type": "code",
   "execution_count": 35,
   "metadata": {},
   "outputs": [],
   "source": [
    "fig, ax = plt.subplots(1, 1, figsize=(5, 5), dpi=200)\n",
    "\n",
    "ax.plot(all_int - np.median(all_int), label='data')\n",
    "ax.plot(GaussianFunctions.func_3d([all_qx, all_qy, all_qz], *p0), label='guess')\n",
    "ax.plot(GaussianFunctions.func_3d([all_qx, all_qy, all_qz], *popt), label='fit')\n",
    "\n",
    "ax.legend()\n",
    "plt.show()"
   ]
  },
  {
   "cell_type": "code",
   "execution_count": 36,
   "metadata": {},
   "outputs": [
    {
     "data": {
      "text/plain": [
       "array([13819.0083968 ,    -2.3269767 ,     0.56574442,    -0.38709093,\n",
       "           0.00549107,     0.0065496 ,     0.01477776,     8.03253441,\n",
       "         -49.1507193 ])"
      ]
     },
     "execution_count": 36,
     "metadata": {},
     "output_type": "execute_result"
    }
   ],
   "source": [
    "popt"
   ]
  },
  {
   "cell_type": "code",
   "execution_count": 39,
   "metadata": {},
   "outputs": [],
   "source": [
    "fig, ax = plt.subplots(1, 1, figsize=(5, 5), dpi=200, subplot_kw={'projection':'3d'})\n",
    "\n",
    "ext = np.max(np.abs(residual))\n",
    "\n",
    "#plot = 'residual'\n",
    "#plot = 'data'\n",
    "#plot = 'guess'\n",
    "plot = 'fit'\n",
    "\n",
    "if plot == 'residual':\n",
    "    ax.scatter(all_qx, all_qy, all_qz, c=residual, s=5, alpha=0.5,\n",
    "               cmap='bwr', vmin=-ext, vmax=ext)\n",
    "\n",
    "if plot == 'guess':\n",
    "    ax.scatter(all_qx, all_qy, all_qz, c=GaussianFunctions.func_3d([all_qx, all_qy, all_qz], *p0), s=5, alpha=0.5,\n",
    "            cmap='viridis')\n",
    "    \n",
    "if plot == 'data':\n",
    "        ax.scatter(all_qx, all_qy, all_qz, c=all_int, s=5, alpha=0.5,\n",
    "            cmap='viridis')\n",
    "        \n",
    "if plot == 'fit':\n",
    "    ax.scatter(all_qx, all_qy, all_qz, c=GaussianFunctions.func_3d([all_qx, all_qy, all_qz], *popt), s=5, alpha=0.5,\n",
    "            cmap='viridis')\n",
    "\n",
    "\n",
    "ax.scatter(popt[1], popt[2], popt[3], c='k', marker='*', s=10)\n",
    "\n",
    "\n",
    "ax.set_xlabel('qx [Å⁻¹]')\n",
    "ax.set_ylabel('qy [Å⁻¹]')\n",
    "ax.set_zlabel('qz [Å⁻¹]')\n",
    "ax.set_aspect('equal')\n",
    "plt.show()"
   ]
  },
  {
   "cell_type": "code",
   "execution_count": null,
   "metadata": {},
   "outputs": [],
   "source": []
  },
  {
   "cell_type": "code",
   "execution_count": null,
   "metadata": {},
   "outputs": [],
   "source": []
  },
  {
   "cell_type": "code",
   "execution_count": 33,
   "metadata": {},
   "outputs": [],
   "source": [
    "from scipy.interpolate import griddata\n",
    "\n",
    "all_qx = []\n",
    "all_qy = []\n",
    "all_qz = []\n",
    "all_int = []\n",
    "\n",
    "for q_image in q_image_list:\n",
    "    all_qx.extend(q_image[0])\n",
    "    all_qy.extend(q_image[1])\n",
    "    all_qz.extend(q_image[2])\n",
    "    all_int.extend(q_image[3])\n",
    "\n",
    "# Find bounds\n",
    "x_min = np.min(all_qx)\n",
    "x_max = np.max(all_qx)\n",
    "y_min = np.min(all_qy)\n",
    "y_max = np.max(all_qy)\n",
    "z_min = np.min(all_qz)\n",
    "z_max = np.max(all_qz)\n",
    "\n",
    "# Generate q-space grid\n",
    "gridstep = 0.001\n",
    "xx = np.linspace(x_min, x_max, int((x_max - x_min) / gridstep))\n",
    "yy = np.linspace(y_min, y_max, int((y_max - y_min) / gridstep))\n",
    "zz = np.linspace(z_min, z_max, int((z_max - z_min) / gridstep))\n",
    "\n",
    "grid = np.array(np.meshgrid(xx, yy, zz))\n",
    "grid = grid.reshape(3, grid.size // 3).T\n",
    "\n",
    "points = np.array([all_qx, all_qy, all_qz]).T\n",
    "\n",
    "int_grid = griddata(points, all_int, grid, method='nearest')\n",
    "int_grid = int_grid.reshape(yy.shape[0], xx.shape[0], zz.shape[0]).T"
   ]
  },
  {
   "cell_type": "code",
   "execution_count": 76,
   "metadata": {},
   "outputs": [
    {
     "data": {
      "text/plain": [
       "(3, 49, 49, 30)"
      ]
     },
     "execution_count": 76,
     "metadata": {},
     "output_type": "execute_result"
    }
   ],
   "source": [
    "np.array(np.meshgrid(xx, yy, zz)).shape"
   ]
  },
  {
   "cell_type": "code",
   "execution_count": 77,
   "metadata": {},
   "outputs": [],
   "source": [
    "vol = GaussianFunctions.func_3d(np.array(np.meshgrid(xx, yy, zz)), *popt).T.reshape(*int_grid.shape)"
   ]
  },
  {
   "cell_type": "code",
   "execution_count": 81,
   "metadata": {},
   "outputs": [],
   "source": [
    "from skimage import measure\n",
    "fig, ax = plt.subplots(1, 1, figsize=(5, 5), dpi=200, subplot_kw={'projection':'3d'})\n",
    "\n",
    "spacing = 0.001\n",
    "\n",
    "vol = int_grid\n",
    "#vol = GaussianFunctions.func_3d(grid, *popt).reshape(*int_grid.shape)\n",
    "#vol = GaussianFunctions.func_3d(np.array(np.meshgrid(xx, yy, zz)), *popt).T.reshape(*int_grid.shape)\n",
    "\n",
    "iso_vals = [1000, 3000, 5000, 7000, 9000, 11000, 13000]\n",
    "\n",
    "for i, iso_val in enumerate(iso_vals):\n",
    "\n",
    "    #vol = int_grid\n",
    "    #iso_val = 10000\n",
    "    #spacing = 0.001\n",
    "    color = cm.viridis(i / len(iso_vals))\n",
    "    verts, faces, _, _ = measure.marching_cubes(vol, iso_val, spacing=(spacing,) * 3)\n",
    "\n",
    "    ax.plot_trisurf(verts[:, 0], verts[:,1], faces, verts[:, 2], alpha=0.1, color=color)\n",
    "\n",
    "\n",
    "ax.set_xlabel('qx [Å⁻¹]')\n",
    "ax.set_ylabel('qy [Å⁻¹]')\n",
    "ax.set_zlabel('qz [Å⁻¹]')\n",
    "ax.set_aspect('equal')\n",
    "plt.show()"
   ]
  },
  {
   "cell_type": "code",
   "execution_count": 32,
   "metadata": {},
   "outputs": [],
   "source": [
    "fig, ax = plt.subplots(1, 1, figsize=(5, 5), dpi=200, subplot_kw={'projection':'3d'})\n",
    "\n",
    "\n",
    "ax.scatter(*grid.T, c=int_grid.T.ravel(), s=5, alpha=0.5)\n",
    "\n",
    "\n",
    "ax.set_xlabel('qx [Å⁻¹]')\n",
    "ax.set_ylabel('qy [Å⁻¹]')\n",
    "ax.set_zlabel('qz [Å⁻¹]')\n",
    "ax.set_aspect('equal')\n",
    "plt.show()"
   ]
  },
  {
   "cell_type": "code",
   "execution_count": null,
   "metadata": {},
   "outputs": [],
   "source": []
  }
 ],
 "metadata": {
  "kernelspec": {
   "display_name": "Python 3",
   "language": "python",
   "name": "python3"
  },
  "language_info": {
   "codemirror_mode": {
    "name": "ipython",
    "version": 3
   },
   "file_extension": ".py",
   "mimetype": "text/x-python",
   "name": "python",
   "nbconvert_exporter": "python",
   "pygments_lexer": "ipython3",
   "version": "3.11.5"
  }
 },
 "nbformat": 4,
 "nbformat_minor": 2
}
