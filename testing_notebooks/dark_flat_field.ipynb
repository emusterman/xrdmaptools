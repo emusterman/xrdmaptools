{
 "cells": [
  {
   "cell_type": "code",
   "execution_count": 1,
   "metadata": {},
   "outputs": [
    {
     "name": "stderr",
     "output_type": "stream",
     "text": [
      "100%|██████████| 22/22 [00:14<00:00,  1.47it/s]\n"
     ]
    }
   ],
   "source": [
    "import os\n",
    "import matplotlib.pyplot as plt\n",
    "import numpy as np\n",
    "#from tqdm.auto import tqdm\n",
    "from tqdm import tqdm\n",
    "plt.ioff();\n",
    "try:\n",
    "    maindir\n",
    "except NameError:\n",
    "    maindir = os.path.dirname(os.getcwd())\n",
    "for module in tqdm(os.listdir(maindir + '\\\\testing_modules')):\n",
    "    %run -i \"{maindir}\\\\testing_modules\\\\{module}\"\n",
    "base = os.path.dirname(os.path.dirname(maindir)) + '\\\\'\n",
    "plt.ion();\n",
    "np.set_printoptions(suppress=True)\n",
    "plt.close('All')\n",
    "%matplotlib qt"
   ]
  },
  {
   "cell_type": "code",
   "execution_count": 2,
   "metadata": {},
   "outputs": [],
   "source": [
    "from scipy.optimize import curve_fit\n",
    "from scipy.stats import mode"
   ]
  },
  {
   "cell_type": "code",
   "execution_count": 65,
   "metadata": {},
   "outputs": [
    {
     "name": "stdout",
     "output_type": "stream",
     "text": [
      "Loading images...done!\n"
     ]
    }
   ],
   "source": [
    "det_sets = '_hr_4x4_'\n",
    "\n",
    "scanid = 152663\n",
    "filedir = '''D:\\\\Musterman_postdoc\\\\20240125_Musterman\\\\'''\n",
    "map_filename = f'scan{scanid}_dexela_xrd.tif'\n",
    "h5_filename = f'scan{scanid}_xrd.h5'\n",
    "\n",
    "test1 = XRDMap.from_image_stack(map_filename, wd=filedir + 'amended\\\\', energy=21, scanid=scanid, save_hdf=False)\n",
    "test1.set_calibration('scan152664_calibration.poni', filedir=filedir)"
   ]
  },
  {
   "cell_type": "code",
   "execution_count": 66,
   "metadata": {},
   "outputs": [],
   "source": [
    "dexela2315 = Dexela2315()\n",
    "dexela2315.set_binning(bin_size=(4, 4))\n",
    "test1.ai.detector = dexela2315\n",
    "test1.ai._cached_array = {}"
   ]
  },
  {
   "cell_type": "code",
   "execution_count": 67,
   "metadata": {},
   "outputs": [
    {
     "name": "stdout",
     "output_type": "stream",
     "text": [
      "Correcting dark-field...done!\n"
     ]
    }
   ],
   "source": [
    "dwell = 1\n",
    "\n",
    "dark_dir = '''D:\\\\Musterman_postdoc\\\\20240125_Musterman\\\\dark_fields\\\\fit_images\\\\'''\n",
    "dark_paths = np.array(os.listdir(dark_dir))\n",
    "offset_mask = [det_sets in x and 'offset' in x for x in dark_paths]\n",
    "offset_df = io.imread(f'{dark_dir}{dark_paths[offset_mask][0]}')\n",
    "scale_mask = [det_sets in x and 'slope' in x for x in dark_paths]\n",
    "slope_df = io.imread(f'{dark_dir}{dark_paths[scale_mask][0]}')\n",
    "\n",
    "dark_field = slope_df * dwell + offset_df\n",
    "#scaled_df = dark_field * np.median(test.map.min_image) / np.median(dark_field)\n",
    "test1.map.correct_dark_field(dark_field=dark_field.astype(np.float32))"
   ]
  },
  {
   "cell_type": "code",
   "execution_count": 68,
   "metadata": {},
   "outputs": [
    {
     "name": "stdout",
     "output_type": "stream",
     "text": [
      "Loading images...done!\n"
     ]
    }
   ],
   "source": [
    "scanid = 152673\n",
    "filedir = '''D:\\\\Musterman_postdoc\\\\20240125_Musterman\\\\'''\n",
    "map_filename = f'scan{scanid}_dexela_xrd.tif'\n",
    "h5_filename = f'scan{scanid}_xrd.h5'\n",
    "\n",
    "test2 = XRDMap.from_image_stack(map_filename, wd=filedir + 'amended\\\\', energy=21, scanid=scanid, save_hdf=False)\n",
    "test2.set_calibration('scan152667_calibration.poni', filedir=filedir)"
   ]
  },
  {
   "cell_type": "markdown",
   "metadata": {},
   "source": []
  },
  {
   "cell_type": "code",
   "execution_count": 69,
   "metadata": {},
   "outputs": [],
   "source": [
    "dexela2315 = Dexela2315()\n",
    "dexela2315.set_binning(bin_size=(4, 4))\n",
    "test2.ai.detector = dexela2315\n",
    "test2.ai._cached_array = {}"
   ]
  },
  {
   "cell_type": "code",
   "execution_count": 70,
   "metadata": {},
   "outputs": [
    {
     "name": "stdout",
     "output_type": "stream",
     "text": [
      "Correcting dark-field...done!\n"
     ]
    }
   ],
   "source": [
    "dwell = 1\n",
    "\n",
    "dark_dir = '''D:\\\\Musterman_postdoc\\\\20240125_Musterman\\\\dark_fields\\\\fit_images\\\\'''\n",
    "dark_paths = np.array(os.listdir(dark_dir))\n",
    "offset_mask = [det_sets in x and 'offset' in x for x in dark_paths]\n",
    "offset_df = io.imread(f'{dark_dir}{dark_paths[offset_mask][0]}')\n",
    "scale_mask = [det_sets in x and 'slope' in x for x in dark_paths]\n",
    "slope_df = io.imread(f'{dark_dir}{dark_paths[scale_mask][0]}')\n",
    "\n",
    "dark_field = slope_df * dwell + offset_df\n",
    "#scaled_df = dark_field * np.median(test.map.min_image) / np.median(dark_field)\n",
    "test2.map.correct_dark_field(dark_field=dark_field.astype(np.float32))"
   ]
  },
  {
   "cell_type": "code",
   "execution_count": 71,
   "metadata": {},
   "outputs": [
    {
     "name": "stdout",
     "output_type": "stream",
     "text": [
      "Applying solid angle correction..."
     ]
    },
    {
     "name": "stdout",
     "output_type": "stream",
     "text": [
      "done!\n",
      "Applying solid angle correction...done!\n"
     ]
    }
   ],
   "source": [
    "test1.map.apply_solidangle_correction(ai=test1.ai)\n",
    "test2.map.apply_solidangle_correction(ai=test2.ai)"
   ]
  },
  {
   "cell_type": "code",
   "execution_count": 74,
   "metadata": {},
   "outputs": [],
   "source": [
    "mask1 = test1.map.min_image >= 15\n",
    "mask2 = test2.map.min_image >= 6\n",
    "\n",
    "mask1 = gaussian_filter(test1.map.min_image, sigma=1) >= 0\n",
    "mask2 = gaussian_filter(test2.map.min_image, sigma=1) >= 0\n",
    "\n",
    "mask1 = expand_labels(mask1, 2)\n",
    "mask2 = expand_labels(mask2, 2)\n",
    "\n",
    "#mask1 = test1.map.min_image >= 1\n",
    "#mask2 = test2.map.min_image >= 1"
   ]
  },
  {
   "cell_type": "code",
   "execution_count": 76,
   "metadata": {},
   "outputs": [],
   "source": [
    "test1.plot_image(mask2)"
   ]
  },
  {
   "cell_type": "code",
   "execution_count": 77,
   "metadata": {},
   "outputs": [
    {
     "data": {
      "text/plain": [
       "'flat1 = flat1 / (np.mean(flat1) - np.min(flat1))\\nflat1 = flat1 - np.mean(flat1) + 1\\n\\nflat2 = flat2 / (np.mean(flat2) - np.min(flat2))\\nflat2 = flat2 - np.mean(flat2) + 1'"
      ]
     },
     "execution_count": 77,
     "metadata": {},
     "output_type": "execute_result"
    }
   ],
   "source": [
    "flat1 = test1.map.med_image.copy()\n",
    "flat2 = test2.map.med_image.copy()\n",
    "mean1 = np.mean(flat1)\n",
    "std1 = np.std(flat1)\n",
    "mean2 = np.mean(flat2)\n",
    "std2 = np.std(flat2)\n",
    "\n",
    "norm1 = (flat1 - np.mean(flat1)) / std1\n",
    "norm2 = (flat2 - np.mean(flat2)) / std2\n",
    "\n",
    "norm1[mask1] = norm2[mask1]\n",
    "norm2[mask2] = norm1[mask2]\n",
    "\n",
    "new_flat1 = norm1 * std1 + mean1\n",
    "new_flat2 = norm2 * std2 + mean2\n",
    "\n",
    "#flat1[mask1] = flat2[mask1]\n",
    "#flat2[mask2] = flat1[mask2]\n",
    "\n",
    "'''flat1 = flat1 / (np.mean(flat1) - np.min(flat1))\n",
    "flat1 = flat1 - np.mean(flat1) + 1\n",
    "\n",
    "flat2 = flat2 / (np.mean(flat2) - np.min(flat2))\n",
    "flat2 = flat2 - np.mean(flat2) + 1'''\n",
    "\n",
    "#flat1 -= np.min(flat1)\n",
    "#flat2 -= np.min(flat2)"
   ]
  },
  {
   "cell_type": "code",
   "execution_count": 78,
   "metadata": {},
   "outputs": [],
   "source": [
    "test1.plot_image(new_flat1)"
   ]
  },
  {
   "cell_type": "code",
   "execution_count": 79,
   "metadata": {},
   "outputs": [],
   "source": [
    "test2.plot_image(new_flat2)"
   ]
  },
  {
   "cell_type": "code",
   "execution_count": 80,
   "metadata": {},
   "outputs": [],
   "source": [
    "new_flat1[new_flat1 <= 0] = gaussian_filter(new_flat1, sigma=1)[new_flat1 <= 0]\n",
    "new_flat2[new_flat2 <= 0] = gaussian_filter(new_flat2, sigma=1)[new_flat2 <= 0]"
   ]
  },
  {
   "cell_type": "code",
   "execution_count": 152,
   "metadata": {},
   "outputs": [],
   "source": [
    "corr_test1 = test1.map.images.copy() / flat1"
   ]
  },
  {
   "cell_type": "code",
   "execution_count": 154,
   "metadata": {},
   "outputs": [],
   "source": [
    "test1.plot_image([0, 0])"
   ]
  },
  {
   "cell_type": "code",
   "execution_count": 81,
   "metadata": {},
   "outputs": [],
   "source": [
    "filename = f'{filedir}flat_fields\\\\flat_field{det_sets}.tif'\n",
    "io.imsave(filename, new_flat1, check_contrast=False)"
   ]
  },
  {
   "cell_type": "code",
   "execution_count": null,
   "metadata": {},
   "outputs": [],
   "source": []
  },
  {
   "cell_type": "code",
   "execution_count": 17,
   "metadata": {},
   "outputs": [],
   "source": [
    "filename = f'{filedir}dark_fields\\\\median_images\\\\scan{test.scanid}_ln_4x4_2.0s.tif'\n",
    "io.imsave(filename, test.map.med_image, check_contrast=False)"
   ]
  },
  {
   "cell_type": "code",
   "execution_count": 28,
   "metadata": {},
   "outputs": [],
   "source": [
    "fig, ax = plt.subplots(1, 1, figsize=(5, 5), dpi=200)\n",
    "\n",
    "im = ax.imshow(test.map.sum_map)\n",
    "fig.colorbar(im, ax=ax)\n",
    "\n",
    "plt.show()"
   ]
  },
  {
   "cell_type": "code",
   "execution_count": 13,
   "metadata": {},
   "outputs": [],
   "source": [
    "test.plot_image(test.map.med_image)"
   ]
  },
  {
   "cell_type": "code",
   "execution_count": 19,
   "metadata": {},
   "outputs": [],
   "source": [
    "test.map.dtype = np.float32"
   ]
  },
  {
   "cell_type": "code",
   "execution_count": 27,
   "metadata": {},
   "outputs": [],
   "source": [
    "test.plot_interactive_map(img_vmin=0, img_vmax=400)"
   ]
  },
  {
   "cell_type": "code",
   "execution_count": 40,
   "metadata": {},
   "outputs": [],
   "source": [
    "test.plot_image(test.map.med_image)"
   ]
  },
  {
   "cell_type": "code",
   "execution_count": 41,
   "metadata": {},
   "outputs": [],
   "source": [
    "test.plot_image(test.map.mean_image)"
   ]
  },
  {
   "cell_type": "code",
   "execution_count": 44,
   "metadata": {},
   "outputs": [],
   "source": [
    "test.plot_image(test.map.mean_image - test.map.med_image)"
   ]
  },
  {
   "cell_type": "code",
   "execution_count": 9,
   "metadata": {},
   "outputs": [
    {
     "data": {
      "text/plain": [
       "False"
      ]
     },
     "execution_count": 9,
     "metadata": {},
     "output_type": "execute_result"
    }
   ],
   "source": [
    "any(file_mask)"
   ]
  },
  {
   "cell_type": "code",
   "execution_count": 35,
   "metadata": {},
   "outputs": [],
   "source": [
    "filedir = '''D:\\\\Musterman_postdoc\\\\20240125_Musterman\\\\'''\n",
    "filebase = f'{filedir}dark_fields\\\\median_images\\\\'\n",
    "files = os.listdir(filebase)\n",
    "\n",
    "det_sets = '_hr_1x1_'\n",
    "dwell_strings = [\n",
    "    '2.0',\n",
    "    '1.5',\n",
    "    '1.0',\n",
    "    '0.75',\n",
    "    '0.5',\n",
    "    '0.25',\n",
    "    '0.1'\n",
    "]\n",
    "\n",
    "dwell_times = np.array([float(x) for x in dwell_strings])\n",
    "\n",
    "image_list = []\n",
    "for dwell in dwell_strings:\n",
    "    file_mask = [f'{det_sets}{dwell}' in x for x in files]\n",
    "    image_name = files[np.where(file_mask)[0][0]]\n",
    "    image = io.imread(filebase + image_name)\n",
    "    image_list.append(image)\n",
    "\n",
    "image_list = np.asarray(image_list, dtype=np.float32)"
   ]
  },
  {
   "cell_type": "code",
   "execution_count": 30,
   "metadata": {},
   "outputs": [],
   "source": [
    "def line(x, slope, offset):\n",
    "    return slope * x + offset"
   ]
  },
  {
   "cell_type": "code",
   "execution_count": 36,
   "metadata": {},
   "outputs": [
    {
     "name": "stderr",
     "output_type": "stream",
     "text": [
      "100%|██████████| 5971968/5971968 [13:30<00:00, 7369.95it/s]\n"
     ]
    }
   ],
   "source": [
    "# This is faster than the delayed parallelized code...\n",
    "p0 = [50, 320] # slope and offset\n",
    "slope_list = []\n",
    "offset_list = []\n",
    "r_squared_list = []\n",
    "\n",
    "for pixel in tqdm(image_list.reshape(image_list.shape[0], -1).T):\n",
    "    popt, _ = curve_fit(line, dwell_times, pixel, p0=p0)\n",
    "    r_squared = compute_r_squared(pixel, line(dwell_times, *popt))\n",
    "    \n",
    "    slope_list.append(popt[0])\n",
    "    offset_list.append(popt[1])\n",
    "    r_squared_list.append(r_squared)"
   ]
  },
  {
   "cell_type": "code",
   "execution_count": 24,
   "metadata": {},
   "outputs": [
    {
     "data": {
      "text/plain": [
       "(1944, 3072)"
      ]
     },
     "execution_count": 24,
     "metadata": {},
     "output_type": "execute_result"
    }
   ],
   "source": [
    "Dexela2315().max_shape"
   ]
  },
  {
   "cell_type": "code",
   "execution_count": 37,
   "metadata": {},
   "outputs": [],
   "source": [
    "slope_image = np.asarray(slope_list).reshape(np.array(Dexela2315().max_shape) // 1)\n",
    "offset_image = np.asarray(offset_list).reshape(np.array(Dexela2315().max_shape) // 1)\n",
    "r_squared_image = np.asarray(r_squared_list).reshape(np.array(Dexela2315().max_shape) // 1)"
   ]
  },
  {
   "cell_type": "code",
   "execution_count": 38,
   "metadata": {},
   "outputs": [],
   "source": [
    "test.plot_image(slope_image)"
   ]
  },
  {
   "cell_type": "code",
   "execution_count": 39,
   "metadata": {},
   "outputs": [],
   "source": [
    "io.imsave(f'{filedir}dark_fields\\\\fit_images\\\\scan{test.scanid}{det_sets}slope.tif', slope_image, check_contrast=False)\n",
    "io.imsave(f'{filedir}dark_fields\\\\fit_images\\\\scan{test.scanid}{det_sets}offset.tif', offset_image, check_contrast=False)\n",
    "io.imsave(f'{filedir}dark_fields\\\\fit_images\\\\scan{test.scanid}{det_sets}r_squared.tif', r_squared_image, check_contrast=False)"
   ]
  },
  {
   "cell_type": "code",
   "execution_count": null,
   "metadata": {},
   "outputs": [],
   "source": []
  }
 ],
 "metadata": {
  "kernelspec": {
   "display_name": "Python 3",
   "language": "python",
   "name": "python3"
  },
  "language_info": {
   "codemirror_mode": {
    "name": "ipython",
    "version": 3
   },
   "file_extension": ".py",
   "mimetype": "text/x-python",
   "name": "python",
   "nbconvert_exporter": "python",
   "pygments_lexer": "ipython3",
   "version": "3.11.5"
  }
 },
 "nbformat": 4,
 "nbformat_minor": 2
}
