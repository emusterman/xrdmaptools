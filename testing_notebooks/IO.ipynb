{
 "cells": [
  {
   "cell_type": "code",
   "execution_count": 20,
   "metadata": {},
   "outputs": [
    {
     "name": "stderr",
     "output_type": "stream",
     "text": [
      "100%|██████████| 20/20 [00:00<00:00, 193.43it/s]\n"
     ]
    }
   ],
   "source": [
    "import os\n",
    "import matplotlib.pyplot as plt\n",
    "import numpy as np\n",
    "from tqdm import tqdm\n",
    "plt.ioff();\n",
    "try:\n",
    "    maindir\n",
    "except NameError:\n",
    "    maindir = os.path.dirname(os.getcwd())\n",
    "for module in tqdm(os.listdir(maindir + '\\\\testing_modules')):\n",
    "    %run -i \"{maindir}\\\\testing_modules\\\\{module}\"\n",
    "base = os.path.dirname(os.path.dirname(maindir)) + '\\\\'\n",
    "plt.ion();\n",
    "np.set_printoptions(suppress=True)\n",
    "plt.close('All')"
   ]
  },
  {
   "cell_type": "code",
   "execution_count": 21,
   "metadata": {},
   "outputs": [],
   "source": [
    "%matplotlib qt\n",
    "import skimage.io as io\n",
    "import pyFAI\n",
    "import h5py\n",
    "from skimage.restoration import rolling_ball"
   ]
  },
  {
   "cell_type": "code",
   "execution_count": 22,
   "metadata": {},
   "outputs": [
    {
     "ename": "AttributeError",
     "evalue": "'XRDMap' object has no attribute '_h5'",
     "output_type": "error",
     "traceback": [
      "\u001b[1;31m---------------------------------------------------------------------------\u001b[0m",
      "\u001b[1;31mAttributeError\u001b[0m                            Traceback (most recent call last)",
      "\u001b[1;32mc:\\Users\\emusterma\\OneDrive - Brookhaven National Laboratory\\Documents\\Postdoc\\Repositories\\SRX_sXRD_analysis\\testing_notebooks\\IO.ipynb Cell 3\u001b[0m line \u001b[0;36m9\n\u001b[0;32m      <a href='vscode-notebook-cell:/c%3A/Users/emusterma/OneDrive%20-%20Brookhaven%20National%20Laboratory/Documents/Postdoc/Repositories/SRX_sXRD_analysis/testing_notebooks/IO.ipynb#X51sZmlsZQ%3D%3D?line=5'>6</a>\u001b[0m map_filename \u001b[39m=\u001b[39m \u001b[39mf\u001b[39m\u001b[39m'\u001b[39m\u001b[39mscan\u001b[39m\u001b[39m{\u001b[39;00mscanid\u001b[39m}\u001b[39;00m\u001b[39m_dexela_xrd.tif\u001b[39m\u001b[39m'\u001b[39m\n\u001b[0;32m      <a href='vscode-notebook-cell:/c%3A/Users/emusterma/OneDrive%20-%20Brookhaven%20National%20Laboratory/Documents/Postdoc/Repositories/SRX_sXRD_analysis/testing_notebooks/IO.ipynb#X51sZmlsZQ%3D%3D?line=6'>7</a>\u001b[0m dtype \u001b[39m=\u001b[39m np\u001b[39m.\u001b[39mint16\n\u001b[1;32m----> <a href='vscode-notebook-cell:/c%3A/Users/emusterma/OneDrive%20-%20Brookhaven%20National%20Laboratory/Documents/Postdoc/Repositories/SRX_sXRD_analysis/testing_notebooks/IO.ipynb#X51sZmlsZQ%3D%3D?line=8'>9</a>\u001b[0m test \u001b[39m=\u001b[39m XRDMap\u001b[39m.\u001b[39;49mfrom_image_stack(map_filename, wd\u001b[39m=\u001b[39;49mfiledir, energy\u001b[39m=\u001b[39;49m\u001b[39m15\u001b[39;49m)\n\u001b[0;32m     <a href='vscode-notebook-cell:/c%3A/Users/emusterma/OneDrive%20-%20Brookhaven%20National%20Laboratory/Documents/Postdoc/Repositories/SRX_sXRD_analysis/testing_notebooks/IO.ipynb#X51sZmlsZQ%3D%3D?line=9'>10</a>\u001b[0m test\u001b[39m.\u001b[39mscanid \u001b[39m=\u001b[39m \u001b[39m149566\u001b[39m\n\u001b[0;32m     <a href='vscode-notebook-cell:/c%3A/Users/emusterma/OneDrive%20-%20Brookhaven%20National%20Laboratory/Documents/Postdoc/Repositories/SRX_sXRD_analysis/testing_notebooks/IO.ipynb#X51sZmlsZQ%3D%3D?line=10'>11</a>\u001b[0m \u001b[39m#test.map.estimate_background(method='rolling_ball', radius=10)\u001b[39;00m\n\u001b[0;32m     <a href='vscode-notebook-cell:/c%3A/Users/emusterma/OneDrive%20-%20Brookhaven%20National%20Laboratory/Documents/Postdoc/Repositories/SRX_sXRD_analysis/testing_notebooks/IO.ipynb#X51sZmlsZQ%3D%3D?line=11'>12</a>\u001b[0m \u001b[39m# Bad approximation\u001b[39;00m\n",
      "File \u001b[1;32m~\\OneDrive - Brookhaven National Laboratory\\Documents\\Postdoc\\Repositories\\SRX_sXRD_analysis\\testing_modules\\sXRD_XRDMap.py:118\u001b[0m, in \u001b[0;36mXRDMap.from_image_stack\u001b[1;34m(cls, filename, wd, **kwargs)\u001b[0m\n\u001b[0;32m    115\u001b[0m     wd \u001b[39m=\u001b[39m \u001b[39m'\u001b[39m\u001b[39m/home/xf05id1/current_user_data/\u001b[39m\u001b[39m'\u001b[39m\n\u001b[0;32m    117\u001b[0m image_map \u001b[39m=\u001b[39m io\u001b[39m.\u001b[39mimread(\u001b[39mf\u001b[39m\u001b[39m'\u001b[39m\u001b[39m{\u001b[39;00mwd\u001b[39m}\u001b[39;00m\u001b[39m{\u001b[39;00mfilename\u001b[39m}\u001b[39;00m\u001b[39m'\u001b[39m)\n\u001b[1;32m--> 118\u001b[0m \u001b[39mreturn\u001b[39;00m \u001b[39mcls\u001b[39;49m(image_map\u001b[39m=\u001b[39;49mimage_map, wd\u001b[39m=\u001b[39;49mwd, map_title\u001b[39m=\u001b[39;49m\u001b[39m'\u001b[39;49m\u001b[39mraw_images\u001b[39;49m\u001b[39m'\u001b[39;49m, \u001b[39m*\u001b[39;49m\u001b[39m*\u001b[39;49mkwargs)\n",
      "File \u001b[1;32m~\\OneDrive - Brookhaven National Laboratory\\Documents\\Postdoc\\Repositories\\SRX_sXRD_analysis\\testing_modules\\sXRD_XRDMap.py:53\u001b[0m, in \u001b[0;36mXRDMap.__init__\u001b[1;34m(self, scanid, wd, filename, h5_file, image_map, map_title, energy, wavelength, poni_file, tth_resolution, chi_resolution, beamline, facility, extra_metadata)\u001b[0m\n\u001b[0;32m     50\u001b[0m     \u001b[39mself\u001b[39m\u001b[39m.\u001b[39mwavelength \u001b[39m=\u001b[39m wavelength\n\u001b[0;32m     52\u001b[0m \u001b[39m# Load image map\u001b[39;00m\n\u001b[1;32m---> 53\u001b[0m \u001b[39mself\u001b[39m\u001b[39m.\u001b[39mmap \u001b[39m=\u001b[39m ImageMap(image_map, title\u001b[39m=\u001b[39mmap_title, h5\u001b[39m=\u001b[39m\u001b[39mself\u001b[39;49m\u001b[39m.\u001b[39;49m_h5)\n\u001b[0;32m     55\u001b[0m \u001b[39mself\u001b[39m\u001b[39m.\u001b[39mphases \u001b[39m=\u001b[39m {} \u001b[39m# Place holder for potential phases\u001b[39;00m\n\u001b[0;32m     56\u001b[0m \u001b[39mif\u001b[39;00m poni_file \u001b[39mis\u001b[39;00m \u001b[39mnot\u001b[39;00m \u001b[39mNone\u001b[39;00m:\n",
      "\u001b[1;31mAttributeError\u001b[0m: 'XRDMap' object has no attribute '_h5'"
     ]
    }
   ],
   "source": [
    "scanid = 149248\n",
    "scanid = 149566\n",
    "filedir = '''D:\\\\Musterman_postdoc\\\\20231109_Musterman\\\\'''\n",
    "#filedir = '''D:\\\\Musterman_postdoc\\\\20231030_Musterman\\\\'''\n",
    "filedir = '''C:\\\\Users\\\\emusterma\\\\OneDrive - Brookhaven National Laboratory\\\\Documents\\\\Postdoc\\\\Data\\\\Condensed Datasets\\\\'''\n",
    "map_filename = f'scan{scanid}_dexela_xrd.tif'\n",
    "dtype = np.int16\n",
    "\n",
    "test = XRDMap.from_image_stack(map_filename, wd=filedir, energy=15)\n",
    "test.scanid = 149566\n",
    "#test.map.estimate_background(method='rolling_ball', radius=10)\n",
    "# Bad approximation\n",
    "dark_field = XRDMap.from_image_stack(f'scan149567_dexela_xrd.tif', wd=filedir).map.max_image"
   ]
  },
  {
   "cell_type": "code",
   "execution_count": 15,
   "metadata": {},
   "outputs": [],
   "source": [
    "filename = f'scan{test.scanid}_XRD_map.h5'\n",
    "wd = filedir\n",
    "\n",
    "f = h5py.File(f'{wd}{filename}', 'a') # 'a' allows for appending data\n",
    "base_grp = f.require_group('xrdmap')\n",
    "base_grp.attrs['scanid'] = test.scanid\n",
    "base_grp.attrs['beamline'] = '5-ID (SRX)'\n",
    "base_grp.attrs['facility'] = 'NSLS-II'\n",
    "base_grp.attrs['energy'] = test.energy\n",
    "base_grp.attrs['wavelength'] = test.wavelength\n",
    "base_grp.attrs['time_stamp'] = '' # Not sure why I cannot assign None\n",
    "\n",
    "# Record diffraction data\n",
    "curr_grp = base_grp.require_group('image_data') # naming the group after the detector may be a bad idea...\n",
    "curr_grp.attrs['detector'] = '' #'dexela'\n",
    "curr_grp.attrs['detector_binning'] = '' #(4, 4)\n",
    "curr_grp.attrs['exposure_time'] = '' # 0.1\n",
    "curr_grp.attrs['expsure_time_units'] = 's'\n",
    "\n",
    "# Raw Images\n",
    "dset = curr_grp.require_dataset('raw_images', data=test.map.images,\n",
    "                                shape=test.map.images.shape,\n",
    "                                dtype=test.map.dtype,\n",
    "                                compression=\"gzip\", compression_opts=8) # add compression to more places\n",
    "dset.attrs['labels'] = ['x_ind', 'y_ind', 'img_x', 'img_y']\n",
    "dset.attrs['units'] = 'counts'\n",
    "dset.attrs['dtype'] = str(test.map.dtype)\n",
    "dset.attrs['time_stamp'] = ttime.ctime()"
   ]
  },
  {
   "cell_type": "code",
   "execution_count": 16,
   "metadata": {},
   "outputs": [],
   "source": [
    "f.close()\n",
    "test._h5.close()\n",
    "test.map._h5.close()"
   ]
  },
  {
   "cell_type": "code",
   "execution_count": 10,
   "metadata": {},
   "outputs": [],
   "source": [
    "filename = f'scan{test.scanid}_XRD_map.h5'\n",
    "wd = filedir\n",
    "\n",
    "f = h5py.File(f'{wd}{filename}', 'a') # 'a' allows for appending data\n",
    "base_grp = f.require_group('xrdmap')\n",
    "base_grp.attrs['scanid'] = test.scanid\n",
    "base_grp.attrs['beamline'] = '5-ID (SRX)'\n",
    "base_grp.attrs['facility'] = 'NSLS-II'\n",
    "base_grp.attrs['energy'] = test.energy\n",
    "base_grp.attrs['wavelength'] = test.wavelemgth\n",
    "base_grp.attrs['time_stamp'] = None\n",
    "\n",
    "# Record diffraction data\n",
    "curr_grp = base_grp.require_group('image_data') # naming the group after the detector may be a bad idea...\n",
    "curr_grp.attrs['detector'] = None #'dexela'\n",
    "curr_grp.attrs['detector_binning'] = None #(4, 4)\n",
    "curr_grp.attrs['exposure_time'] = None # 0.1\n",
    "curr_grp.attrs['expsure_time_units'] = 's'\n",
    "\n",
    "# Raw Images\n",
    "dset = curr_grp.require_dataset('raw_images', data=)\n",
    "dset.attrs['labels'] = ['x_ind', 'y_ind', 'img_x', 'img_y']\n",
    "dset.attrs['units'] = 'counts'\n",
    "dset.attrs['dtype'] = np.uint16\n",
    "dset.attrs['time_stamp'] = ttime.ctime()\n",
    "\n",
    "'''# Dark-field Image(s)\n",
    "dset = curr_grp.require_dataset('dark_field', data=)\n",
    "dset.attrs['labels'] = ['x_ind', 'y_ind', 'img_x', 'img_y']\n",
    "dset.attrs['units'] = 'counts'\n",
    "dset.attrs['dtype'] = np.uint16\n",
    "dset.attrs['time_stamp'] = ttime.ctime()\n",
    "\n",
    "# Dark-field Corrected Images\n",
    "dset = curr_grp.require_dataset('dark_corrected_images', data=)\n",
    "dset.attrs['labels'] = ['x_ind', 'y_ind', 'img_x', 'img_y']\n",
    "dset.attrs['units'] = 'a.u.'\n",
    "dset.attrs['dtype'] = np.uint16\n",
    "dset.attrs['time_stamp'] = ttime.ctime()\n",
    "\n",
    "# Flat-field Image(s)\n",
    "dset = curr_grp.require_dataset('flat_field', data=)\n",
    "dset.attrs['labels'] = ['x_ind', 'y_ind', 'img_x', 'img_y'] # May change depending on image size\n",
    "dset.attrs['units'] = 'a.u.'\n",
    "dset.attrs['dtype'] = np.uint16\n",
    "dset.attrs['time_stamp'] = ttime.ctime()\n",
    "\n",
    "# Flat-field Corrected Images\n",
    "# Do I really need to record this?\n",
    "dset = curr_grp.require_dataset('flat_corrected_images', data=)\n",
    "dset.attrs['labels'] = ['x_ind', 'y_ind', 'img_x', 'img_y']\n",
    "dset.attrs['units'] = 'a.u.'\n",
    "dset.attrs['dtype'] = np.uint16\n",
    "dset.attrs['time_stamp'] = ttime.ctime()'''\n",
    "\n",
    "dset = curr_grp.require_dataset('processed_images', data=)\n",
    "dset.attrs['labels'] = ['x_ind', 'y_ind', 'img_x', 'img_y']\n",
    "dset.attrs['units'] = 'a.u.'\n",
    "dset.attrs['dtype'] = np.uint16\n",
    "dset.attrs['time_stamp'] = ttime.ctime()\n",
    "dset.attrs['corrections'] = ['dark-field', 'flat-field']\n",
    "dset.attrs['correction_methods'] = [None, None] # Median, rolling ball, spline, etc.\n",
    "\n",
    "# Calibrated Images\n",
    "dset = curr_grp.require_dataset('calibrated_images', data=)\n",
    "dset.attrs['labels'] = ['x_ind', 'y_ind', 'tth_ind', 'chi_ind']\n",
    "dset.attrs['units'] = 'a.u'\n",
    "dset.attrs['dtype'] = np.uint16\n",
    "dset.attrs['time_stamp'] = ttime.ctime()\n",
    "\n",
    "# Calibration Mask\n",
    "dset = curr_grp.require_dataset('calibration_mask', data=)\n",
    "dset.attrs['labels'] = ['x_ind', 'y_ind', 'tth_ind', 'chi_ind']\n",
    "dset.attrs['units'] = 'a.u'\n",
    "dset.attrs['dtype'] = np.uint16\n",
    "dset.attrs['time_stamp'] = ttime.ctime()\n",
    "\n",
    "######################################################\n",
    "# Blobs\n",
    "curr_grp = base_grp.require_group('analysis')\n",
    "dset = curr_grp.require_dataset('blobs', data=)\n",
    "dset.attrs['labels'] = ['x_ind', 'y_ind', 'blobs']\n",
    "dset.attrs['units'] = 'arbitrary'\n",
    "dset.attrs['time_stamp'] = ttime.ctime()\n",
    "\n",
    "# Phase\n",
    "dset = curr_grp.require_dataset('phase', data=)\n",
    "set.attrs['possible_phases'] = [phase.name for phase in test.phases]\n",
    "\n",
    "# Orientation\n",
    "\n",
    "# Strain\n",
    "\n",
    "# Size/Shape\n",
    "\n",
    "######################################################\n",
    "# Record positiion data\n",
    "curr_grp = base_grp.require_group('positions')\n",
    "#f['/xrdmap/positions'].create_dataset('name', data=['x_pos', 'y_pos'])\n",
    "#f['/xrdmap/positions'].create_dataset('pos', data=)\n",
    "dset.attrs['labels'] = ['x_pos', 'y_pos']\n",
    "dset.attrs['units'] = 'μm'\n",
    "dset.attrs['dtype'] = np.uint16\n",
    "\n",
    "# Record calibrated reciprocal space data\n",
    "curr_grp = base_grp.require_group('recipriocal_positions')\n",
    "#f['/xrdmap/positions'].create_dataset('name', data=['x_pos', 'y_pos'])\n",
    "#f['/xrdmap/positions'].create_dataset('pos', data=)\n",
    "dset.attrs['labels'] = ['tth', 'chi']\n",
    "dset.attrs['comments'] = \"\"\"'tth' is the two_theta scattering angle\\n\n",
    "                         'chi' is the azimuthal angle\"\"\"\n",
    "dset.attrs['units'] = '° [deg.]'\n",
    "dset.attrs['dtype'] = np.uint16\n",
    "dset.attrs['time_stamp'] = ttime.ctime()\n",
    "dset.attrs['calibration'] = None # Read poni file as dictionary\n",
    "dset.attrs['extent'] = test.extent\n",
    "\n",
    "# Record scalar data\n",
    "curr_grp = base_grp.require_group('scalars')\n",
    "dset.attr['labels'] = ['i0', 'i0_time', 'time', 'im', 'it'] # Not sure if I will need all of these...\n",
    "dset.attr['units'] = 'counts'\n",
    "dset.attr['dtype'] = np.uint16\n",
    "#f['/xrdmap/scalers'].create_dataset('name', data=)\n",
    "#f['/xrdmap/scalers'].create_dataset('val', data=)\n",
    "\n",
    "\n",
    "f.close()"
   ]
  },
  {
   "cell_type": "code",
   "execution_count": null,
   "metadata": {},
   "outputs": [],
   "source": [
    "test.map.subtract_background(background = dark_field)\n",
    "flat_field = rolling_ball(median_filter(test.map.med_image, size=20), radius=10)\n",
    "\n",
    "new_image_lst = []\n",
    "for image in test.map.images.reshape(test.map.num_images, *test.map.image_shape):\n",
    "    new_image = image / flat_field / np.median(image)\n",
    "    new_image_lst.append(new_image)\n",
    "\n",
    "test.map.images = np.asarray(new_image_lst).reshape(*test.map.shape)\n",
    "test.map.dtype = np.float32\n",
    "\n",
    "#test.map.subtract_background(background = background)\n",
    "test.set_calibration('scan149562_dexela_calibration.poni')\n",
    "#test.set_calibration('scan149256_dexela.poni')"
   ]
  },
  {
   "cell_type": "code",
   "execution_count": 13,
   "metadata": {},
   "outputs": [],
   "source": [
    "import pyUSID"
   ]
  },
  {
   "cell_type": "code",
   "execution_count": 25,
   "metadata": {},
   "outputs": [],
   "source": [
    "fname = 'scan2D_149248_xs_sum8ch.h5'\n",
    "\n",
    "f = h5py.File(f'{wd}{fname}', 'r')"
   ]
  },
  {
   "cell_type": "code",
   "execution_count": 65,
   "metadata": {},
   "outputs": [
    {
     "ename": "RuntimeError",
     "evalue": "Unable to create attribute (no write intent on file)",
     "output_type": "error",
     "traceback": [
      "\u001b[1;31m---------------------------------------------------------------------------\u001b[0m",
      "\u001b[1;31mRuntimeError\u001b[0m                              Traceback (most recent call last)",
      "\u001b[1;32mc:\\Users\\emusterma\\OneDrive - Brookhaven National Laboratory\\Documents\\Postdoc\\Repositories\\SRX_sXRD_analysis\\testing_notebooks\\IO.ipynb Cell 8\u001b[0m line \u001b[0;36m1\n\u001b[1;32m----> <a href='vscode-notebook-cell:/c%3A/Users/emusterma/OneDrive%20-%20Brookhaven%20National%20Laboratory/Documents/Postdoc/Repositories/SRX_sXRD_analysis/testing_notebooks/IO.ipynb#X62sZmlsZQ%3D%3D?line=0'>1</a>\u001b[0m f[\u001b[39m'\u001b[39;49m\u001b[39m/xrfmap/scalers/name\u001b[39;49m\u001b[39m'\u001b[39;49m]\u001b[39m.\u001b[39;49mattrs[\u001b[39m'\u001b[39;49m\u001b[39mnames\u001b[39;49m\u001b[39m'\u001b[39;49m] \u001b[39m=\u001b[39m [\u001b[39m'\u001b[39m\u001b[39mi0\u001b[39m\u001b[39m'\u001b[39m, \u001b[39m'\u001b[39m\u001b[39mi0_time\u001b[39m\u001b[39m'\u001b[39m, \u001b[39m'\u001b[39m\u001b[39mtime\u001b[39m\u001b[39m'\u001b[39m, \u001b[39m'\u001b[39m\u001b[39mim\u001b[39m\u001b[39m'\u001b[39m, \u001b[39m'\u001b[39m\u001b[39mit\u001b[39m\u001b[39m'\u001b[39m]\n",
      "File \u001b[1;32mh5py\\_objects.pyx:54\u001b[0m, in \u001b[0;36mh5py._objects.with_phil.wrapper\u001b[1;34m()\u001b[0m\n",
      "File \u001b[1;32mh5py\\_objects.pyx:55\u001b[0m, in \u001b[0;36mh5py._objects.with_phil.wrapper\u001b[1;34m()\u001b[0m\n",
      "File \u001b[1;32mc:\\Users\\emusterma\\AppData\\Local\\Programs\\Python\\Python311\\Lib\\site-packages\\h5py\\_hl\\attrs.py:104\u001b[0m, in \u001b[0;36mAttributeManager.__setitem__\u001b[1;34m(self, name, value)\u001b[0m\n\u001b[0;32m     96\u001b[0m \u001b[39m@with_phil\u001b[39m\n\u001b[0;32m     97\u001b[0m \u001b[39mdef\u001b[39;00m \u001b[39m__setitem__\u001b[39m(\u001b[39mself\u001b[39m, name, value):\n\u001b[0;32m     98\u001b[0m \u001b[39m    \u001b[39m\u001b[39m\"\"\" Set a new attribute, overwriting any existing attribute.\u001b[39;00m\n\u001b[0;32m     99\u001b[0m \n\u001b[0;32m    100\u001b[0m \u001b[39m    The type and shape of the attribute are determined from the data.  To\u001b[39;00m\n\u001b[0;32m    101\u001b[0m \u001b[39m    use a specific type or shape, or to preserve the type of an attribute,\u001b[39;00m\n\u001b[0;32m    102\u001b[0m \u001b[39m    use the methods create() and modify().\u001b[39;00m\n\u001b[0;32m    103\u001b[0m \u001b[39m    \"\"\"\u001b[39;00m\n\u001b[1;32m--> 104\u001b[0m     \u001b[39mself\u001b[39;49m\u001b[39m.\u001b[39;49mcreate(name, data\u001b[39m=\u001b[39;49mvalue)\n",
      "File \u001b[1;32mc:\\Users\\emusterma\\AppData\\Local\\Programs\\Python\\Python311\\Lib\\site-packages\\h5py\\_hl\\attrs.py:202\u001b[0m, in \u001b[0;36mAttributeManager.create\u001b[1;34m(self, name, data, shape, dtype)\u001b[0m\n\u001b[0;32m    199\u001b[0m \u001b[39mif\u001b[39;00m h5a\u001b[39m.\u001b[39mexists(\u001b[39mself\u001b[39m\u001b[39m.\u001b[39m_id, name):\n\u001b[0;32m    200\u001b[0m     h5a\u001b[39m.\u001b[39mdelete(\u001b[39mself\u001b[39m\u001b[39m.\u001b[39m_id, name)\n\u001b[1;32m--> 202\u001b[0m attr \u001b[39m=\u001b[39m h5a\u001b[39m.\u001b[39;49mcreate(\u001b[39mself\u001b[39;49m\u001b[39m.\u001b[39;49m_id, name, htype, space)\n\u001b[0;32m    203\u001b[0m \u001b[39mtry\u001b[39;00m:\n\u001b[0;32m    204\u001b[0m     \u001b[39mif\u001b[39;00m \u001b[39mnot\u001b[39;00m \u001b[39misinstance\u001b[39m(data, Empty):\n",
      "File \u001b[1;32mh5py\\_objects.pyx:54\u001b[0m, in \u001b[0;36mh5py._objects.with_phil.wrapper\u001b[1;34m()\u001b[0m\n",
      "File \u001b[1;32mh5py\\_objects.pyx:55\u001b[0m, in \u001b[0;36mh5py._objects.with_phil.wrapper\u001b[1;34m()\u001b[0m\n",
      "File \u001b[1;32mh5py\\h5a.pyx:50\u001b[0m, in \u001b[0;36mh5py.h5a.create\u001b[1;34m()\u001b[0m\n",
      "\u001b[1;31mRuntimeError\u001b[0m: Unable to create attribute (no write intent on file)"
     ]
    }
   ],
   "source": [
    "f['/xrfmap/scalers/name'].attrs['names'] = ['i0', 'i0_time', 'time', 'im', 'it']"
   ]
  },
  {
   "cell_type": "code",
   "execution_count": 16,
   "metadata": {},
   "outputs": [
    {
     "name": "stdout",
     "output_type": "stream",
     "text": [
      "/\n",
      "├ xrfmap\n",
      "  ------\n",
      "  ├ detsum\n",
      "    ------\n",
      "    ├ counts\n",
      "    ├ xrf_fit\n",
      "    ├ xrf_fit_name\n",
      "  ├ positions\n",
      "    ---------\n",
      "    ├ name\n",
      "    ├ pos\n",
      "  ├ scalers\n",
      "    -------\n",
      "    ├ name\n",
      "    ├ val\n",
      "  ├ scan_metadata\n",
      "    -------------\n"
     ]
    }
   ],
   "source": [
    "pyUSID.hdf_utils.print_tree(f)"
   ]
  },
  {
   "cell_type": "code",
   "execution_count": null,
   "metadata": {},
   "outputs": [],
   "source": []
  }
 ],
 "metadata": {
  "kernelspec": {
   "display_name": "Python 3",
   "language": "python",
   "name": "python3"
  },
  "language_info": {
   "codemirror_mode": {
    "name": "ipython",
    "version": 3
   },
   "file_extension": ".py",
   "mimetype": "text/x-python",
   "name": "python",
   "nbconvert_exporter": "python",
   "pygments_lexer": "ipython3",
   "version": "3.11.5"
  }
 },
 "nbformat": 4,
 "nbformat_minor": 2
}
