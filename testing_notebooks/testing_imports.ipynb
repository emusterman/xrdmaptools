{
 "cells": [
  {
   "cell_type": "code",
   "execution_count": 1,
   "metadata": {},
   "outputs": [],
   "source": [
    "import os\n",
    "import h5py\n",
    "import numpy as np\n",
    "from IPython.lib.deepreload import reload\n",
    "import matplotlib.pyplot as plt\n",
    "from collections import OrderedDict\n",
    "import skimage.io as io\n",
    "%matplotlib qt"
   ]
  },
  {
   "cell_type": "code",
   "execution_count": 2,
   "metadata": {},
   "outputs": [
    {
     "name": "stderr",
     "output_type": "stream",
     "text": [
      "c:\\Users\\emusterma\\AppData\\Local\\anaconda3\\envs\\sXRDMap-py311-1.0\\Lib\\site-packages\\pyopencl\\cache.py:495: CompilerWarning: Non-empty compiler output encountered. Set the environment variable PYOPENCL_COMPILER_OUTPUT=1 to see more.\n",
      "  _create_built_program_from_source_cached(\n"
     ]
    },
    {
     "name": "stdout",
     "output_type": "stream",
     "text": [
      "Connecting to databrokers...failed.\n"
     ]
    }
   ],
   "source": [
    "import xrdmaptools\n",
    "from xrdmaptools.XRDMap import XRDMap\n",
    "from xrdmaptools.reflections.SpotModels import GaussianFunctions\n",
    "reload(xrdmaptools);"
   ]
  },
  {
   "cell_type": "code",
   "execution_count": 3,
   "metadata": {},
   "outputs": [
    {
     "data": {
      "text/plain": [
       "15.000024007113856"
      ]
     },
     "execution_count": 3,
     "metadata": {},
     "output_type": "execute_result"
    }
   ],
   "source": [
    "from xrdmaptools.utilities.math import wavelength_2_energy\n",
    "\n",
    "wavelength_2_energy(0.82656)"
   ]
  },
  {
   "cell_type": "code",
   "execution_count": 4,
   "metadata": {},
   "outputs": [
    {
     "name": "stdout",
     "output_type": "stream",
     "text": [
      "Loading images...done!\n",
      "WARNING: Input array given as 3D object. Assuming square map...\n",
      "Assumed map shape is (41, 41) with images of (972, 1536)\n",
      "Loading images...done!\n",
      "WARNING: Input array given as 3D object. Assuming square map...\n",
      "Assumed map shape is (41, 41) with images of (972, 1536)\n",
      "Loading images...done!\n",
      "WARNING: Input array given as 3D object. Assuming square map...\n",
      "Assumed map shape is (41, 41) with images of (972, 1536)\n"
     ]
    }
   ],
   "source": [
    "scanid = 107243\n",
    "\n",
    "filedir = 'D:\\\\Musterman_postdoc\\\\Varun_data\\\\'\n",
    "map_filename = f'scan{scanid}_xrd.tiff'\n",
    "\n",
    "test1 = XRDMap.from_image_stack(map_filename, wd=filedir, energy=15, scanid=scanid, save_hdf=False)\n",
    "\n",
    "scanid = 107253\n",
    "\n",
    "filedir = 'D:\\\\Musterman_postdoc\\\\Varun_data\\\\'\n",
    "map_filename = f'scan{scanid}_xrd.tiff'\n",
    "\n",
    "test2 = XRDMap.from_image_stack(map_filename, wd=filedir, energy=15, scanid=scanid, save_hdf=False)\n",
    "\n",
    "scanid = 107263\n",
    "\n",
    "filedir = 'D:\\\\Musterman_postdoc\\\\Varun_data\\\\'\n",
    "map_filename = f'scan{scanid}_xrd.tiff'\n",
    "\n",
    "test3 = XRDMap.from_image_stack(map_filename, wd=filedir, energy=15, scanid=scanid, save_hdf=False)"
   ]
  },
  {
   "cell_type": "code",
   "execution_count": 36,
   "metadata": {},
   "outputs": [
    {
     "name": "stdout",
     "output_type": "stream",
     "text": [
      "Loading images...done!\n",
      "WARNING: Input array given as 3D object. Assuming square map...\n",
      "Assumed map shape is (41, 41) with images of (972, 1536)\n"
     ]
    }
   ],
   "source": [
    "scanid = 107263\n",
    "\n",
    "filedir = 'D:\\\\Musterman_postdoc\\\\Varun_data\\\\'\n",
    "map_filename = f'scan{scanid}_xrd.tiff'\n",
    "\n",
    "test3 = XRDMap.from_image_stack(map_filename, wd=filedir, energy=15, scanid=scanid, save_hdf=False)"
   ]
  },
  {
   "cell_type": "code",
   "execution_count": 14,
   "metadata": {},
   "outputs": [],
   "source": [
    "test3.map.med_image;"
   ]
  },
  {
   "cell_type": "code",
   "execution_count": 17,
   "metadata": {},
   "outputs": [],
   "source": [
    "test3.map.dtype = np.float32"
   ]
  },
  {
   "cell_type": "code",
   "execution_count": 18,
   "metadata": {},
   "outputs": [],
   "source": [
    "test3.map.dtype = np.float32\n",
    "\n",
    "test3.map.images -= test3.map.med_image"
   ]
  },
  {
   "cell_type": "code",
   "execution_count": 23,
   "metadata": {},
   "outputs": [
    {
     "data": {
      "text/plain": [
       "(38, 18)"
      ]
     },
     "execution_count": 23,
     "metadata": {},
     "output_type": "execute_result"
    }
   ],
   "source": [
    "np.unravel_index(1576, test3.map.map_shape)"
   ]
  },
  {
   "cell_type": "code",
   "execution_count": 24,
   "metadata": {},
   "outputs": [],
   "source": [
    "test3.plot_image([38, 18])"
   ]
  },
  {
   "cell_type": "code",
   "execution_count": 29,
   "metadata": {},
   "outputs": [],
   "source": [
    "test2.plot_interactive_map(display_map=np.sum(test2.map.images[:, :, 300:360, 700:770], axis=(2, 3)),\n",
    "                            img_vmin=1e3, img_vmax=2e3)"
   ]
  },
  {
   "cell_type": "code",
   "execution_count": 34,
   "metadata": {},
   "outputs": [],
   "source": [
    "test3.plot_interactive_map(display_map=np.sum(test3.map.images[:, :, 300:360, 700:770], axis=(2, 3)),\n",
    "                            img_vmin=-3.5e3, img_vmax=-2e3)"
   ]
  },
  {
   "cell_type": "code",
   "execution_count": 5,
   "metadata": {},
   "outputs": [],
   "source": [
    "test1.map.med_image\n",
    "test2.map.med_image\n",
    "test3.map.med_image;"
   ]
  },
  {
   "cell_type": "code",
   "execution_count": 11,
   "metadata": {},
   "outputs": [],
   "source": [
    "test3.map.images -= test3.map.med_image"
   ]
  },
  {
   "cell_type": "code",
   "execution_count": 11,
   "metadata": {},
   "outputs": [],
   "source": [
    "test.plot_interactive_map(display_map=test.map.max_map, img_vmin=0, img_vmax=1e4)"
   ]
  },
  {
   "cell_type": "code",
   "execution_count": 14,
   "metadata": {},
   "outputs": [
    {
     "data": {
      "text/plain": [
       "(329, 736)"
      ]
     },
     "execution_count": 14,
     "metadata": {},
     "output_type": "execute_result"
    }
   ],
   "source": [
    "np.unravel_index(np.argmax(test.map.images[22, 28]), test.map.image_shape)"
   ]
  },
  {
   "cell_type": "code",
   "execution_count": 10,
   "metadata": {},
   "outputs": [],
   "source": [
    "test3.plot_image(test3.map.images[22, 28, 300:360, 700:770])"
   ]
  },
  {
   "cell_type": "code",
   "execution_count": 27,
   "metadata": {},
   "outputs": [
    {
     "data": {
      "text/plain": [
       "array([[6367417, 6283277, 6288827, ..., 6293338, 6293140, 6278595],\n",
       "       [6299926, 6294414, 6278905, ..., 6299546, 6302492, 6292883],\n",
       "       [6367375, 6279981, 6298709, ..., 6295937, 6287933, 6297607],\n",
       "       ...,\n",
       "       [6361121, 6295429, 6286304, ..., 6313112, 6312292, 6317346],\n",
       "       [6323595, 6323322, 6289798, ..., 6290436, 6324042, 6305934],\n",
       "       [6366079, 6297589, 6307345, ..., 6308725, 6321375, 6327826]],\n",
       "      dtype=uint32)"
      ]
     },
     "execution_count": 27,
     "metadata": {},
     "output_type": "execute_result"
    }
   ],
   "source": [
    "np.sum(test.map.images[:, :, 300:360, 700:770], axis=(2, 3))"
   ]
  },
  {
   "cell_type": "code",
   "execution_count": 17,
   "metadata": {},
   "outputs": [],
   "source": [
    "test1.plot_interactive_map(img_vmin=0, img_vmax=1e4)"
   ]
  },
  {
   "cell_type": "code",
   "execution_count": 12,
   "metadata": {},
   "outputs": [],
   "source": [
    "test3.plot_interactive_map(display_map=np.sum(test3.map.images[:, :, 300:360, 700:770], axis=(2, 3)),\n",
    "                            img_vmin=0, img_vmax=1e4)"
   ]
  },
  {
   "cell_type": "code",
   "execution_count": null,
   "metadata": {},
   "outputs": [],
   "source": [
    "from xrdmaptools.plot.interactive_plotting import interactive_dynamic_2d_plot\n",
    "\n",
    "\n",
    "interactive_dynamic_2d_plot(np.asarray(test.map.images), tth=None, chi=None,\n",
    "                                    display_map=display_map,\n",
    "                                    **kwargs)"
   ]
  },
  {
   "cell_type": "code",
   "execution_count": null,
   "metadata": {},
   "outputs": [],
   "source": []
  },
  {
   "cell_type": "code",
   "execution_count": 37,
   "metadata": {},
   "outputs": [],
   "source": [
    "import skimage.io as io\n",
    "\n",
    "#test1.map.images = io.imread()\n",
    "# 4D image (map_x, map_y, img_y, img_x)\n",
    "# test1.map.images = test1.map.images.reshape(41, 41, img_y, img_x)\n",
    "\n",
    "fig, ax = plt.subplots(1, 3, figsize=(8, 3), dpi=200)\n",
    "\n",
    "vmin=6.3e6\n",
    "vmax=1.2e7\n",
    "\n",
    "im = ax[0].imshow(np.sum(test1.map.images[:, :, 300:360, 700:770], axis=(2, 3)), vmin=vmin, vmax=vmax)\n",
    "fig.colorbar(im,  ax=ax[0], shrink=0.5)\n",
    "ax[0].set_title('scan107243')\n",
    "\n",
    "im = ax[1].imshow(np.sum(test2.map.images[:, :, 300:360, 700:770], axis=(2, 3)), vmin=vmin, vmax=vmax)\n",
    "fig.colorbar(im,  ax=ax[1], shrink=0.5)\n",
    "ax[1].set_title('scan107253')\n",
    "\n",
    "im = ax[2].imshow(np.sum(test3.map.images[:, :, 300:360, 700:770], axis=(2, 3)), vmin=vmin, vmax=vmax)\n",
    "fig.colorbar(im,  ax=ax[2], shrink=0.5)\n",
    "ax[2].set_title('scan107263')\n",
    "\n",
    "fig.show()"
   ]
  },
  {
   "cell_type": "code",
   "execution_count": null,
   "metadata": {},
   "outputs": [],
   "source": []
  },
  {
   "cell_type": "code",
   "execution_count": null,
   "metadata": {},
   "outputs": [],
   "source": []
  },
  {
   "cell_type": "code",
   "execution_count": null,
   "metadata": {},
   "outputs": [],
   "source": []
  },
  {
   "cell_type": "code",
   "execution_count": 3,
   "metadata": {},
   "outputs": [
    {
     "name": "stdout",
     "output_type": "stream",
     "text": [
      "Loading data from hdf file...\n",
      "Loading most recent images (final_images)...done!\n",
      "Loading reciprocal positions...done!\n",
      "Loading saved phases...done!\n",
      "Loading scalers...done!\n",
      "Loading positions...done!\n",
      "Loading reflection spots...done!\n",
      "Instantiating ImageMap...done!\n",
      "XRD Map loaded!\n"
     ]
    }
   ],
   "source": [
    "scanid = 153076\n",
    "scanid = 153273\n",
    "scanid = 153126\n",
    "#scanid = 153248\n",
    "#scanid = 153485\n",
    "filedir = 'D:\\\\Musterman_postdoc\\\\20240223_Musterman\\\\testing_maps\\\\'\n",
    "#filedir = 'D:\\\\Musterman_postdoc\\\\20240223_Musterman\\\\xrd_maps\\\\'\n",
    "h5_filename = f'scan{scanid}_xrd.h5'\n",
    "test = XRDMap.from_hdf(h5_filename, wd=filedir, save_hdf=False, dask_enabled=False)"
   ]
  },
  {
   "cell_type": "code",
   "execution_count": 4,
   "metadata": {},
   "outputs": [
    {
     "name": "stdout",
     "output_type": "stream",
     "text": [
      "Calibration performed under different settings. Adjusting calibration.\n"
     ]
    }
   ],
   "source": [
    "filedir = 'D:\\\\Musterman_postdoc\\\\20240223_Musterman\\\\calibrations\\\\'\n",
    "\n",
    "#test.set_calibration('scan153043_dexela_calibration.poni', filedir=filedir)\n",
    "test.set_calibration('new\\\\scan153043_dexela_calibration.poni', filedir=filedir)"
   ]
  },
  {
   "cell_type": "code",
   "execution_count": 5,
   "metadata": {},
   "outputs": [],
   "source": [
    "test._del_arr()"
   ]
  },
  {
   "cell_type": "code",
   "execution_count": 4,
   "metadata": {},
   "outputs": [
    {
     "name": "stdout",
     "output_type": "stream",
     "text": [
      "Correcting dark-field...done!\n"
     ]
    }
   ],
   "source": [
    "dark_id = 153074\n",
    "#dark_id = 153086\n",
    "#dark_id = 153247\n",
    "#dark_id = 153247\n",
    "#dark_id = 153481\n",
    "dark_dir = 'D:\\\\Musterman_postdoc\\\\20240223_Musterman\\\\dark_fields\\\\'\n",
    "dir_mask = [str(dark_id) in d for d in os.listdir(dark_dir)]\n",
    "\n",
    "dark_field = io.imread(f'{dark_dir}{np.array(os.listdir(dark_dir))[dir_mask][0]}').astype(np.float32)\n",
    "test.map.correct_dark_field(dark_field=dark_field)"
   ]
  },
  {
   "cell_type": "code",
   "execution_count": 5,
   "metadata": {},
   "outputs": [
    {
     "name": "stdout",
     "output_type": "stream",
     "text": [
      "Normalize image by i0 scaler...done!\n"
     ]
    }
   ],
   "source": [
    "#test.map.correct_outliers()\n",
    "test.map.normalize_scaler()"
   ]
  },
  {
   "cell_type": "code",
   "execution_count": 6,
   "metadata": {},
   "outputs": [
    {
     "name": "stdout",
     "output_type": "stream",
     "text": [
      "Applying X-ray polarization correction...done!\n",
      "Applying solid angle correction...done!\n"
     ]
    }
   ],
   "source": [
    "test.map.apply_lorentz_correction(apply=False)\n",
    "test.map.apply_polarization_correction()\n",
    "test.map.apply_solidangle_correction()"
   ]
  },
  {
   "cell_type": "code",
   "execution_count": 7,
   "metadata": {},
   "outputs": [],
   "source": [
    "from xrdmaptools.utilities.utilities import delta_array\n",
    "omega = 4 * np.arcsin(np.sin(np.radians(test.delta_tth / 2)) * np.sin(np.radians(test.delta_chi / 2)))\n",
    "\n",
    "test.map.images /= (omega * np.sin(np.radians(test.tth_arr)))\n",
    "test.map.corrections['lorentz'] = True"
   ]
  },
  {
   "cell_type": "code",
   "execution_count": 8,
   "metadata": {},
   "outputs": [
    {
     "name": "stdout",
     "output_type": "stream",
     "text": [
      "Estimating background with Bruckner algorithm.\n",
      "Warning: No mask could be constructed.\n"
     ]
    },
    {
     "name": "stderr",
     "output_type": "stream",
     "text": [
      "100%|██████████| 3321/3321 [01:24<00:00, 39.40it/s]\n"
     ]
    }
   ],
   "source": [
    "#test.map.estimate_background(method='bruckner', binning=2, min_prominence=1)\n",
    "test.map.estimate_background(method='bruckner', binning=2, min_prominence=0.1)"
   ]
  },
  {
   "cell_type": "code",
   "execution_count": 9,
   "metadata": {},
   "outputs": [
    {
     "name": "stdout",
     "output_type": "stream",
     "text": [
      "Removing background...done!\n"
     ]
    }
   ],
   "source": [
    "test.map.remove_background()"
   ]
  },
  {
   "cell_type": "code",
   "execution_count": 10,
   "metadata": {},
   "outputs": [
    {
     "name": "stdout",
     "output_type": "stream",
     "text": [
      "Caution: Images not corrected for:\n",
      "\tabsorption\n",
      "\tflat_field\n",
      "\toutliers\n",
      "\tpixel_defects\n",
      "\tpixel_distortions\n",
      "\tpolar_calibration\n",
      "Cleaning and updating image information...\n",
      "Diffraction map size is 4.618 GB.\n",
      "No hdf file specified. Images will not be saved.\n"
     ]
    }
   ],
   "source": [
    "test.map.rescale_images(arr_min=0)\n",
    "test.map.finalize_images()"
   ]
  },
  {
   "cell_type": "code",
   "execution_count": 11,
   "metadata": {},
   "outputs": [
    {
     "name": "stdout",
     "output_type": "stream",
     "text": [
      "Searching images for spots...\n"
     ]
    },
    {
     "name": "stderr",
     "output_type": "stream",
     "text": [
      "100%|██████████| 3321/3321 [00:50<00:00, 65.14it/s]\n"
     ]
    },
    {
     "name": "stdout",
     "output_type": "stream",
     "text": [
      "Estimating spot characteristics...\n"
     ]
    },
    {
     "name": "stderr",
     "output_type": "stream",
     "text": [
      "100%|██████████| 64438/64438 [04:52<00:00, 220.52it/s]\n"
     ]
    },
    {
     "name": "stdout",
     "output_type": "stream",
     "text": [
      "Scheduling blob segmentation for spot fits...\n"
     ]
    },
    {
     "name": "stderr",
     "output_type": "stream",
     "text": [
      "100%|██████████| 3321/3321 [01:02<00:00, 52.94it/s]\n"
     ]
    },
    {
     "name": "stdout",
     "output_type": "stream",
     "text": [
      "Segmenting blobs for spot fits...\n"
     ]
    },
    {
     "name": "stderr",
     "output_type": "stream",
     "text": [
      "100%|██████████| 3321/3321 [01:14<00:00, 44.35it/s]\n"
     ]
    },
    {
     "name": "stdout",
     "output_type": "stream",
     "text": [
      "Fitting spots in blobs...\n"
     ]
    },
    {
     "name": "stderr",
     "output_type": "stream",
     "text": [
      "100%|██████████| 51639/51639 [31:40<00:00, 27.18it/s]  \n"
     ]
    },
    {
     "name": "stdout",
     "output_type": "stream",
     "text": [
      "Successfully fit 62125 / 64438 spots ( 96.4 % ).\n",
      "Extracting more information from peak parameters...\n"
     ]
    },
    {
     "name": "stderr",
     "output_type": "stream",
     "text": [
      "100%|██████████| 64438/64438 [01:06<00:00, 962.01it/s] "
     ]
    },
    {
     "name": "stdout",
     "output_type": "stream",
     "text": [
      "Converting peaks positions to q-space...done!\n"
     ]
    },
    {
     "name": "stderr",
     "output_type": "stream",
     "text": [
      "\n"
     ]
    }
   ],
   "source": [
    "test.find_spots(multiplier=3, expansion=10, radius=10, size=3, threshold_method='minimum')\n",
    "test.fit_spots(GaussianFunctions, max_dist=0.2, sigma=1)\n",
    "test.initial_spot_analysis()"
   ]
  },
  {
   "cell_type": "code",
   "execution_count": 282,
   "metadata": {},
   "outputs": [],
   "source": [
    "test.plot_image()"
   ]
  },
  {
   "cell_type": "code",
   "execution_count": 38,
   "metadata": {},
   "outputs": [],
   "source": [
    "cif_dir = '''C:\\\\Users\\\\emusterma\\\\OneDrive - Brookhaven National Laboratory\\\\Documents\\\\Postdoc\\\\Literature\\\\CIF\\\\'''\n",
    "test.clear_phases()\n",
    "test.load_phase('AMCSD\\\\Stibnite_0008636.cif', filedir=cif_dir, phase_name=\"stibnite\")\n",
    "test.load_phase('AMCSD\\\\Platinum_0011157.cif', filedir=cif_dir, phase_name=\"platinum\")\n",
    "test.load_phase('AMCSD\\\\Tungsten_0011236.cif', filedir=cif_dir, phase_name=\"tungsten_2\")\n",
    "test.load_phase('AMCSD\\\\Iron_0011146.cif', filedir=cif_dir, phase_name=\"304SS-austenite\")\n",
    "test.phases['304SS-austenite'].a = 3.529"
   ]
  },
  {
   "cell_type": "code",
   "execution_count": 510,
   "metadata": {},
   "outputs": [],
   "source": [
    "test.plot_interactive_map(img_vmax=0.1, img_vmin=0)"
   ]
  },
  {
   "cell_type": "code",
   "execution_count": 273,
   "metadata": {},
   "outputs": [],
   "source": [
    "from xrdmaptools.geometry.geometry import estimate_image_coords\n",
    "\n",
    "def vector_angle(v1, v2, degrees=False):\n",
    "    angle = np.arccos(np.dot(v1, v2) / (np.linalg.norm(v1, axis=-1) *  np.linalg.norm(v2, axis=-1)))\n",
    "    if degrees:\n",
    "        angle = np.degrees(angle)\n",
    "    return angle\n",
    "\n",
    "def q_2_polar(q_vect, wavelength=None, degrees=False):\n",
    "    q_vect = np.asarray(q_vect)\n",
    "    q_norm = np.linalg.norm(q_vect, axis=-1)\n",
    "\n",
    "    # Find tth and chi\n",
    "    theta = np.pi / 2 - vector_angle(q_vect, [0, 0, -1], degrees=False) # always false\n",
    "    tth = 2 * theta\n",
    "    # Negative qx to switch to pyFAI coordinate system\n",
    "    chi = np.arctan2(q_vect[..., 1], -q_vect[..., 0])\n",
    "\n",
    "    if degrees:\n",
    "        tth = np.degrees(tth)\n",
    "        chi = np.degrees(chi)\n",
    "\n",
    "    # Get radius of Ewald sphere and wavelength\n",
    "    if wavelength is None:\n",
    "        r = 0.5 * q_norm / np.sin(theta)\n",
    "        wavelength = 2 * np.pi / r\n",
    "\n",
    "    return tth, chi, wavelength\n",
    "\n",
    "\n",
    "# Find nearest q-space position on Ewald sphere within a certain threshold\n",
    "def nearest_q_on_ewald(q_vect, wavelength, near_thresh=None):\n",
    "    # Currently no way to bound within surface measured by detector\n",
    "    \n",
    "    q_vect = np.asarray(q_vect)\n",
    "\n",
    "    r = 2 * np.pi / wavelength # radius of Ewald sphere\n",
    "    qx = q_vect[..., 0] \n",
    "    qy = q_vect[..., 1]\n",
    "    qz = q_vect[..., 2] + r # shift vector origin to center of Ewald sphere\n",
    "    q_norm = np.linalg.norm([qx, qy, qz], axis=0) # evil things with axis ordering\n",
    "\n",
    "    # Solving parametric equation of a vector intercepting the Ewald sphere\n",
    "    t = r / q_norm\n",
    "\n",
    "    # Nearest q_vect, with transmission center\n",
    "    qx_near = t * qx\n",
    "    qy_near = t * qy\n",
    "    qz_near = t * qz - r\n",
    "\n",
    "    # Distance normal to Ewald sphere\n",
    "    # Positive means input is outside of Ewald sphere\n",
    "    q_dist = q_norm - np.linalg.norm([qx_near, qy_near, qz_near + r], axis=0)\n",
    "\n",
    "    # Mask out values too far away from Ewald sphere\n",
    "    if near_thresh is not None:\n",
    "        dist_mask = np.abs(q_dist) > near_thresh\n",
    "        qx_near[dist_mask] = np.nan\n",
    "        qy_near[dist_mask] = np.nan\n",
    "        qz_near[dist_mask] = np.nan\n",
    "        q_dist[dist_mask] = np.nan\n",
    "\n",
    "    # Transpose necessary to maintain input shape. Maybe best to shift all q_vectors to be consistent\n",
    "    return np.array([qx_near, qy_near, qz_near]).T, q_dist\n",
    "\n",
    "\n",
    "def nearest_polar_on_ewald(q_vect, wavelength,\n",
    "                          near_thresh=None, degrees=False):\n",
    "\n",
    "    q_near, q_dist = nearest_q_on_ewald(q_vect,\n",
    "                                        wavelength,\n",
    "                                        near_thresh=near_thresh)\n",
    "    \n",
    "    tth, chi, wavelength = q_2_polar(q_near,\n",
    "                                     wavelength=wavelength,\n",
    "                                     degrees=degrees)\n",
    "    \n",
    "    return tth, chi\n",
    "\n",
    "\n",
    "def nearest_pixels_on_ewald(q_vect, wavelength, tth_arr, chi_arr,\n",
    "                            near_thresh=None, degrees=False, method='nearest'):\n",
    "    # degrees bool must match tth_arr and chi_arr input values\n",
    "    \n",
    "    tth, chi = nearest_polar_on_ewald(q_vect,\n",
    "                                      wavelength,\n",
    "                                      near_thresh=near_thresh,\n",
    "                                      degrees=degrees)\n",
    "    \n",
    "    if near_thresh is not None:\n",
    "        nan_mask = np.any([np.isnan(tth), np.isnan(chi)], axis=0)\n",
    "        tth = tth[~nan_mask]\n",
    "        chi = chi[~nan_mask]\n",
    "\n",
    "    est_img_coords = estimate_image_coords(np.array([tth, chi]).T, tth_arr, chi_arr, method)\n",
    "\n",
    "    bound_mask = np.any([\n",
    "        est_img_coords[:, 0] <= 0,\n",
    "        est_img_coords[:, -1] <= 0,\n",
    "        est_img_coords[:, 0] >= test.tth_arr.shape[1] - 1,\n",
    "        est_img_coords[:, -1] >= test.tth_arr.shape[0] - 1\n",
    "    ], axis=0)\n",
    "\n",
    "    return est_img_coords[~bound_mask]"
   ]
  },
  {
   "cell_type": "code",
   "execution_count": 460,
   "metadata": {},
   "outputs": [],
   "source": [
    "from xrdmaptools.crystal.Phase import generate_reciprocal_lattice\n",
    "\n",
    "phase = test.phases['stibnite']\n",
    "\n",
    "all_hkls, all_qs, all_fs = generate_reciprocal_lattice(phase, tth_range=(0, np.max(test.tth_arr)))"
   ]
  },
  {
   "cell_type": "code",
   "execution_count": 461,
   "metadata": {},
   "outputs": [],
   "source": [
    "q_near, q_dist = nearest_q_on_ewald(all_qs, test.wavelength, near_thresh=None)"
   ]
  },
  {
   "cell_type": "code",
   "execution_count": 462,
   "metadata": {},
   "outputs": [],
   "source": [
    "tth, chi = nearest_polar_on_ewald(all_qs, test.wavelength,\n",
    "                            near_thresh=0.1, degrees=True)"
   ]
  },
  {
   "cell_type": "code",
   "execution_count": 464,
   "metadata": {},
   "outputs": [],
   "source": [
    "img_coords = nearest_pixels_on_ewald(all_qs, test.wavelength, test.tth_arr, test.chi_arr,\n",
    "                            near_thresh=0.05, degrees=True)"
   ]
  },
  {
   "cell_type": "code",
   "execution_count": 760,
   "metadata": {},
   "outputs": [
    {
     "data": {
      "text/plain": [
       "8.112663"
      ]
     },
     "execution_count": 760,
     "metadata": {},
     "output_type": "execute_result"
    }
   ],
   "source": [
    "from xrdmaptools.crystal.orientation import euler_rotation\n",
    "\n",
    "pixel_indices = [4, 12]\n",
    "\n",
    "#r_qs = euler_rotation(all_qs, *euler_map[*pixel_indices])\n",
    "#r_qs = all_qs @ g_func(*euler_map[*pixel_indices]).T\n",
    "r_qs = all_qs @ g_func(*orientations[np.argmax(fit_list)])\n",
    "#r_qs = all_qs @ orientation_map[*pixel_indices]\n",
    "\n",
    "#r_qs = all_qs @ grain_list[0][-1]\n",
    "\n",
    "img_coords = nearest_pixels_on_ewald(r_qs, test.wavelength, test.tth_arr, test.chi_arr,\n",
    "                            near_thresh=0.25, degrees=True)\n",
    "\n",
    "np.sum(test.map.images[*pixel_indices, *img_coords[:, ::-1].T])"
   ]
  },
  {
   "cell_type": "code",
   "execution_count": 761,
   "metadata": {},
   "outputs": [],
   "source": [
    "fig, ax = test.plot_image(pixel_indices, return_plot=True, vmin=0, vmax=0.1)\n",
    "\n",
    "ax.scatter(*img_coords.T)\n",
    "\n",
    "plt.show()"
   ]
  },
  {
   "cell_type": "code",
   "execution_count": 302,
   "metadata": {},
   "outputs": [],
   "source": [
    "pixel_df = test.pixel_spots([pixel_indices])\n",
    "spot_qs = pixel_df[['qx', 'qy', 'qz']].values\n",
    "spot_ints = pixel_df[['guess_int']].values\n",
    "\n",
    "spot_qs, spot_ints = combine_nearby_spots(spot_qs, spot_ints, max_dist=0.1, max_neighbors=np.inf)"
   ]
  },
  {
   "cell_type": "code",
   "execution_count": 307,
   "metadata": {},
   "outputs": [
    {
     "data": {
      "text/plain": [
       "array([[1106,  172],\n",
       "       [ 281,  847],\n",
       "       [ 544,  276],\n",
       "       [1412,  585],\n",
       "       [1120,  244],\n",
       "       [1323,  137],\n",
       "       [ 248,  913],\n",
       "       [ 554,  333],\n",
       "       [ 854,  685],\n",
       "       [ 224,  956],\n",
       "       [ 908,  250],\n",
       "       [1199,  655],\n",
       "       [1375,  180],\n",
       "       [1534,   51],\n",
       "       [1333,  218],\n",
       "       [1135,  379]])"
      ]
     },
     "execution_count": 307,
     "metadata": {},
     "output_type": "execute_result"
    }
   ],
   "source": [
    "img_coords = nearest_pixels_on_ewald(spot_qs, test.wavelength, test.tth_arr, test.chi_arr,\n",
    "                            near_thresh=0.05, degrees=True)\n",
    "img_coords"
   ]
  },
  {
   "cell_type": "code",
   "execution_count": 449,
   "metadata": {},
   "outputs": [],
   "source": [
    "from sklearn.metrics.pairwise import euclidean_distances\n",
    "\n",
    "def iterative_indexing(spot_qs, Phase, tth_range, cut_off=0.9, start_angle=10, angle_resolution=0.001,\n",
    "                                  euler_bounds=[[-180, 180], [0, 180], [-180, 180]]):\n",
    "    from itertools import product\n",
    "\n",
    "    #spot_qs = pixel_df[['qx', 'qy', 'qz']].values\n",
    "    all_hkls, all_qs, all_fs = generate_reciprocal_lattice(Phase, tth_range=tth_range)\n",
    "\n",
    "    dist = euclidean_distances(all_qs)\n",
    "    min_q = np.min(dist[dist > 0])\n",
    "\n",
    "    step = start_angle\n",
    "    print(f'Finding orientations with {step} deg resolution...')\n",
    "    phi1_list = np.arange(*euler_bounds[0], step)\n",
    "    PHI_list = np.arange(*euler_bounds[1], step)\n",
    "    phi2_list = np.arange(*euler_bounds[2], step)\n",
    "    orientations = list(product(phi1_list, PHI_list, phi2_list))\n",
    "\n",
    "    fit_ori = []\n",
    "    fit_min = []\n",
    "    ITERATE = True\n",
    "    while ITERATE:\n",
    "        step /= 2 # half the resolution each time\n",
    "        if step <= angle_resolution:\n",
    "            ITERATE = False\n",
    "\n",
    "        print(f'Evaluating the current Euler space...')\n",
    "        min_list = []\n",
    "        for orientation in tqdm(orientations):\n",
    "            img_coords = nearest_pixels_on_ewald(euler_rotation(all_qs, *orientation),\n",
    "                                                 test.wavelength, test.tth_arr, test.chi_arr,\n",
    "                            near_thresh=0.25, degrees=True)\n",
    "            min_list.append(test.map.images[*pixel_indices, *img_coords[:, ::-1].T])\n",
    "        \n",
    "        fit_min.append(np.max(min_list))\n",
    "        fit_ori.append(orientations[np.argmax(min_list)])\n",
    "        \n",
    "        min_mask = min_list > cut_off * (np.max(min_list) - np.min(min_list)) + np.min(min_list)\n",
    "        best_orientations = np.asarray(orientations)[min_mask]\n",
    "\n",
    "        print(f'Finding new orientations with {step:.4f} deg resolution...')\n",
    "        new_orientations = []\n",
    "        for orientation in best_orientations:\n",
    "            phi1, PHI, phi2 = orientation\n",
    "            new_phi1 = [phi1 - step, phi1, phi1 + step]\n",
    "            new_PHI = [PHI - step, PHI, PHI + step]\n",
    "            new_phi2 = [phi2 - step, phi2, phi2 + step]\n",
    "\n",
    "            sub_orientations = product(new_phi1, new_PHI, new_phi2)\n",
    "\n",
    "            for sub_orientation in sub_orientations:\n",
    "                if sub_orientation not in new_orientations:\n",
    "                    new_orientations.append(sub_orientation)\n",
    "            \n",
    "            orientations = new_orientations\n",
    "\n",
    "    print(f'Evaluating the last Euler space...')\n",
    "    min_list = []\n",
    "    for orientation in orientations:\n",
    "        img_coords = nearest_pixels_on_ewald(euler_rotation(all_qs, *orientation),\n",
    "                                                test.wavelength, test.tth_arr, test.chi_arr,\n",
    "                        near_thresh=0.25, degrees=True)\n",
    "        min_list.append(test.map.images[*pixel_indices, *img_coords[:, ::-1].T])\n",
    "    \n",
    "    fit_min.append(np.max(min_list))\n",
    "    fit_ori.append(orientations[np.argmax(min_list)])\n",
    "\n",
    "    return fit_ori, fit_min"
   ]
  },
  {
   "cell_type": "code",
   "execution_count": 734,
   "metadata": {},
   "outputs": [
    {
     "name": "stdout",
     "output_type": "stream",
     "text": [
      "Finding orientations with 5 deg resolution...\n"
     ]
    },
    {
     "name": "stderr",
     "output_type": "stream",
     "text": [
      "  0%|          | 0/23328 [00:00<?, ?it/s]"
     ]
    },
    {
     "name": "stderr",
     "output_type": "stream",
     "text": [
      "100%|██████████| 23328/23328 [00:39<00:00, 584.01it/s]\n"
     ]
    }
   ],
   "source": [
    "from itertools import product\n",
    "from tqdm import tqdm\n",
    "\n",
    "step = 5\n",
    "print(f'Finding orientations with {step} deg resolution...')\n",
    "phi1_list = np.arange(0, 180, step)\n",
    "PHI_list = np.arange(0, 90, step)\n",
    "phi2_list = np.arange(0, 180, step)\n",
    "orientations = list(product(phi1_list, PHI_list, phi2_list))\n",
    "\n",
    "tth_list, chi_list = [], []\n",
    "tth_all, chi_all = [], []\n",
    "for orientation in tqdm(orientations):\n",
    "    tth, chi = nearest_polar_on_ewald(euler_rotation(all_qs, *orientation),\n",
    "                                            test.wavelength, near_thresh=0.05,\n",
    "                                            degrees=True)\n",
    "    \n",
    "    nan_mask = np.any([np.isnan(tth), np.isnan(chi)], axis=0)\n",
    "    tth = tth[~nan_mask]\n",
    "    chi = chi[~nan_mask]\n",
    "    \n",
    "    tth_list.append(tth)\n",
    "    tth_all.extend(tth)\n",
    "    chi_list.append(chi)\n",
    "    chi_all.extend(chi)\n",
    "    #min_list.append(np.sum(test.map.images[*pixel_indices, *img_coords[:, ::-1].T]))\n",
    "\n",
    "img_coords = estimate_image_coords(np.array([tth_all, chi_all]).T, test.tth_arr, test.chi_arr)\n",
    "\n",
    "bound_mask = np.any([\n",
    "    img_coords[:, 0] <= 0,\n",
    "    img_coords[:, -1] <= 0,\n",
    "    img_coords[:, 0] >= test.tth_arr.shape[1] - 1,\n",
    "    img_coords[:, -1] >= test.tth_arr.shape[0] - 1\n",
    "], axis=0)\n",
    "\n",
    "img_coords_catalog = []\n",
    "base = 0\n",
    "for i in range(len(orientations)):\n",
    "    base_i = base + len(tth_list[i])\n",
    "    i_img_coords = img_coords[base : base_i][~bound_mask[base : base_i]]\n",
    "    img_coords_catalog.append(i_img_coords)\n",
    "    base = base_i"
   ]
  },
  {
   "cell_type": "code",
   "execution_count": 758,
   "metadata": {},
   "outputs": [
    {
     "name": "stderr",
     "output_type": "stream",
     "text": [
      "  0%|          | 0/9916 [00:00<?, ?it/s]"
     ]
    },
    {
     "name": "stderr",
     "output_type": "stream",
     "text": [
      "100%|██████████| 9916/9916 [00:00<00:00, 137211.02it/s]\n"
     ]
    }
   ],
   "source": [
    "fit_list = []\n",
    "for i in tqdm(range(len(orientations))):\n",
    "    fit_list.append(np.sum(test.map.images[*pixel_indices, *img_coords_catalog[i][:, ::-1].T]))"
   ]
  },
  {
   "cell_type": "code",
   "execution_count": 735,
   "metadata": {},
   "outputs": [
    {
     "name": "stderr",
     "output_type": "stream",
     "text": [
      "  0%|          | 0/23328 [00:00<?, ?it/s]"
     ]
    },
    {
     "name": "stderr",
     "output_type": "stream",
     "text": [
      "100%|██████████| 23328/23328 [00:00<00:00, 138066.94it/s]\n"
     ]
    }
   ],
   "source": [
    "from scipy.ndimage import gaussian_filter\n",
    "#blurred_image = gaussian_filter(test.map.images[*pixel_indices], sigma=3)\n",
    "blurred_image = gaussian_filter(test.map.spot_masks[*pixel_indices], sigma=3)\n",
    "\n",
    "fit_list = []\n",
    "for i in tqdm(range(len(orientations))):\n",
    "    fit_list.append(np.sum(blurred_image[*img_coords_catalog[i][:, ::-1].T]))"
   ]
  },
  {
   "cell_type": "code",
   "execution_count": 618,
   "metadata": {},
   "outputs": [
    {
     "name": "stderr",
     "output_type": "stream",
     "text": [
      "100%|██████████| 186624/186624 [02:47<00:00, 1112.14it/s]\n"
     ]
    }
   ],
   "source": [
    "fit_list = []\n",
    "blank_image = np.zeros((test.map.image_shape), dtype=np.bool_)\n",
    "for i in tqdm(range(len(orientations))):\n",
    "\n",
    "    v_minus = 1\n",
    "    v_plus = 1\n",
    "    h_minus = 1\n",
    "    h_plus = 1\n",
    "\n",
    "    mask = blank_image.copy()\n",
    "    coords = img_coords_catalog[i][:, ::-1]\n",
    "\n",
    "    for coord in coords:\n",
    "\n",
    "        coord_v = coord[0]\n",
    "        coord_h = coord[1]\n",
    "\n",
    "        if coord_v == 0:\n",
    "            v_minus = 0\n",
    "        if coord_h == 0:\n",
    "            h_minus = 0\n",
    "        if coord_v == test.map.image_shape[0] - 1:\n",
    "            v_plus = 0\n",
    "        if coord_h == test.map.image_shape[1] - 1:\n",
    "            h_plus = 0\n",
    "        \n",
    "\n",
    "        mask[coord_v - v_minus : coord_v + v_plus, coord_h - h_minus : coord_h + h_plus] = True\n",
    "\n",
    "    fit_list.append(np.sum(test.map.images[*pixel_indices][mask]))"
   ]
  },
  {
   "cell_type": "code",
   "execution_count": null,
   "metadata": {},
   "outputs": [],
   "source": [
    "# SLOW\n",
    "\n",
    "fit_list = []\n",
    "blank_image = np.zeros((test.map.image_shape), dtype=np.bool_)\n",
    "for i in tqdm(range(len(orientations))):\n",
    "    mask = blank_image.copy()\n",
    "    mask[*img_coords_catalog[i][:, ::-1].T] = True\n",
    "\n",
    "    mask = expand_labels(mask, 5)\n",
    "    fit_list.append(np.sum(test.map.images[*pixel_indices][mask]))"
   ]
  },
  {
   "cell_type": "code",
   "execution_count": null,
   "metadata": {},
   "outputs": [],
   "source": [
    "# SLOW\n",
    "\n",
    "from xrdmaptools.utilities.math import circular_mask\n",
    "\n",
    "fit_list = []\n",
    "for i in tqdm(range(len(orientations))):\n",
    "    mask_list = []\n",
    "    for coord in img_coords_catalog[i][:, ::-1]:\n",
    "        mask_list.append(circular_mask(test.map.image_shape, coord, 2))\n",
    "    circ_mask = np.sum(np.asarray(mask_list), axis=0, dtype=np.bool_)\n",
    "    fit_list.append(np.sum(test.map.images[*pixel_indices][circ_mask]))"
   ]
  },
  {
   "cell_type": "code",
   "execution_count": 759,
   "metadata": {},
   "outputs": [],
   "source": [
    "fig, ax = plt.subplots(1, 1, figsize=(5, 5), dpi=200, subplot_kw={'projection':'3d'})\n",
    "\n",
    "plot_mask = np.array(fit_list) > 2.5\n",
    "\n",
    "ax.scatter(*np.asarray(orientations)[plot_mask].T, c=np.array(fit_list)[plot_mask], s=1, alpha=0.5)\n",
    "\n",
    "plt.show()"
   ]
  },
  {
   "cell_type": "code",
   "execution_count": 757,
   "metadata": {},
   "outputs": [
    {
     "name": "stdout",
     "output_type": "stream",
     "text": [
      "Finding new orientations...\n"
     ]
    },
    {
     "name": "stderr",
     "output_type": "stream",
     "text": [
      "100%|██████████| 9916/9916 [00:16<00:00, 594.22it/s]\n"
     ]
    }
   ],
   "source": [
    "best_orientations = np.asarray(orientations)[plot_mask]\n",
    "\n",
    "print(f'Finding new orientations...')\n",
    "step /= 2\n",
    "new_orientations = []\n",
    "for orientation in best_orientations:\n",
    "    phi1, PHI, phi2 = orientation\n",
    "    new_phi1 = [phi1 - step, phi1, phi1 + step]\n",
    "    new_PHI = [PHI - step, PHI, PHI + step]\n",
    "    new_phi2 = [phi2 - step, phi2, phi2 + step]\n",
    "\n",
    "    sub_orientations = product(new_phi1, new_PHI, new_phi2)\n",
    "\n",
    "    for sub_orientation in sub_orientations:\n",
    "        if sub_orientation not in new_orientations:\n",
    "            new_orientations.append(sub_orientation)\n",
    "    \n",
    "    orientations = new_orientations\n",
    "\n",
    "tth_list, chi_list = [], []\n",
    "tth_all, chi_all = [], []\n",
    "for orientation in tqdm(orientations):\n",
    "    tth, chi = nearest_polar_on_ewald(euler_rotation(all_qs, *orientation),\n",
    "                                            test.wavelength, near_thresh=0.05,\n",
    "                                            degrees=True)\n",
    "    \n",
    "    nan_mask = np.any([np.isnan(tth), np.isnan(chi)], axis=0)\n",
    "    tth = tth[~nan_mask]\n",
    "    chi = chi[~nan_mask]\n",
    "    \n",
    "    tth_list.append(tth)\n",
    "    tth_all.extend(tth)\n",
    "    chi_list.append(chi)\n",
    "    chi_all.extend(chi)\n",
    "    #min_list.append(np.sum(test.map.images[*pixel_indices, *img_coords[:, ::-1].T]))\n",
    "\n",
    "img_coords = estimate_image_coords(np.array([tth_all, chi_all]).T, test.tth_arr, test.chi_arr)\n",
    "\n",
    "bound_mask = np.any([\n",
    "    img_coords[:, 0] <= 0,\n",
    "    img_coords[:, -1] <= 0,\n",
    "    img_coords[:, 0] >= test.tth_arr.shape[1] - 1,\n",
    "    img_coords[:, -1] >= test.tth_arr.shape[0] - 1\n",
    "], axis=0)\n",
    "\n",
    "img_coords_catalog = []\n",
    "base = 0\n",
    "for i in range(len(orientations)):\n",
    "    base_i = base + len(tth_list[i])\n",
    "    i_img_coords = img_coords[base : base_i][~bound_mask[base : base_i]]\n",
    "    img_coords_catalog.append(i_img_coords)\n",
    "    base = base_i"
   ]
  },
  {
   "cell_type": "code",
   "execution_count": null,
   "metadata": {},
   "outputs": [],
   "source": []
  },
  {
   "cell_type": "code",
   "execution_count": null,
   "metadata": {},
   "outputs": [],
   "source": []
  },
  {
   "cell_type": "code",
   "execution_count": null,
   "metadata": {},
   "outputs": [],
   "source": []
  },
  {
   "cell_type": "code",
   "execution_count": null,
   "metadata": {},
   "outputs": [],
   "source": []
  },
  {
   "cell_type": "code",
   "execution_count": null,
   "metadata": {},
   "outputs": [],
   "source": []
  },
  {
   "cell_type": "code",
   "execution_count": 76,
   "metadata": {},
   "outputs": [],
   "source": [
    "from xrdmaptools.geometry.geometry import estimate_image_coords\n",
    "\n",
    "pixel_indices = [4, 11]\n",
    "\n",
    "pixel_df = test.pixel_spots(pixel_indices).dropna().sort_values('fit_integrated', ascending=False)\n",
    "\n",
    "fig, ax = test.plot_image(pixel_indices, spots=True, contours=True, return_plot=True)\n",
    "\n",
    "ind = np.argmax(pixel_df[['fit_integrated']])\n",
    "ind = 7\n",
    "plot_x, plot_y = estimate_image_coords([[pixel_df[['fit_tth0']].values[ind][0],\n",
    "                                         pixel_df[['fit_chi0']].values[ind][0]]],\n",
    "                                         test.tth_arr, test.chi_arr)[0]\n",
    "\n",
    "ax.scatter(plot_x, plot_y, s=1, c='green')\n",
    "\n",
    "plt.show()"
   ]
  },
  {
   "cell_type": "code",
   "execution_count": 20,
   "metadata": {},
   "outputs": [
    {
     "data": {
      "text/plain": [
       "array([0.55534606, 1.63752549, 0.55930081])"
      ]
     },
     "execution_count": 20,
     "metadata": {},
     "output_type": "execute_result"
    }
   ],
   "source": [
    "np.linalg.norm(phase.Q([[1, 0, 0], [0, 1, 0], [0, 0, 1]]), axis=0)"
   ]
  },
  {
   "cell_type": "code",
   "execution_count": 424,
   "metadata": {},
   "outputs": [],
   "source": [
    "def _index_spots(spot_qs, rotation, ref_qs, ref_hkls, indexed_spots=None, indexed_hkls=None):\n",
    "\n",
    "    if indexed_spots is None:\n",
    "        indexed_spots = []\n",
    "    if indexed_hkls is None:\n",
    "        indexed_hkls = []\n",
    "    \n",
    "    rot_spot_qs = spot_qs @ rotation.T\n",
    "\n",
    "    dist = euclidean_distances(rot_spot_qs, ref_qs)\n",
    "    # higher threshold to account for chi value changes\n",
    "    dist[dist > 10 * near_thresh] = np.inf\n",
    "    matches = np.argmin(dist, axis=1)\n",
    "    dist_mins = np.min(dist, axis=1)\n",
    "\n",
    "    #print(f'{len(indexed_spots)=}')\n",
    "    #print(f'{len(indexed_hkls)=}')\n",
    "    # This is to add pair indices without know what the hkls necessarily are\n",
    "    if len(indexed_spots) > 0 and indexed_hkls == []:\n",
    "        for i in indexed_spots:\n",
    "            indexed_hkls.append(ref_hkls[matches[i]])\n",
    "        if indexed_hkls[0] == indexed_hkls[1]:\n",
    "            raise RuntimeError\n",
    "\n",
    "    #print(f'{len(indexed_spots)=}')\n",
    "    #print(f'{len(indexed_hkls)=}')\n",
    "    for i, val in enumerate(matches):\n",
    "        if (ref_hkls[val] in indexed_hkls\n",
    "            or i in indexed_spots\n",
    "            or np.isinf(dist_mins[i])):\n",
    "            continue\n",
    "        \n",
    "        if np.sum(matches == val) == 1:\n",
    "            indexed_spots.append(i)\n",
    "            indexed_hkls.append(ref_hkls[val])\n",
    "        elif np.sum(matches == val) > 1:\n",
    "            mask = ((matches == val)\n",
    "                    & (dist_mins == np.min(dist_mins[matches == val])))\n",
    "            ind = np.where(mask)[0][0]\n",
    "            indexed_spots.append(ind)\n",
    "            indexed_hkls.append(ref_hkls[val])\n",
    "\n",
    "    return indexed_spots, indexed_hkls"
   ]
  },
  {
   "cell_type": "code",
   "execution_count": 440,
   "metadata": {},
   "outputs": [
    {
     "name": "stdout",
     "output_type": "stream",
     "text": [
      "Indexing new grain\n",
      "q-spacing too small\n",
      "iteration=0\n",
      "iteration=1\n",
      "iteration=2\n",
      "Refinement complete after 3 iterations.\n",
      "testing pair == pairs_indices\n",
      "Indexing new grain\n",
      "iteration=0\n",
      "iteration=1\n",
      "Refinement complete after 2 iterations.\n",
      "testing pair == pairs_indices\n",
      "Indexing new grain\n",
      "iteration=0\n",
      "iteration=1\n",
      "Refinement complete after 2 iterations.\n",
      "testing pair == pairs_indices\n",
      "Indexing new grain\n",
      "iteration=0\n",
      "iteration=1\n",
      "Refinement complete after 2 iterations.\n",
      "testing pair == pairs_indices\n",
      "Exhausted pairs\n"
     ]
    }
   ],
   "source": [
    "# Pairwise indexing\n",
    "\n",
    "from scipy.spatial.transform import Rotation\n",
    "from itertools import product, combinations\n",
    "from sklearn.metrics.pairwise import euclidean_distances\n",
    "from xrdmaptools.crystal.Phase import generate_reciprocal_lattice\n",
    "from xrdmaptools.utilities.image_corrections import rescale_array\n",
    "\n",
    "\n",
    "pixel_indices = [7, 22]\n",
    "\n",
    "pixel_df = test.pixel_spots(pixel_indices).dropna().sort_values('fit_integrated', ascending=False)\n",
    "\n",
    "if len(pixel_df) < 2:\n",
    "    raise ValueError('Not enough spots for indexing!')\n",
    "\n",
    "spot_qs = pixel_df[['qx', 'qy', 'qz']].values\n",
    "phase = test.phases['stibnite']\n",
    "near_thresh = 0.05\n",
    "min_rssd = 0.15\n",
    "max_iterations = 50\n",
    "\n",
    "if phase.reflections is None:\n",
    "    phase.get_hkl_reflections(tth_range=(np.min(test.tth_arr), np.max(test.tth_arr)))\n",
    "\n",
    "# Semi-useful...\n",
    "all_hkls, all_qs, all_fs = generate_reciprocal_lattice(phase, tth_range=(np.min(test.tth_arr), np.max(test.tth_arr)))\n",
    "\n",
    "# Minimum step size in q-space. Maybe...\n",
    "min_q = np.min(np.linalg.norm(phase.Q([[1, 0, 0], [0, 1, 0], [0, 0, 1]]), axis=0))\n",
    "\n",
    "# find potential matces within a threshold\n",
    "phase_q_vals = phase.reflections['q']\n",
    "spot_q_vals = np.linalg.norm(spot_qs, axis=1)\n",
    "diff_arr = np.abs(spot_q_vals[:, np.newaxis] - phase_q_vals[np.newaxis, :])\n",
    "pot_match = diff_arr < near_thresh\n",
    "\n",
    "# Distinguish by phase kind of\n",
    "phase_mask = np.any(pot_match, axis=1)\n",
    "pot_match = pot_match[phase_mask]\n",
    "spot_qs = np.array(spot_qs)[phase_mask]\n",
    "\n",
    "# Find matching reflections and convert to q-space (with 2pi factor)\n",
    "simple_q_calc = []\n",
    "all_q_calc = []\n",
    "for pot_match_i in pot_match:\n",
    "    if not np.any(pot_match_i):\n",
    "        continue\n",
    "    match_ind = np.where(pot_match_i)[0]\n",
    "    hkls = [phase.reflections['hkl'][ind] for ind in match_ind]\n",
    "    simple_q_calc.append(phase.Q(hkls))\n",
    "\n",
    "    # Add equivalent hkls\n",
    "    ext_hkls = []\n",
    "    [ext_hkls.extend(list(phase.lattice.equivalent_hkls(hkl))) for hkl in hkls];\n",
    "    hkls = ext_hkls\n",
    "\n",
    "    q_calc = phase.Q(hkls)\n",
    "    all_q_calc.append(q_calc)\n",
    "\n",
    "if len(all_q_calc) < 1:\n",
    "    raise ValueError('No reflections close to found spots!')\n",
    "\n",
    "grain_list = []\n",
    "remaining_spots = list(range(len(spot_qs)))\n",
    "while len(remaining_spots) > 0:\n",
    "    print('Indexing new grain')\n",
    "    rem_spot_qs = spot_qs[remaining_spots]\n",
    "\n",
    "    # Indexing only possible on two spots\n",
    "    # If only one remaining, mark as unindexed\n",
    "    if len(remaining_spots) == 1:\n",
    "        grain_list.append((remaining_spots, [], []))\n",
    "        remaining_spots = []\n",
    "\n",
    "    #print('Generating new pairs')\n",
    "    pairs_indices = list(combinations(range(len(remaining_spots)), 2))\n",
    "\n",
    "    for pair in pairs_indices:\n",
    "        spot0, spot1 = rem_spot_qs[list(pair)]\n",
    "\n",
    "        dist = np.sqrt((spot0[0] - spot1[0])**2\n",
    "                    + (spot0[1] - spot1[1])**2\n",
    "                    + (spot0[2] - spot1[2])**2)\n",
    "        \n",
    "        # Only consider crystallographically feasible distnaces\n",
    "        if dist < (min_q * 0.85): # within 15 % error\n",
    "            print('q-spacing too small')\n",
    "            if pair == pairs_indices[-1]:\n",
    "                print(f'Exhausted pairs')\n",
    "                grain_list.append((remaining_spots, [], []))\n",
    "                remaining_spots = []\n",
    "            continue\n",
    "\n",
    "        fit_q_calc = [simple_q_calc[remaining_spots[pair[0]]],\n",
    "                      all_q_calc[remaining_spots[pair[1]]]]\n",
    "\n",
    "        combos = list(product(*fit_q_calc))\n",
    "\n",
    "        rot_list, rssd_list = [], []\n",
    "        valid_combos = []\n",
    "        for q_calc in combos:\n",
    "            if np.sum(np.abs(np.cross(*q_calc))) < 1e-8:\n",
    "                continue\n",
    "\n",
    "            rot, rssd = Rotation.align_vectors(q_calc, rem_spot_qs[list(pair)])\n",
    "            rot_list.append(rot.as_matrix())\n",
    "            rssd_list.append(rssd)\n",
    "            valid_combos.append(q_calc)\n",
    "\n",
    "        # Collect best fit guess hkls\n",
    "        rssd_list = np.asarray(rssd_list)\n",
    "        if not np.any(rssd_list < min_rssd):\n",
    "            print('All possible alignments are bad')\n",
    "            if pair == pairs_indices[-1]:\n",
    "                print(f'Exhausted pairs')\n",
    "                grain_list.append((remaining_spots, [], []))\n",
    "                remaining_spots = []    \n",
    "            continue\n",
    "\n",
    "        min_rssd_list = np.round(rssd_list[rssd_list < min_rssd], 10)\n",
    "        min_q_calcs = np.round(np.array(valid_combos)[rssd_list < min_rssd], 10)\n",
    "        min_rot_list = np.array(rot_list)[rssd_list < min_rssd]\n",
    "\n",
    "        # Sort unique fits by minimum rssd\n",
    "        # This biases towards equivalent positive values\n",
    "        sorted_min_rssd_list = sorted(np.unique(min_rssd_list))\n",
    "        sorted_min_q_calcs = [min_q_calcs[np.where(min_rssd_list == val)[0][0]]\n",
    "                            for val in sorted_min_rssd_list]\n",
    "        sorted_min_rot_list = [min_rot_list[np.where(min_rssd_list == val)[0][0]]\n",
    "                            for val in sorted_min_rssd_list]\n",
    "\n",
    "        # Setup features for refinement\n",
    "        rotation_list = sorted_min_rot_list\n",
    "        indexed_spots_catalog = []\n",
    "        indexed_hkls_catalog = []\n",
    "        rssd_list = []\n",
    "        misorientation_list = [] # not currently used\n",
    "        best_indexed = 0\n",
    "\n",
    "        # Refine orientation!\n",
    "        REFINE = True\n",
    "        iteration = 0\n",
    "        while REFINE:\n",
    "            # Setup comparison features for refinement\n",
    "            new_rotation_list = []\n",
    "            new_indexed_spots_catalog = []\n",
    "            new_indexed_hkls_catalog = []\n",
    "            new_rssd_list = []\n",
    "            new_misorientation_list = [] # not currently used\n",
    "            print(f'{iteration=}')\n",
    "            for rot in rotation_list:\n",
    "                #print(rot)\n",
    "                \n",
    "                # Forces pair to be included\n",
    "                indexed_spots = list(pair)\n",
    "                #indexed_spots = []\n",
    "                indexed_spots, indexed_hkls = _index_spots(\n",
    "                                                rem_spot_qs,\n",
    "                                                rot,\n",
    "                                                all_qs,\n",
    "                                                all_hkls,\n",
    "                                                indexed_spots=indexed_spots)\n",
    "                \n",
    "                new_indexed_spots_catalog.append(indexed_spots)\n",
    "                new_indexed_hkls_catalog.append(indexed_hkls)\n",
    "\n",
    "                new_rot, rssd = Rotation.align_vectors(phase.Q(indexed_hkls), rem_spot_qs[indexed_spots])\n",
    "                new_rotation_list.append(new_rot.as_matrix())\n",
    "                new_rssd_list.append(rssd)\n",
    "                misori = rot @ new_rot.as_matrix().T\n",
    "                new_misorientation_list.append(np.degrees(np.arccos(0.5 * (np.trace(misori) - 1))))\n",
    "\n",
    "                #if len(remaining_spots) == 4:\n",
    "                #    raise\n",
    "            \n",
    "            # Best candidate of current refinment\n",
    "            new_best_indexed = np.argmin(new_rssd_list)\n",
    "            \n",
    "            # Force at least two iterations\n",
    "            if iteration == 0:\n",
    "                pass\n",
    "            elif iteration == max_iterations:\n",
    "                print('WARNING: Refinement reached max number of iterations.')\n",
    "                REFINE = False\n",
    "            elif len(new_indexed_spots_catalog[new_best_indexed]) > len(indexed_spots_catalog[best_indexed]):\n",
    "            #elif new_rssd_list[new_best_indexed] < rssd_list[best_indexed]:\n",
    "                # Keep updating\n",
    "                pass\n",
    "            else:\n",
    "                REFINE = False\n",
    "                print(f'Refinement complete after {iteration + 1} iterations.')\n",
    "                # Do not redefine values\n",
    "                break\n",
    "            #else:\n",
    "            #    # Compare values and stop if no new spots\n",
    "            #    if (best_indexed == new_best_indexed\n",
    "            #        and len(indexed_spots_catalog[best_indexed])\n",
    "            #        <= len(new_indexed_spots_catalog[new_best_indexed])):\n",
    "            #        REFINE = False # No changes, stop refinement\n",
    "            #        print(f'Refinement complete after {iteration + 1} iterations.')\n",
    "\n",
    "            # Redefine values\n",
    "            rotation_list = new_rotation_list.copy()\n",
    "            indexed_spots_catalog = new_indexed_spots_catalog.copy()\n",
    "            indexed_hkls_catalog = new_indexed_hkls_catalog.copy()\n",
    "            rssd_list = new_rssd_list.copy()\n",
    "            misorientation_list = new_misorientation_list.copy() # not currently used\n",
    "            best_indexed = new_best_indexed\n",
    "            iteration += 1\n",
    "\n",
    "        grain_list.append((np.array(remaining_spots)[indexed_spots_catalog[best_indexed]],\n",
    "                           indexed_hkls_catalog[best_indexed],\n",
    "                           rotation_list[best_indexed]))\n",
    "        \n",
    "        for spot in np.array(remaining_spots)[indexed_spots_catalog[best_indexed]]:\n",
    "            remaining_spots.remove(spot)\n",
    "\n",
    "        print('testing pair == pairs_indices')\n",
    "        if pair == pairs_indices[-1]:\n",
    "            print(f'Exhausted pairs')\n",
    "            grain_list.append((remaining_spots, [], []))\n",
    "            remaining_spots = []\n",
    "        else:\n",
    "            break"
   ]
  },
  {
   "cell_type": "code",
   "execution_count": 441,
   "metadata": {},
   "outputs": [
    {
     "data": {
      "text/plain": [
       "[(array([ 0,  2,  4,  6, 11,  8, 16, 14, 15]),\n",
       "  [(1, 1, 4),\n",
       "   (3, 0, 8),\n",
       "   (3, 0, 9),\n",
       "   (3, 0, 7),\n",
       "   (2, 1, 11),\n",
       "   (2, 1, 7),\n",
       "   (2, 1, 10),\n",
       "   (3, 0, 11),\n",
       "   (2, 1, 8)],\n",
       "  array([[-0.52098044, -0.27260042,  0.80886859],\n",
       "         [-0.15645596,  0.96207398,  0.22346185],\n",
       "         [-0.83910721, -0.01013305, -0.54387169]])),\n",
       " (array([ 1,  3,  7, 10]),\n",
       "  [(4, 1, 1), (9, 0, 4), (10, 1, 5), (9, 1, 4)],\n",
       "  array([[-0.98534528, -0.08573322,  0.14746013],\n",
       "         [-0.09866673,  0.99167455, -0.08274333],\n",
       "         [-0.13913861, -0.09608016, -0.98560086]])),\n",
       " (array([5, 9]),\n",
       "  [(4, 0, 9), (5, 1, 10)],\n",
       "  array([[-0.65261187,  0.28578136,  0.70173126],\n",
       "         [ 0.00267471,  0.92700584, -0.37503736],\n",
       "         [-0.75768766, -0.24287691, -0.60573939]])),\n",
       " (array([12, 13]),\n",
       "  [(3, 3, 3), (3, 3, 4)],\n",
       "  array([[-0.54827813, -0.06186442,  0.83400473],\n",
       "         [-0.82516935,  0.20215411, -0.52747442],\n",
       "         [-0.13596558, -0.97739783, -0.1618853 ]])),\n",
       " ([], [], [])]"
      ]
     },
     "execution_count": 441,
     "metadata": {},
     "output_type": "execute_result"
    }
   ],
   "source": [
    "grain_list"
   ]
  },
  {
   "cell_type": "code",
   "execution_count": null,
   "metadata": {},
   "outputs": [],
   "source": [
    "spot_qs = rem_spot_qs\n",
    "rotation = rot\n",
    "ref_qs = all_qs\n",
    "ref_hkls = all_hkls\n",
    "indexed_spots=list(pair)\n",
    "indexed_hkls=None\n",
    "\n",
    "    if indexed_spots is None:\n",
    "        indexed_spots = []\n",
    "    if indexed_hkls is None:\n",
    "        indexed_hkls = []\n",
    "    \n",
    "    rot_spot_qs = spot_qs @ rotation.T\n",
    "\n",
    "    dist = euclidean_distances(rot_spot_qs, ref_qs)\n",
    "    # higher threshold to account for chi value changes\n",
    "    dist[dist > 10 * near_thresh] = np.inf\n",
    "    matches = np.argmin(dist, axis=1)\n",
    "    dist_mins = np.min(dist, axis=1)\n",
    "\n",
    "    #print(f'{len(indexed_spots)=}')\n",
    "    #print(f'{len(indexed_hkls)=}')\n",
    "    # This is to add pair indices without know what the hkls necessarily are\n",
    "    if len(indexed_spots) > 0 and indexed_hkls == []:\n",
    "        for i in indexed_spots:\n",
    "            indexed_hkls.append(ref_hkls[matches[i]])\n",
    "        if indexed_hkls[0] == indexed_hkls[1]:\n",
    "            raise RuntimeError\n",
    "\n",
    "    #print(f'{len(indexed_spots)=}')\n",
    "    #print(f'{len(indexed_hkls)=}')\n",
    "    for i, val in enumerate(matches):\n",
    "        if (ref_hkls[val] in indexed_hkls\n",
    "            or i in indexed_spots\n",
    "            or np.isinf(dist_mins[i])):\n",
    "            continue\n",
    "        \n",
    "        if np.sum(matches == val) == 1:\n",
    "            indexed_spots.append(i)\n",
    "            indexed_hkls.append(ref_hkls[val])\n",
    "        elif np.sum(matches == val) > 1:\n",
    "            mask = ((matches == val)\n",
    "                    & (dist_mins == np.min(dist_mins[matches == val])))\n",
    "            ind = np.where(mask)[0][0]\n",
    "            indexed_spots.append(ind)\n",
    "            indexed_hkls.append(ref_hkls[val])"
   ]
  },
  {
   "cell_type": "code",
   "execution_count": null,
   "metadata": {},
   "outputs": [],
   "source": []
  },
  {
   "cell_type": "code",
   "execution_count": null,
   "metadata": {},
   "outputs": [],
   "source": []
  },
  {
   "cell_type": "code",
   "execution_count": null,
   "metadata": {},
   "outputs": [],
   "source": []
  },
  {
   "cell_type": "code",
   "execution_count": null,
   "metadata": {},
   "outputs": [],
   "source": []
  },
  {
   "cell_type": "code",
   "execution_count": 852,
   "metadata": {},
   "outputs": [
    {
     "data": {
      "text/plain": [
       "[array([[-0.75182462,  0.42109117, -0.50738739],\n",
       "        [-0.56928022, -0.02628127,  0.82172339],\n",
       "        [ 0.33268568,  0.90663748,  0.25947778]])]"
      ]
     },
     "execution_count": 852,
     "metadata": {},
     "output_type": "execute_result"
    }
   ],
   "source": [
    "rotation_list"
   ]
  },
  {
   "cell_type": "code",
   "execution_count": null,
   "metadata": {},
   "outputs": [],
   "source": []
  },
  {
   "cell_type": "code",
   "execution_count": null,
   "metadata": {},
   "outputs": [],
   "source": []
  },
  {
   "cell_type": "code",
   "execution_count": 855,
   "metadata": {},
   "outputs": [],
   "source": [
    "from matplotlib import colormaps, color_sequences\n",
    "\n",
    "from xrdmaptools.geometry.geometry import estimate_image_coords\n",
    "\n",
    "pixel_indices = [12, 104]\n",
    "\n",
    "pixel_df = test.pixel_spots(pixel_indices).dropna().sort_values('fit_integrated', ascending=False)\n",
    "\n",
    "plot_x, plot_y = estimate_image_coords(pixel_df[['fit_tth0', 'fit_chi0']].values,\n",
    "                                       test.tth_arr, test.chi_arr).T\n",
    "\n",
    "fig, ax = test.plot_image(pixel_indices, spots=False, contours=True, return_plot=True)\n",
    "\n",
    "for i in range(len(grain_list)):\n",
    "    c = [color_sequences['tab20'][i],] * len(grain_list[i][0])\n",
    "    ax.scatter(plot_x[grain_list[i][0]], plot_y[grain_list[i][0]], c=c, s=5, label=f'grain {i}')\n",
    "\n",
    "ax.legend()\n",
    "plt.show()"
   ]
  },
  {
   "cell_type": "code",
   "execution_count": null,
   "metadata": {},
   "outputs": [],
   "source": []
  },
  {
   "cell_type": "code",
   "execution_count": null,
   "metadata": {},
   "outputs": [],
   "source": []
  },
  {
   "cell_type": "code",
   "execution_count": 872,
   "metadata": {},
   "outputs": [],
   "source": [
    "def pairwise_indexing(xrdmap, pixel_indices, phase, near_thresh=0.05, min_rssd=0.15, max_iterations=50):\n",
    "\n",
    "    from scipy.spatial.transform import Rotation\n",
    "    from itertools import product, combinations\n",
    "    from sklearn.metrics.pairwise import euclidean_distances\n",
    "    from xrdmaptools.crystal.Phase import generate_reciprocal_lattice\n",
    "    from xrdmaptools.utilities.image_corrections import rescale_array\n",
    "\n",
    "    pixel_df = xrdmap.pixel_spots(pixel_indices).dropna().sort_values('fit_integrated', ascending=False)\n",
    "\n",
    "    if len(pixel_df) < 2:\n",
    "        raise ValueError('Not enough spots for indexing!')\n",
    "\n",
    "    spot_qs = pixel_df[['qx', 'qy', 'qz']].values\n",
    "    #near_thresh = 0.05\n",
    "    #min_rssd = 0.15\n",
    "    #max_iterations = 50\n",
    "\n",
    "    if phase.reflections is None:\n",
    "        phase.get_hkl_reflections(tth_range=(np.min(test.tth_arr), np.max(test.tth_arr)))\n",
    "\n",
    "    # Semi-useful...\n",
    "    all_hkls, all_qs, all_fs = generate_reciprocal_lattice(phase, tth_range=(np.min(test.tth_arr), np.max(test.tth_arr)))\n",
    "\n",
    "    # Minimum step size in q-space. Maybe...\n",
    "    min_q = np.min(np.linalg.norm(phase.Q([[1, 0, 0], [0, 1, 0], [0, 0, 1]]), axis=0))\n",
    "\n",
    "    # find potential matces within a threshold\n",
    "    phase_q_vals = phase.reflections['q']\n",
    "    spot_q_vals = np.linalg.norm(spot_qs, axis=1)\n",
    "    diff_arr = np.abs(spot_q_vals[:, np.newaxis] - phase_q_vals[np.newaxis, :])\n",
    "    pot_match = diff_arr < near_thresh\n",
    "\n",
    "    # Distinguish by phase kind of\n",
    "    phase_mask = np.any(pot_match, axis=1)\n",
    "    pot_match = pot_match[phase_mask]\n",
    "    spot_qs = np.array(spot_qs)[phase_mask]\n",
    "\n",
    "    # Find matching reflections and convert to q-space (with 2pi factor)\n",
    "    simple_q_calc = []\n",
    "    all_q_calc = []\n",
    "    for pot_match_i in pot_match:\n",
    "        if not np.any(pot_match_i):\n",
    "            continue\n",
    "        match_ind = np.where(pot_match_i)[0]\n",
    "        hkls = [phase.reflections['hkl'][ind] for ind in match_ind]\n",
    "        simple_q_calc.append(phase.Q(hkls))\n",
    "\n",
    "        # Add equivalent hkls\n",
    "        ext_hkls = []\n",
    "        [ext_hkls.extend(list(phase.lattice.equivalent_hkls(hkl))) for hkl in hkls];\n",
    "        hkls = ext_hkls\n",
    "\n",
    "        q_calc = phase.Q(hkls)\n",
    "        all_q_calc.append(q_calc)\n",
    "\n",
    "    if len(all_q_calc) < 1:\n",
    "        raise ValueError('No reflections close to found spots!')\n",
    "        grain_list = [[[], [], []]]\n",
    "        return grain_list\n",
    "\n",
    "    grain_list = []\n",
    "    remaining_spots = list(range(len(spot_qs)))\n",
    "    while len(remaining_spots) > 0:\n",
    "        #print('Indexing new grain')\n",
    "        rem_spot_qs = spot_qs[remaining_spots]\n",
    "\n",
    "        # Indexing only possible on two spots\n",
    "        # If only one remaining, mark as unindexed\n",
    "        if len(remaining_spots) == 1:\n",
    "            grain_list.append((remaining_spots, [], []))\n",
    "            remaining_spots = []\n",
    "\n",
    "        #print('Generating new pairs')\n",
    "        pairs_indices = list(combinations(range(len(remaining_spots)), 2))\n",
    "\n",
    "        for pair in pairs_indices:\n",
    "            spot0, spot1 = rem_spot_qs[list(pair)]\n",
    "\n",
    "            dist = np.sqrt((spot0[0] - spot1[0])**2\n",
    "                        + (spot0[1] - spot1[1])**2\n",
    "                        + (spot0[2] - spot1[2])**2)\n",
    "            \n",
    "            # Only consider crystallographically feasible distnaces\n",
    "            if dist < (min_q * 0.85): # within 15 % error\n",
    "                if pair == pairs_indices[-1]:\n",
    "                    grain_list.append((remaining_spots, [], []))\n",
    "                    remaining_spots = []\n",
    "                continue\n",
    "\n",
    "            fit_q_calc = [simple_q_calc[remaining_spots[pair[0]]],\n",
    "                        all_q_calc[remaining_spots[pair[1]]]]\n",
    "\n",
    "            combos = list(product(*fit_q_calc))\n",
    "\n",
    "            rot_list, rssd_list = [], []\n",
    "            valid_combos = []\n",
    "            for q_calc in combos:\n",
    "                if np.sum(np.abs(np.cross(*q_calc))) < 1e-8:\n",
    "                    continue\n",
    "                rot, rssd = Rotation.align_vectors(q_calc, rem_spot_qs[list(pair)])\n",
    "                rot_list.append(rot.as_matrix())\n",
    "                rssd_list.append(rssd)\n",
    "                valid_combos.append(q_calc)\n",
    "\n",
    "            # Collect best fit guess hkls\n",
    "            rssd_list = np.asarray(rssd_list)\n",
    "            if not np.any(rssd_list < min_rssd):\n",
    "                if pair == pairs_indices[-1]:\n",
    "                    grain_list.append((remaining_spots, [], []))\n",
    "                    remaining_spots = []\n",
    "                continue\n",
    "            min_rssd_list = np.round(rssd_list[rssd_list < min_rssd], 10)\n",
    "            min_q_calcs = np.round(np.array(valid_combos)[rssd_list < min_rssd], 10)\n",
    "            min_rot_list = np.array(rot_list)[rssd_list < min_rssd]\n",
    "\n",
    "            # Sort unique fits by minimum rssd\n",
    "            # This biases towards equivalent positive values\n",
    "            sorted_min_rssd_list = sorted(np.unique(min_rssd_list))\n",
    "            sorted_min_q_calcs = [min_q_calcs[np.where(min_rssd_list == val)[0][0]]\n",
    "                                for val in sorted_min_rssd_list]\n",
    "            sorted_min_rot_list = [min_rot_list[np.where(min_rssd_list == val)[0][0]]\n",
    "                                for val in sorted_min_rssd_list]\n",
    "\n",
    "            # Setup features for refinement\n",
    "            rotation_list = sorted_min_rot_list\n",
    "            indexed_spots_catalog = []\n",
    "            indexed_hkls_catalog = []\n",
    "            rssd_list = []\n",
    "            misorientation_list = [] # not currently used\n",
    "            best_indexed = 0\n",
    "\n",
    "            # Refine orientation!\n",
    "            REFINE = True\n",
    "            iteration = 0\n",
    "            while REFINE:\n",
    "                # Setup comparison features for refinement\n",
    "                new_rotation_list = []\n",
    "                new_indexed_spots_catalog = []\n",
    "                new_indexed_hkls_catalog = []\n",
    "                new_rssd_list = []\n",
    "                new_misorientation_list = [] # not currently used\n",
    "                #print(f'{iteration=}')\n",
    "                for rot in rotation_list:\n",
    "                    #print(rot)\n",
    "                    \n",
    "                    # Forces pair to be included\n",
    "                    indexed_spots = list(pair)\n",
    "                    indexed_spots = []\n",
    "                    indexed_spots, indexed_hkls = _index_spots(\n",
    "                                                    rem_spot_qs,\n",
    "                                                    rot,\n",
    "                                                    all_qs,\n",
    "                                                    all_hkls,\n",
    "                                                    indexed_spots=indexed_spots)\n",
    "                    \n",
    "                    new_indexed_spots_catalog.append(indexed_spots)\n",
    "                    new_indexed_hkls_catalog.append(indexed_hkls)\n",
    "\n",
    "                    new_rot, rssd = Rotation.align_vectors(phase.Q(indexed_hkls), rem_spot_qs[indexed_spots])\n",
    "                    new_rotation_list.append(new_rot.as_matrix())\n",
    "                    new_rssd_list.append(rssd)\n",
    "                    misori = rot @ new_rot.as_matrix().T\n",
    "                    new_misorientation_list.append(np.degrees(np.arccos(0.5 * (np.trace(misori) - 1))))\n",
    "\n",
    "                    #if len(remaining_spots) == 4:\n",
    "                    #    raise\n",
    "                \n",
    "                # Best candidate of current refinment\n",
    "                new_best_indexed = np.argmin(new_rssd_list)\n",
    "                \n",
    "                # Force at least two iterations\n",
    "                if iteration == 0:\n",
    "                    pass\n",
    "                elif iteration == max_iterations:\n",
    "                    #print('WARNING: Refinement reached max number of iterations.')\n",
    "                    REFINE = False\n",
    "                elif len(new_indexed_spots_catalog[new_best_indexed]) > len(indexed_spots_catalog[best_indexed]):\n",
    "                #elif new_rssd_list[new_best_indexed] < rssd_list[best_indexed]:\n",
    "                    # Keep updating\n",
    "                    pass\n",
    "                else:\n",
    "                    REFINE = False\n",
    "                    #print(f'Refinement complete after {iteration + 1} iterations.')\n",
    "                    # Do not redefine values\n",
    "                    break\n",
    "                #else:\n",
    "                #    # Compare values and stop if no new spots\n",
    "                #    if (best_indexed == new_best_indexed\n",
    "                #        and len(indexed_spots_catalog[best_indexed])\n",
    "                #        <= len(new_indexed_spots_catalog[new_best_indexed])):\n",
    "                #        REFINE = False # No changes, stop refinement\n",
    "                #        print(f'Refinement complete after {iteration + 1} iterations.')\n",
    "\n",
    "                # Redefine values\n",
    "                rotation_list = new_rotation_list.copy()\n",
    "                indexed_spots_catalog = new_indexed_spots_catalog.copy()\n",
    "                indexed_hkls_catalog = new_indexed_hkls_catalog.copy()\n",
    "                rssd_list = new_rssd_list.copy()\n",
    "                misorientation_list = new_misorientation_list.copy() # not currently used\n",
    "                best_indexed = new_best_indexed\n",
    "                iteration += 1\n",
    "\n",
    "            grain_list.append((np.array(remaining_spots)[indexed_spots_catalog[best_indexed]],\n",
    "                            indexed_hkls_catalog[best_indexed],\n",
    "                            rotation_list[best_indexed]))\n",
    "            \n",
    "            for spot in np.array(remaining_spots)[indexed_spots_catalog[best_indexed]]:\n",
    "                remaining_spots.remove(spot)\n",
    "\n",
    "            if pair == pairs_indices[-1]:\n",
    "                grain_list.append((remaining_spots, [], []))\n",
    "                remaining_spots = []\n",
    "            else:\n",
    "                break\n",
    "\n",
    "    return grain_list"
   ]
  },
  {
   "cell_type": "code",
   "execution_count": 880,
   "metadata": {},
   "outputs": [
    {
     "name": "stderr",
     "output_type": "stream",
     "text": [
      "100%|██████████| 3381/3381 [21:44<00:00,  2.59it/s]  \n"
     ]
    }
   ],
   "source": [
    "# pairwise indexing across full map\n",
    "\n",
    "from sklearn.metrics.pairwise import euclidean_distances\n",
    "from tqdm import tqdm\n",
    "from xrdmaptools.utilities.utilities import combine_nearby_spots\n",
    "from xrdmaptools.crystal.Phase import generate_reciprocal_lattice\n",
    "from itertools import product\n",
    "from scipy.spatial.transform import Rotation\n",
    "\n",
    "phase = test.phases['stibnite']\n",
    "\n",
    "if phase.reflections is None:\n",
    "    phase.get_hkl_reflections(tth_range=(np.min(test.tth_arr), np.max(test.tth_arr)))\n",
    "\n",
    "euler_map = np.empty((*test.map.map_shape, 3))\n",
    "fit_map = np.empty(test.map.map_shape)\n",
    "\n",
    "orientation_map = np.empty((*test.map.map_shape, 3, 3))\n",
    "nan_orientation = np.empty((3, 3))\n",
    "nan_orientation[:] = np.nan\n",
    "\n",
    "for index in tqdm(range(test.map.num_images)):\n",
    "    indices = np.unravel_index(index, test.map.map_shape)\n",
    "    pixel_df = test.pixel_spots(indices).dropna()\n",
    "    \n",
    "    # Conditional to avoid too few spots for theoretical indexing\n",
    "    if len(pixel_df) < 2:\n",
    "        orientation_map[indices] = nan_orientation\n",
    "        continue\n",
    "\n",
    "    # Combine nearby spots for better indexing speed\n",
    "    # Will not work with current definition of pairwise indexing\n",
    "    #spot_qs = pixel_df[['qx', 'qy', 'qz']].values\n",
    "    #spot_ints = pixel_df[['guess_int']].values\n",
    "\n",
    "    #spot_qs, spot_ints = combine_nearby_spots(spot_qs, spot_ints, max_dist=0.1, max_neighbors=np.inf)\n",
    "\n",
    "    # Sort spots from largest to smallest intensity\n",
    "    #zipped = list(zip(spot_ints, spot_qs))\n",
    "    #zipped.sort(reverse=True)\n",
    "    #spot_ints, spot_qs = zip(*zipped)\n",
    "    #spot_ints = list(spot_ints)\n",
    "    #spot_qs = list(spot_qs)\n",
    "    \n",
    "    \n",
    "    grain_list = pairwise_indexing(test,\n",
    "                                   indices,\n",
    "                                   phase,\n",
    "                                   near_thresh=0.05,\n",
    "                                   min_rssd=0.15,\n",
    "                                   max_iterations=10)\n",
    "    \n",
    "    if isinstance(grain_list[0][-1], list):\n",
    "        orientation_map[indices] = nan_orientation\n",
    "    else:\n",
    "        orientation_map[indices] = grain_list[0][-1]"
   ]
  },
  {
   "cell_type": "code",
   "execution_count": 891,
   "metadata": {},
   "outputs": [],
   "source": [
    "vecs = np.asarray(spot_qs)"
   ]
  },
  {
   "cell_type": "code",
   "execution_count": 948,
   "metadata": {},
   "outputs": [
    {
     "data": {
      "text/plain": [
       "False"
      ]
     },
     "execution_count": 948,
     "metadata": {},
     "output_type": "execute_result"
    }
   ],
   "source": [
    "are_collinear(spot_qs)"
   ]
  },
  {
   "cell_type": "code",
   "execution_count": 947,
   "metadata": {},
   "outputs": [],
   "source": [
    "def are_collinear(vectors):\n",
    "    vecs = np.asarray(vectors)\n",
    "    collinear_flag = True\n",
    "\n",
    "    # Probably faster. Not easy to perform pairwise\n",
    "    if len(vecs) == 2:\n",
    "        if np.sum(np.abs(np.cross(*vecs))) > 1e-8:\n",
    "            collinear_flag = False\n",
    "        return collinear_flag\n",
    "\n",
    "    # Pairwise analysis fo list of vectors\n",
    "    const_list = []\n",
    "    for ind in range(vecs.shape[1]):\n",
    "        vecs_axis = vecs[:, ind]\n",
    "        if not np.any(vecs_axis == 0):\n",
    "            const = np.abs(vecs_axis[:, np.newaxis] / vecs_axis[np.newaxis, :])\n",
    "            const_list.append(np.round(const, 3))\n",
    "\n",
    "    combos = list(combinations(range(vecs.shape[1]), 2))\n",
    "    if len(combos) > 1:\n",
    "        combos.pop(-1) # last index is redundant\n",
    "\n",
    "    for combo in combos:\n",
    "        if np.any(const_list[combo[0]] != const_list[combo[1]]):\n",
    "            collinear_flag = False\n",
    "            break\n",
    "        \n",
    "    return collinear_flag"
   ]
  },
  {
   "cell_type": "code",
   "execution_count": 914,
   "metadata": {},
   "outputs": [],
   "source": [
    "from itertools import permutations"
   ]
  },
  {
   "cell_type": "code",
   "execution_count": 919,
   "metadata": {},
   "outputs": [
    {
     "data": {
      "text/plain": [
       "[(0, 1), (0, 2), (0, 3), (1, 2), (1, 3), (2, 3)]"
      ]
     },
     "execution_count": 919,
     "metadata": {},
     "output_type": "execute_result"
    }
   ],
   "source": [
    "list(combinations(range(vecs.shape[1]), 2))"
   ]
  },
  {
   "cell_type": "code",
   "execution_count": 912,
   "metadata": {},
   "outputs": [
    {
     "data": {
      "text/plain": [
       "[array([[1.        , 0.98320686, 1.0606034 , ..., 0.59548845, 0.57227492,\n",
       "         0.56457005],\n",
       "        [1.01707997, 1.        , 1.07871848, ..., 0.60565937, 0.58204936,\n",
       "         0.57421289],\n",
       "        [0.94285951, 0.92702593, 1.        , ..., 0.56146194, 0.53957485,\n",
       "         0.53231024],\n",
       "        ...,\n",
       "        [1.6792937 , 1.65109308, 1.78106462, ..., 1.        , 0.96101767,\n",
       "         0.94807893],\n",
       "        [1.7474119 , 1.71806736, 1.85331101, ..., 1.0405636 , 1.        ,\n",
       "         0.98653643],\n",
       "        [1.77125938, 1.74151437, 1.87860372, ..., 1.0547645 , 1.01364731,\n",
       "         1.        ]]),\n",
       " array([[1.        , 1.13504174, 0.7623954 , ..., 0.92240448, 0.96889377,\n",
       "         1.18833152],\n",
       "        [0.88102487, 1.        , 0.67168931, ..., 0.81266129, 0.85361951,\n",
       "         1.04694963],\n",
       "        [1.31165534, 1.48878355, 1.        , ..., 1.20987675, 1.27085469,\n",
       "         1.55868138],\n",
       "        ...,\n",
       "        [1.0841231 , 1.23052496, 0.82653047, ..., 1.        , 1.05040012,\n",
       "         1.28829765],\n",
       "        [1.03210489, 1.17148213, 0.78687202, ..., 0.95201817, 1.        ,\n",
       "         1.22648277],\n",
       "        [0.84151601, 0.95515579, 0.64156794, ..., 0.77621813, 0.81533962,\n",
       "         1.        ]]),\n",
       " array([[1.        , 1.00013908, 0.99965033, ..., 0.36309339, 0.33614721,\n",
       "         0.332841  ],\n",
       "        [0.99986094, 1.        , 0.99951132, ..., 0.3630429 , 0.33610047,\n",
       "         0.33279471],\n",
       "        [1.00034979, 1.00048892, 1.        , ..., 0.3632204 , 0.33626479,\n",
       "         0.33295743],\n",
       "        ...,\n",
       "        [2.75411236, 2.75449542, 2.75314934, ..., 1.        , 0.92578719,\n",
       "         0.91668152],\n",
       "        [2.97488708, 2.97530084, 2.97384685, ..., 1.08016184, 1.        ,\n",
       "         0.99016439],\n",
       "        [3.00443755, 3.00485542, 3.00338699, ..., 1.09089142, 1.00993331,\n",
       "         1.        ]])]"
      ]
     },
     "execution_count": 912,
     "metadata": {},
     "output_type": "execute_result"
    }
   ],
   "source": [
    "const_list"
   ]
  },
  {
   "cell_type": "code",
   "execution_count": 901,
   "metadata": {},
   "outputs": [
    {
     "data": {
      "text/plain": [
       "0.5071963191171929"
      ]
     },
     "execution_count": 901,
     "metadata": {},
     "output_type": "execute_result"
    }
   ],
   "source": [
    "np.mean(first_const)."
   ]
  },
  {
   "cell_type": "code",
   "execution_count": 909,
   "metadata": {},
   "outputs": [
    {
     "data": {
      "text/plain": [
       "array([0.309, 0.31 , 0.312, 0.313, 0.314, 0.315, 0.316, 0.325, 0.326,\n",
       "       0.327, 0.328, 0.329, 0.33 , 0.331, 0.332, 0.333, 0.334, 0.335,\n",
       "       0.336, 0.337, 0.338, 0.355, 0.356, 0.357, 0.358, 0.359, 0.36 ,\n",
       "       0.361, 0.362, 0.363, 0.364, 0.365, 0.366, 0.367, 0.368, 0.369,\n",
       "       0.37 , 0.371, 0.488, 0.489, 0.49 , 0.491, 0.492, 0.493, 0.494,\n",
       "       0.495, 0.496, 0.497, 0.498, 0.499, 0.5  , 0.501, 0.502, 0.503,\n",
       "       0.504, 0.505, 0.506, 0.507, 0.508, 0.509, 0.62 , 0.621, 0.623,\n",
       "       0.624, 0.625, 0.626, 0.627, 0.628, 0.629, 0.63 , 0.631, 0.632,\n",
       "       0.654, 0.655, 0.656, 0.657, 0.658, 0.659, 0.66 , 0.661, 0.662,\n",
       "       0.663, 0.664, 0.665, 0.666, 0.667, 0.668, 0.669, 0.67 , 0.671,\n",
       "       0.672, 0.673, 0.674, 0.675, 0.676, 0.713, 0.714, 0.715, 0.716,\n",
       "       0.717, 0.718, 0.719, 0.72 , 0.721, 0.722, 0.723, 0.724, 0.725,\n",
       "       0.726, 0.727, 0.728, 0.729, 0.73 , 0.731, 0.732, 0.733, 0.734,\n",
       "       0.735, 0.736, 0.737, 0.738, 0.739, 0.74 , 0.741, 0.742, 0.852,\n",
       "       0.854, 0.856, 0.857, 0.858, 0.859, 0.86 , 0.861, 0.862, 0.863,\n",
       "       0.864, 0.865, 0.866, 0.867, 0.868, 0.869, 0.87 , 0.898, 0.899,\n",
       "       0.9  , 0.901, 0.902, 0.903, 0.904, 0.905, 0.906, 0.907, 0.908,\n",
       "       0.909, 0.91 , 0.911, 0.912, 0.913, 0.914, 0.915, 0.916, 0.917,\n",
       "       0.918, 0.919, 0.92 , 0.921, 0.922, 0.923, 0.924, 0.925, 0.926,\n",
       "       0.927, 0.928, 0.929, 0.93 , 0.935, 0.937, 0.938, 0.939, 0.94 ,\n",
       "       0.941, 0.942, 0.943, 0.944, 0.945, 0.946, 0.947, 0.948, 0.977,\n",
       "       0.978, 0.979, 0.98 , 0.981, 0.982, 0.983, 0.984, 0.985, 0.986,\n",
       "       0.987, 0.988, 0.989, 0.99 , 0.991, 0.992, 0.993, 0.994, 0.995,\n",
       "       0.996, 0.997, 0.998, 0.999, 1.   , 1.001, 1.002, 1.003, 1.004,\n",
       "       1.005, 1.006, 1.007, 1.008, 1.009, 1.01 , 1.011, 1.012, 1.013,\n",
       "       1.014, 1.015, 1.016, 1.017, 1.018, 1.019, 1.02 , 1.021, 1.022,\n",
       "       1.023, 1.054, 1.055, 1.056, 1.057, 1.058, 1.059, 1.06 , 1.061,\n",
       "       1.062, 1.063, 1.064, 1.065, 1.066, 1.067, 1.068, 1.07 , 1.075,\n",
       "       1.076, 1.077, 1.078, 1.079, 1.08 , 1.081, 1.082, 1.083, 1.084,\n",
       "       1.085, 1.086, 1.087, 1.088, 1.089, 1.09 , 1.091, 1.092, 1.093,\n",
       "       1.094, 1.095, 1.096, 1.097, 1.098, 1.099, 1.1  , 1.101, 1.102,\n",
       "       1.103, 1.104, 1.105, 1.106, 1.107, 1.108, 1.109, 1.11 , 1.111,\n",
       "       1.112, 1.113, 1.114, 1.15 , 1.151, 1.152, 1.153, 1.154, 1.155,\n",
       "       1.156, 1.157, 1.158, 1.159, 1.16 , 1.161, 1.162, 1.163, 1.164,\n",
       "       1.165, 1.166, 1.167, 1.168, 1.171, 1.174, 1.347, 1.348, 1.349,\n",
       "       1.35 , 1.351, 1.352, 1.353, 1.354, 1.355, 1.356, 1.357, 1.358,\n",
       "       1.359, 1.36 , 1.361, 1.362, 1.363, 1.364, 1.365, 1.366, 1.367,\n",
       "       1.368, 1.369, 1.37 , 1.371, 1.372, 1.373, 1.374, 1.375, 1.376,\n",
       "       1.377, 1.378, 1.379, 1.38 , 1.381, 1.382, 1.383, 1.384, 1.385,\n",
       "       1.386, 1.387, 1.388, 1.389, 1.39 , 1.391, 1.392, 1.393, 1.394,\n",
       "       1.395, 1.396, 1.397, 1.398, 1.399, 1.4  , 1.401, 1.402, 1.479,\n",
       "       1.48 , 1.481, 1.482, 1.483, 1.484, 1.485, 1.486, 1.487, 1.488,\n",
       "       1.489, 1.49 , 1.491, 1.492, 1.493, 1.494, 1.495, 1.496, 1.497,\n",
       "       1.498, 1.499, 1.5  , 1.501, 1.502, 1.503, 1.504, 1.505, 1.506,\n",
       "       1.507, 1.508, 1.509, 1.51 , 1.511, 1.512, 1.513, 1.514, 1.515,\n",
       "       1.516, 1.517, 1.518, 1.519, 1.52 , 1.521, 1.522, 1.523, 1.524,\n",
       "       1.525, 1.526, 1.527, 1.528, 1.529, 1.582, 1.583, 1.584, 1.585,\n",
       "       1.586, 1.587, 1.588, 1.589, 1.59 , 1.591, 1.592, 1.593, 1.594,\n",
       "       1.595, 1.596, 1.597, 1.598, 1.599, 1.6  , 1.601, 1.603, 1.606,\n",
       "       1.61 , 1.612, 1.964, 1.965, 1.966, 1.967, 1.968, 1.969, 1.97 ,\n",
       "       1.971, 1.972, 1.973, 1.974, 1.975, 1.976, 1.977, 1.978, 1.979,\n",
       "       1.98 , 1.981, 1.982, 1.983, 1.984, 1.985, 1.986, 1.987, 1.988,\n",
       "       1.989, 1.99 , 1.991, 1.992, 1.993, 1.994, 1.995, 1.996, 1.997,\n",
       "       1.998, 1.999, 2.   , 2.001, 2.002, 2.003, 2.004, 2.005, 2.006,\n",
       "       2.007, 2.008, 2.009, 2.01 , 2.011, 2.012, 2.013, 2.014, 2.015,\n",
       "       2.016, 2.017, 2.018, 2.019, 2.02 , 2.021, 2.022, 2.023, 2.024,\n",
       "       2.025, 2.026, 2.027, 2.028, 2.029, 2.03 , 2.031, 2.032, 2.033,\n",
       "       2.034, 2.035, 2.036, 2.037, 2.038, 2.039, 2.04 , 2.041, 2.042,\n",
       "       2.043, 2.044, 2.045, 2.046, 2.047, 2.048, 2.697, 2.698, 2.699,\n",
       "       2.701, 2.703, 2.704, 2.705, 2.706, 2.707, 2.708, 2.709, 2.71 ,\n",
       "       2.711, 2.712, 2.713, 2.714, 2.715, 2.716, 2.717, 2.718, 2.719,\n",
       "       2.72 , 2.721, 2.722, 2.723, 2.724, 2.725, 2.726, 2.727, 2.728,\n",
       "       2.729, 2.73 , 2.731, 2.732, 2.733, 2.734, 2.735, 2.736, 2.737,\n",
       "       2.738, 2.739, 2.74 , 2.741, 2.742, 2.743, 2.744, 2.745, 2.746,\n",
       "       2.747, 2.748, 2.749, 2.75 , 2.751, 2.752, 2.753, 2.754, 2.755,\n",
       "       2.756, 2.757, 2.758, 2.759, 2.76 , 2.761, 2.762, 2.763, 2.764,\n",
       "       2.765, 2.766, 2.767, 2.768, 2.769, 2.77 , 2.771, 2.772, 2.773,\n",
       "       2.774, 2.775, 2.776, 2.777, 2.778, 2.779, 2.78 , 2.781, 2.782,\n",
       "       2.783, 2.784, 2.785, 2.786, 2.787, 2.788, 2.789, 2.79 , 2.791,\n",
       "       2.792, 2.793, 2.794, 2.795, 2.796, 2.797, 2.798, 2.799, 2.8  ,\n",
       "       2.801, 2.802, 2.803, 2.804, 2.805, 2.806, 2.807, 2.808, 2.809,\n",
       "       2.81 , 2.811, 2.812, 2.813, 2.814, 2.816, 2.818, 2.96 , 2.962,\n",
       "       2.963, 2.965, 2.966, 2.967, 2.968, 2.969, 2.97 , 2.971, 2.972,\n",
       "       2.973, 2.974, 2.975, 2.976, 2.977, 2.978, 2.979, 2.98 , 2.981,\n",
       "       2.982, 2.983, 2.984, 2.985, 2.986, 2.987, 2.988, 2.989, 2.99 ,\n",
       "       2.991, 2.992, 2.993, 2.994, 2.995, 2.996, 2.997, 2.998, 2.999,\n",
       "       3.   , 3.001, 3.002, 3.003, 3.004, 3.005, 3.006, 3.007, 3.008,\n",
       "       3.009, 3.01 , 3.011, 3.012, 3.013, 3.014, 3.015, 3.016, 3.017,\n",
       "       3.018, 3.019, 3.02 , 3.021, 3.022, 3.023, 3.024, 3.025, 3.026,\n",
       "       3.027, 3.028, 3.029, 3.03 , 3.031, 3.032, 3.033, 3.034, 3.035,\n",
       "       3.036, 3.037, 3.038, 3.039, 3.04 , 3.041, 3.042, 3.043, 3.044,\n",
       "       3.045, 3.046, 3.047, 3.048, 3.049, 3.05 , 3.051, 3.052, 3.053,\n",
       "       3.054, 3.055, 3.056, 3.057, 3.058, 3.059, 3.06 , 3.061, 3.062,\n",
       "       3.063, 3.064, 3.065, 3.066, 3.067, 3.068, 3.069, 3.07 , 3.071,\n",
       "       3.073, 3.167, 3.168, 3.17 , 3.171, 3.172, 3.174, 3.175, 3.176,\n",
       "       3.177, 3.179, 3.18 , 3.181, 3.182, 3.183, 3.184, 3.185, 3.186,\n",
       "       3.187, 3.188, 3.189, 3.19 , 3.191, 3.192, 3.193, 3.194, 3.196,\n",
       "       3.197, 3.198, 3.199, 3.201, 3.205, 3.208, 3.221, 3.234, 3.235,\n",
       "       3.24 ])"
      ]
     },
     "execution_count": 909,
     "metadata": {},
     "output_type": "execute_result"
    }
   ],
   "source": [
    "np.unique(np.round(first_const, 3))"
   ]
  },
  {
   "cell_type": "code",
   "execution_count": 897,
   "metadata": {},
   "outputs": [
    {
     "data": {
      "text/plain": [
       "(488, 488)"
      ]
     },
     "execution_count": 897,
     "metadata": {},
     "output_type": "execute_result"
    }
   ],
   "source": [
    "first_const.shape"
   ]
  },
  {
   "cell_type": "code",
   "execution_count": 866,
   "metadata": {},
   "outputs": [
    {
     "data": {
      "text/plain": [
       "(0, 69)"
      ]
     },
     "execution_count": 866,
     "metadata": {},
     "output_type": "execute_result"
    }
   ],
   "source": [
    "indices"
   ]
  },
  {
   "cell_type": "code",
   "execution_count": 842,
   "metadata": {},
   "outputs": [
    {
     "data": {
      "text/plain": [
       "(12, 104)"
      ]
     },
     "execution_count": 842,
     "metadata": {},
     "output_type": "execute_result"
    }
   ],
   "source": [
    "indices"
   ]
  },
  {
   "cell_type": "code",
   "execution_count": 400,
   "metadata": {},
   "outputs": [
    {
     "ename": "NameError",
     "evalue": "name 'orientation_map' is not defined",
     "output_type": "error",
     "traceback": [
      "\u001b[1;31m---------------------------------------------------------------------------\u001b[0m",
      "\u001b[1;31mNameError\u001b[0m                                 Traceback (most recent call last)",
      "Cell \u001b[1;32mIn[400], line 6\u001b[0m\n\u001b[0;32m      3\u001b[0m \u001b[38;5;28;01mfor\u001b[39;00m index \u001b[38;5;129;01min\u001b[39;00m \u001b[38;5;28mrange\u001b[39m(test\u001b[38;5;241m.\u001b[39mmap\u001b[38;5;241m.\u001b[39mnum_images):\n\u001b[0;32m      4\u001b[0m     indices \u001b[38;5;241m=\u001b[39m np\u001b[38;5;241m.\u001b[39munravel_index(index, test\u001b[38;5;241m.\u001b[39mmap\u001b[38;5;241m.\u001b[39mmap_shape)\n\u001b[1;32m----> 6\u001b[0m     euler \u001b[38;5;241m=\u001b[39m Rotation\u001b[38;5;241m.\u001b[39mfrom_matrix(\u001b[43morientation_map\u001b[49m[indices])\u001b[38;5;241m.\u001b[39mas_euler(\u001b[38;5;124m'\u001b[39m\u001b[38;5;124mzxz\u001b[39m\u001b[38;5;124m'\u001b[39m, degrees\u001b[38;5;241m=\u001b[39m\u001b[38;5;28;01mTrue\u001b[39;00m)\n\u001b[0;32m      7\u001b[0m     euler_map[indices] \u001b[38;5;241m=\u001b[39m euler\n",
      "\u001b[1;31mNameError\u001b[0m: name 'orientation_map' is not defined"
     ]
    }
   ],
   "source": [
    "euler_map = np.empty((*test.map.map_shape, 3))\n",
    "\n",
    "for index in range(test.map.num_images):\n",
    "    indices = np.unravel_index(index, test.map.map_shape)\n",
    "    \n",
    "    euler = Rotation.from_matrix(orientation_map[indices]).as_euler('zxz', degrees=True)\n",
    "    euler_map[indices] = euler"
   ]
  },
  {
   "cell_type": "code",
   "execution_count": 804,
   "metadata": {},
   "outputs": [
    {
     "data": {
      "text/plain": [
       "array([[[[        nan,         nan,         nan],\n",
       "         [        nan,         nan,         nan],\n",
       "         [        nan,         nan,         nan]],\n",
       "\n",
       "        [[        nan,         nan,         nan],\n",
       "         [        nan,         nan,         nan],\n",
       "         [        nan,         nan,         nan]],\n",
       "\n",
       "        [[        nan,         nan,         nan],\n",
       "         [        nan,         nan,         nan],\n",
       "         [        nan,         nan,         nan]],\n",
       "\n",
       "        ...,\n",
       "\n",
       "        [[-0.04724966, -0.01005939, -0.99883246],\n",
       "         [-0.04157443, -0.999063  ,  0.01202838],\n",
       "         [-0.99801755,  0.04209423,  0.04678718]],\n",
       "\n",
       "        [[-0.04724966, -0.01005939, -0.99883246],\n",
       "         [-0.04157443, -0.999063  ,  0.01202838],\n",
       "         [-0.99801755,  0.04209423,  0.04678718]],\n",
       "\n",
       "        [[-0.04724966, -0.01005939, -0.99883246],\n",
       "         [-0.04157443, -0.999063  ,  0.01202838],\n",
       "         [-0.99801755,  0.04209423,  0.04678718]]],\n",
       "\n",
       "\n",
       "       [[[        nan,         nan,         nan],\n",
       "         [        nan,         nan,         nan],\n",
       "         [        nan,         nan,         nan]],\n",
       "\n",
       "        [[        nan,         nan,         nan],\n",
       "         [        nan,         nan,         nan],\n",
       "         [        nan,         nan,         nan]],\n",
       "\n",
       "        [[        nan,         nan,         nan],\n",
       "         [        nan,         nan,         nan],\n",
       "         [        nan,         nan,         nan]],\n",
       "\n",
       "        ...,\n",
       "\n",
       "        [[-0.04724966, -0.01005939, -0.99883246],\n",
       "         [-0.04157443, -0.999063  ,  0.01202838],\n",
       "         [-0.99801755,  0.04209423,  0.04678718]],\n",
       "\n",
       "        [[-0.04724966, -0.01005939, -0.99883246],\n",
       "         [-0.04157443, -0.999063  ,  0.01202838],\n",
       "         [-0.99801755,  0.04209423,  0.04678718]],\n",
       "\n",
       "        [[-0.04724966, -0.01005939, -0.99883246],\n",
       "         [-0.04157443, -0.999063  ,  0.01202838],\n",
       "         [-0.99801755,  0.04209423,  0.04678718]]],\n",
       "\n",
       "\n",
       "       [[[        nan,         nan,         nan],\n",
       "         [        nan,         nan,         nan],\n",
       "         [        nan,         nan,         nan]],\n",
       "\n",
       "        [[        nan,         nan,         nan],\n",
       "         [        nan,         nan,         nan],\n",
       "         [        nan,         nan,         nan]],\n",
       "\n",
       "        [[        nan,         nan,         nan],\n",
       "         [        nan,         nan,         nan],\n",
       "         [        nan,         nan,         nan]],\n",
       "\n",
       "        ...,\n",
       "\n",
       "        [[-0.04724966, -0.01005939, -0.99883246],\n",
       "         [-0.04157443, -0.999063  ,  0.01202838],\n",
       "         [-0.99801755,  0.04209423,  0.04678718]],\n",
       "\n",
       "        [[-0.04724966, -0.01005939, -0.99883246],\n",
       "         [-0.04157443, -0.999063  ,  0.01202838],\n",
       "         [-0.99801755,  0.04209423,  0.04678718]],\n",
       "\n",
       "        [[-0.04724966, -0.01005939, -0.99883246],\n",
       "         [-0.04157443, -0.999063  ,  0.01202838],\n",
       "         [-0.99801755,  0.04209423,  0.04678718]]],\n",
       "\n",
       "\n",
       "       ...,\n",
       "\n",
       "\n",
       "       [[[        nan,         nan,         nan],\n",
       "         [        nan,         nan,         nan],\n",
       "         [        nan,         nan,         nan]],\n",
       "\n",
       "        [[        nan,         nan,         nan],\n",
       "         [        nan,         nan,         nan],\n",
       "         [        nan,         nan,         nan]],\n",
       "\n",
       "        [[        nan,         nan,         nan],\n",
       "         [        nan,         nan,         nan],\n",
       "         [        nan,         nan,         nan]],\n",
       "\n",
       "        ...,\n",
       "\n",
       "        [[-0.04724966, -0.01005939, -0.99883246],\n",
       "         [-0.04157443, -0.999063  ,  0.01202838],\n",
       "         [-0.99801755,  0.04209423,  0.04678718]],\n",
       "\n",
       "        [[-0.04724966, -0.01005939, -0.99883246],\n",
       "         [-0.04157443, -0.999063  ,  0.01202838],\n",
       "         [-0.99801755,  0.04209423,  0.04678718]],\n",
       "\n",
       "        [[-0.04724966, -0.01005939, -0.99883246],\n",
       "         [-0.04157443, -0.999063  ,  0.01202838],\n",
       "         [-0.99801755,  0.04209423,  0.04678718]]],\n",
       "\n",
       "\n",
       "       [[[        nan,         nan,         nan],\n",
       "         [        nan,         nan,         nan],\n",
       "         [        nan,         nan,         nan]],\n",
       "\n",
       "        [[        nan,         nan,         nan],\n",
       "         [        nan,         nan,         nan],\n",
       "         [        nan,         nan,         nan]],\n",
       "\n",
       "        [[        nan,         nan,         nan],\n",
       "         [        nan,         nan,         nan],\n",
       "         [        nan,         nan,         nan]],\n",
       "\n",
       "        ...,\n",
       "\n",
       "        [[-0.04724966, -0.01005939, -0.99883246],\n",
       "         [-0.04157443, -0.999063  ,  0.01202838],\n",
       "         [-0.99801755,  0.04209423,  0.04678718]],\n",
       "\n",
       "        [[-0.04724966, -0.01005939, -0.99883246],\n",
       "         [-0.04157443, -0.999063  ,  0.01202838],\n",
       "         [-0.99801755,  0.04209423,  0.04678718]],\n",
       "\n",
       "        [[-0.04724966, -0.01005939, -0.99883246],\n",
       "         [-0.04157443, -0.999063  ,  0.01202838],\n",
       "         [-0.99801755,  0.04209423,  0.04678718]]],\n",
       "\n",
       "\n",
       "       [[[        nan,         nan,         nan],\n",
       "         [        nan,         nan,         nan],\n",
       "         [        nan,         nan,         nan]],\n",
       "\n",
       "        [[        nan,         nan,         nan],\n",
       "         [        nan,         nan,         nan],\n",
       "         [        nan,         nan,         nan]],\n",
       "\n",
       "        [[        nan,         nan,         nan],\n",
       "         [        nan,         nan,         nan],\n",
       "         [        nan,         nan,         nan]],\n",
       "\n",
       "        ...,\n",
       "\n",
       "        [[-0.04724966, -0.01005939, -0.99883246],\n",
       "         [-0.04157443, -0.999063  ,  0.01202838],\n",
       "         [-0.99801755,  0.04209423,  0.04678718]],\n",
       "\n",
       "        [[-0.04724966, -0.01005939, -0.99883246],\n",
       "         [-0.04157443, -0.999063  ,  0.01202838],\n",
       "         [-0.99801755,  0.04209423,  0.04678718]],\n",
       "\n",
       "        [[-0.04724966, -0.01005939, -0.99883246],\n",
       "         [-0.04157443, -0.999063  ,  0.01202838],\n",
       "         [-0.99801755,  0.04209423,  0.04678718]]]])"
      ]
     },
     "execution_count": 804,
     "metadata": {},
     "output_type": "execute_result"
    }
   ],
   "source": [
    "orientation_map"
   ]
  },
  {
   "cell_type": "code",
   "execution_count": null,
   "metadata": {},
   "outputs": [],
   "source": []
  },
  {
   "cell_type": "code",
   "execution_count": null,
   "metadata": {},
   "outputs": [],
   "source": []
  },
  {
   "cell_type": "code",
   "execution_count": 431,
   "metadata": {},
   "outputs": [],
   "source": [
    "# Pairwise indexing\n",
    "\n",
    "from scipy.spatial.transform import Rotation\n",
    "from itertools import product, combinations\n",
    "from sklearn.metrics.pairwise import euclidean_distances\n",
    "from xrdmaptools.crystal.Phase import generate_reciprocal_lattice\n",
    "from xrdmaptools.utilities.image_corrections import rescale_array\n",
    "\n",
    "\n",
    "pixel_indices = [4, 11]\n",
    "\n",
    "pixel_df = test.pixel_spots(pixel_indices).dropna().sort_values('fit_integrated', ascending=False)\n",
    "\n",
    "if len(pixel_df) < 2:\n",
    "    raise ValueError('Not enough spots for indexing!')\n",
    "\n",
    "spot_qs = pixel_df[['qx', 'qy', 'qz']].values\n",
    "phase = test.phases['stibnite']\n",
    "near_thresh = 0.05\n",
    "min_rssd = 0.2\n",
    "\n",
    "if phase.reflections is None:\n",
    "    phase.get_hkl_reflections(tth_range=(np.min(test.tth_arr), np.max(test.tth_arr)))\n",
    "\n",
    "# Semi-useful...\n",
    "all_hkls, all_qs, all_fs = generate_reciprocal_lattice(phase, tth_range=(np.min(test.tth_arr), np.max(test.tth_arr)))\n",
    "\n",
    "# Minimum step size in q-space. Maybe...\n",
    "min_q = np.min(np.linalg.norm(phase.Q([[1, 0, 0], [0, 1, 0], [0, 0, 1]]), axis=0))\n",
    "\n",
    "# find potential matces within a threshold\n",
    "phase_q_vals = phase.reflections['q']\n",
    "spot_q_vals = np.linalg.norm(spot_qs, axis=1)\n",
    "diff_arr = np.abs(spot_q_vals[:, np.newaxis] - phase_q_vals[np.newaxis, :])\n",
    "pot_match = diff_arr < near_thresh\n",
    "\n",
    "# Distinguish by phase kind of\n",
    "phase_mask = np.any(pot_match, axis=1)\n",
    "pot_match = pot_match[phase_mask]\n",
    "spot_qs = np.array(spot_qs)[phase_mask]\n",
    "\n",
    "# Find matching reflections and convert to q-space (with 2pi factor)\n",
    "simple_q_calc = []\n",
    "all_q_calc = []\n",
    "for pot_match_i in pot_match:\n",
    "    if not np.any(pot_match_i):\n",
    "        continue\n",
    "    match_ind = np.where(pot_match_i)[0]\n",
    "    hkls = [phase.reflections['hkl'][ind] for ind in match_ind]\n",
    "    simple_q_calc.append(phase.Q(hkls))\n",
    "\n",
    "    # Add equivalent hkls\n",
    "    ext_hkls = []\n",
    "    [ext_hkls.extend(list(phase.lattice.equivalent_hkls(hkl))) for hkl in hkls];\n",
    "    hkls = ext_hkls\n",
    "\n",
    "    q_calc = phase.Q(hkls)\n",
    "    all_q_calc.append(q_calc)\n",
    "\n",
    "if len(all_q_calc) < 1:\n",
    "    raise ValueError('No reflections close to found spots!')\n",
    "\n",
    "grain_list = []\n",
    "remaining_spots = list(range(len(spot_qs)))\n",
    "while len(remaining_spots) > 0:\n",
    "    grain_spots = []\n",
    "    grain_hkl = []\n",
    "    rem_spot_qs = spot_qs[remaining_spots]\n",
    "\n",
    "    if len(remaining_spots) == 1:\n",
    "        grain_list.append((remaining_spots, [], []))\n",
    "        remaining_spots = []\n",
    "\n",
    "    #print('Generating new pairs')\n",
    "    pairs_indices = list(combinations(range(len(remaining_spots)), 2))\n",
    "\n",
    "    for pair in pairs_indices:\n",
    "        spot0, spot1 = rem_spot_qs[list(pair)]\n",
    "\n",
    "        dist = np.sqrt((spot0[0] - spot1[0])**2\n",
    "                    + (spot0[1] - spot1[1])**2\n",
    "                    + (spot0[2] - spot1[2])**2)\n",
    "        \n",
    "        # Only consider crystallographically feasible distnaces\n",
    "        if dist < (min_q * 0.85): # within 15 % error\n",
    "            continue\n",
    "\n",
    "        fit_q_calc = [simple_q_calc[remaining_spots[pair[0]]],\n",
    "                      all_q_calc[remaining_spots[pair[1]]]]\n",
    "\n",
    "        combos = list(product(*fit_q_calc))\n",
    "\n",
    "        rot_list, rssd_list = [], []\n",
    "        for q_calc in combos:\n",
    "            rot, rssd = Rotation.align_vectors(q_calc, rem_spot_qs[list(pair)])\n",
    "            rot_list.append(rot.as_matrix())\n",
    "            rssd_list.append(rssd)\n",
    "\n",
    "        # Collect best fit guess hkls\n",
    "        rssd_list = np.asarray(rssd_list)\n",
    "        if not np.any(rssd_list < min_rssd):\n",
    "            continue\n",
    "        min_rssd_list = np.round(rssd_list[rssd_list < min_rssd], 10)\n",
    "        min_q_calcs = np.round(np.array(combos)[rssd_list < min_rssd], 10)\n",
    "        min_rot_list = np.array(rot_list)[rssd_list < min_rssd]\n",
    "\n",
    "        # Sort unique fits by minimum rssd\n",
    "        # This biases towards equivalent positive values\n",
    "        sorted_min_rssd_list = sorted(np.unique(min_rssd_list))\n",
    "        sorted_min_q_calcs = [min_q_calcs[np.where(min_rssd_list == val)[0][0]]\n",
    "                            for val in sorted_min_rssd_list]\n",
    "        sorted_min_rot_list = [min_rot_list[np.where(min_rssd_list == val)[0][0]]\n",
    "                            for val in sorted_min_rssd_list]\n",
    "        \n",
    "        # Attempt to index all spots with best found rotations\n",
    "        indexed_spots_catalog = []\n",
    "        indexed_hkls_catalog = []\n",
    "        updated_rotations = []\n",
    "        updated_rssd = []\n",
    "        mis_mag_list = []\n",
    "        for min_rot in sorted_min_rot_list:\n",
    "            \n",
    "            # Forces pair to be included\n",
    "            indexed_spots = list(pair)\n",
    "            indexed_spots = []\n",
    "            indexed_spots, indexed_hkls = _index_spots(\n",
    "                                            rem_spot_qs,\n",
    "                                            min_rot,\n",
    "                                            all_qs,\n",
    "                                            all_hkls,\n",
    "                                            indexed_spots=indexed_spots)\n",
    "\n",
    "                \n",
    "            indexed_spots_catalog.append(indexed_spots)\n",
    "            indexed_hkls_catalog.append(indexed_hkls)\n",
    "\n",
    "            rot, rssd = Rotation.align_vectors(phase.Q(indexed_hkls), rem_spot_qs[indexed_spots])\n",
    "            updated_rotations.append(rot.as_matrix())\n",
    "            updated_rssd.append(rssd)\n",
    "            misori = min_rot @ rot.as_matrix().T\n",
    "            mis_mag_list.append(np.degrees(np.arccos(0.5 * (np.trace(misori) - 1))))\n",
    "\n",
    "        # Find indexing of most spots and recalculate rotation\n",
    "        #best_indexed = np.argmax([len(l) for l in indexed_spots_catalog])\n",
    "        best_indexed = np.argmin(updated_rssd)\n",
    "\n",
    "        # Only one iteration of updates for now...\n",
    "        # Check the updated rotations\n",
    "        new_indexed_spots_catalog = []\n",
    "        new_indexed_hkls_catalog = []\n",
    "        new_updated_rotations = []\n",
    "        new_updated_rssd = []\n",
    "        new_mis_mag_list = []\n",
    "        for ind in range(len(indexed_spots_catalog)):\n",
    "\n",
    "            # Forces pair to be included\n",
    "            indexed_spots = list(pair)\n",
    "            indexed_spots = []\n",
    "            indexed_spots, indexed_hkls = _index_spots(\n",
    "                                            rem_spot_qs,\n",
    "                                            updated_rotations[ind],\n",
    "                                            all_qs,\n",
    "                                            all_hkls,\n",
    "                                            indexed_spots=indexed_spots)\n",
    "            \n",
    "            new_indexed_spots_catalog.append(indexed_spots)\n",
    "            new_indexed_hkls_catalog.append(indexed_hkls)\n",
    "\n",
    "            rot, rssd = Rotation.align_vectors(phase.Q(indexed_hkls), spot_qs[indexed_spots])\n",
    "            new_updated_rotations.append(rot.as_matrix())\n",
    "            new_updated_rssd.append(rssd)\n",
    "            new_misori = updated_rotations[ind] @ rot.as_matrix().T\n",
    "            new_mis_mag_list.append(np.degrees(np.arccos(0.5 * (np.trace(new_misori) - 1))))\n",
    "        \n",
    "        new_best_indexed = np.argmin(new_updated_rssd)\n",
    "        grain_list.append((np.array(remaining_spots)[new_indexed_spots_catalog[new_best_indexed]],\n",
    "                           new_indexed_hkls_catalog[new_best_indexed],\n",
    "                           new_updated_rotations[new_best_indexed]))\n",
    "        \n",
    "        for spot in np.array(remaining_spots)[new_indexed_spots_catalog[new_best_indexed]]:\n",
    "            remaining_spots.remove(spot)\n",
    "\n",
    "        if pair == pairs_indices[-1]:\n",
    "            grain_list.append((remaining_spots, [], []))\n",
    "            remaining_spots = []\n",
    "        else:\n",
    "            break"
   ]
  },
  {
   "cell_type": "code",
   "execution_count": 432,
   "metadata": {},
   "outputs": [
    {
     "data": {
      "text/plain": [
       "[(array([ 1,  2,  3, 31, 32,  9, 27, 11, 14, 13, 28, 18, 22, 33]),\n",
       "  [(1, 1, 4),\n",
       "   (2, 0, 7),\n",
       "   (1, 0, 6),\n",
       "   (2, 1, 7),\n",
       "   (3, 0, 9),\n",
       "   (1, -1, 4),\n",
       "   (1, 1, 5),\n",
       "   (2, -1, 7),\n",
       "   (2, 0, 8),\n",
       "   (3, 1, 9),\n",
       "   (3, 1, 8),\n",
       "   (4, 1, 10),\n",
       "   (4, 0, 10),\n",
       "   (4, 0, 11)],\n",
       "  array([[-0.04727782, -0.00920148, -0.9988394 ],\n",
       "         [-0.04084685, -0.99910335,  0.01113731],\n",
       "         [-0.99804626,  0.04132599,  0.04685957]])),\n",
       " (array([ 0,  5,  6,  7, 19, 21, 35, 26, 29]),\n",
       "  [(0, -1, -1),\n",
       "   (-2, -1, 5),\n",
       "   (-2, -1, 6),\n",
       "   (0, -1, 7),\n",
       "   (-2, -2, 8),\n",
       "   (-3, -1, 2),\n",
       "   (0, -2, 10),\n",
       "   (-3, -2, 7),\n",
       "   (-2, -2, 7)],\n",
       "  array([[ 0.09399936,  0.42351898,  0.90099711],\n",
       "         [ 0.76170021,  0.55216171, -0.33901362],\n",
       "         [-0.6410748 ,  0.71815676, -0.27069165]])),\n",
       " (array([ 4, 23, 10, 12, 30, 17]),\n",
       "  [(6, 0, 1), (9, 0, 2), (0, -1, -1), (8, 0, 2), (5, 0, -1), (8, 0, -1)],\n",
       "  array([[-0.95322403,  0.0675869 , -0.29461154],\n",
       "         [ 0.2960609 ,  0.01230855, -0.95508976],\n",
       "         [-0.06092531, -0.99763746, -0.03174264]])),\n",
       " (array([ 8, 15, 25]),\n",
       "  [(0, -1, -1), (4, 0, 3), (11, 0, -2)],\n",
       "  array([[-0.95381272,  0.01550791, -0.30000134],\n",
       "         [ 0.22126851,  0.71172265, -0.66670167],\n",
       "         [ 0.20317859, -0.70228938, -0.68228153]])),\n",
       " (array([16, 20, 24]),\n",
       "  [(8, 1, 2), (4, 1, 1), (9, 1, 2)],\n",
       "  array([[-0.92366724,  0.12768453, -0.36129697],\n",
       "         [-0.08556393, -0.98777073, -0.13033723],\n",
       "         [-0.37352062, -0.08947424,  0.92329665]])),\n",
       " ([34], [], [])]"
      ]
     },
     "execution_count": 432,
     "metadata": {},
     "output_type": "execute_result"
    }
   ],
   "source": [
    "grain_list"
   ]
  },
  {
   "cell_type": "code",
   "execution_count": 238,
   "metadata": {},
   "outputs": [],
   "source": [
    "from scipy.spatial.transform import Rotation\n",
    "from itertools import product\n",
    "\n",
    "def explicit_indexing(spot_qs, # Must already be sorted...\n",
    "                      phase,\n",
    "                      near_thresh=0.05,\n",
    "                      required_spots=2,\n",
    "                      check_equivalent=True):\n",
    "\n",
    "    # Sort spots from largest to smallest intensity\n",
    "    #zipped = list(zip(spot_ints, spot_qs))\n",
    "    #zipped.sort(reverse=True)\n",
    "    #spot_ints, spot_qs = zip(*zipped)\n",
    "\n",
    "    # find potential matces within a threshold\n",
    "    phase_q_vals = phase.reflections['q']\n",
    "    spot_q_vals = np.linalg.norm(spot_qs, axis=1)\n",
    "    diff_arr = np.abs(spot_q_vals[:, np.newaxis] - phase_q_vals[np.newaxis, :])\n",
    "    pot_match = diff_arr < near_thresh\n",
    "\n",
    "    # Distinguish by phase kind of\n",
    "    phase_mask = np.any(pot_match, axis=1)\n",
    "    pot_match = pot_match[phase_mask]\n",
    "    spot_qs = np.array(spot_qs)[phase_mask]\n",
    "    #spot_int = spot_ints[phase_mask]\n",
    "\n",
    "    fit_q_meas = spot_qs[:required_spots]\n",
    "    fit_q_calc = []\n",
    "    for i, pot_match_i in enumerate(pot_match[:required_spots]):\n",
    "        match_ind = np.where(pot_match_i)[0]\n",
    "        hkls = [phase.reflections['hkl'][ind] for ind in match_ind]\n",
    "\n",
    "        # Add equivalent potential indices. Only first index restricted\n",
    "        # Not sure how much this actually helps...\n",
    "        if check_equivalent and i > 0:\n",
    "            ext_hkls = []\n",
    "            [ext_hkls.extend(list(phase.lattice.equivalent_hkls(hkl))) for hkl in hkls];\n",
    "            hkls = ext_hkls\n",
    "\n",
    "        q_calc = phase.Q(hkls)\n",
    "        fit_q_calc.append(q_calc)\n",
    "\n",
    "    if len(fit_q_calc) > 0:\n",
    "        combos = list(product(*fit_q_calc))\n",
    "\n",
    "        rot_list, rssd_list = [], []\n",
    "        for q_calc in combos:\n",
    "            rot, rssd = Rotation.align_vectors(q_calc, fit_q_meas)\n",
    "            rot_list.append(rot.as_matrix())\n",
    "            rssd_list.append(rssd)\n",
    "\n",
    "        min_ind = np.argmin(rssd_list)\n",
    "        min_rssd = rssd_list[min_ind]\n",
    "        best_orientation = rot_list[min_ind]\n",
    "\n",
    "    else:\n",
    "        min_rssd = np.nan\n",
    "        best_orientation = np.nan\n",
    "    #print(f'Best orientation found at {min_ind} with rssd of {rssd_list[min_ind]:.3f}')\n",
    "\n",
    "    # This was worth it!\n",
    "    #for combo in combos[min_ind][1:]:\n",
    "    #    if phase.HKL(combo) not in phase.reflections['hkl']:\n",
    "    #        print('Equivalent hkl used successfully. The extra computation was worth it!')\n",
    "    #        break\n",
    "\n",
    "    return best_orientation, min_rssd"
   ]
  },
  {
   "cell_type": "code",
   "execution_count": 244,
   "metadata": {},
   "outputs": [
    {
     "name": "stderr",
     "output_type": "stream",
     "text": [
      " 15%|█▌        | 524/3381 [00:02<00:21, 135.33it/s]C:\\Users\\emusterma\\AppData\\Local\\Temp\\ipykernel_2480\\2468468959.py:48: UserWarning: Optimal rotation is not uniquely or poorly defined for the given sets of vectors.\n",
      "  rot, rssd = Rotation.align_vectors(q_calc, fit_q_meas)\n",
      " 28%|██▊       | 960/3381 [00:05<00:16, 147.95it/s]C:\\Users\\emusterma\\AppData\\Local\\Temp\\ipykernel_2480\\2468468959.py:48: UserWarning: Optimal rotation is not uniquely or poorly defined for the given sets of vectors.\n",
      "  rot, rssd = Rotation.align_vectors(q_calc, fit_q_meas)\n",
      " 33%|███▎      | 1121/3381 [00:07<00:16, 137.04it/s]C:\\Users\\emusterma\\AppData\\Local\\Temp\\ipykernel_2480\\2468468959.py:48: UserWarning: Optimal rotation is not uniquely or poorly defined for the given sets of vectors.\n",
      "  rot, rssd = Rotation.align_vectors(q_calc, fit_q_meas)\n",
      "C:\\Users\\emusterma\\AppData\\Local\\Temp\\ipykernel_2480\\2468468959.py:48: UserWarning: Optimal rotation is not uniquely or poorly defined for the given sets of vectors.\n",
      "  rot, rssd = Rotation.align_vectors(q_calc, fit_q_meas)\n",
      "C:\\Users\\emusterma\\AppData\\Local\\Temp\\ipykernel_2480\\2468468959.py:48: UserWarning: Optimal rotation is not uniquely or poorly defined for the given sets of vectors.\n",
      "  rot, rssd = Rotation.align_vectors(q_calc, fit_q_meas)\n",
      " 36%|███▌      | 1222/3381 [00:09<00:29, 73.79it/s] C:\\Users\\emusterma\\AppData\\Local\\Temp\\ipykernel_2480\\2468468959.py:48: UserWarning: Optimal rotation is not uniquely or poorly defined for the given sets of vectors.\n",
      "  rot, rssd = Rotation.align_vectors(q_calc, fit_q_meas)\n",
      " 39%|███▊      | 1302/3381 [00:10<00:16, 126.03it/s]C:\\Users\\emusterma\\AppData\\Local\\Temp\\ipykernel_2480\\2468468959.py:48: UserWarning: Optimal rotation is not uniquely or poorly defined for the given sets of vectors.\n",
      "  rot, rssd = Rotation.align_vectors(q_calc, fit_q_meas)\n",
      "C:\\Users\\emusterma\\AppData\\Local\\Temp\\ipykernel_2480\\2468468959.py:48: UserWarning: Optimal rotation is not uniquely or poorly defined for the given sets of vectors.\n",
      "  rot, rssd = Rotation.align_vectors(q_calc, fit_q_meas)\n",
      " 40%|████      | 1363/3381 [00:11<00:35, 57.60it/s] C:\\Users\\emusterma\\AppData\\Local\\Temp\\ipykernel_2480\\2468468959.py:48: UserWarning: Optimal rotation is not uniquely or poorly defined for the given sets of vectors.\n",
      "  rot, rssd = Rotation.align_vectors(q_calc, fit_q_meas)\n",
      " 43%|████▎     | 1463/3381 [00:12<00:16, 117.15it/s]C:\\Users\\emusterma\\AppData\\Local\\Temp\\ipykernel_2480\\2468468959.py:48: UserWarning: Optimal rotation is not uniquely or poorly defined for the given sets of vectors.\n",
      "  rot, rssd = Rotation.align_vectors(q_calc, fit_q_meas)\n",
      "C:\\Users\\emusterma\\AppData\\Local\\Temp\\ipykernel_2480\\2468468959.py:48: UserWarning: Optimal rotation is not uniquely or poorly defined for the given sets of vectors.\n",
      "  rot, rssd = Rotation.align_vectors(q_calc, fit_q_meas)\n",
      "C:\\Users\\emusterma\\AppData\\Local\\Temp\\ipykernel_2480\\2468468959.py:48: UserWarning: Optimal rotation is not uniquely or poorly defined for the given sets of vectors.\n",
      "  rot, rssd = Rotation.align_vectors(q_calc, fit_q_meas)\n",
      "C:\\Users\\emusterma\\AppData\\Local\\Temp\\ipykernel_2480\\2468468959.py:48: UserWarning: Optimal rotation is not uniquely or poorly defined for the given sets of vectors.\n",
      "  rot, rssd = Rotation.align_vectors(q_calc, fit_q_meas)\n",
      " 48%|████▊     | 1622/3381 [00:14<00:14, 117.45it/s]C:\\Users\\emusterma\\AppData\\Local\\Temp\\ipykernel_2480\\2468468959.py:48: UserWarning: Optimal rotation is not uniquely or poorly defined for the given sets of vectors.\n",
      "  rot, rssd = Rotation.align_vectors(q_calc, fit_q_meas)\n",
      " 48%|████▊     | 1636/3381 [00:15<00:29, 58.88it/s] C:\\Users\\emusterma\\AppData\\Local\\Temp\\ipykernel_2480\\2468468959.py:48: UserWarning: Optimal rotation is not uniquely or poorly defined for the given sets of vectors.\n",
      "  rot, rssd = Rotation.align_vectors(q_calc, fit_q_meas)\n",
      "C:\\Users\\emusterma\\AppData\\Local\\Temp\\ipykernel_2480\\2468468959.py:48: UserWarning: Optimal rotation is not uniquely or poorly defined for the given sets of vectors.\n",
      "  rot, rssd = Rotation.align_vectors(q_calc, fit_q_meas)\n",
      " 54%|█████▍    | 1826/3381 [00:17<00:18, 83.82it/s] C:\\Users\\emusterma\\AppData\\Local\\Temp\\ipykernel_2480\\2468468959.py:48: UserWarning: Optimal rotation is not uniquely or poorly defined for the given sets of vectors.\n",
      "  rot, rssd = Rotation.align_vectors(q_calc, fit_q_meas)\n",
      "C:\\Users\\emusterma\\AppData\\Local\\Temp\\ipykernel_2480\\2468468959.py:48: UserWarning: Optimal rotation is not uniquely or poorly defined for the given sets of vectors.\n",
      "  rot, rssd = Rotation.align_vectors(q_calc, fit_q_meas)\n",
      "C:\\Users\\emusterma\\AppData\\Local\\Temp\\ipykernel_2480\\2468468959.py:48: UserWarning: Optimal rotation is not uniquely or poorly defined for the given sets of vectors.\n",
      "  rot, rssd = Rotation.align_vectors(q_calc, fit_q_meas)\n",
      "C:\\Users\\emusterma\\AppData\\Local\\Temp\\ipykernel_2480\\2468468959.py:48: UserWarning: Optimal rotation is not uniquely or poorly defined for the given sets of vectors.\n",
      "  rot, rssd = Rotation.align_vectors(q_calc, fit_q_meas)\n",
      "C:\\Users\\emusterma\\AppData\\Local\\Temp\\ipykernel_2480\\2468468959.py:48: UserWarning: Optimal rotation is not uniquely or poorly defined for the given sets of vectors.\n",
      "  rot, rssd = Rotation.align_vectors(q_calc, fit_q_meas)\n",
      " 55%|█████▌    | 1863/3381 [00:17<00:18, 82.62it/s]C:\\Users\\emusterma\\AppData\\Local\\Temp\\ipykernel_2480\\2468468959.py:48: UserWarning: Optimal rotation is not uniquely or poorly defined for the given sets of vectors.\n",
      "  rot, rssd = Rotation.align_vectors(q_calc, fit_q_meas)\n",
      " 58%|█████▊    | 1966/3381 [00:19<00:23, 60.93it/s] C:\\Users\\emusterma\\AppData\\Local\\Temp\\ipykernel_2480\\2468468959.py:48: UserWarning: Optimal rotation is not uniquely or poorly defined for the given sets of vectors.\n",
      "  rot, rssd = Rotation.align_vectors(q_calc, fit_q_meas)\n",
      "C:\\Users\\emusterma\\AppData\\Local\\Temp\\ipykernel_2480\\2468468959.py:48: UserWarning: Optimal rotation is not uniquely or poorly defined for the given sets of vectors.\n",
      "  rot, rssd = Rotation.align_vectors(q_calc, fit_q_meas)\n",
      "C:\\Users\\emusterma\\AppData\\Local\\Temp\\ipykernel_2480\\2468468959.py:48: UserWarning: Optimal rotation is not uniquely or poorly defined for the given sets of vectors.\n",
      "  rot, rssd = Rotation.align_vectors(q_calc, fit_q_meas)\n",
      "C:\\Users\\emusterma\\AppData\\Local\\Temp\\ipykernel_2480\\2468468959.py:48: UserWarning: Optimal rotation is not uniquely or poorly defined for the given sets of vectors.\n",
      "  rot, rssd = Rotation.align_vectors(q_calc, fit_q_meas)\n",
      "C:\\Users\\emusterma\\AppData\\Local\\Temp\\ipykernel_2480\\2468468959.py:48: UserWarning: Optimal rotation is not uniquely or poorly defined for the given sets of vectors.\n",
      "  rot, rssd = Rotation.align_vectors(q_calc, fit_q_meas)\n",
      " 66%|██████▌   | 2223/3381 [00:21<00:11, 98.91it/s] C:\\Users\\emusterma\\AppData\\Local\\Temp\\ipykernel_2480\\2468468959.py:48: UserWarning: Optimal rotation is not uniquely or poorly defined for the given sets of vectors.\n",
      "  rot, rssd = Rotation.align_vectors(q_calc, fit_q_meas)\n",
      " 70%|███████   | 2368/3381 [00:23<00:09, 105.64it/s]C:\\Users\\emusterma\\AppData\\Local\\Temp\\ipykernel_2480\\2468468959.py:48: UserWarning: Optimal rotation is not uniquely or poorly defined for the given sets of vectors.\n",
      "  rot, rssd = Rotation.align_vectors(q_calc, fit_q_meas)\n",
      " 92%|█████████▏| 3098/3381 [00:28<00:01, 197.08it/s]C:\\Users\\emusterma\\AppData\\Local\\Temp\\ipykernel_2480\\2468468959.py:48: UserWarning: Optimal rotation is not uniquely or poorly defined for the given sets of vectors.\n",
      "  rot, rssd = Rotation.align_vectors(q_calc, fit_q_meas)\n",
      "C:\\Users\\emusterma\\AppData\\Local\\Temp\\ipykernel_2480\\2468468959.py:48: UserWarning: Optimal rotation is not uniquely or poorly defined for the given sets of vectors.\n",
      "  rot, rssd = Rotation.align_vectors(q_calc, fit_q_meas)\n",
      " 95%|█████████▌| 3213/3381 [00:28<00:00, 299.48it/s]C:\\Users\\emusterma\\AppData\\Local\\Temp\\ipykernel_2480\\2468468959.py:48: UserWarning: Optimal rotation is not uniquely or poorly defined for the given sets of vectors.\n",
      "  rot, rssd = Rotation.align_vectors(q_calc, fit_q_meas)\n",
      " 97%|█████████▋| 3278/3381 [00:28<00:00, 220.35it/s]C:\\Users\\emusterma\\AppData\\Local\\Temp\\ipykernel_2480\\2468468959.py:48: UserWarning: Optimal rotation is not uniquely or poorly defined for the given sets of vectors.\n",
      "  rot, rssd = Rotation.align_vectors(q_calc, fit_q_meas)\n",
      "100%|██████████| 3381/3381 [00:29<00:00, 115.02it/s]\n"
     ]
    }
   ],
   "source": [
    "# Explicit indexing across full map\n",
    "\n",
    "from sklearn.metrics.pairwise import euclidean_distances\n",
    "from tqdm import tqdm\n",
    "from xrdmaptools.utilities.utilities import combine_nearby_spots\n",
    "from xrdmaptools.crystal.Phase import generate_reciprocal_lattice\n",
    "from itertools import product\n",
    "from scipy.spatial.transform import Rotation\n",
    "\n",
    "required_spots = 3\n",
    "phase = test.phases['stibnite']\n",
    "\n",
    "if phase.reflections is None:\n",
    "    phase.get_hkl_reflections(tth_range=(np.min(test.tth_arr), np.max(test.tth_arr)))\n",
    "\n",
    "all_hkls, all_qs, all_fs = generate_reciprocal_lattice(phase, tth_range=(np.min(test.tth_arr), np.max(test.tth_arr)))\n",
    "\n",
    "dist = euclidean_distances(all_qs)\n",
    "min_q = np.min(dist[dist > 0])\n",
    "\n",
    "euler_map = np.empty((*test.map.map_shape, 3))\n",
    "fit_map = np.empty(test.map.map_shape)\n",
    "\n",
    "for index in tqdm(range(test.map.num_images)):\n",
    "    indices = np.unravel_index(index, test.map.map_shape)\n",
    "    phi1, PHI, phi2 = np.nan, np.nan, np.nan\n",
    "\n",
    "    pixel_df = test.spots[(test.spots['map_x'] == indices[0])\n",
    "                        & (test.spots['map_y'] == indices[1])].copy()\n",
    "    pixel_df.dropna(inplace=True)\n",
    "    \n",
    "    # Conditional to avoid too few spots for theoretical indexing\n",
    "    if len(pixel_df) < required_spots:\n",
    "        euler_map[indices] = phi1, PHI, phi2\n",
    "        continue\n",
    "    \n",
    "    spot_qs = pixel_df[['qx', 'qy', 'qz']].values\n",
    "    spot_ints = pixel_df[['fit_integrated']].values\n",
    "    #spot_chis = pixel_df[['fit_chi0']].values\n",
    "\n",
    "    spot_qs, spot_ints = combine_nearby_spots(spot_qs, spot_ints, max_dist=0.1, max_neighbors=np.inf)\n",
    "\n",
    "    # Sort spots from largest to smallest intensity\n",
    "    zipped = list(zip(spot_ints, spot_qs))\n",
    "    zipped.sort(reverse=True)\n",
    "    spot_ints, spot_qs = zip(*zipped)\n",
    "    spot_ints = list(spot_ints)\n",
    "    spot_qs = list(spot_qs)\n",
    "\n",
    "    dist_too_small = True\n",
    "    while dist_too_small:\n",
    "        if len(spot_qs) < required_spots:\n",
    "            euler_map[indices] = phi1, PHI, phi2\n",
    "            dist_too_small = False\n",
    "            break\n",
    "        # Conditional to avoid single spot from one blob\n",
    "        dist = euclidean_distances(spot_qs)\n",
    "        \n",
    "        if dist[0, 1] < min_q:\n",
    "            del spot_qs[1], spot_ints[1]\n",
    "        else:\n",
    "            dist_too_small = False\n",
    "\n",
    "    if len(spot_qs) < required_spots:\n",
    "        euler_map[indices] = phi1, PHI, phi2\n",
    "        continue\n",
    "    \n",
    "    best_orientation, min_rssd = explicit_indexing(spot_qs,\n",
    "                                                   phase,\n",
    "                                                   near_thresh=0.05,\n",
    "                                                   required_spots=required_spots,\n",
    "                                                   check_equivalent=False)\n",
    "    \n",
    "    if not np.any(np.isnan(best_orientation)):\n",
    "        best_euler = Rotation.from_matrix(best_orientation).as_euler('zxz', degrees=True)\n",
    "        \n",
    "        euler_map[indices] = best_euler\n",
    "        fit_map[indices] = min_rssd\n",
    "    else:\n",
    "        euler_map[indices] = np.nan, np.nan, np.nan"
   ]
  },
  {
   "cell_type": "code",
   "execution_count": 245,
   "metadata": {},
   "outputs": [],
   "source": [
    "from xrdmaptools.crystal.orientation import g_func\n",
    "g = g_func(*euler_map.reshape(test.map.num_images, 3).T)"
   ]
  },
  {
   "cell_type": "code",
   "execution_count": 881,
   "metadata": {},
   "outputs": [],
   "source": [
    "g = orientation_map.reshape(-1, 3, 3)"
   ]
  },
  {
   "cell_type": "code",
   "execution_count": 246,
   "metadata": {},
   "outputs": [],
   "source": [
    "ipole = [0, 0, 1]\n",
    "\n",
    "colors, r, theta = [], [], []\n",
    "for i in range(len(g)):\n",
    "    \n",
    "    # Take only part of the orientation matrix\n",
    "    V = np.dot(g[i], ipole) # order is g, then ipole\n",
    "\n",
    "    # Determine pixel color according to unit triangle\n",
    "    R, G, B = 0, 0, 0\n",
    "    base = 30 / 255 #all pixels are a bit brighter\n",
    "    R=np.abs(V[2]) + base # referenced to crystallographic axes, but should be able to reference any axis\n",
    "    G=np.abs(V[0]) + base\n",
    "    B=np.abs(V[1]) + base\n",
    "\n",
    "    # Normalize and brighten colors\n",
    "    max_c = np.max([R,G,B])\n",
    "    R = R / max_c\n",
    "    G = G / max_c\n",
    "    B = B / max_c\n",
    "    \n",
    "    # Setting pixel transparency if called\n",
    "    A=1\n",
    "    colors.append([R, G, B, A])\n",
    "\n",
    "colors = np.asarray(colors)\n",
    "colors = colors.reshape((*test.map.map_shape, 4))"
   ]
  },
  {
   "cell_type": "code",
   "execution_count": 247,
   "metadata": {},
   "outputs": [],
   "source": [
    "fig, ax = plt.subplots(1, 1, figsize=(3, 3), dpi=200)\n",
    "\n",
    "ax.imshow(colors)\n",
    "ax.set_title(str(ipole))\n",
    "\n",
    "plt.show()"
   ]
  },
  {
   "cell_type": "code",
   "execution_count": 387,
   "metadata": {},
   "outputs": [],
   "source": [
    "test.plot_interactive_map(display_map=colors, img_vmin=0, img_vmax=0.1)"
   ]
  },
  {
   "cell_type": "code",
   "execution_count": null,
   "metadata": {},
   "outputs": [],
   "source": []
  },
  {
   "cell_type": "code",
   "execution_count": null,
   "metadata": {},
   "outputs": [],
   "source": []
  },
  {
   "cell_type": "code",
   "execution_count": 47,
   "metadata": {},
   "outputs": [
    {
     "name": "stderr",
     "output_type": "stream",
     "text": [
      "  0%|          | 0/3321 [00:00<?, ?it/s]"
     ]
    },
    {
     "name": "stderr",
     "output_type": "stream",
     "text": [
      "100%|██████████| 3321/3321 [00:02<00:00, 1577.30it/s]\n"
     ]
    }
   ],
   "source": [
    "# Phase matching/mapping\n",
    "\n",
    "#from sklearn.metrics.pairwise import euclidean_distances\n",
    "from tqdm import tqdm\n",
    "\n",
    "near_thresh = 0.1\n",
    "sum_key = 'guess_int'\n",
    "method = 'minimize_q_error'\n",
    "#method = 'maximize_spots'\n",
    "\n",
    "phase_keys = list(test.phases.keys())\n",
    "phase_list = list(test.phases.values())\n",
    "\n",
    "[phase.get_hkl_reflections(tth_range=(np.min(test.tth_arr), np.max(test.tth_arr)),\n",
    "                               ignore_less=1)\n",
    "        for phase in phase_list];\n",
    "\n",
    "plot_map = np.zeros(test.map.map_shape)\n",
    "plot_map[:] = 0\n",
    "\n",
    "plot_dict = {}\n",
    "for phase in phase_list:\n",
    "    plot_dict[phase.name] = plot_map.copy()\n",
    "plot_dict['unmatched'] = plot_map.copy()\n",
    "\n",
    "for index in tqdm(range(test.map.num_images)):\n",
    "    indices = np.unravel_index(index, test.map.map_shape)\n",
    "\n",
    "    image = test.map.images[indices]\n",
    "    pixel_df = test.pixel_spots(indices)\n",
    "    #pixel_df = pixel_df.copy().dropna()\n",
    "    num_spots = len(pixel_df)\n",
    "    \n",
    "    if num_spots > 1:\n",
    "        spot_q_vals = np.linalg.norm(pixel_df[['qx', 'qy', 'qz']].values, axis=1)\n",
    "\n",
    "        phase_diffs = []\n",
    "        pot_matches = []\n",
    "        phase_matches = []\n",
    "        spot_matches = []\n",
    "        for phase in phase_list:\n",
    "            phase_q_vals = phase.reflections['q']\n",
    "            #dist_arr = euclidean_distances(phase_q_vals.reshape(-1, 1), spot_q_vals.reshape(-1, 1))\n",
    "            diff_arr = np.abs(phase_q_vals[:, np.newaxis] - spot_q_vals[np.newaxis, :])\n",
    "            phase_diffs.append(diff_arr)\n",
    "            pot_match = diff_arr < near_thresh\n",
    "            pot_matches.append(pot_match)\n",
    "\n",
    "            # Fraction of phase reflections explained by found spots\n",
    "            #phase_matches.append(np.sum(pot_match / len(test.phases)))\n",
    "            phase_matches.append(np.sum(np.any(pot_matches[-1], axis=1)) / len(phase_q_vals))\n",
    "\n",
    "            # Number of spots explained by a given phase\n",
    "            spot_matches.append(np.sum(np.any(pot_matches[-1], axis=0)))\n",
    "            #raise\n",
    "\n",
    "        # Track which spots have been matched\n",
    "        rem_spot_mask = [True,] * num_spots\n",
    "\n",
    "        if method in ['maximize_phase']:\n",
    "            # Maximize phase matches\n",
    "            # Should work better for polycrystalline patterns\n",
    "            while (np.any(rem_spot_mask)) and (np.sum(phase_matches) > 0):\n",
    "                # Check for more than 1 fully represented array\n",
    "                if np.sum(np.array(phase_matches) == 1) > 1:\n",
    "                    stacked_diffs = np.stack([np.min(diffs, axis=0) for diffs in phase_diffs])\n",
    "                    spot_mask = np.min(stacked_diffs, axis=0) < near_thresh\n",
    "                    phase_ind = np.argmin(stacked_diffs, axis=0)\n",
    "                    phase_ind[~spot_mask] = -1\n",
    "                    phase_mask = (np.array(phase_matches) == 1)\n",
    "                    phase_count = [0,] * len(phase_list)\n",
    "                    for ind in phase_ind:\n",
    "                        if phase_mask[ind]:\n",
    "                            phase_count[ind] += 1\n",
    "                    max_ind = np.argmax(phase_count)\n",
    "                else:\n",
    "                    max_ind = np.argmax(phase_matches)\n",
    "\n",
    "                # Index matching spots\n",
    "                spot_mask = np.any(pot_matches[max_ind], axis=0)\n",
    "                # Remove indexed spots from future use\n",
    "                spot_mask *= rem_spot_mask\n",
    "                rem_spot_mask *= ~spot_mask\n",
    "\n",
    "                # Finally, find the value and remove reflections\n",
    "                val = np.nansum(pixel_df[sum_key].values[spot_mask])\n",
    "                phase_matches[max_ind] = 0\n",
    "\n",
    "                # Fill value\n",
    "                plot_dict[phase_list[max_ind].name][indices] = val\n",
    "\n",
    "        elif method in ['maximize_spots']:\n",
    "            # Maxmize spot_matches\n",
    "            # Not sure when this one should work better\n",
    "            while (np.any(rem_spot_mask)) and (np.sum(spot_matches) > 0):\n",
    "                max_ind = np.argmax(spot_matches)\n",
    "                # Index matching spots\n",
    "                spot_mask = np.any(pot_matches[max_ind], axis=0)\n",
    "                # Remove indexed spots from future use\n",
    "                spot_mask *= rem_spot_mask\n",
    "                rem_spot_mask *= ~spot_mask\n",
    "\n",
    "                # Finally, find the value\n",
    "                val = np.nansum(pixel_df[sum_key].values[spot_mask])\n",
    "                spot_matches[max_ind] = 0\n",
    "\n",
    "                # Fill value\n",
    "                plot_dict[phase_list[max_ind].name][indices] = val\n",
    "\n",
    "        elif method in ['minimize_q_error']:\n",
    "        # Minimize Q difference\n",
    "        # Should work better for perfect crystals and detector calibration...\n",
    "            stacked_diffs = np.stack([np.min(diffs, axis=0) for diffs in phase_diffs])\n",
    "            spot_mask = np.min(stacked_diffs, axis=0) < near_thresh\n",
    "            phase_ind = np.argmin(stacked_diffs, axis=0)\n",
    "            phase_ind[~spot_mask] = -1\n",
    "            for i in range(len(phase_list)):\n",
    "                val = np.nansum(pixel_df[sum_key].values[phase_ind == i])\n",
    "                plot_dict[phase_list[i].name][indices] = val\n",
    "            rem_spot_mask = ~spot_mask\n",
    "\n",
    "        # Collect unmatched spots\n",
    "        if np.any(rem_spot_mask):\n",
    "            val = np.nansum(pixel_df[sum_key].values[rem_spot_mask])\n",
    "            plot_dict['unmatched'][indices] = val\n"
   ]
  },
  {
   "cell_type": "code",
   "execution_count": 48,
   "metadata": {},
   "outputs": [],
   "source": [
    "fig, axes = plt.subplots(2, 2, figsize=(10, 5), dpi=200)\n",
    "ax = axes.ravel()\n",
    "\n",
    "for i, key in enumerate(plot_dict.keys()):\n",
    "    if key == 'unmatched':\n",
    "        pass\n",
    "        continue\n",
    "\n",
    "    im = ax[i].imshow(plot_dict[key], extent=test.map_extent())\n",
    "    fig.colorbar(im, ax=ax[i], shrink=0.4)\n",
    "\n",
    "    ax[i].set_title(key)\n",
    "\n",
    "plt.tight_layout()"
   ]
  },
  {
   "cell_type": "code",
   "execution_count": 16,
   "metadata": {},
   "outputs": [],
   "source": [
    "from orix.crystal_map import CrystalMap\n",
    "from orix.quaternion import Rotation as orix_Rotation\n",
    "from orix.quaternion import Orientation as orix_Orientation\n",
    "from orix.crystal_map.phase_list import Phase as orix_Phase\n",
    "from orix.crystal_map.phase_list import PhaseList"
   ]
  },
  {
   "cell_type": "code",
   "execution_count": 401,
   "metadata": {},
   "outputs": [],
   "source": [
    "orientation_map = np.empty((*test.map.map_shape, 3, 3))\n",
    "\n",
    "for index in range(test.map.num_images):\n",
    "    indices = np.unravel_index(index, test.map.map_shape)\n",
    "    \n",
    "    if np.any(np.isnan(euler_map[indices])):\n",
    "        orientation_map[indices] = np.nan\n",
    "    else:\n",
    "        orientation_map[indices] = Rotation.from_euler('zxz', euler_map[indices], degrees=True).as_matrix()"
   ]
  },
  {
   "cell_type": "code",
   "execution_count": 35,
   "metadata": {},
   "outputs": [],
   "source": [
    "o_r = orix_Rotation.from_matrix(orientation_map.reshape(-1, 3, 3))"
   ]
  },
  {
   "cell_type": "code",
   "execution_count": 36,
   "metadata": {},
   "outputs": [],
   "source": [
    "phase_id = []\n",
    "x_list = []\n",
    "y_list = []\n",
    "\n",
    "for index in range(test.map.num_images):\n",
    "    indices = np.unravel_index(index, test.map.map_shape)\n",
    "\n",
    "    if np.any(np.isnan(orientation_map[indices])):\n",
    "        phase_id.append(-1)\n",
    "    else:\n",
    "        phase_id.append(0)\n",
    "\n",
    "    x_list.append(test.pos_dict['map_x'][indices])\n",
    "    y_list.append(test.pos_dict['map_y'][indices])"
   ]
  },
  {
   "cell_type": "code",
   "execution_count": 62,
   "metadata": {},
   "outputs": [],
   "source": [
    "cif_dir = '''C:\\\\Users\\\\emusterma\\\\OneDrive - Brookhaven National Laboratory\\\\Documents\\\\Postdoc\\\\Literature\\\\CIF\\\\'''\n",
    "#test.clear_phases()\n",
    "#test.load_phase('AMCSD\\\\Stibnite_0008636.cif', filedir=cif_dir, phase_name=\"stibnite\")\n",
    "##test.load_phase('Unknown\\\\LiNbO3.cif', filedir=cif_dir, phase_name=\"LiNbO3 new\")\n",
    "#test.load_phase('Barker\\\\1521772COD.cif', filedir=cif_dir, phase_name=\"liNbO3 old\")\n",
    "#test.load_phase('Barker\\\\LiNbO3.cif', filedir=cif_dir, phase_name=\"LiNbO3 148\")\n",
    "\n",
    "orix_phase = orix_Phase.from_cif(f'{cif_dir}AMCSD\\\\Stibnite_0008636.cif')\n",
    "orix_phase.name = 'stibnite'\n",
    "orix_phase = orix_Phase.from_cif(f'{cif_dir}Unknown\\\\LiNbO3.cif')\n",
    "#orix_phase = orix_Phase.from_cif(f'{cif_dir}Barker\\\\1521772COD.cif')\n",
    "#orix_phase = orix_Phase.from_cif(f'{cif_dir}Barker\\\\LiNbO3.cif')\n",
    "orix_phase.name = 'linbo3'"
   ]
  },
  {
   "cell_type": "code",
   "execution_count": 63,
   "metadata": {},
   "outputs": [],
   "source": [
    "x = np.linspace(*test.map_extent()[:2], test.map.map_shape[1])\n",
    "y = np.linspace(*test.map_extent()[2:], test.map.map_shape[0])\n",
    "\n",
    "#x = range(test.map.map_shape[1])\n",
    "#y = range(test.map.map_shape[0])\n",
    "\n",
    "xx, yy = np.meshgrid(x, y)\n",
    "xx -= np.min(xx)\n",
    "yy -= np.min(yy)\n",
    "\n",
    "crystalmap = CrystalMap(rotations=o_r, phase_id=np.array(phase_id), x=xx.ravel(), y=yy.ravel(), phase_list=PhaseList(orix_phase))"
   ]
  },
  {
   "cell_type": "code",
   "execution_count": 64,
   "metadata": {},
   "outputs": [],
   "source": [
    "from orix import plot\n",
    "from orix.vector import Vector3d\n",
    "\n",
    "pg_laue = crystalmap.phases[0].point_group.laue\n",
    "o_sb = crystalmap['linbo3'].orientations\n",
    "\n",
    "ipf_key = plot.IPFColorKeyTSL(pg_laue, direction=Vector3d([0, 0, 1]))\n",
    "rgb_au = ipf_key.orientation2color(o_sb)"
   ]
  },
  {
   "cell_type": "code",
   "execution_count": 65,
   "metadata": {},
   "outputs": [
    {
     "data": {
      "text/plain": [
       "Symmetry (12,) -3m\n",
       "[[ 1.     0.     0.     0.   ]\n",
       " [ 0.5    0.     0.     0.866]\n",
       " [-0.5    0.     0.     0.866]\n",
       " [ 0.     1.     0.     0.   ]\n",
       " [ 0.     0.5    0.866  0.   ]\n",
       " [ 0.    -0.5    0.866  0.   ]\n",
       " [ 1.     0.     0.     0.   ]\n",
       " [ 0.5    0.     0.     0.866]\n",
       " [-0.5    0.     0.     0.866]\n",
       " [ 0.     1.     0.     0.   ]\n",
       " [ 0.     0.5    0.866  0.   ]\n",
       " [ 0.    -0.5    0.866  0.   ]]"
      ]
     },
     "execution_count": 65,
     "metadata": {},
     "output_type": "execute_result"
    }
   ],
   "source": [
    "pg_laue"
   ]
  },
  {
   "cell_type": "code",
   "execution_count": 52,
   "metadata": {},
   "outputs": [],
   "source": [
    "crystalmap['linbo3'].plot(rgb_au)"
   ]
  },
  {
   "cell_type": "code",
   "execution_count": 201,
   "metadata": {},
   "outputs": [],
   "source": [
    "I = np.eye(3)\n",
    "\n",
    "ref_ori = orix_Orientation.from_matrix(I)\n",
    "x_ori = crystalmap[40, 30].orientations"
   ]
  },
  {
   "cell_type": "code",
   "execution_count": 215,
   "metadata": {},
   "outputs": [
    {
     "data": {
      "text/plain": [
       "array([[79.56828524]])"
      ]
     },
     "execution_count": 215,
     "metadata": {},
     "output_type": "execute_result"
    }
   ],
   "source": [
    "ref_ori.angle_with_outer(x_ori, degrees=True)"
   ]
  },
  {
   "cell_type": "code",
   "execution_count": 240,
   "metadata": {},
   "outputs": [
    {
     "data": {
      "text/plain": [
       "Orientation (1,) mmm\n",
       "[[0.103  0.7685 0.6087 0.1686]]"
      ]
     },
     "execution_count": 240,
     "metadata": {},
     "output_type": "execute_result"
    }
   ],
   "source": [
    "x_ori"
   ]
  },
  {
   "cell_type": "code",
   "execution_count": 241,
   "metadata": {},
   "outputs": [
    {
     "name": "stderr",
     "output_type": "stream",
     "text": [
      " 25%|██▌       | 2/8 [00:00<00:00, 76.01it/s]\n"
     ]
    },
    {
     "data": {
      "text/plain": [
       "Orientation (1,) mmm\n",
       "[[-0.7685  0.103   0.1686 -0.6087]]"
      ]
     },
     "execution_count": 241,
     "metadata": {},
     "output_type": "execute_result"
    }
   ],
   "source": [
    "x_ori.map_into_symmetry_reduced_zone(verbose=True)"
   ]
  },
  {
   "cell_type": "code",
   "execution_count": 299,
   "metadata": {},
   "outputs": [],
   "source": [
    "from orix.quaternion import OrientationRegion\n",
    "\n",
    "Gl, Gr = x_ori._symmetry\n",
    "symmetry_pairs = list(product(Gl, Gr))\n",
    "\n",
    "all_ori = []\n",
    "orientation_region = OrientationRegion.from_symmetry(Gl, Gr)\n",
    "o_inside = x_ori.__class__.identity(x_ori.shape)\n",
    "outside = np.ones(x_ori.shape, dtype=bool)\n",
    "for gl, gr in symmetry_pairs:\n",
    "    o_transformed = gl * x_ori[outside] * gr\n",
    "    all_ori.append(gl * x_ori * gr)\n",
    "    o_inside[outside] = o_transformed\n",
    "    outside = ~(o_inside < orientation_region)\n",
    "    #if not np.any(outside):\n",
    "    #    break'''\n",
    "o_inside._symmetry = (Gl, Gr)"
   ]
  },
  {
   "cell_type": "code",
   "execution_count": 304,
   "metadata": {},
   "outputs": [
    {
     "data": {
      "text/plain": [
       "Orientation (1,) 1\n",
       "[[1. 0. 0. 0.]]"
      ]
     },
     "execution_count": 304,
     "metadata": {},
     "output_type": "execute_result"
    }
   ],
   "source": [
    "x_ori.__class__.identity(x_ori.shape)"
   ]
  },
  {
   "cell_type": "code",
   "execution_count": 298,
   "metadata": {},
   "outputs": [
    {
     "data": {
      "text/plain": [
       "Symmetry (1,) \n",
       "[[0.103  0.7685 0.6087 0.1686]]"
      ]
     },
     "execution_count": 298,
     "metadata": {},
     "output_type": "execute_result"
    }
   ],
   "source": [
    "all_ori[0]"
   ]
  },
  {
   "cell_type": "code",
   "execution_count": 301,
   "metadata": {},
   "outputs": [
    {
     "ename": "AttributeError",
     "evalue": "'Symmetry' object has no attribute '_symmetry'",
     "output_type": "error",
     "traceback": [
      "\u001b[1;31m---------------------------------------------------------------------------\u001b[0m",
      "\u001b[1;31mAttributeError\u001b[0m                            Traceback (most recent call last)",
      "Cell \u001b[1;32mIn[301], line 1\u001b[0m\n\u001b[1;32m----> 1\u001b[0m \u001b[43m[\u001b[49m\u001b[43mori\u001b[49m\u001b[38;5;241;43m.\u001b[39;49m\u001b[43m_symmetry\u001b[49m\u001b[38;5;241;43m.\u001b[39;49m\u001b[43mas_matrix\u001b[49m\u001b[43m \u001b[49m\u001b[38;5;28;43;01mfor\u001b[39;49;00m\u001b[43m \u001b[49m\u001b[43mori\u001b[49m\u001b[43m \u001b[49m\u001b[38;5;129;43;01min\u001b[39;49;00m\u001b[43m \u001b[49m\u001b[43mall_ori\u001b[49m\u001b[43m]\u001b[49m\n",
      "Cell \u001b[1;32mIn[301], line 1\u001b[0m, in \u001b[0;36m<listcomp>\u001b[1;34m(.0)\u001b[0m\n\u001b[1;32m----> 1\u001b[0m [\u001b[43mori\u001b[49m\u001b[38;5;241;43m.\u001b[39;49m\u001b[43m_symmetry\u001b[49m\u001b[38;5;241m.\u001b[39mas_matrix \u001b[38;5;28;01mfor\u001b[39;00m ori \u001b[38;5;129;01min\u001b[39;00m all_ori]\n",
      "\u001b[1;31mAttributeError\u001b[0m: 'Symmetry' object has no attribute '_symmetry'"
     ]
    }
   ],
   "source": [
    "[ori._symmetry.as_matrix for ori in all_ori]"
   ]
  },
  {
   "cell_type": "code",
   "execution_count": 273,
   "metadata": {},
   "outputs": [
    {
     "data": {
      "text/plain": [
       "array([ True])"
      ]
     },
     "execution_count": 273,
     "metadata": {},
     "output_type": "execute_result"
    }
   ],
   "source": [
    "outside"
   ]
  },
  {
   "cell_type": "code",
   "execution_count": 254,
   "metadata": {},
   "outputs": [
    {
     "data": {
      "text/plain": [
       "Symmetry (8,) mmm\n",
       "[[ 1.  0.  0.  0.]\n",
       " [ 0.  0.  0.  1.]\n",
       " [ 0.  1.  0.  0.]\n",
       " [ 0.  0.  1.  0.]\n",
       " [ 0.  0.  1.  0.]\n",
       " [ 0. -1.  0.  0.]\n",
       " [ 0.  0.  0.  1.]\n",
       " [-1.  0.  0.  0.]]"
      ]
     },
     "execution_count": 254,
     "metadata": {},
     "output_type": "execute_result"
    }
   ],
   "source": [
    "Gr"
   ]
  },
  {
   "cell_type": "code",
   "execution_count": 252,
   "metadata": {},
   "outputs": [
    {
     "data": {
      "text/plain": [
       "8"
      ]
     },
     "execution_count": 252,
     "metadata": {},
     "output_type": "execute_result"
    }
   ],
   "source": [
    "len(symmetry_pairs)"
   ]
  },
  {
   "cell_type": "code",
   "execution_count": null,
   "metadata": {},
   "outputs": [],
   "source": []
  },
  {
   "cell_type": "code",
   "execution_count": 228,
   "metadata": {},
   "outputs": [
    {
     "ename": "ValueError",
     "evalue": "setting an array element with a sequence.",
     "output_type": "error",
     "traceback": [
      "\u001b[1;31m---------------------------------------------------------------------------\u001b[0m",
      "\u001b[1;31mTypeError\u001b[0m                                 Traceback (most recent call last)",
      "\u001b[1;31mTypeError\u001b[0m: float() argument must be a string or a real number, not 'Orientation'",
      "\nThe above exception was the direct cause of the following exception:\n",
      "\u001b[1;31mValueError\u001b[0m                                Traceback (most recent call last)",
      "Cell \u001b[1;32mIn[228], line 5\u001b[0m\n\u001b[0;32m      3\u001b[0m symmetry \u001b[38;5;241m=\u001b[39m _get_unique_symmetry_elements(x_ori\u001b[38;5;241m.\u001b[39msymmetry, ref_ori\u001b[38;5;241m.\u001b[39msymmetry)\n\u001b[0;32m      4\u001b[0m misorientation \u001b[38;5;241m=\u001b[39m ref_ori \u001b[38;5;241m*\u001b[39m \u001b[38;5;241m~\u001b[39mx_ori\n\u001b[1;32m----> 5\u001b[0m all_dot_products \u001b[38;5;241m=\u001b[39m \u001b[43mRotation\u001b[49m\u001b[43m(\u001b[49m\u001b[43mmisorientation\u001b[49m\u001b[43m)\u001b[49m\u001b[38;5;241m.\u001b[39mdot_outer(symmetry)\n",
      "File \u001b[1;32m_rotation.pyx:832\u001b[0m, in \u001b[0;36mscipy.spatial.transform._rotation.Rotation.__init__\u001b[1;34m()\u001b[0m\n",
      "\u001b[1;31mValueError\u001b[0m: setting an array element with a sequence."
     ]
    }
   ],
   "source": [
    "from orix.quaternion.orientation import _get_unique_symmetry_elements\n",
    "\n",
    "symmetry = _get_unique_symmetry_elements(x_ori.symmetry, ref_ori.symmetry)\n",
    "misorientation = ref_ori * ~x_ori\n",
    "all_dot_products = Rotation(misorientation).dot_outer(symmetry)"
   ]
  },
  {
   "cell_type": "code",
   "execution_count": 206,
   "metadata": {},
   "outputs": [
    {
     "data": {
      "text/plain": [
       "array([0.76846065])"
      ]
     },
     "execution_count": 206,
     "metadata": {},
     "output_type": "execute_result"
    }
   ],
   "source": [
    "ref_ori.unit.dot(crystalmap[40, 30].orientations.unit)"
   ]
  },
  {
   "cell_type": "code",
   "execution_count": 205,
   "metadata": {},
   "outputs": [
    {
     "data": {
      "text/plain": [
       "array([[79.56828524]])"
      ]
     },
     "execution_count": 205,
     "metadata": {},
     "output_type": "execute_result"
    }
   ],
   "source": [
    "ref_ori.angle_with_outer(crystalmap[40, 30].orientations, degrees=True)"
   ]
  },
  {
   "cell_type": "code",
   "execution_count": 197,
   "metadata": {},
   "outputs": [
    {
     "data": {
      "text/plain": [
       "Orientation (1,) mmm\n",
       "[[0.103  0.7685 0.6087 0.1686]]"
      ]
     },
     "execution_count": 197,
     "metadata": {},
     "output_type": "execute_result"
    }
   ],
   "source": [
    "crystalmap[40, 30].orientations"
   ]
  },
  {
   "cell_type": "code",
   "execution_count": 103,
   "metadata": {},
   "outputs": [
    {
     "ename": "ValueError",
     "evalue": "cannot reshape array of size 1572 into shape (81,41)",
     "output_type": "error",
     "traceback": [
      "\u001b[1;31m---------------------------------------------------------------------------\u001b[0m",
      "\u001b[1;31mValueError\u001b[0m                                Traceback (most recent call last)",
      "Cell \u001b[1;32mIn[103], line 3\u001b[0m\n\u001b[0;32m      1\u001b[0m fig, ax \u001b[38;5;241m=\u001b[39m plt\u001b[38;5;241m.\u001b[39msubplots(\u001b[38;5;241m1\u001b[39m, \u001b[38;5;241m1\u001b[39m, figsize\u001b[38;5;241m=\u001b[39m(\u001b[38;5;241m5\u001b[39m, \u001b[38;5;241m5\u001b[39m), dpi\u001b[38;5;241m=\u001b[39m\u001b[38;5;241m200\u001b[39m)\n\u001b[1;32m----> 3\u001b[0m ax\u001b[38;5;241m.\u001b[39mimshow(\u001b[43mrgb_au\u001b[49m\u001b[38;5;241;43m.\u001b[39;49m\u001b[43mreshape\u001b[49m\u001b[43m(\u001b[49m\u001b[43mtest\u001b[49m\u001b[38;5;241;43m.\u001b[39;49m\u001b[43mmap\u001b[49m\u001b[38;5;241;43m.\u001b[39;49m\u001b[43mmap_shape\u001b[49m\u001b[43m)\u001b[49m)\n\u001b[0;32m      5\u001b[0m plt\u001b[38;5;241m.\u001b[39mshow()\n",
      "\u001b[1;31mValueError\u001b[0m: cannot reshape array of size 1572 into shape (81,41)"
     ]
    }
   ],
   "source": [
    "fig, ax = plt.subplots(1, 1, figsize=(5, 5), dpi=200)\n",
    "\n",
    "ax.imshow(rgb_au.reshape(test.map.map_shape))\n",
    "\n",
    "plt.show()"
   ]
  },
  {
   "cell_type": "code",
   "execution_count": 86,
   "metadata": {},
   "outputs": [
    {
     "data": {
      "text/plain": [
       "3321"
      ]
     },
     "execution_count": 86,
     "metadata": {},
     "output_type": "execute_result"
    }
   ],
   "source": [
    "len(phase_id)"
   ]
  },
  {
   "cell_type": "code",
   "execution_count": 88,
   "metadata": {},
   "outputs": [
    {
     "ename": "AttributeError",
     "evalue": "'CrystalMap' object has no attribute 'dp'",
     "output_type": "error",
     "traceback": [
      "\u001b[1;31m---------------------------------------------------------------------------\u001b[0m",
      "\u001b[1;31mAttributeError\u001b[0m                            Traceback (most recent call last)",
      "Cell \u001b[1;32mIn[88], line 1\u001b[0m\n\u001b[1;32m----> 1\u001b[0m \u001b[43mcrystalmap\u001b[49m\u001b[38;5;241;43m.\u001b[39;49m\u001b[43mplot\u001b[49m\u001b[43m(\u001b[49m\u001b[38;5;124;43m'\u001b[39;49m\u001b[38;5;124;43mdp\u001b[39;49m\u001b[38;5;124;43m'\u001b[39;49m\u001b[43m)\u001b[49m\n",
      "File \u001b[1;32mc:\\Users\\emusterma\\AppData\\Local\\anaconda3\\envs\\sXRDMap-py311-1.0\\Lib\\site-packages\\orix\\crystal_map\\crystal_map.py:1033\u001b[0m, in \u001b[0;36mCrystalMap.plot\u001b[1;34m(self, value, overlay, scalebar, scalebar_properties, legend, legend_properties, colorbar, colorbar_label, colorbar_properties, remove_padding, return_figure, figure_kwargs, **kwargs)\u001b[0m\n\u001b[0;32m   1030\u001b[0m     figure_kwargs \u001b[38;5;241m=\u001b[39m \u001b[38;5;28mdict\u001b[39m()\n\u001b[0;32m   1032\u001b[0m fig, ax \u001b[38;5;241m=\u001b[39m plt\u001b[38;5;241m.\u001b[39msubplots(subplot_kw\u001b[38;5;241m=\u001b[39m\u001b[38;5;28mdict\u001b[39m(projection\u001b[38;5;241m=\u001b[39m\u001b[38;5;124m\"\u001b[39m\u001b[38;5;124mplot_map\u001b[39m\u001b[38;5;124m\"\u001b[39m), \u001b[38;5;241m*\u001b[39m\u001b[38;5;241m*\u001b[39mfigure_kwargs)\n\u001b[1;32m-> 1033\u001b[0m \u001b[43max\u001b[49m\u001b[38;5;241;43m.\u001b[39;49m\u001b[43mplot_map\u001b[49m\u001b[43m(\u001b[49m\n\u001b[0;32m   1034\u001b[0m \u001b[43m    \u001b[49m\u001b[38;5;28;43mself\u001b[39;49m\u001b[43m,\u001b[49m\n\u001b[0;32m   1035\u001b[0m \u001b[43m    \u001b[49m\u001b[43mvalue\u001b[49m\u001b[38;5;241;43m=\u001b[39;49m\u001b[43mvalue\u001b[49m\u001b[43m,\u001b[49m\n\u001b[0;32m   1036\u001b[0m \u001b[43m    \u001b[49m\u001b[43mscalebar\u001b[49m\u001b[38;5;241;43m=\u001b[39;49m\u001b[43mscalebar\u001b[49m\u001b[43m,\u001b[49m\n\u001b[0;32m   1037\u001b[0m \u001b[43m    \u001b[49m\u001b[43mscalebar_properties\u001b[49m\u001b[38;5;241;43m=\u001b[39;49m\u001b[43mscalebar_properties\u001b[49m\u001b[43m,\u001b[49m\n\u001b[0;32m   1038\u001b[0m \u001b[43m    \u001b[49m\u001b[43mlegend\u001b[49m\u001b[38;5;241;43m=\u001b[39;49m\u001b[43mlegend\u001b[49m\u001b[43m,\u001b[49m\n\u001b[0;32m   1039\u001b[0m \u001b[43m    \u001b[49m\u001b[43mlegend_properties\u001b[49m\u001b[38;5;241;43m=\u001b[39;49m\u001b[43mlegend_properties\u001b[49m\u001b[43m,\u001b[49m\n\u001b[0;32m   1040\u001b[0m \u001b[43m    \u001b[49m\u001b[38;5;241;43m*\u001b[39;49m\u001b[38;5;241;43m*\u001b[39;49m\u001b[43mkwargs\u001b[49m\u001b[43m,\u001b[49m\n\u001b[0;32m   1041\u001b[0m \u001b[43m\u001b[49m\u001b[43m)\u001b[49m\n\u001b[0;32m   1042\u001b[0m \u001b[38;5;28;01mif\u001b[39;00m overlay \u001b[38;5;129;01mis\u001b[39;00m \u001b[38;5;129;01mnot\u001b[39;00m \u001b[38;5;28;01mNone\u001b[39;00m:\n\u001b[0;32m   1043\u001b[0m     ax\u001b[38;5;241m.\u001b[39madd_overlay(\u001b[38;5;28mself\u001b[39m, overlay)\n",
      "File \u001b[1;32mc:\\Users\\emusterma\\AppData\\Local\\anaconda3\\envs\\sXRDMap-py311-1.0\\Lib\\site-packages\\orix\\plot\\crystal_map_plot.py:166\u001b[0m, in \u001b[0;36mCrystalMapPlot.plot_map\u001b[1;34m(self, crystal_map, value, scalebar, scalebar_properties, legend, legend_properties, override_status_bar, **kwargs)\u001b[0m\n\u001b[0;32m    164\u001b[0m         patches\u001b[38;5;241m.\u001b[39mappend(mpatches\u001b[38;5;241m.\u001b[39mPatch(color\u001b[38;5;241m=\u001b[39mp\u001b[38;5;241m.\u001b[39mcolor_rgb, label\u001b[38;5;241m=\u001b[39mp\u001b[38;5;241m.\u001b[39mname))\n\u001b[0;32m    165\u001b[0m \u001b[38;5;28;01melse\u001b[39;00m:  \u001b[38;5;66;03m# Create masked array of correct shape\u001b[39;00m\n\u001b[1;32m--> 166\u001b[0m     data \u001b[38;5;241m=\u001b[39m \u001b[43mcrystal_map\u001b[49m\u001b[38;5;241;43m.\u001b[39;49m\u001b[43mget_map_data\u001b[49m\u001b[43m(\u001b[49m\u001b[43mvalue\u001b[49m\u001b[43m)\u001b[49m\n\u001b[0;32m    168\u001b[0m \u001b[38;5;66;03m# Remove 1-dimensions\u001b[39;00m\n\u001b[0;32m    169\u001b[0m data \u001b[38;5;241m=\u001b[39m np\u001b[38;5;241m.\u001b[39msqueeze(data)\n",
      "File \u001b[1;32mc:\\Users\\emusterma\\AppData\\Local\\anaconda3\\envs\\sXRDMap-py311-1.0\\Lib\\site-packages\\orix\\crystal_map\\crystal_map.py:892\u001b[0m, in \u001b[0;36mCrystalMap.get_map_data\u001b[1;34m(self, item, decimals, fill_value)\u001b[0m\n\u001b[0;32m    890\u001b[0m             array[phase_mask] \u001b[38;5;241m=\u001b[39m \u001b[38;5;28mself\u001b[39m[phase_mask_in_data]\u001b[38;5;241m.\u001b[39morientations\u001b[38;5;241m.\u001b[39mto_euler()\n\u001b[0;32m    891\u001b[0m \u001b[38;5;28;01melse\u001b[39;00m:  \u001b[38;5;66;03m# String\u001b[39;00m\n\u001b[1;32m--> 892\u001b[0m     data \u001b[38;5;241m=\u001b[39m \u001b[38;5;28;43mself\u001b[39;49m\u001b[38;5;241;43m.\u001b[39;49m\u001b[38;5;21;43m__getattr__\u001b[39;49m\u001b[43m(\u001b[49m\u001b[43mitem\u001b[49m\u001b[43m)\u001b[49m\n\u001b[0;32m    893\u001b[0m     \u001b[38;5;28;01mif\u001b[39;00m data \u001b[38;5;129;01mis\u001b[39;00m \u001b[38;5;28;01mNone\u001b[39;00m:\n\u001b[0;32m    894\u001b[0m         \u001b[38;5;28;01mraise\u001b[39;00m \u001b[38;5;167;01mValueError\u001b[39;00m(\u001b[38;5;124mf\u001b[39m\u001b[38;5;124m\"\u001b[39m\u001b[38;5;132;01m{\u001b[39;00mitem\u001b[38;5;132;01m}\u001b[39;00m\u001b[38;5;124m is \u001b[39m\u001b[38;5;132;01m{\u001b[39;00mdata\u001b[38;5;132;01m}\u001b[39;00m\u001b[38;5;124m.\u001b[39m\u001b[38;5;124m\"\u001b[39m)\n",
      "File \u001b[1;32mc:\\Users\\emusterma\\AppData\\Local\\anaconda3\\envs\\sXRDMap-py311-1.0\\Lib\\site-packages\\orix\\crystal_map\\crystal_map.py:600\u001b[0m, in \u001b[0;36mCrystalMap.__getattr__\u001b[1;34m(self, item)\u001b[0m\n\u001b[0;32m    598\u001b[0m     \u001b[38;5;28;01mreturn\u001b[39;00m \u001b[38;5;28mself\u001b[39m\u001b[38;5;241m.\u001b[39mprop[item]\n\u001b[0;32m    599\u001b[0m \u001b[38;5;28;01melse\u001b[39;00m:\n\u001b[1;32m--> 600\u001b[0m     \u001b[38;5;28;01mreturn\u001b[39;00m \u001b[38;5;28;43mobject\u001b[39;49m\u001b[38;5;241;43m.\u001b[39;49m\u001b[38;5;21;43m__getattribute__\u001b[39;49m\u001b[43m(\u001b[49m\u001b[38;5;28;43mself\u001b[39;49m\u001b[43m,\u001b[49m\u001b[43m \u001b[49m\u001b[43mitem\u001b[49m\u001b[43m)\u001b[49m\n",
      "\u001b[1;31mAttributeError\u001b[0m: 'CrystalMap' object has no attribute 'dp'"
     ]
    }
   ],
   "source": [
    "crystalmap.plot('dp')"
   ]
  },
  {
   "cell_type": "code",
   "execution_count": null,
   "metadata": {},
   "outputs": [],
   "source": []
  },
  {
   "cell_type": "code",
   "execution_count": null,
   "metadata": {},
   "outputs": [],
   "source": []
  },
  {
   "cell_type": "code",
   "execution_count": null,
   "metadata": {},
   "outputs": [],
   "source": []
  },
  {
   "cell_type": "code",
   "execution_count": null,
   "metadata": {},
   "outputs": [],
   "source": []
  }
 ],
 "metadata": {
  "kernelspec": {
   "display_name": "Python 3",
   "language": "python",
   "name": "python3"
  },
  "language_info": {
   "codemirror_mode": {
    "name": "ipython",
    "version": 3
   },
   "file_extension": ".py",
   "mimetype": "text/x-python",
   "name": "python",
   "nbconvert_exporter": "python",
   "pygments_lexer": "ipython3",
   "version": "3.11.8"
  }
 },
 "nbformat": 4,
 "nbformat_minor": 2
}
