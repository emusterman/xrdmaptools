{
 "cells": [
  {
   "cell_type": "code",
   "execution_count": 385,
   "metadata": {},
   "outputs": [],
   "source": [
    "import os\n",
    "import h5py\n",
    "import numpy as np\n",
    "from IPython.lib.deepreload import reload\n",
    "import matplotlib.pyplot as plt\n",
    "from collections import OrderedDict\n",
    "import skimage.io as io\n",
    "from tqdm import tqdm\n",
    "import time as ttime\n",
    "\n",
    "%matplotlib qt"
   ]
  },
  {
   "cell_type": "code",
   "execution_count": 386,
   "metadata": {},
   "outputs": [],
   "source": [
    "import xrdmaptools\n",
    "from xrdmaptools.XRDMap import XRDMap\n",
    "from xrdmaptools.ImageMap import ImageMap\n",
    "from xrdmaptools.reflections.SpotModels import GaussianFunctions\n",
    "reload(xrdmaptools);"
   ]
  },
  {
   "cell_type": "code",
   "execution_count": null,
   "metadata": {},
   "outputs": [],
   "source": []
  },
  {
   "cell_type": "code",
   "execution_count": null,
   "metadata": {},
   "outputs": [],
   "source": []
  },
  {
   "cell_type": "code",
   "execution_count": null,
   "metadata": {},
   "outputs": [],
   "source": [
    "from xrdmaptools.utilities.math import tth_2_d, d_2_tth, energy_2_wavelength, tth_2_q, q_2_tth\n",
    "from xrdmaptools.reflections.SpotModels import GaussianFunctions, LorentzianFunctions\n",
    "from itertools import permutations\n",
    "from itertools import product\n",
    "\n",
    "\n",
    "\n",
    "# Re-write for the crystal class...\n",
    "def metric_tensor(a, b, c, alpha, beta, gamma):\n",
    "    A = a**2\n",
    "    B = b**2\n",
    "    C = c**2\n",
    "    D = 2 * b * c * np.cos(alpha)\n",
    "    E = 2 * a * c * np.cos(beta)\n",
    "    F = 2 * a * b * np.cos(gamma)\n",
    "    return (A, B, C, D, E, F)\n",
    "\n",
    "def S_tensor(a, b, c, alpha, beta, gamma):\n",
    "    V = a * b * c * np.sqrt(1\n",
    "                            - np.cos(alpha)**2\n",
    "                            - np.cos(beta)**2\n",
    "                            - np.cos(gamma)**2\n",
    "                            - 2 * np.cos(alpha) * np.cos(beta) * np.cos(gamma))\n",
    "    S11 = b**2 * c**2 * np.sin(alpha)**2\n",
    "    S22 = a**2 * c**2 * np.sin(beta)**2\n",
    "    S33 = a**2 * b**2 * np.sin(gamma)**2\n",
    "    S12 = a * b * c**2 * (np.cos(alpha) * np.cos(beta) - np.cos(gamma))\n",
    "    S23 = a**2 * b * c * (np.cos(beta) * np.cos(gamma) - np.cos(alpha))\n",
    "    S13 = a * b**2 * c * (np.cos(gamma) * np.cos(alpha) - np.cos(beta))\n",
    "\n",
    "    return (V, S11, S22, S33, S12, S23, S13)\n",
    "\n",
    "\n",
    "def hkl_2_d(hkls, a, b, c, alpha, beta, gamma):\n",
    "    VS = np.round(S_tensor(a, b, c, alpha, beta, gamma), 8)\n",
    "\n",
    "    d_list = []\n",
    "    for hkl in hkls:\n",
    "        h, k, l = hkl\n",
    "        d = VS[0] * (VS[1] * (h**2)\n",
    "                     + VS[2] * (k**2)\n",
    "                     + VS[3] * (l**2)\n",
    "                     + VS[4] * (h * k) * 2\n",
    "                     + VS[5] * (k * l) * 2\n",
    "                     + VS[6] * (h * l * 2)\n",
    "                     )**(-0.5)\n",
    "        \n",
    "        d_list.append(d)\n",
    "    \n",
    "    return np.array(d_list)\n",
    "\n",
    "\n",
    "def d_spacings(q_range, a, b, c, alpha, beta, gamma):\n",
    "    q_min, q_max = q_range\n",
    "    \n",
    "    possible_hkls = list(product(range(10), repeat=3))[1:]\n",
    "\n",
    "    VS = np.round(S_tensor(a, b, c, alpha, beta, gamma), 8)\n",
    "\n",
    "    d_list = []\n",
    "    for hkl in possible_hkls:\n",
    "        h, k, l = hkl\n",
    "        d = VS[0] * (VS[1] * (h**2)\n",
    "                     + VS[2] * (k**2)\n",
    "                     + VS[3] * (l**2)\n",
    "                     + VS[4] * (h * k) * 2\n",
    "                     + VS[5] * (k * l) * 2\n",
    "                     + VS[6] * (h * l * 2)\n",
    "                     )**(-0.5)\n",
    "        \n",
    "        if 2 * np.pi / d < q_min:\n",
    "            continue\n",
    "        elif 2 * np.pi / d > q_max:\n",
    "            continue\n",
    "        else:\n",
    "            d_list.append(d)\n",
    "    \n",
    "    d_list = np.unique(np.round(d_list, 8))\n",
    "        \n",
    "    return sorted(d_list, reverse=True)\n",
    "\n",
    "\n",
    "def pattern_estimate_guess(tth, intensity, a, b, c, alpha, beta, gamma, wavelength=test.wavelength, window=20):\n",
    "    q = tth_2_q(tth, wavelength=wavelength)\n",
    "    q[np.isnan(q)] = 0\n",
    "    q_range = [np.min(q), np.max(q)]\n",
    "\n",
    "    d = d_spacings(q_range, a, b, c, alpha, beta, gamma)\n",
    "    q_cen = 2 * np.pi / np.array(d)\n",
    "\n",
    "    args = []\n",
    "    for i in range(len(q_cen)):\n",
    "        cen_idx = np.argmin(np.abs(q - q_cen[i]))\n",
    "        amp = intensity[cen_idx]\n",
    "        q_vals = q[cen_idx - window : cen_idx + window]\n",
    "        int_vals = intensity[cen_idx - window : cen_idx + window]\n",
    "        std_tth = np.sqrt(np.cov(q_vals, aweights=int_vals))\n",
    "        fwhm = std_tth * 2 * np.sqrt(2 * np.log(2))\n",
    "\n",
    "        args.extend([\n",
    "            amp,\n",
    "            fwhm\n",
    "        ]) \n",
    "    \n",
    "    return args\n",
    "\n",
    "\n",
    "def pattern_estimate(tth, *args, wavelength=test.wavelength):\n",
    "    a, b, c, alpha, beta, gamma = args[:6]\n",
    "    int_fwhm = args[6:]\n",
    "    \n",
    "    q = tth_2_q(tth, wavelength=wavelength)\n",
    "    q[np.isnan(q)] = 0\n",
    "    q_range = [np.min(q), np.max(q)]\n",
    "\n",
    "    d = d_spacings(q_range, a, b, c, alpha, beta, gamma)\n",
    "    q_cen = 2 * np.pi / np.array(d)\n",
    "\n",
    "    args = [0]\n",
    "    for i in range(len(q_cen)):\n",
    "        args.extend([\n",
    "            int_fwhm[::2][i],\n",
    "            q_cen[i],\n",
    "            int_fwhm[1::2][i]\n",
    "        ])\n",
    "\n",
    "    intensity = LorentzianFunctions.multi_1d(q, *args)\n",
    "\n",
    "    return intensity\n",
    "\n",
    "\n",
    "def pattern_estimate_from_phase_guess(tth, intensity, window=20):\n",
    "    phases = [test.phases['304SS-austenite'],\n",
    "              test.phases['platinum'],\n",
    "              test.phases['tungsten_2']]\n",
    "\n",
    "    q = tth_2_q(tth, wavelength=test.wavelength)\n",
    "    q[np.isnan(q)] = 0\n",
    "\n",
    "    d = []\n",
    "    for phase in phases:\n",
    "        lattice_params = list(phase.lattice._parameters.values())\n",
    "        lattice_params[3:] = np.radians(lattice_params[3:])\n",
    "\n",
    "        d.extend(hkl_2_d(phase.reflections['hkl'],\n",
    "                         *lattice_params))\n",
    "\n",
    "    q_cen = 2 * np.pi / np.array(d)\n",
    "\n",
    "    args = [np.min(intensity[20:-20])]\n",
    "    for i in range(len(q_cen)):\n",
    "        cen_idx = np.argmin(np.abs(q - q_cen[i]))\n",
    "        amp = intensity[cen_idx] - np.min(intensity)\n",
    "        \n",
    "        q_vals = q[cen_idx - window : cen_idx + window]\n",
    "        int_vals = intensity[cen_idx - window : cen_idx + window]\n",
    "        int_vals[int_vals < 0] = 0\n",
    "        \n",
    "        std_tth = np.sqrt(np.cov(q_vals, aweights=int_vals))\n",
    "        fwhm = std_tth * 2 * np.sqrt(2 * np.log(2))\n",
    "\n",
    "        args.extend([\n",
    "            amp,\n",
    "            fwhm\n",
    "        ])\n",
    "\n",
    "    return args\n",
    "\n",
    "\n",
    "def pattern_estimate_from_phase(tth, *args):\n",
    "    phases = [test.phases['304SS-austenite'],\n",
    "              test.phases['platinum'],\n",
    "              test.phases['tungsten_2']]\n",
    "    lattice_params = np.array(args[:6 * len(phases)]).reshape(-1, 6)\n",
    "    offset = args[6 * len(phases)]\n",
    "    int_fwhm = args[6 * len(phases) + 1:]\n",
    "\n",
    "    q = tth_2_q(tth, wavelength=test.wavelength)\n",
    "    q[np.isnan(q)] = 0\n",
    "\n",
    "    d = []\n",
    "    for i, phase in enumerate(phases):\n",
    "        d.extend(hkl_2_d(phase.reflections['hkl'],\n",
    "                         *lattice_params[i]))\n",
    "    \n",
    "    q_cen = 2 * np.pi / np.array(d)\n",
    "\n",
    "    args = [offset]\n",
    "    for i in range(len(q_cen)):\n",
    "        args.extend([\n",
    "            int_fwhm[::2][i],\n",
    "            q_cen[i],\n",
    "            int_fwhm[1::2][i]\n",
    "        ])\n",
    "\n",
    "    intensity = LorentzianFunctions.multi_1d(q, *args)\n",
    "\n",
    "    return intensity\n",
    "\n",
    "def generate_bounds(phases, args):\n",
    "\n",
    "    lattice_params = np.array(args[:6 * len(phases)]).reshape(-1, 6)\n",
    "    offset = args[6 * len(phases)]\n",
    "    int_fwhm = args[6 * len(phases) + 1:]\n",
    "\n",
    "    low_bounds, upr_bounds = [], []\n",
    "\n",
    "    for lattice_params_i in lattice_params:\n",
    "        a, b, c, alpha, beta, gamma = lattice_params_i\n",
    "\n",
    "        for const in [a, b, c]:\n",
    "            # Ridiculous bounds of 5% strain\n",
    "            low_bounds.append(0.95 * const)\n",
    "            upr_bounds.append(1.05 * const)\n",
    "        \n",
    "        for angle in [alpha, beta, gamma]:\n",
    "            low_bounds.append(angle - np.radians(5))\n",
    "            upr_bounds.append(angle + np.radians(5))\n",
    "\n",
    "    # offset bound\n",
    "    low_bounds.append(0)\n",
    "    upr_bounds.append(5 * offset)\n",
    "\n",
    "    # amp and fwhm\n",
    "    for i, val in enumerate(int_fwhm):\n",
    "        if i % 2 == 0: # even, amp\n",
    "            low_bounds.append(0)\n",
    "            upr_bounds.append(3 * val)\n",
    "        else: # odd, fwhm\n",
    "            low_bounds.append(0.001)\n",
    "            upr_bounds.append(3 * val)\n",
    "\n",
    "    return [low_bounds, upr_bounds]\n"
   ]
  },
  {
   "cell_type": "code",
   "execution_count": null,
   "metadata": {},
   "outputs": [],
   "source": []
  },
  {
   "cell_type": "code",
   "execution_count": null,
   "metadata": {},
   "outputs": [
    {
     "data": {
      "text/plain": [
       "[-10.203479, 9.687759, -20.038216, 20.00252]"
      ]
     },
     "execution_count": 62,
     "metadata": {},
     "output_type": "execute_result"
    }
   ],
   "source": [
    "test.map_extent()"
   ]
  },
  {
   "cell_type": "code",
   "execution_count": null,
   "metadata": {},
   "outputs": [],
   "source": [
    "fig, ax = plt.subplots(1, 1, figsize=(5, 5), dpi=200)\n",
    "\n",
    "xrf_cen = 2700\n",
    "x_signal = rescale_array(np.sum(xrfmap[:, :, xrf_cen - 15:xrf_cen + 15], axis=(-1)))\n",
    "x_energy = np.mean(xrf_energy[xrf_cen - 15:xrf_cen + 15])\n",
    "\n",
    "tth_cen = 830\n",
    "y_signal = rescale_array(np.sum(test.map.integrations[:, :, tth_cen - 30:tth_cen + 30], axis=(-1)))\n",
    "y_tth = np.mean(test.tth[tth_cen - 30:tth_cen + 30])\n",
    "\n",
    "ax.scatter(x_signal, y_signal, s=1, alpha=0.5, c='k')\n",
    "ax.set_xlabel(f'XRF Energy around {x_energy:.2f} keV')\n",
    "ax.set_ylabel(f'XRD 2θ around {y_tth:.2f}°')\n",
    "\n",
    "corr_signal = x_signal * y_signal\n",
    "\n",
    "fig.show()\n",
    "\n",
    "test.plot_map(corr_signal)"
   ]
  },
  {
   "cell_type": "code",
   "execution_count": null,
   "metadata": {},
   "outputs": [
    {
     "data": {
      "text/plain": [
       "dict_keys(['S_K', 'Ga_K', 'Si_K', 'Sb_L', 'Ni_K', 'Fe_K', 'Ar_K', 'W_L', 'Pt_L', 'compton', 'elastic', 'snip_bkg', 'r_factor', 'sel_cnt', 'total_cnt', 'i0'])"
      ]
     },
     "execution_count": 57,
     "metadata": {},
     "output_type": "execute_result"
    }
   ],
   "source": [
    "xrf_dict.keys()"
   ]
  },
  {
   "cell_type": "code",
   "execution_count": null,
   "metadata": {},
   "outputs": [],
   "source": [
    "from xrdmaptools.utilities.image_corrections import rescale_array\n",
    "\n",
    "xrf_stack = []\n",
    "\n",
    "for key in xrf_dict.keys():\n",
    "    if key in ['snip_bkg', 'r_factor', 'sel_cnt', 'total_cnt', 'i0']:\n",
    "        continue\n",
    "\n",
    "    xrf_stack.append(rescale_array(xrf_dict[key].copy()))\n",
    "\n",
    "xrf_stack = np.stack(xrf_stack)"
   ]
  },
  {
   "cell_type": "code",
   "execution_count": null,
   "metadata": {},
   "outputs": [],
   "source": [
    "fig, ax = plt.subplots(1, 1, figsize=(5, 5), dpi=200)\n",
    "\n",
    "ax.plot(test.tth, np.max(test.map.integrations, axis=(0, 1)))\n",
    "\n",
    "fig.show()"
   ]
  },
  {
   "cell_type": "code",
   "execution_count": null,
   "metadata": {},
   "outputs": [],
   "source": [
    "fig, ax = plt.subplots(1, 1, figsize=(5, 5), dpi=200)\n",
    "\n",
    "#x, bins, _ = ax.hist(test.spots['guess_cen_tth'].values, bins=2000, weights=test.spots['guess_height'].values, label='spot center', density=True)\n",
    "x, bins, _ = ax.hist(test.spots['guess_cen_tth'].values, bins=2000, label='spot center', density=True)\n",
    "ax.plot(test.tth, rescale_array(np.max(test.map.integrations, axis=(0, 1)), lower=np.min(x), upper=np.max(x)), label='max intensity')\n",
    "\n",
    "ax.legend()\n",
    "\n",
    "plt.show()"
   ]
  },
  {
   "cell_type": "code",
   "execution_count": null,
   "metadata": {},
   "outputs": [
    {
     "name": "stdout",
     "output_type": "stream",
     "text": [
      "Integrated images to 1D..."
     ]
    },
    {
     "name": "stderr",
     "output_type": "stream",
     "text": [
      "100%|██████████| 3321/3321 [01:18<00:00, 42.25it/s]\n"
     ]
    }
   ],
   "source": [
    "test.integrate1d_map()"
   ]
  },
  {
   "cell_type": "code",
   "execution_count": null,
   "metadata": {},
   "outputs": [],
   "source": [
    "from skimage.feature import peak_local_max\n",
    "from scipy.signal import find_peaks\n",
    "\n",
    "fig, ax = plt.subplots(1, 1, figsize=(5, 5), dpi=200)\n",
    "\n",
    "plot_int = rescale_array(np.max(test.map.integrations, axis=(0, 1)))\n",
    "#peaks = peak_local_max(plot_int,\n",
    "#                       threshold_rel=0.05)\n",
    "\n",
    "peaks, _ = find_peaks(plot_int, prominence=0.01, distance=4)\n",
    "\n",
    "ax.scatter(test.tth[peaks], plot_int[peaks], s=2, c='r')\n",
    "ax.plot(test.tth, plot_int)\n",
    "\n",
    "\n",
    "fig.show()"
   ]
  },
  {
   "cell_type": "code",
   "execution_count": null,
   "metadata": {},
   "outputs": [],
   "source": [
    "peak_maps = np.empty((*test.map.map_shape, len(peaks)))\n",
    "\n",
    "params = list(popt.copy())\n",
    "params.pop(0)\n",
    "for i in range(len(peaks)):\n",
    "    peak_map = np.sum(test.map.integrations * SpotModel.func_1d(test.tth, *params[:3]), axis=(-1))\n",
    "    peak_maps[:, :, i] = rescale_array(peak_map)\n",
    "    del params[:3]\n",
    "\n",
    "peak_maps = peak_maps.T"
   ]
  },
  {
   "cell_type": "code",
   "execution_count": null,
   "metadata": {},
   "outputs": [],
   "source": [
    "features = np.vstack([xrf_stack, peak_maps])\n",
    "features = features.reshape(features.shape[0], -1)"
   ]
  },
  {
   "cell_type": "code",
   "execution_count": null,
   "metadata": {},
   "outputs": [
    {
     "data": {
      "text/plain": [
       "(56, 3321)"
      ]
     },
     "execution_count": 269,
     "metadata": {},
     "output_type": "execute_result"
    }
   ],
   "source": [
    "features.shape"
   ]
  },
  {
   "cell_type": "code",
   "execution_count": null,
   "metadata": {},
   "outputs": [],
   "source": [
    "fig, ax = plt.subplots(1, 1, figsize=(5, 5), dpi=200)\n",
    "\n",
    "x_signal = features[0]\n",
    "y_signal = features[3]\n",
    "\n",
    "ax.scatter(x_signal, y_signal, s=5, alpha=0.5, c='k')\n",
    "\n",
    "fig.show()"
   ]
  },
  {
   "cell_type": "code",
   "execution_count": null,
   "metadata": {},
   "outputs": [],
   "source": [
    "projections = features[:, np.newaxis] * features[np.newaxis, :]"
   ]
  },
  {
   "cell_type": "code",
   "execution_count": null,
   "metadata": {},
   "outputs": [],
   "source": [
    "correlations = np.empty((features.shape[0], features.shape[0]))\n",
    "\n",
    "for index in range(np.prod(correlations.shape)):\n",
    "    indices = np.unravel_index(index, correlations.shape)\n",
    "\n",
    "    correlation = np.dot(features[indices[0]], features[indices[1]]) / (np.linalg.norm(features[indices[0]]) * np.linalg.norm(features[indices[1]]))\n",
    "    correlations[indices] = correlation"
   ]
  },
  {
   "cell_type": "code",
   "execution_count": null,
   "metadata": {},
   "outputs": [
    {
     "data": {
      "text/plain": [
       "(56, 56, 3321)"
      ]
     },
     "execution_count": 35,
     "metadata": {},
     "output_type": "execute_result"
    }
   ],
   "source": [
    "projections.shape"
   ]
  },
  {
   "cell_type": "code",
   "execution_count": null,
   "metadata": {},
   "outputs": [
    {
     "data": {
      "text/plain": [
       "(56, 56)"
      ]
     },
     "execution_count": 36,
     "metadata": {},
     "output_type": "execute_result"
    }
   ],
   "source": [
    "correlations.shape"
   ]
  },
  {
   "cell_type": "code",
   "execution_count": null,
   "metadata": {},
   "outputs": [],
   "source": [
    "pairs = []\n",
    "\n",
    "for index in range(np.prod(correlations.shape)):\n",
    "    indices = np.unravel_index(index, correlations.shape)\n",
    "\n",
    "    if (correlations[indices] > 0.95\n",
    "        and indices[0] != indices[1]\n",
    "        and indices[::-1] not in pairs):\n",
    "        pairs.append(indices)"
   ]
  },
  {
   "cell_type": "code",
   "execution_count": null,
   "metadata": {},
   "outputs": [],
   "source": [
    "pseudo_phases = []\n",
    "assigned_features = []\n",
    "\n",
    "for i, pair in enumerate(pairs):\n",
    "\n",
    "    NEW_pseudo_PHASE = True\n",
    "    for pseudo_phase in pseudo_phases:\n",
    "        if (pair[0] in pseudo_phase\n",
    "            or pair[1] in pseudo_phase):\n",
    "            pseudo_phase.extend(list(pair))\n",
    "            NEW_pseudo_PHASE = False\n",
    "            continue\n",
    "\n",
    "    for pseudo_phase in pseudo_phases:\n",
    "        if (pair[0] in pseudo_phase\n",
    "            and pair[1] in pseudo_phase):\n",
    "            pseudo_phase.extend(list(pair))\n",
    "            NEW_pseudo_PHASE = False\n",
    "            continue\n",
    "    \n",
    "    if NEW_pseudo_PHASE:\n",
    "        pseudo_phases.append(list(pair))\n",
    "\n",
    "    #if i == 55:\n",
    "    #    break\n",
    "\n",
    "# Reduce to unique features\n",
    "#for i, pseudo_phase in enumerate(pseudo_phases):\n",
    "#    pseudo_phases[i] = list(np.unique(np.array(pseudo_phase)))\n",
    "\n",
    "# Combined spearated correlated psued0_phases\n",
    "for i, pseudo_phase in enumerate(pseudo_phases):\n",
    "    for feature_i in pseudo_phase:\n",
    "        matches = [feature_i in x for x in pseudo_phases]\n",
    "        if np.sum(matches) > 1:\n",
    "            combined_phase_index = list(np.where(matches)[0])[1] # zero index is the same, others will be combined in next pass\n",
    "            pseudo_phases[i].extend(pseudo_phases[combined_phase_index])\n",
    "            pseudo_phases.pop(combined_phase_index)\n",
    "\n",
    "# Reduce to unique features\n",
    "for i, pseudo_phase in enumerate(pseudo_phases):\n",
    "    pseudo_phases[i] = list(np.unique(np.array(pseudo_phase)))\n"
   ]
  },
  {
   "cell_type": "code",
   "execution_count": null,
   "metadata": {},
   "outputs": [],
   "source": [
    "\n",
    "pseudo_phases = []\n",
    "for pair in pairs:\n",
    "\n",
    "    f0 = pair[0]\n",
    "    f1 = pair[1]\n",
    "\n",
    "    f0_matches = [np.array(pair_i)[pair_i != f0][0] for pair_i in pairs if f0 in pair_i]\n",
    "    f1_matches = [np.array(pair_i)[pair_i != f1][0] for pair_i in pairs if f1 in pair_i]\n",
    "\n",
    "    f3_matches = [f3 for f3 in f0_matches if f3 in f1_matches]\n",
    "\n",
    "    if len(f3_matches) > 0:\n",
    "        pseudo_phase = [*pair, *f3_matches]\n",
    "        pseudo_phases.append(pseudo_phase)\n",
    "\n"
   ]
  },
  {
   "cell_type": "code",
   "execution_count": null,
   "metadata": {},
   "outputs": [],
   "source": [
    "# Reduce to unique features\n",
    "for i, pseudo_phase in enumerate(pseudo_phases):\n",
    "    pseudo_phases[i] = list(np.unique(np.array(pseudo_phase)))"
   ]
  },
  {
   "cell_type": "code",
   "execution_count": null,
   "metadata": {},
   "outputs": [],
   "source": [
    "plot_map = np.zeros_like(features[0])\n",
    "\n",
    "for i in pseudo_phases[-1]:\n",
    "    plot_map += features[i]\n",
    "\n",
    "test.plot_map(plot_map.reshape(test.map.map_shape[::-1]).T)"
   ]
  },
  {
   "cell_type": "code",
   "execution_count": null,
   "metadata": {},
   "outputs": [],
   "source": []
  },
  {
   "cell_type": "code",
   "execution_count": null,
   "metadata": {},
   "outputs": [],
   "source": []
  },
  {
   "cell_type": "code",
   "execution_count": null,
   "metadata": {},
   "outputs": [],
   "source": []
  },
  {
   "cell_type": "code",
   "execution_count": null,
   "metadata": {},
   "outputs": [],
   "source": [
    "ext = np.max(np.abs([np.min(correlations), np.max(correlations)]))\n",
    "\n",
    "fig, ax = plt.subplots(1, 1, figsize=(5, 5), dpi=200)\n",
    "\n",
    "im = ax.imshow(correlations, vmin=-ext, vmax=ext, cmap='bwr')\n",
    "fig.colorbar(im, ax=ax)\n",
    "\n",
    "fig.show()"
   ]
  },
  {
   "cell_type": "code",
   "execution_count": null,
   "metadata": {},
   "outputs": [],
   "source": [
    "ext = np.max(np.abs([np.min(correlations), np.max(correlations)]))\n",
    "\n",
    "fig, ax = plt.subplots(1, 1, figsize=(5, 5), dpi=200)\n",
    "\n",
    "im = ax.imshow(np.max(projections, axis=-1))\n",
    "fig.colorbar(im, ax=ax)\n",
    "\n",
    "fig.show()"
   ]
  },
  {
   "cell_type": "code",
   "execution_count": null,
   "metadata": {},
   "outputs": [
    {
     "data": {
      "text/plain": [
       "dict_keys(['S_K', 'Ga_K', 'Si_K', 'Sb_L', 'Ni_K', 'Fe_K', 'Ar_K', 'W_L', 'Pt_L', 'compton', 'elastic', 'snip_bkg', 'r_factor', 'sel_cnt', 'total_cnt', 'i0'])"
      ]
     },
     "execution_count": 424,
     "metadata": {},
     "output_type": "execute_result"
    }
   ],
   "source": [
    "xrf_dict.keys()"
   ]
  },
  {
   "cell_type": "code",
   "execution_count": null,
   "metadata": {},
   "outputs": [],
   "source": [
    "from xrdmaptools.plot.interactive_plotting import interactive_dynamic_2d_plot\n",
    "\n",
    "interactive_dynamic_2d_plot(np.transpose(projections.reshape(61, 61, *test.map.map_shape[::-1]), (0, 1, 3, 2)),\n",
    "                                display_map=np.max(projections, axis=-1), display_title=None,\n",
    "                                map_vmin=None, map_vmax=None,\n",
    "                                cmap='viridis', marker_color='red')"
   ]
  },
  {
   "cell_type": "code",
   "execution_count": null,
   "metadata": {},
   "outputs": [
    {
     "data": {
      "text/plain": [
       "(81, 41, 3086)"
      ]
     },
     "execution_count": 452,
     "metadata": {},
     "output_type": "execute_result"
    }
   ],
   "source": []
  },
  {
   "cell_type": "code",
   "execution_count": null,
   "metadata": {},
   "outputs": [],
   "source": [
    "from skimage.transform import resize\n",
    "\n",
    "X = np.vstack([rescale_array(resize(xrfmap.copy().T[:2048], (1024, 41, 81))), rescale_array(resize(test.map.integrations.copy().T, (1000, 41, 81)))])\n",
    "X = X.astype(np.float16)"
   ]
  },
  {
   "cell_type": "code",
   "execution_count": null,
   "metadata": {},
   "outputs": [],
   "source": []
  },
  {
   "cell_type": "code",
   "execution_count": null,
   "metadata": {},
   "outputs": [],
   "source": [
    "raw_projections = X[:, np.newaxis] * X[np.newaxis, :]"
   ]
  },
  {
   "cell_type": "code",
   "execution_count": null,
   "metadata": {},
   "outputs": [
    {
     "data": {
      "text/plain": [
       "(2024, 2024, 41, 81)"
      ]
     },
     "execution_count": 28,
     "metadata": {},
     "output_type": "execute_result"
    }
   ],
   "source": [
    "raw_projections"
   ]
  },
  {
   "cell_type": "code",
   "execution_count": null,
   "metadata": {},
   "outputs": [],
   "source": [
    "max_projections = np.max(raw_projections, axis=(2, 3))"
   ]
  },
  {
   "cell_type": "code",
   "execution_count": null,
   "metadata": {},
   "outputs": [],
   "source": [
    "fig, ax = plt.subplots(1, 1, figsize=(5, 5), dpi=200)\n",
    "\n",
    "im = ax.imshow(np.max(raw_projections, axis=(2, 3)))\n",
    "fig.colorbar(im, ax=ax)\n",
    "\n",
    "fig.show()"
   ]
  },
  {
   "cell_type": "code",
   "execution_count": null,
   "metadata": {},
   "outputs": [],
   "source": []
  },
  {
   "cell_type": "code",
   "execution_count": null,
   "metadata": {},
   "outputs": [],
   "source": []
  },
  {
   "cell_type": "code",
   "execution_count": null,
   "metadata": {},
   "outputs": [],
   "source": [
    "from xrdmaptools.utilities.utilities import label_nearest_spots\n",
    "\n",
    "out = label_nearest_spots(features.T, max_dist=1)"
   ]
  },
  {
   "cell_type": "code",
   "execution_count": null,
   "metadata": {},
   "outputs": [
    {
     "data": {
      "text/plain": [
       "array([1., 2.])"
      ]
     },
     "execution_count": 287,
     "metadata": {},
     "output_type": "execute_result"
    }
   ],
   "source": [
    "np.unique(out[:, -1])"
   ]
  },
  {
   "cell_type": "code",
   "execution_count": null,
   "metadata": {},
   "outputs": [
    {
     "data": {
      "text/plain": [
       "(3321, 57)"
      ]
     },
     "execution_count": 275,
     "metadata": {},
     "output_type": "execute_result"
    }
   ],
   "source": [
    "out.shape"
   ]
  },
  {
   "cell_type": "code",
   "execution_count": null,
   "metadata": {},
   "outputs": [],
   "source": [
    "test.plot_map(out[:, -1].reshape(test.map.map_shape[::-1]).T, cmap='tab20')"
   ]
  },
  {
   "cell_type": "code",
   "execution_count": null,
   "metadata": {},
   "outputs": [],
   "source": [
    "from sklearn.manifold import TSNE, Isomap\n",
    "\n",
    "tsne = TSNE(n_components=3)\n",
    "out = tsne.fit_transform(features.T)"
   ]
  },
  {
   "cell_type": "code",
   "execution_count": null,
   "metadata": {},
   "outputs": [],
   "source": [
    "fig, ax = plt.subplots(1, 1, figsize=(5, 5), dpi=200)\n",
    "\n",
    "ax.scatter(out[:, 0], out[:, 1], s=1, c='k')\n",
    "\n",
    "fig.show()"
   ]
  },
  {
   "cell_type": "code",
   "execution_count": null,
   "metadata": {},
   "outputs": [],
   "source": [
    "fig, ax = plt.subplots(1, 1, figsize=(5, 5), dpi=200, subplot_kw={'projection':'3d'})\n",
    "\n",
    "ax.scatter(out[:, 0], out[:, 1], out[:, 2], s=1, c='k')\n",
    "\n",
    "fig.show()"
   ]
  },
  {
   "cell_type": "code",
   "execution_count": null,
   "metadata": {},
   "outputs": [
    {
     "data": {
      "text/plain": [
       "dict_keys(['S_K', 'Ga_K', 'Si_K', 'Sb_L', 'Ni_K', 'Fe_K', 'Ar_K', 'W_L', 'Pt_L', 'compton', 'elastic', 'snip_bkg', 'r_factor', 'sel_cnt', 'total_cnt', 'i0'])"
      ]
     },
     "execution_count": 308,
     "metadata": {},
     "output_type": "execute_result"
    }
   ],
   "source": [
    "xrf_dict.keys()"
   ]
  },
  {
   "cell_type": "code",
   "execution_count": null,
   "metadata": {},
   "outputs": [],
   "source": [
    "fig, ax = plt.subplots(1, 1, figsize=(5, 5), dpi=200)\n",
    "\n",
    "ax.scatter(out[:, 0], out[:, 1], s=1, c=features[7])\n",
    "\n",
    "fig.show()"
   ]
  },
  {
   "cell_type": "code",
   "execution_count": null,
   "metadata": {},
   "outputs": [],
   "source": [
    "X = np.vstack([rescale_array(xrfmap.copy().T, arr_min=0, upper=100), test.map.integrations.copy().T])\n",
    "X = X.reshape(-1, test.map.num_images)"
   ]
  },
  {
   "cell_type": "code",
   "execution_count": null,
   "metadata": {},
   "outputs": [],
   "source": [
    "from sklearn.cluster import KMeans\n",
    "\n",
    "\n",
    "kmeans = KMeans(n_clusters=15).fit(features.T)\n",
    "#kmeans = KMeans(n_clusters=4).fit(out)\n",
    "#kmeans = KMeans(n_clusters=6).fit(X.T)"
   ]
  },
  {
   "cell_type": "code",
   "execution_count": null,
   "metadata": {},
   "outputs": [],
   "source": [
    "from sklearn.cluster import SpectralClustering\n",
    "\n",
    "kmeans = SpectralClustering(n_clusters=6).fit(features.T)"
   ]
  },
  {
   "cell_type": "code",
   "execution_count": null,
   "metadata": {},
   "outputs": [],
   "source": [
    "test.plot_map(kmeans.labels_.reshape(test.map.map_shape[::-1]).T, cmap='tab20')"
   ]
  },
  {
   "cell_type": "code",
   "execution_count": null,
   "metadata": {},
   "outputs": [
    {
     "data": {
      "text/plain": [
       "(56, 3321)"
      ]
     },
     "execution_count": 346,
     "metadata": {},
     "output_type": "execute_result"
    }
   ],
   "source": [
    "features"
   ]
  },
  {
   "cell_type": "code",
   "execution_count": null,
   "metadata": {},
   "outputs": [
    {
     "name": "stdout",
     "output_type": "stream",
     "text": [
      "Extracting the top 24 eigenpatterns from 56 patterns\n",
      "done in 0.040s\n"
     ]
    }
   ],
   "source": [
    "from sklearn.decomposition import PCA\n",
    "\n",
    "n_components = 24\n",
    "\n",
    "X = features.reshape(-1, *test.map.map_shape[::-1])\n",
    "\n",
    "h, w = X.shape[1], X.shape[2]\n",
    "\n",
    "print(\"Extracting the top %d eigenpatterns from %d patterns\"\n",
    "      % (n_components, X.shape[0]))\n",
    "t0 = ttime.time()\n",
    "pca = PCA(n_components=n_components, svd_solver='randomized',\n",
    "          whiten=True).fit(X.reshape(len(X), h * w))\n",
    "\n",
    "x_pca = PCA(n_components=n_components, svd_solver='randomized',\n",
    "          whiten=True).fit_transform(X.reshape(len(X), h * w))\n",
    "\n",
    "eigen = pca.components_.reshape((n_components, h, w))\n",
    "\n",
    "print(\"done in %0.3fs\" % (ttime.time() - t0))"
   ]
  },
  {
   "cell_type": "code",
   "execution_count": null,
   "metadata": {},
   "outputs": [
    {
     "name": "stdout",
     "output_type": "stream",
     "text": [
      "Extracting the top 6 eigenpatterns from 56 patterns\n",
      "done in 0.233s\n"
     ]
    },
    {
     "name": "stderr",
     "output_type": "stream",
     "text": [
      "c:\\Users\\emusterma\\AppData\\Local\\anaconda3\\envs\\sXRDMap-py311-1.0\\Lib\\site-packages\\sklearn\\decomposition\\_nmf.py:1770: ConvergenceWarning: Maximum number of iterations 200 reached. Increase it to improve convergence.\n",
      "  warnings.warn(\n",
      "c:\\Users\\emusterma\\AppData\\Local\\anaconda3\\envs\\sXRDMap-py311-1.0\\Lib\\site-packages\\sklearn\\decomposition\\_nmf.py:1770: ConvergenceWarning: Maximum number of iterations 200 reached. Increase it to improve convergence.\n",
      "  warnings.warn(\n"
     ]
    }
   ],
   "source": [
    "from sklearn.decomposition import NMF\n",
    "\n",
    "n_components = 6\n",
    "\n",
    "h, w = X.shape[1], X.shape[2]\n",
    "\n",
    "print(\"Extracting the top %d eigenpatterns from %d patterns\"\n",
    "      % (n_components, X.shape[0]))\n",
    "t0 = ttime.time()\n",
    "pca = NMF(n_components=n_components).fit(X.reshape(len(X), h * w))\n",
    "\n",
    "x_pca = NMF(n_components=n_components).fit_transform(X.reshape(len(X), h * w))\n",
    "\n",
    "eigen = pca.components_.reshape((n_components, h, w))\n",
    "\n",
    "print(\"done in %0.3fs\" % (ttime.time() - t0))"
   ]
  },
  {
   "cell_type": "code",
   "execution_count": null,
   "metadata": {},
   "outputs": [
    {
     "data": {
      "text/plain": [
       "(12, 41, 81)"
      ]
     },
     "execution_count": 354,
     "metadata": {},
     "output_type": "execute_result"
    }
   ],
   "source": [
    "eigen.shape"
   ]
  },
  {
   "cell_type": "code",
   "execution_count": null,
   "metadata": {},
   "outputs": [],
   "source": [
    "fig, ax = plt.subplots(6, 1, figsize=(5, 5), dpi=200)\n",
    "\n",
    "for i, axi in enumerate(ax):\n",
    "    axi.imshow(eigen[i])\n",
    "    axi.set_xticks([])\n",
    "    axi.set_yticks([])\n",
    "\n",
    "fig.show()"
   ]
  },
  {
   "cell_type": "code",
   "execution_count": null,
   "metadata": {},
   "outputs": [],
   "source": []
  },
  {
   "cell_type": "code",
   "execution_count": null,
   "metadata": {},
   "outputs": [],
   "source": []
  },
  {
   "cell_type": "code",
   "execution_count": null,
   "metadata": {},
   "outputs": [],
   "source": []
  },
  {
   "cell_type": "code",
   "execution_count": null,
   "metadata": {},
   "outputs": [],
   "source": []
  },
  {
   "cell_type": "code",
   "execution_count": null,
   "metadata": {},
   "outputs": [],
   "source": []
  },
  {
   "cell_type": "code",
   "execution_count": null,
   "metadata": {},
   "outputs": [],
   "source": []
  },
  {
   "cell_type": "code",
   "execution_count": null,
   "metadata": {},
   "outputs": [],
   "source": []
  },
  {
   "cell_type": "code",
   "execution_count": null,
   "metadata": {},
   "outputs": [],
   "source": []
  },
  {
   "cell_type": "code",
   "execution_count": null,
   "metadata": {},
   "outputs": [],
   "source": [
    "blob_image = test_image * out[1]\n",
    "tth, xrd_blob = test.integrate1d_image(blob_image)"
   ]
  },
  {
   "cell_type": "code",
   "execution_count": null,
   "metadata": {},
   "outputs": [],
   "source": [
    "# bad azimuthal integration for testing...\n",
    "\n",
    "tth_step = np.mean(np.diff(test.tth))\n",
    "\n",
    "tth_arr = test.tth_arr\n",
    "\n",
    "xrd_int = []\n",
    "xrd_count = []\n",
    "xrd_mean = []\n",
    "\n",
    "for tth_i in test.tth:    \n",
    "    tth_mask = np.all([tth_arr > tth_i - tth_step / 2,\n",
    "                       tth_arr < tth_i + tth_step / 2], axis=0)\n",
    "    \n",
    "    xrd_num = np.sum(tth_mask)\n",
    "    if xrd_num > 0:\n",
    "        xrd_sum = np.max(test_image[tth_mask])\n",
    "    else:\n",
    "        xrd_sum = 0\n",
    "    \n",
    "\n",
    "    xrd_int.append(xrd_sum)\n",
    "    xrd_count.append(xrd_num)\n",
    "    xrd_mean.append(xrd_sum / xrd_num)"
   ]
  },
  {
   "cell_type": "code",
   "execution_count": null,
   "metadata": {},
   "outputs": [],
   "source": []
  },
  {
   "cell_type": "code",
   "execution_count": null,
   "metadata": {},
   "outputs": [
    {
     "name": "stdout",
     "output_type": "stream",
     "text": [
      "[0, 9.229291336271558, 9.79391082638766, 0.1, 36.35607901077193, 9.947146203273547, 0.1, 4.538280049707817, 10.003918314667498, 0.1, 100.0, 10.287225195166958, 0.1, 52.062489968299765, 11.203251751192864, 0.1, 1.658225681571489, 11.362641176238784, 0.1, 48.06295385493908, 11.393796968970216, 0.1, 9.900411012398704, 11.643708106935721, 0.1, 5.248101535050058, 11.661966917135357, 0.1, 1.1602521706592916, 12.582758827750855, 0.1, 2.2555150424646198, 12.672729437925394, 0.1, 25.048460183122817, 12.876186484052784, 0.1, 4.234661867419972, 12.977123761304796, 0.1, 52.24625259837442, 13.05898401587513, 0.1, 33.33036447295974, 13.28339128375106, 0.1, 1.5935045076294014, 13.397236314228078, 0.1, 41.25420645687469, 13.610946139998532, 0.1, 14.705669354514475, 13.652674016230323, 0.1, 23.458776258920437, 14.095268845670564, 0.1, 0.6725457075094272, 14.155715299043614, 0.1, 17.725053635792502, 14.681782907483074, 0.1, 35.33326441299243, 14.706014883021318, 0.1, 1.7257650652317706, 15.649282671353227, 0.1, 2.306852921500831, 15.787086132645534, 0.1, 5.7719032854791426, 15.818684655193904, 0.1, 17.931715424711676, 15.969488755404214, 0.1, 61.23857935071234, 16.036375161538707, 0.1, 4.251991386193318, 16.064688742631795, 0.1, 0.5241798304445701, 16.170964146582044, 0.1, 2.414579572329845, 16.314221884824995, 0.1, 15.93357330009175, 16.894661000175056, 0.1, 17.120838195521763, 16.945347970694453, 0.1, 26.27433699778584, 16.984815613821585, 0.1, 15.502922148645673, 17.07296727401247, 0.1, 2.757901162282604, 17.894960865017655, 0.1, 23.011302971339724, 18.336022697512714, 0.1, 18.530199155955085, 18.363356734390372, 0.1, 20.838793571700013, 18.398442879440058, 0.1, 0.024508615274610082, 18.4193391652406, 0.1, 5.756968566746384, 18.481487665482618, 0.1, 17.967840019423974, 18.576631650315665, 0.1, 16.902923609462476, 18.59537377982919, 0.1, 0.8541372970246943, 18.669021522781808, 0.1, 0.020868790995499542, 18.92210652036114, 0.1, 0.0008386209498547027, 19.05810707475534, 0.1, 92.47442011563821, 19.131215359034158, 0.1, 7.232517789130119, 19.189302939858628, 0.1, 0.7892747253994127, 19.319777285780464, 0.1, 19.448760933130686, 19.38134681764289, 0.1, 10.465153972073258, 19.458989192072377, 0.1, 55.01237193848755, 19.645672922772178, 0.1, 0.7316677337611687, 19.660293554230627, 0.1, 6.182418181975613, 19.903523561626805, 0.1, 1.8717343244511477, 19.914353670670945, 0.1, 2.6428467238546154, 19.970250724967194, 0.1, 4.644009455542672, 20.0851148577987, 0.1, 2.7479479786824066, 20.187227809358344, 0.1, 0.17669695315342177, 20.263210192176537, 0.1, 0.660610159442177, 20.29513165486378, 0.1, 17.939747315335346, 20.65555302434335, 0.1, 27.72850376225603, 20.658547548068302, 0.1, 4.238189451224543, 20.711240411018682, 0.1, 0.053930224137059224, 21.107110572628006, 0.1, 27.949365236581812, 21.13051381528568, 0.1, 14.296636668125856, 21.157777672302583, 0.1, 1.5724166128108914, 21.210535747721224, 0.1, 1.5396774455516538, 21.302088030169926, 0.1, 11.638133093478285, 21.34804581111013, 0.1, 4.0009837530922185, 21.465928198089397, 0.1, 19.49695041481491, 21.844978860571395, 0.1, 15.18239165952536, 21.861491646744536, 0.1, 10.92792672841607, 22.055795270275606, 0.1, 6.401436122691476, 22.160319027342073, 0.1, 1.7301692822933357, 22.32258825419624, 0.1, 1.1279934152473206, 22.343189689483204, 0.1, 15.200231822226918, 22.351699260314568, 0.1, 0.14028230271481548, 22.420671664124885, 0.1, 3.463251513239122, 22.497900511483454, 0.1, 1.3709792273758095, 22.515417994244384, 0.1, 1.7230266996807049, 22.566726768659574, 0.1, 18.476169565582985, 22.74214743693541, 0.1, 43.064903622234, 22.78979912840052, 0.1, 1.460741432965287, 22.838967824022443, 0.1, 8.551684340659339, 22.902228258734453, 0.1, 1.9311871846538886, 22.988799802385284, 0.1, 0.31071806797126317, 23.02185481946473, 0.1, 2.204094034277867, 23.162897606505904, 0.1, 2.814139315684381, 23.18974570207165, 0.1, 8.250015475439097, 23.2738913160954, 0.1, 5.900675658120509, 23.409856863470623, 0.1, 19.625510072827034, 23.446958570242987, 0.1, 3.21792418122424, 24.11279664556147, 0.1, 5.95104647955456, 24.168800609568272, 0.1, 6.610612940199781, 24.2328787542489, 0.1, 0.9032831983234404, 24.234661859334242, 0.1, 10.829593143049687, 24.306438503882593, 0.1, 9.160928680390043, 24.37801661325413, 0.1, 25.850480558274914, 24.484489509577, 0.1, 18.65689574481153, 24.505244312867976, 0.1, 18.940212824389434, 24.667639794185778, 0.1, 2.5517831103485356, 24.694549786778495, 0.1, 0.7224256660479238, 24.73823689149411, 0.1, 8.094194186704543, 24.753333859391752, 0.1, 1.8410091911478341, 24.783756149746615, 0.1, 4.933880341359806, 24.815994627295062, 0.1, 13.96385928175589, 24.864557752315203, 0.1, 1.6590378062333186, 24.995796863296935, 0.1, 8.566981984776973, 25.287419062088873, 0.1, 0.13007139819505076, 25.32051940581832, 0.1, 3.829902338001116, 25.347787175029715, 0.1, 5.183699675255536, 25.503858956385166, 0.1, 2.2160081722744405, 25.523732676434005, 0.1, 0.3214208147448362, 25.566494170345095, 0.1, 0.2791896540415638, 25.660335473841577, 0.1, 1.4815314294523116, 25.70288499896164, 0.1, 2.441269183974476, 25.882454571573636, 0.1, 1.7503521679258376, 25.91864449123619, 0.1, 7.715104237418386, 25.99487229297778, 0.1, 2.62444836394556, 26.124521308671167, 0.1, 21.332535120551803, 26.290022088028497, 0.1, 0.654255507992614, 26.291535523576282, 0.1, 1.8491229307017725, 26.334395358560442, 0.1, 1.1986034366484912, 26.511485294901785, 0.1, 4.301777304455613, 26.54176299478873, 0.1, 0.054049058137393136, 26.651108938682054, 0.1, 0.8233917819496333, 26.74960175654002, 0.1, 9.837245880002095, 26.844938006176054, 0.1, 4.359072976254684, 26.94006119642953, 0.1, 3.5698782028336664, 26.982111558630976, 0.1, 0.5354763876317499, 27.016218180593544, 0.1, 3.0249399016911966, 27.09828757070505, 0.1, 2.8576820349549283, 27.207638856626104, 0.1, 1.1347482123106365, 27.246342975466018, 0.1, 0.8726196125097625, 27.247941593180713, 0.1, 5.8978654093692535, 27.32936782006079, 0.1, 2.381860993830338, 27.336414449075676, 0.1, 1.0676461687329568, 27.3765421254, 0.1, 0.1665703034940204, 27.393561307586925, 0.1, 11.592974378814613, 27.418811990874698, 0.1, 5.059692204054819, 27.50411574497438, 0.1, 1.971824201697106, 27.636819737105952, 0.1, 17.913825335901578, 27.66066159643645, 0.1, 3.168953473125406, 27.774586999989044, 0.1, 6.614845951215363, 27.932456723410684, 0.1, 0.560675311372858, 28.23503869811421, 0.1, 2.488382587907783, 28.351429662890922, 0.1, 1.0336863864905927, 28.409642839705185, 0.1, 31.527153127716122, 28.416303222594003, 0.1, 9.008793998340172, 28.421245438830468, 0.1, 0.814021169071055, 28.533419351892938, 0.1, 6.347588929314112, 28.586377607626297, 0.1, 3.134761193191711, 28.69656417004542, 0.1, 0.28942445538661443, 28.730769721978497, 0.1, 6.527152680189275, 28.773137174746587, 0.1, 3.0357894229037665, 28.837058185211387, 0.1, 3.9787702757470194, 28.915877553937143, 0.1, 0.44692508690023036, 28.934697464855763, 0.1, 9.792309498931166, 28.953853471879185, 0.1, 8.771924333133198, 28.96147060653754, 0.1, 4.079214625625991, 28.97683637110505, 0.1, 0.4513888887118782, 29.224007664139435, 0.1, 0.6112179530424595, 29.270577212035313, 0.1, 12.981518941153158, 29.284380878693426, 0.1, 9.109226549154915, 29.344640871582985, 0.1, 0.7584446946440448, 29.350933252631673, 0.1, 0.4353642593900137, 29.383520698057918, 0.1, 0.6009277968417446, 29.463596085725587, 0.1, 2.6619300560581265, 29.48993103720245, 0.1, 2.2604534095962334, 29.61175839474806, 0.1, 4.943405724823472, 29.661478047185767, 0.1, 2.495212470739928, 29.676594407589327, 0.1, 16.682657123819407, 29.755646612528743, 0.1, 45.29701499777147, 29.830085060310434, 0.1, 6.359798648906921, 29.849849747925, 0.1, 0.7469694242674508, 29.866920123511584, 0.1, 3.3914027483875944, 29.94361304464572, 0.1, 0.16929116098919736, 30.018319581938677, 0.1, 1.7308554120071054, 30.061617695087207, 0.1, 0.06268308405358537, 30.114014586867093, 0.1, 0.13612669417094145, 30.150657439402526, 0.1, 3.553276915333519, 30.24986621253456, 0.1, 0.04552713648373924, 30.274348741386564, 0.1, 0.9754219772725942, 30.326412619868876, 0.1, 3.206971289102985, 30.35206728405494, 0.1, 60.4497212428292, 30.364228970892473, 0.1, 2.8284089324465698, 30.444516851352294, 0.1, 1.1265421551277144, 30.62305604687572, 0.1, 5.578779718565893, 30.719451625551642, 0.1, 0.701675974491378, 30.765394094152935, 0.1, 1.0720151835458354, 30.84221112048223, 0.1, 1.5712271497306036, 30.849274459414605, 0.1, 1.6626281468613384, 30.873368807406607, 0.1, 1.1624056859820975, 30.949944199583836, 0.1, 6.7473038295659205, 31.018977409773267, 0.1, 69.3930261808842, 31.05474168517783, 0.1, 0.4054124610253053, 31.16389551861008, 0.1, 2.428326045497667, 31.190016589192886, 0.1, 2.2917708325827153, 31.204461839360395, 0.1, 1.4673237786796163, 31.345084391671172, 0.1, 0.962524451521872, 31.480929057455715, 0.1, 1.1955757304997963, 31.49835549450325, 0.1, 30.760658297595644, 31.52314922153188, 0.1, 2.126976056268668, 31.551352387781755, 0.1, 0.7543410199439468, 31.572616679885442, 0.1, 2.0242797782105586, 31.587564994265172, 0.1, 0.5825723634661971, 31.600364345689947, 0.1, 1.015099462816922, 31.60773175064079, 0.1, 1.0923177700473425, 31.750193558503803, 0.1, 2.218360628104392, 31.76645722226591, 0.1, 2.497654471170148, 31.776210086872762, 0.1, 1.0091082204262878, 31.800319733568234, 0.1, 0.8760474978521423, 31.801465871893473, 0.1, 2.720349512323684, 31.87836374992258, 0.1, 0.33043445377703484, 31.884202796236547, 0.1, 0.4514139439505691, 31.913262517299177, 0.1, 0.6139702334143309, 31.949308930607256, 0.1, 0.23798399118932692, 31.96548191636346, 0.1, 0.036137670970488346, 32.032842924959766, 0.1, 1.3151810796072372, 32.194631103218384, 0.1, 2.355006326149878, 32.26014013803239, 0.1, 4.577028737197798, 32.347751478319324, 0.1, 9.08101438884555, 32.363830671143376, 0.1, 1.5803764159053435, 32.38449346294649, 0.1, 7.662928218279533, 32.398063248024954, 0.1, 0.1045609648989984, 32.45645837125942, 0.1, 7.225936314765315, 32.489836594669626, 0.1, 0.724621044878154, 32.54472130336295, 0.1, 0.0417140231044872, 32.67570447498249, 0.1, 1.5835377656632905, 32.754310556821345, 0.1, 0.08919516271883743, 32.82324641936671, 0.1, 1.81263686329371, 32.901704950676844, 0.1, 0.7798981990518504, 32.95003131530501, 0.1, 5.686398796641564, 32.971394212056126, 0.1, 35.763225439718205, 32.9738487879031, 0.1, 1.3896994512537273, 32.98752041142457, 0.1, 20.978538850280216, 33.021251292480684, 0.1, 2.078170612258761, 33.068315747855976, 0.1, 3.061204914182325, 33.192024545551284, 0.1, 0.6754782539285695, 33.192258201321174, 0.1, 0.13748743367056052, 33.2603883901768, 0.1, 1.466547994208881, 33.26148963314097, 0.1, 2.9654769569131787, 33.27301008057782, 0.1, 4.864112003786075, 33.31524443608096, 0.1, 1.5635865989195246, 33.335697381486554, 0.1, 1.4564107004905602, 33.35127105031861, 0.1, 0.1814384806597602, 33.4638102588156, 0.1, 3.838108239248573, 33.471704591739055, 0.1, 1.2130123102565658, 33.57199416410074, 0.1, 1.4401654325135178, 33.7668409910844, 0.1, 8.037365751212052, 33.8022123505836, 0.1, 0.26775551541257014, 33.8243412551225, 0.1, 0.020882365056330742, 33.97063093936453, 0.1, 0.2048664980927139, 34.00361745860564, 0.1, 2.15642886143295, 34.03576756707767, 0.1, 0.03734211485421092, 34.055330670111324, 0.1, 3.5440962074399693, 34.17123365600541, 0.1, 2.014945075214682, 34.17810696600885, 0.1, 10.501556778091524, 34.21079951388086, 0.1, 1.6485915438075538, 34.27614889691079, 0.1, 1.4007010102923354, 34.28725051666466, 0.1, 0.6947700359443665, 34.30045914218393, 0.1, 1.4625267083428726, 34.35785735609191, 0.1, 4.173229527554981, 34.44370516751297, 0.1, 0.720730039783636, 34.540404544511, 0.1, 0.3224467957385847, 34.55333192936002, 0.1, 1.7392866298530147, 34.60011081056973, 0.1, 3.1877436546284548, 34.61720082326793, 0.1, 1.237852053949824, 34.65074639698112, 0.1, 4.356554146695733, 34.67353139908069, 0.1, 6.87270607324849, 34.74261869703855, 0.1, 1.7695891816352949, 34.79662596730946, 0.1, 0.3755574102895552, 34.85024905416702, 0.1, 2.114372518074344, 34.86960585671463, 0.1, 0.5044162838050616, 34.9037299086618, 0.1, 0.8749568450018859, 34.97241966449365, 0.1, 1.7726223508351715, 35.00029126768868, 0.1, 1.07892934166692, 35.06881595147138, 0.1, 0.44058886039871176, 35.229893203278245, 0.1, 0.4432181925213519, 35.286607441033176, 0.1, 0.9289591379871679, 35.31851584940306, 0.1, 2.327303654939692, 35.43298701100968, 0.1, 0.7470805294585715, 35.484816511906025, 0.1, 2.7804686911615075, 35.490198113996634, 0.1, 1.072767741701706, 35.544953942668734, 0.1, 0.8863053344525567, 35.62734095489733, 0.1, 1.1711423533928478, 35.65890706845911, 0.1, 1.3273152109686954, 35.66131237567955, 0.1, 0.052836020310432996, 35.681061253957246, 0.1, 0.08787368960925464, 35.72529730862823, 0.1, 2.50705995977516, 35.8104576563825, 0.1, 0.8220973818300195, 35.83805709756328, 0.1, 0.7480212079139509, 35.850575973041764, 0.1, 2.375817442935066, 35.88289724827376, 0.1, 0.6417129905980264, 35.92691791112547, 0.1, 1.8132463171873319, 35.94492225580661, 0.1, 0.517735451512002, 36.10567531227709, 0.1, 1.6165037290742483, 36.15146889042476, 0.1, 1.0556013465497591, 36.20145158770134, 0.1, 0.2067035228054898, 36.24601504568828, 0.1, 5.5098541575109445, 36.2513747830902, 0.1, 0.5813140738474282, 36.422222277996404, 0.1, 2.2264251558054724, 36.473080110877106, 0.1, 0.3175467185380755, 36.504960804372054, 0.1, 0.4143052276392137, 36.50619108374798, 0.1, 12.409032369000585, 36.51441993127204, 0.1, 0.19567567640778674, 36.57103556337907, 0.1, 1.5750282329840926, 36.592779316335886, 0.1, 0.3274367361771372, 36.6094602794855, 0.1, 0.18445167483815542, 36.65348486510677, 0.1, 3.2323459020625944, 36.68547628915158, 0.1, 1.1034495191756053, 36.6934526163426, 0.1, 1.2055666460320886, 36.75343721952278, 0.1, 1.536381392271175, 36.826969170295364, 0.1, 0.5342603034298993, 36.90475789590584, 0.1, 0.1535605178549955, 36.943849827306984, 0.1, 0.4731371521839164, 36.986780484346525, 0.1, 0.24517648174377724, 37.09050195740521, 0.1, 1.544061447238572, 37.13975702518604, 0.1, 3.443430050836136, 37.163822470722984, 0.1, 2.0048917344791786, 37.18249386709656, 0.1, 1.5660264422488475, 37.22076407042076, 0.1, 1.645528078045317, 37.23491344684548, 0.1, 0.022557557716136618, 37.29386542334838, 0.1, 4.667062315914297, 37.31830686962557, 0.1, 0.14888773144402684, 37.33740821323795, 0.1, 9.829032818824409, 37.39934197166316, 0.1, 0.7286780859928867, 37.43558358765493, 0.1, 0.14650951648997793, 37.43856050194552, 0.1, 0.008909574286937701, 37.466936066431096, 0.1, 0.22573663051572404, 37.4923825006014, 0.1, 0.25215838997344386, 37.65037985152891, 0.1, 0.5808701516254807, 37.663577307273506, 0.1, 0.26740587922666387, 37.6653061559552, 0.1, 41.94095413656848, 37.704393105316754, 0.1, 1.225218066336777, 37.743979788941594, 0.1, 2.7335825817551025, 37.77398482392355, 0.1, 7.237783169639606, 37.79605504242006, 0.1, 0.629946085219513, 37.80819697852752, 0.1, 2.625479254249965, 37.85802041399594, 0.1, 0.3270682182199227, 37.88833826258866, 0.1, 33.70302150192794, 37.98676174801469, 0.1, 2.4211546213624247, 37.987885563225895, 0.1, 0.4014865676427322, 38.09959355530022, 0.1, 0.21499150635654968, 38.143502552554644, 0.1, 15.621679145493639, 38.263389539328266, 0.1, 0.7989317272855426, 38.271329141347664, 0.1, 3.315955869478461, 38.28452435711017, 0.1, 0.5404974214390146, 38.31427677650937, 0.1, 2.0637641491884002, 38.373478882368005, 0.1, 0.5819483026694473, 38.37966338409588, 0.1, 0.0503777109426455, 38.386365903568425, 0.1, 5.6426692452285785, 38.40403843594191, 0.1, 2.196608145048912, 38.40935343834747, 0.1, 4.191141590169138, 38.4099748126801, 0.1, 0.2536985396071202, 38.52663495608057, 0.1, 2.0752064059424153, 38.55332585321088, 0.1, 0.20784379368771352, 38.55353109281505, 0.1, 1.11746610564524, 38.65080279933229, 0.1, 0.9644213708241898, 38.65197461748758, 0.1, 0.18113824617701876, 38.67055306910761, 0.1, 0.15864171658603626, 38.67959309893681, 0.1, 0.4140313665975647, 38.6842507793093, 0.1, 3.9794772962490947, 38.70497901025433, 0.1, 0.07442168796772088, 38.71170590618228, 0.1, 0.13277871432898383, 38.80799307574712, 0.1, 1.4891852002456736, 38.822783317376334, 0.1, 8.021507183122532, 38.823399103927414, 0.1, 1.1286850148331777, 38.8581717087245, 0.1, 0.16744359553196783, 38.900021060915876, 0.1, 0.08773068852992262, 38.94488115687332, 0.1, 0.5376613161622702, 39.00252206043083, 0.1, 1.0281257796736814, 39.03181216813584, 0.1, 26.871448693315287, 39.09111828910695, 0.1, 6.4032409209037775, 39.10671223707938, 0.1, 0.267814222289212, 39.16917477241443, 0.1, 0.05865114701189175, 39.217878331304384, 0.1, 0.061078486547509206, 39.268331214892385, 0.1, 5.605842647000664, 39.314030660683585, 0.1, 0.7910685687466529, 39.346764990866816, 0.1, 4.595392643429274, 39.39731832336207, 0.1, 1.8393458724857008, 39.50372520919378, 0.1, 6.319310770951107, 39.504332075912565, 0.1, 0.5886436594231075, 39.509354828738076, 0.1, 30.708253411131565, 39.51399341644104, 0.1, 0.7347627030037854, 39.52087623965504, 0.1, 8.733155498856252, 39.56352382173466, 0.1, 0.567061617557615, 39.57513621131784, 0.1, 1.5165193676224744, 39.607726993970296, 0.1, 0.5596639275856032, 39.60982234424592, 0.1, 0.3362086864259299, 39.63369738135332, 0.1, 0.26048750919329966, 39.711868128006294, 0.1, 0.7586638376263238, 39.832927831988535, 0.1, 0.6788907350811468, 39.865542212732315, 0.1, 0.44812061411375553, 39.892314252338245, 0.1, 0.46691395259472934, 39.893160006634005, 0.1, 1.067856257903627, 39.90054925051599, 0.1, 1.8557372884778587, 39.93120244138073, 0.1, 0.6056477055393629, 39.98621399531498, 0.1, 7.911871114436102, 40.036353773658234, 0.1, 42.61605437079172, 40.065010626706275, 0.1, 0.3720932118516962, 40.075972041124615, 0.1, 0.4377853086307658, 40.119729814848846, 0.1, 0.256516004186492, 40.12518432310718, 0.1, 1.5918921079030806, 40.18511410407035, 0.1, 0.08331646759374016, 40.22143415974192, 0.1]\n",
      "[0, 1, 9.79391082638766, 0.1, 1, 9.947146203273547, 0.1, 1, 10.003918314667498, 0.1, 1, 10.287225195166958, 0.1, 1, 11.203251751192864, 0.1, 1, 11.362641176238784, 0.1, 1, 11.393796968970216, 0.1, 1, 11.643708106935721, 0.1, 1, 11.661966917135357, 0.1, 1, 12.582758827750855, 0.1, 1, 12.672729437925394, 0.1, 1, 12.876186484052784, 0.1, 1, 12.977123761304796, 0.1, 1, 13.05898401587513, 0.1, 1, 13.28339128375106, 0.1, 1, 13.397236314228078, 0.1, 1, 13.610946139998532, 0.1, 1, 13.652674016230323, 0.1, 1, 14.095268845670564, 0.1, 1, 14.155715299043614, 0.1, 1, 14.681782907483074, 0.1, 1, 14.706014883021318, 0.1, 1, 15.649282671353227, 0.1, 1, 15.787086132645534, 0.1, 1, 15.818684655193904, 0.1, 1, 15.969488755404214, 0.1, 1, 16.036375161538707, 0.1, 1, 16.064688742631795, 0.1, 1, 16.170964146582044, 0.1, 1, 16.314221884824995, 0.1, 1, 16.894661000175056, 0.1, 1, 16.945347970694453, 0.1, 1, 16.984815613821585, 0.1, 1, 17.07296727401247, 0.1, 1, 17.894960865017655, 0.1, 1, 18.336022697512714, 0.1, 1, 18.363356734390372, 0.1, 1, 18.398442879440058, 0.1, 1, 18.4193391652406, 0.1, 1, 18.481487665482618, 0.1, 1, 18.576631650315665, 0.1, 1, 18.59537377982919, 0.1, 1, 18.669021522781808, 0.1, 1, 18.92210652036114, 0.1, 1, 19.05810707475534, 0.1, 1, 19.131215359034158, 0.1, 1, 19.189302939858628, 0.1, 1, 19.319777285780464, 0.1, 1, 19.38134681764289, 0.1, 1, 19.458989192072377, 0.1, 1, 19.645672922772178, 0.1, 1, 19.660293554230627, 0.1, 1, 19.903523561626805, 0.1, 1, 19.914353670670945, 0.1, 1, 19.970250724967194, 0.1, 1, 20.0851148577987, 0.1, 1, 20.187227809358344, 0.1, 1, 20.263210192176537, 0.1, 1, 20.29513165486378, 0.1, 1, 20.65555302434335, 0.1, 1, 20.658547548068302, 0.1, 1, 20.711240411018682, 0.1, 1, 21.107110572628006, 0.1, 1, 21.13051381528568, 0.1, 1, 21.157777672302583, 0.1, 1, 21.210535747721224, 0.1, 1, 21.302088030169926, 0.1, 1, 21.34804581111013, 0.1, 1, 21.465928198089397, 0.1, 1, 21.844978860571395, 0.1, 1, 21.861491646744536, 0.1, 1, 22.055795270275606, 0.1, 1, 22.160319027342073, 0.1, 1, 22.32258825419624, 0.1, 1, 22.343189689483204, 0.1, 1, 22.351699260314568, 0.1, 1, 22.420671664124885, 0.1, 1, 22.497900511483454, 0.1, 1, 22.515417994244384, 0.1, 1, 22.566726768659574, 0.1, 1, 22.74214743693541, 0.1, 1, 22.78979912840052, 0.1, 1, 22.838967824022443, 0.1, 1, 22.902228258734453, 0.1, 1, 22.988799802385284, 0.1, 1, 23.02185481946473, 0.1, 1, 23.162897606505904, 0.1, 1, 23.18974570207165, 0.1, 1, 23.2738913160954, 0.1, 1, 23.409856863470623, 0.1, 1, 23.446958570242987, 0.1, 1, 24.11279664556147, 0.1, 1, 24.168800609568272, 0.1, 1, 24.2328787542489, 0.1, 1, 24.234661859334242, 0.1, 1, 24.306438503882593, 0.1, 1, 24.37801661325413, 0.1, 1, 24.484489509577, 0.1, 1, 24.505244312867976, 0.1, 1, 24.667639794185778, 0.1, 1, 24.694549786778495, 0.1, 1, 24.73823689149411, 0.1, 1, 24.753333859391752, 0.1, 1, 24.783756149746615, 0.1, 1, 24.815994627295062, 0.1, 1, 24.864557752315203, 0.1, 1, 24.995796863296935, 0.1, 1, 25.287419062088873, 0.1, 1, 25.32051940581832, 0.1, 1, 25.347787175029715, 0.1, 1, 25.503858956385166, 0.1, 1, 25.523732676434005, 0.1, 1, 25.566494170345095, 0.1, 1, 25.660335473841577, 0.1, 1, 25.70288499896164, 0.1, 1, 25.882454571573636, 0.1, 1, 25.91864449123619, 0.1, 1, 25.99487229297778, 0.1, 1, 26.124521308671167, 0.1, 1, 26.290022088028497, 0.1, 1, 26.291535523576282, 0.1, 1, 26.334395358560442, 0.1, 1, 26.511485294901785, 0.1, 1, 26.54176299478873, 0.1, 1, 26.651108938682054, 0.1, 1, 26.74960175654002, 0.1, 1, 26.844938006176054, 0.1, 1, 26.94006119642953, 0.1, 1, 26.982111558630976, 0.1, 1, 27.016218180593544, 0.1, 1, 27.09828757070505, 0.1, 1, 27.207638856626104, 0.1, 1, 27.246342975466018, 0.1, 1, 27.247941593180713, 0.1, 1, 27.32936782006079, 0.1, 1, 27.336414449075676, 0.1, 1, 27.3765421254, 0.1, 1, 27.393561307586925, 0.1, 1, 27.418811990874698, 0.1, 1, 27.50411574497438, 0.1, 1, 27.636819737105952, 0.1, 1, 27.66066159643645, 0.1, 1, 27.774586999989044, 0.1, 1, 27.932456723410684, 0.1, 1, 28.23503869811421, 0.1, 1, 28.351429662890922, 0.1, 1, 28.409642839705185, 0.1, 1, 28.416303222594003, 0.1, 1, 28.421245438830468, 0.1, 1, 28.533419351892938, 0.1, 1, 28.586377607626297, 0.1, 1, 28.69656417004542, 0.1, 1, 28.730769721978497, 0.1, 1, 28.773137174746587, 0.1, 1, 28.837058185211387, 0.1, 1, 28.915877553937143, 0.1, 1, 28.934697464855763, 0.1, 1, 28.953853471879185, 0.1, 1, 28.96147060653754, 0.1, 1, 28.97683637110505, 0.1, 1, 29.224007664139435, 0.1, 1, 29.270577212035313, 0.1, 1, 29.284380878693426, 0.1, 1, 29.344640871582985, 0.1, 1, 29.350933252631673, 0.1, 1, 29.383520698057918, 0.1, 1, 29.463596085725587, 0.1, 1, 29.48993103720245, 0.1, 1, 29.61175839474806, 0.1, 1, 29.661478047185767, 0.1, 1, 29.676594407589327, 0.1, 1, 29.755646612528743, 0.1, 1, 29.830085060310434, 0.1, 1, 29.849849747925, 0.1, 1, 29.866920123511584, 0.1, 1, 29.94361304464572, 0.1, 1, 30.018319581938677, 0.1, 1, 30.061617695087207, 0.1, 1, 30.114014586867093, 0.1, 1, 30.150657439402526, 0.1, 1, 30.24986621253456, 0.1, 1, 30.274348741386564, 0.1, 1, 30.326412619868876, 0.1, 1, 30.35206728405494, 0.1, 1, 30.364228970892473, 0.1, 1, 30.444516851352294, 0.1, 1, 30.62305604687572, 0.1, 1, 30.719451625551642, 0.1, 1, 30.765394094152935, 0.1, 1, 30.84221112048223, 0.1, 1, 30.849274459414605, 0.1, 1, 30.873368807406607, 0.1, 1, 30.949944199583836, 0.1, 1, 31.018977409773267, 0.1, 1, 31.05474168517783, 0.1, 1, 31.16389551861008, 0.1, 1, 31.190016589192886, 0.1, 1, 31.204461839360395, 0.1, 1, 31.345084391671172, 0.1, 1, 31.480929057455715, 0.1, 1, 31.49835549450325, 0.1, 1, 31.52314922153188, 0.1, 1, 31.551352387781755, 0.1, 1, 31.572616679885442, 0.1, 1, 31.587564994265172, 0.1, 1, 31.600364345689947, 0.1, 1, 31.60773175064079, 0.1, 1, 31.750193558503803, 0.1, 1, 31.76645722226591, 0.1, 1, 31.776210086872762, 0.1, 1, 31.800319733568234, 0.1, 1, 31.801465871893473, 0.1, 1, 31.87836374992258, 0.1, 1, 31.884202796236547, 0.1, 1, 31.913262517299177, 0.1, 1, 31.949308930607256, 0.1, 1, 31.96548191636346, 0.1, 1, 32.032842924959766, 0.1, 1, 32.194631103218384, 0.1, 1, 32.26014013803239, 0.1, 1, 32.347751478319324, 0.1, 1, 32.363830671143376, 0.1, 1, 32.38449346294649, 0.1, 1, 32.398063248024954, 0.1, 1, 32.45645837125942, 0.1, 1, 32.489836594669626, 0.1, 1, 32.54472130336295, 0.1, 1, 32.67570447498249, 0.1, 1, 32.754310556821345, 0.1, 1, 32.82324641936671, 0.1, 1, 32.901704950676844, 0.1, 1, 32.95003131530501, 0.1, 1, 32.971394212056126, 0.1, 1, 32.9738487879031, 0.1, 1, 32.98752041142457, 0.1, 1, 33.021251292480684, 0.1, 1, 33.068315747855976, 0.1, 1, 33.192024545551284, 0.1, 1, 33.192258201321174, 0.1, 1, 33.2603883901768, 0.1, 1, 33.26148963314097, 0.1, 1, 33.27301008057782, 0.1, 1, 33.31524443608096, 0.1, 1, 33.335697381486554, 0.1, 1, 33.35127105031861, 0.1, 1, 33.4638102588156, 0.1, 1, 33.471704591739055, 0.1, 1, 33.57199416410074, 0.1, 1, 33.7668409910844, 0.1, 1, 33.8022123505836, 0.1, 1, 33.8243412551225, 0.1, 1, 33.97063093936453, 0.1, 1, 34.00361745860564, 0.1, 1, 34.03576756707767, 0.1, 1, 34.055330670111324, 0.1, 1, 34.17123365600541, 0.1, 1, 34.17810696600885, 0.1, 1, 34.21079951388086, 0.1, 1, 34.27614889691079, 0.1, 1, 34.28725051666466, 0.1, 1, 34.30045914218393, 0.1, 1, 34.35785735609191, 0.1, 1, 34.44370516751297, 0.1, 1, 34.540404544511, 0.1, 1, 34.55333192936002, 0.1, 1, 34.60011081056973, 0.1, 1, 34.61720082326793, 0.1, 1, 34.65074639698112, 0.1, 1, 34.67353139908069, 0.1, 1, 34.74261869703855, 0.1, 1, 34.79662596730946, 0.1, 1, 34.85024905416702, 0.1, 1, 34.86960585671463, 0.1, 1, 34.9037299086618, 0.1, 1, 34.97241966449365, 0.1, 1, 35.00029126768868, 0.1, 1, 35.06881595147138, 0.1, 1, 35.229893203278245, 0.1, 1, 35.286607441033176, 0.1, 1, 35.31851584940306, 0.1, 1, 35.43298701100968, 0.1, 1, 35.484816511906025, 0.1, 1, 35.490198113996634, 0.1, 1, 35.544953942668734, 0.1, 1, 35.62734095489733, 0.1, 1, 35.65890706845911, 0.1, 1, 35.66131237567955, 0.1, 1, 35.681061253957246, 0.1, 1, 35.72529730862823, 0.1, 1, 35.8104576563825, 0.1, 1, 35.83805709756328, 0.1, 1, 35.850575973041764, 0.1, 1, 35.88289724827376, 0.1, 1, 35.92691791112547, 0.1, 1, 35.94492225580661, 0.1, 1, 36.10567531227709, 0.1, 1, 36.15146889042476, 0.1, 1, 36.20145158770134, 0.1, 1, 36.24601504568828, 0.1, 1, 36.2513747830902, 0.1, 1, 36.422222277996404, 0.1, 1, 36.473080110877106, 0.1, 1, 36.504960804372054, 0.1, 1, 36.50619108374798, 0.1, 1, 36.51441993127204, 0.1, 1, 36.57103556337907, 0.1, 1, 36.592779316335886, 0.1, 1, 36.6094602794855, 0.1, 1, 36.65348486510677, 0.1, 1, 36.68547628915158, 0.1, 1, 36.6934526163426, 0.1, 1, 36.75343721952278, 0.1, 1, 36.826969170295364, 0.1, 1, 36.90475789590584, 0.1, 1, 36.943849827306984, 0.1, 1, 36.986780484346525, 0.1, 1, 37.09050195740521, 0.1, 1, 37.13975702518604, 0.1, 1, 37.163822470722984, 0.1, 1, 37.18249386709656, 0.1, 1, 37.22076407042076, 0.1, 1, 37.23491344684548, 0.1, 1, 37.29386542334838, 0.1, 1, 37.31830686962557, 0.1, 1, 37.33740821323795, 0.1, 1, 37.39934197166316, 0.1, 1, 37.43558358765493, 0.1, 1, 37.43856050194552, 0.1, 1, 37.466936066431096, 0.1, 1, 37.4923825006014, 0.1, 1, 37.65037985152891, 0.1, 1, 37.663577307273506, 0.1, 1, 37.6653061559552, 0.1, 1, 37.704393105316754, 0.1, 1, 37.743979788941594, 0.1, 1, 37.77398482392355, 0.1, 1, 37.79605504242006, 0.1, 1, 37.80819697852752, 0.1, 1, 37.85802041399594, 0.1, 1, 37.88833826258866, 0.1, 1, 37.98676174801469, 0.1, 1, 37.987885563225895, 0.1, 1, 38.09959355530022, 0.1, 1, 38.143502552554644, 0.1, 1, 38.263389539328266, 0.1, 1, 38.271329141347664, 0.1, 1, 38.28452435711017, 0.1, 1, 38.31427677650937, 0.1, 1, 38.373478882368005, 0.1, 1, 38.37966338409588, 0.1, 1, 38.386365903568425, 0.1, 1, 38.40403843594191, 0.1, 1, 38.40935343834747, 0.1, 1, 38.4099748126801, 0.1, 1, 38.52663495608057, 0.1, 1, 38.55332585321088, 0.1, 1, 38.55353109281505, 0.1, 1, 38.65080279933229, 0.1, 1, 38.65197461748758, 0.1, 1, 38.67055306910761, 0.1, 1, 38.67959309893681, 0.1, 1, 38.6842507793093, 0.1, 1, 38.70497901025433, 0.1, 1, 38.71170590618228, 0.1, 1, 38.80799307574712, 0.1, 1, 38.822783317376334, 0.1, 1, 38.823399103927414, 0.1, 1, 38.8581717087245, 0.1, 1, 38.900021060915876, 0.1, 1, 38.94488115687332, 0.1, 1, 39.00252206043083, 0.1, 1, 39.03181216813584, 0.1, 1, 39.09111828910695, 0.1, 1, 39.10671223707938, 0.1, 1, 39.16917477241443, 0.1, 1, 39.217878331304384, 0.1, 1, 39.268331214892385, 0.1, 1, 39.314030660683585, 0.1, 1, 39.346764990866816, 0.1, 1, 39.39731832336207, 0.1, 1, 39.50372520919378, 0.1, 1, 39.504332075912565, 0.1, 1, 39.509354828738076, 0.1, 1, 39.51399341644104, 0.1, 1, 39.52087623965504, 0.1, 1, 39.56352382173466, 0.1, 1, 39.57513621131784, 0.1, 1, 39.607726993970296, 0.1, 1, 39.60982234424592, 0.1, 1, 39.63369738135332, 0.1, 1, 39.711868128006294, 0.1, 1, 39.832927831988535, 0.1, 1, 39.865542212732315, 0.1, 1, 39.892314252338245, 0.1, 1, 39.893160006634005, 0.1, 1, 39.90054925051599, 0.1, 1, 39.93120244138073, 0.1, 1, 39.98621399531498, 0.1, 1, 40.036353773658234, 0.1, 1, 40.065010626706275, 0.1, 1, 40.075972041124615, 0.1, 1, 40.119729814848846, 0.1, 1, 40.12518432310718, 0.1, 1, 40.18511410407035, 0.1, 1, 40.22143415974192, 0.1]\n"
     ]
    }
   ],
   "source": [
    "from xrdmaptools.utilities.image_corrections import rescale_array\n",
    "\n",
    "phase = test.phases['stibnite']\n",
    "\n",
    "#amp, x0, fwhm\n",
    "p0 = [0]\n",
    "fwhm = 0.1\n",
    "\n",
    "for i in range(len(phase.reflections['hkl'])):\n",
    "    p0.append(phase.reflections['int'][i]) # amp\n",
    "    #p0.append(1) # amp\n",
    "    p0.append(phase.reflections['tth'][i]) # x0\n",
    "    p0.append(fwhm) #fwhm\n",
    "\n",
    "print(p0)\n",
    "calc_xrd = GaussianFunctions.multi_1d(test.tth, *p0)\n",
    "calc_xrd = rescale_array(calc_xrd, 0, 1)\n",
    "\n",
    "p0 = [0]\n",
    "\n",
    "for i in range(len(phase.reflections['hkl'])):\n",
    "    #p0.append(phase.reflections['int'][i]) # amp\n",
    "    p0.append(1) # amp\n",
    "    p0.append(phase.reflections['tth'][i]) # x0\n",
    "    p0.append(fwhm) #fwhm\n",
    "\n",
    "print(p0)\n",
    "xrd_mask = GaussianFunctions.multi_1d(test.tth, *p0)\n",
    "xrd_mask = rescale_array(xrd_mask, 0, 1)"
   ]
  },
  {
   "cell_type": "code",
   "execution_count": null,
   "metadata": {},
   "outputs": [],
   "source": [
    "integrations = plot_integrations.copy()\n",
    "integrations = test.map.integrations.copy()\n",
    "#integrations = integration_map.copy()\n",
    "\n",
    "#rescale_array(integrations, arr_min = 0, upper=1)\n",
    "\n",
    "proj_map = np.dot(integrations, calc_xrd)\n",
    "proj_mask = np.dot(integrations, xrd_mask)\n",
    "\n",
    "norms = np.linalg.norm(integrations, axis=-1)\n",
    "norm_integrations = (integrations.T / norms.T).T\n",
    "\n",
    "norm_calc_xrd = calc_xrd / np.linalg.norm(calc_xrd)\n",
    "norm_xrd_mask = xrd_mask / np.linalg.norm(xrd_mask)\n",
    "\n",
    "corr_map = np.dot(norm_integrations, norm_calc_xrd)\n",
    "corr_mask = np.dot(norm_integrations, norm_xrd_mask)\n",
    "\n",
    "window_int = integrations * xrd_mask\n",
    "window_int /= np.linalg.norm(window_int)\n",
    "\n",
    "double_map = np.dot(window_int, norm_calc_xrd)\n",
    "double_mask = np.dot(window_int, norm_xrd_mask)"
   ]
  },
  {
   "cell_type": "code",
   "execution_count": null,
   "metadata": {},
   "outputs": [],
   "source": [
    "fig, ax = plt.subplots(3, 1, figsize=(7, 5), dpi=200)\n",
    "axes = ax.ravel()\n",
    "\n",
    "maps = [\n",
    "        proj_map, corr_map, double_map,\n",
    "        #proj_mask, corr_mask, double_mask\n",
    "        ]\n",
    "titles = [\n",
    "          'Powder Projection',\n",
    "          'Powder Correlation',\n",
    "          'Powder Window Correlation',\n",
    "         # 'Planes Projection',\n",
    "         # 'Planes Correlation',\n",
    "         # 'Planes Window Correlation'\n",
    "          ]\n",
    "\n",
    "fig.suptitle(f'{phase.name} mapping')\n",
    "\n",
    "\n",
    "for axi, mapi, title in zip(axes, maps, titles):\n",
    "    im = axi.imshow(mapi)\n",
    "    fig.colorbar(im, ax=axi, shrink=0.7)\n",
    "    axi.set_title(title)\n",
    "\n",
    "fig.show()"
   ]
  },
  {
   "cell_type": "code",
   "execution_count": null,
   "metadata": {},
   "outputs": [],
   "source": [
    "plt.close('all')"
   ]
  },
  {
   "cell_type": "code",
   "execution_count": null,
   "metadata": {},
   "outputs": [],
   "source": []
  },
  {
   "cell_type": "code",
   "execution_count": null,
   "metadata": {},
   "outputs": [],
   "source": []
  },
  {
   "cell_type": "code",
   "execution_count": null,
   "metadata": {},
   "outputs": [],
   "source": []
  },
  {
   "cell_type": "code",
   "execution_count": null,
   "metadata": {},
   "outputs": [],
   "source": []
  },
  {
   "cell_type": "code",
   "execution_count": null,
   "metadata": {},
   "outputs": [],
   "source": [
    "from xrdmaptools.plot.interactive_plotting import interactive_dynamic_1d_plot\n",
    "\n",
    "interactive_dynamic_1d_plot(rescale_array(integration_map, arr_min=0, upper=100), tth=test.tth, \n",
    "                                bkg_removal=None, ball_size=None, normalize=None,\n",
    "                                display_map=None, display_title=None,\n",
    "                                map_vmin=None, map_vmax=None,\n",
    "                                cmap='viridis', marker_color='red')"
   ]
  },
  {
   "cell_type": "code",
   "execution_count": null,
   "metadata": {},
   "outputs": [],
   "source": [
    "cif_dir = '''C:\\\\Users\\\\emusterma\\\\OneDrive - Brookhaven National Laboratory\\\\Documents\\\\Postdoc\\\\Literature\\\\CIF\\\\'''\n",
    "test.clear_phases()\n",
    "#test.load_phase('Barker\\\\1521772COD.cif', wd=cif_dir, phase_name=\"liNbO3 old\")\n",
    "#test.load_phase('Barker\\\\LiNbO3.cif', wd=cif_dir, phase_name=\"LiNbO3 148\")\n",
    "#test.load_phase('Unknown\\\\LiNbO3.cif', wd=cif_dir, phase_name=\"LiNbO3 new\")\n",
    "test.load_phase('AMCSD\\\\Platinum_0011157.cif', wd=cif_dir, phase_name=\"platinum\")\n",
    "#test.load_phase('AMCSD\\\\Calcite_0000984.cif', wd=cif_dir, phase_name=\"calcite\")\n",
    "test.load_phase('AMCSD\\\\Stibnite_0008636.cif', wd=cif_dir, phase_name=\"stibnite\")\n",
    "#test.load_phase('AMCSD\\\\Silicon_0011243.cif', wd=cif_dir, phase_name=\"silicon\")\n",
    "#test.load_phase('AMCSD\\\\Corundum_0009327.cif', wd=cif_dir, phase_name=\"sapphire\")\n",
    "#test.load_phase('AMCSD\\\\Hematite_0017806.cif', wd=cif_dir, phase_name=\"hematite\")\n",
    "#test.load_phase('AMCSD\\\\Iron-alpha_0011214.cif', wd=cif_dir, phase_name=\"iron-ferrite\")\n",
    "#test.load_phase('AMCSD\\\\Iron-beta_0011215.cif', wd=cif_dir, phase_name=\"iron-beta\")\n",
    "#test.load_phase('AMCSD\\\\Iron-delta_0011216.cif', wd=cif_dir, phase_name=\"iron-delta\")\n",
    "#test.load_phase('AMCSD\\\\Iron_0011146.cif', wd=cif_dir, phase_name=\"iron-austenite\")\n",
    "#test.load_phase('AMCSD\\\\Cementite_0013523.cif', wd=cif_dir, phase_name=\"cementite\")\n",
    "#test.load_phase('AMCSD\\\\Graphite_0011247.cif', wd=cif_dir, phase_name=\"graphite\")\n",
    "#test.load_phase('AMCSD\\\\Tungsten_0011261.cif', wd=cif_dir, phase_name=\"tungsten_1\")\n",
    "test.load_phase('AMCSD\\\\Tungsten_0011236.cif', wd=cif_dir, phase_name=\"tungsten_2\")\n",
    "test.load_phase('AMCSD\\\\Iron_0011146.cif', wd=cif_dir, phase_name=\"austenite\")\n",
    "test.phases['austenite'].a = 3.529"
   ]
  },
  {
   "cell_type": "code",
   "execution_count": null,
   "metadata": {},
   "outputs": [],
   "source": [
    "[phase.get_hkl_reflections(tth_range=(np.min(test.tth), np.max(test.tth)),\n",
    "                            ignore_less=0)\n",
    "    for phase in test.phases.values()];"
   ]
  },
  {
   "cell_type": "code",
   "execution_count": null,
   "metadata": {},
   "outputs": [],
   "source": [
    "from xrdmaptools.utilities.image_corrections import rescale_array\n",
    "\n",
    "phase = test.phases['stibnite']\n",
    "\n",
    "#amp, x0, fwhm\n",
    "p0 = [0]\n",
    "\n",
    "for i in range(len(phase.reflections['hkl'])):\n",
    "    p0.append(phase.reflections['int'][i]) # amp\n",
    "    #p0.append(1) # amp\n",
    "    p0.append(phase.reflections['tth'][i]) # x0\n",
    "    p0.append(0.1) #fwhm\n",
    "\n",
    "calc_xrd = GaussianFunctions.multi_1d(test.tth, *p0)\n",
    "calc_xrd = rescale_array(calc_xrd, 0, 1)\n",
    "\n",
    "p0 = [0]\n",
    "\n",
    "for i in range(len(phase.reflections['hkl'])):\n",
    "    #p0.append(phase.reflections['int'][i]) # amp\n",
    "    p0.append(1) # amp\n",
    "    p0.append(phase.reflections['tth'][i]) # x0\n",
    "    p0.append(0.1) #fwhm\n",
    "\n",
    "xrd_mask = GaussianFunctions.multi_1d(test.tth, *p0)\n",
    "xrd_mask = rescale_array(calc_xrd, 0, 1)"
   ]
  },
  {
   "cell_type": "code",
   "execution_count": null,
   "metadata": {},
   "outputs": [],
   "source": [
    "integrations = integration_map\n",
    "#integrations = test.map.integrations\n",
    "\n",
    "proj_map = np.dot(integrations, calc_xrd)\n",
    "\n",
    "norms = np.linalg.norm(integrations, axis=-1)\n",
    "norm_integrations = (integrations.T / norms.T).T\n",
    "\n",
    "norm_calc_xrd = calc_xrd / np.linalg.norm(calc_xrd)\n",
    "\n",
    "corr_map = np.dot(norm_integrations, norm_calc_xrd)\n",
    "\n",
    "window_int = integrations * xrd_mask\n",
    "window_int /= np.linalg.norm(window_int)\n",
    "\n",
    "double_map = np.dot(window_int, norm_calc_xrd)"
   ]
  },
  {
   "cell_type": "code",
   "execution_count": null,
   "metadata": {},
   "outputs": [],
   "source": [
    "test.plot_map(proj_map)"
   ]
  },
  {
   "cell_type": "code",
   "execution_count": null,
   "metadata": {},
   "outputs": [],
   "source": [
    "test.plot_map(corr_map)"
   ]
  },
  {
   "cell_type": "code",
   "execution_count": null,
   "metadata": {},
   "outputs": [],
   "source": [
    "test.plot_map(double_map)"
   ]
  },
  {
   "cell_type": "code",
   "execution_count": null,
   "metadata": {},
   "outputs": [],
   "source": [
    "fig, ax = plt.subplots(1, 1, figsize=(5, 5), dpi=200)\n",
    "\n",
    "ax.plot(test.tth, rescale_array(calc_xrd, arr_min=0, upper=1))\n",
    "ax.plot(test.tth, test.map.integrations[8, 160])\n",
    "ax.plot(test.tth, rescale_array(calc_xrd, arr_min=0, upper=1) * rescale_array(test.map.integrations[8, 160], arr_min=0, upper=1))\n",
    "\n",
    "plt.show()"
   ]
  },
  {
   "cell_type": "code",
   "execution_count": null,
   "metadata": {},
   "outputs": [],
   "source": [
    "fig, ax = plt.subplots(1, 1, figsize=(5, 5), dpi=200)\n",
    "\n",
    "ax.plot(tth, calc_xrd)\n",
    "\n",
    "fig.show()"
   ]
  },
  {
   "cell_type": "code",
   "execution_count": null,
   "metadata": {},
   "outputs": [],
   "source": []
  },
  {
   "cell_type": "code",
   "execution_count": null,
   "metadata": {},
   "outputs": [],
   "source": [
    "pixel_indices = [0, 0] #[26, 21]\n",
    "skip = 500\n",
    "\n",
    "#fig, ax = plt.subplots(1, 1, figsize=(5, 10), dpi=200, subplot_kw={'projection':'3d'})\n",
    "fig = plt.figure(figsize=(10, 5), dpi=200)\n",
    "ax = fig.add_axes([0, 0, 0.5, 1], projection='3d')\n",
    "#ax = fig.add_subplot(projection='3d')\n",
    "\n",
    "plot_qs = euler_rotation(all_qs, 10, -20, 0)\n",
    "recip_latt = ax.scatter(*np.asarray(plot_qs).T, c='k', s=all_fs / 50, alpha=0.75)\n",
    "ax.scatter(0, 0, 0, c='k', s=10)\n",
    "\n",
    "# Plot full Ewald sphere\n",
    "u = np.linspace(0, 2 * np.pi, 100)\n",
    "v = np.linspace(0, np.pi, 100)\n",
    "radius = 2 * np.pi / test.wavelength\n",
    "x =  radius * np.outer(np.cos(u), np.sin(v))\n",
    "y = radius * np.outer(np.sin(u), np.sin(v))\n",
    "z = radius * np.outer(np.ones(np.size(u)), np.cos(v))\n",
    "#ax.plot_surface(x, y, z - radius, alpha=0.2, color='k', label='Ewald sphere')\n",
    "\n",
    "q = get_q_vect(test.tth_arr, test.chi_arr, wavelength=test.wavelength)\n",
    "\n",
    "if pixel_indices is not None:\n",
    "    pixel_df = test.spots[(test.spots['map_x'] == pixel_indices[0])\n",
    "                            & (test.spots['map_y'] == pixel_indices[1])].copy()\n",
    "\n",
    "\n",
    "if pixel_indices is not None:\n",
    "    ax.scatter(*pixel_df[['qx', 'qy', 'qz']].values.T, s=1, c='r', label='spots')\n",
    "\n",
    "# Sample geometry\n",
    "ax.quiver([0, 0], [0, 0], [-2 * radius, -radius], [0, 0], [0, 0], [radius, radius], colors='k')\n",
    "ax.scatter(0, 0, 0, marker='o', s=10, facecolors='none', edgecolors='k', label='transmission')\n",
    "ax.scatter(0, 0, -radius, marker='h', s=10, c='b', label='sample')\n",
    "\n",
    "# Plot sampled Ewald sphere\n",
    "q_mask = q[:, test.map.mask]\n",
    "ax.plot_trisurf(q_mask[0].ravel()[::skip],\n",
    "                q_mask[1].ravel()[::skip],\n",
    "                q_mask[2].ravel()[::skip],\n",
    "                alpha=0.5, label='detector')\n",
    "\n",
    "phi1, PHI, phi2 = 10, -20, 0\n",
    "euler_angles = {'phi1' : phi1,\n",
    "                'PHI' : PHI,\n",
    "                'phi2': phi2}\n",
    "euler_bounds = [[-180, 180], [0, 180], [-180, 180]]\n",
    "slider_lst = []\n",
    "update_lst = []\n",
    "\n",
    "slider_vpos = np.linspace(0.8, 0.1, 3)\n",
    "\n",
    "for i, key in enumerate(euler_angles.keys()):\n",
    "    slider_ax = fig.add_axes\n",
    "\n",
    "    # Make a horizontal slider to control the frequency.\n",
    "    axfreq = fig.add_axes([0.7, slider_vpos[i], 0.2, 0.03])\n",
    "    euler_slider = Slider(\n",
    "        ax=axfreq,\n",
    "        label=f'{key} [deg]',\n",
    "        valmin=euler_bounds[i][0],\n",
    "        valmax=euler_bounds[i][1],\n",
    "        valinit=euler_angles[key],\n",
    "    )\n",
    "\n",
    "    slider_lst.append(euler_slider)\n",
    "\n",
    "    # The function to be called anytime a slider's value changes\n",
    "    def update_factory(key):\n",
    "        def update(val):\n",
    "            global recip_latt\n",
    "            euler_angles[key] = val\n",
    "            plot_qs = euler_rotation(all_qs, *euler_angles.values())\n",
    "            recip_latt.remove()\n",
    "            recip_latt = ax.scatter(*np.asarray(plot_qs).T, c='k', s=all_fs / 50, alpha=0.75)\n",
    "            fig.canvas.draw_idle()\n",
    "        return update\n",
    "\n",
    "    update_lst.append(update_factory(key))\n",
    "    slider_lst[i].on_changed(update_lst[i])\n",
    "\n",
    "ax.set_xlabel('qx [Å⁻¹]')\n",
    "ax.set_ylabel('qy [Å⁻¹]')\n",
    "ax.set_zlabel('qz [Å⁻¹]')\n",
    "ax.set_aspect('equal')\n",
    "\n",
    "plt.show()"
   ]
  }
 ],
 "metadata": {
  "kernelspec": {
   "display_name": "Python 3",
   "language": "python",
   "name": "python3"
  },
  "language_info": {
   "codemirror_mode": {
    "name": "ipython",
    "version": 3
   },
   "file_extension": ".py",
   "mimetype": "text/x-python",
   "name": "python",
   "nbconvert_exporter": "python",
   "pygments_lexer": "ipython3",
   "version": "3.11.8"
  }
 },
 "nbformat": 4,
 "nbformat_minor": 2
}
