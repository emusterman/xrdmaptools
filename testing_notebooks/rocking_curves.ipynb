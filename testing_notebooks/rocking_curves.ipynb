{
 "cells": [
  {
   "cell_type": "code",
   "execution_count": 1,
   "metadata": {},
   "outputs": [],
   "source": [
    "import os\n",
    "import h5py\n",
    "import numpy as np\n",
    "import matplotlib.pyplot as plt\n",
    "from collections import OrderedDict\n",
    "import skimage.io as io\n",
    "from tqdm import tqdm\n",
    "from scipy.spatial import KDTree, distance_matrix\n",
    "from tqdm import tqdm\n",
    "from itertools import product, combinations\n",
    "%matplotlib qt"
   ]
  },
  {
   "cell_type": "code",
   "execution_count": 2,
   "metadata": {},
   "outputs": [
    {
     "name": "stderr",
     "output_type": "stream",
     "text": [
      "c:\\Users\\emusterma\\AppData\\Local\\anaconda3\\envs\\sXRDMap-py311-1.0\\Lib\\site-packages\\pyopencl\\cache.py:495: CompilerWarning: Non-empty compiler output encountered. Set the environment variable PYOPENCL_COMPILER_OUTPUT=1 to see more.\n",
      "  _create_built_program_from_source_cached(\n"
     ]
    },
    {
     "name": "stdout",
     "output_type": "stream",
     "text": [
      "Connecting to databrokers...failed.\n"
     ]
    }
   ],
   "source": [
    "import xrdmaptools\n",
    "from xrdmaptools.XRDMap import XRDMap\n",
    "from xrdmaptools.RockingCurveStack import RockingCurveStack\n",
    "from xrdmaptools.geometry.geometry import get_q_vect"
   ]
  },
  {
   "cell_type": "code",
   "execution_count": 3,
   "metadata": {},
   "outputs": [],
   "source": [
    "def read_metadata(filename, filedir):\n",
    "    import json\n",
    "\n",
    "    with open(f'{filedir}{filename}', 'r') as f:\n",
    "        json_str = f.read()\n",
    "        out = json.loads(json_str)\n",
    "    return out"
   ]
  },
  {
   "cell_type": "code",
   "execution_count": 4,
   "metadata": {},
   "outputs": [],
   "source": [
    "%run -i \"C:\\Users\\emusterma\\OneDrive - Brookhaven National Laboratory\\Documents\\Postdoc\\Repositories\\SRX_sXRD_analysis\\xrdmaptools\\RockingCurveStack.py\"\n",
    "plt.close()"
   ]
  },
  {
   "cell_type": "code",
   "execution_count": 5,
   "metadata": {},
   "outputs": [
    {
     "name": "stdout",
     "output_type": "stream",
     "text": [
      "Loading images...done!\n",
      "WARNING: No theta value provided. Assuming 0 deg.\n"
     ]
    }
   ],
   "source": [
    "scan_range = '156229-156251'\n",
    "scan_range = '156253-156275'\n",
    "scan_range = '156277-156299'\n",
    "scan_range = '156301-156323'\n",
    "scan_range = '156325-156347'\n",
    "scan_range = '156349-156371'\n",
    "scan_range = '156373-156395'\n",
    "\n",
    "filedir = 'E:\\\\Musterman_data\\\\20240610\\\\energy_rc\\\\'\n",
    "filename = f'scan{scan_range}_dexela_energy_rc.tif'\n",
    "\n",
    "energy, i0, im, it = np.genfromtxt(filedir + 'scan156229-156251_energy_rc_parameters.txt')\n",
    "sclr_dict = dict(zip(['i0', 'im', 'it'], [i0, im, it]))\n",
    "md = read_metadata(f'scan{scan_range}_energy_rc_metadata.txt', filedir)\n",
    "base_md = {key:value for key, value in md.items() if key in ['scan_id', 'theta', 'dwell']}\n",
    "extra_md = {key:value for key, value in md.items() if key not in base_md.keys()}\n",
    "base_md['scanid'] = base_md['scan_id']\n",
    "del base_md['scan_id']\n",
    "\n",
    "rsm = RockingCurveStack.from_image_stack(filename,\n",
    "                                         wd=filedir,\n",
    "                                         energy=energy,\n",
    "                                         #theta=None,\n",
    "                                         sclr_dict=sclr_dict,\n",
    "                                         **base_md,\n",
    "                                         extra_metadata=extra_md,\n",
    "                                         save_hdf=False)"
   ]
  },
  {
   "cell_type": "code",
   "execution_count": 6,
   "metadata": {},
   "outputs": [
    {
     "name": "stdout",
     "output_type": "stream",
     "text": [
      "Setting detector calibration...\n",
      "Calibration performed under different settings. Adjusting calibration.\n"
     ]
    }
   ],
   "source": [
    "calib_dir = 'E:\\\\Musterman_data\\\\20240610\\\\calibrations\\\\'\n",
    "rsm.set_calibration('scan156160_dexela_calibration.poni', filedir=calib_dir)"
   ]
  },
  {
   "cell_type": "code",
   "execution_count": 7,
   "metadata": {},
   "outputs": [
    {
     "name": "stdout",
     "output_type": "stream",
     "text": [
      "Correcting dark-field...done!\n"
     ]
    }
   ],
   "source": [
    "dark_id = 156203\n",
    "dark_dir = 'E:\\\\Musterman_data\\\\20240610\\\\dark_fields\\\\'\n",
    "dir_mask = [str(dark_id) in d for d in os.listdir(dark_dir)]\n",
    "\n",
    "dark_field = io.imread(f'{dark_dir}{np.array(os.listdir(dark_dir))[dir_mask][0]}').astype(np.float32)\n",
    "rsm.map.correct_dark_field(dark_field=dark_field)"
   ]
  },
  {
   "cell_type": "code",
   "execution_count": 8,
   "metadata": {},
   "outputs": [
    {
     "name": "stdout",
     "output_type": "stream",
     "text": [
      "Normalizing images by i0 scaler...done!\n"
     ]
    }
   ],
   "source": [
    "rsm.map.normalize_scaler()"
   ]
  },
  {
   "cell_type": "code",
   "execution_count": 9,
   "metadata": {},
   "outputs": [
    {
     "name": "stdout",
     "output_type": "stream",
     "text": [
      "Applying X-ray polarization correction...done!\n",
      "Applying solid angle correction...done!\n"
     ]
    }
   ],
   "source": [
    "rsm.map.apply_polarization_correction()\n",
    "rsm.map.apply_solidangle_correction()"
   ]
  },
  {
   "cell_type": "code",
   "execution_count": 10,
   "metadata": {},
   "outputs": [
    {
     "name": "stdout",
     "output_type": "stream",
     "text": [
      "Estimating background with Bruckner algorithm.\n",
      "WARNING: No mask could be constructed.\n"
     ]
    },
    {
     "name": "stderr",
     "output_type": "stream",
     "text": [
      "100%|██████████| 241/241 [01:12<00:00,  3.33it/s]"
     ]
    },
    {
     "name": "stdout",
     "output_type": "stream",
     "text": [
      "Removing background..."
     ]
    },
    {
     "name": "stderr",
     "output_type": "stream",
     "text": [
      "\n"
     ]
    },
    {
     "name": "stdout",
     "output_type": "stream",
     "text": [
      "done!\n"
     ]
    }
   ],
   "source": [
    "rsm.map.estimate_background(method='bruckner', binning=8, min_prominence=0.1)\n",
    "rsm.map.remove_background()"
   ]
  },
  {
   "cell_type": "code",
   "execution_count": 11,
   "metadata": {},
   "outputs": [],
   "source": [
    "rsm.map.rescale_images(arr_max=rsm.map.estimate_saturated_pixel())"
   ]
  },
  {
   "cell_type": "code",
   "execution_count": 12,
   "metadata": {},
   "outputs": [
    {
     "name": "stdout",
     "output_type": "stream",
     "text": [
      "Searching images for blobs...\n"
     ]
    },
    {
     "name": "stderr",
     "output_type": "stream",
     "text": [
      "100%|██████████| 241/241 [00:53<00:00,  4.51it/s]\n"
     ]
    }
   ],
   "source": [
    "rsm.find_blobs(threshold_method='minimum',\n",
    "               multiplier=5,\n",
    "               size=3,\n",
    "               expansion=5,\n",
    "               override_rescale=True)"
   ]
  },
  {
   "cell_type": "code",
   "execution_count": 13,
   "metadata": {},
   "outputs": [
    {
     "name": "stderr",
     "output_type": "stream",
     "text": [
      "100%|██████████| 241/241 [01:26<00:00,  2.79it/s]\n"
     ]
    }
   ],
   "source": [
    "edges = ([[] for _ in range(12)])\n",
    "full_q_arr = np.empty((rsm.map.num_images, 3, *rsm.map.image_shape),\n",
    "                      dtype=rsm.map.dtype)\n",
    "for i, wavelength in tqdm(enumerate(rsm.wavelength),\n",
    "                          total=rsm.map.num_images):\n",
    "    q_arr = get_q_vect(rsm.tth_arr,\n",
    "                       rsm.chi_arr,\n",
    "                       wavelength=wavelength,\n",
    "                       degrees=rsm.polar_units == 'deg')\n",
    "    full_q_arr[i] = q_arr\n",
    "\n",
    "edges = [None,] * 12\n",
    "# First image edges\n",
    "edges[0] = full_q_arr[0, :, 0, :]\n",
    "edges[1] = full_q_arr[0, :, -1, :]\n",
    "edges[2] = full_q_arr[0, :, :, 0]\n",
    "edges[3] = full_q_arr[0, :, :, -1]\n",
    "# Last image edges\n",
    "edges[4] = full_q_arr[-1, :, 0, :]\n",
    "edges[5] = full_q_arr[-1, :, -1, :]\n",
    "edges[6] = full_q_arr[-1, :, :, 0]\n",
    "edges[7] = full_q_arr[-1, :, :, -1]\n",
    "# Image corners\n",
    "edges[8] = full_q_arr[:, :, 0, 0].T\n",
    "edges[9] = full_q_arr[:, :, 0, -1].T\n",
    "edges[10] = full_q_arr[:, :, -1, 0].T\n",
    "edges[11] = full_q_arr[:, :, -1, -1].T\n",
    "\n",
    "q_mins = np.min(full_q_arr, axis=(0, 2, 3))\n",
    "q_maxs = np.max(full_q_arr, axis=(0, 2, 3))"
   ]
  },
  {
   "cell_type": "code",
   "execution_count": 14,
   "metadata": {},
   "outputs": [],
   "source": [
    "qx = full_q_arr[:, 0][rsm.map.blob_masks.squeeze()]\n",
    "qy = full_q_arr[:, 1][rsm.map.blob_masks.squeeze()]\n",
    "qz = full_q_arr[:, 2][rsm.map.blob_masks.squeeze()]\n",
    "qs = np.asarray([qx, qy, qz]).T # May not need transpose\n",
    "intensity = rsm.map.images[rsm.map.blob_masks]"
   ]
  },
  {
   "cell_type": "code",
   "execution_count": 15,
   "metadata": {},
   "outputs": [],
   "source": [
    "from xrdmaptools.reflections.spot_blob_search_3d import rsm_blob_search, rsm_spot_search"
   ]
  },
  {
   "cell_type": "code",
   "execution_count": null,
   "metadata": {},
   "outputs": [],
   "source": []
  },
  {
   "cell_type": "code",
   "execution_count": 16,
   "metadata": {},
   "outputs": [
    {
     "name": "stdout",
     "output_type": "stream",
     "text": [
      "Scheduling blob search...\n"
     ]
    },
    {
     "name": "stderr",
     "output_type": "stream",
     "text": [
      "100%|██████████| 490656/490656 [00:11<00:00, 42408.16it/s]\n"
     ]
    },
    {
     "name": "stdout",
     "output_type": "stream",
     "text": [
      "Finding blobs...\n"
     ]
    },
    {
     "name": "stderr",
     "output_type": "stream",
     "text": [
      "100%|██████████| 490656/490656 [02:33<00:00, 3195.98it/s]\n"
     ]
    },
    {
     "name": "stdout",
     "output_type": "stream",
     "text": [
      "Upsampling data...\n"
     ]
    },
    {
     "name": "stderr",
     "output_type": "stream",
     "text": [
      "100%|██████████| 9813119/9813119 [06:14<00:00, 26231.54it/s]\n"
     ]
    }
   ],
   "source": [
    "labels = rsm_blob_search(qs, max_dist=0.05, max_neighbors=5, subsample=20)"
   ]
  },
  {
   "cell_type": "code",
   "execution_count": null,
   "metadata": {},
   "outputs": [
    {
     "name": "stdout",
     "output_type": "stream",
     "text": [
      "Scheduling blob search...\n"
     ]
    },
    {
     "name": "stderr",
     "output_type": "stream",
     "text": [
      "100%|██████████| 639911/639911 [00:11<00:00, 55980.13it/s]\n"
     ]
    },
    {
     "name": "stdout",
     "output_type": "stream",
     "text": [
      "Finding blobs...\n"
     ]
    },
    {
     "name": "stderr",
     "output_type": "stream",
     "text": [
      "100%|██████████| 639911/639911 [03:53<00:00, 2745.54it/s]\n"
     ]
    },
    {
     "name": "stdout",
     "output_type": "stream",
     "text": [
      "Upsampling data...\n"
     ]
    },
    {
     "name": "stderr",
     "output_type": "stream",
     "text": [
      "100%|██████████| 6399103/6399103 [03:55<00:00, 27165.97it/s]\n"
     ]
    }
   ],
   "source": [
    "int_mask = intensity > np.min(intensity) + 0.01 * (np.max(intensity) - np.min(intensity))\n",
    "int_labels = rsm_blob_search(qs[int_mask], max_dist=0.05, max_neighbors=5, subsample=10)"
   ]
  },
  {
   "cell_type": "code",
   "execution_count": null,
   "metadata": {},
   "outputs": [],
   "source": [
    "fig, ax = plt.subplots(1, 1, figsize=(5, 5), dpi=200, subplot_kw={'projection': '3d'})\n",
    "\n",
    "skip = 250\n",
    "\n",
    "ax.scatter(*qs[::skip].T, c=intensity[::skip], s=1, alpha=0.01)\n",
    "\n",
    "#ax.scatter(*edges, s=1, c='gray')\n",
    "\n",
    "ax.set_xlabel('qx [Å⁻¹]')\n",
    "ax.set_ylabel('qy [Å⁻¹]')\n",
    "ax.set_zlabel('qz [Å⁻¹]')\n",
    "ax.set_aspect('equal')\n",
    "\n",
    "fig.show()"
   ]
  },
  {
   "cell_type": "code",
   "execution_count": null,
   "metadata": {},
   "outputs": [],
   "source": [
    "fig, ax = plt.subplots(1, 1, figsize=(5, 5), dpi=200, subplot_kw={'projection': '3d'})\n",
    "\n",
    "skip = 1\n",
    "blob_label = 1\n",
    "another_mask = (labels == blob_label) & int_mask\n",
    "\n",
    "ax.scatter(*qs[another_mask][::skip].T, c=intensity[another_mask][::skip], s=1, alpha=0.1)\n",
    "\n",
    "ax.set_xlabel('qx [Å⁻¹]')\n",
    "ax.set_ylabel('qy [Å⁻¹]')\n",
    "ax.set_zlabel('qz [Å⁻¹]')\n",
    "ax.set_aspect('equal')\n",
    "\n",
    "fig.show()"
   ]
  },
  {
   "cell_type": "code",
   "execution_count": 16,
   "metadata": {},
   "outputs": [],
   "source": [
    "from scipy.interpolate import griddata\n",
    "\n",
    "def map_2_grid(qs, intensity, gridstep=0.005):\n",
    "\n",
    "    # Find bounds\n",
    "    x_min = np.min(qs[:, 0])\n",
    "    x_max = np.max(qs[:, 0])\n",
    "    y_min = np.min(qs[:, 1])\n",
    "    y_max = np.max(qs[:, 1])\n",
    "    z_min = np.min(qs[:, 2])\n",
    "    z_max = np.max(qs[:, 2])\n",
    "\n",
    "    # Generate q-space grid\n",
    "    xx = np.linspace(x_min, x_max, int((x_max - x_min) / gridstep))\n",
    "    yy = np.linspace(y_min, y_max, int((y_max - y_min) / gridstep))\n",
    "    zz = np.linspace(z_min, z_max, int((z_max - z_min) / gridstep))\n",
    "\n",
    "    grid = np.array(np.meshgrid(xx, yy, zz, indexing='ij'))\n",
    "    grid = grid.reshape(3, -1).T\n",
    "\n",
    "    int_grid = griddata(qs, intensity, grid, method='nearest')\n",
    "    #int_grid = int_grid.reshape(yy.shape[0], xx.shape[0], zz.shape[0]).T\n",
    "    int_grid = int_grid.reshape(xx.shape[0], yy.shape[0], zz.shape[0])\n",
    "\n",
    "    return np.array([*np.meshgrid(xx, yy, zz, indexing='ij'), int_grid])"
   ]
  },
  {
   "cell_type": "code",
   "execution_count": null,
   "metadata": {},
   "outputs": [],
   "source": [
    "X, Y, Z, int_grid = map_2_grid(spot_qs[int_mask], spot_ints[int_mask], gridstep=0.00125)"
   ]
  },
  {
   "cell_type": "code",
   "execution_count": null,
   "metadata": {},
   "outputs": [],
   "source": [
    "import plotly.graph_objects as go\n",
    "\n",
    "plot_grid = int_grid\n",
    "#plot_grid[plot_grid < 1e-3] = 1e-3\n",
    "#plot_grid = np.log(plot_grid).flatten()\n",
    "data = []\n",
    "\n",
    "data.append(go.Volume(\n",
    "    x=X.flatten(),\n",
    "    y=Y.flatten(),\n",
    "    z=Z.flatten(),\n",
    "    value=plot_grid.flatten(),\n",
    "    isomin=np.min(int_grid) + 2,\n",
    "    isomax=np.max(int_grid) / 2,\n",
    "    opacity=0.1, # needs to be small to see through all surfaces\n",
    "    surface_count=25, # needs to be a large number for good volume rendering\n",
    "    colorscale='viridis'\n",
    "    ))\n",
    "\n",
    "spot_mask = label_ints >= np.min(label_ints) + 0.00 * (np.max(label_ints) - np.min(label_ints))\n",
    "\n",
    "data.append(go.Scatter3d(\n",
    "    x = np.asarray(spots)[spot_mask, 0],\n",
    "    y = np.asarray(spots)[spot_mask, 1],\n",
    "    z = np.asarray(spots)[spot_mask, 2],\n",
    "    mode='markers',\n",
    "    opacity=1,\n",
    "    marker=dict(\n",
    "        size=3,\n",
    "        color='red'\n",
    "    )\n",
    "))\n",
    "\n",
    "fig = go.Figure(data=data)\n",
    "\n",
    "x_range = np.max(X) - np.min(X)\n",
    "y_range = np.max(Y) - np.min(Y)\n",
    "z_range = np.max(Z) - np.min(Z)\n",
    "\n",
    "fig.update_layout(scene_aspectmode='manual',\n",
    "                  scene_aspectratio=dict(x=x_range, y=y_range, z=z_range))\n",
    "\n",
    "fig.show(renderer='browser')"
   ]
  },
  {
   "cell_type": "code",
   "execution_count": 37,
   "metadata": {},
   "outputs": [
    {
     "name": "stdout",
     "output_type": "stream",
     "text": [
      "Finding spots...\n"
     ]
    },
    {
     "name": "stderr",
     "output_type": "stream",
     "text": [
      "100%|██████████| 59429/59429 [00:12<00:00, 4653.88it/s]\n"
     ]
    },
    {
     "name": "stdout",
     "output_type": "stream",
     "text": [
      "Upsampling data...\n"
     ]
    },
    {
     "name": "stderr",
     "output_type": "stream",
     "text": [
      "100%|██████████| 297149/297149 [00:08<00:00, 34971.00it/s]\n"
     ]
    }
   ],
   "source": [
    "int_mask = intensity > np.min(intensity) + 0.05 * (np.max(intensity) - np.min(intensity))\n",
    "\n",
    "spot_labels, spots, label_ints = rsm_spot_search(qs[int_mask], intensity[int_mask], nn_dist=0.005, significance=0.1, subsample=5)"
   ]
  },
  {
   "cell_type": "code",
   "execution_count": null,
   "metadata": {},
   "outputs": [],
   "source": [
    "fig, ax = plt.subplots(1, 1, figsize=(5, 5), dpi=200, subplot_kw={'projection': '3d'})\n",
    "\n",
    "skip = 5\n",
    "blob_label = 5\n",
    "int_mask = intensity > np.min(intensity) + 0.05 * (np.max(intensity) - np.min(intensity))\n",
    "another_mask = (labels == blob_label) & int_mask\n",
    "\n",
    "ax.scatter(*qs[another_mask][::skip].T, c=spot_labels[(labels == blob_label)[int_mask]][::skip], s=1, cmap='tab20')\n",
    "\n",
    "ax.set_xlabel('qx [Å⁻¹]')\n",
    "ax.set_ylabel('qy [Å⁻¹]')\n",
    "ax.set_zlabel('qz [Å⁻¹]')\n",
    "ax.set_aspect('equal')\n",
    "\n",
    "fig.show()"
   ]
  },
  {
   "cell_type": "code",
   "execution_count": null,
   "metadata": {},
   "outputs": [],
   "source": [
    "import plotly.graph_objects as go\n",
    "\n",
    "blob_label = np.nonzero(blob_ints == sorted(blob_ints, reverse=True)[4])[0][0]\n",
    "int_mask = intensity > np.min(intensity) + 0.05 * (np.max(intensity) - np.min(intensity))\n",
    "another_mask = (labels == blob_label) & int_mask\n",
    "X, Y, Z, int_grid = map_2_grid(qs[another_mask], intensity[another_mask], gridstep=0.0025)\n",
    "\n",
    "data = []\n",
    "\n",
    "data.append(go.Volume(\n",
    "    x=X.flatten(),\n",
    "    y=Y.flatten(),\n",
    "    z=Z.flatten(),\n",
    "    value=int_grid.flatten(),\n",
    "    isomin=np.min(int_grid) + 2,\n",
    "    isomax=np.max(int_grid) / 2,\n",
    "    opacity=0.1, # needs to be small to see through all surfaces\n",
    "    surface_count=25, # needs to be a large number for good volume rendering\n",
    "    colorscale='viridis'\n",
    "    ))\n",
    "\n",
    "x_range = np.max(X) - np.min(X)\n",
    "y_range = np.max(Y) - np.min(Y)\n",
    "z_range = np.max(Z) - np.min(Z)\n",
    "\n",
    "spot_mask = label_ints >= np.min(label_ints) + 0.05 * (np.max(label_ints) - np.min(label_ints))\n",
    "spot_x = np.asarray(spots)[spot_mask, 0]\n",
    "spot_y = np.asarray(spots)[spot_mask, 1]\n",
    "spot_z = np.asarray(spots)[spot_mask, 2]\n",
    "\n",
    "extent_mask = np.all([\n",
    "    np.min(X) < spot_x, spot_x < np.max(X),\n",
    "    np.min(Y) < spot_y, spot_y < np.max(Y),\n",
    "    np.min(Z) < spot_z, spot_z < np.max(Z),\n",
    "], axis=0)\n",
    "\n",
    "data.append(go.Scatter3d(\n",
    "    x = spot_x[extent_mask],\n",
    "    y = spot_y[extent_mask],\n",
    "    z = spot_z[extent_mask],\n",
    "    mode='markers',\n",
    "    opacity=1,\n",
    "    marker=dict(\n",
    "        size=3,\n",
    "        color='red'\n",
    "    )\n",
    "))\n",
    "\n",
    "fig = go.Figure(data=data)\n",
    "\n",
    "fig.update_layout(scene_aspectmode='manual',\n",
    "                  scene_aspectratio=dict(x=x_range, y=y_range, z=z_range))\n",
    "\n",
    "fig.show(renderer='browser')"
   ]
  },
  {
   "cell_type": "code",
   "execution_count": 179,
   "metadata": {},
   "outputs": [],
   "source": [
    "spot_mask = label_ints >= np.min(label_ints) + 0.001 * (np.max(label_ints) - np.min(label_ints))\n",
    "# sorted_ints = sorted(np.asarray(label_ints)[spot_mask])\n",
    "# sorted_spots = [x for _, x in sorted(zip(np.asarray(label_ints)[spot_mask],\n",
    "#                                          np.asarray(spots)[spot_mask]),\n",
    "#                                          key=lambda pair: pair[0])]"
   ]
  },
  {
   "cell_type": "code",
   "execution_count": 180,
   "metadata": {},
   "outputs": [
    {
     "data": {
      "text/plain": [
       "510"
      ]
     },
     "execution_count": 180,
     "metadata": {},
     "output_type": "execute_result"
    }
   ],
   "source": [
    "np.sum(spot_mask)"
   ]
  },
  {
   "cell_type": "code",
   "execution_count": 65,
   "metadata": {},
   "outputs": [
    {
     "name": "stdout",
     "output_type": "stream",
     "text": [
      "Scheduling blob search...\n"
     ]
    },
    {
     "name": "stderr",
     "output_type": "stream",
     "text": [
      "100%|██████████| 894/894 [00:00<00:00, 63079.67it/s]\n"
     ]
    },
    {
     "name": "stdout",
     "output_type": "stream",
     "text": [
      "Finding blobs...\n"
     ]
    },
    {
     "name": "stderr",
     "output_type": "stream",
     "text": [
      "100%|██████████| 894/894 [00:00<00:00, 6591.50it/s]\n"
     ]
    }
   ],
   "source": [
    "from xrdmaptools.utilities.utilities import arbitrary_center_of_mass\n",
    "\n",
    "labels = rsm_blob_search(np.asarray(spots)[spot_mask], max_dist=0.25)\n",
    "new_spots = [arbitrary_center_of_mass(np.asarray(label_ints)[spot_mask][labels == label],\n",
    "                                      *np.asarray(spots)[spot_mask][labels == label].T\n",
    "                                      ) for label in np.unique(labels)]"
   ]
  },
  {
   "cell_type": "code",
   "execution_count": 66,
   "metadata": {},
   "outputs": [],
   "source": [
    "fig, ax = plt.subplots(1, 1, figsize=(5, 5), dpi=200, subplot_kw={'projection':'3d'})\n",
    "\n",
    "ax.scatter(*np.asarray(spots)[spot_mask].T, s = 1, c=labels, cmap='tab20')\n",
    "\n",
    "ax.set_xlim(q_mins[0], q_maxs[0])\n",
    "ax.set_ylim(q_mins[1], q_maxs[1])\n",
    "ax.set_zlim(q_mins[2], q_maxs[2])\n",
    "\n",
    "ax.scatter(*np.asarray(new_spots).T, s=10, c='r')\n",
    "\n",
    "ax.set_xlabel('qx [Å⁻¹]')\n",
    "ax.set_ylabel('qy [Å⁻¹]')\n",
    "ax.set_zlabel('qz [Å⁻¹]')\n",
    "ax.set_aspect('equal')\n",
    "\n",
    "fig.show()"
   ]
  },
  {
   "cell_type": "code",
   "execution_count": 20,
   "metadata": {},
   "outputs": [],
   "source": [
    "from xrdmaptools.crystal.Phase import Phase\n",
    "cif_dir = '''C:\\\\Users\\\\emusterma\\\\OneDrive - Brookhaven National Laboratory\\\\Documents\\\\Postdoc\\\\Literature\\\\CIF\\\\'''\n",
    "stibnite = Phase.fromCIF(cif_dir + 'AMCSD\\\\Stibnite_0008636.cif')\n",
    "stibnite.energy = 15\n",
    "stibnite.get_hkl_reflections()\n",
    "corundum = Phase.fromCIF(cif_dir + 'AMCSD\\\\Corundum_0009327.cif')\n",
    "corundum.energy = 15\n",
    "corundum.get_hkl_reflections()"
   ]
  },
  {
   "cell_type": "code",
   "execution_count": 21,
   "metadata": {},
   "outputs": [],
   "source": [
    "from xrdmaptools.crystal.Phase import generate_reciprocal_lattice\n",
    "ref_hkls, ref_qs, ref_fs = generate_reciprocal_lattice(stibnite, 8)"
   ]
  },
  {
   "cell_type": "code",
   "execution_count": 181,
   "metadata": {},
   "outputs": [
    {
     "name": "stderr",
     "output_type": "stream",
     "text": [
      "100%|██████████| 112697/112697 [00:24<00:00, 4653.27it/s]\n"
     ]
    }
   ],
   "source": [
    "from xrdmaptools.crystal.Phase import generate_reciprocal_lattice\n",
    "from itertools import combinations\n",
    "from scipy.spatial import distance_matrix\n",
    "\n",
    "spot_qs = np.asarray(spots)[spot_mask]\n",
    "#spot_ints = np.asarray(label_ints)[spot_mask]\n",
    "\n",
    "# spot_qs = np.asarray(new_spots)\n",
    "#spot_qs = np.asarray(corr_spot_qs)\n",
    "\n",
    "phase = stibnite\n",
    "near_q = 0.1\n",
    "near_angle = 2\n",
    "\n",
    "near_q = 0.01\n",
    "near_angle = 1\n",
    "    \n",
    "spot_q_mags = np.linalg.norm(spot_qs, axis=1)\n",
    "max_q = np.max(spot_q_mags)\n",
    "\n",
    "# Combine these at some point...\n",
    "stibnite.get_hkl_reflections()\n",
    "ref_hkls, ref_qs, ref_fs = generate_reciprocal_lattice(stibnite, 1.15 * max_q) # 15% window\n",
    "# ref_qs = ref_qs @ (np.eye(3) - eij_full)\n",
    "ref_q_mags = np.linalg.norm(ref_qs, axis=1)\n",
    "\n",
    "# Minimum step size in q-space.\n",
    "min_q = np.min(np.linalg.norm(phase.Q([[1, 0, 0], [0, 1, 0], [0, 0, 1]]), axis=0))\n",
    "if near_q > min_q * 0.85:\n",
    "    raise ValueError('Near_q threshold is greater 85% of minimum lattice spacing. This seems unwise...')\n",
    "\n",
    "# Find difference between measured and calculated q magnitudes\n",
    "mag_diff_arr = np.abs(spot_q_mags[:, np.newaxis]\n",
    "                      - ref_q_mags[np.newaxis, :])\n",
    "\n",
    "# Eliminate any reflections outside phase-allowed spots\n",
    "phase_mask = np.any(mag_diff_arr < near_q, axis=1)\n",
    "mag_diff_arr = mag_diff_arr[phase_mask]\n",
    "spot_qs = spot_qs[phase_mask]\n",
    "spot_q_mags = spot_q_mags[phase_mask]\n",
    "#spot_ints = spot_ints[phase_mask]\n",
    "\n",
    "# Generate all pairs of spots which are crystallographically feasible\n",
    "spot_pair_indices = list(combinations(range(len(spot_qs)), 2))\n",
    "#spot_diff_arr = np.abs(spot_q_mags[:, np.newaxis]\n",
    "#                       - spot_q_mags[np.newaxis, :])\n",
    "spot_pair_dist = distance_matrix(spot_qs, spot_qs)\n",
    "allowed_pairs = [spot_pair_dist[tuple(indices)] > min_q * 0.85 for indices in spot_pair_indices]\n",
    "#allowed_pairs = [spot_pair_dist[indices] > min_q * 0.85 for indices in spot_pair_indices]\n",
    "spot_pair_indices = np.asarray(spot_pair_indices)[allowed_pairs]\n",
    "\n",
    "# Determine all angles\n",
    "spot_angles = multi_vector_angles(spot_qs, spot_qs, degrees=True)\n",
    "ref_angles = multi_vector_angles(ref_qs, ref_qs, degrees=True)\n",
    "\n",
    "valid_pairs, valid_combos = [], []\n",
    "for pair in tqdm(spot_pair_indices):\n",
    "    ref_combos = list(product(*[np.nonzero(mag_diff_arr[i] < near_q)[0] for i in pair]))\n",
    "\n",
    "    angle_mask = [np.abs(spot_angles[tuple(pair)] - ref_angles[tuple(combo)]) < near_angle for combo in ref_combos]\n",
    "    doublet_mask = [combo[0] != combo[1] for combo in ref_combos]\n",
    "\n",
    "    ref_combos = np.asarray(ref_combos)[np.array(angle_mask) & np.array(doublet_mask)]\n",
    "    \n",
    "    if len(ref_combos) > 0:\n",
    "        valid_pairs.append(tuple(pair))\n",
    "        valid_combos.append([tuple(combo) for combo in ref_combos])"
   ]
  },
  {
   "cell_type": "code",
   "execution_count": 182,
   "metadata": {},
   "outputs": [
    {
     "data": {
      "text/plain": [
       "(159660, 508)"
      ]
     },
     "execution_count": 182,
     "metadata": {},
     "output_type": "execute_result"
    }
   ],
   "source": [
    "expanded_pair = [np.nan,] * len(spot_qs)\n",
    "expanded_pair_list = []\n",
    "for pair, combos in zip(valid_pairs, valid_combos):\n",
    "    for combo in combos:\n",
    "        expanded_pair_i = expanded_pair.copy()\n",
    "        expanded_pair_i[pair[0]] = combo[0]\n",
    "        expanded_pair_i[pair[1]] = combo[1]\n",
    "        expanded_pair_list.append(expanded_pair_i)\n",
    "        \n",
    "expanded_pair_list = np.asarray(expanded_pair_list)\n",
    "expanded_pair_list.shape"
   ]
  },
  {
   "cell_type": "code",
   "execution_count": 183,
   "metadata": {},
   "outputs": [
    {
     "name": "stderr",
     "output_type": "stream",
     "text": [
      "100%|██████████| 998/998 [00:00<00:00, 2017.86it/s]\n"
     ]
    }
   ],
   "source": [
    "fig, ax = plt.subplots(1, 1, figsize=(5, 5), dpi=200, subplot_kw={'projection':'3d'})\n",
    "\n",
    "ax.scatter(*np.asarray(spot_qs).T, s = 1, c='r')\n",
    "\n",
    "skip = np.round(len(expanded_pair_list) / 1000, 0).astype(int)\n",
    "\n",
    "for idx in tqdm(range(len(expanded_pair_list[::skip]))):\n",
    "    ax.plot(*spot_qs[~np.isnan(expanded_pair_list[::skip][idx])].T, c='k', alpha=0.01, lw=1)\n",
    "\n",
    "ax.set_xlim(q_mins[0], q_maxs[0])\n",
    "ax.set_ylim(q_mins[1], q_maxs[1])\n",
    "ax.set_zlim(q_mins[2], q_maxs[2])\n",
    "\n",
    "ax.set_xlabel('qx [Å⁻¹]')\n",
    "ax.set_ylabel('qy [Å⁻¹]')\n",
    "ax.set_zlabel('qz [Å⁻¹]')\n",
    "ax.set_aspect('equal')\n",
    "\n",
    "fig.show()"
   ]
  },
  {
   "cell_type": "code",
   "execution_count": null,
   "metadata": {},
   "outputs": [],
   "source": []
  },
  {
   "cell_type": "code",
   "execution_count": null,
   "metadata": {},
   "outputs": [],
   "source": []
  },
  {
   "cell_type": "code",
   "execution_count": 26,
   "metadata": {},
   "outputs": [],
   "source": [
    "def nan_combine(*connections):\n",
    "\n",
    "    connections = np.asarray(connections)\n",
    "    if np.any(np.sum(~np.isnan(connections), axis=0) > 1):\n",
    "        raise RuntimeError('Overwritten connections!')\n",
    "\n",
    "    base_connection = np.asarray([np.nan,] * len(connections[0]))\n",
    "\n",
    "    for connection in connections:\n",
    "        base_connection[~np.isnan(connection)] = connection[~np.isnan(connection)]\n",
    "\n",
    "    return base_connection"
   ]
  },
  {
   "cell_type": "code",
   "execution_count": 27,
   "metadata": {},
   "outputs": [],
   "source": [
    "def _find_next_connections(full_pairs,\n",
    "                           partial_connections,\n",
    "                           common_full,\n",
    "                           common_partial=None,\n",
    "                           ):\n",
    "    \n",
    "    full_pairs = np.asarray(full_pairs)\n",
    "    partial_connections = np.asarray(partial_connections)\n",
    "    \n",
    "    # Must have at least two partials to advance connection rank\n",
    "    if len(partial_connections) < 2:\n",
    "        return [], []\n",
    "    \n",
    "    common_indices = np.nonzero(~np.isnan(common_full))[0]\n",
    "    common_vals = common_full[common_indices]\n",
    "\n",
    "    if common_partial is not None:\n",
    "        common_index = np.nonzero(~np.isnan(common_partial))[0][0]\n",
    "        common_val = common_partial[common_index]\n",
    "        common_mask = full_pairs[:, common_index] == common_val\n",
    "    else:\n",
    "        common_mask = [True, ] * len(full_pairs)\n",
    "    \n",
    "    next_partials = []\n",
    "    valid_connections = []\n",
    "    for i in range(len(partial_connections)):\n",
    "        partial = partial_connections[i]\n",
    "        part_index = np.nonzero(~np.isnan(partial))[0][0]\n",
    "        part_val = partial[part_index]\n",
    "\n",
    "        # Ignore indexing repeated spots or references reflections\n",
    "        if (part_index in common_indices\n",
    "            or part_val in common_vals):\n",
    "            continue\n",
    "            \n",
    "        next_conn_mask = full_pairs[:, part_index] == part_val\n",
    "        \n",
    "        if np.sum(common_mask & next_conn_mask) > 0:\n",
    "            next_partials.append(partial)\n",
    "            valid_connections.append(nan_combine(common_full, partial))\n",
    "\n",
    "    return next_partials, valid_connections"
   ]
  },
  {
   "cell_type": "code",
   "execution_count": 184,
   "metadata": {},
   "outputs": [
    {
     "name": "stdout",
     "output_type": "stream",
     "text": [
      "Determining all orientations from valid pairs...\n"
     ]
    },
    {
     "name": "stderr",
     "output_type": "stream",
     "text": [
      "100%|██████████| 159660/159660 [00:19<00:00, 8163.48it/s]\n"
     ]
    },
    {
     "name": "stdout",
     "output_type": "stream",
     "text": [
      "Reducing symmetrically equivalent pairs...\n"
     ]
    },
    {
     "name": "stderr",
     "output_type": "stream",
     "text": [
      "100%|██████████| 159660/159660 [01:08<00:00, 2321.35it/s]\n"
     ]
    },
    {
     "data": {
      "text/plain": [
       "80188"
      ]
     },
     "execution_count": 184,
     "metadata": {},
     "output_type": "execute_result"
    }
   ],
   "source": [
    "from scipy.spatial.transform import Rotation\n",
    "from xrdmaptools.geometry.geometry import q_2_polar\n",
    "\n",
    "def get_rmse(spots0, spots1):\n",
    "    rmse = np.mean([np.sqrt(np.sum([(p - q)**2 for p, q in zip(v1, v2)]))\n",
    "                    for v1, v2 in zip(spots0, spots1)])\n",
    "    return rmse\n",
    "\n",
    "def fit_orientation_index(connection,\n",
    "                          spot_qs,\n",
    "                          ref_qs):\n",
    "    fit_spot_indices = np.nonzero(~np.isnan(connection))\n",
    "    fit_spot_qs = spot_qs[fit_spot_indices]\n",
    "\n",
    "    fit_ref_indices = connection[fit_spot_indices].astype(int)\n",
    "    fit_ref_qs = np.asarray(ref_qs)[fit_ref_indices]\n",
    "\n",
    "    fit_orientation, fit_rssd = Rotation.align_vectors(fit_ref_qs, fit_spot_qs)\n",
    "\n",
    "    rmse = get_rmse(fit_ref_qs,\n",
    "                    fit_orientation.apply(fit_spot_qs, inverse=False))\n",
    "\n",
    "    return fit_orientation, rmse\n",
    "\n",
    "print('Determining all orientations from valid pairs...')\n",
    "pair_orientations = []\n",
    "pair_mis_mag = []\n",
    "pair_rmse = []\n",
    "for pair_i in tqdm(range(len(expanded_pair_list))):\n",
    "    pair_ref_hkls = [ref_hkls[int(ind)] for ind\n",
    "                    in expanded_pair_list[pair_i][~np.isnan(expanded_pair_list[pair_i])]]\n",
    "    pair_ref_qs = [ref_qs[int(ind)] for ind\n",
    "                   in expanded_pair_list[pair_i][~np.isnan(expanded_pair_list[pair_i])]]\n",
    "    pair_spot_qs = spot_qs[np.nonzero(~np.isnan(expanded_pair_list[0]))]\n",
    "\n",
    "    # Check for colinearity; 3D orientation cannot be determined\n",
    "    pair_divs = np.array(pair_ref_hkls[0]) / np.array(pair_ref_hkls[1])\n",
    "    if len(np.unique(pair_divs[~np.isnan(pair_divs)])) < 2:\n",
    "        pair_orientations.append(np.nan) # assume validity\n",
    "        pair_rmse.append(np.nan)\n",
    "        pair_mis_mag.append(np.nan)\n",
    "        continue\n",
    "    \n",
    "    orientation, rmse = fit_orientation_index(expanded_pair_list[pair_i],\n",
    "                                              spot_qs,\n",
    "                                              ref_qs)\n",
    "\n",
    "    pair_orientations.append(orientation)\n",
    "    pair_mis_mag.append(np.degrees(orientation.magnitude()))\n",
    "\n",
    "    pair_rmse.append(rmse)\n",
    "\n",
    "pair_orientations = np.asarray(pair_orientations)\n",
    "pair_mis_mag = np.asarray(pair_mis_mag)\n",
    "pair_rmse = np.asarray(pair_rmse)\n",
    "\n",
    "print('Reducing symmetrically equivalent pairs...')\n",
    "eval_pair_mask = np.array([True,] * len(expanded_pair_list))\n",
    "keep_pair_mask = eval_pair_mask.copy()\n",
    "min_wavelength, max_wavelength = np.min(rsm.wavelength), np.max(rsm.wavelength)\n",
    "min_tth, max_tth = np.min(rsm.tth_arr), np.max(rsm.tth_arr)\n",
    "min_chi, max_chi = np.min(rsm.chi_arr), np.max(rsm.chi_arr)\n",
    "for pair_i in tqdm(range(len(expanded_pair_list))):\n",
    "\n",
    "    if not eval_pair_mask[pair_i]:\n",
    "        continue\n",
    "    \n",
    "    # Cannot symmetrically reduce orientations that cannot be determined\n",
    "    if np.isnan(pair_rmse[pair_i]):\n",
    "        eval_pair_mask[pair_i] = False\n",
    "        continue\n",
    "    \n",
    "    # TESTING FEATURE\n",
    "    # Discard poorly fitting pairs\n",
    "    if pair_rmse[pair_i] > min_q:\n",
    "        eval_pair_mask[pair_i] = False\n",
    "        keep_pair_mask[pair_i] = False\n",
    "        print('Horrible fitting')\n",
    "        continue\n",
    "\n",
    "    # Test to make sure all points are in probed volume\n",
    "    IN_SCAN_RANGE = True\n",
    "    pair_ref_qs = ref_qs[expanded_pair_list[pair_i][np.nonzero(~np.isnan(expanded_pair_list[pair_i]))[0]].astype(int)]\n",
    "    rot_qs = pair_ref_qs @ pair_orientations[pair_i].as_matrix()\n",
    "    tth, chi, wavelength = q_2_polar(rot_qs, degrees=True)\n",
    "    tth_mask = np.any([tth < min_tth * 0.85,\n",
    "                       tth > max_tth * 1.15],\n",
    "                       axis=0)\n",
    "    chi_mask = np.any([chi < min_chi * 0.85,\n",
    "                       chi > max_chi * 1.15],\n",
    "                       axis=0)\n",
    "    wavelength_mask = np.any([wavelength < min_wavelength * 0.85,\n",
    "                              wavelength > max_wavelength * 1.15],\n",
    "                              axis=0)\n",
    "    \n",
    "    if np.any([tth_mask, chi_mask, wavelength_mask]):\n",
    "        IN_SCAN_RANGE = False\n",
    "        #IN_SCAN_RANGE = True\n",
    "\n",
    "    # def trunc(values, decs=0):\n",
    "    #     return np.trunc(values * 10**decs) / (10**decs)\n",
    "\n",
    "    # similar_pair_mask = trunc(pair_rmse, 13) == trunc(pair_rmse[pair_i], 13)\n",
    "    similar_pair_mask = np.round(pair_rmse, 10) == np.round(pair_rmse[pair_i], 10)\n",
    "    #sym_pairs = expanded_pair_list[similar_pair_mask]\n",
    "    eval_pair_mask[similar_pair_mask] = False\n",
    "    keep_pair_mask[similar_pair_mask] = False\n",
    "    \n",
    "    if IN_SCAN_RANGE and np.sum(similar_pair_mask) > 1:\n",
    "        # most_positive_index = np.argmax([np.sign(np.asarray(ref_hkls)[pair[np.nonzero(~np.isnan(pair))[0]].astype(int)]).sum()\n",
    "        #                                 for pair in sym_pairs])\n",
    "        # most_positive_index = np.sign(np.asarray(ref_hkls)[sym_pairs[np.nonzero(~np.isnan(sym_pairs))].astype(int)].reshape(-1, 2, 3)).sum(axis=(1, 2)).argmax()\n",
    "\n",
    "        min_mis_mag = np.min(pair_mis_mag[similar_pair_mask])\n",
    "        mis_ind = np.nonzero(pair_mis_mag[similar_pair_mask] < min_mis_mag + near_angle)[0] # some wiggle room\n",
    "\n",
    "        keep_pair_mask[np.nonzero(similar_pair_mask)[0][mis_ind]] = True\n",
    "\n",
    "# pair_orientations = pair_orientations[keep_pair_mask]\n",
    "# pair_mis_mag = pair_mis_mag[keep_pair_mask]\n",
    "# pair_rmse = pair_rmse[keep_pair_mask]\n",
    "np.sum(keep_pair_mask)"
   ]
  },
  {
   "cell_type": "code",
   "execution_count": 185,
   "metadata": {},
   "outputs": [],
   "source": [
    "# Quicker cast and search from set of valid pairs\n",
    "from scipy.spatial import KDTree\n",
    "from scipy.optimize import curve_fit\n",
    "\n",
    "def generate_q_mask(qs,\n",
    "                    tth_ext,\n",
    "                    chi_ext,\n",
    "                    wavelength_ext,\n",
    "                    q_ext,\n",
    "                    ext=0.15,\n",
    "                    degrees=False):\n",
    "    \n",
    "    # Check extent parameters\n",
    "    for param in [tth_ext, chi_ext, wavelength_ext]:\n",
    "        if len(param) != 2:\n",
    "            raise ValueError('Input extents must be of length 2.')\n",
    "        if param[0] > param[1]:\n",
    "            raise ValueError('Input extents must be (minimum, maximum)')\n",
    "        \n",
    "    # Check qs shape\n",
    "\n",
    "    q_ext_mask = np.all([\n",
    "        np.all([qs[:, 0] > q_ext[0][0] * (1 - ext),\n",
    "                qs[:, 0] < q_ext[1][0] * (1 + ext)], axis=0),\n",
    "        np.all([qs[:, 1] > q_ext[0][1] * (1 - ext),\n",
    "                qs[:, 1] < q_ext[1][1] * (1 + ext)], axis=0),\n",
    "        np.all([qs[:, 2] > q_ext[0][2] * (1 - ext),\n",
    "                qs[:, 2] < q_ext[1][2] * (1 + ext)], axis=0),\n",
    "    ], axis=0)\n",
    "    \n",
    "    tth, chi, wavelength = q_2_polar(qs, degrees=degrees)\n",
    "\n",
    "    tth_mask = np.any([tth < tth_ext[0] * (1 - ext),\n",
    "                       tth > tth_ext[1] * (1 + ext)],\n",
    "                       axis=0)\n",
    "    chi_mask = np.any([chi < chi_ext[0] * (1 - ext),\n",
    "                       chi > chi_ext[1] * (1 + ext)],\n",
    "                       axis=0)\n",
    "    wavelength_mask = np.any([wavelength < wavelength_ext[0] * (1 - ext),\n",
    "                              wavelength > wavelength_ext[1] * (1 + ext)],\n",
    "                              axis=0)\n",
    "\n",
    "    # q_mask = ~(tth_mask | chi_mask | wavelength_mask)\n",
    "    q_mask = q_ext_mask & ~(tth_mask | chi_mask | wavelength_mask)\n",
    "\n",
    "    return q_mask\n",
    "\n",
    "\n",
    "# When we don't know, we through higher order polynomials\n",
    "# at it until it works\n",
    "def poly6(x, a, b, c, d, e, f, g):\n",
    "    return a * x**6 + b * x**5 + c * x**4 + d * x**3 + e * x**2 + f * x + g\n",
    "\n",
    "chi_upr_popt, _ = curve_fit(poly6, rsm.tth_arr[0], rsm.chi_arr[0])\n",
    "chi_lwr_popt, _ = curve_fit(poly6, rsm.tth_arr[-1], rsm.chi_arr[-1])\n",
    "tth_lwr_popt, _ = curve_fit(poly6, rsm.chi_arr[:, 0], rsm.tth_arr[:, 0])\n",
    "tth_upr_popt, _ = curve_fit(poly6, rsm.chi_arr[:, -1], rsm.tth_arr[:, -1])\n",
    "\n",
    "def generate_q_mask(qs,\n",
    "                    tth_ext,\n",
    "                    chi_ext,\n",
    "                    wavelength_ext,\n",
    "                    popts=[chi_upr_popt,\n",
    "                           chi_lwr_popt,\n",
    "                           tth_upr_popt,\n",
    "                           tth_lwr_popt],\n",
    "                    ext=0.05\n",
    "                    ):\n",
    "    \n",
    "    # Check extent parameters\n",
    "    for param in [tth_ext, chi_ext, wavelength_ext]:\n",
    "        if len(param) != 2:\n",
    "            raise ValueError('Input extents must be of length 2.')\n",
    "        if param[0] > param[1]:\n",
    "            raise ValueError('Input extents must be (minimum, maximum)')\n",
    "        \n",
    "    tth, chi, wavelength = q_2_polar(qs, degrees=True)\n",
    "\n",
    "    chi_upr_mask = chi <= poly6(tth, *popts[0]) * (1 + ext)\n",
    "    chi_lwr_mask = chi >= poly6(tth, *popts[1]) * (1 - ext)\n",
    "    tth_upr_mask = tth <= poly6(chi, *popts[2]) * (1 + ext)\n",
    "    tth_lwr_mask = tth >= poly6(chi, *popts[3]) * (1 - ext)\n",
    "\n",
    "    tth_mask = np.all([tth >= tth_ext[0] * (1 - ext),\n",
    "                       tth <= tth_ext[1] * (1 + ext)],\n",
    "                       axis=0)\n",
    "    chi_mask = np.all([chi >= chi_ext[0] * (1 - ext),\n",
    "                       chi <= chi_ext[1] * (1 + ext)],\n",
    "                       axis=0)\n",
    "\n",
    "    wavelength_mask = np.all([\n",
    "        wavelength >= wavelength_ext[0] * (1 - ext),\n",
    "        wavelength <= wavelength_ext[1] * (1 + ext)\n",
    "    ], axis=0)\n",
    "\n",
    "    q_mask = np.all([chi_lwr_mask,\n",
    "                     chi_upr_mask,\n",
    "                     tth_lwr_mask,\n",
    "                     tth_upr_mask,\n",
    "                     tth_mask,\n",
    "                     chi_mask,\n",
    "                     wavelength_mask], axis=0)\n",
    "    \n",
    "    return q_mask\n",
    "\n",
    "\n",
    "def fixed_pair_casting_indexing(pair_list,\n",
    "                                spot_qs,\n",
    "                                ref_qs,\n",
    "                                iter_max=50):\n",
    "\n",
    "    full_connections = []\n",
    "    full_orientations = []\n",
    "    full_connections_rmse = []\n",
    "    for i in tqdm(range(len(pair_list))):\n",
    "\n",
    "        pair = pair_list[i]\n",
    "        # pair_orientation = pair_orientations[keep_pair_mask][i]\n",
    "        pair_spot_inds = np.nonzero(~np.isnan(pair))[0]\n",
    "        pair_ref_inds = pair[pair_spot_inds]\n",
    "        prev_connection = pair.copy()\n",
    "\n",
    "        iter_count = 0\n",
    "        iter_max = 50\n",
    "        ITERATE = True\n",
    "        while ITERATE:\n",
    "            connection = pair.copy()\n",
    "            orientation, rmse = fit_orientation_index(prev_connection,\n",
    "                                                      spot_qs,\n",
    "                                                      ref_qs)\n",
    "\n",
    "            rot_qs = ref_qs @ orientation.as_matrix()\n",
    "            q_mask = generate_q_mask(rot_qs,\n",
    "                                     (min_tth, max_tth),\n",
    "                                     (min_chi, max_chi),\n",
    "                                     (min_wavelength, max_wavelength),\n",
    "                                     (q_mins, q_maxs),\n",
    "                                     degrees=True)\n",
    "\n",
    "            # kdtree built from spots so we can query the reference lattice and avoid non-crystallographic indexing\n",
    "            kdtree = KDTree(spot_qs)\n",
    "            pot_conn = kdtree.query_ball_point(rot_qs[q_mask], r=near_q)\n",
    "            # Remove original pair reflections\n",
    "            for ind in pair_ref_inds:\n",
    "                if ind in np.nonzero(q_mask)[0]:\n",
    "                    pot_conn[np.nonzero(np.nonzero(q_mask)[0] == ind)[0][0]] = []\n",
    "\n",
    "            # Expand connection\n",
    "            for conn_i, conn in enumerate(pot_conn):\n",
    "                if len(conn) > 0:\n",
    "                    # Remove reflections near original pair\n",
    "                    for ind in pair_spot_inds:\n",
    "                        if ind in conn:\n",
    "                            conn.remove(ind)\n",
    "                    if len(conn) == 0:\n",
    "                        continue\n",
    "                    elif len(conn) == 1:\n",
    "                        # Add candidate reflection\n",
    "                        connection[conn[0]] = np.nonzero(q_mask)[0][conn_i]\n",
    "                    else:\n",
    "                        # Add closest of multiple candidate reflections\n",
    "                        ref_dist, ref_idx = kdtree.query(rot_qs[q_mask][conn_i])\n",
    "                        connection[ref_idx] = np.nonzero(q_mask)[0][conn_i]\n",
    "            \n",
    "            # Compare connection with previous connection\n",
    "            connection_spots = np.nonzero(~np.isnan(connection))[0]\n",
    "            prev_connection_spots = np.nonzero(~np.isnan(prev_connection))[0]\n",
    "\n",
    "            if len(connection_spots) == len(prev_connection_spots):\n",
    "                connection_refs = connection[connection_spots]\n",
    "                prev_connection_refs = prev_connection[prev_connection_spots]\n",
    "\n",
    "                if (np.all(connection_spots == prev_connection_spots)\n",
    "                    and np.all(connection_refs == prev_connection_refs)):\n",
    "                    ITERATE = False\n",
    "\n",
    "            prev_connection = connection.copy()\n",
    "            iter_count += 1\n",
    "            if iter_count >= iter_max:\n",
    "                ITERATE = False\n",
    "                # Re-update orientation\n",
    "                orientation, rmse = fit_orientation_index(connection, \n",
    "                                                          spot_qs,\n",
    "                                                          ref_qs)\n",
    "                print(f'Max iterations reached for pair {i}.')\n",
    "\n",
    "        full_connections.append(connection)\n",
    "        full_orientations.append(orientation)\n",
    "        full_connections_rmse.append(rmse)\n",
    "        # if np.sum(~np.isnan(connection)) > 9:\n",
    "        #     break\n",
    "\n",
    "    return full_connections, full_orientations, full_connections_rmse\n",
    "\n",
    "\n",
    "def initial_pair_casting_indexing(pair_list,\n",
    "                                  spot_qs,\n",
    "                                  ref_qs,\n",
    "                                  iter_max=50):\n",
    "\n",
    "    full_connections = []\n",
    "    full_orientations = []\n",
    "    full_connections_rmse = []\n",
    "    for i in tqdm(range(len(pair_list))):\n",
    "\n",
    "        pair = pair_list[i]\n",
    "        prev_connection = pair.copy()\n",
    "\n",
    "        iter_count = 0\n",
    "        iter_max = 50\n",
    "        ITERATE = True\n",
    "        while ITERATE:\n",
    "            # Blank baseline connection\n",
    "            connection = pair.copy()\n",
    "            connection[:] = np.nan\n",
    "\n",
    "            orientation, rmse = fit_orientation_index(prev_connection,\n",
    "                                                      spot_qs,\n",
    "                                                      ref_qs)\n",
    "\n",
    "            rot_qs = ref_qs @ orientation.as_matrix()\n",
    "            q_mask = generate_q_mask(rot_qs,\n",
    "                                     (min_tth, max_tth),\n",
    "                                     (min_chi, max_chi),\n",
    "                                     (min_wavelength, max_wavelength),\n",
    "                                     ext=0.05)\n",
    "\n",
    "            # kdtree built from spots so we can query the reference lattice and avoid non-crystallographic indexing\n",
    "            kdtree = KDTree(spot_qs)\n",
    "            pot_conn = kdtree.query_ball_point(rot_qs[q_mask], r=near_q)\n",
    "\n",
    "            # Build new connection\n",
    "            for conn_i, conn in enumerate(pot_conn):\n",
    "                if len(conn) > 0:\n",
    "                    if len(conn) == 0:\n",
    "                        continue\n",
    "                    elif len(conn) == 1:\n",
    "                        # Add candidate reflection\n",
    "                        connection[conn[0]] = np.nonzero(q_mask)[0][conn_i]\n",
    "                    else:\n",
    "                        # Add closest of multiple candidate reflections\n",
    "                        ref_dist, ref_idx = kdtree.query(rot_qs[q_mask][conn_i])\n",
    "                        connection[ref_idx] = np.nonzero(q_mask)[0][conn_i]\n",
    "            \n",
    "            # Eliminate less than pairs and replace with pair\n",
    "            if np.sum(~np.isnan(connection)) <= 1:\n",
    "                connection = pair.copy()\n",
    "                ITERATE = False\n",
    "                orientation, rmse = fit_orientation_index(connection, \n",
    "                                                          spot_qs,\n",
    "                                                          ref_qs)\n",
    "                break\n",
    "\n",
    "            # Compare connection with previous connection\n",
    "            connection_spots = np.nonzero(~np.isnan(connection))[0]\n",
    "            prev_connection_spots = np.nonzero(~np.isnan(prev_connection))[0]\n",
    "\n",
    "            if len(connection_spots) == len(prev_connection_spots):\n",
    "                connection_refs = connection[connection_spots]\n",
    "                prev_connection_refs = prev_connection[prev_connection_spots]\n",
    "\n",
    "                if (np.all(connection_spots == prev_connection_spots)\n",
    "                    and np.all(connection_refs == prev_connection_refs)):\n",
    "                    ITERATE = False\n",
    "\n",
    "            prev_connection = connection.copy()\n",
    "            iter_count += 1\n",
    "            if iter_count >= iter_max:\n",
    "                ITERATE = False\n",
    "                # Re-update orientation\n",
    "                orientation, rmse = fit_orientation_index(connection, \n",
    "                                                          spot_qs,\n",
    "                                                          ref_qs)\n",
    "                print(f'Max iterations reached for pair {i}.')\n",
    "\n",
    "        full_connections.append(connection)\n",
    "        full_orientations.append(orientation)\n",
    "        full_connections_rmse.append(rmse)\n",
    "\n",
    "    return full_connections, full_orientations, full_connections_rmse\n",
    "\n"
   ]
  },
  {
   "cell_type": "code",
   "execution_count": 186,
   "metadata": {},
   "outputs": [
    {
     "name": "stdout",
     "output_type": "stream",
     "text": [
      "Finding orientation 1.\n"
     ]
    },
    {
     "name": "stderr",
     "output_type": "stream",
     "text": [
      "  0%|          | 47/80188 [00:00<08:20, 160.13it/s]C:\\Users\\emusterma\\AppData\\Local\\Temp\\ipykernel_18408\\3167248389.py:18: UserWarning: Optimal rotation is not uniquely or poorly defined for the given sets of vectors.\n",
      "  fit_orientation, fit_rssd = Rotation.align_vectors(fit_ref_qs, fit_spot_qs)\n",
      "  6%|▌         | 4529/80188 [00:23<08:29, 148.58it/s]"
     ]
    },
    {
     "name": "stdout",
     "output_type": "stream",
     "text": [
      "Max iterations reached for pair 4496.\n"
     ]
    },
    {
     "name": "stderr",
     "output_type": "stream",
     "text": [
      " 19%|█▊        | 14945/80188 [01:13<07:00, 155.13it/s]"
     ]
    },
    {
     "name": "stdout",
     "output_type": "stream",
     "text": [
      "Max iterations reached for pair 14916.\n"
     ]
    },
    {
     "name": "stderr",
     "output_type": "stream",
     "text": [
      " 26%|██▋       | 21192/80188 [01:49<07:25, 132.47it/s]"
     ]
    },
    {
     "name": "stdout",
     "output_type": "stream",
     "text": [
      "Max iterations reached for pair 21170.\n"
     ]
    },
    {
     "name": "stderr",
     "output_type": "stream",
     "text": [
      " 27%|██▋       | 21767/80188 [01:53<07:11, 135.35it/s]"
     ]
    },
    {
     "name": "stdout",
     "output_type": "stream",
     "text": [
      "Max iterations reached for pair 21743.\n"
     ]
    },
    {
     "name": "stderr",
     "output_type": "stream",
     "text": [
      " 27%|██▋       | 21801/80188 [01:53<08:16, 117.57it/s]"
     ]
    },
    {
     "name": "stdout",
     "output_type": "stream",
     "text": [
      "Max iterations reached for pair 21779.\n"
     ]
    },
    {
     "name": "stderr",
     "output_type": "stream",
     "text": [
      " 34%|███▎      | 26932/80188 [02:23<06:33, 135.50it/s]"
     ]
    },
    {
     "name": "stdout",
     "output_type": "stream",
     "text": [
      "Max iterations reached for pair 26907.\n"
     ]
    },
    {
     "name": "stderr",
     "output_type": "stream",
     "text": [
      " 64%|██████▎   | 50974/80188 [04:12<02:42, 179.50it/s]"
     ]
    },
    {
     "name": "stdout",
     "output_type": "stream",
     "text": [
      "Max iterations reached for pair 50946.\n"
     ]
    },
    {
     "name": "stderr",
     "output_type": "stream",
     "text": [
      " 88%|████████▊ | 70777/80188 [05:38<00:47, 199.97it/s]"
     ]
    },
    {
     "name": "stdout",
     "output_type": "stream",
     "text": [
      "Max iterations reached for pair 70752.\n"
     ]
    },
    {
     "name": "stderr",
     "output_type": "stream",
     "text": [
      " 93%|█████████▎| 74215/80188 [05:51<00:33, 180.57it/s]"
     ]
    },
    {
     "name": "stdout",
     "output_type": "stream",
     "text": [
      "Max iterations reached for pair 74179.\n"
     ]
    },
    {
     "name": "stderr",
     "output_type": "stream",
     "text": [
      " 96%|█████████▌| 76599/80188 [06:01<00:15, 224.71it/s]"
     ]
    },
    {
     "name": "stdout",
     "output_type": "stream",
     "text": [
      "Max iterations reached for pair 76560.\n"
     ]
    },
    {
     "name": "stderr",
     "output_type": "stream",
     "text": [
      " 98%|█████████▊| 78949/80188 [06:11<00:07, 168.93it/s]"
     ]
    },
    {
     "name": "stdout",
     "output_type": "stream",
     "text": [
      "Max iterations reached for pair 78921.\n"
     ]
    },
    {
     "name": "stderr",
     "output_type": "stream",
     "text": [
      "100%|██████████| 80188/80188 [06:16<00:00, 213.22it/s]\n"
     ]
    },
    {
     "name": "stdout",
     "output_type": "stream",
     "text": [
      "Finding orientation 2.\n"
     ]
    },
    {
     "name": "stderr",
     "output_type": "stream",
     "text": [
      "  6%|▌         | 4379/76225 [00:21<07:12, 166.28it/s]"
     ]
    },
    {
     "name": "stdout",
     "output_type": "stream",
     "text": [
      "Max iterations reached for pair 4356.\n"
     ]
    },
    {
     "name": "stderr",
     "output_type": "stream",
     "text": [
      " 19%|█▉        | 14459/76225 [01:12<05:36, 183.68it/s]"
     ]
    },
    {
     "name": "stdout",
     "output_type": "stream",
     "text": [
      "Max iterations reached for pair 14432.\n"
     ]
    },
    {
     "name": "stderr",
     "output_type": "stream",
     "text": [
      " 27%|██▋       | 20232/76225 [01:41<06:41, 139.31it/s]"
     ]
    },
    {
     "name": "stdout",
     "output_type": "stream",
     "text": [
      "Max iterations reached for pair 20196.\n"
     ]
    },
    {
     "name": "stderr",
     "output_type": "stream",
     "text": [
      " 27%|██▋       | 20778/76225 [01:43<05:39, 163.09it/s]"
     ]
    },
    {
     "name": "stdout",
     "output_type": "stream",
     "text": [
      "Max iterations reached for pair 20756.\n"
     ]
    },
    {
     "name": "stderr",
     "output_type": "stream",
     "text": [
      " 27%|██▋       | 20816/76225 [01:44<06:53, 133.99it/s]"
     ]
    },
    {
     "name": "stdout",
     "output_type": "stream",
     "text": [
      "Max iterations reached for pair 20792.\n"
     ]
    },
    {
     "name": "stderr",
     "output_type": "stream",
     "text": [
      " 34%|███▍      | 25783/76225 [02:07<04:58, 169.21it/s]"
     ]
    },
    {
     "name": "stdout",
     "output_type": "stream",
     "text": [
      "Max iterations reached for pair 25744.\n"
     ]
    },
    {
     "name": "stderr",
     "output_type": "stream",
     "text": [
      " 64%|██████▎   | 48589/76225 [05:39<07:07, 64.59it/s]  "
     ]
    },
    {
     "name": "stdout",
     "output_type": "stream",
     "text": [
      "Max iterations reached for pair 48577.\n"
     ]
    },
    {
     "name": "stderr",
     "output_type": "stream",
     "text": [
      " 88%|████████▊ | 67392/76225 [08:40<02:14, 65.45it/s] "
     ]
    },
    {
     "name": "stdout",
     "output_type": "stream",
     "text": [
      "Max iterations reached for pair 67380.\n"
     ]
    },
    {
     "name": "stderr",
     "output_type": "stream",
     "text": [
      " 93%|█████████▎| 70606/76225 [09:09<01:20, 70.13it/s] "
     ]
    },
    {
     "name": "stdout",
     "output_type": "stream",
     "text": [
      "Max iterations reached for pair 70590.\n"
     ]
    },
    {
     "name": "stderr",
     "output_type": "stream",
     "text": [
      " 96%|█████████▌| 72895/76225 [09:31<00:39, 83.70it/s] "
     ]
    },
    {
     "name": "stdout",
     "output_type": "stream",
     "text": [
      "Max iterations reached for pair 72881.\n"
     ]
    },
    {
     "name": "stderr",
     "output_type": "stream",
     "text": [
      " 98%|█████████▊| 75048/76225 [09:51<00:17, 65.53it/s] "
     ]
    },
    {
     "name": "stdout",
     "output_type": "stream",
     "text": [
      "Max iterations reached for pair 75037.\n"
     ]
    },
    {
     "name": "stderr",
     "output_type": "stream",
     "text": [
      "100%|██████████| 76225/76225 [10:02<00:00, 126.60it/s]\n"
     ]
    },
    {
     "name": "stdout",
     "output_type": "stream",
     "text": [
      "Finding orientation 3.\n"
     ]
    },
    {
     "name": "stderr",
     "output_type": "stream",
     "text": [
      "  5%|▌         | 3860/72614 [00:41<30:05, 38.07it/s] "
     ]
    },
    {
     "name": "stdout",
     "output_type": "stream",
     "text": [
      "Max iterations reached for pair 3851.\n"
     ]
    },
    {
     "name": "stderr",
     "output_type": "stream",
     "text": [
      " 19%|█▉        | 13701/72614 [02:21<12:46, 76.82it/s] "
     ]
    },
    {
     "name": "stdout",
     "output_type": "stream",
     "text": [
      "Max iterations reached for pair 13683.\n"
     ]
    },
    {
     "name": "stderr",
     "output_type": "stream",
     "text": [
      " 27%|██▋       | 19313/72614 [03:19<13:37, 65.18it/s] "
     ]
    },
    {
     "name": "stdout",
     "output_type": "stream",
     "text": [
      "Max iterations reached for pair 19297.\n"
     ]
    },
    {
     "name": "stderr",
     "output_type": "stream",
     "text": [
      " 27%|██▋       | 19857/72614 [03:24<14:54, 58.96it/s] "
     ]
    },
    {
     "name": "stdout",
     "output_type": "stream",
     "text": [
      "Max iterations reached for pair 19846.\n"
     ]
    },
    {
     "name": "stderr",
     "output_type": "stream",
     "text": [
      " 27%|██▋       | 19894/72614 [03:25<16:14, 54.11it/s]"
     ]
    },
    {
     "name": "stdout",
     "output_type": "stream",
     "text": [
      "Max iterations reached for pair 19882.\n"
     ]
    },
    {
     "name": "stderr",
     "output_type": "stream",
     "text": [
      " 34%|███▍      | 24708/72614 [04:11<14:40, 54.38it/s] "
     ]
    },
    {
     "name": "stdout",
     "output_type": "stream",
     "text": [
      "Max iterations reached for pair 24699.\n"
     ]
    },
    {
     "name": "stderr",
     "output_type": "stream",
     "text": [
      " 72%|███████▏  | 52334/72614 [08:28<05:08, 65.80it/s] "
     ]
    },
    {
     "name": "stdout",
     "output_type": "stream",
     "text": [
      "Max iterations reached for pair 52315.\n"
     ]
    },
    {
     "name": "stderr",
     "output_type": "stream",
     "text": [
      " 88%|████████▊ | 64157/72614 [10:14<02:37, 53.81it/s] "
     ]
    },
    {
     "name": "stdout",
     "output_type": "stream",
     "text": [
      "Max iterations reached for pair 64141.\n"
     ]
    },
    {
     "name": "stderr",
     "output_type": "stream",
     "text": [
      " 93%|█████████▎| 67282/72614 [10:45<01:28, 59.93it/s] "
     ]
    },
    {
     "name": "stdout",
     "output_type": "stream",
     "text": [
      "Max iterations reached for pair 67271.\n"
     ]
    },
    {
     "name": "stderr",
     "output_type": "stream",
     "text": [
      " 94%|█████████▍| 68278/72614 [10:54<00:56, 76.23it/s] "
     ]
    },
    {
     "name": "stdout",
     "output_type": "stream",
     "text": [
      "Max iterations reached for pair 68265.\n"
     ]
    },
    {
     "name": "stderr",
     "output_type": "stream",
     "text": [
      " 96%|█████████▌| 69520/72614 [11:05<00:34, 88.64it/s] "
     ]
    },
    {
     "name": "stdout",
     "output_type": "stream",
     "text": [
      "Max iterations reached for pair 69498.\n"
     ]
    },
    {
     "name": "stderr",
     "output_type": "stream",
     "text": [
      " 98%|█████████▊| 71517/72614 [11:24<00:16, 67.53it/s] "
     ]
    },
    {
     "name": "stdout",
     "output_type": "stream",
     "text": [
      "Max iterations reached for pair 71496.\n"
     ]
    },
    {
     "name": "stderr",
     "output_type": "stream",
     "text": [
      "100%|██████████| 72614/72614 [11:34<00:00, 104.58it/s]\n"
     ]
    },
    {
     "name": "stdout",
     "output_type": "stream",
     "text": [
      "Finding orientation 4.\n"
     ]
    },
    {
     "name": "stderr",
     "output_type": "stream",
     "text": [
      "100%|██████████| 69722/69722 [10:56<00:00, 106.23it/s]\n"
     ]
    },
    {
     "name": "stdout",
     "output_type": "stream",
     "text": [
      "Finding orientation 5.\n"
     ]
    },
    {
     "name": "stderr",
     "output_type": "stream",
     "text": [
      "100%|██████████| 66745/66745 [10:20<00:00, 107.56it/s]\n"
     ]
    },
    {
     "name": "stdout",
     "output_type": "stream",
     "text": [
      "Finding orientation 6.\n"
     ]
    },
    {
     "name": "stderr",
     "output_type": "stream",
     "text": [
      "100%|██████████| 63951/63951 [09:43<00:00, 109.63it/s]\n"
     ]
    },
    {
     "name": "stdout",
     "output_type": "stream",
     "text": [
      "Finding orientation 7.\n"
     ]
    },
    {
     "name": "stderr",
     "output_type": "stream",
     "text": [
      "100%|██████████| 61520/61520 [10:04<00:00, 101.81it/s]\n"
     ]
    },
    {
     "name": "stdout",
     "output_type": "stream",
     "text": [
      "Finding orientation 8.\n"
     ]
    },
    {
     "name": "stderr",
     "output_type": "stream",
     "text": [
      "100%|██████████| 58226/58226 [11:12<00:00, 86.53it/s] \n"
     ]
    },
    {
     "name": "stdout",
     "output_type": "stream",
     "text": [
      "Finding orientation 9.\n"
     ]
    },
    {
     "name": "stderr",
     "output_type": "stream",
     "text": [
      "100%|██████████| 55472/55472 [08:45<00:00, 105.60it/s]\n"
     ]
    },
    {
     "name": "stdout",
     "output_type": "stream",
     "text": [
      "Finding orientation 10.\n"
     ]
    },
    {
     "name": "stderr",
     "output_type": "stream",
     "text": [
      "100%|██████████| 53369/53369 [03:38<00:00, 243.78it/s]\n"
     ]
    },
    {
     "name": "stdout",
     "output_type": "stream",
     "text": [
      "Finding orientation 11.\n"
     ]
    },
    {
     "name": "stderr",
     "output_type": "stream",
     "text": [
      " 51%|█████▏    | 26662/51956 [01:50<02:13, 188.96it/s]"
     ]
    },
    {
     "name": "stdout",
     "output_type": "stream",
     "text": [
      "Max iterations reached for pair 26618.\n"
     ]
    },
    {
     "name": "stderr",
     "output_type": "stream",
     "text": [
      " 52%|█████▏    | 26767/51956 [01:50<02:08, 195.37it/s]"
     ]
    },
    {
     "name": "stdout",
     "output_type": "stream",
     "text": [
      "Max iterations reached for pair 26734.\n"
     ]
    },
    {
     "name": "stderr",
     "output_type": "stream",
     "text": [
      " 52%|█████▏    | 26810/51956 [01:50<02:36, 160.98it/s]"
     ]
    },
    {
     "name": "stdout",
     "output_type": "stream",
     "text": [
      "Max iterations reached for pair 26782.\n"
     ]
    },
    {
     "name": "stderr",
     "output_type": "stream",
     "text": [
      "100%|██████████| 51956/51956 [03:33<00:00, 243.67it/s]\n"
     ]
    },
    {
     "name": "stdout",
     "output_type": "stream",
     "text": [
      "Finding orientation 12.\n"
     ]
    },
    {
     "name": "stderr",
     "output_type": "stream",
     "text": [
      " 52%|█████▏    | 26027/50328 [01:46<02:04, 194.55it/s]"
     ]
    },
    {
     "name": "stdout",
     "output_type": "stream",
     "text": [
      "Max iterations reached for pair 25976.\n"
     ]
    },
    {
     "name": "stderr",
     "output_type": "stream",
     "text": [
      " 52%|█████▏    | 26131/50328 [01:47<02:06, 190.95it/s]"
     ]
    },
    {
     "name": "stdout",
     "output_type": "stream",
     "text": [
      "Max iterations reached for pair 26089.\n"
     ]
    },
    {
     "name": "stderr",
     "output_type": "stream",
     "text": [
      " 52%|█████▏    | 26176/50328 [01:47<02:21, 171.20it/s]"
     ]
    },
    {
     "name": "stdout",
     "output_type": "stream",
     "text": [
      "Max iterations reached for pair 26137.\n"
     ]
    },
    {
     "name": "stderr",
     "output_type": "stream",
     "text": [
      "100%|██████████| 50328/50328 [03:22<00:00, 248.77it/s]\n"
     ]
    },
    {
     "name": "stdout",
     "output_type": "stream",
     "text": [
      "Finding orientation 13.\n"
     ]
    },
    {
     "name": "stderr",
     "output_type": "stream",
     "text": [
      " 50%|█████     | 24500/48638 [01:37<02:09, 187.11it/s]"
     ]
    },
    {
     "name": "stdout",
     "output_type": "stream",
     "text": [
      "Max iterations reached for pair 24467.\n"
     ]
    },
    {
     "name": "stderr",
     "output_type": "stream",
     "text": [
      " 51%|█████     | 24611/48638 [01:38<02:04, 193.41it/s]"
     ]
    },
    {
     "name": "stdout",
     "output_type": "stream",
     "text": [
      "Max iterations reached for pair 24580.\n"
     ]
    },
    {
     "name": "stderr",
     "output_type": "stream",
     "text": [
      " 51%|█████     | 24657/48638 [01:38<02:20, 171.24it/s]"
     ]
    },
    {
     "name": "stdout",
     "output_type": "stream",
     "text": [
      "Max iterations reached for pair 24628.\n"
     ]
    },
    {
     "name": "stderr",
     "output_type": "stream",
     "text": [
      "100%|██████████| 48638/48638 [03:09<00:00, 256.70it/s]\n"
     ]
    },
    {
     "name": "stdout",
     "output_type": "stream",
     "text": [
      "Finding orientation 14.\n"
     ]
    },
    {
     "name": "stderr",
     "output_type": "stream",
     "text": [
      " 51%|█████     | 24168/47219 [01:38<01:59, 193.14it/s]"
     ]
    },
    {
     "name": "stdout",
     "output_type": "stream",
     "text": [
      "Max iterations reached for pair 24121.\n"
     ]
    },
    {
     "name": "stderr",
     "output_type": "stream",
     "text": [
      " 51%|█████▏    | 24271/47219 [01:38<01:59, 192.41it/s]"
     ]
    },
    {
     "name": "stdout",
     "output_type": "stream",
     "text": [
      "Max iterations reached for pair 24231.\n"
     ]
    },
    {
     "name": "stderr",
     "output_type": "stream",
     "text": [
      " 51%|█████▏    | 24317/47219 [01:39<02:12, 173.39it/s]"
     ]
    },
    {
     "name": "stdout",
     "output_type": "stream",
     "text": [
      "Max iterations reached for pair 24279.\n"
     ]
    },
    {
     "name": "stderr",
     "output_type": "stream",
     "text": [
      "100%|██████████| 47219/47219 [03:06<00:00, 253.52it/s]\n"
     ]
    },
    {
     "name": "stdout",
     "output_type": "stream",
     "text": [
      "Finding orientation 15.\n"
     ]
    },
    {
     "name": "stderr",
     "output_type": "stream",
     "text": [
      " 51%|█████     | 23154/45669 [01:30<01:56, 193.82it/s]"
     ]
    },
    {
     "name": "stdout",
     "output_type": "stream",
     "text": [
      "Max iterations reached for pair 23114.\n"
     ]
    },
    {
     "name": "stderr",
     "output_type": "stream",
     "text": [
      " 51%|█████     | 23269/45669 [01:31<01:54, 195.82it/s]"
     ]
    },
    {
     "name": "stdout",
     "output_type": "stream",
     "text": [
      "Max iterations reached for pair 23224.\n"
     ]
    },
    {
     "name": "stderr",
     "output_type": "stream",
     "text": [
      " 51%|█████     | 23318/45669 [01:31<02:04, 179.48it/s]"
     ]
    },
    {
     "name": "stdout",
     "output_type": "stream",
     "text": [
      "Max iterations reached for pair 23272.\n"
     ]
    },
    {
     "name": "stderr",
     "output_type": "stream",
     "text": [
      "100%|██████████| 45669/45669 [02:54<00:00, 261.68it/s]\n"
     ]
    },
    {
     "name": "stdout",
     "output_type": "stream",
     "text": [
      "Finding orientation 16.\n"
     ]
    },
    {
     "name": "stderr",
     "output_type": "stream",
     "text": [
      " 51%|█████     | 22563/44215 [01:27<01:52, 191.72it/s]"
     ]
    },
    {
     "name": "stdout",
     "output_type": "stream",
     "text": [
      "Max iterations reached for pair 22529.\n"
     ]
    },
    {
     "name": "stderr",
     "output_type": "stream",
     "text": [
      " 51%|█████▏    | 22677/44215 [01:28<01:46, 201.63it/s]"
     ]
    },
    {
     "name": "stdout",
     "output_type": "stream",
     "text": [
      "Max iterations reached for pair 22639.\n"
     ]
    },
    {
     "name": "stderr",
     "output_type": "stream",
     "text": [
      " 51%|█████▏    | 22727/44215 [01:28<01:58, 181.31it/s]"
     ]
    },
    {
     "name": "stdout",
     "output_type": "stream",
     "text": [
      "Max iterations reached for pair 22685.\n"
     ]
    },
    {
     "name": "stderr",
     "output_type": "stream",
     "text": [
      "100%|██████████| 44215/44215 [02:48<00:00, 263.09it/s]\n"
     ]
    },
    {
     "name": "stdout",
     "output_type": "stream",
     "text": [
      "Finding orientation 17.\n"
     ]
    },
    {
     "name": "stderr",
     "output_type": "stream",
     "text": [
      " 50%|█████     | 21540/42758 [01:21<01:43, 204.53it/s]"
     ]
    },
    {
     "name": "stdout",
     "output_type": "stream",
     "text": [
      "Max iterations reached for pair 21510.\n"
     ]
    },
    {
     "name": "stderr",
     "output_type": "stream",
     "text": [
      " 51%|█████     | 21653/42758 [01:21<01:40, 209.11it/s]"
     ]
    },
    {
     "name": "stdout",
     "output_type": "stream",
     "text": [
      "Max iterations reached for pair 21618.\n"
     ]
    },
    {
     "name": "stderr",
     "output_type": "stream",
     "text": [
      " 51%|█████     | 21703/42758 [01:22<01:51, 188.54it/s]"
     ]
    },
    {
     "name": "stdout",
     "output_type": "stream",
     "text": [
      "Max iterations reached for pair 21664.\n"
     ]
    },
    {
     "name": "stderr",
     "output_type": "stream",
     "text": [
      "100%|██████████| 42758/42758 [02:38<00:00, 269.21it/s]\n"
     ]
    },
    {
     "name": "stdout",
     "output_type": "stream",
     "text": [
      "Finding orientation 18.\n"
     ]
    },
    {
     "name": "stderr",
     "output_type": "stream",
     "text": [
      " 50%|█████     | 21237/42119 [01:19<01:30, 229.77it/s]"
     ]
    },
    {
     "name": "stdout",
     "output_type": "stream",
     "text": [
      "Max iterations reached for pair 21179.\n"
     ]
    },
    {
     "name": "stderr",
     "output_type": "stream",
     "text": [
      " 51%|█████     | 21323/42119 [01:19<01:39, 209.67it/s]"
     ]
    },
    {
     "name": "stdout",
     "output_type": "stream",
     "text": [
      "Max iterations reached for pair 21286.\n"
     ]
    },
    {
     "name": "stderr",
     "output_type": "stream",
     "text": [
      " 51%|█████     | 21374/42119 [01:20<01:51, 185.77it/s]"
     ]
    },
    {
     "name": "stdout",
     "output_type": "stream",
     "text": [
      "Max iterations reached for pair 21332.\n"
     ]
    },
    {
     "name": "stderr",
     "output_type": "stream",
     "text": [
      "100%|██████████| 42119/42119 [02:35<00:00, 270.79it/s]\n"
     ]
    },
    {
     "name": "stdout",
     "output_type": "stream",
     "text": [
      "Finding orientation 19.\n"
     ]
    },
    {
     "name": "stderr",
     "output_type": "stream",
     "text": [
      " 50%|█████     | 20499/40893 [01:16<01:33, 217.22it/s]"
     ]
    },
    {
     "name": "stdout",
     "output_type": "stream",
     "text": [
      "Max iterations reached for pair 20453.\n"
     ]
    },
    {
     "name": "stderr",
     "output_type": "stream",
     "text": [
      " 50%|█████     | 20584/40893 [01:16<01:50, 183.58it/s]"
     ]
    },
    {
     "name": "stdout",
     "output_type": "stream",
     "text": [
      "Max iterations reached for pair 20559.\n"
     ]
    },
    {
     "name": "stderr",
     "output_type": "stream",
     "text": [
      " 51%|█████     | 20657/40893 [01:17<01:46, 189.74it/s]"
     ]
    },
    {
     "name": "stdout",
     "output_type": "stream",
     "text": [
      "Max iterations reached for pair 20605.\n"
     ]
    },
    {
     "name": "stderr",
     "output_type": "stream",
     "text": [
      "100%|██████████| 40893/40893 [02:28<00:00, 274.80it/s]\n"
     ]
    },
    {
     "name": "stdout",
     "output_type": "stream",
     "text": [
      "Finding orientation 20.\n"
     ]
    },
    {
     "name": "stderr",
     "output_type": "stream",
     "text": [
      " 50%|████▉     | 19653/39686 [01:12<01:30, 222.51it/s]"
     ]
    },
    {
     "name": "stdout",
     "output_type": "stream",
     "text": [
      "Max iterations reached for pair 19597.\n"
     ]
    },
    {
     "name": "stderr",
     "output_type": "stream",
     "text": [
      " 50%|████▉     | 19735/39686 [01:13<01:41, 197.37it/s]"
     ]
    },
    {
     "name": "stdout",
     "output_type": "stream",
     "text": [
      "Max iterations reached for pair 19703.\n"
     ]
    },
    {
     "name": "stderr",
     "output_type": "stream",
     "text": [
      " 50%|████▉     | 19786/39686 [01:13<01:49, 181.55it/s]"
     ]
    },
    {
     "name": "stdout",
     "output_type": "stream",
     "text": [
      "Max iterations reached for pair 19749.\n"
     ]
    },
    {
     "name": "stderr",
     "output_type": "stream",
     "text": [
      "100%|██████████| 39686/39686 [02:25<00:00, 273.59it/s]\n"
     ]
    },
    {
     "name": "stdout",
     "output_type": "stream",
     "text": [
      "Finding orientation 21.\n"
     ]
    },
    {
     "name": "stderr",
     "output_type": "stream",
     "text": [
      " 49%|████▉     | 19294/39084 [01:09<01:30, 219.08it/s]"
     ]
    },
    {
     "name": "stdout",
     "output_type": "stream",
     "text": [
      "Max iterations reached for pair 19259.\n"
     ]
    },
    {
     "name": "stderr",
     "output_type": "stream",
     "text": [
      " 50%|████▉     | 19410/39084 [01:10<01:33, 210.70it/s]"
     ]
    },
    {
     "name": "stdout",
     "output_type": "stream",
     "text": [
      "Max iterations reached for pair 19365.\n"
     ]
    },
    {
     "name": "stderr",
     "output_type": "stream",
     "text": [
      " 50%|████▉     | 19462/39084 [01:10<01:42, 191.86it/s]"
     ]
    },
    {
     "name": "stdout",
     "output_type": "stream",
     "text": [
      "Max iterations reached for pair 19410.\n"
     ]
    },
    {
     "name": "stderr",
     "output_type": "stream",
     "text": [
      "100%|██████████| 39084/39084 [02:20<00:00, 278.28it/s]\n"
     ]
    },
    {
     "name": "stdout",
     "output_type": "stream",
     "text": [
      "Finding orientation 22.\n"
     ]
    },
    {
     "name": "stderr",
     "output_type": "stream",
     "text": [
      " 49%|████▉     | 18476/37684 [01:07<01:28, 216.96it/s]"
     ]
    },
    {
     "name": "stdout",
     "output_type": "stream",
     "text": [
      "Max iterations reached for pair 18426.\n"
     ]
    },
    {
     "name": "stderr",
     "output_type": "stream",
     "text": [
      " 49%|████▉     | 18559/37684 [01:07<01:34, 203.36it/s]"
     ]
    },
    {
     "name": "stdout",
     "output_type": "stream",
     "text": [
      "Max iterations reached for pair 18528.\n"
     ]
    },
    {
     "name": "stderr",
     "output_type": "stream",
     "text": [
      " 49%|████▉     | 18609/37684 [01:08<01:45, 181.60it/s]"
     ]
    },
    {
     "name": "stdout",
     "output_type": "stream",
     "text": [
      "Max iterations reached for pair 18573.\n"
     ]
    },
    {
     "name": "stderr",
     "output_type": "stream",
     "text": [
      "100%|██████████| 37684/37684 [02:15<00:00, 278.84it/s]\n"
     ]
    },
    {
     "name": "stdout",
     "output_type": "stream",
     "text": [
      "Finding orientation 23.\n"
     ]
    },
    {
     "name": "stderr",
     "output_type": "stream",
     "text": [
      " 48%|████▊     | 17562/36222 [01:02<01:22, 225.07it/s]"
     ]
    },
    {
     "name": "stdout",
     "output_type": "stream",
     "text": [
      "Max iterations reached for pair 17515.\n"
     ]
    },
    {
     "name": "stderr",
     "output_type": "stream",
     "text": [
      " 49%|████▊     | 17641/36222 [01:02<01:42, 180.98it/s]"
     ]
    },
    {
     "name": "stdout",
     "output_type": "stream",
     "text": [
      "Max iterations reached for pair 17616.\n"
     ]
    },
    {
     "name": "stderr",
     "output_type": "stream",
     "text": [
      " 49%|████▉     | 17692/36222 [01:02<01:44, 177.52it/s]"
     ]
    },
    {
     "name": "stdout",
     "output_type": "stream",
     "text": [
      "Max iterations reached for pair 17660.\n"
     ]
    },
    {
     "name": "stderr",
     "output_type": "stream",
     "text": [
      "100%|██████████| 36222/36222 [02:06<00:00, 286.67it/s]\n"
     ]
    },
    {
     "name": "stdout",
     "output_type": "stream",
     "text": [
      "Finding orientation 24.\n"
     ]
    },
    {
     "name": "stderr",
     "output_type": "stream",
     "text": [
      " 49%|████▉     | 17361/35244 [01:00<01:12, 245.58it/s]"
     ]
    },
    {
     "name": "stdout",
     "output_type": "stream",
     "text": [
      "Max iterations reached for pair 17296.\n"
     ]
    },
    {
     "name": "stderr",
     "output_type": "stream",
     "text": [
      " 49%|████▉     | 17416/35244 [01:01<01:33, 190.99it/s]"
     ]
    },
    {
     "name": "stdout",
     "output_type": "stream",
     "text": [
      "Max iterations reached for pair 17393.\n"
     ]
    },
    {
     "name": "stderr",
     "output_type": "stream",
     "text": [
      " 50%|████▉     | 17495/35244 [01:01<01:28, 200.50it/s]"
     ]
    },
    {
     "name": "stdout",
     "output_type": "stream",
     "text": [
      "Max iterations reached for pair 17435.\n"
     ]
    },
    {
     "name": "stderr",
     "output_type": "stream",
     "text": [
      "100%|██████████| 35244/35244 [02:02<00:00, 287.29it/s]\n"
     ]
    },
    {
     "name": "stdout",
     "output_type": "stream",
     "text": [
      "Finding orientation 25.\n"
     ]
    },
    {
     "name": "stderr",
     "output_type": "stream",
     "text": [
      " 49%|████▉     | 16686/34126 [00:58<01:15, 230.11it/s]"
     ]
    },
    {
     "name": "stdout",
     "output_type": "stream",
     "text": [
      "Max iterations reached for pair 16641.\n"
     ]
    },
    {
     "name": "stderr",
     "output_type": "stream",
     "text": [
      " 49%|████▉     | 16772/34126 [00:59<01:21, 212.49it/s]"
     ]
    },
    {
     "name": "stdout",
     "output_type": "stream",
     "text": [
      "Max iterations reached for pair 16738.\n"
     ]
    },
    {
     "name": "stderr",
     "output_type": "stream",
     "text": [
      " 49%|████▉     | 16824/34126 [00:59<01:32, 186.69it/s]"
     ]
    },
    {
     "name": "stdout",
     "output_type": "stream",
     "text": [
      "Max iterations reached for pair 16779.\n"
     ]
    },
    {
     "name": "stderr",
     "output_type": "stream",
     "text": [
      "100%|██████████| 34126/34126 [01:58<00:00, 288.47it/s]\n"
     ]
    },
    {
     "name": "stdout",
     "output_type": "stream",
     "text": [
      "Finding orientation 26.\n"
     ]
    },
    {
     "name": "stderr",
     "output_type": "stream",
     "text": [
      " 48%|████▊     | 15678/32832 [00:54<01:12, 236.02it/s]"
     ]
    },
    {
     "name": "stdout",
     "output_type": "stream",
     "text": [
      "Max iterations reached for pair 15631.\n"
     ]
    },
    {
     "name": "stderr",
     "output_type": "stream",
     "text": [
      " 48%|████▊     | 15761/32832 [00:55<01:27, 195.30it/s]"
     ]
    },
    {
     "name": "stdout",
     "output_type": "stream",
     "text": [
      "Max iterations reached for pair 15727.\n"
     ]
    },
    {
     "name": "stderr",
     "output_type": "stream",
     "text": [
      " 48%|████▊     | 15813/32832 [00:55<01:33, 182.30it/s]"
     ]
    },
    {
     "name": "stdout",
     "output_type": "stream",
     "text": [
      "Max iterations reached for pair 15768.\n"
     ]
    },
    {
     "name": "stderr",
     "output_type": "stream",
     "text": [
      "100%|██████████| 32832/32832 [01:54<00:00, 287.66it/s]\n"
     ]
    },
    {
     "name": "stdout",
     "output_type": "stream",
     "text": [
      "Finding orientation 27.\n"
     ]
    },
    {
     "name": "stderr",
     "output_type": "stream",
     "text": [
      " 48%|████▊     | 15320/32170 [00:53<01:13, 230.11it/s]"
     ]
    },
    {
     "name": "stdout",
     "output_type": "stream",
     "text": [
      "Max iterations reached for pair 15262.\n"
     ]
    },
    {
     "name": "stderr",
     "output_type": "stream",
     "text": [
      " 48%|████▊     | 15375/32170 [00:53<01:29, 188.34it/s]"
     ]
    },
    {
     "name": "stdout",
     "output_type": "stream",
     "text": [
      "Max iterations reached for pair 15357.\n"
     ]
    },
    {
     "name": "stderr",
     "output_type": "stream",
     "text": [
      " 48%|████▊     | 15429/32170 [00:53<01:31, 183.28it/s]"
     ]
    },
    {
     "name": "stdout",
     "output_type": "stream",
     "text": [
      "Max iterations reached for pair 15398.\n"
     ]
    },
    {
     "name": "stderr",
     "output_type": "stream",
     "text": [
      "100%|██████████| 32170/32170 [01:50<00:00, 290.92it/s]\n"
     ]
    },
    {
     "name": "stdout",
     "output_type": "stream",
     "text": [
      "Finding orientation 28.\n"
     ]
    },
    {
     "name": "stderr",
     "output_type": "stream",
     "text": [
      " 47%|████▋     | 14744/31227 [00:51<01:09, 237.41it/s]"
     ]
    },
    {
     "name": "stdout",
     "output_type": "stream",
     "text": [
      "Max iterations reached for pair 14706.\n"
     ]
    },
    {
     "name": "stderr",
     "output_type": "stream",
     "text": [
      " 47%|████▋     | 14832/31227 [00:51<01:17, 212.18it/s]"
     ]
    },
    {
     "name": "stdout",
     "output_type": "stream",
     "text": [
      "Max iterations reached for pair 14801.\n"
     ]
    },
    {
     "name": "stderr",
     "output_type": "stream",
     "text": [
      " 48%|████▊     | 14881/31227 [00:52<01:28, 184.83it/s]"
     ]
    },
    {
     "name": "stdout",
     "output_type": "stream",
     "text": [
      "Max iterations reached for pair 14841.\n"
     ]
    },
    {
     "name": "stderr",
     "output_type": "stream",
     "text": [
      "100%|██████████| 31227/31227 [01:46<00:00, 292.02it/s]\n"
     ]
    },
    {
     "name": "stdout",
     "output_type": "stream",
     "text": [
      "Finding orientation 29.\n"
     ]
    },
    {
     "name": "stderr",
     "output_type": "stream",
     "text": [
      " 47%|████▋     | 14107/30283 [00:43<01:00, 268.01it/s]"
     ]
    },
    {
     "name": "stdout",
     "output_type": "stream",
     "text": [
      "Max iterations reached for pair 14057.\n"
     ]
    },
    {
     "name": "stderr",
     "output_type": "stream",
     "text": [
      " 47%|████▋     | 14168/30283 [00:44<01:16, 210.75it/s]"
     ]
    },
    {
     "name": "stdout",
     "output_type": "stream",
     "text": [
      "Max iterations reached for pair 14152.\n"
     ]
    },
    {
     "name": "stderr",
     "output_type": "stream",
     "text": [
      " 47%|████▋     | 14223/30283 [00:44<01:22, 194.33it/s]"
     ]
    },
    {
     "name": "stdout",
     "output_type": "stream",
     "text": [
      "Max iterations reached for pair 14192.\n"
     ]
    },
    {
     "name": "stderr",
     "output_type": "stream",
     "text": [
      "100%|██████████| 30283/30283 [01:34<00:00, 321.13it/s]\n"
     ]
    },
    {
     "name": "stdout",
     "output_type": "stream",
     "text": [
      "Finding orientation 30.\n"
     ]
    },
    {
     "name": "stderr",
     "output_type": "stream",
     "text": [
      " 46%|████▌     | 13548/29378 [00:41<00:57, 276.29it/s]"
     ]
    },
    {
     "name": "stdout",
     "output_type": "stream",
     "text": [
      "Max iterations reached for pair 13508.\n"
     ]
    },
    {
     "name": "stderr",
     "output_type": "stream",
     "text": [
      " 46%|████▋     | 13614/29378 [00:41<01:15, 209.68it/s]"
     ]
    },
    {
     "name": "stdout",
     "output_type": "stream",
     "text": [
      "Max iterations reached for pair 13603.\n"
     ]
    },
    {
     "name": "stderr",
     "output_type": "stream",
     "text": [
      " 47%|████▋     | 13675/29378 [00:42<01:16, 204.61it/s]"
     ]
    },
    {
     "name": "stdout",
     "output_type": "stream",
     "text": [
      "Max iterations reached for pair 13643.\n"
     ]
    },
    {
     "name": "stderr",
     "output_type": "stream",
     "text": [
      "100%|██████████| 29378/29378 [01:30<00:00, 326.14it/s]\n"
     ]
    },
    {
     "name": "stdout",
     "output_type": "stream",
     "text": [
      "Finding orientation 31.\n"
     ]
    },
    {
     "name": "stderr",
     "output_type": "stream",
     "text": [
      " 47%|████▋     | 13433/28825 [00:41<00:58, 263.81it/s]"
     ]
    },
    {
     "name": "stdout",
     "output_type": "stream",
     "text": [
      "Max iterations reached for pair 13384.\n"
     ]
    },
    {
     "name": "stderr",
     "output_type": "stream",
     "text": [
      " 47%|████▋     | 13495/28825 [00:41<01:12, 211.05it/s]"
     ]
    },
    {
     "name": "stdout",
     "output_type": "stream",
     "text": [
      "Max iterations reached for pair 13476.\n"
     ]
    },
    {
     "name": "stderr",
     "output_type": "stream",
     "text": [
      " 47%|████▋     | 13582/28825 [00:42<01:09, 220.44it/s]"
     ]
    },
    {
     "name": "stdout",
     "output_type": "stream",
     "text": [
      "Max iterations reached for pair 13516.\n"
     ]
    },
    {
     "name": "stderr",
     "output_type": "stream",
     "text": [
      "100%|██████████| 28825/28825 [01:28<00:00, 325.91it/s]\n"
     ]
    },
    {
     "name": "stdout",
     "output_type": "stream",
     "text": [
      "Finding orientation 32.\n"
     ]
    },
    {
     "name": "stderr",
     "output_type": "stream",
     "text": [
      " 46%|████▌     | 12802/27893 [00:39<00:59, 253.80it/s]"
     ]
    },
    {
     "name": "stdout",
     "output_type": "stream",
     "text": [
      "Max iterations reached for pair 12749.\n"
     ]
    },
    {
     "name": "stderr",
     "output_type": "stream",
     "text": [
      " 46%|████▌     | 12859/27893 [00:39<01:14, 202.78it/s]"
     ]
    },
    {
     "name": "stdout",
     "output_type": "stream",
     "text": [
      "Max iterations reached for pair 12841.\n"
     ]
    },
    {
     "name": "stderr",
     "output_type": "stream",
     "text": [
      " 46%|████▋     | 12912/27893 [00:40<01:17, 194.28it/s]"
     ]
    },
    {
     "name": "stdout",
     "output_type": "stream",
     "text": [
      "Max iterations reached for pair 12881.\n"
     ]
    },
    {
     "name": "stderr",
     "output_type": "stream",
     "text": [
      "100%|██████████| 27893/27893 [01:25<00:00, 325.68it/s]\n"
     ]
    },
    {
     "name": "stdout",
     "output_type": "stream",
     "text": [
      "Finding orientation 33.\n"
     ]
    },
    {
     "name": "stderr",
     "output_type": "stream",
     "text": [
      " 46%|████▌     | 12576/27493 [00:41<00:58, 256.74it/s]"
     ]
    },
    {
     "name": "stdout",
     "output_type": "stream",
     "text": [
      "Max iterations reached for pair 12520.\n"
     ]
    },
    {
     "name": "stderr",
     "output_type": "stream",
     "text": [
      " 46%|████▌     | 12634/27493 [00:41<01:11, 207.10it/s]"
     ]
    },
    {
     "name": "stdout",
     "output_type": "stream",
     "text": [
      "Max iterations reached for pair 12612.\n"
     ]
    },
    {
     "name": "stderr",
     "output_type": "stream",
     "text": [
      " 46%|████▌     | 12687/27493 [00:41<01:17, 191.96it/s]"
     ]
    },
    {
     "name": "stdout",
     "output_type": "stream",
     "text": [
      "Max iterations reached for pair 12651.\n"
     ]
    },
    {
     "name": "stderr",
     "output_type": "stream",
     "text": [
      "100%|██████████| 27493/27493 [01:29<00:00, 308.75it/s]\n"
     ]
    },
    {
     "name": "stdout",
     "output_type": "stream",
     "text": [
      "Finding orientation 34.\n"
     ]
    },
    {
     "name": "stderr",
     "output_type": "stream",
     "text": [
      " 45%|████▌     | 12063/26541 [00:39<00:58, 247.91it/s]"
     ]
    },
    {
     "name": "stdout",
     "output_type": "stream",
     "text": [
      "Max iterations reached for pair 12022.\n"
     ]
    },
    {
     "name": "stderr",
     "output_type": "stream",
     "text": [
      " 46%|████▌     | 12121/26541 [00:40<01:13, 196.00it/s]"
     ]
    },
    {
     "name": "stdout",
     "output_type": "stream",
     "text": [
      "Max iterations reached for pair 12112.\n"
     ]
    },
    {
     "name": "stderr",
     "output_type": "stream",
     "text": [
      " 46%|████▌     | 12211/26541 [00:40<01:07, 213.71it/s]"
     ]
    },
    {
     "name": "stdout",
     "output_type": "stream",
     "text": [
      "Max iterations reached for pair 12150.\n"
     ]
    },
    {
     "name": "stderr",
     "output_type": "stream",
     "text": [
      "100%|██████████| 26541/26541 [01:26<00:00, 307.97it/s]\n"
     ]
    },
    {
     "name": "stdout",
     "output_type": "stream",
     "text": [
      "Finding orientation 35.\n"
     ]
    },
    {
     "name": "stderr",
     "output_type": "stream",
     "text": [
      " 45%|████▍     | 11242/25215 [00:36<01:01, 228.44it/s]"
     ]
    },
    {
     "name": "stdout",
     "output_type": "stream",
     "text": [
      "Max iterations reached for pair 11212.\n"
     ]
    },
    {
     "name": "stderr",
     "output_type": "stream",
     "text": [
      " 45%|████▍     | 11329/25215 [00:36<01:08, 203.88it/s]"
     ]
    },
    {
     "name": "stdout",
     "output_type": "stream",
     "text": [
      "Max iterations reached for pair 11299.\n"
     ]
    },
    {
     "name": "stderr",
     "output_type": "stream",
     "text": [
      " 45%|████▌     | 11381/25215 [00:37<01:12, 190.49it/s]"
     ]
    },
    {
     "name": "stdout",
     "output_type": "stream",
     "text": [
      "Max iterations reached for pair 11337.\n"
     ]
    },
    {
     "name": "stderr",
     "output_type": "stream",
     "text": [
      "100%|██████████| 25215/25215 [01:21<00:00, 308.00it/s]\n"
     ]
    },
    {
     "name": "stdout",
     "output_type": "stream",
     "text": [
      "Finding orientation 36.\n"
     ]
    },
    {
     "name": "stderr",
     "output_type": "stream",
     "text": [
      "100%|██████████| 24413/24413 [01:17<00:00, 315.77it/s]\n"
     ]
    },
    {
     "name": "stdout",
     "output_type": "stream",
     "text": [
      "Finding orientation 37.\n"
     ]
    },
    {
     "name": "stderr",
     "output_type": "stream",
     "text": [
      "100%|██████████| 23730/23730 [01:14<00:00, 320.09it/s]\n"
     ]
    },
    {
     "name": "stdout",
     "output_type": "stream",
     "text": [
      "Finding orientation 38.\n"
     ]
    },
    {
     "name": "stderr",
     "output_type": "stream",
     "text": [
      "100%|██████████| 22999/22999 [01:13<00:00, 314.67it/s]\n"
     ]
    },
    {
     "name": "stdout",
     "output_type": "stream",
     "text": [
      "Finding orientation 39.\n"
     ]
    },
    {
     "name": "stderr",
     "output_type": "stream",
     "text": [
      "100%|██████████| 22787/22787 [01:10<00:00, 321.30it/s]\n"
     ]
    },
    {
     "name": "stdout",
     "output_type": "stream",
     "text": [
      "Finding orientation 40.\n"
     ]
    },
    {
     "name": "stderr",
     "output_type": "stream",
     "text": [
      "100%|██████████| 22192/22192 [01:09<00:00, 319.20it/s]\n"
     ]
    },
    {
     "name": "stdout",
     "output_type": "stream",
     "text": [
      "Finding orientation 41.\n"
     ]
    },
    {
     "name": "stderr",
     "output_type": "stream",
     "text": [
      "100%|██████████| 21611/21611 [01:07<00:00, 320.76it/s]\n"
     ]
    },
    {
     "name": "stdout",
     "output_type": "stream",
     "text": [
      "Finding orientation 42.\n"
     ]
    },
    {
     "name": "stderr",
     "output_type": "stream",
     "text": [
      "100%|██████████| 20765/20765 [01:03<00:00, 325.94it/s]\n"
     ]
    },
    {
     "name": "stdout",
     "output_type": "stream",
     "text": [
      "Finding orientation 43.\n"
     ]
    },
    {
     "name": "stderr",
     "output_type": "stream",
     "text": [
      "100%|██████████| 20493/20493 [01:04<00:00, 318.51it/s]\n"
     ]
    },
    {
     "name": "stdout",
     "output_type": "stream",
     "text": [
      "Finding orientation 44.\n"
     ]
    },
    {
     "name": "stderr",
     "output_type": "stream",
     "text": [
      "100%|██████████| 20028/20028 [01:02<00:00, 320.03it/s]\n"
     ]
    },
    {
     "name": "stdout",
     "output_type": "stream",
     "text": [
      "Finding orientation 45.\n"
     ]
    },
    {
     "name": "stderr",
     "output_type": "stream",
     "text": [
      "100%|██████████| 19384/19384 [00:59<00:00, 327.64it/s]\n"
     ]
    },
    {
     "name": "stdout",
     "output_type": "stream",
     "text": [
      "Finding orientation 46.\n"
     ]
    },
    {
     "name": "stderr",
     "output_type": "stream",
     "text": [
      "100%|██████████| 18821/18821 [00:58<00:00, 324.13it/s]\n"
     ]
    },
    {
     "name": "stdout",
     "output_type": "stream",
     "text": [
      "Finding orientation 47.\n"
     ]
    },
    {
     "name": "stderr",
     "output_type": "stream",
     "text": [
      "100%|██████████| 18435/18435 [00:56<00:00, 325.82it/s]\n"
     ]
    },
    {
     "name": "stdout",
     "output_type": "stream",
     "text": [
      "Finding orientation 48.\n"
     ]
    },
    {
     "name": "stderr",
     "output_type": "stream",
     "text": [
      "100%|██████████| 18273/18273 [00:55<00:00, 327.98it/s]\n"
     ]
    },
    {
     "name": "stdout",
     "output_type": "stream",
     "text": [
      "Finding orientation 49.\n"
     ]
    },
    {
     "name": "stderr",
     "output_type": "stream",
     "text": [
      "100%|██████████| 17679/17679 [00:54<00:00, 325.55it/s]\n"
     ]
    },
    {
     "name": "stdout",
     "output_type": "stream",
     "text": [
      "Finding orientation 50.\n"
     ]
    },
    {
     "name": "stderr",
     "output_type": "stream",
     "text": [
      "100%|██████████| 17136/17136 [00:47<00:00, 358.24it/s]\n"
     ]
    }
   ],
   "source": [
    "# Decompose orientation with pair casting\n",
    "best_connections = []\n",
    "excluded_spot_indices = []\n",
    "included_spot_mask = np.asarray([True,] * len(expanded_pair_list[0]))\n",
    "included_spot_mask[excluded_spot_indices] = False\n",
    "original_pair_list = expanded_pair_list[keep_pair_mask]\n",
    "pair_list = original_pair_list\n",
    "\n",
    "iter_count = 0\n",
    "ITERATE = True\n",
    "while ITERATE:\n",
    "    print(f'Finding orientation {iter_count + 1}.')\n",
    "\n",
    "    # Find new connections\n",
    "    connections, orientations, rmse = initial_pair_casting_indexing(pair_list,\n",
    "                                                                    spot_qs[included_spot_mask],\n",
    "                                                                    ref_qs)\n",
    "    \n",
    "    qof_norm_list = []\n",
    "    for conn, orientation in zip(connections, orientations):\n",
    "        rot_qs = orientation.apply(ref_qs, inverse=True)\n",
    "        q_mask = generate_q_mask(rot_qs,\n",
    "                                 (min_tth, max_tth),\n",
    "                                 (min_chi, max_chi),\n",
    "                                 (min_wavelength, max_wavelength),\n",
    "                                 ext=0.05)\n",
    "        \n",
    "        fit_spot_qs = spot_qs[included_spot_mask][np.nonzero(~np.isnan(conn))[0]]\n",
    "        fit_ref_qs = np.asarray(rot_qs)[conn[np.nonzero(~np.isnan(conn))[0]].astype(int)]\n",
    "        all_ref_qs = rot_qs[q_mask]\n",
    "        all_ref_fs = ref_fs[q_mask]\n",
    "\n",
    "        qof, norm_qof = get_quality_of_fit(fit_spot_qs, fit_ref_qs, all_ref_qs, all_ref_fs, sigma=near_q * 1)\n",
    "        qof_norm_list.append(norm_qof)\n",
    "\n",
    "    best_connection = connections[np.argmax(qof_norm_list)]\n",
    "    \n",
    "    # Find best connection with highest connectivity\n",
    "    # connection_length = [np.sum(~np.isnan(conn)) for conn in connections]\n",
    "    # connection_mask = connection_length == np.max(connection_length)\n",
    "    # best_connection = connections[np.nonzero(connection_mask)[0][np.argmin(np.asarray(rmse)[connection_mask])]]\n",
    "    if np.sum(~np.isnan(best_connection)) <= 1: # I am not sure why this is even necessary\n",
    "        ITERATE = False\n",
    "        break\n",
    "    expanded_best_connection = np.asarray([np.nan,] * len(included_spot_mask))\n",
    "    expanded_best_connection[included_spot_mask] = best_connection\n",
    "    best_connections.append(expanded_best_connection)\n",
    "\n",
    "    # if iter_count == 0:\n",
    "    #     raise\n",
    "\n",
    "    # Update connections\n",
    "    excluded_spot_indices.extend(*list(np.nonzero(~np.isnan(expanded_best_connection))))\n",
    "    included_spot_mask[excluded_spot_indices] = False\n",
    "\n",
    "    # Remove pairs where spots have already been indexed\n",
    "    new_pairs = []\n",
    "    for pair in pair_list:\n",
    "        # All nan means the pair does not use any of the ecluded indices\n",
    "        if np.all([np.isnan(pair[index]) for index in np.nonzero(~np.isnan(best_connection))[0]]):\n",
    "            new_pairs.append(pair[np.isnan(best_connection)])\n",
    "    pair_list = np.asarray(new_pairs)\n",
    "\n",
    "    iter_count += 1\n",
    "    if (len(spot_qs) - len(excluded_spot_indices) < 1 # Impossible to solve orientation\n",
    "        or len(pair_list) < 1 # No more valid pairs to solve\n",
    "        or iter_count >= 50): # Avoid infinite loops\n",
    "        ITERATE = False"
   ]
  },
  {
   "cell_type": "code",
   "execution_count": 187,
   "metadata": {},
   "outputs": [
    {
     "data": {
      "text/plain": [
       "array([9, 8, 7, 7, 8, 6, 8, 7, 6, 5, 6, 6, 5, 6, 5, 5, 4, 5, 5, 4, 4, 5,\n",
       "       4, 5, 4, 4, 4, 4, 4, 3, 4, 3, 4, 5, 4, 3, 4, 3, 3, 3, 4, 3, 2, 3,\n",
       "       3, 3, 2, 3, 4, 3])"
      ]
     },
     "execution_count": 187,
     "metadata": {},
     "output_type": "execute_result"
    }
   ],
   "source": [
    "np.asarray([np.sum(~np.isnan(conn)) for conn in best_connections])"
   ]
  },
  {
   "cell_type": "code",
   "execution_count": 747,
   "metadata": {},
   "outputs": [
    {
     "data": {
      "text/plain": [
       "11.234"
      ]
     },
     "execution_count": 747,
     "metadata": {},
     "output_type": "execute_result"
    }
   ],
   "source": [
    "stibnite.c"
   ]
  },
  {
   "cell_type": "code",
   "execution_count": 746,
   "metadata": {},
   "outputs": [
    {
     "data": {
      "text/plain": [
       "11.314"
      ]
     },
     "execution_count": 746,
     "metadata": {},
     "output_type": "execute_result"
    }
   ],
   "source": [
    "stibnite.a"
   ]
  },
  {
   "cell_type": "code",
   "execution_count": 191,
   "metadata": {},
   "outputs": [],
   "source": [
    "fig, ax = plt.subplots(1, 1, figsize=(5, 5), dpi=200, subplot_kw={'projection':'3d'})\n",
    "\n",
    "colors = ['k',] * len(best_connections)\n",
    "# colors = ['black', 'blue', 'green', 'purple'] + ['none'] * (len(best_connections) - 4)\n",
    "\n",
    "for best_fit_ind in range(len(best_connections)):\n",
    "    if best_fit_ind > 20:\n",
    "        break\n",
    "\n",
    "    orientation, rmse = fit_orientation_index(best_connections[best_fit_ind],\n",
    "                                              spot_qs,\n",
    "                                              ref_qs)\n",
    "    # print(rmse)\n",
    "\n",
    "    #rot_qs = ref_qs @ orientation.as_matrix()\n",
    "    rot_qs = orientation.apply(ref_qs, inverse=True)\n",
    "    q_mask = generate_q_mask(rot_qs,\n",
    "                            (min_tth, max_tth),\n",
    "                            (min_chi, max_chi),\n",
    "                            (min_wavelength, max_wavelength),\n",
    "                            ext=0.05)\n",
    "\n",
    "    ax.scatter(*rot_qs[q_mask].T, s=ref_fs[q_mask] * 0.1, c=colors[best_fit_ind])\n",
    "\n",
    "    hkls = [ref_hkls[int(ind)] for ind in best_connections[best_fit_ind][~np.isnan(best_connections[best_fit_ind])]]\n",
    "    fit_spots = spot_qs[np.nonzero(~np.isnan(best_connections[best_fit_ind]))[0]]\n",
    "    for idx, hkl in enumerate(hkls):\n",
    "        ax.text(*fit_spots[idx], str(hkl), fontsize=8, c=colors[best_fit_ind])\n",
    "\n",
    "for edge in edges:\n",
    "    ax.plot(*edge, c='gray', lw=1)\n",
    "\n",
    "ax.scatter(*np.asarray(spot_qs).T, s = 1, c='r')\n",
    "ax.scatter(0, 0, 0, s=10, c='blue')\n",
    "ax.set_xlim(q_mins[0], q_maxs[0])\n",
    "ax.set_ylim(q_mins[1], q_maxs[1])\n",
    "ax.set_zlim(q_mins[2], q_maxs[2])\n",
    "\n",
    "ax.set_xlabel('qx [Å⁻¹]')\n",
    "ax.set_ylabel('qy [Å⁻¹]')\n",
    "ax.set_zlabel('qz [Å⁻¹]')\n",
    "ax.set_aspect('equal')\n",
    "\n",
    "fig.show()"
   ]
  },
  {
   "cell_type": "code",
   "execution_count": 149,
   "metadata": {},
   "outputs": [
    {
     "name": "stderr",
     "output_type": "stream",
     "text": [
      "  4%|▍         | 530/14023 [00:01<00:38, 349.51it/s]C:\\Users\\emusterma\\AppData\\Local\\Temp\\ipykernel_18408\\3167248389.py:18: UserWarning: Optimal rotation is not uniquely or poorly defined for the given sets of vectors.\n",
      "  fit_orientation, fit_rssd = Rotation.align_vectors(fit_ref_qs, fit_spot_qs)\n",
      "100%|██████████| 14023/14023 [00:39<00:00, 359.13it/s]\n"
     ]
    }
   ],
   "source": [
    "rmse_list = []\n",
    "qof_list = []\n",
    "norm_qof_list = []\n",
    "for conn in tqdm(connections):\n",
    "    orientation, rmse = fit_orientation_index(conn, spot_qs[included_spot_mask], ref_qs)\n",
    "\n",
    "    #rot_qs = ref_qs @ orientation.as_matrix()\n",
    "    rot_qs = orientation.apply(ref_qs, inverse=True)\n",
    "    q_mask = generate_q_mask(rot_qs,\n",
    "                            (min_tth, max_tth),\n",
    "                            (min_chi, max_chi),\n",
    "                            (min_wavelength, max_wavelength),\n",
    "                            ext=0.05)\n",
    "\n",
    "\n",
    "    fit_spot_qs = spot_qs[included_spot_mask][np.nonzero(~np.isnan(conn))[0]]\n",
    "    fit_ref_qs = np.asarray(rot_qs)[conn[np.nonzero(~np.isnan(conn))[0]].astype(int)]\n",
    "    all_ref_qs = rot_qs[q_mask]\n",
    "    all_ref_fs = ref_fs[q_mask]\n",
    "\n",
    "    qof, norm_qof = get_quality_of_fit(fit_spot_qs, fit_ref_qs, all_ref_qs, all_ref_fs, sigma=near_q * 1)\n",
    "\n",
    "    rmse_list.append(rmse)\n",
    "    qof_list.append(qof)\n",
    "    norm_qof_list.append(norm_qof)"
   ]
  },
  {
   "cell_type": "code",
   "execution_count": 31,
   "metadata": {},
   "outputs": [],
   "source": [
    "def get_quality_of_fit(spot_qs,\n",
    "                       ref_qs,\n",
    "                       all_ref_qs,\n",
    "                       all_ref_fs,\n",
    "                       sigma=near_q):\n",
    "    \n",
    "    # Requirements:\n",
    "    # 1. Penalize missing reflections weighted according to their expected intensity\n",
    "    # 2. Do not penalize extra reflections which are not indexed (allows for overlapping orientations)\n",
    "    # 3. Penalize reflections weighted by their distance from expected positions\n",
    "\n",
    "    # # Determine which reflections are indexed\n",
    "    # found_spot_mask = [tuple(ref) in [tuple(x) for x in ref_qs] for ref in all_ref_qs]\n",
    "\n",
    "    # Normalize structure_factors to approximate total expected intensity\n",
    "    # all_ref_fs /= np.sum(all_ref_fs)\n",
    "\n",
    "    dist = [np.sqrt(np.sum([(p - q)**2 for p, q in zip(v1, v2)]))\n",
    "                        for v1, v2 in zip(spot_qs, ref_qs)]\n",
    "\n",
    "    # # 1D Gaussian centered at zero\n",
    "    # def gauss_1d(x, amp, fwhm):\n",
    "    #     sigma = fwhm / (2 * np.sqrt(2 * np.log(2)))\n",
    "    #     return amp * np.exp(-(x)**2 / (2 * sigma**2))\n",
    "\n",
    "    # qof = np.sum(gauss_1d(np.asarray(dist),\n",
    "    #                       all_ref_fs[found_spot_mask],\n",
    "    #                       fwhm))\n",
    "    \n",
    "    # Gaussian with structure factor amplitude and near_q standard deviation\n",
    "    # centered at zero sampled at distance\n",
    "    # qof = np.sum(\n",
    "    #     np.log(all_ref_fs[found_spot_mask])\n",
    "    #     * np.exp(-(np.asarray(dist))**2\n",
    "    #              / (2 * sigma**2)))\n",
    "\n",
    "    # Gaussian with specified standard deviation\n",
    "    # centered at zero sampled at distance\n",
    "    qof = np.sum(np.exp(-(np.asarray(dist))**2 / (2 * sigma**2)))\n",
    "    # dist_qual /= len(spot_qs) # Normalized to one\n",
    "\n",
    "    # # int_explained = np.sum(all_ref_fs[found_spot_mask]) / np.sum(all_ref_fs)\n",
    "    # int_explained = len(spot_qs) / len(all_ref_fs)\n",
    "\n",
    "    # qof = 0.5 * (dist_qual + int_explained)\n",
    "    # norm_qof = qof\n",
    "        \n",
    "    # max_qof = np.log(np.sum(all_ref_fs))\n",
    "    max_qof = len(all_ref_qs)\n",
    "    norm_qof = qof / max_qof\n",
    "\n",
    "    return qof, norm_qof"
   ]
  },
  {
   "cell_type": "code",
   "execution_count": 150,
   "metadata": {},
   "outputs": [
    {
     "data": {
      "text/plain": [
       "0.6659233808314196"
      ]
     },
     "execution_count": 150,
     "metadata": {},
     "output_type": "execute_result"
    }
   ],
   "source": [
    "np.max(norm_qof_list)"
   ]
  },
  {
   "cell_type": "code",
   "execution_count": 151,
   "metadata": {},
   "outputs": [
    {
     "data": {
      "text/plain": [
       "array([1166.,   nan, 1014., 2877., 2409.,   nan,   nan, 3796., 2212.,\n",
       "       3722.,   nan, 1699., 3790.,   nan,   nan,   nan, 4388.,   nan,\n",
       "         nan, 1086.,   nan, 2711., 3452.,   nan,   nan,   nan,   nan,\n",
       "         nan,   nan,   nan,   nan,   nan,  175., 2041.,   nan,   nan,\n",
       "         nan,   nan,   nan,   nan,   nan,   nan,   nan,   nan,   nan,\n",
       "         nan,   nan,   nan,   nan])"
      ]
     },
     "execution_count": 151,
     "metadata": {},
     "output_type": "execute_result"
    }
   ],
   "source": [
    "connections[np.argmax(norm_qof_list)]"
   ]
  },
  {
   "cell_type": "code",
   "execution_count": 152,
   "metadata": {},
   "outputs": [
    {
     "data": {
      "text/plain": [
       "array([1166.,   nan, 1014., 2877., 2409.,   nan,   nan, 3796., 2212.,\n",
       "       3722.,   nan, 1699., 3790.,   nan,   nan,   nan, 4388.,   nan,\n",
       "         nan, 1086.,   nan, 2711., 3452.,   nan,   nan,   nan,   nan,\n",
       "         nan,   nan,   nan,   nan,   nan,  175., 2041.,   nan,   nan,\n",
       "         nan,   nan,   nan,   nan,   nan,   nan,   nan,   nan,   nan,\n",
       "         nan,   nan,   nan,   nan])"
      ]
     },
     "execution_count": 152,
     "metadata": {},
     "output_type": "execute_result"
    }
   ],
   "source": [
    "connection_lengths = [np.sum(~np.isnan(conn)) for conn in connections]\n",
    "connection_mask = connection_lengths == np.max(connection_lengths)\n",
    "connections[np.nonzero(connection_mask)[0][np.argmin(np.asarray(rmse_list)[connection_mask])]]"
   ]
  },
  {
   "cell_type": "code",
   "execution_count": 153,
   "metadata": {},
   "outputs": [
    {
     "data": {
      "text/plain": [
       "0.6659233808314196"
      ]
     },
     "execution_count": 153,
     "metadata": {},
     "output_type": "execute_result"
    }
   ],
   "source": [
    "norm_qof_list[np.nonzero(connection_mask)[0][np.argmin(np.asarray(rmse_list)[connection_mask])]]"
   ]
  },
  {
   "cell_type": "code",
   "execution_count": 156,
   "metadata": {},
   "outputs": [
    {
     "data": {
      "text/plain": [
       "array([0.66592338, 0.63529521, 0.61285578, 0.61285578, 0.61216955,\n",
       "       0.58175019])"
      ]
     },
     "execution_count": 156,
     "metadata": {},
     "output_type": "execute_result"
    }
   ],
   "source": [
    "np.unique(norm_qof_list)[::-1][np.unique(norm_qof_list)[::-1] > 0.5]"
   ]
  },
  {
   "cell_type": "code",
   "execution_count": 157,
   "metadata": {},
   "outputs": [
    {
     "data": {
      "text/plain": [
       "array([0.66592338, 0.61216955, 0.63529521, 0.61285578, 0.63529521,\n",
       "       0.61285578, 0.63529521, 0.63529521, 0.66592338, 0.63529521,\n",
       "       0.61285578, 0.66592338, 0.66592338, 0.63529521, 0.63529521,\n",
       "       0.63529521, 0.66592338, 0.66592338, 0.66592338, 0.66592338,\n",
       "       0.66592338, 0.58175019, 0.66592338, 0.66592338, 0.63529521,\n",
       "       0.66592338, 0.66592338, 0.66592338, 0.63529521, 0.61285578,\n",
       "       0.66592338, 0.58175019, 0.63529521, 0.63529521, 0.66592338,\n",
       "       0.66592338, 0.58175019, 0.63529521, 0.63529521, 0.63529521,\n",
       "       0.63529521, 0.63529521, 0.63529521, 0.61285578, 0.66592338,\n",
       "       0.66592338, 0.61285578, 0.63529521, 0.63529521, 0.61285578,\n",
       "       0.63529521, 0.63529521, 0.61285578, 0.66592338, 0.61285578,\n",
       "       0.63529521, 0.63529521, 0.63529521, 0.61285578, 0.63529521,\n",
       "       0.63529521, 0.61285578, 0.63529521, 0.63529521, 0.66592338,\n",
       "       0.63529521, 0.63529521, 0.63529521, 0.66592338, 0.58175019,\n",
       "       0.66592338, 0.66592338, 0.58175019, 0.66592338, 0.66592338,\n",
       "       0.63529521, 0.66592338, 0.61285578, 0.63529521, 0.58175019,\n",
       "       0.66592338, 0.66592338, 0.63529521, 0.61285578, 0.63529521,\n",
       "       0.61285578, 0.63529521, 0.63529521, 0.63529521, 0.63529521,\n",
       "       0.61285578, 0.63529521, 0.61285578, 0.63529521, 0.61285578,\n",
       "       0.63529521, 0.63529521, 0.63529521, 0.63529521, 0.63529521,\n",
       "       0.63529521, 0.66592338, 0.63529521, 0.63529521, 0.61285578,\n",
       "       0.63529521, 0.63529521, 0.66592338, 0.66592338, 0.63529521,\n",
       "       0.66592338, 0.58175019, 0.66592338, 0.66592338, 0.66592338,\n",
       "       0.66592338, 0.58175019, 0.66592338, 0.58175019, 0.66592338,\n",
       "       0.58175019, 0.66592338, 0.66592338, 0.66592338, 0.66592338,\n",
       "       0.58175019, 0.66592338, 0.66592338, 0.61285578, 0.63529521,\n",
       "       0.66592338, 0.58175019, 0.66592338, 0.58175019, 0.66592338,\n",
       "       0.66592338, 0.66592338, 0.66592338, 0.63529521, 0.63529521,\n",
       "       0.63529521, 0.66592338, 0.66592338, 0.66592338, 0.66592338,\n",
       "       0.63529521, 0.66592338, 0.58175019, 0.66592338, 0.66592338,\n",
       "       0.66592338, 0.63529521, 0.63529521, 0.63529521, 0.66592338,\n",
       "       0.66592338, 0.66592338, 0.63529521, 0.63529521, 0.61285578,\n",
       "       0.63529521, 0.63529521, 0.63529521, 0.63529521, 0.63529521,\n",
       "       0.66592338, 0.66592338, 0.63529521, 0.61285578, 0.66592338,\n",
       "       0.58175019, 0.66592338, 0.66592338, 0.66592338, 0.66592338,\n",
       "       0.66592338])"
      ]
     },
     "execution_count": 157,
     "metadata": {},
     "output_type": "execute_result"
    }
   ],
   "source": [
    "np.asarray(norm_qof_list)[np.asarray(norm_qof_list) > 0.5]"
   ]
  },
  {
   "cell_type": "code",
   "execution_count": 158,
   "metadata": {},
   "outputs": [
    {
     "data": {
      "text/plain": [
       "array([    6,    11,    15,    16,    17,    18,    21,    55,    75,\n",
       "          89,    90,    91,   102,   125,   137,   203,   208,   299,\n",
       "         337,   357,   373,   374,   378,   402,   438,   472,   589,\n",
       "         635,   711,   720,   727,   729,   740,   855,   896,   943,\n",
       "         945,   951,   988,  1044,  1112,  1201,  1239,  1243,  1517,\n",
       "        1628,  1986,  1988,  2015,  2075,  2083,  2084,  2092,  2122,\n",
       "        2136,  2137,  2151,  2171,  2209,  2258,  2303,  2324,  2328,\n",
       "        2508,  2538,  2713,  2808,  2815,  2820,  2824,  2825,  2827,\n",
       "        2828,  2829,  2831,  2845,  2857,  2862,  2863,  2891,  2892,\n",
       "        2894,  2962,  2964,  2968,  2971,  2981,  2992,  3002,  3075,\n",
       "        3081,  3110,  3115,  3147,  3157,  3166,  3366,  3385,  3510,\n",
       "        4033,  4053,  4071,  4088,  4192,  4241,  4244,  4266,  4296,\n",
       "        4466,  4473,  4688,  4693,  4705,  4718,  4733,  4809,  4811,\n",
       "        4834,  4838,  4865,  4878,  4888,  5075,  5093,  5245,  5247,\n",
       "        5248,  5253,  5274,  5277,  5289,  5303,  5304,  5329,  5330,\n",
       "        5336,  5382,  5387,  5441,  5465,  5477,  5491,  5603,  5616,\n",
       "        5770,  5803,  5821,  5928,  5929,  5934,  5959,  6080,  6101,\n",
       "        6117,  6126,  6208,  6212,  6401,  7912,  7935,  7937,  7953,\n",
       "        8223,  8233,  8894,  8911,  9046,  9060,  9061,  9468,  9684,\n",
       "        9686,  9693,  9743, 12787, 12833], dtype=int64)"
      ]
     },
     "execution_count": 158,
     "metadata": {},
     "output_type": "execute_result"
    }
   ],
   "source": [
    "np.nonzero(np.asarray(norm_qof_list) > 0.5)[0]"
   ]
  },
  {
   "cell_type": "code",
   "execution_count": 163,
   "metadata": {},
   "outputs": [
    {
     "data": {
      "text/plain": [
       "0.6121695541001125"
      ]
     },
     "execution_count": 163,
     "metadata": {},
     "output_type": "execute_result"
    }
   ],
   "source": [
    "norm_qof_list[11]"
   ]
  },
  {
   "cell_type": "code",
   "execution_count": 167,
   "metadata": {},
   "outputs": [
    {
     "data": {
      "text/plain": [
       "array([0.04039877, 0.0496286 , 0.04039877, 0.0496286 , 0.04039877,\n",
       "       0.04039877, 0.04039877, 0.0496286 , 0.04039877, 0.04039877,\n",
       "       0.04039877, 0.05006308, 0.04039877, 0.04039877, 0.0496286 ,\n",
       "       0.05006308, 0.04039877, 0.04039877, 0.05006308, 0.04039877,\n",
       "       0.04039877, 0.04039877, 0.04039877, 0.04039877, 0.04039877,\n",
       "       0.0496286 , 0.0496286 , 0.04039877, 0.04039877, 0.0496286 ,\n",
       "       0.04039877, 0.04039877, 0.0496286 , 0.0496286 , 0.04039877,\n",
       "       0.04039877, 0.04039877, 0.0496286 , 0.04039877, 0.04039877,\n",
       "       0.0496286 , 0.04039877, 0.04039877, 0.04039877, 0.04039877,\n",
       "       0.04039877, 0.05006308, 0.05006308, 0.04039877, 0.0496286 ,\n",
       "       0.04039877, 0.05006308, 0.04039877, 0.0496286 , 0.04039877,\n",
       "       0.0496286 , 0.04039877, 0.04039877, 0.04039877, 0.04039877,\n",
       "       0.0496286 , 0.04039877, 0.0496286 , 0.04039877, 0.0496286 ,\n",
       "       0.04039877, 0.04039877, 0.04039877, 0.04039877, 0.04039877,\n",
       "       0.04039877, 0.04039877, 0.04039877, 0.0496286 , 0.04039877,\n",
       "       0.04039877, 0.04039877, 0.05006308, 0.05006308, 0.05006308,\n",
       "       0.05006308, 0.05006308, 0.0496286 , 0.04039877, 0.05006308,\n",
       "       0.05006308, 0.04039877, 0.04039877, 0.04039877, 0.04039877,\n",
       "       0.05006308, 0.04039877, 0.04039877, 0.04039877, 0.04039877,\n",
       "       0.04039877, 0.0496286 , 0.04039877, 0.04039877, 0.04039877,\n",
       "       0.04039877, 0.04039877, 0.04039877, 0.0496286 , 0.05006308])"
      ]
     },
     "execution_count": 167,
     "metadata": {},
     "output_type": "execute_result"
    }
   ],
   "source": [
    "connection_lengths = [np.sum(~np.isnan(conn)) for conn in connections]\n",
    "connection_mask = connection_lengths == np.max(connection_lengths) - 1\n",
    "np.asarray(rmse_list)[connection_mask]"
   ]
  },
  {
   "cell_type": "code",
   "execution_count": 169,
   "metadata": {},
   "outputs": [],
   "source": [
    "fig, ax = plt.subplots(1, 1, figsize=(5, 5), dpi=200, subplot_kw={'projection':'3d'})\n",
    "\n",
    "plot_connection = connections[np.argmax(norm_qof_list)]\n",
    "# plot_connection = connections[np.nonzero(connection_mask)[0][np.argmin(np.asarray(rmse_list)[connection_mask])]]\n",
    "plot_connection = connections[11]\n",
    "plot_connection = np.asarray(connections)[connection_mask][1]\n",
    "\n",
    "orientation, rmse = fit_orientation_index(plot_connection,\n",
    "                                            spot_qs[included_spot_mask],\n",
    "                                            ref_qs)\n",
    "\n",
    "#rot_qs = ref_qs @ orientation.as_matrix()\n",
    "rot_qs = orientation.apply(ref_qs, inverse=True)\n",
    "q_mask = generate_q_mask(rot_qs,\n",
    "                        (min_tth, max_tth),\n",
    "                        (min_chi, max_chi),\n",
    "                        (min_wavelength, max_wavelength),\n",
    "                        ext=0.05)\n",
    "\n",
    "ax.scatter(*rot_qs[q_mask].T, s=ref_fs[q_mask] * 0.1, c='k')\n",
    "\n",
    "hkls = [ref_hkls[int(ind)] for ind in plot_connection[~np.isnan(plot_connection)]]\n",
    "fit_spots = spot_qs[included_spot_mask][np.nonzero(~np.isnan(plot_connection))[0]]\n",
    "for idx, hkl in enumerate(hkls):\n",
    "    ax.text(*fit_spots[idx], str(hkl), fontsize=8, c='k')\n",
    "\n",
    "for edge in edges:\n",
    "    ax.plot(*edge, c='gray', lw=1)\n",
    "\n",
    "ax.scatter(*np.asarray(spot_qs[included_spot_mask]).T, s = 1, c='r')\n",
    "ax.scatter(0, 0, 0, s=10, c='blue')\n",
    "ax.set_xlim(q_mins[0], q_maxs[0])\n",
    "ax.set_ylim(q_mins[1], q_maxs[1])\n",
    "ax.set_zlim(q_mins[2], q_maxs[2])\n",
    "\n",
    "ax.set_xlabel('qx [Å⁻¹]')\n",
    "ax.set_ylabel('qy [Å⁻¹]')\n",
    "ax.set_zlabel('qz [Å⁻¹]')\n",
    "ax.set_aspect('equal')\n",
    "\n",
    "fig.show()"
   ]
  },
  {
   "cell_type": "code",
   "execution_count": null,
   "metadata": {},
   "outputs": [],
   "source": []
  },
  {
   "cell_type": "code",
   "execution_count": null,
   "metadata": {},
   "outputs": [],
   "source": []
  },
  {
   "cell_type": "code",
   "execution_count": null,
   "metadata": {},
   "outputs": [],
   "source": []
  },
  {
   "cell_type": "code",
   "execution_count": null,
   "metadata": {},
   "outputs": [],
   "source": []
  },
  {
   "cell_type": "code",
   "execution_count": 731,
   "metadata": {},
   "outputs": [],
   "source": [
    "from xrdmaptools.geometry.geometry import get_q_vect, q_2_polar, estimate_image_coords\n",
    "from xrdmaptools.utilities.math import wavelength_2_energy\n",
    "\n",
    "tth, chi, wavelength = q_2_polar(spot_qs[np.nonzero(~np.isnan(best_connections[0]))[0]], degrees=True)\n",
    "# coords = estimate_image_coords(np.asarray([tth, chi]).T, rsm.tth_arr, rsm.chi_arr)[:, ::-1]"
   ]
  },
  {
   "cell_type": "code",
   "execution_count": 732,
   "metadata": {},
   "outputs": [],
   "source": [
    "orientation, rmse = fit_orientation_index(best_connections[0],\n",
    "                                          spot_qs,\n",
    "                                          ref_qs)\n",
    "\n",
    "#rot_qs = ref_qs @ orientation.as_matrix()\n",
    "rot_qs = orientation.apply(ref_qs, inverse=True)\n",
    "\n",
    "ref_tth, ref_chi, ref_wavelength = q_2_polar(np.asarray(rot_qs)[best_connections[0][np.nonzero(~np.isnan(best_connections[0]))[0]].astype(int)], degrees=True)"
   ]
  },
  {
   "cell_type": "code",
   "execution_count": 737,
   "metadata": {},
   "outputs": [],
   "source": [
    "def det_plane_from_ai(ai, skip=50):\n",
    "    points = np.asarray([ai.position_array()[::skip, ::skip, i].ravel()\n",
    "                         for i in [2, 1, 0]])\n",
    "    \n",
    "    d = np.mean(points, axis=1, keepdims=True)\n",
    "    svd = np.linalg.svd(points - d)\n",
    "    d = d.squeeze()\n",
    "    # Plane normal n = (a, b, c) and point (d)\n",
    "    return svd[0][:, -1], d\n",
    "\n",
    "n, d = det_plane_from_ai(rsm.ai, skip=50)"
   ]
  },
  {
   "cell_type": "code",
   "execution_count": 734,
   "metadata": {},
   "outputs": [],
   "source": [
    "class k_vector():\n",
    "    def __init__(self, point, tth, chi, degrees=False):\n",
    "        \n",
    "        self.x0, self.y0, self.z0 = point\n",
    "\n",
    "        if degrees:\n",
    "            tth = np.radians(tth)\n",
    "            chi = np.radians(chi)\n",
    "\n",
    "\n",
    "        self.a = np.sin(tth) * np.cos(chi)\n",
    "        self.b = np.sin(tth) * np.sin(chi)\n",
    "        self.c = np.cos(tth)\n",
    "            \n",
    "    def __call__(self, t):\n",
    "        return (self.x0 + self.a * t,\n",
    "                self.y0 + self.b * t,\n",
    "                self.z0 + self.c * t)\n",
    "    \n",
    "    def get_planar_intercept(self, a, b, c, d):\n",
    "\n",
    "        t = ((a * (d[0] - self.x0) + b * (d[1] - self.y0) + c * (d[2] - self.z0))\n",
    "             / (self.a * a + self.b * b + self.c * c))\n",
    "        \n",
    "        return self(t)\n",
    "    \n",
    "    def copy(self, point=None, tth=None, chi=None):\n",
    "        if point is None:\n",
    "            point = (self.x0, self.y0, self.z0)\n",
    "        if tth is None:\n",
    "            tth = self.tth\n",
    "        if chi is None:\n",
    "            chi = self.chi\n",
    "        \n",
    "        return self.__class__(point, tth, chi)"
   ]
  },
  {
   "cell_type": "code",
   "execution_count": 735,
   "metadata": {},
   "outputs": [],
   "source": [
    "def lstsq_line_intersect(P0, P1):\n",
    "    # From Traa, Johannes \"Least-Squares Intersection of Lines\" (2013).\n",
    "    \n",
    "    # Generate all line direction vectors \n",
    "    n = (P1 - P0) / np.linalg.norm(P1 - P0, axis=1)[:, np.newaxis] # normalized\n",
    "\n",
    "    # Generate the array of all projectors \n",
    "    projs = np.eye(n.shape[1]) - n[:, :, np.newaxis] * n[:, np.newaxis]  # I - n*n.T\n",
    "\n",
    "    # Generate R matrix and q vector\n",
    "    R = projs.sum(axis=0)\n",
    "    q = (projs @ P0[:, :, np.newaxis]).sum(axis=0)\n",
    "\n",
    "    # Solve the least squares problem for the \n",
    "    # Intersection point p: Rp = q\n",
    "    p = np.linalg.lstsq(R, q, rcond=None)[0]\n",
    "\n",
    "    return p"
   ]
  },
  {
   "cell_type": "code",
   "execution_count": 739,
   "metadata": {},
   "outputs": [
    {
     "name": "stdout",
     "output_type": "stream",
     "text": [
      "0.0010710631321127918\n"
     ]
    }
   ],
   "source": [
    "fig, ax = plt.subplots(1, 1, figsize=(5, 5), dpi=200, subplot_kw={'projection':'3d'})\n",
    "\n",
    "skip = 50\n",
    "\n",
    "pos_arr = rsm.ai.position_array()\n",
    "\n",
    "x = pos_arr[:, :, 2][::skip, ::skip].ravel()\n",
    "y = pos_arr[:, :, 1][::skip, ::skip].ravel()\n",
    "z = pos_arr[:, :, 0][::skip, ::skip].ravel()\n",
    "\n",
    "ax.scatter(x, y, z, s=1, c='k', alpha=0.1)\n",
    "ax.scatter(0, 0, 0, s=10, facecolors='none', edgecolors='r')\n",
    "# ax.scatter(xx.ravel(), yy.ravel(), zz.ravel(), s=1)\n",
    "\n",
    "spot_k_vectors = []\n",
    "ref_k_vectors = []\n",
    "P0 = []\n",
    "P1 = []\n",
    "for ind in range(len(tth)):\n",
    "\n",
    "        spot_k = k_vector((0, 0, 0), tth[ind], chi[ind], degrees=True)\n",
    "        spot_k_vectors.append(spot_k)\n",
    "        intercept = spot_k.get_planar_intercept(*n, d)\n",
    "\n",
    "\n",
    "        ref_k = k_vector(intercept, ref_tth[ind], ref_chi[ind], degrees=True)\n",
    "        ref_k_vectors.append(ref_k)\n",
    "\n",
    "        P0.append([ref_k.x0, ref_k.y0, ref_k.z0])\n",
    "        P1.append([ref_k.a, ref_k.b, ref_k.c])\n",
    "\n",
    "        ax.scatter(*intercept, s=1, c='r')\n",
    "\n",
    "        ax.plot(*spot_k(np.linspace(0, 0.5, 100)), c='r', lw=0.1)\n",
    "        ax.plot(*ref_k(np.linspace(-0.5, 0, 100)), c='blue', lw=0.1)\n",
    "\n",
    "        # Text\n",
    "        ax.text(*intercept,\n",
    "                str(tuple(np.asarray(ref_hkls)[best_connections[0][np.nonzero(~np.isnan(best_connections[0]))[0]].astype(int)][ind])),\n",
    "                fontsize=4, c='k')\n",
    "\n",
    "P0 = np.asarray(P0)\n",
    "P1 = np.asarray(P1)\n",
    "zero_point = lstsq_line_intersect(P0, P1).squeeze()\n",
    "print(np.linalg.norm(zero_point))\n",
    "ax.scatter(*zero_point, c='g', s=1)\n",
    "\n",
    "ax.set_xlabel('x [m]')\n",
    "ax.set_ylabel('y [m]')\n",
    "ax.set_zlabel('z [m]')\n",
    "ax.set_aspect('equal')\n",
    "fig.show()"
   ]
  },
  {
   "cell_type": "code",
   "execution_count": 742,
   "metadata": {},
   "outputs": [],
   "source": [
    "from xrdmaptools.geometry.geometry import q_2_polar, get_q_vect, vector_angle\n",
    "\n",
    "def apply_zero_point_correction(spot_qs,\n",
    "                                ref_qs,\n",
    "                                connection,\n",
    "                                ai):\n",
    "    # Combined find and correct zero point\n",
    "\n",
    "    if len(spot_qs) != len(ref_qs):\n",
    "        raise ValueError('Length of spots and assigned reference qs must be equal.')\n",
    "    \n",
    "    # Find detector plane\n",
    "    n, d = det_plane_from_ai(ai, skip=50)\n",
    "\n",
    "    # Convert to polar real-space coordinates\n",
    "    spot_tth, spot_chi, spot_wavelength = q_2_polar(spot_qs)\n",
    "    ref_tth, ref_chi, ref_wavelength = q_2_polar(ref_qs)\n",
    "\n",
    "    # Build vector points\n",
    "    intercepts = []\n",
    "    points0, points1 = [], []\n",
    "    for i in range(len(spot_qs)):\n",
    "        # Create vectors from original zero to intercept detector plane\n",
    "        spot_k = k_vector((0, 0, 0), spot_tth[i], spot_chi[i])\n",
    "        intercept = spot_k.get_planar_intercept(*n, d)\n",
    "        intercepts.append(intercept)\n",
    "        \n",
    "        # Draw reference vectors for detector intercepts back towards zero point\n",
    "        ref_k = k_vector(intercept, ref_tth[i], ref_chi[i])\n",
    "\n",
    "        # Convert reference vectors into two points\n",
    "        # Should be a direct way to do this\n",
    "        points0.append([ref_k.x0, ref_k.y0, ref_k.z0])\n",
    "        points1.append([ref_k.a, ref_k.b, ref_k.c])\n",
    "\n",
    "    zero_point = lstsq_line_intersect(np.asarray(points0),\n",
    "                                        np.asarray(points1)).squeeze()\n",
    "\n",
    "    dx, dy, dz = (np.asarray(intercepts) - zero_point).T\n",
    "    upd_tth = np.arccos(dz / np.sqrt(dx**2 + dy**2 + dz**2))\n",
    "    upd_chi = np.arctan(dy / dx)\n",
    "\n",
    "    corr_spot_qs = get_q_vect(upd_tth, upd_chi, spot_wavelength).T\n",
    "\n",
    "    return corr_spot_qs, tuple(zero_point)\n",
    "\n",
    "# Unused\n",
    "def get_zero_point(spot_qs,\n",
    "                   ref_qs,\n",
    "                   detector_plane_normal,\n",
    "                   detector_plane_point):\n",
    "    \n",
    "    if len(spot_qs) != len(ref_qs):\n",
    "        raise ValueError('Length of spots and assigned reference qs must be equal.')\n",
    "    \n",
    "    spot_tth, spot_chi, _ = q_2_polar(spot_qs)\n",
    "    ref_tth, ref_chi, _ = q_2_polar(ref_qs)\n",
    "\n",
    "    # Build vector points\n",
    "    points0, points1 = [], []\n",
    "    for i in range(len(spot_qs)):\n",
    "        \n",
    "        # Create vectors from original zero to intercept detector plane\n",
    "        spot_k = k_vector((0, 0, 0), spot_tth[i], spot_chi[i])\n",
    "        intercept = spot_k.get_planar_intercept(*detector_plane_normal,\n",
    "                                                detector_plane_point)\n",
    "        \n",
    "        # Draw reference vectors for detector intercepts back towards zero point\n",
    "        ref_k = k_vector(intercept, ref_tth[i], ref_chi[i])\n",
    "\n",
    "        # Convert reference vectors into two points\n",
    "        # Should be a direct way to do this\n",
    "        points0.append([ref_k.x0, ref_k.y0, ref_k.z0])\n",
    "        points1.append([ref_k.a, ref_k.b, ref_k.c])\n",
    "    \n",
    "    zero_point = lstsq_line_intersect(np.asarray(points0),\n",
    "                                      np.asarray(points1)).squeeze()\n",
    "    \n",
    "    return zero_point\n",
    "\n",
    "# Unused\n",
    "def correct_zero_point(spot_qs,\n",
    "                       zero_point,\n",
    "                       detector_plane_normal,\n",
    "                       detector_plane_point):\n",
    "    \n",
    "    tth, chi, wavelength = q_2_polar(spot_qs)\n",
    "\n",
    "    upd_tth, upd_chi = [], []\n",
    "    for i in range(len(spot_qs)):\n",
    "        # Draw original vector to determine planar intercetp\n",
    "        spot_k = k_vector((0, 0, 0), tth[i], chi[i])\n",
    "        intercept = spot_k.get_planar_intercept(*detector_plane_normal,\n",
    "                                                detector_plane_point)\n",
    "\n",
    "        # Intercept on detector plane minus the new zero_point\n",
    "        dx = intercept[0] - zero_point[0]\n",
    "        dy = intercept[1] - zero_point[1]\n",
    "        dz = intercept[2] - zero_point[2]\n",
    "\n",
    "        # Determine new polar angles from new zero point\n",
    "        upd_tth.append(vector_angle([dx, dy, dz], [0, 0, 1]))\n",
    "        upd_chi.append(np.arctan(dy / dx))\n",
    "\n",
    "    # Convert updated polar coordinates back to q-space\n",
    "    return get_q_vect(np.asarray(upd_tth), np.asarray(upd_chi), wavelength).T\n",
    "\n",
    "orientation, rmse = fit_orientation_index(best_connections[0],\n",
    "                                          spot_qs,\n",
    "                                          ref_qs)\n",
    "\n",
    "rot_qs = orientation.apply(ref_qs, inverse=True)\n",
    "\n",
    "corr_spot_qs, zero_point = apply_zero_point_correction(spot_qs[np.nonzero(~np.isnan(best_connections[0]))[0]],\n",
    "                                                       np.asarray(rot_qs)[best_connections[0][np.nonzero(~np.isnan(best_connections[0]))[0]].astype(int)],\n",
    "                                                       rsm.ai)"
   ]
  },
  {
   "cell_type": "code",
   "execution_count": 741,
   "metadata": {},
   "outputs": [
    {
     "data": {
      "text/plain": [
       "array([[ 1.7062054 ,  0.3085213 , -0.26560894],\n",
       "       [ 2.8740857 ,  0.5306466 , -0.6257356 ],\n",
       "       [ 3.504583  ,  0.66707957, -1.0826373 ],\n",
       "       [ 4.953252  , -0.71816707, -1.5395108 ],\n",
       "       [ 3.157827  , -1.0764898 , -0.7234503 ],\n",
       "       [ 5.5778666 , -0.5856224 , -1.9986482 ],\n",
       "       [ 4.6777163 ,  0.88764435, -1.445399  ]], dtype=float32)"
      ]
     },
     "execution_count": 741,
     "metadata": {},
     "output_type": "execute_result"
    }
   ],
   "source": [
    "spot_qs[np.nonzero(~np.isnan(best_connections[0]))[0]]"
   ]
  },
  {
   "cell_type": "code",
   "execution_count": 59,
   "metadata": {},
   "outputs": [],
   "source": [
    "fig, ax = plt.subplots(1, 1, figsize=(5, 5), dpi=200, subplot_kw={'projection':'3d'})\n",
    "\n",
    "colors = ['k',] * len(best_connections)\n",
    "# colors = ['black', 'blue', 'green', 'purple'] + ['none'] * (len(best_connections) - 4)\n",
    "\n",
    "for best_fit_ind in range(len(best_connections)):\n",
    "    if best_fit_ind > 0:\n",
    "        break\n",
    "\n",
    "    orientation, rmse = fit_orientation_index(best_connections[best_fit_ind],\n",
    "                                              spot_qs,\n",
    "                                              ref_qs)\n",
    "\n",
    "    #rot_qs = ref_qs @ orientation.as_matrix()\n",
    "    rot_qs = orientation.apply(ref_qs, inverse=True)\n",
    "    q_mask = generate_q_mask(rot_qs,\n",
    "                            (min_tth, max_tth),\n",
    "                            (min_chi, max_chi),\n",
    "                            (min_wavelength, max_wavelength),\n",
    "                            ext=0.05)\n",
    "\n",
    "    ax.scatter(*rot_qs[q_mask].T, s=ref_fs[q_mask] * 0.1, c=colors[best_fit_ind])\n",
    "\n",
    "    hkls = [ref_hkls[int(ind)] for ind in best_connections[best_fit_ind][~np.isnan(best_connections[best_fit_ind])]]\n",
    "    fit_spots = spot_qs[np.nonzero(~np.isnan(best_connections[best_fit_ind]))[0]]\n",
    "    for idx, hkl in enumerate(hkls):\n",
    "        ax.text(*fit_spots[idx], str(hkl), fontsize=8, c=colors[best_fit_ind])\n",
    "\n",
    "for edge in edges:\n",
    "    ax.plot(*edge, c='gray', lw=1)\n",
    "\n",
    "ax.scatter(*np.asarray(spot_qs).T, s = 1, c='r', label='spots')\n",
    "ax.scatter(0, 0, 0, s=10, c='blue')\n",
    "\n",
    "ax.scatter(*np.asarray(corr_spot_qs).T, s=1, c='g')\n",
    "\n",
    "ax.set_xlim(q_mins[0], q_maxs[0])\n",
    "ax.set_ylim(q_mins[1], q_maxs[1])\n",
    "ax.set_zlim(q_mins[2], q_maxs[2])\n",
    "\n",
    "ax.set_xlabel('qx [Å⁻¹]')\n",
    "ax.set_ylabel('qy [Å⁻¹]')\n",
    "ax.set_zlabel('qz [Å⁻¹]')\n",
    "ax.set_aspect('equal')\n",
    "\n",
    "fig.show()"
   ]
  },
  {
   "cell_type": "code",
   "execution_count": 97,
   "metadata": {},
   "outputs": [
    {
     "data": {
      "text/plain": [
       "0.004525107835702484"
      ]
     },
     "execution_count": 97,
     "metadata": {},
     "output_type": "execute_result"
    }
   ],
   "source": [
    "np.linalg.norm(zero_point)"
   ]
  },
  {
   "cell_type": "code",
   "execution_count": 170,
   "metadata": {},
   "outputs": [],
   "source": [
    "from xrdmaptools.crystal.crystal import LatticeParameters\n",
    "from scipy import linalg\n",
    "unstrained = LatticeParameters.from_Phase(stibnite)\n",
    "\n",
    "def get_strain_orientation(spot_qs, ref_hkls, unstrained):\n",
    "    I = np.eye(3)\n",
    "\n",
    "    spot_qs = np.asarray(spot_qs)\n",
    "    ref_hkls = np.asarray(ref_hkls)\n",
    "\n",
    "    if len(spot_qs) != len(ref_hkls):\n",
    "        raise ValueError('Number of spots and assigned hkl indices must be equal.')\n",
    "\n",
    "    # Fit deformation (displacement?) tensor\n",
    "    # x carries orientation and lattice parameter information\n",
    "    x, res, rnk, s = linalg.lstsq(ref_hkls,\n",
    "                                  spot_qs)\n",
    "\n",
    "    # Convert to Busing and Levy UB matrix. Remove 2pi factor\n",
    "    UBmat = x.T / (2 * np.pi)\n",
    "\n",
    "    # Polar decomposition to remove rotation components.\n",
    "    # The leftover U is the active rotation and the inverse (transpose) is required for passive definition. Maybe...\n",
    "    U, B = linalg.polar(UBmat, side='right')\n",
    "\n",
    "    # Build strained lattice parameters from the polar decomposed stretch tensor (B)\n",
    "    # B is defined in Busing and Levy and is comprised of the strained reciprocal lattice vectors\n",
    "    strained = LatticeParameters.from_UBmat(B)\n",
    "\n",
    "    # Get transformation tensor (T) between strained and unstrained lattices\n",
    "    Tij = np.dot(strained.Amat, np.linalg.inv(unstrained.Amat))\n",
    "    # Tij = np.dot(unstrained.Bmat, np.linalg.inv(B)) # Switched positions account for opposite sign\n",
    "\n",
    "    # Decompose transformation tensor into strain components\n",
    "    # Is this eulerian or langrangian strain? Or infinitesimal?\n",
    "    # This is still in crystal coordinates too...\n",
    "    eij_full = 0.5 * (Tij + Tij.T) - I\n",
    "    eij_hydro = np.trace(eij_full) / 3\n",
    "    eij_dev = eij_full - eij_hydro * I\n",
    "\n",
    "    return eij_dev, eij_hydro, Rotation.from_matrix(U.T)\n",
    "\n",
    "\n",
    "def apply_crystal_strain(ref_qs, eij_full):\n",
    "    return np.asarray(ref_qs) @ (np.eye - eij_full)\n",
    "\n",
    "def apply_sample_strain(ref_qs, eij_full):\n",
    "    raise NotImplementedError()\n",
    "\n",
    "def apply_crystal_strain_rotation(ref_qs, eij_full, orientaiton):\n",
    "    raise NotImplementedError()\n",
    "    return np.asarray(ref_qs) @ (np.eye - eij_full) @ orientation.T # maybe"
   ]
  },
  {
   "cell_type": "code",
   "execution_count": 175,
   "metadata": {},
   "outputs": [
    {
     "name": "stdout",
     "output_type": "stream",
     "text": [
      "19.28674335618578\n",
      "[[-7.20907167 11.74839409 18.14045776]\n",
      " [11.74839409 -4.20521111 22.4494644 ]\n",
      " [18.14045776 22.4494644  11.41428278]]\n"
     ]
    }
   ],
   "source": [
    "eij_dev, eij_hydro, U = get_strain_orientation(\n",
    "    spot_qs[np.nonzero(~np.isnan(best_connections[0]))[0]],\n",
    "    np.asarray(ref_hkls)[best_connections[0][np.nonzero(~np.isnan(best_connections[0]))[0]].astype(int)],\n",
    "    unstrained)\n",
    "\n",
    "eij_full = eij_dev + eij_hydro * np.eye(3)\n",
    "\n",
    "print(eij_hydro * 1e3)\n",
    "print(eij_dev * 1e3)"
   ]
  },
  {
   "cell_type": "code",
   "execution_count": 63,
   "metadata": {},
   "outputs": [
    {
     "name": "stdout",
     "output_type": "stream",
     "text": [
      "|a = 11.314000\t|b = 3.837000\t|c = 11.234000\n",
      "|alpha = 90.000\t|beta = 90.000 \t|gamma = 90.000\n"
     ]
    }
   ],
   "source": [
    "from xrdmaptools.crystal.crystal import LatticeParameters\n",
    "\n",
    "unstrained = LatticeParameters.from_Phase(stibnite)\n",
    "print(f'|a = {unstrained.a:.6f}\\t|b = {unstrained.b:.6f}\\t|c = {unstrained.c:.6f}')\n",
    "print(f'|alpha = {np.degrees(unstrained.alpha):.3f}\\t|beta = {np.degrees(unstrained.beta):.3f} \\t|gamma = {np.degrees(unstrained.gamma):.3f}')"
   ]
  },
  {
   "cell_type": "code",
   "execution_count": 67,
   "metadata": {},
   "outputs": [
    {
     "name": "stdout",
     "output_type": "stream",
     "text": [
      "[[ 7.57015516  1.52463524  8.149306  ]\n",
      " [ 1.52463524 -2.46844595  4.40999834]\n",
      " [ 8.149306    4.40999834 12.83157843]]\n",
      "5.977762545720762\n",
      "[[ 1.59239261  1.52463524  8.149306  ]\n",
      " [ 1.52463524 -8.4462085   4.40999834]\n",
      " [ 8.149306    4.40999834  6.85381589]]\n",
      "|a = 11.399649\t|b = 3.827546\t|c = 11.380054\n",
      "|alpha = 89.498\t|beta = 89.078 \t|gamma = 89.825\n"
     ]
    }
   ],
   "source": [
    "from scipy import linalg\n",
    "from xrdmaptools.crystal.crystal import LatticeParameters\n",
    "I = np.eye(3)\n",
    "\n",
    "unstrained = LatticeParameters.from_Phase(stibnite)\n",
    "\n",
    "orientation, rmse = fit_orientation_index(best_connections[0],\n",
    "                                          spot_qs,\n",
    "                                          ref_qs)\n",
    "\n",
    "x, res, rnk, s = linalg.lstsq(np.asarray(ref_hkls)[best_connections[0][np.nonzero(~np.isnan(best_connections[0]))[0]].astype(int)],\n",
    "                              spot_qs[np.nonzero(~np.isnan(best_connections[0]))[0]])\n",
    "\n",
    "\n",
    "refs = [[1, 0, 0], [0, 1, 0], [0, 0, 1]]\n",
    "spots = [[(2 * np.pi) / (11.314 * 1.01), 0, 0],\n",
    "         [0, (2 * np.pi) / (3.837 * 0.98), 0],\n",
    "         [0, 0, (2 * np.pi) / (11.234 * 1.03)]]\n",
    "\n",
    "spots = np.asarray(spots) @ Rotation.from_euler('xzx', [50, 10, 0]).as_matrix()\n",
    "\n",
    "# x, res, rnk, s = linalg.lstsq(refs, spots)\n",
    "\n",
    "UBmat = x.T / (2 * np.pi)\n",
    "U, B = linalg.polar(UBmat, side='right') # This U is transpose of orientation!!!\n",
    "strained = LatticeParameters.from_UBmat(B)\n",
    "\n",
    "Tij = np.dot(strained.Amat, np.linalg.inv(unstrained.Amat))\n",
    "# Tij = np.dot(unstrained.Bmat, np.linalg.inv(B)) # Also a valid option...\n",
    "eij_full = 0.5 * (Tij + Tij.T) - I\n",
    "eij_hydro = np.trace(eij_full) / 3\n",
    "eij_dev = eij_full - eij_hydro * I\n",
    "print(eij_full * 1e3)\n",
    "print(eij_hydro * 1e3)\n",
    "print(eij_dev * 1e3)\n",
    "# print(np.degrees(Rotation.from_matrix(orientation.as_matrix() @ U).magnitude()))\n",
    "print(f'|a = {strained.a:.6f}\\t|b = {strained.b:.6f}\\t|c = {strained.c:.6f}')\n",
    "print(f'|alpha = {np.degrees(strained.alpha):.3f}\\t|beta = {np.degrees(strained.beta):.3f} \\t|gamma = {np.degrees(strained.gamma):.3f}')"
   ]
  },
  {
   "cell_type": "code",
   "execution_count": 461,
   "metadata": {},
   "outputs": [
    {
     "name": "stdout",
     "output_type": "stream",
     "text": [
      "[[ 1.00000000e+01 -7.87980098e-14 -8.28183165e-14]\n",
      " [-7.87980098e-14 -2.00000000e+01  2.53140591e-14]\n",
      " [-8.28183165e-14  2.53140591e-14  3.00000000e+01]]\n",
      "6.66666666666671\n",
      "[[ 3.33333333e+00 -7.87980098e-14 -8.28183165e-14]\n",
      " [-7.87980098e-14 -2.66666667e+01  2.53140591e-14]\n",
      " [-8.28183165e-14  2.53140591e-14  2.33333333e+01]]\n"
     ]
    }
   ],
   "source": [
    "Tij = np.dot(unstrained.Bmat, np.linalg.inv(B))\n",
    "# Tij = np.dot(unstrained.Bmat, np.linalg.inv(UBmat))\n",
    "# Tij = np.dot(UBmat, np.linalg.inv(unstrained.Bmat))\n",
    "# Tij = np.dot(np.linalg.inv(UBmat), unstrained.Bmat)\n",
    "# Tij = np.dot(np.linalg.inv(unstrained.Bmat), UBmat)\n",
    "eij_full = 0.5 * (Tij + Tij.T) - I\n",
    "eij_hydro = np.trace(eij_full) / 3\n",
    "eij_dev = eij_full - eij_hydro * I\n",
    "print(eij_full * 1e3)\n",
    "print(eij_hydro * 1e3)\n",
    "print(eij_dev * 1e3)"
   ]
  },
  {
   "cell_type": "code",
   "execution_count": 462,
   "metadata": {},
   "outputs": [
    {
     "data": {
      "text/plain": [
       "array([ 2.08139997e-16, -4.74514000e-15,  4.51479340e-15])"
      ]
     },
     "execution_count": 462,
     "metadata": {},
     "output_type": "execute_result"
    }
   ],
   "source": [
    "wij = 0.5 * (Tij - Tij.T)\n",
    "w = [wij[2, 1], wij[0, 2], wij[1, 0]]\n",
    "np.degrees(w)"
   ]
  },
  {
   "cell_type": "code",
   "execution_count": 463,
   "metadata": {},
   "outputs": [
    {
     "name": "stderr",
     "output_type": "stream",
     "text": [
      "C:\\Users\\emusterma\\AppData\\Roaming\\Python\\Python311\\site-packages\\IPython\\core\\interactiveshell.py:3466: UserWarning: Gimbal lock detected. Setting third angle to zero since it is not possible to uniquely determine all angles.\n",
      "  if await self.run_code(code, result, async_=asy):\n"
     ]
    },
    {
     "data": {
      "text/plain": [
       "array([2.08139997e-16, 6.54978725e-15, 0.00000000e+00])"
      ]
     },
     "execution_count": 463,
     "metadata": {},
     "output_type": "execute_result"
    }
   ],
   "source": [
    "Rotation.from_matrix(wij + I).as_euler('xzx', degrees=True)"
   ]
  },
  {
   "cell_type": "code",
   "execution_count": null,
   "metadata": {},
   "outputs": [],
   "source": []
  },
  {
   "cell_type": "code",
   "execution_count": 153,
   "metadata": {},
   "outputs": [
    {
     "name": "stdout",
     "output_type": "stream",
     "text": [
      "[[19.59543486 12.2086758  19.6670827 ]\n",
      " [12.2086758  -2.60335478 25.57793052]\n",
      " [19.6670827  25.57793052  0.1073777 ]]\n",
      "5.699819262548737\n",
      "[[13.8956156  12.2086758  19.6670827 ]\n",
      " [12.2086758  -8.30317404 25.57793052]\n",
      " [19.6670827  25.57793052 -5.59244156]]\n",
      "1.2494266459753685\n",
      "|a = 11.535703\t|b = 3.828158\t|c = 11.258569\n",
      "|alpha = 87.020\t|beta = 87.751 \t|gamma = 88.598\n"
     ]
    }
   ],
   "source": [
    "from scipy import linalg\n",
    "from xrdmaptools.crystal.crystal import LatticeParameters\n",
    "I = np.eye(3)\n",
    "\n",
    "unstrained = LatticeParameters.from_Phase(stibnite)\n",
    "\n",
    "orientation, rmse = fit_orientation_index(best_connections[0],\n",
    "                                          spot_qs,\n",
    "                                          ref_qs)\n",
    "\n",
    "# x, res, rnk, s = linalg.lstsq(np.asarray(ref_hkls)[best_connections[0][np.nonzero(~np.isnan(best_connections[0]))[0]].astype(int)],\n",
    "#                               corr_spot_qs)\n",
    "\n",
    "UBmat = x.T / (2 * np.pi)\n",
    "U, B = linalg.polar(UBmat, side='right') # This U is transpose of orientation!!!\n",
    "strained = LatticeParameters.from_UBmat(B)\n",
    "\n",
    "Tij = np.dot(strained.Amat, np.linalg.inv(unstrained.Amat))\n",
    "eij_full = 0.5 * (Tij + Tij.T) - I\n",
    "eij_hydro = np.trace(eij_full) / 3\n",
    "eij_dev = eij_full - eij_hydro * I\n",
    "print(eij_full * 1e3)\n",
    "print(eij_hydro * 1e3)\n",
    "print(eij_dev * 1e3)\n",
    "print(np.degrees(Rotation.from_matrix(orientation.as_matrix() @ U).magnitude()))\n",
    "print(f'|a = {strained.a:.6f}\\t|b = {strained.b:.6f}\\t|c = {strained.c:.6f}')\n",
    "print(f'|alpha = {np.degrees(strained.alpha):.3f}\\t|beta = {np.degrees(strained.beta):.3f} \\t|gamma = {np.degrees(strained.gamma):.3f}')"
   ]
  },
  {
   "cell_type": "code",
   "execution_count": 136,
   "metadata": {},
   "outputs": [],
   "source": [
    "fig, ax = plt.subplots(1, 1, figsize=(5, 5), dpi=200, subplot_kw={'projection':'3d'})\n",
    "\n",
    "colors = ['k',] * len(best_connections)\n",
    "# colors = ['black', 'blue', 'green', 'purple'] + ['none'] * (len(best_connections) - 4)\n",
    "\n",
    "for best_fit_ind in range(len(best_connections)):\n",
    "    if best_fit_ind > 0:\n",
    "        break\n",
    "\n",
    "    orientation, rmse = fit_orientation_index(best_connections[best_fit_ind],\n",
    "                                              spot_qs,\n",
    "                                              ref_qs)\n",
    "\n",
    "    # rot_qs = ref_qs @ orientation.as_matrix()\n",
    "    # rot_qs = orientation.apply(ref_qs, inverse=True)\n",
    "    rot_qs = Rotation.from_matrix(U.T).apply(ref_qs, inverse=True)\n",
    "\n",
    "    q_mask = generate_q_mask(rot_qs,\n",
    "                            (min_tth, max_tth),\n",
    "                            (min_chi, max_chi),\n",
    "                            (min_wavelength, max_wavelength),\n",
    "                            ext=0.05)\n",
    "\n",
    "    ax.scatter(*rot_qs[q_mask].T, s=ref_fs[q_mask] * 0.1, c=colors[best_fit_ind])\n",
    "\n",
    "    hkls = [ref_hkls[int(ind)] for ind in best_connections[best_fit_ind][~np.isnan(best_connections[best_fit_ind])]]\n",
    "    fit_spots = spot_qs[np.nonzero(~np.isnan(best_connections[best_fit_ind]))[0]]\n",
    "    for idx, hkl in enumerate(hkls):\n",
    "        ax.text(*fit_spots[idx], str(hkl), fontsize=8, c=colors[best_fit_ind])\n",
    "\n",
    "for edge in edges:\n",
    "    ax.plot(*edge, c='gray', lw=1)\n",
    "\n",
    "ax.scatter(*np.asarray(spot_qs).T, s = 1, c='r')\n",
    "ax.scatter(0, 0, 0, s=10, c='blue')\n",
    "\n",
    "fit_qs = ref_qs @ (I - eij_full) @ U.T\n",
    "\n",
    "ax.scatter(*fit_qs[q_mask].T, s=ref_fs[q_mask] * 0.1, c='g')\n",
    "\n",
    "ax.set_xlim(q_mins[0], q_maxs[0])\n",
    "ax.set_ylim(q_mins[1], q_maxs[1])\n",
    "ax.set_zlim(q_mins[2], q_maxs[2])\n",
    "\n",
    "ax.set_xlabel('qx [Å⁻¹]')\n",
    "ax.set_ylabel('qy [Å⁻¹]')\n",
    "ax.set_zlabel('qz [Å⁻¹]')\n",
    "ax.set_aspect('equal')\n",
    "\n",
    "fig.show()"
   ]
  },
  {
   "cell_type": "code",
   "execution_count": 139,
   "metadata": {},
   "outputs": [],
   "source": [
    "fig, ax = plt.subplots(1, 1, figsize=(5, 5), dpi=200, subplot_kw={'projection':'3d'})\n",
    "\n",
    "colors = ['k',] * len(best_connections)\n",
    "# colors = ['black', 'blue', 'green', 'purple'] + ['none'] * (len(best_connections) - 4)\n",
    "\n",
    "for best_fit_ind in range(len(best_connections)):\n",
    "    if best_fit_ind > 0:\n",
    "        break\n",
    "\n",
    "    orientation, rmse = fit_orientation_index(best_connections[best_fit_ind],\n",
    "                                              spot_qs,\n",
    "                                              ref_qs)\n",
    "\n",
    "    # rot_qs = ref_qs @ orientation.as_matrix()\n",
    "    # rot_qs = orientation.apply(ref_qs, inverse=True)\n",
    "    rot_qs = Rotation.from_matrix(U.T).apply(ref_qs, inverse=True)\n",
    "\n",
    "    q_mask = generate_q_mask(rot_qs,\n",
    "                            (min_tth, max_tth),\n",
    "                            (min_chi, max_chi),\n",
    "                            (min_wavelength, max_wavelength),\n",
    "                            ext=0)\n",
    "\n",
    "    ax.scatter(*rot_qs[q_mask].T, s=ref_fs[q_mask] * 0.1, c=colors[best_fit_ind], label='unstrained ref')\n",
    "\n",
    "    hkls = [ref_hkls[int(ind)] for ind in best_connections[best_fit_ind][~np.isnan(best_connections[best_fit_ind])]]\n",
    "    # fit_spots = spot_qs[np.nonzero(~np.isnan(best_connections[best_fit_ind]))[0]]\n",
    "    fit_spots = corr_spot_qs\n",
    "    for idx, hkl in enumerate(hkls):\n",
    "        ax.text(*fit_spots[idx], str(hkl), fontsize=8, c=colors[best_fit_ind])\n",
    "\n",
    "for edge in edges:\n",
    "    ax.plot(*edge, c='gray', lw=1)\n",
    "\n",
    "ax.scatter(*np.asarray(corr_spot_qs).T, s = 1, c='r', label='offset spots')\n",
    "ax.scatter(0, 0, 0, s=10, c='blue', label='(000)')\n",
    "\n",
    "fit_qs = ref_qs @ (I - eij_full) @ U.T\n",
    "\n",
    "ax.scatter(*fit_qs[q_mask].T, s=ref_fs[q_mask] * 0.1, c='g', label='strained ref')\n",
    "\n",
    "ax.set_xlim(q_mins[0], q_maxs[0])\n",
    "ax.set_ylim(q_mins[1], q_maxs[1])\n",
    "ax.set_zlim(q_mins[2], q_maxs[2])\n",
    "\n",
    "ax.set_xlabel('qx [Å⁻¹]')\n",
    "ax.set_ylabel('qy [Å⁻¹]')\n",
    "ax.set_zlabel('qz [Å⁻¹]')\n",
    "ax.set_aspect('equal')\n",
    "ax.legend()\n",
    "\n",
    "fig.show()"
   ]
  },
  {
   "cell_type": "code",
   "execution_count": 989,
   "metadata": {},
   "outputs": [
    {
     "name": "stdout",
     "output_type": "stream",
     "text": [
      "[[-1.238 -1.655 -2.317]\n",
      " [-1.655  6.24  -3.025]\n",
      " [-2.317 -3.025  9.454]]\n",
      "4.819\n",
      "[[-6.057 -1.655 -2.317]\n",
      " [-1.655  1.421 -3.025]\n",
      " [-2.317 -3.025  4.635]]\n",
      "[-47.745  11.565  51.037]\n"
     ]
    }
   ],
   "source": [
    "from scipy import linalg\n",
    "I = np.eye(3)\n",
    "\n",
    "orientation, rmse = fit_orientation_index(best_connections[0],\n",
    "                                          spot_qs,\n",
    "                                          ref_qs)\n",
    "\n",
    "rot_spot_qs = orientation.apply(spot_qs[np.nonzero(~np.isnan(best_connections[0]))[0]], inverse=False)\n",
    "\n",
    "x, res, rnk, s = linalg.lstsq(np.asarray(ref_hkls)[best_connections[0][np.nonzero(~np.isnan(best_connections[0]))[0]].astype(int)],\n",
    "                              spot_qs[np.nonzero(~np.isnan(best_connections[0]))[0]])\n",
    "\n",
    "UBmat = x.T / (2 * np.pi)\n",
    "U, B = linalg.polar(UBmat, side='left')\n",
    "strained = LatticeParameters.from_UBmat(B)\n",
    "\n",
    "U, B = linalg.polar(UBmat, side='right')\n",
    "strained = LatticeParameters.from_UBmat(B)\n",
    "\n",
    "Tij = np.dot(strained.Amat, np.linalg.inv(unstrained.Amat))\n",
    "eij_full = 0.5 * (Tij + Tij.T) - I\n",
    "eij_hydro = np.trace(eij_full) / 3\n",
    "eij_dev = eij_full - eij_hydro * I\n",
    "\n",
    "print(eij_full.round(6) * 1e3)\n",
    "print(eij_hydro.round(6) * 1e3)\n",
    "print(eij_dev.round(6) * 1e3)\n",
    "\n",
    "print(np.degrees(Rotation.from_matrix(U).as_euler('xzx')).round(3))"
   ]
  },
  {
   "cell_type": "code",
   "execution_count": 868,
   "metadata": {},
   "outputs": [
    {
     "data": {
      "text/plain": [
       "[[0.5547912673484892, 0, 0],\n",
       " [0, 1.6342569765810016, 0],\n",
       " [0, 0, 0.5576279268993436]]"
      ]
     },
     "execution_count": 868,
     "metadata": {},
     "output_type": "execute_result"
    }
   ],
   "source": [
    "spots = [[(2 * np.pi) / (11.314 * 1.001), 0, 0],\n",
    "         [0, (2 * np.pi) / (3.837 * 1.002), 0],\n",
    "         [0, 0, (2 * np.pi) / (11.234 * 1.003)]]\n",
    "spots"
   ]
  },
  {
   "cell_type": "code",
   "execution_count": 873,
   "metadata": {},
   "outputs": [
    {
     "data": {
      "text/plain": [
       "array([[0.554791, 0.      , 0.      ],\n",
       "       [0.      , 1.63425 , 0.      ],\n",
       "       [0.      , 0.      , 0.557623]])"
      ]
     },
     "execution_count": 873,
     "metadata": {},
     "output_type": "execute_result"
    }
   ],
   "source": [
    "([[(2 * np.pi) / (11.314), 0, 0],\n",
    "[0, (2 * np.pi) / (3.837), 0],\n",
    "[0, 0, (2 * np.pi) / (11.234)]] @ (I - eij_full)).round(6)"
   ]
  },
  {
   "cell_type": "code",
   "execution_count": null,
   "metadata": {},
   "outputs": [],
   "source": []
  },
  {
   "cell_type": "code",
   "execution_count": null,
   "metadata": {},
   "outputs": [],
   "source": []
  },
  {
   "cell_type": "code",
   "execution_count": null,
   "metadata": {},
   "outputs": [],
   "source": []
  },
  {
   "cell_type": "code",
   "execution_count": 569,
   "metadata": {},
   "outputs": [
    {
     "name": "stdout",
     "output_type": "stream",
     "text": [
      "a = 11.314\n",
      "b = 3.837\n",
      "c = 11.234\n",
      "alpha = 90.0\n",
      "beta = 90.0\n",
      "gamma = 90.0\n",
      "a = 11.29999799841607\n",
      "b = 3.8609654896003085\n",
      "c = 11.340530969453713\n",
      "alpha = 90.34248192109521\n",
      "beta = 90.26303930871917\n",
      "gamma = 90.18852746913046\n"
     ]
    }
   ],
   "source": [
    "for lattice in [unstrained, strained]:\n",
    "    print(f'a = {lattice.a}')\n",
    "    print(f'b = {lattice.b}')\n",
    "    print(f'c = {lattice.c}')\n",
    "    print(f'alpha = {np.degrees(lattice.alpha)}')\n",
    "    print(f'beta = {np.degrees(lattice.beta)}')\n",
    "    print(f'gamma = {np.degrees(lattice.gamma)}')"
   ]
  },
  {
   "cell_type": "code",
   "execution_count": null,
   "metadata": {},
   "outputs": [],
   "source": []
  },
  {
   "cell_type": "code",
   "execution_count": null,
   "metadata": {},
   "outputs": [],
   "source": []
  },
  {
   "cell_type": "code",
   "execution_count": null,
   "metadata": {},
   "outputs": [],
   "source": []
  },
  {
   "cell_type": "code",
   "execution_count": null,
   "metadata": {},
   "outputs": [],
   "source": []
  },
  {
   "cell_type": "code",
   "execution_count": null,
   "metadata": {},
   "outputs": [],
   "source": []
  },
  {
   "cell_type": "code",
   "execution_count": 370,
   "metadata": {},
   "outputs": [
    {
     "name": "stdout",
     "output_type": "stream",
     "text": [
      "Finding valid higher order connections...\n",
      "Pair 17/125481   |3s: 1303   \r"
     ]
    },
    {
     "ename": "KeyboardInterrupt",
     "evalue": "",
     "output_type": "error",
     "traceback": [
      "\u001b[1;31m---------------------------------------------------------------------------\u001b[0m",
      "\u001b[1;31mKeyboardInterrupt\u001b[0m                         Traceback (most recent call last)",
      "Cell \u001b[1;32mIn[370], line 76\u001b[0m\n\u001b[0;32m     74\u001b[0m \u001b[38;5;28;01mfor\u001b[39;00m R1 \u001b[38;5;129;01min\u001b[39;00m pair_orientations[keep_pair_mask][rem_pair_mask]:\n\u001b[0;32m     75\u001b[0m     \u001b[38;5;28;01mif\u001b[39;00m \u001b[38;5;129;01mnot\u001b[39;00m \u001b[38;5;28misinstance\u001b[39m(R0, \u001b[38;5;28mfloat\u001b[39m) \u001b[38;5;129;01mand\u001b[39;00m \u001b[38;5;129;01mnot\u001b[39;00m \u001b[38;5;28misinstance\u001b[39m(R1, \u001b[38;5;28mfloat\u001b[39m):\n\u001b[1;32m---> 76\u001b[0m         misorientations\u001b[38;5;241m.\u001b[39mappend(np\u001b[38;5;241m.\u001b[39mdegrees(Rotation\u001b[38;5;241m.\u001b[39mfrom_matrix(R0\u001b[38;5;241m.\u001b[39mas_matrix() \u001b[38;5;241m@\u001b[39m R1\u001b[38;5;241m.\u001b[39mas_matrix()\u001b[38;5;241m.\u001b[39mT)\u001b[38;5;241m.\u001b[39mmagnitude()))\n\u001b[0;32m     77\u001b[0m     \u001b[38;5;28;01melse\u001b[39;00m:\n\u001b[0;32m     78\u001b[0m         misorientations\u001b[38;5;241m.\u001b[39mappend(\u001b[38;5;241m0\u001b[39m) \u001b[38;5;66;03m# Cannot neglect colinear pairs\u001b[39;00m\n",
      "\u001b[1;31mKeyboardInterrupt\u001b[0m: "
     ]
    }
   ],
   "source": [
    "# Brute-force exhaustive search to find all higher order connection from list of valid pairs\n",
    "\n",
    "valid_conn = dict(zip(\n",
    "    range(2, 21),\n",
    "    [[] for _ in range(20)]\n",
    "))\n",
    "\n",
    "# Already know all valid pairs\n",
    "valid_conn[2] = np.asarray(expanded_pair_list[keep_pair_mask])\n",
    "\n",
    "def print_output(pair_iteration):\n",
    "    out_str = f\"Pair {pair_iteration + 1}/{len(valid_conn[2])}   \"\n",
    "\n",
    "    for rank in range(3, len(valid_conn.keys()) + 2):\n",
    "        rank_len = len(valid_conn[rank])\n",
    "        if rank_len > 0:\n",
    "            out_str += f\"|{rank}s: {rank_len}   \"\n",
    "\n",
    "    print(out_str, end='\\r')\n",
    "\n",
    "\n",
    "def scrub_repeats(connections_to_check,\n",
    "                   connections_to_scrub):\n",
    "    \n",
    "    connections_to_keep = []\n",
    "    \n",
    "    if len(connections_to_check) > 0:\n",
    "        connections_to_check = np.asarray(connections_to_check)\n",
    "    else:\n",
    "        return connections_to_scrub # Assumes no repeats in input set...\n",
    "\n",
    "    for connection in connections_to_scrub:\n",
    "        indices = np.nonzero(~np.isnan(connection))[0]\n",
    "        vals = connection[indices]\n",
    "\n",
    "        if np.any(np.all([connections_to_check[:, index] == val\n",
    "                       for index, val in zip(indices, vals)], axis=0)):\n",
    "            continue\n",
    "        else:\n",
    "            connections_to_keep.append(connection)\n",
    "        \n",
    "    return connections_to_keep\n",
    "\n",
    "\n",
    "print('Finding valid higher order connections...')\n",
    "rem_pair_mask = np.asarray([True,] * len(valid_conn[2]))\n",
    "for i in range(len(valid_conn[2])):\n",
    "\n",
    "    # def trunc(values, decs=0):\n",
    "    #     return np.trunc(values * 10**decs) / (10**decs)\n",
    "\n",
    "    # # similar_pair_mask = trunc(pair_rmse, 13) == trunc(pair_rmse[2], 13)\n",
    "    # similar_pair_mask = np.round(pair_rmse, 10) == np.round(pair_rmse[i], 10)\n",
    "    # sym_pairs = expanded_pair_list[similar_pair_mask]\n",
    "    # if len(sym_pairs) > 2:\n",
    "    #     most_positive_index = np.argmax([np.sign(np.asarray(ref_hkls)[pair[np.nonzero(~np.isnan(pair))[0]].astype(int)]).sum()\n",
    "    #                                     for pair in sym_pairs])\n",
    "    #     # most_positive_index = np.sign(np.asarray(ref_hkls)[sym_pairs[np.nonzero(~np.isnan(sym_pairs))].astype(int)].reshape(-1, 2, 3)).sum(axis=(1, 2)).argmax()\n",
    "\n",
    "    #     if i != np.nonzero(similar_pair_mask)[0][most_positive_index]:\n",
    "    #         continue\n",
    "\n",
    "    print_output(i)\n",
    "    pair = valid_conn[2][i]\n",
    "    pair_indices = np.nonzero(~np.isnan(pair))[0]\n",
    "    pair_vals = pair[pair_indices]\n",
    "\n",
    "    # rem_pair_mask = np.asarray([True,] * len(expanded_pair_list))\n",
    "    # rem_pair_mask[: i + 1] = False\n",
    "\n",
    "    # Eliminate remaining pair misorientations above some threshold\n",
    "    R0 = pair_orientations[keep_pair_mask][i]\n",
    "    misorientations = []\n",
    "    for R1 in pair_orientations[keep_pair_mask][rem_pair_mask]:\n",
    "        if not isinstance(R0, float) and not isinstance(R1, float):\n",
    "            misorientations.append(np.degrees(Rotation.from_matrix(R0.as_matrix() @ R1.as_matrix().T).magnitude()))\n",
    "        else:\n",
    "            misorientations.append(0) # Cannot neglect colinear pairs\n",
    "\n",
    "    misorientation_mask = rem_pair_mask.copy() # redundant, but differentiates\n",
    "    misorientation_mask[np.nonzero(rem_pair_mask)] = np.asarray(misorientations) < 360\n",
    "\n",
    "    # Initial triplet candidates\n",
    "    trip_mask = np.any([valid_conn[2][:, pair_indices[i]] == pair_vals[i] for i in range(2)], axis=0)\n",
    "    trip_mask = trip_mask & misorientation_mask\n",
    "    if np.sum(trip_mask) < 1:\n",
    "        continue\n",
    "    \n",
    "    next_pair0_mask = valid_conn[2][trip_mask, pair_indices[0]] == pair_vals[0]\n",
    "    next_pairs0 = valid_conn[2][trip_mask][next_pair0_mask]\n",
    "    next_pairs0[:, pair_indices[0]] = np.nan\n",
    "\n",
    "    next_pair1_mask = valid_conn[2][trip_mask, pair_indices[1]] == pair_vals[1]\n",
    "    next_pairs1 = valid_conn[2][trip_mask][next_pair1_mask]\n",
    "    next_pairs1[:, pair_indices[1]] = np.nan\n",
    "\n",
    "    partials3 = np.asarray([match for match in next_pairs0 if match in next_pairs1])\n",
    "    full3 = []\n",
    "    for triplet in partials3:\n",
    "        new_triplet = pair.copy()\n",
    "        new_triplet[~np.isnan(triplet)] = triplet[~np.isnan(triplet)].ravel()\n",
    "        valid_conn[3].append(new_triplet)\n",
    "        full3.append(new_triplet)\n",
    "\n",
    "    # Must have at least 2 triplets to search for qudruplets\n",
    "    if len(partials3) < 2:\n",
    "        continue\n",
    "\n",
    "    continue\n",
    "\n",
    "    for idx4 in range(len(partials3)):\n",
    "        print_output(i)\n",
    "        partials4, full4 = _find_next_connections(valid_conn[2][misorientation_mask],\n",
    "                                                  partials3,\n",
    "                                                  full3[idx4],\n",
    "                                                  common_partial=partials3[idx4])\n",
    "        \n",
    "        valid_conn[4].extend(scrub_repeats(valid_conn[4], full4))\n",
    "        \n",
    "        if len(partials4) < 2:\n",
    "            continue\n",
    "\n",
    "        for idx5 in range(len(partials4)):\n",
    "            print_output(i)\n",
    "            partials5, full5 = _find_next_connections(valid_conn[2][misorientation_mask],\n",
    "                                                      partials4,\n",
    "                                                      full4[idx5],\n",
    "                                                      common_partial=partials4[idx5])\n",
    "            \n",
    "            valid_conn[5].extend(scrub_repeats(valid_conn[5], full5))\n",
    "            \n",
    "            if len(partials5) < 2:\n",
    "                continue\n",
    "\n",
    "            for idx6 in range(len(partials5)):\n",
    "                print_output(i)\n",
    "                partials6, full6 = _find_next_connections(valid_conn[2][misorientation_mask],\n",
    "                                                          partials5,\n",
    "                                                          full5[idx6],\n",
    "                                                          common_partial=partials5[idx6])\n",
    "                \n",
    "                valid_conn[6].extend(scrub_repeats(valid_conn[6], full6))\n",
    "                \n",
    "                if len(partials6) < 2:\n",
    "                    continue\n",
    "                    \n",
    "                for idx7 in range(len(partials6)):\n",
    "                    print_output(i)\n",
    "                    partials7, full7 = _find_next_connections(valid_conn[2][misorientation_mask],\n",
    "                                                              partials6,\n",
    "                                                              full6[idx7],\n",
    "                                                              common_partial=partials6[idx7])\n",
    "                    \n",
    "                    valid_conn[7].extend(scrub_repeats(valid_conn[7], full7))\n",
    "                    \n",
    "                    if len(partials7) < 2:\n",
    "                        continue\n",
    "\n",
    "                    for idx8 in range(len(partials7)):\n",
    "                        print_output(i)\n",
    "                        partials8, full8 = _find_next_connections(valid_conn[2][misorientation_mask],\n",
    "                                                                  partials7,\n",
    "                                                                  full7[idx8],\n",
    "                                                                  common_partial=partials7[idx8])\n",
    "                        \n",
    "                        valid_conn[8].extend(scrub_repeats(valid_conn[8], full8))\n",
    "                        \n",
    "                        if len(partials8) < 2:\n",
    "                            continue\n",
    "\n",
    "                        for idx9 in range(len(partials8)):\n",
    "                            print_output(i)\n",
    "                            partials9, full9 = _find_next_connections(valid_conn[2][misorientation_mask],\n",
    "                                                                      partials8,\n",
    "                                                                      full8[idx9],\n",
    "                                                                      common_partial=partials8[idx9])\n",
    "                            \n",
    "                            valid_conn[9].extend(scrub_repeats(valid_conn[9], full9))\n",
    "                            \n",
    "                            if len(partials9) < 2:\n",
    "                                continue\n",
    "                        \n",
    "                            for idx10 in range(len(partials9)):\n",
    "                                print_output(i)\n",
    "                                partials10, full10 = _find_next_connections(valid_conn[2][misorientation_mask],\n",
    "                                                                            partials9,\n",
    "                                                                            full9[idx10],\n",
    "                                                                            common_partial=partials9[idx10])\n",
    "                                \n",
    "                                valid_conn[10].extend(scrub_repeats(valid_conn[10], full10))\n",
    "                                \n",
    "                                if len(partials10) < 2:\n",
    "                                    continue\n",
    "\n",
    "                                for idx11 in range(len(partials10)):\n",
    "                                    print_output(i)\n",
    "                                    partials11, full11 = _find_next_connections(valid_conn[2][misorientation_mask],\n",
    "                                                                                partials10,\n",
    "                                                                                full10[idx11],\n",
    "                                                                                common_partial=partials10[idx11])\n",
    "                                    \n",
    "                                    valid_conn[11].extend(scrub_repeats(valid_conn[11], full11))\n",
    "                                    \n",
    "                                    if len(partials11) < 2:\n",
    "                                        continue\n",
    "\n",
    "                                    for idx12 in range(len(partials11)):\n",
    "                                        print_output(i)\n",
    "                                        partials12, full12 = _find_next_connections(valid_conn[2][misorientation_mask],\n",
    "                                                                                    partials11,\n",
    "                                                                                    full11[idx12],\n",
    "                                                                                    common_partial=partials11[idx12])\n",
    "                                        \n",
    "                                        valid_conn[12].extend(scrub_repeats(valid_conn[12], full12))\n",
    "                                        \n",
    "                                        if len(partials12) < 2:\n",
    "                                            continue\n",
    "                                        \n",
    "                                        raise RuntimeError('Currently no supported connections greater than 12!')\n",
    "    rem_pair_mask[i] = False \n",
    "    #break         "
   ]
  },
  {
   "cell_type": "code",
   "execution_count": null,
   "metadata": {},
   "outputs": [],
   "source": []
  },
  {
   "cell_type": "code",
   "execution_count": null,
   "metadata": {},
   "outputs": [],
   "source": []
  },
  {
   "cell_type": "code",
   "execution_count": 23,
   "metadata": {},
   "outputs": [
    {
     "ename": "NameError",
     "evalue": "name 'spot_qs' is not defined",
     "output_type": "error",
     "traceback": [
      "\u001b[1;31m---------------------------------------------------------------------------\u001b[0m",
      "\u001b[1;31mNameError\u001b[0m                                 Traceback (most recent call last)",
      "Cell \u001b[1;32mIn[23], line 5\u001b[0m\n\u001b[0;32m      1\u001b[0m \u001b[38;5;66;03m# Decompose connections\u001b[39;00m\n\u001b[0;32m      2\u001b[0m \u001b[38;5;66;03m# Based on minimum of most connected structure (could do most connected -1)\u001b[39;00m\n\u001b[0;32m      4\u001b[0m \u001b[38;5;28;01mdef\u001b[39;00m \u001b[38;5;21mfit_orientation_index\u001b[39m(connection,\n\u001b[1;32m----> 5\u001b[0m                           spot_qs\u001b[38;5;241m=\u001b[39m\u001b[43mspot_qs\u001b[49m,\n\u001b[0;32m      6\u001b[0m                           ref_qs\u001b[38;5;241m=\u001b[39mref_qs):\n\u001b[0;32m      7\u001b[0m     fit_spot_indices \u001b[38;5;241m=\u001b[39m np\u001b[38;5;241m.\u001b[39mnonzero(\u001b[38;5;241m~\u001b[39mnp\u001b[38;5;241m.\u001b[39misnan(connection))\n\u001b[0;32m      8\u001b[0m     fit_spot_qs \u001b[38;5;241m=\u001b[39m spot_qs[fit_spot_indices]\n",
      "\u001b[1;31mNameError\u001b[0m: name 'spot_qs' is not defined"
     ]
    }
   ],
   "source": [
    "# Decompose connections\n",
    "# Based on minimum of most connected structure (could do most connected -1)\n",
    "\n",
    "def fit_orientation_index(connection,\n",
    "                          spot_qs,\n",
    "                          ref_qs):\n",
    "    fit_spot_indices = np.nonzero(~np.isnan(connection))\n",
    "    fit_spot_qs = spot_qs[fit_spot_indices]\n",
    "\n",
    "    fit_ref_indices = connection[fit_spot_indices].astype(int)\n",
    "    # fit_ref_hkls = np.asarray(ref_hkls)[fit_ref_indices]\n",
    "    fit_ref_qs = np.asarray(ref_qs)[fit_ref_indices]\n",
    "\n",
    "    fit_orientation, fit_rssd = Rotation.align_vectors(fit_ref_qs, fit_spot_qs)\n",
    "\n",
    "    fit_euclidean_errors = [np.sqrt(np.sum([(p - q)**2 for p, q in zip(v1, v2)]))\n",
    "                            for v1, v2 in zip(fit_ref_qs, fit_orientation.apply(fit_spot_qs, inverse=False))]\n",
    "    rmse = np.mean(fit_euclidean_errors)\n",
    "\n",
    "    return fit_orientation, rmse\n",
    "\n",
    "def check_collinearity(connection_pair, ref_hkls):\n",
    "    pair_ref_hkls = [ref_hkls[int(ind)] for ind\n",
    "                    in connection_pair[~np.isnan(connection_pair)]]\n",
    "\n",
    "    # Check for colinearity; 3D orientation cannot be determined\n",
    "    pair_divs = np.array(pair_ref_hkls[0]) / np.array(pair_ref_hkls[1])\n",
    "    return len(np.unique(pair_divs[~np.isnan(pair_divs)])) < 2\n",
    "\n",
    "\n",
    "mutable_conn = dict(zip(\n",
    "    valid_conn.keys(),\n",
    "    [value.copy() for value in valid_conn.values()]    \n",
    "))\n",
    "\n",
    "excluded_spot_indices = []\n",
    "best_connections = []\n",
    "best_orientations = []\n",
    "best_errors = []\n",
    "DECOMPOSING_PATTERN = True\n",
    "while DECOMPOSING_PATTERN:\n",
    "    # Remove unused connections\n",
    "    del_keys = []\n",
    "    for key, value in mutable_conn.items():\n",
    "        mutable_conn[key] = np.asarray(value)\n",
    "        if len(value) == 0:\n",
    "            del_keys.append(key)\n",
    "    for key in del_keys:\n",
    "        del mutable_conn[key]\n",
    "\n",
    "    # Find best connected rank\n",
    "    largest_key = np.max([key for key, value in mutable_conn.items() if len(value) > 0])\n",
    "    largest_connections = mutable_conn[largest_key]\n",
    "\n",
    "    # Find best bit orientation\n",
    "    fit_orientations = []\n",
    "    fit_rmse = []\n",
    "    print(f'Searching for best fit rank {largest_key} connection out of {len(largest_connections)} possibilities.')\n",
    "    for connection in largest_connections:\n",
    "        if largest_key == 2:\n",
    "            if check_collinearity(connection, ref_hkls):\n",
    "                continue\n",
    "\n",
    "        fit_orientation, rmse = fit_orientation_index(connection)    \n",
    "        fit_orientations.append(fit_orientation)\n",
    "        fit_rmse.append(rmse)\n",
    "    \n",
    "    if len(fit_orientations) < 1:\n",
    "        DECOMPOSING_PATTERN = False\n",
    "\n",
    "    best_connections.append(largest_connections[np.argmin(fit_rmse)])\n",
    "    best_orientations.append(fit_orientations[np.argmin(fit_rmse)])\n",
    "    best_errors.append(fit_rmse[np.argmin(fit_rmse)])\n",
    "    fit_spot_indices = np.nonzero(~np.isnan(largest_connections[np.argmin(fit_rmse)]))[0]\n",
    "    excluded_spot_indices.extend(fit_spot_indices)\n",
    "\n",
    "    # Scrub all excluded_spot_indices from remaining connections\n",
    "    conn_masks = []\n",
    "    for key, connections in mutable_conn.items():\n",
    "        conn_mask = [True,] * len(connections)\n",
    "        for idx, connection in enumerate(connections):\n",
    "            conn_mask[idx] = np.all([index not in np.nonzero(~np.isnan(connection))[0]\n",
    "                                    for index in excluded_spot_indices])\n",
    "        mutable_conn[key] = connections[conn_mask]\n",
    "\n",
    "    if len(mutable_conn[2]) < 1:\n",
    "        DECOMPOSING_PATTERN = False\n"
   ]
  },
  {
   "cell_type": "code",
   "execution_count": 85,
   "metadata": {},
   "outputs": [],
   "source": [
    "fig, ax = plt.subplots(1, 1, figsize=(5, 5), dpi=200, subplot_kw={'projection':'3d'})\n",
    "\n",
    "\n",
    "colors = ['k',] * len(best_connections)\n",
    "colors = ['black', 'blue', 'green', 'purple'] + ['none'] * (len(best_connections) - 4)\n",
    "\n",
    "for best_fit_ind in range(len(best_connections)):\n",
    "    if best_fit_ind > 0:\n",
    "        break\n",
    "\n",
    "    if np.sum(~np.isnan(best_connections[best_fit_ind])) < 3:\n",
    "        continue\n",
    "\n",
    "    rot_qs = ref_qs @ best_orientations[best_fit_ind].as_matrix()\n",
    "    q_mask = np.all([\n",
    "        np.all([rot_qs[:, 0] > q_mins[0], rot_qs[:, 0] < q_maxs[0]], axis=0),\n",
    "        np.all([rot_qs[:, 1] > q_mins[1], rot_qs[:, 1] < q_maxs[1]], axis=0),\n",
    "        np.all([rot_qs[:, 2] > q_mins[2], rot_qs[:, 2] < q_maxs[2]], axis=0),\n",
    "    ], axis=0)\n",
    "    ax.scatter(*rot_qs[q_mask].T, s=ref_fs[q_mask] * 0.1, c=colors[best_fit_ind])\n",
    "\n",
    "    hkls = [ref_hkls[int(ind)] for ind in best_connections[best_fit_ind][~np.isnan(best_connections[best_fit_ind])]]\n",
    "    fit_spots = spot_qs[np.nonzero(~np.isnan(best_connections[best_fit_ind]))[0]]\n",
    "    for idx, hkl in enumerate(hkls):\n",
    "        ax.text(*fit_spots[idx], str(hkl), fontsize=8, c=colors[best_fit_ind])\n",
    "\n",
    "\n",
    "ax.scatter(*np.asarray(spot_qs).T, s = 1, c='r')\n",
    "ax.set_xlim(q_mins[0], q_maxs[0])\n",
    "ax.set_ylim(q_mins[1], q_maxs[1])\n",
    "ax.set_zlim(q_mins[2], q_maxs[2])\n",
    "\n",
    "ax.set_xlabel('qx [Å⁻¹]')\n",
    "ax.set_ylabel('qy [Å⁻¹]')\n",
    "ax.set_zlabel('qz [Å⁻¹]')\n",
    "ax.set_aspect('equal')\n",
    "\n",
    "fig.show()"
   ]
  },
  {
   "cell_type": "code",
   "execution_count": null,
   "metadata": {},
   "outputs": [],
   "source": []
  },
  {
   "cell_type": "code",
   "execution_count": null,
   "metadata": {},
   "outputs": [],
   "source": []
  },
  {
   "cell_type": "code",
   "execution_count": 141,
   "metadata": {},
   "outputs": [],
   "source": [
    "fig, ax = plt.subplots(1, 1, figsize=(5, 5), dpi=200, subplot_kw={'projection':'3d'})\n",
    "\n",
    "best_fit_ind = 0\n",
    "\n",
    "rot_qs = ref_qs @ best_orientations[best_fit_ind].as_matrix()\n",
    "q_mask = np.all([\n",
    "    np.all([rot_qs[:, 0] > q_mins[0], rot_qs[:, 0] < q_maxs[0]], axis=0),\n",
    "    np.all([rot_qs[:, 1] > q_mins[1], rot_qs[:, 1] < q_maxs[1]], axis=0),\n",
    "    np.all([rot_qs[:, 2] > q_mins[2], rot_qs[:, 2] < q_maxs[2]], axis=0),\n",
    "], axis=0)\n",
    "ax.scatter(*rot_qs[q_mask].T, s=ref_fs[q_mask] * 0.1, c='k')\n",
    "\n",
    "hkls = [ref_hkls[int(ind)] for ind in best_connections[best_fit_ind][~np.isnan(best_connections[best_fit_ind])]]\n",
    "fit_spots = spot_qs[np.nonzero(~np.isnan(best_connections[best_fit_ind]))[0]]\n",
    "for idx, hkl in enumerate(hkls):\n",
    "    ax.text(*fit_spots[idx], str(hkl), fontsize=8)\n",
    "\n",
    "\n",
    "best_fit_ind = 1\n",
    "\n",
    "rot_qs = ref_qs @ best_orientations[best_fit_ind].as_matrix()\n",
    "q_mask = np.all([\n",
    "    np.all([rot_qs[:, 0] > q_mins[0], rot_qs[:, 0] < q_maxs[0]], axis=0),\n",
    "    np.all([rot_qs[:, 1] > q_mins[1], rot_qs[:, 1] < q_maxs[1]], axis=0),\n",
    "    np.all([rot_qs[:, 2] > q_mins[2], rot_qs[:, 2] < q_maxs[2]], axis=0),\n",
    "], axis=0)\n",
    "ax.scatter(*rot_qs[q_mask].T, s=ref_fs[q_mask] * 0.1, c='blue')\n",
    "\n",
    "hkls = [ref_hkls[int(ind)] for ind in best_connections[best_fit_ind][~np.isnan(best_connections[best_fit_ind])]]\n",
    "fit_spots = spot_qs[np.nonzero(~np.isnan(best_connections[best_fit_ind]))[0]]\n",
    "for idx, hkl in enumerate(hkls):\n",
    "    ax.text(*fit_spots[idx], str(hkl), fontsize=8, c='blue')\n",
    "\n",
    "\n",
    "best_fit_ind = 2\n",
    "\n",
    "rot_qs = ref_qs @ best_orientations[best_fit_ind].as_matrix()\n",
    "q_mask = np.all([\n",
    "    np.all([rot_qs[:, 0] > q_mins[0], rot_qs[:, 0] < q_maxs[0]], axis=0),\n",
    "    np.all([rot_qs[:, 1] > q_mins[1], rot_qs[:, 1] < q_maxs[1]], axis=0),\n",
    "    np.all([rot_qs[:, 2] > q_mins[2], rot_qs[:, 2] < q_maxs[2]], axis=0),\n",
    "], axis=0)\n",
    "ax.scatter(*rot_qs[q_mask].T, s=ref_fs[q_mask] * 0.1, c='green')\n",
    "\n",
    "hkls = [ref_hkls[int(ind)] for ind in best_connections[best_fit_ind][~np.isnan(best_connections[best_fit_ind])]]\n",
    "fit_spots = spot_qs[np.nonzero(~np.isnan(best_connections[best_fit_ind]))[0]]\n",
    "for idx, hkl in enumerate(hkls):\n",
    "    ax.text(*fit_spots[idx], str(hkl), fontsize=8, c='green')\n",
    "\n",
    "\n",
    "ax.scatter(*np.asarray(spot_qs).T, s = 1, c='r')\n",
    "ax.set_xlim(q_mins[0], q_maxs[0])\n",
    "ax.set_ylim(q_mins[1], q_maxs[1])\n",
    "ax.set_zlim(q_mins[2], q_maxs[2])\n",
    "\n",
    "ax.set_xlabel('qx [Å⁻¹]')\n",
    "ax.set_ylabel('qy [Å⁻¹]')\n",
    "ax.set_zlabel('qz [Å⁻¹]')\n",
    "ax.set_aspect('equal')\n",
    "\n",
    "fig.show()"
   ]
  },
  {
   "cell_type": "code",
   "execution_count": null,
   "metadata": {},
   "outputs": [],
   "source": []
  },
  {
   "cell_type": "code",
   "execution_count": null,
   "metadata": {},
   "outputs": [],
   "source": []
  },
  {
   "cell_type": "code",
   "execution_count": null,
   "metadata": {},
   "outputs": [],
   "source": []
  },
  {
   "cell_type": "code",
   "execution_count": null,
   "metadata": {},
   "outputs": [],
   "source": []
  },
  {
   "cell_type": "code",
   "execution_count": null,
   "metadata": {},
   "outputs": [],
   "source": []
  },
  {
   "cell_type": "code",
   "execution_count": 31,
   "metadata": {},
   "outputs": [
    {
     "name": "stdout",
     "output_type": "stream",
     "text": [
      "Searching for best fit connection out of 12 of rank 9 connections.\n"
     ]
    },
    {
     "data": {
      "text/plain": [
       "[0.04530987972079391,\n",
       " 0.03632377315726579,\n",
       " 0.04530987972079413,\n",
       " 0.036323773157265773,\n",
       " 0.045309879720794394,\n",
       " 0.036323773157265746,\n",
       " 0.04530987972079405,\n",
       " 0.03632377315726581,\n",
       " 0.04560220177884898,\n",
       " 0.045602201778849105,\n",
       " 0.045602201778849105,\n",
       " 0.045602201778848994]"
      ]
     },
     "execution_count": 31,
     "metadata": {},
     "output_type": "execute_result"
    }
   ],
   "source": [
    "largest_key = np.max([key for key, value in valid_conn.items() if len(value) > 0])\n",
    "largest_connections = valid_conn[largest_key]\n",
    "\n",
    "print(f'Searching for best fit connection out of {len(largest_connections)} of rank {largest_key} connections.')\n",
    "fit_orientations = []\n",
    "fit_mean_errors = []\n",
    "fit_ref_all_hkls = []\n",
    "fit_all_spots = []\n",
    "for connection in largest_connections:\n",
    "\n",
    "    #connection = valid_octets[0]\n",
    "\n",
    "    fit_spot_indices = np.nonzero(~np.isnan(connection))\n",
    "    fit_spot_qs = spot_qs[fit_spot_indices]\n",
    "    fit_all_spots.append(fit_spot_qs)\n",
    "\n",
    "    fit_ref_indices = connection[fit_spot_indices].astype(int)\n",
    "    fit_ref_hkls = np.asarray(ref_hkls)[fit_ref_indices]\n",
    "    fit_ref_all_hkls.append(fit_ref_hkls)\n",
    "    fit_ref_qs = np.asarray(ref_qs)[fit_ref_indices]\n",
    "\n",
    "    fit_orientation, fit_rssd = Rotation.align_vectors(fit_ref_qs, fit_spot_qs)\n",
    "\n",
    "    fit_euclidean_error = [np.sqrt(np.sum([(p - q)**2 for p, q in zip(v1, v2)]))\n",
    "                        for v1, v2 in zip(fit_ref_qs, fit_orientation.apply(fit_spot_qs, inverse=False))]\n",
    "    mean_euclidean_error = np.mean(fit_euclidean_error)\n",
    "\n",
    "    fit_orientations.append(fit_orientation)\n",
    "    fit_mean_errors.append(mean_euclidean_error)\n",
    "fit_mean_errors"
   ]
  },
  {
   "cell_type": "code",
   "execution_count": 35,
   "metadata": {},
   "outputs": [],
   "source": [
    "fig, ax = plt.subplots(1, 1, figsize=(5, 5), dpi=200, subplot_kw={'projection':'3d'})\n",
    "\n",
    "min_ind = np.argmin(fit_mean_errors)\n",
    "min_ind = 8\n",
    "\n",
    "ax.scatter(*np.asarray(spot_qs).T, s = 1, c='r')\n",
    "\n",
    "rot_qs = ref_qs @ fit_orientations[min_ind].as_matrix()\n",
    "q_mask = np.all([\n",
    "    np.all([rot_qs[:, 0] > q_mins[0], rot_qs[:, 0] < q_maxs[0]], axis=0),\n",
    "    np.all([rot_qs[:, 1] > q_mins[1], rot_qs[:, 1] < q_maxs[1]], axis=0),\n",
    "    np.all([rot_qs[:, 2] > q_mins[2], rot_qs[:, 2] < q_maxs[2]], axis=0),\n",
    "], axis=0)\n",
    "\n",
    "ax.scatter(*rot_qs[q_mask].T, s=ref_fs[q_mask] * 0.1, c='k')\n",
    "\n",
    "for idx, hkl in enumerate(fit_ref_all_hkls[min_ind]):\n",
    "    ax.text(*fit_all_spots[min_ind][idx], str(hkl), fontsize=8)\n",
    "\n",
    "ax.set_xlim(q_mins[0], q_maxs[0])\n",
    "ax.set_ylim(q_mins[1], q_maxs[1])\n",
    "ax.set_zlim(q_mins[2], q_maxs[2])\n",
    "\n",
    "ax.set_xlabel('qx [Å⁻¹]')\n",
    "ax.set_ylabel('qy [Å⁻¹]')\n",
    "ax.set_zlabel('qz [Å⁻¹]')\n",
    "ax.set_aspect('equal')\n",
    "\n",
    "fig.show()"
   ]
  },
  {
   "cell_type": "code",
   "execution_count": null,
   "metadata": {},
   "outputs": [],
   "source": []
  },
  {
   "cell_type": "code",
   "execution_count": null,
   "metadata": {},
   "outputs": [],
   "source": []
  },
  {
   "cell_type": "code",
   "execution_count": null,
   "metadata": {},
   "outputs": [],
   "source": []
  },
  {
   "cell_type": "code",
   "execution_count": null,
   "metadata": {},
   "outputs": [],
   "source": []
  },
  {
   "cell_type": "code",
   "execution_count": null,
   "metadata": {},
   "outputs": [],
   "source": []
  },
  {
   "cell_type": "code",
   "execution_count": null,
   "metadata": {},
   "outputs": [],
   "source": []
  },
  {
   "cell_type": "code",
   "execution_count": null,
   "metadata": {},
   "outputs": [],
   "source": []
  },
  {
   "cell_type": "code",
   "execution_count": null,
   "metadata": {},
   "outputs": [],
   "source": []
  },
  {
   "cell_type": "code",
   "execution_count": null,
   "metadata": {},
   "outputs": [],
   "source": []
  },
  {
   "cell_type": "code",
   "execution_count": null,
   "metadata": {},
   "outputs": [],
   "source": []
  },
  {
   "cell_type": "code",
   "execution_count": null,
   "metadata": {},
   "outputs": [],
   "source": []
  },
  {
   "cell_type": "code",
   "execution_count": null,
   "metadata": {},
   "outputs": [],
   "source": []
  },
  {
   "cell_type": "code",
   "execution_count": null,
   "metadata": {},
   "outputs": [],
   "source": []
  },
  {
   "cell_type": "code",
   "execution_count": null,
   "metadata": {},
   "outputs": [],
   "source": []
  },
  {
   "cell_type": "code",
   "execution_count": null,
   "metadata": {},
   "outputs": [],
   "source": []
  },
  {
   "cell_type": "code",
   "execution_count": 22,
   "metadata": {},
   "outputs": [],
   "source": [
    "def are_collinear(vectors):\n",
    "    vecs = np.asarray(vectors)\n",
    "    collinear_flag = True\n",
    "\n",
    "    # Probably faster. Not easy to perform pairwise\n",
    "    if len(vecs) == 2:\n",
    "        if np.sum(np.abs(np.cross(*vecs))) > 1e-8:\n",
    "            collinear_flag = False\n",
    "        return collinear_flag\n",
    "\n",
    "    # Pairwise analysis fo list of vectors\n",
    "    const_list = []\n",
    "    for ind in range(vecs.shape[1]):\n",
    "        vecs_axis = vecs[:, ind]\n",
    "        if not np.any(vecs_axis == 0):\n",
    "            const = np.abs(vecs_axis[:, np.newaxis] / vecs_axis[np.newaxis, :])\n",
    "            const_list.append(np.round(const, 3))\n",
    "\n",
    "    combos = list(combinations(range(vecs.shape[1]), 2))\n",
    "    if len(combos) > 1:\n",
    "        combos.pop(-1) # last index is redundant\n",
    "\n",
    "    for combo in combos:\n",
    "        if np.any(const_list[combo[0]] != const_list[combo[1]]):\n",
    "            collinear_flag = False\n",
    "            break\n",
    "        \n",
    "    return collinear_flag\n",
    "\n",
    "\n",
    "def vector_angle(v1, v2, degrees=False):\n",
    "    angle = np.arccos(np.dot(v1, v2) / (np.linalg.norm(v1, axis=-1) *  np.linalg.norm(v2, axis=-1)))\n",
    "    if degrees:\n",
    "        angle = np.degrees(angle)\n",
    "    return angle\n",
    "\n",
    "\n",
    "def multi_vector_angles(v1s, v2s, degrees=False):\n",
    "    v1_units = v1s / np.linalg.norm(v1s, axis=1).reshape(-1, 1)\n",
    "    v2_units = v2s / np.linalg.norm(v2s, axis=1).reshape(-1, 1)\n",
    "    angles = np.arccos(np.inner(v1_units, v2_units).round(6)) # Not happy about the round...\n",
    "    if degrees:\n",
    "        angles = np.degrees(angles)\n",
    "    return angles"
   ]
  },
  {
   "cell_type": "code",
   "execution_count": 24,
   "metadata": {},
   "outputs": [],
   "source": [
    "\n",
    "def pair_voting_indexing(spot_qs,\n",
    "                         spot_ints,\n",
    "                         phase,\n",
    "                         near_q=0.005,\n",
    "                         near_angle=5):\n",
    "\n",
    "    spot_q_mags = np.linalg.norm(spot_qs, axis=1)\n",
    "    max_q = np.max(spot_q_mags)\n",
    "\n",
    "    # Combine these at some point...\n",
    "    stibnite.get_hkl_reflections()\n",
    "    ref_hkls, ref_qs, ref_fs = generate_reciprocal_lattice(stibnite, 1.15 * max_q) # 15% window\n",
    "    ref_q_mags = np.linalg.norm(ref_qs, axis=1)\n",
    "\n",
    "    # Minimum step size in q-space.\n",
    "    min_q = np.min(np.linalg.norm(phase.Q([[1, 0, 0], [0, 1, 0], [0, 0, 1]]), axis=0))\n",
    "\n",
    "    # Find difference between measured and calculated q magnitudes\n",
    "    diff_arr = np.abs(spot_q_mags[:, np.newaxis]\n",
    "                    - ref_q_mags[np.newaxis, :])\n",
    "\n",
    "    # Eliminate any reflections outside phase-allowed spots\n",
    "    phase_mask = np.any(diff_arr < near_q, axis=1)\n",
    "    diff_arr = diff_arr[phase_mask]\n",
    "    spot_qs = spot_qs[phase_mask]\n",
    "    spot_q_mags = spot_q_mags[phase_mask]\n",
    "    spot_ints = spot_ints[phase_mask]\n",
    "\n",
    "    # Generate all pairs of spots which are crystallographically feasible\n",
    "    spot_pair_indices = list(combinations(range(len(spot_qs)), 2))\n",
    "    spot_diff_arr = np.abs(spot_q_mags[:, np.newaxis]\n",
    "                        - spot_q_mags[np.newaxis, :])\n",
    "    allowed_pairs = [spot_diff_arr[indices] > min_q * 0.85 for indices in spot_pair_indices]\n",
    "    spot_pair_indices = np.asarray(spot_pair_indices)[allowed_pairs]\n",
    "\n",
    "    # Compute all angles\n",
    "    spot_angles = multi_vector_angles(spot_qs, spot_qs, degrees=True)\n",
    "    ref_angles = multi_vector_angles(ref_qs, ref_qs, degrees=True)\n",
    "\n",
    "    votes = [[] for _ in range(len(spot_qs))]\n",
    "\n",
    "    for pair in spot_pair_indices:\n",
    "        ref_combos = list(product(*[np.nonzero(diff_arr[i] < near_q)[0] for i in pair]))\n",
    "        angle_mask = [np.abs(spot_angles[tuple(pair)] - ref_angles[tuple(combo)]) < near_angle for combo in ref_combos]\n",
    "        for ref_vote in np.asarray(ref_combos)[angle_mask]:\n",
    "            votes[pair[0]].append(ref_vote[0])\n",
    "            votes[pair[1]].append(ref_vote[1])\n",
    "\n",
    "    guess_refl = [None,] * len(spot_qs)\n",
    "\n",
    "    for i, vote in enumerate(votes):\n",
    "        spot_inds = np.unique(vote)\n",
    "        spot_votes = [np.sum(vote == ind) for ind in spot_inds]\n",
    "        sorted_votes = sorted(spot_votes, reverse=True)\n",
    "        sorted_ind = [x for x, _ in sorted(zip(spot_inds, spot_votes),\n",
    "                                        key=lambda pair: pair[0])]\n",
    "\n",
    "        guess_refl[i] = dict(zip(sorted_ind, sorted_votes))\n",
    "\n",
    "    return guess_refl, spot_qs, ref_hkls"
   ]
  },
  {
   "cell_type": "code",
   "execution_count": null,
   "metadata": {},
   "outputs": [],
   "source": []
  }
 ],
 "metadata": {
  "kernelspec": {
   "display_name": "Python 3",
   "language": "python",
   "name": "python3"
  },
  "language_info": {
   "codemirror_mode": {
    "name": "ipython",
    "version": 3
   },
   "file_extension": ".py",
   "mimetype": "text/x-python",
   "name": "python",
   "nbconvert_exporter": "python",
   "pygments_lexer": "ipython3",
   "version": "3.11.8"
  }
 },
 "nbformat": 4,
 "nbformat_minor": 2
}
